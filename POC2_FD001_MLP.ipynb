{
  "nbformat": 4,
  "nbformat_minor": 0,
  "metadata": {
    "colab": {
      "provenance": [],
      "collapsed_sections": [
        "iqDPLB2EDXSK",
        "AU6ipeRozJz-",
        "Q4QwyfhXs_hv",
        "n7MBDuPasy-s",
        "e7-_jqRw3cRa",
        "QinQ4hWStzHt",
        "boZqFQNlraCh",
        "IIXnBTkfxpCf",
        "nTPBH5fg_sFd",
        "r6YQTm7aOf2G",
        "klzYEWjrZiXt",
        "MQi8MHh20wou",
        "BlwL5EnXQcuy"
      ],
      "toc_visible": true,
      "authorship_tag": "ABX9TyMmKG3EqWc5W+hYl9aE4xy4",
      "include_colab_link": true
    },
    "kernelspec": {
      "name": "python3",
      "display_name": "Python 3"
    },
    "language_info": {
      "name": "python"
    },
    "accelerator": "GPU",
    "gpuClass": "standard"
  },
  "cells": [
    {
      "cell_type": "markdown",
      "metadata": {
        "id": "view-in-github",
        "colab_type": "text"
      },
      "source": [
        "<a href=\"https://colab.research.google.com/github/arthursl12/POC1/blob/main/POC2_FD001_MLP.ipynb\" target=\"_parent\"><img src=\"https://colab.research.google.com/assets/colab-badge.svg\" alt=\"Open In Colab\"/></a>"
      ]
    },
    {
      "cell_type": "markdown",
      "source": [
        "# Imports"
      ],
      "metadata": {
        "id": "iqDPLB2EDXSK"
      }
    },
    {
      "cell_type": "code",
      "source": [
        "%pip install scikeras;\n",
        "%pip install -U tensorflow-addons;"
      ],
      "metadata": {
        "colab": {
          "base_uri": "https://localhost:8080/"
        },
        "id": "1ObuYEARk28q",
        "outputId": "2aef59aa-7f97-4616-a037-ef2f5ec99f2b"
      },
      "execution_count": 1,
      "outputs": [
        {
          "output_type": "stream",
          "name": "stdout",
          "text": [
            "Looking in indexes: https://pypi.org/simple, https://us-python.pkg.dev/colab-wheels/public/simple/\n",
            "Collecting scikeras\n",
            "  Downloading scikeras-0.9.0-py3-none-any.whl (27 kB)\n",
            "Requirement already satisfied: scikit-learn>=1.0.0 in /usr/local/lib/python3.7/dist-packages (from scikeras) (1.0.2)\n",
            "Requirement already satisfied: importlib-metadata>=3 in /usr/local/lib/python3.7/dist-packages (from scikeras) (4.12.0)\n",
            "Requirement already satisfied: packaging>=0.21 in /usr/local/lib/python3.7/dist-packages (from scikeras) (21.3)\n",
            "Requirement already satisfied: zipp>=0.5 in /usr/local/lib/python3.7/dist-packages (from importlib-metadata>=3->scikeras) (3.8.1)\n",
            "Requirement already satisfied: typing-extensions>=3.6.4 in /usr/local/lib/python3.7/dist-packages (from importlib-metadata>=3->scikeras) (4.1.1)\n",
            "Requirement already satisfied: pyparsing!=3.0.5,>=2.0.2 in /usr/local/lib/python3.7/dist-packages (from packaging>=0.21->scikeras) (3.0.9)\n",
            "Requirement already satisfied: joblib>=0.11 in /usr/local/lib/python3.7/dist-packages (from scikit-learn>=1.0.0->scikeras) (1.1.0)\n",
            "Requirement already satisfied: threadpoolctl>=2.0.0 in /usr/local/lib/python3.7/dist-packages (from scikit-learn>=1.0.0->scikeras) (3.1.0)\n",
            "Requirement already satisfied: scipy>=1.1.0 in /usr/local/lib/python3.7/dist-packages (from scikit-learn>=1.0.0->scikeras) (1.7.3)\n",
            "Requirement already satisfied: numpy>=1.14.6 in /usr/local/lib/python3.7/dist-packages (from scikit-learn>=1.0.0->scikeras) (1.21.6)\n",
            "Installing collected packages: scikeras\n",
            "Successfully installed scikeras-0.9.0\n",
            "Looking in indexes: https://pypi.org/simple, https://us-python.pkg.dev/colab-wheels/public/simple/\n",
            "Collecting tensorflow-addons\n",
            "  Downloading tensorflow_addons-0.17.1-cp37-cp37m-manylinux_2_17_x86_64.manylinux2014_x86_64.whl (1.1 MB)\n",
            "\u001b[K     |████████████████████████████████| 1.1 MB 3.8 MB/s \n",
            "\u001b[?25hRequirement already satisfied: packaging in /usr/local/lib/python3.7/dist-packages (from tensorflow-addons) (21.3)\n",
            "Requirement already satisfied: typeguard>=2.7 in /usr/local/lib/python3.7/dist-packages (from tensorflow-addons) (2.7.1)\n",
            "Requirement already satisfied: pyparsing!=3.0.5,>=2.0.2 in /usr/local/lib/python3.7/dist-packages (from packaging->tensorflow-addons) (3.0.9)\n",
            "Installing collected packages: tensorflow-addons\n",
            "Successfully installed tensorflow-addons-0.17.1\n"
          ]
        }
      ]
    },
    {
      "cell_type": "code",
      "source": [
        "import os\n",
        "import random\n",
        "import pandas as pd\n",
        "import matplotlib.pyplot as plt\n",
        "import seaborn as sns\n",
        "import numpy as np\n",
        "import glob\n",
        "import datetime"
      ],
      "metadata": {
        "id": "i0Z0Zs7YcgTp"
      },
      "execution_count": 2,
      "outputs": []
    },
    {
      "cell_type": "code",
      "source": [
        "from sklearn.pipeline import Pipeline\n",
        "from sklearn.compose import TransformedTargetRegressor\n",
        "\n",
        "from sklearn.preprocessing import FunctionTransformer\n",
        "from sklearn.preprocessing import PolynomialFeatures\n",
        "from sklearn.preprocessing import MinMaxScaler, StandardScaler"
      ],
      "metadata": {
        "id": "wmJyWwoFHcFL"
      },
      "execution_count": 3,
      "outputs": []
    },
    {
      "cell_type": "code",
      "source": [
        "import tensorflow as tf\n",
        "from tensorflow.keras import Sequential\n",
        "from tensorflow.keras.layers import Dense, Dropout\n",
        "\n",
        "from tensorflow.keras.metrics import RootMeanSquaredError as RMSE\n",
        "\n",
        "from keras.callbacks import LambdaCallback\n",
        "from tensorflow.keras.optimizers import SGD, Adam, RMSprop\n",
        "from tensorflow.keras.optimizers.schedules import ExponentialDecay\n",
        "\n",
        "import tensorflow_addons as tfa\n",
        "from tensorflow_addons.metrics import RSquare as R2\n",
        "\n",
        "\n",
        "\n",
        "from scikeras.wrappers import KerasRegressor"
      ],
      "metadata": {
        "id": "LnMMh6xN33s4"
      },
      "execution_count": 4,
      "outputs": []
    },
    {
      "cell_type": "code",
      "source": [
        "sns.set_palette('colorblind')"
      ],
      "metadata": {
        "id": "yIpSdBdJ-uWd"
      },
      "execution_count": 5,
      "outputs": []
    },
    {
      "cell_type": "code",
      "source": [
        "# Reproducibility\n",
        "seed = 42\n",
        "os.environ['PYTHONHASHSEED']=str(seed)\n",
        "random.seed(seed)\n",
        "np.random.seed(seed)\n",
        "tf.random.set_seed(seed)"
      ],
      "metadata": {
        "id": "oWUcQTaa3lth"
      },
      "execution_count": 6,
      "outputs": []
    },
    {
      "cell_type": "code",
      "source": [
        "tf.config.experimental.enable_op_determinism()"
      ],
      "metadata": {
        "id": "fwRwlCA7Yt4C"
      },
      "execution_count": 7,
      "outputs": []
    },
    {
      "cell_type": "markdown",
      "source": [
        "# Data Preparation"
      ],
      "metadata": {
        "id": "AU6ipeRozJz-"
      }
    },
    {
      "cell_type": "code",
      "source": [
        "# Dataset Download \n",
        "os.system('git clone https://github.com/arthursl12/dataset_2')\n",
        "os.system('mv /content/dataset_2/CMaps /content/CMaps')\n",
        "os.system('mv /content/dataset_2/data_processing /content/data_processing')\n",
        "os.system('rm -rf dataset_2')"
      ],
      "metadata": {
        "colab": {
          "base_uri": "https://localhost:8080/"
        },
        "id": "-EPYBkqeECE9",
        "outputId": "a69d266d-2eb3-49e8-ae28-0dca81af309d"
      },
      "execution_count": 8,
      "outputs": [
        {
          "output_type": "execute_result",
          "data": {
            "text/plain": [
              "0"
            ]
          },
          "metadata": {},
          "execution_count": 8
        }
      ]
    },
    {
      "cell_type": "code",
      "source": [
        "from data_processing.processing import DatasetProcessing\n",
        "from data_processing.training import HyperparameterSearch, reclipper_scorer\n",
        "from data_processing.eval import Evaluation"
      ],
      "metadata": {
        "id": "FUQ5tHe4Eu7z"
      },
      "execution_count": 9,
      "outputs": []
    },
    {
      "cell_type": "code",
      "source": [
        "proc = DatasetProcessing()"
      ],
      "metadata": {
        "id": "g1BmyudxzUz-"
      },
      "execution_count": 10,
      "outputs": []
    },
    {
      "cell_type": "markdown",
      "source": [
        "## Data Integration"
      ],
      "metadata": {
        "id": "Q4QwyfhXs_hv"
      }
    },
    {
      "cell_type": "markdown",
      "source": [
        "The data are provided as a zip-compressed text file with 26 columns of numbers, separated by spaces. Each row is a snapshot of data taken during a single operational cycle, each column is a different variable. The columns correspond to:  \n",
        "\n",
        "1) unit number   \n",
        "2) time, in cycles  \n",
        "3) operational setting 1  \n",
        "4) operational setting 2  \n",
        "5) operational setting 3    \n",
        "6) sensor measurement 1    \n",
        "7) sensor measurement 2  \n",
        "...  \n",
        "26) sensor measurement 20\n",
        "\n",
        "\n",
        "There are 6 conditions (or combinations) which the 3 operational settings can take.  \n",
        "Condition 1: Altitude = 0, Mach Number = 0, TRA = 100  \n",
        "Condition 2: Altitude = 10, Mach Number = 0.25, TRA = 100  \n",
        "Condition 3: Altitude = 20, Mach Number = 0.7 TRA = 100  \n",
        "Condition 4: Altitude = 25, Mach Number = 0.62, TRA = 60  \n",
        "Condition 5: Altitude = 35 Mach Number = 0.84, TRA = 100  \n",
        "Condition 6: Altitude = 42, Mach Number = 0.84, TRA = 100  \n",
        "  \n",
        "There is slight variation in all these conditions so you may get numbers like 24.453 instead of 25 exactly.\n",
        "\n",
        "FD001: Condition 1 only  \n",
        "FD002: Mix of all the conditions  \n",
        "FD003: Condition 1 only  \n",
        "FD004: Mix of all conditions  \n"
      ],
      "metadata": {
        "id": "PQe-SyeYc6Gf"
      }
    },
    {
      "cell_type": "code",
      "source": [
        "index_cols, settings_cols, sensors_cols, cols = proc.column_names()\n",
        "train, test, y_test = proc.read_dataset(1)\n",
        "train"
      ],
      "metadata": {
        "colab": {
          "base_uri": "https://localhost:8080/",
          "height": 488
        },
        "id": "-yRYxz2hh4xE",
        "outputId": "7d2f4534-6d6c-455c-8e0a-b0962ca59eba"
      },
      "execution_count": 11,
      "outputs": [
        {
          "output_type": "execute_result",
          "data": {
            "text/plain": [
              "       unit_number  time    op_1    op_2   op_3     s_0     s_1      s_2  \\\n",
              "0                1     1 -0.0007 -0.0004  100.0  518.67  641.82  1589.70   \n",
              "1                1     2  0.0019 -0.0003  100.0  518.67  642.15  1591.82   \n",
              "2                1     3 -0.0043  0.0003  100.0  518.67  642.35  1587.99   \n",
              "3                1     4  0.0007  0.0000  100.0  518.67  642.35  1582.79   \n",
              "4                1     5 -0.0019 -0.0002  100.0  518.67  642.37  1582.85   \n",
              "...            ...   ...     ...     ...    ...     ...     ...      ...   \n",
              "20626          100   196 -0.0004 -0.0003  100.0  518.67  643.49  1597.98   \n",
              "20627          100   197 -0.0016 -0.0005  100.0  518.67  643.54  1604.50   \n",
              "20628          100   198  0.0004  0.0000  100.0  518.67  643.42  1602.46   \n",
              "20629          100   199 -0.0011  0.0003  100.0  518.67  643.23  1605.26   \n",
              "20630          100   200 -0.0032 -0.0005  100.0  518.67  643.85  1600.38   \n",
              "\n",
              "           s_3    s_4  ...    s_11     s_12     s_13    s_14  s_15  s_16  \\\n",
              "0      1400.60  14.62  ...  521.66  2388.02  8138.62  8.4195  0.03   392   \n",
              "1      1403.14  14.62  ...  522.28  2388.07  8131.49  8.4318  0.03   392   \n",
              "2      1404.20  14.62  ...  522.42  2388.03  8133.23  8.4178  0.03   390   \n",
              "3      1401.87  14.62  ...  522.86  2388.08  8133.83  8.3682  0.03   392   \n",
              "4      1406.22  14.62  ...  522.19  2388.04  8133.80  8.4294  0.03   393   \n",
              "...        ...    ...  ...     ...      ...      ...     ...   ...   ...   \n",
              "20626  1428.63  14.62  ...  519.49  2388.26  8137.60  8.4956  0.03   397   \n",
              "20627  1433.58  14.62  ...  519.68  2388.22  8136.50  8.5139  0.03   395   \n",
              "20628  1428.18  14.62  ...  520.01  2388.24  8141.05  8.5646  0.03   398   \n",
              "20629  1426.53  14.62  ...  519.67  2388.23  8139.29  8.5389  0.03   395   \n",
              "20630  1432.14  14.62  ...  519.30  2388.26  8137.33  8.5036  0.03   396   \n",
              "\n",
              "       s_17   s_18   s_19     s_20  \n",
              "0      2388  100.0  39.06  23.4190  \n",
              "1      2388  100.0  39.00  23.4236  \n",
              "2      2388  100.0  38.95  23.3442  \n",
              "3      2388  100.0  38.88  23.3739  \n",
              "4      2388  100.0  38.90  23.4044  \n",
              "...     ...    ...    ...      ...  \n",
              "20626  2388  100.0  38.49  22.9735  \n",
              "20627  2388  100.0  38.30  23.1594  \n",
              "20628  2388  100.0  38.44  22.9333  \n",
              "20629  2388  100.0  38.29  23.0640  \n",
              "20630  2388  100.0  38.37  23.0522  \n",
              "\n",
              "[20631 rows x 26 columns]"
            ],
            "text/html": [
              "\n",
              "  <div id=\"df-2dfd31b7-5dd5-4d2c-9a89-d41ef93955fc\">\n",
              "    <div class=\"colab-df-container\">\n",
              "      <div>\n",
              "<style scoped>\n",
              "    .dataframe tbody tr th:only-of-type {\n",
              "        vertical-align: middle;\n",
              "    }\n",
              "\n",
              "    .dataframe tbody tr th {\n",
              "        vertical-align: top;\n",
              "    }\n",
              "\n",
              "    .dataframe thead th {\n",
              "        text-align: right;\n",
              "    }\n",
              "</style>\n",
              "<table border=\"1\" class=\"dataframe\">\n",
              "  <thead>\n",
              "    <tr style=\"text-align: right;\">\n",
              "      <th></th>\n",
              "      <th>unit_number</th>\n",
              "      <th>time</th>\n",
              "      <th>op_1</th>\n",
              "      <th>op_2</th>\n",
              "      <th>op_3</th>\n",
              "      <th>s_0</th>\n",
              "      <th>s_1</th>\n",
              "      <th>s_2</th>\n",
              "      <th>s_3</th>\n",
              "      <th>s_4</th>\n",
              "      <th>...</th>\n",
              "      <th>s_11</th>\n",
              "      <th>s_12</th>\n",
              "      <th>s_13</th>\n",
              "      <th>s_14</th>\n",
              "      <th>s_15</th>\n",
              "      <th>s_16</th>\n",
              "      <th>s_17</th>\n",
              "      <th>s_18</th>\n",
              "      <th>s_19</th>\n",
              "      <th>s_20</th>\n",
              "    </tr>\n",
              "  </thead>\n",
              "  <tbody>\n",
              "    <tr>\n",
              "      <th>0</th>\n",
              "      <td>1</td>\n",
              "      <td>1</td>\n",
              "      <td>-0.0007</td>\n",
              "      <td>-0.0004</td>\n",
              "      <td>100.0</td>\n",
              "      <td>518.67</td>\n",
              "      <td>641.82</td>\n",
              "      <td>1589.70</td>\n",
              "      <td>1400.60</td>\n",
              "      <td>14.62</td>\n",
              "      <td>...</td>\n",
              "      <td>521.66</td>\n",
              "      <td>2388.02</td>\n",
              "      <td>8138.62</td>\n",
              "      <td>8.4195</td>\n",
              "      <td>0.03</td>\n",
              "      <td>392</td>\n",
              "      <td>2388</td>\n",
              "      <td>100.0</td>\n",
              "      <td>39.06</td>\n",
              "      <td>23.4190</td>\n",
              "    </tr>\n",
              "    <tr>\n",
              "      <th>1</th>\n",
              "      <td>1</td>\n",
              "      <td>2</td>\n",
              "      <td>0.0019</td>\n",
              "      <td>-0.0003</td>\n",
              "      <td>100.0</td>\n",
              "      <td>518.67</td>\n",
              "      <td>642.15</td>\n",
              "      <td>1591.82</td>\n",
              "      <td>1403.14</td>\n",
              "      <td>14.62</td>\n",
              "      <td>...</td>\n",
              "      <td>522.28</td>\n",
              "      <td>2388.07</td>\n",
              "      <td>8131.49</td>\n",
              "      <td>8.4318</td>\n",
              "      <td>0.03</td>\n",
              "      <td>392</td>\n",
              "      <td>2388</td>\n",
              "      <td>100.0</td>\n",
              "      <td>39.00</td>\n",
              "      <td>23.4236</td>\n",
              "    </tr>\n",
              "    <tr>\n",
              "      <th>2</th>\n",
              "      <td>1</td>\n",
              "      <td>3</td>\n",
              "      <td>-0.0043</td>\n",
              "      <td>0.0003</td>\n",
              "      <td>100.0</td>\n",
              "      <td>518.67</td>\n",
              "      <td>642.35</td>\n",
              "      <td>1587.99</td>\n",
              "      <td>1404.20</td>\n",
              "      <td>14.62</td>\n",
              "      <td>...</td>\n",
              "      <td>522.42</td>\n",
              "      <td>2388.03</td>\n",
              "      <td>8133.23</td>\n",
              "      <td>8.4178</td>\n",
              "      <td>0.03</td>\n",
              "      <td>390</td>\n",
              "      <td>2388</td>\n",
              "      <td>100.0</td>\n",
              "      <td>38.95</td>\n",
              "      <td>23.3442</td>\n",
              "    </tr>\n",
              "    <tr>\n",
              "      <th>3</th>\n",
              "      <td>1</td>\n",
              "      <td>4</td>\n",
              "      <td>0.0007</td>\n",
              "      <td>0.0000</td>\n",
              "      <td>100.0</td>\n",
              "      <td>518.67</td>\n",
              "      <td>642.35</td>\n",
              "      <td>1582.79</td>\n",
              "      <td>1401.87</td>\n",
              "      <td>14.62</td>\n",
              "      <td>...</td>\n",
              "      <td>522.86</td>\n",
              "      <td>2388.08</td>\n",
              "      <td>8133.83</td>\n",
              "      <td>8.3682</td>\n",
              "      <td>0.03</td>\n",
              "      <td>392</td>\n",
              "      <td>2388</td>\n",
              "      <td>100.0</td>\n",
              "      <td>38.88</td>\n",
              "      <td>23.3739</td>\n",
              "    </tr>\n",
              "    <tr>\n",
              "      <th>4</th>\n",
              "      <td>1</td>\n",
              "      <td>5</td>\n",
              "      <td>-0.0019</td>\n",
              "      <td>-0.0002</td>\n",
              "      <td>100.0</td>\n",
              "      <td>518.67</td>\n",
              "      <td>642.37</td>\n",
              "      <td>1582.85</td>\n",
              "      <td>1406.22</td>\n",
              "      <td>14.62</td>\n",
              "      <td>...</td>\n",
              "      <td>522.19</td>\n",
              "      <td>2388.04</td>\n",
              "      <td>8133.80</td>\n",
              "      <td>8.4294</td>\n",
              "      <td>0.03</td>\n",
              "      <td>393</td>\n",
              "      <td>2388</td>\n",
              "      <td>100.0</td>\n",
              "      <td>38.90</td>\n",
              "      <td>23.4044</td>\n",
              "    </tr>\n",
              "    <tr>\n",
              "      <th>...</th>\n",
              "      <td>...</td>\n",
              "      <td>...</td>\n",
              "      <td>...</td>\n",
              "      <td>...</td>\n",
              "      <td>...</td>\n",
              "      <td>...</td>\n",
              "      <td>...</td>\n",
              "      <td>...</td>\n",
              "      <td>...</td>\n",
              "      <td>...</td>\n",
              "      <td>...</td>\n",
              "      <td>...</td>\n",
              "      <td>...</td>\n",
              "      <td>...</td>\n",
              "      <td>...</td>\n",
              "      <td>...</td>\n",
              "      <td>...</td>\n",
              "      <td>...</td>\n",
              "      <td>...</td>\n",
              "      <td>...</td>\n",
              "      <td>...</td>\n",
              "    </tr>\n",
              "    <tr>\n",
              "      <th>20626</th>\n",
              "      <td>100</td>\n",
              "      <td>196</td>\n",
              "      <td>-0.0004</td>\n",
              "      <td>-0.0003</td>\n",
              "      <td>100.0</td>\n",
              "      <td>518.67</td>\n",
              "      <td>643.49</td>\n",
              "      <td>1597.98</td>\n",
              "      <td>1428.63</td>\n",
              "      <td>14.62</td>\n",
              "      <td>...</td>\n",
              "      <td>519.49</td>\n",
              "      <td>2388.26</td>\n",
              "      <td>8137.60</td>\n",
              "      <td>8.4956</td>\n",
              "      <td>0.03</td>\n",
              "      <td>397</td>\n",
              "      <td>2388</td>\n",
              "      <td>100.0</td>\n",
              "      <td>38.49</td>\n",
              "      <td>22.9735</td>\n",
              "    </tr>\n",
              "    <tr>\n",
              "      <th>20627</th>\n",
              "      <td>100</td>\n",
              "      <td>197</td>\n",
              "      <td>-0.0016</td>\n",
              "      <td>-0.0005</td>\n",
              "      <td>100.0</td>\n",
              "      <td>518.67</td>\n",
              "      <td>643.54</td>\n",
              "      <td>1604.50</td>\n",
              "      <td>1433.58</td>\n",
              "      <td>14.62</td>\n",
              "      <td>...</td>\n",
              "      <td>519.68</td>\n",
              "      <td>2388.22</td>\n",
              "      <td>8136.50</td>\n",
              "      <td>8.5139</td>\n",
              "      <td>0.03</td>\n",
              "      <td>395</td>\n",
              "      <td>2388</td>\n",
              "      <td>100.0</td>\n",
              "      <td>38.30</td>\n",
              "      <td>23.1594</td>\n",
              "    </tr>\n",
              "    <tr>\n",
              "      <th>20628</th>\n",
              "      <td>100</td>\n",
              "      <td>198</td>\n",
              "      <td>0.0004</td>\n",
              "      <td>0.0000</td>\n",
              "      <td>100.0</td>\n",
              "      <td>518.67</td>\n",
              "      <td>643.42</td>\n",
              "      <td>1602.46</td>\n",
              "      <td>1428.18</td>\n",
              "      <td>14.62</td>\n",
              "      <td>...</td>\n",
              "      <td>520.01</td>\n",
              "      <td>2388.24</td>\n",
              "      <td>8141.05</td>\n",
              "      <td>8.5646</td>\n",
              "      <td>0.03</td>\n",
              "      <td>398</td>\n",
              "      <td>2388</td>\n",
              "      <td>100.0</td>\n",
              "      <td>38.44</td>\n",
              "      <td>22.9333</td>\n",
              "    </tr>\n",
              "    <tr>\n",
              "      <th>20629</th>\n",
              "      <td>100</td>\n",
              "      <td>199</td>\n",
              "      <td>-0.0011</td>\n",
              "      <td>0.0003</td>\n",
              "      <td>100.0</td>\n",
              "      <td>518.67</td>\n",
              "      <td>643.23</td>\n",
              "      <td>1605.26</td>\n",
              "      <td>1426.53</td>\n",
              "      <td>14.62</td>\n",
              "      <td>...</td>\n",
              "      <td>519.67</td>\n",
              "      <td>2388.23</td>\n",
              "      <td>8139.29</td>\n",
              "      <td>8.5389</td>\n",
              "      <td>0.03</td>\n",
              "      <td>395</td>\n",
              "      <td>2388</td>\n",
              "      <td>100.0</td>\n",
              "      <td>38.29</td>\n",
              "      <td>23.0640</td>\n",
              "    </tr>\n",
              "    <tr>\n",
              "      <th>20630</th>\n",
              "      <td>100</td>\n",
              "      <td>200</td>\n",
              "      <td>-0.0032</td>\n",
              "      <td>-0.0005</td>\n",
              "      <td>100.0</td>\n",
              "      <td>518.67</td>\n",
              "      <td>643.85</td>\n",
              "      <td>1600.38</td>\n",
              "      <td>1432.14</td>\n",
              "      <td>14.62</td>\n",
              "      <td>...</td>\n",
              "      <td>519.30</td>\n",
              "      <td>2388.26</td>\n",
              "      <td>8137.33</td>\n",
              "      <td>8.5036</td>\n",
              "      <td>0.03</td>\n",
              "      <td>396</td>\n",
              "      <td>2388</td>\n",
              "      <td>100.0</td>\n",
              "      <td>38.37</td>\n",
              "      <td>23.0522</td>\n",
              "    </tr>\n",
              "  </tbody>\n",
              "</table>\n",
              "<p>20631 rows × 26 columns</p>\n",
              "</div>\n",
              "      <button class=\"colab-df-convert\" onclick=\"convertToInteractive('df-2dfd31b7-5dd5-4d2c-9a89-d41ef93955fc')\"\n",
              "              title=\"Convert this dataframe to an interactive table.\"\n",
              "              style=\"display:none;\">\n",
              "        \n",
              "  <svg xmlns=\"http://www.w3.org/2000/svg\" height=\"24px\"viewBox=\"0 0 24 24\"\n",
              "       width=\"24px\">\n",
              "    <path d=\"M0 0h24v24H0V0z\" fill=\"none\"/>\n",
              "    <path d=\"M18.56 5.44l.94 2.06.94-2.06 2.06-.94-2.06-.94-.94-2.06-.94 2.06-2.06.94zm-11 1L8.5 8.5l.94-2.06 2.06-.94-2.06-.94L8.5 2.5l-.94 2.06-2.06.94zm10 10l.94 2.06.94-2.06 2.06-.94-2.06-.94-.94-2.06-.94 2.06-2.06.94z\"/><path d=\"M17.41 7.96l-1.37-1.37c-.4-.4-.92-.59-1.43-.59-.52 0-1.04.2-1.43.59L10.3 9.45l-7.72 7.72c-.78.78-.78 2.05 0 2.83L4 21.41c.39.39.9.59 1.41.59.51 0 1.02-.2 1.41-.59l7.78-7.78 2.81-2.81c.8-.78.8-2.07 0-2.86zM5.41 20L4 18.59l7.72-7.72 1.47 1.35L5.41 20z\"/>\n",
              "  </svg>\n",
              "      </button>\n",
              "      \n",
              "  <style>\n",
              "    .colab-df-container {\n",
              "      display:flex;\n",
              "      flex-wrap:wrap;\n",
              "      gap: 12px;\n",
              "    }\n",
              "\n",
              "    .colab-df-convert {\n",
              "      background-color: #E8F0FE;\n",
              "      border: none;\n",
              "      border-radius: 50%;\n",
              "      cursor: pointer;\n",
              "      display: none;\n",
              "      fill: #1967D2;\n",
              "      height: 32px;\n",
              "      padding: 0 0 0 0;\n",
              "      width: 32px;\n",
              "    }\n",
              "\n",
              "    .colab-df-convert:hover {\n",
              "      background-color: #E2EBFA;\n",
              "      box-shadow: 0px 1px 2px rgba(60, 64, 67, 0.3), 0px 1px 3px 1px rgba(60, 64, 67, 0.15);\n",
              "      fill: #174EA6;\n",
              "    }\n",
              "\n",
              "    [theme=dark] .colab-df-convert {\n",
              "      background-color: #3B4455;\n",
              "      fill: #D2E3FC;\n",
              "    }\n",
              "\n",
              "    [theme=dark] .colab-df-convert:hover {\n",
              "      background-color: #434B5C;\n",
              "      box-shadow: 0px 1px 3px 1px rgba(0, 0, 0, 0.15);\n",
              "      filter: drop-shadow(0px 1px 2px rgba(0, 0, 0, 0.3));\n",
              "      fill: #FFFFFF;\n",
              "    }\n",
              "  </style>\n",
              "\n",
              "      <script>\n",
              "        const buttonEl =\n",
              "          document.querySelector('#df-2dfd31b7-5dd5-4d2c-9a89-d41ef93955fc button.colab-df-convert');\n",
              "        buttonEl.style.display =\n",
              "          google.colab.kernel.accessAllowed ? 'block' : 'none';\n",
              "\n",
              "        async function convertToInteractive(key) {\n",
              "          const element = document.querySelector('#df-2dfd31b7-5dd5-4d2c-9a89-d41ef93955fc');\n",
              "          const dataTable =\n",
              "            await google.colab.kernel.invokeFunction('convertToInteractive',\n",
              "                                                     [key], {});\n",
              "          if (!dataTable) return;\n",
              "\n",
              "          const docLinkHtml = 'Like what you see? Visit the ' +\n",
              "            '<a target=\"_blank\" href=https://colab.research.google.com/notebooks/data_table.ipynb>data table notebook</a>'\n",
              "            + ' to learn more about interactive tables.';\n",
              "          element.innerHTML = '';\n",
              "          dataTable['output_type'] = 'display_data';\n",
              "          await google.colab.output.renderOutput(dataTable, element);\n",
              "          const docLink = document.createElement('div');\n",
              "          docLink.innerHTML = docLinkHtml;\n",
              "          element.appendChild(docLink);\n",
              "        }\n",
              "      </script>\n",
              "    </div>\n",
              "  </div>\n",
              "  "
            ]
          },
          "metadata": {},
          "execution_count": 11
        }
      ]
    },
    {
      "cell_type": "markdown",
      "source": [
        "## Preprocessing"
      ],
      "metadata": {
        "id": "n7MBDuPasy-s"
      }
    },
    {
      "cell_type": "markdown",
      "source": [
        "### Validation Set"
      ],
      "metadata": {
        "id": "e7-_jqRw3cRa"
      }
    },
    {
      "cell_type": "code",
      "source": [
        "from sklearn.model_selection import GroupShuffleSplit\n",
        "\n",
        "def train_val_split(train):\n",
        "    gss = GroupShuffleSplit(n_splits=1, train_size=0.80, random_state=42)  \n",
        "    for idx_train, idx_val in gss.split(train,groups=train[\"unit_number\"]):\n",
        "        # print('train_split_engines', train.iloc[idx_train]['unit_number'].unique(), '\\n')\n",
        "        # print('validate_split_engines', train.iloc[idx_val]['unit_number'].unique(), '\\n')\n",
        "\n",
        "        df_train = train.iloc[idx_train].copy()\n",
        "        df_val = train.iloc[idx_val].copy()\n",
        "\n",
        "    return df_train, df_val"
      ],
      "metadata": {
        "id": "_FBiCeewvW-E"
      },
      "execution_count": 12,
      "outputs": []
    },
    {
      "cell_type": "code",
      "source": [
        "df_train, df_val = train_val_split(train)"
      ],
      "metadata": {
        "id": "beWX66gdvs0s"
      },
      "execution_count": 13,
      "outputs": []
    },
    {
      "cell_type": "code",
      "source": [
        "X_t_train, y_t_train = proc.X_y_train_divide(df_train)\n",
        "X_t_val, y_t_val = proc.X_y_train_divide(df_val)"
      ],
      "metadata": {
        "id": "0PTNitwkvwE2"
      },
      "execution_count": 14,
      "outputs": []
    },
    {
      "cell_type": "markdown",
      "source": [
        "### Test Set Transformation \n",
        "Test set has samples for all cycles, but has annotations only for last one"
      ],
      "metadata": {
        "id": "QinQ4hWStzHt"
      }
    },
    {
      "cell_type": "code",
      "source": [
        "test.shape, y_test.shape"
      ],
      "metadata": {
        "colab": {
          "base_uri": "https://localhost:8080/"
        },
        "id": "4wtvRNsfuUwg",
        "outputId": "ee0baa1e-7f9d-43dd-b969-c0d2faaec8e5"
      },
      "execution_count": 15,
      "outputs": [
        {
          "output_type": "execute_result",
          "data": {
            "text/plain": [
              "((13096, 26), (100, 1))"
            ]
          },
          "metadata": {},
          "execution_count": 15
        }
      ]
    },
    {
      "cell_type": "code",
      "source": [
        "test_last = proc.transform_test(test)\n",
        "test_last.head()"
      ],
      "metadata": {
        "colab": {
          "base_uri": "https://localhost:8080/",
          "height": 300
        },
        "id": "onw4pCwZy-1s",
        "outputId": "4182fd9e-dce2-422c-9f46-1c4dfaa8baa9"
      },
      "execution_count": 16,
      "outputs": [
        {
          "output_type": "execute_result",
          "data": {
            "text/plain": [
              "      s_0     s_1      s_2      s_3    s_4    s_5     s_6      s_7      s_8  \\\n",
              "0  518.67  642.58  1581.22  1398.91  14.62  21.61  554.42  2388.08  9056.40   \n",
              "1  518.67  642.55  1586.59  1410.83  14.62  21.61  553.52  2388.10  9044.77   \n",
              "2  518.67  642.88  1589.75  1418.89  14.62  21.61  552.59  2388.16  9049.26   \n",
              "3  518.67  642.78  1594.53  1406.88  14.62  21.61  552.64  2388.13  9051.30   \n",
              "4  518.67  642.27  1589.94  1419.36  14.62  21.61  553.29  2388.10  9053.99   \n",
              "\n",
              "   s_9  ...    s_11     s_12     s_13    s_14  s_15  s_16  s_17   s_18   s_19  \\\n",
              "0  1.3  ...  521.79  2388.06  8130.11  8.4024  0.03   393  2388  100.0  38.81   \n",
              "1  1.3  ...  521.74  2388.09  8126.90  8.4505  0.03   391  2388  100.0  38.81   \n",
              "2  1.3  ...  520.83  2388.14  8131.46  8.4119  0.03   395  2388  100.0  38.93   \n",
              "3  1.3  ...  521.88  2388.11  8133.64  8.4634  0.03   395  2388  100.0  38.58   \n",
              "4  1.3  ...  521.00  2388.15  8125.74  8.4362  0.03   394  2388  100.0  38.75   \n",
              "\n",
              "      s_20  \n",
              "0  23.3552  \n",
              "1  23.2618  \n",
              "2  23.2740  \n",
              "3  23.2581  \n",
              "4  23.4117  \n",
              "\n",
              "[5 rows x 21 columns]"
            ],
            "text/html": [
              "\n",
              "  <div id=\"df-5305349e-4ee1-4687-9b20-6dd04c63f82a\">\n",
              "    <div class=\"colab-df-container\">\n",
              "      <div>\n",
              "<style scoped>\n",
              "    .dataframe tbody tr th:only-of-type {\n",
              "        vertical-align: middle;\n",
              "    }\n",
              "\n",
              "    .dataframe tbody tr th {\n",
              "        vertical-align: top;\n",
              "    }\n",
              "\n",
              "    .dataframe thead th {\n",
              "        text-align: right;\n",
              "    }\n",
              "</style>\n",
              "<table border=\"1\" class=\"dataframe\">\n",
              "  <thead>\n",
              "    <tr style=\"text-align: right;\">\n",
              "      <th></th>\n",
              "      <th>s_0</th>\n",
              "      <th>s_1</th>\n",
              "      <th>s_2</th>\n",
              "      <th>s_3</th>\n",
              "      <th>s_4</th>\n",
              "      <th>s_5</th>\n",
              "      <th>s_6</th>\n",
              "      <th>s_7</th>\n",
              "      <th>s_8</th>\n",
              "      <th>s_9</th>\n",
              "      <th>...</th>\n",
              "      <th>s_11</th>\n",
              "      <th>s_12</th>\n",
              "      <th>s_13</th>\n",
              "      <th>s_14</th>\n",
              "      <th>s_15</th>\n",
              "      <th>s_16</th>\n",
              "      <th>s_17</th>\n",
              "      <th>s_18</th>\n",
              "      <th>s_19</th>\n",
              "      <th>s_20</th>\n",
              "    </tr>\n",
              "  </thead>\n",
              "  <tbody>\n",
              "    <tr>\n",
              "      <th>0</th>\n",
              "      <td>518.67</td>\n",
              "      <td>642.58</td>\n",
              "      <td>1581.22</td>\n",
              "      <td>1398.91</td>\n",
              "      <td>14.62</td>\n",
              "      <td>21.61</td>\n",
              "      <td>554.42</td>\n",
              "      <td>2388.08</td>\n",
              "      <td>9056.40</td>\n",
              "      <td>1.3</td>\n",
              "      <td>...</td>\n",
              "      <td>521.79</td>\n",
              "      <td>2388.06</td>\n",
              "      <td>8130.11</td>\n",
              "      <td>8.4024</td>\n",
              "      <td>0.03</td>\n",
              "      <td>393</td>\n",
              "      <td>2388</td>\n",
              "      <td>100.0</td>\n",
              "      <td>38.81</td>\n",
              "      <td>23.3552</td>\n",
              "    </tr>\n",
              "    <tr>\n",
              "      <th>1</th>\n",
              "      <td>518.67</td>\n",
              "      <td>642.55</td>\n",
              "      <td>1586.59</td>\n",
              "      <td>1410.83</td>\n",
              "      <td>14.62</td>\n",
              "      <td>21.61</td>\n",
              "      <td>553.52</td>\n",
              "      <td>2388.10</td>\n",
              "      <td>9044.77</td>\n",
              "      <td>1.3</td>\n",
              "      <td>...</td>\n",
              "      <td>521.74</td>\n",
              "      <td>2388.09</td>\n",
              "      <td>8126.90</td>\n",
              "      <td>8.4505</td>\n",
              "      <td>0.03</td>\n",
              "      <td>391</td>\n",
              "      <td>2388</td>\n",
              "      <td>100.0</td>\n",
              "      <td>38.81</td>\n",
              "      <td>23.2618</td>\n",
              "    </tr>\n",
              "    <tr>\n",
              "      <th>2</th>\n",
              "      <td>518.67</td>\n",
              "      <td>642.88</td>\n",
              "      <td>1589.75</td>\n",
              "      <td>1418.89</td>\n",
              "      <td>14.62</td>\n",
              "      <td>21.61</td>\n",
              "      <td>552.59</td>\n",
              "      <td>2388.16</td>\n",
              "      <td>9049.26</td>\n",
              "      <td>1.3</td>\n",
              "      <td>...</td>\n",
              "      <td>520.83</td>\n",
              "      <td>2388.14</td>\n",
              "      <td>8131.46</td>\n",
              "      <td>8.4119</td>\n",
              "      <td>0.03</td>\n",
              "      <td>395</td>\n",
              "      <td>2388</td>\n",
              "      <td>100.0</td>\n",
              "      <td>38.93</td>\n",
              "      <td>23.2740</td>\n",
              "    </tr>\n",
              "    <tr>\n",
              "      <th>3</th>\n",
              "      <td>518.67</td>\n",
              "      <td>642.78</td>\n",
              "      <td>1594.53</td>\n",
              "      <td>1406.88</td>\n",
              "      <td>14.62</td>\n",
              "      <td>21.61</td>\n",
              "      <td>552.64</td>\n",
              "      <td>2388.13</td>\n",
              "      <td>9051.30</td>\n",
              "      <td>1.3</td>\n",
              "      <td>...</td>\n",
              "      <td>521.88</td>\n",
              "      <td>2388.11</td>\n",
              "      <td>8133.64</td>\n",
              "      <td>8.4634</td>\n",
              "      <td>0.03</td>\n",
              "      <td>395</td>\n",
              "      <td>2388</td>\n",
              "      <td>100.0</td>\n",
              "      <td>38.58</td>\n",
              "      <td>23.2581</td>\n",
              "    </tr>\n",
              "    <tr>\n",
              "      <th>4</th>\n",
              "      <td>518.67</td>\n",
              "      <td>642.27</td>\n",
              "      <td>1589.94</td>\n",
              "      <td>1419.36</td>\n",
              "      <td>14.62</td>\n",
              "      <td>21.61</td>\n",
              "      <td>553.29</td>\n",
              "      <td>2388.10</td>\n",
              "      <td>9053.99</td>\n",
              "      <td>1.3</td>\n",
              "      <td>...</td>\n",
              "      <td>521.00</td>\n",
              "      <td>2388.15</td>\n",
              "      <td>8125.74</td>\n",
              "      <td>8.4362</td>\n",
              "      <td>0.03</td>\n",
              "      <td>394</td>\n",
              "      <td>2388</td>\n",
              "      <td>100.0</td>\n",
              "      <td>38.75</td>\n",
              "      <td>23.4117</td>\n",
              "    </tr>\n",
              "  </tbody>\n",
              "</table>\n",
              "<p>5 rows × 21 columns</p>\n",
              "</div>\n",
              "      <button class=\"colab-df-convert\" onclick=\"convertToInteractive('df-5305349e-4ee1-4687-9b20-6dd04c63f82a')\"\n",
              "              title=\"Convert this dataframe to an interactive table.\"\n",
              "              style=\"display:none;\">\n",
              "        \n",
              "  <svg xmlns=\"http://www.w3.org/2000/svg\" height=\"24px\"viewBox=\"0 0 24 24\"\n",
              "       width=\"24px\">\n",
              "    <path d=\"M0 0h24v24H0V0z\" fill=\"none\"/>\n",
              "    <path d=\"M18.56 5.44l.94 2.06.94-2.06 2.06-.94-2.06-.94-.94-2.06-.94 2.06-2.06.94zm-11 1L8.5 8.5l.94-2.06 2.06-.94-2.06-.94L8.5 2.5l-.94 2.06-2.06.94zm10 10l.94 2.06.94-2.06 2.06-.94-2.06-.94-.94-2.06-.94 2.06-2.06.94z\"/><path d=\"M17.41 7.96l-1.37-1.37c-.4-.4-.92-.59-1.43-.59-.52 0-1.04.2-1.43.59L10.3 9.45l-7.72 7.72c-.78.78-.78 2.05 0 2.83L4 21.41c.39.39.9.59 1.41.59.51 0 1.02-.2 1.41-.59l7.78-7.78 2.81-2.81c.8-.78.8-2.07 0-2.86zM5.41 20L4 18.59l7.72-7.72 1.47 1.35L5.41 20z\"/>\n",
              "  </svg>\n",
              "      </button>\n",
              "      \n",
              "  <style>\n",
              "    .colab-df-container {\n",
              "      display:flex;\n",
              "      flex-wrap:wrap;\n",
              "      gap: 12px;\n",
              "    }\n",
              "\n",
              "    .colab-df-convert {\n",
              "      background-color: #E8F0FE;\n",
              "      border: none;\n",
              "      border-radius: 50%;\n",
              "      cursor: pointer;\n",
              "      display: none;\n",
              "      fill: #1967D2;\n",
              "      height: 32px;\n",
              "      padding: 0 0 0 0;\n",
              "      width: 32px;\n",
              "    }\n",
              "\n",
              "    .colab-df-convert:hover {\n",
              "      background-color: #E2EBFA;\n",
              "      box-shadow: 0px 1px 2px rgba(60, 64, 67, 0.3), 0px 1px 3px 1px rgba(60, 64, 67, 0.15);\n",
              "      fill: #174EA6;\n",
              "    }\n",
              "\n",
              "    [theme=dark] .colab-df-convert {\n",
              "      background-color: #3B4455;\n",
              "      fill: #D2E3FC;\n",
              "    }\n",
              "\n",
              "    [theme=dark] .colab-df-convert:hover {\n",
              "      background-color: #434B5C;\n",
              "      box-shadow: 0px 1px 3px 1px rgba(0, 0, 0, 0.15);\n",
              "      filter: drop-shadow(0px 1px 2px rgba(0, 0, 0, 0.3));\n",
              "      fill: #FFFFFF;\n",
              "    }\n",
              "  </style>\n",
              "\n",
              "      <script>\n",
              "        const buttonEl =\n",
              "          document.querySelector('#df-5305349e-4ee1-4687-9b20-6dd04c63f82a button.colab-df-convert');\n",
              "        buttonEl.style.display =\n",
              "          google.colab.kernel.accessAllowed ? 'block' : 'none';\n",
              "\n",
              "        async function convertToInteractive(key) {\n",
              "          const element = document.querySelector('#df-5305349e-4ee1-4687-9b20-6dd04c63f82a');\n",
              "          const dataTable =\n",
              "            await google.colab.kernel.invokeFunction('convertToInteractive',\n",
              "                                                     [key], {});\n",
              "          if (!dataTable) return;\n",
              "\n",
              "          const docLinkHtml = 'Like what you see? Visit the ' +\n",
              "            '<a target=\"_blank\" href=https://colab.research.google.com/notebooks/data_table.ipynb>data table notebook</a>'\n",
              "            + ' to learn more about interactive tables.';\n",
              "          element.innerHTML = '';\n",
              "          dataTable['output_type'] = 'display_data';\n",
              "          await google.colab.output.renderOutput(dataTable, element);\n",
              "          const docLink = document.createElement('div');\n",
              "          docLink.innerHTML = docLinkHtml;\n",
              "          element.appendChild(docLink);\n",
              "        }\n",
              "      </script>\n",
              "    </div>\n",
              "  </div>\n",
              "  "
            ]
          },
          "metadata": {},
          "execution_count": 16
        }
      ]
    },
    {
      "cell_type": "code",
      "source": [
        "X_test = test_last"
      ],
      "metadata": {
        "id": "ar3xxOQvIbHW"
      },
      "execution_count": 17,
      "outputs": []
    },
    {
      "cell_type": "markdown",
      "source": [
        "### Remaining Useful Life (RUL)"
      ],
      "metadata": {
        "id": "boZqFQNlraCh"
      }
    },
    {
      "cell_type": "code",
      "source": [
        "train = proc.add_remaining_useful_life_linear(train)\n",
        "train[index_cols+['RUL']].head()"
      ],
      "metadata": {
        "colab": {
          "base_uri": "https://localhost:8080/",
          "height": 270
        },
        "id": "lmFKjQaeip1b",
        "outputId": "92e4ac5c-e421-4dab-df8c-8fc9210db059"
      },
      "execution_count": 18,
      "outputs": [
        {
          "output_type": "execute_result",
          "data": {
            "text/plain": [
              "   unit_number  time  RUL\n",
              "0            1     1  191\n",
              "1            1     2  190\n",
              "2            1     3  189\n",
              "3            1     4  188\n",
              "4            1     5  187"
            ],
            "text/html": [
              "\n",
              "  <div id=\"df-a5576432-4a21-400b-8737-372222a1006d\">\n",
              "    <div class=\"colab-df-container\">\n",
              "      <div>\n",
              "<style scoped>\n",
              "    .dataframe tbody tr th:only-of-type {\n",
              "        vertical-align: middle;\n",
              "    }\n",
              "\n",
              "    .dataframe tbody tr th {\n",
              "        vertical-align: top;\n",
              "    }\n",
              "\n",
              "    .dataframe thead th {\n",
              "        text-align: right;\n",
              "    }\n",
              "</style>\n",
              "<table border=\"1\" class=\"dataframe\">\n",
              "  <thead>\n",
              "    <tr style=\"text-align: right;\">\n",
              "      <th></th>\n",
              "      <th>unit_number</th>\n",
              "      <th>time</th>\n",
              "      <th>RUL</th>\n",
              "    </tr>\n",
              "  </thead>\n",
              "  <tbody>\n",
              "    <tr>\n",
              "      <th>0</th>\n",
              "      <td>1</td>\n",
              "      <td>1</td>\n",
              "      <td>191</td>\n",
              "    </tr>\n",
              "    <tr>\n",
              "      <th>1</th>\n",
              "      <td>1</td>\n",
              "      <td>2</td>\n",
              "      <td>190</td>\n",
              "    </tr>\n",
              "    <tr>\n",
              "      <th>2</th>\n",
              "      <td>1</td>\n",
              "      <td>3</td>\n",
              "      <td>189</td>\n",
              "    </tr>\n",
              "    <tr>\n",
              "      <th>3</th>\n",
              "      <td>1</td>\n",
              "      <td>4</td>\n",
              "      <td>188</td>\n",
              "    </tr>\n",
              "    <tr>\n",
              "      <th>4</th>\n",
              "      <td>1</td>\n",
              "      <td>5</td>\n",
              "      <td>187</td>\n",
              "    </tr>\n",
              "  </tbody>\n",
              "</table>\n",
              "</div>\n",
              "      <button class=\"colab-df-convert\" onclick=\"convertToInteractive('df-a5576432-4a21-400b-8737-372222a1006d')\"\n",
              "              title=\"Convert this dataframe to an interactive table.\"\n",
              "              style=\"display:none;\">\n",
              "        \n",
              "  <svg xmlns=\"http://www.w3.org/2000/svg\" height=\"24px\"viewBox=\"0 0 24 24\"\n",
              "       width=\"24px\">\n",
              "    <path d=\"M0 0h24v24H0V0z\" fill=\"none\"/>\n",
              "    <path d=\"M18.56 5.44l.94 2.06.94-2.06 2.06-.94-2.06-.94-.94-2.06-.94 2.06-2.06.94zm-11 1L8.5 8.5l.94-2.06 2.06-.94-2.06-.94L8.5 2.5l-.94 2.06-2.06.94zm10 10l.94 2.06.94-2.06 2.06-.94-2.06-.94-.94-2.06-.94 2.06-2.06.94z\"/><path d=\"M17.41 7.96l-1.37-1.37c-.4-.4-.92-.59-1.43-.59-.52 0-1.04.2-1.43.59L10.3 9.45l-7.72 7.72c-.78.78-.78 2.05 0 2.83L4 21.41c.39.39.9.59 1.41.59.51 0 1.02-.2 1.41-.59l7.78-7.78 2.81-2.81c.8-.78.8-2.07 0-2.86zM5.41 20L4 18.59l7.72-7.72 1.47 1.35L5.41 20z\"/>\n",
              "  </svg>\n",
              "      </button>\n",
              "      \n",
              "  <style>\n",
              "    .colab-df-container {\n",
              "      display:flex;\n",
              "      flex-wrap:wrap;\n",
              "      gap: 12px;\n",
              "    }\n",
              "\n",
              "    .colab-df-convert {\n",
              "      background-color: #E8F0FE;\n",
              "      border: none;\n",
              "      border-radius: 50%;\n",
              "      cursor: pointer;\n",
              "      display: none;\n",
              "      fill: #1967D2;\n",
              "      height: 32px;\n",
              "      padding: 0 0 0 0;\n",
              "      width: 32px;\n",
              "    }\n",
              "\n",
              "    .colab-df-convert:hover {\n",
              "      background-color: #E2EBFA;\n",
              "      box-shadow: 0px 1px 2px rgba(60, 64, 67, 0.3), 0px 1px 3px 1px rgba(60, 64, 67, 0.15);\n",
              "      fill: #174EA6;\n",
              "    }\n",
              "\n",
              "    [theme=dark] .colab-df-convert {\n",
              "      background-color: #3B4455;\n",
              "      fill: #D2E3FC;\n",
              "    }\n",
              "\n",
              "    [theme=dark] .colab-df-convert:hover {\n",
              "      background-color: #434B5C;\n",
              "      box-shadow: 0px 1px 3px 1px rgba(0, 0, 0, 0.15);\n",
              "      filter: drop-shadow(0px 1px 2px rgba(0, 0, 0, 0.3));\n",
              "      fill: #FFFFFF;\n",
              "    }\n",
              "  </style>\n",
              "\n",
              "      <script>\n",
              "        const buttonEl =\n",
              "          document.querySelector('#df-a5576432-4a21-400b-8737-372222a1006d button.colab-df-convert');\n",
              "        buttonEl.style.display =\n",
              "          google.colab.kernel.accessAllowed ? 'block' : 'none';\n",
              "\n",
              "        async function convertToInteractive(key) {\n",
              "          const element = document.querySelector('#df-a5576432-4a21-400b-8737-372222a1006d');\n",
              "          const dataTable =\n",
              "            await google.colab.kernel.invokeFunction('convertToInteractive',\n",
              "                                                     [key], {});\n",
              "          if (!dataTable) return;\n",
              "\n",
              "          const docLinkHtml = 'Like what you see? Visit the ' +\n",
              "            '<a target=\"_blank\" href=https://colab.research.google.com/notebooks/data_table.ipynb>data table notebook</a>'\n",
              "            + ' to learn more about interactive tables.';\n",
              "          element.innerHTML = '';\n",
              "          dataTable['output_type'] = 'display_data';\n",
              "          await google.colab.output.renderOutput(dataTable, element);\n",
              "          const docLink = document.createElement('div');\n",
              "          docLink.innerHTML = docLinkHtml;\n",
              "          element.appendChild(docLink);\n",
              "        }\n",
              "      </script>\n",
              "    </div>\n",
              "  </div>\n",
              "  "
            ]
          },
          "metadata": {},
          "execution_count": 18
        }
      ]
    },
    {
      "cell_type": "markdown",
      "source": [
        "## Attributes and target separation"
      ],
      "metadata": {
        "id": "IIXnBTkfxpCf"
      }
    },
    {
      "cell_type": "code",
      "source": [
        "X_train, y_train = proc.X_y_train_divide(train)"
      ],
      "metadata": {
        "id": "4SzUk6ZLxv6H"
      },
      "execution_count": 19,
      "outputs": []
    },
    {
      "cell_type": "code",
      "source": [
        "y_train.head()"
      ],
      "metadata": {
        "colab": {
          "base_uri": "https://localhost:8080/",
          "height": 270
        },
        "id": "fuAnHn4GxzwM",
        "outputId": "543d03b2-3229-4a2a-bba8-d6d0102b91a5"
      },
      "execution_count": 20,
      "outputs": [
        {
          "output_type": "execute_result",
          "data": {
            "text/plain": [
              "   RUL\n",
              "0  191\n",
              "1  190\n",
              "2  189\n",
              "3  188\n",
              "4  187"
            ],
            "text/html": [
              "\n",
              "  <div id=\"df-5487c7d7-9f4e-4d9e-a064-ccf943097446\">\n",
              "    <div class=\"colab-df-container\">\n",
              "      <div>\n",
              "<style scoped>\n",
              "    .dataframe tbody tr th:only-of-type {\n",
              "        vertical-align: middle;\n",
              "    }\n",
              "\n",
              "    .dataframe tbody tr th {\n",
              "        vertical-align: top;\n",
              "    }\n",
              "\n",
              "    .dataframe thead th {\n",
              "        text-align: right;\n",
              "    }\n",
              "</style>\n",
              "<table border=\"1\" class=\"dataframe\">\n",
              "  <thead>\n",
              "    <tr style=\"text-align: right;\">\n",
              "      <th></th>\n",
              "      <th>RUL</th>\n",
              "    </tr>\n",
              "  </thead>\n",
              "  <tbody>\n",
              "    <tr>\n",
              "      <th>0</th>\n",
              "      <td>191</td>\n",
              "    </tr>\n",
              "    <tr>\n",
              "      <th>1</th>\n",
              "      <td>190</td>\n",
              "    </tr>\n",
              "    <tr>\n",
              "      <th>2</th>\n",
              "      <td>189</td>\n",
              "    </tr>\n",
              "    <tr>\n",
              "      <th>3</th>\n",
              "      <td>188</td>\n",
              "    </tr>\n",
              "    <tr>\n",
              "      <th>4</th>\n",
              "      <td>187</td>\n",
              "    </tr>\n",
              "  </tbody>\n",
              "</table>\n",
              "</div>\n",
              "      <button class=\"colab-df-convert\" onclick=\"convertToInteractive('df-5487c7d7-9f4e-4d9e-a064-ccf943097446')\"\n",
              "              title=\"Convert this dataframe to an interactive table.\"\n",
              "              style=\"display:none;\">\n",
              "        \n",
              "  <svg xmlns=\"http://www.w3.org/2000/svg\" height=\"24px\"viewBox=\"0 0 24 24\"\n",
              "       width=\"24px\">\n",
              "    <path d=\"M0 0h24v24H0V0z\" fill=\"none\"/>\n",
              "    <path d=\"M18.56 5.44l.94 2.06.94-2.06 2.06-.94-2.06-.94-.94-2.06-.94 2.06-2.06.94zm-11 1L8.5 8.5l.94-2.06 2.06-.94-2.06-.94L8.5 2.5l-.94 2.06-2.06.94zm10 10l.94 2.06.94-2.06 2.06-.94-2.06-.94-.94-2.06-.94 2.06-2.06.94z\"/><path d=\"M17.41 7.96l-1.37-1.37c-.4-.4-.92-.59-1.43-.59-.52 0-1.04.2-1.43.59L10.3 9.45l-7.72 7.72c-.78.78-.78 2.05 0 2.83L4 21.41c.39.39.9.59 1.41.59.51 0 1.02-.2 1.41-.59l7.78-7.78 2.81-2.81c.8-.78.8-2.07 0-2.86zM5.41 20L4 18.59l7.72-7.72 1.47 1.35L5.41 20z\"/>\n",
              "  </svg>\n",
              "      </button>\n",
              "      \n",
              "  <style>\n",
              "    .colab-df-container {\n",
              "      display:flex;\n",
              "      flex-wrap:wrap;\n",
              "      gap: 12px;\n",
              "    }\n",
              "\n",
              "    .colab-df-convert {\n",
              "      background-color: #E8F0FE;\n",
              "      border: none;\n",
              "      border-radius: 50%;\n",
              "      cursor: pointer;\n",
              "      display: none;\n",
              "      fill: #1967D2;\n",
              "      height: 32px;\n",
              "      padding: 0 0 0 0;\n",
              "      width: 32px;\n",
              "    }\n",
              "\n",
              "    .colab-df-convert:hover {\n",
              "      background-color: #E2EBFA;\n",
              "      box-shadow: 0px 1px 2px rgba(60, 64, 67, 0.3), 0px 1px 3px 1px rgba(60, 64, 67, 0.15);\n",
              "      fill: #174EA6;\n",
              "    }\n",
              "\n",
              "    [theme=dark] .colab-df-convert {\n",
              "      background-color: #3B4455;\n",
              "      fill: #D2E3FC;\n",
              "    }\n",
              "\n",
              "    [theme=dark] .colab-df-convert:hover {\n",
              "      background-color: #434B5C;\n",
              "      box-shadow: 0px 1px 3px 1px rgba(0, 0, 0, 0.15);\n",
              "      filter: drop-shadow(0px 1px 2px rgba(0, 0, 0, 0.3));\n",
              "      fill: #FFFFFF;\n",
              "    }\n",
              "  </style>\n",
              "\n",
              "      <script>\n",
              "        const buttonEl =\n",
              "          document.querySelector('#df-5487c7d7-9f4e-4d9e-a064-ccf943097446 button.colab-df-convert');\n",
              "        buttonEl.style.display =\n",
              "          google.colab.kernel.accessAllowed ? 'block' : 'none';\n",
              "\n",
              "        async function convertToInteractive(key) {\n",
              "          const element = document.querySelector('#df-5487c7d7-9f4e-4d9e-a064-ccf943097446');\n",
              "          const dataTable =\n",
              "            await google.colab.kernel.invokeFunction('convertToInteractive',\n",
              "                                                     [key], {});\n",
              "          if (!dataTable) return;\n",
              "\n",
              "          const docLinkHtml = 'Like what you see? Visit the ' +\n",
              "            '<a target=\"_blank\" href=https://colab.research.google.com/notebooks/data_table.ipynb>data table notebook</a>'\n",
              "            + ' to learn more about interactive tables.';\n",
              "          element.innerHTML = '';\n",
              "          dataTable['output_type'] = 'display_data';\n",
              "          await google.colab.output.renderOutput(dataTable, element);\n",
              "          const docLink = document.createElement('div');\n",
              "          docLink.innerHTML = docLinkHtml;\n",
              "          element.appendChild(docLink);\n",
              "        }\n",
              "      </script>\n",
              "    </div>\n",
              "  </div>\n",
              "  "
            ]
          },
          "metadata": {},
          "execution_count": 20
        }
      ]
    },
    {
      "cell_type": "code",
      "source": [
        "X_train.head()"
      ],
      "metadata": {
        "colab": {
          "base_uri": "https://localhost:8080/",
          "height": 300
        },
        "id": "26hK4VWkx1R7",
        "outputId": "932e5311-2b47-49b6-ce15-75c3068204e8"
      },
      "execution_count": 21,
      "outputs": [
        {
          "output_type": "execute_result",
          "data": {
            "text/plain": [
              "      s_0     s_1      s_2      s_3    s_4    s_5     s_6      s_7      s_8  \\\n",
              "0  518.67  641.82  1589.70  1400.60  14.62  21.61  554.36  2388.06  9046.19   \n",
              "1  518.67  642.15  1591.82  1403.14  14.62  21.61  553.75  2388.04  9044.07   \n",
              "2  518.67  642.35  1587.99  1404.20  14.62  21.61  554.26  2388.08  9052.94   \n",
              "3  518.67  642.35  1582.79  1401.87  14.62  21.61  554.45  2388.11  9049.48   \n",
              "4  518.67  642.37  1582.85  1406.22  14.62  21.61  554.00  2388.06  9055.15   \n",
              "\n",
              "   s_9  ...    s_11     s_12     s_13    s_14  s_15  s_16  s_17   s_18   s_19  \\\n",
              "0  1.3  ...  521.66  2388.02  8138.62  8.4195  0.03   392  2388  100.0  39.06   \n",
              "1  1.3  ...  522.28  2388.07  8131.49  8.4318  0.03   392  2388  100.0  39.00   \n",
              "2  1.3  ...  522.42  2388.03  8133.23  8.4178  0.03   390  2388  100.0  38.95   \n",
              "3  1.3  ...  522.86  2388.08  8133.83  8.3682  0.03   392  2388  100.0  38.88   \n",
              "4  1.3  ...  522.19  2388.04  8133.80  8.4294  0.03   393  2388  100.0  38.90   \n",
              "\n",
              "      s_20  \n",
              "0  23.4190  \n",
              "1  23.4236  \n",
              "2  23.3442  \n",
              "3  23.3739  \n",
              "4  23.4044  \n",
              "\n",
              "[5 rows x 21 columns]"
            ],
            "text/html": [
              "\n",
              "  <div id=\"df-c7e7ae36-0332-4a11-9be3-ac0bf0d29247\">\n",
              "    <div class=\"colab-df-container\">\n",
              "      <div>\n",
              "<style scoped>\n",
              "    .dataframe tbody tr th:only-of-type {\n",
              "        vertical-align: middle;\n",
              "    }\n",
              "\n",
              "    .dataframe tbody tr th {\n",
              "        vertical-align: top;\n",
              "    }\n",
              "\n",
              "    .dataframe thead th {\n",
              "        text-align: right;\n",
              "    }\n",
              "</style>\n",
              "<table border=\"1\" class=\"dataframe\">\n",
              "  <thead>\n",
              "    <tr style=\"text-align: right;\">\n",
              "      <th></th>\n",
              "      <th>s_0</th>\n",
              "      <th>s_1</th>\n",
              "      <th>s_2</th>\n",
              "      <th>s_3</th>\n",
              "      <th>s_4</th>\n",
              "      <th>s_5</th>\n",
              "      <th>s_6</th>\n",
              "      <th>s_7</th>\n",
              "      <th>s_8</th>\n",
              "      <th>s_9</th>\n",
              "      <th>...</th>\n",
              "      <th>s_11</th>\n",
              "      <th>s_12</th>\n",
              "      <th>s_13</th>\n",
              "      <th>s_14</th>\n",
              "      <th>s_15</th>\n",
              "      <th>s_16</th>\n",
              "      <th>s_17</th>\n",
              "      <th>s_18</th>\n",
              "      <th>s_19</th>\n",
              "      <th>s_20</th>\n",
              "    </tr>\n",
              "  </thead>\n",
              "  <tbody>\n",
              "    <tr>\n",
              "      <th>0</th>\n",
              "      <td>518.67</td>\n",
              "      <td>641.82</td>\n",
              "      <td>1589.70</td>\n",
              "      <td>1400.60</td>\n",
              "      <td>14.62</td>\n",
              "      <td>21.61</td>\n",
              "      <td>554.36</td>\n",
              "      <td>2388.06</td>\n",
              "      <td>9046.19</td>\n",
              "      <td>1.3</td>\n",
              "      <td>...</td>\n",
              "      <td>521.66</td>\n",
              "      <td>2388.02</td>\n",
              "      <td>8138.62</td>\n",
              "      <td>8.4195</td>\n",
              "      <td>0.03</td>\n",
              "      <td>392</td>\n",
              "      <td>2388</td>\n",
              "      <td>100.0</td>\n",
              "      <td>39.06</td>\n",
              "      <td>23.4190</td>\n",
              "    </tr>\n",
              "    <tr>\n",
              "      <th>1</th>\n",
              "      <td>518.67</td>\n",
              "      <td>642.15</td>\n",
              "      <td>1591.82</td>\n",
              "      <td>1403.14</td>\n",
              "      <td>14.62</td>\n",
              "      <td>21.61</td>\n",
              "      <td>553.75</td>\n",
              "      <td>2388.04</td>\n",
              "      <td>9044.07</td>\n",
              "      <td>1.3</td>\n",
              "      <td>...</td>\n",
              "      <td>522.28</td>\n",
              "      <td>2388.07</td>\n",
              "      <td>8131.49</td>\n",
              "      <td>8.4318</td>\n",
              "      <td>0.03</td>\n",
              "      <td>392</td>\n",
              "      <td>2388</td>\n",
              "      <td>100.0</td>\n",
              "      <td>39.00</td>\n",
              "      <td>23.4236</td>\n",
              "    </tr>\n",
              "    <tr>\n",
              "      <th>2</th>\n",
              "      <td>518.67</td>\n",
              "      <td>642.35</td>\n",
              "      <td>1587.99</td>\n",
              "      <td>1404.20</td>\n",
              "      <td>14.62</td>\n",
              "      <td>21.61</td>\n",
              "      <td>554.26</td>\n",
              "      <td>2388.08</td>\n",
              "      <td>9052.94</td>\n",
              "      <td>1.3</td>\n",
              "      <td>...</td>\n",
              "      <td>522.42</td>\n",
              "      <td>2388.03</td>\n",
              "      <td>8133.23</td>\n",
              "      <td>8.4178</td>\n",
              "      <td>0.03</td>\n",
              "      <td>390</td>\n",
              "      <td>2388</td>\n",
              "      <td>100.0</td>\n",
              "      <td>38.95</td>\n",
              "      <td>23.3442</td>\n",
              "    </tr>\n",
              "    <tr>\n",
              "      <th>3</th>\n",
              "      <td>518.67</td>\n",
              "      <td>642.35</td>\n",
              "      <td>1582.79</td>\n",
              "      <td>1401.87</td>\n",
              "      <td>14.62</td>\n",
              "      <td>21.61</td>\n",
              "      <td>554.45</td>\n",
              "      <td>2388.11</td>\n",
              "      <td>9049.48</td>\n",
              "      <td>1.3</td>\n",
              "      <td>...</td>\n",
              "      <td>522.86</td>\n",
              "      <td>2388.08</td>\n",
              "      <td>8133.83</td>\n",
              "      <td>8.3682</td>\n",
              "      <td>0.03</td>\n",
              "      <td>392</td>\n",
              "      <td>2388</td>\n",
              "      <td>100.0</td>\n",
              "      <td>38.88</td>\n",
              "      <td>23.3739</td>\n",
              "    </tr>\n",
              "    <tr>\n",
              "      <th>4</th>\n",
              "      <td>518.67</td>\n",
              "      <td>642.37</td>\n",
              "      <td>1582.85</td>\n",
              "      <td>1406.22</td>\n",
              "      <td>14.62</td>\n",
              "      <td>21.61</td>\n",
              "      <td>554.00</td>\n",
              "      <td>2388.06</td>\n",
              "      <td>9055.15</td>\n",
              "      <td>1.3</td>\n",
              "      <td>...</td>\n",
              "      <td>522.19</td>\n",
              "      <td>2388.04</td>\n",
              "      <td>8133.80</td>\n",
              "      <td>8.4294</td>\n",
              "      <td>0.03</td>\n",
              "      <td>393</td>\n",
              "      <td>2388</td>\n",
              "      <td>100.0</td>\n",
              "      <td>38.90</td>\n",
              "      <td>23.4044</td>\n",
              "    </tr>\n",
              "  </tbody>\n",
              "</table>\n",
              "<p>5 rows × 21 columns</p>\n",
              "</div>\n",
              "      <button class=\"colab-df-convert\" onclick=\"convertToInteractive('df-c7e7ae36-0332-4a11-9be3-ac0bf0d29247')\"\n",
              "              title=\"Convert this dataframe to an interactive table.\"\n",
              "              style=\"display:none;\">\n",
              "        \n",
              "  <svg xmlns=\"http://www.w3.org/2000/svg\" height=\"24px\"viewBox=\"0 0 24 24\"\n",
              "       width=\"24px\">\n",
              "    <path d=\"M0 0h24v24H0V0z\" fill=\"none\"/>\n",
              "    <path d=\"M18.56 5.44l.94 2.06.94-2.06 2.06-.94-2.06-.94-.94-2.06-.94 2.06-2.06.94zm-11 1L8.5 8.5l.94-2.06 2.06-.94-2.06-.94L8.5 2.5l-.94 2.06-2.06.94zm10 10l.94 2.06.94-2.06 2.06-.94-2.06-.94-.94-2.06-.94 2.06-2.06.94z\"/><path d=\"M17.41 7.96l-1.37-1.37c-.4-.4-.92-.59-1.43-.59-.52 0-1.04.2-1.43.59L10.3 9.45l-7.72 7.72c-.78.78-.78 2.05 0 2.83L4 21.41c.39.39.9.59 1.41.59.51 0 1.02-.2 1.41-.59l7.78-7.78 2.81-2.81c.8-.78.8-2.07 0-2.86zM5.41 20L4 18.59l7.72-7.72 1.47 1.35L5.41 20z\"/>\n",
              "  </svg>\n",
              "      </button>\n",
              "      \n",
              "  <style>\n",
              "    .colab-df-container {\n",
              "      display:flex;\n",
              "      flex-wrap:wrap;\n",
              "      gap: 12px;\n",
              "    }\n",
              "\n",
              "    .colab-df-convert {\n",
              "      background-color: #E8F0FE;\n",
              "      border: none;\n",
              "      border-radius: 50%;\n",
              "      cursor: pointer;\n",
              "      display: none;\n",
              "      fill: #1967D2;\n",
              "      height: 32px;\n",
              "      padding: 0 0 0 0;\n",
              "      width: 32px;\n",
              "    }\n",
              "\n",
              "    .colab-df-convert:hover {\n",
              "      background-color: #E2EBFA;\n",
              "      box-shadow: 0px 1px 2px rgba(60, 64, 67, 0.3), 0px 1px 3px 1px rgba(60, 64, 67, 0.15);\n",
              "      fill: #174EA6;\n",
              "    }\n",
              "\n",
              "    [theme=dark] .colab-df-convert {\n",
              "      background-color: #3B4455;\n",
              "      fill: #D2E3FC;\n",
              "    }\n",
              "\n",
              "    [theme=dark] .colab-df-convert:hover {\n",
              "      background-color: #434B5C;\n",
              "      box-shadow: 0px 1px 3px 1px rgba(0, 0, 0, 0.15);\n",
              "      filter: drop-shadow(0px 1px 2px rgba(0, 0, 0, 0.3));\n",
              "      fill: #FFFFFF;\n",
              "    }\n",
              "  </style>\n",
              "\n",
              "      <script>\n",
              "        const buttonEl =\n",
              "          document.querySelector('#df-c7e7ae36-0332-4a11-9be3-ac0bf0d29247 button.colab-df-convert');\n",
              "        buttonEl.style.display =\n",
              "          google.colab.kernel.accessAllowed ? 'block' : 'none';\n",
              "\n",
              "        async function convertToInteractive(key) {\n",
              "          const element = document.querySelector('#df-c7e7ae36-0332-4a11-9be3-ac0bf0d29247');\n",
              "          const dataTable =\n",
              "            await google.colab.kernel.invokeFunction('convertToInteractive',\n",
              "                                                     [key], {});\n",
              "          if (!dataTable) return;\n",
              "\n",
              "          const docLinkHtml = 'Like what you see? Visit the ' +\n",
              "            '<a target=\"_blank\" href=https://colab.research.google.com/notebooks/data_table.ipynb>data table notebook</a>'\n",
              "            + ' to learn more about interactive tables.';\n",
              "          element.innerHTML = '';\n",
              "          dataTable['output_type'] = 'display_data';\n",
              "          await google.colab.output.renderOutput(dataTable, element);\n",
              "          const docLink = document.createElement('div');\n",
              "          docLink.innerHTML = docLinkHtml;\n",
              "          element.appendChild(docLink);\n",
              "        }\n",
              "      </script>\n",
              "    </div>\n",
              "  </div>\n",
              "  "
            ]
          },
          "metadata": {},
          "execution_count": 21
        }
      ]
    },
    {
      "cell_type": "markdown",
      "source": [
        "## Training and Evaluation functions"
      ],
      "metadata": {
        "id": "fQA-YtFMM81M"
      }
    },
    {
      "cell_type": "code",
      "source": [
        "eval = Evaluation()"
      ],
      "metadata": {
        "id": "u88P6scrNTRu"
      },
      "execution_count": 22,
      "outputs": []
    },
    {
      "cell_type": "code",
      "source": [
        "search = HyperparameterSearch()"
      ],
      "metadata": {
        "id": "OUcS61OqPFhp"
      },
      "execution_count": 23,
      "outputs": []
    },
    {
      "cell_type": "markdown",
      "source": [
        "# MLP Construction"
      ],
      "metadata": {
        "id": "nTPBH5fg_sFd"
      }
    },
    {
      "cell_type": "markdown",
      "source": [
        "## Model Instantiation"
      ],
      "metadata": {
        "id": "U3TLQhAJB3Ta"
      }
    },
    {
      "cell_type": "code",
      "source": [
        "def create_model(optim=Adam, layer_nodes=[16,32,64], dropout=0.1, \n",
        "                 activation=\"relu\", learning_rate=1e-4, degree=1,\n",
        "                 print_summary=False, loss='mean_squared_error',\n",
        "                 metrics=[tf.keras.metrics.MeanSquaredError()]):\n",
        "    \"\"\"\n",
        "    Compile a Keras Regressor MLP with specified parameters\n",
        "    \"\"\"\n",
        "\n",
        "    model = Sequential()\n",
        "\n",
        "    # Input Layer\n",
        "    input_dim = PolynomialFeatures(degree=degree,include_bias=False) \\\n",
        "                        .fit_transform(X_train).shape[1]\n",
        "    model.add(Dense(layer_nodes[0], input_dim=input_dim, activation=activation))\n",
        "    model.add(Dropout(dropout))\n",
        "\n",
        "    # Hidden Layers\n",
        "    for i in range(len(layer_nodes)-1):\n",
        "        model.add(Dense(layer_nodes[i+1], activation=activation))\n",
        "        model.add(Dropout(dropout))\n",
        "\n",
        "    # Output Layer\n",
        "    model.add(Dense(1))\n",
        "\n",
        "    model.compile(loss=loss, optimizer=optim(learning_rate=learning_rate), \n",
        "                  metrics=metrics)\n",
        "    if(print_summary): model.summary()\n",
        "    return model"
      ],
      "metadata": {
        "id": "QP4eVp4kBHf6"
      },
      "execution_count": 24,
      "outputs": []
    },
    {
      "cell_type": "markdown",
      "source": [
        "## Callbacks"
      ],
      "metadata": {
        "id": "f3Or3dZbB5Pr"
      }
    },
    {
      "cell_type": "code",
      "source": [
        "# Early Stopping Callback\n",
        "es = tf.keras.callbacks.EarlyStopping(monitor='loss', \n",
        "                                      patience=5, restore_best_weights=True)"
      ],
      "metadata": {
        "id": "E_f33CIB-13t"
      },
      "execution_count": 25,
      "outputs": []
    },
    {
      "cell_type": "code",
      "source": [
        "# Printing Callback\n",
        "def printLog(epoch, logs):\n",
        "    print(\n",
        "        f\"E {epoch}\\t: loss={logs['loss']:.3f}, \"+\n",
        "        f\"rmse={logs['root_mean_squared_error']:.3f}, \"+\n",
        "        f\"r2={logs['r_square']:.3f}; \"+\n",
        "        f\"v_loss={logs['val_loss']:.3f}, \"+\n",
        "        f\"v_rmse={logs['val_root_mean_squared_error']:.3f}, \"+\n",
        "        f\"v_r2={logs['val_r_square']:.3f}; \"\n",
        "    )\n",
        "\n",
        "printerCallback = LambdaCallback(on_epoch_end=printLog)"
      ],
      "metadata": {
        "id": "07NuyHHfWLZ0"
      },
      "execution_count": 26,
      "outputs": []
    },
    {
      "cell_type": "markdown",
      "source": [
        "## Auxiliary HyperParameters"
      ],
      "metadata": {
        "id": "ziMtS2IXCgAF"
      }
    },
    {
      "cell_type": "code",
      "source": [
        "layer_sizes=[16,32,64,128,256,512]"
      ],
      "metadata": {
        "id": "sDThcAWpDToy"
      },
      "execution_count": 27,
      "outputs": []
    },
    {
      "cell_type": "code",
      "source": [
        "# Exponential Decay Schedules\n",
        "ED1 = ExponentialDecay(initial_learning_rate=1e-2, name=\"ED1\",\n",
        "                       decay_steps=100000, decay_rate=0.96)\n",
        "ED2 = ExponentialDecay(initial_learning_rate=1e-2, name=\"ED2\",\n",
        "                       decay_steps=100000, decay_rate=0.8)\n",
        "ED3 = ExponentialDecay(initial_learning_rate=1e-1, name=\"ED3\",\n",
        "                       decay_steps=100000, decay_rate=0.96)"
      ],
      "metadata": {
        "id": "uByk4u3ABOx-"
      },
      "execution_count": 28,
      "outputs": []
    },
    {
      "cell_type": "code",
      "source": [
        "# Generation of list combinations\n",
        "from itertools import chain, permutations\n",
        "\n",
        "def all_permutations(lst, size):\n",
        "    result = list(chain.from_iterable([permutations(lst, x) for x in range(len(lst)+1)]))\n",
        "    out = []\n",
        "    for r in result:\n",
        "        if (len(r) == size):\n",
        "            out.append(list(r))\n",
        "    return out"
      ],
      "metadata": {
        "id": "iDI9c8nkye0P"
      },
      "execution_count": 29,
      "outputs": []
    },
    {
      "cell_type": "markdown",
      "source": [
        "# MLP-1"
      ],
      "metadata": {
        "id": "DU8TxguXIChd"
      }
    },
    {
      "cell_type": "markdown",
      "source": [
        "## Linear RUL"
      ],
      "metadata": {
        "id": "zkCJJsiS-J7e"
      }
    },
    {
      "cell_type": "code",
      "source": [
        "model = Pipeline([\n",
        "    ('scaler'  , StandardScaler()),\n",
        "    ('mlp'     , KerasRegressor(model=create_model, \n",
        "                                model__metrics=[RMSE(), R2()],\n",
        "                                model__loss='mse',\n",
        "                                model__degree=1,\n",
        "                                verbose=0, callbacks=[es],  \n",
        "                                ))\n",
        "])\n",
        "model"
      ],
      "metadata": {
        "id": "xfYRKHQKi3Xv",
        "colab": {
          "base_uri": "https://localhost:8080/"
        },
        "outputId": "074d9b1d-f31f-4a00-afc4-6b018c35d8e9"
      },
      "execution_count": null,
      "outputs": [
        {
          "output_type": "execute_result",
          "data": {
            "text/plain": [
              "Pipeline(steps=[('scaler', StandardScaler()),\n",
              "                ('mlp',\n",
              "                 KerasRegressor(callbacks=[<keras.callbacks.EarlyStopping object at 0x7f406e3db050>], model=<function create_model at 0x7f3fd95efc20>, model__degree=1, model__loss='mse', model__metrics=[<keras.metrics.RootMeanSquaredError object at 0x7f3fd8211650>, <tensorflow_addons.metrics.r_square.RSquare object at 0x7f3fd8211b90>], verbose=0))])"
            ]
          },
          "metadata": {},
          "execution_count": 41
        }
      ]
    },
    {
      "cell_type": "code",
      "source": [
        "# ~12min\n",
        "GRID_SEARCH = False\n",
        "if (GRID_SEARCH):\n",
        "    param_distributions = {\n",
        "        \"scaler\": [MinMaxScaler(),StandardScaler()],\n",
        "        \"mlp__epochs\": [1,5,10,20,30,50],\n",
        "        \"mlp__validation_split\":[0.1,0.2,0.4,0.5],\n",
        "        \"mlp__batch_size\": [32,64,128,256,512],\n",
        "        \"mlp__model__optim\":[Adam,RMSprop],\n",
        "        \"mlp__model__learning_rate\": [1e-2,1e-3,1e-4],\n",
        "        \"mlp__model__dropout\": [0.1,0.2,0.4,0.5],\n",
        "        \"mlp__model__layer_nodes\": all_permutations(layer_sizes, 1),\n",
        "        \"mlp__model__activation\": [\"relu\",\"tanh\", \"sigmoid\"]\n",
        "    }\n",
        "    model = search.run_HR_GS(model, X_train, y_train, param_distributions, \n",
        "                             factor=2, scorer='r2', ignore_warnings=True, cv=3)\n",
        "    print(model)\n",
        "    print(\"Finished:\", datetime.datetime.now())"
      ],
      "metadata": {
        "colab": {
          "base_uri": "https://localhost:8080/"
        },
        "id": "PMh10Ab9lJ2U",
        "outputId": "738ecd8a-d0fe-4808-c255-03ec73c525ff"
      },
      "execution_count": null,
      "outputs": [
        {
          "output_type": "stream",
          "name": "stdout",
          "text": [
            "n_iterations: 6\n",
            "n_required_iterations: 6\n",
            "n_possible_iterations: 6\n",
            "min_resources_: 500\n",
            "max_resources_: 20631\n",
            "aggressive_elimination: False\n",
            "factor: 2\n",
            "----------\n",
            "iter: 0\n",
            "n_candidates: 41\n",
            "n_resources: 500\n",
            "Fitting 3 folds for each of 41 candidates, totalling 123 fits\n"
          ]
        },
        {
          "output_type": "stream",
          "name": "stderr",
          "text": [
            "WARNING:tensorflow:5 out of the last 27 calls to <function Model.make_predict_function.<locals>.predict_function at 0x7f3fbc644680> triggered tf.function retracing. Tracing is expensive and the excessive number of tracings could be due to (1) creating @tf.function repeatedly in a loop, (2) passing tensors with different shapes, (3) passing Python objects instead of tensors. For (1), please define your @tf.function outside of the loop. For (2), @tf.function has experimental_relax_shapes=True option that relaxes argument shapes that can avoid unnecessary retracing. For (3), please refer to https://www.tensorflow.org/guide/function#controlling_retracing and https://www.tensorflow.org/api_docs/python/tf/function for  more details.\n",
            "WARNING:tensorflow:5 out of the last 27 calls to <function Model.make_predict_function.<locals>.predict_function at 0x7f3fd442b440> triggered tf.function retracing. Tracing is expensive and the excessive number of tracings could be due to (1) creating @tf.function repeatedly in a loop, (2) passing tensors with different shapes, (3) passing Python objects instead of tensors. For (1), please define your @tf.function outside of the loop. For (2), @tf.function has experimental_relax_shapes=True option that relaxes argument shapes that can avoid unnecessary retracing. For (3), please refer to https://www.tensorflow.org/guide/function#controlling_retracing and https://www.tensorflow.org/api_docs/python/tf/function for  more details.\n",
            "WARNING:tensorflow:5 out of the last 13 calls to <function Model.make_test_function.<locals>.test_function at 0x7f3fd8070170> triggered tf.function retracing. Tracing is expensive and the excessive number of tracings could be due to (1) creating @tf.function repeatedly in a loop, (2) passing tensors with different shapes, (3) passing Python objects instead of tensors. For (1), please define your @tf.function outside of the loop. For (2), @tf.function has experimental_relax_shapes=True option that relaxes argument shapes that can avoid unnecessary retracing. For (3), please refer to https://www.tensorflow.org/guide/function#controlling_retracing and https://www.tensorflow.org/api_docs/python/tf/function for  more details.\n",
            "WARNING:tensorflow:5 out of the last 15 calls to <function Model.make_train_function.<locals>.train_function at 0x7f3fd9a92dd0> triggered tf.function retracing. Tracing is expensive and the excessive number of tracings could be due to (1) creating @tf.function repeatedly in a loop, (2) passing tensors with different shapes, (3) passing Python objects instead of tensors. For (1), please define your @tf.function outside of the loop. For (2), @tf.function has experimental_relax_shapes=True option that relaxes argument shapes that can avoid unnecessary retracing. For (3), please refer to https://www.tensorflow.org/guide/function#controlling_retracing and https://www.tensorflow.org/api_docs/python/tf/function for  more details.\n",
            "WARNING:tensorflow:6 out of the last 14 calls to <function Model.make_test_function.<locals>.test_function at 0x7f3fd9b2fa70> triggered tf.function retracing. Tracing is expensive and the excessive number of tracings could be due to (1) creating @tf.function repeatedly in a loop, (2) passing tensors with different shapes, (3) passing Python objects instead of tensors. For (1), please define your @tf.function outside of the loop. For (2), @tf.function has experimental_relax_shapes=True option that relaxes argument shapes that can avoid unnecessary retracing. For (3), please refer to https://www.tensorflow.org/guide/function#controlling_retracing and https://www.tensorflow.org/api_docs/python/tf/function for  more details.\n",
            "WARNING:tensorflow:5 out of the last 13 calls to <function Model.make_train_function.<locals>.train_function at 0x7f3fbc66c560> triggered tf.function retracing. Tracing is expensive and the excessive number of tracings could be due to (1) creating @tf.function repeatedly in a loop, (2) passing tensors with different shapes, (3) passing Python objects instead of tensors. For (1), please define your @tf.function outside of the loop. For (2), @tf.function has experimental_relax_shapes=True option that relaxes argument shapes that can avoid unnecessary retracing. For (3), please refer to https://www.tensorflow.org/guide/function#controlling_retracing and https://www.tensorflow.org/api_docs/python/tf/function for  more details.\n"
          ]
        },
        {
          "output_type": "stream",
          "name": "stdout",
          "text": [
            "----------\n",
            "iter: 1\n",
            "n_candidates: 21\n",
            "n_resources: 1000\n",
            "Fitting 3 folds for each of 21 candidates, totalling 63 fits\n",
            "----------\n",
            "iter: 2\n",
            "n_candidates: 11\n",
            "n_resources: 2000\n",
            "Fitting 3 folds for each of 11 candidates, totalling 33 fits\n",
            "----------\n",
            "iter: 3\n",
            "n_candidates: 6\n",
            "n_resources: 4000\n",
            "Fitting 3 folds for each of 6 candidates, totalling 18 fits\n",
            "----------\n",
            "iter: 4\n",
            "n_candidates: 3\n",
            "n_resources: 8000\n",
            "Fitting 3 folds for each of 3 candidates, totalling 9 fits\n",
            "----------\n",
            "iter: 5\n",
            "n_candidates: 2\n",
            "n_resources: 16000\n",
            "Fitting 3 folds for each of 2 candidates, totalling 6 fits\n",
            "Best params:  {'scaler': StandardScaler(), 'mlp__validation_split': 0.5, 'mlp__model__optim': <class 'keras.optimizer_v2.rmsprop.RMSprop'>, 'mlp__model__learning_rate': 0.01, 'mlp__model__layer_nodes': [128], 'mlp__model__dropout': 0.2, 'mlp__model__activation': 'relu', 'mlp__epochs': 20, 'mlp__batch_size': 64}\n",
            "Pipeline(steps=[('scaler', StandardScaler()),\n",
            "                ('mlp',\n",
            "                 KerasRegressor(batch_size=64, callbacks=[<keras.callbacks.EarlyStopping object at 0x7f3fd9b74110>], epochs=20, model=<function create_model at 0x7f3fd95efc20>, model__activation='relu', model__degree=1, model__dropout=0.2, model__layer_nodes=[128], model__learning_rate=0.01, model__loss='mse', model__metrics=[<keras.metrics.RootMeanSquaredError object at 0x7f3fd9b74050>, <tensorflow_addons.metrics.r_square.RSquare object at 0x7f3fbbff6c50>], model__optim=<class 'keras.optimizer_v2.rmsprop.RMSprop'>, validation_split=0.5, verbose=0))])\n",
            "Finished: 2022-09-15 12:31:34.351250\n"
          ]
        }
      ]
    },
    {
      "cell_type": "markdown",
      "source": [
        "Best Model:\n",
        "```\n",
        "{'scaler': StandardScaler(), \n",
        "'mlp__validation_split': 0.5,\n",
        "''mlp__model__optim': <class 'keras.optimizer_v2.rmsprop.RMSprop'>, \n",
        "'mlp__model__learning_rate': 0.01, \n",
        "'mlp__model__layer_nodes': [128],\n",
        "'mlp__model__dropout': 0.2,\n",
        "'mlp__model__activation': 'relu',\n",
        "'mlp__epochs': 20, \n",
        "'mlp__batch_size': 64}\n",
        "```"
      ],
      "metadata": {
        "id": "mD827CJN7a6Y"
      }
    },
    {
      "cell_type": "code",
      "source": [
        "model = Pipeline([\n",
        "    ('scaler'  , StandardScaler()),\n",
        "    ('mlp'     , KerasRegressor(model=create_model, \n",
        "                                model__metrics=[RMSE(), R2()],\n",
        "                                model__loss='mse',\n",
        "                                verbose=0, callbacks=[es,printerCallback],  \n",
        "                                validation_split=0.5, \n",
        "                                model__optim=RMSprop,\n",
        "                                model__learning_rate=0.01, \n",
        "                                model__layer_nodes=[128],\n",
        "                                model__dropout=0.2,\n",
        "                                model__activation=\"relu\",\n",
        "                                epochs=20, \n",
        "                                batch_size=64))\n",
        "])\n",
        "model"
      ],
      "metadata": {
        "colab": {
          "base_uri": "https://localhost:8080/"
        },
        "outputId": "cf014eee-965c-440c-8577-4d9c10f84400",
        "id": "JlLpzMHg7a6Y"
      },
      "execution_count": null,
      "outputs": [
        {
          "output_type": "execute_result",
          "data": {
            "text/plain": [
              "Pipeline(steps=[('scaler', StandardScaler()),\n",
              "                ('mlp',\n",
              "                 KerasRegressor(batch_size=64, callbacks=[<keras.callbacks.EarlyStopping object at 0x7f406e3db050>, <keras.callbacks.LambdaCallback object at 0x7f406008ff10>], epochs=20, model=<function create_model at 0x7f3fd95efc20>, model__activation='relu', model__dropout=0.2, model__layer_nodes=[128], model__learning_rate=0.01, model__loss='mse', model__metrics=[<keras.metrics.RootMeanSquaredError object at 0x7f3fd9df3950>, <tensorflow_addons.metrics.r_square.RSquare object at 0x7f3fbcfbe450>], model__optim=<class 'keras.optimizer_v2.rmsprop.RMSprop'>, validation_split=0.5, verbose=0))])"
            ]
          },
          "metadata": {},
          "execution_count": 44
        }
      ]
    },
    {
      "cell_type": "code",
      "source": [
        "model.fit(X_train, y_train)\n",
        "eval.show_result(y_train, model.predict(X_train))\n",
        "print(\"Finished:\", datetime.datetime.now())"
      ],
      "metadata": {
        "colab": {
          "base_uri": "https://localhost:8080/"
        },
        "id": "asu3aizd8INi",
        "outputId": "07a25b92-09d4-432a-d254-bb75f45ccbf3"
      },
      "execution_count": null,
      "outputs": [
        {
          "output_type": "stream",
          "name": "stdout",
          "text": [
            "E 0\t: loss=2735.080, rmse=52.298, r2=0.294; v_loss=2654.072, v_rmse=51.518, v_r2=0.522; \n",
            "E 1\t: loss=1063.129, rmse=32.606, r2=0.725; v_loss=2618.092, v_rmse=51.167, v_r2=0.528; \n",
            "E 2\t: loss=1061.893, rmse=32.587, r2=0.726; v_loss=2480.985, v_rmse=49.809, v_r2=0.553; \n",
            "E 3\t: loss=1049.969, rmse=32.403, r2=0.729; v_loss=2760.811, v_rmse=52.543, v_r2=0.502; \n",
            "E 4\t: loss=1051.995, rmse=32.434, r2=0.728; v_loss=2802.044, v_rmse=52.934, v_r2=0.495; \n",
            "E 5\t: loss=1048.582, rmse=32.382, r2=0.729; v_loss=2526.332, v_rmse=50.263, v_r2=0.545; \n",
            "E 6\t: loss=1045.081, rmse=32.328, r2=0.730; v_loss=2638.387, v_rmse=51.365, v_r2=0.524; \n",
            "E 7\t: loss=1035.534, rmse=32.180, r2=0.733; v_loss=2611.114, v_rmse=51.099, v_r2=0.529; \n",
            "E 8\t: loss=1032.359, rmse=32.130, r2=0.733; v_loss=2670.928, v_rmse=51.681, v_r2=0.519; \n",
            "E 9\t: loss=1038.198, rmse=32.221, r2=0.732; v_loss=2574.217, v_rmse=50.737, v_r2=0.536; \n",
            "E 10\t: loss=1037.728, rmse=32.214, r2=0.732; v_loss=2707.143, v_rmse=52.030, v_r2=0.512; \n",
            "E 11\t: loss=1036.660, rmse=32.197, r2=0.732; v_loss=2574.864, v_rmse=50.743, v_r2=0.536; \n",
            "E 12\t: loss=1037.219, rmse=32.206, r2=0.732; v_loss=2659.009, v_rmse=51.566, v_r2=0.521; \n",
            "E 13\t: loss=1040.173, rmse=32.252, r2=0.731; v_loss=2679.575, v_rmse=51.765, v_r2=0.517; \n",
            "R2=0.607,RMSE=-43.161\n",
            "Finished: 2022-09-15 12:35:03.885280\n"
          ]
        }
      ]
    },
    {
      "cell_type": "code",
      "source": [
        "eval.show_result(y_test, model.predict(X_test))\n",
        "print(\"Finished:\", datetime.datetime.now())"
      ],
      "metadata": {
        "colab": {
          "base_uri": "https://localhost:8080/"
        },
        "id": "7hL2ywwC89Cw",
        "outputId": "3ffc62b3-3699-4bed-bf58-0afccc1ef2a0"
      },
      "execution_count": null,
      "outputs": [
        {
          "output_type": "stream",
          "name": "stdout",
          "text": [
            "R2=0.488,RMSE=-29.721\n",
            "Finished: 2022-09-15 12:35:08.268111\n"
          ]
        }
      ]
    },
    {
      "cell_type": "markdown",
      "source": [
        "## Non-linear RUL"
      ],
      "metadata": {
        "id": "g7ZQn1fSXSDi"
      }
    },
    {
      "cell_type": "code",
      "source": [
        "model = Pipeline([\n",
        "    ('scaler'   ,   MinMaxScaler()),\n",
        "    ('trf_reg'  ,   TransformedTargetRegressor(\n",
        "        check_inverse=False,\n",
        "        regressor   = KerasRegressor(\n",
        "                                model=create_model,verbose=0, callbacks=[es], \n",
        "                                model__degree=1,\n",
        "                                validation_split=0.2, \n",
        "                                model__metrics=[RMSE(), R2()],\n",
        "                                model__loss='mse'),\n",
        "        transformer = FunctionTransformer(np.clip, \n",
        "                                          kw_args={'a_min':0,'a_max':50})))\n",
        "])\n",
        "model"
      ],
      "metadata": {
        "colab": {
          "base_uri": "https://localhost:8080/"
        },
        "id": "oArc4RZsX9oJ",
        "outputId": "3395d465-1371-49c8-b24f-8dcf22930619"
      },
      "execution_count": null,
      "outputs": [
        {
          "output_type": "execute_result",
          "data": {
            "text/plain": [
              "Pipeline(steps=[('scaler', MinMaxScaler()),\n",
              "                ('trf_reg',\n",
              "                 TransformedTargetRegressor(check_inverse=False,\n",
              "                                            regressor=KerasRegressor(callbacks=[<keras.callbacks.EarlyStopping object at 0x7f3fd4507690>], model=<function create_model at 0x7f3fc11ce170>, model__degree=1, model__loss='mse', model__metrics=[<keras.metrics.RootMeanSquaredError object at 0x7f3fbc3bafd0>, <tensorflow_addons.metrics.r_square.RSquare object at 0x7f3fbc023410>], validation_split=0.2, verbose=0),\n",
              "                                            transformer=FunctionTransformer(func=<function clip at 0x7f40e9f9bc20>,\n",
              "                                                                            kw_args={'a_max': 50,\n",
              "                                                                                     'a_min': 0})))])"
            ]
          },
          "metadata": {},
          "execution_count": 78
        }
      ]
    },
    {
      "cell_type": "code",
      "source": [
        "# ~15min\n",
        "GRID_SEARCH = False\n",
        "if (GRID_SEARCH):\n",
        "    param_distributions = {\n",
        "        \"scaler\": [MinMaxScaler(),StandardScaler()],\n",
        "        \"trf_reg__transformer__kw_args\": search.generate_clip_dicts(80,150,1),\n",
        "        \"trf_reg__regressor__epochs\": [1,5,10,20,30,50],\n",
        "        \"trf_reg__regressor__validation_split\":[0.1,0.2,0.4,0.5],\n",
        "        \"trf_reg__regressor__batch_size\": [32,64,128,256,512],\n",
        "        \"trf_reg__regressor__model__optim\":[Adam,RMSprop],\n",
        "        \"trf_reg__regressor__model__learning_rate\": [1e-2,1e-3,1e-4],\n",
        "        \"trf_reg__regressor__model__dropout\": [0.1,0.2,0.4,0.5],\n",
        "        \"trf_reg__regressor__model__layer_nodes\": all_permutations(layer_sizes, 1),\n",
        "        \"trf_reg__regressor__model__activation\": [\"relu\",\"tanh\", \"sigmoid\"]\n",
        "    }\n",
        "\n",
        "    model = search.run_HR_GS(model, X_train, y_train, param_distributions, \n",
        "                             factor=2, scorer='r2', ignore_warnings=True, cv=3)\n",
        "    print(model)\n",
        "    print(\"Finished:\", datetime.datetime.now())"
      ],
      "metadata": {
        "colab": {
          "base_uri": "https://localhost:8080/"
        },
        "outputId": "5d0611cc-3997-4fbe-a255-ece81d9dcd26",
        "id": "HMRMpZKvXSDk"
      },
      "execution_count": null,
      "outputs": [
        {
          "output_type": "stream",
          "name": "stdout",
          "text": [
            "n_iterations: 6\n",
            "n_required_iterations: 6\n",
            "n_possible_iterations: 6\n",
            "min_resources_: 500\n",
            "max_resources_: 20631\n",
            "aggressive_elimination: False\n",
            "factor: 2\n",
            "----------\n",
            "iter: 0\n",
            "n_candidates: 41\n",
            "n_resources: 500\n",
            "Fitting 3 folds for each of 41 candidates, totalling 123 fits\n",
            "----------\n",
            "iter: 1\n",
            "n_candidates: 21\n",
            "n_resources: 1000\n",
            "Fitting 3 folds for each of 21 candidates, totalling 63 fits\n",
            "----------\n",
            "iter: 2\n",
            "n_candidates: 11\n",
            "n_resources: 2000\n",
            "Fitting 3 folds for each of 11 candidates, totalling 33 fits\n",
            "----------\n",
            "iter: 3\n",
            "n_candidates: 6\n",
            "n_resources: 4000\n",
            "Fitting 3 folds for each of 6 candidates, totalling 18 fits\n",
            "----------\n",
            "iter: 4\n",
            "n_candidates: 3\n",
            "n_resources: 8000\n",
            "Fitting 3 folds for each of 3 candidates, totalling 9 fits\n",
            "----------\n",
            "iter: 5\n",
            "n_candidates: 2\n",
            "n_resources: 16000\n",
            "Fitting 3 folds for each of 2 candidates, totalling 6 fits\n",
            "Best params:  {'trf_reg__transformer__kw_args': {'a_min': 0, 'a_max': 128}, 'trf_reg__regressor__validation_split': 0.2, 'trf_reg__regressor__model__optim': <class 'keras.optimizer_v2.rmsprop.RMSprop'>, 'trf_reg__regressor__model__learning_rate': 0.01, 'trf_reg__regressor__model__layer_nodes': [512], 'trf_reg__regressor__model__dropout': 0.5, 'trf_reg__regressor__model__activation': 'tanh', 'trf_reg__regressor__epochs': 30, 'trf_reg__regressor__batch_size': 64, 'scaler': MinMaxScaler()}\n",
            "Pipeline(steps=[('scaler', MinMaxScaler()),\n",
            "                ('trf_reg',\n",
            "                 TransformedTargetRegressor(check_inverse=False,\n",
            "                                            regressor=KerasRegressor(batch_size=64, callbacks=[<keras.callbacks.EarlyStopping object at 0x7f3fbebde3d0>], epochs=30, model=<function create_model at 0x7f3fd95efc20>, model__activation='tanh', model__degree=1, model__dropout=0.5, model__layer_nodes=[512], model...l__loss='mse', model__metrics=[<keras.metrics.RootMeanSquaredError object at 0x7f3fbe2acd50>, <tensorflow_addons.metrics.r_square.RSquare object at 0x7f3fbeae0f50>], model__optim=<class 'keras.optimizer_v2.rmsprop.RMSprop'>, validation_split=0.2, verbose=0),\n",
            "                                            transformer=FunctionTransformer(func=<function clip at 0x7f40e9f9bc20>,\n",
            "                                                                            kw_args={'a_max': 128,\n",
            "                                                                                     'a_min': 0})))])\n",
            "Finished: 2022-09-15 12:54:32.864065\n"
          ]
        }
      ]
    },
    {
      "cell_type": "markdown",
      "source": [
        "Best Model:\n",
        "```\n",
        "{'trf_reg__transformer__kw_args': {'a_min': 0, 'a_max': 128}, \n",
        "'trf_reg__regressor__validation_split': 0.2, \n",
        "'trf_reg__regressor__model__optim': <class 'keras.optimizer_v2.rmsprop.RMSprop'>, \n",
        "'trf_reg__regressor__model__learning_rate': 0.01, \n",
        "'trf_reg__regressor__model__layer_nodes': [512],\n",
        "'trf_reg__regressor__model__dropout': 0.5,\n",
        "'trf_reg__regressor__model__activation': 'tanh',\n",
        "'trf_reg__regressor__epochs': 30,\n",
        "'trf_reg__regressor__batch_size': 64,\n",
        "'scaler': MinMaxScaler()}\n",
        "```"
      ],
      "metadata": {
        "id": "hWSumSoaY5bh"
      }
    },
    {
      "cell_type": "code",
      "source": [
        "model = Pipeline([\n",
        "    ('scaler'   ,   MinMaxScaler()),\n",
        "    ('trf_reg'  ,   TransformedTargetRegressor(\n",
        "        check_inverse=False,\n",
        "        regressor   = KerasRegressor(\n",
        "                                model=create_model, \n",
        "                                model__metrics=[RMSE(), R2()],\n",
        "                                model__loss='mse',\n",
        "                                verbose=0, callbacks=[es,printerCallback],\n",
        "                                model__print_summary=True,  \n",
        "                                validation_split=0.2, \n",
        "                                model__optim=RMSprop,\n",
        "                                model__learning_rate=0.01, \n",
        "                                model__layer_nodes=[512],\n",
        "                                model__dropout=0.5,\n",
        "                                model__activation=\"tanh\",\n",
        "                                epochs=30, \n",
        "                                batch_size=64),\n",
        "        transformer = FunctionTransformer(np.clip, \n",
        "                                          kw_args={'a_min':0,'a_max':128})))\n",
        "])\n",
        "model"
      ],
      "metadata": {
        "colab": {
          "base_uri": "https://localhost:8080/"
        },
        "id": "AGgXDP9kXneS",
        "outputId": "613516b8-f10e-43b2-dd15-a8078af4448c"
      },
      "execution_count": null,
      "outputs": [
        {
          "output_type": "execute_result",
          "data": {
            "text/plain": [
              "Pipeline(steps=[('scaler', MinMaxScaler()),\n",
              "                ('trf_reg',\n",
              "                 TransformedTargetRegressor(check_inverse=False,\n",
              "                                            regressor=KerasRegressor(batch_size=64, callbacks=[<keras.callbacks.EarlyStopping object at 0x7f3fd4507690>, <keras.callbacks.LambdaCallback object at 0x7f3fbc023810>], epochs=30, model=<function create_model at 0x7f3fc11ce170>, model__activation='tanh', model__dro...cs=[<keras.metrics.RootMeanSquaredError object at 0x7f3fbeb848d0>, <tensorflow_addons.metrics.r_square.RSquare object at 0x7f3fbc2c8e10>], model__optim=<class 'keras.optimizer_v2.rmsprop.RMSprop'>, model__print_summary=True, validation_split=0.2, verbose=0),\n",
              "                                            transformer=FunctionTransformer(func=<function clip at 0x7f40e9f9bc20>,\n",
              "                                                                            kw_args={'a_max': 128,\n",
              "                                                                                     'a_min': 0})))])"
            ]
          },
          "metadata": {},
          "execution_count": 86
        }
      ]
    },
    {
      "cell_type": "code",
      "source": [
        "model.fit(X_train, y_train)\n",
        "reclipped_y =  model['trf_reg'].transformer.transform(y_train)\n",
        "eval.show_result(reclipped_y, model.predict(X_train))\n",
        "print(\"Finished:\", datetime.datetime.now())"
      ],
      "metadata": {
        "colab": {
          "base_uri": "https://localhost:8080/"
        },
        "outputId": "e29e3c40-6c05-4cab-866e-e80638931931",
        "id": "SvRwAhkeXSDm"
      },
      "execution_count": null,
      "outputs": [
        {
          "output_type": "stream",
          "name": "stdout",
          "text": [
            "Model: \"sequential_767\"\n",
            "_________________________________________________________________\n",
            " Layer (type)                Output Shape              Param #   \n",
            "=================================================================\n",
            " dense_1534 (Dense)          (None, 512)               11264     \n",
            "                                                                 \n",
            " dropout_767 (Dropout)       (None, 512)               0         \n",
            "                                                                 \n",
            " dense_1535 (Dense)          (None, 1)                 513       \n",
            "                                                                 \n",
            "=================================================================\n",
            "Total params: 11,777\n",
            "Trainable params: 11,777\n",
            "Non-trainable params: 0\n",
            "_________________________________________________________________\n",
            "E 0\t: loss=838.904, rmse=28.964, r2=0.541; v_loss=468.957, v_rmse=21.655, v_r2=0.742; \n",
            "E 1\t: loss=493.887, rmse=22.224, r2=0.730; v_loss=440.370, v_rmse=20.985, v_r2=0.758; \n",
            "E 2\t: loss=458.042, rmse=21.402, r2=0.749; v_loss=465.912, v_rmse=21.585, v_r2=0.744; \n",
            "E 3\t: loss=437.639, rmse=20.920, r2=0.760; v_loss=457.287, v_rmse=21.384, v_r2=0.749; \n",
            "E 4\t: loss=427.951, rmse=20.687, r2=0.766; v_loss=401.129, v_rmse=20.028, v_r2=0.780; \n",
            "E 5\t: loss=419.612, rmse=20.484, r2=0.770; v_loss=408.865, v_rmse=20.220, v_r2=0.775; \n",
            "E 6\t: loss=420.278, rmse=20.501, r2=0.770; v_loss=439.703, v_rmse=20.969, v_r2=0.759; \n",
            "E 7\t: loss=410.436, rmse=20.259, r2=0.775; v_loss=395.441, v_rmse=19.886, v_r2=0.783; \n",
            "E 8\t: loss=410.444, rmse=20.259, r2=0.775; v_loss=395.515, v_rmse=19.888, v_r2=0.783; \n",
            "E 9\t: loss=406.890, rmse=20.172, r2=0.777; v_loss=403.579, v_rmse=20.089, v_r2=0.778; \n",
            "E 10\t: loss=405.002, rmse=20.125, r2=0.778; v_loss=408.452, v_rmse=20.210, v_r2=0.776; \n",
            "E 11\t: loss=402.101, rmse=20.052, r2=0.780; v_loss=402.297, v_rmse=20.057, v_r2=0.779; \n",
            "E 12\t: loss=400.506, rmse=20.013, r2=0.781; v_loss=390.625, v_rmse=19.764, v_r2=0.786; \n",
            "E 13\t: loss=400.672, rmse=20.017, r2=0.781; v_loss=435.520, v_rmse=20.869, v_r2=0.761; \n",
            "E 14\t: loss=400.133, rmse=20.003, r2=0.781; v_loss=406.249, v_rmse=20.156, v_r2=0.777; \n",
            "E 15\t: loss=394.553, rmse=19.863, r2=0.784; v_loss=397.044, v_rmse=19.926, v_r2=0.782; \n",
            "E 16\t: loss=397.832, rmse=19.946, r2=0.782; v_loss=394.259, v_rmse=19.856, v_r2=0.784; \n",
            "E 17\t: loss=395.173, rmse=19.879, r2=0.784; v_loss=402.182, v_rmse=20.054, v_r2=0.779; \n",
            "E 18\t: loss=391.848, rmse=19.795, r2=0.785; v_loss=387.547, v_rmse=19.686, v_r2=0.787; \n",
            "E 19\t: loss=390.880, rmse=19.771, r2=0.786; v_loss=387.856, v_rmse=19.694, v_r2=0.787; \n",
            "E 20\t: loss=390.304, rmse=19.756, r2=0.786; v_loss=386.106, v_rmse=19.650, v_r2=0.788; \n",
            "E 21\t: loss=387.796, rmse=19.693, r2=0.788; v_loss=451.778, v_rmse=21.255, v_r2=0.752; \n",
            "E 22\t: loss=386.844, rmse=19.668, r2=0.788; v_loss=388.903, v_rmse=19.721, v_r2=0.786; \n",
            "E 23\t: loss=386.234, rmse=19.653, r2=0.789; v_loss=385.443, v_rmse=19.633, v_r2=0.788; \n",
            "E 24\t: loss=388.855, rmse=19.719, r2=0.787; v_loss=398.101, v_rmse=19.952, v_r2=0.781; \n",
            "E 25\t: loss=385.341, rmse=19.630, r2=0.789; v_loss=400.994, v_rmse=20.025, v_r2=0.780; \n",
            "E 26\t: loss=385.543, rmse=19.635, r2=0.789; v_loss=411.373, v_rmse=20.282, v_r2=0.774; \n",
            "E 27\t: loss=385.066, rmse=19.623, r2=0.789; v_loss=386.582, v_rmse=19.662, v_r2=0.788; \n",
            "E 28\t: loss=386.048, rmse=19.648, r2=0.789; v_loss=385.699, v_rmse=19.639, v_r2=0.788; \n",
            "E 29\t: loss=383.444, rmse=19.582, r2=0.790; v_loss=416.516, v_rmse=20.409, v_r2=0.771; \n",
            "R2=0.796,RMSE=-19.302\n",
            "Finished: 2022-09-15 13:31:13.610326\n"
          ]
        }
      ]
    },
    {
      "cell_type": "code",
      "source": [
        "reclipped_y =  model['trf_reg'].transformer.transform(y_test)\n",
        "eval.show_result(reclipped_y, model.predict(X_test))\n",
        "print(\"Finished:\", datetime.datetime.now())"
      ],
      "metadata": {
        "colab": {
          "base_uri": "https://localhost:8080/"
        },
        "id": "LC21OkkFXW_5",
        "outputId": "04f50656-5a1c-493e-8f94-0b88fee57eb9"
      },
      "execution_count": null,
      "outputs": [
        {
          "output_type": "stream",
          "name": "stdout",
          "text": [
            "R2=0.808,RMSE=-17.733\n",
            "Finished: 2022-09-15 13:31:13.681717\n"
          ]
        }
      ]
    },
    {
      "cell_type": "markdown",
      "source": [
        "The best result we had so far in training and in testing"
      ],
      "metadata": {
        "id": "RRfdas0GXSDn"
      }
    },
    {
      "cell_type": "markdown",
      "source": [
        "## PolyFeatures(2) + Linear RUL"
      ],
      "metadata": {
        "id": "XnNMgO2019c0"
      }
    },
    {
      "cell_type": "code",
      "source": [
        "model = Pipeline([\n",
        "    ('poly_ft'  ,   PolynomialFeatures(degree=2, include_bias=False)),\n",
        "    ('scaler'  , StandardScaler()),\n",
        "    ('mlp'     , KerasRegressor(model=create_model, \n",
        "                                model__metrics=[RMSE(), R2()],\n",
        "                                model__loss='mse',\n",
        "                                model__degree=2,\n",
        "                                verbose=0, callbacks=[es],  \n",
        "                                ))\n",
        "])\n",
        "model"
      ],
      "metadata": {
        "colab": {
          "base_uri": "https://localhost:8080/"
        },
        "outputId": "fab654aa-62e6-4ddd-98a0-4fe164f5142c",
        "id": "4ppFFZKW10kf"
      },
      "execution_count": 49,
      "outputs": [
        {
          "output_type": "execute_result",
          "data": {
            "text/plain": [
              "Pipeline(steps=[('poly_ft', PolynomialFeatures(include_bias=False)),\n",
              "                ('scaler', StandardScaler()),\n",
              "                ('mlp',\n",
              "                 KerasRegressor(callbacks=[<keras.callbacks.EarlyStopping object at 0x7f1959d5b8d0>], model=<function create_model at 0x7f1959d24050>, model__degree=2, model__loss='mse', model__metrics=[<keras.metrics.RootMeanSquaredError object at 0x7f18c7fc1610>, <tensorflow_addons.metrics.r_square.RSquare object at 0x7f18c7f49810>], verbose=0))])"
            ]
          },
          "metadata": {},
          "execution_count": 49
        }
      ]
    },
    {
      "cell_type": "code",
      "source": [
        "# ~12min\n",
        "GRID_SEARCH = False\n",
        "if (GRID_SEARCH):\n",
        "    param_distributions = {\n",
        "        \"scaler\": [MinMaxScaler(),StandardScaler()],\n",
        "        \"mlp__epochs\": [1,5,10,20,30,50],\n",
        "        \"mlp__validation_split\":[0.1,0.2,0.4,0.5],\n",
        "        \"mlp__batch_size\": [32,64,128,256,512],\n",
        "        \"mlp__model__degree\": [2],\n",
        "        \"mlp__model__optim\":[Adam,RMSprop],\n",
        "        \"mlp__model__learning_rate\": [1e-2,1e-3,1e-4],\n",
        "        \"mlp__model__dropout\": [0.1,0.2,0.4,0.5],\n",
        "        \"mlp__model__layer_nodes\": all_permutations(layer_sizes, 1),\n",
        "        \"mlp__model__activation\": [\"relu\",\"tanh\", \"sigmoid\"]    \n",
        "    }\n",
        "    model = search.run_HR_GS(model, X_train, y_train, param_distributions, \n",
        "                             factor=2, scorer='r2', ignore_warnings=True, cv=3)\n",
        "    print(model)\n",
        "    print(\"Finished:\", datetime.datetime.now())"
      ],
      "metadata": {
        "colab": {
          "base_uri": "https://localhost:8080/"
        },
        "outputId": "95b5ff53-9af0-495b-a80e-6aee802dd5c8",
        "id": "mJC53HIG10kj"
      },
      "execution_count": 50,
      "outputs": [
        {
          "output_type": "stream",
          "name": "stdout",
          "text": [
            "n_iterations: 6\n",
            "n_required_iterations: 6\n",
            "n_possible_iterations: 6\n",
            "min_resources_: 500\n",
            "max_resources_: 20631\n",
            "aggressive_elimination: False\n",
            "factor: 2\n",
            "----------\n",
            "iter: 0\n",
            "n_candidates: 41\n",
            "n_resources: 500\n",
            "Fitting 3 folds for each of 41 candidates, totalling 123 fits\n"
          ]
        },
        {
          "output_type": "stream",
          "name": "stderr",
          "text": [
            "WARNING:tensorflow:5 out of the last 27 calls to <function Model.make_predict_function.<locals>.predict_function at 0x7f18c8120d40> triggered tf.function retracing. Tracing is expensive and the excessive number of tracings could be due to (1) creating @tf.function repeatedly in a loop, (2) passing tensors with different shapes, (3) passing Python objects instead of tensors. For (1), please define your @tf.function outside of the loop. For (2), @tf.function has experimental_relax_shapes=True option that relaxes argument shapes that can avoid unnecessary retracing. For (3), please refer to https://www.tensorflow.org/guide/function#controlling_retracing and https://www.tensorflow.org/api_docs/python/tf/function for  more details.\n",
            "WARNING:tensorflow:5 out of the last 27 calls to <function Model.make_predict_function.<locals>.predict_function at 0x7f18c7fb3830> triggered tf.function retracing. Tracing is expensive and the excessive number of tracings could be due to (1) creating @tf.function repeatedly in a loop, (2) passing tensors with different shapes, (3) passing Python objects instead of tensors. For (1), please define your @tf.function outside of the loop. For (2), @tf.function has experimental_relax_shapes=True option that relaxes argument shapes that can avoid unnecessary retracing. For (3), please refer to https://www.tensorflow.org/guide/function#controlling_retracing and https://www.tensorflow.org/api_docs/python/tf/function for  more details.\n",
            "WARNING:tensorflow:5 out of the last 13 calls to <function Model.make_test_function.<locals>.test_function at 0x7f18b173e290> triggered tf.function retracing. Tracing is expensive and the excessive number of tracings could be due to (1) creating @tf.function repeatedly in a loop, (2) passing tensors with different shapes, (3) passing Python objects instead of tensors. For (1), please define your @tf.function outside of the loop. For (2), @tf.function has experimental_relax_shapes=True option that relaxes argument shapes that can avoid unnecessary retracing. For (3), please refer to https://www.tensorflow.org/guide/function#controlling_retracing and https://www.tensorflow.org/api_docs/python/tf/function for  more details.\n",
            "WARNING:tensorflow:5 out of the last 15 calls to <function Model.make_train_function.<locals>.train_function at 0x7f18b19e30e0> triggered tf.function retracing. Tracing is expensive and the excessive number of tracings could be due to (1) creating @tf.function repeatedly in a loop, (2) passing tensors with different shapes, (3) passing Python objects instead of tensors. For (1), please define your @tf.function outside of the loop. For (2), @tf.function has experimental_relax_shapes=True option that relaxes argument shapes that can avoid unnecessary retracing. For (3), please refer to https://www.tensorflow.org/guide/function#controlling_retracing and https://www.tensorflow.org/api_docs/python/tf/function for  more details.\n",
            "WARNING:tensorflow:6 out of the last 14 calls to <function Model.make_test_function.<locals>.test_function at 0x7f18b1767290> triggered tf.function retracing. Tracing is expensive and the excessive number of tracings could be due to (1) creating @tf.function repeatedly in a loop, (2) passing tensors with different shapes, (3) passing Python objects instead of tensors. For (1), please define your @tf.function outside of the loop. For (2), @tf.function has experimental_relax_shapes=True option that relaxes argument shapes that can avoid unnecessary retracing. For (3), please refer to https://www.tensorflow.org/guide/function#controlling_retracing and https://www.tensorflow.org/api_docs/python/tf/function for  more details.\n",
            "WARNING:tensorflow:5 out of the last 13 calls to <function Model.make_train_function.<locals>.train_function at 0x7f18c7fa9cb0> triggered tf.function retracing. Tracing is expensive and the excessive number of tracings could be due to (1) creating @tf.function repeatedly in a loop, (2) passing tensors with different shapes, (3) passing Python objects instead of tensors. For (1), please define your @tf.function outside of the loop. For (2), @tf.function has experimental_relax_shapes=True option that relaxes argument shapes that can avoid unnecessary retracing. For (3), please refer to https://www.tensorflow.org/guide/function#controlling_retracing and https://www.tensorflow.org/api_docs/python/tf/function for  more details.\n"
          ]
        },
        {
          "output_type": "stream",
          "name": "stdout",
          "text": [
            "----------\n",
            "iter: 1\n",
            "n_candidates: 21\n",
            "n_resources: 1000\n",
            "Fitting 3 folds for each of 21 candidates, totalling 63 fits\n",
            "----------\n",
            "iter: 2\n",
            "n_candidates: 11\n",
            "n_resources: 2000\n",
            "Fitting 3 folds for each of 11 candidates, totalling 33 fits\n",
            "----------\n",
            "iter: 3\n",
            "n_candidates: 6\n",
            "n_resources: 4000\n",
            "Fitting 3 folds for each of 6 candidates, totalling 18 fits\n",
            "----------\n",
            "iter: 4\n",
            "n_candidates: 3\n",
            "n_resources: 8000\n",
            "Fitting 3 folds for each of 3 candidates, totalling 9 fits\n",
            "----------\n",
            "iter: 5\n",
            "n_candidates: 2\n",
            "n_resources: 16000\n",
            "Fitting 3 folds for each of 2 candidates, totalling 6 fits\n",
            "Best params:  {'scaler': StandardScaler(), 'mlp__validation_split': 0.2, 'mlp__model__optim': <class 'keras.optimizer_v2.rmsprop.RMSprop'>, 'mlp__model__learning_rate': 0.01, 'mlp__model__layer_nodes': [512], 'mlp__model__dropout': 0.4, 'mlp__model__degree': 2, 'mlp__model__activation': 'sigmoid', 'mlp__epochs': 50, 'mlp__batch_size': 512}\n",
            "Pipeline(steps=[('poly_ft', PolynomialFeatures(include_bias=False)),\n",
            "                ('scaler', StandardScaler()),\n",
            "                ('mlp',\n",
            "                 KerasRegressor(batch_size=512, callbacks=[<keras.callbacks.EarlyStopping object at 0x7f18a9c18990>], epochs=50, model=<function create_model at 0x7f1959d24050>, model__activation='sigmoid', model__degree=2, model__dropout=0.4, model__layer_nodes=[512], model__learning_rate=0.01, model__loss='mse', model__metrics=[<keras.metrics.RootMeanSquaredError object at 0x7f18c41cb210>, <tensorflow_addons.metrics.r_square.RSquare object at 0x7f18c41cb590>], model__optim=<class 'keras.optimizer_v2.rmsprop.RMSprop'>, validation_split=0.2, verbose=0))])\n",
            "Finished: 2022-09-16 11:23:08.730504\n"
          ]
        }
      ]
    },
    {
      "cell_type": "markdown",
      "source": [
        "Best Model:\n",
        "```\n",
        "{'scaler': StandardScaler(), \n",
        "'mlp__validation_split': 0.2, \n",
        "'mlp__model__optim': <class 'keras.optimizer_v2.rmsprop.RMSprop'>, \n",
        "'mlp__model__learning_rate': 0.01, \n",
        "'mlp__model__layer_nodes': [512], \n",
        "'mlp__model__dropout': 0.4, \n",
        "'mlp__model__degree': 2, \n",
        "'mlp__model__activation': 'sigmoid', \n",
        "'mlp__epochs': 50, \n",
        "'mlp__batch_size': 512}\n",
        "```"
      ],
      "metadata": {
        "id": "XYiWhyX110km"
      }
    },
    {
      "cell_type": "code",
      "source": [
        "model = Pipeline([\n",
        "    ('poly_ft'  ,   PolynomialFeatures(degree=2, include_bias=False)),\n",
        "    ('scaler'  , StandardScaler()),\n",
        "    ('mlp'     , KerasRegressor(model=create_model, \n",
        "                                model__metrics=[RMSE(), R2()],\n",
        "                                model__loss='mse',\n",
        "                                verbose=0, callbacks=[es,printerCallback],\n",
        "                                model__print_summary=True,   \n",
        "                                validation_split=0.2, \n",
        "                                model__optim=RMSprop,\n",
        "                                model__learning_rate=0.01, \n",
        "                                model__layer_nodes=[512],\n",
        "                                model__dropout=0.4,\n",
        "                                model__degree=2,\n",
        "                                model__activation=\"sigmoid\",\n",
        "                                epochs=50, \n",
        "                                batch_size=512))\n",
        "])\n",
        "model"
      ],
      "metadata": {
        "colab": {
          "base_uri": "https://localhost:8080/"
        },
        "outputId": "3c59bf6d-b792-4849-cd9f-cea80783ade7",
        "id": "Zd2zCRlE10kn"
      },
      "execution_count": 51,
      "outputs": [
        {
          "output_type": "execute_result",
          "data": {
            "text/plain": [
              "Pipeline(steps=[('poly_ft', PolynomialFeatures(include_bias=False)),\n",
              "                ('scaler', StandardScaler()),\n",
              "                ('mlp',\n",
              "                 KerasRegressor(batch_size=512, callbacks=[<keras.callbacks.EarlyStopping object at 0x7f1959d5b8d0>, <keras.callbacks.LambdaCallback object at 0x7f195016cf10>], epochs=50, model=<function create_model at 0x7f1959d24050>, model__activation='sigmoid', model__degree=2, model__dropout=0.4, model__layer_nodes=[512], model__learning_rate=0.01, model__loss='mse', model__metrics=[<keras.metrics.RootMeanSquaredError object at 0x7f18c42d1a50>, <tensorflow_addons.metrics.r_square.RSquare object at 0x7f18c42d1c50>], model__optim=<class 'keras.optimizer_v2.rmsprop.RMSprop'>, model__print_summary=True, validation_split=0.2, verbose=0))])"
            ]
          },
          "metadata": {},
          "execution_count": 51
        }
      ]
    },
    {
      "cell_type": "code",
      "source": [
        "model.fit(X_train, y_train)\n",
        "eval.show_result(y_train, model.predict(X_train))\n",
        "print(\"Finished:\", datetime.datetime.now())"
      ],
      "metadata": {
        "colab": {
          "base_uri": "https://localhost:8080/"
        },
        "outputId": "6ca58f2f-f53f-4d62-fd6e-26acac38f90d",
        "id": "B-Px76hy10kq"
      },
      "execution_count": 52,
      "outputs": [
        {
          "output_type": "stream",
          "name": "stdout",
          "text": [
            "Model: \"sequential_253\"\n",
            "_________________________________________________________________\n",
            " Layer (type)                Output Shape              Param #   \n",
            "=================================================================\n",
            " dense_506 (Dense)           (None, 512)               129536    \n",
            "                                                                 \n",
            " dropout_253 (Dropout)       (None, 512)               0         \n",
            "                                                                 \n",
            " dense_507 (Dense)           (None, 1)                 513       \n",
            "                                                                 \n",
            "=================================================================\n",
            "Total params: 130,049\n",
            "Trainable params: 130,049\n",
            "Non-trainable params: 0\n",
            "_________________________________________________________________\n",
            "E 0\t: loss=5057.620, rmse=71.117, r2=-0.163; v_loss=3196.043, v_rmse=56.534, v_r2=0.484; \n",
            "E 1\t: loss=1720.632, rmse=41.481, r2=0.604; v_loss=2960.801, v_rmse=54.413, v_r2=0.522; \n",
            "E 2\t: loss=1653.111, rmse=40.658, r2=0.620; v_loss=2736.813, v_rmse=52.315, v_r2=0.558; \n",
            "E 3\t: loss=1638.268, rmse=40.476, r2=0.623; v_loss=2730.283, v_rmse=52.252, v_r2=0.559; \n",
            "E 4\t: loss=1625.012, rmse=40.311, r2=0.626; v_loss=2740.308, v_rmse=52.348, v_r2=0.557; \n",
            "E 5\t: loss=1606.013, rmse=40.075, r2=0.631; v_loss=2820.159, v_rmse=53.105, v_r2=0.544; \n",
            "E 6\t: loss=1606.964, rmse=40.087, r2=0.630; v_loss=2604.456, v_rmse=51.034, v_r2=0.579; \n",
            "E 7\t: loss=1606.202, rmse=40.077, r2=0.631; v_loss=2668.386, v_rmse=51.656, v_r2=0.569; \n",
            "E 8\t: loss=1587.813, rmse=39.847, r2=0.635; v_loss=2648.820, v_rmse=51.467, v_r2=0.572; \n",
            "E 9\t: loss=1586.110, rmse=39.826, r2=0.635; v_loss=3018.028, v_rmse=54.937, v_r2=0.512; \n",
            "E 10\t: loss=1578.313, rmse=39.728, r2=0.637; v_loss=2802.641, v_rmse=52.940, v_r2=0.547; \n",
            "E 11\t: loss=1574.841, rmse=39.684, r2=0.638; v_loss=2593.199, v_rmse=50.923, v_r2=0.581; \n",
            "E 12\t: loss=1566.632, rmse=39.581, r2=0.640; v_loss=2852.686, v_rmse=53.411, v_r2=0.539; \n",
            "E 13\t: loss=1549.920, rmse=39.369, r2=0.643; v_loss=2627.878, v_rmse=51.263, v_r2=0.575; \n",
            "E 14\t: loss=1559.062, rmse=39.485, r2=0.641; v_loss=2675.007, v_rmse=51.720, v_r2=0.568; \n",
            "E 15\t: loss=1553.413, rmse=39.413, r2=0.643; v_loss=2776.835, v_rmse=52.696, v_r2=0.551; \n",
            "E 16\t: loss=1542.100, rmse=39.270, r2=0.645; v_loss=2613.190, v_rmse=51.119, v_r2=0.578; \n",
            "E 17\t: loss=1542.858, rmse=39.279, r2=0.645; v_loss=2953.031, v_rmse=54.342, v_r2=0.523; \n",
            "E 18\t: loss=1541.715, rmse=39.265, r2=0.645; v_loss=2659.498, v_rmse=51.570, v_r2=0.570; \n",
            "E 19\t: loss=1530.737, rmse=39.125, r2=0.648; v_loss=2859.923, v_rmse=53.478, v_r2=0.538; \n",
            "E 20\t: loss=1525.696, rmse=39.060, r2=0.649; v_loss=2648.275, v_rmse=51.461, v_r2=0.572; \n",
            "E 21\t: loss=1529.431, rmse=39.108, r2=0.648; v_loss=3072.285, v_rmse=55.428, v_r2=0.504; \n",
            "E 22\t: loss=1522.380, rmse=39.018, r2=0.650; v_loss=2924.243, v_rmse=54.076, v_r2=0.527; \n",
            "E 23\t: loss=1514.099, rmse=38.911, r2=0.652; v_loss=2811.606, v_rmse=53.025, v_r2=0.546; \n",
            "E 24\t: loss=1516.103, rmse=38.937, r2=0.651; v_loss=2814.883, v_rmse=53.055, v_r2=0.545; \n",
            "E 25\t: loss=1508.285, rmse=38.837, r2=0.653; v_loss=2923.265, v_rmse=54.067, v_r2=0.528; \n",
            "E 26\t: loss=1518.947, rmse=38.974, r2=0.651; v_loss=2856.383, v_rmse=53.445, v_r2=0.538; \n",
            "E 27\t: loss=1508.050, rmse=38.834, r2=0.653; v_loss=2782.242, v_rmse=52.747, v_r2=0.550; \n",
            "E 28\t: loss=1503.399, rmse=38.774, r2=0.654; v_loss=2649.618, v_rmse=51.474, v_r2=0.572; \n",
            "E 29\t: loss=1509.930, rmse=38.858, r2=0.653; v_loss=2646.393, v_rmse=51.443, v_r2=0.572; \n",
            "E 30\t: loss=1494.367, rmse=38.657, r2=0.656; v_loss=2633.829, v_rmse=51.321, v_r2=0.574; \n",
            "E 31\t: loss=1506.083, rmse=38.808, r2=0.654; v_loss=2576.338, v_rmse=50.758, v_r2=0.584; \n",
            "E 32\t: loss=1497.476, rmse=38.697, r2=0.656; v_loss=2708.250, v_rmse=52.041, v_r2=0.562; \n",
            "E 33\t: loss=1500.541, rmse=38.737, r2=0.655; v_loss=2989.322, v_rmse=54.675, v_r2=0.517; \n",
            "E 34\t: loss=1493.587, rmse=38.647, r2=0.656; v_loss=2664.660, v_rmse=51.620, v_r2=0.569; \n",
            "E 35\t: loss=1491.050, rmse=38.614, r2=0.657; v_loss=2573.920, v_rmse=50.734, v_r2=0.584; \n",
            "E 36\t: loss=1496.294, rmse=38.682, r2=0.656; v_loss=2672.859, v_rmse=51.700, v_r2=0.568; \n",
            "E 37\t: loss=1491.398, rmse=38.619, r2=0.657; v_loss=3099.339, v_rmse=55.672, v_r2=0.499; \n",
            "E 38\t: loss=1490.654, rmse=38.609, r2=0.657; v_loss=2690.143, v_rmse=51.867, v_r2=0.565; \n",
            "E 39\t: loss=1485.504, rmse=38.542, r2=0.658; v_loss=2574.053, v_rmse=50.735, v_r2=0.584; \n",
            "E 40\t: loss=1480.895, rmse=38.482, r2=0.659; v_loss=2661.047, v_rmse=51.585, v_r2=0.570; \n",
            "E 41\t: loss=1476.297, rmse=38.423, r2=0.660; v_loss=2533.465, v_rmse=50.334, v_r2=0.591; \n",
            "E 42\t: loss=1482.794, rmse=38.507, r2=0.659; v_loss=2662.808, v_rmse=51.602, v_r2=0.570; \n",
            "E 43\t: loss=1477.591, rmse=38.439, r2=0.660; v_loss=2831.034, v_rmse=53.207, v_r2=0.542; \n",
            "E 44\t: loss=1476.469, rmse=38.425, r2=0.660; v_loss=2936.182, v_rmse=54.187, v_r2=0.526; \n",
            "E 45\t: loss=1482.055, rmse=38.497, r2=0.659; v_loss=2645.109, v_rmse=51.431, v_r2=0.573; \n",
            "E 46\t: loss=1483.282, rmse=38.513, r2=0.659; v_loss=2816.157, v_rmse=53.067, v_r2=0.545; \n",
            "R2=0.643,RMSE=-41.179\n",
            "Finished: 2022-09-16 11:24:14.947796\n"
          ]
        }
      ]
    },
    {
      "cell_type": "code",
      "source": [
        "eval.show_result(y_test, model.predict(X_test))\n",
        "print(\"Finished:\", datetime.datetime.now())"
      ],
      "metadata": {
        "colab": {
          "base_uri": "https://localhost:8080/"
        },
        "outputId": "e873cb19-0ed7-4666-93b0-c281d640b013",
        "id": "wsJR7Aa910kr"
      },
      "execution_count": 53,
      "outputs": [
        {
          "output_type": "stream",
          "name": "stdout",
          "text": [
            "R2=0.333,RMSE=-33.941\n",
            "Finished: 2022-09-16 11:24:17.967695\n"
          ]
        }
      ]
    },
    {
      "cell_type": "markdown",
      "source": [
        "Bad generalization using 2 degree polynomial"
      ],
      "metadata": {
        "id": "cJeQqS7e7wZK"
      }
    },
    {
      "cell_type": "markdown",
      "source": [
        "## PolyFeatures(2) + Non-Linear RUL"
      ],
      "metadata": {
        "id": "7tVaOoTL2q0V"
      }
    },
    {
      "cell_type": "code",
      "source": [
        "model = Pipeline([\n",
        "    ('poly_ft'  ,   PolynomialFeatures(degree=2, include_bias=False)),\n",
        "    ('scaler'   ,   MinMaxScaler()),\n",
        "    ('trf_reg'  ,   TransformedTargetRegressor(\n",
        "        check_inverse=False,\n",
        "        regressor   = KerasRegressor(model=create_model, \n",
        "                                model__metrics=[RMSE(), R2()],\n",
        "                                model__loss='mse',\n",
        "                                model__degree=2,\n",
        "                                verbose=0, callbacks=[es],  \n",
        "                                ),\n",
        "        transformer = FunctionTransformer(np.clip, \n",
        "                                          kw_args={'a_min':0,'a_max':50})))\n",
        "])\n",
        "model"
      ],
      "metadata": {
        "colab": {
          "base_uri": "https://localhost:8080/"
        },
        "outputId": "cc5c6be2-b863-4e33-acfa-c4a6fef9f8fa",
        "id": "I4_yKNjd2q0X"
      },
      "execution_count": 54,
      "outputs": [
        {
          "output_type": "execute_result",
          "data": {
            "text/plain": [
              "Pipeline(steps=[('poly_ft', PolynomialFeatures(include_bias=False)),\n",
              "                ('scaler', MinMaxScaler()),\n",
              "                ('trf_reg',\n",
              "                 TransformedTargetRegressor(check_inverse=False,\n",
              "                                            regressor=KerasRegressor(callbacks=[<keras.callbacks.EarlyStopping object at 0x7f1959d5b8d0>], model=<function create_model at 0x7f1959d24050>, model__degree=2, model__loss='mse', model__metrics=[<keras.metrics.RootMeanSquaredError object at 0x7f18b1e9b7d0>, <tensorflow_addons.metrics.r_square.RSquare object at 0x7f18b1e9b590>], verbose=0),\n",
              "                                            transformer=FunctionTransformer(func=<function clip at 0x7f19d590bc20>,\n",
              "                                                                            kw_args={'a_max': 50,\n",
              "                                                                                     'a_min': 0})))])"
            ]
          },
          "metadata": {},
          "execution_count": 54
        }
      ]
    },
    {
      "cell_type": "code",
      "source": [
        "# ~10min\n",
        "GRID_SEARCH = False\n",
        "if (GRID_SEARCH):\n",
        "    param_distributions = {\n",
        "        \"scaler\": [MinMaxScaler(),StandardScaler()],\n",
        "        \"trf_reg__transformer__kw_args\": search.generate_clip_dicts(80,150,1),\n",
        "        \"trf_reg__regressor__model__degree\": [2],\n",
        "        \"trf_reg__regressor__epochs\": [1,5,10,20,30,50],\n",
        "        \"trf_reg__regressor__validation_split\":[0.1,0.2,0.4,0.5],\n",
        "        \"trf_reg__regressor__batch_size\": [32,64,128,256,512],\n",
        "        \"trf_reg__regressor__model__optim\":[Adam,RMSprop],\n",
        "        \"trf_reg__regressor__model__learning_rate\": [1e-2,1e-3,1e-4],\n",
        "        \"trf_reg__regressor__model__dropout\": [0.1,0.2,0.4,0.5],\n",
        "        \"trf_reg__regressor__model__layer_nodes\": all_permutations(layer_sizes, 1),\n",
        "        \"trf_reg__regressor__model__activation\": [\"relu\",\"tanh\", \"sigmoid\"]\n",
        "    }\n",
        "\n",
        "    model = search.run_HR_GS(model, X_train, y_train, param_distributions, \n",
        "                             factor=2, scorer='r2', ignore_warnings=True, cv=3)\n",
        "    print(model)\n",
        "    print(\"Finished:\", datetime.datetime.now())"
      ],
      "metadata": {
        "colab": {
          "base_uri": "https://localhost:8080/"
        },
        "outputId": "47cbad8c-5b7d-464d-83e3-69196c10f627",
        "id": "UqMZFZ8m2q0Z"
      },
      "execution_count": 55,
      "outputs": [
        {
          "output_type": "stream",
          "name": "stdout",
          "text": [
            "n_iterations: 6\n",
            "n_required_iterations: 6\n",
            "n_possible_iterations: 6\n",
            "min_resources_: 500\n",
            "max_resources_: 20631\n",
            "aggressive_elimination: False\n",
            "factor: 2\n",
            "----------\n",
            "iter: 0\n",
            "n_candidates: 41\n",
            "n_resources: 500\n",
            "Fitting 3 folds for each of 41 candidates, totalling 123 fits\n",
            "----------\n",
            "iter: 1\n",
            "n_candidates: 21\n",
            "n_resources: 1000\n",
            "Fitting 3 folds for each of 21 candidates, totalling 63 fits\n",
            "----------\n",
            "iter: 2\n",
            "n_candidates: 11\n",
            "n_resources: 2000\n",
            "Fitting 3 folds for each of 11 candidates, totalling 33 fits\n",
            "----------\n",
            "iter: 3\n",
            "n_candidates: 6\n",
            "n_resources: 4000\n",
            "Fitting 3 folds for each of 6 candidates, totalling 18 fits\n",
            "----------\n",
            "iter: 4\n",
            "n_candidates: 3\n",
            "n_resources: 8000\n",
            "Fitting 3 folds for each of 3 candidates, totalling 9 fits\n",
            "----------\n",
            "iter: 5\n",
            "n_candidates: 2\n",
            "n_resources: 16000\n",
            "Fitting 3 folds for each of 2 candidates, totalling 6 fits\n",
            "Best params:  {'trf_reg__transformer__kw_args': {'a_min': 0, 'a_max': 135}, 'trf_reg__regressor__validation_split': 0.5, 'trf_reg__regressor__model__optim': <class 'keras.optimizer_v2.adam.Adam'>, 'trf_reg__regressor__model__learning_rate': 0.01, 'trf_reg__regressor__model__layer_nodes': [16], 'trf_reg__regressor__model__dropout': 0.2, 'trf_reg__regressor__model__degree': 2, 'trf_reg__regressor__model__activation': 'relu', 'trf_reg__regressor__epochs': 50, 'trf_reg__regressor__batch_size': 32, 'scaler': StandardScaler()}\n",
            "Pipeline(steps=[('poly_ft', PolynomialFeatures(include_bias=False)),\n",
            "                ('scaler', StandardScaler()),\n",
            "                ('trf_reg',\n",
            "                 TransformedTargetRegressor(check_inverse=False,\n",
            "                                            regressor=KerasRegressor(batch_size=32, callbacks=[<keras.callbacks.EarlyStopping object at 0x7f18c458e7d0>], epochs=50, model=<function create_model at 0x7f1959d24050>, model__activation='relu', model__degre...1, model__loss='mse', model__metrics=[<keras.metrics.RootMeanSquaredError object at 0x7f18c4274cd0>, <tensorflow_addons.metrics.r_square.RSquare object at 0x7f18c5814dd0>], model__optim=<class 'keras.optimizer_v2.adam.Adam'>, validation_split=0.5, verbose=0),\n",
            "                                            transformer=FunctionTransformer(func=<function clip at 0x7f19d590bc20>,\n",
            "                                                                            kw_args={'a_max': 135,\n",
            "                                                                                     'a_min': 0})))])\n",
            "Finished: 2022-09-16 11:46:03.248889\n"
          ]
        }
      ]
    },
    {
      "cell_type": "markdown",
      "source": [
        "Best Model:\n",
        "```\n",
        "{'trf_reg__transformer__kw_args': {'a_min': 0, 'a_max': 135}, \n",
        "'trf_reg__regressor__validation_split': 0.5, \n",
        "'trf_reg__regressor__model__optim': <class 'keras.optimizer_v2.adam.Adam'>, \n",
        "'trf_reg__regressor__model__learning_rate': 0.01, \n",
        "'trf_reg__regressor__model__layer_nodes': [16], \n",
        "'trf_reg__regressor__model__dropout': 0.2, \n",
        "'trf_reg__regressor__model__degree': 2, \n",
        "'trf_reg__regressor__model__activation': 'relu', \n",
        "'trf_reg__regressor__epochs': 50, \n",
        "'trf_reg__regressor__batch_size': 32, \n",
        "'scaler': StandardScaler()}\n",
        "```"
      ],
      "metadata": {
        "id": "7lP1ErIS2q0a"
      }
    },
    {
      "cell_type": "code",
      "source": [
        "model = Pipeline([\n",
        "    ('poly_ft'  ,   PolynomialFeatures(degree=2,include_bias=False)),\n",
        "    ('scaler'   ,   StandardScaler()),\n",
        "    ('trf_reg'  ,   TransformedTargetRegressor(\n",
        "        check_inverse=False,\n",
        "        regressor   = KerasRegressor(\n",
        "                                model=create_model, \n",
        "                                model__metrics=[RMSE(), R2()],\n",
        "                                model__loss='mse',\n",
        "                                verbose=0, callbacks=[es,printerCallback], \n",
        "                                model__print_summary=True,   \n",
        "                                validation_split=0.5, \n",
        "                                model__optim=Adam,\n",
        "                                model__learning_rate=0.01, \n",
        "                                model__layer_nodes=[16],\n",
        "                                model__dropout=0.2,\n",
        "                                model__degree=2,\n",
        "                                model__activation=\"relu\",\n",
        "                                epochs=50, \n",
        "                                batch_size=32),\n",
        "        transformer = FunctionTransformer(np.clip, \n",
        "                                          kw_args={'a_min':0,'a_max':135})))\n",
        "])\n",
        "model"
      ],
      "metadata": {
        "colab": {
          "base_uri": "https://localhost:8080/"
        },
        "outputId": "5a9d5089-d61c-4a4f-e1ee-0904a4067c0f",
        "id": "TDmOy64U2q0b"
      },
      "execution_count": 56,
      "outputs": [
        {
          "output_type": "execute_result",
          "data": {
            "text/plain": [
              "Pipeline(steps=[('poly_ft', PolynomialFeatures(include_bias=False)),\n",
              "                ('scaler', StandardScaler()),\n",
              "                ('trf_reg',\n",
              "                 TransformedTargetRegressor(check_inverse=False,\n",
              "                                            regressor=KerasRegressor(batch_size=32, callbacks=[<keras.callbacks.EarlyStopping object at 0x7f1959d5b8d0>, <keras.callbacks.LambdaCallback object at 0x7f195016cf10>], epochs=50, model=<function create_model..._metrics=[<keras.metrics.RootMeanSquaredError object at 0x7f18b1fc0c10>, <tensorflow_addons.metrics.r_square.RSquare object at 0x7f18a9c57d10>], model__optim=<class 'keras.optimizer_v2.adam.Adam'>, model__print_summary=True, validation_split=0.5, verbose=0),\n",
              "                                            transformer=FunctionTransformer(func=<function clip at 0x7f19d590bc20>,\n",
              "                                                                            kw_args={'a_max': 135,\n",
              "                                                                                     'a_min': 0})))])"
            ]
          },
          "metadata": {},
          "execution_count": 56
        }
      ]
    },
    {
      "cell_type": "code",
      "source": [
        "model.fit(X_train, y_train)\n",
        "reclipped_y =  model['trf_reg'].transformer.transform(y_train)\n",
        "eval.show_result(reclipped_y, model.predict(X_train))\n",
        "print(\"Finished:\", datetime.datetime.now())"
      ],
      "metadata": {
        "colab": {
          "base_uri": "https://localhost:8080/"
        },
        "outputId": "21d5ce6c-2fd6-489c-addc-1cdf7916bcec",
        "id": "RaSuF0-Y2q0c"
      },
      "execution_count": 57,
      "outputs": [
        {
          "output_type": "stream",
          "name": "stdout",
          "text": [
            "Model: \"sequential_507\"\n",
            "_________________________________________________________________\n",
            " Layer (type)                Output Shape              Param #   \n",
            "=================================================================\n",
            " dense_1014 (Dense)          (None, 16)                4048      \n",
            "                                                                 \n",
            " dropout_507 (Dropout)       (None, 16)                0         \n",
            "                                                                 \n",
            " dense_1015 (Dense)          (None, 1)                 17        \n",
            "                                                                 \n",
            "=================================================================\n",
            "Total params: 4,065\n",
            "Trainable params: 4,065\n",
            "Non-trainable params: 0\n",
            "_________________________________________________________________\n",
            "E 0\t: loss=2450.159, rmse=49.499, r2=-0.206; v_loss=1878.002, v_rmse=43.336, v_r2=0.081; \n",
            "E 1\t: loss=1160.745, rmse=34.070, r2=0.428; v_loss=835.719, v_rmse=28.909, v_r2=0.591; \n",
            "E 2\t: loss=836.896, rmse=28.929, r2=0.588; v_loss=676.510, v_rmse=26.010, v_r2=0.669; \n",
            "E 3\t: loss=722.874, rmse=26.886, r2=0.644; v_loss=631.964, v_rmse=25.139, v_r2=0.691; \n",
            "E 4\t: loss=678.140, rmse=26.041, r2=0.666; v_loss=676.306, v_rmse=26.006, v_r2=0.669; \n",
            "E 5\t: loss=663.531, rmse=25.759, r2=0.673; v_loss=595.711, v_rmse=24.407, v_r2=0.709; \n",
            "E 6\t: loss=639.839, rmse=25.295, r2=0.685; v_loss=608.247, v_rmse=24.663, v_r2=0.702; \n",
            "E 7\t: loss=644.362, rmse=25.384, r2=0.683; v_loss=612.636, v_rmse=24.751, v_r2=0.700; \n",
            "E 8\t: loss=628.113, rmse=25.062, r2=0.691; v_loss=566.844, v_rmse=23.808, v_r2=0.723; \n",
            "E 9\t: loss=624.348, rmse=24.987, r2=0.693; v_loss=582.583, v_rmse=24.137, v_r2=0.715; \n",
            "E 10\t: loss=616.196, rmse=24.823, r2=0.697; v_loss=595.269, v_rmse=24.398, v_r2=0.709; \n",
            "E 11\t: loss=598.409, rmse=24.462, r2=0.705; v_loss=574.393, v_rmse=23.966, v_r2=0.719; \n",
            "E 12\t: loss=602.097, rmse=24.538, r2=0.704; v_loss=578.941, v_rmse=24.061, v_r2=0.717; \n",
            "E 13\t: loss=592.744, rmse=24.346, r2=0.708; v_loss=596.309, v_rmse=24.419, v_r2=0.708; \n",
            "E 14\t: loss=586.969, rmse=24.227, r2=0.711; v_loss=597.977, v_rmse=24.454, v_r2=0.707; \n",
            "E 15\t: loss=580.443, rmse=24.092, r2=0.714; v_loss=584.260, v_rmse=24.171, v_r2=0.714; \n",
            "E 16\t: loss=580.033, rmse=24.084, r2=0.714; v_loss=582.379, v_rmse=24.133, v_r2=0.715; \n",
            "E 17\t: loss=573.118, rmse=23.940, r2=0.718; v_loss=568.306, v_rmse=23.839, v_r2=0.722; \n",
            "E 18\t: loss=549.544, rmse=23.442, r2=0.729; v_loss=578.666, v_rmse=24.055, v_r2=0.717; \n",
            "E 19\t: loss=571.483, rmse=23.906, r2=0.719; v_loss=570.734, v_rmse=23.890, v_r2=0.721; \n",
            "E 20\t: loss=552.137, rmse=23.498, r2=0.728; v_loss=564.766, v_rmse=23.765, v_r2=0.724; \n",
            "E 21\t: loss=558.989, rmse=23.643, r2=0.725; v_loss=604.470, v_rmse=24.586, v_r2=0.704; \n",
            "E 22\t: loss=538.503, rmse=23.206, r2=0.735; v_loss=577.758, v_rmse=24.037, v_r2=0.717; \n",
            "E 23\t: loss=538.306, rmse=23.201, r2=0.735; v_loss=595.892, v_rmse=24.411, v_r2=0.708; \n",
            "E 24\t: loss=535.941, rmse=23.150, r2=0.736; v_loss=569.795, v_rmse=23.870, v_r2=0.721; \n",
            "E 25\t: loss=528.560, rmse=22.990, r2=0.740; v_loss=564.633, v_rmse=23.762, v_r2=0.724; \n",
            "E 26\t: loss=526.613, rmse=22.948, r2=0.741; v_loss=568.015, v_rmse=23.833, v_r2=0.722; \n",
            "E 27\t: loss=529.333, rmse=23.007, r2=0.739; v_loss=578.369, v_rmse=24.049, v_r2=0.717; \n",
            "E 28\t: loss=522.915, rmse=22.867, r2=0.743; v_loss=600.066, v_rmse=24.496, v_r2=0.706; \n",
            "E 29\t: loss=514.703, rmse=22.687, r2=0.747; v_loss=555.826, v_rmse=23.576, v_r2=0.728; \n",
            "E 30\t: loss=513.621, rmse=22.663, r2=0.747; v_loss=576.181, v_rmse=24.004, v_r2=0.718; \n",
            "E 31\t: loss=503.243, rmse=22.433, r2=0.752; v_loss=580.839, v_rmse=24.101, v_r2=0.716; \n",
            "E 32\t: loss=505.049, rmse=22.473, r2=0.751; v_loss=554.757, v_rmse=23.553, v_r2=0.729; \n",
            "E 33\t: loss=500.203, rmse=22.365, r2=0.754; v_loss=576.621, v_rmse=24.013, v_r2=0.718; \n",
            "E 34\t: loss=496.617, rmse=22.285, r2=0.755; v_loss=555.739, v_rmse=23.574, v_r2=0.728; \n",
            "E 35\t: loss=507.188, rmse=22.521, r2=0.750; v_loss=549.575, v_rmse=23.443, v_r2=0.731; \n",
            "E 36\t: loss=493.342, rmse=22.211, r2=0.757; v_loss=553.996, v_rmse=23.537, v_r2=0.729; \n",
            "E 37\t: loss=495.971, rmse=22.270, r2=0.756; v_loss=539.737, v_rmse=23.232, v_r2=0.736; \n",
            "E 38\t: loss=492.537, rmse=22.193, r2=0.757; v_loss=556.856, v_rmse=23.598, v_r2=0.728; \n",
            "E 39\t: loss=489.190, rmse=22.118, r2=0.759; v_loss=552.937, v_rmse=23.515, v_r2=0.729; \n",
            "E 40\t: loss=494.777, rmse=22.244, r2=0.756; v_loss=568.734, v_rmse=23.848, v_r2=0.722; \n",
            "E 41\t: loss=482.349, rmse=21.962, r2=0.762; v_loss=548.344, v_rmse=23.417, v_r2=0.732; \n",
            "E 42\t: loss=477.719, rmse=21.857, r2=0.765; v_loss=545.441, v_rmse=23.355, v_r2=0.733; \n",
            "E 43\t: loss=484.990, rmse=22.022, r2=0.761; v_loss=547.379, v_rmse=23.396, v_r2=0.732; \n",
            "E 44\t: loss=476.649, rmse=21.832, r2=0.765; v_loss=561.027, v_rmse=23.686, v_r2=0.725; \n",
            "E 45\t: loss=476.699, rmse=21.833, r2=0.765; v_loss=571.994, v_rmse=23.916, v_r2=0.720; \n",
            "E 46\t: loss=469.657, rmse=21.672, r2=0.769; v_loss=557.251, v_rmse=23.606, v_r2=0.727; \n",
            "E 47\t: loss=465.526, rmse=21.576, r2=0.771; v_loss=551.758, v_rmse=23.490, v_r2=0.730; \n",
            "E 48\t: loss=471.995, rmse=21.725, r2=0.768; v_loss=560.391, v_rmse=23.673, v_r2=0.726; \n",
            "E 49\t: loss=471.013, rmse=21.703, r2=0.768; v_loss=544.369, v_rmse=23.332, v_r2=0.734; \n",
            "R2=0.776,RMSE=-21.369\n",
            "Finished: 2022-09-16 11:49:10.039298\n"
          ]
        }
      ]
    },
    {
      "cell_type": "code",
      "source": [
        "reclipped_y =  model['trf_reg'].transformer.transform(y_test)\n",
        "eval.show_result(reclipped_y, model.predict(X_test))\n",
        "print(\"Finished:\", datetime.datetime.now())"
      ],
      "metadata": {
        "colab": {
          "base_uri": "https://localhost:8080/"
        },
        "outputId": "03c26556-5088-463e-e54e-3059e6ed31ac",
        "id": "u-p17w2q2q0d"
      },
      "execution_count": 58,
      "outputs": [
        {
          "output_type": "stream",
          "name": "stdout",
          "text": [
            "R2=0.775,RMSE=-19.536\n",
            "Finished: 2022-09-16 11:50:29.954140\n"
          ]
        }
      ]
    },
    {
      "cell_type": "markdown",
      "source": [
        "Good generalization, but worse than regular features"
      ],
      "metadata": {
        "id": "BEmi7z3WGQLy"
      }
    },
    {
      "cell_type": "markdown",
      "source": [
        "## PolyFeatures(3) + Linear RUL"
      ],
      "metadata": {
        "id": "meN5SDTg_CzY"
      }
    },
    {
      "cell_type": "code",
      "source": [
        "model = Pipeline([\n",
        "    ('poly_ft'  ,   PolynomialFeatures(degree=3, include_bias=False)),\n",
        "    ('scaler'  , StandardScaler()),\n",
        "    ('mlp'     , KerasRegressor(model=create_model, \n",
        "                                model__metrics=[RMSE(), R2()],\n",
        "                                model__loss='mse',\n",
        "                                model__degree=3,\n",
        "                                verbose=0, callbacks=[es],  \n",
        "                                ))\n",
        "])\n",
        "model"
      ],
      "metadata": {
        "colab": {
          "base_uri": "https://localhost:8080/"
        },
        "outputId": "51632beb-3946-4027-b5ec-9769df40a4c2",
        "id": "DvY1EKKO_CzZ"
      },
      "execution_count": 59,
      "outputs": [
        {
          "output_type": "execute_result",
          "data": {
            "text/plain": [
              "Pipeline(steps=[('poly_ft', PolynomialFeatures(degree=3, include_bias=False)),\n",
              "                ('scaler', StandardScaler()),\n",
              "                ('mlp',\n",
              "                 KerasRegressor(callbacks=[<keras.callbacks.EarlyStopping object at 0x7f1959d5b8d0>], model=<function create_model at 0x7f1959d24050>, model__degree=3, model__loss='mse', model__metrics=[<keras.metrics.RootMeanSquaredError object at 0x7f18b190e390>, <tensorflow_addons.metrics.r_square.RSquare object at 0x7f18c89e9910>], verbose=0))])"
            ]
          },
          "metadata": {},
          "execution_count": 59
        }
      ]
    },
    {
      "cell_type": "code",
      "source": [
        "# ~15min\n",
        "GRID_SEARCH = False\n",
        "if (GRID_SEARCH):\n",
        "    param_distributions = {\n",
        "        \"scaler\": [MinMaxScaler(),StandardScaler()],\n",
        "        \"mlp__epochs\": [1,5,10,20,30,50],\n",
        "        \"mlp__validation_split\":[0.1,0.2,0.4,0.5],\n",
        "        \"mlp__batch_size\": [32,64,128,256,512],\n",
        "        \"mlp__model__degree\": [3],\n",
        "        \"mlp__model__optim\":[Adam,RMSprop],\n",
        "        \"mlp__model__learning_rate\": [1e-2,1e-3,1e-4],\n",
        "        \"mlp__model__dropout\": [0.1,0.2,0.4,0.5],\n",
        "        \"mlp__model__layer_nodes\": all_permutations(layer_sizes, 1),\n",
        "        \"mlp__model__activation\": [\"relu\",\"tanh\", \"sigmoid\"]    \n",
        "    }\n",
        "\n",
        "    model = search.run_HR_GS(model, X_train, y_train, param_distributions, \n",
        "                             factor=2, scorer='r2', ignore_warnings=True, cv=3)\n",
        "    print(model)\n",
        "    print(\"Finished:\", datetime.datetime.now())"
      ],
      "metadata": {
        "colab": {
          "base_uri": "https://localhost:8080/"
        },
        "outputId": "471335a3-140a-4333-9f43-5a6df7d1ef7c",
        "id": "tzbPLuVT_Cza"
      },
      "execution_count": 60,
      "outputs": [
        {
          "output_type": "stream",
          "name": "stdout",
          "text": [
            "n_iterations: 6\n",
            "n_required_iterations: 6\n",
            "n_possible_iterations: 6\n",
            "min_resources_: 500\n",
            "max_resources_: 20631\n",
            "aggressive_elimination: False\n",
            "factor: 2\n",
            "----------\n",
            "iter: 0\n",
            "n_candidates: 41\n",
            "n_resources: 500\n",
            "Fitting 3 folds for each of 41 candidates, totalling 123 fits\n",
            "----------\n",
            "iter: 1\n",
            "n_candidates: 21\n",
            "n_resources: 1000\n",
            "Fitting 3 folds for each of 21 candidates, totalling 63 fits\n",
            "----------\n",
            "iter: 2\n",
            "n_candidates: 11\n",
            "n_resources: 2000\n",
            "Fitting 3 folds for each of 11 candidates, totalling 33 fits\n",
            "----------\n",
            "iter: 3\n",
            "n_candidates: 6\n",
            "n_resources: 4000\n",
            "Fitting 3 folds for each of 6 candidates, totalling 18 fits\n",
            "----------\n",
            "iter: 4\n",
            "n_candidates: 3\n",
            "n_resources: 8000\n",
            "Fitting 3 folds for each of 3 candidates, totalling 9 fits\n",
            "----------\n",
            "iter: 5\n",
            "n_candidates: 2\n",
            "n_resources: 16000\n",
            "Fitting 3 folds for each of 2 candidates, totalling 6 fits\n",
            "Best params:  {'scaler': StandardScaler(), 'mlp__validation_split': 0.2, 'mlp__model__optim': <class 'keras.optimizer_v2.rmsprop.RMSprop'>, 'mlp__model__learning_rate': 0.01, 'mlp__model__layer_nodes': [512], 'mlp__model__dropout': 0.4, 'mlp__model__degree': 3, 'mlp__model__activation': 'sigmoid', 'mlp__epochs': 50, 'mlp__batch_size': 512}\n",
            "Pipeline(steps=[('poly_ft', PolynomialFeatures(degree=3, include_bias=False)),\n",
            "                ('scaler', StandardScaler()),\n",
            "                ('mlp',\n",
            "                 KerasRegressor(batch_size=512, callbacks=[<keras.callbacks.EarlyStopping object at 0x7f18b18f4290>], epochs=50, model=<function create_model at 0x7f1959d24050>, model__activation='sigmoid', model__degree=3, model__dropout=0.4, model__layer_nodes=[512], model__learning_rate=0.01, model__loss='mse', model__metrics=[<keras.metrics.RootMeanSquaredError object at 0x7f18ae55b7d0>, <tensorflow_addons.metrics.r_square.RSquare object at 0x7f18b1d54dd0>], model__optim=<class 'keras.optimizer_v2.rmsprop.RMSprop'>, validation_split=0.2, verbose=0))])\n",
            "Finished: 2022-09-16 12:06:39.775037\n"
          ]
        }
      ]
    },
    {
      "cell_type": "markdown",
      "source": [
        "Best Model:\n",
        "```\n",
        "{'scaler': StandardScaler(), \n",
        "'mlp__validation_split': 0.2, \n",
        "'mlp__model__optim': <class 'keras.optimizer_v2.rmsprop.RMSprop'>, \n",
        "'mlp__model__learning_rate': 0.01, \n",
        "'mlp__model__layer_nodes': [512], \n",
        "'mlp__model__dropout': 0.4, \n",
        "'mlp__model__degree': 3, \n",
        "'mlp__model__activation': 'sigmoid', \n",
        "'mlp__epochs': 50, \n",
        "'mlp__batch_size': 512}\n",
        "```"
      ],
      "metadata": {
        "id": "-Ut3PpL5_Czc"
      }
    },
    {
      "cell_type": "code",
      "source": [
        "model = Pipeline([\n",
        "    ('poly_ft'  ,   PolynomialFeatures(degree=3, include_bias=False)),\n",
        "    ('scaler'  , StandardScaler()),\n",
        "    ('mlp'     , KerasRegressor(model=create_model, \n",
        "                                model__metrics=[RMSE(), R2()],\n",
        "                                model__loss='mse',\n",
        "                                verbose=0, callbacks=[es,printerCallback],\n",
        "                                model__print_summary=True,   \n",
        "                                validation_split=0.2, \n",
        "                                model__optim=RMSprop,\n",
        "                                model__learning_rate=0.01, \n",
        "                                model__layer_nodes=[512],\n",
        "                                model__dropout=0.4,\n",
        "                                model__degree=3,\n",
        "                                model__activation=\"sigmoid\",\n",
        "                                epochs=50, \n",
        "                                batch_size=512))\n",
        "])\n",
        "model"
      ],
      "metadata": {
        "colab": {
          "base_uri": "https://localhost:8080/"
        },
        "outputId": "e1ca43fa-91bc-4c35-f0ea-d66e65e2ff89",
        "id": "lODOMlmR_Czd"
      },
      "execution_count": 61,
      "outputs": [
        {
          "output_type": "execute_result",
          "data": {
            "text/plain": [
              "Pipeline(steps=[('poly_ft', PolynomialFeatures(degree=3, include_bias=False)),\n",
              "                ('scaler', StandardScaler()),\n",
              "                ('mlp',\n",
              "                 KerasRegressor(batch_size=512, callbacks=[<keras.callbacks.EarlyStopping object at 0x7f1959d5b8d0>, <keras.callbacks.LambdaCallback object at 0x7f195016cf10>], epochs=50, model=<function create_model at 0x7f1959d24050>, model__activation='sigmoid', model...3, model__dropout=0.4, model__layer_nodes=[512], model__learning_rate=0.01, model__loss='mse', model__metrics=[<keras.metrics.RootMeanSquaredError object at 0x7f18c57d9e90>, <tensorflow_addons.metrics.r_square.RSquare object at 0x7f18b02418d0>], model__optim=<class 'keras.optimizer_v2.rmsprop.RMSprop'>, model__print_summary=True, validation_split=0.2, verbose=0))])"
            ]
          },
          "metadata": {},
          "execution_count": 61
        }
      ]
    },
    {
      "cell_type": "code",
      "source": [
        "model.fit(X_train, y_train)\n",
        "eval.show_result(y_train, model.predict(X_train))\n",
        "print(\"Finished:\", datetime.datetime.now())"
      ],
      "metadata": {
        "colab": {
          "base_uri": "https://localhost:8080/"
        },
        "outputId": "8ff788bd-9a1f-4fe3-b577-d0b9362b2ab8",
        "id": "mwR4EzwN_Czd"
      },
      "execution_count": 62,
      "outputs": [
        {
          "output_type": "stream",
          "name": "stdout",
          "text": [
            "Model: \"sequential_761\"\n",
            "_________________________________________________________________\n",
            " Layer (type)                Output Shape              Param #   \n",
            "=================================================================\n",
            " dense_1522 (Dense)          (None, 512)               1036288   \n",
            "                                                                 \n",
            " dropout_761 (Dropout)       (None, 512)               0         \n",
            "                                                                 \n",
            " dense_1523 (Dense)          (None, 1)                 513       \n",
            "                                                                 \n",
            "=================================================================\n",
            "Total params: 1,036,801\n",
            "Trainable params: 1,036,801\n",
            "Non-trainable params: 0\n",
            "_________________________________________________________________\n",
            "E 0\t: loss=5458.847, rmse=73.884, r2=-0.256; v_loss=3615.433, v_rmse=60.128, v_r2=0.416; \n",
            "E 1\t: loss=1796.632, rmse=42.387, r2=0.587; v_loss=2949.010, v_rmse=54.305, v_r2=0.523; \n",
            "E 2\t: loss=1698.000, rmse=41.207, r2=0.609; v_loss=2761.931, v_rmse=52.554, v_r2=0.554; \n",
            "E 3\t: loss=1675.702, rmse=40.935, r2=0.615; v_loss=2764.185, v_rmse=52.576, v_r2=0.553; \n",
            "E 4\t: loss=1669.086, rmse=40.854, r2=0.616; v_loss=2741.880, v_rmse=52.363, v_r2=0.557; \n",
            "E 5\t: loss=1658.792, rmse=40.728, r2=0.618; v_loss=2821.042, v_rmse=53.113, v_r2=0.544; \n",
            "E 6\t: loss=1667.306, rmse=40.833, r2=0.616; v_loss=2631.792, v_rmse=51.301, v_r2=0.575; \n",
            "E 7\t: loss=1661.105, rmse=40.757, r2=0.618; v_loss=2774.665, v_rmse=52.675, v_r2=0.552; \n",
            "E 8\t: loss=1649.179, rmse=40.610, r2=0.621; v_loss=2768.550, v_rmse=52.617, v_r2=0.553; \n",
            "E 9\t: loss=1653.338, rmse=40.661, r2=0.620; v_loss=2934.544, v_rmse=54.171, v_r2=0.526; \n",
            "E 10\t: loss=1637.914, rmse=40.471, r2=0.623; v_loss=2824.758, v_rmse=53.148, v_r2=0.544; \n",
            "E 11\t: loss=1655.116, rmse=40.683, r2=0.619; v_loss=2714.577, v_rmse=52.102, v_r2=0.561; \n",
            "E 12\t: loss=1644.620, rmse=40.554, r2=0.622; v_loss=2825.742, v_rmse=53.158, v_r2=0.543; \n",
            "E 13\t: loss=1639.911, rmse=40.496, r2=0.623; v_loss=2713.071, v_rmse=52.087, v_r2=0.562; \n",
            "E 14\t: loss=1641.671, rmse=40.518, r2=0.622; v_loss=2763.502, v_rmse=52.569, v_r2=0.553; \n",
            "E 15\t: loss=1647.284, rmse=40.587, r2=0.621; v_loss=2828.758, v_rmse=53.186, v_r2=0.543; \n",
            "R2=0.613,RMSE=-42.823\n",
            "Finished: 2022-09-16 12:08:01.614302\n"
          ]
        }
      ]
    },
    {
      "cell_type": "code",
      "source": [
        "eval.show_result(y_test, model.predict(X_test))\n",
        "print(\"Finished:\", datetime.datetime.now())"
      ],
      "metadata": {
        "colab": {
          "base_uri": "https://localhost:8080/"
        },
        "outputId": "e47b2d35-2e45-4965-df94-0bb32ae74575",
        "id": "ygI3aJw0_Cze"
      },
      "execution_count": 63,
      "outputs": [
        {
          "output_type": "stream",
          "name": "stdout",
          "text": [
            "R2=0.509,RMSE=-29.129\n",
            "Finished: 2022-09-16 12:08:01.694012\n"
          ]
        }
      ]
    },
    {
      "cell_type": "markdown",
      "source": [
        "Similar architecture to the NL 1-degree polynomial, but worse results. Slight improvement over 1-degree Linear, better than 2-degree."
      ],
      "metadata": {
        "id": "QZuSahvj_Czf"
      }
    },
    {
      "cell_type": "markdown",
      "source": [
        "## PolyFeatures(3) + Non-Linear RUL"
      ],
      "metadata": {
        "id": "0UbrVccP_Czf"
      }
    },
    {
      "cell_type": "code",
      "source": [
        "model = Pipeline([\n",
        "    ('poly_ft'  ,   PolynomialFeatures(degree=3, include_bias=False)),\n",
        "    ('scaler'   ,   MinMaxScaler()),\n",
        "    ('trf_reg'  ,   TransformedTargetRegressor(\n",
        "        check_inverse=False,\n",
        "        regressor   = KerasRegressor(model=create_model, \n",
        "                                model__metrics=[RMSE(), R2()],\n",
        "                                model__loss='mse',\n",
        "                                model__degree=3,\n",
        "                                verbose=0, callbacks=[es],  \n",
        "                                ),\n",
        "        transformer = FunctionTransformer(np.clip, \n",
        "                                          kw_args={'a_min':0,'a_max':50})))\n",
        "])\n",
        "model"
      ],
      "metadata": {
        "colab": {
          "base_uri": "https://localhost:8080/"
        },
        "outputId": "6dc777fd-9657-4902-a475-a4b5253b3089",
        "id": "yq8yTrfu_Czg"
      },
      "execution_count": 64,
      "outputs": [
        {
          "output_type": "execute_result",
          "data": {
            "text/plain": [
              "Pipeline(steps=[('poly_ft', PolynomialFeatures(degree=3, include_bias=False)),\n",
              "                ('scaler', MinMaxScaler()),\n",
              "                ('trf_reg',\n",
              "                 TransformedTargetRegressor(check_inverse=False,\n",
              "                                            regressor=KerasRegressor(callbacks=[<keras.callbacks.EarlyStopping object at 0x7f1959d5b8d0>], model=<function create_model at 0x7f1959d24050>, model__degree=3, model__loss='mse', model__metrics=[<keras.metrics.RootMeanSquaredError object at 0x7f18b0121350>, <tensorflow_addons.metrics.r_square.RSquare object at 0x7f18b0121410>], verbose=0),\n",
              "                                            transformer=FunctionTransformer(func=<function clip at 0x7f19d590bc20>,\n",
              "                                                                            kw_args={'a_max': 50,\n",
              "                                                                                     'a_min': 0})))])"
            ]
          },
          "metadata": {},
          "execution_count": 64
        }
      ]
    },
    {
      "cell_type": "code",
      "source": [
        "# ~10min\n",
        "GRID_SEARCH = True\n",
        "if (GRID_SEARCH):\n",
        "    param_distributions = {\n",
        "        \"scaler\": [MinMaxScaler(),StandardScaler()],\n",
        "        \"trf_reg__transformer__kw_args\": search.generate_clip_dicts(80,150,1),\n",
        "        \"trf_reg__regressor__model__degree\": [3],\n",
        "        \"trf_reg__regressor__epochs\": [1,5,10,20,30,50],\n",
        "        \"trf_reg__regressor__validation_split\":[0.1,0.2,0.4,0.5],\n",
        "        \"trf_reg__regressor__batch_size\": [32,64,128,256,512],\n",
        "        \"trf_reg__regressor__model__optim\":[Adam,RMSprop],\n",
        "        \"trf_reg__regressor__model__learning_rate\": [1e-2,1e-3,1e-4],\n",
        "        \"trf_reg__regressor__model__dropout\": [0.1,0.2,0.4,0.5],\n",
        "        \"trf_reg__regressor__model__layer_nodes\": all_permutations(layer_sizes, 1),\n",
        "        \"trf_reg__regressor__model__activation\": [\"relu\",\"tanh\", \"sigmoid\"]\n",
        "    }\n",
        "\n",
        "    model = search.run_HR_GS(model, X_train, y_train, param_distributions, \n",
        "                             factor=2, scorer='r2', ignore_warnings=True, cv=3)\n",
        "    print(model)\n",
        "    print(\"Finished:\", datetime.datetime.now())"
      ],
      "metadata": {
        "colab": {
          "base_uri": "https://localhost:8080/"
        },
        "outputId": "2b964268-4509-4230-bc09-d3e1fbb525a1",
        "id": "i1w6vrL1_Czh"
      },
      "execution_count": 65,
      "outputs": [
        {
          "output_type": "stream",
          "name": "stdout",
          "text": [
            "n_iterations: 6\n",
            "n_required_iterations: 6\n",
            "n_possible_iterations: 6\n",
            "min_resources_: 500\n",
            "max_resources_: 20631\n",
            "aggressive_elimination: False\n",
            "factor: 2\n",
            "----------\n",
            "iter: 0\n",
            "n_candidates: 41\n",
            "n_resources: 500\n",
            "Fitting 3 folds for each of 41 candidates, totalling 123 fits\n",
            "----------\n",
            "iter: 1\n",
            "n_candidates: 21\n",
            "n_resources: 1000\n",
            "Fitting 3 folds for each of 21 candidates, totalling 63 fits\n",
            "----------\n",
            "iter: 2\n",
            "n_candidates: 11\n",
            "n_resources: 2000\n",
            "Fitting 3 folds for each of 11 candidates, totalling 33 fits\n",
            "----------\n",
            "iter: 3\n",
            "n_candidates: 6\n",
            "n_resources: 4000\n",
            "Fitting 3 folds for each of 6 candidates, totalling 18 fits\n",
            "----------\n",
            "iter: 4\n",
            "n_candidates: 3\n",
            "n_resources: 8000\n",
            "Fitting 3 folds for each of 3 candidates, totalling 9 fits\n",
            "----------\n",
            "iter: 5\n",
            "n_candidates: 2\n",
            "n_resources: 16000\n",
            "Fitting 3 folds for each of 2 candidates, totalling 6 fits\n",
            "Best params:  {'trf_reg__transformer__kw_args': {'a_min': 0, 'a_max': 135}, 'trf_reg__regressor__validation_split': 0.5, 'trf_reg__regressor__model__optim': <class 'keras.optimizer_v2.adam.Adam'>, 'trf_reg__regressor__model__learning_rate': 0.01, 'trf_reg__regressor__model__layer_nodes': [16], 'trf_reg__regressor__model__dropout': 0.2, 'trf_reg__regressor__model__degree': 3, 'trf_reg__regressor__model__activation': 'relu', 'trf_reg__regressor__epochs': 50, 'trf_reg__regressor__batch_size': 32, 'scaler': StandardScaler()}\n",
            "Pipeline(steps=[('poly_ft', PolynomialFeatures(degree=3, include_bias=False)),\n",
            "                ('scaler', StandardScaler()),\n",
            "                ('trf_reg',\n",
            "                 TransformedTargetRegressor(check_inverse=False,\n",
            "                                            regressor=KerasRegressor(batch_size=32, callbacks=[<keras.callbacks.EarlyStopping object at 0x7f18b19bc5d0>], epochs=50, model=<function create_model at 0x7f1959d24050>, model__activation='relu', mod...1, model__loss='mse', model__metrics=[<keras.metrics.RootMeanSquaredError object at 0x7f18c440d590>, <tensorflow_addons.metrics.r_square.RSquare object at 0x7f18c564f150>], model__optim=<class 'keras.optimizer_v2.adam.Adam'>, validation_split=0.5, verbose=0),\n",
            "                                            transformer=FunctionTransformer(func=<function clip at 0x7f19d590bc20>,\n",
            "                                                                            kw_args={'a_max': 135,\n",
            "                                                                                     'a_min': 0})))])\n",
            "Finished: 2022-09-16 12:33:02.858625\n"
          ]
        }
      ]
    },
    {
      "cell_type": "markdown",
      "source": [
        "Best Model:\n",
        "```\n",
        "{'trf_reg__transformer__kw_args': {'a_min': 0, 'a_max': 135}, \n",
        "'trf_reg__regressor__validation_split': 0.5, \n",
        "'trf_reg__regressor__model__optim': <class 'keras.optimizer_v2.adam.Adam'>, \n",
        "'trf_reg__regressor__model__learning_rate': 0.01, \n",
        "'trf_reg__regressor__model__layer_nodes': [16], \n",
        "'trf_reg__regressor__model__dropout': 0.2, \n",
        "'trf_reg__regressor__model__degree': 3, \n",
        "'trf_reg__regressor__model__activation': 'relu', \n",
        "'trf_reg__regressor__epochs': 50, \n",
        "'trf_reg__regressor__batch_size': 32, \n",
        "'scaler': StandardScaler()}\n",
        "```"
      ],
      "metadata": {
        "id": "1tQVQNAD_Czh"
      }
    },
    {
      "cell_type": "code",
      "source": [
        "model = Pipeline([\n",
        "    ('poly_ft'  ,   PolynomialFeatures(degree=3,include_bias=False)),\n",
        "    ('scaler'   ,   StandardScaler()),\n",
        "    ('trf_reg'  ,   TransformedTargetRegressor(\n",
        "        check_inverse=False,\n",
        "        regressor   = KerasRegressor(\n",
        "                                model=create_model, \n",
        "                                model__metrics=[RMSE(), R2()],\n",
        "                                model__loss='mse',\n",
        "                                verbose=0, callbacks=[es,printerCallback], \n",
        "                                model__print_summary=True,   \n",
        "                                validation_split=0.5, \n",
        "                                model__optim=Adam,\n",
        "                                model__learning_rate=0.01, \n",
        "                                model__layer_nodes=[16],\n",
        "                                model__dropout=0.2,\n",
        "                                model__degree=3,\n",
        "                                model__activation=\"relu\",\n",
        "                                epochs=50, \n",
        "                                batch_size=32),\n",
        "        transformer = FunctionTransformer(np.clip, \n",
        "                                          kw_args={'a_min':0,'a_max':135})))\n",
        "])\n",
        "model"
      ],
      "metadata": {
        "colab": {
          "base_uri": "https://localhost:8080/"
        },
        "outputId": "9c5a5964-7ddb-4240-8cd0-ec798f99a5e1",
        "id": "b1eOudVE_Czh"
      },
      "execution_count": 66,
      "outputs": [
        {
          "output_type": "execute_result",
          "data": {
            "text/plain": [
              "Pipeline(steps=[('poly_ft', PolynomialFeatures(degree=3, include_bias=False)),\n",
              "                ('scaler', StandardScaler()),\n",
              "                ('trf_reg',\n",
              "                 TransformedTargetRegressor(check_inverse=False,\n",
              "                                            regressor=KerasRegressor(batch_size=32, callbacks=[<keras.callbacks.EarlyStopping object at 0x7f1959d5b8d0>, <keras.callbacks.LambdaCallback object at 0x7f195016cf10>], epochs=50, model=<function cre..._metrics=[<keras.metrics.RootMeanSquaredError object at 0x7f18b1862b50>, <tensorflow_addons.metrics.r_square.RSquare object at 0x7f18b0092c50>], model__optim=<class 'keras.optimizer_v2.adam.Adam'>, model__print_summary=True, validation_split=0.5, verbose=0),\n",
              "                                            transformer=FunctionTransformer(func=<function clip at 0x7f19d590bc20>,\n",
              "                                                                            kw_args={'a_max': 135,\n",
              "                                                                                     'a_min': 0})))])"
            ]
          },
          "metadata": {},
          "execution_count": 66
        }
      ]
    },
    {
      "cell_type": "code",
      "source": [
        "model.fit(X_train, y_train)\n",
        "reclipped_y =  model['trf_reg'].transformer.transform(y_train)\n",
        "eval.show_result(reclipped_y, model.predict(X_train))\n",
        "print(\"Finished:\", datetime.datetime.now())"
      ],
      "metadata": {
        "colab": {
          "base_uri": "https://localhost:8080/"
        },
        "outputId": "e52a2bb1-6bda-4856-bdc5-460cd203cce3",
        "id": "R5wl6TKp_Czi"
      },
      "execution_count": 67,
      "outputs": [
        {
          "output_type": "stream",
          "name": "stdout",
          "text": [
            "Model: \"sequential_1015\"\n",
            "_________________________________________________________________\n",
            " Layer (type)                Output Shape              Param #   \n",
            "=================================================================\n",
            " dense_2030 (Dense)          (None, 16)                32384     \n",
            "                                                                 \n",
            " dropout_1015 (Dropout)      (None, 16)                0         \n",
            "                                                                 \n",
            " dense_2031 (Dense)          (None, 1)                 17        \n",
            "                                                                 \n",
            "=================================================================\n",
            "Total params: 32,401\n",
            "Trainable params: 32,401\n",
            "Non-trainable params: 0\n",
            "_________________________________________________________________\n",
            "E 0\t: loss=1975.571, rmse=44.447, r2=0.027; v_loss=1402.159, v_rmse=37.445, v_r2=0.314; \n",
            "E 1\t: loss=1257.777, rmse=35.465, r2=0.381; v_loss=1110.082, v_rmse=33.318, v_r2=0.457; \n",
            "E 2\t: loss=1061.762, rmse=32.585, r2=0.477; v_loss=951.694, v_rmse=30.850, v_r2=0.534; \n",
            "E 3\t: loss=926.742, rmse=30.442, r2=0.544; v_loss=830.629, v_rmse=28.821, v_r2=0.594; \n",
            "E 4\t: loss=856.466, rmse=29.265, r2=0.578; v_loss=802.247, v_rmse=28.324, v_r2=0.607; \n",
            "E 5\t: loss=821.784, rmse=28.667, r2=0.595; v_loss=771.883, v_rmse=27.783, v_r2=0.622; \n",
            "E 6\t: loss=787.382, rmse=28.060, r2=0.612; v_loss=782.979, v_rmse=27.982, v_r2=0.617; \n",
            "E 7\t: loss=761.541, rmse=27.596, r2=0.625; v_loss=799.018, v_rmse=28.267, v_r2=0.609; \n",
            "E 8\t: loss=751.391, rmse=27.412, r2=0.630; v_loss=725.970, v_rmse=26.944, v_r2=0.645; \n",
            "E 9\t: loss=731.602, rmse=27.048, r2=0.640; v_loss=735.524, v_rmse=27.121, v_r2=0.640; \n",
            "E 10\t: loss=704.165, rmse=26.536, r2=0.653; v_loss=756.943, v_rmse=27.513, v_r2=0.630; \n",
            "E 11\t: loss=678.724, rmse=26.052, r2=0.666; v_loss=725.716, v_rmse=26.939, v_r2=0.645; \n",
            "E 12\t: loss=680.853, rmse=26.093, r2=0.665; v_loss=682.099, v_rmse=26.117, v_r2=0.666; \n",
            "E 13\t: loss=673.211, rmse=25.946, r2=0.669; v_loss=791.441, v_rmse=28.133, v_r2=0.613; \n",
            "E 14\t: loss=645.406, rmse=25.405, r2=0.682; v_loss=689.940, v_rmse=26.267, v_r2=0.662; \n",
            "E 15\t: loss=646.512, rmse=25.427, r2=0.682; v_loss=660.232, v_rmse=25.695, v_r2=0.677; \n",
            "E 16\t: loss=624.102, rmse=24.982, r2=0.693; v_loss=744.758, v_rmse=27.290, v_r2=0.636; \n",
            "E 17\t: loss=628.425, rmse=25.068, r2=0.691; v_loss=698.857, v_rmse=26.436, v_r2=0.658; \n",
            "E 18\t: loss=608.295, rmse=24.664, r2=0.700; v_loss=716.634, v_rmse=26.770, v_r2=0.649; \n",
            "E 19\t: loss=607.638, rmse=24.650, r2=0.701; v_loss=651.482, v_rmse=25.524, v_r2=0.681; \n",
            "E 20\t: loss=603.992, rmse=24.576, r2=0.703; v_loss=679.537, v_rmse=26.068, v_r2=0.668; \n",
            "E 21\t: loss=589.005, rmse=24.269, r2=0.710; v_loss=659.001, v_rmse=25.671, v_r2=0.678; \n",
            "E 22\t: loss=580.245, rmse=24.088, r2=0.714; v_loss=665.377, v_rmse=25.795, v_r2=0.674; \n",
            "E 23\t: loss=576.014, rmse=24.000, r2=0.716; v_loss=622.764, v_rmse=24.955, v_r2=0.695; \n",
            "E 24\t: loss=560.198, rmse=23.668, r2=0.724; v_loss=634.439, v_rmse=25.188, v_r2=0.690; \n",
            "E 25\t: loss=549.117, rmse=23.433, r2=0.730; v_loss=596.674, v_rmse=24.427, v_r2=0.708; \n",
            "E 26\t: loss=546.115, rmse=23.369, r2=0.731; v_loss=637.478, v_rmse=25.248, v_r2=0.688; \n",
            "E 27\t: loss=560.391, rmse=23.673, r2=0.724; v_loss=659.010, v_rmse=25.671, v_r2=0.678; \n",
            "E 28\t: loss=551.967, rmse=23.494, r2=0.728; v_loss=630.836, v_rmse=25.116, v_r2=0.691; \n",
            "E 29\t: loss=539.852, rmse=23.235, r2=0.734; v_loss=615.070, v_rmse=24.801, v_r2=0.699; \n",
            "E 30\t: loss=535.336, rmse=23.137, r2=0.736; v_loss=619.936, v_rmse=24.899, v_r2=0.697; \n",
            "E 31\t: loss=528.813, rmse=22.996, r2=0.740; v_loss=627.534, v_rmse=25.051, v_r2=0.693; \n",
            "E 32\t: loss=526.747, rmse=22.951, r2=0.741; v_loss=619.439, v_rmse=24.889, v_r2=0.697; \n",
            "E 33\t: loss=521.573, rmse=22.838, r2=0.743; v_loss=571.351, v_rmse=23.903, v_r2=0.720; \n",
            "E 34\t: loss=517.462, rmse=22.748, r2=0.745; v_loss=619.473, v_rmse=24.889, v_r2=0.697; \n",
            "E 35\t: loss=530.934, rmse=23.042, r2=0.739; v_loss=590.470, v_rmse=24.300, v_r2=0.711; \n",
            "E 36\t: loss=518.389, rmse=22.768, r2=0.745; v_loss=607.767, v_rmse=24.653, v_r2=0.703; \n",
            "E 37\t: loss=522.038, rmse=22.848, r2=0.743; v_loss=586.189, v_rmse=24.211, v_r2=0.713; \n",
            "E 38\t: loss=514.122, rmse=22.674, r2=0.747; v_loss=618.027, v_rmse=24.860, v_r2=0.698; \n",
            "E 39\t: loss=509.559, rmse=22.573, r2=0.749; v_loss=643.582, v_rmse=25.369, v_r2=0.685; \n",
            "E 40\t: loss=502.982, rmse=22.427, r2=0.752; v_loss=583.107, v_rmse=24.148, v_r2=0.715; \n",
            "E 41\t: loss=503.087, rmse=22.430, r2=0.752; v_loss=589.620, v_rmse=24.282, v_r2=0.712; \n",
            "E 42\t: loss=508.796, rmse=22.557, r2=0.749; v_loss=613.814, v_rmse=24.775, v_r2=0.700; \n",
            "E 43\t: loss=517.705, rmse=22.753, r2=0.745; v_loss=651.032, v_rmse=25.515, v_r2=0.681; \n",
            "E 44\t: loss=500.282, rmse=22.367, r2=0.754; v_loss=588.084, v_rmse=24.250, v_r2=0.712; \n",
            "E 45\t: loss=497.407, rmse=22.303, r2=0.755; v_loss=633.980, v_rmse=25.179, v_r2=0.690; \n",
            "E 46\t: loss=500.176, rmse=22.365, r2=0.754; v_loss=601.802, v_rmse=24.532, v_r2=0.706; \n",
            "E 47\t: loss=497.776, rmse=22.311, r2=0.755; v_loss=586.657, v_rmse=24.221, v_r2=0.713; \n",
            "E 48\t: loss=501.675, rmse=22.398, r2=0.753; v_loss=602.801, v_rmse=24.552, v_r2=0.705; \n",
            "E 49\t: loss=490.049, rmse=22.137, r2=0.759; v_loss=598.652, v_rmse=24.467, v_r2=0.707; \n",
            "R2=0.756,RMSE=-22.299\n",
            "Finished: 2022-09-16 12:36:47.505725\n"
          ]
        }
      ]
    },
    {
      "cell_type": "code",
      "source": [
        "reclipped_y =  model['trf_reg'].transformer.transform(y_test)\n",
        "eval.show_result(reclipped_y, model.predict(X_test))\n",
        "print(\"Finished:\", datetime.datetime.now())"
      ],
      "metadata": {
        "colab": {
          "base_uri": "https://localhost:8080/"
        },
        "outputId": "0daeca02-ab52-4b70-8e21-4db20ad072ef",
        "id": "wnpOvvMW_Czj"
      },
      "execution_count": 70,
      "outputs": [
        {
          "output_type": "stream",
          "name": "stdout",
          "text": [
            "R2=0.782,RMSE=-19.248\n",
            "Finished: 2022-09-16 12:36:55.847390\n"
          ]
        }
      ]
    },
    {
      "cell_type": "markdown",
      "source": [
        "Didn't improve by using more features, actually worsened a bit"
      ],
      "metadata": {
        "id": "ce6SCO2n_Czj"
      }
    },
    {
      "cell_type": "markdown",
      "source": [
        "# Smoothing\n"
      ],
      "metadata": {
        "id": "1UmV6I_W4Jr6"
      }
    },
    {
      "cell_type": "code",
      "source": [
        "def exponential_smoothing(df, sensors, n_samples, alpha=0.4, unit_col='unit_number'):\n",
        "    df = df.copy()\n",
        "    # first, calculate the exponential weighted mean of desired sensors\n",
        "    df[sensors] = df.groupby(unit_col)[sensors].apply(lambda x: x.ewm(alpha=alpha).mean())\n",
        "    \n",
        "    # second, drop first n_samples of each unit_nr to reduce filter delay\n",
        "    def create_mask(data, samples):\n",
        "        result = np.ones_like(data)\n",
        "        result[0:samples] = 0\n",
        "        return result\n",
        "    \n",
        "    mask = df.groupby(unit_col)[unit_col].transform(create_mask, samples=n_samples).astype(bool)\n",
        "    df = df[mask]\n",
        "    \n",
        "    return df"
      ],
      "metadata": {
        "id": "6_o6DTiy4K9n"
      },
      "execution_count": 33,
      "outputs": []
    },
    {
      "cell_type": "code",
      "source": [
        "train"
      ],
      "metadata": {
        "colab": {
          "base_uri": "https://localhost:8080/",
          "height": 488
        },
        "id": "6wI15po34UWL",
        "outputId": "a997b915-68ec-4cc3-fc29-732c458a1700"
      },
      "execution_count": 34,
      "outputs": [
        {
          "output_type": "execute_result",
          "data": {
            "text/plain": [
              "       unit_number  time    op_1    op_2   op_3     s_0     s_1      s_2  \\\n",
              "0                1     1 -0.0007 -0.0004  100.0  518.67  641.82  1589.70   \n",
              "1                1     2  0.0019 -0.0003  100.0  518.67  642.15  1591.82   \n",
              "2                1     3 -0.0043  0.0003  100.0  518.67  642.35  1587.99   \n",
              "3                1     4  0.0007  0.0000  100.0  518.67  642.35  1582.79   \n",
              "4                1     5 -0.0019 -0.0002  100.0  518.67  642.37  1582.85   \n",
              "...            ...   ...     ...     ...    ...     ...     ...      ...   \n",
              "20626          100   196 -0.0004 -0.0003  100.0  518.67  643.49  1597.98   \n",
              "20627          100   197 -0.0016 -0.0005  100.0  518.67  643.54  1604.50   \n",
              "20628          100   198  0.0004  0.0000  100.0  518.67  643.42  1602.46   \n",
              "20629          100   199 -0.0011  0.0003  100.0  518.67  643.23  1605.26   \n",
              "20630          100   200 -0.0032 -0.0005  100.0  518.67  643.85  1600.38   \n",
              "\n",
              "           s_3    s_4  ...     s_12     s_13    s_14  s_15  s_16  s_17   s_18  \\\n",
              "0      1400.60  14.62  ...  2388.02  8138.62  8.4195  0.03   392  2388  100.0   \n",
              "1      1403.14  14.62  ...  2388.07  8131.49  8.4318  0.03   392  2388  100.0   \n",
              "2      1404.20  14.62  ...  2388.03  8133.23  8.4178  0.03   390  2388  100.0   \n",
              "3      1401.87  14.62  ...  2388.08  8133.83  8.3682  0.03   392  2388  100.0   \n",
              "4      1406.22  14.62  ...  2388.04  8133.80  8.4294  0.03   393  2388  100.0   \n",
              "...        ...    ...  ...      ...      ...     ...   ...   ...   ...    ...   \n",
              "20626  1428.63  14.62  ...  2388.26  8137.60  8.4956  0.03   397  2388  100.0   \n",
              "20627  1433.58  14.62  ...  2388.22  8136.50  8.5139  0.03   395  2388  100.0   \n",
              "20628  1428.18  14.62  ...  2388.24  8141.05  8.5646  0.03   398  2388  100.0   \n",
              "20629  1426.53  14.62  ...  2388.23  8139.29  8.5389  0.03   395  2388  100.0   \n",
              "20630  1432.14  14.62  ...  2388.26  8137.33  8.5036  0.03   396  2388  100.0   \n",
              "\n",
              "        s_19     s_20  RUL  \n",
              "0      39.06  23.4190  191  \n",
              "1      39.00  23.4236  190  \n",
              "2      38.95  23.3442  189  \n",
              "3      38.88  23.3739  188  \n",
              "4      38.90  23.4044  187  \n",
              "...      ...      ...  ...  \n",
              "20626  38.49  22.9735    4  \n",
              "20627  38.30  23.1594    3  \n",
              "20628  38.44  22.9333    2  \n",
              "20629  38.29  23.0640    1  \n",
              "20630  38.37  23.0522    0  \n",
              "\n",
              "[20631 rows x 27 columns]"
            ],
            "text/html": [
              "\n",
              "  <div id=\"df-58604028-f847-4406-9c51-08ebb286604f\">\n",
              "    <div class=\"colab-df-container\">\n",
              "      <div>\n",
              "<style scoped>\n",
              "    .dataframe tbody tr th:only-of-type {\n",
              "        vertical-align: middle;\n",
              "    }\n",
              "\n",
              "    .dataframe tbody tr th {\n",
              "        vertical-align: top;\n",
              "    }\n",
              "\n",
              "    .dataframe thead th {\n",
              "        text-align: right;\n",
              "    }\n",
              "</style>\n",
              "<table border=\"1\" class=\"dataframe\">\n",
              "  <thead>\n",
              "    <tr style=\"text-align: right;\">\n",
              "      <th></th>\n",
              "      <th>unit_number</th>\n",
              "      <th>time</th>\n",
              "      <th>op_1</th>\n",
              "      <th>op_2</th>\n",
              "      <th>op_3</th>\n",
              "      <th>s_0</th>\n",
              "      <th>s_1</th>\n",
              "      <th>s_2</th>\n",
              "      <th>s_3</th>\n",
              "      <th>s_4</th>\n",
              "      <th>...</th>\n",
              "      <th>s_12</th>\n",
              "      <th>s_13</th>\n",
              "      <th>s_14</th>\n",
              "      <th>s_15</th>\n",
              "      <th>s_16</th>\n",
              "      <th>s_17</th>\n",
              "      <th>s_18</th>\n",
              "      <th>s_19</th>\n",
              "      <th>s_20</th>\n",
              "      <th>RUL</th>\n",
              "    </tr>\n",
              "  </thead>\n",
              "  <tbody>\n",
              "    <tr>\n",
              "      <th>0</th>\n",
              "      <td>1</td>\n",
              "      <td>1</td>\n",
              "      <td>-0.0007</td>\n",
              "      <td>-0.0004</td>\n",
              "      <td>100.0</td>\n",
              "      <td>518.67</td>\n",
              "      <td>641.82</td>\n",
              "      <td>1589.70</td>\n",
              "      <td>1400.60</td>\n",
              "      <td>14.62</td>\n",
              "      <td>...</td>\n",
              "      <td>2388.02</td>\n",
              "      <td>8138.62</td>\n",
              "      <td>8.4195</td>\n",
              "      <td>0.03</td>\n",
              "      <td>392</td>\n",
              "      <td>2388</td>\n",
              "      <td>100.0</td>\n",
              "      <td>39.06</td>\n",
              "      <td>23.4190</td>\n",
              "      <td>191</td>\n",
              "    </tr>\n",
              "    <tr>\n",
              "      <th>1</th>\n",
              "      <td>1</td>\n",
              "      <td>2</td>\n",
              "      <td>0.0019</td>\n",
              "      <td>-0.0003</td>\n",
              "      <td>100.0</td>\n",
              "      <td>518.67</td>\n",
              "      <td>642.15</td>\n",
              "      <td>1591.82</td>\n",
              "      <td>1403.14</td>\n",
              "      <td>14.62</td>\n",
              "      <td>...</td>\n",
              "      <td>2388.07</td>\n",
              "      <td>8131.49</td>\n",
              "      <td>8.4318</td>\n",
              "      <td>0.03</td>\n",
              "      <td>392</td>\n",
              "      <td>2388</td>\n",
              "      <td>100.0</td>\n",
              "      <td>39.00</td>\n",
              "      <td>23.4236</td>\n",
              "      <td>190</td>\n",
              "    </tr>\n",
              "    <tr>\n",
              "      <th>2</th>\n",
              "      <td>1</td>\n",
              "      <td>3</td>\n",
              "      <td>-0.0043</td>\n",
              "      <td>0.0003</td>\n",
              "      <td>100.0</td>\n",
              "      <td>518.67</td>\n",
              "      <td>642.35</td>\n",
              "      <td>1587.99</td>\n",
              "      <td>1404.20</td>\n",
              "      <td>14.62</td>\n",
              "      <td>...</td>\n",
              "      <td>2388.03</td>\n",
              "      <td>8133.23</td>\n",
              "      <td>8.4178</td>\n",
              "      <td>0.03</td>\n",
              "      <td>390</td>\n",
              "      <td>2388</td>\n",
              "      <td>100.0</td>\n",
              "      <td>38.95</td>\n",
              "      <td>23.3442</td>\n",
              "      <td>189</td>\n",
              "    </tr>\n",
              "    <tr>\n",
              "      <th>3</th>\n",
              "      <td>1</td>\n",
              "      <td>4</td>\n",
              "      <td>0.0007</td>\n",
              "      <td>0.0000</td>\n",
              "      <td>100.0</td>\n",
              "      <td>518.67</td>\n",
              "      <td>642.35</td>\n",
              "      <td>1582.79</td>\n",
              "      <td>1401.87</td>\n",
              "      <td>14.62</td>\n",
              "      <td>...</td>\n",
              "      <td>2388.08</td>\n",
              "      <td>8133.83</td>\n",
              "      <td>8.3682</td>\n",
              "      <td>0.03</td>\n",
              "      <td>392</td>\n",
              "      <td>2388</td>\n",
              "      <td>100.0</td>\n",
              "      <td>38.88</td>\n",
              "      <td>23.3739</td>\n",
              "      <td>188</td>\n",
              "    </tr>\n",
              "    <tr>\n",
              "      <th>4</th>\n",
              "      <td>1</td>\n",
              "      <td>5</td>\n",
              "      <td>-0.0019</td>\n",
              "      <td>-0.0002</td>\n",
              "      <td>100.0</td>\n",
              "      <td>518.67</td>\n",
              "      <td>642.37</td>\n",
              "      <td>1582.85</td>\n",
              "      <td>1406.22</td>\n",
              "      <td>14.62</td>\n",
              "      <td>...</td>\n",
              "      <td>2388.04</td>\n",
              "      <td>8133.80</td>\n",
              "      <td>8.4294</td>\n",
              "      <td>0.03</td>\n",
              "      <td>393</td>\n",
              "      <td>2388</td>\n",
              "      <td>100.0</td>\n",
              "      <td>38.90</td>\n",
              "      <td>23.4044</td>\n",
              "      <td>187</td>\n",
              "    </tr>\n",
              "    <tr>\n",
              "      <th>...</th>\n",
              "      <td>...</td>\n",
              "      <td>...</td>\n",
              "      <td>...</td>\n",
              "      <td>...</td>\n",
              "      <td>...</td>\n",
              "      <td>...</td>\n",
              "      <td>...</td>\n",
              "      <td>...</td>\n",
              "      <td>...</td>\n",
              "      <td>...</td>\n",
              "      <td>...</td>\n",
              "      <td>...</td>\n",
              "      <td>...</td>\n",
              "      <td>...</td>\n",
              "      <td>...</td>\n",
              "      <td>...</td>\n",
              "      <td>...</td>\n",
              "      <td>...</td>\n",
              "      <td>...</td>\n",
              "      <td>...</td>\n",
              "      <td>...</td>\n",
              "    </tr>\n",
              "    <tr>\n",
              "      <th>20626</th>\n",
              "      <td>100</td>\n",
              "      <td>196</td>\n",
              "      <td>-0.0004</td>\n",
              "      <td>-0.0003</td>\n",
              "      <td>100.0</td>\n",
              "      <td>518.67</td>\n",
              "      <td>643.49</td>\n",
              "      <td>1597.98</td>\n",
              "      <td>1428.63</td>\n",
              "      <td>14.62</td>\n",
              "      <td>...</td>\n",
              "      <td>2388.26</td>\n",
              "      <td>8137.60</td>\n",
              "      <td>8.4956</td>\n",
              "      <td>0.03</td>\n",
              "      <td>397</td>\n",
              "      <td>2388</td>\n",
              "      <td>100.0</td>\n",
              "      <td>38.49</td>\n",
              "      <td>22.9735</td>\n",
              "      <td>4</td>\n",
              "    </tr>\n",
              "    <tr>\n",
              "      <th>20627</th>\n",
              "      <td>100</td>\n",
              "      <td>197</td>\n",
              "      <td>-0.0016</td>\n",
              "      <td>-0.0005</td>\n",
              "      <td>100.0</td>\n",
              "      <td>518.67</td>\n",
              "      <td>643.54</td>\n",
              "      <td>1604.50</td>\n",
              "      <td>1433.58</td>\n",
              "      <td>14.62</td>\n",
              "      <td>...</td>\n",
              "      <td>2388.22</td>\n",
              "      <td>8136.50</td>\n",
              "      <td>8.5139</td>\n",
              "      <td>0.03</td>\n",
              "      <td>395</td>\n",
              "      <td>2388</td>\n",
              "      <td>100.0</td>\n",
              "      <td>38.30</td>\n",
              "      <td>23.1594</td>\n",
              "      <td>3</td>\n",
              "    </tr>\n",
              "    <tr>\n",
              "      <th>20628</th>\n",
              "      <td>100</td>\n",
              "      <td>198</td>\n",
              "      <td>0.0004</td>\n",
              "      <td>0.0000</td>\n",
              "      <td>100.0</td>\n",
              "      <td>518.67</td>\n",
              "      <td>643.42</td>\n",
              "      <td>1602.46</td>\n",
              "      <td>1428.18</td>\n",
              "      <td>14.62</td>\n",
              "      <td>...</td>\n",
              "      <td>2388.24</td>\n",
              "      <td>8141.05</td>\n",
              "      <td>8.5646</td>\n",
              "      <td>0.03</td>\n",
              "      <td>398</td>\n",
              "      <td>2388</td>\n",
              "      <td>100.0</td>\n",
              "      <td>38.44</td>\n",
              "      <td>22.9333</td>\n",
              "      <td>2</td>\n",
              "    </tr>\n",
              "    <tr>\n",
              "      <th>20629</th>\n",
              "      <td>100</td>\n",
              "      <td>199</td>\n",
              "      <td>-0.0011</td>\n",
              "      <td>0.0003</td>\n",
              "      <td>100.0</td>\n",
              "      <td>518.67</td>\n",
              "      <td>643.23</td>\n",
              "      <td>1605.26</td>\n",
              "      <td>1426.53</td>\n",
              "      <td>14.62</td>\n",
              "      <td>...</td>\n",
              "      <td>2388.23</td>\n",
              "      <td>8139.29</td>\n",
              "      <td>8.5389</td>\n",
              "      <td>0.03</td>\n",
              "      <td>395</td>\n",
              "      <td>2388</td>\n",
              "      <td>100.0</td>\n",
              "      <td>38.29</td>\n",
              "      <td>23.0640</td>\n",
              "      <td>1</td>\n",
              "    </tr>\n",
              "    <tr>\n",
              "      <th>20630</th>\n",
              "      <td>100</td>\n",
              "      <td>200</td>\n",
              "      <td>-0.0032</td>\n",
              "      <td>-0.0005</td>\n",
              "      <td>100.0</td>\n",
              "      <td>518.67</td>\n",
              "      <td>643.85</td>\n",
              "      <td>1600.38</td>\n",
              "      <td>1432.14</td>\n",
              "      <td>14.62</td>\n",
              "      <td>...</td>\n",
              "      <td>2388.26</td>\n",
              "      <td>8137.33</td>\n",
              "      <td>8.5036</td>\n",
              "      <td>0.03</td>\n",
              "      <td>396</td>\n",
              "      <td>2388</td>\n",
              "      <td>100.0</td>\n",
              "      <td>38.37</td>\n",
              "      <td>23.0522</td>\n",
              "      <td>0</td>\n",
              "    </tr>\n",
              "  </tbody>\n",
              "</table>\n",
              "<p>20631 rows × 27 columns</p>\n",
              "</div>\n",
              "      <button class=\"colab-df-convert\" onclick=\"convertToInteractive('df-58604028-f847-4406-9c51-08ebb286604f')\"\n",
              "              title=\"Convert this dataframe to an interactive table.\"\n",
              "              style=\"display:none;\">\n",
              "        \n",
              "  <svg xmlns=\"http://www.w3.org/2000/svg\" height=\"24px\"viewBox=\"0 0 24 24\"\n",
              "       width=\"24px\">\n",
              "    <path d=\"M0 0h24v24H0V0z\" fill=\"none\"/>\n",
              "    <path d=\"M18.56 5.44l.94 2.06.94-2.06 2.06-.94-2.06-.94-.94-2.06-.94 2.06-2.06.94zm-11 1L8.5 8.5l.94-2.06 2.06-.94-2.06-.94L8.5 2.5l-.94 2.06-2.06.94zm10 10l.94 2.06.94-2.06 2.06-.94-2.06-.94-.94-2.06-.94 2.06-2.06.94z\"/><path d=\"M17.41 7.96l-1.37-1.37c-.4-.4-.92-.59-1.43-.59-.52 0-1.04.2-1.43.59L10.3 9.45l-7.72 7.72c-.78.78-.78 2.05 0 2.83L4 21.41c.39.39.9.59 1.41.59.51 0 1.02-.2 1.41-.59l7.78-7.78 2.81-2.81c.8-.78.8-2.07 0-2.86zM5.41 20L4 18.59l7.72-7.72 1.47 1.35L5.41 20z\"/>\n",
              "  </svg>\n",
              "      </button>\n",
              "      \n",
              "  <style>\n",
              "    .colab-df-container {\n",
              "      display:flex;\n",
              "      flex-wrap:wrap;\n",
              "      gap: 12px;\n",
              "    }\n",
              "\n",
              "    .colab-df-convert {\n",
              "      background-color: #E8F0FE;\n",
              "      border: none;\n",
              "      border-radius: 50%;\n",
              "      cursor: pointer;\n",
              "      display: none;\n",
              "      fill: #1967D2;\n",
              "      height: 32px;\n",
              "      padding: 0 0 0 0;\n",
              "      width: 32px;\n",
              "    }\n",
              "\n",
              "    .colab-df-convert:hover {\n",
              "      background-color: #E2EBFA;\n",
              "      box-shadow: 0px 1px 2px rgba(60, 64, 67, 0.3), 0px 1px 3px 1px rgba(60, 64, 67, 0.15);\n",
              "      fill: #174EA6;\n",
              "    }\n",
              "\n",
              "    [theme=dark] .colab-df-convert {\n",
              "      background-color: #3B4455;\n",
              "      fill: #D2E3FC;\n",
              "    }\n",
              "\n",
              "    [theme=dark] .colab-df-convert:hover {\n",
              "      background-color: #434B5C;\n",
              "      box-shadow: 0px 1px 3px 1px rgba(0, 0, 0, 0.15);\n",
              "      filter: drop-shadow(0px 1px 2px rgba(0, 0, 0, 0.3));\n",
              "      fill: #FFFFFF;\n",
              "    }\n",
              "  </style>\n",
              "\n",
              "      <script>\n",
              "        const buttonEl =\n",
              "          document.querySelector('#df-58604028-f847-4406-9c51-08ebb286604f button.colab-df-convert');\n",
              "        buttonEl.style.display =\n",
              "          google.colab.kernel.accessAllowed ? 'block' : 'none';\n",
              "\n",
              "        async function convertToInteractive(key) {\n",
              "          const element = document.querySelector('#df-58604028-f847-4406-9c51-08ebb286604f');\n",
              "          const dataTable =\n",
              "            await google.colab.kernel.invokeFunction('convertToInteractive',\n",
              "                                                     [key], {});\n",
              "          if (!dataTable) return;\n",
              "\n",
              "          const docLinkHtml = 'Like what you see? Visit the ' +\n",
              "            '<a target=\"_blank\" href=https://colab.research.google.com/notebooks/data_table.ipynb>data table notebook</a>'\n",
              "            + ' to learn more about interactive tables.';\n",
              "          element.innerHTML = '';\n",
              "          dataTable['output_type'] = 'display_data';\n",
              "          await google.colab.output.renderOutput(dataTable, element);\n",
              "          const docLink = document.createElement('div');\n",
              "          docLink.innerHTML = docLinkHtml;\n",
              "          element.appendChild(docLink);\n",
              "        }\n",
              "      </script>\n",
              "    </div>\n",
              "  </div>\n",
              "  "
            ]
          },
          "metadata": {},
          "execution_count": 34
        }
      ]
    },
    {
      "cell_type": "code",
      "source": [
        "ss_train = StandardScaler().fit_transform(train)\n",
        "ss_train = pd.DataFrame(ss_train, columns=train.columns)\n",
        "ss_train"
      ],
      "metadata": {
        "colab": {
          "base_uri": "https://localhost:8080/",
          "height": 488
        },
        "id": "bq_0sSnP5Nf3",
        "outputId": "ffc7eee4-1e23-420b-9782-2e6a95f743ad"
      },
      "execution_count": 42,
      "outputs": [
        {
          "output_type": "execute_result",
          "data": {
            "text/plain": [
              "       unit_number      time      op_1      op_2  op_3  s_0       s_1  \\\n",
              "0        -1.728084 -1.565170 -0.315980 -1.372953   0.0  0.0 -1.721725   \n",
              "1        -1.728084 -1.550652  0.872722 -1.031720   0.0  0.0 -1.061780   \n",
              "2        -1.728084 -1.536134 -1.961874  1.015677   0.0  0.0 -0.661813   \n",
              "3        -1.728084 -1.521616  0.324090 -0.008022   0.0  0.0 -0.661813   \n",
              "4        -1.728084 -1.507098 -0.864611 -0.690488   0.0  0.0 -0.621816   \n",
              "...            ...       ...       ...       ...   ...  ...       ...   \n",
              "20626     1.659204  1.265868 -0.178822 -1.031720   0.0  0.0  1.618000   \n",
              "20627     1.659204  1.280386 -0.727453 -1.714186   0.0  0.0  1.717992   \n",
              "20628     1.659204  1.294904  0.186933 -0.008022   0.0  0.0  1.478011   \n",
              "20629     1.659204  1.309423 -0.498857  1.015677   0.0  0.0  1.098043   \n",
              "20630     1.659204  1.323941 -1.458962 -1.714186   0.0  0.0  2.337940   \n",
              "\n",
              "            s_2       s_3           s_4  ...      s_12      s_13      s_14  \\\n",
              "0     -0.134255 -0.925936 -1.776357e-15  ... -1.058890 -0.269071 -0.603816   \n",
              "1      0.211528 -0.643726 -1.776357e-15  ... -0.363646 -0.642845 -0.275852   \n",
              "2     -0.413166 -0.525953 -1.776357e-15  ... -0.919841 -0.551629 -0.649144   \n",
              "3     -1.261314 -0.784831 -1.776357e-15  ... -0.224597 -0.520176 -1.971665   \n",
              "4     -1.251528 -0.301518 -1.776357e-15  ... -0.780793 -0.521748 -0.339845   \n",
              "...         ...       ...           ...  ...       ...       ...       ...   \n",
              "20626  1.216258  2.188375 -1.776357e-15  ...  2.278282 -0.322542  1.425294   \n",
              "20627  2.279706  2.738351 -1.776357e-15  ...  1.722087 -0.380207  1.913240   \n",
              "20628  1.946971  2.138377 -1.776357e-15  ...  2.000184 -0.141684  3.265092   \n",
              "20629  2.403666  1.955051 -1.776357e-15  ...  1.861136 -0.233948  2.579834   \n",
              "20630  1.607712  2.578358 -1.776357e-15  ...  2.278282 -0.336696  1.638604   \n",
              "\n",
              "               s_15      s_16  s_17  s_18      s_19      s_20       RUL  \n",
              "0     -1.387779e-17 -0.781710   0.0   0.0  1.348493  1.194427  1.207796  \n",
              "1     -1.387779e-17 -0.781710   0.0   0.0  1.016528  1.236922  1.193277  \n",
              "2     -1.387779e-17 -2.073094   0.0   0.0  0.739891  0.503423  1.178759  \n",
              "3     -1.387779e-17 -0.781710   0.0   0.0  0.352598  0.777792  1.164241  \n",
              "4     -1.387779e-17 -0.136018   0.0   0.0  0.463253  1.059552  1.149723  \n",
              "...             ...       ...   ...   ...       ...       ...       ...  \n",
              "20626 -1.387779e-17  2.446751   0.0   0.0 -1.805173 -2.921113 -1.507098  \n",
              "20627 -1.387779e-17  1.155367   0.0   0.0 -2.856395 -1.203764 -1.521616  \n",
              "20628 -1.387779e-17  3.092444   0.0   0.0 -2.081810 -3.292481 -1.536134  \n",
              "20629 -1.387779e-17  1.155367   0.0   0.0 -2.911722 -2.085072 -1.550652  \n",
              "20630 -1.387779e-17  1.801059   0.0   0.0 -2.469103 -2.194080 -1.565170  \n",
              "\n",
              "[20631 rows x 27 columns]"
            ],
            "text/html": [
              "\n",
              "  <div id=\"df-66b038b0-fb1d-48f9-b21a-7fa9ebd8d20c\">\n",
              "    <div class=\"colab-df-container\">\n",
              "      <div>\n",
              "<style scoped>\n",
              "    .dataframe tbody tr th:only-of-type {\n",
              "        vertical-align: middle;\n",
              "    }\n",
              "\n",
              "    .dataframe tbody tr th {\n",
              "        vertical-align: top;\n",
              "    }\n",
              "\n",
              "    .dataframe thead th {\n",
              "        text-align: right;\n",
              "    }\n",
              "</style>\n",
              "<table border=\"1\" class=\"dataframe\">\n",
              "  <thead>\n",
              "    <tr style=\"text-align: right;\">\n",
              "      <th></th>\n",
              "      <th>unit_number</th>\n",
              "      <th>time</th>\n",
              "      <th>op_1</th>\n",
              "      <th>op_2</th>\n",
              "      <th>op_3</th>\n",
              "      <th>s_0</th>\n",
              "      <th>s_1</th>\n",
              "      <th>s_2</th>\n",
              "      <th>s_3</th>\n",
              "      <th>s_4</th>\n",
              "      <th>...</th>\n",
              "      <th>s_12</th>\n",
              "      <th>s_13</th>\n",
              "      <th>s_14</th>\n",
              "      <th>s_15</th>\n",
              "      <th>s_16</th>\n",
              "      <th>s_17</th>\n",
              "      <th>s_18</th>\n",
              "      <th>s_19</th>\n",
              "      <th>s_20</th>\n",
              "      <th>RUL</th>\n",
              "    </tr>\n",
              "  </thead>\n",
              "  <tbody>\n",
              "    <tr>\n",
              "      <th>0</th>\n",
              "      <td>-1.728084</td>\n",
              "      <td>-1.565170</td>\n",
              "      <td>-0.315980</td>\n",
              "      <td>-1.372953</td>\n",
              "      <td>0.0</td>\n",
              "      <td>0.0</td>\n",
              "      <td>-1.721725</td>\n",
              "      <td>-0.134255</td>\n",
              "      <td>-0.925936</td>\n",
              "      <td>-1.776357e-15</td>\n",
              "      <td>...</td>\n",
              "      <td>-1.058890</td>\n",
              "      <td>-0.269071</td>\n",
              "      <td>-0.603816</td>\n",
              "      <td>-1.387779e-17</td>\n",
              "      <td>-0.781710</td>\n",
              "      <td>0.0</td>\n",
              "      <td>0.0</td>\n",
              "      <td>1.348493</td>\n",
              "      <td>1.194427</td>\n",
              "      <td>1.207796</td>\n",
              "    </tr>\n",
              "    <tr>\n",
              "      <th>1</th>\n",
              "      <td>-1.728084</td>\n",
              "      <td>-1.550652</td>\n",
              "      <td>0.872722</td>\n",
              "      <td>-1.031720</td>\n",
              "      <td>0.0</td>\n",
              "      <td>0.0</td>\n",
              "      <td>-1.061780</td>\n",
              "      <td>0.211528</td>\n",
              "      <td>-0.643726</td>\n",
              "      <td>-1.776357e-15</td>\n",
              "      <td>...</td>\n",
              "      <td>-0.363646</td>\n",
              "      <td>-0.642845</td>\n",
              "      <td>-0.275852</td>\n",
              "      <td>-1.387779e-17</td>\n",
              "      <td>-0.781710</td>\n",
              "      <td>0.0</td>\n",
              "      <td>0.0</td>\n",
              "      <td>1.016528</td>\n",
              "      <td>1.236922</td>\n",
              "      <td>1.193277</td>\n",
              "    </tr>\n",
              "    <tr>\n",
              "      <th>2</th>\n",
              "      <td>-1.728084</td>\n",
              "      <td>-1.536134</td>\n",
              "      <td>-1.961874</td>\n",
              "      <td>1.015677</td>\n",
              "      <td>0.0</td>\n",
              "      <td>0.0</td>\n",
              "      <td>-0.661813</td>\n",
              "      <td>-0.413166</td>\n",
              "      <td>-0.525953</td>\n",
              "      <td>-1.776357e-15</td>\n",
              "      <td>...</td>\n",
              "      <td>-0.919841</td>\n",
              "      <td>-0.551629</td>\n",
              "      <td>-0.649144</td>\n",
              "      <td>-1.387779e-17</td>\n",
              "      <td>-2.073094</td>\n",
              "      <td>0.0</td>\n",
              "      <td>0.0</td>\n",
              "      <td>0.739891</td>\n",
              "      <td>0.503423</td>\n",
              "      <td>1.178759</td>\n",
              "    </tr>\n",
              "    <tr>\n",
              "      <th>3</th>\n",
              "      <td>-1.728084</td>\n",
              "      <td>-1.521616</td>\n",
              "      <td>0.324090</td>\n",
              "      <td>-0.008022</td>\n",
              "      <td>0.0</td>\n",
              "      <td>0.0</td>\n",
              "      <td>-0.661813</td>\n",
              "      <td>-1.261314</td>\n",
              "      <td>-0.784831</td>\n",
              "      <td>-1.776357e-15</td>\n",
              "      <td>...</td>\n",
              "      <td>-0.224597</td>\n",
              "      <td>-0.520176</td>\n",
              "      <td>-1.971665</td>\n",
              "      <td>-1.387779e-17</td>\n",
              "      <td>-0.781710</td>\n",
              "      <td>0.0</td>\n",
              "      <td>0.0</td>\n",
              "      <td>0.352598</td>\n",
              "      <td>0.777792</td>\n",
              "      <td>1.164241</td>\n",
              "    </tr>\n",
              "    <tr>\n",
              "      <th>4</th>\n",
              "      <td>-1.728084</td>\n",
              "      <td>-1.507098</td>\n",
              "      <td>-0.864611</td>\n",
              "      <td>-0.690488</td>\n",
              "      <td>0.0</td>\n",
              "      <td>0.0</td>\n",
              "      <td>-0.621816</td>\n",
              "      <td>-1.251528</td>\n",
              "      <td>-0.301518</td>\n",
              "      <td>-1.776357e-15</td>\n",
              "      <td>...</td>\n",
              "      <td>-0.780793</td>\n",
              "      <td>-0.521748</td>\n",
              "      <td>-0.339845</td>\n",
              "      <td>-1.387779e-17</td>\n",
              "      <td>-0.136018</td>\n",
              "      <td>0.0</td>\n",
              "      <td>0.0</td>\n",
              "      <td>0.463253</td>\n",
              "      <td>1.059552</td>\n",
              "      <td>1.149723</td>\n",
              "    </tr>\n",
              "    <tr>\n",
              "      <th>...</th>\n",
              "      <td>...</td>\n",
              "      <td>...</td>\n",
              "      <td>...</td>\n",
              "      <td>...</td>\n",
              "      <td>...</td>\n",
              "      <td>...</td>\n",
              "      <td>...</td>\n",
              "      <td>...</td>\n",
              "      <td>...</td>\n",
              "      <td>...</td>\n",
              "      <td>...</td>\n",
              "      <td>...</td>\n",
              "      <td>...</td>\n",
              "      <td>...</td>\n",
              "      <td>...</td>\n",
              "      <td>...</td>\n",
              "      <td>...</td>\n",
              "      <td>...</td>\n",
              "      <td>...</td>\n",
              "      <td>...</td>\n",
              "      <td>...</td>\n",
              "    </tr>\n",
              "    <tr>\n",
              "      <th>20626</th>\n",
              "      <td>1.659204</td>\n",
              "      <td>1.265868</td>\n",
              "      <td>-0.178822</td>\n",
              "      <td>-1.031720</td>\n",
              "      <td>0.0</td>\n",
              "      <td>0.0</td>\n",
              "      <td>1.618000</td>\n",
              "      <td>1.216258</td>\n",
              "      <td>2.188375</td>\n",
              "      <td>-1.776357e-15</td>\n",
              "      <td>...</td>\n",
              "      <td>2.278282</td>\n",
              "      <td>-0.322542</td>\n",
              "      <td>1.425294</td>\n",
              "      <td>-1.387779e-17</td>\n",
              "      <td>2.446751</td>\n",
              "      <td>0.0</td>\n",
              "      <td>0.0</td>\n",
              "      <td>-1.805173</td>\n",
              "      <td>-2.921113</td>\n",
              "      <td>-1.507098</td>\n",
              "    </tr>\n",
              "    <tr>\n",
              "      <th>20627</th>\n",
              "      <td>1.659204</td>\n",
              "      <td>1.280386</td>\n",
              "      <td>-0.727453</td>\n",
              "      <td>-1.714186</td>\n",
              "      <td>0.0</td>\n",
              "      <td>0.0</td>\n",
              "      <td>1.717992</td>\n",
              "      <td>2.279706</td>\n",
              "      <td>2.738351</td>\n",
              "      <td>-1.776357e-15</td>\n",
              "      <td>...</td>\n",
              "      <td>1.722087</td>\n",
              "      <td>-0.380207</td>\n",
              "      <td>1.913240</td>\n",
              "      <td>-1.387779e-17</td>\n",
              "      <td>1.155367</td>\n",
              "      <td>0.0</td>\n",
              "      <td>0.0</td>\n",
              "      <td>-2.856395</td>\n",
              "      <td>-1.203764</td>\n",
              "      <td>-1.521616</td>\n",
              "    </tr>\n",
              "    <tr>\n",
              "      <th>20628</th>\n",
              "      <td>1.659204</td>\n",
              "      <td>1.294904</td>\n",
              "      <td>0.186933</td>\n",
              "      <td>-0.008022</td>\n",
              "      <td>0.0</td>\n",
              "      <td>0.0</td>\n",
              "      <td>1.478011</td>\n",
              "      <td>1.946971</td>\n",
              "      <td>2.138377</td>\n",
              "      <td>-1.776357e-15</td>\n",
              "      <td>...</td>\n",
              "      <td>2.000184</td>\n",
              "      <td>-0.141684</td>\n",
              "      <td>3.265092</td>\n",
              "      <td>-1.387779e-17</td>\n",
              "      <td>3.092444</td>\n",
              "      <td>0.0</td>\n",
              "      <td>0.0</td>\n",
              "      <td>-2.081810</td>\n",
              "      <td>-3.292481</td>\n",
              "      <td>-1.536134</td>\n",
              "    </tr>\n",
              "    <tr>\n",
              "      <th>20629</th>\n",
              "      <td>1.659204</td>\n",
              "      <td>1.309423</td>\n",
              "      <td>-0.498857</td>\n",
              "      <td>1.015677</td>\n",
              "      <td>0.0</td>\n",
              "      <td>0.0</td>\n",
              "      <td>1.098043</td>\n",
              "      <td>2.403666</td>\n",
              "      <td>1.955051</td>\n",
              "      <td>-1.776357e-15</td>\n",
              "      <td>...</td>\n",
              "      <td>1.861136</td>\n",
              "      <td>-0.233948</td>\n",
              "      <td>2.579834</td>\n",
              "      <td>-1.387779e-17</td>\n",
              "      <td>1.155367</td>\n",
              "      <td>0.0</td>\n",
              "      <td>0.0</td>\n",
              "      <td>-2.911722</td>\n",
              "      <td>-2.085072</td>\n",
              "      <td>-1.550652</td>\n",
              "    </tr>\n",
              "    <tr>\n",
              "      <th>20630</th>\n",
              "      <td>1.659204</td>\n",
              "      <td>1.323941</td>\n",
              "      <td>-1.458962</td>\n",
              "      <td>-1.714186</td>\n",
              "      <td>0.0</td>\n",
              "      <td>0.0</td>\n",
              "      <td>2.337940</td>\n",
              "      <td>1.607712</td>\n",
              "      <td>2.578358</td>\n",
              "      <td>-1.776357e-15</td>\n",
              "      <td>...</td>\n",
              "      <td>2.278282</td>\n",
              "      <td>-0.336696</td>\n",
              "      <td>1.638604</td>\n",
              "      <td>-1.387779e-17</td>\n",
              "      <td>1.801059</td>\n",
              "      <td>0.0</td>\n",
              "      <td>0.0</td>\n",
              "      <td>-2.469103</td>\n",
              "      <td>-2.194080</td>\n",
              "      <td>-1.565170</td>\n",
              "    </tr>\n",
              "  </tbody>\n",
              "</table>\n",
              "<p>20631 rows × 27 columns</p>\n",
              "</div>\n",
              "      <button class=\"colab-df-convert\" onclick=\"convertToInteractive('df-66b038b0-fb1d-48f9-b21a-7fa9ebd8d20c')\"\n",
              "              title=\"Convert this dataframe to an interactive table.\"\n",
              "              style=\"display:none;\">\n",
              "        \n",
              "  <svg xmlns=\"http://www.w3.org/2000/svg\" height=\"24px\"viewBox=\"0 0 24 24\"\n",
              "       width=\"24px\">\n",
              "    <path d=\"M0 0h24v24H0V0z\" fill=\"none\"/>\n",
              "    <path d=\"M18.56 5.44l.94 2.06.94-2.06 2.06-.94-2.06-.94-.94-2.06-.94 2.06-2.06.94zm-11 1L8.5 8.5l.94-2.06 2.06-.94-2.06-.94L8.5 2.5l-.94 2.06-2.06.94zm10 10l.94 2.06.94-2.06 2.06-.94-2.06-.94-.94-2.06-.94 2.06-2.06.94z\"/><path d=\"M17.41 7.96l-1.37-1.37c-.4-.4-.92-.59-1.43-.59-.52 0-1.04.2-1.43.59L10.3 9.45l-7.72 7.72c-.78.78-.78 2.05 0 2.83L4 21.41c.39.39.9.59 1.41.59.51 0 1.02-.2 1.41-.59l7.78-7.78 2.81-2.81c.8-.78.8-2.07 0-2.86zM5.41 20L4 18.59l7.72-7.72 1.47 1.35L5.41 20z\"/>\n",
              "  </svg>\n",
              "      </button>\n",
              "      \n",
              "  <style>\n",
              "    .colab-df-container {\n",
              "      display:flex;\n",
              "      flex-wrap:wrap;\n",
              "      gap: 12px;\n",
              "    }\n",
              "\n",
              "    .colab-df-convert {\n",
              "      background-color: #E8F0FE;\n",
              "      border: none;\n",
              "      border-radius: 50%;\n",
              "      cursor: pointer;\n",
              "      display: none;\n",
              "      fill: #1967D2;\n",
              "      height: 32px;\n",
              "      padding: 0 0 0 0;\n",
              "      width: 32px;\n",
              "    }\n",
              "\n",
              "    .colab-df-convert:hover {\n",
              "      background-color: #E2EBFA;\n",
              "      box-shadow: 0px 1px 2px rgba(60, 64, 67, 0.3), 0px 1px 3px 1px rgba(60, 64, 67, 0.15);\n",
              "      fill: #174EA6;\n",
              "    }\n",
              "\n",
              "    [theme=dark] .colab-df-convert {\n",
              "      background-color: #3B4455;\n",
              "      fill: #D2E3FC;\n",
              "    }\n",
              "\n",
              "    [theme=dark] .colab-df-convert:hover {\n",
              "      background-color: #434B5C;\n",
              "      box-shadow: 0px 1px 3px 1px rgba(0, 0, 0, 0.15);\n",
              "      filter: drop-shadow(0px 1px 2px rgba(0, 0, 0, 0.3));\n",
              "      fill: #FFFFFF;\n",
              "    }\n",
              "  </style>\n",
              "\n",
              "      <script>\n",
              "        const buttonEl =\n",
              "          document.querySelector('#df-66b038b0-fb1d-48f9-b21a-7fa9ebd8d20c button.colab-df-convert');\n",
              "        buttonEl.style.display =\n",
              "          google.colab.kernel.accessAllowed ? 'block' : 'none';\n",
              "\n",
              "        async function convertToInteractive(key) {\n",
              "          const element = document.querySelector('#df-66b038b0-fb1d-48f9-b21a-7fa9ebd8d20c');\n",
              "          const dataTable =\n",
              "            await google.colab.kernel.invokeFunction('convertToInteractive',\n",
              "                                                     [key], {});\n",
              "          if (!dataTable) return;\n",
              "\n",
              "          const docLinkHtml = 'Like what you see? Visit the ' +\n",
              "            '<a target=\"_blank\" href=https://colab.research.google.com/notebooks/data_table.ipynb>data table notebook</a>'\n",
              "            + ' to learn more about interactive tables.';\n",
              "          element.innerHTML = '';\n",
              "          dataTable['output_type'] = 'display_data';\n",
              "          await google.colab.output.renderOutput(dataTable, element);\n",
              "          const docLink = document.createElement('div');\n",
              "          docLink.innerHTML = docLinkHtml;\n",
              "          element.appendChild(docLink);\n",
              "        }\n",
              "      </script>\n",
              "    </div>\n",
              "  </div>\n",
              "  "
            ]
          },
          "metadata": {},
          "execution_count": 42
        }
      ]
    },
    {
      "cell_type": "code",
      "source": [
        "(ss_train['s_2']-e_ss_train['s_2']).mean()"
      ],
      "metadata": {
        "colab": {
          "base_uri": "https://localhost:8080/"
        },
        "id": "2FCUf5-Y5tHk",
        "outputId": "6effde6e-5b72-444b-c0c7-72b6e77a0b21"
      },
      "execution_count": 48,
      "outputs": [
        {
          "output_type": "execute_result",
          "data": {
            "text/plain": [
              "0.09587839238736667"
            ]
          },
          "metadata": {},
          "execution_count": 48
        }
      ]
    },
    {
      "cell_type": "code",
      "source": [
        "e_ss_train = exponential_smoothing(ss_train, [\"s_0\",\"s_2\"], 0, 0.1)\n",
        "e_ss_train"
      ],
      "metadata": {
        "colab": {
          "base_uri": "https://localhost:8080/",
          "height": 488
        },
        "id": "lZuHDfnv4kZ3",
        "outputId": "c3b9ceae-9043-4c98-9c64-2f458e4f6722"
      },
      "execution_count": 45,
      "outputs": [
        {
          "output_type": "execute_result",
          "data": {
            "text/plain": [
              "       unit_number      time      op_1      op_2  op_3  s_0       s_1  \\\n",
              "0        -1.728084 -1.565170 -0.315980 -1.372953   0.0  0.0 -1.721725   \n",
              "1        -1.728084 -1.550652  0.872722 -1.031720   0.0  0.0 -1.061780   \n",
              "2        -1.728084 -1.536134 -1.961874  1.015677   0.0  0.0 -0.661813   \n",
              "3        -1.728084 -1.521616  0.324090 -0.008022   0.0  0.0 -0.661813   \n",
              "4        -1.728084 -1.507098 -0.864611 -0.690488   0.0  0.0 -0.621816   \n",
              "...            ...       ...       ...       ...   ...  ...       ...   \n",
              "20626     1.659204  1.265868 -0.178822 -1.031720   0.0  0.0  1.618000   \n",
              "20627     1.659204  1.280386 -0.727453 -1.714186   0.0  0.0  1.717992   \n",
              "20628     1.659204  1.294904  0.186933 -0.008022   0.0  0.0  1.478011   \n",
              "20629     1.659204  1.309423 -0.498857  1.015677   0.0  0.0  1.098043   \n",
              "20630     1.659204  1.323941 -1.458962 -1.714186   0.0  0.0  2.337940   \n",
              "\n",
              "            s_2       s_3           s_4  ...      s_12      s_13      s_14  \\\n",
              "0     -0.134255 -0.925936 -1.776357e-15  ... -1.058890 -0.269071 -0.603816   \n",
              "1      0.047736 -0.643726 -1.776357e-15  ... -0.363646 -0.642845 -0.275852   \n",
              "2     -0.122338 -0.525953 -1.776357e-15  ... -0.919841 -0.551629 -0.649144   \n",
              "3     -0.453532 -0.784831 -1.776357e-15  ... -0.224597 -0.520176 -1.971665   \n",
              "4     -0.648398 -0.301518 -1.776357e-15  ... -0.780793 -0.521748 -0.339845   \n",
              "...         ...       ...           ...  ...       ...       ...       ...   \n",
              "20626  1.361246  2.188375 -1.776357e-15  ...  2.278282 -0.322542  1.425294   \n",
              "20627  1.453092  2.738351 -1.776357e-15  ...  1.722087 -0.380207  1.913240   \n",
              "20628  1.502480  2.138377 -1.776357e-15  ...  2.000184 -0.141684  3.265092   \n",
              "20629  1.592599  1.955051 -1.776357e-15  ...  1.861136 -0.233948  2.579834   \n",
              "20630  1.594110  2.578358 -1.776357e-15  ...  2.278282 -0.336696  1.638604   \n",
              "\n",
              "               s_15      s_16  s_17  s_18      s_19      s_20       RUL  \n",
              "0     -1.387779e-17 -0.781710   0.0   0.0  1.348493  1.194427  1.207796  \n",
              "1     -1.387779e-17 -0.781710   0.0   0.0  1.016528  1.236922  1.193277  \n",
              "2     -1.387779e-17 -2.073094   0.0   0.0  0.739891  0.503423  1.178759  \n",
              "3     -1.387779e-17 -0.781710   0.0   0.0  0.352598  0.777792  1.164241  \n",
              "4     -1.387779e-17 -0.136018   0.0   0.0  0.463253  1.059552  1.149723  \n",
              "...             ...       ...   ...   ...       ...       ...       ...  \n",
              "20626 -1.387779e-17  2.446751   0.0   0.0 -1.805173 -2.921113 -1.507098  \n",
              "20627 -1.387779e-17  1.155367   0.0   0.0 -2.856395 -1.203764 -1.521616  \n",
              "20628 -1.387779e-17  3.092444   0.0   0.0 -2.081810 -3.292481 -1.536134  \n",
              "20629 -1.387779e-17  1.155367   0.0   0.0 -2.911722 -2.085072 -1.550652  \n",
              "20630 -1.387779e-17  1.801059   0.0   0.0 -2.469103 -2.194080 -1.565170  \n",
              "\n",
              "[20631 rows x 27 columns]"
            ],
            "text/html": [
              "\n",
              "  <div id=\"df-17767703-47ae-418a-b209-64c72544e5f0\">\n",
              "    <div class=\"colab-df-container\">\n",
              "      <div>\n",
              "<style scoped>\n",
              "    .dataframe tbody tr th:only-of-type {\n",
              "        vertical-align: middle;\n",
              "    }\n",
              "\n",
              "    .dataframe tbody tr th {\n",
              "        vertical-align: top;\n",
              "    }\n",
              "\n",
              "    .dataframe thead th {\n",
              "        text-align: right;\n",
              "    }\n",
              "</style>\n",
              "<table border=\"1\" class=\"dataframe\">\n",
              "  <thead>\n",
              "    <tr style=\"text-align: right;\">\n",
              "      <th></th>\n",
              "      <th>unit_number</th>\n",
              "      <th>time</th>\n",
              "      <th>op_1</th>\n",
              "      <th>op_2</th>\n",
              "      <th>op_3</th>\n",
              "      <th>s_0</th>\n",
              "      <th>s_1</th>\n",
              "      <th>s_2</th>\n",
              "      <th>s_3</th>\n",
              "      <th>s_4</th>\n",
              "      <th>...</th>\n",
              "      <th>s_12</th>\n",
              "      <th>s_13</th>\n",
              "      <th>s_14</th>\n",
              "      <th>s_15</th>\n",
              "      <th>s_16</th>\n",
              "      <th>s_17</th>\n",
              "      <th>s_18</th>\n",
              "      <th>s_19</th>\n",
              "      <th>s_20</th>\n",
              "      <th>RUL</th>\n",
              "    </tr>\n",
              "  </thead>\n",
              "  <tbody>\n",
              "    <tr>\n",
              "      <th>0</th>\n",
              "      <td>-1.728084</td>\n",
              "      <td>-1.565170</td>\n",
              "      <td>-0.315980</td>\n",
              "      <td>-1.372953</td>\n",
              "      <td>0.0</td>\n",
              "      <td>0.0</td>\n",
              "      <td>-1.721725</td>\n",
              "      <td>-0.134255</td>\n",
              "      <td>-0.925936</td>\n",
              "      <td>-1.776357e-15</td>\n",
              "      <td>...</td>\n",
              "      <td>-1.058890</td>\n",
              "      <td>-0.269071</td>\n",
              "      <td>-0.603816</td>\n",
              "      <td>-1.387779e-17</td>\n",
              "      <td>-0.781710</td>\n",
              "      <td>0.0</td>\n",
              "      <td>0.0</td>\n",
              "      <td>1.348493</td>\n",
              "      <td>1.194427</td>\n",
              "      <td>1.207796</td>\n",
              "    </tr>\n",
              "    <tr>\n",
              "      <th>1</th>\n",
              "      <td>-1.728084</td>\n",
              "      <td>-1.550652</td>\n",
              "      <td>0.872722</td>\n",
              "      <td>-1.031720</td>\n",
              "      <td>0.0</td>\n",
              "      <td>0.0</td>\n",
              "      <td>-1.061780</td>\n",
              "      <td>0.047736</td>\n",
              "      <td>-0.643726</td>\n",
              "      <td>-1.776357e-15</td>\n",
              "      <td>...</td>\n",
              "      <td>-0.363646</td>\n",
              "      <td>-0.642845</td>\n",
              "      <td>-0.275852</td>\n",
              "      <td>-1.387779e-17</td>\n",
              "      <td>-0.781710</td>\n",
              "      <td>0.0</td>\n",
              "      <td>0.0</td>\n",
              "      <td>1.016528</td>\n",
              "      <td>1.236922</td>\n",
              "      <td>1.193277</td>\n",
              "    </tr>\n",
              "    <tr>\n",
              "      <th>2</th>\n",
              "      <td>-1.728084</td>\n",
              "      <td>-1.536134</td>\n",
              "      <td>-1.961874</td>\n",
              "      <td>1.015677</td>\n",
              "      <td>0.0</td>\n",
              "      <td>0.0</td>\n",
              "      <td>-0.661813</td>\n",
              "      <td>-0.122338</td>\n",
              "      <td>-0.525953</td>\n",
              "      <td>-1.776357e-15</td>\n",
              "      <td>...</td>\n",
              "      <td>-0.919841</td>\n",
              "      <td>-0.551629</td>\n",
              "      <td>-0.649144</td>\n",
              "      <td>-1.387779e-17</td>\n",
              "      <td>-2.073094</td>\n",
              "      <td>0.0</td>\n",
              "      <td>0.0</td>\n",
              "      <td>0.739891</td>\n",
              "      <td>0.503423</td>\n",
              "      <td>1.178759</td>\n",
              "    </tr>\n",
              "    <tr>\n",
              "      <th>3</th>\n",
              "      <td>-1.728084</td>\n",
              "      <td>-1.521616</td>\n",
              "      <td>0.324090</td>\n",
              "      <td>-0.008022</td>\n",
              "      <td>0.0</td>\n",
              "      <td>0.0</td>\n",
              "      <td>-0.661813</td>\n",
              "      <td>-0.453532</td>\n",
              "      <td>-0.784831</td>\n",
              "      <td>-1.776357e-15</td>\n",
              "      <td>...</td>\n",
              "      <td>-0.224597</td>\n",
              "      <td>-0.520176</td>\n",
              "      <td>-1.971665</td>\n",
              "      <td>-1.387779e-17</td>\n",
              "      <td>-0.781710</td>\n",
              "      <td>0.0</td>\n",
              "      <td>0.0</td>\n",
              "      <td>0.352598</td>\n",
              "      <td>0.777792</td>\n",
              "      <td>1.164241</td>\n",
              "    </tr>\n",
              "    <tr>\n",
              "      <th>4</th>\n",
              "      <td>-1.728084</td>\n",
              "      <td>-1.507098</td>\n",
              "      <td>-0.864611</td>\n",
              "      <td>-0.690488</td>\n",
              "      <td>0.0</td>\n",
              "      <td>0.0</td>\n",
              "      <td>-0.621816</td>\n",
              "      <td>-0.648398</td>\n",
              "      <td>-0.301518</td>\n",
              "      <td>-1.776357e-15</td>\n",
              "      <td>...</td>\n",
              "      <td>-0.780793</td>\n",
              "      <td>-0.521748</td>\n",
              "      <td>-0.339845</td>\n",
              "      <td>-1.387779e-17</td>\n",
              "      <td>-0.136018</td>\n",
              "      <td>0.0</td>\n",
              "      <td>0.0</td>\n",
              "      <td>0.463253</td>\n",
              "      <td>1.059552</td>\n",
              "      <td>1.149723</td>\n",
              "    </tr>\n",
              "    <tr>\n",
              "      <th>...</th>\n",
              "      <td>...</td>\n",
              "      <td>...</td>\n",
              "      <td>...</td>\n",
              "      <td>...</td>\n",
              "      <td>...</td>\n",
              "      <td>...</td>\n",
              "      <td>...</td>\n",
              "      <td>...</td>\n",
              "      <td>...</td>\n",
              "      <td>...</td>\n",
              "      <td>...</td>\n",
              "      <td>...</td>\n",
              "      <td>...</td>\n",
              "      <td>...</td>\n",
              "      <td>...</td>\n",
              "      <td>...</td>\n",
              "      <td>...</td>\n",
              "      <td>...</td>\n",
              "      <td>...</td>\n",
              "      <td>...</td>\n",
              "      <td>...</td>\n",
              "    </tr>\n",
              "    <tr>\n",
              "      <th>20626</th>\n",
              "      <td>1.659204</td>\n",
              "      <td>1.265868</td>\n",
              "      <td>-0.178822</td>\n",
              "      <td>-1.031720</td>\n",
              "      <td>0.0</td>\n",
              "      <td>0.0</td>\n",
              "      <td>1.618000</td>\n",
              "      <td>1.361246</td>\n",
              "      <td>2.188375</td>\n",
              "      <td>-1.776357e-15</td>\n",
              "      <td>...</td>\n",
              "      <td>2.278282</td>\n",
              "      <td>-0.322542</td>\n",
              "      <td>1.425294</td>\n",
              "      <td>-1.387779e-17</td>\n",
              "      <td>2.446751</td>\n",
              "      <td>0.0</td>\n",
              "      <td>0.0</td>\n",
              "      <td>-1.805173</td>\n",
              "      <td>-2.921113</td>\n",
              "      <td>-1.507098</td>\n",
              "    </tr>\n",
              "    <tr>\n",
              "      <th>20627</th>\n",
              "      <td>1.659204</td>\n",
              "      <td>1.280386</td>\n",
              "      <td>-0.727453</td>\n",
              "      <td>-1.714186</td>\n",
              "      <td>0.0</td>\n",
              "      <td>0.0</td>\n",
              "      <td>1.717992</td>\n",
              "      <td>1.453092</td>\n",
              "      <td>2.738351</td>\n",
              "      <td>-1.776357e-15</td>\n",
              "      <td>...</td>\n",
              "      <td>1.722087</td>\n",
              "      <td>-0.380207</td>\n",
              "      <td>1.913240</td>\n",
              "      <td>-1.387779e-17</td>\n",
              "      <td>1.155367</td>\n",
              "      <td>0.0</td>\n",
              "      <td>0.0</td>\n",
              "      <td>-2.856395</td>\n",
              "      <td>-1.203764</td>\n",
              "      <td>-1.521616</td>\n",
              "    </tr>\n",
              "    <tr>\n",
              "      <th>20628</th>\n",
              "      <td>1.659204</td>\n",
              "      <td>1.294904</td>\n",
              "      <td>0.186933</td>\n",
              "      <td>-0.008022</td>\n",
              "      <td>0.0</td>\n",
              "      <td>0.0</td>\n",
              "      <td>1.478011</td>\n",
              "      <td>1.502480</td>\n",
              "      <td>2.138377</td>\n",
              "      <td>-1.776357e-15</td>\n",
              "      <td>...</td>\n",
              "      <td>2.000184</td>\n",
              "      <td>-0.141684</td>\n",
              "      <td>3.265092</td>\n",
              "      <td>-1.387779e-17</td>\n",
              "      <td>3.092444</td>\n",
              "      <td>0.0</td>\n",
              "      <td>0.0</td>\n",
              "      <td>-2.081810</td>\n",
              "      <td>-3.292481</td>\n",
              "      <td>-1.536134</td>\n",
              "    </tr>\n",
              "    <tr>\n",
              "      <th>20629</th>\n",
              "      <td>1.659204</td>\n",
              "      <td>1.309423</td>\n",
              "      <td>-0.498857</td>\n",
              "      <td>1.015677</td>\n",
              "      <td>0.0</td>\n",
              "      <td>0.0</td>\n",
              "      <td>1.098043</td>\n",
              "      <td>1.592599</td>\n",
              "      <td>1.955051</td>\n",
              "      <td>-1.776357e-15</td>\n",
              "      <td>...</td>\n",
              "      <td>1.861136</td>\n",
              "      <td>-0.233948</td>\n",
              "      <td>2.579834</td>\n",
              "      <td>-1.387779e-17</td>\n",
              "      <td>1.155367</td>\n",
              "      <td>0.0</td>\n",
              "      <td>0.0</td>\n",
              "      <td>-2.911722</td>\n",
              "      <td>-2.085072</td>\n",
              "      <td>-1.550652</td>\n",
              "    </tr>\n",
              "    <tr>\n",
              "      <th>20630</th>\n",
              "      <td>1.659204</td>\n",
              "      <td>1.323941</td>\n",
              "      <td>-1.458962</td>\n",
              "      <td>-1.714186</td>\n",
              "      <td>0.0</td>\n",
              "      <td>0.0</td>\n",
              "      <td>2.337940</td>\n",
              "      <td>1.594110</td>\n",
              "      <td>2.578358</td>\n",
              "      <td>-1.776357e-15</td>\n",
              "      <td>...</td>\n",
              "      <td>2.278282</td>\n",
              "      <td>-0.336696</td>\n",
              "      <td>1.638604</td>\n",
              "      <td>-1.387779e-17</td>\n",
              "      <td>1.801059</td>\n",
              "      <td>0.0</td>\n",
              "      <td>0.0</td>\n",
              "      <td>-2.469103</td>\n",
              "      <td>-2.194080</td>\n",
              "      <td>-1.565170</td>\n",
              "    </tr>\n",
              "  </tbody>\n",
              "</table>\n",
              "<p>20631 rows × 27 columns</p>\n",
              "</div>\n",
              "      <button class=\"colab-df-convert\" onclick=\"convertToInteractive('df-17767703-47ae-418a-b209-64c72544e5f0')\"\n",
              "              title=\"Convert this dataframe to an interactive table.\"\n",
              "              style=\"display:none;\">\n",
              "        \n",
              "  <svg xmlns=\"http://www.w3.org/2000/svg\" height=\"24px\"viewBox=\"0 0 24 24\"\n",
              "       width=\"24px\">\n",
              "    <path d=\"M0 0h24v24H0V0z\" fill=\"none\"/>\n",
              "    <path d=\"M18.56 5.44l.94 2.06.94-2.06 2.06-.94-2.06-.94-.94-2.06-.94 2.06-2.06.94zm-11 1L8.5 8.5l.94-2.06 2.06-.94-2.06-.94L8.5 2.5l-.94 2.06-2.06.94zm10 10l.94 2.06.94-2.06 2.06-.94-2.06-.94-.94-2.06-.94 2.06-2.06.94z\"/><path d=\"M17.41 7.96l-1.37-1.37c-.4-.4-.92-.59-1.43-.59-.52 0-1.04.2-1.43.59L10.3 9.45l-7.72 7.72c-.78.78-.78 2.05 0 2.83L4 21.41c.39.39.9.59 1.41.59.51 0 1.02-.2 1.41-.59l7.78-7.78 2.81-2.81c.8-.78.8-2.07 0-2.86zM5.41 20L4 18.59l7.72-7.72 1.47 1.35L5.41 20z\"/>\n",
              "  </svg>\n",
              "      </button>\n",
              "      \n",
              "  <style>\n",
              "    .colab-df-container {\n",
              "      display:flex;\n",
              "      flex-wrap:wrap;\n",
              "      gap: 12px;\n",
              "    }\n",
              "\n",
              "    .colab-df-convert {\n",
              "      background-color: #E8F0FE;\n",
              "      border: none;\n",
              "      border-radius: 50%;\n",
              "      cursor: pointer;\n",
              "      display: none;\n",
              "      fill: #1967D2;\n",
              "      height: 32px;\n",
              "      padding: 0 0 0 0;\n",
              "      width: 32px;\n",
              "    }\n",
              "\n",
              "    .colab-df-convert:hover {\n",
              "      background-color: #E2EBFA;\n",
              "      box-shadow: 0px 1px 2px rgba(60, 64, 67, 0.3), 0px 1px 3px 1px rgba(60, 64, 67, 0.15);\n",
              "      fill: #174EA6;\n",
              "    }\n",
              "\n",
              "    [theme=dark] .colab-df-convert {\n",
              "      background-color: #3B4455;\n",
              "      fill: #D2E3FC;\n",
              "    }\n",
              "\n",
              "    [theme=dark] .colab-df-convert:hover {\n",
              "      background-color: #434B5C;\n",
              "      box-shadow: 0px 1px 3px 1px rgba(0, 0, 0, 0.15);\n",
              "      filter: drop-shadow(0px 1px 2px rgba(0, 0, 0, 0.3));\n",
              "      fill: #FFFFFF;\n",
              "    }\n",
              "  </style>\n",
              "\n",
              "      <script>\n",
              "        const buttonEl =\n",
              "          document.querySelector('#df-17767703-47ae-418a-b209-64c72544e5f0 button.colab-df-convert');\n",
              "        buttonEl.style.display =\n",
              "          google.colab.kernel.accessAllowed ? 'block' : 'none';\n",
              "\n",
              "        async function convertToInteractive(key) {\n",
              "          const element = document.querySelector('#df-17767703-47ae-418a-b209-64c72544e5f0');\n",
              "          const dataTable =\n",
              "            await google.colab.kernel.invokeFunction('convertToInteractive',\n",
              "                                                     [key], {});\n",
              "          if (!dataTable) return;\n",
              "\n",
              "          const docLinkHtml = 'Like what you see? Visit the ' +\n",
              "            '<a target=\"_blank\" href=https://colab.research.google.com/notebooks/data_table.ipynb>data table notebook</a>'\n",
              "            + ' to learn more about interactive tables.';\n",
              "          element.innerHTML = '';\n",
              "          dataTable['output_type'] = 'display_data';\n",
              "          await google.colab.output.renderOutput(dataTable, element);\n",
              "          const docLink = document.createElement('div');\n",
              "          docLink.innerHTML = docLinkHtml;\n",
              "          element.appendChild(docLink);\n",
              "        }\n",
              "      </script>\n",
              "    </div>\n",
              "  </div>\n",
              "  "
            ]
          },
          "metadata": {},
          "execution_count": 45
        }
      ]
    },
    {
      "cell_type": "code",
      "source": [],
      "metadata": {
        "id": "kwm9UqIr4Yyf"
      },
      "execution_count": null,
      "outputs": []
    },
    {
      "cell_type": "markdown",
      "source": [
        "# OFF 3"
      ],
      "metadata": {
        "id": "JDcMN66I8WZ3"
      }
    },
    {
      "cell_type": "markdown",
      "source": [],
      "metadata": {
        "id": "M2igVtXS4MV5"
      }
    },
    {
      "cell_type": "markdown",
      "source": [
        "## PolyFeatures(2) + Linear RUL"
      ],
      "metadata": {
        "id": "ZQ2hpA7tKcAn"
      }
    },
    {
      "cell_type": "code",
      "source": [
        "model = Pipeline([\n",
        "    ('poly_ft'  ,   PolynomialFeatures()),\n",
        "    ('scaler'  ,   MinMaxScaler()),\n",
        "    ('mlp'  ,   KerasRegressor(model=create_model_pol,verbose=0, callbacks=[es], \n",
        "                               validation_split=0.2, \n",
        "                               model__metrics=[RMSE(), R2()],\n",
        "                               model__loss='mse'))\n",
        "])\n",
        "model"
      ],
      "metadata": {
        "colab": {
          "base_uri": "https://localhost:8080/"
        },
        "outputId": "af7581c5-b437-4e41-8e69-ae8e448c4c9a",
        "id": "dGdg2ByKKhmc"
      },
      "execution_count": null,
      "outputs": [
        {
          "output_type": "execute_result",
          "data": {
            "text/plain": [
              "Pipeline(steps=[('poly_ft', PolynomialFeatures()), ('scaler', MinMaxScaler()),\n",
              "                ('mlp',\n",
              "                 KerasRegressor(callbacks=[<keras.callbacks.EarlyStopping object at 0x7f36c0d21d10>], model=<function create_model at 0x7f36b04c3320>, model__loss='mse', model__metrics=[<keras.metrics.RootMeanSquaredError object at 0x7f362c2ea850>, <tensorflow_addons.metrics.r_square.RSquare object at 0x7f36b0528250>], validation_split=0.2, verbose=0))])"
            ]
          },
          "metadata": {},
          "execution_count": 44
        }
      ]
    },
    {
      "cell_type": "code",
      "source": [
        "# ~6min\n",
        "GRID_SEARCH = False\n",
        "if (GRID_SEARCH):\n",
        "    param_distributions = {\n",
        "        \"scaler\": [MinMaxScaler(),StandardScaler()],\n",
        "        \"mlp__epochs\": [1,5,10,20,30,50],\n",
        "        \"mlp__validation_split\":[0.1,0.2,0.4,0.5],\n",
        "        \"mlp__batch_size\": [32,64,128,256,512],\n",
        "        \"mlp__model__optim\":[Adam,SGD,RMSprop],\n",
        "        \"mlp__model__learning_rate\": [1e-2,1e-3,1e-4],\n",
        "        \"mlp__model__dropout\": [0.1,0.2,0.4,0.5],\n",
        "        \"mlp__model__layer_nodes\": [[16, 32, 64], [32, 64, 128], [64, 128, 256], [128, 256, 512]],\n",
        "        \"mlp__model__activation\": [\"relu\",\"tanh\", \"sigmoid\"]\n",
        "    }\n",
        "    model = search.run_HR_GS(model, X_train, y_train, param_distributions, \n",
        "                             factor=2, scorer='r2', ignore_warnings=True, cv=3)\n",
        "    print(model)\n",
        "    print(\"Finished:\", datetime.datetime.now())"
      ],
      "metadata": {
        "colab": {
          "base_uri": "https://localhost:8080/"
        },
        "outputId": "012570dd-35cc-496a-f9c5-be1600f86c48",
        "id": "qkp8l9AgKhmd"
      },
      "execution_count": null,
      "outputs": [
        {
          "output_type": "stream",
          "name": "stdout",
          "text": [
            "n_iterations: 4\n",
            "n_required_iterations: 4\n",
            "n_possible_iterations: 4\n",
            "min_resources_: 500\n",
            "max_resources_: 20631\n",
            "aggressive_elimination: False\n",
            "factor: 3\n",
            "----------\n",
            "iter: 0\n",
            "n_candidates: 41\n",
            "n_resources: 500\n",
            "Fitting 2 folds for each of 41 candidates, totalling 82 fits\n"
          ]
        },
        {
          "output_type": "stream",
          "name": "stderr",
          "text": [
            "WARNING:tensorflow:5 out of the last 25 calls to <function Model.make_predict_function.<locals>.predict_function at 0x7f36422dfe60> triggered tf.function retracing. Tracing is expensive and the excessive number of tracings could be due to (1) creating @tf.function repeatedly in a loop, (2) passing tensors with different shapes, (3) passing Python objects instead of tensors. For (1), please define your @tf.function outside of the loop. For (2), @tf.function has experimental_relax_shapes=True option that relaxes argument shapes that can avoid unnecessary retracing. For (3), please refer to https://www.tensorflow.org/guide/function#controlling_retracing and https://www.tensorflow.org/api_docs/python/tf/function for  more details.\n",
            "WARNING:tensorflow:5 out of the last 17 calls to <function Model.make_predict_function.<locals>.predict_function at 0x7f364204a7a0> triggered tf.function retracing. Tracing is expensive and the excessive number of tracings could be due to (1) creating @tf.function repeatedly in a loop, (2) passing tensors with different shapes, (3) passing Python objects instead of tensors. For (1), please define your @tf.function outside of the loop. For (2), @tf.function has experimental_relax_shapes=True option that relaxes argument shapes that can avoid unnecessary retracing. For (3), please refer to https://www.tensorflow.org/guide/function#controlling_retracing and https://www.tensorflow.org/api_docs/python/tf/function for  more details.\n",
            "WARNING:tensorflow:5 out of the last 15 calls to <function Model.make_train_function.<locals>.train_function at 0x7f3628569b90> triggered tf.function retracing. Tracing is expensive and the excessive number of tracings could be due to (1) creating @tf.function repeatedly in a loop, (2) passing tensors with different shapes, (3) passing Python objects instead of tensors. For (1), please define your @tf.function outside of the loop. For (2), @tf.function has experimental_relax_shapes=True option that relaxes argument shapes that can avoid unnecessary retracing. For (3), please refer to https://www.tensorflow.org/guide/function#controlling_retracing and https://www.tensorflow.org/api_docs/python/tf/function for  more details.\n",
            "WARNING:tensorflow:5 out of the last 13 calls to <function Model.make_test_function.<locals>.test_function at 0x7f3628487950> triggered tf.function retracing. Tracing is expensive and the excessive number of tracings could be due to (1) creating @tf.function repeatedly in a loop, (2) passing tensors with different shapes, (3) passing Python objects instead of tensors. For (1), please define your @tf.function outside of the loop. For (2), @tf.function has experimental_relax_shapes=True option that relaxes argument shapes that can avoid unnecessary retracing. For (3), please refer to https://www.tensorflow.org/guide/function#controlling_retracing and https://www.tensorflow.org/api_docs/python/tf/function for  more details.\n",
            "WARNING:tensorflow:5 out of the last 13 calls to <function Model.make_train_function.<locals>.train_function at 0x7f3642041e60> triggered tf.function retracing. Tracing is expensive and the excessive number of tracings could be due to (1) creating @tf.function repeatedly in a loop, (2) passing tensors with different shapes, (3) passing Python objects instead of tensors. For (1), please define your @tf.function outside of the loop. For (2), @tf.function has experimental_relax_shapes=True option that relaxes argument shapes that can avoid unnecessary retracing. For (3), please refer to https://www.tensorflow.org/guide/function#controlling_retracing and https://www.tensorflow.org/api_docs/python/tf/function for  more details.\n"
          ]
        },
        {
          "output_type": "stream",
          "name": "stdout",
          "text": [
            "----------\n",
            "iter: 1\n",
            "n_candidates: 14\n",
            "n_resources: 1500\n",
            "Fitting 2 folds for each of 14 candidates, totalling 28 fits\n",
            "----------\n",
            "iter: 2\n",
            "n_candidates: 5\n",
            "n_resources: 4500\n",
            "Fitting 2 folds for each of 5 candidates, totalling 10 fits\n",
            "----------\n",
            "iter: 3\n",
            "n_candidates: 2\n",
            "n_resources: 13500\n",
            "Fitting 2 folds for each of 2 candidates, totalling 4 fits\n",
            "Best params:  {'scaler': StandardScaler(), 'mlp__validation_split': 0.2, 'mlp__model__optim': <class 'keras.optimizer_v2.gradient_descent.SGD'>, 'mlp__model__learning_rate': 0.001, 'mlp__model__layer_nodes': [128, 256, 512], 'mlp__model__dropout': 0.4, 'mlp__model__activation': 'sigmoid', 'mlp__epochs': 50, 'mlp__batch_size': 512}\n",
            "Pipeline(steps=[('poly_ft', PolynomialFeatures()), ('scaler', StandardScaler()),\n",
            "                ('mlp',\n",
            "                 KerasRegressor(batch_size=512, callbacks=[<keras.callbacks.EarlyStopping object at 0x7f36281d8550>], epochs=50, model=<function create_model at 0x7f36b04c3320>, model__activation='sigmoid', model__dropout=0.4, model__layer_nodes=[128, 256, 512], model__learning_rate=0.001, model__loss='mse', model__metrics=[<keras.metrics.RootMeanSquaredError object at 0x7f36281d8d10>, <tensorflow_addons.metrics.r_square.RSquare object at 0x7f36284c0550>], model__optim=<class 'keras.optimizer_v2.gradient_descent.SGD'>, validation_split=0.2, verbose=0))])\n",
            "Finished: 2022-09-12 10:48:50.150156\n"
          ]
        }
      ]
    },
    {
      "cell_type": "markdown",
      "source": [
        "Best Model:\n",
        "```\n",
        "{'scaler': StandardScaler(), \n",
        "'mlp__validation_split': 0.2, \n",
        "'mlp__model__optim': <class 'keras.optimizer_v2.gradient_descent.SGD'>, 'mlp__model__learning_rate': 0.001, \n",
        "'mlp__model__layer_nodes': [128, 256, 512], \n",
        "'mlp__model__dropout': 0.4, \n",
        "'mlp__model__activation': 'sigmoid', \n",
        "'mlp__epochs': 50, \n",
        "'mlp__batch_size': 512}\n",
        "```"
      ],
      "metadata": {
        "id": "bgJ0ugeZKhmd"
      }
    },
    {
      "cell_type": "code",
      "source": [
        "model = Pipeline([\n",
        "    ('poly_ft'  ,   PolynomialFeatures()),\n",
        "    ('scaler'  , StandardScaler()),\n",
        "    ('mlp'     , KerasRegressor(model=create_model_pol, \n",
        "                                model__metrics=[RMSE(), R2()],\n",
        "                                model__loss='mse',\n",
        "                                verbose=0, callbacks=[es,printerCallback],  \n",
        "                                validation_split=0.2, \n",
        "                                model__optim=SGD,\n",
        "                                model__learning_rate=0.001, \n",
        "                                model__layer_nodes=[128,256,512],\n",
        "                                model__dropout=0.4,\n",
        "                                model__activation='sigmoid',\n",
        "                                epochs=50, \n",
        "                                batch_size=512))\n",
        "])\n",
        "model"
      ],
      "metadata": {
        "colab": {
          "base_uri": "https://localhost:8080/"
        },
        "outputId": "de61af16-00ca-4b12-c701-04672efdaee5",
        "id": "joPgZ3UeKhme"
      },
      "execution_count": null,
      "outputs": [
        {
          "output_type": "execute_result",
          "data": {
            "text/plain": [
              "Pipeline(steps=[('poly_ft', PolynomialFeatures()), ('scaler', StandardScaler()),\n",
              "                ('mlp',\n",
              "                 KerasRegressor(batch_size=512, callbacks=[<keras.callbacks.EarlyStopping object at 0x7f36c0d21d10>, <keras.callbacks.LambdaCallback object at 0x7f36c01c4850>], epochs=50, model=<function create_model at 0x7f36b04c3320>, model__activation='sigmoid', model__dropout=0.4, model__layer_nodes=[128, 256, 512], model__learning_rate=0.001, model__loss='mse', model__metrics=[<keras.metrics.RootMeanSquaredError object at 0x7f361648bd50>, <tensorflow_addons.metrics.r_square.RSquare object at 0x7f361648b850>], model__optim=<class 'keras.optimizer_v2.gradient_descent.SGD'>, validation_split=0.2, verbose=0))])"
            ]
          },
          "metadata": {},
          "execution_count": 46
        }
      ]
    },
    {
      "cell_type": "code",
      "source": [
        "model.fit(X_train, y_train)\n",
        "eval.show_result(y_train, model.predict(X_train))\n",
        "print(\"Finished:\", datetime.datetime.now())"
      ],
      "metadata": {
        "colab": {
          "base_uri": "https://localhost:8080/"
        },
        "outputId": "27554139-1f6c-4b32-93e4-ae3a86ff7434",
        "id": "EWMM8n3gKhme"
      },
      "execution_count": null,
      "outputs": [
        {
          "output_type": "stream",
          "name": "stdout",
          "text": [
            "E 0\t: loss=4271.573, rmse=65.357, r2=0.017; v_loss=3707.898, v_rmse=60.893, v_r2=0.401; \n",
            "E 1\t: loss=1938.243, rmse=44.025, r2=0.554; v_loss=2839.112, v_rmse=53.283, v_r2=0.541; \n",
            "E 2\t: loss=1759.316, rmse=41.944, r2=0.595; v_loss=2711.072, v_rmse=52.068, v_r2=0.562; \n",
            "E 3\t: loss=1734.720, rmse=41.650, r2=0.601; v_loss=2709.544, v_rmse=52.053, v_r2=0.562; \n",
            "E 4\t: loss=1716.355, rmse=41.429, r2=0.605; v_loss=2621.782, v_rmse=51.203, v_r2=0.576; \n",
            "E 5\t: loss=1714.445, rmse=41.406, r2=0.606; v_loss=2598.654, v_rmse=50.977, v_r2=0.580; \n",
            "E 6\t: loss=1699.979, rmse=41.231, r2=0.609; v_loss=2570.351, v_rmse=50.699, v_r2=0.585; \n",
            "E 7\t: loss=1699.774, rmse=41.228, r2=0.609; v_loss=2664.598, v_rmse=51.620, v_r2=0.569; \n",
            "E 8\t: loss=1669.670, rmse=40.862, r2=0.616; v_loss=2607.967, v_rmse=51.068, v_r2=0.579; \n",
            "E 9\t: loss=1662.341, rmse=40.772, r2=0.618; v_loss=2865.036, v_rmse=53.526, v_r2=0.537; \n",
            "E 10\t: loss=1645.317, rmse=40.563, r2=0.622; v_loss=2657.781, v_rmse=51.554, v_r2=0.570; \n",
            "E 11\t: loss=1641.543, rmse=40.516, r2=0.622; v_loss=2583.149, v_rmse=50.825, v_r2=0.583; \n",
            "E 12\t: loss=1638.355, rmse=40.477, r2=0.623; v_loss=2766.257, v_rmse=52.595, v_r2=0.553; \n",
            "E 13\t: loss=1621.628, rmse=40.269, r2=0.627; v_loss=2592.054, v_rmse=50.912, v_r2=0.581; \n",
            "E 14\t: loss=1616.919, rmse=40.211, r2=0.628; v_loss=2603.854, v_rmse=51.028, v_r2=0.579; \n",
            "E 15\t: loss=1615.949, rmse=40.199, r2=0.628; v_loss=2669.961, v_rmse=51.672, v_r2=0.569; \n",
            "E 16\t: loss=1616.084, rmse=40.201, r2=0.628; v_loss=2521.032, v_rmse=50.210, v_r2=0.593; \n",
            "E 17\t: loss=1611.284, rmse=40.141, r2=0.629; v_loss=2770.538, v_rmse=52.636, v_r2=0.552; \n",
            "E 18\t: loss=1600.718, rmse=40.009, r2=0.632; v_loss=2615.737, v_rmse=51.144, v_r2=0.577; \n",
            "E 19\t: loss=1600.670, rmse=40.008, r2=0.632; v_loss=2750.708, v_rmse=52.447, v_r2=0.555; \n",
            "E 20\t: loss=1590.578, rmse=39.882, r2=0.634; v_loss=2546.329, v_rmse=50.461, v_r2=0.589; \n",
            "E 21\t: loss=1606.289, rmse=40.079, r2=0.630; v_loss=3072.527, v_rmse=55.430, v_r2=0.503; \n",
            "E 22\t: loss=1596.107, rmse=39.951, r2=0.633; v_loss=2773.296, v_rmse=52.662, v_r2=0.552; \n",
            "E 23\t: loss=1592.532, rmse=39.907, r2=0.634; v_loss=2754.838, v_rmse=52.487, v_r2=0.555; \n",
            "E 24\t: loss=1584.756, rmse=39.809, r2=0.635; v_loss=2780.689, v_rmse=52.732, v_r2=0.551; \n",
            "E 25\t: loss=1584.811, rmse=39.810, r2=0.635; v_loss=2858.316, v_rmse=53.463, v_r2=0.538; \n",
            "E 26\t: loss=1591.958, rmse=39.899, r2=0.634; v_loss=2878.594, v_rmse=53.653, v_r2=0.535; \n",
            "E 27\t: loss=1590.332, rmse=39.879, r2=0.634; v_loss=2732.787, v_rmse=52.276, v_r2=0.558; \n",
            "E 28\t: loss=1583.080, rmse=39.788, r2=0.636; v_loss=2630.674, v_rmse=51.290, v_r2=0.575; \n",
            "E 29\t: loss=1581.740, rmse=39.771, r2=0.636; v_loss=2546.362, v_rmse=50.461, v_r2=0.588; \n",
            "E 30\t: loss=1577.062, rmse=39.712, r2=0.637; v_loss=2634.325, v_rmse=51.326, v_r2=0.574; \n",
            "E 31\t: loss=1578.937, rmse=39.736, r2=0.637; v_loss=2521.557, v_rmse=50.215, v_r2=0.593; \n",
            "E 32\t: loss=1579.228, rmse=39.740, r2=0.637; v_loss=2629.236, v_rmse=51.276, v_r2=0.575; \n",
            "E 33\t: loss=1579.705, rmse=39.745, r2=0.637; v_loss=2952.550, v_rmse=54.337, v_r2=0.523; \n",
            "E 34\t: loss=1585.003, rmse=39.812, r2=0.635; v_loss=2683.485, v_rmse=51.802, v_r2=0.566; \n",
            "E 35\t: loss=1578.085, rmse=39.725, r2=0.637; v_loss=2590.632, v_rmse=50.898, v_r2=0.581; \n",
            "R2=0.634,RMSE=-41.667\n",
            "Finished: 2022-09-12 10:50:02.870685\n"
          ]
        }
      ]
    },
    {
      "cell_type": "code",
      "source": [
        "eval.show_result(y_test, model.predict(X_test))\n",
        "print(\"Finished:\", datetime.datetime.now())"
      ],
      "metadata": {
        "colab": {
          "base_uri": "https://localhost:8080/"
        },
        "outputId": "bf84126d-f36d-4a4e-87c0-d0957ab972dd",
        "id": "VPNuSj3lKhme"
      },
      "execution_count": null,
      "outputs": [
        {
          "output_type": "stream",
          "name": "stdout",
          "text": [
            "R2=0.469,RMSE=-30.277\n",
            "Finished: 2022-09-12 10:50:06.977277\n"
          ]
        }
      ]
    },
    {
      "cell_type": "markdown",
      "source": [],
      "metadata": {
        "id": "9d41Lbllb5Gl"
      }
    },
    {
      "cell_type": "markdown",
      "source": [
        "## PolyFeatures(3) + Linear RUL"
      ],
      "metadata": {
        "id": "qnIpTnKzb5uC"
      }
    },
    {
      "cell_type": "code",
      "source": [
        "model = Pipeline([\n",
        "    ('poly_ft'  ,   PolynomialFeatures(degree=3)),\n",
        "    ('scaler'  ,   MinMaxScaler()),\n",
        "    ('mlp'  ,   KerasRegressor(model=create_model_pol3,verbose=0, callbacks=[es], \n",
        "                               validation_split=0.2, \n",
        "                               model__metrics=[RMSE(), R2()],\n",
        "                               model__loss='mse'))\n",
        "])\n",
        "model"
      ],
      "metadata": {
        "colab": {
          "base_uri": "https://localhost:8080/"
        },
        "outputId": "bb184eab-99ca-43cd-d142-b17e38fecd86",
        "id": "ujyScHoYb5uF"
      },
      "execution_count": null,
      "outputs": [
        {
          "output_type": "execute_result",
          "data": {
            "text/plain": [
              "Pipeline(steps=[('poly_ft', PolynomialFeatures(degree=3)),\n",
              "                ('scaler', MinMaxScaler()),\n",
              "                ('mlp',\n",
              "                 KerasRegressor(callbacks=[<keras.callbacks.EarlyStopping object at 0x7f36c0d21d10>], model=<function create_model_pol3 at 0x7f361b2a1dd0>, model__loss='mse', model__metrics=[<keras.metrics.RootMeanSquaredError object at 0x7f361b402f10>, <tensorflow_addons.metrics.r_square.RSquare object at 0x7f361b402090>], validation_split=0.2, verbose=0))])"
            ]
          },
          "metadata": {},
          "execution_count": 68
        }
      ]
    },
    {
      "cell_type": "code",
      "source": [
        "# ~6min\n",
        "GRID_SEARCH = False\n",
        "if (GRID_SEARCH):\n",
        "    param_distributions = {\n",
        "        \"scaler\": [MinMaxScaler(),StandardScaler()],\n",
        "        \"mlp__epochs\": [1,5,10,20,30,50],\n",
        "        \"mlp__validation_split\":[0.1,0.2,0.4,0.5],\n",
        "        \"mlp__batch_size\": [32,64,128,256,512],\n",
        "        \"mlp__model__optim\":[Adam,SGD,RMSprop],\n",
        "        \"mlp__model__learning_rate\": [1e-2,1e-3,1e-4],\n",
        "        \"mlp__model__dropout\": [0.1,0.2,0.4,0.5],\n",
        "        \"mlp__model__layer_nodes\": [[16, 32, 64], [32, 64, 128], [64, 128, 256], [128, 256, 512]],\n",
        "        \"mlp__model__activation\": [\"relu\",\"tanh\", \"sigmoid\"]\n",
        "    }\n",
        "    model = search.run_HR_GS(model, X_train, y_train, param_distributions, \n",
        "                             factor=2, scorer='r2', ignore_warnings=True, cv=3)\n",
        "    print(model)\n",
        "    print(\"Finished:\", datetime.datetime.now())"
      ],
      "metadata": {
        "colab": {
          "base_uri": "https://localhost:8080/"
        },
        "outputId": "ac36cf7a-da05-4517-cccb-4c0957c1ec19",
        "id": "8bz0KOLBb5uI"
      },
      "execution_count": null,
      "outputs": [
        {
          "output_type": "stream",
          "name": "stdout",
          "text": [
            "n_iterations: 4\n",
            "n_required_iterations: 4\n",
            "n_possible_iterations: 4\n",
            "min_resources_: 500\n",
            "max_resources_: 20631\n",
            "aggressive_elimination: False\n",
            "factor: 3\n",
            "----------\n",
            "iter: 0\n",
            "n_candidates: 41\n",
            "n_resources: 500\n",
            "Fitting 2 folds for each of 41 candidates, totalling 82 fits\n",
            "----------\n",
            "iter: 1\n",
            "n_candidates: 14\n",
            "n_resources: 1500\n",
            "Fitting 2 folds for each of 14 candidates, totalling 28 fits\n",
            "----------\n",
            "iter: 2\n",
            "n_candidates: 5\n",
            "n_resources: 4500\n",
            "Fitting 2 folds for each of 5 candidates, totalling 10 fits\n",
            "----------\n",
            "iter: 3\n",
            "n_candidates: 2\n",
            "n_resources: 13500\n",
            "Fitting 2 folds for each of 2 candidates, totalling 4 fits\n",
            "Best params:  {'scaler': StandardScaler(), 'mlp__validation_split': 0.2, 'mlp__model__optim': <class 'keras.optimizer_v2.gradient_descent.SGD'>, 'mlp__model__learning_rate': 0.001, 'mlp__model__layer_nodes': [128, 256, 512], 'mlp__model__dropout': 0.4, 'mlp__model__activation': 'sigmoid', 'mlp__epochs': 50, 'mlp__batch_size': 512}\n",
            "Pipeline(steps=[('poly_ft', PolynomialFeatures(degree=3)),\n",
            "                ('scaler', StandardScaler()),\n",
            "                ('mlp',\n",
            "                 KerasRegressor(batch_size=512, callbacks=[<keras.callbacks.EarlyStopping object at 0x7f361b542610>], epochs=50, model=<function create_model_pol3 at 0x7f361b2a1dd0>, model__activation='sigmoid', model__dropout=0.4, model__layer_nodes=[128, 256, 512], model__learning_rate=0.001, model__loss='mse', model__metrics=[<keras.metrics.RootMeanSquaredError object at 0x7f361b3e2c50>, <tensorflow_addons.metrics.r_square.RSquare object at 0x7f361afdcc10>], model__optim=<class 'keras.optimizer_v2.gradient_descent.SGD'>, validation_split=0.2, verbose=0))])\n",
            "Finished: 2022-09-12 11:32:34.664989\n"
          ]
        }
      ]
    },
    {
      "cell_type": "markdown",
      "source": [
        "Best Model:\n",
        "```\n",
        "{'scaler': StandardScaler(), \n",
        "'mlp__validation_split': 0.2, \n",
        "'mlp__model__optim': <class 'keras.optimizer_v2.gradient_descent.SGD'>,\n",
        "'mlp__model__learning_rate': 0.001, \n",
        "'mlp__model__layer_nodes': [128, 256, 512], \n",
        "'mlp__model__dropout': 0.4, \n",
        "'mlp__model__activation': 'sigmoid', \n",
        "'mlp__epochs': 50, \n",
        "'mlp__batch_size': 512}\n",
        "```"
      ],
      "metadata": {
        "id": "f2UG9WWxb5uJ"
      }
    },
    {
      "cell_type": "code",
      "source": [
        "model = Pipeline([\n",
        "    ('poly_ft'  ,   PolynomialFeatures(degree=3)),\n",
        "    ('scaler'  , StandardScaler()),\n",
        "    ('mlp'     , KerasRegressor(model=create_model_pol3, \n",
        "                                model__metrics=[RMSE(), R2()],\n",
        "                                model__loss='mse',\n",
        "                                verbose=0, callbacks=[es,printerCallback],  \n",
        "                                validation_split=0.2, \n",
        "                                model__optim=SGD,\n",
        "                                model__learning_rate=0.001, \n",
        "                                model__layer_nodes=[128,256,512],\n",
        "                                model__dropout=0.4,\n",
        "                                model__activation='sigmoid',\n",
        "                                epochs=50, \n",
        "                                batch_size=512))\n",
        "])\n",
        "model"
      ],
      "metadata": {
        "colab": {
          "base_uri": "https://localhost:8080/"
        },
        "outputId": "8434fc71-c0d6-44de-8da6-eff4d2595b7c",
        "id": "IGDY9Vasb5uK"
      },
      "execution_count": null,
      "outputs": [
        {
          "output_type": "execute_result",
          "data": {
            "text/plain": [
              "Pipeline(steps=[('poly_ft', PolynomialFeatures(degree=3)),\n",
              "                ('scaler', StandardScaler()),\n",
              "                ('mlp',\n",
              "                 KerasRegressor(batch_size=512, callbacks=[<keras.callbacks.EarlyStopping object at 0x7f36c0d21d10>, <keras.callbacks.LambdaCallback object at 0x7f36c01c4850>], epochs=50, model=<function create_model_pol3 at 0x7f361b2a1dd0>, model__activation='sigmoid', model__dropout=0.4, model__layer_nodes=[128, 256, 512], model__learning_rate=0.001, model__loss='mse', model__metrics=[<keras.metrics.RootMeanSquaredError object at 0x7f3628307ad0>, <tensorflow_addons.metrics.r_square.RSquare object at 0x7f3628307a50>], model__optim=<class 'keras.optimizer_v2.gradient_descent.SGD'>, validation_split=0.2, verbose=0))])"
            ]
          },
          "metadata": {},
          "execution_count": 70
        }
      ]
    },
    {
      "cell_type": "code",
      "source": [
        "model.fit(X_train, y_train)\n",
        "eval.show_result(y_train, model.predict(X_train))\n",
        "print(\"Finished:\", datetime.datetime.now())"
      ],
      "metadata": {
        "colab": {
          "base_uri": "https://localhost:8080/"
        },
        "outputId": "4a4e3b1c-898d-48ab-cfe3-e008ba6ca767",
        "id": "ZrhXAliIb5uL"
      },
      "execution_count": null,
      "outputs": [
        {
          "output_type": "stream",
          "name": "stdout",
          "text": [
            "E 0\t: loss=3859.454, rmse=62.125, r2=0.112; v_loss=3244.542, v_rmse=56.961, v_r2=0.476; \n",
            "E 1\t: loss=1869.120, rmse=43.233, r2=0.570; v_loss=3304.891, v_rmse=57.488, v_r2=0.466; \n",
            "E 2\t: loss=1816.944, rmse=42.626, r2=0.582; v_loss=2708.521, v_rmse=52.043, v_r2=0.562; \n",
            "E 3\t: loss=1755.046, rmse=41.893, r2=0.596; v_loss=2778.461, v_rmse=52.711, v_r2=0.551; \n",
            "E 4\t: loss=1729.353, rmse=41.585, r2=0.602; v_loss=2693.361, v_rmse=51.898, v_r2=0.565; \n",
            "E 5\t: loss=1723.992, rmse=41.521, r2=0.603; v_loss=2670.318, v_rmse=51.675, v_r2=0.568; \n",
            "E 6\t: loss=1698.269, rmse=41.210, r2=0.609; v_loss=2668.869, v_rmse=51.661, v_r2=0.569; \n",
            "E 7\t: loss=1697.971, rmse=41.206, r2=0.609; v_loss=2667.741, v_rmse=51.650, v_r2=0.569; \n",
            "E 8\t: loss=1675.807, rmse=40.937, r2=0.615; v_loss=2689.505, v_rmse=51.860, v_r2=0.565; \n",
            "E 9\t: loss=1668.688, rmse=40.850, r2=0.616; v_loss=3041.413, v_rmse=55.149, v_r2=0.508; \n",
            "E 10\t: loss=1650.078, rmse=40.621, r2=0.620; v_loss=2714.094, v_rmse=52.097, v_r2=0.561; \n",
            "E 11\t: loss=1645.906, rmse=40.570, r2=0.621; v_loss=2593.109, v_rmse=50.923, v_r2=0.581; \n",
            "E 12\t: loss=1644.726, rmse=40.555, r2=0.622; v_loss=2785.568, v_rmse=52.778, v_r2=0.550; \n",
            "E 13\t: loss=1637.778, rmse=40.469, r2=0.623; v_loss=2657.344, v_rmse=51.549, v_r2=0.571; \n",
            "E 14\t: loss=1623.451, rmse=40.292, r2=0.627; v_loss=2643.109, v_rmse=51.411, v_r2=0.573; \n",
            "E 15\t: loss=1620.327, rmse=40.253, r2=0.627; v_loss=2736.085, v_rmse=52.308, v_r2=0.558; \n",
            "E 16\t: loss=1627.034, rmse=40.337, r2=0.626; v_loss=2564.023, v_rmse=50.636, v_r2=0.586; \n",
            "E 17\t: loss=1619.200, rmse=40.239, r2=0.628; v_loss=2841.541, v_rmse=53.306, v_r2=0.541; \n",
            "E 18\t: loss=1609.504, rmse=40.119, r2=0.630; v_loss=2755.156, v_rmse=52.490, v_r2=0.555; \n",
            "E 19\t: loss=1616.572, rmse=40.207, r2=0.628; v_loss=2789.636, v_rmse=52.817, v_r2=0.549; \n",
            "E 20\t: loss=1593.005, rmse=39.912, r2=0.634; v_loss=2606.225, v_rmse=51.051, v_r2=0.579; \n",
            "E 21\t: loss=1608.490, rmse=40.106, r2=0.630; v_loss=3037.995, v_rmse=55.118, v_r2=0.509; \n",
            "E 22\t: loss=1602.250, rmse=40.028, r2=0.631; v_loss=2795.559, v_rmse=52.873, v_r2=0.548; \n",
            "E 23\t: loss=1599.308, rmse=39.991, r2=0.632; v_loss=2777.107, v_rmse=52.698, v_r2=0.551; \n",
            "E 24\t: loss=1593.720, rmse=39.921, r2=0.633; v_loss=2834.953, v_rmse=53.244, v_r2=0.542; \n",
            "E 25\t: loss=1596.159, rmse=39.952, r2=0.633; v_loss=2800.625, v_rmse=52.921, v_r2=0.547; \n",
            "R2=0.633,RMSE=-41.706\n",
            "Finished: 2022-09-12 11:33:42.501943\n"
          ]
        }
      ]
    },
    {
      "cell_type": "code",
      "source": [
        "eval.show_result(y_test, model.predict(X_test))\n",
        "print(\"Finished:\", datetime.datetime.now())"
      ],
      "metadata": {
        "colab": {
          "base_uri": "https://localhost:8080/"
        },
        "outputId": "436366a7-8428-42cc-d9e8-06dac2e656ec",
        "id": "i2m4PTdnb5uM"
      },
      "execution_count": null,
      "outputs": [
        {
          "output_type": "stream",
          "name": "stdout",
          "text": [
            "R2=0.401,RMSE=-32.164\n",
            "Finished: 2022-09-12 11:33:45.020869\n"
          ]
        }
      ]
    },
    {
      "cell_type": "markdown",
      "source": [
        "Mesmo modelo do Poly2"
      ],
      "metadata": {
        "id": "WlYXOKrjeZTT"
      }
    },
    {
      "cell_type": "markdown",
      "source": [
        "## PolyFeatures(2) + Non-Linear RUL"
      ],
      "metadata": {
        "id": "YaO6E-pbUiWI"
      }
    },
    {
      "cell_type": "code",
      "source": [
        "model = Pipeline([\n",
        "    ('poly_ft'  ,   PolynomialFeatures()),\n",
        "    ('scaler'   ,   MinMaxScaler()),\n",
        "    ('trf_reg'  ,   TransformedTargetRegressor(\n",
        "        check_inverse=False,\n",
        "        regressor   = KerasRegressor(\n",
        "                                model=create_model_pol,verbose=0, callbacks=[es], \n",
        "                                validation_split=0.2, \n",
        "                                model__metrics=[RMSE(), R2()],\n",
        "                                model__loss='mse'),\n",
        "        transformer = FunctionTransformer(np.clip, \n",
        "                                          kw_args={'a_min':0,'a_max':50})))\n",
        "])\n",
        "model"
      ],
      "metadata": {
        "colab": {
          "base_uri": "https://localhost:8080/"
        },
        "outputId": "5e0c596c-bee2-4b2c-fd72-8c5360275b70",
        "id": "ojfhw8TQUwUw"
      },
      "execution_count": null,
      "outputs": [
        {
          "output_type": "execute_result",
          "data": {
            "text/plain": [
              "Pipeline(steps=[('poly_ft', PolynomialFeatures()), ('scaler', MinMaxScaler()),\n",
              "                ('trf_reg',\n",
              "                 TransformedTargetRegressor(check_inverse=False,\n",
              "                                            regressor=KerasRegressor(callbacks=[<keras.callbacks.EarlyStopping object at 0x7f36c0d21d10>], model=<function create_model_pol at 0x7f36162f0cb0>, model__loss='mse', model__metrics=[<keras.metrics.RootMeanSquaredError object at 0x7f36286c33d0>, <tensorflow_addons.metrics.r_square.RSquare object at 0x7f36286c3b50>], validation_split=0.2, verbose=0),\n",
              "                                            transformer=FunctionTransformer(func=<function clip at 0x7f373c87e4d0>,\n",
              "                                                                            kw_args={'a_max': 50,\n",
              "                                                                                     'a_min': 0})))])"
            ]
          },
          "metadata": {},
          "execution_count": 50
        }
      ]
    },
    {
      "cell_type": "code",
      "source": [
        "# ~10min\n",
        "GRID_SEARCH = False\n",
        "if (GRID_SEARCH):\n",
        "    param_distributions = {\n",
        "        \"scaler\": [MinMaxScaler(),StandardScaler()],\n",
        "        \"trf_reg__transformer__kw_args\": search.generate_clip_dicts(80,150,1),\n",
        "        \"trf_reg__regressor__epochs\": [1,5,10,20,30,50],\n",
        "        \"trf_reg__regressor__validation_split\":[0.1,0.2,0.4,0.5],\n",
        "        \"trf_reg__regressor__batch_size\": [32,64,128,256,512],\n",
        "        \"trf_reg__regressor__model__optim\":[Adam,RMSprop],\n",
        "        \"trf_reg__regressor__model__learning_rate\": [1e-2,1e-3,1e-4],\n",
        "        \"trf_reg__regressor__model__dropout\": [0.1,0.2,0.4,0.5],\n",
        "        \"trf_reg__regressor__model__layer_nodes\": [[16, 32, 64], [32, 64, 128], [64, 128, 256], [128, 256, 512]],\n",
        "        \"trf_reg__regressor__model__activation\": [\"relu\",\"tanh\", \"sigmoid\"]\n",
        "    }\n",
        "\n",
        "    model = search.run_HR_GS(model, X_train, y_train, param_distributions, \n",
        "                             factor=2, scorer='r2', ignore_warnings=True, cv=3)\n",
        "    print(model)\n",
        "    print(\"Finished:\", datetime.datetime.now())"
      ],
      "metadata": {
        "colab": {
          "base_uri": "https://localhost:8080/"
        },
        "outputId": "8637a0d2-f199-474b-dc79-6b5f7afce7bb",
        "id": "eVyBrw_5UwUx"
      },
      "execution_count": null,
      "outputs": [
        {
          "output_type": "stream",
          "name": "stdout",
          "text": [
            "n_iterations: 4\n",
            "n_required_iterations: 4\n",
            "n_possible_iterations: 4\n",
            "min_resources_: 500\n",
            "max_resources_: 20631\n",
            "aggressive_elimination: False\n",
            "factor: 3\n",
            "----------\n",
            "iter: 0\n",
            "n_candidates: 41\n",
            "n_resources: 500\n",
            "Fitting 2 folds for each of 41 candidates, totalling 82 fits\n",
            "----------\n",
            "iter: 1\n",
            "n_candidates: 14\n",
            "n_resources: 1500\n",
            "Fitting 2 folds for each of 14 candidates, totalling 28 fits\n",
            "----------\n",
            "iter: 2\n",
            "n_candidates: 5\n",
            "n_resources: 4500\n",
            "Fitting 2 folds for each of 5 candidates, totalling 10 fits\n",
            "----------\n",
            "iter: 3\n",
            "n_candidates: 2\n",
            "n_resources: 13500\n",
            "Fitting 2 folds for each of 2 candidates, totalling 4 fits\n",
            "Best params:  {'trf_reg__transformer__kw_args': {'a_min': 0, 'a_max': 135}, 'trf_reg__regressor__validation_split': 0.5, 'trf_reg__regressor__model__optim': <class 'keras.optimizer_v2.adam.Adam'>, 'trf_reg__regressor__model__learning_rate': 0.01, 'trf_reg__regressor__model__layer_nodes': [64, 128, 256], 'trf_reg__regressor__model__dropout': 0.5, 'trf_reg__regressor__model__activation': 'tanh', 'trf_reg__regressor__epochs': 30, 'trf_reg__regressor__batch_size': 256, 'scaler': StandardScaler()}\n",
            "Pipeline(steps=[('poly_ft', PolynomialFeatures()), ('scaler', StandardScaler()),\n",
            "                ('trf_reg',\n",
            "                 TransformedTargetRegressor(check_inverse=False,\n",
            "                                            regressor=KerasRegressor(batch_size=256, callbacks=[<keras.callbacks.EarlyStopping object at 0x7f361d5693d0>], epochs=30, model=<function create_model_pol at 0x7f36162f0cb0>, model__activation='tanh', model__dropout=0.5, model_...1, model__loss='mse', model__metrics=[<keras.metrics.RootMeanSquaredError object at 0x7f3619dedbd0>, <tensorflow_addons.metrics.r_square.RSquare object at 0x7f36285df2d0>], model__optim=<class 'keras.optimizer_v2.adam.Adam'>, validation_split=0.5, verbose=0),\n",
            "                                            transformer=FunctionTransformer(func=<function clip at 0x7f373c87e4d0>,\n",
            "                                                                            kw_args={'a_max': 135,\n",
            "                                                                                     'a_min': 0})))])\n",
            "Finished: 2022-09-12 11:02:22.779693\n"
          ]
        }
      ]
    },
    {
      "cell_type": "markdown",
      "source": [
        "Best Model:\n",
        "```\n",
        "{'trf_reg__transformer__kw_args': {'a_min': 0, 'a_max': 135}, \n",
        "'trf_reg__regressor__validation_split': 0.5, \n",
        "'trf_reg__regressor__model__optim': <class 'keras.optimizer_v2.adam.Adam'>, \n",
        "'trf_reg__regressor__model__learning_rate': 0.01, \n",
        "'trf_reg__regressor__model__layer_nodes': [64, 128, 256], \n",
        "'trf_reg__regressor__model__dropout': 0.5, \n",
        "'trf_reg__regressor__model__activation': 'tanh', \n",
        "'trf_reg__regressor__epochs': 30, \n",
        "'trf_reg__regressor__batch_size': 256, \n",
        "'scaler': StandardScaler()}\n",
        "```"
      ],
      "metadata": {
        "id": "J8KO_NQEUwUy"
      }
    },
    {
      "cell_type": "code",
      "source": [
        "model = Pipeline([\n",
        "    ('poly_ft'  ,   PolynomialFeatures()),\n",
        "    ('scaler'   ,   StandardScaler()),\n",
        "    ('trf_reg'  ,   TransformedTargetRegressor(\n",
        "        check_inverse=False,\n",
        "        regressor   = KerasRegressor(\n",
        "                                model=create_model_pol, \n",
        "                                model__metrics=[RMSE(), R2()],\n",
        "                                model__loss='mse',\n",
        "                                verbose=0, callbacks=[es,printerCallback],  \n",
        "                                validation_split=0.5, \n",
        "                                model__optim=Adam,\n",
        "                                model__learning_rate=0.01, \n",
        "                                model__layer_nodes=[64, 128, 256],\n",
        "                                model__dropout=0.5,\n",
        "                                model__activation=\"tanh\",\n",
        "                                epochs=30, \n",
        "                                batch_size=256),\n",
        "        transformer = FunctionTransformer(np.clip, \n",
        "                                          kw_args={'a_min':0,'a_max':135})))\n",
        "])\n",
        "model"
      ],
      "metadata": {
        "colab": {
          "base_uri": "https://localhost:8080/"
        },
        "outputId": "632903da-4612-463c-a5b8-fef265bf1e56",
        "id": "2UgoPCJPUwUz"
      },
      "execution_count": null,
      "outputs": [
        {
          "output_type": "execute_result",
          "data": {
            "text/plain": [
              "Pipeline(steps=[('poly_ft', PolynomialFeatures()), ('scaler', StandardScaler()),\n",
              "                ('trf_reg',\n",
              "                 TransformedTargetRegressor(check_inverse=False,\n",
              "                                            regressor=KerasRegressor(batch_size=256, callbacks=[<keras.callbacks.EarlyStopping object at 0x7f36c0d21d10>, <keras.callbacks.LambdaCallback object at 0x7f36c01c4850>], epochs=30, model=<function create_model_pol at 0x7f36162f0...1, model__loss='mse', model__metrics=[<keras.metrics.RootMeanSquaredError object at 0x7f36165ef7d0>, <tensorflow_addons.metrics.r_square.RSquare object at 0x7f36165ef690>], model__optim=<class 'keras.optimizer_v2.adam.Adam'>, validation_split=0.5, verbose=0),\n",
              "                                            transformer=FunctionTransformer(func=<function clip at 0x7f373c87e4d0>,\n",
              "                                                                            kw_args={'a_max': 135,\n",
              "                                                                                     'a_min': 0})))])"
            ]
          },
          "metadata": {},
          "execution_count": 54
        }
      ]
    },
    {
      "cell_type": "code",
      "source": [
        "# model.fit(X_train, y_train)\n",
        "# reclipped_y =  model['trf_reg'].transformer.transform(y_train)\n",
        "# eval.show_result(reclipped_y, model.predict(X_train))\n",
        "# eval.show_result_cv(reclipped_y, X_train, model)\n",
        "\n",
        "model.fit(X_train, y_train)\n",
        "reclipped_y =  model['trf_reg'].transformer.transform(y_train)\n",
        "eval.show_result(reclipped_y, model.predict(X_train))\n",
        "print(\"Finished:\", datetime.datetime.now())\n",
        "# eval.show_result_cv(y_train, X_train, model)"
      ],
      "metadata": {
        "colab": {
          "base_uri": "https://localhost:8080/"
        },
        "outputId": "6b6d87e1-656b-4e9a-e087-6f893c249b46",
        "id": "m-BLDmN-UwU0"
      },
      "execution_count": null,
      "outputs": [
        {
          "output_type": "stream",
          "name": "stdout",
          "text": [
            "E 0\t: loss=5314.098, rmse=72.898, r2=-1.617; v_loss=1288.184, v_rmse=35.891, v_r2=0.370; \n",
            "E 1\t: loss=812.940, rmse=28.512, r2=0.600; v_loss=665.227, v_rmse=25.792, v_r2=0.675; \n",
            "E 2\t: loss=576.975, rmse=24.020, r2=0.716; v_loss=567.214, v_rmse=23.816, v_r2=0.722; \n",
            "E 3\t: loss=526.989, rmse=22.956, r2=0.741; v_loss=540.345, v_rmse=23.245, v_r2=0.736; \n",
            "E 4\t: loss=509.114, rmse=22.564, r2=0.749; v_loss=530.718, v_rmse=23.037, v_r2=0.740; \n",
            "E 5\t: loss=509.515, rmse=22.572, r2=0.749; v_loss=527.402, v_rmse=22.965, v_r2=0.742; \n",
            "E 6\t: loss=506.129, rmse=22.497, r2=0.751; v_loss=529.495, v_rmse=23.011, v_r2=0.741; \n",
            "E 7\t: loss=498.015, rmse=22.316, r2=0.755; v_loss=560.912, v_rmse=23.684, v_r2=0.726; \n",
            "E 8\t: loss=495.849, rmse=22.268, r2=0.756; v_loss=550.318, v_rmse=23.459, v_r2=0.731; \n",
            "E 9\t: loss=479.884, rmse=21.906, r2=0.764; v_loss=544.229, v_rmse=23.329, v_r2=0.734; \n",
            "E 10\t: loss=492.787, rmse=22.199, r2=0.757; v_loss=545.064, v_rmse=23.347, v_r2=0.733; \n",
            "E 11\t: loss=492.276, rmse=22.187, r2=0.758; v_loss=530.727, v_rmse=23.038, v_r2=0.740; \n",
            "E 12\t: loss=480.826, rmse=21.928, r2=0.763; v_loss=538.606, v_rmse=23.208, v_r2=0.736; \n",
            "E 13\t: loss=482.418, rmse=21.964, r2=0.762; v_loss=529.720, v_rmse=23.016, v_r2=0.741; \n",
            "E 14\t: loss=480.109, rmse=21.911, r2=0.764; v_loss=555.547, v_rmse=23.570, v_r2=0.728; \n",
            "R2=0.776,RMSE=-21.353\n",
            "Finished: 2022-09-12 11:06:15.790672\n"
          ]
        }
      ]
    },
    {
      "cell_type": "code",
      "source": [
        "# reclipped_y =  model['trf_reg'].transformer.transform(y_test)\n",
        "# eval.show_result(reclipped_y, model.predict(X_test))"
      ],
      "metadata": {
        "id": "HdeyhGEMUwU1"
      },
      "execution_count": null,
      "outputs": []
    },
    {
      "cell_type": "code",
      "source": [
        "reclipped_y =  model['trf_reg'].transformer.transform(y_test)\n",
        "eval.show_result(reclipped_y, model.predict(X_test))\n",
        "print(\"Finished:\", datetime.datetime.now())"
      ],
      "metadata": {
        "colab": {
          "base_uri": "https://localhost:8080/"
        },
        "outputId": "ab3e34bd-6026-44cc-d263-09587f47e71f",
        "id": "ExoiDur7UwU2"
      },
      "execution_count": null,
      "outputs": [
        {
          "output_type": "stream",
          "name": "stdout",
          "text": [
            "R2=0.753,RMSE=-20.475\n",
            "Finished: 2022-09-12 11:06:20.553177\n"
          ]
        }
      ]
    },
    {
      "cell_type": "markdown",
      "source": [],
      "metadata": {
        "id": "3ThmdU4XYZbv"
      }
    },
    {
      "cell_type": "markdown",
      "source": [
        "## PolyFeatures(3) + Non-Linear RUL"
      ],
      "metadata": {
        "id": "bH0hyH8aYZ_N"
      }
    },
    {
      "cell_type": "code",
      "source": [
        "model = Pipeline([\n",
        "    ('poly_ft'  ,   PolynomialFeatures(degree=3)),\n",
        "    ('scaler'   ,   MinMaxScaler()),\n",
        "    ('trf_reg'  ,   TransformedTargetRegressor(\n",
        "        check_inverse=False,\n",
        "        regressor   = KerasRegressor(\n",
        "                                model=create_model_pol3,verbose=0, callbacks=[es], \n",
        "                                validation_split=0.2, \n",
        "                                model__metrics=[RMSE(), R2()],\n",
        "                                model__loss='mse'),\n",
        "        transformer = FunctionTransformer(np.clip, \n",
        "                                          kw_args={'a_min':0,'a_max':50})))\n",
        "])\n",
        "model"
      ],
      "metadata": {
        "colab": {
          "base_uri": "https://localhost:8080/"
        },
        "outputId": "a502f3e6-cb79-4f97-c8a2-b6c393ef705c",
        "id": "RuGywAhDYZ_O"
      },
      "execution_count": null,
      "outputs": [
        {
          "output_type": "execute_result",
          "data": {
            "text/plain": [
              "Pipeline(steps=[('poly_ft', PolynomialFeatures(degree=3)),\n",
              "                ('scaler', MinMaxScaler()),\n",
              "                ('trf_reg',\n",
              "                 TransformedTargetRegressor(check_inverse=False,\n",
              "                                            regressor=KerasRegressor(callbacks=[<keras.callbacks.EarlyStopping object at 0x7f36c0d21d10>], model=<function create_model_pol3 at 0x7f361d4e1ef0>, model__loss='mse', model__metrics=[<keras.metrics.RootMeanSquaredError object at 0x7f361d5f16d0>, <tensorflow_addons.metrics.r_square.RSquare object at 0x7f36167e2750>], validation_split=0.2, verbose=0),\n",
              "                                            transformer=FunctionTransformer(func=<function clip at 0x7f373c87e4d0>,\n",
              "                                                                            kw_args={'a_max': 50,\n",
              "                                                                                     'a_min': 0})))])"
            ]
          },
          "metadata": {},
          "execution_count": 60
        }
      ]
    },
    {
      "cell_type": "code",
      "source": [
        "# ~10min\n",
        "GRID_SEARCH = False\n",
        "if (GRID_SEARCH):\n",
        "    param_distributions = {\n",
        "        \"scaler\": [MinMaxScaler(),StandardScaler()],\n",
        "        \"trf_reg__transformer__kw_args\": search.generate_clip_dicts(80,150,1),\n",
        "        \"trf_reg__regressor__epochs\": [1,5,10,20,30,50],\n",
        "        \"trf_reg__regressor__validation_split\":[0.1,0.2,0.4,0.5],\n",
        "        \"trf_reg__regressor__batch_size\": [32,64,128,256,512],\n",
        "        \"trf_reg__regressor__model__optim\":[Adam,RMSprop],\n",
        "        \"trf_reg__regressor__model__learning_rate\": [1e-2,1e-3,1e-4],\n",
        "        \"trf_reg__regressor__model__dropout\": [0.1,0.2,0.4,0.5],\n",
        "        \"trf_reg__regressor__model__layer_nodes\": [[16, 32, 64], [32, 64, 128], [64, 128, 256], [128, 256, 512]],\n",
        "        \"trf_reg__regressor__model__activation\": [\"relu\",\"tanh\", \"sigmoid\"]\n",
        "    }\n",
        "\n",
        "    model = search.run_HR_GS(model, X_train, y_train, param_distributions, \n",
        "                             factor=2, scorer='r2', ignore_warnings=True, cv=3)\n",
        "    print(model)\n",
        "    print(\"Finished:\", datetime.datetime.now())"
      ],
      "metadata": {
        "colab": {
          "base_uri": "https://localhost:8080/"
        },
        "outputId": "7662b845-348e-456b-b0e1-f7e2c8030c4d",
        "id": "SHp_CfLjYZ_P"
      },
      "execution_count": null,
      "outputs": [
        {
          "output_type": "stream",
          "name": "stdout",
          "text": [
            "n_iterations: 4\n",
            "n_required_iterations: 4\n",
            "n_possible_iterations: 4\n",
            "min_resources_: 500\n",
            "max_resources_: 20631\n",
            "aggressive_elimination: False\n",
            "factor: 3\n",
            "----------\n",
            "iter: 0\n",
            "n_candidates: 41\n",
            "n_resources: 500\n",
            "Fitting 2 folds for each of 41 candidates, totalling 82 fits\n",
            "----------\n",
            "iter: 1\n",
            "n_candidates: 14\n",
            "n_resources: 1500\n",
            "Fitting 2 folds for each of 14 candidates, totalling 28 fits\n",
            "----------\n",
            "iter: 2\n",
            "n_candidates: 5\n",
            "n_resources: 4500\n",
            "Fitting 2 folds for each of 5 candidates, totalling 10 fits\n",
            "----------\n",
            "iter: 3\n",
            "n_candidates: 2\n",
            "n_resources: 13500\n",
            "Fitting 2 folds for each of 2 candidates, totalling 4 fits\n",
            "Best params:  {'trf_reg__transformer__kw_args': {'a_min': 0, 'a_max': 133}, 'trf_reg__regressor__validation_split': 0.1, 'trf_reg__regressor__model__optim': <class 'keras.optimizer_v2.adam.Adam'>, 'trf_reg__regressor__model__learning_rate': 0.001, 'trf_reg__regressor__model__layer_nodes': [64, 128, 256], 'trf_reg__regressor__model__dropout': 0.1, 'trf_reg__regressor__model__activation': 'relu', 'trf_reg__regressor__epochs': 30, 'trf_reg__regressor__batch_size': 64, 'scaler': StandardScaler()}\n",
            "Pipeline(steps=[('poly_ft', PolynomialFeatures(degree=3)),\n",
            "                ('scaler', StandardScaler()),\n",
            "                ('trf_reg',\n",
            "                 TransformedTargetRegressor(check_inverse=False,\n",
            "                                            regressor=KerasRegressor(batch_size=64, callbacks=[<keras.callbacks.EarlyStopping object at 0x7f361b41a550>], epochs=30, model=<function create_model_pol3 at 0x7f361d4e1ef0>, model__activation='relu', model__dropout=0....1, model__loss='mse', model__metrics=[<keras.metrics.RootMeanSquaredError object at 0x7f36286b3110>, <tensorflow_addons.metrics.r_square.RSquare object at 0x7f361d018d50>], model__optim=<class 'keras.optimizer_v2.adam.Adam'>, validation_split=0.1, verbose=0),\n",
            "                                            transformer=FunctionTransformer(func=<function clip at 0x7f373c87e4d0>,\n",
            "                                                                            kw_args={'a_max': 133,\n",
            "                                                                                     'a_min': 0})))])\n",
            "Finished: 2022-09-12 11:19:28.580776\n"
          ]
        }
      ]
    },
    {
      "cell_type": "markdown",
      "source": [
        "Best Model:\n",
        "```\n",
        "{'trf_reg__transformer__kw_args': {'a_min': 0, 'a_max': 133}, \n",
        "'trf_reg__regressor__validation_split': 0.1, \n",
        "'trf_reg__regressor__model__optim': <class 'keras.optimizer_v2.adam.Adam'>, \n",
        "'trf_reg__regressor__model__learning_rate': 0.001, \n",
        "'trf_reg__regressor__model__layer_nodes': [64, 128, 256], \n",
        "'trf_reg__regressor__model__dropout': 0.1, \n",
        "'trf_reg__regressor__model__activation': 'relu', \n",
        "'trf_reg__regressor__epochs': 30,\n",
        " 'trf_reg__regressor__batch_size': 64, \n",
        " 'scaler': StandardScaler()}\n",
        "```"
      ],
      "metadata": {
        "id": "WjDSEYQ3YZ_P"
      }
    },
    {
      "cell_type": "code",
      "source": [
        "model = Pipeline([\n",
        "    ('poly_ft'  ,   PolynomialFeatures(degree=3)),\n",
        "    ('scaler'   ,   StandardScaler()),\n",
        "    ('trf_reg'  ,   TransformedTargetRegressor(\n",
        "        check_inverse=False,\n",
        "        regressor   = KerasRegressor(\n",
        "                                model=create_model_pol3, \n",
        "                                model__metrics=[RMSE(), R2()],\n",
        "                                model__loss='mse',\n",
        "                                verbose=0, callbacks=[es,printerCallback],  \n",
        "                                validation_split=0.1, \n",
        "                                model__optim=Adam,\n",
        "                                model__learning_rate=0.001, \n",
        "                                model__layer_nodes=[64, 128, 256],\n",
        "                                model__dropout=0.1,\n",
        "                                model__activation=\"relu\",\n",
        "                                epochs=30, \n",
        "                                batch_size=64),\n",
        "        transformer = FunctionTransformer(np.clip, \n",
        "                                          kw_args={'a_min':0,'a_max':133})))\n",
        "])\n",
        "model"
      ],
      "metadata": {
        "colab": {
          "base_uri": "https://localhost:8080/"
        },
        "outputId": "9140bc28-6ed6-4c0f-9eec-5e20b739d524",
        "id": "jv2L95lJYZ_Q"
      },
      "execution_count": null,
      "outputs": [
        {
          "output_type": "execute_result",
          "data": {
            "text/plain": [
              "Pipeline(steps=[('poly_ft', PolynomialFeatures(degree=3)),\n",
              "                ('scaler', StandardScaler()),\n",
              "                ('trf_reg',\n",
              "                 TransformedTargetRegressor(check_inverse=False,\n",
              "                                            regressor=KerasRegressor(batch_size=64, callbacks=[<keras.callbacks.EarlyStopping object at 0x7f36c0d21d10>, <keras.callbacks.LambdaCallback object at 0x7f36c01c4850>], epochs=30, model=<function create_model_pol3 at 0x7...1, model__loss='mse', model__metrics=[<keras.metrics.RootMeanSquaredError object at 0x7f3628705c90>, <tensorflow_addons.metrics.r_square.RSquare object at 0x7f3642112b50>], model__optim=<class 'keras.optimizer_v2.adam.Adam'>, validation_split=0.1, verbose=0),\n",
              "                                            transformer=FunctionTransformer(func=<function clip at 0x7f373c87e4d0>,\n",
              "                                                                            kw_args={'a_max': 133,\n",
              "                                                                                     'a_min': 0})))])"
            ]
          },
          "metadata": {},
          "execution_count": 64
        }
      ]
    },
    {
      "cell_type": "code",
      "source": [
        "# model.fit(X_train, y_train)\n",
        "# reclipped_y =  model['trf_reg'].transformer.transform(y_train)\n",
        "# eval.show_result(reclipped_y, model.predict(X_train))\n",
        "# eval.show_result_cv(reclipped_y, X_train, model)\n",
        "\n",
        "model.fit(X_train, y_train)\n",
        "reclipped_y =  model['trf_reg'].transformer.transform(y_train)\n",
        "eval.show_result(reclipped_y, model.predict(X_train))\n",
        "print(\"Finished:\", datetime.datetime.now())\n",
        "# eval.show_result_cv(y_train, X_train, model)"
      ],
      "metadata": {
        "colab": {
          "base_uri": "https://localhost:8080/"
        },
        "outputId": "4aef2b9f-2817-4cbf-bc99-741c899dec18",
        "id": "_ISHLBLeYZ_Q"
      },
      "execution_count": null,
      "outputs": [
        {
          "output_type": "stream",
          "name": "stdout",
          "text": [
            "E 0\t: loss=1465.280, rmse=38.279, r2=0.260; v_loss=877.040, v_rmse=29.615, v_r2=0.550; \n",
            "E 1\t: loss=758.275, rmse=27.537, r2=0.617; v_loss=639.657, v_rmse=25.291, v_r2=0.672; \n",
            "E 2\t: loss=628.628, rmse=25.072, r2=0.682; v_loss=544.522, v_rmse=23.335, v_r2=0.721; \n",
            "E 3\t: loss=556.142, rmse=23.583, r2=0.719; v_loss=592.383, v_rmse=24.339, v_r2=0.696; \n",
            "E 4\t: loss=532.007, rmse=23.065, r2=0.731; v_loss=452.094, v_rmse=21.263, v_r2=0.768; \n",
            "E 5\t: loss=501.482, rmse=22.394, r2=0.747; v_loss=453.017, v_rmse=21.284, v_r2=0.767; \n",
            "E 6\t: loss=502.090, rmse=22.407, r2=0.746; v_loss=424.875, v_rmse=20.612, v_r2=0.782; \n",
            "E 7\t: loss=489.451, rmse=22.124, r2=0.753; v_loss=482.244, v_rmse=21.960, v_r2=0.752; \n",
            "E 8\t: loss=482.443, rmse=21.965, r2=0.756; v_loss=482.506, v_rmse=21.966, v_r2=0.752; \n",
            "E 9\t: loss=481.390, rmse=21.941, r2=0.757; v_loss=438.913, v_rmse=20.950, v_r2=0.775; \n",
            "E 10\t: loss=481.096, rmse=21.934, r2=0.757; v_loss=506.945, v_rmse=22.515, v_r2=0.740; \n",
            "E 11\t: loss=480.237, rmse=21.914, r2=0.757; v_loss=457.125, v_rmse=21.380, v_r2=0.765; \n",
            "E 12\t: loss=463.463, rmse=21.528, r2=0.766; v_loss=495.520, v_rmse=22.260, v_r2=0.746; \n",
            "E 13\t: loss=464.523, rmse=21.553, r2=0.765; v_loss=572.930, v_rmse=23.936, v_r2=0.706; \n",
            "E 14\t: loss=460.683, rmse=21.464, r2=0.767; v_loss=472.343, v_rmse=21.733, v_r2=0.758; \n",
            "E 15\t: loss=457.092, rmse=21.380, r2=0.769; v_loss=585.139, v_rmse=24.190, v_r2=0.700; \n",
            "E 16\t: loss=458.290, rmse=21.408, r2=0.768; v_loss=467.257, v_rmse=21.616, v_r2=0.760; \n",
            "E 17\t: loss=461.148, rmse=21.474, r2=0.767; v_loss=468.861, v_rmse=21.653, v_r2=0.759; \n",
            "E 18\t: loss=449.848, rmse=21.210, r2=0.773; v_loss=472.195, v_rmse=21.730, v_r2=0.758; \n",
            "E 19\t: loss=455.341, rmse=21.339, r2=0.770; v_loss=419.608, v_rmse=20.484, v_r2=0.785; \n",
            "E 20\t: loss=453.908, rmse=21.305, r2=0.771; v_loss=822.671, v_rmse=28.682, v_r2=0.578; \n",
            "E 21\t: loss=453.337, rmse=21.292, r2=0.771; v_loss=480.504, v_rmse=21.920, v_r2=0.753; \n",
            "E 22\t: loss=449.037, rmse=21.190, r2=0.773; v_loss=441.747, v_rmse=21.018, v_r2=0.773; \n",
            "E 23\t: loss=449.053, rmse=21.191, r2=0.773; v_loss=560.180, v_rmse=23.668, v_r2=0.712; \n",
            "E 24\t: loss=438.867, rmse=20.949, r2=0.778; v_loss=441.176, v_rmse=21.004, v_r2=0.774; \n",
            "E 25\t: loss=445.686, rmse=21.111, r2=0.775; v_loss=584.306, v_rmse=24.172, v_r2=0.700; \n",
            "E 26\t: loss=435.156, rmse=20.860, r2=0.780; v_loss=587.900, v_rmse=24.247, v_r2=0.698; \n",
            "E 27\t: loss=443.821, rmse=21.067, r2=0.776; v_loss=546.048, v_rmse=23.368, v_r2=0.720; \n",
            "E 28\t: loss=437.459, rmse=20.916, r2=0.779; v_loss=478.659, v_rmse=21.878, v_r2=0.754; \n",
            "E 29\t: loss=441.529, rmse=21.013, r2=0.777; v_loss=557.793, v_rmse=23.618, v_r2=0.714; \n",
            "R2=0.755,RMSE=-21.995\n",
            "Finished: 2022-09-12 11:21:25.450814\n"
          ]
        }
      ]
    },
    {
      "cell_type": "code",
      "source": [
        "# reclipped_y =  model['trf_reg'].transformer.transform(y_test)\n",
        "# eval.show_result(reclipped_y, model.predict(X_test))"
      ],
      "metadata": {
        "id": "S4F2y4BSYZ_R"
      },
      "execution_count": null,
      "outputs": []
    },
    {
      "cell_type": "code",
      "source": [
        "reclipped_y =  model['trf_reg'].transformer.transform(y_test)\n",
        "eval.show_result(reclipped_y, model.predict(X_test))\n",
        "print(\"Finished:\", datetime.datetime.now())"
      ],
      "metadata": {
        "colab": {
          "base_uri": "https://localhost:8080/"
        },
        "outputId": "d9131234-4cac-4140-b243-e8d180d44624",
        "id": "Y19REws0YZ_R"
      },
      "execution_count": null,
      "outputs": [
        {
          "output_type": "stream",
          "name": "stdout",
          "text": [
            "R2=0.811,RMSE=-17.814\n",
            "Finished: 2022-09-12 11:21:51.443498\n"
          ]
        }
      ]
    },
    {
      "cell_type": "markdown",
      "source": [
        "# OFF"
      ],
      "metadata": {
        "id": "Ny58sYrJcE_1"
      }
    },
    {
      "cell_type": "code",
      "source": [
        "model = Pipeline([\n",
        "    ('poly_ft'  ,   PolynomialFeatures(degree=3)),\n",
        "    ('scaler'   ,   MinMaxScaler()),\n",
        "    ('trf_reg'  ,   TransformedTargetRegressor(\n",
        "        check_inverse=False,\n",
        "        regressor   = KerasRegressor(\n",
        "                                model=create_model_pol3_iter,verbose=0, callbacks=[es], \n",
        "                                validation_split=0.2, \n",
        "                                model__metrics=[RMSE(), R2()],\n",
        "                                model__loss='mse'),\n",
        "        transformer = FunctionTransformer(np.clip, \n",
        "                                          kw_args={'a_min':0,'a_max':50})))\n",
        "])\n",
        "model"
      ],
      "metadata": {
        "colab": {
          "base_uri": "https://localhost:8080/"
        },
        "id": "MvJW3i6X3EDd",
        "outputId": "5e040b93-689d-4730-822e-37ad18680b33"
      },
      "execution_count": null,
      "outputs": [
        {
          "output_type": "execute_result",
          "data": {
            "text/plain": [
              "Pipeline(steps=[('poly_ft', PolynomialFeatures(degree=3)),\n",
              "                ('scaler', MinMaxScaler()),\n",
              "                ('trf_reg',\n",
              "                 TransformedTargetRegressor(check_inverse=False,\n",
              "                                            regressor=KerasRegressor(callbacks=[<keras.callbacks.EarlyStopping object at 0x7f8ad2298910>], model=<function create_model_pol3_iter at 0x7f8ad2405e60>, model__loss='mse', model__metrics=[<keras.metrics.RootMeanSquaredError object at 0x7f8ad2328d90>, <tensorflow_addons.metrics.r_square.RSquare object at 0x7f8b32153150>], validation_split=0.2, verbose=0),\n",
              "                                            transformer=FunctionTransformer(func=<function clip at 0x7f8b4de4ec20>,\n",
              "                                                                            kw_args={'a_max': 50,\n",
              "                                                                                     'a_min': 0})))])"
            ]
          },
          "metadata": {},
          "execution_count": 30
        }
      ]
    },
    {
      "cell_type": "code",
      "source": [
        "from itertools import chain, combinations\n",
        "\n",
        "def powerset(iterable):\n",
        "    \"powerset([1,2,3]) --> () (1,) (2,) (3,) (1,2) (1,3) (2,3) (1,2,3)\"\n",
        "    s = list(iterable)\n",
        "    return chain.from_iterable(combinations(s, r) for r in range(len(s)+1))"
      ],
      "metadata": {
        "id": "s8S-brZf2uyN"
      },
      "execution_count": null,
      "outputs": []
    },
    {
      "cell_type": "code",
      "source": [
        "list(powerset([16,32,64,128,256,512]))"
      ],
      "metadata": {
        "colab": {
          "base_uri": "https://localhost:8080/"
        },
        "id": "ucJyGU442vdx",
        "outputId": "64a1523f-af46-4d00-e328-b912ff5f03da"
      },
      "execution_count": null,
      "outputs": [
        {
          "output_type": "execute_result",
          "data": {
            "text/plain": [
              "[(),\n",
              " (16,),\n",
              " (32,),\n",
              " (64,),\n",
              " (128,),\n",
              " (256,),\n",
              " (512,),\n",
              " (16, 32),\n",
              " (16, 64),\n",
              " (16, 128),\n",
              " (16, 256),\n",
              " (16, 512),\n",
              " (32, 64),\n",
              " (32, 128),\n",
              " (32, 256),\n",
              " (32, 512),\n",
              " (64, 128),\n",
              " (64, 256),\n",
              " (64, 512),\n",
              " (128, 256),\n",
              " (128, 512),\n",
              " (256, 512),\n",
              " (16, 32, 64),\n",
              " (16, 32, 128),\n",
              " (16, 32, 256),\n",
              " (16, 32, 512),\n",
              " (16, 64, 128),\n",
              " (16, 64, 256),\n",
              " (16, 64, 512),\n",
              " (16, 128, 256),\n",
              " (16, 128, 512),\n",
              " (16, 256, 512),\n",
              " (32, 64, 128),\n",
              " (32, 64, 256),\n",
              " (32, 64, 512),\n",
              " (32, 128, 256),\n",
              " (32, 128, 512),\n",
              " (32, 256, 512),\n",
              " (64, 128, 256),\n",
              " (64, 128, 512),\n",
              " (64, 256, 512),\n",
              " (128, 256, 512),\n",
              " (16, 32, 64, 128),\n",
              " (16, 32, 64, 256),\n",
              " (16, 32, 64, 512),\n",
              " (16, 32, 128, 256),\n",
              " (16, 32, 128, 512),\n",
              " (16, 32, 256, 512),\n",
              " (16, 64, 128, 256),\n",
              " (16, 64, 128, 512),\n",
              " (16, 64, 256, 512),\n",
              " (16, 128, 256, 512),\n",
              " (32, 64, 128, 256),\n",
              " (32, 64, 128, 512),\n",
              " (32, 64, 256, 512),\n",
              " (32, 128, 256, 512),\n",
              " (64, 128, 256, 512),\n",
              " (16, 32, 64, 128, 256),\n",
              " (16, 32, 64, 128, 512),\n",
              " (16, 32, 64, 256, 512),\n",
              " (16, 32, 128, 256, 512),\n",
              " (16, 64, 128, 256, 512),\n",
              " (32, 64, 128, 256, 512),\n",
              " (16, 32, 64, 128, 256, 512)]"
            ]
          },
          "metadata": {},
          "execution_count": 121
        }
      ]
    },
    {
      "cell_type": "code",
      "source": [
        "from sklearn.model_selection import RandomizedSearchCV"
      ],
      "metadata": {
        "id": "K0mc062L1If0"
      },
      "execution_count": null,
      "outputs": []
    },
    {
      "cell_type": "code",
      "source": [
        "def run_RS(base_model, X_train, y_train, param_distributions, \n",
        "                  print_best=True, ignore_warnings=False, \n",
        "                  scorer=reclipper_scorer, cv=5):\n",
        "        search = RandomizedSearchCV(base_model, param_distributions, \n",
        "                                    scoring=scorer, random_state=42, \n",
        "                                    verbose=1, cv=cv)\n",
        "        search.fit(X_train, y_train);\n",
        "\n",
        "        if(print_best): print(\"Best params: \", search.best_params_)\n",
        "        return search.best_estimator_, search"
      ],
      "metadata": {
        "id": "VrsWq67o_26M"
      },
      "execution_count": null,
      "outputs": []
    },
    {
      "cell_type": "code",
      "source": [
        "GRID_SEARCH = True\n",
        "if (GRID_SEARCH):\n",
        "    param_distributions = {\n",
        "        \"scaler\": [MinMaxScaler(),StandardScaler()],\n",
        "        \"trf_reg__transformer__kw_args\": search.generate_clip_dicts(80,150,1),\n",
        "        \"trf_reg__regressor__epochs\": [1,5,10,20,30,50],\n",
        "        \"trf_reg__regressor__validation_split\":[0.1,0.2,0.4,0.5],\n",
        "        \"trf_reg__regressor__batch_size\": [32,64,128,256,512],\n",
        "        \"trf_reg__regressor__model__optim\":[Adam,RMSprop],\n",
        "        \"trf_reg__regressor__model__learning_rate\": [1e-2,1e-3,1e-4],\n",
        "        \"trf_reg__regressor__model__dropout\": [0.1,0.2,0.4,0.5],\n",
        "        \"trf_reg__regressor__model__layer_nodes\": [\n",
        "            [16],[32],[64],[128],[256],[512],\n",
        "            [16,32],[32,64],[64,128],[128,256],[256,512],\n",
        "            [16, 32, 64], [32, 64, 128], [64, 128, 256], [128, 256, 512]\n",
        "        ],\n",
        "        # \"trf_reg__regressor__model__layer_nodes\": [\n",
        "        #     #[16],[32],[64],[128],[256],[512],\n",
        "        #     [16,32],[32,64],[64,128],[128,256],[256,512]\n",
        "        #     #[16, 32, 64], [32, 64, 128], [64, 128, 256], [128, 256, 512]\n",
        "        # ],\n",
        "        \"trf_reg__regressor__model__activation\": [\"relu\",\"tanh\", \"sigmoid\"]\n",
        "    }\n",
        "\n",
        "    model,ss = run_RS(model, X_train, y_train, param_distributions, \n",
        "                          scorer='r2', ignore_warnings=True, cv=2)\n",
        "    print(model)\n",
        "    print(\"Finished:\", datetime.datetime.now())"
      ],
      "metadata": {
        "colab": {
          "base_uri": "https://localhost:8080/"
        },
        "id": "HasJdgOb1TMO",
        "outputId": "29152e96-ef09-46dc-a183-01619df857d0"
      },
      "execution_count": null,
      "outputs": [
        {
          "output_type": "stream",
          "name": "stdout",
          "text": [
            "Fitting 2 folds for each of 10 candidates, totalling 20 fits\n",
            "Best params:  {'trf_reg__transformer__kw_args': {'a_min': 0, 'a_max': 147}, 'trf_reg__regressor__validation_split': 0.1, 'trf_reg__regressor__model__optim': <class 'keras.optimizer_v2.rmsprop.RMSprop'>, 'trf_reg__regressor__model__learning_rate': 0.001, 'trf_reg__regressor__model__layer_nodes': [256, 512], 'trf_reg__regressor__model__dropout': 0.1, 'trf_reg__regressor__model__activation': 'tanh', 'trf_reg__regressor__epochs': 5, 'trf_reg__regressor__batch_size': 32, 'scaler': StandardScaler()}\n",
            "Pipeline(steps=[('poly_ft', PolynomialFeatures(degree=3)),\n",
            "                ('scaler', StandardScaler()),\n",
            "                ('trf_reg',\n",
            "                 TransformedTargetRegressor(check_inverse=False,\n",
            "                                            regressor=KerasRegressor(batch_size=32, callbacks=[<keras.callbacks.EarlyStopping object at 0x7f8a32566590>], epochs=5, model=<function create_model_pol3_iter at 0x7f8ad2405e60>, model__activation='tanh', model__dropou...l__loss='mse', model__metrics=[<keras.metrics.RootMeanSquaredError object at 0x7f8a32541b90>, <tensorflow_addons.metrics.r_square.RSquare object at 0x7f8a3220b310>], model__optim=<class 'keras.optimizer_v2.rmsprop.RMSprop'>, validation_split=0.1, verbose=0),\n",
            "                                            transformer=FunctionTransformer(func=<function clip at 0x7f8b4de4ec20>,\n",
            "                                                                            kw_args={'a_max': 147,\n",
            "                                                                                     'a_min': 0})))])\n",
            "Finished: 2022-09-15 11:12:52.935035\n"
          ]
        }
      ]
    },
    {
      "cell_type": "code",
      "source": [
        "ss.cv_results_"
      ],
      "metadata": {
        "colab": {
          "base_uri": "https://localhost:8080/"
        },
        "id": "zW70NaPl2jI3",
        "outputId": "56bdd7e6-4dcf-475f-86a1-45f0de70aa82"
      },
      "execution_count": null,
      "outputs": [
        {
          "output_type": "execute_result",
          "data": {
            "text/plain": [
              "{'mean_fit_time': array([ 8.09345293,  3.75099039,  6.387573  , 19.48472381,  8.97599912,\n",
              "        34.48569763,  1.81102073, 10.1499145 ,  9.87086678,  6.23128748]),\n",
              " 'std_fit_time': array([1.07878256e+00, 6.74605370e-03, 9.24661160e-02, 2.19633102e+00,\n",
              "        2.48655677e+00, 7.67754614e+00, 3.31569314e-01, 1.19185877e+00,\n",
              "        1.73339558e+00, 8.26859474e-03]),\n",
              " 'mean_score_time': array([2.26794171, 0.59059727, 0.60934365, 0.67661905, 0.99048424,\n",
              "        0.88606107, 0.43230832, 1.66806364, 0.67616022, 0.60011804]),\n",
              " 'std_score_time': array([1.81133842e+00, 7.66042471e-02, 1.76775455e-03, 1.94716454e-03,\n",
              "        2.31766701e-03, 1.14415288e-01, 4.81307507e-03, 9.92515802e-01,\n",
              "        1.38294697e-03, 7.71039724e-02]),\n",
              " 'param_trf_reg__transformer__kw_args': masked_array(data=[{'a_min': 0, 'a_max': 136}, {'a_min': 0, 'a_max': 116},\n",
              "                    {'a_min': 0, 'a_max': 128}, {'a_min': 0, 'a_max': 97},\n",
              "                    {'a_min': 0, 'a_max': 147}, {'a_min': 0, 'a_max': 115},\n",
              "                    {'a_min': 0, 'a_max': 129}, {'a_min': 0, 'a_max': 83},\n",
              "                    {'a_min': 0, 'a_max': 101}, {'a_min': 0, 'a_max': 102}],\n",
              "              mask=[False, False, False, False, False, False, False, False,\n",
              "                    False, False],\n",
              "        fill_value='?',\n",
              "             dtype=object),\n",
              " 'param_trf_reg__regressor__validation_split': masked_array(data=[0.4, 0.1, 0.5, 0.5, 0.1, 0.2, 0.2, 0.4, 0.4, 0.2],\n",
              "              mask=[False, False, False, False, False, False, False, False,\n",
              "                    False, False],\n",
              "        fill_value='?',\n",
              "             dtype=object),\n",
              " 'param_trf_reg__regressor__model__optim': masked_array(data=[<class 'keras.optimizer_v2.adam.Adam'>,\n",
              "                    <class 'keras.optimizer_v2.adam.Adam'>,\n",
              "                    <class 'keras.optimizer_v2.rmsprop.RMSprop'>,\n",
              "                    <class 'keras.optimizer_v2.rmsprop.RMSprop'>,\n",
              "                    <class 'keras.optimizer_v2.rmsprop.RMSprop'>,\n",
              "                    <class 'keras.optimizer_v2.adam.Adam'>,\n",
              "                    <class 'keras.optimizer_v2.rmsprop.RMSprop'>,\n",
              "                    <class 'keras.optimizer_v2.adam.Adam'>,\n",
              "                    <class 'keras.optimizer_v2.rmsprop.RMSprop'>,\n",
              "                    <class 'keras.optimizer_v2.adam.Adam'>],\n",
              "              mask=[False, False, False, False, False, False, False, False,\n",
              "                    False, False],\n",
              "        fill_value='?',\n",
              "             dtype=object),\n",
              " 'param_trf_reg__regressor__model__learning_rate': masked_array(data=[0.01, 0.01, 0.01, 0.0001, 0.001, 0.0001, 0.001, 0.001,\n",
              "                    0.001, 0.001],\n",
              "              mask=[False, False, False, False, False, False, False, False,\n",
              "                    False, False],\n",
              "        fill_value='?',\n",
              "             dtype=object),\n",
              " 'param_trf_reg__regressor__model__layer_nodes': masked_array(data=[list([256, 512]), list([128, 256, 512]),\n",
              "                    list([16, 32]), list([128, 256]), list([256, 512]),\n",
              "                    list([32, 64, 128]), list([256, 512]),\n",
              "                    list([64, 128, 256]), list([64, 128, 256]),\n",
              "                    list([64, 128, 256])],\n",
              "              mask=[False, False, False, False, False, False, False, False,\n",
              "                    False, False],\n",
              "        fill_value='?',\n",
              "             dtype=object),\n",
              " 'param_trf_reg__regressor__model__dropout': masked_array(data=[0.2, 0.1, 0.5, 0.4, 0.1, 0.5, 0.2, 0.4, 0.2, 0.1],\n",
              "              mask=[False, False, False, False, False, False, False, False,\n",
              "                    False, False],\n",
              "        fill_value='?',\n",
              "             dtype=object),\n",
              " 'param_trf_reg__regressor__model__activation': masked_array(data=['tanh', 'tanh', 'relu', 'tanh', 'tanh', 'relu', 'relu',\n",
              "                    'relu', 'tanh', 'sigmoid'],\n",
              "              mask=[False, False, False, False, False, False, False, False,\n",
              "                    False, False],\n",
              "        fill_value='?',\n",
              "             dtype=object),\n",
              " 'param_trf_reg__regressor__epochs': masked_array(data=[30, 5, 5, 50, 5, 30, 1, 30, 20, 10],\n",
              "              mask=[False, False, False, False, False, False, False, False,\n",
              "                    False, False],\n",
              "        fill_value='?',\n",
              "             dtype=object),\n",
              " 'param_trf_reg__regressor__batch_size': masked_array(data=[256, 128, 64, 128, 32, 32, 512, 128, 128, 128],\n",
              "              mask=[False, False, False, False, False, False, False, False,\n",
              "                    False, False],\n",
              "        fill_value='?',\n",
              "             dtype=object),\n",
              " 'param_scaler': masked_array(data=[StandardScaler(), StandardScaler(), MinMaxScaler(),\n",
              "                    StandardScaler(), StandardScaler(), StandardScaler(),\n",
              "                    MinMaxScaler(), MinMaxScaler(), StandardScaler(),\n",
              "                    MinMaxScaler()],\n",
              "              mask=[False, False, False, False, False, False, False, False,\n",
              "                    False, False],\n",
              "        fill_value='?',\n",
              "             dtype=object),\n",
              " 'params': [{'trf_reg__transformer__kw_args': {'a_min': 0, 'a_max': 136},\n",
              "   'trf_reg__regressor__validation_split': 0.4,\n",
              "   'trf_reg__regressor__model__optim': keras.optimizer_v2.adam.Adam,\n",
              "   'trf_reg__regressor__model__learning_rate': 0.01,\n",
              "   'trf_reg__regressor__model__layer_nodes': [256, 512],\n",
              "   'trf_reg__regressor__model__dropout': 0.2,\n",
              "   'trf_reg__regressor__model__activation': 'tanh',\n",
              "   'trf_reg__regressor__epochs': 30,\n",
              "   'trf_reg__regressor__batch_size': 256,\n",
              "   'scaler': StandardScaler()},\n",
              "  {'trf_reg__transformer__kw_args': {'a_min': 0, 'a_max': 116},\n",
              "   'trf_reg__regressor__validation_split': 0.1,\n",
              "   'trf_reg__regressor__model__optim': keras.optimizer_v2.adam.Adam,\n",
              "   'trf_reg__regressor__model__learning_rate': 0.01,\n",
              "   'trf_reg__regressor__model__layer_nodes': [128, 256, 512],\n",
              "   'trf_reg__regressor__model__dropout': 0.1,\n",
              "   'trf_reg__regressor__model__activation': 'tanh',\n",
              "   'trf_reg__regressor__epochs': 5,\n",
              "   'trf_reg__regressor__batch_size': 128,\n",
              "   'scaler': StandardScaler()},\n",
              "  {'trf_reg__transformer__kw_args': {'a_min': 0, 'a_max': 128},\n",
              "   'trf_reg__regressor__validation_split': 0.5,\n",
              "   'trf_reg__regressor__model__optim': keras.optimizer_v2.rmsprop.RMSprop,\n",
              "   'trf_reg__regressor__model__learning_rate': 0.01,\n",
              "   'trf_reg__regressor__model__layer_nodes': [16, 32],\n",
              "   'trf_reg__regressor__model__dropout': 0.5,\n",
              "   'trf_reg__regressor__model__activation': 'relu',\n",
              "   'trf_reg__regressor__epochs': 5,\n",
              "   'trf_reg__regressor__batch_size': 64,\n",
              "   'scaler': MinMaxScaler()},\n",
              "  {'trf_reg__transformer__kw_args': {'a_min': 0, 'a_max': 97},\n",
              "   'trf_reg__regressor__validation_split': 0.5,\n",
              "   'trf_reg__regressor__model__optim': keras.optimizer_v2.rmsprop.RMSprop,\n",
              "   'trf_reg__regressor__model__learning_rate': 0.0001,\n",
              "   'trf_reg__regressor__model__layer_nodes': [128, 256],\n",
              "   'trf_reg__regressor__model__dropout': 0.4,\n",
              "   'trf_reg__regressor__model__activation': 'tanh',\n",
              "   'trf_reg__regressor__epochs': 50,\n",
              "   'trf_reg__regressor__batch_size': 128,\n",
              "   'scaler': StandardScaler()},\n",
              "  {'trf_reg__transformer__kw_args': {'a_min': 0, 'a_max': 147},\n",
              "   'trf_reg__regressor__validation_split': 0.1,\n",
              "   'trf_reg__regressor__model__optim': keras.optimizer_v2.rmsprop.RMSprop,\n",
              "   'trf_reg__regressor__model__learning_rate': 0.001,\n",
              "   'trf_reg__regressor__model__layer_nodes': [256, 512],\n",
              "   'trf_reg__regressor__model__dropout': 0.1,\n",
              "   'trf_reg__regressor__model__activation': 'tanh',\n",
              "   'trf_reg__regressor__epochs': 5,\n",
              "   'trf_reg__regressor__batch_size': 32,\n",
              "   'scaler': StandardScaler()},\n",
              "  {'trf_reg__transformer__kw_args': {'a_min': 0, 'a_max': 115},\n",
              "   'trf_reg__regressor__validation_split': 0.2,\n",
              "   'trf_reg__regressor__model__optim': keras.optimizer_v2.adam.Adam,\n",
              "   'trf_reg__regressor__model__learning_rate': 0.0001,\n",
              "   'trf_reg__regressor__model__layer_nodes': [32, 64, 128],\n",
              "   'trf_reg__regressor__model__dropout': 0.5,\n",
              "   'trf_reg__regressor__model__activation': 'relu',\n",
              "   'trf_reg__regressor__epochs': 30,\n",
              "   'trf_reg__regressor__batch_size': 32,\n",
              "   'scaler': StandardScaler()},\n",
              "  {'trf_reg__transformer__kw_args': {'a_min': 0, 'a_max': 129},\n",
              "   'trf_reg__regressor__validation_split': 0.2,\n",
              "   'trf_reg__regressor__model__optim': keras.optimizer_v2.rmsprop.RMSprop,\n",
              "   'trf_reg__regressor__model__learning_rate': 0.001,\n",
              "   'trf_reg__regressor__model__layer_nodes': [256, 512],\n",
              "   'trf_reg__regressor__model__dropout': 0.2,\n",
              "   'trf_reg__regressor__model__activation': 'relu',\n",
              "   'trf_reg__regressor__epochs': 1,\n",
              "   'trf_reg__regressor__batch_size': 512,\n",
              "   'scaler': MinMaxScaler()},\n",
              "  {'trf_reg__transformer__kw_args': {'a_min': 0, 'a_max': 83},\n",
              "   'trf_reg__regressor__validation_split': 0.4,\n",
              "   'trf_reg__regressor__model__optim': keras.optimizer_v2.adam.Adam,\n",
              "   'trf_reg__regressor__model__learning_rate': 0.001,\n",
              "   'trf_reg__regressor__model__layer_nodes': [64, 128, 256],\n",
              "   'trf_reg__regressor__model__dropout': 0.4,\n",
              "   'trf_reg__regressor__model__activation': 'relu',\n",
              "   'trf_reg__regressor__epochs': 30,\n",
              "   'trf_reg__regressor__batch_size': 128,\n",
              "   'scaler': MinMaxScaler()},\n",
              "  {'trf_reg__transformer__kw_args': {'a_min': 0, 'a_max': 101},\n",
              "   'trf_reg__regressor__validation_split': 0.4,\n",
              "   'trf_reg__regressor__model__optim': keras.optimizer_v2.rmsprop.RMSprop,\n",
              "   'trf_reg__regressor__model__learning_rate': 0.001,\n",
              "   'trf_reg__regressor__model__layer_nodes': [64, 128, 256],\n",
              "   'trf_reg__regressor__model__dropout': 0.2,\n",
              "   'trf_reg__regressor__model__activation': 'tanh',\n",
              "   'trf_reg__regressor__epochs': 20,\n",
              "   'trf_reg__regressor__batch_size': 128,\n",
              "   'scaler': StandardScaler()},\n",
              "  {'trf_reg__transformer__kw_args': {'a_min': 0, 'a_max': 102},\n",
              "   'trf_reg__regressor__validation_split': 0.2,\n",
              "   'trf_reg__regressor__model__optim': keras.optimizer_v2.adam.Adam,\n",
              "   'trf_reg__regressor__model__learning_rate': 0.001,\n",
              "   'trf_reg__regressor__model__layer_nodes': [64, 128, 256],\n",
              "   'trf_reg__regressor__model__dropout': 0.1,\n",
              "   'trf_reg__regressor__model__activation': 'sigmoid',\n",
              "   'trf_reg__regressor__epochs': 10,\n",
              "   'trf_reg__regressor__batch_size': 128,\n",
              "   'scaler': MinMaxScaler()}],\n",
              " 'split0_test_score': array([ 0.58788619,  0.46192711, -0.80789735, -0.12065853,  0.63896514,\n",
              "        -0.00728955,  0.32642349, -0.87882068,  0.35475808, -0.18921452]),\n",
              " 'split1_test_score': array([ 0.4213354 ,  0.24338211, -0.54292841, -0.25081638,  0.43558509,\n",
              "        -0.3276014 ,  0.34520951, -0.99078477,  0.14612622, -0.31086737]),\n",
              " 'mean_test_score': array([ 0.5046108 ,  0.35265461, -0.67541288, -0.18573746,  0.53727511,\n",
              "        -0.16744548,  0.3358165 , -0.93480272,  0.25044215, -0.25004094]),\n",
              " 'std_test_score': array([0.08327539, 0.1092725 , 0.13248447, 0.06507892, 0.10169002,\n",
              "        0.16015593, 0.00939301, 0.05598204, 0.10431593, 0.06082643]),\n",
              " 'rank_test_score': array([ 2,  3,  9,  7,  1,  6,  4, 10,  5,  8], dtype=int32)}"
            ]
          },
          "metadata": {},
          "execution_count": 40
        }
      ]
    },
    {
      "cell_type": "code",
      "source": [
        "sorted(list(zip(ss.cv_results_[\"mean_test_score\"],ss.cv_results_[\"params\"])), reverse=True)"
      ],
      "metadata": {
        "colab": {
          "base_uri": "https://localhost:8080/"
        },
        "id": "0Q4bMKyN3GVU",
        "outputId": "2ef18773-6060-45c4-a792-acca3c7509e7"
      },
      "execution_count": null,
      "outputs": [
        {
          "output_type": "execute_result",
          "data": {
            "text/plain": [
              "[(0.5372751116225745,\n",
              "  {'trf_reg__transformer__kw_args': {'a_min': 0, 'a_max': 147},\n",
              "   'trf_reg__regressor__validation_split': 0.1,\n",
              "   'trf_reg__regressor__model__optim': keras.optimizer_v2.rmsprop.RMSprop,\n",
              "   'trf_reg__regressor__model__learning_rate': 0.001,\n",
              "   'trf_reg__regressor__model__layer_nodes': [256, 512],\n",
              "   'trf_reg__regressor__model__dropout': 0.1,\n",
              "   'trf_reg__regressor__model__activation': 'tanh',\n",
              "   'trf_reg__regressor__epochs': 5,\n",
              "   'trf_reg__regressor__batch_size': 32,\n",
              "   'scaler': StandardScaler()}),\n",
              " (0.5046107971957956,\n",
              "  {'trf_reg__transformer__kw_args': {'a_min': 0, 'a_max': 136},\n",
              "   'trf_reg__regressor__validation_split': 0.4,\n",
              "   'trf_reg__regressor__model__optim': keras.optimizer_v2.adam.Adam,\n",
              "   'trf_reg__regressor__model__learning_rate': 0.01,\n",
              "   'trf_reg__regressor__model__layer_nodes': [256, 512],\n",
              "   'trf_reg__regressor__model__dropout': 0.2,\n",
              "   'trf_reg__regressor__model__activation': 'tanh',\n",
              "   'trf_reg__regressor__epochs': 30,\n",
              "   'trf_reg__regressor__batch_size': 256,\n",
              "   'scaler': StandardScaler()}),\n",
              " (0.3526546121848719,\n",
              "  {'trf_reg__transformer__kw_args': {'a_min': 0, 'a_max': 116},\n",
              "   'trf_reg__regressor__validation_split': 0.1,\n",
              "   'trf_reg__regressor__model__optim': keras.optimizer_v2.adam.Adam,\n",
              "   'trf_reg__regressor__model__learning_rate': 0.01,\n",
              "   'trf_reg__regressor__model__layer_nodes': [128, 256, 512],\n",
              "   'trf_reg__regressor__model__dropout': 0.1,\n",
              "   'trf_reg__regressor__model__activation': 'tanh',\n",
              "   'trf_reg__regressor__epochs': 5,\n",
              "   'trf_reg__regressor__batch_size': 128,\n",
              "   'scaler': StandardScaler()}),\n",
              " (0.3358164983376524,\n",
              "  {'trf_reg__transformer__kw_args': {'a_min': 0, 'a_max': 129},\n",
              "   'trf_reg__regressor__validation_split': 0.2,\n",
              "   'trf_reg__regressor__model__optim': keras.optimizer_v2.rmsprop.RMSprop,\n",
              "   'trf_reg__regressor__model__learning_rate': 0.001,\n",
              "   'trf_reg__regressor__model__layer_nodes': [256, 512],\n",
              "   'trf_reg__regressor__model__dropout': 0.2,\n",
              "   'trf_reg__regressor__model__activation': 'relu',\n",
              "   'trf_reg__regressor__epochs': 1,\n",
              "   'trf_reg__regressor__batch_size': 512,\n",
              "   'scaler': MinMaxScaler()}),\n",
              " (0.25044214966042627,\n",
              "  {'trf_reg__transformer__kw_args': {'a_min': 0, 'a_max': 101},\n",
              "   'trf_reg__regressor__validation_split': 0.4,\n",
              "   'trf_reg__regressor__model__optim': keras.optimizer_v2.rmsprop.RMSprop,\n",
              "   'trf_reg__regressor__model__learning_rate': 0.001,\n",
              "   'trf_reg__regressor__model__layer_nodes': [64, 128, 256],\n",
              "   'trf_reg__regressor__model__dropout': 0.2,\n",
              "   'trf_reg__regressor__model__activation': 'tanh',\n",
              "   'trf_reg__regressor__epochs': 20,\n",
              "   'trf_reg__regressor__batch_size': 128,\n",
              "   'scaler': StandardScaler()}),\n",
              " (-0.16744547570535995,\n",
              "  {'trf_reg__transformer__kw_args': {'a_min': 0, 'a_max': 115},\n",
              "   'trf_reg__regressor__validation_split': 0.2,\n",
              "   'trf_reg__regressor__model__optim': keras.optimizer_v2.adam.Adam,\n",
              "   'trf_reg__regressor__model__learning_rate': 0.0001,\n",
              "   'trf_reg__regressor__model__layer_nodes': [32, 64, 128],\n",
              "   'trf_reg__regressor__model__dropout': 0.5,\n",
              "   'trf_reg__regressor__model__activation': 'relu',\n",
              "   'trf_reg__regressor__epochs': 30,\n",
              "   'trf_reg__regressor__batch_size': 32,\n",
              "   'scaler': StandardScaler()}),\n",
              " (-0.1857374551746026,\n",
              "  {'trf_reg__transformer__kw_args': {'a_min': 0, 'a_max': 97},\n",
              "   'trf_reg__regressor__validation_split': 0.5,\n",
              "   'trf_reg__regressor__model__optim': keras.optimizer_v2.rmsprop.RMSprop,\n",
              "   'trf_reg__regressor__model__learning_rate': 0.0001,\n",
              "   'trf_reg__regressor__model__layer_nodes': [128, 256],\n",
              "   'trf_reg__regressor__model__dropout': 0.4,\n",
              "   'trf_reg__regressor__model__activation': 'tanh',\n",
              "   'trf_reg__regressor__epochs': 50,\n",
              "   'trf_reg__regressor__batch_size': 128,\n",
              "   'scaler': StandardScaler()}),\n",
              " (-0.25004094445027514,\n",
              "  {'trf_reg__transformer__kw_args': {'a_min': 0, 'a_max': 102},\n",
              "   'trf_reg__regressor__validation_split': 0.2,\n",
              "   'trf_reg__regressor__model__optim': keras.optimizer_v2.adam.Adam,\n",
              "   'trf_reg__regressor__model__learning_rate': 0.001,\n",
              "   'trf_reg__regressor__model__layer_nodes': [64, 128, 256],\n",
              "   'trf_reg__regressor__model__dropout': 0.1,\n",
              "   'trf_reg__regressor__model__activation': 'sigmoid',\n",
              "   'trf_reg__regressor__epochs': 10,\n",
              "   'trf_reg__regressor__batch_size': 128,\n",
              "   'scaler': MinMaxScaler()}),\n",
              " (-0.6754128769970398,\n",
              "  {'trf_reg__transformer__kw_args': {'a_min': 0, 'a_max': 128},\n",
              "   'trf_reg__regressor__validation_split': 0.5,\n",
              "   'trf_reg__regressor__model__optim': keras.optimizer_v2.rmsprop.RMSprop,\n",
              "   'trf_reg__regressor__model__learning_rate': 0.01,\n",
              "   'trf_reg__regressor__model__layer_nodes': [16, 32],\n",
              "   'trf_reg__regressor__model__dropout': 0.5,\n",
              "   'trf_reg__regressor__model__activation': 'relu',\n",
              "   'trf_reg__regressor__epochs': 5,\n",
              "   'trf_reg__regressor__batch_size': 64,\n",
              "   'scaler': MinMaxScaler()}),\n",
              " (-0.9348027242421618,\n",
              "  {'trf_reg__transformer__kw_args': {'a_min': 0, 'a_max': 83},\n",
              "   'trf_reg__regressor__validation_split': 0.4,\n",
              "   'trf_reg__regressor__model__optim': keras.optimizer_v2.adam.Adam,\n",
              "   'trf_reg__regressor__model__learning_rate': 0.001,\n",
              "   'trf_reg__regressor__model__layer_nodes': [64, 128, 256],\n",
              "   'trf_reg__regressor__model__dropout': 0.4,\n",
              "   'trf_reg__regressor__model__activation': 'relu',\n",
              "   'trf_reg__regressor__epochs': 30,\n",
              "   'trf_reg__regressor__batch_size': 128,\n",
              "   'scaler': MinMaxScaler()})]"
            ]
          },
          "metadata": {},
          "execution_count": 45
        }
      ]
    },
    {
      "cell_type": "code",
      "source": [],
      "metadata": {
        "id": "FXCjZlkB3I8z"
      },
      "execution_count": null,
      "outputs": []
    },
    {
      "cell_type": "code",
      "source": [
        "ss.cv_results_[\"params\"]"
      ],
      "metadata": {
        "colab": {
          "base_uri": "https://localhost:8080/"
        },
        "id": "ODHyI8xa29Mt",
        "outputId": "6877d7d1-2ae1-4875-b633-bfb0c675c7b2"
      },
      "execution_count": null,
      "outputs": [
        {
          "output_type": "execute_result",
          "data": {
            "text/plain": [
              "[{'trf_reg__transformer__kw_args': {'a_min': 0, 'a_max': 136},\n",
              "  'trf_reg__regressor__validation_split': 0.4,\n",
              "  'trf_reg__regressor__model__optim': keras.optimizer_v2.adam.Adam,\n",
              "  'trf_reg__regressor__model__learning_rate': 0.01,\n",
              "  'trf_reg__regressor__model__layer_nodes': [256, 512],\n",
              "  'trf_reg__regressor__model__dropout': 0.2,\n",
              "  'trf_reg__regressor__model__activation': 'tanh',\n",
              "  'trf_reg__regressor__epochs': 30,\n",
              "  'trf_reg__regressor__batch_size': 256,\n",
              "  'scaler': StandardScaler()},\n",
              " {'trf_reg__transformer__kw_args': {'a_min': 0, 'a_max': 116},\n",
              "  'trf_reg__regressor__validation_split': 0.1,\n",
              "  'trf_reg__regressor__model__optim': keras.optimizer_v2.adam.Adam,\n",
              "  'trf_reg__regressor__model__learning_rate': 0.01,\n",
              "  'trf_reg__regressor__model__layer_nodes': [128, 256, 512],\n",
              "  'trf_reg__regressor__model__dropout': 0.1,\n",
              "  'trf_reg__regressor__model__activation': 'tanh',\n",
              "  'trf_reg__regressor__epochs': 5,\n",
              "  'trf_reg__regressor__batch_size': 128,\n",
              "  'scaler': StandardScaler()},\n",
              " {'trf_reg__transformer__kw_args': {'a_min': 0, 'a_max': 128},\n",
              "  'trf_reg__regressor__validation_split': 0.5,\n",
              "  'trf_reg__regressor__model__optim': keras.optimizer_v2.rmsprop.RMSprop,\n",
              "  'trf_reg__regressor__model__learning_rate': 0.01,\n",
              "  'trf_reg__regressor__model__layer_nodes': [16, 32],\n",
              "  'trf_reg__regressor__model__dropout': 0.5,\n",
              "  'trf_reg__regressor__model__activation': 'relu',\n",
              "  'trf_reg__regressor__epochs': 5,\n",
              "  'trf_reg__regressor__batch_size': 64,\n",
              "  'scaler': MinMaxScaler()},\n",
              " {'trf_reg__transformer__kw_args': {'a_min': 0, 'a_max': 97},\n",
              "  'trf_reg__regressor__validation_split': 0.5,\n",
              "  'trf_reg__regressor__model__optim': keras.optimizer_v2.rmsprop.RMSprop,\n",
              "  'trf_reg__regressor__model__learning_rate': 0.0001,\n",
              "  'trf_reg__regressor__model__layer_nodes': [128, 256],\n",
              "  'trf_reg__regressor__model__dropout': 0.4,\n",
              "  'trf_reg__regressor__model__activation': 'tanh',\n",
              "  'trf_reg__regressor__epochs': 50,\n",
              "  'trf_reg__regressor__batch_size': 128,\n",
              "  'scaler': StandardScaler()},\n",
              " {'trf_reg__transformer__kw_args': {'a_min': 0, 'a_max': 147},\n",
              "  'trf_reg__regressor__validation_split': 0.1,\n",
              "  'trf_reg__regressor__model__optim': keras.optimizer_v2.rmsprop.RMSprop,\n",
              "  'trf_reg__regressor__model__learning_rate': 0.001,\n",
              "  'trf_reg__regressor__model__layer_nodes': [256, 512],\n",
              "  'trf_reg__regressor__model__dropout': 0.1,\n",
              "  'trf_reg__regressor__model__activation': 'tanh',\n",
              "  'trf_reg__regressor__epochs': 5,\n",
              "  'trf_reg__regressor__batch_size': 32,\n",
              "  'scaler': StandardScaler()},\n",
              " {'trf_reg__transformer__kw_args': {'a_min': 0, 'a_max': 115},\n",
              "  'trf_reg__regressor__validation_split': 0.2,\n",
              "  'trf_reg__regressor__model__optim': keras.optimizer_v2.adam.Adam,\n",
              "  'trf_reg__regressor__model__learning_rate': 0.0001,\n",
              "  'trf_reg__regressor__model__layer_nodes': [32, 64, 128],\n",
              "  'trf_reg__regressor__model__dropout': 0.5,\n",
              "  'trf_reg__regressor__model__activation': 'relu',\n",
              "  'trf_reg__regressor__epochs': 30,\n",
              "  'trf_reg__regressor__batch_size': 32,\n",
              "  'scaler': StandardScaler()},\n",
              " {'trf_reg__transformer__kw_args': {'a_min': 0, 'a_max': 129},\n",
              "  'trf_reg__regressor__validation_split': 0.2,\n",
              "  'trf_reg__regressor__model__optim': keras.optimizer_v2.rmsprop.RMSprop,\n",
              "  'trf_reg__regressor__model__learning_rate': 0.001,\n",
              "  'trf_reg__regressor__model__layer_nodes': [256, 512],\n",
              "  'trf_reg__regressor__model__dropout': 0.2,\n",
              "  'trf_reg__regressor__model__activation': 'relu',\n",
              "  'trf_reg__regressor__epochs': 1,\n",
              "  'trf_reg__regressor__batch_size': 512,\n",
              "  'scaler': MinMaxScaler()},\n",
              " {'trf_reg__transformer__kw_args': {'a_min': 0, 'a_max': 83},\n",
              "  'trf_reg__regressor__validation_split': 0.4,\n",
              "  'trf_reg__regressor__model__optim': keras.optimizer_v2.adam.Adam,\n",
              "  'trf_reg__regressor__model__learning_rate': 0.001,\n",
              "  'trf_reg__regressor__model__layer_nodes': [64, 128, 256],\n",
              "  'trf_reg__regressor__model__dropout': 0.4,\n",
              "  'trf_reg__regressor__model__activation': 'relu',\n",
              "  'trf_reg__regressor__epochs': 30,\n",
              "  'trf_reg__regressor__batch_size': 128,\n",
              "  'scaler': MinMaxScaler()},\n",
              " {'trf_reg__transformer__kw_args': {'a_min': 0, 'a_max': 101},\n",
              "  'trf_reg__regressor__validation_split': 0.4,\n",
              "  'trf_reg__regressor__model__optim': keras.optimizer_v2.rmsprop.RMSprop,\n",
              "  'trf_reg__regressor__model__learning_rate': 0.001,\n",
              "  'trf_reg__regressor__model__layer_nodes': [64, 128, 256],\n",
              "  'trf_reg__regressor__model__dropout': 0.2,\n",
              "  'trf_reg__regressor__model__activation': 'tanh',\n",
              "  'trf_reg__regressor__epochs': 20,\n",
              "  'trf_reg__regressor__batch_size': 128,\n",
              "  'scaler': StandardScaler()},\n",
              " {'trf_reg__transformer__kw_args': {'a_min': 0, 'a_max': 102},\n",
              "  'trf_reg__regressor__validation_split': 0.2,\n",
              "  'trf_reg__regressor__model__optim': keras.optimizer_v2.adam.Adam,\n",
              "  'trf_reg__regressor__model__learning_rate': 0.001,\n",
              "  'trf_reg__regressor__model__layer_nodes': [64, 128, 256],\n",
              "  'trf_reg__regressor__model__dropout': 0.1,\n",
              "  'trf_reg__regressor__model__activation': 'sigmoid',\n",
              "  'trf_reg__regressor__epochs': 10,\n",
              "  'trf_reg__regressor__batch_size': 128,\n",
              "  'scaler': MinMaxScaler()}]"
            ]
          },
          "metadata": {},
          "execution_count": 41
        }
      ]
    },
    {
      "cell_type": "code",
      "source": [
        "# ~5min\n",
        "GRID_SEARCH = True\n",
        "if (GRID_SEARCH):\n",
        "    param_distributions = {\n",
        "        \"scaler\": [MinMaxScaler(),StandardScaler()],\n",
        "        \"trf_reg__transformer__kw_args\": search.generate_clip_dicts(80,150,1),\n",
        "        \"trf_reg__regressor__epochs\": [1,5,10,20,30,50],\n",
        "        \"trf_reg__regressor__validation_split\":[0.1,0.2,0.4,0.5],\n",
        "        \"trf_reg__regressor__batch_size\": [32,64,128,256,512],\n",
        "        \"trf_reg__regressor__model__optim\":[Adam,RMSprop],\n",
        "        \"trf_reg__regressor__model__learning_rate\": [1e-2,1e-3,1e-4],\n",
        "        \"trf_reg__regressor__model__dropout\": [0.1,0.2,0.4,0.5],\n",
        "        # \"trf_reg__regressor__model__layer_nodes\": [\n",
        "        #     #[16],[32],[64],[128],[256],[512],\n",
        "        #     [16,32],[32,64],[64,128],[128,256],[256,512]\n",
        "        #     #[16, 32, 64], [32, 64, 128], [64, 128, 256], [128, 256, 512]\n",
        "        # ],\n",
        "        \"trf_reg__regressor__model__layer_nodes\": [\n",
        "            #[16],[32],[64],[128],[256],[512],\n",
        "            [16,32],[32,64],[64,128],[128,256],[256,512]\n",
        "            #[16, 32, 64], [32, 64, 128], [64, 128, 256], [128, 256, 512]\n",
        "        ],\n",
        "        \"trf_reg__regressor__model__activation\": [\"relu\",\"tanh\", \"sigmoid\"]\n",
        "    }\n",
        "\n",
        "    model = search.run_HR_GS(model, X_train, y_train, param_distributions, \n",
        "                            scorer='r2', ignore_warnings=True, cv=2)\n",
        "    print(model)\n",
        "    print(\"Finished:\", datetime.datetime.now())"
      ],
      "metadata": {
        "colab": {
          "base_uri": "https://localhost:8080/"
        },
        "id": "e7uG8Q8Y2UET",
        "outputId": "719c0fd1-56a6-4bea-d82f-ac3c425507c1"
      },
      "execution_count": null,
      "outputs": [
        {
          "output_type": "stream",
          "name": "stdout",
          "text": [
            "n_iterations: 4\n",
            "n_required_iterations: 4\n",
            "n_possible_iterations: 4\n",
            "min_resources_: 500\n",
            "max_resources_: 20631\n",
            "aggressive_elimination: False\n",
            "factor: 3\n",
            "----------\n",
            "iter: 0\n",
            "n_candidates: 41\n",
            "n_resources: 500\n",
            "Fitting 2 folds for each of 41 candidates, totalling 82 fits\n",
            "----------\n",
            "iter: 1\n",
            "n_candidates: 14\n",
            "n_resources: 1500\n",
            "Fitting 2 folds for each of 14 candidates, totalling 28 fits\n",
            "----------\n",
            "iter: 2\n",
            "n_candidates: 5\n",
            "n_resources: 4500\n",
            "Fitting 2 folds for each of 5 candidates, totalling 10 fits\n",
            "----------\n",
            "iter: 3\n",
            "n_candidates: 2\n",
            "n_resources: 13500\n",
            "Fitting 2 folds for each of 2 candidates, totalling 4 fits\n",
            "Best params:  {'trf_reg__transformer__kw_args': {'a_min': 0, 'a_max': 133}, 'trf_reg__regressor__validation_split': 0.1, 'trf_reg__regressor__model__optim': <class 'keras.optimizer_v2.adam.Adam'>, 'trf_reg__regressor__model__learning_rate': 0.001, 'trf_reg__regressor__model__layer_nodes': [64, 128], 'trf_reg__regressor__model__dropout': 0.1, 'trf_reg__regressor__model__activation': 'relu', 'trf_reg__regressor__epochs': 10, 'trf_reg__regressor__batch_size': 32, 'scaler': StandardScaler()}\n",
            "Pipeline(steps=[('poly_ft', PolynomialFeatures(degree=3)),\n",
            "                ('scaler', StandardScaler()),\n",
            "                ('trf_reg',\n",
            "                 TransformedTargetRegressor(check_inverse=False,\n",
            "                                            regressor=KerasRegressor(batch_size=32, callbacks=[<keras.callbacks.EarlyStopping object at 0x7fdee07c9550>], epochs=10, model=<function create_model_pol3_iter at 0x7fdf2d7c53b0>, model__activation='relu', model__dropo...1, model__loss='mse', model__metrics=[<keras.metrics.RootMeanSquaredError object at 0x7fdee07c95d0>, <tensorflow_addons.metrics.r_square.RSquare object at 0x7fdee07c9c90>], model__optim=<class 'keras.optimizer_v2.adam.Adam'>, validation_split=0.1, verbose=0),\n",
            "                                            transformer=FunctionTransformer(func=<function clip at 0x7fe0443c3c20>,\n",
            "                                                                            kw_args={'a_max': 133,\n",
            "                                                                                     'a_min': 0})))])\n",
            "Finished: 2022-09-14 12:47:47.254812\n"
          ]
        }
      ]
    },
    {
      "cell_type": "markdown",
      "source": [
        "\n",
        "\n",
        "```\n",
        "{'trf_reg__transformer__kw_args': {'a_min': 0, 'a_max': 135}, \n",
        "'trf_reg__regressor__validation_split': 0.5, \n",
        "'trf_reg__regressor__model__optim': <class 'keras.optimizer_v2.adam.Adam'>, \n",
        "'trf_reg__regressor__model__learning_rate': 0.01, \n",
        "'trf_reg__regressor__model__layer_nodes': [16], \n",
        "'trf_reg__regressor__model__dropout': 0.2, \n",
        "'trf_reg__regressor__model__activation': 'relu', \n",
        "'trf_reg__regressor__epochs': 50, \n",
        "'trf_reg__regressor__batch_size': 32,\n",
        " 'scaler': StandardScaler()}\n",
        "```\n",
        "\n"
      ],
      "metadata": {
        "id": "RukiR9jF4kvV"
      }
    },
    {
      "cell_type": "code",
      "source": [
        "model = Pipeline([\n",
        "    ('poly_ft'  ,   PolynomialFeatures(degree=3)),\n",
        "    ('scaler'   ,   StandardScaler()),\n",
        "    ('trf_reg'  ,   TransformedTargetRegressor(\n",
        "        check_inverse=False,\n",
        "        regressor   = KerasRegressor(\n",
        "                                model=create_model_pol3_iter, \n",
        "                                model__metrics=[RMSE(), R2()],\n",
        "                                model__loss='mse',\n",
        "                                verbose=0, callbacks=[es,printerCallback],  \n",
        "                                validation_split=0.5, \n",
        "                                model__optim=Adam,\n",
        "                                model__learning_rate=0.01, \n",
        "                                model__layer_nodes=[16],\n",
        "                                model__dropout=0.2,\n",
        "                                model__activation=\"relu\",\n",
        "                                model__print_summary=True,\n",
        "                                epochs=50, \n",
        "                                batch_size=32),\n",
        "        transformer = FunctionTransformer(np.clip, \n",
        "                                          kw_args={'a_min':0,'a_max':135})))\n",
        "])\n",
        "model"
      ],
      "metadata": {
        "colab": {
          "base_uri": "https://localhost:8080/"
        },
        "id": "2A5hFcCBzBt6",
        "outputId": "9a03d16d-90c0-4a19-995c-dab0761f8ad5"
      },
      "execution_count": null,
      "outputs": [
        {
          "output_type": "execute_result",
          "data": {
            "text/plain": [
              "Pipeline(steps=[('poly_ft', PolynomialFeatures(degree=3)),\n",
              "                ('scaler', StandardScaler()),\n",
              "                ('trf_reg',\n",
              "                 TransformedTargetRegressor(check_inverse=False,\n",
              "                                            regressor=KerasRegressor(batch_size=32, callbacks=[<keras.callbacks.EarlyStopping object at 0x7fdf147adc90>, <keras.callbacks.LambdaCallback object at 0x7fdf147a5d50>], epochs=10, model=<function create_model_pol3_iter..._metrics=[<keras.metrics.RootMeanSquaredError object at 0x7fdf14399450>, <tensorflow_addons.metrics.r_square.RSquare object at 0x7fde97049590>], model__optim=<class 'keras.optimizer_v2.adam.Adam'>, model__print_summary=True, validation_split=0.1, verbose=0),\n",
              "                                            transformer=FunctionTransformer(func=<function clip at 0x7fe0443c3c20>,\n",
              "                                                                            kw_args={'a_max': 133,\n",
              "                                                                                     'a_min': 0})))])"
            ]
          },
          "metadata": {},
          "execution_count": 146
        }
      ]
    },
    {
      "cell_type": "markdown",
      "source": [
        "\n",
        "\n",
        "```\n",
        "{'trf_reg__transformer__kw_args': {'a_min': 0, 'a_max': 133}, \n",
        "'trf_reg__regressor__validation_split': 0.1, \n",
        "'trf_reg__regressor__model__optim': <class 'keras.optimizer_v2.adam.Adam'>, \n",
        "'trf_reg__regressor__model__learning_rate': 0.001, \n",
        "'trf_reg__regressor__model__layer_nodes': [64, 128], \n",
        "'trf_reg__regressor__model__dropout': 0.1, \n",
        "'trf_reg__regressor__model__activation': 'relu',\n",
        " 'trf_reg__regressor__epochs': 10, \n",
        " 'trf_reg__regressor__batch_size': 32,\n",
        "  'scaler': StandardScaler()}\n",
        "```\n",
        "\n"
      ],
      "metadata": {
        "id": "vjP6dEqeCu01"
      }
    },
    {
      "cell_type": "code",
      "source": [
        "model = Pipeline([\n",
        "    ('poly_ft'  ,   PolynomialFeatures(degree=3)),\n",
        "    ('scaler'   ,   StandardScaler()),\n",
        "    ('trf_reg'  ,   TransformedTargetRegressor(\n",
        "        check_inverse=False,\n",
        "        regressor   = KerasRegressor(\n",
        "                                model=create_model_pol3_iter, \n",
        "                                model__metrics=[RMSE(), R2()],\n",
        "                                model__loss='mse',\n",
        "                                verbose=0, callbacks=[es,printerCallback],  \n",
        "                                validation_split=0.1, \n",
        "                                model__optim=Adam,\n",
        "                                model__learning_rate=0.001, \n",
        "                                model__layer_nodes=[64,128],\n",
        "                                model__dropout=0.2,\n",
        "                                model__activation=\"relu\",\n",
        "                                model__print_summary=True,\n",
        "                                epochs=10, \n",
        "                                batch_size=32),\n",
        "        transformer = FunctionTransformer(np.clip, \n",
        "                                          kw_args={'a_min':0,'a_max':133})))\n",
        "])\n",
        "model"
      ],
      "metadata": {
        "id": "gjJudvrIDQJL"
      },
      "execution_count": null,
      "outputs": []
    },
    {
      "cell_type": "code",
      "source": [
        "model.fit(X_train, y_train)\n",
        "reclipped_y =  model['trf_reg'].transformer.transform(y_train)\n",
        "eval.show_result(reclipped_y, model.predict(X_train))\n",
        "print(\"Finished:\", datetime.datetime.now())"
      ],
      "metadata": {
        "colab": {
          "base_uri": "https://localhost:8080/"
        },
        "id": "M8opv-kbyh-Z",
        "outputId": "36ea85d1-6a6b-4541-a029-a07e96410947"
      },
      "execution_count": null,
      "outputs": [
        {
          "output_type": "stream",
          "name": "stdout",
          "text": [
            "Model: \"sequential_427\"\n",
            "_________________________________________________________________\n",
            " Layer (type)                Output Shape              Param #   \n",
            "=================================================================\n",
            " dense_1178 (Dense)          (None, 64)                129600    \n",
            "                                                                 \n",
            " dropout_752 (Dropout)       (None, 64)                0         \n",
            "                                                                 \n",
            " dense_1179 (Dense)          (None, 128)               8320      \n",
            "                                                                 \n",
            " dropout_753 (Dropout)       (None, 128)               0         \n",
            "                                                                 \n",
            " dense_1180 (Dense)          (None, 1)                 129       \n",
            "                                                                 \n",
            "=================================================================\n",
            "Total params: 138,049\n",
            "Trainable params: 138,049\n",
            "Non-trainable params: 0\n",
            "_________________________________________________________________\n",
            "E 0\t: loss=1524.700, rmse=39.047, r2=0.230; v_loss=775.172, v_rmse=27.842, v_r2=0.602; \n",
            "E 1\t: loss=850.998, rmse=29.172, r2=0.570; v_loss=579.347, v_rmse=24.070, v_r2=0.703; \n",
            "E 2\t: loss=692.856, rmse=26.322, r2=0.650; v_loss=569.391, v_rmse=23.862, v_r2=0.708; \n",
            "E 3\t: loss=636.874, rmse=25.236, r2=0.678; v_loss=572.953, v_rmse=23.936, v_r2=0.706; \n",
            "E 4\t: loss=617.942, rmse=24.858, r2=0.688; v_loss=492.087, v_rmse=22.183, v_r2=0.747; \n",
            "E 5\t: loss=595.339, rmse=24.400, r2=0.699; v_loss=474.707, v_rmse=21.788, v_r2=0.756; \n",
            "E 6\t: loss=581.318, rmse=24.111, r2=0.706; v_loss=514.013, v_rmse=22.672, v_r2=0.736; \n",
            "E 7\t: loss=571.581, rmse=23.908, r2=0.711; v_loss=475.672, v_rmse=21.810, v_r2=0.756; \n",
            "E 8\t: loss=565.478, rmse=23.780, r2=0.714; v_loss=471.381, v_rmse=21.711, v_r2=0.758; \n",
            "E 9\t: loss=567.836, rmse=23.829, r2=0.713; v_loss=469.989, v_rmse=21.679, v_r2=0.759; \n",
            "R2=0.772,RMSE=-21.261\n",
            "Finished: 2022-09-14 12:51:00.935846\n"
          ]
        }
      ]
    },
    {
      "cell_type": "markdown",
      "source": [
        "# OFF 2"
      ],
      "metadata": {
        "id": "beTeF_UDzYI4"
      }
    },
    {
      "cell_type": "code",
      "source": [
        "import itertools\n",
        "\n",
        "list(itertools.combinations([16,32,64], 2))"
      ],
      "metadata": {
        "colab": {
          "base_uri": "https://localhost:8080/"
        },
        "id": "-JPy_WLjDmQY",
        "outputId": "39f609c4-99a4-4789-dcf5-55823ff34d4c"
      },
      "execution_count": null,
      "outputs": [
        {
          "output_type": "execute_result",
          "data": {
            "text/plain": [
              "[(16, 32), (16, 64), (32, 64)]"
            ]
          },
          "metadata": {},
          "execution_count": 151
        }
      ]
    },
    {
      "cell_type": "code",
      "source": [
        "param_distributions = {\n",
        "        \"scaler\": [MinMaxScaler(),StandardScaler()],\n",
        "        \"trf_reg__transformer__kw_args\": search.generate_clip_dicts(80,150,1),\n",
        "        \"trf_reg__regressor__epochs\": [1,5,10,20,30,50],\n",
        "        \"trf_reg__regressor__validation_split\":[0.1,0.2,0.4,0.5],\n",
        "        \"trf_reg__regressor__batch_size\": [32,64,128,256,512],\n",
        "        \"trf_reg__regressor__model__optim\":[Adam,RMSprop],\n",
        "        \"trf_reg__regressor__model__learning_rate\": [1e-2,1e-3,1e-4],\n",
        "        \"trf_reg__regressor__model__dropout\": [0.1,0.2,0.4,0.5],\n",
        "        \"trf_reg__regressor__model__layer_nodes\": all_permutations([16,32,64,128,256,512], 2),\n",
        "        \"trf_reg__regressor__model__activation\": [\"relu\",\"tanh\", \"sigmoid\"]\n",
        "    }"
      ],
      "metadata": {
        "id": "L_BDSV90wygO"
      },
      "execution_count": null,
      "outputs": []
    },
    {
      "cell_type": "code",
      "source": [
        "from sklearn.experimental import enable_halving_search_cv\n",
        "from sklearn.model_selection import HalvingRandomSearchCV, HalvingGridSearchCV\n",
        "\n",
        "\n",
        "s = HalvingRandomSearchCV(model, param_distributions, factor=2,\n",
        "                               min_resources=500, scoring='r2', \n",
        "                               random_state=42, verbose=1, cv=3)\n",
        "\n",
        "\n",
        "s.fit(X_train, y_train);\n",
        "print(\"Best params: \", s.best_params_)"
      ],
      "metadata": {
        "id": "1Rpq82MJpnVo",
        "colab": {
          "base_uri": "https://localhost:8080/"
        },
        "outputId": "7ce9d21d-92cf-440c-89e7-a0c9992602ec"
      },
      "execution_count": null,
      "outputs": [
        {
          "output_type": "stream",
          "name": "stdout",
          "text": [
            "n_iterations: 6\n",
            "n_required_iterations: 6\n",
            "n_possible_iterations: 6\n",
            "min_resources_: 500\n",
            "max_resources_: 20631\n",
            "aggressive_elimination: False\n",
            "factor: 2\n",
            "----------\n",
            "iter: 0\n",
            "n_candidates: 41\n",
            "n_resources: 500\n",
            "Fitting 3 folds for each of 41 candidates, totalling 123 fits\n"
          ]
        },
        {
          "output_type": "stream",
          "name": "stderr",
          "text": [
            "WARNING:tensorflow:5 out of the last 27 calls to <function Model.make_predict_function.<locals>.predict_function at 0x7f8a382e9b00> triggered tf.function retracing. Tracing is expensive and the excessive number of tracings could be due to (1) creating @tf.function repeatedly in a loop, (2) passing tensors with different shapes, (3) passing Python objects instead of tensors. For (1), please define your @tf.function outside of the loop. For (2), @tf.function has experimental_relax_shapes=True option that relaxes argument shapes that can avoid unnecessary retracing. For (3), please refer to https://www.tensorflow.org/guide/function#controlling_retracing and https://www.tensorflow.org/api_docs/python/tf/function for  more details.\n",
            "WARNING:tensorflow:5 out of the last 12 calls to <function Model.make_predict_function.<locals>.predict_function at 0x7f8a32042680> triggered tf.function retracing. Tracing is expensive and the excessive number of tracings could be due to (1) creating @tf.function repeatedly in a loop, (2) passing tensors with different shapes, (3) passing Python objects instead of tensors. For (1), please define your @tf.function outside of the loop. For (2), @tf.function has experimental_relax_shapes=True option that relaxes argument shapes that can avoid unnecessary retracing. For (3), please refer to https://www.tensorflow.org/guide/function#controlling_retracing and https://www.tensorflow.org/api_docs/python/tf/function for  more details.\n",
            "WARNING:tensorflow:5 out of the last 13 calls to <function Model.make_test_function.<locals>.test_function at 0x7f8a32519440> triggered tf.function retracing. Tracing is expensive and the excessive number of tracings could be due to (1) creating @tf.function repeatedly in a loop, (2) passing tensors with different shapes, (3) passing Python objects instead of tensors. For (1), please define your @tf.function outside of the loop. For (2), @tf.function has experimental_relax_shapes=True option that relaxes argument shapes that can avoid unnecessary retracing. For (3), please refer to https://www.tensorflow.org/guide/function#controlling_retracing and https://www.tensorflow.org/api_docs/python/tf/function for  more details.\n",
            "WARNING:tensorflow:5 out of the last 25 calls to <function Model.make_train_function.<locals>.train_function at 0x7f8a38362c20> triggered tf.function retracing. Tracing is expensive and the excessive number of tracings could be due to (1) creating @tf.function repeatedly in a loop, (2) passing tensors with different shapes, (3) passing Python objects instead of tensors. For (1), please define your @tf.function outside of the loop. For (2), @tf.function has experimental_relax_shapes=True option that relaxes argument shapes that can avoid unnecessary retracing. For (3), please refer to https://www.tensorflow.org/guide/function#controlling_retracing and https://www.tensorflow.org/api_docs/python/tf/function for  more details.\n",
            "WARNING:tensorflow:6 out of the last 14 calls to <function Model.make_test_function.<locals>.test_function at 0x7f8a381823b0> triggered tf.function retracing. Tracing is expensive and the excessive number of tracings could be due to (1) creating @tf.function repeatedly in a loop, (2) passing tensors with different shapes, (3) passing Python objects instead of tensors. For (1), please define your @tf.function outside of the loop. For (2), @tf.function has experimental_relax_shapes=True option that relaxes argument shapes that can avoid unnecessary retracing. For (3), please refer to https://www.tensorflow.org/guide/function#controlling_retracing and https://www.tensorflow.org/api_docs/python/tf/function for  more details.\n",
            "WARNING:tensorflow:5 out of the last 454 calls to <function Model.make_train_function.<locals>.train_function at 0x7f8a0a1ff050> triggered tf.function retracing. Tracing is expensive and the excessive number of tracings could be due to (1) creating @tf.function repeatedly in a loop, (2) passing tensors with different shapes, (3) passing Python objects instead of tensors. For (1), please define your @tf.function outside of the loop. For (2), @tf.function has experimental_relax_shapes=True option that relaxes argument shapes that can avoid unnecessary retracing. For (3), please refer to https://www.tensorflow.org/guide/function#controlling_retracing and https://www.tensorflow.org/api_docs/python/tf/function for  more details.\n"
          ]
        },
        {
          "output_type": "stream",
          "name": "stdout",
          "text": [
            "----------\n",
            "iter: 1\n",
            "n_candidates: 21\n",
            "n_resources: 1000\n",
            "Fitting 3 folds for each of 21 candidates, totalling 63 fits\n",
            "----------\n",
            "iter: 2\n",
            "n_candidates: 11\n",
            "n_resources: 2000\n",
            "Fitting 3 folds for each of 11 candidates, totalling 33 fits\n",
            "----------\n",
            "iter: 3\n",
            "n_candidates: 6\n",
            "n_resources: 4000\n",
            "Fitting 3 folds for each of 6 candidates, totalling 18 fits\n",
            "----------\n",
            "iter: 4\n",
            "n_candidates: 3\n",
            "n_resources: 8000\n",
            "Fitting 3 folds for each of 3 candidates, totalling 9 fits\n",
            "----------\n",
            "iter: 5\n",
            "n_candidates: 2\n",
            "n_resources: 16000\n",
            "Fitting 3 folds for each of 2 candidates, totalling 6 fits\n",
            "Best params:  {'trf_reg__transformer__kw_args': {'a_min': 0, 'a_max': 119}, 'trf_reg__regressor__validation_split': 0.1, 'trf_reg__regressor__model__optim': <class 'keras.optimizer_v2.rmsprop.RMSprop'>, 'trf_reg__regressor__model__learning_rate': 0.001, 'trf_reg__regressor__model__layer_nodes': [128, 32], 'trf_reg__regressor__model__dropout': 0.1, 'trf_reg__regressor__model__activation': 'relu', 'trf_reg__regressor__epochs': 50, 'trf_reg__regressor__batch_size': 32, 'scaler': StandardScaler()}\n"
          ]
        }
      ]
    },
    {
      "cell_type": "markdown",
      "source": [
        "\n",
        "\n",
        "```\n",
        "{'trf_reg__transformer__kw_args': {'a_min': 0, 'a_max': 122}, \n",
        "'trf_reg__regressor__validation_split': 0.4, \n",
        "'trf_reg__regressor__model__optim': <class 'keras.optimizer_v2.rmsprop.RMSprop'>, \n",
        "'trf_reg__regressor__model__learning_rate': 0.001, 'trf_reg__regressor__model__layer_nodes': [16, 256], \n",
        "'trf_reg__regressor__model__dropout': 0.2, \n",
        "'trf_reg__regressor__model__activation': 'relu', \n",
        "'trf_reg__regressor__epochs': 20, \n",
        "'trf_reg__regressor__batch_size': 64, \n",
        "'scaler': StandardScaler()}\n",
        "```\n",
        "\n"
      ],
      "metadata": {
        "id": "O8h3t0G80zXy"
      }
    },
    {
      "cell_type": "markdown",
      "source": [
        "\n",
        "\n",
        "```\n",
        "{'trf_reg__transformer__kw_args': {'a_min': 0, 'a_max': 119}, \n",
        "'trf_reg__regressor__validation_split': 0.1, \n",
        "'trf_reg__regressor__model__optim': <class 'keras.optimizer_v2.rmsprop.RMSprop'>,\n",
        " 'trf_reg__regressor__model__learning_rate': 0.001, \n",
        " 'trf_reg__regressor__model__layer_nodes': [128, 32], \n",
        " 'trf_reg__regressor__model__dropout': 0.1, \n",
        " 'trf_reg__regressor__model__activation': 'relu', \n",
        " 'trf_reg__regressor__epochs': 50,\n",
        "  'trf_reg__regressor__batch_size': 32,\n",
        "   'scaler': StandardScaler()}\n",
        "```\n",
        "\n"
      ],
      "metadata": {
        "id": "gEvZW1tO0zMi"
      }
    },
    {
      "cell_type": "code",
      "source": [
        "model = Pipeline([\n",
        "    ('poly_ft'  ,   PolynomialFeatures(degree=3)),\n",
        "    ('scaler'   ,   StandardScaler()),\n",
        "    ('trf_reg'  ,   TransformedTargetRegressor(\n",
        "        check_inverse=False,\n",
        "        regressor   = KerasRegressor(\n",
        "                                model=create_model_pol3_iter, \n",
        "                                model__metrics=[RMSE(), R2()],\n",
        "                                model__loss='mse',\n",
        "                                verbose=0, callbacks=[es,printerCallback],  \n",
        "                                validation_split=0.1, \n",
        "                                model__optim=RMSprop,\n",
        "                                model__learning_rate=0.001, \n",
        "                                model__layer_nodes=[128,32],\n",
        "                                model__dropout=0.1,\n",
        "                                model__activation=\"relu\",\n",
        "                                model__print_summary=True,\n",
        "                                epochs=50, \n",
        "                                batch_size=32),\n",
        "        transformer = FunctionTransformer(np.clip, \n",
        "                                          kw_args={'a_min':0,'a_max':119})))\n",
        "])\n",
        "model"
      ],
      "metadata": {
        "colab": {
          "base_uri": "https://localhost:8080/"
        },
        "id": "ftR7f0HMN0eM",
        "outputId": "be378271-662d-4094-a2dd-6e205e37a588"
      },
      "execution_count": null,
      "outputs": [
        {
          "output_type": "execute_result",
          "data": {
            "text/plain": [
              "Pipeline(steps=[('poly_ft', PolynomialFeatures(degree=3)),\n",
              "                ('scaler', StandardScaler()),\n",
              "                ('trf_reg',\n",
              "                 TransformedTargetRegressor(check_inverse=False,\n",
              "                                            regressor=KerasRegressor(batch_size=32, callbacks=[<keras.callbacks.EarlyStopping object at 0x7f8ad2298910>, <keras.callbacks.LambdaCallback object at 0x7f8ad22a8f10>], epochs=50, model=<function create_model_pol3_iter...cs=[<keras.metrics.RootMeanSquaredError object at 0x7f8a24130950>, <tensorflow_addons.metrics.r_square.RSquare object at 0x7f8a32411810>], model__optim=<class 'keras.optimizer_v2.rmsprop.RMSprop'>, model__print_summary=True, validation_split=0.1, verbose=0),\n",
              "                                            transformer=FunctionTransformer(func=<function clip at 0x7f8b4de4ec20>,\n",
              "                                                                            kw_args={'a_max': 119,\n",
              "                                                                                     'a_min': 0})))])"
            ]
          },
          "metadata": {},
          "execution_count": 57
        }
      ]
    },
    {
      "cell_type": "code",
      "source": [
        "model.fit(X_train, y_train)\n",
        "reclipped_y =  model['trf_reg'].transformer.transform(y_train)\n",
        "eval.show_result(reclipped_y, model.predict(X_train))\n",
        "print(\"Finished:\", datetime.datetime.now())"
      ],
      "metadata": {
        "colab": {
          "base_uri": "https://localhost:8080/"
        },
        "outputId": "b9dc7068-abcc-4c73-ac1d-c4579a690c87",
        "id": "FTEuSqEr1NiD"
      },
      "execution_count": null,
      "outputs": [
        {
          "output_type": "stream",
          "name": "stdout",
          "text": [
            "Model: \"sequential_280\"\n",
            "_________________________________________________________________\n",
            " Layer (type)                Output Shape              Param #   \n",
            "=================================================================\n",
            " dense_850 (Dense)           (None, 128)               259200    \n",
            "                                                                 \n",
            " dropout_570 (Dropout)       (None, 128)               0         \n",
            "                                                                 \n",
            " dense_851 (Dense)           (None, 32)                4128      \n",
            "                                                                 \n",
            " dropout_571 (Dropout)       (None, 32)                0         \n",
            "                                                                 \n",
            " dense_852 (Dense)           (None, 1)                 33        \n",
            "                                                                 \n",
            "=================================================================\n",
            "Total params: 263,361\n",
            "Trainable params: 263,361\n",
            "Non-trainable params: 0\n",
            "_________________________________________________________________\n",
            "E 0\t: loss=1021.892, rmse=31.967, r2=0.346; v_loss=649.613, v_rmse=25.488, v_r2=0.570; \n",
            "E 1\t: loss=594.124, rmse=24.375, r2=0.620; v_loss=650.956, v_rmse=25.514, v_r2=0.569; \n",
            "E 2\t: loss=508.236, rmse=22.544, r2=0.675; v_loss=438.164, v_rmse=20.932, v_r2=0.710; \n",
            "E 3\t: loss=465.323, rmse=21.571, r2=0.702; v_loss=457.153, v_rmse=21.381, v_r2=0.697; \n",
            "E 4\t: loss=443.010, rmse=21.048, r2=0.717; v_loss=462.887, v_rmse=21.515, v_r2=0.694; \n",
            "E 5\t: loss=434.055, rmse=20.834, r2=0.722; v_loss=459.578, v_rmse=21.438, v_r2=0.696; \n",
            "E 6\t: loss=418.458, rmse=20.456, r2=0.732; v_loss=342.186, v_rmse=18.498, v_r2=0.774; \n",
            "E 7\t: loss=411.598, rmse=20.288, r2=0.737; v_loss=345.709, v_rmse=18.593, v_r2=0.771; \n",
            "E 8\t: loss=402.190, rmse=20.055, r2=0.743; v_loss=480.644, v_rmse=21.924, v_r2=0.682; \n",
            "E 9\t: loss=398.085, rmse=19.952, r2=0.745; v_loss=320.973, v_rmse=17.916, v_r2=0.788; \n",
            "E 10\t: loss=395.100, rmse=19.877, r2=0.747; v_loss=347.136, v_rmse=18.632, v_r2=0.770; \n",
            "E 11\t: loss=383.288, rmse=19.578, r2=0.755; v_loss=370.581, v_rmse=19.250, v_r2=0.755; \n",
            "E 12\t: loss=386.817, rmse=19.668, r2=0.753; v_loss=680.649, v_rmse=26.089, v_r2=0.550; \n",
            "E 13\t: loss=385.274, rmse=19.628, r2=0.754; v_loss=660.803, v_rmse=25.706, v_r2=0.563; \n",
            "E 14\t: loss=377.518, rmse=19.430, r2=0.759; v_loss=343.432, v_rmse=18.532, v_r2=0.773; \n",
            "E 15\t: loss=375.605, rmse=19.381, r2=0.760; v_loss=452.049, v_rmse=21.261, v_r2=0.701; \n",
            "E 16\t: loss=373.217, rmse=19.319, r2=0.761; v_loss=354.190, v_rmse=18.820, v_r2=0.766; \n",
            "E 17\t: loss=371.758, rmse=19.281, r2=0.762; v_loss=316.642, v_rmse=17.794, v_r2=0.790; \n",
            "E 18\t: loss=370.005, rmse=19.236, r2=0.763; v_loss=368.338, v_rmse=19.192, v_r2=0.756; \n",
            "E 19\t: loss=366.518, rmse=19.145, r2=0.766; v_loss=330.057, v_rmse=18.167, v_r2=0.782; \n",
            "E 20\t: loss=363.716, rmse=19.071, r2=0.767; v_loss=462.601, v_rmse=21.508, v_r2=0.694; \n",
            "E 21\t: loss=363.730, rmse=19.072, r2=0.767; v_loss=323.034, v_rmse=17.973, v_r2=0.786; \n",
            "E 22\t: loss=361.478, rmse=19.013, r2=0.769; v_loss=389.459, v_rmse=19.735, v_r2=0.742; \n",
            "E 23\t: loss=364.095, rmse=19.081, r2=0.767; v_loss=431.852, v_rmse=20.781, v_r2=0.714; \n",
            "E 24\t: loss=358.437, rmse=18.932, r2=0.771; v_loss=325.702, v_rmse=18.047, v_r2=0.784; \n",
            "E 25\t: loss=357.162, rmse=18.899, r2=0.772; v_loss=355.768, v_rmse=18.862, v_r2=0.765; \n",
            "E 26\t: loss=357.109, rmse=18.897, r2=0.772; v_loss=352.083, v_rmse=18.764, v_r2=0.767; \n",
            "E 27\t: loss=357.320, rmse=18.903, r2=0.771; v_loss=372.086, v_rmse=19.290, v_r2=0.754; \n",
            "E 28\t: loss=355.524, rmse=18.855, r2=0.773; v_loss=327.776, v_rmse=18.105, v_r2=0.783; \n",
            "E 29\t: loss=351.629, rmse=18.752, r2=0.775; v_loss=480.164, v_rmse=21.913, v_r2=0.682; \n",
            "E 30\t: loss=354.156, rmse=18.819, r2=0.773; v_loss=315.904, v_rmse=17.774, v_r2=0.791; \n",
            "E 31\t: loss=351.878, rmse=18.758, r2=0.775; v_loss=656.191, v_rmse=25.616, v_r2=0.566; \n",
            "E 32\t: loss=349.779, rmse=18.702, r2=0.776; v_loss=321.974, v_rmse=17.944, v_r2=0.787; \n",
            "E 33\t: loss=349.292, rmse=18.689, r2=0.777; v_loss=330.540, v_rmse=18.181, v_r2=0.781; \n",
            "E 34\t: loss=349.142, rmse=18.685, r2=0.777; v_loss=378.742, v_rmse=19.461, v_r2=0.749; \n",
            "E 35\t: loss=347.969, rmse=18.654, r2=0.777; v_loss=356.909, v_rmse=18.892, v_r2=0.764; \n",
            "E 36\t: loss=348.179, rmse=18.660, r2=0.777; v_loss=311.871, v_rmse=17.660, v_r2=0.794; \n",
            "E 37\t: loss=349.973, rmse=18.708, r2=0.776; v_loss=328.919, v_rmse=18.136, v_r2=0.782; \n",
            "E 38\t: loss=346.920, rmse=18.626, r2=0.778; v_loss=393.217, v_rmse=19.830, v_r2=0.740; \n",
            "E 39\t: loss=346.353, rmse=18.611, r2=0.778; v_loss=307.477, v_rmse=17.535, v_r2=0.797; \n",
            "E 40\t: loss=344.972, rmse=18.573, r2=0.779; v_loss=383.138, v_rmse=19.574, v_r2=0.746; \n",
            "E 41\t: loss=347.039, rmse=18.629, r2=0.778; v_loss=506.417, v_rmse=22.504, v_r2=0.665; \n",
            "E 42\t: loss=341.358, rmse=18.476, r2=0.782; v_loss=314.362, v_rmse=17.730, v_r2=0.792; \n",
            "E 43\t: loss=345.449, rmse=18.586, r2=0.779; v_loss=306.207, v_rmse=17.499, v_r2=0.797; \n",
            "E 44\t: loss=341.947, rmse=18.492, r2=0.781; v_loss=376.357, v_rmse=19.400, v_r2=0.751; \n",
            "E 45\t: loss=344.674, rmse=18.565, r2=0.780; v_loss=525.699, v_rmse=22.928, v_r2=0.652; \n",
            "E 46\t: loss=342.813, rmse=18.515, r2=0.781; v_loss=320.140, v_rmse=17.892, v_r2=0.788; \n",
            "E 47\t: loss=343.314, rmse=18.529, r2=0.780; v_loss=355.605, v_rmse=18.857, v_r2=0.765; \n",
            "R2=0.818,RMSE=-16.839\n",
            "Finished: 2022-09-15 11:48:55.049088\n"
          ]
        }
      ]
    },
    {
      "cell_type": "code",
      "source": [
        "model.fit(X_train, y_train)"
      ],
      "metadata": {
        "colab": {
          "base_uri": "https://localhost:8080/"
        },
        "id": "0WPhqCgqOq0r",
        "outputId": "75d56174-537d-4e10-9566-cb7b50e12928"
      },
      "execution_count": null,
      "outputs": [
        {
          "output_type": "stream",
          "name": "stdout",
          "text": [
            "E 0\t: loss=5207.414, rmse=72.162, r2=-0.345; v_loss=3045.556, v_rmse=55.187, v_r2=0.451; \n",
            "E 1\t: loss=1527.117, rmse=39.078, r2=0.606; v_loss=2813.525, v_rmse=53.043, v_r2=0.493; \n",
            "E 2\t: loss=1359.615, rmse=36.873, r2=0.649; v_loss=2666.109, v_rmse=51.634, v_r2=0.519; \n",
            "E 3\t: loss=1315.130, rmse=36.265, r2=0.660; v_loss=2877.303, v_rmse=53.640, v_r2=0.481; \n",
            "E 4\t: loss=1290.427, rmse=35.923, r2=0.667; v_loss=2632.022, v_rmse=51.303, v_r2=0.526; \n",
            "E 5\t: loss=1294.368, rmse=35.977, r2=0.666; v_loss=2702.958, v_rmse=51.990, v_r2=0.513; \n",
            "E 6\t: loss=1239.708, rmse=35.209, r2=0.680; v_loss=3236.657, v_rmse=56.892, v_r2=0.417; \n",
            "E 7\t: loss=1272.573, rmse=35.673, r2=0.671; v_loss=3314.008, v_rmse=57.567, v_r2=0.403; \n",
            "E 8\t: loss=1270.919, rmse=35.650, r2=0.672; v_loss=2804.315, v_rmse=52.956, v_r2=0.494; \n",
            "E 9\t: loss=1257.236, rmse=35.458, r2=0.675; v_loss=2682.475, v_rmse=51.793, v_r2=0.516; \n",
            "E 10\t: loss=1252.234, rmse=35.387, r2=0.677; v_loss=2580.146, v_rmse=50.795, v_r2=0.535; \n",
            "E 11\t: loss=1235.938, rmse=35.156, r2=0.681; v_loss=2875.703, v_rmse=53.626, v_r2=0.482; \n",
            "E 12\t: loss=1240.101, rmse=35.215, r2=0.680; v_loss=2998.597, v_rmse=54.759, v_r2=0.459; \n",
            "E 13\t: loss=1221.820, rmse=34.955, r2=0.684; v_loss=2843.069, v_rmse=53.320, v_r2=0.487; \n",
            "E 14\t: loss=1227.091, rmse=35.030, r2=0.683; v_loss=2900.337, v_rmse=53.855, v_r2=0.477; \n",
            "E 15\t: loss=1202.511, rmse=34.677, r2=0.689; v_loss=2727.129, v_rmse=52.222, v_r2=0.508; \n",
            "E 16\t: loss=1195.381, rmse=34.574, r2=0.691; v_loss=2904.663, v_rmse=53.895, v_r2=0.476; \n",
            "E 17\t: loss=1228.552, rmse=35.051, r2=0.683; v_loss=2963.373, v_rmse=54.437, v_r2=0.466; \n",
            "E 18\t: loss=1216.440, rmse=34.877, r2=0.686; v_loss=3066.665, v_rmse=55.377, v_r2=0.447; \n",
            "E 19\t: loss=1210.912, rmse=34.798, r2=0.687; v_loss=2854.012, v_rmse=53.423, v_r2=0.485; \n"
          ]
        },
        {
          "output_type": "execute_result",
          "data": {
            "text/plain": [
              "Pipeline(steps=[('scaler', MinMaxScaler()),\n",
              "                ('mlp',\n",
              "                 KerasRegressor(batch_size=128, callbacks=[<keras.callbacks.EarlyStopping object at 0x7f64ae3187d0>, <keras.callbacks.LambdaCallback object at 0x7f64aebf8b10>], epochs=20, model=<function create_model at 0x7f6542c000e0>, model__activation='relu', model__dropout=0.1, model__layer_nodes=[16, 32, 64], model__learning_rate=0.01, model__loss='mse', model__metrics=[<keras.metrics.RootMeanSquaredError object at 0x7f64ae30f6d0>, <tensorflow_addons.metrics.r_square.RSquare object at 0x7f64ae317350>], model__optim=<class 'keras.optimizer_v2.adam.Adam'>, validation_split=0.5, verbose=0))])"
            ]
          },
          "metadata": {},
          "execution_count": 53
        }
      ]
    },
    {
      "cell_type": "code",
      "source": [
        "model.fit(X_train, y_train)\n",
        "eval.show_result(y_train, model.predict(X_train))\n",
        "# eval.show_result_cv(y_train, X_train, model)"
      ],
      "metadata": {
        "colab": {
          "base_uri": "https://localhost:8080/"
        },
        "id": "ko0Uz9l_OosC",
        "outputId": "037fc530-5397-407f-9e11-7d7f87429dd6"
      },
      "execution_count": null,
      "outputs": [
        {
          "output_type": "stream",
          "name": "stdout",
          "text": [
            "E 0\t: loss=4787.087, rmse=61.810, r2=0.195; v_loss=3012.669, v_rmse=54.888, v_r2=0.457; \n",
            "E 1\t: loss=1573.484, rmse=39.667, r2=0.594; v_loss=2781.886, v_rmse=52.744, v_r2=0.499; \n",
            "E 2\t: loss=1422.959, rmse=37.722, r2=0.632; v_loss=2648.300, v_rmse=51.462, v_r2=0.523; \n",
            "E 3\t: loss=1322.943, rmse=36.372, r2=0.658; v_loss=2887.253, v_rmse=53.733, v_r2=0.480; \n",
            "E 4\t: loss=1293.984, rmse=35.972, r2=0.666; v_loss=2671.713, v_rmse=51.689, v_r2=0.518; \n",
            "E 5\t: loss=1264.718, rmse=35.563, r2=0.673; v_loss=2667.296, v_rmse=51.646, v_r2=0.519; \n",
            "E 6\t: loss=1209.704, rmse=34.781, r2=0.688; v_loss=3272.676, v_rmse=57.207, v_r2=0.410; \n",
            "E 7\t: loss=1235.243, rmse=35.146, r2=0.681; v_loss=2919.450, v_rmse=54.032, v_r2=0.474; \n",
            "E 8\t: loss=1193.297, rmse=34.544, r2=0.692; v_loss=2588.395, v_rmse=50.876, v_r2=0.533; \n",
            "E 9\t: loss=1183.923, rmse=34.408, r2=0.694; v_loss=2595.500, v_rmse=50.946, v_r2=0.532; \n",
            "E 10\t: loss=1186.067, rmse=34.439, r2=0.694; v_loss=2638.092, v_rmse=51.362, v_r2=0.524; \n",
            "E 11\t: loss=1173.344, rmse=34.254, r2=0.697; v_loss=2639.616, v_rmse=51.377, v_r2=0.524; \n",
            "E 12\t: loss=1171.831, rmse=34.232, r2=0.697; v_loss=2618.583, v_rmse=51.172, v_r2=0.528; \n",
            "E 13\t: loss=1157.851, rmse=34.027, r2=0.701; v_loss=2592.635, v_rmse=50.918, v_r2=0.533; \n",
            "E 14\t: loss=1162.587, rmse=34.097, r2=0.700; v_loss=2737.344, v_rmse=52.320, v_r2=0.507; \n",
            "E 15\t: loss=1155.371, rmse=33.991, r2=0.702; v_loss=2512.420, v_rmse=50.124, v_r2=0.547; \n",
            "E 16\t: loss=1151.620, rmse=33.936, r2=0.703; v_loss=2696.023, v_rmse=51.923, v_r2=0.514; \n",
            "E 17\t: loss=1180.901, rmse=34.364, r2=0.695; v_loss=2919.380, v_rmse=54.031, v_r2=0.474; \n",
            "E 18\t: loss=1146.900, rmse=33.866, r2=0.704; v_loss=2765.089, v_rmse=52.584, v_r2=0.502; \n",
            "E 19\t: loss=1158.254, rmse=34.033, r2=0.701; v_loss=2695.551, v_rmse=51.919, v_r2=0.514; \n",
            "R2=0.610,RMSE=-43.032\n"
          ]
        }
      ]
    },
    {
      "cell_type": "code",
      "source": [
        "eval.show_result(y_test, model.predict(X_test))"
      ],
      "metadata": {
        "colab": {
          "base_uri": "https://localhost:8080/"
        },
        "id": "RHZRacpvZ4Ht",
        "outputId": "81bb0b7c-3386-4a3b-e307-9317d720cb02"
      },
      "execution_count": null,
      "outputs": [
        {
          "output_type": "stream",
          "name": "stdout",
          "text": [
            "R2=0.643,RMSE=-24.825\n"
          ]
        }
      ]
    },
    {
      "cell_type": "code",
      "source": [
        "dir(search)"
      ],
      "metadata": {
        "colab": {
          "base_uri": "https://localhost:8080/"
        },
        "id": "LVkdXy9TLfvK",
        "outputId": "c5035aab-88ab-4084-ccde-d97441f69bab"
      },
      "execution_count": null,
      "outputs": [
        {
          "output_type": "execute_result",
          "data": {
            "text/plain": [
              "['__abstractmethods__',\n",
              " '__class__',\n",
              " '__delattr__',\n",
              " '__dict__',\n",
              " '__dir__',\n",
              " '__doc__',\n",
              " '__eq__',\n",
              " '__format__',\n",
              " '__ge__',\n",
              " '__getattribute__',\n",
              " '__getstate__',\n",
              " '__gt__',\n",
              " '__hash__',\n",
              " '__init__',\n",
              " '__init_subclass__',\n",
              " '__le__',\n",
              " '__lt__',\n",
              " '__module__',\n",
              " '__ne__',\n",
              " '__new__',\n",
              " '__reduce__',\n",
              " '__reduce_ex__',\n",
              " '__repr__',\n",
              " '__setattr__',\n",
              " '__setstate__',\n",
              " '__sizeof__',\n",
              " '__str__',\n",
              " '__subclasshook__',\n",
              " '__weakref__',\n",
              " '_abc_impl',\n",
              " '_check_feature_names',\n",
              " '_check_input_parameters',\n",
              " '_check_n_features',\n",
              " '_check_refit_for_multimetric',\n",
              " '_checked_cv_orig',\n",
              " '_estimator_type',\n",
              " '_format_results',\n",
              " '_generate_candidate_params',\n",
              " '_get_param_names',\n",
              " '_get_tags',\n",
              " '_more_tags',\n",
              " '_n_samples_orig',\n",
              " '_pairwise',\n",
              " '_repr_html_',\n",
              " '_repr_html_inner',\n",
              " '_repr_mimebundle_',\n",
              " '_required_parameters',\n",
              " '_run_search',\n",
              " '_select_best_index',\n",
              " '_validate_data',\n",
              " 'aggressive_elimination',\n",
              " 'best_estimator_',\n",
              " 'best_index_',\n",
              " 'best_params_',\n",
              " 'best_score_',\n",
              " 'classes_',\n",
              " 'cv',\n",
              " 'cv_results_',\n",
              " 'decision_function',\n",
              " 'error_score',\n",
              " 'estimator',\n",
              " 'factor',\n",
              " 'feature_names_in_',\n",
              " 'fit',\n",
              " 'get_params',\n",
              " 'inverse_transform',\n",
              " 'max_resources',\n",
              " 'max_resources_',\n",
              " 'min_resources',\n",
              " 'min_resources_',\n",
              " 'multimetric_',\n",
              " 'n_candidates',\n",
              " 'n_candidates_',\n",
              " 'n_features_in_',\n",
              " 'n_iterations_',\n",
              " 'n_jobs',\n",
              " 'n_possible_iterations_',\n",
              " 'n_remaining_candidates_',\n",
              " 'n_required_iterations_',\n",
              " 'n_resources_',\n",
              " 'n_splits_',\n",
              " 'param_distributions',\n",
              " 'pre_dispatch',\n",
              " 'predict',\n",
              " 'predict_log_proba',\n",
              " 'predict_proba',\n",
              " 'random_state',\n",
              " 'refit',\n",
              " 'refit_time_',\n",
              " 'resource',\n",
              " 'return_train_score',\n",
              " 'score',\n",
              " 'score_samples',\n",
              " 'scorer_',\n",
              " 'scoring',\n",
              " 'set_params',\n",
              " 'transform',\n",
              " 'verbose']"
            ]
          },
          "metadata": {},
          "execution_count": 86
        }
      ]
    },
    {
      "cell_type": "code",
      "source": [
        "search.score"
      ],
      "metadata": {
        "colab": {
          "base_uri": "https://localhost:8080/"
        },
        "id": "kavu1LPOMwLV",
        "outputId": "c90228cf-454f-4597-d419-7706c337d9b5"
      },
      "execution_count": null,
      "outputs": [
        {
          "output_type": "execute_result",
          "data": {
            "text/plain": [
              "<bound method BaseSearchCV.score of HalvingRandomSearchCV(cv=3,\n",
              "                      estimator=Pipeline(steps=[('scaler', MinMaxScaler()),\n",
              "                                                ('mlp',\n",
              "                                                 KerasRegressor(callbacks=[<keras.callbacks.EarlyStopping object at 0x7fdf39694cd0>], model=<function create_model at 0x7fdf49de63b0>, validation_split=0.2, verbose=0))]),\n",
              "                      min_resources=500,\n",
              "                      param_distributions={'mlp__epochs': [1, 5, 10, 20, 30,\n",
              "                                                           50],\n",
              "                                           'mlp__model__activation': ['relu'...\n",
              "                                                                         <keras.optimizer_v2.learning_rate_schedule.ExponentialDecay object at 0x7fdf439f5910>],\n",
              "                                           'mlp__model__optim': [<class 'keras.optimizer_v2.adam.Adam'>,\n",
              "                                                                 <class 'keras.optimizer_v2.gradient_descent.SGD'>,\n",
              "                                                                 <class 'keras.optimizer_v2.rmsprop.RMSprop'>],\n",
              "                                           'mlp__validation_split': [0.1, 0.2,\n",
              "                                                                     0.4, 0.5],\n",
              "                                           'scaler': [MinMaxScaler(),\n",
              "                                                      StandardScaler()]},\n",
              "                      random_state=42, scoring='r2', verbose=1)>"
            ]
          },
          "metadata": {},
          "execution_count": 89
        }
      ]
    },
    {
      "cell_type": "markdown",
      "source": [
        "## Linear RUL"
      ],
      "metadata": {
        "id": "r6YQTm7aOf2G"
      }
    },
    {
      "cell_type": "code",
      "source": [
        "model = Pipeline([\n",
        "    ('tree_reg'  ,   DecisionTreeRegressor(random_state=42))\n",
        "])"
      ],
      "metadata": {
        "id": "4PbFjj3G3QUQ"
      },
      "execution_count": null,
      "outputs": []
    },
    {
      "cell_type": "code",
      "source": [
        "GRID_SEARCH = True\n",
        "if (GRID_SEARCH):\n",
        "    param_distributions = {\n",
        "        \"tree_reg__criterion\": [\"squared_error\",\"friedman_mse\",\"absolute_error\",\"poisson\"],\n",
        "        \"tree_reg__splitter\": [\"best\", \"random\"],\n",
        "        \"tree_reg__max_depth\": [None,100,200,300],\n",
        "        \"tree_reg__min_samples_split\": [2,5,10,15,20],\n",
        "        \"tree_reg__min_samples_leaf\": [1,2,5,10,15,20,50,100],\n",
        "        \"tree_reg__max_features\": [\"sqrt\", \"log2\"],\n",
        "        \"tree_reg__min_impurity_decrease\": list(np.arange(0,150)/10),\n",
        "        \"tree_reg__ccp_alpha\": list(np.round(np.linspace(0, 2, 81), decimals=3)),\n",
        "    }\n",
        "    model = search.run_HR_GS(model, X_train, y_train, param_distributions, \n",
        "                            scorer='r2', ignore_warnings=True)\n",
        "    print(model)"
      ],
      "metadata": {
        "colab": {
          "base_uri": "https://localhost:8080/"
        },
        "id": "xfElIPxBI8w3",
        "outputId": "ff2ab789-ac53-4ba1-8f3e-c4a173db1c43"
      },
      "execution_count": null,
      "outputs": [
        {
          "output_type": "stream",
          "name": "stdout",
          "text": [
            "n_iterations: 4\n",
            "n_required_iterations: 4\n",
            "n_possible_iterations: 4\n",
            "min_resources_: 500\n",
            "max_resources_: 20631\n",
            "aggressive_elimination: False\n",
            "factor: 3\n",
            "----------\n",
            "iter: 0\n",
            "n_candidates: 41\n",
            "n_resources: 500\n",
            "Fitting 5 folds for each of 41 candidates, totalling 205 fits\n",
            "----------\n",
            "iter: 1\n",
            "n_candidates: 14\n",
            "n_resources: 1500\n",
            "Fitting 5 folds for each of 14 candidates, totalling 70 fits\n",
            "----------\n",
            "iter: 2\n",
            "n_candidates: 5\n",
            "n_resources: 4500\n",
            "Fitting 5 folds for each of 5 candidates, totalling 25 fits\n",
            "----------\n",
            "iter: 3\n",
            "n_candidates: 2\n",
            "n_resources: 13500\n",
            "Fitting 5 folds for each of 2 candidates, totalling 10 fits\n",
            "Best params:  {'tree_reg__splitter': 'best', 'tree_reg__min_samples_split': 2, 'tree_reg__min_samples_leaf': 20, 'tree_reg__min_impurity_decrease': 3.5, 'tree_reg__max_features': 'log2', 'tree_reg__max_depth': 200, 'tree_reg__criterion': 'friedman_mse', 'tree_reg__ccp_alpha': 0.675}\n",
            "Pipeline(steps=[('tree_reg',\n",
            "                 DecisionTreeRegressor(ccp_alpha=0.675,\n",
            "                                       criterion='friedman_mse', max_depth=200,\n",
            "                                       max_features='log2',\n",
            "                                       min_impurity_decrease=3.5,\n",
            "                                       min_samples_leaf=20, random_state=42))])\n"
          ]
        }
      ]
    },
    {
      "cell_type": "markdown",
      "source": [
        "Best Model:\n",
        "```\n",
        "('tree_reg',\n",
        "DecisionTreeRegressor(ccp_alpha=0.675,\n",
        "                    criterion='friedman_mse', max_depth=200,\n",
        "                    max_features='log2',\n",
        "                    min_impurity_decrease=3.5,\n",
        "                    min_samples_leaf=20, random_state=42))\n",
        "```"
      ],
      "metadata": {
        "id": "bKZoX4i15VzV"
      }
    },
    {
      "cell_type": "code",
      "source": [
        "model = Pipeline([\n",
        "    ('tree_reg'  ,   DecisionTreeRegressor(ccp_alpha=0.675,\n",
        "                                    criterion='friedman_mse', max_depth=200,\n",
        "                                    max_features='log2',\n",
        "                                    min_impurity_decrease=3.5,\n",
        "                                    min_samples_leaf=20, random_state=42))\n",
        "])\n",
        "model"
      ],
      "metadata": {
        "colab": {
          "base_uri": "https://localhost:8080/"
        },
        "id": "ZECiy0kVMXxg",
        "outputId": "d4d05ad5-18e4-45c3-b1f8-6111ca081533"
      },
      "execution_count": null,
      "outputs": [
        {
          "output_type": "execute_result",
          "data": {
            "text/plain": [
              "Pipeline(steps=[('tree_reg',\n",
              "                 DecisionTreeRegressor(ccp_alpha=0.675,\n",
              "                                       criterion='friedman_mse', max_depth=200,\n",
              "                                       max_features='log2',\n",
              "                                       min_impurity_decrease=3.5,\n",
              "                                       min_samples_leaf=20, random_state=42))])"
            ]
          },
          "metadata": {},
          "execution_count": 52
        }
      ]
    },
    {
      "cell_type": "code",
      "source": [
        "model.fit(X_train, y_train)\n",
        "eval.show_result(y_train, model.predict(X_train))\n",
        "eval.show_result_cv(y_train, X_train, model)"
      ],
      "metadata": {
        "colab": {
          "base_uri": "https://localhost:8080/"
        },
        "id": "vefcPjT2Xb6y",
        "outputId": "80ecfd48-1b04-4f8a-f431-f82e79cf73fa"
      },
      "execution_count": null,
      "outputs": [
        {
          "output_type": "stream",
          "name": "stdout",
          "text": [
            "R2=0.645,RMSE=-41.037\n",
            "(CV) R2=0.537,RMSE=-46.205\n"
          ]
        }
      ]
    },
    {
      "cell_type": "code",
      "source": [
        "eval.show_result(y_test, model.predict(X_test))"
      ],
      "metadata": {
        "colab": {
          "base_uri": "https://localhost:8080/"
        },
        "id": "367rdLmjRETX",
        "outputId": "f912cdda-5f84-4d8b-d9ed-e5f4ba65e4b5"
      },
      "execution_count": null,
      "outputs": [
        {
          "output_type": "stream",
          "name": "stdout",
          "text": [
            "R2=0.298,RMSE=-34.821\n"
          ]
        }
      ]
    },
    {
      "cell_type": "markdown",
      "source": [
        "Worse than simple linear regression"
      ],
      "metadata": {
        "id": "Www1kqZTMkE1"
      }
    },
    {
      "cell_type": "markdown",
      "source": [
        "## Non-linear RUL"
      ],
      "metadata": {
        "id": "klzYEWjrZiXt"
      }
    },
    {
      "cell_type": "code",
      "source": [
        "model = Pipeline([\n",
        "    ('trf_reg' ,TransformedTargetRegressor(\n",
        "        check_inverse=False,\n",
        "        regressor   = DecisionTreeRegressor(random_state=42),\n",
        "        transformer = FunctionTransformer(np.clip, \n",
        "                                          kw_args={'a_min':0,'a_max':50})))\n",
        "    ])"
      ],
      "metadata": {
        "id": "J42sZdWlFlF5"
      },
      "execution_count": null,
      "outputs": []
    },
    {
      "cell_type": "code",
      "source": [
        "GRID_SEARCH = True\n",
        "if (GRID_SEARCH):\n",
        "    param_distributions = {\n",
        "        \"trf_reg__transformer__kw_args\": search.generate_clip_dicts(80,150,1),\n",
        "        \"trf_reg__regressor__criterion\": [\"squared_error\",\"friedman_mse\",\"absolute_error\",\"poisson\"],\n",
        "        \"trf_reg__regressor__splitter\": [\"best\", \"random\"],\n",
        "        \"trf_reg__regressor__max_depth\": [None,100,200,300],\n",
        "        \"trf_reg__regressor__min_samples_split\": [2,5,10,15,20],\n",
        "        \"trf_reg__regressor__min_samples_leaf\": [1,2,5,10,15,20,50,100],\n",
        "        \"trf_reg__regressor__max_features\": [\"sqrt\", \"log2\"],\n",
        "        \"trf_reg__regressor__min_impurity_decrease\": list(np.arange(0,150)/10),\n",
        "        \"trf_reg__regressor__ccp_alpha\": list(np.round(np.linspace(0, 2, 81), decimals=3)) \n",
        "    \n",
        "    }\n",
        "    model = search.run_HR_GS(model, X_train, y_train, param_distributions)\n",
        "    print(model)"
      ],
      "metadata": {
        "colab": {
          "base_uri": "https://localhost:8080/"
        },
        "id": "LecVj2kVEJgx",
        "outputId": "c9c714e1-83fc-49fd-f58c-00376eeef415"
      },
      "execution_count": null,
      "outputs": [
        {
          "output_type": "stream",
          "name": "stdout",
          "text": [
            "n_iterations: 4\n",
            "n_required_iterations: 4\n",
            "n_possible_iterations: 4\n",
            "min_resources_: 500\n",
            "max_resources_: 20631\n",
            "aggressive_elimination: False\n",
            "factor: 3\n",
            "----------\n",
            "iter: 0\n",
            "n_candidates: 41\n",
            "n_resources: 500\n",
            "Fitting 5 folds for each of 41 candidates, totalling 205 fits\n",
            "----------\n",
            "iter: 1\n",
            "n_candidates: 14\n",
            "n_resources: 1500\n",
            "Fitting 5 folds for each of 14 candidates, totalling 70 fits\n",
            "----------\n",
            "iter: 2\n",
            "n_candidates: 5\n",
            "n_resources: 4500\n",
            "Fitting 5 folds for each of 5 candidates, totalling 25 fits\n",
            "----------\n",
            "iter: 3\n",
            "n_candidates: 2\n",
            "n_resources: 13500\n",
            "Fitting 5 folds for each of 2 candidates, totalling 10 fits\n",
            "Best params:  {'trf_reg__transformer__kw_args': {'a_min': 0, 'a_max': 98}, 'trf_reg__regressor__splitter': 'best', 'trf_reg__regressor__min_samples_split': 2, 'trf_reg__regressor__min_samples_leaf': 10, 'trf_reg__regressor__min_impurity_decrease': 5.5, 'trf_reg__regressor__max_features': 'sqrt', 'trf_reg__regressor__max_depth': 200, 'trf_reg__regressor__criterion': 'friedman_mse', 'trf_reg__regressor__ccp_alpha': 0.375}\n",
            "Pipeline(steps=[('trf_reg',\n",
            "                 TransformedTargetRegressor(check_inverse=False,\n",
            "                                            regressor=DecisionTreeRegressor(ccp_alpha=0.375,\n",
            "                                                                            criterion='friedman_mse',\n",
            "                                                                            max_depth=200,\n",
            "                                                                            max_features='sqrt',\n",
            "                                                                            min_impurity_decrease=5.5,\n",
            "                                                                            min_samples_leaf=10,\n",
            "                                                                            random_state=42),\n",
            "                                            transformer=FunctionTransformer(func=<function clip at 0x7fd35e8e7cb0>,\n",
            "                                                                            kw_args={'a_max': 98,\n",
            "                                                                                     'a_min': 0})))])\n"
          ]
        }
      ]
    },
    {
      "cell_type": "markdown",
      "source": [
        "Best Model:\n",
        "\n",
        "```\n",
        "{'trf_reg__transformer__kw_args': {'a_min': 0, 'a_max': 98}}\n",
        "\n",
        "DecisionTreeRegressor(ccp_alpha=0.375,\n",
        "                    criterion='friedman_mse',\n",
        "                    max_depth=200,\n",
        "                    max_features='sqrt',\n",
        "                    min_impurity_decrease=5.5,\n",
        "                    min_samples_leaf=10,\n",
        "                    random_state=42),\n",
        "```\n",
        "\n"
      ],
      "metadata": {
        "id": "941d0KXxMZsB"
      }
    },
    {
      "cell_type": "code",
      "source": [
        "model = Pipeline([\n",
        "    ('trf_reg' ,TransformedTargetRegressor(\n",
        "        check_inverse=False,\n",
        "        regressor   = DecisionTreeRegressor(ccp_alpha=0.375,\n",
        "                            criterion='friedman_mse',\n",
        "                            max_depth=200,\n",
        "                            max_features='sqrt',\n",
        "                            min_impurity_decrease=5.5,\n",
        "                            min_samples_leaf=10,\n",
        "                            random_state=42),\n",
        "        transformer = FunctionTransformer(np.clip, \n",
        "                                          kw_args={'a_min':0,'a_max':98})))\n",
        "    ])\n",
        "model"
      ],
      "metadata": {
        "id": "e0OEtLzeEgOH",
        "colab": {
          "base_uri": "https://localhost:8080/"
        },
        "outputId": "27321cbc-4bc8-4d5e-c0d1-88da197d8641"
      },
      "execution_count": null,
      "outputs": [
        {
          "output_type": "execute_result",
          "data": {
            "text/plain": [
              "Pipeline(steps=[('trf_reg',\n",
              "                 TransformedTargetRegressor(check_inverse=False,\n",
              "                                            regressor=DecisionTreeRegressor(ccp_alpha=0.375,\n",
              "                                                                            criterion='friedman_mse',\n",
              "                                                                            max_depth=200,\n",
              "                                                                            max_features='sqrt',\n",
              "                                                                            min_impurity_decrease=5.5,\n",
              "                                                                            min_samples_leaf=10,\n",
              "                                                                            random_state=42),\n",
              "                                            transformer=FunctionTransformer(func=<function clip at 0x7fd35e8e7cb0>,\n",
              "                                                                            kw_args={'a_max': 98,\n",
              "                                                                                     'a_min': 0})))])"
            ]
          },
          "metadata": {},
          "execution_count": 57
        }
      ]
    },
    {
      "cell_type": "code",
      "source": [
        "model.fit(X_train, y_train)\n",
        "reclipped_y =  model['trf_reg'].transformer.transform(y_train)\n",
        "eval.show_result(reclipped_y, model.predict(X_train))\n",
        "eval.show_result_cv(reclipped_y, X_train, model)"
      ],
      "metadata": {
        "colab": {
          "base_uri": "https://localhost:8080/"
        },
        "outputId": "fa38b155-e8c6-464c-f698-c583f63583dd",
        "id": "8SVqLYhUF3aY"
      },
      "execution_count": null,
      "outputs": [
        {
          "output_type": "stream",
          "name": "stdout",
          "text": [
            "R2=0.815,RMSE=-13.536\n",
            "(CV) R2=0.781,RMSE=-14.680\n"
          ]
        }
      ]
    },
    {
      "cell_type": "code",
      "source": [
        "reclipped_y =  model['trf_reg'].transformer.transform(y_test)\n",
        "eval.show_result(reclipped_y, model.predict(X_test))"
      ],
      "metadata": {
        "colab": {
          "base_uri": "https://localhost:8080/"
        },
        "outputId": "de05e043-000d-4c5a-f12d-2c7d2033a2e1",
        "id": "JoP9s0laF3aU"
      },
      "execution_count": null,
      "outputs": [
        {
          "output_type": "stream",
          "name": "stdout",
          "text": [
            "R2=0.819,RMSE=-14.277\n"
          ]
        }
      ]
    },
    {
      "cell_type": "markdown",
      "source": [
        "The best result we had so far in training and in testing"
      ],
      "metadata": {
        "id": "VKSLMt6WOUtr"
      }
    },
    {
      "cell_type": "markdown",
      "source": [
        "## PolyFeatures + Linear RUL"
      ],
      "metadata": {
        "id": "MQi8MHh20wou"
      }
    },
    {
      "cell_type": "code",
      "source": [
        "model = Pipeline([\n",
        "    ('poly_ft'  ,   PolynomialFeatures()),\n",
        "    ('tree_reg'  ,   DecisionTreeRegressor(random_state=42))\n",
        "])\n",
        "model"
      ],
      "metadata": {
        "colab": {
          "base_uri": "https://localhost:8080/"
        },
        "outputId": "7b4ee0be-7e95-4caf-c2ec-922926c9c501",
        "id": "g3KHHSwr0wow"
      },
      "execution_count": null,
      "outputs": [
        {
          "output_type": "execute_result",
          "data": {
            "text/plain": [
              "Pipeline(steps=[('poly_ft', PolynomialFeatures()),\n",
              "                ('tree_reg', DecisionTreeRegressor(random_state=42))])"
            ]
          },
          "metadata": {},
          "execution_count": 60
        }
      ]
    },
    {
      "cell_type": "code",
      "source": [
        "GRID_SEARCH = True\n",
        "if (GRID_SEARCH):\n",
        "    param_distributions = {\n",
        "        \"poly_ft__degree\": [1,2,3],\n",
        "        \"poly_ft__interaction_only\": [False, True],\n",
        "        \"poly_ft__include_bias\": [True, False],\n",
        "        \"tree_reg__criterion\": [\"squared_error\",\"friedman_mse\",\"absolute_error\",\"poisson\"],\n",
        "        \"tree_reg__splitter\": [\"best\", \"random\"],\n",
        "        \"tree_reg__max_depth\": [None,100,200,300],\n",
        "        \"tree_reg__min_samples_split\": [2,5,10,15,20],\n",
        "        \"tree_reg__min_samples_leaf\": [1,2,5,10,15,20,50,100],\n",
        "        \"tree_reg__max_features\": [None, \"sqrt\", \"log2\"],\n",
        "        \"tree_reg__min_impurity_decrease\": list(np.arange(0,150)/10),\n",
        "        \"tree_reg__ccp_alpha\": list(np.round(np.linspace(0, 2, 81), decimals=3)) \n",
        "    }\n",
        "    model = search.run_HR_GS(model, X_train, y_train, \n",
        "                            param_distributions, scorer='r2')\n",
        "    print(model)"
      ],
      "metadata": {
        "id": "datMycLD0wox",
        "colab": {
          "base_uri": "https://localhost:8080/"
        },
        "outputId": "735e4792-b1a1-4468-a773-3574b510f52c"
      },
      "execution_count": null,
      "outputs": [
        {
          "output_type": "stream",
          "name": "stdout",
          "text": [
            "n_iterations: 4\n",
            "n_required_iterations: 4\n",
            "n_possible_iterations: 4\n",
            "min_resources_: 500\n",
            "max_resources_: 20631\n",
            "aggressive_elimination: False\n",
            "factor: 3\n",
            "----------\n",
            "iter: 0\n",
            "n_candidates: 41\n",
            "n_resources: 500\n",
            "Fitting 5 folds for each of 41 candidates, totalling 205 fits\n",
            "----------\n",
            "iter: 1\n",
            "n_candidates: 14\n",
            "n_resources: 1500\n",
            "Fitting 5 folds for each of 14 candidates, totalling 70 fits\n",
            "----------\n",
            "iter: 2\n",
            "n_candidates: 5\n",
            "n_resources: 4500\n",
            "Fitting 5 folds for each of 5 candidates, totalling 25 fits\n",
            "----------\n",
            "iter: 3\n",
            "n_candidates: 2\n",
            "n_resources: 13500\n",
            "Fitting 5 folds for each of 2 candidates, totalling 10 fits\n",
            "Best params:  {'tree_reg__splitter': 'random', 'tree_reg__min_samples_split': 15, 'tree_reg__min_samples_leaf': 15, 'tree_reg__min_impurity_decrease': 6.9, 'tree_reg__max_features': 'sqrt', 'tree_reg__max_depth': 100, 'tree_reg__criterion': 'squared_error', 'tree_reg__ccp_alpha': 1.025, 'poly_ft__interaction_only': False, 'poly_ft__include_bias': True, 'poly_ft__degree': 3}\n",
            "Pipeline(steps=[('poly_ft', PolynomialFeatures(degree=3)),\n",
            "                ('tree_reg',\n",
            "                 DecisionTreeRegressor(ccp_alpha=1.025, max_depth=100,\n",
            "                                       max_features='sqrt',\n",
            "                                       min_impurity_decrease=6.9,\n",
            "                                       min_samples_leaf=15,\n",
            "                                       min_samples_split=15, random_state=42,\n",
            "                                       splitter='random'))])\n"
          ]
        }
      ]
    },
    {
      "cell_type": "markdown",
      "source": [
        "Best Model:\n",
        "```\n",
        "PolynomialFeatures(degree=3)\n",
        "DecisionTreeRegressor(ccp_alpha=1.025, max_depth=100,\n",
        "                    max_features='sqrt',\n",
        "                    min_impurity_decrease=6.9,\n",
        "                    min_samples_leaf=15,\n",
        "                    min_samples_split=15, random_state=42,\n",
        "                    splitter='random'))\n",
        "```\n"
      ],
      "metadata": {
        "id": "ELoCa-ue0woy"
      }
    },
    {
      "cell_type": "code",
      "source": [
        "model = Pipeline([\n",
        "    ('poly_ft'  ,   PolynomialFeatures(degree=3)),\n",
        "    ('tree_reg'  ,   DecisionTreeRegressor(ccp_alpha=1.025, max_depth=100,\n",
        "                                        max_features='sqrt',\n",
        "                                        min_impurity_decrease=6.9,\n",
        "                                        min_samples_leaf=15,\n",
        "                                        min_samples_split=15, random_state=42,\n",
        "                                        splitter='random'))\n",
        "])\n",
        "model"
      ],
      "metadata": {
        "colab": {
          "base_uri": "https://localhost:8080/"
        },
        "outputId": "4cf862ca-b889-43bd-d278-2a64ca673e59",
        "id": "7Lqp1b3N0woz"
      },
      "execution_count": null,
      "outputs": [
        {
          "output_type": "execute_result",
          "data": {
            "text/plain": [
              "Pipeline(steps=[('poly_ft', PolynomialFeatures(degree=3)),\n",
              "                ('tree_reg',\n",
              "                 DecisionTreeRegressor(ccp_alpha=1.025, max_depth=100,\n",
              "                                       max_features='sqrt',\n",
              "                                       min_impurity_decrease=6.9,\n",
              "                                       min_samples_leaf=15,\n",
              "                                       min_samples_split=15, random_state=42,\n",
              "                                       splitter='random'))])"
            ]
          },
          "metadata": {},
          "execution_count": 62
        }
      ]
    },
    {
      "cell_type": "code",
      "source": [
        "model.fit(X_train, y_train)\n",
        "eval.show_result(y_train, model.predict(X_train))\n",
        "eval.show_result_cv(y_train, X_train, model)"
      ],
      "metadata": {
        "colab": {
          "base_uri": "https://localhost:8080/"
        },
        "outputId": "f90553d9-e342-4315-b849-09273c210c4a",
        "id": "31OBJmT60wo1"
      },
      "execution_count": null,
      "outputs": [
        {
          "output_type": "stream",
          "name": "stdout",
          "text": [
            "R2=0.580,RMSE=-44.656\n",
            "(CV) R2=0.550,RMSE=-45.641\n"
          ]
        }
      ]
    },
    {
      "cell_type": "code",
      "source": [
        "eval.show_result(y_test, model.predict(X_test))"
      ],
      "metadata": {
        "colab": {
          "base_uri": "https://localhost:8080/"
        },
        "outputId": "a7bb29b7-7390-4acc-a90b-36aa6293e58b",
        "id": "PWLNXSit0wo2"
      },
      "execution_count": null,
      "outputs": [
        {
          "output_type": "stream",
          "name": "stdout",
          "text": [
            "R2=0.311,RMSE=-34.484\n"
          ]
        }
      ]
    },
    {
      "cell_type": "markdown",
      "source": [
        "No clear benefit from polynomial features in linear RUL, as with the other models. Actually, it worsened the results."
      ],
      "metadata": {
        "id": "9WTjNfG70wo3"
      }
    },
    {
      "cell_type": "markdown",
      "source": [
        "## PolyFeatures + Non-Linear RUL"
      ],
      "metadata": {
        "id": "BlwL5EnXQcuy"
      }
    },
    {
      "cell_type": "code",
      "source": [
        "model = Pipeline([\n",
        "    ('poly_ft'  ,   PolynomialFeatures()),\n",
        "    ('trf_reg' ,TransformedTargetRegressor(\n",
        "        check_inverse=False,\n",
        "        regressor   = DecisionTreeRegressor(random_state=42),\n",
        "        transformer = FunctionTransformer(np.clip, \n",
        "                                          kw_args={'a_min':0,'a_max':96})))\n",
        "])"
      ],
      "metadata": {
        "id": "CH-5TST3Qkrr"
      },
      "execution_count": null,
      "outputs": []
    },
    {
      "cell_type": "code",
      "source": [
        "GRID_SEARCH = True\n",
        "if (GRID_SEARCH):\n",
        "    param_distributions = {\n",
        "        \"poly_ft__degree\": [1,2,3],\n",
        "        \"poly_ft__interaction_only\": [False, True],\n",
        "        \"poly_ft__include_bias\": [True, False],\n",
        "        \"trf_reg__transformer__kw_args\": search.generate_clip_dicts(70,150,1),\n",
        "        \"trf_reg__regressor__criterion\": [\"squared_error\",\"friedman_mse\",\"absolute_error\",\"poisson\"],\n",
        "        \"trf_reg__regressor__splitter\": [\"best\", \"random\"],\n",
        "        \"trf_reg__regressor__max_depth\": [None,100,200,300],\n",
        "        \"trf_reg__regressor__min_samples_split\": [2,5,10,15,20],\n",
        "        \"trf_reg__regressor__min_samples_leaf\": [1,2,5,10,15,20,50,100],\n",
        "        \"trf_reg__regressor__max_features\": [None, \"sqrt\", \"log2\"],\n",
        "        \"trf_reg__regressor__min_impurity_decrease\": list(np.arange(0,150)/10),\n",
        "        \"trf_reg__regressor__ccp_alpha\": list(np.round(np.linspace(0, 2, 81), decimals=3)) \n",
        "    }\n",
        "    model = search.run_HR_GS(model, X_train, y_train, param_distributions)\n",
        "    print(model)"
      ],
      "metadata": {
        "id": "RKz_WrPIyNZZ",
        "colab": {
          "base_uri": "https://localhost:8080/"
        },
        "outputId": "4fe1f71c-ba41-42c8-88c0-365f2d396323"
      },
      "execution_count": null,
      "outputs": [
        {
          "output_type": "stream",
          "name": "stdout",
          "text": [
            "n_iterations: 4\n",
            "n_required_iterations: 4\n",
            "n_possible_iterations: 4\n",
            "min_resources_: 500\n",
            "max_resources_: 20631\n",
            "aggressive_elimination: False\n",
            "factor: 3\n",
            "----------\n",
            "iter: 0\n",
            "n_candidates: 41\n",
            "n_resources: 500\n",
            "Fitting 5 folds for each of 41 candidates, totalling 205 fits\n",
            "----------\n",
            "iter: 1\n",
            "n_candidates: 14\n",
            "n_resources: 1500\n",
            "Fitting 5 folds for each of 14 candidates, totalling 70 fits\n",
            "----------\n",
            "iter: 2\n",
            "n_candidates: 5\n",
            "n_resources: 4500\n",
            "Fitting 5 folds for each of 5 candidates, totalling 25 fits\n",
            "----------\n",
            "iter: 3\n",
            "n_candidates: 2\n",
            "n_resources: 13500\n",
            "Fitting 5 folds for each of 2 candidates, totalling 10 fits\n",
            "Best params:  {'trf_reg__transformer__kw_args': {'a_min': 0, 'a_max': 71}, 'trf_reg__regressor__splitter': 'random', 'trf_reg__regressor__min_samples_split': 20, 'trf_reg__regressor__min_samples_leaf': 2, 'trf_reg__regressor__min_impurity_decrease': 8.5, 'trf_reg__regressor__max_features': None, 'trf_reg__regressor__max_depth': 200, 'trf_reg__regressor__criterion': 'squared_error', 'trf_reg__regressor__ccp_alpha': 1.85, 'poly_ft__interaction_only': False, 'poly_ft__include_bias': True, 'poly_ft__degree': 3}\n",
            "Pipeline(steps=[('poly_ft', PolynomialFeatures(degree=3)),\n",
            "                ('trf_reg',\n",
            "                 TransformedTargetRegressor(check_inverse=False,\n",
            "                                            regressor=DecisionTreeRegressor(ccp_alpha=1.85,\n",
            "                                                                            max_depth=200,\n",
            "                                                                            min_impurity_decrease=8.5,\n",
            "                                                                            min_samples_leaf=2,\n",
            "                                                                            min_samples_split=20,\n",
            "                                                                            random_state=42,\n",
            "                                                                            splitter='random'),\n",
            "                                            transformer=FunctionTransformer(func=<function clip at 0x7fd35e8e7cb0>,\n",
            "                                                                            kw_args={'a_max': 71,\n",
            "                                                                                     'a_min': 0})))])\n"
          ]
        }
      ]
    },
    {
      "cell_type": "markdown",
      "source": [
        "Best Model:\n",
        "```\n",
        "'trf_reg__transformer__kw_args': {'a_min': 0, 'a_max': 71}\n",
        "PolynomialFeatures(degree=3)\n",
        "DecisionTreeRegressor(ccp_alpha=1.85,\n",
        "                        max_depth=200,\n",
        "                        min_impurity_decrease=8.5,\n",
        "                        min_samples_leaf=2,\n",
        "                        min_samples_split=20,\n",
        "                        random_state=42,\n",
        "                        splitter='random'),\n",
        "```\n"
      ],
      "metadata": {
        "id": "Vup8Svzqyt6w"
      }
    },
    {
      "cell_type": "code",
      "source": [
        "model = Pipeline([\n",
        "    ('poly_ft', PolynomialFeatures(degree=3)),\n",
        "    ('trf_reg' ,TransformedTargetRegressor(\n",
        "        check_inverse=False,\n",
        "        regressor   = DecisionTreeRegressor(ccp_alpha=1.85,\n",
        "                                            max_depth=200,\n",
        "                                            min_impurity_decrease=8.5,\n",
        "                                            min_samples_leaf=2,\n",
        "                                            min_samples_split=20,\n",
        "                                            random_state=42,\n",
        "                                            splitter='random'),\n",
        "        transformer = FunctionTransformer(np.clip, \n",
        "                                          kw_args={'a_min':0,'a_max':71})))\n",
        "])\n",
        "model"
      ],
      "metadata": {
        "colab": {
          "base_uri": "https://localhost:8080/"
        },
        "id": "aLC6mfh4y7vG",
        "outputId": "48a42013-6d38-4757-cfc7-cc9d74eb24e3"
      },
      "execution_count": null,
      "outputs": [
        {
          "output_type": "execute_result",
          "data": {
            "text/plain": [
              "Pipeline(steps=[('poly_ft', PolynomialFeatures(degree=3)),\n",
              "                ('trf_reg',\n",
              "                 TransformedTargetRegressor(check_inverse=False,\n",
              "                                            regressor=DecisionTreeRegressor(ccp_alpha=1.85,\n",
              "                                                                            max_depth=200,\n",
              "                                                                            min_impurity_decrease=8.5,\n",
              "                                                                            min_samples_leaf=2,\n",
              "                                                                            min_samples_split=20,\n",
              "                                                                            random_state=42,\n",
              "                                                                            splitter='random'),\n",
              "                                            transformer=FunctionTransformer(func=<function clip at 0x7fd35e8e7cb0>,\n",
              "                                                                            kw_args={'a_max': 71,\n",
              "                                                                                     'a_min': 0})))])"
            ]
          },
          "metadata": {},
          "execution_count": 67
        }
      ]
    },
    {
      "cell_type": "code",
      "source": [
        "# ~3min\n",
        "model.fit(X_train, y_train)\n",
        "reclipped_y =  model['trf_reg'].transformer.transform(y_train)\n",
        "eval.show_result(reclipped_y, model.predict(X_train))\n",
        "eval.show_result_cv(reclipped_y, X_train, model)"
      ],
      "metadata": {
        "colab": {
          "base_uri": "https://localhost:8080/"
        },
        "outputId": "a94699b9-fe51-44fc-9222-fa476b8e3ab0",
        "id": "kgQSMjnVy7vJ"
      },
      "execution_count": null,
      "outputs": [
        {
          "output_type": "stream",
          "name": "stdout",
          "text": [
            "R2=0.772,RMSE=-9.983\n",
            "(CV) R2=0.772,RMSE=-9.954\n"
          ]
        }
      ]
    },
    {
      "cell_type": "code",
      "source": [
        "reclipped_y =  model['trf_reg'].transformer.transform(y_test)\n",
        "eval.show_result(reclipped_y, model.predict(X_test))"
      ],
      "metadata": {
        "colab": {
          "base_uri": "https://localhost:8080/"
        },
        "outputId": "e16da119-df83-4cb8-b956-942370032212",
        "id": "_WsTCV9qy7vJ"
      },
      "execution_count": null,
      "outputs": [
        {
          "output_type": "stream",
          "name": "stdout",
          "text": [
            "R2=0.711,RMSE=-12.322\n"
          ]
        }
      ]
    },
    {
      "cell_type": "markdown",
      "source": [
        "Using the polynominal features actually worsened the perfomance a little bit, when comparing with not using them and the non-linear RUL."
      ],
      "metadata": {
        "id": "wIzjL0VJ0hfH"
      }
    }
  ]
}