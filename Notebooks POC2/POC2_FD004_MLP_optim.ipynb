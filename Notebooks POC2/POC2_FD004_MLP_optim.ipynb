{
  "nbformat": 4,
  "nbformat_minor": 0,
  "metadata": {
    "colab": {
      "provenance": [],
      "collapsed_sections": [
        "iqDPLB2EDXSK",
        "8CWUmrwgyF3h",
        "SL1dv6EX4NUk"
      ],
      "toc_visible": true,
      "authorship_tag": "ABX9TyNki6doXtM1V//Znz4h8jpr",
      "include_colab_link": true
    },
    "kernelspec": {
      "name": "python3",
      "display_name": "Python 3"
    },
    "language_info": {
      "name": "python"
    },
    "accelerator": "GPU"
  },
  "cells": [
    {
      "cell_type": "markdown",
      "metadata": {
        "id": "view-in-github",
        "colab_type": "text"
      },
      "source": [
        "<a href=\"https://colab.research.google.com/github/arthursl12/POC1/blob/main/POC2_FD004_MLP_optim.ipynb\" target=\"_parent\"><img src=\"https://colab.research.google.com/assets/colab-badge.svg\" alt=\"Open In Colab\"/></a>"
      ]
    },
    {
      "cell_type": "markdown",
      "source": [
        "# Imports"
      ],
      "metadata": {
        "id": "iqDPLB2EDXSK"
      }
    },
    {
      "cell_type": "code",
      "source": [
        "%pip install scikeras;\n",
        "%pip install -U tensorflow-addons;\n",
        "%pip install scikit-optimize"
      ],
      "metadata": {
        "colab": {
          "base_uri": "https://localhost:8080/"
        },
        "id": "1ObuYEARk28q",
        "outputId": "255281bd-9f36-46da-9650-a24145606f11"
      },
      "execution_count": 1,
      "outputs": [
        {
          "output_type": "stream",
          "name": "stdout",
          "text": [
            "Requirement already satisfied: scikeras in h:\\anaconda3\\lib\\site-packages (0.9.0)\n",
            "Requirement already satisfied: scikit-learn>=1.0.0 in h:\\anaconda3\\lib\\site-packages (from scikeras) (1.0.2)\n",
            "Requirement already satisfied: packaging>=0.21 in h:\\anaconda3\\lib\\site-packages (from scikeras) (20.9)\n",
            "Requirement already satisfied: pyparsing>=2.0.2 in h:\\anaconda3\\lib\\site-packages (from packaging>=0.21->scikeras) (2.4.7)\n",
            "Requirement already satisfied: threadpoolctl>=2.0.0 in h:\\anaconda3\\lib\\site-packages (from scikit-learn>=1.0.0->scikeras) (2.1.0)\n",
            "Requirement already satisfied: joblib>=0.11 in h:\\anaconda3\\lib\\site-packages (from scikit-learn>=1.0.0->scikeras) (1.0.1)\n",
            "Requirement already satisfied: numpy>=1.14.6 in h:\\anaconda3\\lib\\site-packages (from scikit-learn>=1.0.0->scikeras) (1.22.4)\n",
            "Requirement already satisfied: scipy>=1.1.0 in h:\\anaconda3\\lib\\site-packages (from scikit-learn>=1.0.0->scikeras) (1.6.2)\n",
            "Note: you may need to restart the kernel to use updated packages.\n",
            "Requirement already satisfied: tensorflow-addons in h:\\anaconda3\\lib\\site-packages (0.18.0)\n",
            "Requirement already satisfied: typeguard>=2.7 in h:\\anaconda3\\lib\\site-packages (from tensorflow-addons) (2.13.3)\n",
            "Requirement already satisfied: packaging in h:\\anaconda3\\lib\\site-packages (from tensorflow-addons) (20.9)\n",
            "Requirement already satisfied: pyparsing>=2.0.2 in h:\\anaconda3\\lib\\site-packages (from packaging->tensorflow-addons) (2.4.7)\n",
            "Note: you may need to restart the kernel to use updated packages.\n",
            "Requirement already satisfied: scikit-optimize in h:\\anaconda3\\lib\\site-packages (0.9.0)\n",
            "Requirement already satisfied: numpy>=1.13.3 in h:\\anaconda3\\lib\\site-packages (from scikit-optimize) (1.22.4)\n",
            "Requirement already satisfied: pyaml>=16.9 in h:\\anaconda3\\lib\\site-packages (from scikit-optimize) (21.10.1)\n",
            "Requirement already satisfied: scipy>=0.19.1 in h:\\anaconda3\\lib\\site-packages (from scikit-optimize) (1.6.2)\n",
            "Requirement already satisfied: joblib>=0.11 in h:\\anaconda3\\lib\\site-packages (from scikit-optimize) (1.0.1)\n",
            "Requirement already satisfied: scikit-learn>=0.20.0 in h:\\anaconda3\\lib\\site-packages (from scikit-optimize) (1.0.2)\n",
            "Requirement already satisfied: PyYAML in h:\\anaconda3\\lib\\site-packages (from pyaml>=16.9->scikit-optimize) (5.4.1)\n",
            "Requirement already satisfied: threadpoolctl>=2.0.0 in h:\\anaconda3\\lib\\site-packages (from scikit-learn>=0.20.0->scikit-optimize) (2.1.0)\n",
            "Note: you may need to restart the kernel to use updated packages.\n"
          ]
        }
      ]
    },
    {
      "cell_type": "code",
      "source": [
        "import os\n",
        "import random\n",
        "import pandas as pd\n",
        "import matplotlib.pyplot as plt\n",
        "import seaborn as sns\n",
        "import numpy as np\n",
        "import glob\n",
        "import datetime"
      ],
      "metadata": {
        "id": "i0Z0Zs7YcgTp",
        "colab": {
          "base_uri": "https://localhost:8080/"
        },
        "outputId": "3859197c-3d25-46f6-aeb3-5ae3026fbc92"
      },
      "execution_count": 2,
      "outputs": [
        {
          "output_type": "stream",
          "name": "stderr",
          "text": [
            "H:\\anaconda3\\lib\\site-packages\\numpy\\_distributor_init.py:30: UserWarning: loaded more than 1 DLL from .libs:\n",
            "H:\\anaconda3\\lib\\site-packages\\numpy\\.libs\\libopenblas.EL2C6PLE4ZYW3ECEVIV3OXXGRN2NRFM2.gfortran-win_amd64.dll\n",
            "H:\\anaconda3\\lib\\site-packages\\numpy\\.libs\\libopenblas.WCDJNK7YVMPZQ2ME2ZZHJJRJ3JIKNDB7.gfortran-win_amd64.dll\n",
            "  warnings.warn(\"loaded more than 1 DLL from .libs:\"\n"
          ]
        }
      ]
    },
    {
      "cell_type": "code",
      "source": [
        "from sklearn.pipeline import Pipeline\n",
        "from sklearn.compose import TransformedTargetRegressor\n",
        "\n",
        "from sklearn.preprocessing import FunctionTransformer\n",
        "from sklearn.preprocessing import PolynomialFeatures\n",
        "from sklearn.preprocessing import MinMaxScaler, StandardScaler\n",
        "\n",
        "from sklearn.model_selection import GroupKFold\n",
        "\n",
        "from sklearn.base import BaseEstimator,RegressorMixin"
      ],
      "metadata": {
        "id": "wmJyWwoFHcFL"
      },
      "execution_count": 3,
      "outputs": []
    },
    {
      "cell_type": "code",
      "source": [
        "from skopt import BayesSearchCV\n",
        "\n",
        "from skopt.space.space import Categorical, Integer, Real"
      ],
      "metadata": {
        "id": "b4AwhIPNHgzX"
      },
      "execution_count": 4,
      "outputs": []
    },
    {
      "cell_type": "code",
      "source": [
        "import tensorflow as tf\n",
        "from tensorflow.keras import Sequential\n",
        "from tensorflow.keras.layers import Dense, Dropout, LSTM, Masking\n",
        "\n",
        "from tensorflow.keras.metrics import RootMeanSquaredError as RMSE\n",
        "\n",
        "from keras.callbacks import LambdaCallback\n",
        "from tensorflow.keras.optimizers import SGD, Adam, RMSprop\n",
        "from tensorflow.keras.optimizers.schedules import ExponentialDecay\n",
        "\n",
        "import tensorflow_addons as tfa\n",
        "from tensorflow_addons.metrics import RSquare as R2\n",
        "\n",
        "from scikeras.wrappers import KerasRegressor"
      ],
      "metadata": {
        "id": "LnMMh6xN33s4"
      },
      "execution_count": 5,
      "outputs": []
    },
    {
      "cell_type": "code",
      "source": [
        "sns.set_palette('colorblind')"
      ],
      "metadata": {
        "id": "yIpSdBdJ-uWd"
      },
      "execution_count": 6,
      "outputs": []
    },
    {
      "cell_type": "code",
      "source": [
        "# Reproducibility\n",
        "seed = 42\n",
        "os.environ['PYTHONHASHSEED']=str(seed)\n",
        "random.seed(seed)\n",
        "np.random.seed(seed)\n",
        "tf.random.set_seed(seed)"
      ],
      "metadata": {
        "id": "oWUcQTaa3lth"
      },
      "execution_count": 7,
      "outputs": []
    },
    {
      "cell_type": "code",
      "source": [
        "tf.config.experimental.enable_op_determinism()"
      ],
      "metadata": {
        "id": "fwRwlCA7Yt4C"
      },
      "execution_count": 8,
      "outputs": []
    },
    {
      "cell_type": "code",
      "source": [
        "# Remove some tf warnings\n",
        "import absl.logging\n",
        "absl.logging.set_verbosity(absl.logging.ERROR)"
      ],
      "metadata": {
        "id": "cJXVJecRHjMy"
      },
      "execution_count": 9,
      "outputs": []
    },
    {
      "cell_type": "markdown",
      "source": [
        "# Data Preparation"
      ],
      "metadata": {
        "id": "8CWUmrwgyF3h"
      }
    },
    {
      "cell_type": "code",
      "source": [
        "if 'google.colab' in str(get_ipython()):\n",
        "    print('Running on CoLab')\n",
        "    IN_COLAB = True\n",
        "    folder=\"/content/CMaps/\"\n",
        "\n",
        "    # Dataset Download \n",
        "    os.system('git clone https://github.com/arthursl12/dataset_2')\n",
        "    os.system('mv /content/dataset_2/CMaps /content/CMaps')\n",
        "    os.system('mv /content/dataset_2/data_processing /content/data_processing')\n",
        "    os.system('rm -rf dataset_2')\n",
        "else:\n",
        "    print('Not running on CoLab')\n",
        "    IN_COLAB = False\n",
        "    folder=\"CMaps/\"\n",
        "    %cd dataset_2/"
      ],
      "metadata": {
        "colab": {
          "base_uri": "https://localhost:8080/"
        },
        "id": "YgkQUCfsWAGK",
        "outputId": "e264a50e-77a4-4153-8879-49fa38cbd2cb"
      },
      "execution_count": 10,
      "outputs": [
        {
          "output_type": "stream",
          "name": "stdout",
          "text": [
            "Not running on CoLab\n",
            "C:\\Users\\Arthur Lima\\POC\\dataset_2\n"
          ]
        }
      ]
    },
    {
      "cell_type": "code",
      "source": [
        "from data_processing.processing import DatasetProcessing\n",
        "from data_processing.training import HyperparameterSearch, reclipper_scorer\n",
        "from data_processing.eval import Evaluation"
      ],
      "metadata": {
        "id": "fgFtPh7kyF3i"
      },
      "execution_count": 11,
      "outputs": []
    },
    {
      "cell_type": "code",
      "source": [
        "proc = DatasetProcessing()"
      ],
      "metadata": {
        "id": "Wheq1zZiyF3j"
      },
      "execution_count": 12,
      "outputs": []
    },
    {
      "cell_type": "markdown",
      "source": [
        "## Data Integration"
      ],
      "metadata": {
        "id": "9VPsWDLgyF3k"
      }
    },
    {
      "cell_type": "markdown",
      "source": [
        "The data are provided as a zip-compressed text file with 26 columns of numbers, separated by spaces. Each row is a snapshot of data taken during a single operational cycle, each column is a different variable. The columns correspond to:  \n",
        "\n",
        "1) unit number   \n",
        "2) time, in cycles  \n",
        "3) operational setting 1  \n",
        "4) operational setting 2  \n",
        "5) operational setting 3    \n",
        "6) sensor measurement 1    \n",
        "7) sensor measurement 2  \n",
        "...  \n",
        "26) sensor measurement 20\n",
        "\n",
        "\n",
        "There are 6 conditions (or combinations) which the 3 operational settings can take.  \n",
        "Condition 1: Altitude = 0, Mach Number = 0, TRA = 100  \n",
        "Condition 2: Altitude = 10, Mach Number = 0.25, TRA = 100  \n",
        "Condition 3: Altitude = 20, Mach Number = 0.7 TRA = 100  \n",
        "Condition 4: Altitude = 25, Mach Number = 0.62, TRA = 60  \n",
        "Condition 5: Altitude = 35 Mach Number = 0.84, TRA = 100  \n",
        "Condition 6: Altitude = 42, Mach Number = 0.84, TRA = 100  \n",
        "  \n",
        "There is slight variation in all these conditions so you may get numbers like 24.453 instead of 25 exactly.\n",
        "\n",
        "FD001: Condition 1 only  \n",
        "FD002: Mix of all the conditions  \n",
        "FD003: Condition 1 only  \n",
        "FD004: Mix of all conditions  \n"
      ],
      "metadata": {
        "id": "vLOYsylJyF3k"
      }
    },
    {
      "cell_type": "code",
      "source": [
        "index_cols, settings_cols, sensors_cols, cols = proc.column_names()\n",
        "train, test, y_test = proc.read_dataset(4,folder=folder)\n",
        "train"
      ],
      "metadata": {
        "colab": {
          "base_uri": "https://localhost:8080/",
          "height": 513
        },
        "outputId": "1499219a-95ad-4cfd-a8c7-d466caef09e4",
        "id": "ztsGgdM_yF3m"
      },
      "execution_count": 13,
      "outputs": [
        {
          "output_type": "execute_result",
          "data": {
            "text/plain": [
              "       unit_number  time     op_1    op_2   op_3     s_0     s_1      s_2  \\\n",
              "0                1     1  42.0049  0.8400  100.0  445.00  549.68  1343.43   \n",
              "1                1     2  20.0020  0.7002  100.0  491.19  606.07  1477.61   \n",
              "2                1     3  42.0038  0.8409  100.0  445.00  548.95  1343.12   \n",
              "3                1     4  42.0000  0.8400  100.0  445.00  548.70  1341.24   \n",
              "4                1     5  25.0063  0.6207   60.0  462.54  536.10  1255.23   \n",
              "...            ...   ...      ...     ...    ...     ...     ...      ...   \n",
              "61244          249   251   9.9998  0.2500  100.0  489.05  605.33  1516.36   \n",
              "61245          249   252   0.0028  0.0015  100.0  518.67  643.42  1598.92   \n",
              "61246          249   253   0.0029  0.0000  100.0  518.67  643.68  1607.72   \n",
              "61247          249   254  35.0046  0.8400  100.0  449.44  555.77  1381.29   \n",
              "61248          249   255  42.0030  0.8400  100.0  445.00  549.85  1369.75   \n",
              "\n",
              "           s_3    s_4  ...    s_11     s_12     s_13     s_14  s_15  s_16  \\\n",
              "0      1112.93   3.91  ...  129.78  2387.99  8074.83   9.3335  0.02   330   \n",
              "1      1237.50   9.35  ...  312.59  2387.73  8046.13   9.1913  0.02   361   \n",
              "2      1117.05   3.91  ...  129.62  2387.97  8066.62   9.4007  0.02   329   \n",
              "3      1118.03   3.91  ...  129.80  2388.02  8076.05   9.3369  0.02   328   \n",
              "4      1033.59   7.05  ...  164.11  2028.08  7865.80  10.8366  0.02   305   \n",
              "...        ...    ...  ...     ...      ...      ...      ...   ...   ...   \n",
              "61244  1315.28  10.52  ...  380.16  2388.73  8185.69   8.4541  0.03   372   \n",
              "61245  1426.77  14.62  ...  535.02  2388.46  8185.47   8.2221  0.03   396   \n",
              "61246  1430.56  14.62  ...  535.41  2388.48  8193.94   8.2525  0.03   395   \n",
              "61247  1148.18   5.48  ...  187.92  2388.83  8125.64   9.0515  0.02   337   \n",
              "61248  1147.45   3.91  ...  134.32  2388.66  8144.33   9.1207  0.02   333   \n",
              "\n",
              "       s_17    s_18   s_19     s_20  \n",
              "0      2212  100.00  10.62   6.3670  \n",
              "1      2324  100.00  24.37  14.6552  \n",
              "2      2212  100.00  10.48   6.4213  \n",
              "3      2212  100.00  10.54   6.4176  \n",
              "4      1915   84.93  14.03   8.6754  \n",
              "...     ...     ...    ...      ...  \n",
              "61244  2319  100.00  29.11  17.5234  \n",
              "61245  2388  100.00  39.38  23.7151  \n",
              "61246  2388  100.00  39.78  23.8270  \n",
              "61247  2223  100.00  15.26   9.0774  \n",
              "61248  2212  100.00  10.66   6.4341  \n",
              "\n",
              "[61249 rows x 26 columns]"
            ],
            "text/html": [
              "<div>\n",
              "<style scoped>\n",
              "    .dataframe tbody tr th:only-of-type {\n",
              "        vertical-align: middle;\n",
              "    }\n",
              "\n",
              "    .dataframe tbody tr th {\n",
              "        vertical-align: top;\n",
              "    }\n",
              "\n",
              "    .dataframe thead th {\n",
              "        text-align: right;\n",
              "    }\n",
              "</style>\n",
              "<table border=\"1\" class=\"dataframe\">\n",
              "  <thead>\n",
              "    <tr style=\"text-align: right;\">\n",
              "      <th></th>\n",
              "      <th>unit_number</th>\n",
              "      <th>time</th>\n",
              "      <th>op_1</th>\n",
              "      <th>op_2</th>\n",
              "      <th>op_3</th>\n",
              "      <th>s_0</th>\n",
              "      <th>s_1</th>\n",
              "      <th>s_2</th>\n",
              "      <th>s_3</th>\n",
              "      <th>s_4</th>\n",
              "      <th>...</th>\n",
              "      <th>s_11</th>\n",
              "      <th>s_12</th>\n",
              "      <th>s_13</th>\n",
              "      <th>s_14</th>\n",
              "      <th>s_15</th>\n",
              "      <th>s_16</th>\n",
              "      <th>s_17</th>\n",
              "      <th>s_18</th>\n",
              "      <th>s_19</th>\n",
              "      <th>s_20</th>\n",
              "    </tr>\n",
              "  </thead>\n",
              "  <tbody>\n",
              "    <tr>\n",
              "      <th>0</th>\n",
              "      <td>1</td>\n",
              "      <td>1</td>\n",
              "      <td>42.0049</td>\n",
              "      <td>0.8400</td>\n",
              "      <td>100.0</td>\n",
              "      <td>445.00</td>\n",
              "      <td>549.68</td>\n",
              "      <td>1343.43</td>\n",
              "      <td>1112.93</td>\n",
              "      <td>3.91</td>\n",
              "      <td>...</td>\n",
              "      <td>129.78</td>\n",
              "      <td>2387.99</td>\n",
              "      <td>8074.83</td>\n",
              "      <td>9.3335</td>\n",
              "      <td>0.02</td>\n",
              "      <td>330</td>\n",
              "      <td>2212</td>\n",
              "      <td>100.00</td>\n",
              "      <td>10.62</td>\n",
              "      <td>6.3670</td>\n",
              "    </tr>\n",
              "    <tr>\n",
              "      <th>1</th>\n",
              "      <td>1</td>\n",
              "      <td>2</td>\n",
              "      <td>20.0020</td>\n",
              "      <td>0.7002</td>\n",
              "      <td>100.0</td>\n",
              "      <td>491.19</td>\n",
              "      <td>606.07</td>\n",
              "      <td>1477.61</td>\n",
              "      <td>1237.50</td>\n",
              "      <td>9.35</td>\n",
              "      <td>...</td>\n",
              "      <td>312.59</td>\n",
              "      <td>2387.73</td>\n",
              "      <td>8046.13</td>\n",
              "      <td>9.1913</td>\n",
              "      <td>0.02</td>\n",
              "      <td>361</td>\n",
              "      <td>2324</td>\n",
              "      <td>100.00</td>\n",
              "      <td>24.37</td>\n",
              "      <td>14.6552</td>\n",
              "    </tr>\n",
              "    <tr>\n",
              "      <th>2</th>\n",
              "      <td>1</td>\n",
              "      <td>3</td>\n",
              "      <td>42.0038</td>\n",
              "      <td>0.8409</td>\n",
              "      <td>100.0</td>\n",
              "      <td>445.00</td>\n",
              "      <td>548.95</td>\n",
              "      <td>1343.12</td>\n",
              "      <td>1117.05</td>\n",
              "      <td>3.91</td>\n",
              "      <td>...</td>\n",
              "      <td>129.62</td>\n",
              "      <td>2387.97</td>\n",
              "      <td>8066.62</td>\n",
              "      <td>9.4007</td>\n",
              "      <td>0.02</td>\n",
              "      <td>329</td>\n",
              "      <td>2212</td>\n",
              "      <td>100.00</td>\n",
              "      <td>10.48</td>\n",
              "      <td>6.4213</td>\n",
              "    </tr>\n",
              "    <tr>\n",
              "      <th>3</th>\n",
              "      <td>1</td>\n",
              "      <td>4</td>\n",
              "      <td>42.0000</td>\n",
              "      <td>0.8400</td>\n",
              "      <td>100.0</td>\n",
              "      <td>445.00</td>\n",
              "      <td>548.70</td>\n",
              "      <td>1341.24</td>\n",
              "      <td>1118.03</td>\n",
              "      <td>3.91</td>\n",
              "      <td>...</td>\n",
              "      <td>129.80</td>\n",
              "      <td>2388.02</td>\n",
              "      <td>8076.05</td>\n",
              "      <td>9.3369</td>\n",
              "      <td>0.02</td>\n",
              "      <td>328</td>\n",
              "      <td>2212</td>\n",
              "      <td>100.00</td>\n",
              "      <td>10.54</td>\n",
              "      <td>6.4176</td>\n",
              "    </tr>\n",
              "    <tr>\n",
              "      <th>4</th>\n",
              "      <td>1</td>\n",
              "      <td>5</td>\n",
              "      <td>25.0063</td>\n",
              "      <td>0.6207</td>\n",
              "      <td>60.0</td>\n",
              "      <td>462.54</td>\n",
              "      <td>536.10</td>\n",
              "      <td>1255.23</td>\n",
              "      <td>1033.59</td>\n",
              "      <td>7.05</td>\n",
              "      <td>...</td>\n",
              "      <td>164.11</td>\n",
              "      <td>2028.08</td>\n",
              "      <td>7865.80</td>\n",
              "      <td>10.8366</td>\n",
              "      <td>0.02</td>\n",
              "      <td>305</td>\n",
              "      <td>1915</td>\n",
              "      <td>84.93</td>\n",
              "      <td>14.03</td>\n",
              "      <td>8.6754</td>\n",
              "    </tr>\n",
              "    <tr>\n",
              "      <th>...</th>\n",
              "      <td>...</td>\n",
              "      <td>...</td>\n",
              "      <td>...</td>\n",
              "      <td>...</td>\n",
              "      <td>...</td>\n",
              "      <td>...</td>\n",
              "      <td>...</td>\n",
              "      <td>...</td>\n",
              "      <td>...</td>\n",
              "      <td>...</td>\n",
              "      <td>...</td>\n",
              "      <td>...</td>\n",
              "      <td>...</td>\n",
              "      <td>...</td>\n",
              "      <td>...</td>\n",
              "      <td>...</td>\n",
              "      <td>...</td>\n",
              "      <td>...</td>\n",
              "      <td>...</td>\n",
              "      <td>...</td>\n",
              "      <td>...</td>\n",
              "    </tr>\n",
              "    <tr>\n",
              "      <th>61244</th>\n",
              "      <td>249</td>\n",
              "      <td>251</td>\n",
              "      <td>9.9998</td>\n",
              "      <td>0.2500</td>\n",
              "      <td>100.0</td>\n",
              "      <td>489.05</td>\n",
              "      <td>605.33</td>\n",
              "      <td>1516.36</td>\n",
              "      <td>1315.28</td>\n",
              "      <td>10.52</td>\n",
              "      <td>...</td>\n",
              "      <td>380.16</td>\n",
              "      <td>2388.73</td>\n",
              "      <td>8185.69</td>\n",
              "      <td>8.4541</td>\n",
              "      <td>0.03</td>\n",
              "      <td>372</td>\n",
              "      <td>2319</td>\n",
              "      <td>100.00</td>\n",
              "      <td>29.11</td>\n",
              "      <td>17.5234</td>\n",
              "    </tr>\n",
              "    <tr>\n",
              "      <th>61245</th>\n",
              "      <td>249</td>\n",
              "      <td>252</td>\n",
              "      <td>0.0028</td>\n",
              "      <td>0.0015</td>\n",
              "      <td>100.0</td>\n",
              "      <td>518.67</td>\n",
              "      <td>643.42</td>\n",
              "      <td>1598.92</td>\n",
              "      <td>1426.77</td>\n",
              "      <td>14.62</td>\n",
              "      <td>...</td>\n",
              "      <td>535.02</td>\n",
              "      <td>2388.46</td>\n",
              "      <td>8185.47</td>\n",
              "      <td>8.2221</td>\n",
              "      <td>0.03</td>\n",
              "      <td>396</td>\n",
              "      <td>2388</td>\n",
              "      <td>100.00</td>\n",
              "      <td>39.38</td>\n",
              "      <td>23.7151</td>\n",
              "    </tr>\n",
              "    <tr>\n",
              "      <th>61246</th>\n",
              "      <td>249</td>\n",
              "      <td>253</td>\n",
              "      <td>0.0029</td>\n",
              "      <td>0.0000</td>\n",
              "      <td>100.0</td>\n",
              "      <td>518.67</td>\n",
              "      <td>643.68</td>\n",
              "      <td>1607.72</td>\n",
              "      <td>1430.56</td>\n",
              "      <td>14.62</td>\n",
              "      <td>...</td>\n",
              "      <td>535.41</td>\n",
              "      <td>2388.48</td>\n",
              "      <td>8193.94</td>\n",
              "      <td>8.2525</td>\n",
              "      <td>0.03</td>\n",
              "      <td>395</td>\n",
              "      <td>2388</td>\n",
              "      <td>100.00</td>\n",
              "      <td>39.78</td>\n",
              "      <td>23.8270</td>\n",
              "    </tr>\n",
              "    <tr>\n",
              "      <th>61247</th>\n",
              "      <td>249</td>\n",
              "      <td>254</td>\n",
              "      <td>35.0046</td>\n",
              "      <td>0.8400</td>\n",
              "      <td>100.0</td>\n",
              "      <td>449.44</td>\n",
              "      <td>555.77</td>\n",
              "      <td>1381.29</td>\n",
              "      <td>1148.18</td>\n",
              "      <td>5.48</td>\n",
              "      <td>...</td>\n",
              "      <td>187.92</td>\n",
              "      <td>2388.83</td>\n",
              "      <td>8125.64</td>\n",
              "      <td>9.0515</td>\n",
              "      <td>0.02</td>\n",
              "      <td>337</td>\n",
              "      <td>2223</td>\n",
              "      <td>100.00</td>\n",
              "      <td>15.26</td>\n",
              "      <td>9.0774</td>\n",
              "    </tr>\n",
              "    <tr>\n",
              "      <th>61248</th>\n",
              "      <td>249</td>\n",
              "      <td>255</td>\n",
              "      <td>42.0030</td>\n",
              "      <td>0.8400</td>\n",
              "      <td>100.0</td>\n",
              "      <td>445.00</td>\n",
              "      <td>549.85</td>\n",
              "      <td>1369.75</td>\n",
              "      <td>1147.45</td>\n",
              "      <td>3.91</td>\n",
              "      <td>...</td>\n",
              "      <td>134.32</td>\n",
              "      <td>2388.66</td>\n",
              "      <td>8144.33</td>\n",
              "      <td>9.1207</td>\n",
              "      <td>0.02</td>\n",
              "      <td>333</td>\n",
              "      <td>2212</td>\n",
              "      <td>100.00</td>\n",
              "      <td>10.66</td>\n",
              "      <td>6.4341</td>\n",
              "    </tr>\n",
              "  </tbody>\n",
              "</table>\n",
              "<p>61249 rows × 26 columns</p>\n",
              "</div>"
            ]
          },
          "metadata": {},
          "execution_count": 13
        }
      ]
    },
    {
      "cell_type": "markdown",
      "source": [
        "## Preprocessing"
      ],
      "metadata": {
        "id": "HBAY-mI3yF3m"
      }
    },
    {
      "cell_type": "markdown",
      "source": [
        "### Test Set Transformation \n",
        "Test set has samples for all cycles, but has annotations only for last one"
      ],
      "metadata": {
        "id": "9SJcUizbyF3m"
      }
    },
    {
      "cell_type": "code",
      "source": [
        "test.shape, y_test.shape"
      ],
      "metadata": {
        "colab": {
          "base_uri": "https://localhost:8080/"
        },
        "outputId": "aa10a5d7-f432-408f-e296-56f6032a8ffc",
        "id": "T2yYUArxyF3m"
      },
      "execution_count": 14,
      "outputs": [
        {
          "output_type": "execute_result",
          "data": {
            "text/plain": [
              "((41214, 26), (248, 1))"
            ]
          },
          "metadata": {},
          "execution_count": 14
        }
      ]
    },
    {
      "cell_type": "code",
      "source": [
        "test_last = proc.transform_test_keep_setting(test)\n",
        "test_last.head()"
      ],
      "metadata": {
        "colab": {
          "base_uri": "https://localhost:8080/",
          "height": 325
        },
        "outputId": "135e9d7f-484c-4008-e291-e8efca2f8f83",
        "id": "LXXzsHBoyF3n"
      },
      "execution_count": 15,
      "outputs": [
        {
          "output_type": "execute_result",
          "data": {
            "text/plain": [
              "      op_1    op_2   op_3     s_0     s_1      s_2      s_3   s_4   s_5  \\\n",
              "0  25.0070  0.6214   60.0  462.54  537.66  1264.31  1046.41  7.05  8.99   \n",
              "1  41.9989  0.8400  100.0  445.00  549.96  1354.05  1133.55  3.91  5.72   \n",
              "2  42.0005  0.8401  100.0  445.00  549.47  1341.06  1118.90  3.91  5.69   \n",
              "3  25.0018  0.6207   60.0  462.54  536.06  1253.49  1038.53  7.05  9.00   \n",
              "4  25.0039  0.6200   60.0  462.54  537.36  1263.60  1052.52  7.05  9.03   \n",
              "\n",
              "      s_6  ...    s_11     s_12     s_13     s_14  s_15  s_16  s_17    s_18  \\\n",
              "0  176.56  ...  166.19  2028.53  7890.31  10.7615  0.02   308  1915   84.93   \n",
              "1  139.03  ...  130.17  2387.72  8073.44   9.3925  0.02   331  2212  100.00   \n",
              "2  139.26  ...  130.73  2388.18  8095.58   9.2974  0.02   330  2212  100.00   \n",
              "3  175.63  ...  164.91  2028.30  7878.63  10.8396  0.02   306  1915   84.93   \n",
              "4  175.53  ...  164.95  2028.24  7873.75  10.9094  0.02   307  1915   84.93   \n",
              "\n",
              "    s_19    s_20  \n",
              "0  14.41  8.6329  \n",
              "1  10.58  6.4325  \n",
              "2  10.61  6.3488  \n",
              "3  14.41  8.5696  \n",
              "4  14.19  8.6248  \n",
              "\n",
              "[5 rows x 24 columns]"
            ],
            "text/html": [
              "<div>\n",
              "<style scoped>\n",
              "    .dataframe tbody tr th:only-of-type {\n",
              "        vertical-align: middle;\n",
              "    }\n",
              "\n",
              "    .dataframe tbody tr th {\n",
              "        vertical-align: top;\n",
              "    }\n",
              "\n",
              "    .dataframe thead th {\n",
              "        text-align: right;\n",
              "    }\n",
              "</style>\n",
              "<table border=\"1\" class=\"dataframe\">\n",
              "  <thead>\n",
              "    <tr style=\"text-align: right;\">\n",
              "      <th></th>\n",
              "      <th>op_1</th>\n",
              "      <th>op_2</th>\n",
              "      <th>op_3</th>\n",
              "      <th>s_0</th>\n",
              "      <th>s_1</th>\n",
              "      <th>s_2</th>\n",
              "      <th>s_3</th>\n",
              "      <th>s_4</th>\n",
              "      <th>s_5</th>\n",
              "      <th>s_6</th>\n",
              "      <th>...</th>\n",
              "      <th>s_11</th>\n",
              "      <th>s_12</th>\n",
              "      <th>s_13</th>\n",
              "      <th>s_14</th>\n",
              "      <th>s_15</th>\n",
              "      <th>s_16</th>\n",
              "      <th>s_17</th>\n",
              "      <th>s_18</th>\n",
              "      <th>s_19</th>\n",
              "      <th>s_20</th>\n",
              "    </tr>\n",
              "  </thead>\n",
              "  <tbody>\n",
              "    <tr>\n",
              "      <th>0</th>\n",
              "      <td>25.0070</td>\n",
              "      <td>0.6214</td>\n",
              "      <td>60.0</td>\n",
              "      <td>462.54</td>\n",
              "      <td>537.66</td>\n",
              "      <td>1264.31</td>\n",
              "      <td>1046.41</td>\n",
              "      <td>7.05</td>\n",
              "      <td>8.99</td>\n",
              "      <td>176.56</td>\n",
              "      <td>...</td>\n",
              "      <td>166.19</td>\n",
              "      <td>2028.53</td>\n",
              "      <td>7890.31</td>\n",
              "      <td>10.7615</td>\n",
              "      <td>0.02</td>\n",
              "      <td>308</td>\n",
              "      <td>1915</td>\n",
              "      <td>84.93</td>\n",
              "      <td>14.41</td>\n",
              "      <td>8.6329</td>\n",
              "    </tr>\n",
              "    <tr>\n",
              "      <th>1</th>\n",
              "      <td>41.9989</td>\n",
              "      <td>0.8400</td>\n",
              "      <td>100.0</td>\n",
              "      <td>445.00</td>\n",
              "      <td>549.96</td>\n",
              "      <td>1354.05</td>\n",
              "      <td>1133.55</td>\n",
              "      <td>3.91</td>\n",
              "      <td>5.72</td>\n",
              "      <td>139.03</td>\n",
              "      <td>...</td>\n",
              "      <td>130.17</td>\n",
              "      <td>2387.72</td>\n",
              "      <td>8073.44</td>\n",
              "      <td>9.3925</td>\n",
              "      <td>0.02</td>\n",
              "      <td>331</td>\n",
              "      <td>2212</td>\n",
              "      <td>100.00</td>\n",
              "      <td>10.58</td>\n",
              "      <td>6.4325</td>\n",
              "    </tr>\n",
              "    <tr>\n",
              "      <th>2</th>\n",
              "      <td>42.0005</td>\n",
              "      <td>0.8401</td>\n",
              "      <td>100.0</td>\n",
              "      <td>445.00</td>\n",
              "      <td>549.47</td>\n",
              "      <td>1341.06</td>\n",
              "      <td>1118.90</td>\n",
              "      <td>3.91</td>\n",
              "      <td>5.69</td>\n",
              "      <td>139.26</td>\n",
              "      <td>...</td>\n",
              "      <td>130.73</td>\n",
              "      <td>2388.18</td>\n",
              "      <td>8095.58</td>\n",
              "      <td>9.2974</td>\n",
              "      <td>0.02</td>\n",
              "      <td>330</td>\n",
              "      <td>2212</td>\n",
              "      <td>100.00</td>\n",
              "      <td>10.61</td>\n",
              "      <td>6.3488</td>\n",
              "    </tr>\n",
              "    <tr>\n",
              "      <th>3</th>\n",
              "      <td>25.0018</td>\n",
              "      <td>0.6207</td>\n",
              "      <td>60.0</td>\n",
              "      <td>462.54</td>\n",
              "      <td>536.06</td>\n",
              "      <td>1253.49</td>\n",
              "      <td>1038.53</td>\n",
              "      <td>7.05</td>\n",
              "      <td>9.00</td>\n",
              "      <td>175.63</td>\n",
              "      <td>...</td>\n",
              "      <td>164.91</td>\n",
              "      <td>2028.30</td>\n",
              "      <td>7878.63</td>\n",
              "      <td>10.8396</td>\n",
              "      <td>0.02</td>\n",
              "      <td>306</td>\n",
              "      <td>1915</td>\n",
              "      <td>84.93</td>\n",
              "      <td>14.41</td>\n",
              "      <td>8.5696</td>\n",
              "    </tr>\n",
              "    <tr>\n",
              "      <th>4</th>\n",
              "      <td>25.0039</td>\n",
              "      <td>0.6200</td>\n",
              "      <td>60.0</td>\n",
              "      <td>462.54</td>\n",
              "      <td>537.36</td>\n",
              "      <td>1263.60</td>\n",
              "      <td>1052.52</td>\n",
              "      <td>7.05</td>\n",
              "      <td>9.03</td>\n",
              "      <td>175.53</td>\n",
              "      <td>...</td>\n",
              "      <td>164.95</td>\n",
              "      <td>2028.24</td>\n",
              "      <td>7873.75</td>\n",
              "      <td>10.9094</td>\n",
              "      <td>0.02</td>\n",
              "      <td>307</td>\n",
              "      <td>1915</td>\n",
              "      <td>84.93</td>\n",
              "      <td>14.19</td>\n",
              "      <td>8.6248</td>\n",
              "    </tr>\n",
              "  </tbody>\n",
              "</table>\n",
              "<p>5 rows × 24 columns</p>\n",
              "</div>"
            ]
          },
          "metadata": {},
          "execution_count": 15
        }
      ]
    },
    {
      "cell_type": "code",
      "source": [
        "X_test = test_last"
      ],
      "metadata": {
        "id": "FwvlYkmfyF3n"
      },
      "execution_count": 16,
      "outputs": []
    },
    {
      "cell_type": "markdown",
      "source": [
        "### Remaining Useful Life (RUL)"
      ],
      "metadata": {
        "id": "li0G2zYHyF3o"
      }
    },
    {
      "cell_type": "code",
      "source": [
        "train = proc.add_remaining_useful_life_linear(train)\n",
        "train[index_cols+['RUL']].head()"
      ],
      "metadata": {
        "colab": {
          "base_uri": "https://localhost:8080/",
          "height": 226
        },
        "outputId": "608c3c05-b820-4698-d16a-c0f3d4a39354",
        "id": "VXGd2CaGyF3o"
      },
      "execution_count": 17,
      "outputs": [
        {
          "output_type": "execute_result",
          "data": {
            "text/plain": [
              "   unit_number  time  RUL\n",
              "0            1     1  320\n",
              "1            1     2  319\n",
              "2            1     3  318\n",
              "3            1     4  317\n",
              "4            1     5  316"
            ],
            "text/html": [
              "<div>\n",
              "<style scoped>\n",
              "    .dataframe tbody tr th:only-of-type {\n",
              "        vertical-align: middle;\n",
              "    }\n",
              "\n",
              "    .dataframe tbody tr th {\n",
              "        vertical-align: top;\n",
              "    }\n",
              "\n",
              "    .dataframe thead th {\n",
              "        text-align: right;\n",
              "    }\n",
              "</style>\n",
              "<table border=\"1\" class=\"dataframe\">\n",
              "  <thead>\n",
              "    <tr style=\"text-align: right;\">\n",
              "      <th></th>\n",
              "      <th>unit_number</th>\n",
              "      <th>time</th>\n",
              "      <th>RUL</th>\n",
              "    </tr>\n",
              "  </thead>\n",
              "  <tbody>\n",
              "    <tr>\n",
              "      <th>0</th>\n",
              "      <td>1</td>\n",
              "      <td>1</td>\n",
              "      <td>320</td>\n",
              "    </tr>\n",
              "    <tr>\n",
              "      <th>1</th>\n",
              "      <td>1</td>\n",
              "      <td>2</td>\n",
              "      <td>319</td>\n",
              "    </tr>\n",
              "    <tr>\n",
              "      <th>2</th>\n",
              "      <td>1</td>\n",
              "      <td>3</td>\n",
              "      <td>318</td>\n",
              "    </tr>\n",
              "    <tr>\n",
              "      <th>3</th>\n",
              "      <td>1</td>\n",
              "      <td>4</td>\n",
              "      <td>317</td>\n",
              "    </tr>\n",
              "    <tr>\n",
              "      <th>4</th>\n",
              "      <td>1</td>\n",
              "      <td>5</td>\n",
              "      <td>316</td>\n",
              "    </tr>\n",
              "  </tbody>\n",
              "</table>\n",
              "</div>"
            ]
          },
          "metadata": {},
          "execution_count": 17
        }
      ]
    },
    {
      "cell_type": "markdown",
      "source": [
        "## Attributes and target separation"
      ],
      "metadata": {
        "id": "F_QkhG6GyF3p"
      }
    },
    {
      "cell_type": "code",
      "source": [
        "X_train, y_train = proc.X_y_train_divide_with_settings(train)"
      ],
      "metadata": {
        "id": "9yvwdn0vyF3p"
      },
      "execution_count": 18,
      "outputs": []
    },
    {
      "cell_type": "code",
      "source": [
        "y_train.head()"
      ],
      "metadata": {
        "colab": {
          "base_uri": "https://localhost:8080/",
          "height": 226
        },
        "outputId": "de7f263a-4879-44ed-f5f1-d0ffc2477cff",
        "id": "iqzhSKkCyF3p"
      },
      "execution_count": 19,
      "outputs": [
        {
          "output_type": "execute_result",
          "data": {
            "text/plain": [
              "   RUL\n",
              "0  320\n",
              "1  319\n",
              "2  318\n",
              "3  317\n",
              "4  316"
            ],
            "text/html": [
              "<div>\n",
              "<style scoped>\n",
              "    .dataframe tbody tr th:only-of-type {\n",
              "        vertical-align: middle;\n",
              "    }\n",
              "\n",
              "    .dataframe tbody tr th {\n",
              "        vertical-align: top;\n",
              "    }\n",
              "\n",
              "    .dataframe thead th {\n",
              "        text-align: right;\n",
              "    }\n",
              "</style>\n",
              "<table border=\"1\" class=\"dataframe\">\n",
              "  <thead>\n",
              "    <tr style=\"text-align: right;\">\n",
              "      <th></th>\n",
              "      <th>RUL</th>\n",
              "    </tr>\n",
              "  </thead>\n",
              "  <tbody>\n",
              "    <tr>\n",
              "      <th>0</th>\n",
              "      <td>320</td>\n",
              "    </tr>\n",
              "    <tr>\n",
              "      <th>1</th>\n",
              "      <td>319</td>\n",
              "    </tr>\n",
              "    <tr>\n",
              "      <th>2</th>\n",
              "      <td>318</td>\n",
              "    </tr>\n",
              "    <tr>\n",
              "      <th>3</th>\n",
              "      <td>317</td>\n",
              "    </tr>\n",
              "    <tr>\n",
              "      <th>4</th>\n",
              "      <td>316</td>\n",
              "    </tr>\n",
              "  </tbody>\n",
              "</table>\n",
              "</div>"
            ]
          },
          "metadata": {},
          "execution_count": 19
        }
      ]
    },
    {
      "cell_type": "code",
      "source": [
        "X_train.head()"
      ],
      "metadata": {
        "colab": {
          "base_uri": "https://localhost:8080/",
          "height": 325
        },
        "outputId": "9b3efd8a-a767-44ce-ea14-cbd9018c37c1",
        "id": "Rb7j0SAdyF3q"
      },
      "execution_count": 20,
      "outputs": [
        {
          "output_type": "execute_result",
          "data": {
            "text/plain": [
              "      op_1    op_2   op_3     s_0     s_1      s_2      s_3   s_4    s_5  \\\n",
              "0  42.0049  0.8400  100.0  445.00  549.68  1343.43  1112.93  3.91   5.70   \n",
              "1  20.0020  0.7002  100.0  491.19  606.07  1477.61  1237.50  9.35  13.61   \n",
              "2  42.0038  0.8409  100.0  445.00  548.95  1343.12  1117.05  3.91   5.69   \n",
              "3  42.0000  0.8400  100.0  445.00  548.70  1341.24  1118.03  3.91   5.70   \n",
              "4  25.0063  0.6207   60.0  462.54  536.10  1255.23  1033.59  7.05   9.00   \n",
              "\n",
              "      s_6  ...    s_11     s_12     s_13     s_14  s_15  s_16  s_17    s_18  \\\n",
              "0  137.36  ...  129.78  2387.99  8074.83   9.3335  0.02   330  2212  100.00   \n",
              "1  332.10  ...  312.59  2387.73  8046.13   9.1913  0.02   361  2324  100.00   \n",
              "2  138.18  ...  129.62  2387.97  8066.62   9.4007  0.02   329  2212  100.00   \n",
              "3  137.98  ...  129.80  2388.02  8076.05   9.3369  0.02   328  2212  100.00   \n",
              "4  174.82  ...  164.11  2028.08  7865.80  10.8366  0.02   305  1915   84.93   \n",
              "\n",
              "    s_19     s_20  \n",
              "0  10.62   6.3670  \n",
              "1  24.37  14.6552  \n",
              "2  10.48   6.4213  \n",
              "3  10.54   6.4176  \n",
              "4  14.03   8.6754  \n",
              "\n",
              "[5 rows x 24 columns]"
            ],
            "text/html": [
              "<div>\n",
              "<style scoped>\n",
              "    .dataframe tbody tr th:only-of-type {\n",
              "        vertical-align: middle;\n",
              "    }\n",
              "\n",
              "    .dataframe tbody tr th {\n",
              "        vertical-align: top;\n",
              "    }\n",
              "\n",
              "    .dataframe thead th {\n",
              "        text-align: right;\n",
              "    }\n",
              "</style>\n",
              "<table border=\"1\" class=\"dataframe\">\n",
              "  <thead>\n",
              "    <tr style=\"text-align: right;\">\n",
              "      <th></th>\n",
              "      <th>op_1</th>\n",
              "      <th>op_2</th>\n",
              "      <th>op_3</th>\n",
              "      <th>s_0</th>\n",
              "      <th>s_1</th>\n",
              "      <th>s_2</th>\n",
              "      <th>s_3</th>\n",
              "      <th>s_4</th>\n",
              "      <th>s_5</th>\n",
              "      <th>s_6</th>\n",
              "      <th>...</th>\n",
              "      <th>s_11</th>\n",
              "      <th>s_12</th>\n",
              "      <th>s_13</th>\n",
              "      <th>s_14</th>\n",
              "      <th>s_15</th>\n",
              "      <th>s_16</th>\n",
              "      <th>s_17</th>\n",
              "      <th>s_18</th>\n",
              "      <th>s_19</th>\n",
              "      <th>s_20</th>\n",
              "    </tr>\n",
              "  </thead>\n",
              "  <tbody>\n",
              "    <tr>\n",
              "      <th>0</th>\n",
              "      <td>42.0049</td>\n",
              "      <td>0.8400</td>\n",
              "      <td>100.0</td>\n",
              "      <td>445.00</td>\n",
              "      <td>549.68</td>\n",
              "      <td>1343.43</td>\n",
              "      <td>1112.93</td>\n",
              "      <td>3.91</td>\n",
              "      <td>5.70</td>\n",
              "      <td>137.36</td>\n",
              "      <td>...</td>\n",
              "      <td>129.78</td>\n",
              "      <td>2387.99</td>\n",
              "      <td>8074.83</td>\n",
              "      <td>9.3335</td>\n",
              "      <td>0.02</td>\n",
              "      <td>330</td>\n",
              "      <td>2212</td>\n",
              "      <td>100.00</td>\n",
              "      <td>10.62</td>\n",
              "      <td>6.3670</td>\n",
              "    </tr>\n",
              "    <tr>\n",
              "      <th>1</th>\n",
              "      <td>20.0020</td>\n",
              "      <td>0.7002</td>\n",
              "      <td>100.0</td>\n",
              "      <td>491.19</td>\n",
              "      <td>606.07</td>\n",
              "      <td>1477.61</td>\n",
              "      <td>1237.50</td>\n",
              "      <td>9.35</td>\n",
              "      <td>13.61</td>\n",
              "      <td>332.10</td>\n",
              "      <td>...</td>\n",
              "      <td>312.59</td>\n",
              "      <td>2387.73</td>\n",
              "      <td>8046.13</td>\n",
              "      <td>9.1913</td>\n",
              "      <td>0.02</td>\n",
              "      <td>361</td>\n",
              "      <td>2324</td>\n",
              "      <td>100.00</td>\n",
              "      <td>24.37</td>\n",
              "      <td>14.6552</td>\n",
              "    </tr>\n",
              "    <tr>\n",
              "      <th>2</th>\n",
              "      <td>42.0038</td>\n",
              "      <td>0.8409</td>\n",
              "      <td>100.0</td>\n",
              "      <td>445.00</td>\n",
              "      <td>548.95</td>\n",
              "      <td>1343.12</td>\n",
              "      <td>1117.05</td>\n",
              "      <td>3.91</td>\n",
              "      <td>5.69</td>\n",
              "      <td>138.18</td>\n",
              "      <td>...</td>\n",
              "      <td>129.62</td>\n",
              "      <td>2387.97</td>\n",
              "      <td>8066.62</td>\n",
              "      <td>9.4007</td>\n",
              "      <td>0.02</td>\n",
              "      <td>329</td>\n",
              "      <td>2212</td>\n",
              "      <td>100.00</td>\n",
              "      <td>10.48</td>\n",
              "      <td>6.4213</td>\n",
              "    </tr>\n",
              "    <tr>\n",
              "      <th>3</th>\n",
              "      <td>42.0000</td>\n",
              "      <td>0.8400</td>\n",
              "      <td>100.0</td>\n",
              "      <td>445.00</td>\n",
              "      <td>548.70</td>\n",
              "      <td>1341.24</td>\n",
              "      <td>1118.03</td>\n",
              "      <td>3.91</td>\n",
              "      <td>5.70</td>\n",
              "      <td>137.98</td>\n",
              "      <td>...</td>\n",
              "      <td>129.80</td>\n",
              "      <td>2388.02</td>\n",
              "      <td>8076.05</td>\n",
              "      <td>9.3369</td>\n",
              "      <td>0.02</td>\n",
              "      <td>328</td>\n",
              "      <td>2212</td>\n",
              "      <td>100.00</td>\n",
              "      <td>10.54</td>\n",
              "      <td>6.4176</td>\n",
              "    </tr>\n",
              "    <tr>\n",
              "      <th>4</th>\n",
              "      <td>25.0063</td>\n",
              "      <td>0.6207</td>\n",
              "      <td>60.0</td>\n",
              "      <td>462.54</td>\n",
              "      <td>536.10</td>\n",
              "      <td>1255.23</td>\n",
              "      <td>1033.59</td>\n",
              "      <td>7.05</td>\n",
              "      <td>9.00</td>\n",
              "      <td>174.82</td>\n",
              "      <td>...</td>\n",
              "      <td>164.11</td>\n",
              "      <td>2028.08</td>\n",
              "      <td>7865.80</td>\n",
              "      <td>10.8366</td>\n",
              "      <td>0.02</td>\n",
              "      <td>305</td>\n",
              "      <td>1915</td>\n",
              "      <td>84.93</td>\n",
              "      <td>14.03</td>\n",
              "      <td>8.6754</td>\n",
              "    </tr>\n",
              "  </tbody>\n",
              "</table>\n",
              "<p>5 rows × 24 columns</p>\n",
              "</div>"
            ]
          },
          "metadata": {},
          "execution_count": 20
        }
      ]
    },
    {
      "cell_type": "markdown",
      "source": [
        "## Training and Evaluation functions"
      ],
      "metadata": {
        "id": "yQ6m6r5DyF3r"
      }
    },
    {
      "cell_type": "code",
      "source": [
        "eval = Evaluation()"
      ],
      "metadata": {
        "id": "HOW3mt9WyF3r"
      },
      "execution_count": 21,
      "outputs": []
    },
    {
      "cell_type": "code",
      "source": [
        "search = HyperparameterSearch()"
      ],
      "metadata": {
        "id": "A2lZYDiDyF3r"
      },
      "execution_count": 22,
      "outputs": []
    },
    {
      "cell_type": "markdown",
      "source": [
        "# MLP Construction"
      ],
      "metadata": {
        "id": "SL1dv6EX4NUk"
      }
    },
    {
      "cell_type": "markdown",
      "source": [
        "## Callbacks"
      ],
      "metadata": {
        "id": "PA_LrxmV4NUr"
      }
    },
    {
      "cell_type": "code",
      "source": [
        "# Early Stopping Callback\n",
        "es = tf.keras.callbacks.EarlyStopping(monitor='loss', \n",
        "                                      patience=5, restore_best_weights=True)"
      ],
      "metadata": {
        "id": "BV6PD9sl4NUw"
      },
      "execution_count": 23,
      "outputs": []
    },
    {
      "cell_type": "code",
      "source": [
        "# Printing Callback\n",
        "def printLog(epoch, logs):\n",
        "    print(\n",
        "        f\"E {epoch+1}\\t: loss={logs['loss']:.3f}, \"+\n",
        "        f\"rmse={logs['root_mean_squared_error']:.3f}, \"+\n",
        "        f\"r2={logs['r_square']:.3f}; \"+\n",
        "        f\"v_loss={logs['val_loss']:.3f}, \"+\n",
        "        f\"v_rmse={logs['val_root_mean_squared_error']:.3f}, \"+\n",
        "        f\"v_r2={logs['val_r_square']:.3f}; \"\n",
        "    )\n",
        "\n",
        "printerCallback = LambdaCallback(on_epoch_end=printLog)"
      ],
      "metadata": {
        "id": "83kJj9eJ4NU1"
      },
      "execution_count": 24,
      "outputs": []
    },
    {
      "cell_type": "markdown",
      "source": [
        "## Constants"
      ],
      "metadata": {
        "id": "tigzpyVSyF3t"
      }
    },
    {
      "cell_type": "code",
      "source": [
        "# X_train must include indices\n",
        "train3 = train.copy()\n",
        "X_train_ = train3.drop(columns=[index_cols[1]]+[\"RUL\"])"
      ],
      "metadata": {
        "id": "xtF1NmYFyF3t"
      },
      "execution_count": 25,
      "outputs": []
    },
    {
      "cell_type": "code",
      "source": [
        "INPUT_SHAPE = 0"
      ],
      "metadata": {
        "id": "Tw3v-npkyF3u"
      },
      "execution_count": 26,
      "outputs": []
    },
    {
      "cell_type": "markdown",
      "source": [
        "## Wrapper"
      ],
      "metadata": {
        "id": "GfvCIhkYyF3u"
      }
    },
    {
      "cell_type": "code",
      "source": [
        "from sys import is_finalizing\n",
        "from sklearn.metrics import r2_score\n",
        "\n",
        "class MLPWrapperRegressor(BaseEstimator,RegressorMixin):\n",
        "    def __init__(self, basemodel=None, clip_y=-1,\n",
        "                 include_settings=False, poly_degree=1,\n",
        "                 scaler=StandardScaler()):\n",
        "        # Base parameters\n",
        "        self.basemodel = basemodel\n",
        "        self.clip_y = clip_y\n",
        "        self.poly_degree = poly_degree\n",
        "        self.include_settings = include_settings\n",
        "\n",
        "        # Column indexers\n",
        "        self.feature_cols = sensors_cols\n",
        "        if(include_settings):\n",
        "            self.feature_cols = settings_cols + self.feature_cols\n",
        "        self.base_feature_cols = self.feature_cols\n",
        "\n",
        "        # Scaler and PolyFeatures transformers\n",
        "        self.scaler = scaler\n",
        "        self.polyft = PolynomialFeatures(degree=self.poly_degree, \n",
        "                                         include_bias=False)\n",
        "\n",
        "    def clean_cols(self,df):\n",
        "        if(\"unit_number\" in df.columns): del df[\"unit_number\"]\n",
        "        if(\"unit_number\" in df.columns): del df[\"unit_number\"]\n",
        "        if(\"time\" in df.columns): del df[\"time\"]\n",
        "        if((not self.include_settings)): \n",
        "            for col in settings_cols:\n",
        "                if(col in df.columns): del df[col]\n",
        "        return df\n",
        "\n",
        "    def fit(self, X=None, y=None):\n",
        "        # Drop irrelevant column\n",
        "        data = pd.DataFrame(X).copy()\n",
        "        data = self.clean_cols(data)\n",
        "        \n",
        "        # Apply polynomial features and add them to the dataframe\n",
        "        transf = self.polyft.fit_transform(data)\n",
        "        data = pd.DataFrame(transf, columns=\n",
        "                              self.polyft.get_feature_names_out())\n",
        "        self.feature_cols = list(self.polyft.get_feature_names_out())\n",
        "\n",
        "        # Scale the data\n",
        "        data = self.scaler.fit_transform(data)\n",
        "        data = pd.DataFrame(data, \n",
        "                            columns=self.scaler.get_feature_names_out())\n",
        "        X_train = data.copy()\n",
        "        \n",
        "        # Clip and transform labels\n",
        "        data2 = pd.DataFrame(y, columns=[\"RUL\"]).copy()\n",
        "        if (self.clip_y > 0):\n",
        "            data2[\"RUL\"].clip(upper=self.clip_y, inplace=True)\n",
        "        y_train = data2\n",
        "\n",
        "        # Update input shape for future use\n",
        "        global INPUT_SHAPE\n",
        "        INPUT_SHAPE = X_train.shape[1]\n",
        "\n",
        "        # Fit model\n",
        "        self.basemodel.fit(X_train,y_train)\n",
        "        return self\n",
        "        \n",
        "    def predict(self, X=None):\n",
        "        # Perform transformation, if not done\n",
        "        if (len(X.columns) != len(self.feature_cols)):\n",
        "            X_train = self.transform_features(X)\n",
        "        else:\n",
        "            X_train = X\n",
        "        return self.basemodel.predict(X_train)\n",
        "\n",
        "    def transform_features(self, df):\n",
        "        # Drop irrelevant column\n",
        "        data = pd.DataFrame(df).copy()\n",
        "        data = self.clean_cols(data)\n",
        "        \n",
        "        # Apply polynomial features and add them to the dataframe\n",
        "        transf = self.polyft.transform(data)\n",
        "        data = pd.DataFrame(transf, columns=\n",
        "                              self.polyft.get_feature_names_out())\n",
        "        # self.feature_cols = list(self.polyft.get_feature_names_out())\n",
        "\n",
        "        # Scale the data\n",
        "        data = self.scaler.transform(data)\n",
        "        data = pd.DataFrame(data, \n",
        "                            columns=self.scaler.get_feature_names_out())\n",
        "        return data\n",
        "\n",
        "    def score(self, X, y, sample_weight=None):\n",
        "        X_test = self.transform_features(X)\n",
        "\n",
        "        # Clip and transform labels\n",
        "        data2 = pd.DataFrame(y, columns=[\"RUL\"]).copy()\n",
        "        if (self.clip_y > 0):\n",
        "            data2[\"RUL\"].clip(upper=self.clip_y, inplace=True)\n",
        "        y_test = data2\n",
        "\n",
        "        # Predict on test data\n",
        "        y_pred = self.predict(X_test)\n",
        "        return r2_score(y_test, y_pred, sample_weight=sample_weight)"
      ],
      "metadata": {
        "id": "-mG7sVkcpALn"
      },
      "execution_count": 27,
      "outputs": []
    },
    {
      "cell_type": "markdown",
      "source": [
        "## Test Data"
      ],
      "metadata": {
        "id": "nypcyXj_yF3v"
      }
    },
    {
      "cell_type": "code",
      "source": [
        "def scale_test(test,model):\n",
        "    test2 = pd.DataFrame(test)\n",
        "    test2 = model.clean_cols(test2)\n",
        "\n",
        "    # Apply polynomial features\n",
        "    transf = model.polyft.transform(test2)\n",
        "    test2 = pd.DataFrame(transf, \n",
        "                         columns=model.polyft.get_feature_names_out())\n",
        "\n",
        "    # Scale the data (with train data parameters)\n",
        "    test2 = model.scaler.transform(test2)\n",
        "    test2 = pd.DataFrame(test2, \n",
        "                         columns=model.polyft.get_feature_names_out())\n",
        "    return test2"
      ],
      "metadata": {
        "id": "_M68gGoxyF3w"
      },
      "execution_count": 28,
      "outputs": []
    },
    {
      "cell_type": "markdown",
      "source": [
        "## Constructor"
      ],
      "metadata": {
        "id": "_az27G1FyF3w"
      }
    },
    {
      "cell_type": "code",
      "source": [
        "def create_model(optim=Adam, learning_rate=1e-3, \n",
        "                 layer1=32  , activation1=\"tanh\"    , dropout1=0.1,\n",
        "                 layer2=None, activation2=\"tanh\"    , dropout2=0.1,\n",
        "                 layer3=None, activation3=\"tanh\"    , dropout3=0.1,\n",
        "                 layer4=None, activation4=\"tanh\"    , dropout4=0.1,\n",
        "                 print_summary=False, loss='mean_squared_error',\n",
        "                 metrics=[tf.keras.metrics.MeanSquaredError()]):\n",
        "    model = Sequential()\n",
        "\n",
        "    # Fully Connected Layer\n",
        "    model.add(Dense(layer1, input_dim=INPUT_SHAPE, activation=activation1))\n",
        "    model.add(Dropout(dropout1))\n",
        "\n",
        "    # Additional hidden layers\n",
        "    if(layer2 is not None):\n",
        "        model.add(Dense(layer2, activation=activation2))\n",
        "        model.add(Dropout(dropout2))\n",
        "        if (layer3 is not None):\n",
        "            model.add(Dense(layer3, activation=activation3))\n",
        "            model.add(Dropout(dropout3))\n",
        "            if (layer4 is not None):\n",
        "                model.add(Dense(layer4, activation=activation4))\n",
        "                model.add(Dropout(dropout4))\n",
        "\n",
        "    # Output Layer\n",
        "    model.add(Dense(1))\n",
        "\n",
        "    model.compile(loss=loss, optimizer=optim(learning_rate=learning_rate), \n",
        "                  metrics=metrics)\n",
        "    \n",
        "    if(print_summary): model.summary()\n",
        "    return model"
      ],
      "metadata": {
        "id": "NbakKD-DlU5-"
      },
      "execution_count": 29,
      "outputs": []
    },
    {
      "cell_type": "markdown",
      "source": [
        "# HyperParameter Tuning"
      ],
      "metadata": {
        "id": "_tmf-_jhTITg"
      }
    },
    {
      "cell_type": "code",
      "source": [
        "CLIP=126\n",
        "\n",
        "model = MLPWrapperRegressor(\n",
        "        clip_y=CLIP,scaler=MinMaxScaler(),\n",
        "        include_settings=True,\n",
        "        basemodel=\n",
        "            KerasRegressor(model=create_model,\n",
        "                           batch_size=64,\n",
        "                           epochs=1,\n",
        "                           validation_split=0.2, \n",
        "                           model__layer1=512, \n",
        "                           model__activation1='relu',\n",
        "                           model__dropout1=0.5, \n",
        "                           model__layer2=64,\n",
        "                           model__layer3=64,\n",
        "                           model__layer4=64,\n",
        "                           model__learning_rate=0.01,\n",
        "                           model__optim=Adam,\n",
        "                        #    verbose=0, callbacks=[es,printerCallback],\n",
        "                           verbose=0, callbacks=[es],\n",
        "                           model__metrics=[RMSE(), R2()],\n",
        "                           model__loss='mse',\n",
        "                           print_summary=False\n",
        "                           )\n",
        "    )"
      ],
      "metadata": {
        "id": "nQnsoqJNTITg"
      },
      "execution_count": 35,
      "outputs": []
    },
    {
      "cell_type": "code",
      "source": [
        "# ~3h (LSTM)\n",
        "# ~45min (MLP)\n",
        "GRID_SEARCH = True\n",
        "if (GRID_SEARCH):\n",
        "    param_distributions = {\n",
        "        \"include_settings\": Categorical([True]),\n",
        "        \"clip_y\": Integer(80,140),\n",
        "        \"poly_degree\": Categorical([2,3]),\n",
        "        \"scaler\": Categorical([MinMaxScaler(),StandardScaler()]),\n",
        "        \"basemodel__epochs\": Integer(1,50),\n",
        "        \"basemodel__validation_split\":Real(0.1,0.9),\n",
        "        \"basemodel__batch_size\": Integer(32,512),\n",
        "        \"basemodel__model__optim\":Categorical([Adam,RMSprop]),\n",
        "        \"basemodel__model__learning_rate\": Real(1e-4, 1e-2),\n",
        "        \n",
        "        \"basemodel__model__layer1\": Integer(16,512),\n",
        "        \"basemodel__model__activation1\": Categorical([\"relu\",\"elu\",\"selu\",\"tanh\", \"sigmoid\"]),\n",
        "        \"basemodel__model__dropout1\": Real(0.1,0.9),\n",
        "\n",
        "        \"basemodel__model__layer2\": Integer(16,512),\n",
        "        \"basemodel__model__activation2\": Categorical([\"relu\",\"elu\",\"selu\",\"tanh\", \"sigmoid\"]),\n",
        "        \"basemodel__model__dropout2\": Real(0.1,0.9),\n",
        "\n",
        "        \"basemodel__model__layer3\": Integer(16,512),\n",
        "        \"basemodel__model__activation3\": Categorical([\"relu\",\"elu\",\"selu\",\"tanh\", \"sigmoid\"]),\n",
        "        \"basemodel__model__dropout3\": Real(0.1,0.9),\n",
        "\n",
        "        \"basemodel__model__layer4\": Integer(16,512),\n",
        "        \"basemodel__model__activation4\": Categorical([\"relu\",\"elu\",\"selu\",\"tanh\", \"sigmoid\"]),\n",
        "        \"basemodel__model__dropout4\": Real(0.1,0.9),\n",
        "    }\n",
        "    gcv = GroupKFold(n_splits=3)\n",
        "    groups=X_train_['unit_number']\n",
        "    bss = BayesSearchCV(model, param_distributions, \n",
        "                        verbose=3, n_jobs=1, refit=False,\n",
        "                        cv=gcv.split(X_train_, groups=groups), n_iter=45)\n",
        "    model = bss.fit(X_train_, y_train)\n",
        "    \n",
        "    # print(bss.best_estimator_)\n",
        "    print(\"Finished:\", datetime.datetime.now())"
      ],
      "metadata": {
        "id": "PN6hZxa9TITh",
        "colab": {
          "base_uri": "https://localhost:8080/"
        },
        "outputId": "a0d4b80f-9232-4a04-c119-05e4fb57e660"
      },
      "execution_count": 36,
      "outputs": [
        {
          "output_type": "stream",
          "name": "stdout",
          "text": [
            "Fitting 3 folds for each of 1 candidates, totalling 3 fits\n",
            "[CV 1/3] END basemodel__batch_size=395, basemodel__epochs=35, basemodel__model__activation1=relu, basemodel__model__activation2=relu, basemodel__model__activation3=relu, basemodel__model__activation4=relu, basemodel__model__dropout1=0.10943439441683457, basemodel__model__dropout2=0.36767153029821664, basemodel__model__dropout3=0.751142950611607, basemodel__model__dropout4=0.8839080434806221, basemodel__model__layer1=89, basemodel__model__layer2=27, basemodel__model__layer3=459, basemodel__model__layer4=268, basemodel__model__learning_rate=0.004718825042443329, basemodel__model__optim=<class 'keras.optimizer_v2.rmsprop.RMSprop'>, basemodel__validation_split=0.35084731166926875, clip_y=119, include_settings=True, poly_degree=2, scaler=StandardScaler();, score=0.075 total time=  25.2s\n",
            "[CV 2/3] END basemodel__batch_size=395, basemodel__epochs=35, basemodel__model__activation1=relu, basemodel__model__activation2=relu, basemodel__model__activation3=relu, basemodel__model__activation4=relu, basemodel__model__dropout1=0.10943439441683457, basemodel__model__dropout2=0.36767153029821664, basemodel__model__dropout3=0.751142950611607, basemodel__model__dropout4=0.8839080434806221, basemodel__model__layer1=89, basemodel__model__layer2=27, basemodel__model__layer3=459, basemodel__model__layer4=268, basemodel__model__learning_rate=0.004718825042443329, basemodel__model__optim=<class 'keras.optimizer_v2.rmsprop.RMSprop'>, basemodel__validation_split=0.35084731166926875, clip_y=119, include_settings=True, poly_degree=2, scaler=StandardScaler();, score=0.408 total time=  26.0s\n",
            "[CV 3/3] END basemodel__batch_size=395, basemodel__epochs=35, basemodel__model__activation1=relu, basemodel__model__activation2=relu, basemodel__model__activation3=relu, basemodel__model__activation4=relu, basemodel__model__dropout1=0.10943439441683457, basemodel__model__dropout2=0.36767153029821664, basemodel__model__dropout3=0.751142950611607, basemodel__model__dropout4=0.8839080434806221, basemodel__model__layer1=89, basemodel__model__layer2=27, basemodel__model__layer3=459, basemodel__model__layer4=268, basemodel__model__learning_rate=0.004718825042443329, basemodel__model__optim=<class 'keras.optimizer_v2.rmsprop.RMSprop'>, basemodel__validation_split=0.35084731166926875, clip_y=119, include_settings=True, poly_degree=2, scaler=StandardScaler();, score=0.461 total time=  25.5s\n",
            "Fitting 3 folds for each of 1 candidates, totalling 3 fits\n",
            "[CV 1/3] END basemodel__batch_size=366, basemodel__epochs=39, basemodel__model__activation1=sigmoid, basemodel__model__activation2=selu, basemodel__model__activation3=sigmoid, basemodel__model__activation4=tanh, basemodel__model__dropout1=0.3315759999775747, basemodel__model__dropout2=0.8862678031664644, basemodel__model__dropout3=0.6481389115993388, basemodel__model__dropout4=0.7674584160877952, basemodel__model__layer1=135, basemodel__model__layer2=226, basemodel__model__layer3=289, basemodel__model__layer4=64, basemodel__model__learning_rate=0.003013963032536492, basemodel__model__optim=<class 'keras.optimizer_v2.rmsprop.RMSprop'>, basemodel__validation_split=0.5716633808297894, clip_y=80, include_settings=True, poly_degree=3, scaler=MinMaxScaler();, score=-0.018 total time=   9.7s\n",
            "[CV 2/3] END basemodel__batch_size=366, basemodel__epochs=39, basemodel__model__activation1=sigmoid, basemodel__model__activation2=selu, basemodel__model__activation3=sigmoid, basemodel__model__activation4=tanh, basemodel__model__dropout1=0.3315759999775747, basemodel__model__dropout2=0.8862678031664644, basemodel__model__dropout3=0.6481389115993388, basemodel__model__dropout4=0.7674584160877952, basemodel__model__layer1=135, basemodel__model__layer2=226, basemodel__model__layer3=289, basemodel__model__layer4=64, basemodel__model__learning_rate=0.003013963032536492, basemodel__model__optim=<class 'keras.optimizer_v2.rmsprop.RMSprop'>, basemodel__validation_split=0.5716633808297894, clip_y=80, include_settings=True, poly_degree=3, scaler=MinMaxScaler();, score=-0.015 total time=  16.8s\n",
            "[CV 3/3] END basemodel__batch_size=366, basemodel__epochs=39, basemodel__model__activation1=sigmoid, basemodel__model__activation2=selu, basemodel__model__activation3=sigmoid, basemodel__model__activation4=tanh, basemodel__model__dropout1=0.3315759999775747, basemodel__model__dropout2=0.8862678031664644, basemodel__model__dropout3=0.6481389115993388, basemodel__model__dropout4=0.7674584160877952, basemodel__model__layer1=135, basemodel__model__layer2=226, basemodel__model__layer3=289, basemodel__model__layer4=64, basemodel__model__learning_rate=0.003013963032536492, basemodel__model__optim=<class 'keras.optimizer_v2.rmsprop.RMSprop'>, basemodel__validation_split=0.5716633808297894, clip_y=80, include_settings=True, poly_degree=3, scaler=MinMaxScaler();, score=-0.021 total time=  10.9s\n",
            "Fitting 3 folds for each of 1 candidates, totalling 3 fits\n",
            "[CV 1/3] END basemodel__batch_size=438, basemodel__epochs=34, basemodel__model__activation1=tanh, basemodel__model__activation2=selu, basemodel__model__activation3=selu, basemodel__model__activation4=sigmoid, basemodel__model__dropout1=0.24233360479066257, basemodel__model__dropout2=0.8855526033397808, basemodel__model__dropout3=0.6568460739214143, basemodel__model__dropout4=0.1733379629394178, basemodel__model__layer1=57, basemodel__model__layer2=295, basemodel__model__layer3=209, basemodel__model__layer4=168, basemodel__model__learning_rate=0.0005536806879113307, basemodel__model__optim=<class 'keras.optimizer_v2.adam.Adam'>, basemodel__validation_split=0.21282704577773637, clip_y=94, include_settings=True, poly_degree=3, scaler=MinMaxScaler();, score=-0.001 total time=  18.7s\n",
            "[CV 2/3] END basemodel__batch_size=438, basemodel__epochs=34, basemodel__model__activation1=tanh, basemodel__model__activation2=selu, basemodel__model__activation3=selu, basemodel__model__activation4=sigmoid, basemodel__model__dropout1=0.24233360479066257, basemodel__model__dropout2=0.8855526033397808, basemodel__model__dropout3=0.6568460739214143, basemodel__model__dropout4=0.1733379629394178, basemodel__model__layer1=57, basemodel__model__layer2=295, basemodel__model__layer3=209, basemodel__model__layer4=168, basemodel__model__learning_rate=0.0005536806879113307, basemodel__model__optim=<class 'keras.optimizer_v2.adam.Adam'>, basemodel__validation_split=0.21282704577773637, clip_y=94, include_settings=True, poly_degree=3, scaler=MinMaxScaler();, score=-0.001 total time=  18.9s\n",
            "[CV 3/3] END basemodel__batch_size=438, basemodel__epochs=34, basemodel__model__activation1=tanh, basemodel__model__activation2=selu, basemodel__model__activation3=selu, basemodel__model__activation4=sigmoid, basemodel__model__dropout1=0.24233360479066257, basemodel__model__dropout2=0.8855526033397808, basemodel__model__dropout3=0.6568460739214143, basemodel__model__dropout4=0.1733379629394178, basemodel__model__layer1=57, basemodel__model__layer2=295, basemodel__model__layer3=209, basemodel__model__layer4=168, basemodel__model__learning_rate=0.0005536806879113307, basemodel__model__optim=<class 'keras.optimizer_v2.adam.Adam'>, basemodel__validation_split=0.21282704577773637, clip_y=94, include_settings=True, poly_degree=3, scaler=MinMaxScaler();, score=-0.001 total time=  18.7s\n",
            "Fitting 3 folds for each of 1 candidates, totalling 3 fits\n",
            "[CV 1/3] END basemodel__batch_size=389, basemodel__epochs=20, basemodel__model__activation1=sigmoid, basemodel__model__activation2=sigmoid, basemodel__model__activation3=tanh, basemodel__model__activation4=relu, basemodel__model__dropout1=0.5732231894948736, basemodel__model__dropout2=0.5908829595425337, basemodel__model__dropout3=0.28495169986972246, basemodel__model__dropout4=0.8551298015713934, basemodel__model__layer1=114, basemodel__model__layer2=459, basemodel__model__layer3=276, basemodel__model__layer4=192, basemodel__model__learning_rate=0.004660564670749955, basemodel__model__optim=<class 'keras.optimizer_v2.rmsprop.RMSprop'>, basemodel__validation_split=0.4641848501790261, clip_y=98, include_settings=True, poly_degree=2, scaler=StandardScaler();, score=0.401 total time=  14.2s\n",
            "[CV 2/3] END basemodel__batch_size=389, basemodel__epochs=20, basemodel__model__activation1=sigmoid, basemodel__model__activation2=sigmoid, basemodel__model__activation3=tanh, basemodel__model__activation4=relu, basemodel__model__dropout1=0.5732231894948736, basemodel__model__dropout2=0.5908829595425337, basemodel__model__dropout3=0.28495169986972246, basemodel__model__dropout4=0.8551298015713934, basemodel__model__layer1=114, basemodel__model__layer2=459, basemodel__model__layer3=276, basemodel__model__layer4=192, basemodel__model__learning_rate=0.004660564670749955, basemodel__model__optim=<class 'keras.optimizer_v2.rmsprop.RMSprop'>, basemodel__validation_split=0.4641848501790261, clip_y=98, include_settings=True, poly_degree=2, scaler=StandardScaler();, score=0.470 total time=  14.0s\n",
            "[CV 3/3] END basemodel__batch_size=389, basemodel__epochs=20, basemodel__model__activation1=sigmoid, basemodel__model__activation2=sigmoid, basemodel__model__activation3=tanh, basemodel__model__activation4=relu, basemodel__model__dropout1=0.5732231894948736, basemodel__model__dropout2=0.5908829595425337, basemodel__model__dropout3=0.28495169986972246, basemodel__model__dropout4=0.8551298015713934, basemodel__model__layer1=114, basemodel__model__layer2=459, basemodel__model__layer3=276, basemodel__model__layer4=192, basemodel__model__learning_rate=0.004660564670749955, basemodel__model__optim=<class 'keras.optimizer_v2.rmsprop.RMSprop'>, basemodel__validation_split=0.4641848501790261, clip_y=98, include_settings=True, poly_degree=2, scaler=StandardScaler();, score=0.370 total time=  13.9s\n",
            "Fitting 3 folds for each of 1 candidates, totalling 3 fits\n",
            "[CV 1/3] END basemodel__batch_size=70, basemodel__epochs=32, basemodel__model__activation1=sigmoid, basemodel__model__activation2=selu, basemodel__model__activation3=tanh, basemodel__model__activation4=elu, basemodel__model__dropout1=0.24598024491531353, basemodel__model__dropout2=0.7118152054202751, basemodel__model__dropout3=0.38805494881808256, basemodel__model__dropout4=0.10799658809360589, basemodel__model__layer1=290, basemodel__model__layer2=101, basemodel__model__layer3=25, basemodel__model__layer4=470, basemodel__model__learning_rate=0.003398724676530835, basemodel__model__optim=<class 'keras.optimizer_v2.rmsprop.RMSprop'>, basemodel__validation_split=0.4130089268008176, clip_y=91, include_settings=True, poly_degree=3, scaler=MinMaxScaler();, score=-0.006 total time=  43.9s\n",
            "[CV 2/3] END basemodel__batch_size=70, basemodel__epochs=32, basemodel__model__activation1=sigmoid, basemodel__model__activation2=selu, basemodel__model__activation3=tanh, basemodel__model__activation4=elu, basemodel__model__dropout1=0.24598024491531353, basemodel__model__dropout2=0.7118152054202751, basemodel__model__dropout3=0.38805494881808256, basemodel__model__dropout4=0.10799658809360589, basemodel__model__layer1=290, basemodel__model__layer2=101, basemodel__model__layer3=25, basemodel__model__layer4=470, basemodel__model__learning_rate=0.003398724676530835, basemodel__model__optim=<class 'keras.optimizer_v2.rmsprop.RMSprop'>, basemodel__validation_split=0.4130089268008176, clip_y=91, include_settings=True, poly_degree=3, scaler=MinMaxScaler();, score=-0.000 total time=  36.8s\n",
            "[CV 3/3] END basemodel__batch_size=70, basemodel__epochs=32, basemodel__model__activation1=sigmoid, basemodel__model__activation2=selu, basemodel__model__activation3=tanh, basemodel__model__activation4=elu, basemodel__model__dropout1=0.24598024491531353, basemodel__model__dropout2=0.7118152054202751, basemodel__model__dropout3=0.38805494881808256, basemodel__model__dropout4=0.10799658809360589, basemodel__model__layer1=290, basemodel__model__layer2=101, basemodel__model__layer3=25, basemodel__model__layer4=470, basemodel__model__learning_rate=0.003398724676530835, basemodel__model__optim=<class 'keras.optimizer_v2.rmsprop.RMSprop'>, basemodel__validation_split=0.4130089268008176, clip_y=91, include_settings=True, poly_degree=3, scaler=MinMaxScaler();, score=-0.006 total time=  35.1s\n",
            "Fitting 3 folds for each of 1 candidates, totalling 3 fits\n",
            "[CV 1/3] END basemodel__batch_size=121, basemodel__epochs=34, basemodel__model__activation1=sigmoid, basemodel__model__activation2=relu, basemodel__model__activation3=elu, basemodel__model__activation4=sigmoid, basemodel__model__dropout1=0.23600502300566045, basemodel__model__dropout2=0.8181018013881731, basemodel__model__dropout3=0.33450143861637893, basemodel__model__dropout4=0.779506144017787, basemodel__model__layer1=504, basemodel__model__layer2=112, basemodel__model__layer3=108, basemodel__model__layer4=142, basemodel__model__learning_rate=0.006379559256785965, basemodel__model__optim=<class 'keras.optimizer_v2.rmsprop.RMSprop'>, basemodel__validation_split=0.8104466218683576, clip_y=131, include_settings=True, poly_degree=3, scaler=MinMaxScaler();, score=-0.000 total time=  46.6s\n",
            "[CV 2/3] END basemodel__batch_size=121, basemodel__epochs=34, basemodel__model__activation1=sigmoid, basemodel__model__activation2=relu, basemodel__model__activation3=elu, basemodel__model__activation4=sigmoid, basemodel__model__dropout1=0.23600502300566045, basemodel__model__dropout2=0.8181018013881731, basemodel__model__dropout3=0.33450143861637893, basemodel__model__dropout4=0.779506144017787, basemodel__model__layer1=504, basemodel__model__layer2=112, basemodel__model__layer3=108, basemodel__model__layer4=142, basemodel__model__learning_rate=0.006379559256785965, basemodel__model__optim=<class 'keras.optimizer_v2.rmsprop.RMSprop'>, basemodel__validation_split=0.8104466218683576, clip_y=131, include_settings=True, poly_degree=3, scaler=MinMaxScaler();, score=-0.000 total time=  35.6s\n",
            "[CV 3/3] END basemodel__batch_size=121, basemodel__epochs=34, basemodel__model__activation1=sigmoid, basemodel__model__activation2=relu, basemodel__model__activation3=elu, basemodel__model__activation4=sigmoid, basemodel__model__dropout1=0.23600502300566045, basemodel__model__dropout2=0.8181018013881731, basemodel__model__dropout3=0.33450143861637893, basemodel__model__dropout4=0.779506144017787, basemodel__model__layer1=504, basemodel__model__layer2=112, basemodel__model__layer3=108, basemodel__model__layer4=142, basemodel__model__learning_rate=0.006379559256785965, basemodel__model__optim=<class 'keras.optimizer_v2.rmsprop.RMSprop'>, basemodel__validation_split=0.8104466218683576, clip_y=131, include_settings=True, poly_degree=3, scaler=MinMaxScaler();, score=-0.000 total time=  48.2s\n",
            "Fitting 3 folds for each of 1 candidates, totalling 3 fits\n",
            "[CV 1/3] END basemodel__batch_size=88, basemodel__epochs=49, basemodel__model__activation1=selu, basemodel__model__activation2=relu, basemodel__model__activation3=tanh, basemodel__model__activation4=sigmoid, basemodel__model__dropout1=0.4914516308953306, basemodel__model__dropout2=0.7730212182782011, basemodel__model__dropout3=0.2596632013312733, basemodel__model__dropout4=0.26617487983741117, basemodel__model__layer1=21, basemodel__model__layer2=511, basemodel__model__layer3=373, basemodel__model__layer4=113, basemodel__model__learning_rate=0.003409535078168486, basemodel__model__optim=<class 'keras.optimizer_v2.adam.Adam'>, basemodel__validation_split=0.5682623876601816, clip_y=122, include_settings=True, poly_degree=2, scaler=MinMaxScaler();, score=-0.000 total time=  24.9s\n",
            "[CV 2/3] END basemodel__batch_size=88, basemodel__epochs=49, basemodel__model__activation1=selu, basemodel__model__activation2=relu, basemodel__model__activation3=tanh, basemodel__model__activation4=sigmoid, basemodel__model__dropout1=0.4914516308953306, basemodel__model__dropout2=0.7730212182782011, basemodel__model__dropout3=0.2596632013312733, basemodel__model__dropout4=0.26617487983741117, basemodel__model__layer1=21, basemodel__model__layer2=511, basemodel__model__layer3=373, basemodel__model__layer4=113, basemodel__model__learning_rate=0.003409535078168486, basemodel__model__optim=<class 'keras.optimizer_v2.adam.Adam'>, basemodel__validation_split=0.5682623876601816, clip_y=122, include_settings=True, poly_degree=2, scaler=MinMaxScaler();, score=-0.000 total time=  25.4s\n",
            "[CV 3/3] END basemodel__batch_size=88, basemodel__epochs=49, basemodel__model__activation1=selu, basemodel__model__activation2=relu, basemodel__model__activation3=tanh, basemodel__model__activation4=sigmoid, basemodel__model__dropout1=0.4914516308953306, basemodel__model__dropout2=0.7730212182782011, basemodel__model__dropout3=0.2596632013312733, basemodel__model__dropout4=0.26617487983741117, basemodel__model__layer1=21, basemodel__model__layer2=511, basemodel__model__layer3=373, basemodel__model__layer4=113, basemodel__model__learning_rate=0.003409535078168486, basemodel__model__optim=<class 'keras.optimizer_v2.adam.Adam'>, basemodel__validation_split=0.5682623876601816, clip_y=122, include_settings=True, poly_degree=2, scaler=MinMaxScaler();, score=-0.001 total time=  23.3s\n",
            "Fitting 3 folds for each of 1 candidates, totalling 3 fits\n",
            "[CV 1/3] END basemodel__batch_size=68, basemodel__epochs=36, basemodel__model__activation1=relu, basemodel__model__activation2=selu, basemodel__model__activation3=selu, basemodel__model__activation4=elu, basemodel__model__dropout1=0.6962562155653711, basemodel__model__dropout2=0.5543238434784312, basemodel__model__dropout3=0.5367126357554063, basemodel__model__dropout4=0.3553404355183457, basemodel__model__layer1=157, basemodel__model__layer2=76, basemodel__model__layer3=134, basemodel__model__layer4=427, basemodel__model__learning_rate=0.002356718666184941, basemodel__model__optim=<class 'keras.optimizer_v2.adam.Adam'>, basemodel__validation_split=0.7409172204853286, clip_y=116, include_settings=True, poly_degree=2, scaler=StandardScaler();, score=0.755 total time= 1.3min\n",
            "[CV 2/3] END basemodel__batch_size=68, basemodel__epochs=36, basemodel__model__activation1=relu, basemodel__model__activation2=selu, basemodel__model__activation3=selu, basemodel__model__activation4=elu, basemodel__model__dropout1=0.6962562155653711, basemodel__model__dropout2=0.5543238434784312, basemodel__model__dropout3=0.5367126357554063, basemodel__model__dropout4=0.3553404355183457, basemodel__model__layer1=157, basemodel__model__layer2=76, basemodel__model__layer3=134, basemodel__model__layer4=427, basemodel__model__learning_rate=0.002356718666184941, basemodel__model__optim=<class 'keras.optimizer_v2.adam.Adam'>, basemodel__validation_split=0.7409172204853286, clip_y=116, include_settings=True, poly_degree=2, scaler=StandardScaler();, score=0.699 total time= 1.4min\n",
            "[CV 3/3] END basemodel__batch_size=68, basemodel__epochs=36, basemodel__model__activation1=relu, basemodel__model__activation2=selu, basemodel__model__activation3=selu, basemodel__model__activation4=elu, basemodel__model__dropout1=0.6962562155653711, basemodel__model__dropout2=0.5543238434784312, basemodel__model__dropout3=0.5367126357554063, basemodel__model__dropout4=0.3553404355183457, basemodel__model__layer1=157, basemodel__model__layer2=76, basemodel__model__layer3=134, basemodel__model__layer4=427, basemodel__model__learning_rate=0.002356718666184941, basemodel__model__optim=<class 'keras.optimizer_v2.adam.Adam'>, basemodel__validation_split=0.7409172204853286, clip_y=116, include_settings=True, poly_degree=2, scaler=StandardScaler();, score=0.708 total time= 1.3min\n",
            "Fitting 3 folds for each of 1 candidates, totalling 3 fits\n",
            "[CV 1/3] END basemodel__batch_size=284, basemodel__epochs=24, basemodel__model__activation1=relu, basemodel__model__activation2=relu, basemodel__model__activation3=tanh, basemodel__model__activation4=selu, basemodel__model__dropout1=0.3612542942306227, basemodel__model__dropout2=0.47036451190881123, basemodel__model__dropout3=0.7885752023140459, basemodel__model__dropout4=0.3230667851020175, basemodel__model__layer1=91, basemodel__model__layer2=511, basemodel__model__layer3=247, basemodel__model__layer4=315, basemodel__model__learning_rate=0.006955808913118081, basemodel__model__optim=<class 'keras.optimizer_v2.rmsprop.RMSprop'>, basemodel__validation_split=0.5336348110302747, clip_y=84, include_settings=True, poly_degree=3, scaler=StandardScaler();, score=0.557 total time=  20.9s\n",
            "[CV 2/3] END basemodel__batch_size=284, basemodel__epochs=24, basemodel__model__activation1=relu, basemodel__model__activation2=relu, basemodel__model__activation3=tanh, basemodel__model__activation4=selu, basemodel__model__dropout1=0.3612542942306227, basemodel__model__dropout2=0.47036451190881123, basemodel__model__dropout3=0.7885752023140459, basemodel__model__dropout4=0.3230667851020175, basemodel__model__layer1=91, basemodel__model__layer2=511, basemodel__model__layer3=247, basemodel__model__layer4=315, basemodel__model__learning_rate=0.006955808913118081, basemodel__model__optim=<class 'keras.optimizer_v2.rmsprop.RMSprop'>, basemodel__validation_split=0.5336348110302747, clip_y=84, include_settings=True, poly_degree=3, scaler=StandardScaler();, score=0.554 total time=  20.1s\n",
            "[CV 3/3] END basemodel__batch_size=284, basemodel__epochs=24, basemodel__model__activation1=relu, basemodel__model__activation2=relu, basemodel__model__activation3=tanh, basemodel__model__activation4=selu, basemodel__model__dropout1=0.3612542942306227, basemodel__model__dropout2=0.47036451190881123, basemodel__model__dropout3=0.7885752023140459, basemodel__model__dropout4=0.3230667851020175, basemodel__model__layer1=91, basemodel__model__layer2=511, basemodel__model__layer3=247, basemodel__model__layer4=315, basemodel__model__learning_rate=0.006955808913118081, basemodel__model__optim=<class 'keras.optimizer_v2.rmsprop.RMSprop'>, basemodel__validation_split=0.5336348110302747, clip_y=84, include_settings=True, poly_degree=3, scaler=StandardScaler();, score=0.326 total time=  20.7s\n",
            "Fitting 3 folds for each of 1 candidates, totalling 3 fits\n",
            "[CV 1/3] END basemodel__batch_size=137, basemodel__epochs=42, basemodel__model__activation1=selu, basemodel__model__activation2=relu, basemodel__model__activation3=selu, basemodel__model__activation4=relu, basemodel__model__dropout1=0.7748184601375853, basemodel__model__dropout2=0.6274558613635365, basemodel__model__dropout3=0.6942453460743989, basemodel__model__dropout4=0.35438207515910203, basemodel__model__layer1=97, basemodel__model__layer2=69, basemodel__model__layer3=43, basemodel__model__layer4=486, basemodel__model__learning_rate=0.008683377660929057, basemodel__model__optim=<class 'keras.optimizer_v2.rmsprop.RMSprop'>, basemodel__validation_split=0.5095190126998286, clip_y=98, include_settings=True, poly_degree=2, scaler=StandardScaler();, score=-0.014 total time= 1.2min\n",
            "[CV 2/3] END basemodel__batch_size=137, basemodel__epochs=42, basemodel__model__activation1=selu, basemodel__model__activation2=relu, basemodel__model__activation3=selu, basemodel__model__activation4=relu, basemodel__model__dropout1=0.7748184601375853, basemodel__model__dropout2=0.6274558613635365, basemodel__model__dropout3=0.6942453460743989, basemodel__model__dropout4=0.35438207515910203, basemodel__model__layer1=97, basemodel__model__layer2=69, basemodel__model__layer3=43, basemodel__model__layer4=486, basemodel__model__learning_rate=0.008683377660929057, basemodel__model__optim=<class 'keras.optimizer_v2.rmsprop.RMSprop'>, basemodel__validation_split=0.5095190126998286, clip_y=98, include_settings=True, poly_degree=2, scaler=StandardScaler();, score=0.309 total time= 1.2min\n",
            "[CV 3/3] END basemodel__batch_size=137, basemodel__epochs=42, basemodel__model__activation1=selu, basemodel__model__activation2=relu, basemodel__model__activation3=selu, basemodel__model__activation4=relu, basemodel__model__dropout1=0.7748184601375853, basemodel__model__dropout2=0.6274558613635365, basemodel__model__dropout3=0.6942453460743989, basemodel__model__dropout4=0.35438207515910203, basemodel__model__layer1=97, basemodel__model__layer2=69, basemodel__model__layer3=43, basemodel__model__layer4=486, basemodel__model__learning_rate=0.008683377660929057, basemodel__model__optim=<class 'keras.optimizer_v2.rmsprop.RMSprop'>, basemodel__validation_split=0.5095190126998286, clip_y=98, include_settings=True, poly_degree=2, scaler=StandardScaler();, score=-0.489 total time= 1.1min\n",
            "Fitting 3 folds for each of 1 candidates, totalling 3 fits\n",
            "[CV 1/3] END basemodel__batch_size=203, basemodel__epochs=4, basemodel__model__activation1=relu, basemodel__model__activation2=selu, basemodel__model__activation3=sigmoid, basemodel__model__activation4=sigmoid, basemodel__model__dropout1=0.7192664575696329, basemodel__model__dropout2=0.6328670613648504, basemodel__model__dropout3=0.10002894967927244, basemodel__model__dropout4=0.3468182843633004, basemodel__model__layer1=200, basemodel__model__layer2=70, basemodel__model__layer3=137, basemodel__model__layer4=16, basemodel__model__learning_rate=0.0006286935629359561, basemodel__model__optim=<class 'keras.optimizer_v2.adam.Adam'>, basemodel__validation_split=0.8161490642305271, clip_y=108, include_settings=True, poly_degree=2, scaler=StandardScaler();, score=-5.631 total time=   3.7s\n",
            "[CV 2/3] END basemodel__batch_size=203, basemodel__epochs=4, basemodel__model__activation1=relu, basemodel__model__activation2=selu, basemodel__model__activation3=sigmoid, basemodel__model__activation4=sigmoid, basemodel__model__dropout1=0.7192664575696329, basemodel__model__dropout2=0.6328670613648504, basemodel__model__dropout3=0.10002894967927244, basemodel__model__dropout4=0.3468182843633004, basemodel__model__layer1=200, basemodel__model__layer2=70, basemodel__model__layer3=137, basemodel__model__layer4=16, basemodel__model__learning_rate=0.0006286935629359561, basemodel__model__optim=<class 'keras.optimizer_v2.adam.Adam'>, basemodel__validation_split=0.8161490642305271, clip_y=108, include_settings=True, poly_degree=2, scaler=StandardScaler();, score=-5.443 total time=   3.5s\n",
            "[CV 3/3] END basemodel__batch_size=203, basemodel__epochs=4, basemodel__model__activation1=relu, basemodel__model__activation2=selu, basemodel__model__activation3=sigmoid, basemodel__model__activation4=sigmoid, basemodel__model__dropout1=0.7192664575696329, basemodel__model__dropout2=0.6328670613648504, basemodel__model__dropout3=0.10002894967927244, basemodel__model__dropout4=0.3468182843633004, basemodel__model__layer1=200, basemodel__model__layer2=70, basemodel__model__layer3=137, basemodel__model__layer4=16, basemodel__model__learning_rate=0.0006286935629359561, basemodel__model__optim=<class 'keras.optimizer_v2.adam.Adam'>, basemodel__validation_split=0.8161490642305271, clip_y=108, include_settings=True, poly_degree=2, scaler=StandardScaler();, score=-5.603 total time=   3.5s\n",
            "Fitting 3 folds for each of 1 candidates, totalling 3 fits\n",
            "[CV 1/3] END basemodel__batch_size=32, basemodel__epochs=36, basemodel__model__activation1=elu, basemodel__model__activation2=tanh, basemodel__model__activation3=tanh, basemodel__model__activation4=elu, basemodel__model__dropout1=0.9, basemodel__model__dropout2=0.4264234515280658, basemodel__model__dropout3=0.40205447980893616, basemodel__model__dropout4=0.27094356134008046, basemodel__model__layer1=16, basemodel__model__layer2=331, basemodel__model__layer3=41, basemodel__model__layer4=494, basemodel__model__learning_rate=0.0001, basemodel__model__optim=<class 'keras.optimizer_v2.adam.Adam'>, basemodel__validation_split=0.9, clip_y=80, include_settings=True, poly_degree=2, scaler=StandardScaler();, score=0.056 total time= 2.4min\n",
            "[CV 2/3] END basemodel__batch_size=32, basemodel__epochs=36, basemodel__model__activation1=elu, basemodel__model__activation2=tanh, basemodel__model__activation3=tanh, basemodel__model__activation4=elu, basemodel__model__dropout1=0.9, basemodel__model__dropout2=0.4264234515280658, basemodel__model__dropout3=0.40205447980893616, basemodel__model__dropout4=0.27094356134008046, basemodel__model__layer1=16, basemodel__model__layer2=331, basemodel__model__layer3=41, basemodel__model__layer4=494, basemodel__model__learning_rate=0.0001, basemodel__model__optim=<class 'keras.optimizer_v2.adam.Adam'>, basemodel__validation_split=0.9, clip_y=80, include_settings=True, poly_degree=2, scaler=StandardScaler();, score=0.036 total time= 2.4min\n",
            "[CV 3/3] END basemodel__batch_size=32, basemodel__epochs=36, basemodel__model__activation1=elu, basemodel__model__activation2=tanh, basemodel__model__activation3=tanh, basemodel__model__activation4=elu, basemodel__model__dropout1=0.9, basemodel__model__dropout2=0.4264234515280658, basemodel__model__dropout3=0.40205447980893616, basemodel__model__dropout4=0.27094356134008046, basemodel__model__layer1=16, basemodel__model__layer2=331, basemodel__model__layer3=41, basemodel__model__layer4=494, basemodel__model__learning_rate=0.0001, basemodel__model__optim=<class 'keras.optimizer_v2.adam.Adam'>, basemodel__validation_split=0.9, clip_y=80, include_settings=True, poly_degree=2, scaler=StandardScaler();, score=0.072 total time= 2.3min\n",
            "Fitting 3 folds for each of 1 candidates, totalling 3 fits\n",
            "[CV 1/3] END basemodel__batch_size=512, basemodel__epochs=40, basemodel__model__activation1=elu, basemodel__model__activation2=elu, basemodel__model__activation3=tanh, basemodel__model__activation4=sigmoid, basemodel__model__dropout1=0.1, basemodel__model__dropout2=0.1, basemodel__model__dropout3=0.2460276679696333, basemodel__model__dropout4=0.9, basemodel__model__layer1=16, basemodel__model__layer2=512, basemodel__model__layer3=512, basemodel__model__layer4=16, basemodel__model__learning_rate=0.0001, basemodel__model__optim=<class 'keras.optimizer_v2.adam.Adam'>, basemodel__validation_split=0.1, clip_y=140, include_settings=True, poly_degree=3, scaler=StandardScaler();, score=-4.033 total time=  18.8s\n",
            "[CV 2/3] END basemodel__batch_size=512, basemodel__epochs=40, basemodel__model__activation1=elu, basemodel__model__activation2=elu, basemodel__model__activation3=tanh, basemodel__model__activation4=sigmoid, basemodel__model__dropout1=0.1, basemodel__model__dropout2=0.1, basemodel__model__dropout3=0.2460276679696333, basemodel__model__dropout4=0.9, basemodel__model__layer1=16, basemodel__model__layer2=512, basemodel__model__layer3=512, basemodel__model__layer4=16, basemodel__model__learning_rate=0.0001, basemodel__model__optim=<class 'keras.optimizer_v2.adam.Adam'>, basemodel__validation_split=0.1, clip_y=140, include_settings=True, poly_degree=3, scaler=StandardScaler();, score=-4.177 total time=  19.4s\n",
            "[CV 3/3] END basemodel__batch_size=512, basemodel__epochs=40, basemodel__model__activation1=elu, basemodel__model__activation2=elu, basemodel__model__activation3=tanh, basemodel__model__activation4=sigmoid, basemodel__model__dropout1=0.1, basemodel__model__dropout2=0.1, basemodel__model__dropout3=0.2460276679696333, basemodel__model__dropout4=0.9, basemodel__model__layer1=16, basemodel__model__layer2=512, basemodel__model__layer3=512, basemodel__model__layer4=16, basemodel__model__learning_rate=0.0001, basemodel__model__optim=<class 'keras.optimizer_v2.adam.Adam'>, basemodel__validation_split=0.1, clip_y=140, include_settings=True, poly_degree=3, scaler=StandardScaler();, score=-4.164 total time=  19.3s\n",
            "Fitting 3 folds for each of 1 candidates, totalling 3 fits\n",
            "[CV 1/3] END basemodel__batch_size=207, basemodel__epochs=1, basemodel__model__activation1=tanh, basemodel__model__activation2=tanh, basemodel__model__activation3=sigmoid, basemodel__model__activation4=relu, basemodel__model__dropout1=0.4329990146214274, basemodel__model__dropout2=0.1, basemodel__model__dropout3=0.3628110640395664, basemodel__model__dropout4=0.6182386685753273, basemodel__model__layer1=152, basemodel__model__layer2=512, basemodel__model__layer3=86, basemodel__model__layer4=402, basemodel__model__learning_rate=0.0001, basemodel__model__optim=<class 'keras.optimizer_v2.adam.Adam'>, basemodel__validation_split=0.3724603660019242, clip_y=88, include_settings=True, poly_degree=2, scaler=StandardScaler();, score=-5.398 total time=   1.7s\n",
            "[CV 2/3] END basemodel__batch_size=207, basemodel__epochs=1, basemodel__model__activation1=tanh, basemodel__model__activation2=tanh, basemodel__model__activation3=sigmoid, basemodel__model__activation4=relu, basemodel__model__dropout1=0.4329990146214274, basemodel__model__dropout2=0.1, basemodel__model__dropout3=0.3628110640395664, basemodel__model__dropout4=0.6182386685753273, basemodel__model__layer1=152, basemodel__model__layer2=512, basemodel__model__layer3=86, basemodel__model__layer4=402, basemodel__model__learning_rate=0.0001, basemodel__model__optim=<class 'keras.optimizer_v2.adam.Adam'>, basemodel__validation_split=0.3724603660019242, clip_y=88, include_settings=True, poly_degree=2, scaler=StandardScaler();, score=-5.596 total time=   1.8s\n",
            "[CV 3/3] END basemodel__batch_size=207, basemodel__epochs=1, basemodel__model__activation1=tanh, basemodel__model__activation2=tanh, basemodel__model__activation3=sigmoid, basemodel__model__activation4=relu, basemodel__model__dropout1=0.4329990146214274, basemodel__model__dropout2=0.1, basemodel__model__dropout3=0.3628110640395664, basemodel__model__dropout4=0.6182386685753273, basemodel__model__layer1=152, basemodel__model__layer2=512, basemodel__model__layer3=86, basemodel__model__layer4=402, basemodel__model__learning_rate=0.0001, basemodel__model__optim=<class 'keras.optimizer_v2.adam.Adam'>, basemodel__validation_split=0.3724603660019242, clip_y=88, include_settings=True, poly_degree=2, scaler=StandardScaler();, score=-5.589 total time=   1.8s\n",
            "Fitting 3 folds for each of 1 candidates, totalling 3 fits\n",
            "[CV 1/3] END basemodel__batch_size=32, basemodel__epochs=37, basemodel__model__activation1=relu, basemodel__model__activation2=selu, basemodel__model__activation3=selu, basemodel__model__activation4=elu, basemodel__model__dropout1=0.7478183382719303, basemodel__model__dropout2=0.5490483611397358, basemodel__model__dropout3=0.533202538494819, basemodel__model__dropout4=0.3890357738872293, basemodel__model__layer1=190, basemodel__model__layer2=38, basemodel__model__layer3=139, basemodel__model__layer4=484, basemodel__model__learning_rate=0.0037405811054530788, basemodel__model__optim=<class 'keras.optimizer_v2.adam.Adam'>, basemodel__validation_split=0.8221715553846148, clip_y=129, include_settings=True, poly_degree=2, scaler=StandardScaler();, score=0.545 total time= 1.3min\n",
            "[CV 2/3] END basemodel__batch_size=32, basemodel__epochs=37, basemodel__model__activation1=relu, basemodel__model__activation2=selu, basemodel__model__activation3=selu, basemodel__model__activation4=elu, basemodel__model__dropout1=0.7478183382719303, basemodel__model__dropout2=0.5490483611397358, basemodel__model__dropout3=0.533202538494819, basemodel__model__dropout4=0.3890357738872293, basemodel__model__layer1=190, basemodel__model__layer2=38, basemodel__model__layer3=139, basemodel__model__layer4=484, basemodel__model__learning_rate=0.0037405811054530788, basemodel__model__optim=<class 'keras.optimizer_v2.adam.Adam'>, basemodel__validation_split=0.8221715553846148, clip_y=129, include_settings=True, poly_degree=2, scaler=StandardScaler();, score=0.618 total time= 2.4min\n",
            "[CV 3/3] END basemodel__batch_size=32, basemodel__epochs=37, basemodel__model__activation1=relu, basemodel__model__activation2=selu, basemodel__model__activation3=selu, basemodel__model__activation4=elu, basemodel__model__dropout1=0.7478183382719303, basemodel__model__dropout2=0.5490483611397358, basemodel__model__dropout3=0.533202538494819, basemodel__model__dropout4=0.3890357738872293, basemodel__model__layer1=190, basemodel__model__layer2=38, basemodel__model__layer3=139, basemodel__model__layer4=484, basemodel__model__learning_rate=0.0037405811054530788, basemodel__model__optim=<class 'keras.optimizer_v2.adam.Adam'>, basemodel__validation_split=0.8221715553846148, clip_y=129, include_settings=True, poly_degree=2, scaler=StandardScaler();, score=0.431 total time= 1.4min\n",
            "Fitting 3 folds for each of 1 candidates, totalling 3 fits\n",
            "[CV 1/3] END basemodel__batch_size=101, basemodel__epochs=50, basemodel__model__activation1=tanh, basemodel__model__activation2=elu, basemodel__model__activation3=elu, basemodel__model__activation4=elu, basemodel__model__dropout1=0.1, basemodel__model__dropout2=0.9, basemodel__model__dropout3=0.8673667797432678, basemodel__model__dropout4=0.1, basemodel__model__layer1=157, basemodel__model__layer2=224, basemodel__model__layer3=162, basemodel__model__layer4=220, basemodel__model__learning_rate=0.002752177558478821, basemodel__model__optim=<class 'keras.optimizer_v2.adam.Adam'>, basemodel__validation_split=0.1450359291242864, clip_y=80, include_settings=True, poly_degree=2, scaler=MinMaxScaler();, score=-0.001 total time=  25.2s\n",
            "[CV 2/3] END basemodel__batch_size=101, basemodel__epochs=50, basemodel__model__activation1=tanh, basemodel__model__activation2=elu, basemodel__model__activation3=elu, basemodel__model__activation4=elu, basemodel__model__dropout1=0.1, basemodel__model__dropout2=0.9, basemodel__model__dropout3=0.8673667797432678, basemodel__model__dropout4=0.1, basemodel__model__layer1=157, basemodel__model__layer2=224, basemodel__model__layer3=162, basemodel__model__layer4=220, basemodel__model__learning_rate=0.002752177558478821, basemodel__model__optim=<class 'keras.optimizer_v2.adam.Adam'>, basemodel__validation_split=0.1450359291242864, clip_y=80, include_settings=True, poly_degree=2, scaler=MinMaxScaler();, score=-0.000 total time=  56.9s\n",
            "[CV 3/3] END basemodel__batch_size=101, basemodel__epochs=50, basemodel__model__activation1=tanh, basemodel__model__activation2=elu, basemodel__model__activation3=elu, basemodel__model__activation4=elu, basemodel__model__dropout1=0.1, basemodel__model__dropout2=0.9, basemodel__model__dropout3=0.8673667797432678, basemodel__model__dropout4=0.1, basemodel__model__layer1=157, basemodel__model__layer2=224, basemodel__model__layer3=162, basemodel__model__layer4=220, basemodel__model__learning_rate=0.002752177558478821, basemodel__model__optim=<class 'keras.optimizer_v2.adam.Adam'>, basemodel__validation_split=0.1450359291242864, clip_y=80, include_settings=True, poly_degree=2, scaler=MinMaxScaler();, score=-0.082 total time=  20.2s\n",
            "Fitting 3 folds for each of 1 candidates, totalling 3 fits\n",
            "[CV 1/3] END basemodel__batch_size=32, basemodel__epochs=11, basemodel__model__activation1=elu, basemodel__model__activation2=relu, basemodel__model__activation3=relu, basemodel__model__activation4=elu, basemodel__model__dropout1=0.8169341017737368, basemodel__model__dropout2=0.3338633138708912, basemodel__model__dropout3=0.8070380189576382, basemodel__model__dropout4=0.1, basemodel__model__layer1=62, basemodel__model__layer2=274, basemodel__model__layer3=512, basemodel__model__layer4=512, basemodel__model__learning_rate=0.0005232038540656228, basemodel__model__optim=<class 'keras.optimizer_v2.rmsprop.RMSprop'>, basemodel__validation_split=0.1715710738461148, clip_y=80, include_settings=True, poly_degree=3, scaler=StandardScaler();, score=0.715 total time= 1.7min\n",
            "[CV 2/3] END basemodel__batch_size=32, basemodel__epochs=11, basemodel__model__activation1=elu, basemodel__model__activation2=relu, basemodel__model__activation3=relu, basemodel__model__activation4=elu, basemodel__model__dropout1=0.8169341017737368, basemodel__model__dropout2=0.3338633138708912, basemodel__model__dropout3=0.8070380189576382, basemodel__model__dropout4=0.1, basemodel__model__layer1=62, basemodel__model__layer2=274, basemodel__model__layer3=512, basemodel__model__layer4=512, basemodel__model__learning_rate=0.0005232038540656228, basemodel__model__optim=<class 'keras.optimizer_v2.rmsprop.RMSprop'>, basemodel__validation_split=0.1715710738461148, clip_y=80, include_settings=True, poly_degree=3, scaler=StandardScaler();, score=0.664 total time= 1.8min\n",
            "[CV 3/3] END basemodel__batch_size=32, basemodel__epochs=11, basemodel__model__activation1=elu, basemodel__model__activation2=relu, basemodel__model__activation3=relu, basemodel__model__activation4=elu, basemodel__model__dropout1=0.8169341017737368, basemodel__model__dropout2=0.3338633138708912, basemodel__model__dropout3=0.8070380189576382, basemodel__model__dropout4=0.1, basemodel__model__layer1=62, basemodel__model__layer2=274, basemodel__model__layer3=512, basemodel__model__layer4=512, basemodel__model__learning_rate=0.0005232038540656228, basemodel__model__optim=<class 'keras.optimizer_v2.rmsprop.RMSprop'>, basemodel__validation_split=0.1715710738461148, clip_y=80, include_settings=True, poly_degree=3, scaler=StandardScaler();, score=0.650 total time= 1.8min\n",
            "Fitting 3 folds for each of 1 candidates, totalling 3 fits\n",
            "[CV 1/3] END basemodel__batch_size=32, basemodel__epochs=36, basemodel__model__activation1=elu, basemodel__model__activation2=tanh, basemodel__model__activation3=tanh, basemodel__model__activation4=elu, basemodel__model__dropout1=0.9, basemodel__model__dropout2=0.9, basemodel__model__dropout3=0.1, basemodel__model__dropout4=0.1, basemodel__model__layer1=16, basemodel__model__layer2=288, basemodel__model__layer3=16, basemodel__model__layer4=473, basemodel__model__learning_rate=0.0001, basemodel__model__optim=<class 'keras.optimizer_v2.adam.Adam'>, basemodel__validation_split=0.9, clip_y=80, include_settings=True, poly_degree=2, scaler=StandardScaler();, score=-0.015 total time= 2.4min\n",
            "[CV 2/3] END basemodel__batch_size=32, basemodel__epochs=36, basemodel__model__activation1=elu, basemodel__model__activation2=tanh, basemodel__model__activation3=tanh, basemodel__model__activation4=elu, basemodel__model__dropout1=0.9, basemodel__model__dropout2=0.9, basemodel__model__dropout3=0.1, basemodel__model__dropout4=0.1, basemodel__model__layer1=16, basemodel__model__layer2=288, basemodel__model__layer3=16, basemodel__model__layer4=473, basemodel__model__learning_rate=0.0001, basemodel__model__optim=<class 'keras.optimizer_v2.adam.Adam'>, basemodel__validation_split=0.9, clip_y=80, include_settings=True, poly_degree=2, scaler=StandardScaler();, score=-0.005 total time= 2.4min\n",
            "[CV 3/3] END basemodel__batch_size=32, basemodel__epochs=36, basemodel__model__activation1=elu, basemodel__model__activation2=tanh, basemodel__model__activation3=tanh, basemodel__model__activation4=elu, basemodel__model__dropout1=0.9, basemodel__model__dropout2=0.9, basemodel__model__dropout3=0.1, basemodel__model__dropout4=0.1, basemodel__model__layer1=16, basemodel__model__layer2=288, basemodel__model__layer3=16, basemodel__model__layer4=473, basemodel__model__learning_rate=0.0001, basemodel__model__optim=<class 'keras.optimizer_v2.adam.Adam'>, basemodel__validation_split=0.9, clip_y=80, include_settings=True, poly_degree=2, scaler=StandardScaler();, score=0.004 total time= 2.3min\n",
            "Fitting 3 folds for each of 1 candidates, totalling 3 fits\n",
            "[CV 1/3] END basemodel__batch_size=69, basemodel__epochs=37, basemodel__model__activation1=sigmoid, basemodel__model__activation2=relu, basemodel__model__activation3=selu, basemodel__model__activation4=sigmoid, basemodel__model__dropout1=0.770494948392781, basemodel__model__dropout2=0.8066167160643326, basemodel__model__dropout3=0.7656526030696358, basemodel__model__dropout4=0.1749261309615652, basemodel__model__layer1=146, basemodel__model__layer2=186, basemodel__model__layer3=208, basemodel__model__layer4=149, basemodel__model__learning_rate=0.004784482071098736, basemodel__model__optim=<class 'keras.optimizer_v2.adam.Adam'>, basemodel__validation_split=0.5792327284121933, clip_y=109, include_settings=True, poly_degree=2, scaler=StandardScaler();, score=-0.000 total time=  36.1s\n",
            "[CV 2/3] END basemodel__batch_size=69, basemodel__epochs=37, basemodel__model__activation1=sigmoid, basemodel__model__activation2=relu, basemodel__model__activation3=selu, basemodel__model__activation4=sigmoid, basemodel__model__dropout1=0.770494948392781, basemodel__model__dropout2=0.8066167160643326, basemodel__model__dropout3=0.7656526030696358, basemodel__model__dropout4=0.1749261309615652, basemodel__model__layer1=146, basemodel__model__layer2=186, basemodel__model__layer3=208, basemodel__model__layer4=149, basemodel__model__learning_rate=0.004784482071098736, basemodel__model__optim=<class 'keras.optimizer_v2.adam.Adam'>, basemodel__validation_split=0.5792327284121933, clip_y=109, include_settings=True, poly_degree=2, scaler=StandardScaler();, score=-0.001 total time=  23.0s\n",
            "[CV 3/3] END basemodel__batch_size=69, basemodel__epochs=37, basemodel__model__activation1=sigmoid, basemodel__model__activation2=relu, basemodel__model__activation3=selu, basemodel__model__activation4=sigmoid, basemodel__model__dropout1=0.770494948392781, basemodel__model__dropout2=0.8066167160643326, basemodel__model__dropout3=0.7656526030696358, basemodel__model__dropout4=0.1749261309615652, basemodel__model__layer1=146, basemodel__model__layer2=186, basemodel__model__layer3=208, basemodel__model__layer4=149, basemodel__model__learning_rate=0.004784482071098736, basemodel__model__optim=<class 'keras.optimizer_v2.adam.Adam'>, basemodel__validation_split=0.5792327284121933, clip_y=109, include_settings=True, poly_degree=2, scaler=StandardScaler();, score=-0.000 total time=  19.3s\n",
            "Fitting 3 folds for each of 1 candidates, totalling 3 fits\n",
            "[CV 1/3] END basemodel__batch_size=83, basemodel__epochs=35, basemodel__model__activation1=selu, basemodel__model__activation2=selu, basemodel__model__activation3=selu, basemodel__model__activation4=relu, basemodel__model__dropout1=0.2486470231240755, basemodel__model__dropout2=0.8200206197021866, basemodel__model__dropout3=0.6630131263110759, basemodel__model__dropout4=0.1793643246248422, basemodel__model__layer1=245, basemodel__model__layer2=81, basemodel__model__layer3=118, basemodel__model__layer4=84, basemodel__model__learning_rate=0.0002448680822988874, basemodel__model__optim=<class 'keras.optimizer_v2.adam.Adam'>, basemodel__validation_split=0.5986369740295999, clip_y=137, include_settings=True, poly_degree=3, scaler=StandardScaler();, score=-0.132 total time= 1.2min\n",
            "[CV 2/3] END basemodel__batch_size=83, basemodel__epochs=35, basemodel__model__activation1=selu, basemodel__model__activation2=selu, basemodel__model__activation3=selu, basemodel__model__activation4=relu, basemodel__model__dropout1=0.2486470231240755, basemodel__model__dropout2=0.8200206197021866, basemodel__model__dropout3=0.6630131263110759, basemodel__model__dropout4=0.1793643246248422, basemodel__model__layer1=245, basemodel__model__layer2=81, basemodel__model__layer3=118, basemodel__model__layer4=84, basemodel__model__learning_rate=0.0002448680822988874, basemodel__model__optim=<class 'keras.optimizer_v2.adam.Adam'>, basemodel__validation_split=0.5986369740295999, clip_y=137, include_settings=True, poly_degree=3, scaler=StandardScaler();, score=-0.014 total time= 1.1min\n",
            "[CV 3/3] END basemodel__batch_size=83, basemodel__epochs=35, basemodel__model__activation1=selu, basemodel__model__activation2=selu, basemodel__model__activation3=selu, basemodel__model__activation4=relu, basemodel__model__dropout1=0.2486470231240755, basemodel__model__dropout2=0.8200206197021866, basemodel__model__dropout3=0.6630131263110759, basemodel__model__dropout4=0.1793643246248422, basemodel__model__layer1=245, basemodel__model__layer2=81, basemodel__model__layer3=118, basemodel__model__layer4=84, basemodel__model__learning_rate=0.0002448680822988874, basemodel__model__optim=<class 'keras.optimizer_v2.adam.Adam'>, basemodel__validation_split=0.5986369740295999, clip_y=137, include_settings=True, poly_degree=3, scaler=StandardScaler();, score=0.389 total time= 1.2min\n",
            "Fitting 3 folds for each of 1 candidates, totalling 3 fits\n",
            "[CV 1/3] END basemodel__batch_size=118, basemodel__epochs=36, basemodel__model__activation1=relu, basemodel__model__activation2=selu, basemodel__model__activation3=selu, basemodel__model__activation4=elu, basemodel__model__dropout1=0.6033794318181875, basemodel__model__dropout2=0.7246188076999185, basemodel__model__dropout3=0.3640773395482977, basemodel__model__dropout4=0.3602826605571967, basemodel__model__layer1=172, basemodel__model__layer2=16, basemodel__model__layer3=131, basemodel__model__layer4=430, basemodel__model__learning_rate=0.0019267999093531129, basemodel__model__optim=<class 'keras.optimizer_v2.adam.Adam'>, basemodel__validation_split=0.7022224201647905, clip_y=119, include_settings=True, poly_degree=2, scaler=StandardScaler();, score=0.571 total time=  27.3s\n",
            "[CV 2/3] END basemodel__batch_size=118, basemodel__epochs=36, basemodel__model__activation1=relu, basemodel__model__activation2=selu, basemodel__model__activation3=selu, basemodel__model__activation4=elu, basemodel__model__dropout1=0.6033794318181875, basemodel__model__dropout2=0.7246188076999185, basemodel__model__dropout3=0.3640773395482977, basemodel__model__dropout4=0.3602826605571967, basemodel__model__layer1=172, basemodel__model__layer2=16, basemodel__model__layer3=131, basemodel__model__layer4=430, basemodel__model__learning_rate=0.0019267999093531129, basemodel__model__optim=<class 'keras.optimizer_v2.adam.Adam'>, basemodel__validation_split=0.7022224201647905, clip_y=119, include_settings=True, poly_degree=2, scaler=StandardScaler();, score=0.611 total time=  47.4s\n",
            "[CV 3/3] END basemodel__batch_size=118, basemodel__epochs=36, basemodel__model__activation1=relu, basemodel__model__activation2=selu, basemodel__model__activation3=selu, basemodel__model__activation4=elu, basemodel__model__dropout1=0.6033794318181875, basemodel__model__dropout2=0.7246188076999185, basemodel__model__dropout3=0.3640773395482977, basemodel__model__dropout4=0.3602826605571967, basemodel__model__layer1=172, basemodel__model__layer2=16, basemodel__model__layer3=131, basemodel__model__layer4=430, basemodel__model__learning_rate=0.0019267999093531129, basemodel__model__optim=<class 'keras.optimizer_v2.adam.Adam'>, basemodel__validation_split=0.7022224201647905, clip_y=119, include_settings=True, poly_degree=2, scaler=StandardScaler();, score=0.597 total time=  36.5s\n",
            "Fitting 3 folds for each of 1 candidates, totalling 3 fits\n",
            "[CV 1/3] END basemodel__batch_size=154, basemodel__epochs=36, basemodel__model__activation1=relu, basemodel__model__activation2=sigmoid, basemodel__model__activation3=selu, basemodel__model__activation4=tanh, basemodel__model__dropout1=0.8209758801878503, basemodel__model__dropout2=0.5731897807436668, basemodel__model__dropout3=0.7714311937762156, basemodel__model__dropout4=0.36465196728002347, basemodel__model__layer1=159, basemodel__model__layer2=91, basemodel__model__layer3=316, basemodel__model__layer4=485, basemodel__model__learning_rate=0.004765913196506439, basemodel__model__optim=<class 'keras.optimizer_v2.adam.Adam'>, basemodel__validation_split=0.8524333645014068, clip_y=119, include_settings=True, poly_degree=2, scaler=StandardScaler();, score=-0.000 total time=  10.8s\n",
            "[CV 2/3] END basemodel__batch_size=154, basemodel__epochs=36, basemodel__model__activation1=relu, basemodel__model__activation2=sigmoid, basemodel__model__activation3=selu, basemodel__model__activation4=tanh, basemodel__model__dropout1=0.8209758801878503, basemodel__model__dropout2=0.5731897807436668, basemodel__model__dropout3=0.7714311937762156, basemodel__model__dropout4=0.36465196728002347, basemodel__model__layer1=159, basemodel__model__layer2=91, basemodel__model__layer3=316, basemodel__model__layer4=485, basemodel__model__learning_rate=0.004765913196506439, basemodel__model__optim=<class 'keras.optimizer_v2.adam.Adam'>, basemodel__validation_split=0.8524333645014068, clip_y=119, include_settings=True, poly_degree=2, scaler=StandardScaler();, score=-0.000 total time=  18.2s\n",
            "[CV 3/3] END basemodel__batch_size=154, basemodel__epochs=36, basemodel__model__activation1=relu, basemodel__model__activation2=sigmoid, basemodel__model__activation3=selu, basemodel__model__activation4=tanh, basemodel__model__dropout1=0.8209758801878503, basemodel__model__dropout2=0.5731897807436668, basemodel__model__dropout3=0.7714311937762156, basemodel__model__dropout4=0.36465196728002347, basemodel__model__layer1=159, basemodel__model__layer2=91, basemodel__model__layer3=316, basemodel__model__layer4=485, basemodel__model__learning_rate=0.004765913196506439, basemodel__model__optim=<class 'keras.optimizer_v2.adam.Adam'>, basemodel__validation_split=0.8524333645014068, clip_y=119, include_settings=True, poly_degree=2, scaler=StandardScaler();, score=-0.001 total time=   9.6s\n",
            "Fitting 3 folds for each of 1 candidates, totalling 3 fits\n",
            "[CV 1/3] END basemodel__batch_size=32, basemodel__epochs=1, basemodel__model__activation1=sigmoid, basemodel__model__activation2=elu, basemodel__model__activation3=elu, basemodel__model__activation4=selu, basemodel__model__dropout1=0.40479972666962083, basemodel__model__dropout2=0.32416470136521724, basemodel__model__dropout3=0.541316669242394, basemodel__model__dropout4=0.9, basemodel__model__layer1=19, basemodel__model__layer2=376, basemodel__model__layer3=115, basemodel__model__layer4=260, basemodel__model__learning_rate=0.006900863243230041, basemodel__model__optim=<class 'keras.optimizer_v2.rmsprop.RMSprop'>, basemodel__validation_split=0.18394146222690777, clip_y=140, include_settings=True, poly_degree=3, scaler=StandardScaler();, score=0.026 total time=  10.3s\n",
            "[CV 2/3] END basemodel__batch_size=32, basemodel__epochs=1, basemodel__model__activation1=sigmoid, basemodel__model__activation2=elu, basemodel__model__activation3=elu, basemodel__model__activation4=selu, basemodel__model__dropout1=0.40479972666962083, basemodel__model__dropout2=0.32416470136521724, basemodel__model__dropout3=0.541316669242394, basemodel__model__dropout4=0.9, basemodel__model__layer1=19, basemodel__model__layer2=376, basemodel__model__layer3=115, basemodel__model__layer4=260, basemodel__model__learning_rate=0.006900863243230041, basemodel__model__optim=<class 'keras.optimizer_v2.rmsprop.RMSprop'>, basemodel__validation_split=0.18394146222690777, clip_y=140, include_settings=True, poly_degree=3, scaler=StandardScaler();, score=0.092 total time=  11.2s\n",
            "[CV 3/3] END basemodel__batch_size=32, basemodel__epochs=1, basemodel__model__activation1=sigmoid, basemodel__model__activation2=elu, basemodel__model__activation3=elu, basemodel__model__activation4=selu, basemodel__model__dropout1=0.40479972666962083, basemodel__model__dropout2=0.32416470136521724, basemodel__model__dropout3=0.541316669242394, basemodel__model__dropout4=0.9, basemodel__model__layer1=19, basemodel__model__layer2=376, basemodel__model__layer3=115, basemodel__model__layer4=260, basemodel__model__learning_rate=0.006900863243230041, basemodel__model__optim=<class 'keras.optimizer_v2.rmsprop.RMSprop'>, basemodel__validation_split=0.18394146222690777, clip_y=140, include_settings=True, poly_degree=3, scaler=StandardScaler();, score=0.177 total time=  11.2s\n",
            "Fitting 3 folds for each of 1 candidates, totalling 3 fits\n",
            "[CV 1/3] END basemodel__batch_size=141, basemodel__epochs=36, basemodel__model__activation1=relu, basemodel__model__activation2=sigmoid, basemodel__model__activation3=selu, basemodel__model__activation4=elu, basemodel__model__dropout1=0.7422365070024715, basemodel__model__dropout2=0.39459601413639867, basemodel__model__dropout3=0.899967598327164, basemodel__model__dropout4=0.47850497869330644, basemodel__model__layer1=230, basemodel__model__layer2=331, basemodel__model__layer3=135, basemodel__model__layer4=447, basemodel__model__learning_rate=0.0033166363215479124, basemodel__model__optim=<class 'keras.optimizer_v2.adam.Adam'>, basemodel__validation_split=0.3608320292454542, clip_y=89, include_settings=True, poly_degree=2, scaler=StandardScaler();, score=0.399 total time=  51.0s\n",
            "[CV 2/3] END basemodel__batch_size=141, basemodel__epochs=36, basemodel__model__activation1=relu, basemodel__model__activation2=sigmoid, basemodel__model__activation3=selu, basemodel__model__activation4=elu, basemodel__model__dropout1=0.7422365070024715, basemodel__model__dropout2=0.39459601413639867, basemodel__model__dropout3=0.899967598327164, basemodel__model__dropout4=0.47850497869330644, basemodel__model__layer1=230, basemodel__model__layer2=331, basemodel__model__layer3=135, basemodel__model__layer4=447, basemodel__model__learning_rate=0.0033166363215479124, basemodel__model__optim=<class 'keras.optimizer_v2.adam.Adam'>, basemodel__validation_split=0.3608320292454542, clip_y=89, include_settings=True, poly_degree=2, scaler=StandardScaler();, score=0.433 total time=  51.1s\n",
            "[CV 3/3] END basemodel__batch_size=141, basemodel__epochs=36, basemodel__model__activation1=relu, basemodel__model__activation2=sigmoid, basemodel__model__activation3=selu, basemodel__model__activation4=elu, basemodel__model__dropout1=0.7422365070024715, basemodel__model__dropout2=0.39459601413639867, basemodel__model__dropout3=0.899967598327164, basemodel__model__dropout4=0.47850497869330644, basemodel__model__layer1=230, basemodel__model__layer2=331, basemodel__model__layer3=135, basemodel__model__layer4=447, basemodel__model__learning_rate=0.0033166363215479124, basemodel__model__optim=<class 'keras.optimizer_v2.adam.Adam'>, basemodel__validation_split=0.3608320292454542, clip_y=89, include_settings=True, poly_degree=2, scaler=StandardScaler();, score=0.376 total time=  50.9s\n",
            "Fitting 3 folds for each of 1 candidates, totalling 3 fits\n",
            "[CV 1/3] END basemodel__batch_size=56, basemodel__epochs=36, basemodel__model__activation1=elu, basemodel__model__activation2=selu, basemodel__model__activation3=selu, basemodel__model__activation4=elu, basemodel__model__dropout1=0.46068828351588686, basemodel__model__dropout2=0.1, basemodel__model__dropout3=0.8325985853987055, basemodel__model__dropout4=0.5873176042338389, basemodel__model__layer1=188, basemodel__model__layer2=18, basemodel__model__layer3=258, basemodel__model__layer4=512, basemodel__model__learning_rate=0.0023993727948353346, basemodel__model__optim=<class 'keras.optimizer_v2.adam.Adam'>, basemodel__validation_split=0.8770566672287562, clip_y=140, include_settings=True, poly_degree=2, scaler=StandardScaler();, score=0.731 total time= 1.5min\n",
            "[CV 2/3] END basemodel__batch_size=56, basemodel__epochs=36, basemodel__model__activation1=elu, basemodel__model__activation2=selu, basemodel__model__activation3=selu, basemodel__model__activation4=elu, basemodel__model__dropout1=0.46068828351588686, basemodel__model__dropout2=0.1, basemodel__model__dropout3=0.8325985853987055, basemodel__model__dropout4=0.5873176042338389, basemodel__model__layer1=188, basemodel__model__layer2=18, basemodel__model__layer3=258, basemodel__model__layer4=512, basemodel__model__learning_rate=0.0023993727948353346, basemodel__model__optim=<class 'keras.optimizer_v2.adam.Adam'>, basemodel__validation_split=0.8770566672287562, clip_y=140, include_settings=True, poly_degree=2, scaler=StandardScaler();, score=0.670 total time= 1.4min\n",
            "[CV 3/3] END basemodel__batch_size=56, basemodel__epochs=36, basemodel__model__activation1=elu, basemodel__model__activation2=selu, basemodel__model__activation3=selu, basemodel__model__activation4=elu, basemodel__model__dropout1=0.46068828351588686, basemodel__model__dropout2=0.1, basemodel__model__dropout3=0.8325985853987055, basemodel__model__dropout4=0.5873176042338389, basemodel__model__layer1=188, basemodel__model__layer2=18, basemodel__model__layer3=258, basemodel__model__layer4=512, basemodel__model__learning_rate=0.0023993727948353346, basemodel__model__optim=<class 'keras.optimizer_v2.adam.Adam'>, basemodel__validation_split=0.8770566672287562, clip_y=140, include_settings=True, poly_degree=2, scaler=StandardScaler();, score=0.694 total time= 1.1min\n",
            "Fitting 3 folds for each of 1 candidates, totalling 3 fits\n",
            "[CV 1/3] END basemodel__batch_size=33, basemodel__epochs=35, basemodel__model__activation1=tanh, basemodel__model__activation2=selu, basemodel__model__activation3=selu, basemodel__model__activation4=selu, basemodel__model__dropout1=0.35902813826517177, basemodel__model__dropout2=0.10018359566403763, basemodel__model__dropout3=0.3129879941596555, basemodel__model__dropout4=0.3715931098343138, basemodel__model__layer1=24, basemodel__model__layer2=209, basemodel__model__layer3=95, basemodel__model__layer4=512, basemodel__model__learning_rate=0.00029766030712635185, basemodel__model__optim=<class 'keras.optimizer_v2.adam.Adam'>, basemodel__validation_split=0.5105596671166837, clip_y=127, include_settings=True, poly_degree=2, scaler=StandardScaler();, score=0.794 total time= 3.0min\n",
            "[CV 2/3] END basemodel__batch_size=33, basemodel__epochs=35, basemodel__model__activation1=tanh, basemodel__model__activation2=selu, basemodel__model__activation3=selu, basemodel__model__activation4=selu, basemodel__model__dropout1=0.35902813826517177, basemodel__model__dropout2=0.10018359566403763, basemodel__model__dropout3=0.3129879941596555, basemodel__model__dropout4=0.3715931098343138, basemodel__model__layer1=24, basemodel__model__layer2=209, basemodel__model__layer3=95, basemodel__model__layer4=512, basemodel__model__learning_rate=0.00029766030712635185, basemodel__model__optim=<class 'keras.optimizer_v2.adam.Adam'>, basemodel__validation_split=0.5105596671166837, clip_y=127, include_settings=True, poly_degree=2, scaler=StandardScaler();, score=0.727 total time= 3.0min\n",
            "[CV 3/3] END basemodel__batch_size=33, basemodel__epochs=35, basemodel__model__activation1=tanh, basemodel__model__activation2=selu, basemodel__model__activation3=selu, basemodel__model__activation4=selu, basemodel__model__dropout1=0.35902813826517177, basemodel__model__dropout2=0.10018359566403763, basemodel__model__dropout3=0.3129879941596555, basemodel__model__dropout4=0.3715931098343138, basemodel__model__layer1=24, basemodel__model__layer2=209, basemodel__model__layer3=95, basemodel__model__layer4=512, basemodel__model__learning_rate=0.00029766030712635185, basemodel__model__optim=<class 'keras.optimizer_v2.adam.Adam'>, basemodel__validation_split=0.5105596671166837, clip_y=127, include_settings=True, poly_degree=2, scaler=StandardScaler();, score=0.743 total time= 3.6min\n",
            "Fitting 3 folds for each of 1 candidates, totalling 3 fits\n",
            "[CV 1/3] END basemodel__batch_size=69, basemodel__epochs=34, basemodel__model__activation1=tanh, basemodel__model__activation2=relu, basemodel__model__activation3=elu, basemodel__model__activation4=elu, basemodel__model__dropout1=0.9, basemodel__model__dropout2=0.1, basemodel__model__dropout3=0.9, basemodel__model__dropout4=0.7008040058281126, basemodel__model__layer1=16, basemodel__model__layer2=378, basemodel__model__layer3=251, basemodel__model__layer4=512, basemodel__model__learning_rate=0.0035059469996241515, basemodel__model__optim=<class 'keras.optimizer_v2.adam.Adam'>, basemodel__validation_split=0.1444678760900246, clip_y=80, include_settings=True, poly_degree=2, scaler=StandardScaler();, score=0.377 total time= 1.1min\n",
            "[CV 2/3] END basemodel__batch_size=69, basemodel__epochs=34, basemodel__model__activation1=tanh, basemodel__model__activation2=relu, basemodel__model__activation3=elu, basemodel__model__activation4=elu, basemodel__model__dropout1=0.9, basemodel__model__dropout2=0.1, basemodel__model__dropout3=0.9, basemodel__model__dropout4=0.7008040058281126, basemodel__model__layer1=16, basemodel__model__layer2=378, basemodel__model__layer3=251, basemodel__model__layer4=512, basemodel__model__learning_rate=0.0035059469996241515, basemodel__model__optim=<class 'keras.optimizer_v2.adam.Adam'>, basemodel__validation_split=0.1444678760900246, clip_y=80, include_settings=True, poly_degree=2, scaler=StandardScaler();, score=0.465 total time=  54.8s\n",
            "[CV 3/3] END basemodel__batch_size=69, basemodel__epochs=34, basemodel__model__activation1=tanh, basemodel__model__activation2=relu, basemodel__model__activation3=elu, basemodel__model__activation4=elu, basemodel__model__dropout1=0.9, basemodel__model__dropout2=0.1, basemodel__model__dropout3=0.9, basemodel__model__dropout4=0.7008040058281126, basemodel__model__layer1=16, basemodel__model__layer2=378, basemodel__model__layer3=251, basemodel__model__layer4=512, basemodel__model__learning_rate=0.0035059469996241515, basemodel__model__optim=<class 'keras.optimizer_v2.adam.Adam'>, basemodel__validation_split=0.1444678760900246, clip_y=80, include_settings=True, poly_degree=2, scaler=StandardScaler();, score=0.572 total time= 1.9min\n",
            "Fitting 3 folds for each of 1 candidates, totalling 3 fits\n",
            "[CV 1/3] END basemodel__batch_size=32, basemodel__epochs=43, basemodel__model__activation1=sigmoid, basemodel__model__activation2=relu, basemodel__model__activation3=elu, basemodel__model__activation4=selu, basemodel__model__dropout1=0.9, basemodel__model__dropout2=0.1, basemodel__model__dropout3=0.8584013837980674, basemodel__model__dropout4=0.6333556810652394, basemodel__model__layer1=368, basemodel__model__layer2=365, basemodel__model__layer3=16, basemodel__model__layer4=512, basemodel__model__learning_rate=0.0001, basemodel__model__optim=<class 'keras.optimizer_v2.adam.Adam'>, basemodel__validation_split=0.2899461660792312, clip_y=105, include_settings=True, poly_degree=2, scaler=StandardScaler();, score=-0.000 total time= 4.2min\n",
            "[CV 2/3] END basemodel__batch_size=32, basemodel__epochs=43, basemodel__model__activation1=sigmoid, basemodel__model__activation2=relu, basemodel__model__activation3=elu, basemodel__model__activation4=selu, basemodel__model__dropout1=0.9, basemodel__model__dropout2=0.1, basemodel__model__dropout3=0.8584013837980674, basemodel__model__dropout4=0.6333556810652394, basemodel__model__layer1=368, basemodel__model__layer2=365, basemodel__model__layer3=16, basemodel__model__layer4=512, basemodel__model__learning_rate=0.0001, basemodel__model__optim=<class 'keras.optimizer_v2.adam.Adam'>, basemodel__validation_split=0.2899461660792312, clip_y=105, include_settings=True, poly_degree=2, scaler=StandardScaler();, score=-0.000 total time= 4.2min\n",
            "[CV 3/3] END basemodel__batch_size=32, basemodel__epochs=43, basemodel__model__activation1=sigmoid, basemodel__model__activation2=relu, basemodel__model__activation3=elu, basemodel__model__activation4=selu, basemodel__model__dropout1=0.9, basemodel__model__dropout2=0.1, basemodel__model__dropout3=0.8584013837980674, basemodel__model__dropout4=0.6333556810652394, basemodel__model__layer1=368, basemodel__model__layer2=365, basemodel__model__layer3=16, basemodel__model__layer4=512, basemodel__model__learning_rate=0.0001, basemodel__model__optim=<class 'keras.optimizer_v2.adam.Adam'>, basemodel__validation_split=0.2899461660792312, clip_y=105, include_settings=True, poly_degree=2, scaler=StandardScaler();, score=-0.000 total time= 4.5min\n",
            "Fitting 3 folds for each of 1 candidates, totalling 3 fits\n",
            "[CV 1/3] END basemodel__batch_size=32, basemodel__epochs=3, basemodel__model__activation1=elu, basemodel__model__activation2=relu, basemodel__model__activation3=selu, basemodel__model__activation4=relu, basemodel__model__dropout1=0.4534063986316824, basemodel__model__dropout2=0.6921827490957752, basemodel__model__dropout3=0.21918511136431232, basemodel__model__dropout4=0.1, basemodel__model__layer1=507, basemodel__model__layer2=356, basemodel__model__layer3=512, basemodel__model__layer4=198, basemodel__model__learning_rate=0.006445195628056107, basemodel__model__optim=<class 'keras.optimizer_v2.adam.Adam'>, basemodel__validation_split=0.8543656420278566, clip_y=125, include_settings=True, poly_degree=3, scaler=MinMaxScaler();, score=0.035 total time=  15.4s\n",
            "[CV 2/3] END basemodel__batch_size=32, basemodel__epochs=3, basemodel__model__activation1=elu, basemodel__model__activation2=relu, basemodel__model__activation3=selu, basemodel__model__activation4=relu, basemodel__model__dropout1=0.4534063986316824, basemodel__model__dropout2=0.6921827490957752, basemodel__model__dropout3=0.21918511136431232, basemodel__model__dropout4=0.1, basemodel__model__layer1=507, basemodel__model__layer2=356, basemodel__model__layer3=512, basemodel__model__layer4=198, basemodel__model__learning_rate=0.006445195628056107, basemodel__model__optim=<class 'keras.optimizer_v2.adam.Adam'>, basemodel__validation_split=0.8543656420278566, clip_y=125, include_settings=True, poly_degree=3, scaler=MinMaxScaler();, score=0.004 total time=  15.3s\n",
            "[CV 3/3] END basemodel__batch_size=32, basemodel__epochs=3, basemodel__model__activation1=elu, basemodel__model__activation2=relu, basemodel__model__activation3=selu, basemodel__model__activation4=relu, basemodel__model__dropout1=0.4534063986316824, basemodel__model__dropout2=0.6921827490957752, basemodel__model__dropout3=0.21918511136431232, basemodel__model__dropout4=0.1, basemodel__model__layer1=507, basemodel__model__layer2=356, basemodel__model__layer3=512, basemodel__model__layer4=198, basemodel__model__learning_rate=0.006445195628056107, basemodel__model__optim=<class 'keras.optimizer_v2.adam.Adam'>, basemodel__validation_split=0.8543656420278566, clip_y=125, include_settings=True, poly_degree=3, scaler=MinMaxScaler();, score=-0.064 total time=  15.6s\n",
            "Fitting 3 folds for each of 1 candidates, totalling 3 fits\n",
            "[CV 1/3] END basemodel__batch_size=84, basemodel__epochs=21, basemodel__model__activation1=elu, basemodel__model__activation2=relu, basemodel__model__activation3=relu, basemodel__model__activation4=relu, basemodel__model__dropout1=0.8989147726982418, basemodel__model__dropout2=0.8163339965721372, basemodel__model__dropout3=0.8201195869266468, basemodel__model__dropout4=0.8109088819767429, basemodel__model__layer1=245, basemodel__model__layer2=226, basemodel__model__layer3=416, basemodel__model__layer4=265, basemodel__model__learning_rate=0.0001, basemodel__model__optim=<class 'keras.optimizer_v2.rmsprop.RMSprop'>, basemodel__validation_split=0.7205277835073204, clip_y=104, include_settings=True, poly_degree=2, scaler=StandardScaler();, score=-2.150 total time=  48.2s\n",
            "[CV 2/3] END basemodel__batch_size=84, basemodel__epochs=21, basemodel__model__activation1=elu, basemodel__model__activation2=relu, basemodel__model__activation3=relu, basemodel__model__activation4=relu, basemodel__model__dropout1=0.8989147726982418, basemodel__model__dropout2=0.8163339965721372, basemodel__model__dropout3=0.8201195869266468, basemodel__model__dropout4=0.8109088819767429, basemodel__model__layer1=245, basemodel__model__layer2=226, basemodel__model__layer3=416, basemodel__model__layer4=265, basemodel__model__learning_rate=0.0001, basemodel__model__optim=<class 'keras.optimizer_v2.rmsprop.RMSprop'>, basemodel__validation_split=0.7205277835073204, clip_y=104, include_settings=True, poly_degree=2, scaler=StandardScaler();, score=-2.000 total time=  49.0s\n",
            "[CV 3/3] END basemodel__batch_size=84, basemodel__epochs=21, basemodel__model__activation1=elu, basemodel__model__activation2=relu, basemodel__model__activation3=relu, basemodel__model__activation4=relu, basemodel__model__dropout1=0.8989147726982418, basemodel__model__dropout2=0.8163339965721372, basemodel__model__dropout3=0.8201195869266468, basemodel__model__dropout4=0.8109088819767429, basemodel__model__layer1=245, basemodel__model__layer2=226, basemodel__model__layer3=416, basemodel__model__layer4=265, basemodel__model__learning_rate=0.0001, basemodel__model__optim=<class 'keras.optimizer_v2.rmsprop.RMSprop'>, basemodel__validation_split=0.7205277835073204, clip_y=104, include_settings=True, poly_degree=2, scaler=StandardScaler();, score=-2.146 total time=  49.3s\n",
            "Fitting 3 folds for each of 1 candidates, totalling 3 fits\n",
            "[CV 1/3] END basemodel__batch_size=234, basemodel__epochs=5, basemodel__model__activation1=selu, basemodel__model__activation2=tanh, basemodel__model__activation3=tanh, basemodel__model__activation4=relu, basemodel__model__dropout1=0.2221981810691286, basemodel__model__dropout2=0.6972578070726608, basemodel__model__dropout3=0.5010028241698965, basemodel__model__dropout4=0.1, basemodel__model__layer1=459, basemodel__model__layer2=62, basemodel__model__layer3=359, basemodel__model__layer4=428, basemodel__model__learning_rate=0.0001, basemodel__model__optim=<class 'keras.optimizer_v2.rmsprop.RMSprop'>, basemodel__validation_split=0.3628733137549838, clip_y=121, include_settings=True, poly_degree=3, scaler=StandardScaler();, score=-0.007 total time=   6.9s\n",
            "[CV 2/3] END basemodel__batch_size=234, basemodel__epochs=5, basemodel__model__activation1=selu, basemodel__model__activation2=tanh, basemodel__model__activation3=tanh, basemodel__model__activation4=relu, basemodel__model__dropout1=0.2221981810691286, basemodel__model__dropout2=0.6972578070726608, basemodel__model__dropout3=0.5010028241698965, basemodel__model__dropout4=0.1, basemodel__model__layer1=459, basemodel__model__layer2=62, basemodel__model__layer3=359, basemodel__model__layer4=428, basemodel__model__learning_rate=0.0001, basemodel__model__optim=<class 'keras.optimizer_v2.rmsprop.RMSprop'>, basemodel__validation_split=0.3628733137549838, clip_y=121, include_settings=True, poly_degree=3, scaler=StandardScaler();, score=0.026 total time=   6.7s\n",
            "[CV 3/3] END basemodel__batch_size=234, basemodel__epochs=5, basemodel__model__activation1=selu, basemodel__model__activation2=tanh, basemodel__model__activation3=tanh, basemodel__model__activation4=relu, basemodel__model__dropout1=0.2221981810691286, basemodel__model__dropout2=0.6972578070726608, basemodel__model__dropout3=0.5010028241698965, basemodel__model__dropout4=0.1, basemodel__model__layer1=459, basemodel__model__layer2=62, basemodel__model__layer3=359, basemodel__model__layer4=428, basemodel__model__learning_rate=0.0001, basemodel__model__optim=<class 'keras.optimizer_v2.rmsprop.RMSprop'>, basemodel__validation_split=0.3628733137549838, clip_y=121, include_settings=True, poly_degree=3, scaler=StandardScaler();, score=0.001 total time=   7.4s\n",
            "Fitting 3 folds for each of 1 candidates, totalling 3 fits\n",
            "[CV 1/3] END basemodel__batch_size=349, basemodel__epochs=1, basemodel__model__activation1=tanh, basemodel__model__activation2=relu, basemodel__model__activation3=elu, basemodel__model__activation4=elu, basemodel__model__dropout1=0.5448244684740944, basemodel__model__dropout2=0.6571189469587401, basemodel__model__dropout3=0.9, basemodel__model__dropout4=0.7391795876769817, basemodel__model__layer1=16, basemodel__model__layer2=419, basemodel__model__layer3=512, basemodel__model__layer4=371, basemodel__model__learning_rate=0.01, basemodel__model__optim=<class 'keras.optimizer_v2.adam.Adam'>, basemodel__validation_split=0.1, clip_y=80, include_settings=True, poly_degree=2, scaler=StandardScaler();, score=0.125 total time=   1.7s\n",
            "[CV 2/3] END basemodel__batch_size=349, basemodel__epochs=1, basemodel__model__activation1=tanh, basemodel__model__activation2=relu, basemodel__model__activation3=elu, basemodel__model__activation4=elu, basemodel__model__dropout1=0.5448244684740944, basemodel__model__dropout2=0.6571189469587401, basemodel__model__dropout3=0.9, basemodel__model__dropout4=0.7391795876769817, basemodel__model__layer1=16, basemodel__model__layer2=419, basemodel__model__layer3=512, basemodel__model__layer4=371, basemodel__model__learning_rate=0.01, basemodel__model__optim=<class 'keras.optimizer_v2.adam.Adam'>, basemodel__validation_split=0.1, clip_y=80, include_settings=True, poly_degree=2, scaler=StandardScaler();, score=0.490 total time=   1.6s\n",
            "[CV 3/3] END basemodel__batch_size=349, basemodel__epochs=1, basemodel__model__activation1=tanh, basemodel__model__activation2=relu, basemodel__model__activation3=elu, basemodel__model__activation4=elu, basemodel__model__dropout1=0.5448244684740944, basemodel__model__dropout2=0.6571189469587401, basemodel__model__dropout3=0.9, basemodel__model__dropout4=0.7391795876769817, basemodel__model__layer1=16, basemodel__model__layer2=419, basemodel__model__layer3=512, basemodel__model__layer4=371, basemodel__model__learning_rate=0.01, basemodel__model__optim=<class 'keras.optimizer_v2.adam.Adam'>, basemodel__validation_split=0.1, clip_y=80, include_settings=True, poly_degree=2, scaler=StandardScaler();, score=0.226 total time=   1.7s\n",
            "Fitting 3 folds for each of 1 candidates, totalling 3 fits\n",
            "[CV 1/3] END basemodel__batch_size=383, basemodel__epochs=6, basemodel__model__activation1=selu, basemodel__model__activation2=sigmoid, basemodel__model__activation3=relu, basemodel__model__activation4=elu, basemodel__model__dropout1=0.4202251112181684, basemodel__model__dropout2=0.8726632975410707, basemodel__model__dropout3=0.8723820692243115, basemodel__model__dropout4=0.6845820704093166, basemodel__model__layer1=437, basemodel__model__layer2=38, basemodel__model__layer3=91, basemodel__model__layer4=499, basemodel__model__learning_rate=0.007228058245831864, basemodel__model__optim=<class 'keras.optimizer_v2.rmsprop.RMSprop'>, basemodel__validation_split=0.30719499023591623, clip_y=111, include_settings=True, poly_degree=3, scaler=StandardScaler();, score=0.392 total time=   5.5s\n",
            "[CV 2/3] END basemodel__batch_size=383, basemodel__epochs=6, basemodel__model__activation1=selu, basemodel__model__activation2=sigmoid, basemodel__model__activation3=relu, basemodel__model__activation4=elu, basemodel__model__dropout1=0.4202251112181684, basemodel__model__dropout2=0.8726632975410707, basemodel__model__dropout3=0.8723820692243115, basemodel__model__dropout4=0.6845820704093166, basemodel__model__layer1=437, basemodel__model__layer2=38, basemodel__model__layer3=91, basemodel__model__layer4=499, basemodel__model__learning_rate=0.007228058245831864, basemodel__model__optim=<class 'keras.optimizer_v2.rmsprop.RMSprop'>, basemodel__validation_split=0.30719499023591623, clip_y=111, include_settings=True, poly_degree=3, scaler=StandardScaler();, score=-0.360 total time=   5.4s\n",
            "[CV 3/3] END basemodel__batch_size=383, basemodel__epochs=6, basemodel__model__activation1=selu, basemodel__model__activation2=sigmoid, basemodel__model__activation3=relu, basemodel__model__activation4=elu, basemodel__model__dropout1=0.4202251112181684, basemodel__model__dropout2=0.8726632975410707, basemodel__model__dropout3=0.8723820692243115, basemodel__model__dropout4=0.6845820704093166, basemodel__model__layer1=437, basemodel__model__layer2=38, basemodel__model__layer3=91, basemodel__model__layer4=499, basemodel__model__learning_rate=0.007228058245831864, basemodel__model__optim=<class 'keras.optimizer_v2.rmsprop.RMSprop'>, basemodel__validation_split=0.30719499023591623, clip_y=111, include_settings=True, poly_degree=3, scaler=StandardScaler();, score=0.453 total time=   5.6s\n",
            "Fitting 3 folds for each of 1 candidates, totalling 3 fits\n",
            "[CV 1/3] END basemodel__batch_size=512, basemodel__epochs=35, basemodel__model__activation1=relu, basemodel__model__activation2=relu, basemodel__model__activation3=relu, basemodel__model__activation4=relu, basemodel__model__dropout1=0.1, basemodel__model__dropout2=0.27219497516672564, basemodel__model__dropout3=0.6504411213308028, basemodel__model__dropout4=0.7705921984602953, basemodel__model__layer1=209, basemodel__model__layer2=125, basemodel__model__layer3=298, basemodel__model__layer4=333, basemodel__model__learning_rate=0.00763381752396502, basemodel__model__optim=<class 'keras.optimizer_v2.rmsprop.RMSprop'>, basemodel__validation_split=0.3341713284556976, clip_y=127, include_settings=True, poly_degree=2, scaler=StandardScaler();, score=0.529 total time=  20.7s\n",
            "[CV 2/3] END basemodel__batch_size=512, basemodel__epochs=35, basemodel__model__activation1=relu, basemodel__model__activation2=relu, basemodel__model__activation3=relu, basemodel__model__activation4=relu, basemodel__model__dropout1=0.1, basemodel__model__dropout2=0.27219497516672564, basemodel__model__dropout3=0.6504411213308028, basemodel__model__dropout4=0.7705921984602953, basemodel__model__layer1=209, basemodel__model__layer2=125, basemodel__model__layer3=298, basemodel__model__layer4=333, basemodel__model__learning_rate=0.00763381752396502, basemodel__model__optim=<class 'keras.optimizer_v2.rmsprop.RMSprop'>, basemodel__validation_split=0.3341713284556976, clip_y=127, include_settings=True, poly_degree=2, scaler=StandardScaler();, score=0.679 total time=  20.9s\n",
            "[CV 3/3] END basemodel__batch_size=512, basemodel__epochs=35, basemodel__model__activation1=relu, basemodel__model__activation2=relu, basemodel__model__activation3=relu, basemodel__model__activation4=relu, basemodel__model__dropout1=0.1, basemodel__model__dropout2=0.27219497516672564, basemodel__model__dropout3=0.6504411213308028, basemodel__model__dropout4=0.7705921984602953, basemodel__model__layer1=209, basemodel__model__layer2=125, basemodel__model__layer3=298, basemodel__model__layer4=333, basemodel__model__learning_rate=0.00763381752396502, basemodel__model__optim=<class 'keras.optimizer_v2.rmsprop.RMSprop'>, basemodel__validation_split=0.3341713284556976, clip_y=127, include_settings=True, poly_degree=2, scaler=StandardScaler();, score=0.657 total time=  20.0s\n",
            "Fitting 3 folds for each of 1 candidates, totalling 3 fits\n",
            "[CV 1/3] END basemodel__batch_size=37, basemodel__epochs=33, basemodel__model__activation1=selu, basemodel__model__activation2=sigmoid, basemodel__model__activation3=selu, basemodel__model__activation4=elu, basemodel__model__dropout1=0.40883320416841584, basemodel__model__dropout2=0.2761665968192728, basemodel__model__dropout3=0.27694904900021056, basemodel__model__dropout4=0.43728770564069985, basemodel__model__layer1=130, basemodel__model__layer2=61, basemodel__model__layer3=131, basemodel__model__layer4=512, basemodel__model__learning_rate=0.0005174144704382429, basemodel__model__optim=<class 'keras.optimizer_v2.adam.Adam'>, basemodel__validation_split=0.8113009001533914, clip_y=126, include_settings=True, poly_degree=2, scaler=StandardScaler();, score=0.748 total time= 2.1min\n",
            "[CV 2/3] END basemodel__batch_size=37, basemodel__epochs=33, basemodel__model__activation1=selu, basemodel__model__activation2=sigmoid, basemodel__model__activation3=selu, basemodel__model__activation4=elu, basemodel__model__dropout1=0.40883320416841584, basemodel__model__dropout2=0.2761665968192728, basemodel__model__dropout3=0.27694904900021056, basemodel__model__dropout4=0.43728770564069985, basemodel__model__layer1=130, basemodel__model__layer2=61, basemodel__model__layer3=131, basemodel__model__layer4=512, basemodel__model__learning_rate=0.0005174144704382429, basemodel__model__optim=<class 'keras.optimizer_v2.adam.Adam'>, basemodel__validation_split=0.8113009001533914, clip_y=126, include_settings=True, poly_degree=2, scaler=StandardScaler();, score=0.724 total time= 2.2min\n",
            "[CV 3/3] END basemodel__batch_size=37, basemodel__epochs=33, basemodel__model__activation1=selu, basemodel__model__activation2=sigmoid, basemodel__model__activation3=selu, basemodel__model__activation4=elu, basemodel__model__dropout1=0.40883320416841584, basemodel__model__dropout2=0.2761665968192728, basemodel__model__dropout3=0.27694904900021056, basemodel__model__dropout4=0.43728770564069985, basemodel__model__layer1=130, basemodel__model__layer2=61, basemodel__model__layer3=131, basemodel__model__layer4=512, basemodel__model__learning_rate=0.0005174144704382429, basemodel__model__optim=<class 'keras.optimizer_v2.adam.Adam'>, basemodel__validation_split=0.8113009001533914, clip_y=126, include_settings=True, poly_degree=2, scaler=StandardScaler();, score=0.718 total time= 2.2min\n",
            "Fitting 3 folds for each of 1 candidates, totalling 3 fits\n",
            "[CV 1/3] END basemodel__batch_size=85, basemodel__epochs=16, basemodel__model__activation1=selu, basemodel__model__activation2=selu, basemodel__model__activation3=selu, basemodel__model__activation4=relu, basemodel__model__dropout1=0.6396950023600042, basemodel__model__dropout2=0.7521013869493187, basemodel__model__dropout3=0.8071839798525763, basemodel__model__dropout4=0.3936145379413263, basemodel__model__layer1=472, basemodel__model__layer2=454, basemodel__model__layer3=16, basemodel__model__layer4=512, basemodel__model__learning_rate=0.0001, basemodel__model__optim=<class 'keras.optimizer_v2.adam.Adam'>, basemodel__validation_split=0.6048046576437525, clip_y=133, include_settings=True, poly_degree=2, scaler=StandardScaler();, score=-2.654 total time=  34.2s\n",
            "[CV 2/3] END basemodel__batch_size=85, basemodel__epochs=16, basemodel__model__activation1=selu, basemodel__model__activation2=selu, basemodel__model__activation3=selu, basemodel__model__activation4=relu, basemodel__model__dropout1=0.6396950023600042, basemodel__model__dropout2=0.7521013869493187, basemodel__model__dropout3=0.8071839798525763, basemodel__model__dropout4=0.3936145379413263, basemodel__model__layer1=472, basemodel__model__layer2=454, basemodel__model__layer3=16, basemodel__model__layer4=512, basemodel__model__learning_rate=0.0001, basemodel__model__optim=<class 'keras.optimizer_v2.adam.Adam'>, basemodel__validation_split=0.6048046576437525, clip_y=133, include_settings=True, poly_degree=2, scaler=StandardScaler();, score=-2.710 total time=  34.6s\n",
            "[CV 3/3] END basemodel__batch_size=85, basemodel__epochs=16, basemodel__model__activation1=selu, basemodel__model__activation2=selu, basemodel__model__activation3=selu, basemodel__model__activation4=relu, basemodel__model__dropout1=0.6396950023600042, basemodel__model__dropout2=0.7521013869493187, basemodel__model__dropout3=0.8071839798525763, basemodel__model__dropout4=0.3936145379413263, basemodel__model__layer1=472, basemodel__model__layer2=454, basemodel__model__layer3=16, basemodel__model__layer4=512, basemodel__model__learning_rate=0.0001, basemodel__model__optim=<class 'keras.optimizer_v2.adam.Adam'>, basemodel__validation_split=0.6048046576437525, clip_y=133, include_settings=True, poly_degree=2, scaler=StandardScaler();, score=-2.649 total time=  33.9s\n",
            "Fitting 3 folds for each of 1 candidates, totalling 3 fits\n",
            "[CV 1/3] END basemodel__batch_size=512, basemodel__epochs=25, basemodel__model__activation1=selu, basemodel__model__activation2=selu, basemodel__model__activation3=tanh, basemodel__model__activation4=tanh, basemodel__model__dropout1=0.655620974749605, basemodel__model__dropout2=0.2974547994773363, basemodel__model__dropout3=0.6587846901421721, basemodel__model__dropout4=0.769367350020309, basemodel__model__layer1=192, basemodel__model__layer2=345, basemodel__model__layer3=335, basemodel__model__layer4=234, basemodel__model__learning_rate=0.006887467594454235, basemodel__model__optim=<class 'keras.optimizer_v2.rmsprop.RMSprop'>, basemodel__validation_split=0.17885820647829948, clip_y=84, include_settings=True, poly_degree=2, scaler=StandardScaler();, score=0.636 total time=  15.8s\n",
            "[CV 2/3] END basemodel__batch_size=512, basemodel__epochs=25, basemodel__model__activation1=selu, basemodel__model__activation2=selu, basemodel__model__activation3=tanh, basemodel__model__activation4=tanh, basemodel__model__dropout1=0.655620974749605, basemodel__model__dropout2=0.2974547994773363, basemodel__model__dropout3=0.6587846901421721, basemodel__model__dropout4=0.769367350020309, basemodel__model__layer1=192, basemodel__model__layer2=345, basemodel__model__layer3=335, basemodel__model__layer4=234, basemodel__model__learning_rate=0.006887467594454235, basemodel__model__optim=<class 'keras.optimizer_v2.rmsprop.RMSprop'>, basemodel__validation_split=0.17885820647829948, clip_y=84, include_settings=True, poly_degree=2, scaler=StandardScaler();, score=0.398 total time=  15.9s\n",
            "[CV 3/3] END basemodel__batch_size=512, basemodel__epochs=25, basemodel__model__activation1=selu, basemodel__model__activation2=selu, basemodel__model__activation3=tanh, basemodel__model__activation4=tanh, basemodel__model__dropout1=0.655620974749605, basemodel__model__dropout2=0.2974547994773363, basemodel__model__dropout3=0.6587846901421721, basemodel__model__dropout4=0.769367350020309, basemodel__model__layer1=192, basemodel__model__layer2=345, basemodel__model__layer3=335, basemodel__model__layer4=234, basemodel__model__learning_rate=0.006887467594454235, basemodel__model__optim=<class 'keras.optimizer_v2.rmsprop.RMSprop'>, basemodel__validation_split=0.17885820647829948, clip_y=84, include_settings=True, poly_degree=2, scaler=StandardScaler();, score=0.595 total time=  15.8s\n",
            "Fitting 3 folds for each of 1 candidates, totalling 3 fits\n",
            "[CV 1/3] END basemodel__batch_size=32, basemodel__epochs=33, basemodel__model__activation1=elu, basemodel__model__activation2=tanh, basemodel__model__activation3=elu, basemodel__model__activation4=selu, basemodel__model__dropout1=0.9, basemodel__model__dropout2=0.22528540897801685, basemodel__model__dropout3=0.32285208575381763, basemodel__model__dropout4=0.9, basemodel__model__layer1=351, basemodel__model__layer2=140, basemodel__model__layer3=29, basemodel__model__layer4=457, basemodel__model__learning_rate=0.0010303758999695067, basemodel__model__optim=<class 'keras.optimizer_v2.adam.Adam'>, basemodel__validation_split=0.7597199279862418, clip_y=139, include_settings=True, poly_degree=3, scaler=StandardScaler();, score=0.677 total time= 2.7min\n",
            "[CV 2/3] END basemodel__batch_size=32, basemodel__epochs=33, basemodel__model__activation1=elu, basemodel__model__activation2=tanh, basemodel__model__activation3=elu, basemodel__model__activation4=selu, basemodel__model__dropout1=0.9, basemodel__model__dropout2=0.22528540897801685, basemodel__model__dropout3=0.32285208575381763, basemodel__model__dropout4=0.9, basemodel__model__layer1=351, basemodel__model__layer2=140, basemodel__model__layer3=29, basemodel__model__layer4=457, basemodel__model__learning_rate=0.0010303758999695067, basemodel__model__optim=<class 'keras.optimizer_v2.adam.Adam'>, basemodel__validation_split=0.7597199279862418, clip_y=139, include_settings=True, poly_degree=3, scaler=StandardScaler();, score=0.669 total time= 2.7min\n",
            "[CV 3/3] END basemodel__batch_size=32, basemodel__epochs=33, basemodel__model__activation1=elu, basemodel__model__activation2=tanh, basemodel__model__activation3=elu, basemodel__model__activation4=selu, basemodel__model__dropout1=0.9, basemodel__model__dropout2=0.22528540897801685, basemodel__model__dropout3=0.32285208575381763, basemodel__model__dropout4=0.9, basemodel__model__layer1=351, basemodel__model__layer2=140, basemodel__model__layer3=29, basemodel__model__layer4=457, basemodel__model__learning_rate=0.0010303758999695067, basemodel__model__optim=<class 'keras.optimizer_v2.adam.Adam'>, basemodel__validation_split=0.7597199279862418, clip_y=139, include_settings=True, poly_degree=3, scaler=StandardScaler();, score=0.667 total time= 2.6min\n",
            "Fitting 3 folds for each of 1 candidates, totalling 3 fits\n",
            "[CV 1/3] END basemodel__batch_size=32, basemodel__epochs=9, basemodel__model__activation1=sigmoid, basemodel__model__activation2=relu, basemodel__model__activation3=relu, basemodel__model__activation4=sigmoid, basemodel__model__dropout1=0.34861872016659545, basemodel__model__dropout2=0.25976456730943454, basemodel__model__dropout3=0.3946039083683426, basemodel__model__dropout4=0.17688322397950335, basemodel__model__layer1=365, basemodel__model__layer2=111, basemodel__model__layer3=512, basemodel__model__layer4=512, basemodel__model__learning_rate=0.0009113803325077271, basemodel__model__optim=<class 'keras.optimizer_v2.rmsprop.RMSprop'>, basemodel__validation_split=0.16043228625162922, clip_y=90, include_settings=True, poly_degree=3, scaler=StandardScaler();, score=-0.000 total time= 1.6min\n",
            "[CV 2/3] END basemodel__batch_size=32, basemodel__epochs=9, basemodel__model__activation1=sigmoid, basemodel__model__activation2=relu, basemodel__model__activation3=relu, basemodel__model__activation4=sigmoid, basemodel__model__dropout1=0.34861872016659545, basemodel__model__dropout2=0.25976456730943454, basemodel__model__dropout3=0.3946039083683426, basemodel__model__dropout4=0.17688322397950335, basemodel__model__layer1=365, basemodel__model__layer2=111, basemodel__model__layer3=512, basemodel__model__layer4=512, basemodel__model__learning_rate=0.0009113803325077271, basemodel__model__optim=<class 'keras.optimizer_v2.rmsprop.RMSprop'>, basemodel__validation_split=0.16043228625162922, clip_y=90, include_settings=True, poly_degree=3, scaler=StandardScaler();, score=-0.001 total time= 1.6min\n",
            "[CV 3/3] END basemodel__batch_size=32, basemodel__epochs=9, basemodel__model__activation1=sigmoid, basemodel__model__activation2=relu, basemodel__model__activation3=relu, basemodel__model__activation4=sigmoid, basemodel__model__dropout1=0.34861872016659545, basemodel__model__dropout2=0.25976456730943454, basemodel__model__dropout3=0.3946039083683426, basemodel__model__dropout4=0.17688322397950335, basemodel__model__layer1=365, basemodel__model__layer2=111, basemodel__model__layer3=512, basemodel__model__layer4=512, basemodel__model__learning_rate=0.0009113803325077271, basemodel__model__optim=<class 'keras.optimizer_v2.rmsprop.RMSprop'>, basemodel__validation_split=0.16043228625162922, clip_y=90, include_settings=True, poly_degree=3, scaler=StandardScaler();, score=-0.001 total time= 1.5min\n",
            "Fitting 3 folds for each of 1 candidates, totalling 3 fits\n",
            "[CV 1/3] END basemodel__batch_size=32, basemodel__epochs=2, basemodel__model__activation1=elu, basemodel__model__activation2=sigmoid, basemodel__model__activation3=relu, basemodel__model__activation4=relu, basemodel__model__dropout1=0.7841684716183569, basemodel__model__dropout2=0.1, basemodel__model__dropout3=0.7672285100505126, basemodel__model__dropout4=0.3317503804231101, basemodel__model__layer1=16, basemodel__model__layer2=383, basemodel__model__layer3=512, basemodel__model__layer4=512, basemodel__model__learning_rate=0.0001, basemodel__model__optim=<class 'keras.optimizer_v2.rmsprop.RMSprop'>, basemodel__validation_split=0.1, clip_y=109, include_settings=True, poly_degree=3, scaler=StandardScaler();, score=0.016 total time=  22.1s\n",
            "[CV 2/3] END basemodel__batch_size=32, basemodel__epochs=2, basemodel__model__activation1=elu, basemodel__model__activation2=sigmoid, basemodel__model__activation3=relu, basemodel__model__activation4=relu, basemodel__model__dropout1=0.7841684716183569, basemodel__model__dropout2=0.1, basemodel__model__dropout3=0.7672285100505126, basemodel__model__dropout4=0.3317503804231101, basemodel__model__layer1=16, basemodel__model__layer2=383, basemodel__model__layer3=512, basemodel__model__layer4=512, basemodel__model__learning_rate=0.0001, basemodel__model__optim=<class 'keras.optimizer_v2.rmsprop.RMSprop'>, basemodel__validation_split=0.1, clip_y=109, include_settings=True, poly_degree=3, scaler=StandardScaler();, score=0.012 total time=  21.8s\n",
            "[CV 3/3] END basemodel__batch_size=32, basemodel__epochs=2, basemodel__model__activation1=elu, basemodel__model__activation2=sigmoid, basemodel__model__activation3=relu, basemodel__model__activation4=relu, basemodel__model__dropout1=0.7841684716183569, basemodel__model__dropout2=0.1, basemodel__model__dropout3=0.7672285100505126, basemodel__model__dropout4=0.3317503804231101, basemodel__model__layer1=16, basemodel__model__layer2=383, basemodel__model__layer3=512, basemodel__model__layer4=512, basemodel__model__learning_rate=0.0001, basemodel__model__optim=<class 'keras.optimizer_v2.rmsprop.RMSprop'>, basemodel__validation_split=0.1, clip_y=109, include_settings=True, poly_degree=3, scaler=StandardScaler();, score=0.020 total time=  22.1s\n",
            "Fitting 3 folds for each of 1 candidates, totalling 3 fits\n",
            "[CV 1/3] END basemodel__batch_size=43, basemodel__epochs=33, basemodel__model__activation1=sigmoid, basemodel__model__activation2=selu, basemodel__model__activation3=selu, basemodel__model__activation4=sigmoid, basemodel__model__dropout1=0.21428513773099567, basemodel__model__dropout2=0.1, basemodel__model__dropout3=0.681212212090723, basemodel__model__dropout4=0.5617981868212399, basemodel__model__layer1=191, basemodel__model__layer2=103, basemodel__model__layer3=319, basemodel__model__layer4=483, basemodel__model__learning_rate=0.0012203766633539206, basemodel__model__optim=<class 'keras.optimizer_v2.adam.Adam'>, basemodel__validation_split=0.8683229033215776, clip_y=103, include_settings=True, poly_degree=2, scaler=StandardScaler();, score=-0.000 total time=  51.3s\n",
            "[CV 2/3] END basemodel__batch_size=43, basemodel__epochs=33, basemodel__model__activation1=sigmoid, basemodel__model__activation2=selu, basemodel__model__activation3=selu, basemodel__model__activation4=sigmoid, basemodel__model__dropout1=0.21428513773099567, basemodel__model__dropout2=0.1, basemodel__model__dropout3=0.681212212090723, basemodel__model__dropout4=0.5617981868212399, basemodel__model__layer1=191, basemodel__model__layer2=103, basemodel__model__layer3=319, basemodel__model__layer4=483, basemodel__model__learning_rate=0.0012203766633539206, basemodel__model__optim=<class 'keras.optimizer_v2.adam.Adam'>, basemodel__validation_split=0.8683229033215776, clip_y=103, include_settings=True, poly_degree=2, scaler=StandardScaler();, score=-0.000 total time=  47.6s\n",
            "[CV 3/3] END basemodel__batch_size=43, basemodel__epochs=33, basemodel__model__activation1=sigmoid, basemodel__model__activation2=selu, basemodel__model__activation3=selu, basemodel__model__activation4=sigmoid, basemodel__model__dropout1=0.21428513773099567, basemodel__model__dropout2=0.1, basemodel__model__dropout3=0.681212212090723, basemodel__model__dropout4=0.5617981868212399, basemodel__model__layer1=191, basemodel__model__layer2=103, basemodel__model__layer3=319, basemodel__model__layer4=483, basemodel__model__learning_rate=0.0012203766633539206, basemodel__model__optim=<class 'keras.optimizer_v2.adam.Adam'>, basemodel__validation_split=0.8683229033215776, clip_y=103, include_settings=True, poly_degree=2, scaler=StandardScaler();, score=-0.000 total time=  32.5s\n",
            "Fitting 3 folds for each of 1 candidates, totalling 3 fits\n",
            "[CV 1/3] END basemodel__batch_size=265, basemodel__epochs=35, basemodel__model__activation1=relu, basemodel__model__activation2=selu, basemodel__model__activation3=selu, basemodel__model__activation4=elu, basemodel__model__dropout1=0.7499672199156607, basemodel__model__dropout2=0.5591637523381862, basemodel__model__dropout3=0.29392372025176516, basemodel__model__dropout4=0.7440397743729775, basemodel__model__layer1=21, basemodel__model__layer2=185, basemodel__model__layer3=326, basemodel__model__layer4=357, basemodel__model__learning_rate=0.006995194679262099, basemodel__model__optim=<class 'keras.optimizer_v2.adam.Adam'>, basemodel__validation_split=0.4530539748382181, clip_y=112, include_settings=True, poly_degree=2, scaler=StandardScaler();, score=0.688 total time=  19.2s\n",
            "[CV 2/3] END basemodel__batch_size=265, basemodel__epochs=35, basemodel__model__activation1=relu, basemodel__model__activation2=selu, basemodel__model__activation3=selu, basemodel__model__activation4=elu, basemodel__model__dropout1=0.7499672199156607, basemodel__model__dropout2=0.5591637523381862, basemodel__model__dropout3=0.29392372025176516, basemodel__model__dropout4=0.7440397743729775, basemodel__model__layer1=21, basemodel__model__layer2=185, basemodel__model__layer3=326, basemodel__model__layer4=357, basemodel__model__learning_rate=0.006995194679262099, basemodel__model__optim=<class 'keras.optimizer_v2.adam.Adam'>, basemodel__validation_split=0.4530539748382181, clip_y=112, include_settings=True, poly_degree=2, scaler=StandardScaler();, score=0.667 total time=  27.4s\n",
            "[CV 3/3] END basemodel__batch_size=265, basemodel__epochs=35, basemodel__model__activation1=relu, basemodel__model__activation2=selu, basemodel__model__activation3=selu, basemodel__model__activation4=elu, basemodel__model__dropout1=0.7499672199156607, basemodel__model__dropout2=0.5591637523381862, basemodel__model__dropout3=0.29392372025176516, basemodel__model__dropout4=0.7440397743729775, basemodel__model__layer1=21, basemodel__model__layer2=185, basemodel__model__layer3=326, basemodel__model__layer4=357, basemodel__model__learning_rate=0.006995194679262099, basemodel__model__optim=<class 'keras.optimizer_v2.adam.Adam'>, basemodel__validation_split=0.4530539748382181, clip_y=112, include_settings=True, poly_degree=2, scaler=StandardScaler();, score=0.611 total time=  22.9s\n",
            "Fitting 3 folds for each of 1 candidates, totalling 3 fits\n",
            "[CV 1/3] END basemodel__batch_size=32, basemodel__epochs=35, basemodel__model__activation1=relu, basemodel__model__activation2=sigmoid, basemodel__model__activation3=tanh, basemodel__model__activation4=elu, basemodel__model__dropout1=0.37457741317320314, basemodel__model__dropout2=0.1, basemodel__model__dropout3=0.6911056886066497, basemodel__model__dropout4=0.5844862401623246, basemodel__model__layer1=38, basemodel__model__layer2=207, basemodel__model__layer3=71, basemodel__model__layer4=104, basemodel__model__learning_rate=0.000560966201711414, basemodel__model__optim=<class 'keras.optimizer_v2.adam.Adam'>, basemodel__validation_split=0.5459559020971627, clip_y=133, include_settings=True, poly_degree=2, scaler=StandardScaler();, score=0.764 total time= 3.5min\n",
            "[CV 2/3] END basemodel__batch_size=32, basemodel__epochs=35, basemodel__model__activation1=relu, basemodel__model__activation2=sigmoid, basemodel__model__activation3=tanh, basemodel__model__activation4=elu, basemodel__model__dropout1=0.37457741317320314, basemodel__model__dropout2=0.1, basemodel__model__dropout3=0.6911056886066497, basemodel__model__dropout4=0.5844862401623246, basemodel__model__layer1=38, basemodel__model__layer2=207, basemodel__model__layer3=71, basemodel__model__layer4=104, basemodel__model__learning_rate=0.000560966201711414, basemodel__model__optim=<class 'keras.optimizer_v2.adam.Adam'>, basemodel__validation_split=0.5459559020971627, clip_y=133, include_settings=True, poly_degree=2, scaler=StandardScaler();, score=0.701 total time= 3.4min\n",
            "[CV 3/3] END basemodel__batch_size=32, basemodel__epochs=35, basemodel__model__activation1=relu, basemodel__model__activation2=sigmoid, basemodel__model__activation3=tanh, basemodel__model__activation4=elu, basemodel__model__dropout1=0.37457741317320314, basemodel__model__dropout2=0.1, basemodel__model__dropout3=0.6911056886066497, basemodel__model__dropout4=0.5844862401623246, basemodel__model__layer1=38, basemodel__model__layer2=207, basemodel__model__layer3=71, basemodel__model__layer4=104, basemodel__model__learning_rate=0.000560966201711414, basemodel__model__optim=<class 'keras.optimizer_v2.adam.Adam'>, basemodel__validation_split=0.5459559020971627, clip_y=133, include_settings=True, poly_degree=2, scaler=StandardScaler();, score=0.724 total time= 3.1min\n",
            "Fitting 3 folds for each of 1 candidates, totalling 3 fits\n",
            "[CV 1/3] END basemodel__batch_size=33, basemodel__epochs=16, basemodel__model__activation1=elu, basemodel__model__activation2=sigmoid, basemodel__model__activation3=selu, basemodel__model__activation4=elu, basemodel__model__dropout1=0.9, basemodel__model__dropout2=0.7836679875607939, basemodel__model__dropout3=0.9, basemodel__model__dropout4=0.10697059152131501, basemodel__model__layer1=217, basemodel__model__layer2=159, basemodel__model__layer3=498, basemodel__model__layer4=364, basemodel__model__learning_rate=0.0003688177582885498, basemodel__model__optim=<class 'keras.optimizer_v2.rmsprop.RMSprop'>, basemodel__validation_split=0.3397633206943479, clip_y=80, include_settings=True, poly_degree=3, scaler=StandardScaler();, score=0.600 total time= 2.2min\n",
            "[CV 2/3] END basemodel__batch_size=33, basemodel__epochs=16, basemodel__model__activation1=elu, basemodel__model__activation2=sigmoid, basemodel__model__activation3=selu, basemodel__model__activation4=elu, basemodel__model__dropout1=0.9, basemodel__model__dropout2=0.7836679875607939, basemodel__model__dropout3=0.9, basemodel__model__dropout4=0.10697059152131501, basemodel__model__layer1=217, basemodel__model__layer2=159, basemodel__model__layer3=498, basemodel__model__layer4=364, basemodel__model__learning_rate=0.0003688177582885498, basemodel__model__optim=<class 'keras.optimizer_v2.rmsprop.RMSprop'>, basemodel__validation_split=0.3397633206943479, clip_y=80, include_settings=True, poly_degree=3, scaler=StandardScaler();, score=0.520 total time= 2.3min\n",
            "[CV 3/3] END basemodel__batch_size=33, basemodel__epochs=16, basemodel__model__activation1=elu, basemodel__model__activation2=sigmoid, basemodel__model__activation3=selu, basemodel__model__activation4=elu, basemodel__model__dropout1=0.9, basemodel__model__dropout2=0.7836679875607939, basemodel__model__dropout3=0.9, basemodel__model__dropout4=0.10697059152131501, basemodel__model__layer1=217, basemodel__model__layer2=159, basemodel__model__layer3=498, basemodel__model__layer4=364, basemodel__model__learning_rate=0.0003688177582885498, basemodel__model__optim=<class 'keras.optimizer_v2.rmsprop.RMSprop'>, basemodel__validation_split=0.3397633206943479, clip_y=80, include_settings=True, poly_degree=3, scaler=StandardScaler();, score=0.584 total time= 2.2min\n",
            "Fitting 3 folds for each of 1 candidates, totalling 3 fits\n",
            "[CV 1/3] END basemodel__batch_size=405, basemodel__epochs=25, basemodel__model__activation1=sigmoid, basemodel__model__activation2=sigmoid, basemodel__model__activation3=relu, basemodel__model__activation4=elu, basemodel__model__dropout1=0.6209824854835471, basemodel__model__dropout2=0.19197176086970855, basemodel__model__dropout3=0.7534187952278445, basemodel__model__dropout4=0.6922221498869574, basemodel__model__layer1=498, basemodel__model__layer2=468, basemodel__model__layer3=290, basemodel__model__layer4=212, basemodel__model__learning_rate=0.006320770243542207, basemodel__model__optim=<class 'keras.optimizer_v2.rmsprop.RMSprop'>, basemodel__validation_split=0.47375503976827393, clip_y=114, include_settings=True, poly_degree=2, scaler=StandardScaler();, score=0.515 total time=  17.0s\n",
            "[CV 2/3] END basemodel__batch_size=405, basemodel__epochs=25, basemodel__model__activation1=sigmoid, basemodel__model__activation2=sigmoid, basemodel__model__activation3=relu, basemodel__model__activation4=elu, basemodel__model__dropout1=0.6209824854835471, basemodel__model__dropout2=0.19197176086970855, basemodel__model__dropout3=0.7534187952278445, basemodel__model__dropout4=0.6922221498869574, basemodel__model__layer1=498, basemodel__model__layer2=468, basemodel__model__layer3=290, basemodel__model__layer4=212, basemodel__model__learning_rate=0.006320770243542207, basemodel__model__optim=<class 'keras.optimizer_v2.rmsprop.RMSprop'>, basemodel__validation_split=0.47375503976827393, clip_y=114, include_settings=True, poly_degree=2, scaler=StandardScaler();, score=0.438 total time=  16.2s\n",
            "[CV 3/3] END basemodel__batch_size=405, basemodel__epochs=25, basemodel__model__activation1=sigmoid, basemodel__model__activation2=sigmoid, basemodel__model__activation3=relu, basemodel__model__activation4=elu, basemodel__model__dropout1=0.6209824854835471, basemodel__model__dropout2=0.19197176086970855, basemodel__model__dropout3=0.7534187952278445, basemodel__model__dropout4=0.6922221498869574, basemodel__model__layer1=498, basemodel__model__layer2=468, basemodel__model__layer3=290, basemodel__model__layer4=212, basemodel__model__learning_rate=0.006320770243542207, basemodel__model__optim=<class 'keras.optimizer_v2.rmsprop.RMSprop'>, basemodel__validation_split=0.47375503976827393, clip_y=114, include_settings=True, poly_degree=2, scaler=StandardScaler();, score=0.420 total time=  15.9s\n",
            "Finished: 2022-10-27 10:15:56.157917\n"
          ]
        }
      ]
    },
    {
      "cell_type": "code",
      "source": [
        "# print(bss.best_estimator_)\n",
        "print(bss.best_score_)\n",
        "print(bss.best_params_)\n",
        "print(\"Finished:\", datetime.datetime.now())"
      ],
      "metadata": {
        "id": "lCFQHwbiTITi",
        "colab": {
          "base_uri": "https://localhost:8080/"
        },
        "outputId": "cb92699f-f15b-42f2-cf22-c6d0ba743435"
      },
      "execution_count": 37,
      "outputs": [
        {
          "output_type": "stream",
          "name": "stdout",
          "text": [
            "0.7547335898188002\n",
            "OrderedDict([('basemodel__batch_size', 33), ('basemodel__epochs', 35), ('basemodel__model__activation1', 'tanh'), ('basemodel__model__activation2', 'selu'), ('basemodel__model__activation3', 'selu'), ('basemodel__model__activation4', 'selu'), ('basemodel__model__dropout1', 0.35902813826517177), ('basemodel__model__dropout2', 0.10018359566403763), ('basemodel__model__dropout3', 0.3129879941596555), ('basemodel__model__dropout4', 0.3715931098343138), ('basemodel__model__layer1', 24), ('basemodel__model__layer2', 209), ('basemodel__model__layer3', 95), ('basemodel__model__layer4', 512), ('basemodel__model__learning_rate', 0.00029766030712635185), ('basemodel__model__optim', <class 'keras.optimizer_v2.adam.Adam'>), ('basemodel__validation_split', 0.5105596671166837), ('clip_y', 127), ('include_settings', True), ('poly_degree', 2), ('scaler', StandardScaler())])\n",
            "Finished: 2022-10-27 10:15:56.170894\n"
          ]
        }
      ]
    },
    {
      "cell_type": "code",
      "source": [
        "from skopt.plots import plot_convergence\n",
        "\n",
        "plot_convergence(bss.optimizer_results_)\n",
        "print(\"Finished:\", datetime.datetime.now())"
      ],
      "metadata": {
        "id": "UI82_xeiTITi",
        "colab": {
          "base_uri": "https://localhost:8080/",
          "height": 315
        },
        "outputId": "e61a57d7-7f07-4863-bd6d-732a3826e900"
      },
      "execution_count": 38,
      "outputs": [
        {
          "output_type": "stream",
          "name": "stdout",
          "text": [
            "Finished: 2022-10-27 10:15:56.201919\n"
          ]
        },
        {
          "output_type": "display_data",
          "data": {
            "text/plain": [
              "<Figure size 432x288 with 1 Axes>"
            ],
            "image/png": "[encoded data removed]"
          },
          "metadata": {
            "needs_background": "light"
          }
        }
      ]
    },
    {
      "cell_type": "code",
      "source": [
        "bss.best_params_"
      ],
      "metadata": {
        "id": "y83gny8fTITi",
        "colab": {
          "base_uri": "https://localhost:8080/"
        },
        "outputId": "101d4f78-b48e-402a-fec6-0b24f71cbacf"
      },
      "execution_count": 39,
      "outputs": [
        {
          "output_type": "execute_result",
          "data": {
            "text/plain": [
              "OrderedDict([('basemodel__batch_size', 33),\n",
              "             ('basemodel__epochs', 35),\n",
              "             ('basemodel__model__activation1', 'tanh'),\n",
              "             ('basemodel__model__activation2', 'selu'),\n",
              "             ('basemodel__model__activation3', 'selu'),\n",
              "             ('basemodel__model__activation4', 'selu'),\n",
              "             ('basemodel__model__dropout1', 0.35902813826517177),\n",
              "             ('basemodel__model__dropout2', 0.10018359566403763),\n",
              "             ('basemodel__model__dropout3', 0.3129879941596555),\n",
              "             ('basemodel__model__dropout4', 0.3715931098343138),\n",
              "             ('basemodel__model__layer1', 24),\n",
              "             ('basemodel__model__layer2', 209),\n",
              "             ('basemodel__model__layer3', 95),\n",
              "             ('basemodel__model__layer4', 512),\n",
              "             ('basemodel__model__learning_rate', 0.00029766030712635185),\n",
              "             ('basemodel__model__optim', keras.optimizer_v2.adam.Adam),\n",
              "             ('basemodel__validation_split', 0.5105596671166837),\n",
              "             ('clip_y', 127),\n",
              "             ('include_settings', True),\n",
              "             ('poly_degree', 2),\n",
              "             ('scaler', StandardScaler())])"
            ]
          },
          "metadata": {},
          "execution_count": 39
        }
      ]
    },
    {
      "cell_type": "markdown",
      "source": [
        "# MLP 1-layer "
      ],
      "metadata": {
        "id": "2PYkPPC-tyyd"
      }
    },
    {
      "cell_type": "markdown",
      "source": [
        "\n",
        "\n",
        "## Linear RUL\n",
        "\n",
        "Score: 0.540842574601971  \n",
        "Test: 0.\n",
        "```\n",
        "('basemodel__batch_size', 275),\n",
        "             ('basemodel__epochs', 37),\n",
        "             ('basemodel__model__activation1', 'relu'),\n",
        "             ('basemodel__model__dropout1', 0.2142001322493293),\n",
        "             ('basemodel__model__layer1', 512),\n",
        "             ('basemodel__model__learning_rate', 0.007899917433901438),\n",
        "             ('basemodel__model__optim', keras.optimizer_v2.adam.Adam),\n",
        "             ('basemodel__validation_split', 0.1),\n",
        "             ('include_settings', True),\n",
        "             ('scaler', StandardScaler())\n",
        "```\n",
        "\n",
        "\n",
        "\n",
        "\n",
        "\n"
      ],
      "metadata": {
        "id": "O3mGfle45Bp_"
      }
    },
    {
      "cell_type": "markdown",
      "source": [
        "## Non-Linear RUL\n",
        "Score: 0.8250779110568915  \n",
        "Test: 0.\n",
        "```\n",
        "('basemodel__batch_size', 32),\n",
        "             ('basemodel__epochs', 49),\n",
        "             ('basemodel__model__activation1', 'tanh'),\n",
        "             ('basemodel__model__dropout1', 0.1),\n",
        "             ('basemodel__model__layer1', 512),\n",
        "             ('basemodel__model__learning_rate', 0.01),\n",
        "             ('basemodel__model__optim', keras.optimizer_v2.rmsprop.RMSprop),\n",
        "             ('basemodel__validation_split', 0.14787301913541884),\n",
        "             ('clip_y', 80),\n",
        "             ('include_settings', True),\n",
        "             ('scaler', StandardScaler())\n",
        "```\n",
        "\n"
      ],
      "metadata": {
        "id": "dTLRu7byqa83"
      }
    },
    {
      "cell_type": "markdown",
      "source": [
        "## Linear RUL + Poly\n",
        "Score: 0.5269773808976338  \n",
        "Test: 0.\n",
        "```\n",
        "('basemodel__batch_size', 315),\n",
        "             ('basemodel__epochs', 38),\n",
        "             ('basemodel__model__activation1', 'relu'),\n",
        "             ('basemodel__model__dropout1', 0.38326321899773097),\n",
        "             ('basemodel__model__layer1', 350),\n",
        "             ('basemodel__model__learning_rate', 0.0024970992234534897),\n",
        "             ('basemodel__model__optim', keras.optimizer_v2.rmsprop.RMSprop),\n",
        "             ('basemodel__validation_split', 0.23038975772370296),\n",
        "             ('include_settings', True),\n",
        "             ('poly_degree', 2),\n",
        "             ('scaler', StandardScaler())\n",
        "```\n",
        "\n"
      ],
      "metadata": {
        "id": "3ye2csOKqeCm"
      }
    },
    {
      "cell_type": "markdown",
      "source": [
        "## Non-Linear RUL + Poly\n",
        "Score: 0.7360051567025246  \n",
        "Test: 0.\n",
        "```\n",
        "('basemodel__batch_size', 318),\n",
        "             ('basemodel__epochs', 37),\n",
        "             ('basemodel__model__activation1', 'elu'),\n",
        "             ('basemodel__model__dropout1', 0.1),\n",
        "             ('basemodel__model__layer1', 31),\n",
        "             ('basemodel__model__learning_rate', 0.0064651627718996674),\n",
        "             ('basemodel__model__optim', keras.optimizer_v2.adam.Adam),\n",
        "             ('basemodel__validation_split', 0.1),\n",
        "             ('clip_y', 93),\n",
        "             ('include_settings', True),\n",
        "             ('poly_degree', 2),\n",
        "             ('scaler', StandardScaler())\n",
        "```"
      ],
      "metadata": {
        "id": "F4uFS6aaqfcY"
      }
    },
    {
      "cell_type": "markdown",
      "source": [
        "# MLP 2-layer \n"
      ],
      "metadata": {
        "id": "0Phg7uNOt0qm"
      }
    },
    {
      "cell_type": "markdown",
      "source": [
        "\n",
        "## Linear RUL\n",
        "\n",
        "Score: 0.5434403412387998  \n",
        "Test: 0.\n",
        "```\n",
        "('basemodel__batch_size', 475),\n",
        "             ('basemodel__epochs', 31),\n",
        "             ('basemodel__model__activation1', 'selu'),\n",
        "             ('basemodel__model__activation2', 'sigmoid'),\n",
        "             ('basemodel__model__dropout1', 0.1551853147879086),\n",
        "             ('basemodel__model__dropout2', 0.34328552130273915),\n",
        "             ('basemodel__model__layer1', 115),\n",
        "             ('basemodel__model__layer2', 512),\n",
        "             ('basemodel__model__learning_rate', 0.006720220722226725),\n",
        "             ('basemodel__model__optim', keras.optimizer_v2.adam.Adam),\n",
        "             ('basemodel__validation_split', 0.29870359291003556),\n",
        "             ('include_settings', True),\n",
        "             ('scaler', StandardScaler())\n",
        "```\n"
      ],
      "metadata": {
        "id": "UkQceBLUtuGE"
      }
    },
    {
      "cell_type": "markdown",
      "source": [
        "\n",
        "## Non-Linear RUL\n",
        "Score: 0.8092955367135408  \n",
        "Test: 0.\n",
        "```\n",
        "('basemodel__batch_size', 190),\n",
        "             ('basemodel__epochs', 50),\n",
        "             ('basemodel__model__activation1', 'elu'),\n",
        "             ('basemodel__model__activation2', 'elu'),\n",
        "             ('basemodel__model__dropout1', 0.10508709834130409),\n",
        "             ('basemodel__model__dropout2', 0.15866472852550143),\n",
        "             ('basemodel__model__layer1', 130),\n",
        "             ('basemodel__model__layer2', 512),\n",
        "             ('basemodel__model__learning_rate', 0.01),\n",
        "             ('basemodel__model__optim', keras.optimizer_v2.adam.Adam),\n",
        "             ('basemodel__validation_split', 0.5585747596345988),\n",
        "             ('clip_y', 80),\n",
        "             ('include_settings', True),\n",
        "             ('scaler', StandardScaler())\n",
        "```\n"
      ],
      "metadata": {
        "id": "5zin50NAqnGK"
      }
    },
    {
      "cell_type": "markdown",
      "source": [
        "\n",
        "## Linear RUL + Poly\n",
        "Score: 0.5403727057267015  \n",
        "Test: 0.\n",
        "```\n",
        "('basemodel__batch_size', 123),\n",
        "             ('basemodel__epochs', 50),\n",
        "             ('basemodel__model__activation1', 'selu'),\n",
        "             ('basemodel__model__activation2', 'selu'),\n",
        "             ('basemodel__model__dropout1', 0.2440452992785985),\n",
        "             ('basemodel__model__dropout2', 0.7488072091140527),\n",
        "             ('basemodel__model__layer1', 289),\n",
        "             ('basemodel__model__layer2', 490),\n",
        "             ('basemodel__model__learning_rate', 0.0002194806594294514),\n",
        "             ('basemodel__model__optim', keras.optimizer_v2.adam.Adam),\n",
        "             ('basemodel__validation_split', 0.2571693518261989),\n",
        "             ('include_settings', True),\n",
        "             ('poly_degree', 2),\n",
        "             ('scaler', StandardScaler())\n",
        "```\n"
      ],
      "metadata": {
        "id": "3frzB_ESqjBx"
      }
    },
    {
      "cell_type": "markdown",
      "source": [
        "\n",
        "## Non-Linear RUL + Poly\n",
        "Score: 0.8137440377581179  \n",
        "Test: 0.\n",
        "```\n",
        "('basemodel__batch_size', 330),\n",
        "             ('basemodel__epochs', 28),\n",
        "             ('basemodel__model__activation1', 'selu'),\n",
        "             ('basemodel__model__activation2', 'sigmoid'),\n",
        "             ('basemodel__model__dropout1', 0.35104184791262427),\n",
        "             ('basemodel__model__dropout2', 0.13083828310831028),\n",
        "             ('basemodel__model__layer1', 340),\n",
        "             ('basemodel__model__layer2', 191),\n",
        "             ('basemodel__model__learning_rate', 0.009916920939867237),\n",
        "             ('basemodel__model__optim', keras.optimizer_v2.adam.Adam),\n",
        "             ('basemodel__validation_split', 0.1),\n",
        "             ('clip_y', 87),\n",
        "             ('include_settings', True),\n",
        "             ('poly_degree', 2),\n",
        "             ('scaler', StandardScaler())\n",
        "```"
      ],
      "metadata": {
        "id": "VcKo0MXzqkSv"
      }
    },
    {
      "cell_type": "markdown",
      "source": [
        "# MLP 3-layer (TODO)\n"
      ],
      "metadata": {
        "id": "oj69QW1rV7bz"
      }
    },
    {
      "cell_type": "markdown",
      "source": [
        "\n",
        "## Linear RUL\n",
        "\n",
        "Score: 0.5387760282104624    \n",
        "Test: 0.\n",
        "```\n",
        "('basemodel__batch_size', 314),\n",
        "             ('basemodel__epochs', 28),\n",
        "             ('basemodel__model__activation1', 'tanh'),\n",
        "             ('basemodel__model__activation2', 'selu'),\n",
        "             ('basemodel__model__activation3', 'selu'),\n",
        "             ('basemodel__model__dropout1', 0.23024902825797536),\n",
        "             ('basemodel__model__dropout2', 0.27996962001171605),\n",
        "             ('basemodel__model__dropout3', 0.6837395507589162),\n",
        "             ('basemodel__model__layer1', 288),\n",
        "             ('basemodel__model__layer2', 158),\n",
        "             ('basemodel__model__layer3', 381),\n",
        "             ('basemodel__model__learning_rate', 0.002110763064656101),\n",
        "             ('basemodel__model__optim', keras.optimizer_v2.adam.Adam),\n",
        "             ('basemodel__validation_split', 0.5017895339783691),\n",
        "             ('include_settings', True),\n",
        "             ('scaler', MinMaxScaler())\n",
        "```\n"
      ],
      "metadata": {
        "id": "3VwnynxEV7b0"
      }
    },
    {
      "cell_type": "markdown",
      "source": [
        "\n",
        "## Non-Linear RUL\n",
        "Score: 0.8191894908542713    \n",
        "Test: 0.\n",
        "```\n",
        "('basemodel__batch_size', 277),\n",
        "             ('basemodel__epochs', 50),\n",
        "             ('basemodel__model__activation1', 'tanh'),\n",
        "             ('basemodel__model__activation2', 'selu'),\n",
        "             ('basemodel__model__activation3', 'relu'),\n",
        "             ('basemodel__model__dropout1', 0.15180815010798232),\n",
        "             ('basemodel__model__dropout2', 0.4099007005621048),\n",
        "             ('basemodel__model__dropout3', 0.1),\n",
        "             ('basemodel__model__layer1', 197),\n",
        "             ('basemodel__model__layer2', 353),\n",
        "             ('basemodel__model__layer3', 261),\n",
        "             ('basemodel__model__learning_rate', 0.0041467234962615715),\n",
        "             ('basemodel__model__optim', keras.optimizer_v2.adam.Adam),\n",
        "             ('basemodel__validation_split', 0.17508243717937616),\n",
        "             ('clip_y', 80),\n",
        "             ('include_settings', True),\n",
        "             ('scaler', StandardScaler())\n",
        "```\n"
      ],
      "metadata": {
        "id": "PSDXqDhcqqP3"
      }
    },
    {
      "cell_type": "markdown",
      "source": [
        "\n",
        "## Linear RUL + Poly\n",
        "Score: 0.5434197290446054    \n",
        "Test: 0.\n",
        "```\n",
        "('basemodel__batch_size', 254),\n",
        "             ('basemodel__epochs', 44),\n",
        "             ('basemodel__model__activation1', 'relu'),\n",
        "             ('basemodel__model__activation2', 'selu'),\n",
        "             ('basemodel__model__activation3', 'elu'),\n",
        "             ('basemodel__model__dropout1', 0.22005754217690313),\n",
        "             ('basemodel__model__dropout2', 0.2204345848078386),\n",
        "             ('basemodel__model__dropout3', 0.6505425209498465),\n",
        "             ('basemodel__model__layer1', 165),\n",
        "             ('basemodel__model__layer2', 512),\n",
        "             ('basemodel__model__layer3', 485),\n",
        "             ('basemodel__model__learning_rate', 0.0023431044122668105),\n",
        "             ('basemodel__model__optim', keras.optimizer_v2.adam.Adam),\n",
        "             ('basemodel__validation_split', 0.1),\n",
        "             ('include_settings', True),\n",
        "             ('poly_degree', 3),\n",
        "             ('scaler', StandardScaler())\n",
        "```\n"
      ],
      "metadata": {
        "id": "c7Pa5NVRqrlW"
      }
    },
    {
      "cell_type": "markdown",
      "source": [
        "\n",
        "## Non-Linear RUL + Poly\n",
        "Score: 0.8120876882657063   \n",
        "Test: 0.\n",
        "```\n",
        "('basemodel__batch_size', 127),\n",
        "             ('basemodel__epochs', 32),\n",
        "             ('basemodel__model__activation1', 'tanh'),\n",
        "             ('basemodel__model__activation2', 'sigmoid'),\n",
        "             ('basemodel__model__activation3', 'selu'),\n",
        "             ('basemodel__model__dropout1', 0.3239516474706593),\n",
        "             ('basemodel__model__dropout2', 0.4398002541265835),\n",
        "             ('basemodel__model__dropout3', 0.11820142028402897),\n",
        "             ('basemodel__model__layer1', 300),\n",
        "             ('basemodel__model__layer2', 387),\n",
        "             ('basemodel__model__layer3', 97),\n",
        "             ('basemodel__model__learning_rate', 0.0007470235779685965),\n",
        "             ('basemodel__model__optim', keras.optimizer_v2.adam.Adam),\n",
        "             ('basemodel__validation_split', 0.27478903553784617),\n",
        "             ('clip_y', 88),\n",
        "             ('include_settings', True),\n",
        "             ('poly_degree', 2),\n",
        "             ('scaler', StandardScaler())\n",
        "```"
      ],
      "metadata": {
        "id": "l3UgGmi6qspC"
      }
    },
    {
      "cell_type": "markdown",
      "source": [
        "# MLP 4-layer (TODO)\n"
      ],
      "metadata": {
        "id": "7aAknMTjDeoK"
      }
    },
    {
      "cell_type": "markdown",
      "source": [
        "\n",
        "## Linear RUL\n",
        "\n",
        "Score: 0.542517835612285    \n",
        "Test: 0.\n",
        "```\n",
        "('basemodel__batch_size', 239),\n",
        "             ('basemodel__epochs', 44),\n",
        "             ('basemodel__model__activation1', 'relu'),\n",
        "             ('basemodel__model__activation2', 'sigmoid'),\n",
        "             ('basemodel__model__activation3', 'selu'),\n",
        "             ('basemodel__model__activation4', 'selu'),\n",
        "             ('basemodel__model__dropout1', 0.27228148001908253),\n",
        "             ('basemodel__model__dropout2', 0.7227228862335966),\n",
        "             ('basemodel__model__dropout3', 0.8720098451745675),\n",
        "             ('basemodel__model__dropout4', 0.23520720034744447),\n",
        "             ('basemodel__model__layer1', 222),\n",
        "             ('basemodel__model__layer2', 355),\n",
        "             ('basemodel__model__layer3', 254),\n",
        "             ('basemodel__model__layer4', 94),\n",
        "             ('basemodel__model__learning_rate', 0.006241072056393434),\n",
        "             ('basemodel__model__optim', keras.optimizer_v2.adam.Adam),\n",
        "             ('basemodel__validation_split', 0.3776498733118778),\n",
        "             ('include_settings', True),\n",
        "             ('scaler', StandardScaler())\n",
        "```\n",
        "\n",
        "\n"
      ],
      "metadata": {
        "id": "-rW0kXOCDeoM"
      }
    },
    {
      "cell_type": "markdown",
      "source": [
        "\n",
        "## Non-Linear RUL\n",
        "Score: 0.7979100870641017    \n",
        "Test: 0.\n",
        "```\n",
        "('basemodel__batch_size', 125),\n",
        "             ('basemodel__epochs', 40),\n",
        "             ('basemodel__model__activation1', 'tanh'),\n",
        "             ('basemodel__model__activation2', 'tanh'),\n",
        "             ('basemodel__model__activation3', 'relu'),\n",
        "             ('basemodel__model__activation4', 'selu'),\n",
        "             ('basemodel__model__dropout1', 0.4239282276871049),\n",
        "             ('basemodel__model__dropout2', 0.7682276844296427),\n",
        "             ('basemodel__model__dropout3', 0.37470248079723845),\n",
        "             ('basemodel__model__dropout4', 0.5586631760668447),\n",
        "             ('basemodel__model__layer1', 486),\n",
        "             ('basemodel__model__layer2', 470),\n",
        "             ('basemodel__model__layer3', 244),\n",
        "             ('basemodel__model__layer4', 123),\n",
        "             ('basemodel__model__learning_rate', 0.0006832900387850664),\n",
        "             ('basemodel__model__optim', keras.optimizer_v2.rmsprop.RMSprop),\n",
        "             ('basemodel__validation_split', 0.2233573353320119),\n",
        "             ('clip_y', 80),\n",
        "             ('include_settings', True),\n",
        "             ('scaler', StandardScaler())\n",
        "```\n"
      ],
      "metadata": {
        "id": "Pi44CjBQqwAk"
      }
    },
    {
      "cell_type": "markdown",
      "source": [
        "\n",
        "## Linear RUL + Poly\n",
        "Score: 0.5298866447847905    \n",
        "Test: 0.\n",
        "```\n",
        "('basemodel__batch_size', 370),\n",
        "             ('basemodel__epochs', 33),\n",
        "             ('basemodel__model__activation1', 'elu'),\n",
        "             ('basemodel__model__activation2', 'sigmoid'),\n",
        "             ('basemodel__model__activation3', 'sigmoid'),\n",
        "             ('basemodel__model__activation4', 'elu'),\n",
        "             ('basemodel__model__dropout1', 0.6870110349714994),\n",
        "             ('basemodel__model__dropout2', 0.5029302361015952),\n",
        "             ('basemodel__model__dropout3', 0.5605207131815848),\n",
        "             ('basemodel__model__dropout4', 0.6403930728651405),\n",
        "             ('basemodel__model__layer1', 428),\n",
        "             ('basemodel__model__layer2', 483),\n",
        "             ('basemodel__model__layer3', 286),\n",
        "             ('basemodel__model__layer4', 94),\n",
        "             ('basemodel__model__learning_rate', 0.0032976496820942666),\n",
        "             ('basemodel__model__optim', keras.optimizer_v2.rmsprop.RMSprop),\n",
        "             ('basemodel__validation_split', 0.12379763238695841),\n",
        "             ('include_settings', True),\n",
        "             ('poly_degree', 3),\n",
        "             ('scaler', StandardScaler())\n",
        "```\n"
      ],
      "metadata": {
        "id": "ASEtgutZqyE-"
      }
    },
    {
      "cell_type": "markdown",
      "source": [
        "\n",
        "## Non-Linear RUL + Poly\n",
        "Score: 0.7547335898188002  \n",
        "Test: 0.\n",
        "```\n",
        "('basemodel__batch_size', 33),\n",
        "             ('basemodel__epochs', 35),\n",
        "             ('basemodel__model__activation1', 'tanh'),\n",
        "             ('basemodel__model__activation2', 'selu'),\n",
        "             ('basemodel__model__activation3', 'selu'),\n",
        "             ('basemodel__model__activation4', 'selu'),\n",
        "             ('basemodel__model__dropout1', 0.35902813826517177),\n",
        "             ('basemodel__model__dropout2', 0.10018359566403763),\n",
        "             ('basemodel__model__dropout3', 0.3129879941596555),\n",
        "             ('basemodel__model__dropout4', 0.3715931098343138),\n",
        "             ('basemodel__model__layer1', 24),\n",
        "             ('basemodel__model__layer2', 209),\n",
        "             ('basemodel__model__layer3', 95),\n",
        "             ('basemodel__model__layer4', 512),\n",
        "             ('basemodel__model__learning_rate', 0.00029766030712635185),\n",
        "             ('basemodel__model__optim', keras.optimizer_v2.adam.Adam),\n",
        "             ('basemodel__validation_split', 0.5105596671166837),\n",
        "             ('clip_y', 127),\n",
        "             ('include_settings', True),\n",
        "             ('poly_degree', 2),\n",
        "             ('scaler', StandardScaler())\n",
        "```"
      ],
      "metadata": {
        "id": "_928h4YMqzHs"
      }
    },
    {
      "cell_type": "markdown",
      "source": [
        "# MLP Tester"
      ],
      "metadata": {
        "id": "ppByl3wN_W05"
      }
    },
    {
      "cell_type": "markdown",
      "source": [
        "\n",
        "\n",
        "```\n",
        "('basemodel__batch_size', 32),\n",
        "('basemodel__epochs', 50),\n",
        "('basemodel__model__activation1', 'tanh'),\n",
        "('basemodel__model__activation2', 'elu'),\n",
        "('basemodel__model__dropout1', 0.1),\n",
        "('basemodel__model__dropout2', 0.2107518503547072),\n",
        "('basemodel__model__layer1', 168),\n",
        "('basemodel__model__layer2', 428),\n",
        "('basemodel__model__learning_rate', 0.01),\n",
        "('basemodel__model__optim', keras.optimizer_v2.adam.Adam),\n",
        "('basemodel__validation_split', 0.13631332793413636),\n",
        "('clip_y', 80),\n",
        "('scaler', MinMaxScaler())\n",
        "```\n",
        "\n"
      ],
      "metadata": {
        "id": "8jDtiS0kVaLX"
      }
    },
    {
      "cell_type": "code",
      "source": [
        "CLIP=80\n",
        "\n",
        "model = MLPWrapperRegressor(\n",
        "        clip_y=CLIP, scaler=MinMaxScaler(),\n",
        "        basemodel=\n",
        "            KerasRegressor(model=create_model,\n",
        "                           batch_size=32,\n",
        "                           epochs=50,\n",
        "                           model__activation1='tanh',\n",
        "                           model__activation2='elu',\n",
        "                           model__dropout1=0.1,\n",
        "                           model__dropout2=0.2107518503547072, \n",
        "                           model__layer1=168, \n",
        "                           model__layer2=428, \n",
        "                           model__learning_rate=0.01,\n",
        "                           model__optim=Adam,\n",
        "                           validation_split=0.13631332793413636, \n",
        "                           verbose=0, callbacks=[es, printerCallback],\n",
        "                           model__metrics=[RMSE(), R2()],\n",
        "                           model__loss='mse',\n",
        "                           print_summary=True\n",
        "                           )\n",
        "    )"
      ],
      "metadata": {
        "id": "5p5GYkfQFKtl"
      },
      "execution_count": null,
      "outputs": []
    },
    {
      "cell_type": "code",
      "source": [
        "model.fit(X_train_, y_train)"
      ],
      "metadata": {
        "colab": {
          "base_uri": "https://localhost:8080/"
        },
        "outputId": "43deb2a4-f056-4a3a-862f-bc61dd99751b",
        "id": "wmkoVA33FKtl"
      },
      "execution_count": null,
      "outputs": [
        {
          "output_type": "stream",
          "name": "stdout",
          "text": [
            "Model: \"sequential_270\"\n",
            "_________________________________________________________________\n",
            " Layer (type)                Output Shape              Param #   \n",
            "=================================================================\n",
            " dense_810 (Dense)           (None, 168)               3696      \n",
            "                                                                 \n",
            " dropout_540 (Dropout)       (None, 168)               0         \n",
            "                                                                 \n",
            " dense_811 (Dense)           (None, 428)               72332     \n",
            "                                                                 \n",
            " dropout_541 (Dropout)       (None, 428)               0         \n",
            "                                                                 \n",
            " dense_812 (Dense)           (None, 1)                 429       \n",
            "                                                                 \n",
            "=================================================================\n",
            "Total params: 76,457\n",
            "Trainable params: 76,457\n",
            "Non-trainable params: 0\n",
            "_________________________________________________________________\n",
            "E 1\t: loss=172.561, rmse=13.136, r2=0.712; v_loss=98.196, v_rmse=9.909, v_r2=0.831; \n",
            "E 2\t: loss=96.479, rmse=9.822, r2=0.839; v_loss=117.862, v_rmse=10.856, v_r2=0.797; \n",
            "E 3\t: loss=92.964, rmse=9.642, r2=0.845; v_loss=100.306, v_rmse=10.015, v_r2=0.827; \n",
            "E 4\t: loss=90.220, rmse=9.498, r2=0.849; v_loss=97.442, v_rmse=9.871, v_r2=0.832; \n",
            "E 5\t: loss=92.239, rmse=9.604, r2=0.846; v_loss=96.405, v_rmse=9.819, v_r2=0.834; \n",
            "E 6\t: loss=89.769, rmse=9.475, r2=0.850; v_loss=103.119, v_rmse=10.155, v_r2=0.822; \n",
            "E 7\t: loss=89.589, rmse=9.465, r2=0.850; v_loss=96.367, v_rmse=9.817, v_r2=0.834; \n",
            "E 8\t: loss=90.056, rmse=9.490, r2=0.850; v_loss=99.139, v_rmse=9.957, v_r2=0.829; \n",
            "E 9\t: loss=90.041, rmse=9.489, r2=0.850; v_loss=98.825, v_rmse=9.941, v_r2=0.829; \n",
            "E 10\t: loss=87.168, rmse=9.336, r2=0.854; v_loss=96.307, v_rmse=9.814, v_r2=0.834; \n",
            "E 11\t: loss=87.184, rmse=9.337, r2=0.854; v_loss=88.517, v_rmse=9.408, v_r2=0.847; \n",
            "E 12\t: loss=88.261, rmse=9.395, r2=0.853; v_loss=98.444, v_rmse=9.922, v_r2=0.830; \n",
            "E 13\t: loss=88.111, rmse=9.387, r2=0.853; v_loss=92.551, v_rmse=9.620, v_r2=0.840; \n",
            "E 14\t: loss=87.507, rmse=9.355, r2=0.854; v_loss=99.859, v_rmse=9.993, v_r2=0.828; \n",
            "E 15\t: loss=86.567, rmse=9.304, r2=0.855; v_loss=90.369, v_rmse=9.506, v_r2=0.844; \n",
            "E 16\t: loss=88.983, rmse=9.433, r2=0.851; v_loss=108.208, v_rmse=10.402, v_r2=0.813; \n",
            "E 17\t: loss=86.140, rmse=9.281, r2=0.856; v_loss=96.990, v_rmse=9.848, v_r2=0.833; \n",
            "E 18\t: loss=87.043, rmse=9.330, r2=0.855; v_loss=98.518, v_rmse=9.926, v_r2=0.830; \n",
            "E 19\t: loss=86.823, rmse=9.318, r2=0.855; v_loss=95.459, v_rmse=9.770, v_r2=0.835; \n",
            "E 20\t: loss=86.704, rmse=9.312, r2=0.855; v_loss=104.076, v_rmse=10.202, v_r2=0.820; \n",
            "E 21\t: loss=86.354, rmse=9.293, r2=0.856; v_loss=105.567, v_rmse=10.275, v_r2=0.818; \n",
            "E 22\t: loss=87.145, rmse=9.335, r2=0.854; v_loss=100.988, v_rmse=10.049, v_r2=0.826; \n"
          ]
        },
        {
          "output_type": "execute_result",
          "data": {
            "text/plain": [
              "MLPWrapperRegressor(basemodel=KerasRegressor(batch_size=32, callbacks=[<keras.callbacks.EarlyStopping object at 0x0000017111EAD250>, <keras.callbacks.LambdaCallback object at 0x0000017111EE4C10>], epochs=50, model=<function create_model at 0x0000017111F378B0>, model__activation1='tanh', model__activation2='elu', model__dropout1=0.1, model__dropout2=0.21075185035470...=428, model__learning_rate=0.01, model__loss='mse', model__metrics=[<keras.metrics.RootMeanSquaredError object at 0x00000172AC584D90>, <tensorflow_addons.metrics.r_square.RSquare object at 0x00000172AC584C10>], model__optim=<class 'keras.optimizer_v2.adam.Adam'>, print_summary=True, validation_split=0.13631332793413636, verbose=0),\n",
              "                    clip_y=80, scaler=MinMaxScaler())"
            ]
          },
          "metadata": {},
          "execution_count": 47
        }
      ]
    },
    {
      "cell_type": "code",
      "source": [
        "model.score(X_test, reclipped_y)"
      ],
      "metadata": {
        "colab": {
          "base_uri": "https://localhost:8080/",
          "height": 169
        },
        "id": "BYafN67d77Ix",
        "outputId": "8d049879-214a-41b5-dc6a-e56ac6a56222"
      },
      "execution_count": null,
      "outputs": [
        {
          "output_type": "error",
          "ename": "NameError",
          "evalue": "ignored",
          "traceback": [
            "\u001b[1;31m---------------------------------------------------------------------------\u001b[0m",
            "\u001b[1;31mNameError\u001b[0m                                 Traceback (most recent call last)",
            "\u001b[1;32m<ipython-input-48-083753147b2c>\u001b[0m in \u001b[0;36m<module>\u001b[1;34m\u001b[0m\n\u001b[1;32m----> 1\u001b[1;33m \u001b[0mmodel\u001b[0m\u001b[1;33m.\u001b[0m\u001b[0mscore\u001b[0m\u001b[1;33m(\u001b[0m\u001b[0mX_test\u001b[0m\u001b[1;33m,\u001b[0m \u001b[0mreclipped_y\u001b[0m\u001b[1;33m)\u001b[0m\u001b[1;33m\u001b[0m\u001b[1;33m\u001b[0m\u001b[0m\n\u001b[0m",
            "\u001b[1;31mNameError\u001b[0m: name 'reclipped_y' is not defined"
          ]
        }
      ]
    },
    {
      "cell_type": "code",
      "source": [
        "# Scaling and formatting test data\n",
        "test_sc = scale_test(X_test,model)\n",
        "# test_wr = gen_test_wrapper(test_sc, SEQ_LENGTH)\n",
        "\n",
        "# Clipping test labels\n",
        "reclipped_y = y_test.copy()\n",
        "if (CLIP > 0): reclipped_y=reclipped_y[\"RUL\"].clip(upper=CLIP)\n",
        "\n",
        "# Evaluation\n",
        "eval.show_result(reclipped_y, model.basemodel.predict(test_sc))\n",
        "# eval.show_result(reclipped_y, model.predict(X_test)) ## Doesn't work for LSTM\n",
        "print(\"Finished:\", datetime.datetime.now())"
      ],
      "metadata": {
        "colab": {
          "base_uri": "https://localhost:8080/",
          "height": 616
        },
        "outputId": "a467e049-d97d-4cf2-b5b7-844e03b7b56b",
        "id": "RXnrciV-FKtm"
      },
      "execution_count": null,
      "outputs": [
        {
          "output_type": "error",
          "ename": "NotFittedError",
          "evalue": "ignored",
          "traceback": [
            "\u001b[1;31m---------------------------------------------------------------------------\u001b[0m",
            "\u001b[1;31mNotFittedError\u001b[0m                            Traceback (most recent call last)",
            "\u001b[1;32m<ipython-input-63-bf915f13081c>\u001b[0m in \u001b[0;36m<module>\u001b[1;34m\u001b[0m\n\u001b[0;32m      1\u001b[0m \u001b[1;31m# Scaling and formatting test data\u001b[0m\u001b[1;33m\u001b[0m\u001b[1;33m\u001b[0m\u001b[1;33m\u001b[0m\u001b[0m\n\u001b[1;32m----> 2\u001b[1;33m \u001b[0mtest_sc\u001b[0m \u001b[1;33m=\u001b[0m \u001b[0mscale_test\u001b[0m\u001b[1;33m(\u001b[0m\u001b[0mX_test\u001b[0m\u001b[1;33m,\u001b[0m\u001b[0mmodel\u001b[0m\u001b[1;33m)\u001b[0m\u001b[1;33m\u001b[0m\u001b[1;33m\u001b[0m\u001b[0m\n\u001b[0m\u001b[0;32m      3\u001b[0m \u001b[1;31m# test_wr = gen_test_wrapper(test_sc, SEQ_LENGTH)\u001b[0m\u001b[1;33m\u001b[0m\u001b[1;33m\u001b[0m\u001b[1;33m\u001b[0m\u001b[0m\n\u001b[0;32m      4\u001b[0m \u001b[1;33m\u001b[0m\u001b[0m\n\u001b[0;32m      5\u001b[0m \u001b[1;31m# Clipping test labels\u001b[0m\u001b[1;33m\u001b[0m\u001b[1;33m\u001b[0m\u001b[1;33m\u001b[0m\u001b[0m\n",
            "\u001b[1;32m<ipython-input-34-e36179a483da>\u001b[0m in \u001b[0;36mscale_test\u001b[1;34m(test, model)\u001b[0m\n\u001b[0;32m      4\u001b[0m \u001b[1;33m\u001b[0m\u001b[0m\n\u001b[0;32m      5\u001b[0m     \u001b[1;31m# Apply polynomial features\u001b[0m\u001b[1;33m\u001b[0m\u001b[1;33m\u001b[0m\u001b[1;33m\u001b[0m\u001b[0m\n\u001b[1;32m----> 6\u001b[1;33m     \u001b[0mtransf\u001b[0m \u001b[1;33m=\u001b[0m \u001b[0mmodel\u001b[0m\u001b[1;33m.\u001b[0m\u001b[0mpolyft\u001b[0m\u001b[1;33m.\u001b[0m\u001b[0mtransform\u001b[0m\u001b[1;33m(\u001b[0m\u001b[0mtest2\u001b[0m\u001b[1;33m)\u001b[0m\u001b[1;33m\u001b[0m\u001b[1;33m\u001b[0m\u001b[0m\n\u001b[0m\u001b[0;32m      7\u001b[0m     test2 = pd.DataFrame(transf, \n\u001b[0;32m      8\u001b[0m                          columns=model.polyft.get_feature_names_out())\n",
            "\u001b[1;32mH:\\anaconda3\\lib\\site-packages\\sklearn\\preprocessing\\_polynomial.py\u001b[0m in \u001b[0;36mtransform\u001b[1;34m(self, X)\u001b[0m\n\u001b[0;32m    365\u001b[0m             \u001b[0;31m`\u001b[0m\u001b[0mcsr_matrix\u001b[0m\u001b[0;31m`\u001b[0m\u001b[1;33m.\u001b[0m\u001b[1;33m\u001b[0m\u001b[1;33m\u001b[0m\u001b[0m\n\u001b[0;32m    366\u001b[0m         \"\"\"\n\u001b[1;32m--> 367\u001b[1;33m         \u001b[0mcheck_is_fitted\u001b[0m\u001b[1;33m(\u001b[0m\u001b[0mself\u001b[0m\u001b[1;33m)\u001b[0m\u001b[1;33m\u001b[0m\u001b[1;33m\u001b[0m\u001b[0m\n\u001b[0m\u001b[0;32m    368\u001b[0m \u001b[1;33m\u001b[0m\u001b[0m\n\u001b[0;32m    369\u001b[0m         X = self._validate_data(\n",
            "\u001b[1;32mH:\\anaconda3\\lib\\site-packages\\sklearn\\utils\\validation.py\u001b[0m in \u001b[0;36mcheck_is_fitted\u001b[1;34m(estimator, attributes, msg, all_or_any)\u001b[0m\n\u001b[0;32m   1220\u001b[0m \u001b[1;33m\u001b[0m\u001b[0m\n\u001b[0;32m   1221\u001b[0m     \u001b[1;32mif\u001b[0m \u001b[1;32mnot\u001b[0m \u001b[0mfitted\u001b[0m\u001b[1;33m:\u001b[0m\u001b[1;33m\u001b[0m\u001b[1;33m\u001b[0m\u001b[0m\n\u001b[1;32m-> 1222\u001b[1;33m         \u001b[1;32mraise\u001b[0m \u001b[0mNotFittedError\u001b[0m\u001b[1;33m(\u001b[0m\u001b[0mmsg\u001b[0m \u001b[1;33m%\u001b[0m \u001b[1;33m{\u001b[0m\u001b[1;34m\"name\"\u001b[0m\u001b[1;33m:\u001b[0m \u001b[0mtype\u001b[0m\u001b[1;33m(\u001b[0m\u001b[0mestimator\u001b[0m\u001b[1;33m)\u001b[0m\u001b[1;33m.\u001b[0m\u001b[0m__name__\u001b[0m\u001b[1;33m}\u001b[0m\u001b[1;33m)\u001b[0m\u001b[1;33m\u001b[0m\u001b[1;33m\u001b[0m\u001b[0m\n\u001b[0m\u001b[0;32m   1223\u001b[0m \u001b[1;33m\u001b[0m\u001b[0m\n\u001b[0;32m   1224\u001b[0m \u001b[1;33m\u001b[0m\u001b[0m\n",
            "\u001b[1;31mNotFittedError\u001b[0m: This PolynomialFeatures instance is not fitted yet. Call 'fit' with appropriate arguments before using this estimator."
          ]
        }
      ]
    }
  ]
}