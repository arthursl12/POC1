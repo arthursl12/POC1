{
  "nbformat": 4,
  "nbformat_minor": 0,
  "metadata": {
    "colab": {
      "provenance": [],
      "collapsed_sections": [
        "iqDPLB2EDXSK",
        "AU6ipeRozJz-",
        "n7MBDuPasy-s",
        "e7-_jqRw3cRa",
        "QinQ4hWStzHt",
        "boZqFQNlraCh",
        "fQA-YtFMM81M",
        "f3Or3dZbB5Pr",
        "t18eQ8H3EfGV",
        "Ha2fY8VlWD7p"
      ],
      "toc_visible": true,
      "authorship_tag": "ABX9TyNi7DkxHW/EORjWg9L+1J89",
      "include_colab_link": true
    },
    "kernelspec": {
      "name": "python3",
      "display_name": "Python 3"
    },
    "language_info": {
      "name": "python"
    },
    "accelerator": "GPU"
  },
  "cells": [
    {
      "cell_type": "markdown",
      "metadata": {
        "id": "view-in-github",
        "colab_type": "text"
      },
      "source": [
        "<a href=\"https://colab.research.google.com/github/arthursl12/POC1/blob/main/POC2_FD001_MLP_optim.ipynb\" target=\"_parent\"><img src=\"https://colab.research.google.com/assets/colab-badge.svg\" alt=\"Open In Colab\"/></a>"
      ]
    },
    {
      "cell_type": "markdown",
      "source": [
        "# Imports"
      ],
      "metadata": {
        "id": "iqDPLB2EDXSK"
      }
    },
    {
      "cell_type": "code",
      "source": [
        "%pip install scikeras;\n",
        "%pip install -U tensorflow-addons;\n",
        "%pip install scikit-optimize"
      ],
      "metadata": {
        "colab": {
          "base_uri": "https://localhost:8080/"
        },
        "id": "1ObuYEARk28q",
        "outputId": "829760e9-1e37-4be6-e366-94672e55acb2"
      },
      "execution_count": 1,
      "outputs": [
        {
          "output_type": "stream",
          "name": "stdout",
          "text": [
            "Requirement already satisfied: scikeras in h:\\anaconda3\\lib\\site-packages (0.9.0)\n",
            "Requirement already satisfied: scikit-learn>=1.0.0 in h:\\anaconda3\\lib\\site-packages (from scikeras) (1.0.2)\n",
            "Requirement already satisfied: packaging>=0.21 in h:\\anaconda3\\lib\\site-packages (from scikeras) (20.9)\n",
            "Requirement already satisfied: pyparsing>=2.0.2 in h:\\anaconda3\\lib\\site-packages (from packaging>=0.21->scikeras) (2.4.7)\n",
            "Requirement already satisfied: joblib>=0.11 in h:\\anaconda3\\lib\\site-packages (from scikit-learn>=1.0.0->scikeras) (1.0.1)\n",
            "Requirement already satisfied: scipy>=1.1.0 in h:\\anaconda3\\lib\\site-packages (from scikit-learn>=1.0.0->scikeras) (1.6.2)\n",
            "Requirement already satisfied: threadpoolctl>=2.0.0 in h:\\anaconda3\\lib\\site-packages (from scikit-learn>=1.0.0->scikeras) (2.1.0)\n",
            "Requirement already satisfied: numpy>=1.14.6 in h:\\anaconda3\\lib\\site-packages (from scikit-learn>=1.0.0->scikeras) (1.22.4)\n",
            "Note: you may need to restart the kernel to use updated packages.\n",
            "Requirement already satisfied: tensorflow-addons in h:\\anaconda3\\lib\\site-packages (0.18.0)\n",
            "Requirement already satisfied: typeguard>=2.7 in h:\\anaconda3\\lib\\site-packages (from tensorflow-addons) (2.13.3)\n",
            "Requirement already satisfied: packaging in h:\\anaconda3\\lib\\site-packages (from tensorflow-addons) (20.9)\n",
            "Requirement already satisfied: pyparsing>=2.0.2 in h:\\anaconda3\\lib\\site-packages (from packaging->tensorflow-addons) (2.4.7)\n",
            "Note: you may need to restart the kernel to use updated packages.\n",
            "Requirement already satisfied: scikit-optimize in h:\\anaconda3\\lib\\site-packages (0.9.0)\n",
            "Requirement already satisfied: numpy>=1.13.3 in h:\\anaconda3\\lib\\site-packages (from scikit-optimize) (1.22.4)\n",
            "Requirement already satisfied: joblib>=0.11 in h:\\anaconda3\\lib\\site-packages (from scikit-optimize) (1.0.1)\n",
            "Requirement already satisfied: scikit-learn>=0.20.0 in h:\\anaconda3\\lib\\site-packages (from scikit-optimize) (1.0.2)\n",
            "Requirement already satisfied: pyaml>=16.9 in h:\\anaconda3\\lib\\site-packages (from scikit-optimize) (21.10.1)\n",
            "Requirement already satisfied: scipy>=0.19.1 in h:\\anaconda3\\lib\\site-packages (from scikit-optimize) (1.6.2)\n",
            "Requirement already satisfied: PyYAML in h:\\anaconda3\\lib\\site-packages (from pyaml>=16.9->scikit-optimize) (5.4.1)\n",
            "Requirement already satisfied: threadpoolctl>=2.0.0 in h:\\anaconda3\\lib\\site-packages (from scikit-learn>=0.20.0->scikit-optimize) (2.1.0)\n",
            "Note: you may need to restart the kernel to use updated packages.\n"
          ]
        }
      ]
    },
    {
      "cell_type": "code",
      "source": [
        "import os\n",
        "import random\n",
        "import pandas as pd\n",
        "import matplotlib.pyplot as plt\n",
        "import seaborn as sns\n",
        "import numpy as np\n",
        "import glob\n",
        "import datetime"
      ],
      "metadata": {
        "id": "i0Z0Zs7YcgTp",
        "colab": {
          "base_uri": "https://localhost:8080/"
        },
        "outputId": "acc95ff1-b69b-4cca-d032-e3baa12428c7"
      },
      "execution_count": 2,
      "outputs": [
        {
          "output_type": "stream",
          "name": "stderr",
          "text": [
            "H:\\anaconda3\\lib\\site-packages\\numpy\\_distributor_init.py:30: UserWarning: loaded more than 1 DLL from .libs:\n",
            "H:\\anaconda3\\lib\\site-packages\\numpy\\.libs\\libopenblas.EL2C6PLE4ZYW3ECEVIV3OXXGRN2NRFM2.gfortran-win_amd64.dll\n",
            "H:\\anaconda3\\lib\\site-packages\\numpy\\.libs\\libopenblas.WCDJNK7YVMPZQ2ME2ZZHJJRJ3JIKNDB7.gfortran-win_amd64.dll\n",
            "  warnings.warn(\"loaded more than 1 DLL from .libs:\"\n"
          ]
        }
      ]
    },
    {
      "cell_type": "code",
      "source": [
        "from sklearn.pipeline import Pipeline\n",
        "from sklearn.compose import TransformedTargetRegressor\n",
        "\n",
        "from sklearn.preprocessing import FunctionTransformer\n",
        "from sklearn.preprocessing import PolynomialFeatures\n",
        "from sklearn.preprocessing import MinMaxScaler, StandardScaler\n",
        "\n",
        "from sklearn.model_selection import GroupKFold\n",
        "\n",
        "from sklearn.base import BaseEstimator,RegressorMixin"
      ],
      "metadata": {
        "id": "wmJyWwoFHcFL"
      },
      "execution_count": 3,
      "outputs": []
    },
    {
      "cell_type": "code",
      "source": [
        "from skopt import BayesSearchCV\n",
        "\n",
        "from skopt.space.space import Categorical, Integer, Real"
      ],
      "metadata": {
        "id": "b4AwhIPNHgzX"
      },
      "execution_count": 4,
      "outputs": []
    },
    {
      "cell_type": "code",
      "source": [
        "import tensorflow as tf\n",
        "from tensorflow.keras import Sequential\n",
        "from tensorflow.keras.layers import Dense, Dropout, LSTM, Masking\n",
        "\n",
        "from tensorflow.keras.metrics import RootMeanSquaredError as RMSE\n",
        "\n",
        "from keras.callbacks import LambdaCallback\n",
        "from tensorflow.keras.optimizers import SGD, Adam, RMSprop\n",
        "from tensorflow.keras.optimizers.schedules import ExponentialDecay\n",
        "\n",
        "import tensorflow_addons as tfa\n",
        "from tensorflow_addons.metrics import RSquare as R2\n",
        "\n",
        "from scikeras.wrappers import KerasRegressor"
      ],
      "metadata": {
        "id": "LnMMh6xN33s4"
      },
      "execution_count": 5,
      "outputs": []
    },
    {
      "cell_type": "code",
      "source": [
        "sns.set_palette('colorblind')"
      ],
      "metadata": {
        "id": "yIpSdBdJ-uWd"
      },
      "execution_count": 6,
      "outputs": []
    },
    {
      "cell_type": "code",
      "source": [
        "# Reproducibility\n",
        "seed = 42\n",
        "os.environ['PYTHONHASHSEED']=str(seed)\n",
        "random.seed(seed)\n",
        "np.random.seed(seed)\n",
        "tf.random.set_seed(seed)"
      ],
      "metadata": {
        "id": "oWUcQTaa3lth"
      },
      "execution_count": 7,
      "outputs": []
    },
    {
      "cell_type": "code",
      "source": [
        "tf.config.experimental.enable_op_determinism()"
      ],
      "metadata": {
        "id": "fwRwlCA7Yt4C"
      },
      "execution_count": 8,
      "outputs": []
    },
    {
      "cell_type": "code",
      "source": [
        "# Remove some tf warnings\n",
        "import absl.logging\n",
        "absl.logging.set_verbosity(absl.logging.ERROR)"
      ],
      "metadata": {
        "id": "cJXVJecRHjMy"
      },
      "execution_count": 9,
      "outputs": []
    },
    {
      "cell_type": "markdown",
      "source": [
        "# Data Preparation"
      ],
      "metadata": {
        "id": "AU6ipeRozJz-"
      }
    },
    {
      "cell_type": "code",
      "source": [
        "if 'google.colab' in str(get_ipython()):\n",
        "    print('Running on CoLab')\n",
        "    IN_COLAB = True\n",
        "    folder=\"/content/CMaps/\"\n",
        "\n",
        "    # Dataset Download \n",
        "    os.system('git clone https://github.com/arthursl12/dataset_2')\n",
        "    os.system('mv /content/dataset_2/CMaps /content/CMaps')\n",
        "    os.system('mv /content/dataset_2/data_processing /content/data_processing')\n",
        "    os.system('rm -rf dataset_2')\n",
        "else:\n",
        "    print('Not running on CoLab')\n",
        "    IN_COLAB = False\n",
        "    folder=\"CMaps/\"\n",
        "    %cd dataset_2/"
      ],
      "metadata": {
        "colab": {
          "base_uri": "https://localhost:8080/"
        },
        "id": "-EPYBkqeECE9",
        "outputId": "723e6e89-13e8-4739-b4cd-e90cbce8720e"
      },
      "execution_count": 10,
      "outputs": [
        {
          "output_type": "stream",
          "name": "stdout",
          "text": [
            "Not running on CoLab\n",
            "C:\\Users\\Arthur Lima\\POC\\dataset_2\n"
          ]
        }
      ]
    },
    {
      "cell_type": "code",
      "source": [
        "from data_processing.processing import DatasetProcessing\n",
        "from data_processing.training import HyperparameterSearch, reclipper_scorer\n",
        "from data_processing.eval import Evaluation"
      ],
      "metadata": {
        "id": "FUQ5tHe4Eu7z"
      },
      "execution_count": 11,
      "outputs": []
    },
    {
      "cell_type": "code",
      "source": [
        "proc = DatasetProcessing()"
      ],
      "metadata": {
        "id": "g1BmyudxzUz-"
      },
      "execution_count": 12,
      "outputs": []
    },
    {
      "cell_type": "markdown",
      "source": [
        "## Data Integration"
      ],
      "metadata": {
        "id": "Q4QwyfhXs_hv"
      }
    },
    {
      "cell_type": "markdown",
      "source": [
        "The data are provided as a zip-compressed text file with 26 columns of numbers, separated by spaces. Each row is a snapshot of data taken during a single operational cycle, each column is a different variable. The columns correspond to:  \n",
        "\n",
        "1) unit number   \n",
        "2) time, in cycles  \n",
        "3) operational setting 1  \n",
        "4) operational setting 2  \n",
        "5) operational setting 3    \n",
        "6) sensor measurement 1    \n",
        "7) sensor measurement 2  \n",
        "...  \n",
        "26) sensor measurement 20\n",
        "\n",
        "\n",
        "There are 6 conditions (or combinations) which the 3 operational settings can take.  \n",
        "Condition 1: Altitude = 0, Mach Number = 0, TRA = 100  \n",
        "Condition 2: Altitude = 10, Mach Number = 0.25, TRA = 100  \n",
        "Condition 3: Altitude = 20, Mach Number = 0.7 TRA = 100  \n",
        "Condition 4: Altitude = 25, Mach Number = 0.62, TRA = 60  \n",
        "Condition 5: Altitude = 35 Mach Number = 0.84, TRA = 100  \n",
        "Condition 6: Altitude = 42, Mach Number = 0.84, TRA = 100  \n",
        "  \n",
        "There is slight variation in all these conditions so you may get numbers like 24.453 instead of 25 exactly.\n",
        "\n",
        "FD001: Condition 1 only  \n",
        "FD002: Mix of all the conditions  \n",
        "FD003: Condition 1 only  \n",
        "FD004: Mix of all conditions  \n"
      ],
      "metadata": {
        "id": "PQe-SyeYc6Gf"
      }
    },
    {
      "cell_type": "code",
      "source": [
        "index_cols, settings_cols, sensors_cols, cols = proc.column_names()\n",
        "train, test, y_test = proc.read_dataset(1,folder=folder)\n",
        "train"
      ],
      "metadata": {
        "id": "-yRYxz2hh4xE",
        "colab": {
          "base_uri": "https://localhost:8080/",
          "height": 513
        },
        "outputId": "99d0b30f-ea47-4629-a526-ef833ca6b924"
      },
      "execution_count": 13,
      "outputs": [
        {
          "output_type": "execute_result",
          "data": {
            "text/plain": [
              "       unit_number  time    op_1    op_2   op_3     s_0     s_1      s_2  \\\n",
              "0                1     1 -0.0007 -0.0004  100.0  518.67  641.82  1589.70   \n",
              "1                1     2  0.0019 -0.0003  100.0  518.67  642.15  1591.82   \n",
              "2                1     3 -0.0043  0.0003  100.0  518.67  642.35  1587.99   \n",
              "3                1     4  0.0007  0.0000  100.0  518.67  642.35  1582.79   \n",
              "4                1     5 -0.0019 -0.0002  100.0  518.67  642.37  1582.85   \n",
              "...            ...   ...     ...     ...    ...     ...     ...      ...   \n",
              "20626          100   196 -0.0004 -0.0003  100.0  518.67  643.49  1597.98   \n",
              "20627          100   197 -0.0016 -0.0005  100.0  518.67  643.54  1604.50   \n",
              "20628          100   198  0.0004  0.0000  100.0  518.67  643.42  1602.46   \n",
              "20629          100   199 -0.0011  0.0003  100.0  518.67  643.23  1605.26   \n",
              "20630          100   200 -0.0032 -0.0005  100.0  518.67  643.85  1600.38   \n",
              "\n",
              "           s_3    s_4  ...    s_11     s_12     s_13    s_14  s_15  s_16  \\\n",
              "0      1400.60  14.62  ...  521.66  2388.02  8138.62  8.4195  0.03   392   \n",
              "1      1403.14  14.62  ...  522.28  2388.07  8131.49  8.4318  0.03   392   \n",
              "2      1404.20  14.62  ...  522.42  2388.03  8133.23  8.4178  0.03   390   \n",
              "3      1401.87  14.62  ...  522.86  2388.08  8133.83  8.3682  0.03   392   \n",
              "4      1406.22  14.62  ...  522.19  2388.04  8133.80  8.4294  0.03   393   \n",
              "...        ...    ...  ...     ...      ...      ...     ...   ...   ...   \n",
              "20626  1428.63  14.62  ...  519.49  2388.26  8137.60  8.4956  0.03   397   \n",
              "20627  1433.58  14.62  ...  519.68  2388.22  8136.50  8.5139  0.03   395   \n",
              "20628  1428.18  14.62  ...  520.01  2388.24  8141.05  8.5646  0.03   398   \n",
              "20629  1426.53  14.62  ...  519.67  2388.23  8139.29  8.5389  0.03   395   \n",
              "20630  1432.14  14.62  ...  519.30  2388.26  8137.33  8.5036  0.03   396   \n",
              "\n",
              "       s_17   s_18   s_19     s_20  \n",
              "0      2388  100.0  39.06  23.4190  \n",
              "1      2388  100.0  39.00  23.4236  \n",
              "2      2388  100.0  38.95  23.3442  \n",
              "3      2388  100.0  38.88  23.3739  \n",
              "4      2388  100.0  38.90  23.4044  \n",
              "...     ...    ...    ...      ...  \n",
              "20626  2388  100.0  38.49  22.9735  \n",
              "20627  2388  100.0  38.30  23.1594  \n",
              "20628  2388  100.0  38.44  22.9333  \n",
              "20629  2388  100.0  38.29  23.0640  \n",
              "20630  2388  100.0  38.37  23.0522  \n",
              "\n",
              "[20631 rows x 26 columns]"
            ],
            "text/html": [
              "<div>\n",
              "<style scoped>\n",
              "    .dataframe tbody tr th:only-of-type {\n",
              "        vertical-align: middle;\n",
              "    }\n",
              "\n",
              "    .dataframe tbody tr th {\n",
              "        vertical-align: top;\n",
              "    }\n",
              "\n",
              "    .dataframe thead th {\n",
              "        text-align: right;\n",
              "    }\n",
              "</style>\n",
              "<table border=\"1\" class=\"dataframe\">\n",
              "  <thead>\n",
              "    <tr style=\"text-align: right;\">\n",
              "      <th></th>\n",
              "      <th>unit_number</th>\n",
              "      <th>time</th>\n",
              "      <th>op_1</th>\n",
              "      <th>op_2</th>\n",
              "      <th>op_3</th>\n",
              "      <th>s_0</th>\n",
              "      <th>s_1</th>\n",
              "      <th>s_2</th>\n",
              "      <th>s_3</th>\n",
              "      <th>s_4</th>\n",
              "      <th>...</th>\n",
              "      <th>s_11</th>\n",
              "      <th>s_12</th>\n",
              "      <th>s_13</th>\n",
              "      <th>s_14</th>\n",
              "      <th>s_15</th>\n",
              "      <th>s_16</th>\n",
              "      <th>s_17</th>\n",
              "      <th>s_18</th>\n",
              "      <th>s_19</th>\n",
              "      <th>s_20</th>\n",
              "    </tr>\n",
              "  </thead>\n",
              "  <tbody>\n",
              "    <tr>\n",
              "      <th>0</th>\n",
              "      <td>1</td>\n",
              "      <td>1</td>\n",
              "      <td>-0.0007</td>\n",
              "      <td>-0.0004</td>\n",
              "      <td>100.0</td>\n",
              "      <td>518.67</td>\n",
              "      <td>641.82</td>\n",
              "      <td>1589.70</td>\n",
              "      <td>1400.60</td>\n",
              "      <td>14.62</td>\n",
              "      <td>...</td>\n",
              "      <td>521.66</td>\n",
              "      <td>2388.02</td>\n",
              "      <td>8138.62</td>\n",
              "      <td>8.4195</td>\n",
              "      <td>0.03</td>\n",
              "      <td>392</td>\n",
              "      <td>2388</td>\n",
              "      <td>100.0</td>\n",
              "      <td>39.06</td>\n",
              "      <td>23.4190</td>\n",
              "    </tr>\n",
              "    <tr>\n",
              "      <th>1</th>\n",
              "      <td>1</td>\n",
              "      <td>2</td>\n",
              "      <td>0.0019</td>\n",
              "      <td>-0.0003</td>\n",
              "      <td>100.0</td>\n",
              "      <td>518.67</td>\n",
              "      <td>642.15</td>\n",
              "      <td>1591.82</td>\n",
              "      <td>1403.14</td>\n",
              "      <td>14.62</td>\n",
              "      <td>...</td>\n",
              "      <td>522.28</td>\n",
              "      <td>2388.07</td>\n",
              "      <td>8131.49</td>\n",
              "      <td>8.4318</td>\n",
              "      <td>0.03</td>\n",
              "      <td>392</td>\n",
              "      <td>2388</td>\n",
              "      <td>100.0</td>\n",
              "      <td>39.00</td>\n",
              "      <td>23.4236</td>\n",
              "    </tr>\n",
              "    <tr>\n",
              "      <th>2</th>\n",
              "      <td>1</td>\n",
              "      <td>3</td>\n",
              "      <td>-0.0043</td>\n",
              "      <td>0.0003</td>\n",
              "      <td>100.0</td>\n",
              "      <td>518.67</td>\n",
              "      <td>642.35</td>\n",
              "      <td>1587.99</td>\n",
              "      <td>1404.20</td>\n",
              "      <td>14.62</td>\n",
              "      <td>...</td>\n",
              "      <td>522.42</td>\n",
              "      <td>2388.03</td>\n",
              "      <td>8133.23</td>\n",
              "      <td>8.4178</td>\n",
              "      <td>0.03</td>\n",
              "      <td>390</td>\n",
              "      <td>2388</td>\n",
              "      <td>100.0</td>\n",
              "      <td>38.95</td>\n",
              "      <td>23.3442</td>\n",
              "    </tr>\n",
              "    <tr>\n",
              "      <th>3</th>\n",
              "      <td>1</td>\n",
              "      <td>4</td>\n",
              "      <td>0.0007</td>\n",
              "      <td>0.0000</td>\n",
              "      <td>100.0</td>\n",
              "      <td>518.67</td>\n",
              "      <td>642.35</td>\n",
              "      <td>1582.79</td>\n",
              "      <td>1401.87</td>\n",
              "      <td>14.62</td>\n",
              "      <td>...</td>\n",
              "      <td>522.86</td>\n",
              "      <td>2388.08</td>\n",
              "      <td>8133.83</td>\n",
              "      <td>8.3682</td>\n",
              "      <td>0.03</td>\n",
              "      <td>392</td>\n",
              "      <td>2388</td>\n",
              "      <td>100.0</td>\n",
              "      <td>38.88</td>\n",
              "      <td>23.3739</td>\n",
              "    </tr>\n",
              "    <tr>\n",
              "      <th>4</th>\n",
              "      <td>1</td>\n",
              "      <td>5</td>\n",
              "      <td>-0.0019</td>\n",
              "      <td>-0.0002</td>\n",
              "      <td>100.0</td>\n",
              "      <td>518.67</td>\n",
              "      <td>642.37</td>\n",
              "      <td>1582.85</td>\n",
              "      <td>1406.22</td>\n",
              "      <td>14.62</td>\n",
              "      <td>...</td>\n",
              "      <td>522.19</td>\n",
              "      <td>2388.04</td>\n",
              "      <td>8133.80</td>\n",
              "      <td>8.4294</td>\n",
              "      <td>0.03</td>\n",
              "      <td>393</td>\n",
              "      <td>2388</td>\n",
              "      <td>100.0</td>\n",
              "      <td>38.90</td>\n",
              "      <td>23.4044</td>\n",
              "    </tr>\n",
              "    <tr>\n",
              "      <th>...</th>\n",
              "      <td>...</td>\n",
              "      <td>...</td>\n",
              "      <td>...</td>\n",
              "      <td>...</td>\n",
              "      <td>...</td>\n",
              "      <td>...</td>\n",
              "      <td>...</td>\n",
              "      <td>...</td>\n",
              "      <td>...</td>\n",
              "      <td>...</td>\n",
              "      <td>...</td>\n",
              "      <td>...</td>\n",
              "      <td>...</td>\n",
              "      <td>...</td>\n",
              "      <td>...</td>\n",
              "      <td>...</td>\n",
              "      <td>...</td>\n",
              "      <td>...</td>\n",
              "      <td>...</td>\n",
              "      <td>...</td>\n",
              "      <td>...</td>\n",
              "    </tr>\n",
              "    <tr>\n",
              "      <th>20626</th>\n",
              "      <td>100</td>\n",
              "      <td>196</td>\n",
              "      <td>-0.0004</td>\n",
              "      <td>-0.0003</td>\n",
              "      <td>100.0</td>\n",
              "      <td>518.67</td>\n",
              "      <td>643.49</td>\n",
              "      <td>1597.98</td>\n",
              "      <td>1428.63</td>\n",
              "      <td>14.62</td>\n",
              "      <td>...</td>\n",
              "      <td>519.49</td>\n",
              "      <td>2388.26</td>\n",
              "      <td>8137.60</td>\n",
              "      <td>8.4956</td>\n",
              "      <td>0.03</td>\n",
              "      <td>397</td>\n",
              "      <td>2388</td>\n",
              "      <td>100.0</td>\n",
              "      <td>38.49</td>\n",
              "      <td>22.9735</td>\n",
              "    </tr>\n",
              "    <tr>\n",
              "      <th>20627</th>\n",
              "      <td>100</td>\n",
              "      <td>197</td>\n",
              "      <td>-0.0016</td>\n",
              "      <td>-0.0005</td>\n",
              "      <td>100.0</td>\n",
              "      <td>518.67</td>\n",
              "      <td>643.54</td>\n",
              "      <td>1604.50</td>\n",
              "      <td>1433.58</td>\n",
              "      <td>14.62</td>\n",
              "      <td>...</td>\n",
              "      <td>519.68</td>\n",
              "      <td>2388.22</td>\n",
              "      <td>8136.50</td>\n",
              "      <td>8.5139</td>\n",
              "      <td>0.03</td>\n",
              "      <td>395</td>\n",
              "      <td>2388</td>\n",
              "      <td>100.0</td>\n",
              "      <td>38.30</td>\n",
              "      <td>23.1594</td>\n",
              "    </tr>\n",
              "    <tr>\n",
              "      <th>20628</th>\n",
              "      <td>100</td>\n",
              "      <td>198</td>\n",
              "      <td>0.0004</td>\n",
              "      <td>0.0000</td>\n",
              "      <td>100.0</td>\n",
              "      <td>518.67</td>\n",
              "      <td>643.42</td>\n",
              "      <td>1602.46</td>\n",
              "      <td>1428.18</td>\n",
              "      <td>14.62</td>\n",
              "      <td>...</td>\n",
              "      <td>520.01</td>\n",
              "      <td>2388.24</td>\n",
              "      <td>8141.05</td>\n",
              "      <td>8.5646</td>\n",
              "      <td>0.03</td>\n",
              "      <td>398</td>\n",
              "      <td>2388</td>\n",
              "      <td>100.0</td>\n",
              "      <td>38.44</td>\n",
              "      <td>22.9333</td>\n",
              "    </tr>\n",
              "    <tr>\n",
              "      <th>20629</th>\n",
              "      <td>100</td>\n",
              "      <td>199</td>\n",
              "      <td>-0.0011</td>\n",
              "      <td>0.0003</td>\n",
              "      <td>100.0</td>\n",
              "      <td>518.67</td>\n",
              "      <td>643.23</td>\n",
              "      <td>1605.26</td>\n",
              "      <td>1426.53</td>\n",
              "      <td>14.62</td>\n",
              "      <td>...</td>\n",
              "      <td>519.67</td>\n",
              "      <td>2388.23</td>\n",
              "      <td>8139.29</td>\n",
              "      <td>8.5389</td>\n",
              "      <td>0.03</td>\n",
              "      <td>395</td>\n",
              "      <td>2388</td>\n",
              "      <td>100.0</td>\n",
              "      <td>38.29</td>\n",
              "      <td>23.0640</td>\n",
              "    </tr>\n",
              "    <tr>\n",
              "      <th>20630</th>\n",
              "      <td>100</td>\n",
              "      <td>200</td>\n",
              "      <td>-0.0032</td>\n",
              "      <td>-0.0005</td>\n",
              "      <td>100.0</td>\n",
              "      <td>518.67</td>\n",
              "      <td>643.85</td>\n",
              "      <td>1600.38</td>\n",
              "      <td>1432.14</td>\n",
              "      <td>14.62</td>\n",
              "      <td>...</td>\n",
              "      <td>519.30</td>\n",
              "      <td>2388.26</td>\n",
              "      <td>8137.33</td>\n",
              "      <td>8.5036</td>\n",
              "      <td>0.03</td>\n",
              "      <td>396</td>\n",
              "      <td>2388</td>\n",
              "      <td>100.0</td>\n",
              "      <td>38.37</td>\n",
              "      <td>23.0522</td>\n",
              "    </tr>\n",
              "  </tbody>\n",
              "</table>\n",
              "<p>20631 rows × 26 columns</p>\n",
              "</div>"
            ]
          },
          "metadata": {},
          "execution_count": 13
        }
      ]
    },
    {
      "cell_type": "markdown",
      "source": [
        "## Preprocessing"
      ],
      "metadata": {
        "id": "n7MBDuPasy-s"
      }
    },
    {
      "cell_type": "markdown",
      "source": [
        "### Validation Set"
      ],
      "metadata": {
        "id": "e7-_jqRw3cRa"
      }
    },
    {
      "cell_type": "code",
      "source": [
        "from sklearn.model_selection import GroupShuffleSplit\n",
        "\n",
        "def train_val_split(train):\n",
        "    gss = GroupShuffleSplit(n_splits=1, train_size=0.80, random_state=42)  \n",
        "    for idx_train, idx_val in gss.split(train,groups=train[\"unit_number\"]):\n",
        "        # print('train_split_engines', train.iloc[idx_train]['unit_number'].unique(), '\\n')\n",
        "        # print('validate_split_engines', train.iloc[idx_val]['unit_number'].unique(), '\\n')\n",
        "\n",
        "        df_train = train.iloc[idx_train].copy()\n",
        "        df_val = train.iloc[idx_val].copy()\n",
        "\n",
        "    return df_train, df_val"
      ],
      "metadata": {
        "id": "_FBiCeewvW-E"
      },
      "execution_count": 14,
      "outputs": []
    },
    {
      "cell_type": "code",
      "source": [
        "df_train, df_val = train_val_split(train)"
      ],
      "metadata": {
        "id": "beWX66gdvs0s"
      },
      "execution_count": 15,
      "outputs": []
    },
    {
      "cell_type": "code",
      "source": [
        "X_t_train, y_t_train = proc.X_y_train_divide(df_train)\n",
        "X_t_val, y_t_val = proc.X_y_train_divide(df_val)"
      ],
      "metadata": {
        "id": "0PTNitwkvwE2"
      },
      "execution_count": 16,
      "outputs": []
    },
    {
      "cell_type": "markdown",
      "source": [
        "### Test Set Transformation \n",
        "Test set has samples for all cycles, but has annotations only for last one"
      ],
      "metadata": {
        "id": "QinQ4hWStzHt"
      }
    },
    {
      "cell_type": "code",
      "source": [
        "test.shape, y_test.shape"
      ],
      "metadata": {
        "id": "4wtvRNsfuUwg",
        "colab": {
          "base_uri": "https://localhost:8080/"
        },
        "outputId": "17578ebc-8360-44cc-9c7f-08f1fdce3763"
      },
      "execution_count": 17,
      "outputs": [
        {
          "output_type": "execute_result",
          "data": {
            "text/plain": [
              "((13096, 26), (100, 1))"
            ]
          },
          "metadata": {},
          "execution_count": 17
        }
      ]
    },
    {
      "cell_type": "code",
      "source": [
        "test_last = proc.transform_test(test)\n",
        "test_last.head()"
      ],
      "metadata": {
        "id": "onw4pCwZy-1s",
        "colab": {
          "base_uri": "https://localhost:8080/",
          "height": 325
        },
        "outputId": "0ce3821a-08e9-4244-ef97-67e8410c5908"
      },
      "execution_count": 18,
      "outputs": [
        {
          "output_type": "execute_result",
          "data": {
            "text/plain": [
              "      s_0     s_1      s_2      s_3    s_4    s_5     s_6      s_7      s_8  \\\n",
              "0  518.67  642.58  1581.22  1398.91  14.62  21.61  554.42  2388.08  9056.40   \n",
              "1  518.67  642.55  1586.59  1410.83  14.62  21.61  553.52  2388.10  9044.77   \n",
              "2  518.67  642.88  1589.75  1418.89  14.62  21.61  552.59  2388.16  9049.26   \n",
              "3  518.67  642.78  1594.53  1406.88  14.62  21.61  552.64  2388.13  9051.30   \n",
              "4  518.67  642.27  1589.94  1419.36  14.62  21.61  553.29  2388.10  9053.99   \n",
              "\n",
              "   s_9  ...    s_11     s_12     s_13    s_14  s_15  s_16  s_17   s_18   s_19  \\\n",
              "0  1.3  ...  521.79  2388.06  8130.11  8.4024  0.03   393  2388  100.0  38.81   \n",
              "1  1.3  ...  521.74  2388.09  8126.90  8.4505  0.03   391  2388  100.0  38.81   \n",
              "2  1.3  ...  520.83  2388.14  8131.46  8.4119  0.03   395  2388  100.0  38.93   \n",
              "3  1.3  ...  521.88  2388.11  8133.64  8.4634  0.03   395  2388  100.0  38.58   \n",
              "4  1.3  ...  521.00  2388.15  8125.74  8.4362  0.03   394  2388  100.0  38.75   \n",
              "\n",
              "      s_20  \n",
              "0  23.3552  \n",
              "1  23.2618  \n",
              "2  23.2740  \n",
              "3  23.2581  \n",
              "4  23.4117  \n",
              "\n",
              "[5 rows x 21 columns]"
            ],
            "text/html": [
              "<div>\n",
              "<style scoped>\n",
              "    .dataframe tbody tr th:only-of-type {\n",
              "        vertical-align: middle;\n",
              "    }\n",
              "\n",
              "    .dataframe tbody tr th {\n",
              "        vertical-align: top;\n",
              "    }\n",
              "\n",
              "    .dataframe thead th {\n",
              "        text-align: right;\n",
              "    }\n",
              "</style>\n",
              "<table border=\"1\" class=\"dataframe\">\n",
              "  <thead>\n",
              "    <tr style=\"text-align: right;\">\n",
              "      <th></th>\n",
              "      <th>s_0</th>\n",
              "      <th>s_1</th>\n",
              "      <th>s_2</th>\n",
              "      <th>s_3</th>\n",
              "      <th>s_4</th>\n",
              "      <th>s_5</th>\n",
              "      <th>s_6</th>\n",
              "      <th>s_7</th>\n",
              "      <th>s_8</th>\n",
              "      <th>s_9</th>\n",
              "      <th>...</th>\n",
              "      <th>s_11</th>\n",
              "      <th>s_12</th>\n",
              "      <th>s_13</th>\n",
              "      <th>s_14</th>\n",
              "      <th>s_15</th>\n",
              "      <th>s_16</th>\n",
              "      <th>s_17</th>\n",
              "      <th>s_18</th>\n",
              "      <th>s_19</th>\n",
              "      <th>s_20</th>\n",
              "    </tr>\n",
              "  </thead>\n",
              "  <tbody>\n",
              "    <tr>\n",
              "      <th>0</th>\n",
              "      <td>518.67</td>\n",
              "      <td>642.58</td>\n",
              "      <td>1581.22</td>\n",
              "      <td>1398.91</td>\n",
              "      <td>14.62</td>\n",
              "      <td>21.61</td>\n",
              "      <td>554.42</td>\n",
              "      <td>2388.08</td>\n",
              "      <td>9056.40</td>\n",
              "      <td>1.3</td>\n",
              "      <td>...</td>\n",
              "      <td>521.79</td>\n",
              "      <td>2388.06</td>\n",
              "      <td>8130.11</td>\n",
              "      <td>8.4024</td>\n",
              "      <td>0.03</td>\n",
              "      <td>393</td>\n",
              "      <td>2388</td>\n",
              "      <td>100.0</td>\n",
              "      <td>38.81</td>\n",
              "      <td>23.3552</td>\n",
              "    </tr>\n",
              "    <tr>\n",
              "      <th>1</th>\n",
              "      <td>518.67</td>\n",
              "      <td>642.55</td>\n",
              "      <td>1586.59</td>\n",
              "      <td>1410.83</td>\n",
              "      <td>14.62</td>\n",
              "      <td>21.61</td>\n",
              "      <td>553.52</td>\n",
              "      <td>2388.10</td>\n",
              "      <td>9044.77</td>\n",
              "      <td>1.3</td>\n",
              "      <td>...</td>\n",
              "      <td>521.74</td>\n",
              "      <td>2388.09</td>\n",
              "      <td>8126.90</td>\n",
              "      <td>8.4505</td>\n",
              "      <td>0.03</td>\n",
              "      <td>391</td>\n",
              "      <td>2388</td>\n",
              "      <td>100.0</td>\n",
              "      <td>38.81</td>\n",
              "      <td>23.2618</td>\n",
              "    </tr>\n",
              "    <tr>\n",
              "      <th>2</th>\n",
              "      <td>518.67</td>\n",
              "      <td>642.88</td>\n",
              "      <td>1589.75</td>\n",
              "      <td>1418.89</td>\n",
              "      <td>14.62</td>\n",
              "      <td>21.61</td>\n",
              "      <td>552.59</td>\n",
              "      <td>2388.16</td>\n",
              "      <td>9049.26</td>\n",
              "      <td>1.3</td>\n",
              "      <td>...</td>\n",
              "      <td>520.83</td>\n",
              "      <td>2388.14</td>\n",
              "      <td>8131.46</td>\n",
              "      <td>8.4119</td>\n",
              "      <td>0.03</td>\n",
              "      <td>395</td>\n",
              "      <td>2388</td>\n",
              "      <td>100.0</td>\n",
              "      <td>38.93</td>\n",
              "      <td>23.2740</td>\n",
              "    </tr>\n",
              "    <tr>\n",
              "      <th>3</th>\n",
              "      <td>518.67</td>\n",
              "      <td>642.78</td>\n",
              "      <td>1594.53</td>\n",
              "      <td>1406.88</td>\n",
              "      <td>14.62</td>\n",
              "      <td>21.61</td>\n",
              "      <td>552.64</td>\n",
              "      <td>2388.13</td>\n",
              "      <td>9051.30</td>\n",
              "      <td>1.3</td>\n",
              "      <td>...</td>\n",
              "      <td>521.88</td>\n",
              "      <td>2388.11</td>\n",
              "      <td>8133.64</td>\n",
              "      <td>8.4634</td>\n",
              "      <td>0.03</td>\n",
              "      <td>395</td>\n",
              "      <td>2388</td>\n",
              "      <td>100.0</td>\n",
              "      <td>38.58</td>\n",
              "      <td>23.2581</td>\n",
              "    </tr>\n",
              "    <tr>\n",
              "      <th>4</th>\n",
              "      <td>518.67</td>\n",
              "      <td>642.27</td>\n",
              "      <td>1589.94</td>\n",
              "      <td>1419.36</td>\n",
              "      <td>14.62</td>\n",
              "      <td>21.61</td>\n",
              "      <td>553.29</td>\n",
              "      <td>2388.10</td>\n",
              "      <td>9053.99</td>\n",
              "      <td>1.3</td>\n",
              "      <td>...</td>\n",
              "      <td>521.00</td>\n",
              "      <td>2388.15</td>\n",
              "      <td>8125.74</td>\n",
              "      <td>8.4362</td>\n",
              "      <td>0.03</td>\n",
              "      <td>394</td>\n",
              "      <td>2388</td>\n",
              "      <td>100.0</td>\n",
              "      <td>38.75</td>\n",
              "      <td>23.4117</td>\n",
              "    </tr>\n",
              "  </tbody>\n",
              "</table>\n",
              "<p>5 rows × 21 columns</p>\n",
              "</div>"
            ]
          },
          "metadata": {},
          "execution_count": 18
        }
      ]
    },
    {
      "cell_type": "code",
      "source": [
        "X_test = test_last"
      ],
      "metadata": {
        "id": "ar3xxOQvIbHW"
      },
      "execution_count": 19,
      "outputs": []
    },
    {
      "cell_type": "markdown",
      "source": [
        "### Remaining Useful Life (RUL)"
      ],
      "metadata": {
        "id": "boZqFQNlraCh"
      }
    },
    {
      "cell_type": "code",
      "source": [
        "train = proc.add_remaining_useful_life_linear(train)\n",
        "train[index_cols+['RUL']].head()"
      ],
      "metadata": {
        "id": "lmFKjQaeip1b",
        "colab": {
          "base_uri": "https://localhost:8080/",
          "height": 226
        },
        "outputId": "4c525b5e-52b1-41a7-9a4b-82862c6b846f"
      },
      "execution_count": 20,
      "outputs": [
        {
          "output_type": "execute_result",
          "data": {
            "text/plain": [
              "   unit_number  time  RUL\n",
              "0            1     1  191\n",
              "1            1     2  190\n",
              "2            1     3  189\n",
              "3            1     4  188\n",
              "4            1     5  187"
            ],
            "text/html": [
              "<div>\n",
              "<style scoped>\n",
              "    .dataframe tbody tr th:only-of-type {\n",
              "        vertical-align: middle;\n",
              "    }\n",
              "\n",
              "    .dataframe tbody tr th {\n",
              "        vertical-align: top;\n",
              "    }\n",
              "\n",
              "    .dataframe thead th {\n",
              "        text-align: right;\n",
              "    }\n",
              "</style>\n",
              "<table border=\"1\" class=\"dataframe\">\n",
              "  <thead>\n",
              "    <tr style=\"text-align: right;\">\n",
              "      <th></th>\n",
              "      <th>unit_number</th>\n",
              "      <th>time</th>\n",
              "      <th>RUL</th>\n",
              "    </tr>\n",
              "  </thead>\n",
              "  <tbody>\n",
              "    <tr>\n",
              "      <th>0</th>\n",
              "      <td>1</td>\n",
              "      <td>1</td>\n",
              "      <td>191</td>\n",
              "    </tr>\n",
              "    <tr>\n",
              "      <th>1</th>\n",
              "      <td>1</td>\n",
              "      <td>2</td>\n",
              "      <td>190</td>\n",
              "    </tr>\n",
              "    <tr>\n",
              "      <th>2</th>\n",
              "      <td>1</td>\n",
              "      <td>3</td>\n",
              "      <td>189</td>\n",
              "    </tr>\n",
              "    <tr>\n",
              "      <th>3</th>\n",
              "      <td>1</td>\n",
              "      <td>4</td>\n",
              "      <td>188</td>\n",
              "    </tr>\n",
              "    <tr>\n",
              "      <th>4</th>\n",
              "      <td>1</td>\n",
              "      <td>5</td>\n",
              "      <td>187</td>\n",
              "    </tr>\n",
              "  </tbody>\n",
              "</table>\n",
              "</div>"
            ]
          },
          "metadata": {},
          "execution_count": 20
        }
      ]
    },
    {
      "cell_type": "markdown",
      "source": [
        "## Attributes and target separation"
      ],
      "metadata": {
        "id": "IIXnBTkfxpCf"
      }
    },
    {
      "cell_type": "code",
      "source": [
        "X_train, y_train = proc.X_y_train_divide(train)"
      ],
      "metadata": {
        "id": "4SzUk6ZLxv6H"
      },
      "execution_count": 21,
      "outputs": []
    },
    {
      "cell_type": "code",
      "source": [
        "y_train.head()"
      ],
      "metadata": {
        "id": "fuAnHn4GxzwM",
        "colab": {
          "base_uri": "https://localhost:8080/",
          "height": 226
        },
        "outputId": "81f7f5c0-534d-4126-88f8-947f0761846c"
      },
      "execution_count": 22,
      "outputs": [
        {
          "output_type": "execute_result",
          "data": {
            "text/plain": [
              "   RUL\n",
              "0  191\n",
              "1  190\n",
              "2  189\n",
              "3  188\n",
              "4  187"
            ],
            "text/html": [
              "<div>\n",
              "<style scoped>\n",
              "    .dataframe tbody tr th:only-of-type {\n",
              "        vertical-align: middle;\n",
              "    }\n",
              "\n",
              "    .dataframe tbody tr th {\n",
              "        vertical-align: top;\n",
              "    }\n",
              "\n",
              "    .dataframe thead th {\n",
              "        text-align: right;\n",
              "    }\n",
              "</style>\n",
              "<table border=\"1\" class=\"dataframe\">\n",
              "  <thead>\n",
              "    <tr style=\"text-align: right;\">\n",
              "      <th></th>\n",
              "      <th>RUL</th>\n",
              "    </tr>\n",
              "  </thead>\n",
              "  <tbody>\n",
              "    <tr>\n",
              "      <th>0</th>\n",
              "      <td>191</td>\n",
              "    </tr>\n",
              "    <tr>\n",
              "      <th>1</th>\n",
              "      <td>190</td>\n",
              "    </tr>\n",
              "    <tr>\n",
              "      <th>2</th>\n",
              "      <td>189</td>\n",
              "    </tr>\n",
              "    <tr>\n",
              "      <th>3</th>\n",
              "      <td>188</td>\n",
              "    </tr>\n",
              "    <tr>\n",
              "      <th>4</th>\n",
              "      <td>187</td>\n",
              "    </tr>\n",
              "  </tbody>\n",
              "</table>\n",
              "</div>"
            ]
          },
          "metadata": {},
          "execution_count": 22
        }
      ]
    },
    {
      "cell_type": "code",
      "source": [
        "X_train.head()"
      ],
      "metadata": {
        "id": "26hK4VWkx1R7",
        "colab": {
          "base_uri": "https://localhost:8080/",
          "height": 325
        },
        "outputId": "53845241-04a6-4e1d-c784-23109a28d24d"
      },
      "execution_count": 23,
      "outputs": [
        {
          "output_type": "execute_result",
          "data": {
            "text/plain": [
              "      s_0     s_1      s_2      s_3    s_4    s_5     s_6      s_7      s_8  \\\n",
              "0  518.67  641.82  1589.70  1400.60  14.62  21.61  554.36  2388.06  9046.19   \n",
              "1  518.67  642.15  1591.82  1403.14  14.62  21.61  553.75  2388.04  9044.07   \n",
              "2  518.67  642.35  1587.99  1404.20  14.62  21.61  554.26  2388.08  9052.94   \n",
              "3  518.67  642.35  1582.79  1401.87  14.62  21.61  554.45  2388.11  9049.48   \n",
              "4  518.67  642.37  1582.85  1406.22  14.62  21.61  554.00  2388.06  9055.15   \n",
              "\n",
              "   s_9  ...    s_11     s_12     s_13    s_14  s_15  s_16  s_17   s_18   s_19  \\\n",
              "0  1.3  ...  521.66  2388.02  8138.62  8.4195  0.03   392  2388  100.0  39.06   \n",
              "1  1.3  ...  522.28  2388.07  8131.49  8.4318  0.03   392  2388  100.0  39.00   \n",
              "2  1.3  ...  522.42  2388.03  8133.23  8.4178  0.03   390  2388  100.0  38.95   \n",
              "3  1.3  ...  522.86  2388.08  8133.83  8.3682  0.03   392  2388  100.0  38.88   \n",
              "4  1.3  ...  522.19  2388.04  8133.80  8.4294  0.03   393  2388  100.0  38.90   \n",
              "\n",
              "      s_20  \n",
              "0  23.4190  \n",
              "1  23.4236  \n",
              "2  23.3442  \n",
              "3  23.3739  \n",
              "4  23.4044  \n",
              "\n",
              "[5 rows x 21 columns]"
            ],
            "text/html": [
              "<div>\n",
              "<style scoped>\n",
              "    .dataframe tbody tr th:only-of-type {\n",
              "        vertical-align: middle;\n",
              "    }\n",
              "\n",
              "    .dataframe tbody tr th {\n",
              "        vertical-align: top;\n",
              "    }\n",
              "\n",
              "    .dataframe thead th {\n",
              "        text-align: right;\n",
              "    }\n",
              "</style>\n",
              "<table border=\"1\" class=\"dataframe\">\n",
              "  <thead>\n",
              "    <tr style=\"text-align: right;\">\n",
              "      <th></th>\n",
              "      <th>s_0</th>\n",
              "      <th>s_1</th>\n",
              "      <th>s_2</th>\n",
              "      <th>s_3</th>\n",
              "      <th>s_4</th>\n",
              "      <th>s_5</th>\n",
              "      <th>s_6</th>\n",
              "      <th>s_7</th>\n",
              "      <th>s_8</th>\n",
              "      <th>s_9</th>\n",
              "      <th>...</th>\n",
              "      <th>s_11</th>\n",
              "      <th>s_12</th>\n",
              "      <th>s_13</th>\n",
              "      <th>s_14</th>\n",
              "      <th>s_15</th>\n",
              "      <th>s_16</th>\n",
              "      <th>s_17</th>\n",
              "      <th>s_18</th>\n",
              "      <th>s_19</th>\n",
              "      <th>s_20</th>\n",
              "    </tr>\n",
              "  </thead>\n",
              "  <tbody>\n",
              "    <tr>\n",
              "      <th>0</th>\n",
              "      <td>518.67</td>\n",
              "      <td>641.82</td>\n",
              "      <td>1589.70</td>\n",
              "      <td>1400.60</td>\n",
              "      <td>14.62</td>\n",
              "      <td>21.61</td>\n",
              "      <td>554.36</td>\n",
              "      <td>2388.06</td>\n",
              "      <td>9046.19</td>\n",
              "      <td>1.3</td>\n",
              "      <td>...</td>\n",
              "      <td>521.66</td>\n",
              "      <td>2388.02</td>\n",
              "      <td>8138.62</td>\n",
              "      <td>8.4195</td>\n",
              "      <td>0.03</td>\n",
              "      <td>392</td>\n",
              "      <td>2388</td>\n",
              "      <td>100.0</td>\n",
              "      <td>39.06</td>\n",
              "      <td>23.4190</td>\n",
              "    </tr>\n",
              "    <tr>\n",
              "      <th>1</th>\n",
              "      <td>518.67</td>\n",
              "      <td>642.15</td>\n",
              "      <td>1591.82</td>\n",
              "      <td>1403.14</td>\n",
              "      <td>14.62</td>\n",
              "      <td>21.61</td>\n",
              "      <td>553.75</td>\n",
              "      <td>2388.04</td>\n",
              "      <td>9044.07</td>\n",
              "      <td>1.3</td>\n",
              "      <td>...</td>\n",
              "      <td>522.28</td>\n",
              "      <td>2388.07</td>\n",
              "      <td>8131.49</td>\n",
              "      <td>8.4318</td>\n",
              "      <td>0.03</td>\n",
              "      <td>392</td>\n",
              "      <td>2388</td>\n",
              "      <td>100.0</td>\n",
              "      <td>39.00</td>\n",
              "      <td>23.4236</td>\n",
              "    </tr>\n",
              "    <tr>\n",
              "      <th>2</th>\n",
              "      <td>518.67</td>\n",
              "      <td>642.35</td>\n",
              "      <td>1587.99</td>\n",
              "      <td>1404.20</td>\n",
              "      <td>14.62</td>\n",
              "      <td>21.61</td>\n",
              "      <td>554.26</td>\n",
              "      <td>2388.08</td>\n",
              "      <td>9052.94</td>\n",
              "      <td>1.3</td>\n",
              "      <td>...</td>\n",
              "      <td>522.42</td>\n",
              "      <td>2388.03</td>\n",
              "      <td>8133.23</td>\n",
              "      <td>8.4178</td>\n",
              "      <td>0.03</td>\n",
              "      <td>390</td>\n",
              "      <td>2388</td>\n",
              "      <td>100.0</td>\n",
              "      <td>38.95</td>\n",
              "      <td>23.3442</td>\n",
              "    </tr>\n",
              "    <tr>\n",
              "      <th>3</th>\n",
              "      <td>518.67</td>\n",
              "      <td>642.35</td>\n",
              "      <td>1582.79</td>\n",
              "      <td>1401.87</td>\n",
              "      <td>14.62</td>\n",
              "      <td>21.61</td>\n",
              "      <td>554.45</td>\n",
              "      <td>2388.11</td>\n",
              "      <td>9049.48</td>\n",
              "      <td>1.3</td>\n",
              "      <td>...</td>\n",
              "      <td>522.86</td>\n",
              "      <td>2388.08</td>\n",
              "      <td>8133.83</td>\n",
              "      <td>8.3682</td>\n",
              "      <td>0.03</td>\n",
              "      <td>392</td>\n",
              "      <td>2388</td>\n",
              "      <td>100.0</td>\n",
              "      <td>38.88</td>\n",
              "      <td>23.3739</td>\n",
              "    </tr>\n",
              "    <tr>\n",
              "      <th>4</th>\n",
              "      <td>518.67</td>\n",
              "      <td>642.37</td>\n",
              "      <td>1582.85</td>\n",
              "      <td>1406.22</td>\n",
              "      <td>14.62</td>\n",
              "      <td>21.61</td>\n",
              "      <td>554.00</td>\n",
              "      <td>2388.06</td>\n",
              "      <td>9055.15</td>\n",
              "      <td>1.3</td>\n",
              "      <td>...</td>\n",
              "      <td>522.19</td>\n",
              "      <td>2388.04</td>\n",
              "      <td>8133.80</td>\n",
              "      <td>8.4294</td>\n",
              "      <td>0.03</td>\n",
              "      <td>393</td>\n",
              "      <td>2388</td>\n",
              "      <td>100.0</td>\n",
              "      <td>38.90</td>\n",
              "      <td>23.4044</td>\n",
              "    </tr>\n",
              "  </tbody>\n",
              "</table>\n",
              "<p>5 rows × 21 columns</p>\n",
              "</div>"
            ]
          },
          "metadata": {},
          "execution_count": 23
        }
      ]
    },
    {
      "cell_type": "markdown",
      "source": [
        "## Training and Evaluation functions"
      ],
      "metadata": {
        "id": "fQA-YtFMM81M"
      }
    },
    {
      "cell_type": "code",
      "source": [
        "eval = Evaluation()"
      ],
      "metadata": {
        "id": "u88P6scrNTRu"
      },
      "execution_count": 24,
      "outputs": []
    },
    {
      "cell_type": "code",
      "source": [
        "search = HyperparameterSearch()"
      ],
      "metadata": {
        "id": "OUcS61OqPFhp"
      },
      "execution_count": 25,
      "outputs": []
    },
    {
      "cell_type": "markdown",
      "source": [
        "# MLP Construction"
      ],
      "metadata": {
        "id": "nTPBH5fg_sFd"
      }
    },
    {
      "cell_type": "markdown",
      "source": [
        "## Callbacks"
      ],
      "metadata": {
        "id": "f3Or3dZbB5Pr"
      }
    },
    {
      "cell_type": "code",
      "source": [
        "# Early Stopping Callback\n",
        "es = tf.keras.callbacks.EarlyStopping(monitor='loss', \n",
        "                                      patience=5, restore_best_weights=True)"
      ],
      "metadata": {
        "id": "E_f33CIB-13t"
      },
      "execution_count": 26,
      "outputs": []
    },
    {
      "cell_type": "code",
      "source": [
        "# Printing Callback\n",
        "def printLog(epoch, logs):\n",
        "    print(\n",
        "        f\"E {epoch+1}\\t: loss={logs['loss']:.3f}, \"+\n",
        "        f\"rmse={logs['root_mean_squared_error']:.3f}, \"+\n",
        "        f\"r2={logs['r_square']:.3f}; \"+\n",
        "        f\"v_loss={logs['val_loss']:.3f}, \"+\n",
        "        f\"v_rmse={logs['val_root_mean_squared_error']:.3f}, \"+\n",
        "        f\"v_r2={logs['val_r_square']:.3f}; \"\n",
        "    )\n",
        "\n",
        "printerCallback = LambdaCallback(on_epoch_end=printLog)"
      ],
      "metadata": {
        "id": "07NuyHHfWLZ0"
      },
      "execution_count": 27,
      "outputs": []
    },
    {
      "cell_type": "markdown",
      "source": [
        "## Auxiliary HyperParameters"
      ],
      "metadata": {
        "id": "t18eQ8H3EfGV"
      }
    },
    {
      "cell_type": "code",
      "source": [
        "layer_sizes=[16,32,64,128,256,512]"
      ],
      "metadata": {
        "id": "Ex7mZbQNEfGW"
      },
      "execution_count": 28,
      "outputs": []
    },
    {
      "cell_type": "code",
      "source": [
        "# Exponential Decay Schedules\n",
        "ED1 = ExponentialDecay(initial_learning_rate=1e-2, name=\"ED1\",\n",
        "                       decay_steps=100000, decay_rate=0.96)\n",
        "ED2 = ExponentialDecay(initial_learning_rate=1e-2, name=\"ED2\",\n",
        "                       decay_steps=100000, decay_rate=0.8)\n",
        "ED3 = ExponentialDecay(initial_learning_rate=1e-1, name=\"ED3\",\n",
        "                       decay_steps=100000, decay_rate=0.96)"
      ],
      "metadata": {
        "id": "SPE41-R2EfGX"
      },
      "execution_count": 29,
      "outputs": []
    },
    {
      "cell_type": "code",
      "source": [
        "# Generation of list combinations\n",
        "from itertools import chain, permutations\n",
        "\n",
        "def all_permutations(lst, size):\n",
        "    result = list(chain.from_iterable([permutations(lst, x) for x in range(len(lst)+1)]))\n",
        "    out = []\n",
        "    for r in result:\n",
        "        if (len(r) == size):\n",
        "            out.append(list(r))\n",
        "    return out"
      ],
      "metadata": {
        "id": "a2kynIDbEfGZ"
      },
      "execution_count": 30,
      "outputs": []
    },
    {
      "cell_type": "markdown",
      "source": [
        "## Constants"
      ],
      "metadata": {
        "id": "DvHTMj_9_xss"
      }
    },
    {
      "cell_type": "code",
      "source": [
        "# X_train must include indices\n",
        "train3 = train.copy()\n",
        "X_train_ = train3.drop(columns=[index_cols[1]]+[\"RUL\"])"
      ],
      "metadata": {
        "id": "MmsURACM-Wkq"
      },
      "execution_count": 31,
      "outputs": []
    },
    {
      "cell_type": "code",
      "source": [
        "INPUT_SHAPE = 0"
      ],
      "metadata": {
        "id": "xKy2t3QS8gss"
      },
      "execution_count": 32,
      "outputs": []
    },
    {
      "cell_type": "markdown",
      "source": [
        "## Wrapper"
      ],
      "metadata": {
        "id": "9mjReYMmM08s"
      }
    },
    {
      "cell_type": "code",
      "source": [
        "from sys import is_finalizing\n",
        "from sklearn.metrics import r2_score\n",
        "\n",
        "class MLPWrapperRegressor(BaseEstimator,RegressorMixin):\n",
        "    def __init__(self, basemodel=None, clip_y=-1,\n",
        "                 include_settings=False, poly_degree=1,\n",
        "                 scaler=StandardScaler()):\n",
        "        # Base parameters\n",
        "        self.basemodel = basemodel\n",
        "        self.clip_y = clip_y\n",
        "        self.poly_degree = poly_degree\n",
        "        self.include_settings = include_settings\n",
        "\n",
        "        # Column indexers\n",
        "        self.feature_cols = sensors_cols\n",
        "        if(include_settings):\n",
        "            self.feature_cols = settings_cols + self.feature_cols\n",
        "        self.base_feature_cols = self.feature_cols\n",
        "\n",
        "        # Scaler and PolyFeatures transformers\n",
        "        self.scaler = scaler\n",
        "        self.polyft = PolynomialFeatures(degree=self.poly_degree, \n",
        "                                         include_bias=False)\n",
        "\n",
        "    def clean_cols(self,df):\n",
        "        if(\"unit_number\" in df.columns): del df[\"unit_number\"]\n",
        "        if(\"unit_number\" in df.columns): del df[\"unit_number\"]\n",
        "        if(\"time\" in df.columns): del df[\"time\"]\n",
        "        if((not self.include_settings)): \n",
        "            for col in settings_cols:\n",
        "                if(col in df.columns): del df[col]\n",
        "        return df\n",
        "\n",
        "    def fit(self, X=None, y=None):\n",
        "        # Drop irrelevant column\n",
        "        data = pd.DataFrame(X).copy()\n",
        "        data = self.clean_cols(data)\n",
        "        \n",
        "        # Apply polynomial features and add them to the dataframe\n",
        "        transf = self.polyft.fit_transform(data)\n",
        "        data = pd.DataFrame(transf, columns=\n",
        "                              self.polyft.get_feature_names_out())\n",
        "        self.feature_cols = list(self.polyft.get_feature_names_out())\n",
        "\n",
        "        # Scale the data\n",
        "        data = self.scaler.fit_transform(data)\n",
        "        data = pd.DataFrame(data, \n",
        "                            columns=self.scaler.get_feature_names_out())\n",
        "        X_train = data.copy()\n",
        "        \n",
        "        # Clip and transform labels\n",
        "        data2 = pd.DataFrame(y, columns=[\"RUL\"]).copy()\n",
        "        if (self.clip_y > 0):\n",
        "            data2[\"RUL\"].clip(upper=self.clip_y, inplace=True)\n",
        "        y_train = data2\n",
        "\n",
        "        # Update input shape for future use\n",
        "        global INPUT_SHAPE\n",
        "        INPUT_SHAPE = X_train.shape[1]\n",
        "\n",
        "        # Fit model\n",
        "        self.basemodel.fit(X_train,y_train)\n",
        "        return self\n",
        "        \n",
        "    def predict(self, X=None):\n",
        "        # Perform transformation, if not done\n",
        "        if (len(X.columns) != len(self.feature_cols)):\n",
        "            X_train = self.transform_features(X)\n",
        "        else:\n",
        "            X_train = X\n",
        "        return self.basemodel.predict(X_train)\n",
        "\n",
        "    def transform_features(self, df):\n",
        "        # Drop irrelevant column\n",
        "        data = pd.DataFrame(df).copy()\n",
        "        data = self.clean_cols(data)\n",
        "        \n",
        "        # Apply polynomial features and add them to the dataframe\n",
        "        transf = self.polyft.transform(data)\n",
        "        data = pd.DataFrame(transf, columns=\n",
        "                              self.polyft.get_feature_names_out())\n",
        "        # self.feature_cols = list(self.polyft.get_feature_names_out())\n",
        "\n",
        "        # Scale the data\n",
        "        data = self.scaler.transform(data)\n",
        "        data = pd.DataFrame(data, \n",
        "                            columns=self.scaler.get_feature_names_out())\n",
        "        return data\n",
        "\n",
        "    def score(self, X, y, sample_weight=None):\n",
        "        X_test = self.transform_features(X)\n",
        "\n",
        "        # Clip and transform labels\n",
        "        data2 = pd.DataFrame(y, columns=[\"RUL\"]).copy()\n",
        "        if (self.clip_y > 0):\n",
        "            data2[\"RUL\"].clip(upper=self.clip_y, inplace=True)\n",
        "        y_test = data2\n",
        "\n",
        "        # Predict on test data\n",
        "        y_pred = self.predict(X_test)\n",
        "        return r2_score(y_test, y_pred, sample_weight=sample_weight)"
      ],
      "metadata": {
        "id": "VhrwfNvEM0eL"
      },
      "execution_count": 33,
      "outputs": []
    },
    {
      "cell_type": "markdown",
      "source": [
        "## Test Data"
      ],
      "metadata": {
        "id": "Z7Z5u9Bu_Q4x"
      }
    },
    {
      "cell_type": "code",
      "source": [
        "def scale_test(test,model):\n",
        "    test2 = pd.DataFrame(test)\n",
        "    test2 = model.clean_cols(test2)\n",
        "\n",
        "    # Apply polynomial features\n",
        "    transf = model.polyft.transform(test2)\n",
        "    test2 = pd.DataFrame(transf, \n",
        "                         columns=model.polyft.get_feature_names_out())\n",
        "\n",
        "    # Scale the data (with train data parameters)\n",
        "    test2 = model.scaler.transform(test2)\n",
        "    test2 = pd.DataFrame(test2, \n",
        "                         columns=model.polyft.get_feature_names_out())\n",
        "    return test2"
      ],
      "metadata": {
        "id": "OFW6XKjG5kCB"
      },
      "execution_count": 34,
      "outputs": []
    },
    {
      "cell_type": "markdown",
      "source": [
        "## Constructor"
      ],
      "metadata": {
        "id": "Ha2fY8VlWD7p"
      }
    },
    {
      "cell_type": "code",
      "source": [
        "def create_model(optim=Adam, learning_rate=1e-3, \n",
        "                 layer1=32  , activation1=\"tanh\"    , dropout1=0.1,\n",
        "                 layer2=None, activation2=\"tanh\"    , dropout2=0.1,\n",
        "                 layer3=None, activation3=\"tanh\"    , dropout3=0.1,\n",
        "                 layer4=None, activation4=\"tanh\"    , dropout4=0.1,\n",
        "                 print_summary=False, loss='mean_squared_error',\n",
        "                 metrics=[tf.keras.metrics.MeanSquaredError()]):\n",
        "    model = Sequential()\n",
        "\n",
        "    # Fully Connected Layer\n",
        "    model.add(Dense(layer1, input_dim=INPUT_SHAPE, activation=activation1))\n",
        "    model.add(Dropout(dropout1))\n",
        "\n",
        "    # Additional hidden layers\n",
        "    if(layer2 is not None):\n",
        "        model.add(Dense(layer2, activation=activation2))\n",
        "        model.add(Dropout(dropout2))\n",
        "        if (layer3 is not None):\n",
        "            model.add(Dense(layer3, activation=activation3))\n",
        "            model.add(Dropout(dropout3))\n",
        "            if (layer4 is not None):\n",
        "                model.add(Dense(layer4, activation=activation4))\n",
        "                model.add(Dropout(dropout4))\n",
        "\n",
        "    # Output Layer\n",
        "    model.add(Dense(1))\n",
        "\n",
        "    model.compile(loss=loss, optimizer=optim(learning_rate=learning_rate), \n",
        "                  metrics=metrics)\n",
        "    \n",
        "    if(print_summary): model.summary()\n",
        "    return model"
      ],
      "metadata": {
        "id": "YR28IpUT5cm5"
      },
      "execution_count": 35,
      "outputs": []
    },
    {
      "cell_type": "markdown",
      "source": [
        "# HyperParameter Tuning"
      ],
      "metadata": {
        "id": "Jowfppg9HG3R"
      }
    },
    {
      "cell_type": "code",
      "source": [
        "CLIP=126\n",
        "\n",
        "model = MLPWrapperRegressor(\n",
        "        clip_y=CLIP,scaler=MinMaxScaler(),\n",
        "        basemodel=\n",
        "            KerasRegressor(model=create_model,\n",
        "                           batch_size=64,\n",
        "                           epochs=1,\n",
        "                           validation_split=0.2, \n",
        "                           model__layer1=512, \n",
        "                           model__activation1='relu',\n",
        "                           model__dropout1=0.5, \n",
        "                           model__layer2=64,\n",
        "                           model__layer3=64,\n",
        "                        #    model__layer4=64,\n",
        "                           model__learning_rate=0.01,\n",
        "                           model__optim=Adam,\n",
        "                        #    verbose=0, callbacks=[es,printerCallback],\n",
        "                           verbose=0, callbacks=[es],\n",
        "                           model__metrics=[RMSE(), R2()],\n",
        "                           model__loss='mse',\n",
        "                           print_summary=False\n",
        "                           )\n",
        "    )"
      ],
      "metadata": {
        "id": "cxz0nz9mHJ2v"
      },
      "execution_count": 98,
      "outputs": []
    },
    {
      "cell_type": "code",
      "source": [
        "# ~3h (LSTM)\n",
        "# ~45min (MLP)\n",
        "GRID_SEARCH = True\n",
        "if (GRID_SEARCH):\n",
        "    param_distributions = {\n",
        "        \"clip_y\": Integer(80,140),\n",
        "        \"poly_degree\": Categorical([2,3]),\n",
        "        \"scaler\": Categorical([MinMaxScaler(),StandardScaler()]),\n",
        "        \"basemodel__epochs\": Integer(1,50),\n",
        "        \"basemodel__validation_split\":Real(0.1,0.9),\n",
        "        \"basemodel__batch_size\": Integer(32,512),\n",
        "        \"basemodel__model__optim\":Categorical([Adam,RMSprop]),\n",
        "        \"basemodel__model__learning_rate\": Real(1e-4, 1e-2),\n",
        "        \n",
        "        \"basemodel__model__layer1\": Integer(16,512),\n",
        "        \"basemodel__model__activation1\": Categorical([\"relu\",\"elu\",\"selu\",\"tanh\", \"sigmoid\"]),\n",
        "        \"basemodel__model__dropout1\": Real(0.1,0.9),\n",
        "\n",
        "        \"basemodel__model__layer2\": Integer(16,512),\n",
        "        \"basemodel__model__activation2\": Categorical([\"relu\",\"elu\",\"selu\",\"tanh\", \"sigmoid\"]),\n",
        "        \"basemodel__model__dropout2\": Real(0.1,0.9),\n",
        "\n",
        "        \"basemodel__model__layer3\": Integer(16,512),\n",
        "        \"basemodel__model__activation3\": Categorical([\"relu\",\"elu\",\"selu\",\"tanh\", \"sigmoid\"]),\n",
        "        \"basemodel__model__dropout3\": Real(0.1,0.9),\n",
        "\n",
        "        # \"basemodel__model__layer4\": Integer(16,512),\n",
        "        # \"basemodel__model__activation4\": Categorical([\"relu\",\"elu\",\"selu\",\"tanh\", \"sigmoid\"]),\n",
        "        # \"basemodel__model__dropout4\": Real(0.1,0.9),\n",
        "    }\n",
        "    gcv = GroupKFold(n_splits=3)\n",
        "    groups=X_train_['unit_number']\n",
        "    bss = BayesSearchCV(model, param_distributions, \n",
        "                        verbose=3, n_jobs=1, refit=False,\n",
        "                        cv=gcv.split(X_train_, groups=groups), n_iter=45)\n",
        "    model = bss.fit(X_train_, y_train)\n",
        "    \n",
        "    # print(bss.best_estimator_)\n",
        "    print(\"Finished:\", datetime.datetime.now())"
      ],
      "metadata": {
        "colab": {
          "base_uri": "https://localhost:8080/"
        },
        "id": "OI-MbGPrHsB0",
        "outputId": "df2860d6-2522-4d8a-8a37-6b843a412b2c"
      },
      "execution_count": 99,
      "outputs": [
        {
          "output_type": "stream",
          "name": "stdout",
          "text": [
            "Fitting 3 folds for each of 1 candidates, totalling 3 fits\n",
            "[CV 1/3] END basemodel__batch_size=427, basemodel__epochs=34, basemodel__model__activation1=tanh, basemodel__model__activation2=elu, basemodel__model__activation3=sigmoid, basemodel__model__dropout1=0.6154865834190594, basemodel__model__dropout2=0.327373607041863, basemodel__model__dropout3=0.13896956608547398, basemodel__model__layer1=504, basemodel__model__layer2=354, basemodel__model__layer3=46, basemodel__model__learning_rate=0.0012902082264997494, basemodel__model__optim=<class 'keras.optimizer_v2.adam.Adam'>, basemodel__validation_split=0.3384732393910562, clip_y=88, poly_degree=3, scaler=MinMaxScaler();, score=-2.603 total time=   7.5s\n",
            "[CV 2/3] END basemodel__batch_size=427, basemodel__epochs=34, basemodel__model__activation1=tanh, basemodel__model__activation2=elu, basemodel__model__activation3=sigmoid, basemodel__model__dropout1=0.6154865834190594, basemodel__model__dropout2=0.327373607041863, basemodel__model__dropout3=0.13896956608547398, basemodel__model__layer1=504, basemodel__model__layer2=354, basemodel__model__layer3=46, basemodel__model__learning_rate=0.0012902082264997494, basemodel__model__optim=<class 'keras.optimizer_v2.adam.Adam'>, basemodel__validation_split=0.3384732393910562, clip_y=88, poly_degree=3, scaler=MinMaxScaler();, score=-2.256 total time=   7.1s\n",
            "[CV 3/3] END basemodel__batch_size=427, basemodel__epochs=34, basemodel__model__activation1=tanh, basemodel__model__activation2=elu, basemodel__model__activation3=sigmoid, basemodel__model__dropout1=0.6154865834190594, basemodel__model__dropout2=0.327373607041863, basemodel__model__dropout3=0.13896956608547398, basemodel__model__layer1=504, basemodel__model__layer2=354, basemodel__model__layer3=46, basemodel__model__learning_rate=0.0012902082264997494, basemodel__model__optim=<class 'keras.optimizer_v2.adam.Adam'>, basemodel__validation_split=0.3384732393910562, clip_y=88, poly_degree=3, scaler=MinMaxScaler();, score=-3.042 total time=   7.5s\n",
            "Fitting 3 folds for each of 1 candidates, totalling 3 fits\n",
            "[CV 1/3] END basemodel__batch_size=470, basemodel__epochs=33, basemodel__model__activation1=relu, basemodel__model__activation2=sigmoid, basemodel__model__activation3=relu, basemodel__model__dropout1=0.38133717904201314, basemodel__model__dropout2=0.5891848440779308, basemodel__model__dropout3=0.817744276119641, basemodel__model__layer1=169, basemodel__model__layer2=96, basemodel__model__layer3=239, basemodel__model__learning_rate=0.005056050340390222, basemodel__model__optim=<class 'keras.optimizer_v2.rmsprop.RMSprop'>, basemodel__validation_split=0.8087935905465489, clip_y=127, poly_degree=3, scaler=StandardScaler();, score=0.864 total time=   3.7s\n",
            "[CV 2/3] END basemodel__batch_size=470, basemodel__epochs=33, basemodel__model__activation1=relu, basemodel__model__activation2=sigmoid, basemodel__model__activation3=relu, basemodel__model__dropout1=0.38133717904201314, basemodel__model__dropout2=0.5891848440779308, basemodel__model__dropout3=0.817744276119641, basemodel__model__layer1=169, basemodel__model__layer2=96, basemodel__model__layer3=239, basemodel__model__learning_rate=0.005056050340390222, basemodel__model__optim=<class 'keras.optimizer_v2.rmsprop.RMSprop'>, basemodel__validation_split=0.8087935905465489, clip_y=127, poly_degree=3, scaler=StandardScaler();, score=0.754 total time=   4.7s\n",
            "[CV 3/3] END basemodel__batch_size=470, basemodel__epochs=33, basemodel__model__activation1=relu, basemodel__model__activation2=sigmoid, basemodel__model__activation3=relu, basemodel__model__dropout1=0.38133717904201314, basemodel__model__dropout2=0.5891848440779308, basemodel__model__dropout3=0.817744276119641, basemodel__model__layer1=169, basemodel__model__layer2=96, basemodel__model__layer3=239, basemodel__model__learning_rate=0.005056050340390222, basemodel__model__optim=<class 'keras.optimizer_v2.rmsprop.RMSprop'>, basemodel__validation_split=0.8087935905465489, clip_y=127, poly_degree=3, scaler=StandardScaler();, score=0.707 total time=   3.7s\n",
            "Fitting 3 folds for each of 1 candidates, totalling 3 fits\n",
            "[CV 1/3] END basemodel__batch_size=332, basemodel__epochs=41, basemodel__model__activation1=sigmoid, basemodel__model__activation2=elu, basemodel__model__activation3=elu, basemodel__model__dropout1=0.15924662542772208, basemodel__model__dropout2=0.7761641008622764, basemodel__model__dropout3=0.3981622878883384, basemodel__model__layer1=494, basemodel__model__layer2=289, basemodel__model__layer3=368, basemodel__model__learning_rate=0.009121621377509893, basemodel__model__optim=<class 'keras.optimizer_v2.rmsprop.RMSprop'>, basemodel__validation_split=0.8797664580032015, clip_y=90, poly_degree=3, scaler=StandardScaler();, score=-0.101 total time=   2.5s\n",
            "[CV 2/3] END basemodel__batch_size=332, basemodel__epochs=41, basemodel__model__activation1=sigmoid, basemodel__model__activation2=elu, basemodel__model__activation3=elu, basemodel__model__dropout1=0.15924662542772208, basemodel__model__dropout2=0.7761641008622764, basemodel__model__dropout3=0.3981622878883384, basemodel__model__layer1=494, basemodel__model__layer2=289, basemodel__model__layer3=368, basemodel__model__learning_rate=0.009121621377509893, basemodel__model__optim=<class 'keras.optimizer_v2.rmsprop.RMSprop'>, basemodel__validation_split=0.8797664580032015, clip_y=90, poly_degree=3, scaler=StandardScaler();, score=0.720 total time=   8.2s\n",
            "[CV 3/3] END basemodel__batch_size=332, basemodel__epochs=41, basemodel__model__activation1=sigmoid, basemodel__model__activation2=elu, basemodel__model__activation3=elu, basemodel__model__dropout1=0.15924662542772208, basemodel__model__dropout2=0.7761641008622764, basemodel__model__dropout3=0.3981622878883384, basemodel__model__layer1=494, basemodel__model__layer2=289, basemodel__model__layer3=368, basemodel__model__learning_rate=0.009121621377509893, basemodel__model__optim=<class 'keras.optimizer_v2.rmsprop.RMSprop'>, basemodel__validation_split=0.8797664580032015, clip_y=90, poly_degree=3, scaler=StandardScaler();, score=0.557 total time=   3.0s\n",
            "Fitting 3 folds for each of 1 candidates, totalling 3 fits\n",
            "[CV 1/3] END basemodel__batch_size=155, basemodel__epochs=29, basemodel__model__activation1=sigmoid, basemodel__model__activation2=relu, basemodel__model__activation3=selu, basemodel__model__dropout1=0.12299592139763861, basemodel__model__dropout2=0.5483716871223546, basemodel__model__dropout3=0.44816408914109485, basemodel__model__layer1=292, basemodel__model__layer2=508, basemodel__model__layer3=386, basemodel__model__learning_rate=0.004571236594862678, basemodel__model__optim=<class 'keras.optimizer_v2.adam.Adam'>, basemodel__validation_split=0.4065426828685338, clip_y=96, poly_degree=3, scaler=MinMaxScaler();, score=0.877 total time=  13.1s\n",
            "[CV 2/3] END basemodel__batch_size=155, basemodel__epochs=29, basemodel__model__activation1=sigmoid, basemodel__model__activation2=relu, basemodel__model__activation3=selu, basemodel__model__dropout1=0.12299592139763861, basemodel__model__dropout2=0.5483716871223546, basemodel__model__dropout3=0.44816408914109485, basemodel__model__layer1=292, basemodel__model__layer2=508, basemodel__model__layer3=386, basemodel__model__learning_rate=0.004571236594862678, basemodel__model__optim=<class 'keras.optimizer_v2.adam.Adam'>, basemodel__validation_split=0.4065426828685338, clip_y=96, poly_degree=3, scaler=MinMaxScaler();, score=0.809 total time=  12.7s\n",
            "[CV 3/3] END basemodel__batch_size=155, basemodel__epochs=29, basemodel__model__activation1=sigmoid, basemodel__model__activation2=relu, basemodel__model__activation3=selu, basemodel__model__dropout1=0.12299592139763861, basemodel__model__dropout2=0.5483716871223546, basemodel__model__dropout3=0.44816408914109485, basemodel__model__layer1=292, basemodel__model__layer2=508, basemodel__model__layer3=386, basemodel__model__learning_rate=0.004571236594862678, basemodel__model__optim=<class 'keras.optimizer_v2.adam.Adam'>, basemodel__validation_split=0.4065426828685338, clip_y=96, poly_degree=3, scaler=MinMaxScaler();, score=0.812 total time=  12.5s\n",
            "Fitting 3 folds for each of 1 candidates, totalling 3 fits\n",
            "[CV 1/3] END basemodel__batch_size=441, basemodel__epochs=16, basemodel__model__activation1=elu, basemodel__model__activation2=selu, basemodel__model__activation3=elu, basemodel__model__dropout1=0.7045763736215092, basemodel__model__dropout2=0.2500581751752755, basemodel__model__dropout3=0.34464328502161173, basemodel__model__layer1=321, basemodel__model__layer2=130, basemodel__model__layer3=494, basemodel__model__learning_rate=0.0008959745283892961, basemodel__model__optim=<class 'keras.optimizer_v2.adam.Adam'>, basemodel__validation_split=0.6294303081272884, clip_y=106, poly_degree=2, scaler=MinMaxScaler();, score=0.828 total time=   3.2s\n",
            "[CV 2/3] END basemodel__batch_size=441, basemodel__epochs=16, basemodel__model__activation1=elu, basemodel__model__activation2=selu, basemodel__model__activation3=elu, basemodel__model__dropout1=0.7045763736215092, basemodel__model__dropout2=0.2500581751752755, basemodel__model__dropout3=0.34464328502161173, basemodel__model__layer1=321, basemodel__model__layer2=130, basemodel__model__layer3=494, basemodel__model__learning_rate=0.0008959745283892961, basemodel__model__optim=<class 'keras.optimizer_v2.adam.Adam'>, basemodel__validation_split=0.6294303081272884, clip_y=106, poly_degree=2, scaler=MinMaxScaler();, score=0.758 total time=   3.4s\n",
            "[CV 3/3] END basemodel__batch_size=441, basemodel__epochs=16, basemodel__model__activation1=elu, basemodel__model__activation2=selu, basemodel__model__activation3=elu, basemodel__model__dropout1=0.7045763736215092, basemodel__model__dropout2=0.2500581751752755, basemodel__model__dropout3=0.34464328502161173, basemodel__model__layer1=321, basemodel__model__layer2=130, basemodel__model__layer3=494, basemodel__model__learning_rate=0.0008959745283892961, basemodel__model__optim=<class 'keras.optimizer_v2.adam.Adam'>, basemodel__validation_split=0.6294303081272884, clip_y=106, poly_degree=2, scaler=MinMaxScaler();, score=0.742 total time=   3.4s\n",
            "Fitting 3 folds for each of 1 candidates, totalling 3 fits\n",
            "[CV 1/3] END basemodel__batch_size=126, basemodel__epochs=9, basemodel__model__activation1=sigmoid, basemodel__model__activation2=relu, basemodel__model__activation3=relu, basemodel__model__dropout1=0.6136814752392439, basemodel__model__dropout2=0.14175843174436553, basemodel__model__dropout3=0.635584937654874, basemodel__model__layer1=51, basemodel__model__layer2=131, basemodel__model__layer3=195, basemodel__model__learning_rate=0.005450229078506804, basemodel__model__optim=<class 'keras.optimizer_v2.adam.Adam'>, basemodel__validation_split=0.5366496191024034, clip_y=109, poly_degree=2, scaler=StandardScaler();, score=-0.232 total time=   4.9s\n",
            "[CV 2/3] END basemodel__batch_size=126, basemodel__epochs=9, basemodel__model__activation1=sigmoid, basemodel__model__activation2=relu, basemodel__model__activation3=relu, basemodel__model__dropout1=0.6136814752392439, basemodel__model__dropout2=0.14175843174436553, basemodel__model__dropout3=0.635584937654874, basemodel__model__layer1=51, basemodel__model__layer2=131, basemodel__model__layer3=195, basemodel__model__learning_rate=0.005450229078506804, basemodel__model__optim=<class 'keras.optimizer_v2.adam.Adam'>, basemodel__validation_split=0.5366496191024034, clip_y=109, poly_degree=2, scaler=StandardScaler();, score=-0.267 total time=   4.8s\n",
            "[CV 3/3] END basemodel__batch_size=126, basemodel__epochs=9, basemodel__model__activation1=sigmoid, basemodel__model__activation2=relu, basemodel__model__activation3=relu, basemodel__model__dropout1=0.6136814752392439, basemodel__model__dropout2=0.14175843174436553, basemodel__model__dropout3=0.635584937654874, basemodel__model__layer1=51, basemodel__model__layer2=131, basemodel__model__layer3=195, basemodel__model__learning_rate=0.005450229078506804, basemodel__model__optim=<class 'keras.optimizer_v2.adam.Adam'>, basemodel__validation_split=0.5366496191024034, clip_y=109, poly_degree=2, scaler=StandardScaler();, score=-0.282 total time=   4.9s\n",
            "Fitting 3 folds for each of 1 candidates, totalling 3 fits\n",
            "[CV 1/3] END basemodel__batch_size=279, basemodel__epochs=22, basemodel__model__activation1=relu, basemodel__model__activation2=sigmoid, basemodel__model__activation3=selu, basemodel__model__dropout1=0.10185591359884444, basemodel__model__dropout2=0.3478754066871951, basemodel__model__dropout3=0.3635571207122419, basemodel__model__layer1=342, basemodel__model__layer2=366, basemodel__model__layer3=328, basemodel__model__learning_rate=0.00998256519656209, basemodel__model__optim=<class 'keras.optimizer_v2.adam.Adam'>, basemodel__validation_split=0.19341834290629517, clip_y=96, poly_degree=3, scaler=StandardScaler();, score=0.880 total time=   6.7s\n",
            "[CV 2/3] END basemodel__batch_size=279, basemodel__epochs=22, basemodel__model__activation1=relu, basemodel__model__activation2=sigmoid, basemodel__model__activation3=selu, basemodel__model__dropout1=0.10185591359884444, basemodel__model__dropout2=0.3478754066871951, basemodel__model__dropout3=0.3635571207122419, basemodel__model__layer1=342, basemodel__model__layer2=366, basemodel__model__layer3=328, basemodel__model__learning_rate=0.00998256519656209, basemodel__model__optim=<class 'keras.optimizer_v2.adam.Adam'>, basemodel__validation_split=0.19341834290629517, clip_y=96, poly_degree=3, scaler=StandardScaler();, score=0.820 total time=   8.1s\n",
            "[CV 3/3] END basemodel__batch_size=279, basemodel__epochs=22, basemodel__model__activation1=relu, basemodel__model__activation2=sigmoid, basemodel__model__activation3=selu, basemodel__model__dropout1=0.10185591359884444, basemodel__model__dropout2=0.3478754066871951, basemodel__model__dropout3=0.3635571207122419, basemodel__model__layer1=342, basemodel__model__layer2=366, basemodel__model__layer3=328, basemodel__model__learning_rate=0.00998256519656209, basemodel__model__optim=<class 'keras.optimizer_v2.adam.Adam'>, basemodel__validation_split=0.19341834290629517, clip_y=96, poly_degree=3, scaler=StandardScaler();, score=0.819 total time=   6.6s\n",
            "Fitting 3 folds for each of 1 candidates, totalling 3 fits\n",
            "[CV 1/3] END basemodel__batch_size=172, basemodel__epochs=41, basemodel__model__activation1=sigmoid, basemodel__model__activation2=relu, basemodel__model__activation3=sigmoid, basemodel__model__dropout1=0.5859455870260829, basemodel__model__dropout2=0.46863278842102607, basemodel__model__dropout3=0.5072506935111539, basemodel__model__layer1=240, basemodel__model__layer2=87, basemodel__model__layer3=67, basemodel__model__learning_rate=0.007001619261878107, basemodel__model__optim=<class 'keras.optimizer_v2.rmsprop.RMSprop'>, basemodel__validation_split=0.6559900205276639, clip_y=95, poly_degree=3, scaler=StandardScaler();, score=0.894 total time=  17.7s\n",
            "[CV 2/3] END basemodel__batch_size=172, basemodel__epochs=41, basemodel__model__activation1=sigmoid, basemodel__model__activation2=relu, basemodel__model__activation3=sigmoid, basemodel__model__dropout1=0.5859455870260829, basemodel__model__dropout2=0.46863278842102607, basemodel__model__dropout3=0.5072506935111539, basemodel__model__layer1=240, basemodel__model__layer2=87, basemodel__model__layer3=67, basemodel__model__learning_rate=0.007001619261878107, basemodel__model__optim=<class 'keras.optimizer_v2.rmsprop.RMSprop'>, basemodel__validation_split=0.6559900205276639, clip_y=95, poly_degree=3, scaler=StandardScaler();, score=0.810 total time=  18.2s\n",
            "[CV 3/3] END basemodel__batch_size=172, basemodel__epochs=41, basemodel__model__activation1=sigmoid, basemodel__model__activation2=relu, basemodel__model__activation3=sigmoid, basemodel__model__dropout1=0.5859455870260829, basemodel__model__dropout2=0.46863278842102607, basemodel__model__dropout3=0.5072506935111539, basemodel__model__layer1=240, basemodel__model__layer2=87, basemodel__model__layer3=67, basemodel__model__learning_rate=0.007001619261878107, basemodel__model__optim=<class 'keras.optimizer_v2.rmsprop.RMSprop'>, basemodel__validation_split=0.6559900205276639, clip_y=95, poly_degree=3, scaler=StandardScaler();, score=0.817 total time=  18.3s\n",
            "Fitting 3 folds for each of 1 candidates, totalling 3 fits\n",
            "[CV 1/3] END basemodel__batch_size=405, basemodel__epochs=46, basemodel__model__activation1=selu, basemodel__model__activation2=tanh, basemodel__model__activation3=tanh, basemodel__model__dropout1=0.475562486339553, basemodel__model__dropout2=0.5572821071720399, basemodel__model__dropout3=0.6460537023245626, basemodel__model__layer1=305, basemodel__model__layer2=509, basemodel__model__layer3=51, basemodel__model__learning_rate=0.0061539242338995385, basemodel__model__optim=<class 'keras.optimizer_v2.rmsprop.RMSprop'>, basemodel__validation_split=0.2509379755380748, clip_y=130, poly_degree=3, scaler=MinMaxScaler();, score=0.790 total time=  12.0s\n",
            "[CV 2/3] END basemodel__batch_size=405, basemodel__epochs=46, basemodel__model__activation1=selu, basemodel__model__activation2=tanh, basemodel__model__activation3=tanh, basemodel__model__dropout1=0.475562486339553, basemodel__model__dropout2=0.5572821071720399, basemodel__model__dropout3=0.6460537023245626, basemodel__model__layer1=305, basemodel__model__layer2=509, basemodel__model__layer3=51, basemodel__model__learning_rate=0.0061539242338995385, basemodel__model__optim=<class 'keras.optimizer_v2.rmsprop.RMSprop'>, basemodel__validation_split=0.2509379755380748, clip_y=130, poly_degree=3, scaler=MinMaxScaler();, score=0.727 total time=  12.0s\n",
            "[CV 3/3] END basemodel__batch_size=405, basemodel__epochs=46, basemodel__model__activation1=selu, basemodel__model__activation2=tanh, basemodel__model__activation3=tanh, basemodel__model__dropout1=0.475562486339553, basemodel__model__dropout2=0.5572821071720399, basemodel__model__dropout3=0.6460537023245626, basemodel__model__layer1=305, basemodel__model__layer2=509, basemodel__model__layer3=51, basemodel__model__learning_rate=0.0061539242338995385, basemodel__model__optim=<class 'keras.optimizer_v2.rmsprop.RMSprop'>, basemodel__validation_split=0.2509379755380748, clip_y=130, poly_degree=3, scaler=MinMaxScaler();, score=0.671 total time=   7.2s\n",
            "Fitting 3 folds for each of 1 candidates, totalling 3 fits\n",
            "[CV 1/3] END basemodel__batch_size=171, basemodel__epochs=37, basemodel__model__activation1=selu, basemodel__model__activation2=selu, basemodel__model__activation3=selu, basemodel__model__dropout1=0.687522687877685, basemodel__model__dropout2=0.28512341092894333, basemodel__model__dropout3=0.6810217120598633, basemodel__model__layer1=188, basemodel__model__layer2=228, basemodel__model__layer3=369, basemodel__model__learning_rate=0.002817038324941244, basemodel__model__optim=<class 'keras.optimizer_v2.adam.Adam'>, basemodel__validation_split=0.4784567791090436, clip_y=122, poly_degree=2, scaler=MinMaxScaler();, score=0.859 total time=  14.7s\n",
            "[CV 2/3] END basemodel__batch_size=171, basemodel__epochs=37, basemodel__model__activation1=selu, basemodel__model__activation2=selu, basemodel__model__activation3=selu, basemodel__model__dropout1=0.687522687877685, basemodel__model__dropout2=0.28512341092894333, basemodel__model__dropout3=0.6810217120598633, basemodel__model__layer1=188, basemodel__model__layer2=228, basemodel__model__layer3=369, basemodel__model__learning_rate=0.002817038324941244, basemodel__model__optim=<class 'keras.optimizer_v2.adam.Adam'>, basemodel__validation_split=0.4784567791090436, clip_y=122, poly_degree=2, scaler=MinMaxScaler();, score=0.747 total time=  10.5s\n",
            "[CV 3/3] END basemodel__batch_size=171, basemodel__epochs=37, basemodel__model__activation1=selu, basemodel__model__activation2=selu, basemodel__model__activation3=selu, basemodel__model__dropout1=0.687522687877685, basemodel__model__dropout2=0.28512341092894333, basemodel__model__dropout3=0.6810217120598633, basemodel__model__layer1=188, basemodel__model__layer2=228, basemodel__model__layer3=369, basemodel__model__learning_rate=0.002817038324941244, basemodel__model__optim=<class 'keras.optimizer_v2.adam.Adam'>, basemodel__validation_split=0.4784567791090436, clip_y=122, poly_degree=2, scaler=MinMaxScaler();, score=0.753 total time=   8.1s\n",
            "Fitting 3 folds for each of 1 candidates, totalling 3 fits\n",
            "[CV 1/3] END basemodel__batch_size=280, basemodel__epochs=11, basemodel__model__activation1=selu, basemodel__model__activation2=selu, basemodel__model__activation3=selu, basemodel__model__dropout1=0.1, basemodel__model__dropout2=0.6691237077196222, basemodel__model__dropout3=0.1, basemodel__model__layer1=481, basemodel__model__layer2=512, basemodel__model__layer3=353, basemodel__model__learning_rate=0.01, basemodel__model__optim=<class 'keras.optimizer_v2.adam.Adam'>, basemodel__validation_split=0.1, clip_y=80, poly_degree=3, scaler=StandardScaler();, score=0.905 total time=   3.9s\n",
            "[CV 2/3] END basemodel__batch_size=280, basemodel__epochs=11, basemodel__model__activation1=selu, basemodel__model__activation2=selu, basemodel__model__activation3=selu, basemodel__model__dropout1=0.1, basemodel__model__dropout2=0.6691237077196222, basemodel__model__dropout3=0.1, basemodel__model__layer1=481, basemodel__model__layer2=512, basemodel__model__layer3=353, basemodel__model__learning_rate=0.01, basemodel__model__optim=<class 'keras.optimizer_v2.adam.Adam'>, basemodel__validation_split=0.1, clip_y=80, poly_degree=3, scaler=StandardScaler();, score=0.849 total time=   3.9s\n",
            "[CV 3/3] END basemodel__batch_size=280, basemodel__epochs=11, basemodel__model__activation1=selu, basemodel__model__activation2=selu, basemodel__model__activation3=selu, basemodel__model__dropout1=0.1, basemodel__model__dropout2=0.6691237077196222, basemodel__model__dropout3=0.1, basemodel__model__layer1=481, basemodel__model__layer2=512, basemodel__model__layer3=353, basemodel__model__learning_rate=0.01, basemodel__model__optim=<class 'keras.optimizer_v2.adam.Adam'>, basemodel__validation_split=0.1, clip_y=80, poly_degree=3, scaler=StandardScaler();, score=0.850 total time=   3.8s\n",
            "Fitting 3 folds for each of 1 candidates, totalling 3 fits\n",
            "[CV 1/3] END basemodel__batch_size=32, basemodel__epochs=34, basemodel__model__activation1=tanh, basemodel__model__activation2=elu, basemodel__model__activation3=selu, basemodel__model__dropout1=0.7560060040397028, basemodel__model__dropout2=0.39177738818716235, basemodel__model__dropout3=0.2738244264697448, basemodel__model__layer1=112, basemodel__model__layer2=16, basemodel__model__layer3=95, basemodel__model__learning_rate=0.00821953100955016, basemodel__model__optim=<class 'keras.optimizer_v2.rmsprop.RMSprop'>, basemodel__validation_split=0.9, clip_y=80, poly_degree=3, scaler=StandardScaler();, score=0.869 total time=  30.4s\n",
            "[CV 2/3] END basemodel__batch_size=32, basemodel__epochs=34, basemodel__model__activation1=tanh, basemodel__model__activation2=elu, basemodel__model__activation3=selu, basemodel__model__dropout1=0.7560060040397028, basemodel__model__dropout2=0.39177738818716235, basemodel__model__dropout3=0.2738244264697448, basemodel__model__layer1=112, basemodel__model__layer2=16, basemodel__model__layer3=95, basemodel__model__learning_rate=0.00821953100955016, basemodel__model__optim=<class 'keras.optimizer_v2.rmsprop.RMSprop'>, basemodel__validation_split=0.9, clip_y=80, poly_degree=3, scaler=StandardScaler();, score=0.795 total time=  25.1s\n",
            "[CV 3/3] END basemodel__batch_size=32, basemodel__epochs=34, basemodel__model__activation1=tanh, basemodel__model__activation2=elu, basemodel__model__activation3=selu, basemodel__model__dropout1=0.7560060040397028, basemodel__model__dropout2=0.39177738818716235, basemodel__model__dropout3=0.2738244264697448, basemodel__model__layer1=112, basemodel__model__layer2=16, basemodel__model__layer3=95, basemodel__model__learning_rate=0.00821953100955016, basemodel__model__optim=<class 'keras.optimizer_v2.rmsprop.RMSprop'>, basemodel__validation_split=0.9, clip_y=80, poly_degree=3, scaler=StandardScaler();, score=0.799 total time=  33.4s\n",
            "Fitting 3 folds for each of 1 candidates, totalling 3 fits\n",
            "[CV 1/3] END basemodel__batch_size=32, basemodel__epochs=1, basemodel__model__activation1=elu, basemodel__model__activation2=elu, basemodel__model__activation3=elu, basemodel__model__dropout1=0.9, basemodel__model__dropout2=0.1, basemodel__model__dropout3=0.1, basemodel__model__layer1=16, basemodel__model__layer2=16, basemodel__model__layer3=16, basemodel__model__learning_rate=0.0001, basemodel__model__optim=<class 'keras.optimizer_v2.rmsprop.RMSprop'>, basemodel__validation_split=0.9, clip_y=80, poly_degree=2, scaler=StandardScaler();, score=-6.937 total time=   2.7s\n",
            "[CV 2/3] END basemodel__batch_size=32, basemodel__epochs=1, basemodel__model__activation1=elu, basemodel__model__activation2=elu, basemodel__model__activation3=elu, basemodel__model__dropout1=0.9, basemodel__model__dropout2=0.1, basemodel__model__dropout3=0.1, basemodel__model__layer1=16, basemodel__model__layer2=16, basemodel__model__layer3=16, basemodel__model__learning_rate=0.0001, basemodel__model__optim=<class 'keras.optimizer_v2.rmsprop.RMSprop'>, basemodel__validation_split=0.9, clip_y=80, poly_degree=2, scaler=StandardScaler();, score=-6.891 total time=   2.3s\n",
            "[CV 3/3] END basemodel__batch_size=32, basemodel__epochs=1, basemodel__model__activation1=elu, basemodel__model__activation2=elu, basemodel__model__activation3=elu, basemodel__model__dropout1=0.9, basemodel__model__dropout2=0.1, basemodel__model__dropout3=0.1, basemodel__model__layer1=16, basemodel__model__layer2=16, basemodel__model__layer3=16, basemodel__model__learning_rate=0.0001, basemodel__model__optim=<class 'keras.optimizer_v2.rmsprop.RMSprop'>, basemodel__validation_split=0.9, clip_y=80, poly_degree=2, scaler=StandardScaler();, score=-6.841 total time=   2.8s\n",
            "Fitting 3 folds for each of 1 candidates, totalling 3 fits\n",
            "[CV 1/3] END basemodel__batch_size=512, basemodel__epochs=1, basemodel__model__activation1=elu, basemodel__model__activation2=tanh, basemodel__model__activation3=tanh, basemodel__model__dropout1=0.9, basemodel__model__dropout2=0.9, basemodel__model__dropout3=0.9, basemodel__model__layer1=16, basemodel__model__layer2=512, basemodel__model__layer3=512, basemodel__model__learning_rate=0.01, basemodel__model__optim=<class 'keras.optimizer_v2.adam.Adam'>, basemodel__validation_split=0.1, clip_y=140, poly_degree=2, scaler=MinMaxScaler();, score=-0.069 total time=   0.9s\n",
            "[CV 2/3] END basemodel__batch_size=512, basemodel__epochs=1, basemodel__model__activation1=elu, basemodel__model__activation2=tanh, basemodel__model__activation3=tanh, basemodel__model__dropout1=0.9, basemodel__model__dropout2=0.9, basemodel__model__dropout3=0.9, basemodel__model__layer1=16, basemodel__model__layer2=512, basemodel__model__layer3=512, basemodel__model__learning_rate=0.01, basemodel__model__optim=<class 'keras.optimizer_v2.adam.Adam'>, basemodel__validation_split=0.1, clip_y=140, poly_degree=2, scaler=MinMaxScaler();, score=-0.081 total time=   0.8s\n",
            "[CV 3/3] END basemodel__batch_size=512, basemodel__epochs=1, basemodel__model__activation1=elu, basemodel__model__activation2=tanh, basemodel__model__activation3=tanh, basemodel__model__dropout1=0.9, basemodel__model__dropout2=0.9, basemodel__model__dropout3=0.9, basemodel__model__layer1=16, basemodel__model__layer2=512, basemodel__model__layer3=512, basemodel__model__learning_rate=0.01, basemodel__model__optim=<class 'keras.optimizer_v2.adam.Adam'>, basemodel__validation_split=0.1, clip_y=140, poly_degree=2, scaler=MinMaxScaler();, score=-0.100 total time=   0.8s\n",
            "Fitting 3 folds for each of 1 candidates, totalling 3 fits\n",
            "[CV 1/3] END basemodel__batch_size=195, basemodel__epochs=35, basemodel__model__activation1=selu, basemodel__model__activation2=selu, basemodel__model__activation3=sigmoid, basemodel__model__dropout1=0.6293508053290944, basemodel__model__dropout2=0.38950288288270607, basemodel__model__dropout3=0.6216451331244477, basemodel__model__layer1=289, basemodel__model__layer2=351, basemodel__model__layer3=414, basemodel__model__learning_rate=0.002995659349798998, basemodel__model__optim=<class 'keras.optimizer_v2.adam.Adam'>, basemodel__validation_split=0.24343171280942127, clip_y=121, poly_degree=2, scaler=MinMaxScaler();, score=-0.002 total time=   5.0s\n",
            "[CV 2/3] END basemodel__batch_size=195, basemodel__epochs=35, basemodel__model__activation1=selu, basemodel__model__activation2=selu, basemodel__model__activation3=sigmoid, basemodel__model__dropout1=0.6293508053290944, basemodel__model__dropout2=0.38950288288270607, basemodel__model__dropout3=0.6216451331244477, basemodel__model__layer1=289, basemodel__model__layer2=351, basemodel__model__layer3=414, basemodel__model__learning_rate=0.002995659349798998, basemodel__model__optim=<class 'keras.optimizer_v2.adam.Adam'>, basemodel__validation_split=0.24343171280942127, clip_y=121, poly_degree=2, scaler=MinMaxScaler();, score=-0.000 total time=   5.8s\n",
            "[CV 3/3] END basemodel__batch_size=195, basemodel__epochs=35, basemodel__model__activation1=selu, basemodel__model__activation2=selu, basemodel__model__activation3=sigmoid, basemodel__model__dropout1=0.6293508053290944, basemodel__model__dropout2=0.38950288288270607, basemodel__model__dropout3=0.6216451331244477, basemodel__model__layer1=289, basemodel__model__layer2=351, basemodel__model__layer3=414, basemodel__model__learning_rate=0.002995659349798998, basemodel__model__optim=<class 'keras.optimizer_v2.adam.Adam'>, basemodel__validation_split=0.24343171280942127, clip_y=121, poly_degree=2, scaler=MinMaxScaler();, score=-0.001 total time=   5.2s\n",
            "Fitting 3 folds for each of 1 candidates, totalling 3 fits\n",
            "[CV 1/3] END basemodel__batch_size=32, basemodel__epochs=50, basemodel__model__activation1=tanh, basemodel__model__activation2=elu, basemodel__model__activation3=tanh, basemodel__model__dropout1=0.49812285864345296, basemodel__model__dropout2=0.4405742583070813, basemodel__model__dropout3=0.6030297952044232, basemodel__model__layer1=473, basemodel__model__layer2=16, basemodel__model__layer3=147, basemodel__model__learning_rate=0.01, basemodel__model__optim=<class 'keras.optimizer_v2.rmsprop.RMSprop'>, basemodel__validation_split=0.9, clip_y=82, poly_degree=2, scaler=StandardScaler();, score=0.875 total time=  42.4s\n",
            "[CV 2/3] END basemodel__batch_size=32, basemodel__epochs=50, basemodel__model__activation1=tanh, basemodel__model__activation2=elu, basemodel__model__activation3=tanh, basemodel__model__dropout1=0.49812285864345296, basemodel__model__dropout2=0.4405742583070813, basemodel__model__dropout3=0.6030297952044232, basemodel__model__layer1=473, basemodel__model__layer2=16, basemodel__model__layer3=147, basemodel__model__learning_rate=0.01, basemodel__model__optim=<class 'keras.optimizer_v2.rmsprop.RMSprop'>, basemodel__validation_split=0.9, clip_y=82, poly_degree=2, scaler=StandardScaler();, score=0.723 total time=  18.1s\n",
            "[CV 3/3] END basemodel__batch_size=32, basemodel__epochs=50, basemodel__model__activation1=tanh, basemodel__model__activation2=elu, basemodel__model__activation3=tanh, basemodel__model__dropout1=0.49812285864345296, basemodel__model__dropout2=0.4405742583070813, basemodel__model__dropout3=0.6030297952044232, basemodel__model__layer1=473, basemodel__model__layer2=16, basemodel__model__layer3=147, basemodel__model__learning_rate=0.01, basemodel__model__optim=<class 'keras.optimizer_v2.rmsprop.RMSprop'>, basemodel__validation_split=0.9, clip_y=82, poly_degree=2, scaler=StandardScaler();, score=0.745 total time=  22.9s\n",
            "Fitting 3 folds for each of 1 candidates, totalling 3 fits\n",
            "[CV 1/3] END basemodel__batch_size=218, basemodel__epochs=33, basemodel__model__activation1=selu, basemodel__model__activation2=selu, basemodel__model__activation3=selu, basemodel__model__dropout1=0.2978735458006043, basemodel__model__dropout2=0.48068802677512956, basemodel__model__dropout3=0.602697279705805, basemodel__model__layer1=216, basemodel__model__layer2=349, basemodel__model__layer3=353, basemodel__model__learning_rate=0.004267195908586339, basemodel__model__optim=<class 'keras.optimizer_v2.adam.Adam'>, basemodel__validation_split=0.5501056587367966, clip_y=110, poly_degree=3, scaler=MinMaxScaler();, score=0.880 total time=   7.4s\n",
            "[CV 2/3] END basemodel__batch_size=218, basemodel__epochs=33, basemodel__model__activation1=selu, basemodel__model__activation2=selu, basemodel__model__activation3=selu, basemodel__model__dropout1=0.2978735458006043, basemodel__model__dropout2=0.48068802677512956, basemodel__model__dropout3=0.602697279705805, basemodel__model__layer1=216, basemodel__model__layer2=349, basemodel__model__layer3=353, basemodel__model__learning_rate=0.004267195908586339, basemodel__model__optim=<class 'keras.optimizer_v2.adam.Adam'>, basemodel__validation_split=0.5501056587367966, clip_y=110, poly_degree=3, scaler=MinMaxScaler();, score=0.787 total time=  10.7s\n",
            "[CV 3/3] END basemodel__batch_size=218, basemodel__epochs=33, basemodel__model__activation1=selu, basemodel__model__activation2=selu, basemodel__model__activation3=selu, basemodel__model__dropout1=0.2978735458006043, basemodel__model__dropout2=0.48068802677512956, basemodel__model__dropout3=0.602697279705805, basemodel__model__layer1=216, basemodel__model__layer2=349, basemodel__model__layer3=353, basemodel__model__learning_rate=0.004267195908586339, basemodel__model__optim=<class 'keras.optimizer_v2.adam.Adam'>, basemodel__validation_split=0.5501056587367966, clip_y=110, poly_degree=3, scaler=MinMaxScaler();, score=0.799 total time=   7.4s\n",
            "Fitting 3 folds for each of 1 candidates, totalling 3 fits\n",
            "[CV 1/3] END basemodel__batch_size=175, basemodel__epochs=36, basemodel__model__activation1=sigmoid, basemodel__model__activation2=selu, basemodel__model__activation3=relu, basemodel__model__dropout1=0.5300556847219954, basemodel__model__dropout2=0.3419870892840083, basemodel__model__dropout3=0.6418652106496103, basemodel__model__layer1=192, basemodel__model__layer2=288, basemodel__model__layer3=371, basemodel__model__learning_rate=0.0031813026377004805, basemodel__model__optim=<class 'keras.optimizer_v2.adam.Adam'>, basemodel__validation_split=0.4998037664884891, clip_y=117, poly_degree=2, scaler=MinMaxScaler();, score=0.843 total time=  11.3s\n",
            "[CV 2/3] END basemodel__batch_size=175, basemodel__epochs=36, basemodel__model__activation1=sigmoid, basemodel__model__activation2=selu, basemodel__model__activation3=relu, basemodel__model__dropout1=0.5300556847219954, basemodel__model__dropout2=0.3419870892840083, basemodel__model__dropout3=0.6418652106496103, basemodel__model__layer1=192, basemodel__model__layer2=288, basemodel__model__layer3=371, basemodel__model__learning_rate=0.0031813026377004805, basemodel__model__optim=<class 'keras.optimizer_v2.adam.Adam'>, basemodel__validation_split=0.4998037664884891, clip_y=117, poly_degree=2, scaler=MinMaxScaler();, score=0.761 total time=  13.8s\n",
            "[CV 3/3] END basemodel__batch_size=175, basemodel__epochs=36, basemodel__model__activation1=sigmoid, basemodel__model__activation2=selu, basemodel__model__activation3=relu, basemodel__model__dropout1=0.5300556847219954, basemodel__model__dropout2=0.3419870892840083, basemodel__model__dropout3=0.6418652106496103, basemodel__model__layer1=192, basemodel__model__layer2=288, basemodel__model__layer3=371, basemodel__model__learning_rate=0.0031813026377004805, basemodel__model__optim=<class 'keras.optimizer_v2.adam.Adam'>, basemodel__validation_split=0.4998037664884891, clip_y=117, poly_degree=2, scaler=MinMaxScaler();, score=0.741 total time=   9.0s\n",
            "Fitting 3 folds for each of 1 candidates, totalling 3 fits\n",
            "[CV 1/3] END basemodel__batch_size=197, basemodel__epochs=44, basemodel__model__activation1=sigmoid, basemodel__model__activation2=selu, basemodel__model__activation3=sigmoid, basemodel__model__dropout1=0.5501717772174374, basemodel__model__dropout2=0.5057866064225944, basemodel__model__dropout3=0.57090684748391, basemodel__model__layer1=234, basemodel__model__layer2=143, basemodel__model__layer3=69, basemodel__model__learning_rate=0.007533196131946972, basemodel__model__optim=<class 'keras.optimizer_v2.rmsprop.RMSprop'>, basemodel__validation_split=0.6115417841327262, clip_y=103, poly_degree=3, scaler=StandardScaler();, score=0.876 total time=  15.0s\n",
            "[CV 2/3] END basemodel__batch_size=197, basemodel__epochs=44, basemodel__model__activation1=sigmoid, basemodel__model__activation2=selu, basemodel__model__activation3=sigmoid, basemodel__model__dropout1=0.5501717772174374, basemodel__model__dropout2=0.5057866064225944, basemodel__model__dropout3=0.57090684748391, basemodel__model__layer1=234, basemodel__model__layer2=143, basemodel__model__layer3=69, basemodel__model__learning_rate=0.007533196131946972, basemodel__model__optim=<class 'keras.optimizer_v2.rmsprop.RMSprop'>, basemodel__validation_split=0.6115417841327262, clip_y=103, poly_degree=3, scaler=StandardScaler();, score=0.793 total time=  14.6s\n",
            "[CV 3/3] END basemodel__batch_size=197, basemodel__epochs=44, basemodel__model__activation1=sigmoid, basemodel__model__activation2=selu, basemodel__model__activation3=sigmoid, basemodel__model__dropout1=0.5501717772174374, basemodel__model__dropout2=0.5057866064225944, basemodel__model__dropout3=0.57090684748391, basemodel__model__layer1=234, basemodel__model__layer2=143, basemodel__model__layer3=69, basemodel__model__learning_rate=0.007533196131946972, basemodel__model__optim=<class 'keras.optimizer_v2.rmsprop.RMSprop'>, basemodel__validation_split=0.6115417841327262, clip_y=103, poly_degree=3, scaler=StandardScaler();, score=0.773 total time=  17.8s\n",
            "Fitting 3 folds for each of 1 candidates, totalling 3 fits\n",
            "[CV 1/3] END basemodel__batch_size=83, basemodel__epochs=24, basemodel__model__activation1=tanh, basemodel__model__activation2=elu, basemodel__model__activation3=relu, basemodel__model__dropout1=0.1, basemodel__model__dropout2=0.5309316869215851, basemodel__model__dropout3=0.23666751559616972, basemodel__model__layer1=299, basemodel__model__layer2=512, basemodel__model__layer3=381, basemodel__model__learning_rate=0.0048692612167275445, basemodel__model__optim=<class 'keras.optimizer_v2.adam.Adam'>, basemodel__validation_split=0.4900247384538434, clip_y=86, poly_degree=3, scaler=MinMaxScaler();, score=0.884 total time=  14.0s\n",
            "[CV 2/3] END basemodel__batch_size=83, basemodel__epochs=24, basemodel__model__activation1=tanh, basemodel__model__activation2=elu, basemodel__model__activation3=relu, basemodel__model__dropout1=0.1, basemodel__model__dropout2=0.5309316869215851, basemodel__model__dropout3=0.23666751559616972, basemodel__model__layer1=299, basemodel__model__layer2=512, basemodel__model__layer3=381, basemodel__model__learning_rate=0.0048692612167275445, basemodel__model__optim=<class 'keras.optimizer_v2.adam.Adam'>, basemodel__validation_split=0.4900247384538434, clip_y=86, poly_degree=3, scaler=MinMaxScaler();, score=0.805 total time=  13.7s\n",
            "[CV 3/3] END basemodel__batch_size=83, basemodel__epochs=24, basemodel__model__activation1=tanh, basemodel__model__activation2=elu, basemodel__model__activation3=relu, basemodel__model__dropout1=0.1, basemodel__model__dropout2=0.5309316869215851, basemodel__model__dropout3=0.23666751559616972, basemodel__model__layer1=299, basemodel__model__layer2=512, basemodel__model__layer3=381, basemodel__model__learning_rate=0.0048692612167275445, basemodel__model__optim=<class 'keras.optimizer_v2.adam.Adam'>, basemodel__validation_split=0.4900247384538434, clip_y=86, poly_degree=3, scaler=MinMaxScaler();, score=0.688 total time=  17.6s\n",
            "Fitting 3 folds for each of 1 candidates, totalling 3 fits\n",
            "[CV 1/3] END basemodel__batch_size=35, basemodel__epochs=50, basemodel__model__activation1=tanh, basemodel__model__activation2=elu, basemodel__model__activation3=tanh, basemodel__model__dropout1=0.5547984035822123, basemodel__model__dropout2=0.4222597983657469, basemodel__model__dropout3=0.6776938466602743, basemodel__model__layer1=512, basemodel__model__layer2=16, basemodel__model__layer3=165, basemodel__model__learning_rate=0.01, basemodel__model__optim=<class 'keras.optimizer_v2.rmsprop.RMSprop'>, basemodel__validation_split=0.9, clip_y=85, poly_degree=2, scaler=StandardScaler();, score=0.837 total time=  16.8s\n",
            "[CV 2/3] END basemodel__batch_size=35, basemodel__epochs=50, basemodel__model__activation1=tanh, basemodel__model__activation2=elu, basemodel__model__activation3=tanh, basemodel__model__dropout1=0.5547984035822123, basemodel__model__dropout2=0.4222597983657469, basemodel__model__dropout3=0.6776938466602743, basemodel__model__layer1=512, basemodel__model__layer2=16, basemodel__model__layer3=165, basemodel__model__learning_rate=0.01, basemodel__model__optim=<class 'keras.optimizer_v2.rmsprop.RMSprop'>, basemodel__validation_split=0.9, clip_y=85, poly_degree=2, scaler=StandardScaler();, score=0.700 total time=  28.6s\n",
            "[CV 3/3] END basemodel__batch_size=35, basemodel__epochs=50, basemodel__model__activation1=tanh, basemodel__model__activation2=elu, basemodel__model__activation3=tanh, basemodel__model__dropout1=0.5547984035822123, basemodel__model__dropout2=0.4222597983657469, basemodel__model__dropout3=0.6776938466602743, basemodel__model__layer1=512, basemodel__model__layer2=16, basemodel__model__layer3=165, basemodel__model__learning_rate=0.01, basemodel__model__optim=<class 'keras.optimizer_v2.rmsprop.RMSprop'>, basemodel__validation_split=0.9, clip_y=85, poly_degree=2, scaler=StandardScaler();, score=0.787 total time=  21.0s\n",
            "Fitting 3 folds for each of 1 candidates, totalling 3 fits\n",
            "[CV 1/3] END basemodel__batch_size=168, basemodel__epochs=40, basemodel__model__activation1=selu, basemodel__model__activation2=selu, basemodel__model__activation3=relu, basemodel__model__dropout1=0.6427504399336421, basemodel__model__dropout2=0.21758582329085324, basemodel__model__dropout3=0.7028763516099718, basemodel__model__layer1=95, basemodel__model__layer2=150, basemodel__model__layer3=340, basemodel__model__learning_rate=0.0028970680120776067, basemodel__model__optim=<class 'keras.optimizer_v2.adam.Adam'>, basemodel__validation_split=0.6185237835060297, clip_y=121, poly_degree=2, scaler=MinMaxScaler();, score=0.862 total time=   9.5s\n",
            "[CV 2/3] END basemodel__batch_size=168, basemodel__epochs=40, basemodel__model__activation1=selu, basemodel__model__activation2=selu, basemodel__model__activation3=relu, basemodel__model__dropout1=0.6427504399336421, basemodel__model__dropout2=0.21758582329085324, basemodel__model__dropout3=0.7028763516099718, basemodel__model__layer1=95, basemodel__model__layer2=150, basemodel__model__layer3=340, basemodel__model__learning_rate=0.0028970680120776067, basemodel__model__optim=<class 'keras.optimizer_v2.adam.Adam'>, basemodel__validation_split=0.6185237835060297, clip_y=121, poly_degree=2, scaler=MinMaxScaler();, score=0.756 total time=   9.9s\n",
            "[CV 3/3] END basemodel__batch_size=168, basemodel__epochs=40, basemodel__model__activation1=selu, basemodel__model__activation2=selu, basemodel__model__activation3=relu, basemodel__model__dropout1=0.6427504399336421, basemodel__model__dropout2=0.21758582329085324, basemodel__model__dropout3=0.7028763516099718, basemodel__model__layer1=95, basemodel__model__layer2=150, basemodel__model__layer3=340, basemodel__model__learning_rate=0.0028970680120776067, basemodel__model__optim=<class 'keras.optimizer_v2.adam.Adam'>, basemodel__validation_split=0.6185237835060297, clip_y=121, poly_degree=2, scaler=MinMaxScaler();, score=0.758 total time=  13.6s\n",
            "Fitting 3 folds for each of 1 candidates, totalling 3 fits\n",
            "[CV 1/3] END basemodel__batch_size=479, basemodel__epochs=39, basemodel__model__activation1=elu, basemodel__model__activation2=sigmoid, basemodel__model__activation3=selu, basemodel__model__dropout1=0.29283488624480325, basemodel__model__dropout2=0.6641086680621371, basemodel__model__dropout3=0.8027664766729105, basemodel__model__layer1=206, basemodel__model__layer2=126, basemodel__model__layer3=271, basemodel__model__learning_rate=0.005490675131773472, basemodel__model__optim=<class 'keras.optimizer_v2.rmsprop.RMSprop'>, basemodel__validation_split=0.8672259915569392, clip_y=121, poly_degree=3, scaler=StandardScaler();, score=0.865 total time=   2.8s\n",
            "[CV 2/3] END basemodel__batch_size=479, basemodel__epochs=39, basemodel__model__activation1=elu, basemodel__model__activation2=sigmoid, basemodel__model__activation3=selu, basemodel__model__dropout1=0.29283488624480325, basemodel__model__dropout2=0.6641086680621371, basemodel__model__dropout3=0.8027664766729105, basemodel__model__layer1=206, basemodel__model__layer2=126, basemodel__model__layer3=271, basemodel__model__learning_rate=0.005490675131773472, basemodel__model__optim=<class 'keras.optimizer_v2.rmsprop.RMSprop'>, basemodel__validation_split=0.8672259915569392, clip_y=121, poly_degree=3, scaler=StandardScaler();, score=0.727 total time=   5.2s\n",
            "[CV 3/3] END basemodel__batch_size=479, basemodel__epochs=39, basemodel__model__activation1=elu, basemodel__model__activation2=sigmoid, basemodel__model__activation3=selu, basemodel__model__dropout1=0.29283488624480325, basemodel__model__dropout2=0.6641086680621371, basemodel__model__dropout3=0.8027664766729105, basemodel__model__layer1=206, basemodel__model__layer2=126, basemodel__model__layer3=271, basemodel__model__learning_rate=0.005490675131773472, basemodel__model__optim=<class 'keras.optimizer_v2.rmsprop.RMSprop'>, basemodel__validation_split=0.8672259915569392, clip_y=121, poly_degree=3, scaler=StandardScaler();, score=0.692 total time=   5.9s\n",
            "Fitting 3 folds for each of 1 candidates, totalling 3 fits\n",
            "[CV 1/3] END basemodel__batch_size=144, basemodel__epochs=29, basemodel__model__activation1=tanh, basemodel__model__activation2=relu, basemodel__model__activation3=elu, basemodel__model__dropout1=0.15507159733350107, basemodel__model__dropout2=0.3894293841759888, basemodel__model__dropout3=0.48753058032107244, basemodel__model__layer1=182, basemodel__model__layer2=390, basemodel__model__layer3=347, basemodel__model__learning_rate=0.004332182870220142, basemodel__model__optim=<class 'keras.optimizer_v2.adam.Adam'>, basemodel__validation_split=0.6493451054160833, clip_y=97, poly_degree=3, scaler=MinMaxScaler();, score=0.881 total time=  12.4s\n",
            "[CV 2/3] END basemodel__batch_size=144, basemodel__epochs=29, basemodel__model__activation1=tanh, basemodel__model__activation2=relu, basemodel__model__activation3=elu, basemodel__model__dropout1=0.15507159733350107, basemodel__model__dropout2=0.3894293841759888, basemodel__model__dropout3=0.48753058032107244, basemodel__model__layer1=182, basemodel__model__layer2=390, basemodel__model__layer3=347, basemodel__model__learning_rate=0.004332182870220142, basemodel__model__optim=<class 'keras.optimizer_v2.adam.Adam'>, basemodel__validation_split=0.6493451054160833, clip_y=97, poly_degree=3, scaler=MinMaxScaler();, score=0.803 total time=  11.1s\n",
            "[CV 3/3] END basemodel__batch_size=144, basemodel__epochs=29, basemodel__model__activation1=tanh, basemodel__model__activation2=relu, basemodel__model__activation3=elu, basemodel__model__dropout1=0.15507159733350107, basemodel__model__dropout2=0.3894293841759888, basemodel__model__dropout3=0.48753058032107244, basemodel__model__layer1=182, basemodel__model__layer2=390, basemodel__model__layer3=347, basemodel__model__learning_rate=0.004332182870220142, basemodel__model__optim=<class 'keras.optimizer_v2.adam.Adam'>, basemodel__validation_split=0.6493451054160833, clip_y=97, poly_degree=3, scaler=MinMaxScaler();, score=0.822 total time=  10.4s\n",
            "Fitting 3 folds for each of 1 candidates, totalling 3 fits\n",
            "[CV 1/3] END basemodel__batch_size=472, basemodel__epochs=40, basemodel__model__activation1=sigmoid, basemodel__model__activation2=relu, basemodel__model__activation3=sigmoid, basemodel__model__dropout1=0.3321964034422654, basemodel__model__dropout2=0.8266402083994178, basemodel__model__dropout3=0.8014291280962512, basemodel__model__layer1=502, basemodel__model__layer2=192, basemodel__model__layer3=168, basemodel__model__learning_rate=0.0068636059878823315, basemodel__model__optim=<class 'keras.optimizer_v2.rmsprop.RMSprop'>, basemodel__validation_split=0.6172062876189469, clip_y=109, poly_degree=3, scaler=StandardScaler();, score=0.848 total time=   7.0s\n",
            "[CV 2/3] END basemodel__batch_size=472, basemodel__epochs=40, basemodel__model__activation1=sigmoid, basemodel__model__activation2=relu, basemodel__model__activation3=sigmoid, basemodel__model__dropout1=0.3321964034422654, basemodel__model__dropout2=0.8266402083994178, basemodel__model__dropout3=0.8014291280962512, basemodel__model__layer1=502, basemodel__model__layer2=192, basemodel__model__layer3=168, basemodel__model__learning_rate=0.0068636059878823315, basemodel__model__optim=<class 'keras.optimizer_v2.rmsprop.RMSprop'>, basemodel__validation_split=0.6172062876189469, clip_y=109, poly_degree=3, scaler=StandardScaler();, score=0.747 total time=   6.0s\n",
            "[CV 3/3] END basemodel__batch_size=472, basemodel__epochs=40, basemodel__model__activation1=sigmoid, basemodel__model__activation2=relu, basemodel__model__activation3=sigmoid, basemodel__model__dropout1=0.3321964034422654, basemodel__model__dropout2=0.8266402083994178, basemodel__model__dropout3=0.8014291280962512, basemodel__model__layer1=502, basemodel__model__layer2=192, basemodel__model__layer3=168, basemodel__model__learning_rate=0.0068636059878823315, basemodel__model__optim=<class 'keras.optimizer_v2.rmsprop.RMSprop'>, basemodel__validation_split=0.6172062876189469, clip_y=109, poly_degree=3, scaler=StandardScaler();, score=0.769 total time=   6.7s\n",
            "Fitting 3 folds for each of 1 candidates, totalling 3 fits\n",
            "[CV 1/3] END basemodel__batch_size=154, basemodel__epochs=1, basemodel__model__activation1=tanh, basemodel__model__activation2=elu, basemodel__model__activation3=selu, basemodel__model__dropout1=0.5116019297887203, basemodel__model__dropout2=0.9, basemodel__model__dropout3=0.1, basemodel__model__layer1=512, basemodel__model__layer2=512, basemodel__model__layer3=512, basemodel__model__learning_rate=0.002639969580287878, basemodel__model__optim=<class 'keras.optimizer_v2.adam.Adam'>, basemodel__validation_split=0.1, clip_y=80, poly_degree=3, scaler=StandardScaler();, score=0.877 total time=   1.3s\n",
            "[CV 2/3] END basemodel__batch_size=154, basemodel__epochs=1, basemodel__model__activation1=tanh, basemodel__model__activation2=elu, basemodel__model__activation3=selu, basemodel__model__dropout1=0.5116019297887203, basemodel__model__dropout2=0.9, basemodel__model__dropout3=0.1, basemodel__model__layer1=512, basemodel__model__layer2=512, basemodel__model__layer3=512, basemodel__model__learning_rate=0.002639969580287878, basemodel__model__optim=<class 'keras.optimizer_v2.adam.Adam'>, basemodel__validation_split=0.1, clip_y=80, poly_degree=3, scaler=StandardScaler();, score=0.801 total time=   1.1s\n",
            "[CV 3/3] END basemodel__batch_size=154, basemodel__epochs=1, basemodel__model__activation1=tanh, basemodel__model__activation2=elu, basemodel__model__activation3=selu, basemodel__model__dropout1=0.5116019297887203, basemodel__model__dropout2=0.9, basemodel__model__dropout3=0.1, basemodel__model__layer1=512, basemodel__model__layer2=512, basemodel__model__layer3=512, basemodel__model__learning_rate=0.002639969580287878, basemodel__model__optim=<class 'keras.optimizer_v2.adam.Adam'>, basemodel__validation_split=0.1, clip_y=80, poly_degree=3, scaler=StandardScaler();, score=0.812 total time=   1.2s\n",
            "Fitting 3 folds for each of 1 candidates, totalling 3 fits\n",
            "[CV 1/3] END basemodel__batch_size=32, basemodel__epochs=38, basemodel__model__activation1=sigmoid, basemodel__model__activation2=elu, basemodel__model__activation3=sigmoid, basemodel__model__dropout1=0.9, basemodel__model__dropout2=0.1, basemodel__model__dropout3=0.1, basemodel__model__layer1=16, basemodel__model__layer2=16, basemodel__model__layer3=16, basemodel__model__learning_rate=0.0064251612776639044, basemodel__model__optim=<class 'keras.optimizer_v2.rmsprop.RMSprop'>, basemodel__validation_split=0.7625079846604942, clip_y=80, poly_degree=3, scaler=StandardScaler();, score=0.665 total time=  22.7s\n",
            "[CV 2/3] END basemodel__batch_size=32, basemodel__epochs=38, basemodel__model__activation1=sigmoid, basemodel__model__activation2=elu, basemodel__model__activation3=sigmoid, basemodel__model__dropout1=0.9, basemodel__model__dropout2=0.1, basemodel__model__dropout3=0.1, basemodel__model__layer1=16, basemodel__model__layer2=16, basemodel__model__layer3=16, basemodel__model__learning_rate=0.0064251612776639044, basemodel__model__optim=<class 'keras.optimizer_v2.rmsprop.RMSprop'>, basemodel__validation_split=0.7625079846604942, clip_y=80, poly_degree=3, scaler=StandardScaler();, score=0.618 total time=  47.2s\n",
            "[CV 3/3] END basemodel__batch_size=32, basemodel__epochs=38, basemodel__model__activation1=sigmoid, basemodel__model__activation2=elu, basemodel__model__activation3=sigmoid, basemodel__model__dropout1=0.9, basemodel__model__dropout2=0.1, basemodel__model__dropout3=0.1, basemodel__model__layer1=16, basemodel__model__layer2=16, basemodel__model__layer3=16, basemodel__model__learning_rate=0.0064251612776639044, basemodel__model__optim=<class 'keras.optimizer_v2.rmsprop.RMSprop'>, basemodel__validation_split=0.7625079846604942, clip_y=80, poly_degree=3, scaler=StandardScaler();, score=0.592 total time=  48.2s\n",
            "Fitting 3 folds for each of 1 candidates, totalling 3 fits\n",
            "[CV 1/3] END basemodel__batch_size=116, basemodel__epochs=33, basemodel__model__activation1=tanh, basemodel__model__activation2=relu, basemodel__model__activation3=elu, basemodel__model__dropout1=0.5044615109153472, basemodel__model__dropout2=0.1511879925208404, basemodel__model__dropout3=0.6546700669001628, basemodel__model__layer1=139, basemodel__model__layer2=261, basemodel__model__layer3=384, basemodel__model__learning_rate=0.0025849033065336274, basemodel__model__optim=<class 'keras.optimizer_v2.adam.Adam'>, basemodel__validation_split=0.6546497097717069, clip_y=108, poly_degree=2, scaler=MinMaxScaler();, score=0.883 total time=  13.8s\n",
            "[CV 2/3] END basemodel__batch_size=116, basemodel__epochs=33, basemodel__model__activation1=tanh, basemodel__model__activation2=relu, basemodel__model__activation3=elu, basemodel__model__dropout1=0.5044615109153472, basemodel__model__dropout2=0.1511879925208404, basemodel__model__dropout3=0.6546700669001628, basemodel__model__layer1=139, basemodel__model__layer2=261, basemodel__model__layer3=384, basemodel__model__learning_rate=0.0025849033065336274, basemodel__model__optim=<class 'keras.optimizer_v2.adam.Adam'>, basemodel__validation_split=0.6546497097717069, clip_y=108, poly_degree=2, scaler=MinMaxScaler();, score=0.796 total time=  17.0s\n",
            "[CV 3/3] END basemodel__batch_size=116, basemodel__epochs=33, basemodel__model__activation1=tanh, basemodel__model__activation2=relu, basemodel__model__activation3=elu, basemodel__model__dropout1=0.5044615109153472, basemodel__model__dropout2=0.1511879925208404, basemodel__model__dropout3=0.6546700669001628, basemodel__model__layer1=139, basemodel__model__layer2=261, basemodel__model__layer3=384, basemodel__model__learning_rate=0.0025849033065336274, basemodel__model__optim=<class 'keras.optimizer_v2.adam.Adam'>, basemodel__validation_split=0.6546497097717069, clip_y=108, poly_degree=2, scaler=MinMaxScaler();, score=0.795 total time=  17.3s\n",
            "Fitting 3 folds for each of 1 candidates, totalling 3 fits\n",
            "[CV 1/3] END basemodel__batch_size=80, basemodel__epochs=28, basemodel__model__activation1=tanh, basemodel__model__activation2=elu, basemodel__model__activation3=elu, basemodel__model__dropout1=0.2500266855264386, basemodel__model__dropout2=0.1, basemodel__model__dropout3=0.6109479763068069, basemodel__model__layer1=51, basemodel__model__layer2=269, basemodel__model__layer3=376, basemodel__model__learning_rate=0.0024581718361120063, basemodel__model__optim=<class 'keras.optimizer_v2.adam.Adam'>, basemodel__validation_split=0.9, clip_y=94, poly_degree=2, scaler=MinMaxScaler();, score=0.874 total time=  18.3s\n",
            "[CV 2/3] END basemodel__batch_size=80, basemodel__epochs=28, basemodel__model__activation1=tanh, basemodel__model__activation2=elu, basemodel__model__activation3=elu, basemodel__model__dropout1=0.2500266855264386, basemodel__model__dropout2=0.1, basemodel__model__dropout3=0.6109479763068069, basemodel__model__layer1=51, basemodel__model__layer2=269, basemodel__model__layer3=376, basemodel__model__learning_rate=0.0024581718361120063, basemodel__model__optim=<class 'keras.optimizer_v2.adam.Adam'>, basemodel__validation_split=0.9, clip_y=94, poly_degree=2, scaler=MinMaxScaler();, score=0.698 total time=  17.9s\n",
            "[CV 3/3] END basemodel__batch_size=80, basemodel__epochs=28, basemodel__model__activation1=tanh, basemodel__model__activation2=elu, basemodel__model__activation3=elu, basemodel__model__dropout1=0.2500266855264386, basemodel__model__dropout2=0.1, basemodel__model__dropout3=0.6109479763068069, basemodel__model__layer1=51, basemodel__model__layer2=269, basemodel__model__layer3=376, basemodel__model__learning_rate=0.0024581718361120063, basemodel__model__optim=<class 'keras.optimizer_v2.adam.Adam'>, basemodel__validation_split=0.9, clip_y=94, poly_degree=2, scaler=MinMaxScaler();, score=0.766 total time=  18.9s\n",
            "Fitting 3 folds for each of 1 candidates, totalling 3 fits\n",
            "[CV 1/3] END basemodel__batch_size=512, basemodel__epochs=5, basemodel__model__activation1=elu, basemodel__model__activation2=selu, basemodel__model__activation3=elu, basemodel__model__dropout1=0.6304006622630123, basemodel__model__dropout2=0.32130911518147226, basemodel__model__dropout3=0.221776882818649, basemodel__model__layer1=332, basemodel__model__layer2=94, basemodel__model__layer3=502, basemodel__model__learning_rate=0.00033821200158082906, basemodel__model__optim=<class 'keras.optimizer_v2.adam.Adam'>, basemodel__validation_split=0.8046411773577833, clip_y=99, poly_degree=2, scaler=MinMaxScaler();, score=-2.858 total time=   1.4s\n",
            "[CV 2/3] END basemodel__batch_size=512, basemodel__epochs=5, basemodel__model__activation1=elu, basemodel__model__activation2=selu, basemodel__model__activation3=elu, basemodel__model__dropout1=0.6304006622630123, basemodel__model__dropout2=0.32130911518147226, basemodel__model__dropout3=0.221776882818649, basemodel__model__layer1=332, basemodel__model__layer2=94, basemodel__model__layer3=502, basemodel__model__learning_rate=0.00033821200158082906, basemodel__model__optim=<class 'keras.optimizer_v2.adam.Adam'>, basemodel__validation_split=0.8046411773577833, clip_y=99, poly_degree=2, scaler=MinMaxScaler();, score=-2.710 total time=   1.3s\n",
            "[CV 3/3] END basemodel__batch_size=512, basemodel__epochs=5, basemodel__model__activation1=elu, basemodel__model__activation2=selu, basemodel__model__activation3=elu, basemodel__model__dropout1=0.6304006622630123, basemodel__model__dropout2=0.32130911518147226, basemodel__model__dropout3=0.221776882818649, basemodel__model__layer1=332, basemodel__model__layer2=94, basemodel__model__layer3=502, basemodel__model__learning_rate=0.00033821200158082906, basemodel__model__optim=<class 'keras.optimizer_v2.adam.Adam'>, basemodel__validation_split=0.8046411773577833, clip_y=99, poly_degree=2, scaler=MinMaxScaler();, score=-2.730 total time=   1.6s\n",
            "Fitting 3 folds for each of 1 candidates, totalling 3 fits\n",
            "[CV 1/3] END basemodel__batch_size=352, basemodel__epochs=19, basemodel__model__activation1=elu, basemodel__model__activation2=selu, basemodel__model__activation3=relu, basemodel__model__dropout1=0.7429813878912118, basemodel__model__dropout2=0.14570113795260214, basemodel__model__dropout3=0.5702195294172198, basemodel__model__layer1=275, basemodel__model__layer2=119, basemodel__model__layer3=512, basemodel__model__learning_rate=0.0011583327508357703, basemodel__model__optim=<class 'keras.optimizer_v2.adam.Adam'>, basemodel__validation_split=0.6042889186742924, clip_y=116, poly_degree=2, scaler=MinMaxScaler();, score=0.839 total time=   4.3s\n",
            "[CV 2/3] END basemodel__batch_size=352, basemodel__epochs=19, basemodel__model__activation1=elu, basemodel__model__activation2=selu, basemodel__model__activation3=relu, basemodel__model__dropout1=0.7429813878912118, basemodel__model__dropout2=0.14570113795260214, basemodel__model__dropout3=0.5702195294172198, basemodel__model__layer1=275, basemodel__model__layer2=119, basemodel__model__layer3=512, basemodel__model__learning_rate=0.0011583327508357703, basemodel__model__optim=<class 'keras.optimizer_v2.adam.Adam'>, basemodel__validation_split=0.6042889186742924, clip_y=116, poly_degree=2, scaler=MinMaxScaler();, score=0.757 total time=   4.7s\n",
            "[CV 3/3] END basemodel__batch_size=352, basemodel__epochs=19, basemodel__model__activation1=elu, basemodel__model__activation2=selu, basemodel__model__activation3=relu, basemodel__model__dropout1=0.7429813878912118, basemodel__model__dropout2=0.14570113795260214, basemodel__model__dropout3=0.5702195294172198, basemodel__model__layer1=275, basemodel__model__layer2=119, basemodel__model__layer3=512, basemodel__model__learning_rate=0.0011583327508357703, basemodel__model__optim=<class 'keras.optimizer_v2.adam.Adam'>, basemodel__validation_split=0.6042889186742924, clip_y=116, poly_degree=2, scaler=MinMaxScaler();, score=0.749 total time=   4.6s\n",
            "Fitting 3 folds for each of 1 candidates, totalling 3 fits\n",
            "[CV 1/3] END basemodel__batch_size=48, basemodel__epochs=29, basemodel__model__activation1=relu, basemodel__model__activation2=selu, basemodel__model__activation3=sigmoid, basemodel__model__dropout1=0.16899565651354637, basemodel__model__dropout2=0.510354283364148, basemodel__model__dropout3=0.6495506516055211, basemodel__model__layer1=156, basemodel__model__layer2=447, basemodel__model__layer3=423, basemodel__model__learning_rate=0.005133926927569656, basemodel__model__optim=<class 'keras.optimizer_v2.adam.Adam'>, basemodel__validation_split=0.4555764200269362, clip_y=106, poly_degree=3, scaler=MinMaxScaler();, score=-0.007 total time=  17.5s\n",
            "[CV 2/3] END basemodel__batch_size=48, basemodel__epochs=29, basemodel__model__activation1=relu, basemodel__model__activation2=selu, basemodel__model__activation3=sigmoid, basemodel__model__dropout1=0.16899565651354637, basemodel__model__dropout2=0.510354283364148, basemodel__model__dropout3=0.6495506516055211, basemodel__model__layer1=156, basemodel__model__layer2=447, basemodel__model__layer3=423, basemodel__model__learning_rate=0.005133926927569656, basemodel__model__optim=<class 'keras.optimizer_v2.adam.Adam'>, basemodel__validation_split=0.4555764200269362, clip_y=106, poly_degree=3, scaler=MinMaxScaler();, score=0.796 total time=  33.2s\n",
            "[CV 3/3] END basemodel__batch_size=48, basemodel__epochs=29, basemodel__model__activation1=relu, basemodel__model__activation2=selu, basemodel__model__activation3=sigmoid, basemodel__model__dropout1=0.16899565651354637, basemodel__model__dropout2=0.510354283364148, basemodel__model__dropout3=0.6495506516055211, basemodel__model__layer1=156, basemodel__model__layer2=447, basemodel__model__layer3=423, basemodel__model__learning_rate=0.005133926927569656, basemodel__model__optim=<class 'keras.optimizer_v2.adam.Adam'>, basemodel__validation_split=0.4555764200269362, clip_y=106, poly_degree=3, scaler=MinMaxScaler();, score=-0.001 total time=  12.5s\n",
            "Fitting 3 folds for each of 1 candidates, totalling 3 fits\n",
            "[CV 1/3] END basemodel__batch_size=239, basemodel__epochs=28, basemodel__model__activation1=tanh, basemodel__model__activation2=elu, basemodel__model__activation3=relu, basemodel__model__dropout1=0.11673013273363328, basemodel__model__dropout2=0.5529267634202614, basemodel__model__dropout3=0.2663068887125156, basemodel__model__layer1=379, basemodel__model__layer2=512, basemodel__model__layer3=367, basemodel__model__learning_rate=0.004383650781222579, basemodel__model__optim=<class 'keras.optimizer_v2.adam.Adam'>, basemodel__validation_split=0.40652305639881614, clip_y=87, poly_degree=3, scaler=MinMaxScaler();, score=0.905 total time=   8.8s\n",
            "[CV 2/3] END basemodel__batch_size=239, basemodel__epochs=28, basemodel__model__activation1=tanh, basemodel__model__activation2=elu, basemodel__model__activation3=relu, basemodel__model__dropout1=0.11673013273363328, basemodel__model__dropout2=0.5529267634202614, basemodel__model__dropout3=0.2663068887125156, basemodel__model__layer1=379, basemodel__model__layer2=512, basemodel__model__layer3=367, basemodel__model__learning_rate=0.004383650781222579, basemodel__model__optim=<class 'keras.optimizer_v2.adam.Adam'>, basemodel__validation_split=0.40652305639881614, clip_y=87, poly_degree=3, scaler=MinMaxScaler();, score=0.835 total time=   9.6s\n",
            "[CV 3/3] END basemodel__batch_size=239, basemodel__epochs=28, basemodel__model__activation1=tanh, basemodel__model__activation2=elu, basemodel__model__activation3=relu, basemodel__model__dropout1=0.11673013273363328, basemodel__model__dropout2=0.5529267634202614, basemodel__model__dropout3=0.2663068887125156, basemodel__model__layer1=379, basemodel__model__layer2=512, basemodel__model__layer3=367, basemodel__model__learning_rate=0.004383650781222579, basemodel__model__optim=<class 'keras.optimizer_v2.adam.Adam'>, basemodel__validation_split=0.40652305639881614, clip_y=87, poly_degree=3, scaler=MinMaxScaler();, score=0.817 total time=   7.5s\n",
            "Fitting 3 folds for each of 1 candidates, totalling 3 fits\n",
            "[CV 1/3] END basemodel__batch_size=418, basemodel__epochs=18, basemodel__model__activation1=elu, basemodel__model__activation2=selu, basemodel__model__activation3=elu, basemodel__model__dropout1=0.7405157476147372, basemodel__model__dropout2=0.21817012378959744, basemodel__model__dropout3=0.3946110034479252, basemodel__model__layer1=326, basemodel__model__layer2=142, basemodel__model__layer3=492, basemodel__model__learning_rate=0.0009939179093242934, basemodel__model__optim=<class 'keras.optimizer_v2.adam.Adam'>, basemodel__validation_split=0.5900756285926553, clip_y=108, poly_degree=2, scaler=MinMaxScaler();, score=0.837 total time=   4.4s\n",
            "[CV 2/3] END basemodel__batch_size=418, basemodel__epochs=18, basemodel__model__activation1=elu, basemodel__model__activation2=selu, basemodel__model__activation3=elu, basemodel__model__dropout1=0.7405157476147372, basemodel__model__dropout2=0.21817012378959744, basemodel__model__dropout3=0.3946110034479252, basemodel__model__layer1=326, basemodel__model__layer2=142, basemodel__model__layer3=492, basemodel__model__learning_rate=0.0009939179093242934, basemodel__model__optim=<class 'keras.optimizer_v2.adam.Adam'>, basemodel__validation_split=0.5900756285926553, clip_y=108, poly_degree=2, scaler=MinMaxScaler();, score=0.762 total time=   3.6s\n",
            "[CV 3/3] END basemodel__batch_size=418, basemodel__epochs=18, basemodel__model__activation1=elu, basemodel__model__activation2=selu, basemodel__model__activation3=elu, basemodel__model__dropout1=0.7405157476147372, basemodel__model__dropout2=0.21817012378959744, basemodel__model__dropout3=0.3946110034479252, basemodel__model__layer1=326, basemodel__model__layer2=142, basemodel__model__layer3=492, basemodel__model__learning_rate=0.0009939179093242934, basemodel__model__optim=<class 'keras.optimizer_v2.adam.Adam'>, basemodel__validation_split=0.5900756285926553, clip_y=108, poly_degree=2, scaler=MinMaxScaler();, score=0.753 total time=   4.1s\n",
            "Fitting 3 folds for each of 1 candidates, totalling 3 fits\n",
            "[CV 1/3] END basemodel__batch_size=82, basemodel__epochs=33, basemodel__model__activation1=sigmoid, basemodel__model__activation2=relu, basemodel__model__activation3=elu, basemodel__model__dropout1=0.524062027675073, basemodel__model__dropout2=0.17003608720779367, basemodel__model__dropout3=0.7340624630675661, basemodel__model__layer1=105, basemodel__model__layer2=234, basemodel__model__layer3=411, basemodel__model__learning_rate=0.002918831909863141, basemodel__model__optim=<class 'keras.optimizer_v2.adam.Adam'>, basemodel__validation_split=0.6579688637246486, clip_y=113, poly_degree=2, scaler=MinMaxScaler();, score=0.808 total time=  23.8s\n",
            "[CV 2/3] END basemodel__batch_size=82, basemodel__epochs=33, basemodel__model__activation1=sigmoid, basemodel__model__activation2=relu, basemodel__model__activation3=elu, basemodel__model__dropout1=0.524062027675073, basemodel__model__dropout2=0.17003608720779367, basemodel__model__dropout3=0.7340624630675661, basemodel__model__layer1=105, basemodel__model__layer2=234, basemodel__model__layer3=411, basemodel__model__learning_rate=0.002918831909863141, basemodel__model__optim=<class 'keras.optimizer_v2.adam.Adam'>, basemodel__validation_split=0.6579688637246486, clip_y=113, poly_degree=2, scaler=MinMaxScaler();, score=0.761 total time=  23.5s\n",
            "[CV 3/3] END basemodel__batch_size=82, basemodel__epochs=33, basemodel__model__activation1=sigmoid, basemodel__model__activation2=relu, basemodel__model__activation3=elu, basemodel__model__dropout1=0.524062027675073, basemodel__model__dropout2=0.17003608720779367, basemodel__model__dropout3=0.7340624630675661, basemodel__model__layer1=105, basemodel__model__layer2=234, basemodel__model__layer3=411, basemodel__model__learning_rate=0.002918831909863141, basemodel__model__optim=<class 'keras.optimizer_v2.adam.Adam'>, basemodel__validation_split=0.6579688637246486, clip_y=113, poly_degree=2, scaler=MinMaxScaler();, score=0.703 total time=  24.3s\n",
            "Fitting 3 folds for each of 1 candidates, totalling 3 fits\n",
            "[CV 1/3] END basemodel__batch_size=283, basemodel__epochs=14, basemodel__model__activation1=tanh, basemodel__model__activation2=relu, basemodel__model__activation3=elu, basemodel__model__dropout1=0.1, basemodel__model__dropout2=0.53425143831743, basemodel__model__dropout3=0.1, basemodel__model__layer1=512, basemodel__model__layer2=512, basemodel__model__layer3=305, basemodel__model__learning_rate=0.009573430971057319, basemodel__model__optim=<class 'keras.optimizer_v2.adam.Adam'>, basemodel__validation_split=0.1, clip_y=80, poly_degree=3, scaler=StandardScaler();, score=0.908 total time=   4.7s\n",
            "[CV 2/3] END basemodel__batch_size=283, basemodel__epochs=14, basemodel__model__activation1=tanh, basemodel__model__activation2=relu, basemodel__model__activation3=elu, basemodel__model__dropout1=0.1, basemodel__model__dropout2=0.53425143831743, basemodel__model__dropout3=0.1, basemodel__model__layer1=512, basemodel__model__layer2=512, basemodel__model__layer3=305, basemodel__model__learning_rate=0.009573430971057319, basemodel__model__optim=<class 'keras.optimizer_v2.adam.Adam'>, basemodel__validation_split=0.1, clip_y=80, poly_degree=3, scaler=StandardScaler();, score=0.850 total time=   4.8s\n",
            "[CV 3/3] END basemodel__batch_size=283, basemodel__epochs=14, basemodel__model__activation1=tanh, basemodel__model__activation2=relu, basemodel__model__activation3=elu, basemodel__model__dropout1=0.1, basemodel__model__dropout2=0.53425143831743, basemodel__model__dropout3=0.1, basemodel__model__layer1=512, basemodel__model__layer2=512, basemodel__model__layer3=305, basemodel__model__learning_rate=0.009573430971057319, basemodel__model__optim=<class 'keras.optimizer_v2.adam.Adam'>, basemodel__validation_split=0.1, clip_y=80, poly_degree=3, scaler=StandardScaler();, score=0.846 total time=   4.7s\n",
            "Fitting 3 folds for each of 1 candidates, totalling 3 fits\n",
            "[CV 1/3] END basemodel__batch_size=314, basemodel__epochs=26, basemodel__model__activation1=tanh, basemodel__model__activation2=elu, basemodel__model__activation3=elu, basemodel__model__dropout1=0.1081765739139841, basemodel__model__dropout2=0.6513971030380965, basemodel__model__dropout3=0.1, basemodel__model__layer1=424, basemodel__model__layer2=512, basemodel__model__layer3=342, basemodel__model__learning_rate=0.004203749170462213, basemodel__model__optim=<class 'keras.optimizer_v2.adam.Adam'>, basemodel__validation_split=0.45180197681461054, clip_y=80, poly_degree=3, scaler=MinMaxScaler();, score=0.912 total time=   6.5s\n",
            "[CV 2/3] END basemodel__batch_size=314, basemodel__epochs=26, basemodel__model__activation1=tanh, basemodel__model__activation2=elu, basemodel__model__activation3=elu, basemodel__model__dropout1=0.1081765739139841, basemodel__model__dropout2=0.6513971030380965, basemodel__model__dropout3=0.1, basemodel__model__layer1=424, basemodel__model__layer2=512, basemodel__model__layer3=342, basemodel__model__learning_rate=0.004203749170462213, basemodel__model__optim=<class 'keras.optimizer_v2.adam.Adam'>, basemodel__validation_split=0.45180197681461054, clip_y=80, poly_degree=3, scaler=MinMaxScaler();, score=0.837 total time=   6.4s\n",
            "[CV 3/3] END basemodel__batch_size=314, basemodel__epochs=26, basemodel__model__activation1=tanh, basemodel__model__activation2=elu, basemodel__model__activation3=elu, basemodel__model__dropout1=0.1081765739139841, basemodel__model__dropout2=0.6513971030380965, basemodel__model__dropout3=0.1, basemodel__model__layer1=424, basemodel__model__layer2=512, basemodel__model__layer3=342, basemodel__model__learning_rate=0.004203749170462213, basemodel__model__optim=<class 'keras.optimizer_v2.adam.Adam'>, basemodel__validation_split=0.45180197681461054, clip_y=80, poly_degree=3, scaler=MinMaxScaler();, score=0.842 total time=   6.8s\n",
            "Fitting 3 folds for each of 1 candidates, totalling 3 fits\n",
            "[CV 1/3] END basemodel__batch_size=125, basemodel__epochs=6, basemodel__model__activation1=tanh, basemodel__model__activation2=elu, basemodel__model__activation3=relu, basemodel__model__dropout1=0.19748080248342292, basemodel__model__dropout2=0.838258078570273, basemodel__model__dropout3=0.1, basemodel__model__layer1=512, basemodel__model__layer2=512, basemodel__model__layer3=495, basemodel__model__learning_rate=0.0029124340564088093, basemodel__model__optim=<class 'keras.optimizer_v2.adam.Adam'>, basemodel__validation_split=0.1, clip_y=80, poly_degree=3, scaler=StandardScaler();, score=0.712 total time=   4.3s\n",
            "[CV 2/3] END basemodel__batch_size=125, basemodel__epochs=6, basemodel__model__activation1=tanh, basemodel__model__activation2=elu, basemodel__model__activation3=relu, basemodel__model__dropout1=0.19748080248342292, basemodel__model__dropout2=0.838258078570273, basemodel__model__dropout3=0.1, basemodel__model__layer1=512, basemodel__model__layer2=512, basemodel__model__layer3=495, basemodel__model__learning_rate=0.0029124340564088093, basemodel__model__optim=<class 'keras.optimizer_v2.adam.Adam'>, basemodel__validation_split=0.1, clip_y=80, poly_degree=3, scaler=StandardScaler();, score=0.407 total time=   4.3s\n",
            "[CV 3/3] END basemodel__batch_size=125, basemodel__epochs=6, basemodel__model__activation1=tanh, basemodel__model__activation2=elu, basemodel__model__activation3=relu, basemodel__model__dropout1=0.19748080248342292, basemodel__model__dropout2=0.838258078570273, basemodel__model__dropout3=0.1, basemodel__model__layer1=512, basemodel__model__layer2=512, basemodel__model__layer3=495, basemodel__model__learning_rate=0.0029124340564088093, basemodel__model__optim=<class 'keras.optimizer_v2.adam.Adam'>, basemodel__validation_split=0.1, clip_y=80, poly_degree=3, scaler=StandardScaler();, score=0.544 total time=   4.4s\n",
            "Fitting 3 folds for each of 1 candidates, totalling 3 fits\n",
            "[CV 1/3] END basemodel__batch_size=108, basemodel__epochs=47, basemodel__model__activation1=tanh, basemodel__model__activation2=sigmoid, basemodel__model__activation3=sigmoid, basemodel__model__dropout1=0.3435603111309291, basemodel__model__dropout2=0.19502850440152486, basemodel__model__dropout3=0.21271316435675305, basemodel__model__layer1=152, basemodel__model__layer2=512, basemodel__model__layer3=66, basemodel__model__learning_rate=0.0077128310994605456, basemodel__model__optim=<class 'keras.optimizer_v2.rmsprop.RMSprop'>, basemodel__validation_split=0.2645789340833755, clip_y=111, poly_degree=3, scaler=MinMaxScaler();, score=0.874 total time=  41.0s\n",
            "[CV 2/3] END basemodel__batch_size=108, basemodel__epochs=47, basemodel__model__activation1=tanh, basemodel__model__activation2=sigmoid, basemodel__model__activation3=sigmoid, basemodel__model__dropout1=0.3435603111309291, basemodel__model__dropout2=0.19502850440152486, basemodel__model__dropout3=0.21271316435675305, basemodel__model__layer1=152, basemodel__model__layer2=512, basemodel__model__layer3=66, basemodel__model__learning_rate=0.0077128310994605456, basemodel__model__optim=<class 'keras.optimizer_v2.rmsprop.RMSprop'>, basemodel__validation_split=0.2645789340833755, clip_y=111, poly_degree=3, scaler=MinMaxScaler();, score=0.797 total time=  40.4s\n",
            "[CV 3/3] END basemodel__batch_size=108, basemodel__epochs=47, basemodel__model__activation1=tanh, basemodel__model__activation2=sigmoid, basemodel__model__activation3=sigmoid, basemodel__model__dropout1=0.3435603111309291, basemodel__model__dropout2=0.19502850440152486, basemodel__model__dropout3=0.21271316435675305, basemodel__model__layer1=152, basemodel__model__layer2=512, basemodel__model__layer3=66, basemodel__model__learning_rate=0.0077128310994605456, basemodel__model__optim=<class 'keras.optimizer_v2.rmsprop.RMSprop'>, basemodel__validation_split=0.2645789340833755, clip_y=111, poly_degree=3, scaler=MinMaxScaler();, score=0.799 total time=  34.5s\n",
            "Fitting 3 folds for each of 1 candidates, totalling 3 fits\n",
            "[CV 1/3] END basemodel__batch_size=298, basemodel__epochs=28, basemodel__model__activation1=tanh, basemodel__model__activation2=elu, basemodel__model__activation3=elu, basemodel__model__dropout1=0.1, basemodel__model__dropout2=0.5152043017213929, basemodel__model__dropout3=0.1, basemodel__model__layer1=427, basemodel__model__layer2=512, basemodel__model__layer3=335, basemodel__model__learning_rate=0.004266699527584505, basemodel__model__optim=<class 'keras.optimizer_v2.adam.Adam'>, basemodel__validation_split=0.46342114088635566, clip_y=81, poly_degree=3, scaler=MinMaxScaler();, score=0.915 total time=   7.1s\n",
            "[CV 2/3] END basemodel__batch_size=298, basemodel__epochs=28, basemodel__model__activation1=tanh, basemodel__model__activation2=elu, basemodel__model__activation3=elu, basemodel__model__dropout1=0.1, basemodel__model__dropout2=0.5152043017213929, basemodel__model__dropout3=0.1, basemodel__model__layer1=427, basemodel__model__layer2=512, basemodel__model__layer3=335, basemodel__model__learning_rate=0.004266699527584505, basemodel__model__optim=<class 'keras.optimizer_v2.adam.Adam'>, basemodel__validation_split=0.46342114088635566, clip_y=81, poly_degree=3, scaler=MinMaxScaler();, score=0.841 total time=   7.1s\n",
            "[CV 3/3] END basemodel__batch_size=298, basemodel__epochs=28, basemodel__model__activation1=tanh, basemodel__model__activation2=elu, basemodel__model__activation3=elu, basemodel__model__dropout1=0.1, basemodel__model__dropout2=0.5152043017213929, basemodel__model__dropout3=0.1, basemodel__model__layer1=427, basemodel__model__layer2=512, basemodel__model__layer3=335, basemodel__model__learning_rate=0.004266699527584505, basemodel__model__optim=<class 'keras.optimizer_v2.adam.Adam'>, basemodel__validation_split=0.46342114088635566, clip_y=81, poly_degree=3, scaler=MinMaxScaler();, score=0.833 total time=   7.1s\n",
            "Fitting 3 folds for each of 1 candidates, totalling 3 fits\n",
            "[CV 1/3] END basemodel__batch_size=361, basemodel__epochs=15, basemodel__model__activation1=tanh, basemodel__model__activation2=relu, basemodel__model__activation3=elu, basemodel__model__dropout1=0.1, basemodel__model__dropout2=0.5942333384371549, basemodel__model__dropout3=0.1, basemodel__model__layer1=512, basemodel__model__layer2=512, basemodel__model__layer3=318, basemodel__model__learning_rate=0.01, basemodel__model__optim=<class 'keras.optimizer_v2.adam.Adam'>, basemodel__validation_split=0.1, clip_y=80, poly_degree=3, scaler=StandardScaler();, score=0.911 total time=   4.4s\n",
            "[CV 2/3] END basemodel__batch_size=361, basemodel__epochs=15, basemodel__model__activation1=tanh, basemodel__model__activation2=relu, basemodel__model__activation3=elu, basemodel__model__dropout1=0.1, basemodel__model__dropout2=0.5942333384371549, basemodel__model__dropout3=0.1, basemodel__model__layer1=512, basemodel__model__layer2=512, basemodel__model__layer3=318, basemodel__model__learning_rate=0.01, basemodel__model__optim=<class 'keras.optimizer_v2.adam.Adam'>, basemodel__validation_split=0.1, clip_y=80, poly_degree=3, scaler=StandardScaler();, score=0.841 total time=   4.3s\n",
            "[CV 3/3] END basemodel__batch_size=361, basemodel__epochs=15, basemodel__model__activation1=tanh, basemodel__model__activation2=relu, basemodel__model__activation3=elu, basemodel__model__dropout1=0.1, basemodel__model__dropout2=0.5942333384371549, basemodel__model__dropout3=0.1, basemodel__model__layer1=512, basemodel__model__layer2=512, basemodel__model__layer3=318, basemodel__model__learning_rate=0.01, basemodel__model__optim=<class 'keras.optimizer_v2.adam.Adam'>, basemodel__validation_split=0.1, clip_y=80, poly_degree=3, scaler=StandardScaler();, score=0.840 total time=   4.1s\n",
            "Fitting 3 folds for each of 1 candidates, totalling 3 fits\n",
            "[CV 1/3] END basemodel__batch_size=150, basemodel__epochs=24, basemodel__model__activation1=tanh, basemodel__model__activation2=relu, basemodel__model__activation3=relu, basemodel__model__dropout1=0.1, basemodel__model__dropout2=0.7879069251300834, basemodel__model__dropout3=0.2304167793255957, basemodel__model__layer1=301, basemodel__model__layer2=512, basemodel__model__layer3=355, basemodel__model__learning_rate=0.004412006060507727, basemodel__model__optim=<class 'keras.optimizer_v2.adam.Adam'>, basemodel__validation_split=0.48853503204390536, clip_y=87, poly_degree=3, scaler=MinMaxScaler();, score=0.814 total time=  11.1s\n",
            "[CV 2/3] END basemodel__batch_size=150, basemodel__epochs=24, basemodel__model__activation1=tanh, basemodel__model__activation2=relu, basemodel__model__activation3=relu, basemodel__model__dropout1=0.1, basemodel__model__dropout2=0.7879069251300834, basemodel__model__dropout3=0.2304167793255957, basemodel__model__layer1=301, basemodel__model__layer2=512, basemodel__model__layer3=355, basemodel__model__learning_rate=0.004412006060507727, basemodel__model__optim=<class 'keras.optimizer_v2.adam.Adam'>, basemodel__validation_split=0.48853503204390536, clip_y=87, poly_degree=3, scaler=MinMaxScaler();, score=0.734 total time=  10.5s\n",
            "[CV 3/3] END basemodel__batch_size=150, basemodel__epochs=24, basemodel__model__activation1=tanh, basemodel__model__activation2=relu, basemodel__model__activation3=relu, basemodel__model__dropout1=0.1, basemodel__model__dropout2=0.7879069251300834, basemodel__model__dropout3=0.2304167793255957, basemodel__model__layer1=301, basemodel__model__layer2=512, basemodel__model__layer3=355, basemodel__model__learning_rate=0.004412006060507727, basemodel__model__optim=<class 'keras.optimizer_v2.adam.Adam'>, basemodel__validation_split=0.48853503204390536, clip_y=87, poly_degree=3, scaler=MinMaxScaler();, score=0.829 total time=  10.7s\n",
            "Fitting 3 folds for each of 1 candidates, totalling 3 fits\n",
            "[CV 1/3] END basemodel__batch_size=430, basemodel__epochs=15, basemodel__model__activation1=elu, basemodel__model__activation2=sigmoid, basemodel__model__activation3=selu, basemodel__model__dropout1=0.627111409026363, basemodel__model__dropout2=0.22560918693334975, basemodel__model__dropout3=0.5376769801906515, basemodel__model__layer1=183, basemodel__model__layer2=81, basemodel__model__layer3=512, basemodel__model__learning_rate=0.001103440021871569, basemodel__model__optim=<class 'keras.optimizer_v2.adam.Adam'>, basemodel__validation_split=0.7520560335322951, clip_y=124, poly_degree=2, scaler=MinMaxScaler();, score=0.790 total time=   3.4s\n",
            "[CV 2/3] END basemodel__batch_size=430, basemodel__epochs=15, basemodel__model__activation1=elu, basemodel__model__activation2=sigmoid, basemodel__model__activation3=selu, basemodel__model__dropout1=0.627111409026363, basemodel__model__dropout2=0.22560918693334975, basemodel__model__dropout3=0.5376769801906515, basemodel__model__layer1=183, basemodel__model__layer2=81, basemodel__model__layer3=512, basemodel__model__learning_rate=0.001103440021871569, basemodel__model__optim=<class 'keras.optimizer_v2.adam.Adam'>, basemodel__validation_split=0.7520560335322951, clip_y=124, poly_degree=2, scaler=MinMaxScaler();, score=0.717 total time=   3.3s\n",
            "[CV 3/3] END basemodel__batch_size=430, basemodel__epochs=15, basemodel__model__activation1=elu, basemodel__model__activation2=sigmoid, basemodel__model__activation3=selu, basemodel__model__dropout1=0.627111409026363, basemodel__model__dropout2=0.22560918693334975, basemodel__model__dropout3=0.5376769801906515, basemodel__model__layer1=183, basemodel__model__layer2=81, basemodel__model__layer3=512, basemodel__model__learning_rate=0.001103440021871569, basemodel__model__optim=<class 'keras.optimizer_v2.adam.Adam'>, basemodel__validation_split=0.7520560335322951, clip_y=124, poly_degree=2, scaler=MinMaxScaler();, score=0.688 total time=   3.3s\n",
            "Fitting 3 folds for each of 1 candidates, totalling 3 fits\n",
            "[CV 1/3] END basemodel__batch_size=511, basemodel__epochs=41, basemodel__model__activation1=tanh, basemodel__model__activation2=elu, basemodel__model__activation3=elu, basemodel__model__dropout1=0.1, basemodel__model__dropout2=0.1, basemodel__model__dropout3=0.1, basemodel__model__layer1=512, basemodel__model__layer2=512, basemodel__model__layer3=358, basemodel__model__learning_rate=0.004346552884401094, basemodel__model__optim=<class 'keras.optimizer_v2.adam.Adam'>, basemodel__validation_split=0.32712962076485447, clip_y=80, poly_degree=3, scaler=MinMaxScaler();, score=0.918 total time=   7.2s\n",
            "[CV 2/3] END basemodel__batch_size=511, basemodel__epochs=41, basemodel__model__activation1=tanh, basemodel__model__activation2=elu, basemodel__model__activation3=elu, basemodel__model__dropout1=0.1, basemodel__model__dropout2=0.1, basemodel__model__dropout3=0.1, basemodel__model__layer1=512, basemodel__model__layer2=512, basemodel__model__layer3=358, basemodel__model__learning_rate=0.004346552884401094, basemodel__model__optim=<class 'keras.optimizer_v2.adam.Adam'>, basemodel__validation_split=0.32712962076485447, clip_y=80, poly_degree=3, scaler=MinMaxScaler();, score=0.843 total time=   5.4s\n",
            "[CV 3/3] END basemodel__batch_size=511, basemodel__epochs=41, basemodel__model__activation1=tanh, basemodel__model__activation2=elu, basemodel__model__activation3=elu, basemodel__model__dropout1=0.1, basemodel__model__dropout2=0.1, basemodel__model__dropout3=0.1, basemodel__model__layer1=512, basemodel__model__layer2=512, basemodel__model__layer3=358, basemodel__model__learning_rate=0.004346552884401094, basemodel__model__optim=<class 'keras.optimizer_v2.adam.Adam'>, basemodel__validation_split=0.32712962076485447, clip_y=80, poly_degree=3, scaler=MinMaxScaler();, score=0.842 total time=   7.9s\n",
            "Fitting 3 folds for each of 1 candidates, totalling 3 fits\n",
            "[CV 1/3] END basemodel__batch_size=449, basemodel__epochs=45, basemodel__model__activation1=tanh, basemodel__model__activation2=sigmoid, basemodel__model__activation3=elu, basemodel__model__dropout1=0.39392049943010743, basemodel__model__dropout2=0.5600840434230674, basemodel__model__dropout3=0.8768769128328808, basemodel__model__layer1=371, basemodel__model__layer2=268, basemodel__model__layer3=184, basemodel__model__learning_rate=0.0028647965220954287, basemodel__model__optim=<class 'keras.optimizer_v2.adam.Adam'>, basemodel__validation_split=0.9, clip_y=128, poly_degree=2, scaler=StandardScaler();, score=0.833 total time=   3.7s\n",
            "[CV 2/3] END basemodel__batch_size=449, basemodel__epochs=45, basemodel__model__activation1=tanh, basemodel__model__activation2=sigmoid, basemodel__model__activation3=elu, basemodel__model__dropout1=0.39392049943010743, basemodel__model__dropout2=0.5600840434230674, basemodel__model__dropout3=0.8768769128328808, basemodel__model__layer1=371, basemodel__model__layer2=268, basemodel__model__layer3=184, basemodel__model__learning_rate=0.0028647965220954287, basemodel__model__optim=<class 'keras.optimizer_v2.adam.Adam'>, basemodel__validation_split=0.9, clip_y=128, poly_degree=2, scaler=StandardScaler();, score=0.553 total time=   7.3s\n",
            "[CV 3/3] END basemodel__batch_size=449, basemodel__epochs=45, basemodel__model__activation1=tanh, basemodel__model__activation2=sigmoid, basemodel__model__activation3=elu, basemodel__model__dropout1=0.39392049943010743, basemodel__model__dropout2=0.5600840434230674, basemodel__model__dropout3=0.8768769128328808, basemodel__model__layer1=371, basemodel__model__layer2=268, basemodel__model__layer3=184, basemodel__model__learning_rate=0.0028647965220954287, basemodel__model__optim=<class 'keras.optimizer_v2.adam.Adam'>, basemodel__validation_split=0.9, clip_y=128, poly_degree=2, scaler=StandardScaler();, score=0.666 total time=   4.9s\n",
            "Finished: 2022-10-15 16:23:17.518059\n"
          ]
        }
      ]
    },
    {
      "cell_type": "code",
      "source": [
        "# print(bss.best_estimator_)\n",
        "print(bss.best_score_)\n",
        "print(bss.best_params_)\n",
        "print(\"Finished:\", datetime.datetime.now())"
      ],
      "metadata": {
        "colab": {
          "base_uri": "https://localhost:8080/"
        },
        "id": "SSmZxJKlUNFD",
        "outputId": "969920fa-acde-45e9-b3c0-ff7007e7d07c"
      },
      "execution_count": 100,
      "outputs": [
        {
          "output_type": "stream",
          "name": "stdout",
          "text": [
            "0.8679661672429307\n",
            "OrderedDict([('basemodel__batch_size', 283), ('basemodel__epochs', 14), ('basemodel__model__activation1', 'tanh'), ('basemodel__model__activation2', 'relu'), ('basemodel__model__activation3', 'elu'), ('basemodel__model__dropout1', 0.1), ('basemodel__model__dropout2', 0.53425143831743), ('basemodel__model__dropout3', 0.1), ('basemodel__model__layer1', 512), ('basemodel__model__layer2', 512), ('basemodel__model__layer3', 305), ('basemodel__model__learning_rate', 0.009573430971057319), ('basemodel__model__optim', <class 'keras.optimizer_v2.adam.Adam'>), ('basemodel__validation_split', 0.1), ('clip_y', 80), ('poly_degree', 3), ('scaler', StandardScaler())])\n",
            "Finished: 2022-10-15 16:23:17.632684\n"
          ]
        }
      ]
    },
    {
      "cell_type": "code",
      "source": [
        "from skopt.plots import plot_convergence\n",
        "\n",
        "plot_convergence(bss.optimizer_results_)\n",
        "print(\"Finished:\", datetime.datetime.now())"
      ],
      "metadata": {
        "colab": {
          "base_uri": "https://localhost:8080/",
          "height": 315
        },
        "id": "0HUnMESRVitn",
        "outputId": "36f081c3-d4ac-4f47-de24-b8a6ff8ad028"
      },
      "execution_count": 101,
      "outputs": [
        {
          "output_type": "stream",
          "name": "stdout",
          "text": [
            "Finished: 2022-10-15 16:23:17.664134\n"
          ]
        },
        {
          "output_type": "display_data",
          "data": {
            "text/plain": [
              "<Figure size 432x288 with 1 Axes>"
            ],
            "image/png": "[encoded data removed]"
          },
          "metadata": {
            "needs_background": "light"
          }
        }
      ]
    },
    {
      "cell_type": "code",
      "source": [
        "bss.best_params_"
      ],
      "metadata": {
        "colab": {
          "base_uri": "https://localhost:8080/"
        },
        "id": "ul2OAUiY5IJ4",
        "outputId": "11a0e2a1-4757-4a9f-e4f5-9d95fb4676d9"
      },
      "execution_count": 102,
      "outputs": [
        {
          "output_type": "execute_result",
          "data": {
            "text/plain": [
              "OrderedDict([('basemodel__batch_size', 283),\n",
              "             ('basemodel__epochs', 14),\n",
              "             ('basemodel__model__activation1', 'tanh'),\n",
              "             ('basemodel__model__activation2', 'relu'),\n",
              "             ('basemodel__model__activation3', 'elu'),\n",
              "             ('basemodel__model__dropout1', 0.1),\n",
              "             ('basemodel__model__dropout2', 0.53425143831743),\n",
              "             ('basemodel__model__dropout3', 0.1),\n",
              "             ('basemodel__model__layer1', 512),\n",
              "             ('basemodel__model__layer2', 512),\n",
              "             ('basemodel__model__layer3', 305),\n",
              "             ('basemodel__model__learning_rate', 0.009573430971057319),\n",
              "             ('basemodel__model__optim', keras.optimizer_v2.adam.Adam),\n",
              "             ('basemodel__validation_split', 0.1),\n",
              "             ('clip_y', 80),\n",
              "             ('poly_degree', 3),\n",
              "             ('scaler', StandardScaler())])"
            ]
          },
          "metadata": {},
          "execution_count": 102
        }
      ]
    },
    {
      "cell_type": "markdown",
      "source": [
        "# MLP 1-layer "
      ],
      "metadata": {
        "id": "2PYkPPC-tyyd"
      }
    },
    {
      "cell_type": "markdown",
      "source": [
        "\n",
        "\n",
        "## Linear RUL\n",
        "\n",
        "Score: 0.6275937811619965  \n",
        "Test: 0.504\n",
        "```\n",
        "('basemodel__batch_size', 262),\n",
        "('basemodel__epochs', 47),\n",
        "('basemodel__model__activation', 'relu'),\n",
        "('basemodel__model__dropout', 0.42198962995190514),\n",
        "('basemodel__model__layer1', 512),\n",
        "('basemodel__model__learning_rate', 0.00528953958947019),\n",
        "('basemodel__model__optim', keras.optimizer_v2.adam.Adam),\n",
        "('basemodel__validation_split', 0.17975244796806303),\n",
        "('scaler', StandardScaler())\n",
        "```\n",
        "\n",
        "\n",
        "\n",
        "\n",
        "\n"
      ],
      "metadata": {
        "id": "O3mGfle45Bp_"
      }
    },
    {
      "cell_type": "markdown",
      "source": [
        "## Non-Linear RUL\n",
        "Score: 0.8670568151811345  \n",
        "Test: 0.865\n",
        "```\n",
        "('basemodel__batch_size', 32),\n",
        "('basemodel__epochs', 50),\n",
        "('basemodel__model__activation', 'sigmoid'),\n",
        "('basemodel__model__dropout', 0.1),\n",
        "('basemodel__model__layer1', 450),\n",
        "('basemodel__model__learning_rate', 0.006977518145392822),\n",
        "('basemodel__model__optim', keras.optimizer_v2.adam.Adam),\n",
        "('basemodel__validation_split', 0.1),\n",
        "('clip_y', 80),\n",
        "('scaler', MinMaxScaler())\n",
        "```\n",
        "\n"
      ],
      "metadata": {
        "id": "dTLRu7byqa83"
      }
    },
    {
      "cell_type": "markdown",
      "source": [
        "## Linear RUL + Poly\n",
        "Score: 0.6307902416968273  \n",
        "Test: 0.289\n",
        "```\n",
        "('basemodel__batch_size', 197),\n",
        "('basemodel__epochs', 41),\n",
        "('basemodel__model__activation', 'relu'),\n",
        "('basemodel__model__dropout', 0.1),\n",
        "('basemodel__model__layer1', 400),\n",
        "('basemodel__model__learning_rate', 0.01),\n",
        "('basemodel__model__optim', keras.optimizer_v2.adam.Adam),\n",
        "('basemodel__validation_split', 0.1),\n",
        "('poly_degree', 2),\n",
        "('scaler', StandardScaler())\n",
        "```\n",
        "\n"
      ],
      "metadata": {
        "id": "3ye2csOKqeCm"
      }
    },
    {
      "cell_type": "markdown",
      "source": [
        "## Non-Linear RUL + Poly\n",
        "Score: 0.8693404879366771  \n",
        "Test: 0.874\n",
        "```\n",
        "('basemodel__batch_size', 278),\n",
        "('basemodel__epochs', 50),\n",
        "('basemodel__model__activation', 'relu'),\n",
        "('basemodel__model__dropout', 0.1),\n",
        "('basemodel__model__layer1', 469),\n",
        "('basemodel__model__learning_rate', 0.002874922426530888),\n",
        "('basemodel__model__optim', keras.optimizer_v2.adam.Adam),\n",
        "('basemodel__validation_split', 0.1),\n",
        "('clip_y', 80),\n",
        "('poly_degree', 2),\n",
        "('scaler', StandardScaler())\n",
        "```"
      ],
      "metadata": {
        "id": "F4uFS6aaqfcY"
      }
    },
    {
      "cell_type": "markdown",
      "source": [
        "# MLP 2-layer \n"
      ],
      "metadata": {
        "id": "0Phg7uNOt0qm"
      }
    },
    {
      "cell_type": "markdown",
      "source": [
        "\n",
        "## Linear RUL\n",
        "\n",
        "Score: 0.6272918246191982  \n",
        "Test: 0.\n",
        "```\n",
        "('basemodel__batch_size', 180),\n",
        "             ('basemodel__epochs', 10),\n",
        "             ('basemodel__model__activation1', 'selu'),\n",
        "             ('basemodel__model__activation2', 'sigmoid'),\n",
        "             ('basemodel__model__dropout1', 0.6877162153707456),\n",
        "             ('basemodel__model__dropout2', 0.23474535539749616),\n",
        "             ('basemodel__model__layer1', 468),\n",
        "             ('basemodel__model__layer2', 435),\n",
        "             ('basemodel__model__learning_rate', 0.009683115627232612),\n",
        "             ('basemodel__model__optim', keras.optimizer_v2.adam.Adam),\n",
        "             ('basemodel__validation_split', 0.1),\n",
        "             ('scaler', StandardScaler())\n",
        "```\n",
        "\n",
        "Similar to 1-layer, as poor as it was\n",
        "\n"
      ],
      "metadata": {
        "id": "UkQceBLUtuGE"
      }
    },
    {
      "cell_type": "markdown",
      "source": [
        "\n",
        "## Non-Linear RUL\n",
        "Score: 0.8708908017407038  \n",
        "Test: 0.\n",
        "```\n",
        "('basemodel__batch_size', 272),\n",
        "             ('basemodel__epochs', 39),\n",
        "             ('basemodel__model__activation1', 'elu'),\n",
        "             ('basemodel__model__activation2', 'sigmoid'),\n",
        "             ('basemodel__model__dropout1', 0.3474531287065963),\n",
        "             ('basemodel__model__dropout2', 0.36614542849836884),\n",
        "             ('basemodel__model__layer1', 512),\n",
        "             ('basemodel__model__layer2', 139),\n",
        "             ('basemodel__model__learning_rate', 0.0015318728990539984),\n",
        "             ('basemodel__model__optim', keras.optimizer_v2.rmsprop.RMSprop),\n",
        "             ('basemodel__validation_split', 0.23383223141315412),\n",
        "             ('clip_y', 80),\n",
        "             ('scaler', StandardScaler())\n",
        "```\n",
        "As good as 1-layer, same clipping still"
      ],
      "metadata": {
        "id": "5zin50NAqnGK"
      }
    },
    {
      "cell_type": "markdown",
      "source": [
        "\n",
        "## Linear RUL + Poly\n",
        "Score: 0.6262323565109925  \n",
        "Test: 0.\n",
        "```\n",
        "('basemodel__batch_size', 32),\n",
        "             ('basemodel__epochs', 30),\n",
        "             ('basemodel__model__activation1', 'tanh'),\n",
        "             ('basemodel__model__activation2', 'elu'),\n",
        "             ('basemodel__model__dropout1', 0.9),\n",
        "             ('basemodel__model__dropout2', 0.1),\n",
        "             ('basemodel__model__layer1', 320),\n",
        "             ('basemodel__model__layer2', 512),\n",
        "             ('basemodel__model__learning_rate', 0.0027118397103578972),\n",
        "             ('basemodel__model__optim', keras.optimizer_v2.adam.Adam),\n",
        "             ('basemodel__validation_split', 0.1),\n",
        "             ('poly_degree', 3),\n",
        "             ('scaler', StandardScaler())\n",
        "```\n"
      ],
      "metadata": {
        "id": "3frzB_ESqjBx"
      }
    },
    {
      "cell_type": "markdown",
      "source": [
        "\n",
        "## Non-Linear RUL + Poly\n",
        "Score: 0.8653619825760903  \n",
        "Test: 0.\n",
        "```\n",
        "('basemodel__batch_size', 235),\n",
        "             ('basemodel__epochs', 50),\n",
        "             ('basemodel__model__activation1', 'sigmoid'),\n",
        "             ('basemodel__model__activation2', 'elu'),\n",
        "             ('basemodel__model__dropout1', 0.1),\n",
        "             ('basemodel__model__dropout2', 0.22990220831017208),\n",
        "             ('basemodel__model__layer1', 81),\n",
        "             ('basemodel__model__layer2', 211),\n",
        "             ('basemodel__model__learning_rate', 0.01),\n",
        "             ('basemodel__model__optim', keras.optimizer_v2.adam.Adam),\n",
        "             ('basemodel__validation_split', 0.1),\n",
        "             ('clip_y', 80),\n",
        "             ('poly_degree', 3),\n",
        "             ('scaler', MinMaxScaler())\n",
        "```"
      ],
      "metadata": {
        "id": "VcKo0MXzqkSv"
      }
    },
    {
      "cell_type": "markdown",
      "source": [
        "# MLP 3-layer \n"
      ],
      "metadata": {
        "id": "oj69QW1rV7bz"
      }
    },
    {
      "cell_type": "markdown",
      "source": [
        "\n",
        "## Linear RUL\n",
        "\n",
        "Score: 0.6120201145167702    \n",
        "Test: 0.\n",
        "```\n",
        "('basemodel__batch_size', 244),\n",
        "             ('basemodel__epochs', 25),\n",
        "             ('basemodel__model__activation1', 'elu'),\n",
        "             ('basemodel__model__activation2', 'tanh'),\n",
        "             ('basemodel__model__activation3', 'elu'),\n",
        "             ('basemodel__model__dropout1', 0.1),\n",
        "             ('basemodel__model__dropout2', 0.6452357951609182),\n",
        "             ('basemodel__model__dropout3', 0.10365428493216054),\n",
        "             ('basemodel__model__layer1', 33),\n",
        "             ('basemodel__model__layer2', 216),\n",
        "             ('basemodel__model__layer3', 480),\n",
        "             ('basemodel__model__learning_rate', 0.0023087723482705077),\n",
        "             ('basemodel__model__optim', keras.optimizer_v2.adam.Adam),\n",
        "             ('basemodel__validation_split', 0.17402892098258826),\n",
        "             ('scaler', MinMaxScaler())\n",
        "```\n",
        "\n",
        "Similar to 1-layer, as poor as it was\n"
      ],
      "metadata": {
        "id": "3VwnynxEV7b0"
      }
    },
    {
      "cell_type": "markdown",
      "source": [
        "\n",
        "## Non-Linear RUL\n",
        "Score: 0.858429482908221    \n",
        "Test: 0.\n",
        "```\n",
        "('basemodel__batch_size', 387),\n",
        "             ('basemodel__epochs', 37),\n",
        "             ('basemodel__model__activation1', 'tanh'),\n",
        "             ('basemodel__model__activation2', 'selu'),\n",
        "             ('basemodel__model__activation3', 'elu'),\n",
        "             ('basemodel__model__dropout1', 0.6025012184092352),\n",
        "             ('basemodel__model__dropout2', 0.584225016100644),\n",
        "             ('basemodel__model__dropout3', 0.6585832537238048),\n",
        "             ('basemodel__model__layer1', 462),\n",
        "             ('basemodel__model__layer2', 287),\n",
        "             ('basemodel__model__layer3', 303),\n",
        "             ('basemodel__model__learning_rate', 0.0047806961601746184),\n",
        "             ('basemodel__model__optim', keras.optimizer_v2.adam.Adam),\n",
        "             ('basemodel__validation_split', 0.5866937471711482),\n",
        "             ('clip_y', 80),\n",
        "             ('scaler', StandardScaler())\n",
        "```\n"
      ],
      "metadata": {
        "id": "PSDXqDhcqqP3"
      }
    },
    {
      "cell_type": "markdown",
      "source": [
        "\n",
        "## Linear RUL + Poly\n",
        "Score: 0.6222047496761983    \n",
        "Test: 0.\n",
        "```\n",
        "('basemodel__batch_size', 315),\n",
        "             ('basemodel__epochs', 27),\n",
        "             ('basemodel__model__activation1', 'elu'),\n",
        "             ('basemodel__model__activation2', 'selu'),\n",
        "             ('basemodel__model__activation3', 'selu'),\n",
        "             ('basemodel__model__dropout1', 0.3672917021354055),\n",
        "             ('basemodel__model__dropout2', 0.2585591117469549),\n",
        "             ('basemodel__model__dropout3', 0.1),\n",
        "             ('basemodel__model__layer1', 456),\n",
        "             ('basemodel__model__layer2', 174),\n",
        "             ('basemodel__model__layer3', 479),\n",
        "             ('basemodel__model__learning_rate', 0.0007321508636106998),\n",
        "             ('basemodel__model__optim', keras.optimizer_v2.adam.Adam),\n",
        "             ('basemodel__validation_split', 0.1),\n",
        "             ('poly_degree', 2),\n",
        "             ('scaler', StandardScaler())\n",
        "```\n"
      ],
      "metadata": {
        "id": "c7Pa5NVRqrlW"
      }
    },
    {
      "cell_type": "markdown",
      "source": [
        "\n",
        "## Non-Linear RUL + Poly\n",
        "Score: 0.8679661672429307   \n",
        "Test: 0.\n",
        "```\n",
        "('basemodel__batch_size', 283),\n",
        "             ('basemodel__epochs', 14),\n",
        "             ('basemodel__model__activation1', 'tanh'),\n",
        "             ('basemodel__model__activation2', 'relu'),\n",
        "             ('basemodel__model__activation3', 'elu'),\n",
        "             ('basemodel__model__dropout1', 0.1),\n",
        "             ('basemodel__model__dropout2', 0.53425143831743),\n",
        "             ('basemodel__model__dropout3', 0.1),\n",
        "             ('basemodel__model__layer1', 512),\n",
        "             ('basemodel__model__layer2', 512),\n",
        "             ('basemodel__model__layer3', 305),\n",
        "             ('basemodel__model__learning_rate', 0.009573430971057319),\n",
        "             ('basemodel__model__optim', keras.optimizer_v2.adam.Adam),\n",
        "             ('basemodel__validation_split', 0.1),\n",
        "             ('clip_y', 80),\n",
        "             ('poly_degree', 3),\n",
        "             ('scaler', StandardScaler())\n",
        "```"
      ],
      "metadata": {
        "id": "l3UgGmi6qspC"
      }
    },
    {
      "cell_type": "markdown",
      "source": [
        "# MLP 4-layer \n"
      ],
      "metadata": {
        "id": "7aAknMTjDeoK"
      }
    },
    {
      "cell_type": "markdown",
      "source": [
        "\n",
        "## Linear RUL\n",
        "\n",
        "Score: 0.8684757521280048    \n",
        "Test: 0.\n",
        "```\n",
        "('basemodel__batch_size', 127),\n",
        "             ('basemodel__epochs', 17),\n",
        "             ('basemodel__model__activation1', 'relu'),\n",
        "             ('basemodel__model__activation2', 'sigmoid'),\n",
        "             ('basemodel__model__activation3', 'elu'),\n",
        "             ('basemodel__model__activation4', 'elu'),\n",
        "             ('basemodel__model__dropout1', 0.405658593077186),\n",
        "             ('basemodel__model__dropout2', 0.3589949636608206),\n",
        "             ('basemodel__model__dropout3', 0.4633066337493309),\n",
        "             ('basemodel__model__dropout4', 0.32587881379978234),\n",
        "             ('basemodel__model__layer1', 308),\n",
        "             ('basemodel__model__layer2', 442),\n",
        "             ('basemodel__model__layer3', 301),\n",
        "             ('basemodel__model__layer4', 153),\n",
        "             ('basemodel__model__learning_rate', 0.0038661981642895585),\n",
        "             ('basemodel__model__optim', keras.optimizer_v2.rmsprop.RMSprop),\n",
        "             ('basemodel__validation_split', 0.14630628708453258),\n",
        "             ('scaler', StandardScaler())\n",
        "```\n",
        "\n",
        "\n"
      ],
      "metadata": {
        "id": "-rW0kXOCDeoM"
      }
    },
    {
      "cell_type": "markdown",
      "source": [
        "\n",
        "## Non-Linear RUL\n",
        "Score: 0.8527803619368491    \n",
        "Test: 0.\n",
        "```\n",
        "('basemodel__batch_size', 344),\n",
        "             ('basemodel__epochs', 27),\n",
        "             ('basemodel__model__activation1', 'elu'),\n",
        "             ('basemodel__model__activation2', 'selu'),\n",
        "             ('basemodel__model__activation3', 'sigmoid'),\n",
        "             ('basemodel__model__activation4', 'sigmoid'),\n",
        "             ('basemodel__model__dropout1', 0.6749954668968566),\n",
        "             ('basemodel__model__dropout2', 0.2102017209355273),\n",
        "             ('basemodel__model__dropout3', 0.1),\n",
        "             ('basemodel__model__dropout4', 0.47711054364433003),\n",
        "             ('basemodel__model__layer1', 464),\n",
        "             ('basemodel__model__layer2', 371),\n",
        "             ('basemodel__model__layer3', 16),\n",
        "             ('basemodel__model__layer4', 476),\n",
        "             ('basemodel__model__learning_rate', 0.004154798051053557),\n",
        "             ('basemodel__model__optim', keras.optimizer_v2.rmsprop.RMSprop),\n",
        "             ('basemodel__validation_split', 0.1),\n",
        "             ('clip_y', 80),\n",
        "             ('scaler', StandardScaler())\n",
        "```\n"
      ],
      "metadata": {
        "id": "Pi44CjBQqwAk"
      }
    },
    {
      "cell_type": "markdown",
      "source": [
        "\n",
        "## Linear RUL + Poly\n",
        "Score: 0.6121049470412723    \n",
        "Test: 0.\n",
        "```\n",
        "('basemodel__batch_size', 249),\n",
        "             ('basemodel__epochs', 37),\n",
        "             ('basemodel__model__activation1', 'relu'),\n",
        "             ('basemodel__model__activation2', 'relu'),\n",
        "             ('basemodel__model__activation3', 'elu'),\n",
        "             ('basemodel__model__activation4', 'sigmoid'),\n",
        "             ('basemodel__model__dropout1', 0.62787764969972),\n",
        "             ('basemodel__model__dropout2', 0.9),\n",
        "             ('basemodel__model__dropout3', 0.6788232857905743),\n",
        "             ('basemodel__model__dropout4', 0.1),\n",
        "             ('basemodel__model__layer1', 512),\n",
        "             ('basemodel__model__layer2', 512),\n",
        "             ('basemodel__model__layer3', 92),\n",
        "             ('basemodel__model__layer4', 133),\n",
        "             ('basemodel__model__learning_rate', 0.0022168133279249643),\n",
        "             ('basemodel__model__optim', keras.optimizer_v2.rmsprop.RMSprop),\n",
        "             ('basemodel__validation_split', 0.1),\n",
        "             ('poly_degree', 2),\n",
        "             ('scaler', StandardScaler())\n",
        "```\n"
      ],
      "metadata": {
        "id": "ASEtgutZqyE-"
      }
    },
    {
      "cell_type": "markdown",
      "source": [
        "\n",
        "## Non-Linear RUL + Poly\n",
        "Score: 0.8425016957390049  \n",
        "Test: 0.\n",
        "```\n",
        "('basemodel__batch_size', 32),\n",
        "             ('basemodel__epochs', 50),\n",
        "             ('basemodel__model__activation1', 'elu'),\n",
        "             ('basemodel__model__activation2', 'tanh'),\n",
        "             ('basemodel__model__activation3', 'tanh'),\n",
        "             ('basemodel__model__activation4', 'tanh'),\n",
        "             ('basemodel__model__dropout1', 0.9),\n",
        "             ('basemodel__model__dropout2', 0.1),\n",
        "             ('basemodel__model__dropout3', 0.9),\n",
        "             ('basemodel__model__dropout4', 0.1),\n",
        "             ('basemodel__model__layer1', 512),\n",
        "             ('basemodel__model__layer2', 512),\n",
        "             ('basemodel__model__layer3', 512),\n",
        "             ('basemodel__model__layer4', 512),\n",
        "             ('basemodel__model__learning_rate', 0.0001),\n",
        "             ('basemodel__model__optim', keras.optimizer_v2.adam.Adam),\n",
        "             ('basemodel__validation_split', 0.1),\n",
        "             ('clip_y', 80),\n",
        "             ('poly_degree', 2),\n",
        "             ('scaler', StandardScaler())\n",
        "```"
      ],
      "metadata": {
        "id": "_928h4YMqzHs"
      }
    },
    {
      "cell_type": "markdown",
      "source": [
        "# MLP Tester"
      ],
      "metadata": {
        "id": "ppByl3wN_W05"
      }
    },
    {
      "cell_type": "markdown",
      "source": [
        "\n",
        "\n",
        "```\n",
        "('basemodel__batch_size', 32),\n",
        "('basemodel__epochs', 50),\n",
        "('basemodel__model__activation1', 'tanh'),\n",
        "('basemodel__model__activation2', 'elu'),\n",
        "('basemodel__model__dropout1', 0.1),\n",
        "('basemodel__model__dropout2', 0.2107518503547072),\n",
        "('basemodel__model__layer1', 168),\n",
        "('basemodel__model__layer2', 428),\n",
        "('basemodel__model__learning_rate', 0.01),\n",
        "('basemodel__model__optim', keras.optimizer_v2.adam.Adam),\n",
        "('basemodel__validation_split', 0.13631332793413636),\n",
        "('clip_y', 80),\n",
        "('scaler', MinMaxScaler())\n",
        "```\n",
        "\n"
      ],
      "metadata": {
        "id": "8jDtiS0kVaLX"
      }
    },
    {
      "cell_type": "code",
      "source": [
        "CLIP=80\n",
        "\n",
        "model = MLPWrapperRegressor(\n",
        "        clip_y=CLIP, scaler=MinMaxScaler(),\n",
        "        basemodel=\n",
        "            KerasRegressor(model=create_model,\n",
        "                           batch_size=32,\n",
        "                           epochs=50,\n",
        "                           model__activation1='tanh',\n",
        "                           model__activation2='elu',\n",
        "                           model__dropout1=0.1,\n",
        "                           model__dropout2=0.2107518503547072, \n",
        "                           model__layer1=168, \n",
        "                           model__layer2=428, \n",
        "                           model__learning_rate=0.01,\n",
        "                           model__optim=Adam,\n",
        "                           validation_split=0.13631332793413636, \n",
        "                           verbose=0, callbacks=[es, printerCallback],\n",
        "                           model__metrics=[RMSE(), R2()],\n",
        "                           model__loss='mse',\n",
        "                           print_summary=True\n",
        "                           )\n",
        "    )"
      ],
      "metadata": {
        "id": "5p5GYkfQFKtl"
      },
      "execution_count": 46,
      "outputs": []
    },
    {
      "cell_type": "code",
      "source": [
        "model.fit(X_train_, y_train)"
      ],
      "metadata": {
        "colab": {
          "base_uri": "https://localhost:8080/"
        },
        "outputId": "43deb2a4-f056-4a3a-862f-bc61dd99751b",
        "id": "wmkoVA33FKtl"
      },
      "execution_count": 47,
      "outputs": [
        {
          "output_type": "stream",
          "name": "stdout",
          "text": [
            "Model: \"sequential_270\"\n",
            "_________________________________________________________________\n",
            " Layer (type)                Output Shape              Param #   \n",
            "=================================================================\n",
            " dense_810 (Dense)           (None, 168)               3696      \n",
            "                                                                 \n",
            " dropout_540 (Dropout)       (None, 168)               0         \n",
            "                                                                 \n",
            " dense_811 (Dense)           (None, 428)               72332     \n",
            "                                                                 \n",
            " dropout_541 (Dropout)       (None, 428)               0         \n",
            "                                                                 \n",
            " dense_812 (Dense)           (None, 1)                 429       \n",
            "                                                                 \n",
            "=================================================================\n",
            "Total params: 76,457\n",
            "Trainable params: 76,457\n",
            "Non-trainable params: 0\n",
            "_________________________________________________________________\n",
            "E 1\t: loss=172.561, rmse=13.136, r2=0.712; v_loss=98.196, v_rmse=9.909, v_r2=0.831; \n",
            "E 2\t: loss=96.479, rmse=9.822, r2=0.839; v_loss=117.862, v_rmse=10.856, v_r2=0.797; \n",
            "E 3\t: loss=92.964, rmse=9.642, r2=0.845; v_loss=100.306, v_rmse=10.015, v_r2=0.827; \n",
            "E 4\t: loss=90.220, rmse=9.498, r2=0.849; v_loss=97.442, v_rmse=9.871, v_r2=0.832; \n",
            "E 5\t: loss=92.239, rmse=9.604, r2=0.846; v_loss=96.405, v_rmse=9.819, v_r2=0.834; \n",
            "E 6\t: loss=89.769, rmse=9.475, r2=0.850; v_loss=103.119, v_rmse=10.155, v_r2=0.822; \n",
            "E 7\t: loss=89.589, rmse=9.465, r2=0.850; v_loss=96.367, v_rmse=9.817, v_r2=0.834; \n",
            "E 8\t: loss=90.056, rmse=9.490, r2=0.850; v_loss=99.139, v_rmse=9.957, v_r2=0.829; \n",
            "E 9\t: loss=90.041, rmse=9.489, r2=0.850; v_loss=98.825, v_rmse=9.941, v_r2=0.829; \n",
            "E 10\t: loss=87.168, rmse=9.336, r2=0.854; v_loss=96.307, v_rmse=9.814, v_r2=0.834; \n",
            "E 11\t: loss=87.184, rmse=9.337, r2=0.854; v_loss=88.517, v_rmse=9.408, v_r2=0.847; \n",
            "E 12\t: loss=88.261, rmse=9.395, r2=0.853; v_loss=98.444, v_rmse=9.922, v_r2=0.830; \n",
            "E 13\t: loss=88.111, rmse=9.387, r2=0.853; v_loss=92.551, v_rmse=9.620, v_r2=0.840; \n",
            "E 14\t: loss=87.507, rmse=9.355, r2=0.854; v_loss=99.859, v_rmse=9.993, v_r2=0.828; \n",
            "E 15\t: loss=86.567, rmse=9.304, r2=0.855; v_loss=90.369, v_rmse=9.506, v_r2=0.844; \n",
            "E 16\t: loss=88.983, rmse=9.433, r2=0.851; v_loss=108.208, v_rmse=10.402, v_r2=0.813; \n",
            "E 17\t: loss=86.140, rmse=9.281, r2=0.856; v_loss=96.990, v_rmse=9.848, v_r2=0.833; \n",
            "E 18\t: loss=87.043, rmse=9.330, r2=0.855; v_loss=98.518, v_rmse=9.926, v_r2=0.830; \n",
            "E 19\t: loss=86.823, rmse=9.318, r2=0.855; v_loss=95.459, v_rmse=9.770, v_r2=0.835; \n",
            "E 20\t: loss=86.704, rmse=9.312, r2=0.855; v_loss=104.076, v_rmse=10.202, v_r2=0.820; \n",
            "E 21\t: loss=86.354, rmse=9.293, r2=0.856; v_loss=105.567, v_rmse=10.275, v_r2=0.818; \n",
            "E 22\t: loss=87.145, rmse=9.335, r2=0.854; v_loss=100.988, v_rmse=10.049, v_r2=0.826; \n"
          ]
        },
        {
          "output_type": "execute_result",
          "data": {
            "text/plain": [
              "MLPWrapperRegressor(basemodel=KerasRegressor(batch_size=32, callbacks=[<keras.callbacks.EarlyStopping object at 0x0000017111EAD250>, <keras.callbacks.LambdaCallback object at 0x0000017111EE4C10>], epochs=50, model=<function create_model at 0x0000017111F378B0>, model__activation1='tanh', model__activation2='elu', model__dropout1=0.1, model__dropout2=0.21075185035470...=428, model__learning_rate=0.01, model__loss='mse', model__metrics=[<keras.metrics.RootMeanSquaredError object at 0x00000172AC584D90>, <tensorflow_addons.metrics.r_square.RSquare object at 0x00000172AC584C10>], model__optim=<class 'keras.optimizer_v2.adam.Adam'>, print_summary=True, validation_split=0.13631332793413636, verbose=0),\n",
              "                    clip_y=80, scaler=MinMaxScaler())"
            ]
          },
          "metadata": {},
          "execution_count": 47
        }
      ]
    },
    {
      "cell_type": "code",
      "source": [
        "model.score(X_test, reclipped_y)"
      ],
      "metadata": {
        "colab": {
          "base_uri": "https://localhost:8080/",
          "height": 169
        },
        "id": "BYafN67d77Ix",
        "outputId": "8d049879-214a-41b5-dc6a-e56ac6a56222"
      },
      "execution_count": 48,
      "outputs": [
        {
          "output_type": "error",
          "ename": "NameError",
          "evalue": "ignored",
          "traceback": [
            "\u001b[1;31m---------------------------------------------------------------------------\u001b[0m",
            "\u001b[1;31mNameError\u001b[0m                                 Traceback (most recent call last)",
            "\u001b[1;32m<ipython-input-48-083753147b2c>\u001b[0m in \u001b[0;36m<module>\u001b[1;34m\u001b[0m\n\u001b[1;32m----> 1\u001b[1;33m \u001b[0mmodel\u001b[0m\u001b[1;33m.\u001b[0m\u001b[0mscore\u001b[0m\u001b[1;33m(\u001b[0m\u001b[0mX_test\u001b[0m\u001b[1;33m,\u001b[0m \u001b[0mreclipped_y\u001b[0m\u001b[1;33m)\u001b[0m\u001b[1;33m\u001b[0m\u001b[1;33m\u001b[0m\u001b[0m\n\u001b[0m",
            "\u001b[1;31mNameError\u001b[0m: name 'reclipped_y' is not defined"
          ]
        }
      ]
    },
    {
      "cell_type": "code",
      "source": [
        "# Scaling and formatting test data\n",
        "test_sc = scale_test(X_test,model)\n",
        "# test_wr = gen_test_wrapper(test_sc, SEQ_LENGTH)\n",
        "\n",
        "# Clipping test labels\n",
        "reclipped_y = y_test.copy()\n",
        "if (CLIP > 0): reclipped_y=reclipped_y[\"RUL\"].clip(upper=CLIP)\n",
        "\n",
        "# Evaluation\n",
        "eval.show_result(reclipped_y, model.basemodel.predict(test_sc))\n",
        "# eval.show_result(reclipped_y, model.predict(X_test)) ## Doesn't work for LSTM\n",
        "print(\"Finished:\", datetime.datetime.now())"
      ],
      "metadata": {
        "colab": {
          "base_uri": "https://localhost:8080/",
          "height": 616
        },
        "outputId": "a467e049-d97d-4cf2-b5b7-844e03b7b56b",
        "id": "RXnrciV-FKtm"
      },
      "execution_count": 63,
      "outputs": [
        {
          "output_type": "error",
          "ename": "NotFittedError",
          "evalue": "ignored",
          "traceback": [
            "\u001b[1;31m---------------------------------------------------------------------------\u001b[0m",
            "\u001b[1;31mNotFittedError\u001b[0m                            Traceback (most recent call last)",
            "\u001b[1;32m<ipython-input-63-bf915f13081c>\u001b[0m in \u001b[0;36m<module>\u001b[1;34m\u001b[0m\n\u001b[0;32m      1\u001b[0m \u001b[1;31m# Scaling and formatting test data\u001b[0m\u001b[1;33m\u001b[0m\u001b[1;33m\u001b[0m\u001b[1;33m\u001b[0m\u001b[0m\n\u001b[1;32m----> 2\u001b[1;33m \u001b[0mtest_sc\u001b[0m \u001b[1;33m=\u001b[0m \u001b[0mscale_test\u001b[0m\u001b[1;33m(\u001b[0m\u001b[0mX_test\u001b[0m\u001b[1;33m,\u001b[0m\u001b[0mmodel\u001b[0m\u001b[1;33m)\u001b[0m\u001b[1;33m\u001b[0m\u001b[1;33m\u001b[0m\u001b[0m\n\u001b[0m\u001b[0;32m      3\u001b[0m \u001b[1;31m# test_wr = gen_test_wrapper(test_sc, SEQ_LENGTH)\u001b[0m\u001b[1;33m\u001b[0m\u001b[1;33m\u001b[0m\u001b[1;33m\u001b[0m\u001b[0m\n\u001b[0;32m      4\u001b[0m \u001b[1;33m\u001b[0m\u001b[0m\n\u001b[0;32m      5\u001b[0m \u001b[1;31m# Clipping test labels\u001b[0m\u001b[1;33m\u001b[0m\u001b[1;33m\u001b[0m\u001b[1;33m\u001b[0m\u001b[0m\n",
            "\u001b[1;32m<ipython-input-34-e36179a483da>\u001b[0m in \u001b[0;36mscale_test\u001b[1;34m(test, model)\u001b[0m\n\u001b[0;32m      4\u001b[0m \u001b[1;33m\u001b[0m\u001b[0m\n\u001b[0;32m      5\u001b[0m     \u001b[1;31m# Apply polynomial features\u001b[0m\u001b[1;33m\u001b[0m\u001b[1;33m\u001b[0m\u001b[1;33m\u001b[0m\u001b[0m\n\u001b[1;32m----> 6\u001b[1;33m     \u001b[0mtransf\u001b[0m \u001b[1;33m=\u001b[0m \u001b[0mmodel\u001b[0m\u001b[1;33m.\u001b[0m\u001b[0mpolyft\u001b[0m\u001b[1;33m.\u001b[0m\u001b[0mtransform\u001b[0m\u001b[1;33m(\u001b[0m\u001b[0mtest2\u001b[0m\u001b[1;33m)\u001b[0m\u001b[1;33m\u001b[0m\u001b[1;33m\u001b[0m\u001b[0m\n\u001b[0m\u001b[0;32m      7\u001b[0m     test2 = pd.DataFrame(transf, \n\u001b[0;32m      8\u001b[0m                          columns=model.polyft.get_feature_names_out())\n",
            "\u001b[1;32mH:\\anaconda3\\lib\\site-packages\\sklearn\\preprocessing\\_polynomial.py\u001b[0m in \u001b[0;36mtransform\u001b[1;34m(self, X)\u001b[0m\n\u001b[0;32m    365\u001b[0m             \u001b[0;31m`\u001b[0m\u001b[0mcsr_matrix\u001b[0m\u001b[0;31m`\u001b[0m\u001b[1;33m.\u001b[0m\u001b[1;33m\u001b[0m\u001b[1;33m\u001b[0m\u001b[0m\n\u001b[0;32m    366\u001b[0m         \"\"\"\n\u001b[1;32m--> 367\u001b[1;33m         \u001b[0mcheck_is_fitted\u001b[0m\u001b[1;33m(\u001b[0m\u001b[0mself\u001b[0m\u001b[1;33m)\u001b[0m\u001b[1;33m\u001b[0m\u001b[1;33m\u001b[0m\u001b[0m\n\u001b[0m\u001b[0;32m    368\u001b[0m \u001b[1;33m\u001b[0m\u001b[0m\n\u001b[0;32m    369\u001b[0m         X = self._validate_data(\n",
            "\u001b[1;32mH:\\anaconda3\\lib\\site-packages\\sklearn\\utils\\validation.py\u001b[0m in \u001b[0;36mcheck_is_fitted\u001b[1;34m(estimator, attributes, msg, all_or_any)\u001b[0m\n\u001b[0;32m   1220\u001b[0m \u001b[1;33m\u001b[0m\u001b[0m\n\u001b[0;32m   1221\u001b[0m     \u001b[1;32mif\u001b[0m \u001b[1;32mnot\u001b[0m \u001b[0mfitted\u001b[0m\u001b[1;33m:\u001b[0m\u001b[1;33m\u001b[0m\u001b[1;33m\u001b[0m\u001b[0m\n\u001b[1;32m-> 1222\u001b[1;33m         \u001b[1;32mraise\u001b[0m \u001b[0mNotFittedError\u001b[0m\u001b[1;33m(\u001b[0m\u001b[0mmsg\u001b[0m \u001b[1;33m%\u001b[0m \u001b[1;33m{\u001b[0m\u001b[1;34m\"name\"\u001b[0m\u001b[1;33m:\u001b[0m \u001b[0mtype\u001b[0m\u001b[1;33m(\u001b[0m\u001b[0mestimator\u001b[0m\u001b[1;33m)\u001b[0m\u001b[1;33m.\u001b[0m\u001b[0m__name__\u001b[0m\u001b[1;33m}\u001b[0m\u001b[1;33m)\u001b[0m\u001b[1;33m\u001b[0m\u001b[1;33m\u001b[0m\u001b[0m\n\u001b[0m\u001b[0;32m   1223\u001b[0m \u001b[1;33m\u001b[0m\u001b[0m\n\u001b[0;32m   1224\u001b[0m \u001b[1;33m\u001b[0m\u001b[0m\n",
            "\u001b[1;31mNotFittedError\u001b[0m: This PolynomialFeatures instance is not fitted yet. Call 'fit' with appropriate arguments before using this estimator."
          ]
        }
      ]
    }
  ]
}