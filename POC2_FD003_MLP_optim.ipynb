{
  "nbformat": 4,
  "nbformat_minor": 0,
  "metadata": {
    "colab": {
      "provenance": [],
      "collapsed_sections": [
        "iqDPLB2EDXSK",
        "AU6ipeRozJz-",
        "n7MBDuPasy-s",
        "e7-_jqRw3cRa",
        "QinQ4hWStzHt",
        "boZqFQNlraCh",
        "fQA-YtFMM81M",
        "nTPBH5fg_sFd",
        "f3Or3dZbB5Pr",
        "t18eQ8H3EfGV",
        "Ha2fY8VlWD7p",
        "03Wy9J4rFPMY"
      ],
      "toc_visible": true,
      "authorship_tag": "ABX9TyP2Ql9yYPepLz0m7tDt4DXC",
      "include_colab_link": true
    },
    "kernelspec": {
      "name": "python3",
      "display_name": "Python 3"
    },
    "language_info": {
      "name": "python"
    },
    "accelerator": "GPU"
  },
  "cells": [
    {
      "cell_type": "markdown",
      "metadata": {
        "id": "view-in-github",
        "colab_type": "text"
      },
      "source": [
        "<a href=\"https://colab.research.google.com/github/arthursl12/POC1/blob/main/POC2_FD003_MLP_optim.ipynb\" target=\"_parent\"><img src=\"https://colab.research.google.com/assets/colab-badge.svg\" alt=\"Open In Colab\"/></a>"
      ]
    },
    {
      "cell_type": "markdown",
      "source": [
        "# Imports"
      ],
      "metadata": {
        "id": "iqDPLB2EDXSK"
      }
    },
    {
      "cell_type": "code",
      "source": [
        "%pip install scikeras;\n",
        "%pip install -U tensorflow-addons;\n",
        "%pip install scikit-optimize"
      ],
      "metadata": {
        "colab": {
          "base_uri": "https://localhost:8080/"
        },
        "id": "1ObuYEARk28q",
        "outputId": "7516ff85-f450-4050-b3d3-c44922761203"
      },
      "execution_count": 1,
      "outputs": [
        {
          "output_type": "stream",
          "name": "stdout",
          "text": [
            "Looking in indexes: https://pypi.org/simple, https://us-python.pkg.dev/colab-wheels/public/simple/\n",
            "Collecting scikeras\n",
            "  Downloading scikeras-0.9.0-py3-none-any.whl (27 kB)\n",
            "Requirement already satisfied: scikit-learn>=1.0.0 in /usr/local/lib/python3.7/dist-packages (from scikeras) (1.0.2)\n",
            "Requirement already satisfied: importlib-metadata>=3 in /usr/local/lib/python3.7/dist-packages (from scikeras) (4.13.0)\n",
            "Requirement already satisfied: packaging>=0.21 in /usr/local/lib/python3.7/dist-packages (from scikeras) (21.3)\n",
            "Requirement already satisfied: zipp>=0.5 in /usr/local/lib/python3.7/dist-packages (from importlib-metadata>=3->scikeras) (3.9.0)\n",
            "Requirement already satisfied: typing-extensions>=3.6.4 in /usr/local/lib/python3.7/dist-packages (from importlib-metadata>=3->scikeras) (4.1.1)\n",
            "Requirement already satisfied: pyparsing!=3.0.5,>=2.0.2 in /usr/local/lib/python3.7/dist-packages (from packaging>=0.21->scikeras) (3.0.9)\n",
            "Requirement already satisfied: numpy>=1.14.6 in /usr/local/lib/python3.7/dist-packages (from scikit-learn>=1.0.0->scikeras) (1.21.6)\n",
            "Requirement already satisfied: scipy>=1.1.0 in /usr/local/lib/python3.7/dist-packages (from scikit-learn>=1.0.0->scikeras) (1.7.3)\n",
            "Requirement already satisfied: threadpoolctl>=2.0.0 in /usr/local/lib/python3.7/dist-packages (from scikit-learn>=1.0.0->scikeras) (3.1.0)\n",
            "Requirement already satisfied: joblib>=0.11 in /usr/local/lib/python3.7/dist-packages (from scikit-learn>=1.0.0->scikeras) (1.2.0)\n",
            "Installing collected packages: scikeras\n",
            "Successfully installed scikeras-0.9.0\n",
            "Looking in indexes: https://pypi.org/simple, https://us-python.pkg.dev/colab-wheels/public/simple/\n",
            "Collecting tensorflow-addons\n",
            "  Downloading tensorflow_addons-0.18.0-cp37-cp37m-manylinux_2_17_x86_64.manylinux2014_x86_64.whl (1.1 MB)\n",
            "\u001b[K     |████████████████████████████████| 1.1 MB 37.2 MB/s \n",
            "\u001b[?25hRequirement already satisfied: typeguard>=2.7 in /usr/local/lib/python3.7/dist-packages (from tensorflow-addons) (2.7.1)\n",
            "Requirement already satisfied: packaging in /usr/local/lib/python3.7/dist-packages (from tensorflow-addons) (21.3)\n",
            "Requirement already satisfied: pyparsing!=3.0.5,>=2.0.2 in /usr/local/lib/python3.7/dist-packages (from packaging->tensorflow-addons) (3.0.9)\n",
            "Installing collected packages: tensorflow-addons\n",
            "Successfully installed tensorflow-addons-0.18.0\n",
            "Looking in indexes: https://pypi.org/simple, https://us-python.pkg.dev/colab-wheels/public/simple/\n",
            "Collecting scikit-optimize\n",
            "  Downloading scikit_optimize-0.9.0-py2.py3-none-any.whl (100 kB)\n",
            "\u001b[K     |████████████████████████████████| 100 kB 7.5 MB/s \n",
            "\u001b[?25hRequirement already satisfied: scipy>=0.19.1 in /usr/local/lib/python3.7/dist-packages (from scikit-optimize) (1.7.3)\n",
            "Requirement already satisfied: numpy>=1.13.3 in /usr/local/lib/python3.7/dist-packages (from scikit-optimize) (1.21.6)\n",
            "Requirement already satisfied: scikit-learn>=0.20.0 in /usr/local/lib/python3.7/dist-packages (from scikit-optimize) (1.0.2)\n",
            "Requirement already satisfied: joblib>=0.11 in /usr/local/lib/python3.7/dist-packages (from scikit-optimize) (1.2.0)\n",
            "Collecting pyaml>=16.9\n",
            "  Downloading pyaml-21.10.1-py2.py3-none-any.whl (24 kB)\n",
            "Requirement already satisfied: PyYAML in /usr/local/lib/python3.7/dist-packages (from pyaml>=16.9->scikit-optimize) (6.0)\n",
            "Requirement already satisfied: threadpoolctl>=2.0.0 in /usr/local/lib/python3.7/dist-packages (from scikit-learn>=0.20.0->scikit-optimize) (3.1.0)\n",
            "Installing collected packages: pyaml, scikit-optimize\n",
            "Successfully installed pyaml-21.10.1 scikit-optimize-0.9.0\n"
          ]
        }
      ]
    },
    {
      "cell_type": "code",
      "source": [
        "import os\n",
        "import random\n",
        "import pandas as pd\n",
        "import matplotlib.pyplot as plt\n",
        "import seaborn as sns\n",
        "import numpy as np\n",
        "import glob\n",
        "import datetime"
      ],
      "metadata": {
        "id": "i0Z0Zs7YcgTp"
      },
      "execution_count": 2,
      "outputs": []
    },
    {
      "cell_type": "code",
      "source": [
        "from sklearn.pipeline import Pipeline\n",
        "from sklearn.compose import TransformedTargetRegressor\n",
        "\n",
        "from sklearn.preprocessing import FunctionTransformer\n",
        "from sklearn.preprocessing import PolynomialFeatures\n",
        "from sklearn.preprocessing import MinMaxScaler, StandardScaler\n",
        "\n",
        "from sklearn.model_selection import GroupKFold\n",
        "\n",
        "from sklearn.base import BaseEstimator,RegressorMixin"
      ],
      "metadata": {
        "id": "wmJyWwoFHcFL"
      },
      "execution_count": 3,
      "outputs": []
    },
    {
      "cell_type": "code",
      "source": [
        "from skopt import BayesSearchCV\n",
        "\n",
        "from skopt.space.space import Categorical, Integer, Real"
      ],
      "metadata": {
        "id": "b4AwhIPNHgzX"
      },
      "execution_count": 4,
      "outputs": []
    },
    {
      "cell_type": "code",
      "source": [
        "import tensorflow as tf\n",
        "from tensorflow.keras import Sequential\n",
        "from tensorflow.keras.layers import Dense, Dropout, LSTM, Masking\n",
        "\n",
        "from tensorflow.keras.metrics import RootMeanSquaredError as RMSE\n",
        "\n",
        "from keras.callbacks import LambdaCallback\n",
        "from tensorflow.keras.optimizers import SGD, Adam, RMSprop\n",
        "from tensorflow.keras.optimizers.schedules import ExponentialDecay\n",
        "\n",
        "import tensorflow_addons as tfa\n",
        "from tensorflow_addons.metrics import RSquare as R2\n",
        "\n",
        "from scikeras.wrappers import KerasRegressor"
      ],
      "metadata": {
        "id": "LnMMh6xN33s4"
      },
      "execution_count": 5,
      "outputs": []
    },
    {
      "cell_type": "code",
      "source": [
        "sns.set_palette('colorblind')"
      ],
      "metadata": {
        "id": "yIpSdBdJ-uWd"
      },
      "execution_count": 6,
      "outputs": []
    },
    {
      "cell_type": "code",
      "source": [
        "# Reproducibility\n",
        "seed = 42\n",
        "os.environ['PYTHONHASHSEED']=str(seed)\n",
        "random.seed(seed)\n",
        "np.random.seed(seed)\n",
        "tf.random.set_seed(seed)"
      ],
      "metadata": {
        "id": "oWUcQTaa3lth"
      },
      "execution_count": 7,
      "outputs": []
    },
    {
      "cell_type": "code",
      "source": [
        "tf.config.experimental.enable_op_determinism()"
      ],
      "metadata": {
        "id": "fwRwlCA7Yt4C"
      },
      "execution_count": 8,
      "outputs": []
    },
    {
      "cell_type": "code",
      "source": [
        "# Remove some tf warnings\n",
        "import absl.logging\n",
        "absl.logging.set_verbosity(absl.logging.ERROR)"
      ],
      "metadata": {
        "id": "cJXVJecRHjMy"
      },
      "execution_count": 9,
      "outputs": []
    },
    {
      "cell_type": "markdown",
      "source": [
        "# Data Preparation"
      ],
      "metadata": {
        "id": "AU6ipeRozJz-"
      }
    },
    {
      "cell_type": "code",
      "source": [
        "if 'google.colab' in str(get_ipython()):\n",
        "    print('Running on CoLab')\n",
        "    IN_COLAB = True\n",
        "    folder=\"/content/CMaps/\"\n",
        "\n",
        "    # Dataset Download \n",
        "    os.system('git clone https://github.com/arthursl12/dataset_2')\n",
        "    os.system('mv /content/dataset_2/CMaps /content/CMaps')\n",
        "    os.system('mv /content/dataset_2/data_processing /content/data_processing')\n",
        "    os.system('rm -rf dataset_2')\n",
        "else:\n",
        "    print('Not running on CoLab')\n",
        "    IN_COLAB = False\n",
        "    folder=\"CMaps/\"\n",
        "    %cd dataset_2/"
      ],
      "metadata": {
        "colab": {
          "base_uri": "https://localhost:8080/"
        },
        "id": "-EPYBkqeECE9",
        "outputId": "5e435237-69ff-43cc-fe96-4817d7361871"
      },
      "execution_count": 10,
      "outputs": [
        {
          "output_type": "stream",
          "name": "stdout",
          "text": [
            "Running on CoLab\n"
          ]
        }
      ]
    },
    {
      "cell_type": "code",
      "source": [
        "from data_processing.processing import DatasetProcessing\n",
        "from data_processing.training import HyperparameterSearch, reclipper_scorer\n",
        "from data_processing.eval import Evaluation"
      ],
      "metadata": {
        "id": "FUQ5tHe4Eu7z"
      },
      "execution_count": 11,
      "outputs": []
    },
    {
      "cell_type": "code",
      "source": [
        "proc = DatasetProcessing()"
      ],
      "metadata": {
        "id": "g1BmyudxzUz-"
      },
      "execution_count": 12,
      "outputs": []
    },
    {
      "cell_type": "markdown",
      "source": [
        "## Data Integration"
      ],
      "metadata": {
        "id": "Q4QwyfhXs_hv"
      }
    },
    {
      "cell_type": "markdown",
      "source": [
        "The data are provided as a zip-compressed text file with 26 columns of numbers, separated by spaces. Each row is a snapshot of data taken during a single operational cycle, each column is a different variable. The columns correspond to:  \n",
        "\n",
        "1) unit number   \n",
        "2) time, in cycles  \n",
        "3) operational setting 1  \n",
        "4) operational setting 2  \n",
        "5) operational setting 3    \n",
        "6) sensor measurement 1    \n",
        "7) sensor measurement 2  \n",
        "...  \n",
        "26) sensor measurement 20\n",
        "\n",
        "\n",
        "There are 6 conditions (or combinations) which the 3 operational settings can take.  \n",
        "Condition 1: Altitude = 0, Mach Number = 0, TRA = 100  \n",
        "Condition 2: Altitude = 10, Mach Number = 0.25, TRA = 100  \n",
        "Condition 3: Altitude = 20, Mach Number = 0.7 TRA = 100  \n",
        "Condition 4: Altitude = 25, Mach Number = 0.62, TRA = 60  \n",
        "Condition 5: Altitude = 35 Mach Number = 0.84, TRA = 100  \n",
        "Condition 6: Altitude = 42, Mach Number = 0.84, TRA = 100  \n",
        "  \n",
        "There is slight variation in all these conditions so you may get numbers like 24.453 instead of 25 exactly.\n",
        "\n",
        "FD001: Condition 1 only  \n",
        "FD002: Mix of all the conditions  \n",
        "FD003: Condition 1 only  \n",
        "FD004: Mix of all conditions  \n"
      ],
      "metadata": {
        "id": "PQe-SyeYc6Gf"
      }
    },
    {
      "cell_type": "code",
      "source": [
        "index_cols, settings_cols, sensors_cols, cols = proc.column_names()\n",
        "train, test, y_test = proc.read_dataset(3,folder=folder)\n",
        "train"
      ],
      "metadata": {
        "id": "-yRYxz2hh4xE",
        "colab": {
          "base_uri": "https://localhost:8080/",
          "height": 488
        },
        "outputId": "406a0014-6441-49b5-981f-cf5d470d31b6"
      },
      "execution_count": 13,
      "outputs": [
        {
          "output_type": "execute_result",
          "data": {
            "text/plain": [
              "       unit_number  time    op_1    op_2   op_3     s_0     s_1      s_2  \\\n",
              "0                1     1 -0.0005  0.0004  100.0  518.67  642.36  1583.23   \n",
              "1                1     2  0.0008 -0.0003  100.0  518.67  642.50  1584.69   \n",
              "2                1     3 -0.0014 -0.0002  100.0  518.67  642.18  1582.35   \n",
              "3                1     4 -0.0020  0.0001  100.0  518.67  642.92  1585.61   \n",
              "4                1     5  0.0016  0.0000  100.0  518.67  641.68  1588.63   \n",
              "...            ...   ...     ...     ...    ...     ...     ...      ...   \n",
              "24715          100   148 -0.0016 -0.0003  100.0  518.67  643.78  1596.01   \n",
              "24716          100   149  0.0034 -0.0003  100.0  518.67  643.29  1596.38   \n",
              "24717          100   150 -0.0016  0.0004  100.0  518.67  643.84  1604.53   \n",
              "24718          100   151 -0.0023  0.0004  100.0  518.67  643.94  1597.56   \n",
              "24719          100   152  0.0000  0.0003  100.0  518.67  643.64  1599.04   \n",
              "\n",
              "           s_3    s_4  ...    s_11     s_12     s_13    s_14  s_15  s_16  \\\n",
              "0      1396.84  14.62  ...  522.31  2388.01  8145.32  8.4246  0.03   391   \n",
              "1      1396.89  14.62  ...  522.42  2388.03  8152.85  8.4403  0.03   392   \n",
              "2      1405.61  14.62  ...  522.03  2388.00  8150.17  8.3901  0.03   391   \n",
              "3      1392.27  14.62  ...  522.49  2388.08  8146.56  8.3878  0.03   392   \n",
              "4      1397.65  14.62  ...  522.58  2388.03  8147.80  8.3869  0.03   392   \n",
              "...        ...    ...  ...     ...      ...      ...     ...   ...   ...   \n",
              "24715  1424.11  14.62  ...  519.66  2388.30  8138.08  8.5036  0.03   394   \n",
              "24716  1429.14  14.62  ...  519.91  2388.28  8144.36  8.5174  0.03   395   \n",
              "24717  1431.41  14.62  ...  519.44  2388.24  8135.95  8.5223  0.03   396   \n",
              "24718  1426.57  14.62  ...  520.01  2388.26  8141.24  8.5148  0.03   395   \n",
              "24719  1436.06  14.62  ...  519.48  2388.24  8136.98  8.5150  0.03   396   \n",
              "\n",
              "       s_17   s_18   s_19     s_20  \n",
              "0      2388  100.0  39.11  23.3537  \n",
              "1      2388  100.0  38.99  23.4491  \n",
              "2      2388  100.0  38.85  23.3669  \n",
              "3      2388  100.0  38.96  23.2951  \n",
              "4      2388  100.0  39.14  23.4583  \n",
              "...     ...    ...    ...      ...  \n",
              "24715  2388  100.0  38.44  22.9631  \n",
              "24716  2388  100.0  38.50  22.9746  \n",
              "24717  2388  100.0  38.39  23.0682  \n",
              "24718  2388  100.0  38.31  23.0753  \n",
              "24719  2388  100.0  38.56  23.0847  \n",
              "\n",
              "[24720 rows x 26 columns]"
            ],
            "text/html": [
              "\n",
              "  <div id=\"df-5ba565b1-ed66-43ac-9bf2-17a69e4a7dc1\">\n",
              "    <div class=\"colab-df-container\">\n",
              "      <div>\n",
              "<style scoped>\n",
              "    .dataframe tbody tr th:only-of-type {\n",
              "        vertical-align: middle;\n",
              "    }\n",
              "\n",
              "    .dataframe tbody tr th {\n",
              "        vertical-align: top;\n",
              "    }\n",
              "\n",
              "    .dataframe thead th {\n",
              "        text-align: right;\n",
              "    }\n",
              "</style>\n",
              "<table border=\"1\" class=\"dataframe\">\n",
              "  <thead>\n",
              "    <tr style=\"text-align: right;\">\n",
              "      <th></th>\n",
              "      <th>unit_number</th>\n",
              "      <th>time</th>\n",
              "      <th>op_1</th>\n",
              "      <th>op_2</th>\n",
              "      <th>op_3</th>\n",
              "      <th>s_0</th>\n",
              "      <th>s_1</th>\n",
              "      <th>s_2</th>\n",
              "      <th>s_3</th>\n",
              "      <th>s_4</th>\n",
              "      <th>...</th>\n",
              "      <th>s_11</th>\n",
              "      <th>s_12</th>\n",
              "      <th>s_13</th>\n",
              "      <th>s_14</th>\n",
              "      <th>s_15</th>\n",
              "      <th>s_16</th>\n",
              "      <th>s_17</th>\n",
              "      <th>s_18</th>\n",
              "      <th>s_19</th>\n",
              "      <th>s_20</th>\n",
              "    </tr>\n",
              "  </thead>\n",
              "  <tbody>\n",
              "    <tr>\n",
              "      <th>0</th>\n",
              "      <td>1</td>\n",
              "      <td>1</td>\n",
              "      <td>-0.0005</td>\n",
              "      <td>0.0004</td>\n",
              "      <td>100.0</td>\n",
              "      <td>518.67</td>\n",
              "      <td>642.36</td>\n",
              "      <td>1583.23</td>\n",
              "      <td>1396.84</td>\n",
              "      <td>14.62</td>\n",
              "      <td>...</td>\n",
              "      <td>522.31</td>\n",
              "      <td>2388.01</td>\n",
              "      <td>8145.32</td>\n",
              "      <td>8.4246</td>\n",
              "      <td>0.03</td>\n",
              "      <td>391</td>\n",
              "      <td>2388</td>\n",
              "      <td>100.0</td>\n",
              "      <td>39.11</td>\n",
              "      <td>23.3537</td>\n",
              "    </tr>\n",
              "    <tr>\n",
              "      <th>1</th>\n",
              "      <td>1</td>\n",
              "      <td>2</td>\n",
              "      <td>0.0008</td>\n",
              "      <td>-0.0003</td>\n",
              "      <td>100.0</td>\n",
              "      <td>518.67</td>\n",
              "      <td>642.50</td>\n",
              "      <td>1584.69</td>\n",
              "      <td>1396.89</td>\n",
              "      <td>14.62</td>\n",
              "      <td>...</td>\n",
              "      <td>522.42</td>\n",
              "      <td>2388.03</td>\n",
              "      <td>8152.85</td>\n",
              "      <td>8.4403</td>\n",
              "      <td>0.03</td>\n",
              "      <td>392</td>\n",
              "      <td>2388</td>\n",
              "      <td>100.0</td>\n",
              "      <td>38.99</td>\n",
              "      <td>23.4491</td>\n",
              "    </tr>\n",
              "    <tr>\n",
              "      <th>2</th>\n",
              "      <td>1</td>\n",
              "      <td>3</td>\n",
              "      <td>-0.0014</td>\n",
              "      <td>-0.0002</td>\n",
              "      <td>100.0</td>\n",
              "      <td>518.67</td>\n",
              "      <td>642.18</td>\n",
              "      <td>1582.35</td>\n",
              "      <td>1405.61</td>\n",
              "      <td>14.62</td>\n",
              "      <td>...</td>\n",
              "      <td>522.03</td>\n",
              "      <td>2388.00</td>\n",
              "      <td>8150.17</td>\n",
              "      <td>8.3901</td>\n",
              "      <td>0.03</td>\n",
              "      <td>391</td>\n",
              "      <td>2388</td>\n",
              "      <td>100.0</td>\n",
              "      <td>38.85</td>\n",
              "      <td>23.3669</td>\n",
              "    </tr>\n",
              "    <tr>\n",
              "      <th>3</th>\n",
              "      <td>1</td>\n",
              "      <td>4</td>\n",
              "      <td>-0.0020</td>\n",
              "      <td>0.0001</td>\n",
              "      <td>100.0</td>\n",
              "      <td>518.67</td>\n",
              "      <td>642.92</td>\n",
              "      <td>1585.61</td>\n",
              "      <td>1392.27</td>\n",
              "      <td>14.62</td>\n",
              "      <td>...</td>\n",
              "      <td>522.49</td>\n",
              "      <td>2388.08</td>\n",
              "      <td>8146.56</td>\n",
              "      <td>8.3878</td>\n",
              "      <td>0.03</td>\n",
              "      <td>392</td>\n",
              "      <td>2388</td>\n",
              "      <td>100.0</td>\n",
              "      <td>38.96</td>\n",
              "      <td>23.2951</td>\n",
              "    </tr>\n",
              "    <tr>\n",
              "      <th>4</th>\n",
              "      <td>1</td>\n",
              "      <td>5</td>\n",
              "      <td>0.0016</td>\n",
              "      <td>0.0000</td>\n",
              "      <td>100.0</td>\n",
              "      <td>518.67</td>\n",
              "      <td>641.68</td>\n",
              "      <td>1588.63</td>\n",
              "      <td>1397.65</td>\n",
              "      <td>14.62</td>\n",
              "      <td>...</td>\n",
              "      <td>522.58</td>\n",
              "      <td>2388.03</td>\n",
              "      <td>8147.80</td>\n",
              "      <td>8.3869</td>\n",
              "      <td>0.03</td>\n",
              "      <td>392</td>\n",
              "      <td>2388</td>\n",
              "      <td>100.0</td>\n",
              "      <td>39.14</td>\n",
              "      <td>23.4583</td>\n",
              "    </tr>\n",
              "    <tr>\n",
              "      <th>...</th>\n",
              "      <td>...</td>\n",
              "      <td>...</td>\n",
              "      <td>...</td>\n",
              "      <td>...</td>\n",
              "      <td>...</td>\n",
              "      <td>...</td>\n",
              "      <td>...</td>\n",
              "      <td>...</td>\n",
              "      <td>...</td>\n",
              "      <td>...</td>\n",
              "      <td>...</td>\n",
              "      <td>...</td>\n",
              "      <td>...</td>\n",
              "      <td>...</td>\n",
              "      <td>...</td>\n",
              "      <td>...</td>\n",
              "      <td>...</td>\n",
              "      <td>...</td>\n",
              "      <td>...</td>\n",
              "      <td>...</td>\n",
              "      <td>...</td>\n",
              "    </tr>\n",
              "    <tr>\n",
              "      <th>24715</th>\n",
              "      <td>100</td>\n",
              "      <td>148</td>\n",
              "      <td>-0.0016</td>\n",
              "      <td>-0.0003</td>\n",
              "      <td>100.0</td>\n",
              "      <td>518.67</td>\n",
              "      <td>643.78</td>\n",
              "      <td>1596.01</td>\n",
              "      <td>1424.11</td>\n",
              "      <td>14.62</td>\n",
              "      <td>...</td>\n",
              "      <td>519.66</td>\n",
              "      <td>2388.30</td>\n",
              "      <td>8138.08</td>\n",
              "      <td>8.5036</td>\n",
              "      <td>0.03</td>\n",
              "      <td>394</td>\n",
              "      <td>2388</td>\n",
              "      <td>100.0</td>\n",
              "      <td>38.44</td>\n",
              "      <td>22.9631</td>\n",
              "    </tr>\n",
              "    <tr>\n",
              "      <th>24716</th>\n",
              "      <td>100</td>\n",
              "      <td>149</td>\n",
              "      <td>0.0034</td>\n",
              "      <td>-0.0003</td>\n",
              "      <td>100.0</td>\n",
              "      <td>518.67</td>\n",
              "      <td>643.29</td>\n",
              "      <td>1596.38</td>\n",
              "      <td>1429.14</td>\n",
              "      <td>14.62</td>\n",
              "      <td>...</td>\n",
              "      <td>519.91</td>\n",
              "      <td>2388.28</td>\n",
              "      <td>8144.36</td>\n",
              "      <td>8.5174</td>\n",
              "      <td>0.03</td>\n",
              "      <td>395</td>\n",
              "      <td>2388</td>\n",
              "      <td>100.0</td>\n",
              "      <td>38.50</td>\n",
              "      <td>22.9746</td>\n",
              "    </tr>\n",
              "    <tr>\n",
              "      <th>24717</th>\n",
              "      <td>100</td>\n",
              "      <td>150</td>\n",
              "      <td>-0.0016</td>\n",
              "      <td>0.0004</td>\n",
              "      <td>100.0</td>\n",
              "      <td>518.67</td>\n",
              "      <td>643.84</td>\n",
              "      <td>1604.53</td>\n",
              "      <td>1431.41</td>\n",
              "      <td>14.62</td>\n",
              "      <td>...</td>\n",
              "      <td>519.44</td>\n",
              "      <td>2388.24</td>\n",
              "      <td>8135.95</td>\n",
              "      <td>8.5223</td>\n",
              "      <td>0.03</td>\n",
              "      <td>396</td>\n",
              "      <td>2388</td>\n",
              "      <td>100.0</td>\n",
              "      <td>38.39</td>\n",
              "      <td>23.0682</td>\n",
              "    </tr>\n",
              "    <tr>\n",
              "      <th>24718</th>\n",
              "      <td>100</td>\n",
              "      <td>151</td>\n",
              "      <td>-0.0023</td>\n",
              "      <td>0.0004</td>\n",
              "      <td>100.0</td>\n",
              "      <td>518.67</td>\n",
              "      <td>643.94</td>\n",
              "      <td>1597.56</td>\n",
              "      <td>1426.57</td>\n",
              "      <td>14.62</td>\n",
              "      <td>...</td>\n",
              "      <td>520.01</td>\n",
              "      <td>2388.26</td>\n",
              "      <td>8141.24</td>\n",
              "      <td>8.5148</td>\n",
              "      <td>0.03</td>\n",
              "      <td>395</td>\n",
              "      <td>2388</td>\n",
              "      <td>100.0</td>\n",
              "      <td>38.31</td>\n",
              "      <td>23.0753</td>\n",
              "    </tr>\n",
              "    <tr>\n",
              "      <th>24719</th>\n",
              "      <td>100</td>\n",
              "      <td>152</td>\n",
              "      <td>0.0000</td>\n",
              "      <td>0.0003</td>\n",
              "      <td>100.0</td>\n",
              "      <td>518.67</td>\n",
              "      <td>643.64</td>\n",
              "      <td>1599.04</td>\n",
              "      <td>1436.06</td>\n",
              "      <td>14.62</td>\n",
              "      <td>...</td>\n",
              "      <td>519.48</td>\n",
              "      <td>2388.24</td>\n",
              "      <td>8136.98</td>\n",
              "      <td>8.5150</td>\n",
              "      <td>0.03</td>\n",
              "      <td>396</td>\n",
              "      <td>2388</td>\n",
              "      <td>100.0</td>\n",
              "      <td>38.56</td>\n",
              "      <td>23.0847</td>\n",
              "    </tr>\n",
              "  </tbody>\n",
              "</table>\n",
              "<p>24720 rows × 26 columns</p>\n",
              "</div>\n",
              "      <button class=\"colab-df-convert\" onclick=\"convertToInteractive('df-5ba565b1-ed66-43ac-9bf2-17a69e4a7dc1')\"\n",
              "              title=\"Convert this dataframe to an interactive table.\"\n",
              "              style=\"display:none;\">\n",
              "        \n",
              "  <svg xmlns=\"http://www.w3.org/2000/svg\" height=\"24px\"viewBox=\"0 0 24 24\"\n",
              "       width=\"24px\">\n",
              "    <path d=\"M0 0h24v24H0V0z\" fill=\"none\"/>\n",
              "    <path d=\"M18.56 5.44l.94 2.06.94-2.06 2.06-.94-2.06-.94-.94-2.06-.94 2.06-2.06.94zm-11 1L8.5 8.5l.94-2.06 2.06-.94-2.06-.94L8.5 2.5l-.94 2.06-2.06.94zm10 10l.94 2.06.94-2.06 2.06-.94-2.06-.94-.94-2.06-.94 2.06-2.06.94z\"/><path d=\"M17.41 7.96l-1.37-1.37c-.4-.4-.92-.59-1.43-.59-.52 0-1.04.2-1.43.59L10.3 9.45l-7.72 7.72c-.78.78-.78 2.05 0 2.83L4 21.41c.39.39.9.59 1.41.59.51 0 1.02-.2 1.41-.59l7.78-7.78 2.81-2.81c.8-.78.8-2.07 0-2.86zM5.41 20L4 18.59l7.72-7.72 1.47 1.35L5.41 20z\"/>\n",
              "  </svg>\n",
              "      </button>\n",
              "      \n",
              "  <style>\n",
              "    .colab-df-container {\n",
              "      display:flex;\n",
              "      flex-wrap:wrap;\n",
              "      gap: 12px;\n",
              "    }\n",
              "\n",
              "    .colab-df-convert {\n",
              "      background-color: #E8F0FE;\n",
              "      border: none;\n",
              "      border-radius: 50%;\n",
              "      cursor: pointer;\n",
              "      display: none;\n",
              "      fill: #1967D2;\n",
              "      height: 32px;\n",
              "      padding: 0 0 0 0;\n",
              "      width: 32px;\n",
              "    }\n",
              "\n",
              "    .colab-df-convert:hover {\n",
              "      background-color: #E2EBFA;\n",
              "      box-shadow: 0px 1px 2px rgba(60, 64, 67, 0.3), 0px 1px 3px 1px rgba(60, 64, 67, 0.15);\n",
              "      fill: #174EA6;\n",
              "    }\n",
              "\n",
              "    [theme=dark] .colab-df-convert {\n",
              "      background-color: #3B4455;\n",
              "      fill: #D2E3FC;\n",
              "    }\n",
              "\n",
              "    [theme=dark] .colab-df-convert:hover {\n",
              "      background-color: #434B5C;\n",
              "      box-shadow: 0px 1px 3px 1px rgba(0, 0, 0, 0.15);\n",
              "      filter: drop-shadow(0px 1px 2px rgba(0, 0, 0, 0.3));\n",
              "      fill: #FFFFFF;\n",
              "    }\n",
              "  </style>\n",
              "\n",
              "      <script>\n",
              "        const buttonEl =\n",
              "          document.querySelector('#df-5ba565b1-ed66-43ac-9bf2-17a69e4a7dc1 button.colab-df-convert');\n",
              "        buttonEl.style.display =\n",
              "          google.colab.kernel.accessAllowed ? 'block' : 'none';\n",
              "\n",
              "        async function convertToInteractive(key) {\n",
              "          const element = document.querySelector('#df-5ba565b1-ed66-43ac-9bf2-17a69e4a7dc1');\n",
              "          const dataTable =\n",
              "            await google.colab.kernel.invokeFunction('convertToInteractive',\n",
              "                                                     [key], {});\n",
              "          if (!dataTable) return;\n",
              "\n",
              "          const docLinkHtml = 'Like what you see? Visit the ' +\n",
              "            '<a target=\"_blank\" href=https://colab.research.google.com/notebooks/data_table.ipynb>data table notebook</a>'\n",
              "            + ' to learn more about interactive tables.';\n",
              "          element.innerHTML = '';\n",
              "          dataTable['output_type'] = 'display_data';\n",
              "          await google.colab.output.renderOutput(dataTable, element);\n",
              "          const docLink = document.createElement('div');\n",
              "          docLink.innerHTML = docLinkHtml;\n",
              "          element.appendChild(docLink);\n",
              "        }\n",
              "      </script>\n",
              "    </div>\n",
              "  </div>\n",
              "  "
            ]
          },
          "metadata": {},
          "execution_count": 13
        }
      ]
    },
    {
      "cell_type": "markdown",
      "source": [
        "## Preprocessing"
      ],
      "metadata": {
        "id": "n7MBDuPasy-s"
      }
    },
    {
      "cell_type": "markdown",
      "source": [
        "### Validation Set"
      ],
      "metadata": {
        "id": "e7-_jqRw3cRa"
      }
    },
    {
      "cell_type": "code",
      "source": [
        "from sklearn.model_selection import GroupShuffleSplit\n",
        "\n",
        "def train_val_split(train):\n",
        "    gss = GroupShuffleSplit(n_splits=1, train_size=0.80, random_state=42)  \n",
        "    for idx_train, idx_val in gss.split(train,groups=train[\"unit_number\"]):\n",
        "        # print('train_split_engines', train.iloc[idx_train]['unit_number'].unique(), '\\n')\n",
        "        # print('validate_split_engines', train.iloc[idx_val]['unit_number'].unique(), '\\n')\n",
        "\n",
        "        df_train = train.iloc[idx_train].copy()\n",
        "        df_val = train.iloc[idx_val].copy()\n",
        "\n",
        "    return df_train, df_val"
      ],
      "metadata": {
        "id": "_FBiCeewvW-E"
      },
      "execution_count": 14,
      "outputs": []
    },
    {
      "cell_type": "code",
      "source": [
        "df_train, df_val = train_val_split(train)"
      ],
      "metadata": {
        "id": "beWX66gdvs0s"
      },
      "execution_count": 15,
      "outputs": []
    },
    {
      "cell_type": "code",
      "source": [
        "X_t_train, y_t_train = proc.X_y_train_divide(df_train)\n",
        "X_t_val, y_t_val = proc.X_y_train_divide(df_val)"
      ],
      "metadata": {
        "id": "0PTNitwkvwE2"
      },
      "execution_count": 16,
      "outputs": []
    },
    {
      "cell_type": "markdown",
      "source": [
        "### Test Set Transformation \n",
        "Test set has samples for all cycles, but has annotations only for last one"
      ],
      "metadata": {
        "id": "QinQ4hWStzHt"
      }
    },
    {
      "cell_type": "code",
      "source": [
        "test.shape, y_test.shape"
      ],
      "metadata": {
        "id": "4wtvRNsfuUwg",
        "colab": {
          "base_uri": "https://localhost:8080/"
        },
        "outputId": "1430e67c-4c9f-421e-9ef9-df75882d19bd"
      },
      "execution_count": 17,
      "outputs": [
        {
          "output_type": "execute_result",
          "data": {
            "text/plain": [
              "((16596, 26), (100, 1))"
            ]
          },
          "metadata": {},
          "execution_count": 17
        }
      ]
    },
    {
      "cell_type": "code",
      "source": [
        "test_last = proc.transform_test(test)\n",
        "test_last.head()"
      ],
      "metadata": {
        "id": "onw4pCwZy-1s",
        "colab": {
          "base_uri": "https://localhost:8080/",
          "height": 300
        },
        "outputId": "0741787f-e24f-4595-852b-0148dae1da93"
      },
      "execution_count": 18,
      "outputs": [
        {
          "output_type": "execute_result",
          "data": {
            "text/plain": [
              "      s_0     s_1      s_2      s_3    s_4    s_5     s_6      s_7      s_8  \\\n",
              "0  518.67  642.59  1592.40  1409.87  14.62  21.58  560.53  2388.22  9085.50   \n",
              "1  518.67  642.56  1587.42  1409.69  14.62  21.61  553.33  2388.18  9050.97   \n",
              "2  518.67  642.75  1591.93  1417.66  14.62  21.60  563.61  2388.31  9091.69   \n",
              "3  518.67  642.28  1584.68  1406.56  14.62  21.61  552.75  2388.07  9048.23   \n",
              "4  518.67  642.15  1580.59  1397.26  14.62  21.58  553.82  2387.96  9050.89   \n",
              "\n",
              "    s_9  ...    s_11     s_12     s_13    s_14  s_15  s_16  s_17   s_18  \\\n",
              "0  1.31  ...  528.05  2388.23  8158.77  8.2966  0.03   393  2388  100.0   \n",
              "1  1.30  ...  520.90  2388.17  8128.04  8.4514  0.03   392  2388  100.0   \n",
              "2  1.31  ...  531.36  2388.33  8173.56  8.3057  0.03   395  2388  100.0   \n",
              "3  1.30  ...  521.27  2388.09  8133.78  8.4337  0.03   392  2388  100.0   \n",
              "4  1.30  ...  521.74  2387.96  8132.51  8.3900  0.03   390  2388  100.0   \n",
              "\n",
              "    s_19     s_20  \n",
              "0  39.43  23.5679  \n",
              "1  38.83  23.2821  \n",
              "2  39.27  23.6440  \n",
              "3  38.70  23.3804  \n",
              "4  38.89  23.4463  \n",
              "\n",
              "[5 rows x 21 columns]"
            ],
            "text/html": [
              "\n",
              "  <div id=\"df-50aabf2b-2b7f-47db-a21c-cc2b9826cd27\">\n",
              "    <div class=\"colab-df-container\">\n",
              "      <div>\n",
              "<style scoped>\n",
              "    .dataframe tbody tr th:only-of-type {\n",
              "        vertical-align: middle;\n",
              "    }\n",
              "\n",
              "    .dataframe tbody tr th {\n",
              "        vertical-align: top;\n",
              "    }\n",
              "\n",
              "    .dataframe thead th {\n",
              "        text-align: right;\n",
              "    }\n",
              "</style>\n",
              "<table border=\"1\" class=\"dataframe\">\n",
              "  <thead>\n",
              "    <tr style=\"text-align: right;\">\n",
              "      <th></th>\n",
              "      <th>s_0</th>\n",
              "      <th>s_1</th>\n",
              "      <th>s_2</th>\n",
              "      <th>s_3</th>\n",
              "      <th>s_4</th>\n",
              "      <th>s_5</th>\n",
              "      <th>s_6</th>\n",
              "      <th>s_7</th>\n",
              "      <th>s_8</th>\n",
              "      <th>s_9</th>\n",
              "      <th>...</th>\n",
              "      <th>s_11</th>\n",
              "      <th>s_12</th>\n",
              "      <th>s_13</th>\n",
              "      <th>s_14</th>\n",
              "      <th>s_15</th>\n",
              "      <th>s_16</th>\n",
              "      <th>s_17</th>\n",
              "      <th>s_18</th>\n",
              "      <th>s_19</th>\n",
              "      <th>s_20</th>\n",
              "    </tr>\n",
              "  </thead>\n",
              "  <tbody>\n",
              "    <tr>\n",
              "      <th>0</th>\n",
              "      <td>518.67</td>\n",
              "      <td>642.59</td>\n",
              "      <td>1592.40</td>\n",
              "      <td>1409.87</td>\n",
              "      <td>14.62</td>\n",
              "      <td>21.58</td>\n",
              "      <td>560.53</td>\n",
              "      <td>2388.22</td>\n",
              "      <td>9085.50</td>\n",
              "      <td>1.31</td>\n",
              "      <td>...</td>\n",
              "      <td>528.05</td>\n",
              "      <td>2388.23</td>\n",
              "      <td>8158.77</td>\n",
              "      <td>8.2966</td>\n",
              "      <td>0.03</td>\n",
              "      <td>393</td>\n",
              "      <td>2388</td>\n",
              "      <td>100.0</td>\n",
              "      <td>39.43</td>\n",
              "      <td>23.5679</td>\n",
              "    </tr>\n",
              "    <tr>\n",
              "      <th>1</th>\n",
              "      <td>518.67</td>\n",
              "      <td>642.56</td>\n",
              "      <td>1587.42</td>\n",
              "      <td>1409.69</td>\n",
              "      <td>14.62</td>\n",
              "      <td>21.61</td>\n",
              "      <td>553.33</td>\n",
              "      <td>2388.18</td>\n",
              "      <td>9050.97</td>\n",
              "      <td>1.30</td>\n",
              "      <td>...</td>\n",
              "      <td>520.90</td>\n",
              "      <td>2388.17</td>\n",
              "      <td>8128.04</td>\n",
              "      <td>8.4514</td>\n",
              "      <td>0.03</td>\n",
              "      <td>392</td>\n",
              "      <td>2388</td>\n",
              "      <td>100.0</td>\n",
              "      <td>38.83</td>\n",
              "      <td>23.2821</td>\n",
              "    </tr>\n",
              "    <tr>\n",
              "      <th>2</th>\n",
              "      <td>518.67</td>\n",
              "      <td>642.75</td>\n",
              "      <td>1591.93</td>\n",
              "      <td>1417.66</td>\n",
              "      <td>14.62</td>\n",
              "      <td>21.60</td>\n",
              "      <td>563.61</td>\n",
              "      <td>2388.31</td>\n",
              "      <td>9091.69</td>\n",
              "      <td>1.31</td>\n",
              "      <td>...</td>\n",
              "      <td>531.36</td>\n",
              "      <td>2388.33</td>\n",
              "      <td>8173.56</td>\n",
              "      <td>8.3057</td>\n",
              "      <td>0.03</td>\n",
              "      <td>395</td>\n",
              "      <td>2388</td>\n",
              "      <td>100.0</td>\n",
              "      <td>39.27</td>\n",
              "      <td>23.6440</td>\n",
              "    </tr>\n",
              "    <tr>\n",
              "      <th>3</th>\n",
              "      <td>518.67</td>\n",
              "      <td>642.28</td>\n",
              "      <td>1584.68</td>\n",
              "      <td>1406.56</td>\n",
              "      <td>14.62</td>\n",
              "      <td>21.61</td>\n",
              "      <td>552.75</td>\n",
              "      <td>2388.07</td>\n",
              "      <td>9048.23</td>\n",
              "      <td>1.30</td>\n",
              "      <td>...</td>\n",
              "      <td>521.27</td>\n",
              "      <td>2388.09</td>\n",
              "      <td>8133.78</td>\n",
              "      <td>8.4337</td>\n",
              "      <td>0.03</td>\n",
              "      <td>392</td>\n",
              "      <td>2388</td>\n",
              "      <td>100.0</td>\n",
              "      <td>38.70</td>\n",
              "      <td>23.3804</td>\n",
              "    </tr>\n",
              "    <tr>\n",
              "      <th>4</th>\n",
              "      <td>518.67</td>\n",
              "      <td>642.15</td>\n",
              "      <td>1580.59</td>\n",
              "      <td>1397.26</td>\n",
              "      <td>14.62</td>\n",
              "      <td>21.58</td>\n",
              "      <td>553.82</td>\n",
              "      <td>2387.96</td>\n",
              "      <td>9050.89</td>\n",
              "      <td>1.30</td>\n",
              "      <td>...</td>\n",
              "      <td>521.74</td>\n",
              "      <td>2387.96</td>\n",
              "      <td>8132.51</td>\n",
              "      <td>8.3900</td>\n",
              "      <td>0.03</td>\n",
              "      <td>390</td>\n",
              "      <td>2388</td>\n",
              "      <td>100.0</td>\n",
              "      <td>38.89</td>\n",
              "      <td>23.4463</td>\n",
              "    </tr>\n",
              "  </tbody>\n",
              "</table>\n",
              "<p>5 rows × 21 columns</p>\n",
              "</div>\n",
              "      <button class=\"colab-df-convert\" onclick=\"convertToInteractive('df-50aabf2b-2b7f-47db-a21c-cc2b9826cd27')\"\n",
              "              title=\"Convert this dataframe to an interactive table.\"\n",
              "              style=\"display:none;\">\n",
              "        \n",
              "  <svg xmlns=\"http://www.w3.org/2000/svg\" height=\"24px\"viewBox=\"0 0 24 24\"\n",
              "       width=\"24px\">\n",
              "    <path d=\"M0 0h24v24H0V0z\" fill=\"none\"/>\n",
              "    <path d=\"M18.56 5.44l.94 2.06.94-2.06 2.06-.94-2.06-.94-.94-2.06-.94 2.06-2.06.94zm-11 1L8.5 8.5l.94-2.06 2.06-.94-2.06-.94L8.5 2.5l-.94 2.06-2.06.94zm10 10l.94 2.06.94-2.06 2.06-.94-2.06-.94-.94-2.06-.94 2.06-2.06.94z\"/><path d=\"M17.41 7.96l-1.37-1.37c-.4-.4-.92-.59-1.43-.59-.52 0-1.04.2-1.43.59L10.3 9.45l-7.72 7.72c-.78.78-.78 2.05 0 2.83L4 21.41c.39.39.9.59 1.41.59.51 0 1.02-.2 1.41-.59l7.78-7.78 2.81-2.81c.8-.78.8-2.07 0-2.86zM5.41 20L4 18.59l7.72-7.72 1.47 1.35L5.41 20z\"/>\n",
              "  </svg>\n",
              "      </button>\n",
              "      \n",
              "  <style>\n",
              "    .colab-df-container {\n",
              "      display:flex;\n",
              "      flex-wrap:wrap;\n",
              "      gap: 12px;\n",
              "    }\n",
              "\n",
              "    .colab-df-convert {\n",
              "      background-color: #E8F0FE;\n",
              "      border: none;\n",
              "      border-radius: 50%;\n",
              "      cursor: pointer;\n",
              "      display: none;\n",
              "      fill: #1967D2;\n",
              "      height: 32px;\n",
              "      padding: 0 0 0 0;\n",
              "      width: 32px;\n",
              "    }\n",
              "\n",
              "    .colab-df-convert:hover {\n",
              "      background-color: #E2EBFA;\n",
              "      box-shadow: 0px 1px 2px rgba(60, 64, 67, 0.3), 0px 1px 3px 1px rgba(60, 64, 67, 0.15);\n",
              "      fill: #174EA6;\n",
              "    }\n",
              "\n",
              "    [theme=dark] .colab-df-convert {\n",
              "      background-color: #3B4455;\n",
              "      fill: #D2E3FC;\n",
              "    }\n",
              "\n",
              "    [theme=dark] .colab-df-convert:hover {\n",
              "      background-color: #434B5C;\n",
              "      box-shadow: 0px 1px 3px 1px rgba(0, 0, 0, 0.15);\n",
              "      filter: drop-shadow(0px 1px 2px rgba(0, 0, 0, 0.3));\n",
              "      fill: #FFFFFF;\n",
              "    }\n",
              "  </style>\n",
              "\n",
              "      <script>\n",
              "        const buttonEl =\n",
              "          document.querySelector('#df-50aabf2b-2b7f-47db-a21c-cc2b9826cd27 button.colab-df-convert');\n",
              "        buttonEl.style.display =\n",
              "          google.colab.kernel.accessAllowed ? 'block' : 'none';\n",
              "\n",
              "        async function convertToInteractive(key) {\n",
              "          const element = document.querySelector('#df-50aabf2b-2b7f-47db-a21c-cc2b9826cd27');\n",
              "          const dataTable =\n",
              "            await google.colab.kernel.invokeFunction('convertToInteractive',\n",
              "                                                     [key], {});\n",
              "          if (!dataTable) return;\n",
              "\n",
              "          const docLinkHtml = 'Like what you see? Visit the ' +\n",
              "            '<a target=\"_blank\" href=https://colab.research.google.com/notebooks/data_table.ipynb>data table notebook</a>'\n",
              "            + ' to learn more about interactive tables.';\n",
              "          element.innerHTML = '';\n",
              "          dataTable['output_type'] = 'display_data';\n",
              "          await google.colab.output.renderOutput(dataTable, element);\n",
              "          const docLink = document.createElement('div');\n",
              "          docLink.innerHTML = docLinkHtml;\n",
              "          element.appendChild(docLink);\n",
              "        }\n",
              "      </script>\n",
              "    </div>\n",
              "  </div>\n",
              "  "
            ]
          },
          "metadata": {},
          "execution_count": 18
        }
      ]
    },
    {
      "cell_type": "code",
      "source": [
        "X_test = test_last"
      ],
      "metadata": {
        "id": "ar3xxOQvIbHW"
      },
      "execution_count": 19,
      "outputs": []
    },
    {
      "cell_type": "markdown",
      "source": [
        "### Remaining Useful Life (RUL)"
      ],
      "metadata": {
        "id": "boZqFQNlraCh"
      }
    },
    {
      "cell_type": "code",
      "source": [
        "train = proc.add_remaining_useful_life_linear(train)\n",
        "train[index_cols+['RUL']].head()"
      ],
      "metadata": {
        "id": "lmFKjQaeip1b",
        "colab": {
          "base_uri": "https://localhost:8080/",
          "height": 270
        },
        "outputId": "c09afddc-87c5-44f9-c3f0-ddeeba372d17"
      },
      "execution_count": 20,
      "outputs": [
        {
          "output_type": "execute_result",
          "data": {
            "text/plain": [
              "   unit_number  time  RUL\n",
              "0            1     1  258\n",
              "1            1     2  257\n",
              "2            1     3  256\n",
              "3            1     4  255\n",
              "4            1     5  254"
            ],
            "text/html": [
              "\n",
              "  <div id=\"df-e4098019-b8f6-4c5e-aa3f-c365b25639f5\">\n",
              "    <div class=\"colab-df-container\">\n",
              "      <div>\n",
              "<style scoped>\n",
              "    .dataframe tbody tr th:only-of-type {\n",
              "        vertical-align: middle;\n",
              "    }\n",
              "\n",
              "    .dataframe tbody tr th {\n",
              "        vertical-align: top;\n",
              "    }\n",
              "\n",
              "    .dataframe thead th {\n",
              "        text-align: right;\n",
              "    }\n",
              "</style>\n",
              "<table border=\"1\" class=\"dataframe\">\n",
              "  <thead>\n",
              "    <tr style=\"text-align: right;\">\n",
              "      <th></th>\n",
              "      <th>unit_number</th>\n",
              "      <th>time</th>\n",
              "      <th>RUL</th>\n",
              "    </tr>\n",
              "  </thead>\n",
              "  <tbody>\n",
              "    <tr>\n",
              "      <th>0</th>\n",
              "      <td>1</td>\n",
              "      <td>1</td>\n",
              "      <td>258</td>\n",
              "    </tr>\n",
              "    <tr>\n",
              "      <th>1</th>\n",
              "      <td>1</td>\n",
              "      <td>2</td>\n",
              "      <td>257</td>\n",
              "    </tr>\n",
              "    <tr>\n",
              "      <th>2</th>\n",
              "      <td>1</td>\n",
              "      <td>3</td>\n",
              "      <td>256</td>\n",
              "    </tr>\n",
              "    <tr>\n",
              "      <th>3</th>\n",
              "      <td>1</td>\n",
              "      <td>4</td>\n",
              "      <td>255</td>\n",
              "    </tr>\n",
              "    <tr>\n",
              "      <th>4</th>\n",
              "      <td>1</td>\n",
              "      <td>5</td>\n",
              "      <td>254</td>\n",
              "    </tr>\n",
              "  </tbody>\n",
              "</table>\n",
              "</div>\n",
              "      <button class=\"colab-df-convert\" onclick=\"convertToInteractive('df-e4098019-b8f6-4c5e-aa3f-c365b25639f5')\"\n",
              "              title=\"Convert this dataframe to an interactive table.\"\n",
              "              style=\"display:none;\">\n",
              "        \n",
              "  <svg xmlns=\"http://www.w3.org/2000/svg\" height=\"24px\"viewBox=\"0 0 24 24\"\n",
              "       width=\"24px\">\n",
              "    <path d=\"M0 0h24v24H0V0z\" fill=\"none\"/>\n",
              "    <path d=\"M18.56 5.44l.94 2.06.94-2.06 2.06-.94-2.06-.94-.94-2.06-.94 2.06-2.06.94zm-11 1L8.5 8.5l.94-2.06 2.06-.94-2.06-.94L8.5 2.5l-.94 2.06-2.06.94zm10 10l.94 2.06.94-2.06 2.06-.94-2.06-.94-.94-2.06-.94 2.06-2.06.94z\"/><path d=\"M17.41 7.96l-1.37-1.37c-.4-.4-.92-.59-1.43-.59-.52 0-1.04.2-1.43.59L10.3 9.45l-7.72 7.72c-.78.78-.78 2.05 0 2.83L4 21.41c.39.39.9.59 1.41.59.51 0 1.02-.2 1.41-.59l7.78-7.78 2.81-2.81c.8-.78.8-2.07 0-2.86zM5.41 20L4 18.59l7.72-7.72 1.47 1.35L5.41 20z\"/>\n",
              "  </svg>\n",
              "      </button>\n",
              "      \n",
              "  <style>\n",
              "    .colab-df-container {\n",
              "      display:flex;\n",
              "      flex-wrap:wrap;\n",
              "      gap: 12px;\n",
              "    }\n",
              "\n",
              "    .colab-df-convert {\n",
              "      background-color: #E8F0FE;\n",
              "      border: none;\n",
              "      border-radius: 50%;\n",
              "      cursor: pointer;\n",
              "      display: none;\n",
              "      fill: #1967D2;\n",
              "      height: 32px;\n",
              "      padding: 0 0 0 0;\n",
              "      width: 32px;\n",
              "    }\n",
              "\n",
              "    .colab-df-convert:hover {\n",
              "      background-color: #E2EBFA;\n",
              "      box-shadow: 0px 1px 2px rgba(60, 64, 67, 0.3), 0px 1px 3px 1px rgba(60, 64, 67, 0.15);\n",
              "      fill: #174EA6;\n",
              "    }\n",
              "\n",
              "    [theme=dark] .colab-df-convert {\n",
              "      background-color: #3B4455;\n",
              "      fill: #D2E3FC;\n",
              "    }\n",
              "\n",
              "    [theme=dark] .colab-df-convert:hover {\n",
              "      background-color: #434B5C;\n",
              "      box-shadow: 0px 1px 3px 1px rgba(0, 0, 0, 0.15);\n",
              "      filter: drop-shadow(0px 1px 2px rgba(0, 0, 0, 0.3));\n",
              "      fill: #FFFFFF;\n",
              "    }\n",
              "  </style>\n",
              "\n",
              "      <script>\n",
              "        const buttonEl =\n",
              "          document.querySelector('#df-e4098019-b8f6-4c5e-aa3f-c365b25639f5 button.colab-df-convert');\n",
              "        buttonEl.style.display =\n",
              "          google.colab.kernel.accessAllowed ? 'block' : 'none';\n",
              "\n",
              "        async function convertToInteractive(key) {\n",
              "          const element = document.querySelector('#df-e4098019-b8f6-4c5e-aa3f-c365b25639f5');\n",
              "          const dataTable =\n",
              "            await google.colab.kernel.invokeFunction('convertToInteractive',\n",
              "                                                     [key], {});\n",
              "          if (!dataTable) return;\n",
              "\n",
              "          const docLinkHtml = 'Like what you see? Visit the ' +\n",
              "            '<a target=\"_blank\" href=https://colab.research.google.com/notebooks/data_table.ipynb>data table notebook</a>'\n",
              "            + ' to learn more about interactive tables.';\n",
              "          element.innerHTML = '';\n",
              "          dataTable['output_type'] = 'display_data';\n",
              "          await google.colab.output.renderOutput(dataTable, element);\n",
              "          const docLink = document.createElement('div');\n",
              "          docLink.innerHTML = docLinkHtml;\n",
              "          element.appendChild(docLink);\n",
              "        }\n",
              "      </script>\n",
              "    </div>\n",
              "  </div>\n",
              "  "
            ]
          },
          "metadata": {},
          "execution_count": 20
        }
      ]
    },
    {
      "cell_type": "markdown",
      "source": [
        "## Attributes and target separation"
      ],
      "metadata": {
        "id": "IIXnBTkfxpCf"
      }
    },
    {
      "cell_type": "code",
      "source": [
        "X_train, y_train = proc.X_y_train_divide(train)"
      ],
      "metadata": {
        "id": "4SzUk6ZLxv6H"
      },
      "execution_count": 21,
      "outputs": []
    },
    {
      "cell_type": "code",
      "source": [
        "y_train.head()"
      ],
      "metadata": {
        "id": "fuAnHn4GxzwM",
        "colab": {
          "base_uri": "https://localhost:8080/",
          "height": 270
        },
        "outputId": "3baf4917-244f-4429-9f48-27e85569a0a0"
      },
      "execution_count": 22,
      "outputs": [
        {
          "output_type": "execute_result",
          "data": {
            "text/plain": [
              "   RUL\n",
              "0  258\n",
              "1  257\n",
              "2  256\n",
              "3  255\n",
              "4  254"
            ],
            "text/html": [
              "\n",
              "  <div id=\"df-4068db29-5a74-4033-9099-e97b4b2cfdc0\">\n",
              "    <div class=\"colab-df-container\">\n",
              "      <div>\n",
              "<style scoped>\n",
              "    .dataframe tbody tr th:only-of-type {\n",
              "        vertical-align: middle;\n",
              "    }\n",
              "\n",
              "    .dataframe tbody tr th {\n",
              "        vertical-align: top;\n",
              "    }\n",
              "\n",
              "    .dataframe thead th {\n",
              "        text-align: right;\n",
              "    }\n",
              "</style>\n",
              "<table border=\"1\" class=\"dataframe\">\n",
              "  <thead>\n",
              "    <tr style=\"text-align: right;\">\n",
              "      <th></th>\n",
              "      <th>RUL</th>\n",
              "    </tr>\n",
              "  </thead>\n",
              "  <tbody>\n",
              "    <tr>\n",
              "      <th>0</th>\n",
              "      <td>258</td>\n",
              "    </tr>\n",
              "    <tr>\n",
              "      <th>1</th>\n",
              "      <td>257</td>\n",
              "    </tr>\n",
              "    <tr>\n",
              "      <th>2</th>\n",
              "      <td>256</td>\n",
              "    </tr>\n",
              "    <tr>\n",
              "      <th>3</th>\n",
              "      <td>255</td>\n",
              "    </tr>\n",
              "    <tr>\n",
              "      <th>4</th>\n",
              "      <td>254</td>\n",
              "    </tr>\n",
              "  </tbody>\n",
              "</table>\n",
              "</div>\n",
              "      <button class=\"colab-df-convert\" onclick=\"convertToInteractive('df-4068db29-5a74-4033-9099-e97b4b2cfdc0')\"\n",
              "              title=\"Convert this dataframe to an interactive table.\"\n",
              "              style=\"display:none;\">\n",
              "        \n",
              "  <svg xmlns=\"http://www.w3.org/2000/svg\" height=\"24px\"viewBox=\"0 0 24 24\"\n",
              "       width=\"24px\">\n",
              "    <path d=\"M0 0h24v24H0V0z\" fill=\"none\"/>\n",
              "    <path d=\"M18.56 5.44l.94 2.06.94-2.06 2.06-.94-2.06-.94-.94-2.06-.94 2.06-2.06.94zm-11 1L8.5 8.5l.94-2.06 2.06-.94-2.06-.94L8.5 2.5l-.94 2.06-2.06.94zm10 10l.94 2.06.94-2.06 2.06-.94-2.06-.94-.94-2.06-.94 2.06-2.06.94z\"/><path d=\"M17.41 7.96l-1.37-1.37c-.4-.4-.92-.59-1.43-.59-.52 0-1.04.2-1.43.59L10.3 9.45l-7.72 7.72c-.78.78-.78 2.05 0 2.83L4 21.41c.39.39.9.59 1.41.59.51 0 1.02-.2 1.41-.59l7.78-7.78 2.81-2.81c.8-.78.8-2.07 0-2.86zM5.41 20L4 18.59l7.72-7.72 1.47 1.35L5.41 20z\"/>\n",
              "  </svg>\n",
              "      </button>\n",
              "      \n",
              "  <style>\n",
              "    .colab-df-container {\n",
              "      display:flex;\n",
              "      flex-wrap:wrap;\n",
              "      gap: 12px;\n",
              "    }\n",
              "\n",
              "    .colab-df-convert {\n",
              "      background-color: #E8F0FE;\n",
              "      border: none;\n",
              "      border-radius: 50%;\n",
              "      cursor: pointer;\n",
              "      display: none;\n",
              "      fill: #1967D2;\n",
              "      height: 32px;\n",
              "      padding: 0 0 0 0;\n",
              "      width: 32px;\n",
              "    }\n",
              "\n",
              "    .colab-df-convert:hover {\n",
              "      background-color: #E2EBFA;\n",
              "      box-shadow: 0px 1px 2px rgba(60, 64, 67, 0.3), 0px 1px 3px 1px rgba(60, 64, 67, 0.15);\n",
              "      fill: #174EA6;\n",
              "    }\n",
              "\n",
              "    [theme=dark] .colab-df-convert {\n",
              "      background-color: #3B4455;\n",
              "      fill: #D2E3FC;\n",
              "    }\n",
              "\n",
              "    [theme=dark] .colab-df-convert:hover {\n",
              "      background-color: #434B5C;\n",
              "      box-shadow: 0px 1px 3px 1px rgba(0, 0, 0, 0.15);\n",
              "      filter: drop-shadow(0px 1px 2px rgba(0, 0, 0, 0.3));\n",
              "      fill: #FFFFFF;\n",
              "    }\n",
              "  </style>\n",
              "\n",
              "      <script>\n",
              "        const buttonEl =\n",
              "          document.querySelector('#df-4068db29-5a74-4033-9099-e97b4b2cfdc0 button.colab-df-convert');\n",
              "        buttonEl.style.display =\n",
              "          google.colab.kernel.accessAllowed ? 'block' : 'none';\n",
              "\n",
              "        async function convertToInteractive(key) {\n",
              "          const element = document.querySelector('#df-4068db29-5a74-4033-9099-e97b4b2cfdc0');\n",
              "          const dataTable =\n",
              "            await google.colab.kernel.invokeFunction('convertToInteractive',\n",
              "                                                     [key], {});\n",
              "          if (!dataTable) return;\n",
              "\n",
              "          const docLinkHtml = 'Like what you see? Visit the ' +\n",
              "            '<a target=\"_blank\" href=https://colab.research.google.com/notebooks/data_table.ipynb>data table notebook</a>'\n",
              "            + ' to learn more about interactive tables.';\n",
              "          element.innerHTML = '';\n",
              "          dataTable['output_type'] = 'display_data';\n",
              "          await google.colab.output.renderOutput(dataTable, element);\n",
              "          const docLink = document.createElement('div');\n",
              "          docLink.innerHTML = docLinkHtml;\n",
              "          element.appendChild(docLink);\n",
              "        }\n",
              "      </script>\n",
              "    </div>\n",
              "  </div>\n",
              "  "
            ]
          },
          "metadata": {},
          "execution_count": 22
        }
      ]
    },
    {
      "cell_type": "code",
      "source": [
        "X_train.head()"
      ],
      "metadata": {
        "id": "26hK4VWkx1R7",
        "colab": {
          "base_uri": "https://localhost:8080/",
          "height": 300
        },
        "outputId": "7b5779ce-0e4e-48d2-ffff-caffc5d1a29e"
      },
      "execution_count": 23,
      "outputs": [
        {
          "output_type": "execute_result",
          "data": {
            "text/plain": [
              "      s_0     s_1      s_2      s_3    s_4    s_5     s_6      s_7      s_8  \\\n",
              "0  518.67  642.36  1583.23  1396.84  14.62  21.61  553.97  2387.96  9062.17   \n",
              "1  518.67  642.50  1584.69  1396.89  14.62  21.61  554.55  2388.00  9061.78   \n",
              "2  518.67  642.18  1582.35  1405.61  14.62  21.61  554.43  2388.03  9070.23   \n",
              "3  518.67  642.92  1585.61  1392.27  14.62  21.61  555.21  2388.00  9064.57   \n",
              "4  518.67  641.68  1588.63  1397.65  14.62  21.61  554.74  2388.04  9076.14   \n",
              "\n",
              "   s_9  ...    s_11     s_12     s_13    s_14  s_15  s_16  s_17   s_18   s_19  \\\n",
              "0  1.3  ...  522.31  2388.01  8145.32  8.4246  0.03   391  2388  100.0  39.11   \n",
              "1  1.3  ...  522.42  2388.03  8152.85  8.4403  0.03   392  2388  100.0  38.99   \n",
              "2  1.3  ...  522.03  2388.00  8150.17  8.3901  0.03   391  2388  100.0  38.85   \n",
              "3  1.3  ...  522.49  2388.08  8146.56  8.3878  0.03   392  2388  100.0  38.96   \n",
              "4  1.3  ...  522.58  2388.03  8147.80  8.3869  0.03   392  2388  100.0  39.14   \n",
              "\n",
              "      s_20  \n",
              "0  23.3537  \n",
              "1  23.4491  \n",
              "2  23.3669  \n",
              "3  23.2951  \n",
              "4  23.4583  \n",
              "\n",
              "[5 rows x 21 columns]"
            ],
            "text/html": [
              "\n",
              "  <div id=\"df-bd29bc1b-6455-4d60-b3f2-ac18f947b629\">\n",
              "    <div class=\"colab-df-container\">\n",
              "      <div>\n",
              "<style scoped>\n",
              "    .dataframe tbody tr th:only-of-type {\n",
              "        vertical-align: middle;\n",
              "    }\n",
              "\n",
              "    .dataframe tbody tr th {\n",
              "        vertical-align: top;\n",
              "    }\n",
              "\n",
              "    .dataframe thead th {\n",
              "        text-align: right;\n",
              "    }\n",
              "</style>\n",
              "<table border=\"1\" class=\"dataframe\">\n",
              "  <thead>\n",
              "    <tr style=\"text-align: right;\">\n",
              "      <th></th>\n",
              "      <th>s_0</th>\n",
              "      <th>s_1</th>\n",
              "      <th>s_2</th>\n",
              "      <th>s_3</th>\n",
              "      <th>s_4</th>\n",
              "      <th>s_5</th>\n",
              "      <th>s_6</th>\n",
              "      <th>s_7</th>\n",
              "      <th>s_8</th>\n",
              "      <th>s_9</th>\n",
              "      <th>...</th>\n",
              "      <th>s_11</th>\n",
              "      <th>s_12</th>\n",
              "      <th>s_13</th>\n",
              "      <th>s_14</th>\n",
              "      <th>s_15</th>\n",
              "      <th>s_16</th>\n",
              "      <th>s_17</th>\n",
              "      <th>s_18</th>\n",
              "      <th>s_19</th>\n",
              "      <th>s_20</th>\n",
              "    </tr>\n",
              "  </thead>\n",
              "  <tbody>\n",
              "    <tr>\n",
              "      <th>0</th>\n",
              "      <td>518.67</td>\n",
              "      <td>642.36</td>\n",
              "      <td>1583.23</td>\n",
              "      <td>1396.84</td>\n",
              "      <td>14.62</td>\n",
              "      <td>21.61</td>\n",
              "      <td>553.97</td>\n",
              "      <td>2387.96</td>\n",
              "      <td>9062.17</td>\n",
              "      <td>1.3</td>\n",
              "      <td>...</td>\n",
              "      <td>522.31</td>\n",
              "      <td>2388.01</td>\n",
              "      <td>8145.32</td>\n",
              "      <td>8.4246</td>\n",
              "      <td>0.03</td>\n",
              "      <td>391</td>\n",
              "      <td>2388</td>\n",
              "      <td>100.0</td>\n",
              "      <td>39.11</td>\n",
              "      <td>23.3537</td>\n",
              "    </tr>\n",
              "    <tr>\n",
              "      <th>1</th>\n",
              "      <td>518.67</td>\n",
              "      <td>642.50</td>\n",
              "      <td>1584.69</td>\n",
              "      <td>1396.89</td>\n",
              "      <td>14.62</td>\n",
              "      <td>21.61</td>\n",
              "      <td>554.55</td>\n",
              "      <td>2388.00</td>\n",
              "      <td>9061.78</td>\n",
              "      <td>1.3</td>\n",
              "      <td>...</td>\n",
              "      <td>522.42</td>\n",
              "      <td>2388.03</td>\n",
              "      <td>8152.85</td>\n",
              "      <td>8.4403</td>\n",
              "      <td>0.03</td>\n",
              "      <td>392</td>\n",
              "      <td>2388</td>\n",
              "      <td>100.0</td>\n",
              "      <td>38.99</td>\n",
              "      <td>23.4491</td>\n",
              "    </tr>\n",
              "    <tr>\n",
              "      <th>2</th>\n",
              "      <td>518.67</td>\n",
              "      <td>642.18</td>\n",
              "      <td>1582.35</td>\n",
              "      <td>1405.61</td>\n",
              "      <td>14.62</td>\n",
              "      <td>21.61</td>\n",
              "      <td>554.43</td>\n",
              "      <td>2388.03</td>\n",
              "      <td>9070.23</td>\n",
              "      <td>1.3</td>\n",
              "      <td>...</td>\n",
              "      <td>522.03</td>\n",
              "      <td>2388.00</td>\n",
              "      <td>8150.17</td>\n",
              "      <td>8.3901</td>\n",
              "      <td>0.03</td>\n",
              "      <td>391</td>\n",
              "      <td>2388</td>\n",
              "      <td>100.0</td>\n",
              "      <td>38.85</td>\n",
              "      <td>23.3669</td>\n",
              "    </tr>\n",
              "    <tr>\n",
              "      <th>3</th>\n",
              "      <td>518.67</td>\n",
              "      <td>642.92</td>\n",
              "      <td>1585.61</td>\n",
              "      <td>1392.27</td>\n",
              "      <td>14.62</td>\n",
              "      <td>21.61</td>\n",
              "      <td>555.21</td>\n",
              "      <td>2388.00</td>\n",
              "      <td>9064.57</td>\n",
              "      <td>1.3</td>\n",
              "      <td>...</td>\n",
              "      <td>522.49</td>\n",
              "      <td>2388.08</td>\n",
              "      <td>8146.56</td>\n",
              "      <td>8.3878</td>\n",
              "      <td>0.03</td>\n",
              "      <td>392</td>\n",
              "      <td>2388</td>\n",
              "      <td>100.0</td>\n",
              "      <td>38.96</td>\n",
              "      <td>23.2951</td>\n",
              "    </tr>\n",
              "    <tr>\n",
              "      <th>4</th>\n",
              "      <td>518.67</td>\n",
              "      <td>641.68</td>\n",
              "      <td>1588.63</td>\n",
              "      <td>1397.65</td>\n",
              "      <td>14.62</td>\n",
              "      <td>21.61</td>\n",
              "      <td>554.74</td>\n",
              "      <td>2388.04</td>\n",
              "      <td>9076.14</td>\n",
              "      <td>1.3</td>\n",
              "      <td>...</td>\n",
              "      <td>522.58</td>\n",
              "      <td>2388.03</td>\n",
              "      <td>8147.80</td>\n",
              "      <td>8.3869</td>\n",
              "      <td>0.03</td>\n",
              "      <td>392</td>\n",
              "      <td>2388</td>\n",
              "      <td>100.0</td>\n",
              "      <td>39.14</td>\n",
              "      <td>23.4583</td>\n",
              "    </tr>\n",
              "  </tbody>\n",
              "</table>\n",
              "<p>5 rows × 21 columns</p>\n",
              "</div>\n",
              "      <button class=\"colab-df-convert\" onclick=\"convertToInteractive('df-bd29bc1b-6455-4d60-b3f2-ac18f947b629')\"\n",
              "              title=\"Convert this dataframe to an interactive table.\"\n",
              "              style=\"display:none;\">\n",
              "        \n",
              "  <svg xmlns=\"http://www.w3.org/2000/svg\" height=\"24px\"viewBox=\"0 0 24 24\"\n",
              "       width=\"24px\">\n",
              "    <path d=\"M0 0h24v24H0V0z\" fill=\"none\"/>\n",
              "    <path d=\"M18.56 5.44l.94 2.06.94-2.06 2.06-.94-2.06-.94-.94-2.06-.94 2.06-2.06.94zm-11 1L8.5 8.5l.94-2.06 2.06-.94-2.06-.94L8.5 2.5l-.94 2.06-2.06.94zm10 10l.94 2.06.94-2.06 2.06-.94-2.06-.94-.94-2.06-.94 2.06-2.06.94z\"/><path d=\"M17.41 7.96l-1.37-1.37c-.4-.4-.92-.59-1.43-.59-.52 0-1.04.2-1.43.59L10.3 9.45l-7.72 7.72c-.78.78-.78 2.05 0 2.83L4 21.41c.39.39.9.59 1.41.59.51 0 1.02-.2 1.41-.59l7.78-7.78 2.81-2.81c.8-.78.8-2.07 0-2.86zM5.41 20L4 18.59l7.72-7.72 1.47 1.35L5.41 20z\"/>\n",
              "  </svg>\n",
              "      </button>\n",
              "      \n",
              "  <style>\n",
              "    .colab-df-container {\n",
              "      display:flex;\n",
              "      flex-wrap:wrap;\n",
              "      gap: 12px;\n",
              "    }\n",
              "\n",
              "    .colab-df-convert {\n",
              "      background-color: #E8F0FE;\n",
              "      border: none;\n",
              "      border-radius: 50%;\n",
              "      cursor: pointer;\n",
              "      display: none;\n",
              "      fill: #1967D2;\n",
              "      height: 32px;\n",
              "      padding: 0 0 0 0;\n",
              "      width: 32px;\n",
              "    }\n",
              "\n",
              "    .colab-df-convert:hover {\n",
              "      background-color: #E2EBFA;\n",
              "      box-shadow: 0px 1px 2px rgba(60, 64, 67, 0.3), 0px 1px 3px 1px rgba(60, 64, 67, 0.15);\n",
              "      fill: #174EA6;\n",
              "    }\n",
              "\n",
              "    [theme=dark] .colab-df-convert {\n",
              "      background-color: #3B4455;\n",
              "      fill: #D2E3FC;\n",
              "    }\n",
              "\n",
              "    [theme=dark] .colab-df-convert:hover {\n",
              "      background-color: #434B5C;\n",
              "      box-shadow: 0px 1px 3px 1px rgba(0, 0, 0, 0.15);\n",
              "      filter: drop-shadow(0px 1px 2px rgba(0, 0, 0, 0.3));\n",
              "      fill: #FFFFFF;\n",
              "    }\n",
              "  </style>\n",
              "\n",
              "      <script>\n",
              "        const buttonEl =\n",
              "          document.querySelector('#df-bd29bc1b-6455-4d60-b3f2-ac18f947b629 button.colab-df-convert');\n",
              "        buttonEl.style.display =\n",
              "          google.colab.kernel.accessAllowed ? 'block' : 'none';\n",
              "\n",
              "        async function convertToInteractive(key) {\n",
              "          const element = document.querySelector('#df-bd29bc1b-6455-4d60-b3f2-ac18f947b629');\n",
              "          const dataTable =\n",
              "            await google.colab.kernel.invokeFunction('convertToInteractive',\n",
              "                                                     [key], {});\n",
              "          if (!dataTable) return;\n",
              "\n",
              "          const docLinkHtml = 'Like what you see? Visit the ' +\n",
              "            '<a target=\"_blank\" href=https://colab.research.google.com/notebooks/data_table.ipynb>data table notebook</a>'\n",
              "            + ' to learn more about interactive tables.';\n",
              "          element.innerHTML = '';\n",
              "          dataTable['output_type'] = 'display_data';\n",
              "          await google.colab.output.renderOutput(dataTable, element);\n",
              "          const docLink = document.createElement('div');\n",
              "          docLink.innerHTML = docLinkHtml;\n",
              "          element.appendChild(docLink);\n",
              "        }\n",
              "      </script>\n",
              "    </div>\n",
              "  </div>\n",
              "  "
            ]
          },
          "metadata": {},
          "execution_count": 23
        }
      ]
    },
    {
      "cell_type": "markdown",
      "source": [
        "## Training and Evaluation functions"
      ],
      "metadata": {
        "id": "fQA-YtFMM81M"
      }
    },
    {
      "cell_type": "code",
      "source": [
        "eval = Evaluation()"
      ],
      "metadata": {
        "id": "u88P6scrNTRu"
      },
      "execution_count": 24,
      "outputs": []
    },
    {
      "cell_type": "code",
      "source": [
        "search = HyperparameterSearch()"
      ],
      "metadata": {
        "id": "OUcS61OqPFhp"
      },
      "execution_count": 25,
      "outputs": []
    },
    {
      "cell_type": "markdown",
      "source": [
        "# MLP Construction"
      ],
      "metadata": {
        "id": "nTPBH5fg_sFd"
      }
    },
    {
      "cell_type": "markdown",
      "source": [
        "## Callbacks"
      ],
      "metadata": {
        "id": "f3Or3dZbB5Pr"
      }
    },
    {
      "cell_type": "code",
      "source": [
        "# Early Stopping Callback\n",
        "es = tf.keras.callbacks.EarlyStopping(monitor='loss', \n",
        "                                      patience=5, restore_best_weights=True)"
      ],
      "metadata": {
        "id": "E_f33CIB-13t"
      },
      "execution_count": 26,
      "outputs": []
    },
    {
      "cell_type": "code",
      "source": [
        "# Printing Callback\n",
        "def printLog(epoch, logs):\n",
        "    print(\n",
        "        f\"E {epoch+1}\\t: loss={logs['loss']:.3f}, \"+\n",
        "        f\"rmse={logs['root_mean_squared_error']:.3f}, \"+\n",
        "        f\"r2={logs['r_square']:.3f}; \"+\n",
        "        f\"v_loss={logs['val_loss']:.3f}, \"+\n",
        "        f\"v_rmse={logs['val_root_mean_squared_error']:.3f}, \"+\n",
        "        f\"v_r2={logs['val_r_square']:.3f}; \"\n",
        "    )\n",
        "\n",
        "printerCallback = LambdaCallback(on_epoch_end=printLog)"
      ],
      "metadata": {
        "id": "07NuyHHfWLZ0"
      },
      "execution_count": 27,
      "outputs": []
    },
    {
      "cell_type": "markdown",
      "source": [
        "## Auxiliary HyperParameters"
      ],
      "metadata": {
        "id": "t18eQ8H3EfGV"
      }
    },
    {
      "cell_type": "code",
      "source": [
        "layer_sizes=[16,32,64,128,256,512]"
      ],
      "metadata": {
        "id": "Ex7mZbQNEfGW"
      },
      "execution_count": 28,
      "outputs": []
    },
    {
      "cell_type": "code",
      "source": [
        "# Exponential Decay Schedules\n",
        "ED1 = ExponentialDecay(initial_learning_rate=1e-2, name=\"ED1\",\n",
        "                       decay_steps=100000, decay_rate=0.96)\n",
        "ED2 = ExponentialDecay(initial_learning_rate=1e-2, name=\"ED2\",\n",
        "                       decay_steps=100000, decay_rate=0.8)\n",
        "ED3 = ExponentialDecay(initial_learning_rate=1e-1, name=\"ED3\",\n",
        "                       decay_steps=100000, decay_rate=0.96)"
      ],
      "metadata": {
        "id": "SPE41-R2EfGX"
      },
      "execution_count": 29,
      "outputs": []
    },
    {
      "cell_type": "code",
      "source": [
        "# Generation of list combinations\n",
        "from itertools import chain, permutations\n",
        "\n",
        "def all_permutations(lst, size):\n",
        "    result = list(chain.from_iterable([permutations(lst, x) for x in range(len(lst)+1)]))\n",
        "    out = []\n",
        "    for r in result:\n",
        "        if (len(r) == size):\n",
        "            out.append(list(r))\n",
        "    return out"
      ],
      "metadata": {
        "id": "a2kynIDbEfGZ"
      },
      "execution_count": 30,
      "outputs": []
    },
    {
      "cell_type": "markdown",
      "source": [
        "## Constants"
      ],
      "metadata": {
        "id": "DvHTMj_9_xss"
      }
    },
    {
      "cell_type": "code",
      "source": [
        "# X_train must include indices\n",
        "train3 = train.copy()\n",
        "X_train_ = train3.drop(columns=[index_cols[1]]+[\"RUL\"])"
      ],
      "metadata": {
        "id": "MmsURACM-Wkq"
      },
      "execution_count": 31,
      "outputs": []
    },
    {
      "cell_type": "code",
      "source": [
        "INPUT_SHAPE = 0"
      ],
      "metadata": {
        "id": "xKy2t3QS8gss"
      },
      "execution_count": 32,
      "outputs": []
    },
    {
      "cell_type": "markdown",
      "source": [
        "## Wrapper"
      ],
      "metadata": {
        "id": "9mjReYMmM08s"
      }
    },
    {
      "cell_type": "code",
      "source": [
        "from sys import is_finalizing\n",
        "from sklearn.metrics import r2_score\n",
        "\n",
        "class MLPWrapperRegressor(BaseEstimator,RegressorMixin):\n",
        "    def __init__(self, basemodel=None, clip_y=-1,\n",
        "                 include_settings=False, poly_degree=1,\n",
        "                 scaler=StandardScaler()):\n",
        "        # Base parameters\n",
        "        self.basemodel = basemodel\n",
        "        self.clip_y = clip_y\n",
        "        self.poly_degree = poly_degree\n",
        "        self.include_settings = include_settings\n",
        "\n",
        "        # Column indexers\n",
        "        self.feature_cols = sensors_cols\n",
        "        if(include_settings):\n",
        "            self.feature_cols = settings_cols + self.feature_cols\n",
        "        self.base_feature_cols = self.feature_cols\n",
        "\n",
        "        # Scaler and PolyFeatures transformers\n",
        "        self.scaler = scaler\n",
        "        self.polyft = PolynomialFeatures(degree=self.poly_degree, \n",
        "                                         include_bias=False)\n",
        "\n",
        "    def clean_cols(self,df):\n",
        "        if(\"unit_number\" in df.columns): del df[\"unit_number\"]\n",
        "        if(\"unit_number\" in df.columns): del df[\"unit_number\"]\n",
        "        if(\"time\" in df.columns): del df[\"time\"]\n",
        "        if((not self.include_settings)): \n",
        "            for col in settings_cols:\n",
        "                if(col in df.columns): del df[col]\n",
        "        return df\n",
        "\n",
        "    def fit(self, X=None, y=None):\n",
        "        # Drop irrelevant column\n",
        "        data = pd.DataFrame(X).copy()\n",
        "        data = self.clean_cols(data)\n",
        "        \n",
        "        # Apply polynomial features and add them to the dataframe\n",
        "        transf = self.polyft.fit_transform(data)\n",
        "        data = pd.DataFrame(transf, columns=\n",
        "                              self.polyft.get_feature_names_out())\n",
        "        self.feature_cols = list(self.polyft.get_feature_names_out())\n",
        "\n",
        "        # Scale the data\n",
        "        data = self.scaler.fit_transform(data)\n",
        "        data = pd.DataFrame(data, \n",
        "                            columns=self.scaler.get_feature_names_out())\n",
        "        X_train = data.copy()\n",
        "        \n",
        "        # Clip and transform labels\n",
        "        data2 = pd.DataFrame(y, columns=[\"RUL\"]).copy()\n",
        "        if (self.clip_y > 0):\n",
        "            data2[\"RUL\"].clip(upper=self.clip_y, inplace=True)\n",
        "        y_train = data2\n",
        "\n",
        "        # Update input shape for future use\n",
        "        global INPUT_SHAPE\n",
        "        INPUT_SHAPE = X_train.shape[1]\n",
        "\n",
        "        # Fit model\n",
        "        self.basemodel.fit(X_train,y_train)\n",
        "        return self\n",
        "        \n",
        "    def predict(self, X=None):\n",
        "        # Perform transformation, if not done\n",
        "        if (len(X.columns) != len(self.feature_cols)):\n",
        "            X_train = self.transform_features(X)\n",
        "        else:\n",
        "            X_train = X\n",
        "        return self.basemodel.predict(X_train)\n",
        "\n",
        "    def transform_features(self, df):\n",
        "        # Drop irrelevant column\n",
        "        data = pd.DataFrame(df).copy()\n",
        "        data = self.clean_cols(data)\n",
        "        \n",
        "        # Apply polynomial features and add them to the dataframe\n",
        "        transf = self.polyft.transform(data)\n",
        "        data = pd.DataFrame(transf, columns=\n",
        "                              self.polyft.get_feature_names_out())\n",
        "        # self.feature_cols = list(self.polyft.get_feature_names_out())\n",
        "\n",
        "        # Scale the data\n",
        "        data = self.scaler.transform(data)\n",
        "        data = pd.DataFrame(data, \n",
        "                            columns=self.scaler.get_feature_names_out())\n",
        "        return data\n",
        "\n",
        "    def score(self, X, y, sample_weight=None):\n",
        "        X_test = self.transform_features(X)\n",
        "\n",
        "        # Clip and transform labels\n",
        "        data2 = pd.DataFrame(y, columns=[\"RUL\"]).copy()\n",
        "        if (self.clip_y > 0):\n",
        "            data2[\"RUL\"].clip(upper=self.clip_y, inplace=True)\n",
        "        y_test = data2\n",
        "\n",
        "        # Predict on test data\n",
        "        y_pred = self.predict(X_test)\n",
        "        return r2_score(y_test, y_pred, sample_weight=sample_weight)"
      ],
      "metadata": {
        "id": "VhrwfNvEM0eL"
      },
      "execution_count": 33,
      "outputs": []
    },
    {
      "cell_type": "markdown",
      "source": [
        "## Test Data"
      ],
      "metadata": {
        "id": "Z7Z5u9Bu_Q4x"
      }
    },
    {
      "cell_type": "code",
      "source": [
        "def scale_test(test,model):\n",
        "    test2 = pd.DataFrame(test)\n",
        "    test2 = model.clean_cols(test2)\n",
        "\n",
        "    # Apply polynomial features\n",
        "    transf = model.polyft.transform(test2)\n",
        "    test2 = pd.DataFrame(transf, \n",
        "                         columns=model.polyft.get_feature_names_out())\n",
        "\n",
        "    # Scale the data (with train data parameters)\n",
        "    test2 = model.scaler.transform(test2)\n",
        "    test2 = pd.DataFrame(test2, \n",
        "                         columns=model.polyft.get_feature_names_out())\n",
        "    return test2"
      ],
      "metadata": {
        "id": "OFW6XKjG5kCB"
      },
      "execution_count": 34,
      "outputs": []
    },
    {
      "cell_type": "markdown",
      "source": [
        "## Constructor"
      ],
      "metadata": {
        "id": "Ha2fY8VlWD7p"
      }
    },
    {
      "cell_type": "code",
      "source": [
        "def create_model(optim=Adam, learning_rate=1e-3, \n",
        "                 layer1=32  , activation1=\"tanh\"    , dropout1=0.1,\n",
        "                 layer2=None, activation2=\"tanh\"    , dropout2=0.1,\n",
        "                 layer3=None, activation3=\"tanh\"    , dropout3=0.1,\n",
        "                 layer4=None, activation4=\"tanh\"    , dropout4=0.1,\n",
        "                 print_summary=False, loss='mean_squared_error',\n",
        "                 metrics=[tf.keras.metrics.MeanSquaredError()]):\n",
        "    model = Sequential()\n",
        "\n",
        "    # Fully Connected Layer\n",
        "    model.add(Dense(layer1, input_dim=INPUT_SHAPE, activation=activation1))\n",
        "    model.add(Dropout(dropout1))\n",
        "\n",
        "    # Additional hidden layers\n",
        "    if(layer2 is not None):\n",
        "        model.add(Dense(layer2, activation=activation2))\n",
        "        model.add(Dropout(dropout2))\n",
        "        if (layer3 is not None):\n",
        "            model.add(Dense(layer3, activation=activation3))\n",
        "            model.add(Dropout(dropout3))\n",
        "            if (layer4 is not None):\n",
        "                model.add(Dense(layer4, activation=activation4))\n",
        "                model.add(Dropout(dropout4))\n",
        "\n",
        "    # Output Layer\n",
        "    model.add(Dense(1))\n",
        "\n",
        "    model.compile(loss=loss, optimizer=optim(learning_rate=learning_rate), \n",
        "                  metrics=metrics)\n",
        "    \n",
        "    if(print_summary): model.summary()\n",
        "    return model"
      ],
      "metadata": {
        "id": "YR28IpUT5cm5"
      },
      "execution_count": 35,
      "outputs": []
    },
    {
      "cell_type": "markdown",
      "source": [
        "# HyperParameter Tuning"
      ],
      "metadata": {
        "id": "03Wy9J4rFPMY"
      }
    },
    {
      "cell_type": "code",
      "source": [
        "CLIP=126\n",
        "\n",
        "model = MLPWrapperRegressor(\n",
        "        clip_y=CLIP,scaler=MinMaxScaler(),\n",
        "        basemodel=\n",
        "            KerasRegressor(model=create_model,\n",
        "                           batch_size=64,\n",
        "                           epochs=1,\n",
        "                           validation_split=0.2, \n",
        "                           model__layer1=512, \n",
        "                           model__activation1='relu',\n",
        "                           model__dropout1=0.5, \n",
        "                           model__layer2=64,\n",
        "                           model__layer3=64,\n",
        "                           model__layer4=64,\n",
        "                           model__learning_rate=0.01,\n",
        "                           model__optim=Adam,\n",
        "                        #    verbose=0, callbacks=[es,printerCallback],\n",
        "                           verbose=0, callbacks=[es],\n",
        "                           model__metrics=[RMSE(), R2()],\n",
        "                           model__loss='mse',\n",
        "                           print_summary=False\n",
        "                           )\n",
        "    )"
      ],
      "metadata": {
        "id": "uCm8gKBOFPMY"
      },
      "execution_count": 61,
      "outputs": []
    },
    {
      "cell_type": "code",
      "source": [
        "# ~3h (LSTM)\n",
        "# ~45min (MLP)\n",
        "GRID_SEARCH = True\n",
        "if (GRID_SEARCH):\n",
        "    param_distributions = {\n",
        "        \"clip_y\": Integer(80,140),\n",
        "        \"poly_degree\": Categorical([2,3]),\n",
        "        \"scaler\": Categorical([MinMaxScaler(),StandardScaler()]),\n",
        "        \"basemodel__epochs\": Integer(1,50),\n",
        "        \"basemodel__validation_split\":Real(0.1,0.9),\n",
        "        \"basemodel__batch_size\": Integer(32,512),\n",
        "        \"basemodel__model__optim\":Categorical([Adam,RMSprop]),\n",
        "        \"basemodel__model__learning_rate\": Real(1e-4, 1e-2),\n",
        "        \n",
        "        \"basemodel__model__layer1\": Integer(16,512),\n",
        "        \"basemodel__model__activation1\": Categorical([\"relu\",\"elu\",\"selu\",\"tanh\", \"sigmoid\"]),\n",
        "        \"basemodel__model__dropout1\": Real(0.1,0.9),\n",
        "\n",
        "        \"basemodel__model__layer2\": Integer(16,512),\n",
        "        \"basemodel__model__activation2\": Categorical([\"relu\",\"elu\",\"selu\",\"tanh\", \"sigmoid\"]),\n",
        "        \"basemodel__model__dropout2\": Real(0.1,0.9),\n",
        "\n",
        "        \"basemodel__model__layer3\": Integer(16,512),\n",
        "        \"basemodel__model__activation3\": Categorical([\"relu\",\"elu\",\"selu\",\"tanh\", \"sigmoid\"]),\n",
        "        \"basemodel__model__dropout3\": Real(0.1,0.9),\n",
        "\n",
        "        \"basemodel__model__layer4\": Integer(16,512),\n",
        "        \"basemodel__model__activation4\": Categorical([\"relu\",\"elu\",\"selu\",\"tanh\", \"sigmoid\"]),\n",
        "        \"basemodel__model__dropout4\": Real(0.1,0.9),\n",
        "    }\n",
        "    gcv = GroupKFold(n_splits=3)\n",
        "    groups=X_train_['unit_number']\n",
        "    bss = BayesSearchCV(model, param_distributions, \n",
        "                        verbose=3, n_jobs=1, refit=False,\n",
        "                        cv=gcv.split(X_train_, groups=groups), n_iter=45)\n",
        "    model = bss.fit(X_train_, y_train)\n",
        "    \n",
        "    # print(bss.best_estimator_)\n",
        "    print(\"Finished:\", datetime.datetime.now())"
      ],
      "metadata": {
        "colab": {
          "base_uri": "https://localhost:8080/"
        },
        "outputId": "cf7989b9-b618-4fe4-ba58-034882f40a7a",
        "id": "st6hFzQ1FPMZ"
      },
      "execution_count": 62,
      "outputs": [
        {
          "output_type": "stream",
          "name": "stdout",
          "text": [
            "Fitting 3 folds for each of 1 candidates, totalling 3 fits\n",
            "[CV 1/3] END basemodel__batch_size=377, basemodel__epochs=6, basemodel__model__activation1=relu, basemodel__model__activation2=relu, basemodel__model__activation3=selu, basemodel__model__activation4=sigmoid, basemodel__model__dropout1=0.8304688237422622, basemodel__model__dropout2=0.8807502827514379, basemodel__model__dropout3=0.26003789933182353, basemodel__model__dropout4=0.6140737877024202, basemodel__model__layer1=98, basemodel__model__layer2=457, basemodel__model__layer3=401, basemodel__model__layer4=432, basemodel__model__learning_rate=0.004787599953642966, basemodel__model__optim=<class 'keras.optimizers.optimizer_v2.adam.Adam'>, basemodel__validation_split=0.734323552850562, clip_y=114, poly_degree=2, scaler=MinMaxScaler();, score=-0.071 total time=   2.0s\n",
            "[CV 2/3] END basemodel__batch_size=377, basemodel__epochs=6, basemodel__model__activation1=relu, basemodel__model__activation2=relu, basemodel__model__activation3=selu, basemodel__model__activation4=sigmoid, basemodel__model__dropout1=0.8304688237422622, basemodel__model__dropout2=0.8807502827514379, basemodel__model__dropout3=0.26003789933182353, basemodel__model__dropout4=0.6140737877024202, basemodel__model__layer1=98, basemodel__model__layer2=457, basemodel__model__layer3=401, basemodel__model__layer4=432, basemodel__model__learning_rate=0.004787599953642966, basemodel__model__optim=<class 'keras.optimizers.optimizer_v2.adam.Adam'>, basemodel__validation_split=0.734323552850562, clip_y=114, poly_degree=2, scaler=MinMaxScaler();, score=-0.120 total time=   2.1s\n",
            "[CV 3/3] END basemodel__batch_size=377, basemodel__epochs=6, basemodel__model__activation1=relu, basemodel__model__activation2=relu, basemodel__model__activation3=selu, basemodel__model__activation4=sigmoid, basemodel__model__dropout1=0.8304688237422622, basemodel__model__dropout2=0.8807502827514379, basemodel__model__dropout3=0.26003789933182353, basemodel__model__dropout4=0.6140737877024202, basemodel__model__layer1=98, basemodel__model__layer2=457, basemodel__model__layer3=401, basemodel__model__layer4=432, basemodel__model__learning_rate=0.004787599953642966, basemodel__model__optim=<class 'keras.optimizers.optimizer_v2.adam.Adam'>, basemodel__validation_split=0.734323552850562, clip_y=114, poly_degree=2, scaler=MinMaxScaler();, score=-0.056 total time=   2.1s\n",
            "Fitting 3 folds for each of 1 candidates, totalling 3 fits\n",
            "[CV 1/3] END basemodel__batch_size=52, basemodel__epochs=19, basemodel__model__activation1=relu, basemodel__model__activation2=selu, basemodel__model__activation3=relu, basemodel__model__activation4=sigmoid, basemodel__model__dropout1=0.7376181481230316, basemodel__model__dropout2=0.39861938281438136, basemodel__model__dropout3=0.29028851654686605, basemodel__model__dropout4=0.3006229255307589, basemodel__model__layer1=96, basemodel__model__layer2=486, basemodel__model__layer3=447, basemodel__model__layer4=431, basemodel__model__learning_rate=0.007393917987889826, basemodel__model__optim=<class 'keras.optimizers.optimizer_v2.adam.Adam'>, basemodel__validation_split=0.39039591379422844, clip_y=87, poly_degree=2, scaler=StandardScaler();, score=-0.005 total time=  11.6s\n",
            "[CV 2/3] END basemodel__batch_size=52, basemodel__epochs=19, basemodel__model__activation1=relu, basemodel__model__activation2=selu, basemodel__model__activation3=relu, basemodel__model__activation4=sigmoid, basemodel__model__dropout1=0.7376181481230316, basemodel__model__dropout2=0.39861938281438136, basemodel__model__dropout3=0.29028851654686605, basemodel__model__dropout4=0.3006229255307589, basemodel__model__layer1=96, basemodel__model__layer2=486, basemodel__model__layer3=447, basemodel__model__layer4=431, basemodel__model__learning_rate=0.007393917987889826, basemodel__model__optim=<class 'keras.optimizers.optimizer_v2.adam.Adam'>, basemodel__validation_split=0.39039591379422844, clip_y=87, poly_degree=2, scaler=StandardScaler();, score=-0.004 total time=  10.6s\n",
            "[CV 3/3] END basemodel__batch_size=52, basemodel__epochs=19, basemodel__model__activation1=relu, basemodel__model__activation2=selu, basemodel__model__activation3=relu, basemodel__model__activation4=sigmoid, basemodel__model__dropout1=0.7376181481230316, basemodel__model__dropout2=0.39861938281438136, basemodel__model__dropout3=0.29028851654686605, basemodel__model__dropout4=0.3006229255307589, basemodel__model__layer1=96, basemodel__model__layer2=486, basemodel__model__layer3=447, basemodel__model__layer4=431, basemodel__model__learning_rate=0.007393917987889826, basemodel__model__optim=<class 'keras.optimizers.optimizer_v2.adam.Adam'>, basemodel__validation_split=0.39039591379422844, clip_y=87, poly_degree=2, scaler=StandardScaler();, score=-0.005 total time=  21.5s\n",
            "Fitting 3 folds for each of 1 candidates, totalling 3 fits\n",
            "[CV 1/3] END basemodel__batch_size=204, basemodel__epochs=37, basemodel__model__activation1=relu, basemodel__model__activation2=sigmoid, basemodel__model__activation3=selu, basemodel__model__activation4=elu, basemodel__model__dropout1=0.36324141454846515, basemodel__model__dropout2=0.15462996040445234, basemodel__model__dropout3=0.5699606738496114, basemodel__model__dropout4=0.5655814683721151, basemodel__model__layer1=158, basemodel__model__layer2=18, basemodel__model__layer3=266, basemodel__model__layer4=78, basemodel__model__learning_rate=0.009097914641267182, basemodel__model__optim=<class 'keras.optimizers.optimizer_v2.rmsprop.RMSprop'>, basemodel__validation_split=0.21544029668877668, clip_y=135, poly_degree=3, scaler=MinMaxScaler();, score=0.675 total time=  11.1s\n",
            "[CV 2/3] END basemodel__batch_size=204, basemodel__epochs=37, basemodel__model__activation1=relu, basemodel__model__activation2=sigmoid, basemodel__model__activation3=selu, basemodel__model__activation4=elu, basemodel__model__dropout1=0.36324141454846515, basemodel__model__dropout2=0.15462996040445234, basemodel__model__dropout3=0.5699606738496114, basemodel__model__dropout4=0.5655814683721151, basemodel__model__layer1=158, basemodel__model__layer2=18, basemodel__model__layer3=266, basemodel__model__layer4=78, basemodel__model__learning_rate=0.009097914641267182, basemodel__model__optim=<class 'keras.optimizers.optimizer_v2.rmsprop.RMSprop'>, basemodel__validation_split=0.21544029668877668, clip_y=135, poly_degree=3, scaler=MinMaxScaler();, score=0.765 total time=  11.1s\n",
            "[CV 3/3] END basemodel__batch_size=204, basemodel__epochs=37, basemodel__model__activation1=relu, basemodel__model__activation2=sigmoid, basemodel__model__activation3=selu, basemodel__model__activation4=elu, basemodel__model__dropout1=0.36324141454846515, basemodel__model__dropout2=0.15462996040445234, basemodel__model__dropout3=0.5699606738496114, basemodel__model__dropout4=0.5655814683721151, basemodel__model__layer1=158, basemodel__model__layer2=18, basemodel__model__layer3=266, basemodel__model__layer4=78, basemodel__model__learning_rate=0.009097914641267182, basemodel__model__optim=<class 'keras.optimizers.optimizer_v2.rmsprop.RMSprop'>, basemodel__validation_split=0.21544029668877668, clip_y=135, poly_degree=3, scaler=MinMaxScaler();, score=0.788 total time=  11.0s\n",
            "Fitting 3 folds for each of 1 candidates, totalling 3 fits\n",
            "[CV 1/3] END basemodel__batch_size=325, basemodel__epochs=34, basemodel__model__activation1=elu, basemodel__model__activation2=sigmoid, basemodel__model__activation3=tanh, basemodel__model__activation4=relu, basemodel__model__dropout1=0.809712912276636, basemodel__model__dropout2=0.5271675576526537, basemodel__model__dropout3=0.8102397125928322, basemodel__model__dropout4=0.5856814232047313, basemodel__model__layer1=424, basemodel__model__layer2=156, basemodel__model__layer3=169, basemodel__model__layer4=38, basemodel__model__learning_rate=0.0029106850151456344, basemodel__model__optim=<class 'keras.optimizers.optimizer_v2.rmsprop.RMSprop'>, basemodel__validation_split=0.33156967181250746, clip_y=110, poly_degree=2, scaler=StandardScaler();, score=0.809 total time=   7.1s\n",
            "[CV 2/3] END basemodel__batch_size=325, basemodel__epochs=34, basemodel__model__activation1=elu, basemodel__model__activation2=sigmoid, basemodel__model__activation3=tanh, basemodel__model__activation4=relu, basemodel__model__dropout1=0.809712912276636, basemodel__model__dropout2=0.5271675576526537, basemodel__model__dropout3=0.8102397125928322, basemodel__model__dropout4=0.5856814232047313, basemodel__model__layer1=424, basemodel__model__layer2=156, basemodel__model__layer3=169, basemodel__model__layer4=38, basemodel__model__learning_rate=0.0029106850151456344, basemodel__model__optim=<class 'keras.optimizers.optimizer_v2.rmsprop.RMSprop'>, basemodel__validation_split=0.33156967181250746, clip_y=110, poly_degree=2, scaler=StandardScaler();, score=0.775 total time=  11.6s\n",
            "[CV 3/3] END basemodel__batch_size=325, basemodel__epochs=34, basemodel__model__activation1=elu, basemodel__model__activation2=sigmoid, basemodel__model__activation3=tanh, basemodel__model__activation4=relu, basemodel__model__dropout1=0.809712912276636, basemodel__model__dropout2=0.5271675576526537, basemodel__model__dropout3=0.8102397125928322, basemodel__model__dropout4=0.5856814232047313, basemodel__model__layer1=424, basemodel__model__layer2=156, basemodel__model__layer3=169, basemodel__model__layer4=38, basemodel__model__learning_rate=0.0029106850151456344, basemodel__model__optim=<class 'keras.optimizers.optimizer_v2.rmsprop.RMSprop'>, basemodel__validation_split=0.33156967181250746, clip_y=110, poly_degree=2, scaler=StandardScaler();, score=0.807 total time=  11.3s\n",
            "Fitting 3 folds for each of 1 candidates, totalling 3 fits\n",
            "[CV 1/3] END basemodel__batch_size=148, basemodel__epochs=49, basemodel__model__activation1=selu, basemodel__model__activation2=selu, basemodel__model__activation3=elu, basemodel__model__activation4=selu, basemodel__model__dropout1=0.33446511667904183, basemodel__model__dropout2=0.2843030067834374, basemodel__model__dropout3=0.8770050686567168, basemodel__model__dropout4=0.8995591270339898, basemodel__model__layer1=461, basemodel__model__layer2=323, basemodel__model__layer3=216, basemodel__model__layer4=257, basemodel__model__learning_rate=0.0023655732003335455, basemodel__model__optim=<class 'keras.optimizers.optimizer_v2.adam.Adam'>, basemodel__validation_split=0.7042566762537688, clip_y=111, poly_degree=3, scaler=StandardScaler();, score=0.723 total time=  10.4s\n",
            "[CV 2/3] END basemodel__batch_size=148, basemodel__epochs=49, basemodel__model__activation1=selu, basemodel__model__activation2=selu, basemodel__model__activation3=elu, basemodel__model__activation4=selu, basemodel__model__dropout1=0.33446511667904183, basemodel__model__dropout2=0.2843030067834374, basemodel__model__dropout3=0.8770050686567168, basemodel__model__dropout4=0.8995591270339898, basemodel__model__layer1=461, basemodel__model__layer2=323, basemodel__model__layer3=216, basemodel__model__layer4=257, basemodel__model__learning_rate=0.0023655732003335455, basemodel__model__optim=<class 'keras.optimizers.optimizer_v2.adam.Adam'>, basemodel__validation_split=0.7042566762537688, clip_y=111, poly_degree=3, scaler=StandardScaler();, score=0.731 total time=  10.1s\n",
            "[CV 3/3] END basemodel__batch_size=148, basemodel__epochs=49, basemodel__model__activation1=selu, basemodel__model__activation2=selu, basemodel__model__activation3=elu, basemodel__model__activation4=selu, basemodel__model__dropout1=0.33446511667904183, basemodel__model__dropout2=0.2843030067834374, basemodel__model__dropout3=0.8770050686567168, basemodel__model__dropout4=0.8995591270339898, basemodel__model__layer1=461, basemodel__model__layer2=323, basemodel__model__layer3=216, basemodel__model__layer4=257, basemodel__model__learning_rate=0.0023655732003335455, basemodel__model__optim=<class 'keras.optimizers.optimizer_v2.adam.Adam'>, basemodel__validation_split=0.7042566762537688, clip_y=111, poly_degree=3, scaler=StandardScaler();, score=0.793 total time=   8.6s\n",
            "Fitting 3 folds for each of 1 candidates, totalling 3 fits\n",
            "[CV 1/3] END basemodel__batch_size=69, basemodel__epochs=48, basemodel__model__activation1=relu, basemodel__model__activation2=sigmoid, basemodel__model__activation3=relu, basemodel__model__activation4=selu, basemodel__model__dropout1=0.7861582092207701, basemodel__model__dropout2=0.1651211488004366, basemodel__model__dropout3=0.3806276727312806, basemodel__model__dropout4=0.5407685563014424, basemodel__model__layer1=335, basemodel__model__layer2=352, basemodel__model__layer3=87, basemodel__model__layer4=110, basemodel__model__learning_rate=0.0013462596203423387, basemodel__model__optim=<class 'keras.optimizers.optimizer_v2.rmsprop.RMSprop'>, basemodel__validation_split=0.40880873684195296, clip_y=84, poly_degree=3, scaler=StandardScaler();, score=0.866 total time=  28.3s\n",
            "[CV 2/3] END basemodel__batch_size=69, basemodel__epochs=48, basemodel__model__activation1=relu, basemodel__model__activation2=sigmoid, basemodel__model__activation3=relu, basemodel__model__activation4=selu, basemodel__model__dropout1=0.7861582092207701, basemodel__model__dropout2=0.1651211488004366, basemodel__model__dropout3=0.3806276727312806, basemodel__model__dropout4=0.5407685563014424, basemodel__model__layer1=335, basemodel__model__layer2=352, basemodel__model__layer3=87, basemodel__model__layer4=110, basemodel__model__learning_rate=0.0013462596203423387, basemodel__model__optim=<class 'keras.optimizers.optimizer_v2.rmsprop.RMSprop'>, basemodel__validation_split=0.40880873684195296, clip_y=84, poly_degree=3, scaler=StandardScaler();, score=0.863 total time=  42.3s\n",
            "[CV 3/3] END basemodel__batch_size=69, basemodel__epochs=48, basemodel__model__activation1=relu, basemodel__model__activation2=sigmoid, basemodel__model__activation3=relu, basemodel__model__activation4=selu, basemodel__model__dropout1=0.7861582092207701, basemodel__model__dropout2=0.1651211488004366, basemodel__model__dropout3=0.3806276727312806, basemodel__model__dropout4=0.5407685563014424, basemodel__model__layer1=335, basemodel__model__layer2=352, basemodel__model__layer3=87, basemodel__model__layer4=110, basemodel__model__learning_rate=0.0013462596203423387, basemodel__model__optim=<class 'keras.optimizers.optimizer_v2.rmsprop.RMSprop'>, basemodel__validation_split=0.40880873684195296, clip_y=84, poly_degree=3, scaler=StandardScaler();, score=0.863 total time=  26.8s\n",
            "Fitting 3 folds for each of 1 candidates, totalling 3 fits\n",
            "[CV 1/3] END basemodel__batch_size=286, basemodel__epochs=21, basemodel__model__activation1=relu, basemodel__model__activation2=selu, basemodel__model__activation3=relu, basemodel__model__activation4=tanh, basemodel__model__dropout1=0.8420471270014358, basemodel__model__dropout2=0.10983582176879239, basemodel__model__dropout3=0.7220340453141381, basemodel__model__dropout4=0.7346034743518055, basemodel__model__layer1=21, basemodel__model__layer2=142, basemodel__model__layer3=392, basemodel__model__layer4=311, basemodel__model__learning_rate=0.0011555289049844143, basemodel__model__optim=<class 'keras.optimizers.optimizer_v2.rmsprop.RMSprop'>, basemodel__validation_split=0.2784397939542004, clip_y=135, poly_degree=2, scaler=MinMaxScaler();, score=0.572 total time=   6.6s\n",
            "[CV 2/3] END basemodel__batch_size=286, basemodel__epochs=21, basemodel__model__activation1=relu, basemodel__model__activation2=selu, basemodel__model__activation3=relu, basemodel__model__activation4=tanh, basemodel__model__dropout1=0.8420471270014358, basemodel__model__dropout2=0.10983582176879239, basemodel__model__dropout3=0.7220340453141381, basemodel__model__dropout4=0.7346034743518055, basemodel__model__layer1=21, basemodel__model__layer2=142, basemodel__model__layer3=392, basemodel__model__layer4=311, basemodel__model__learning_rate=0.0011555289049844143, basemodel__model__optim=<class 'keras.optimizers.optimizer_v2.rmsprop.RMSprop'>, basemodel__validation_split=0.2784397939542004, clip_y=135, poly_degree=2, scaler=MinMaxScaler();, score=0.761 total time=   6.2s\n",
            "[CV 3/3] END basemodel__batch_size=286, basemodel__epochs=21, basemodel__model__activation1=relu, basemodel__model__activation2=selu, basemodel__model__activation3=relu, basemodel__model__activation4=tanh, basemodel__model__dropout1=0.8420471270014358, basemodel__model__dropout2=0.10983582176879239, basemodel__model__dropout3=0.7220340453141381, basemodel__model__dropout4=0.7346034743518055, basemodel__model__layer1=21, basemodel__model__layer2=142, basemodel__model__layer3=392, basemodel__model__layer4=311, basemodel__model__learning_rate=0.0011555289049844143, basemodel__model__optim=<class 'keras.optimizers.optimizer_v2.rmsprop.RMSprop'>, basemodel__validation_split=0.2784397939542004, clip_y=135, poly_degree=2, scaler=MinMaxScaler();, score=0.687 total time=   6.2s\n",
            "Fitting 3 folds for each of 1 candidates, totalling 3 fits\n",
            "[CV 1/3] END basemodel__batch_size=408, basemodel__epochs=49, basemodel__model__activation1=sigmoid, basemodel__model__activation2=selu, basemodel__model__activation3=selu, basemodel__model__activation4=sigmoid, basemodel__model__dropout1=0.18323821212753838, basemodel__model__dropout2=0.6878165980006792, basemodel__model__dropout3=0.7506888573599014, basemodel__model__dropout4=0.19699948946155596, basemodel__model__layer1=428, basemodel__model__layer2=132, basemodel__model__layer3=103, basemodel__model__layer4=490, basemodel__model__learning_rate=0.003261801408307491, basemodel__model__optim=<class 'keras.optimizers.optimizer_v2.rmsprop.RMSprop'>, basemodel__validation_split=0.6168745785557899, clip_y=92, poly_degree=2, scaler=StandardScaler();, score=0.761 total time=  11.3s\n",
            "[CV 2/3] END basemodel__batch_size=408, basemodel__epochs=49, basemodel__model__activation1=sigmoid, basemodel__model__activation2=selu, basemodel__model__activation3=selu, basemodel__model__activation4=sigmoid, basemodel__model__dropout1=0.18323821212753838, basemodel__model__dropout2=0.6878165980006792, basemodel__model__dropout3=0.7506888573599014, basemodel__model__dropout4=0.19699948946155596, basemodel__model__layer1=428, basemodel__model__layer2=132, basemodel__model__layer3=103, basemodel__model__layer4=490, basemodel__model__learning_rate=0.003261801408307491, basemodel__model__optim=<class 'keras.optimizers.optimizer_v2.rmsprop.RMSprop'>, basemodel__validation_split=0.6168745785557899, clip_y=92, poly_degree=2, scaler=StandardScaler();, score=0.824 total time=  11.3s\n",
            "[CV 3/3] END basemodel__batch_size=408, basemodel__epochs=49, basemodel__model__activation1=sigmoid, basemodel__model__activation2=selu, basemodel__model__activation3=selu, basemodel__model__activation4=sigmoid, basemodel__model__dropout1=0.18323821212753838, basemodel__model__dropout2=0.6878165980006792, basemodel__model__dropout3=0.7506888573599014, basemodel__model__dropout4=0.19699948946155596, basemodel__model__layer1=428, basemodel__model__layer2=132, basemodel__model__layer3=103, basemodel__model__layer4=490, basemodel__model__learning_rate=0.003261801408307491, basemodel__model__optim=<class 'keras.optimizers.optimizer_v2.rmsprop.RMSprop'>, basemodel__validation_split=0.6168745785557899, clip_y=92, poly_degree=2, scaler=StandardScaler();, score=0.864 total time=  11.3s\n",
            "Fitting 3 folds for each of 1 candidates, totalling 3 fits\n",
            "[CV 1/3] END basemodel__batch_size=147, basemodel__epochs=32, basemodel__model__activation1=elu, basemodel__model__activation2=sigmoid, basemodel__model__activation3=relu, basemodel__model__activation4=relu, basemodel__model__dropout1=0.12280672726877812, basemodel__model__dropout2=0.3526983712796199, basemodel__model__dropout3=0.7697902887570849, basemodel__model__dropout4=0.6116247243922766, basemodel__model__layer1=288, basemodel__model__layer2=131, basemodel__model__layer3=314, basemodel__model__layer4=129, basemodel__model__learning_rate=0.004673117808571524, basemodel__model__optim=<class 'keras.optimizers.optimizer_v2.adam.Adam'>, basemodel__validation_split=0.4521735483861937, clip_y=99, poly_degree=2, scaler=MinMaxScaler();, score=0.828 total time=  11.2s\n",
            "[CV 2/3] END basemodel__batch_size=147, basemodel__epochs=32, basemodel__model__activation1=elu, basemodel__model__activation2=sigmoid, basemodel__model__activation3=relu, basemodel__model__activation4=relu, basemodel__model__dropout1=0.12280672726877812, basemodel__model__dropout2=0.3526983712796199, basemodel__model__dropout3=0.7697902887570849, basemodel__model__dropout4=0.6116247243922766, basemodel__model__layer1=288, basemodel__model__layer2=131, basemodel__model__layer3=314, basemodel__model__layer4=129, basemodel__model__learning_rate=0.004673117808571524, basemodel__model__optim=<class 'keras.optimizers.optimizer_v2.adam.Adam'>, basemodel__validation_split=0.4521735483861937, clip_y=99, poly_degree=2, scaler=MinMaxScaler();, score=0.800 total time=  11.1s\n",
            "[CV 3/3] END basemodel__batch_size=147, basemodel__epochs=32, basemodel__model__activation1=elu, basemodel__model__activation2=sigmoid, basemodel__model__activation3=relu, basemodel__model__activation4=relu, basemodel__model__dropout1=0.12280672726877812, basemodel__model__dropout2=0.3526983712796199, basemodel__model__dropout3=0.7697902887570849, basemodel__model__dropout4=0.6116247243922766, basemodel__model__layer1=288, basemodel__model__layer2=131, basemodel__model__layer3=314, basemodel__model__layer4=129, basemodel__model__learning_rate=0.004673117808571524, basemodel__model__optim=<class 'keras.optimizers.optimizer_v2.adam.Adam'>, basemodel__validation_split=0.4521735483861937, clip_y=99, poly_degree=2, scaler=MinMaxScaler();, score=0.826 total time=  21.4s\n",
            "Fitting 3 folds for each of 1 candidates, totalling 3 fits\n",
            "[CV 1/3] END basemodel__batch_size=239, basemodel__epochs=22, basemodel__model__activation1=tanh, basemodel__model__activation2=tanh, basemodel__model__activation3=sigmoid, basemodel__model__activation4=sigmoid, basemodel__model__dropout1=0.8082565902984323, basemodel__model__dropout2=0.7149140019261008, basemodel__model__dropout3=0.1537317196119408, basemodel__model__dropout4=0.4412917045013788, basemodel__model__layer1=301, basemodel__model__layer2=231, basemodel__model__layer3=390, basemodel__model__layer4=462, basemodel__model__learning_rate=0.0010803674169312574, basemodel__model__optim=<class 'keras.optimizers.optimizer_v2.adam.Adam'>, basemodel__validation_split=0.5757773913038403, clip_y=131, poly_degree=2, scaler=MinMaxScaler();, score=-0.002 total time=   6.1s\n",
            "[CV 2/3] END basemodel__batch_size=239, basemodel__epochs=22, basemodel__model__activation1=tanh, basemodel__model__activation2=tanh, basemodel__model__activation3=sigmoid, basemodel__model__activation4=sigmoid, basemodel__model__dropout1=0.8082565902984323, basemodel__model__dropout2=0.7149140019261008, basemodel__model__dropout3=0.1537317196119408, basemodel__model__dropout4=0.4412917045013788, basemodel__model__layer1=301, basemodel__model__layer2=231, basemodel__model__layer3=390, basemodel__model__layer4=462, basemodel__model__learning_rate=0.0010803674169312574, basemodel__model__optim=<class 'keras.optimizers.optimizer_v2.adam.Adam'>, basemodel__validation_split=0.5757773913038403, clip_y=131, poly_degree=2, scaler=MinMaxScaler();, score=-0.002 total time=   6.0s\n",
            "[CV 3/3] END basemodel__batch_size=239, basemodel__epochs=22, basemodel__model__activation1=tanh, basemodel__model__activation2=tanh, basemodel__model__activation3=sigmoid, basemodel__model__activation4=sigmoid, basemodel__model__dropout1=0.8082565902984323, basemodel__model__dropout2=0.7149140019261008, basemodel__model__dropout3=0.1537317196119408, basemodel__model__dropout4=0.4412917045013788, basemodel__model__layer1=301, basemodel__model__layer2=231, basemodel__model__layer3=390, basemodel__model__layer4=462, basemodel__model__learning_rate=0.0010803674169312574, basemodel__model__optim=<class 'keras.optimizers.optimizer_v2.adam.Adam'>, basemodel__validation_split=0.5757773913038403, clip_y=131, poly_degree=2, scaler=MinMaxScaler();, score=-0.001 total time=   6.0s\n",
            "Fitting 3 folds for each of 1 candidates, totalling 3 fits\n",
            "[CV 1/3] END basemodel__batch_size=259, basemodel__epochs=50, basemodel__model__activation1=elu, basemodel__model__activation2=tanh, basemodel__model__activation3=relu, basemodel__model__activation4=elu, basemodel__model__dropout1=0.1, basemodel__model__dropout2=0.515601493533502, basemodel__model__dropout3=0.856804354566203, basemodel__model__dropout4=0.6227274536868163, basemodel__model__layer1=506, basemodel__model__layer2=106, basemodel__model__layer3=143, basemodel__model__layer4=368, basemodel__model__learning_rate=0.005664730355786377, basemodel__model__optim=<class 'keras.optimizers.optimizer_v2.rmsprop.RMSprop'>, basemodel__validation_split=0.22819141061874681, clip_y=88, poly_degree=2, scaler=StandardScaler();, score=0.816 total time=   6.2s\n",
            "[CV 2/3] END basemodel__batch_size=259, basemodel__epochs=50, basemodel__model__activation1=elu, basemodel__model__activation2=tanh, basemodel__model__activation3=relu, basemodel__model__activation4=elu, basemodel__model__dropout1=0.1, basemodel__model__dropout2=0.515601493533502, basemodel__model__dropout3=0.856804354566203, basemodel__model__dropout4=0.6227274536868163, basemodel__model__layer1=506, basemodel__model__layer2=106, basemodel__model__layer3=143, basemodel__model__layer4=368, basemodel__model__learning_rate=0.005664730355786377, basemodel__model__optim=<class 'keras.optimizers.optimizer_v2.rmsprop.RMSprop'>, basemodel__validation_split=0.22819141061874681, clip_y=88, poly_degree=2, scaler=StandardScaler();, score=0.744 total time=   7.5s\n",
            "[CV 3/3] END basemodel__batch_size=259, basemodel__epochs=50, basemodel__model__activation1=elu, basemodel__model__activation2=tanh, basemodel__model__activation3=relu, basemodel__model__activation4=elu, basemodel__model__dropout1=0.1, basemodel__model__dropout2=0.515601493533502, basemodel__model__dropout3=0.856804354566203, basemodel__model__dropout4=0.6227274536868163, basemodel__model__layer1=506, basemodel__model__layer2=106, basemodel__model__layer3=143, basemodel__model__layer4=368, basemodel__model__learning_rate=0.005664730355786377, basemodel__model__optim=<class 'keras.optimizers.optimizer_v2.rmsprop.RMSprop'>, basemodel__validation_split=0.22819141061874681, clip_y=88, poly_degree=2, scaler=StandardScaler();, score=0.784 total time=   7.1s\n",
            "Fitting 3 folds for each of 1 candidates, totalling 3 fits\n",
            "[CV 1/3] END basemodel__batch_size=468, basemodel__epochs=37, basemodel__model__activation1=tanh, basemodel__model__activation2=relu, basemodel__model__activation3=tanh, basemodel__model__activation4=sigmoid, basemodel__model__dropout1=0.637340953203425, basemodel__model__dropout2=0.8594120547507382, basemodel__model__dropout3=0.1, basemodel__model__dropout4=0.8814876598493709, basemodel__model__layer1=355, basemodel__model__layer2=83, basemodel__model__layer3=107, basemodel__model__layer4=451, basemodel__model__learning_rate=0.00581235365476011, basemodel__model__optim=<class 'keras.optimizers.optimizer_v2.rmsprop.RMSprop'>, basemodel__validation_split=0.24684546707574617, clip_y=140, poly_degree=3, scaler=MinMaxScaler();, score=0.792 total time=   6.2s\n",
            "[CV 2/3] END basemodel__batch_size=468, basemodel__epochs=37, basemodel__model__activation1=tanh, basemodel__model__activation2=relu, basemodel__model__activation3=tanh, basemodel__model__activation4=sigmoid, basemodel__model__dropout1=0.637340953203425, basemodel__model__dropout2=0.8594120547507382, basemodel__model__dropout3=0.1, basemodel__model__dropout4=0.8814876598493709, basemodel__model__layer1=355, basemodel__model__layer2=83, basemodel__model__layer3=107, basemodel__model__layer4=451, basemodel__model__learning_rate=0.00581235365476011, basemodel__model__optim=<class 'keras.optimizers.optimizer_v2.rmsprop.RMSprop'>, basemodel__validation_split=0.24684546707574617, clip_y=140, poly_degree=3, scaler=MinMaxScaler();, score=0.770 total time=   6.0s\n",
            "[CV 3/3] END basemodel__batch_size=468, basemodel__epochs=37, basemodel__model__activation1=tanh, basemodel__model__activation2=relu, basemodel__model__activation3=tanh, basemodel__model__activation4=sigmoid, basemodel__model__dropout1=0.637340953203425, basemodel__model__dropout2=0.8594120547507382, basemodel__model__dropout3=0.1, basemodel__model__dropout4=0.8814876598493709, basemodel__model__layer1=355, basemodel__model__layer2=83, basemodel__model__layer3=107, basemodel__model__layer4=451, basemodel__model__learning_rate=0.00581235365476011, basemodel__model__optim=<class 'keras.optimizers.optimizer_v2.rmsprop.RMSprop'>, basemodel__validation_split=0.24684546707574617, clip_y=140, poly_degree=3, scaler=MinMaxScaler();, score=0.756 total time=   6.2s\n",
            "Fitting 3 folds for each of 1 candidates, totalling 3 fits\n",
            "[CV 1/3] END basemodel__batch_size=269, basemodel__epochs=50, basemodel__model__activation1=tanh, basemodel__model__activation2=elu, basemodel__model__activation3=tanh, basemodel__model__activation4=tanh, basemodel__model__dropout1=0.1, basemodel__model__dropout2=0.8999999873911396, basemodel__model__dropout3=0.10000003827327578, basemodel__model__dropout4=0.10000004788374846, basemodel__model__layer1=512, basemodel__model__layer2=512, basemodel__model__layer3=16, basemodel__model__layer4=512, basemodel__model__learning_rate=0.0001, basemodel__model__optim=<class 'keras.optimizers.optimizer_v2.adam.Adam'>, basemodel__validation_split=0.9, clip_y=140, poly_degree=3, scaler=StandardScaler();, score=-2.461 total time=  11.1s\n",
            "[CV 2/3] END basemodel__batch_size=269, basemodel__epochs=50, basemodel__model__activation1=tanh, basemodel__model__activation2=elu, basemodel__model__activation3=tanh, basemodel__model__activation4=tanh, basemodel__model__dropout1=0.1, basemodel__model__dropout2=0.8999999873911396, basemodel__model__dropout3=0.10000003827327578, basemodel__model__dropout4=0.10000004788374846, basemodel__model__layer1=512, basemodel__model__layer2=512, basemodel__model__layer3=16, basemodel__model__layer4=512, basemodel__model__learning_rate=0.0001, basemodel__model__optim=<class 'keras.optimizers.optimizer_v2.adam.Adam'>, basemodel__validation_split=0.9, clip_y=140, poly_degree=3, scaler=StandardScaler();, score=-2.580 total time=  11.1s\n",
            "[CV 3/3] END basemodel__batch_size=269, basemodel__epochs=50, basemodel__model__activation1=tanh, basemodel__model__activation2=elu, basemodel__model__activation3=tanh, basemodel__model__activation4=tanh, basemodel__model__dropout1=0.1, basemodel__model__dropout2=0.8999999873911396, basemodel__model__dropout3=0.10000003827327578, basemodel__model__dropout4=0.10000004788374846, basemodel__model__layer1=512, basemodel__model__layer2=512, basemodel__model__layer3=16, basemodel__model__layer4=512, basemodel__model__learning_rate=0.0001, basemodel__model__optim=<class 'keras.optimizers.optimizer_v2.adam.Adam'>, basemodel__validation_split=0.9, clip_y=140, poly_degree=3, scaler=StandardScaler();, score=-2.550 total time=   9.5s\n",
            "Fitting 3 folds for each of 1 candidates, totalling 3 fits\n",
            "[CV 1/3] END basemodel__batch_size=512, basemodel__epochs=24, basemodel__model__activation1=sigmoid, basemodel__model__activation2=tanh, basemodel__model__activation3=tanh, basemodel__model__activation4=sigmoid, basemodel__model__dropout1=0.9, basemodel__model__dropout2=0.5819996876896556, basemodel__model__dropout3=0.6650180070537138, basemodel__model__dropout4=0.9, basemodel__model__layer1=292, basemodel__model__layer2=410, basemodel__model__layer3=512, basemodel__model__layer4=202, basemodel__model__learning_rate=0.007325649884276191, basemodel__model__optim=<class 'keras.optimizers.optimizer_v2.adam.Adam'>, basemodel__validation_split=0.1, clip_y=139, poly_degree=3, scaler=StandardScaler();, score=-0.024 total time=   6.0s\n",
            "[CV 2/3] END basemodel__batch_size=512, basemodel__epochs=24, basemodel__model__activation1=sigmoid, basemodel__model__activation2=tanh, basemodel__model__activation3=tanh, basemodel__model__activation4=sigmoid, basemodel__model__dropout1=0.9, basemodel__model__dropout2=0.5819996876896556, basemodel__model__dropout3=0.6650180070537138, basemodel__model__dropout4=0.9, basemodel__model__layer1=292, basemodel__model__layer2=410, basemodel__model__layer3=512, basemodel__model__layer4=202, basemodel__model__learning_rate=0.007325649884276191, basemodel__model__optim=<class 'keras.optimizers.optimizer_v2.adam.Adam'>, basemodel__validation_split=0.1, clip_y=139, poly_degree=3, scaler=StandardScaler();, score=-0.023 total time=   3.4s\n",
            "[CV 3/3] END basemodel__batch_size=512, basemodel__epochs=24, basemodel__model__activation1=sigmoid, basemodel__model__activation2=tanh, basemodel__model__activation3=tanh, basemodel__model__activation4=sigmoid, basemodel__model__dropout1=0.9, basemodel__model__dropout2=0.5819996876896556, basemodel__model__dropout3=0.6650180070537138, basemodel__model__dropout4=0.9, basemodel__model__layer1=292, basemodel__model__layer2=410, basemodel__model__layer3=512, basemodel__model__layer4=202, basemodel__model__learning_rate=0.007325649884276191, basemodel__model__optim=<class 'keras.optimizers.optimizer_v2.adam.Adam'>, basemodel__validation_split=0.1, clip_y=139, poly_degree=3, scaler=StandardScaler();, score=-0.024 total time=   3.0s\n",
            "Fitting 3 folds for each of 1 candidates, totalling 3 fits\n",
            "[CV 1/3] END basemodel__batch_size=32, basemodel__epochs=50, basemodel__model__activation1=tanh, basemodel__model__activation2=tanh, basemodel__model__activation3=tanh, basemodel__model__activation4=elu, basemodel__model__dropout1=0.1, basemodel__model__dropout2=0.9, basemodel__model__dropout3=0.9, basemodel__model__dropout4=0.1, basemodel__model__layer1=512, basemodel__model__layer2=512, basemodel__model__layer3=512, basemodel__model__layer4=16, basemodel__model__learning_rate=0.01, basemodel__model__optim=<class 'keras.optimizers.optimizer_v2.rmsprop.RMSprop'>, basemodel__validation_split=0.9, clip_y=80, poly_degree=2, scaler=StandardScaler();, score=0.693 total time=  42.5s\n",
            "[CV 2/3] END basemodel__batch_size=32, basemodel__epochs=50, basemodel__model__activation1=tanh, basemodel__model__activation2=tanh, basemodel__model__activation3=tanh, basemodel__model__activation4=elu, basemodel__model__dropout1=0.1, basemodel__model__dropout2=0.9, basemodel__model__dropout3=0.9, basemodel__model__dropout4=0.1, basemodel__model__layer1=512, basemodel__model__layer2=512, basemodel__model__layer3=512, basemodel__model__layer4=16, basemodel__model__learning_rate=0.01, basemodel__model__optim=<class 'keras.optimizers.optimizer_v2.rmsprop.RMSprop'>, basemodel__validation_split=0.9, clip_y=80, poly_degree=2, scaler=StandardScaler();, score=0.369 total time=  32.8s\n",
            "[CV 3/3] END basemodel__batch_size=32, basemodel__epochs=50, basemodel__model__activation1=tanh, basemodel__model__activation2=tanh, basemodel__model__activation3=tanh, basemodel__model__activation4=elu, basemodel__model__dropout1=0.1, basemodel__model__dropout2=0.9, basemodel__model__dropout3=0.9, basemodel__model__dropout4=0.1, basemodel__model__layer1=512, basemodel__model__layer2=512, basemodel__model__layer3=512, basemodel__model__layer4=16, basemodel__model__learning_rate=0.01, basemodel__model__optim=<class 'keras.optimizers.optimizer_v2.rmsprop.RMSprop'>, basemodel__validation_split=0.9, clip_y=80, poly_degree=2, scaler=StandardScaler();, score=0.495 total time=  15.1s\n",
            "Fitting 3 folds for each of 1 candidates, totalling 3 fits\n",
            "[CV 1/3] END basemodel__batch_size=32, basemodel__epochs=42, basemodel__model__activation1=elu, basemodel__model__activation2=sigmoid, basemodel__model__activation3=elu, basemodel__model__activation4=relu, basemodel__model__dropout1=0.1, basemodel__model__dropout2=0.11420198405344871, basemodel__model__dropout3=0.9, basemodel__model__dropout4=0.6251215131348011, basemodel__model__layer1=327, basemodel__model__layer2=114, basemodel__model__layer3=287, basemodel__model__layer4=66, basemodel__model__learning_rate=0.00538515448191687, basemodel__model__optim=<class 'keras.optimizers.optimizer_v2.adam.Adam'>, basemodel__validation_split=0.383149372007318, clip_y=87, poly_degree=2, scaler=MinMaxScaler();, score=0.825 total time= 1.4min\n",
            "[CV 2/3] END basemodel__batch_size=32, basemodel__epochs=42, basemodel__model__activation1=elu, basemodel__model__activation2=sigmoid, basemodel__model__activation3=elu, basemodel__model__activation4=relu, basemodel__model__dropout1=0.1, basemodel__model__dropout2=0.11420198405344871, basemodel__model__dropout3=0.9, basemodel__model__dropout4=0.6251215131348011, basemodel__model__layer1=327, basemodel__model__layer2=114, basemodel__model__layer3=287, basemodel__model__layer4=66, basemodel__model__learning_rate=0.00538515448191687, basemodel__model__optim=<class 'keras.optimizers.optimizer_v2.adam.Adam'>, basemodel__validation_split=0.383149372007318, clip_y=87, poly_degree=2, scaler=MinMaxScaler();, score=0.860 total time=  58.7s\n",
            "[CV 3/3] END basemodel__batch_size=32, basemodel__epochs=42, basemodel__model__activation1=elu, basemodel__model__activation2=sigmoid, basemodel__model__activation3=elu, basemodel__model__activation4=relu, basemodel__model__dropout1=0.1, basemodel__model__dropout2=0.11420198405344871, basemodel__model__dropout3=0.9, basemodel__model__dropout4=0.6251215131348011, basemodel__model__layer1=327, basemodel__model__layer2=114, basemodel__model__layer3=287, basemodel__model__layer4=66, basemodel__model__learning_rate=0.00538515448191687, basemodel__model__optim=<class 'keras.optimizers.optimizer_v2.adam.Adam'>, basemodel__validation_split=0.383149372007318, clip_y=87, poly_degree=2, scaler=MinMaxScaler();, score=0.828 total time=  58.8s\n",
            "Fitting 3 folds for each of 1 candidates, totalling 3 fits\n",
            "[CV 1/3] END basemodel__batch_size=86, basemodel__epochs=49, basemodel__model__activation1=elu, basemodel__model__activation2=sigmoid, basemodel__model__activation3=relu, basemodel__model__activation4=elu, basemodel__model__dropout1=0.47195327122632424, basemodel__model__dropout2=0.10626213458486385, basemodel__model__dropout3=0.48592702969698853, basemodel__model__dropout4=0.47810452847784046, basemodel__model__layer1=280, basemodel__model__layer2=55, basemodel__model__layer3=46, basemodel__model__layer4=16, basemodel__model__learning_rate=0.005294617624270388, basemodel__model__optim=<class 'keras.optimizers.optimizer_v2.rmsprop.RMSprop'>, basemodel__validation_split=0.34294986669879673, clip_y=107, poly_degree=3, scaler=MinMaxScaler();, score=0.836 total time=  27.8s\n",
            "[CV 2/3] END basemodel__batch_size=86, basemodel__epochs=49, basemodel__model__activation1=elu, basemodel__model__activation2=sigmoid, basemodel__model__activation3=relu, basemodel__model__activation4=elu, basemodel__model__dropout1=0.47195327122632424, basemodel__model__dropout2=0.10626213458486385, basemodel__model__dropout3=0.48592702969698853, basemodel__model__dropout4=0.47810452847784046, basemodel__model__layer1=280, basemodel__model__layer2=55, basemodel__model__layer3=46, basemodel__model__layer4=16, basemodel__model__learning_rate=0.005294617624270388, basemodel__model__optim=<class 'keras.optimizers.optimizer_v2.rmsprop.RMSprop'>, basemodel__validation_split=0.34294986669879673, clip_y=107, poly_degree=3, scaler=MinMaxScaler();, score=0.813 total time=  27.7s\n",
            "[CV 3/3] END basemodel__batch_size=86, basemodel__epochs=49, basemodel__model__activation1=elu, basemodel__model__activation2=sigmoid, basemodel__model__activation3=relu, basemodel__model__activation4=elu, basemodel__model__dropout1=0.47195327122632424, basemodel__model__dropout2=0.10626213458486385, basemodel__model__dropout3=0.48592702969698853, basemodel__model__dropout4=0.47810452847784046, basemodel__model__layer1=280, basemodel__model__layer2=55, basemodel__model__layer3=46, basemodel__model__layer4=16, basemodel__model__learning_rate=0.005294617624270388, basemodel__model__optim=<class 'keras.optimizers.optimizer_v2.rmsprop.RMSprop'>, basemodel__validation_split=0.34294986669879673, clip_y=107, poly_degree=3, scaler=MinMaxScaler();, score=0.753 total time=  28.0s\n",
            "Fitting 3 folds for each of 1 candidates, totalling 3 fits\n",
            "[CV 1/3] END basemodel__batch_size=135, basemodel__epochs=38, basemodel__model__activation1=elu, basemodel__model__activation2=sigmoid, basemodel__model__activation3=relu, basemodel__model__activation4=elu, basemodel__model__dropout1=0.1, basemodel__model__dropout2=0.25587479213200126, basemodel__model__dropout3=0.9, basemodel__model__dropout4=0.6858264321152318, basemodel__model__layer1=362, basemodel__model__layer2=18, basemodel__model__layer3=272, basemodel__model__layer4=16, basemodel__model__learning_rate=0.004202593121625942, basemodel__model__optim=<class 'keras.optimizers.optimizer_v2.adam.Adam'>, basemodel__validation_split=0.4043573274236706, clip_y=98, poly_degree=2, scaler=MinMaxScaler();, score=-0.079 total time=  14.2s\n",
            "[CV 2/3] END basemodel__batch_size=135, basemodel__epochs=38, basemodel__model__activation1=elu, basemodel__model__activation2=sigmoid, basemodel__model__activation3=relu, basemodel__model__activation4=elu, basemodel__model__dropout1=0.1, basemodel__model__dropout2=0.25587479213200126, basemodel__model__dropout3=0.9, basemodel__model__dropout4=0.6858264321152318, basemodel__model__layer1=362, basemodel__model__layer2=18, basemodel__model__layer3=272, basemodel__model__layer4=16, basemodel__model__learning_rate=0.004202593121625942, basemodel__model__optim=<class 'keras.optimizers.optimizer_v2.adam.Adam'>, basemodel__validation_split=0.4043573274236706, clip_y=98, poly_degree=2, scaler=MinMaxScaler();, score=-0.143 total time=  13.4s\n",
            "[CV 3/3] END basemodel__batch_size=135, basemodel__epochs=38, basemodel__model__activation1=elu, basemodel__model__activation2=sigmoid, basemodel__model__activation3=relu, basemodel__model__activation4=elu, basemodel__model__dropout1=0.1, basemodel__model__dropout2=0.25587479213200126, basemodel__model__dropout3=0.9, basemodel__model__dropout4=0.6858264321152318, basemodel__model__layer1=362, basemodel__model__layer2=18, basemodel__model__layer3=272, basemodel__model__layer4=16, basemodel__model__learning_rate=0.004202593121625942, basemodel__model__optim=<class 'keras.optimizers.optimizer_v2.adam.Adam'>, basemodel__validation_split=0.4043573274236706, clip_y=98, poly_degree=2, scaler=MinMaxScaler();, score=-0.104 total time=  13.8s\n",
            "Fitting 3 folds for each of 1 candidates, totalling 3 fits\n",
            "[CV 1/3] END basemodel__batch_size=65, basemodel__epochs=50, basemodel__model__activation1=elu, basemodel__model__activation2=tanh, basemodel__model__activation3=elu, basemodel__model__activation4=selu, basemodel__model__dropout1=0.1, basemodel__model__dropout2=0.1, basemodel__model__dropout3=0.9, basemodel__model__dropout4=0.1, basemodel__model__layer1=384, basemodel__model__layer2=309, basemodel__model__layer3=16, basemodel__model__layer4=285, basemodel__model__learning_rate=0.0011321385508607927, basemodel__model__optim=<class 'keras.optimizers.optimizer_v2.rmsprop.RMSprop'>, basemodel__validation_split=0.9, clip_y=80, poly_degree=2, scaler=StandardScaler();, score=0.780 total time=  23.2s\n",
            "[CV 2/3] END basemodel__batch_size=65, basemodel__epochs=50, basemodel__model__activation1=elu, basemodel__model__activation2=tanh, basemodel__model__activation3=elu, basemodel__model__activation4=selu, basemodel__model__dropout1=0.1, basemodel__model__dropout2=0.1, basemodel__model__dropout3=0.9, basemodel__model__dropout4=0.1, basemodel__model__layer1=384, basemodel__model__layer2=309, basemodel__model__layer3=16, basemodel__model__layer4=285, basemodel__model__learning_rate=0.0011321385508607927, basemodel__model__optim=<class 'keras.optimizers.optimizer_v2.rmsprop.RMSprop'>, basemodel__validation_split=0.9, clip_y=80, poly_degree=2, scaler=StandardScaler();, score=-0.614 total time=  42.4s\n",
            "[CV 3/3] END basemodel__batch_size=65, basemodel__epochs=50, basemodel__model__activation1=elu, basemodel__model__activation2=tanh, basemodel__model__activation3=elu, basemodel__model__activation4=selu, basemodel__model__dropout1=0.1, basemodel__model__dropout2=0.1, basemodel__model__dropout3=0.9, basemodel__model__dropout4=0.1, basemodel__model__layer1=384, basemodel__model__layer2=309, basemodel__model__layer3=16, basemodel__model__layer4=285, basemodel__model__learning_rate=0.0011321385508607927, basemodel__model__optim=<class 'keras.optimizers.optimizer_v2.rmsprop.RMSprop'>, basemodel__validation_split=0.9, clip_y=80, poly_degree=2, scaler=StandardScaler();, score=0.468 total time=  21.8s\n",
            "Fitting 3 folds for each of 1 candidates, totalling 3 fits\n",
            "[CV 1/3] END basemodel__batch_size=32, basemodel__epochs=50, basemodel__model__activation1=elu, basemodel__model__activation2=sigmoid, basemodel__model__activation3=elu, basemodel__model__activation4=elu, basemodel__model__dropout1=0.9, basemodel__model__dropout2=0.1, basemodel__model__dropout3=0.15018741373724745, basemodel__model__dropout4=0.12758617218673182, basemodel__model__layer1=512, basemodel__model__layer2=204, basemodel__model__layer3=16, basemodel__model__layer4=16, basemodel__model__learning_rate=0.0001, basemodel__model__optim=<class 'keras.optimizers.optimizer_v2.rmsprop.RMSprop'>, basemodel__validation_split=0.8616168528919433, clip_y=80, poly_degree=3, scaler=MinMaxScaler();, score=-0.001 total time=  57.7s\n",
            "[CV 2/3] END basemodel__batch_size=32, basemodel__epochs=50, basemodel__model__activation1=elu, basemodel__model__activation2=sigmoid, basemodel__model__activation3=elu, basemodel__model__activation4=elu, basemodel__model__dropout1=0.9, basemodel__model__dropout2=0.1, basemodel__model__dropout3=0.15018741373724745, basemodel__model__dropout4=0.12758617218673182, basemodel__model__layer1=512, basemodel__model__layer2=204, basemodel__model__layer3=16, basemodel__model__layer4=16, basemodel__model__learning_rate=0.0001, basemodel__model__optim=<class 'keras.optimizers.optimizer_v2.rmsprop.RMSprop'>, basemodel__validation_split=0.8616168528919433, clip_y=80, poly_degree=3, scaler=MinMaxScaler();, score=0.011 total time= 1.4min\n",
            "[CV 3/3] END basemodel__batch_size=32, basemodel__epochs=50, basemodel__model__activation1=elu, basemodel__model__activation2=sigmoid, basemodel__model__activation3=elu, basemodel__model__activation4=elu, basemodel__model__dropout1=0.9, basemodel__model__dropout2=0.1, basemodel__model__dropout3=0.15018741373724745, basemodel__model__dropout4=0.12758617218673182, basemodel__model__layer1=512, basemodel__model__layer2=204, basemodel__model__layer3=16, basemodel__model__layer4=16, basemodel__model__learning_rate=0.0001, basemodel__model__optim=<class 'keras.optimizers.optimizer_v2.rmsprop.RMSprop'>, basemodel__validation_split=0.8616168528919433, clip_y=80, poly_degree=3, scaler=MinMaxScaler();, score=-0.010 total time=  49.9s\n",
            "Fitting 3 folds for each of 1 candidates, totalling 3 fits\n",
            "[CV 1/3] END basemodel__batch_size=58, basemodel__epochs=42, basemodel__model__activation1=elu, basemodel__model__activation2=sigmoid, basemodel__model__activation3=elu, basemodel__model__activation4=relu, basemodel__model__dropout1=0.14185971371829464, basemodel__model__dropout2=0.11223602633868648, basemodel__model__dropout3=0.9, basemodel__model__dropout4=0.686515715587739, basemodel__model__layer1=314, basemodel__model__layer2=146, basemodel__model__layer3=306, basemodel__model__layer4=86, basemodel__model__learning_rate=0.005510932355436529, basemodel__model__optim=<class 'keras.optimizers.optimizer_v2.adam.Adam'>, basemodel__validation_split=0.3978034966647225, clip_y=87, poly_degree=2, scaler=MinMaxScaler();, score=0.803 total time=  33.7s\n",
            "[CV 2/3] END basemodel__batch_size=58, basemodel__epochs=42, basemodel__model__activation1=elu, basemodel__model__activation2=sigmoid, basemodel__model__activation3=elu, basemodel__model__activation4=relu, basemodel__model__dropout1=0.14185971371829464, basemodel__model__dropout2=0.11223602633868648, basemodel__model__dropout3=0.9, basemodel__model__dropout4=0.686515715587739, basemodel__model__layer1=314, basemodel__model__layer2=146, basemodel__model__layer3=306, basemodel__model__layer4=86, basemodel__model__learning_rate=0.005510932355436529, basemodel__model__optim=<class 'keras.optimizers.optimizer_v2.adam.Adam'>, basemodel__validation_split=0.3978034966647225, clip_y=87, poly_degree=2, scaler=MinMaxScaler();, score=0.818 total time=  42.0s\n",
            "[CV 3/3] END basemodel__batch_size=58, basemodel__epochs=42, basemodel__model__activation1=elu, basemodel__model__activation2=sigmoid, basemodel__model__activation3=elu, basemodel__model__activation4=relu, basemodel__model__dropout1=0.14185971371829464, basemodel__model__dropout2=0.11223602633868648, basemodel__model__dropout3=0.9, basemodel__model__dropout4=0.686515715587739, basemodel__model__layer1=314, basemodel__model__layer2=146, basemodel__model__layer3=306, basemodel__model__layer4=86, basemodel__model__learning_rate=0.005510932355436529, basemodel__model__optim=<class 'keras.optimizers.optimizer_v2.adam.Adam'>, basemodel__validation_split=0.3978034966647225, clip_y=87, poly_degree=2, scaler=MinMaxScaler();, score=0.828 total time=  42.1s\n",
            "Fitting 3 folds for each of 1 candidates, totalling 3 fits\n",
            "[CV 1/3] END basemodel__batch_size=54, basemodel__epochs=50, basemodel__model__activation1=relu, basemodel__model__activation2=sigmoid, basemodel__model__activation3=relu, basemodel__model__activation4=selu, basemodel__model__dropout1=0.8520785659203408, basemodel__model__dropout2=0.20871962656409038, basemodel__model__dropout3=0.36374459463482145, basemodel__model__dropout4=0.5885171990500734, basemodel__model__layer1=350, basemodel__model__layer2=367, basemodel__model__layer3=62, basemodel__model__layer4=68, basemodel__model__learning_rate=0.0009467731153408554, basemodel__model__optim=<class 'keras.optimizers.optimizer_v2.rmsprop.RMSprop'>, basemodel__validation_split=0.33685228251336063, clip_y=80, poly_degree=3, scaler=StandardScaler();, score=0.861 total time=  30.3s\n",
            "[CV 2/3] END basemodel__batch_size=54, basemodel__epochs=50, basemodel__model__activation1=relu, basemodel__model__activation2=sigmoid, basemodel__model__activation3=relu, basemodel__model__activation4=selu, basemodel__model__dropout1=0.8520785659203408, basemodel__model__dropout2=0.20871962656409038, basemodel__model__dropout3=0.36374459463482145, basemodel__model__dropout4=0.5885171990500734, basemodel__model__layer1=350, basemodel__model__layer2=367, basemodel__model__layer3=62, basemodel__model__layer4=68, basemodel__model__learning_rate=0.0009467731153408554, basemodel__model__optim=<class 'keras.optimizers.optimizer_v2.rmsprop.RMSprop'>, basemodel__validation_split=0.33685228251336063, clip_y=80, poly_degree=3, scaler=StandardScaler();, score=0.834 total time=  27.9s\n",
            "[CV 3/3] END basemodel__batch_size=54, basemodel__epochs=50, basemodel__model__activation1=relu, basemodel__model__activation2=sigmoid, basemodel__model__activation3=relu, basemodel__model__activation4=selu, basemodel__model__dropout1=0.8520785659203408, basemodel__model__dropout2=0.20871962656409038, basemodel__model__dropout3=0.36374459463482145, basemodel__model__dropout4=0.5885171990500734, basemodel__model__layer1=350, basemodel__model__layer2=367, basemodel__model__layer3=62, basemodel__model__layer4=68, basemodel__model__learning_rate=0.0009467731153408554, basemodel__model__optim=<class 'keras.optimizers.optimizer_v2.rmsprop.RMSprop'>, basemodel__validation_split=0.33685228251336063, clip_y=80, poly_degree=3, scaler=StandardScaler();, score=0.864 total time= 1.4min\n",
            "Fitting 3 folds for each of 1 candidates, totalling 3 fits\n",
            "[CV 1/3] END basemodel__batch_size=65, basemodel__epochs=43, basemodel__model__activation1=selu, basemodel__model__activation2=selu, basemodel__model__activation3=selu, basemodel__model__activation4=selu, basemodel__model__dropout1=0.8734283685444012, basemodel__model__dropout2=0.1, basemodel__model__dropout3=0.21580727309755665, basemodel__model__dropout4=0.5109208525337936, basemodel__model__layer1=174, basemodel__model__layer2=301, basemodel__model__layer3=153, basemodel__model__layer4=41, basemodel__model__learning_rate=0.0032826654611285847, basemodel__model__optim=<class 'keras.optimizers.optimizer_v2.rmsprop.RMSprop'>, basemodel__validation_split=0.40625826959300615, clip_y=103, poly_degree=3, scaler=StandardScaler();, score=0.800 total time=  21.2s\n",
            "[CV 2/3] END basemodel__batch_size=65, basemodel__epochs=43, basemodel__model__activation1=selu, basemodel__model__activation2=selu, basemodel__model__activation3=selu, basemodel__model__activation4=selu, basemodel__model__dropout1=0.8734283685444012, basemodel__model__dropout2=0.1, basemodel__model__dropout3=0.21580727309755665, basemodel__model__dropout4=0.5109208525337936, basemodel__model__layer1=174, basemodel__model__layer2=301, basemodel__model__layer3=153, basemodel__model__layer4=41, basemodel__model__learning_rate=0.0032826654611285847, basemodel__model__optim=<class 'keras.optimizers.optimizer_v2.rmsprop.RMSprop'>, basemodel__validation_split=0.40625826959300615, clip_y=103, poly_degree=3, scaler=StandardScaler();, score=0.792 total time=  24.2s\n",
            "[CV 3/3] END basemodel__batch_size=65, basemodel__epochs=43, basemodel__model__activation1=selu, basemodel__model__activation2=selu, basemodel__model__activation3=selu, basemodel__model__activation4=selu, basemodel__model__dropout1=0.8734283685444012, basemodel__model__dropout2=0.1, basemodel__model__dropout3=0.21580727309755665, basemodel__model__dropout4=0.5109208525337936, basemodel__model__layer1=174, basemodel__model__layer2=301, basemodel__model__layer3=153, basemodel__model__layer4=41, basemodel__model__learning_rate=0.0032826654611285847, basemodel__model__optim=<class 'keras.optimizers.optimizer_v2.rmsprop.RMSprop'>, basemodel__validation_split=0.40625826959300615, clip_y=103, poly_degree=3, scaler=StandardScaler();, score=0.814 total time=  20.7s\n",
            "Fitting 3 folds for each of 1 candidates, totalling 3 fits\n",
            "[CV 1/3] END basemodel__batch_size=510, basemodel__epochs=50, basemodel__model__activation1=relu, basemodel__model__activation2=tanh, basemodel__model__activation3=relu, basemodel__model__activation4=sigmoid, basemodel__model__dropout1=0.1, basemodel__model__dropout2=0.8725384261622334, basemodel__model__dropout3=0.9, basemodel__model__dropout4=0.38381565049248356, basemodel__model__layer1=512, basemodel__model__layer2=202, basemodel__model__layer3=47, basemodel__model__layer4=512, basemodel__model__learning_rate=0.000927585431815151, basemodel__model__optim=<class 'keras.optimizers.optimizer_v2.rmsprop.RMSprop'>, basemodel__validation_split=0.6204303068470289, clip_y=80, poly_degree=3, scaler=StandardScaler();, score=0.656 total time=   6.9s\n",
            "[CV 2/3] END basemodel__batch_size=510, basemodel__epochs=50, basemodel__model__activation1=relu, basemodel__model__activation2=tanh, basemodel__model__activation3=relu, basemodel__model__activation4=sigmoid, basemodel__model__dropout1=0.1, basemodel__model__dropout2=0.8725384261622334, basemodel__model__dropout3=0.9, basemodel__model__dropout4=0.38381565049248356, basemodel__model__layer1=512, basemodel__model__layer2=202, basemodel__model__layer3=47, basemodel__model__layer4=512, basemodel__model__learning_rate=0.000927585431815151, basemodel__model__optim=<class 'keras.optimizers.optimizer_v2.rmsprop.RMSprop'>, basemodel__validation_split=0.6204303068470289, clip_y=80, poly_degree=3, scaler=StandardScaler();, score=0.762 total time=  11.2s\n",
            "[CV 3/3] END basemodel__batch_size=510, basemodel__epochs=50, basemodel__model__activation1=relu, basemodel__model__activation2=tanh, basemodel__model__activation3=relu, basemodel__model__activation4=sigmoid, basemodel__model__dropout1=0.1, basemodel__model__dropout2=0.8725384261622334, basemodel__model__dropout3=0.9, basemodel__model__dropout4=0.38381565049248356, basemodel__model__layer1=512, basemodel__model__layer2=202, basemodel__model__layer3=47, basemodel__model__layer4=512, basemodel__model__learning_rate=0.000927585431815151, basemodel__model__optim=<class 'keras.optimizers.optimizer_v2.rmsprop.RMSprop'>, basemodel__validation_split=0.6204303068470289, clip_y=80, poly_degree=3, scaler=StandardScaler();, score=0.783 total time=   6.9s\n",
            "Fitting 3 folds for each of 1 candidates, totalling 3 fits\n",
            "[CV 1/3] END basemodel__batch_size=82, basemodel__epochs=50, basemodel__model__activation1=elu, basemodel__model__activation2=tanh, basemodel__model__activation3=elu, basemodel__model__activation4=selu, basemodel__model__dropout1=0.7441587843568679, basemodel__model__dropout2=0.3645558378590177, basemodel__model__dropout3=0.6586934324617153, basemodel__model__dropout4=0.5469337873176314, basemodel__model__layer1=501, basemodel__model__layer2=402, basemodel__model__layer3=16, basemodel__model__layer4=210, basemodel__model__learning_rate=0.0001, basemodel__model__optim=<class 'keras.optimizers.optimizer_v2.rmsprop.RMSprop'>, basemodel__validation_split=0.37160631330718485, clip_y=80, poly_degree=3, scaler=StandardScaler();, score=-0.039 total time=  31.5s\n",
            "[CV 2/3] END basemodel__batch_size=82, basemodel__epochs=50, basemodel__model__activation1=elu, basemodel__model__activation2=tanh, basemodel__model__activation3=elu, basemodel__model__activation4=selu, basemodel__model__dropout1=0.7441587843568679, basemodel__model__dropout2=0.3645558378590177, basemodel__model__dropout3=0.6586934324617153, basemodel__model__dropout4=0.5469337873176314, basemodel__model__layer1=501, basemodel__model__layer2=402, basemodel__model__layer3=16, basemodel__model__layer4=210, basemodel__model__learning_rate=0.0001, basemodel__model__optim=<class 'keras.optimizers.optimizer_v2.rmsprop.RMSprop'>, basemodel__validation_split=0.37160631330718485, clip_y=80, poly_degree=3, scaler=StandardScaler();, score=-0.341 total time=  42.7s\n",
            "[CV 3/3] END basemodel__batch_size=82, basemodel__epochs=50, basemodel__model__activation1=elu, basemodel__model__activation2=tanh, basemodel__model__activation3=elu, basemodel__model__activation4=selu, basemodel__model__dropout1=0.7441587843568679, basemodel__model__dropout2=0.3645558378590177, basemodel__model__dropout3=0.6586934324617153, basemodel__model__dropout4=0.5469337873176314, basemodel__model__layer1=501, basemodel__model__layer2=402, basemodel__model__layer3=16, basemodel__model__layer4=210, basemodel__model__learning_rate=0.0001, basemodel__model__optim=<class 'keras.optimizers.optimizer_v2.rmsprop.RMSprop'>, basemodel__validation_split=0.37160631330718485, clip_y=80, poly_degree=3, scaler=StandardScaler();, score=-0.235 total time=  42.3s\n",
            "Fitting 3 folds for each of 1 candidates, totalling 3 fits\n",
            "[CV 1/3] END basemodel__batch_size=117, basemodel__epochs=41, basemodel__model__activation1=relu, basemodel__model__activation2=sigmoid, basemodel__model__activation3=relu, basemodel__model__activation4=selu, basemodel__model__dropout1=0.8673612115492509, basemodel__model__dropout2=0.3036224090015459, basemodel__model__dropout3=0.3107422957963666, basemodel__model__dropout4=0.6432821711334743, basemodel__model__layer1=321, basemodel__model__layer2=375, basemodel__model__layer3=169, basemodel__model__layer4=91, basemodel__model__learning_rate=0.0023818285380211553, basemodel__model__optim=<class 'keras.optimizers.optimizer_v2.rmsprop.RMSprop'>, basemodel__validation_split=0.2994534669205602, clip_y=82, poly_degree=3, scaler=StandardScaler();, score=0.666 total time=  21.6s\n",
            "[CV 2/3] END basemodel__batch_size=117, basemodel__epochs=41, basemodel__model__activation1=relu, basemodel__model__activation2=sigmoid, basemodel__model__activation3=relu, basemodel__model__activation4=selu, basemodel__model__dropout1=0.8673612115492509, basemodel__model__dropout2=0.3036224090015459, basemodel__model__dropout3=0.3107422957963666, basemodel__model__dropout4=0.6432821711334743, basemodel__model__layer1=321, basemodel__model__layer2=375, basemodel__model__layer3=169, basemodel__model__layer4=91, basemodel__model__learning_rate=0.0023818285380211553, basemodel__model__optim=<class 'keras.optimizers.optimizer_v2.rmsprop.RMSprop'>, basemodel__validation_split=0.2994534669205602, clip_y=82, poly_degree=3, scaler=StandardScaler();, score=0.864 total time=  19.7s\n",
            "[CV 3/3] END basemodel__batch_size=117, basemodel__epochs=41, basemodel__model__activation1=relu, basemodel__model__activation2=sigmoid, basemodel__model__activation3=relu, basemodel__model__activation4=selu, basemodel__model__dropout1=0.8673612115492509, basemodel__model__dropout2=0.3036224090015459, basemodel__model__dropout3=0.3107422957963666, basemodel__model__dropout4=0.6432821711334743, basemodel__model__layer1=321, basemodel__model__layer2=375, basemodel__model__layer3=169, basemodel__model__layer4=91, basemodel__model__learning_rate=0.0023818285380211553, basemodel__model__optim=<class 'keras.optimizers.optimizer_v2.rmsprop.RMSprop'>, basemodel__validation_split=0.2994534669205602, clip_y=82, poly_degree=3, scaler=StandardScaler();, score=0.854 total time=  21.9s\n",
            "Fitting 3 folds for each of 1 candidates, totalling 3 fits\n",
            "[CV 1/3] END basemodel__batch_size=32, basemodel__epochs=47, basemodel__model__activation1=elu, basemodel__model__activation2=sigmoid, basemodel__model__activation3=elu, basemodel__model__activation4=relu, basemodel__model__dropout1=0.1, basemodel__model__dropout2=0.12334865387650097, basemodel__model__dropout3=0.8998550220135789, basemodel__model__dropout4=0.1901775415981316, basemodel__model__layer1=479, basemodel__model__layer2=16, basemodel__model__layer3=103, basemodel__model__layer4=16, basemodel__model__learning_rate=0.003385115905150943, basemodel__model__optim=<class 'keras.optimizers.optimizer_v2.adam.Adam'>, basemodel__validation_split=0.2966411540845244, clip_y=93, poly_degree=2, scaler=MinMaxScaler();, score=-0.003 total time=  42.4s\n",
            "[CV 2/3] END basemodel__batch_size=32, basemodel__epochs=47, basemodel__model__activation1=elu, basemodel__model__activation2=sigmoid, basemodel__model__activation3=elu, basemodel__model__activation4=relu, basemodel__model__dropout1=0.1, basemodel__model__dropout2=0.12334865387650097, basemodel__model__dropout3=0.8998550220135789, basemodel__model__dropout4=0.1901775415981316, basemodel__model__layer1=479, basemodel__model__layer2=16, basemodel__model__layer3=103, basemodel__model__layer4=16, basemodel__model__learning_rate=0.003385115905150943, basemodel__model__optim=<class 'keras.optimizers.optimizer_v2.adam.Adam'>, basemodel__validation_split=0.2966411540845244, clip_y=93, poly_degree=2, scaler=MinMaxScaler();, score=-0.000 total time=  42.4s\n",
            "[CV 3/3] END basemodel__batch_size=32, basemodel__epochs=47, basemodel__model__activation1=elu, basemodel__model__activation2=sigmoid, basemodel__model__activation3=elu, basemodel__model__activation4=relu, basemodel__model__dropout1=0.1, basemodel__model__dropout2=0.12334865387650097, basemodel__model__dropout3=0.8998550220135789, basemodel__model__dropout4=0.1901775415981316, basemodel__model__layer1=479, basemodel__model__layer2=16, basemodel__model__layer3=103, basemodel__model__layer4=16, basemodel__model__learning_rate=0.003385115905150943, basemodel__model__optim=<class 'keras.optimizers.optimizer_v2.adam.Adam'>, basemodel__validation_split=0.2966411540845244, clip_y=93, poly_degree=2, scaler=MinMaxScaler();, score=0.728 total time= 1.0min\n",
            "Fitting 3 folds for each of 1 candidates, totalling 3 fits\n",
            "[CV 1/3] END basemodel__batch_size=32, basemodel__epochs=50, basemodel__model__activation1=relu, basemodel__model__activation2=selu, basemodel__model__activation3=relu, basemodel__model__activation4=selu, basemodel__model__dropout1=0.8966036236054535, basemodel__model__dropout2=0.10005615213107953, basemodel__model__dropout3=0.3208935775758067, basemodel__model__dropout4=0.5255210154999589, basemodel__model__layer1=320, basemodel__model__layer2=345, basemodel__model__layer3=16, basemodel__model__layer4=64, basemodel__model__learning_rate=0.00019850302007125303, basemodel__model__optim=<class 'keras.optimizers.optimizer_v2.rmsprop.RMSprop'>, basemodel__validation_split=0.3845411398668347, clip_y=80, poly_degree=3, scaler=StandardScaler();, score=0.676 total time= 1.4min\n",
            "[CV 2/3] END basemodel__batch_size=32, basemodel__epochs=50, basemodel__model__activation1=relu, basemodel__model__activation2=selu, basemodel__model__activation3=relu, basemodel__model__activation4=selu, basemodel__model__dropout1=0.8966036236054535, basemodel__model__dropout2=0.10005615213107953, basemodel__model__dropout3=0.3208935775758067, basemodel__model__dropout4=0.5255210154999589, basemodel__model__layer1=320, basemodel__model__layer2=345, basemodel__model__layer3=16, basemodel__model__layer4=64, basemodel__model__learning_rate=0.00019850302007125303, basemodel__model__optim=<class 'keras.optimizers.optimizer_v2.rmsprop.RMSprop'>, basemodel__validation_split=0.3845411398668347, clip_y=80, poly_degree=3, scaler=StandardScaler();, score=0.554 total time= 1.4min\n",
            "[CV 3/3] END basemodel__batch_size=32, basemodel__epochs=50, basemodel__model__activation1=relu, basemodel__model__activation2=selu, basemodel__model__activation3=relu, basemodel__model__activation4=selu, basemodel__model__dropout1=0.8966036236054535, basemodel__model__dropout2=0.10005615213107953, basemodel__model__dropout3=0.3208935775758067, basemodel__model__dropout4=0.5255210154999589, basemodel__model__layer1=320, basemodel__model__layer2=345, basemodel__model__layer3=16, basemodel__model__layer4=64, basemodel__model__learning_rate=0.00019850302007125303, basemodel__model__optim=<class 'keras.optimizers.optimizer_v2.rmsprop.RMSprop'>, basemodel__validation_split=0.3845411398668347, clip_y=80, poly_degree=3, scaler=StandardScaler();, score=0.658 total time=  56.5s\n",
            "Fitting 3 folds for each of 1 candidates, totalling 3 fits\n",
            "[CV 1/3] END basemodel__batch_size=36, basemodel__epochs=50, basemodel__model__activation1=relu, basemodel__model__activation2=sigmoid, basemodel__model__activation3=selu, basemodel__model__activation4=selu, basemodel__model__dropout1=0.7453547530056507, basemodel__model__dropout2=0.13424422481387555, basemodel__model__dropout3=0.4475760731718994, basemodel__model__dropout4=0.5437237912461161, basemodel__model__layer1=356, basemodel__model__layer2=347, basemodel__model__layer3=16, basemodel__model__layer4=83, basemodel__model__learning_rate=0.0005540571496007878, basemodel__model__optim=<class 'keras.optimizers.optimizer_v2.rmsprop.RMSprop'>, basemodel__validation_split=0.38187380434564877, clip_y=86, poly_degree=3, scaler=StandardScaler();, score=0.856 total time= 1.4min\n",
            "[CV 2/3] END basemodel__batch_size=36, basemodel__epochs=50, basemodel__model__activation1=relu, basemodel__model__activation2=sigmoid, basemodel__model__activation3=selu, basemodel__model__activation4=selu, basemodel__model__dropout1=0.7453547530056507, basemodel__model__dropout2=0.13424422481387555, basemodel__model__dropout3=0.4475760731718994, basemodel__model__dropout4=0.5437237912461161, basemodel__model__layer1=356, basemodel__model__layer2=347, basemodel__model__layer3=16, basemodel__model__layer4=83, basemodel__model__learning_rate=0.0005540571496007878, basemodel__model__optim=<class 'keras.optimizers.optimizer_v2.rmsprop.RMSprop'>, basemodel__validation_split=0.38187380434564877, clip_y=86, poly_degree=3, scaler=StandardScaler();, score=0.843 total time= 1.2min\n",
            "[CV 3/3] END basemodel__batch_size=36, basemodel__epochs=50, basemodel__model__activation1=relu, basemodel__model__activation2=sigmoid, basemodel__model__activation3=selu, basemodel__model__activation4=selu, basemodel__model__dropout1=0.7453547530056507, basemodel__model__dropout2=0.13424422481387555, basemodel__model__dropout3=0.4475760731718994, basemodel__model__dropout4=0.5437237912461161, basemodel__model__layer1=356, basemodel__model__layer2=347, basemodel__model__layer3=16, basemodel__model__layer4=83, basemodel__model__learning_rate=0.0005540571496007878, basemodel__model__optim=<class 'keras.optimizers.optimizer_v2.rmsprop.RMSprop'>, basemodel__validation_split=0.38187380434564877, clip_y=86, poly_degree=3, scaler=StandardScaler();, score=0.822 total time= 1.4min\n",
            "Fitting 3 folds for each of 1 candidates, totalling 3 fits\n",
            "[CV 1/3] END basemodel__batch_size=94, basemodel__epochs=48, basemodel__model__activation1=relu, basemodel__model__activation2=sigmoid, basemodel__model__activation3=relu, basemodel__model__activation4=selu, basemodel__model__dropout1=0.7444334403888012, basemodel__model__dropout2=0.15601537400741466, basemodel__model__dropout3=0.40756533380836035, basemodel__model__dropout4=0.5481920565742117, basemodel__model__layer1=338, basemodel__model__layer2=349, basemodel__model__layer3=148, basemodel__model__layer4=138, basemodel__model__learning_rate=0.0023171596199635194, basemodel__model__optim=<class 'keras.optimizers.optimizer_v2.rmsprop.RMSprop'>, basemodel__validation_split=0.42086442824354997, clip_y=84, poly_degree=3, scaler=StandardScaler();, score=0.850 total time=  21.6s\n",
            "[CV 2/3] END basemodel__batch_size=94, basemodel__epochs=48, basemodel__model__activation1=relu, basemodel__model__activation2=sigmoid, basemodel__model__activation3=relu, basemodel__model__activation4=selu, basemodel__model__dropout1=0.7444334403888012, basemodel__model__dropout2=0.15601537400741466, basemodel__model__dropout3=0.40756533380836035, basemodel__model__dropout4=0.5481920565742117, basemodel__model__layer1=338, basemodel__model__layer2=349, basemodel__model__layer3=148, basemodel__model__layer4=138, basemodel__model__learning_rate=0.0023171596199635194, basemodel__model__optim=<class 'keras.optimizers.optimizer_v2.rmsprop.RMSprop'>, basemodel__validation_split=0.42086442824354997, clip_y=84, poly_degree=3, scaler=StandardScaler();, score=0.865 total time=  21.9s\n",
            "[CV 3/3] END basemodel__batch_size=94, basemodel__epochs=48, basemodel__model__activation1=relu, basemodel__model__activation2=sigmoid, basemodel__model__activation3=relu, basemodel__model__activation4=selu, basemodel__model__dropout1=0.7444334403888012, basemodel__model__dropout2=0.15601537400741466, basemodel__model__dropout3=0.40756533380836035, basemodel__model__dropout4=0.5481920565742117, basemodel__model__layer1=338, basemodel__model__layer2=349, basemodel__model__layer3=148, basemodel__model__layer4=138, basemodel__model__learning_rate=0.0023171596199635194, basemodel__model__optim=<class 'keras.optimizers.optimizer_v2.rmsprop.RMSprop'>, basemodel__validation_split=0.42086442824354997, clip_y=84, poly_degree=3, scaler=StandardScaler();, score=0.856 total time=  20.8s\n",
            "Fitting 3 folds for each of 1 candidates, totalling 3 fits\n",
            "[CV 1/3] END basemodel__batch_size=156, basemodel__epochs=45, basemodel__model__activation1=relu, basemodel__model__activation2=sigmoid, basemodel__model__activation3=elu, basemodel__model__activation4=selu, basemodel__model__dropout1=0.564392695450849, basemodel__model__dropout2=0.2100162285984012, basemodel__model__dropout3=0.5092284253197, basemodel__model__dropout4=0.4953914804181615, basemodel__model__layer1=293, basemodel__model__layer2=356, basemodel__model__layer3=416, basemodel__model__layer4=183, basemodel__model__learning_rate=0.004926408619525141, basemodel__model__optim=<class 'keras.optimizers.optimizer_v2.rmsprop.RMSprop'>, basemodel__validation_split=0.4503710248090912, clip_y=80, poly_degree=3, scaler=StandardScaler();, score=0.823 total time=  15.8s\n",
            "[CV 2/3] END basemodel__batch_size=156, basemodel__epochs=45, basemodel__model__activation1=relu, basemodel__model__activation2=sigmoid, basemodel__model__activation3=elu, basemodel__model__activation4=selu, basemodel__model__dropout1=0.564392695450849, basemodel__model__dropout2=0.2100162285984012, basemodel__model__dropout3=0.5092284253197, basemodel__model__dropout4=0.4953914804181615, basemodel__model__layer1=293, basemodel__model__layer2=356, basemodel__model__layer3=416, basemodel__model__layer4=183, basemodel__model__learning_rate=0.004926408619525141, basemodel__model__optim=<class 'keras.optimizers.optimizer_v2.rmsprop.RMSprop'>, basemodel__validation_split=0.4503710248090912, clip_y=80, poly_degree=3, scaler=StandardScaler();, score=0.810 total time=   9.6s\n",
            "[CV 3/3] END basemodel__batch_size=156, basemodel__epochs=45, basemodel__model__activation1=relu, basemodel__model__activation2=sigmoid, basemodel__model__activation3=elu, basemodel__model__activation4=selu, basemodel__model__dropout1=0.564392695450849, basemodel__model__dropout2=0.2100162285984012, basemodel__model__dropout3=0.5092284253197, basemodel__model__dropout4=0.4953914804181615, basemodel__model__layer1=293, basemodel__model__layer2=356, basemodel__model__layer3=416, basemodel__model__layer4=183, basemodel__model__learning_rate=0.004926408619525141, basemodel__model__optim=<class 'keras.optimizers.optimizer_v2.rmsprop.RMSprop'>, basemodel__validation_split=0.4503710248090912, clip_y=80, poly_degree=3, scaler=StandardScaler();, score=0.771 total time=  11.4s\n",
            "Fitting 3 folds for each of 1 candidates, totalling 3 fits\n",
            "[CV 1/3] END basemodel__batch_size=281, basemodel__epochs=50, basemodel__model__activation1=relu, basemodel__model__activation2=sigmoid, basemodel__model__activation3=elu, basemodel__model__activation4=selu, basemodel__model__dropout1=0.820579768143164, basemodel__model__dropout2=0.4399634816319693, basemodel__model__dropout3=0.13841359039185872, basemodel__model__dropout4=0.3386510034596689, basemodel__model__layer1=150, basemodel__model__layer2=354, basemodel__model__layer3=372, basemodel__model__layer4=28, basemodel__model__learning_rate=0.0021776922849998173, basemodel__model__optim=<class 'keras.optimizers.optimizer_v2.rmsprop.RMSprop'>, basemodel__validation_split=0.3883620080087766, clip_y=83, poly_degree=3, scaler=MinMaxScaler();, score=0.847 total time=  11.3s\n",
            "[CV 2/3] END basemodel__batch_size=281, basemodel__epochs=50, basemodel__model__activation1=relu, basemodel__model__activation2=sigmoid, basemodel__model__activation3=elu, basemodel__model__activation4=selu, basemodel__model__dropout1=0.820579768143164, basemodel__model__dropout2=0.4399634816319693, basemodel__model__dropout3=0.13841359039185872, basemodel__model__dropout4=0.3386510034596689, basemodel__model__layer1=150, basemodel__model__layer2=354, basemodel__model__layer3=372, basemodel__model__layer4=28, basemodel__model__learning_rate=0.0021776922849998173, basemodel__model__optim=<class 'keras.optimizers.optimizer_v2.rmsprop.RMSprop'>, basemodel__validation_split=0.3883620080087766, clip_y=83, poly_degree=3, scaler=MinMaxScaler();, score=0.851 total time=  10.7s\n",
            "[CV 3/3] END basemodel__batch_size=281, basemodel__epochs=50, basemodel__model__activation1=relu, basemodel__model__activation2=sigmoid, basemodel__model__activation3=elu, basemodel__model__activation4=selu, basemodel__model__dropout1=0.820579768143164, basemodel__model__dropout2=0.4399634816319693, basemodel__model__dropout3=0.13841359039185872, basemodel__model__dropout4=0.3386510034596689, basemodel__model__layer1=150, basemodel__model__layer2=354, basemodel__model__layer3=372, basemodel__model__layer4=28, basemodel__model__learning_rate=0.0021776922849998173, basemodel__model__optim=<class 'keras.optimizers.optimizer_v2.rmsprop.RMSprop'>, basemodel__validation_split=0.3883620080087766, clip_y=83, poly_degree=3, scaler=MinMaxScaler();, score=0.851 total time=  11.3s\n",
            "Fitting 3 folds for each of 1 candidates, totalling 3 fits\n",
            "[CV 1/3] END basemodel__batch_size=302, basemodel__epochs=50, basemodel__model__activation1=relu, basemodel__model__activation2=sigmoid, basemodel__model__activation3=elu, basemodel__model__activation4=selu, basemodel__model__dropout1=0.8732680018308262, basemodel__model__dropout2=0.1, basemodel__model__dropout3=0.23818971389813798, basemodel__model__dropout4=0.6917520498415798, basemodel__model__layer1=199, basemodel__model__layer2=349, basemodel__model__layer3=421, basemodel__model__layer4=275, basemodel__model__learning_rate=0.0046272852438754355, basemodel__model__optim=<class 'keras.optimizers.optimizer_v2.rmsprop.RMSprop'>, basemodel__validation_split=0.7868229953248876, clip_y=127, poly_degree=2, scaler=StandardScaler();, score=0.715 total time=  11.3s\n",
            "[CV 2/3] END basemodel__batch_size=302, basemodel__epochs=50, basemodel__model__activation1=relu, basemodel__model__activation2=sigmoid, basemodel__model__activation3=elu, basemodel__model__activation4=selu, basemodel__model__dropout1=0.8732680018308262, basemodel__model__dropout2=0.1, basemodel__model__dropout3=0.23818971389813798, basemodel__model__dropout4=0.6917520498415798, basemodel__model__layer1=199, basemodel__model__layer2=349, basemodel__model__layer3=421, basemodel__model__layer4=275, basemodel__model__learning_rate=0.0046272852438754355, basemodel__model__optim=<class 'keras.optimizers.optimizer_v2.rmsprop.RMSprop'>, basemodel__validation_split=0.7868229953248876, clip_y=127, poly_degree=2, scaler=StandardScaler();, score=0.774 total time=  11.3s\n",
            "[CV 3/3] END basemodel__batch_size=302, basemodel__epochs=50, basemodel__model__activation1=relu, basemodel__model__activation2=sigmoid, basemodel__model__activation3=elu, basemodel__model__activation4=selu, basemodel__model__dropout1=0.8732680018308262, basemodel__model__dropout2=0.1, basemodel__model__dropout3=0.23818971389813798, basemodel__model__dropout4=0.6917520498415798, basemodel__model__layer1=199, basemodel__model__layer2=349, basemodel__model__layer3=421, basemodel__model__layer4=275, basemodel__model__learning_rate=0.0046272852438754355, basemodel__model__optim=<class 'keras.optimizers.optimizer_v2.rmsprop.RMSprop'>, basemodel__validation_split=0.7868229953248876, clip_y=127, poly_degree=2, scaler=StandardScaler();, score=0.746 total time=   5.3s\n",
            "Fitting 3 folds for each of 1 candidates, totalling 3 fits\n",
            "[CV 1/3] END basemodel__batch_size=457, basemodel__epochs=33, basemodel__model__activation1=relu, basemodel__model__activation2=sigmoid, basemodel__model__activation3=relu, basemodel__model__activation4=selu, basemodel__model__dropout1=0.3118525048518289, basemodel__model__dropout2=0.18929356700622896, basemodel__model__dropout3=0.1177628325643464, basemodel__model__dropout4=0.7991002502426, basemodel__model__layer1=456, basemodel__model__layer2=353, basemodel__model__layer3=320, basemodel__model__layer4=313, basemodel__model__learning_rate=0.0018431635743136304, basemodel__model__optim=<class 'keras.optimizers.optimizer_v2.rmsprop.RMSprop'>, basemodel__validation_split=0.4633838041251427, clip_y=80, poly_degree=3, scaler=StandardScaler();, score=0.858 total time=   6.2s\n",
            "[CV 2/3] END basemodel__batch_size=457, basemodel__epochs=33, basemodel__model__activation1=relu, basemodel__model__activation2=sigmoid, basemodel__model__activation3=relu, basemodel__model__activation4=selu, basemodel__model__dropout1=0.3118525048518289, basemodel__model__dropout2=0.18929356700622896, basemodel__model__dropout3=0.1177628325643464, basemodel__model__dropout4=0.7991002502426, basemodel__model__layer1=456, basemodel__model__layer2=353, basemodel__model__layer3=320, basemodel__model__layer4=313, basemodel__model__learning_rate=0.0018431635743136304, basemodel__model__optim=<class 'keras.optimizers.optimizer_v2.rmsprop.RMSprop'>, basemodel__validation_split=0.4633838041251427, clip_y=80, poly_degree=3, scaler=StandardScaler();, score=0.859 total time=   5.4s\n",
            "[CV 3/3] END basemodel__batch_size=457, basemodel__epochs=33, basemodel__model__activation1=relu, basemodel__model__activation2=sigmoid, basemodel__model__activation3=relu, basemodel__model__activation4=selu, basemodel__model__dropout1=0.3118525048518289, basemodel__model__dropout2=0.18929356700622896, basemodel__model__dropout3=0.1177628325643464, basemodel__model__dropout4=0.7991002502426, basemodel__model__layer1=456, basemodel__model__layer2=353, basemodel__model__layer3=320, basemodel__model__layer4=313, basemodel__model__learning_rate=0.0018431635743136304, basemodel__model__optim=<class 'keras.optimizers.optimizer_v2.rmsprop.RMSprop'>, basemodel__validation_split=0.4633838041251427, clip_y=80, poly_degree=3, scaler=StandardScaler();, score=0.833 total time=   6.2s\n",
            "Fitting 3 folds for each of 1 candidates, totalling 3 fits\n",
            "[CV 1/3] END basemodel__batch_size=109, basemodel__epochs=50, basemodel__model__activation1=relu, basemodel__model__activation2=sigmoid, basemodel__model__activation3=elu, basemodel__model__activation4=selu, basemodel__model__dropout1=0.27932607046214597, basemodel__model__dropout2=0.16437318097150172, basemodel__model__dropout3=0.1, basemodel__model__dropout4=0.8090144413055699, basemodel__model__layer1=502, basemodel__model__layer2=354, basemodel__model__layer3=108, basemodel__model__layer4=140, basemodel__model__learning_rate=0.00042225256639711565, basemodel__model__optim=<class 'keras.optimizers.optimizer_v2.rmsprop.RMSprop'>, basemodel__validation_split=0.2344665190357421, clip_y=80, poly_degree=3, scaler=StandardScaler();, score=0.809 total time=  13.7s\n",
            "[CV 2/3] END basemodel__batch_size=109, basemodel__epochs=50, basemodel__model__activation1=relu, basemodel__model__activation2=sigmoid, basemodel__model__activation3=elu, basemodel__model__activation4=selu, basemodel__model__dropout1=0.27932607046214597, basemodel__model__dropout2=0.16437318097150172, basemodel__model__dropout3=0.1, basemodel__model__dropout4=0.8090144413055699, basemodel__model__layer1=502, basemodel__model__layer2=354, basemodel__model__layer3=108, basemodel__model__layer4=140, basemodel__model__learning_rate=0.00042225256639711565, basemodel__model__optim=<class 'keras.optimizers.optimizer_v2.rmsprop.RMSprop'>, basemodel__validation_split=0.2344665190357421, clip_y=80, poly_degree=3, scaler=StandardScaler();, score=0.877 total time=  16.4s\n",
            "[CV 3/3] END basemodel__batch_size=109, basemodel__epochs=50, basemodel__model__activation1=relu, basemodel__model__activation2=sigmoid, basemodel__model__activation3=elu, basemodel__model__activation4=selu, basemodel__model__dropout1=0.27932607046214597, basemodel__model__dropout2=0.16437318097150172, basemodel__model__dropout3=0.1, basemodel__model__dropout4=0.8090144413055699, basemodel__model__layer1=502, basemodel__model__layer2=354, basemodel__model__layer3=108, basemodel__model__layer4=140, basemodel__model__learning_rate=0.00042225256639711565, basemodel__model__optim=<class 'keras.optimizers.optimizer_v2.rmsprop.RMSprop'>, basemodel__validation_split=0.2344665190357421, clip_y=80, poly_degree=3, scaler=StandardScaler();, score=0.827 total time=  20.0s\n",
            "Fitting 3 folds for each of 1 candidates, totalling 3 fits\n",
            "[CV 1/3] END basemodel__batch_size=446, basemodel__epochs=38, basemodel__model__activation1=relu, basemodel__model__activation2=sigmoid, basemodel__model__activation3=selu, basemodel__model__activation4=selu, basemodel__model__dropout1=0.3321118393331495, basemodel__model__dropout2=0.1441542294438059, basemodel__model__dropout3=0.3150517874462453, basemodel__model__dropout4=0.7545471078373284, basemodel__model__layer1=476, basemodel__model__layer2=350, basemodel__model__layer3=71, basemodel__model__layer4=467, basemodel__model__learning_rate=0.0001, basemodel__model__optim=<class 'keras.optimizers.optimizer_v2.rmsprop.RMSprop'>, basemodel__validation_split=0.603156136137043, clip_y=80, poly_degree=3, scaler=MinMaxScaler();, score=0.783 total time=   6.0s\n",
            "[CV 2/3] END basemodel__batch_size=446, basemodel__epochs=38, basemodel__model__activation1=relu, basemodel__model__activation2=sigmoid, basemodel__model__activation3=selu, basemodel__model__activation4=selu, basemodel__model__dropout1=0.3321118393331495, basemodel__model__dropout2=0.1441542294438059, basemodel__model__dropout3=0.3150517874462453, basemodel__model__dropout4=0.7545471078373284, basemodel__model__layer1=476, basemodel__model__layer2=350, basemodel__model__layer3=71, basemodel__model__layer4=467, basemodel__model__learning_rate=0.0001, basemodel__model__optim=<class 'keras.optimizers.optimizer_v2.rmsprop.RMSprop'>, basemodel__validation_split=0.603156136137043, clip_y=80, poly_degree=3, scaler=MinMaxScaler();, score=0.721 total time=   6.1s\n",
            "[CV 3/3] END basemodel__batch_size=446, basemodel__epochs=38, basemodel__model__activation1=relu, basemodel__model__activation2=sigmoid, basemodel__model__activation3=selu, basemodel__model__activation4=selu, basemodel__model__dropout1=0.3321118393331495, basemodel__model__dropout2=0.1441542294438059, basemodel__model__dropout3=0.3150517874462453, basemodel__model__dropout4=0.7545471078373284, basemodel__model__layer1=476, basemodel__model__layer2=350, basemodel__model__layer3=71, basemodel__model__layer4=467, basemodel__model__learning_rate=0.0001, basemodel__model__optim=<class 'keras.optimizers.optimizer_v2.rmsprop.RMSprop'>, basemodel__validation_split=0.603156136137043, clip_y=80, poly_degree=3, scaler=MinMaxScaler();, score=0.733 total time=   6.2s\n",
            "Fitting 3 folds for each of 1 candidates, totalling 3 fits\n",
            "[CV 1/3] END basemodel__batch_size=313, basemodel__epochs=10, basemodel__model__activation1=relu, basemodel__model__activation2=sigmoid, basemodel__model__activation3=relu, basemodel__model__activation4=selu, basemodel__model__dropout1=0.8759919520532808, basemodel__model__dropout2=0.49640977422510724, basemodel__model__dropout3=0.20987852533683915, basemodel__model__dropout4=0.5005706312901615, basemodel__model__layer1=138, basemodel__model__layer2=350, basemodel__model__layer3=388, basemodel__model__layer4=29, basemodel__model__learning_rate=0.0031575518170203196, basemodel__model__optim=<class 'keras.optimizers.optimizer_v2.rmsprop.RMSprop'>, basemodel__validation_split=0.6772435756232975, clip_y=80, poly_degree=3, scaler=StandardScaler();, score=0.836 total time=   3.0s\n",
            "[CV 2/3] END basemodel__batch_size=313, basemodel__epochs=10, basemodel__model__activation1=relu, basemodel__model__activation2=sigmoid, basemodel__model__activation3=relu, basemodel__model__activation4=selu, basemodel__model__dropout1=0.8759919520532808, basemodel__model__dropout2=0.49640977422510724, basemodel__model__dropout3=0.20987852533683915, basemodel__model__dropout4=0.5005706312901615, basemodel__model__layer1=138, basemodel__model__layer2=350, basemodel__model__layer3=388, basemodel__model__layer4=29, basemodel__model__learning_rate=0.0031575518170203196, basemodel__model__optim=<class 'keras.optimizers.optimizer_v2.rmsprop.RMSprop'>, basemodel__validation_split=0.6772435756232975, clip_y=80, poly_degree=3, scaler=StandardScaler();, score=0.743 total time=   3.3s\n",
            "[CV 3/3] END basemodel__batch_size=313, basemodel__epochs=10, basemodel__model__activation1=relu, basemodel__model__activation2=sigmoid, basemodel__model__activation3=relu, basemodel__model__activation4=selu, basemodel__model__dropout1=0.8759919520532808, basemodel__model__dropout2=0.49640977422510724, basemodel__model__dropout3=0.20987852533683915, basemodel__model__dropout4=0.5005706312901615, basemodel__model__layer1=138, basemodel__model__layer2=350, basemodel__model__layer3=388, basemodel__model__layer4=29, basemodel__model__learning_rate=0.0031575518170203196, basemodel__model__optim=<class 'keras.optimizers.optimizer_v2.rmsprop.RMSprop'>, basemodel__validation_split=0.6772435756232975, clip_y=80, poly_degree=3, scaler=StandardScaler();, score=0.809 total time=   3.7s\n",
            "Fitting 3 folds for each of 1 candidates, totalling 3 fits\n",
            "[CV 1/3] END basemodel__batch_size=153, basemodel__epochs=48, basemodel__model__activation1=relu, basemodel__model__activation2=sigmoid, basemodel__model__activation3=sigmoid, basemodel__model__activation4=selu, basemodel__model__dropout1=0.7560038756482684, basemodel__model__dropout2=0.5551089303763861, basemodel__model__dropout3=0.1, basemodel__model__dropout4=0.3811416951360026, basemodel__model__layer1=307, basemodel__model__layer2=353, basemodel__model__layer3=296, basemodel__model__layer4=42, basemodel__model__learning_rate=0.00457941273670505, basemodel__model__optim=<class 'keras.optimizers.optimizer_v2.rmsprop.RMSprop'>, basemodel__validation_split=0.7491559770084312, clip_y=83, poly_degree=3, scaler=MinMaxScaler();, score=0.845 total time=  21.5s\n",
            "[CV 2/3] END basemodel__batch_size=153, basemodel__epochs=48, basemodel__model__activation1=relu, basemodel__model__activation2=sigmoid, basemodel__model__activation3=sigmoid, basemodel__model__activation4=selu, basemodel__model__dropout1=0.7560038756482684, basemodel__model__dropout2=0.5551089303763861, basemodel__model__dropout3=0.1, basemodel__model__dropout4=0.3811416951360026, basemodel__model__layer1=307, basemodel__model__layer2=353, basemodel__model__layer3=296, basemodel__model__layer4=42, basemodel__model__learning_rate=0.00457941273670505, basemodel__model__optim=<class 'keras.optimizers.optimizer_v2.rmsprop.RMSprop'>, basemodel__validation_split=0.7491559770084312, clip_y=83, poly_degree=3, scaler=MinMaxScaler();, score=0.836 total time=  14.6s\n",
            "[CV 3/3] END basemodel__batch_size=153, basemodel__epochs=48, basemodel__model__activation1=relu, basemodel__model__activation2=sigmoid, basemodel__model__activation3=sigmoid, basemodel__model__activation4=selu, basemodel__model__dropout1=0.7560038756482684, basemodel__model__dropout2=0.5551089303763861, basemodel__model__dropout3=0.1, basemodel__model__dropout4=0.3811416951360026, basemodel__model__layer1=307, basemodel__model__layer2=353, basemodel__model__layer3=296, basemodel__model__layer4=42, basemodel__model__learning_rate=0.00457941273670505, basemodel__model__optim=<class 'keras.optimizers.optimizer_v2.rmsprop.RMSprop'>, basemodel__validation_split=0.7491559770084312, clip_y=83, poly_degree=3, scaler=MinMaxScaler();, score=0.757 total time=  11.3s\n",
            "Fitting 3 folds for each of 1 candidates, totalling 3 fits\n",
            "[CV 1/3] END basemodel__batch_size=482, basemodel__epochs=11, basemodel__model__activation1=relu, basemodel__model__activation2=sigmoid, basemodel__model__activation3=selu, basemodel__model__activation4=selu, basemodel__model__dropout1=0.9, basemodel__model__dropout2=0.3550369181870402, basemodel__model__dropout3=0.19971827251402807, basemodel__model__dropout4=0.36923356287272024, basemodel__model__layer1=465, basemodel__model__layer2=350, basemodel__model__layer3=84, basemodel__model__layer4=296, basemodel__model__learning_rate=0.008586925740600406, basemodel__model__optim=<class 'keras.optimizers.optimizer_v2.rmsprop.RMSprop'>, basemodel__validation_split=0.7543587761954562, clip_y=118, poly_degree=3, scaler=StandardScaler();, score=0.650 total time=   2.6s\n",
            "[CV 2/3] END basemodel__batch_size=482, basemodel__epochs=11, basemodel__model__activation1=relu, basemodel__model__activation2=sigmoid, basemodel__model__activation3=selu, basemodel__model__activation4=selu, basemodel__model__dropout1=0.9, basemodel__model__dropout2=0.3550369181870402, basemodel__model__dropout3=0.19971827251402807, basemodel__model__dropout4=0.36923356287272024, basemodel__model__layer1=465, basemodel__model__layer2=350, basemodel__model__layer3=84, basemodel__model__layer4=296, basemodel__model__learning_rate=0.008586925740600406, basemodel__model__optim=<class 'keras.optimizers.optimizer_v2.rmsprop.RMSprop'>, basemodel__validation_split=0.7543587761954562, clip_y=118, poly_degree=3, scaler=StandardScaler();, score=0.766 total time=   2.3s\n",
            "[CV 3/3] END basemodel__batch_size=482, basemodel__epochs=11, basemodel__model__activation1=relu, basemodel__model__activation2=sigmoid, basemodel__model__activation3=selu, basemodel__model__activation4=selu, basemodel__model__dropout1=0.9, basemodel__model__dropout2=0.3550369181870402, basemodel__model__dropout3=0.19971827251402807, basemodel__model__dropout4=0.36923356287272024, basemodel__model__layer1=465, basemodel__model__layer2=350, basemodel__model__layer3=84, basemodel__model__layer4=296, basemodel__model__learning_rate=0.008586925740600406, basemodel__model__optim=<class 'keras.optimizers.optimizer_v2.rmsprop.RMSprop'>, basemodel__validation_split=0.7543587761954562, clip_y=118, poly_degree=3, scaler=StandardScaler();, score=0.788 total time=   2.0s\n",
            "Fitting 3 folds for each of 1 candidates, totalling 3 fits\n",
            "[CV 1/3] END basemodel__batch_size=195, basemodel__epochs=12, basemodel__model__activation1=relu, basemodel__model__activation2=sigmoid, basemodel__model__activation3=elu, basemodel__model__activation4=selu, basemodel__model__dropout1=0.576590878916881, basemodel__model__dropout2=0.3304949196090986, basemodel__model__dropout3=0.10208584703808504, basemodel__model__dropout4=0.6749277751246333, basemodel__model__layer1=376, basemodel__model__layer2=353, basemodel__model__layer3=276, basemodel__model__layer4=192, basemodel__model__learning_rate=0.009400432925785353, basemodel__model__optim=<class 'keras.optimizers.optimizer_v2.rmsprop.RMSprop'>, basemodel__validation_split=0.10101351457871711, clip_y=98, poly_degree=3, scaler=StandardScaler();, score=0.838 total time=   6.3s\n",
            "[CV 2/3] END basemodel__batch_size=195, basemodel__epochs=12, basemodel__model__activation1=relu, basemodel__model__activation2=sigmoid, basemodel__model__activation3=elu, basemodel__model__activation4=selu, basemodel__model__dropout1=0.576590878916881, basemodel__model__dropout2=0.3304949196090986, basemodel__model__dropout3=0.10208584703808504, basemodel__model__dropout4=0.6749277751246333, basemodel__model__layer1=376, basemodel__model__layer2=353, basemodel__model__layer3=276, basemodel__model__layer4=192, basemodel__model__learning_rate=0.009400432925785353, basemodel__model__optim=<class 'keras.optimizers.optimizer_v2.rmsprop.RMSprop'>, basemodel__validation_split=0.10101351457871711, clip_y=98, poly_degree=3, scaler=StandardScaler();, score=0.754 total time=   6.2s\n",
            "[CV 3/3] END basemodel__batch_size=195, basemodel__epochs=12, basemodel__model__activation1=relu, basemodel__model__activation2=sigmoid, basemodel__model__activation3=elu, basemodel__model__activation4=selu, basemodel__model__dropout1=0.576590878916881, basemodel__model__dropout2=0.3304949196090986, basemodel__model__dropout3=0.10208584703808504, basemodel__model__dropout4=0.6749277751246333, basemodel__model__layer1=376, basemodel__model__layer2=353, basemodel__model__layer3=276, basemodel__model__layer4=192, basemodel__model__learning_rate=0.009400432925785353, basemodel__model__optim=<class 'keras.optimizers.optimizer_v2.rmsprop.RMSprop'>, basemodel__validation_split=0.10101351457871711, clip_y=98, poly_degree=3, scaler=StandardScaler();, score=0.505 total time=   6.2s\n",
            "Fitting 3 folds for each of 1 candidates, totalling 3 fits\n",
            "[CV 1/3] END basemodel__batch_size=305, basemodel__epochs=50, basemodel__model__activation1=relu, basemodel__model__activation2=sigmoid, basemodel__model__activation3=relu, basemodel__model__activation4=selu, basemodel__model__dropout1=0.8431083914700483, basemodel__model__dropout2=0.5336071901989975, basemodel__model__dropout3=0.36102723799119585, basemodel__model__dropout4=0.8499982348249553, basemodel__model__layer1=286, basemodel__model__layer2=352, basemodel__model__layer3=182, basemodel__model__layer4=441, basemodel__model__learning_rate=0.00188709865704401, basemodel__model__optim=<class 'keras.optimizers.optimizer_v2.rmsprop.RMSprop'>, basemodel__validation_split=0.832473293859424, clip_y=80, poly_degree=3, scaler=StandardScaler();, score=0.821 total time=  11.3s\n",
            "[CV 2/3] END basemodel__batch_size=305, basemodel__epochs=50, basemodel__model__activation1=relu, basemodel__model__activation2=sigmoid, basemodel__model__activation3=relu, basemodel__model__activation4=selu, basemodel__model__dropout1=0.8431083914700483, basemodel__model__dropout2=0.5336071901989975, basemodel__model__dropout3=0.36102723799119585, basemodel__model__dropout4=0.8499982348249553, basemodel__model__layer1=286, basemodel__model__layer2=352, basemodel__model__layer3=182, basemodel__model__layer4=441, basemodel__model__learning_rate=0.00188709865704401, basemodel__model__optim=<class 'keras.optimizers.optimizer_v2.rmsprop.RMSprop'>, basemodel__validation_split=0.832473293859424, clip_y=80, poly_degree=3, scaler=StandardScaler();, score=0.734 total time=   3.2s\n",
            "[CV 3/3] END basemodel__batch_size=305, basemodel__epochs=50, basemodel__model__activation1=relu, basemodel__model__activation2=sigmoid, basemodel__model__activation3=relu, basemodel__model__activation4=selu, basemodel__model__dropout1=0.8431083914700483, basemodel__model__dropout2=0.5336071901989975, basemodel__model__dropout3=0.36102723799119585, basemodel__model__dropout4=0.8499982348249553, basemodel__model__layer1=286, basemodel__model__layer2=352, basemodel__model__layer3=182, basemodel__model__layer4=441, basemodel__model__learning_rate=0.00188709865704401, basemodel__model__optim=<class 'keras.optimizers.optimizer_v2.rmsprop.RMSprop'>, basemodel__validation_split=0.832473293859424, clip_y=80, poly_degree=3, scaler=StandardScaler();, score=0.785 total time=   4.9s\n",
            "Fitting 3 folds for each of 1 candidates, totalling 3 fits\n",
            "[CV 1/3] END basemodel__batch_size=493, basemodel__epochs=7, basemodel__model__activation1=relu, basemodel__model__activation2=sigmoid, basemodel__model__activation3=sigmoid, basemodel__model__activation4=selu, basemodel__model__dropout1=0.6917880876372231, basemodel__model__dropout2=0.6182118543455094, basemodel__model__dropout3=0.5326349345650171, basemodel__model__dropout4=0.6259570074073955, basemodel__model__layer1=472, basemodel__model__layer2=353, basemodel__model__layer3=512, basemodel__model__layer4=16, basemodel__model__learning_rate=0.002555182518106722, basemodel__model__optim=<class 'keras.optimizers.optimizer_v2.rmsprop.RMSprop'>, basemodel__validation_split=0.1, clip_y=105, poly_degree=2, scaler=MinMaxScaler();, score=0.558 total time=   2.3s\n",
            "[CV 2/3] END basemodel__batch_size=493, basemodel__epochs=7, basemodel__model__activation1=relu, basemodel__model__activation2=sigmoid, basemodel__model__activation3=sigmoid, basemodel__model__activation4=selu, basemodel__model__dropout1=0.6917880876372231, basemodel__model__dropout2=0.6182118543455094, basemodel__model__dropout3=0.5326349345650171, basemodel__model__dropout4=0.6259570074073955, basemodel__model__layer1=472, basemodel__model__layer2=353, basemodel__model__layer3=512, basemodel__model__layer4=16, basemodel__model__learning_rate=0.002555182518106722, basemodel__model__optim=<class 'keras.optimizers.optimizer_v2.rmsprop.RMSprop'>, basemodel__validation_split=0.1, clip_y=105, poly_degree=2, scaler=MinMaxScaler();, score=0.785 total time=   2.3s\n",
            "[CV 3/3] END basemodel__batch_size=493, basemodel__epochs=7, basemodel__model__activation1=relu, basemodel__model__activation2=sigmoid, basemodel__model__activation3=sigmoid, basemodel__model__activation4=selu, basemodel__model__dropout1=0.6917880876372231, basemodel__model__dropout2=0.6182118543455094, basemodel__model__dropout3=0.5326349345650171, basemodel__model__dropout4=0.6259570074073955, basemodel__model__layer1=472, basemodel__model__layer2=353, basemodel__model__layer3=512, basemodel__model__layer4=16, basemodel__model__learning_rate=0.002555182518106722, basemodel__model__optim=<class 'keras.optimizers.optimizer_v2.rmsprop.RMSprop'>, basemodel__validation_split=0.1, clip_y=105, poly_degree=2, scaler=MinMaxScaler();, score=0.688 total time=   2.6s\n",
            "Fitting 3 folds for each of 1 candidates, totalling 3 fits\n",
            "[CV 1/3] END basemodel__batch_size=80, basemodel__epochs=47, basemodel__model__activation1=relu, basemodel__model__activation2=sigmoid, basemodel__model__activation3=selu, basemodel__model__activation4=selu, basemodel__model__dropout1=0.45421862100325916, basemodel__model__dropout2=0.1, basemodel__model__dropout3=0.2634785133099045, basemodel__model__dropout4=0.15358903018350342, basemodel__model__layer1=342, basemodel__model__layer2=355, basemodel__model__layer3=432, basemodel__model__layer4=119, basemodel__model__learning_rate=0.0007075986105239758, basemodel__model__optim=<class 'keras.optimizers.optimizer_v2.rmsprop.RMSprop'>, basemodel__validation_split=0.873767684605454, clip_y=80, poly_degree=3, scaler=StandardScaler();, score=0.772 total time=  42.2s\n",
            "[CV 2/3] END basemodel__batch_size=80, basemodel__epochs=47, basemodel__model__activation1=relu, basemodel__model__activation2=sigmoid, basemodel__model__activation3=selu, basemodel__model__activation4=selu, basemodel__model__dropout1=0.45421862100325916, basemodel__model__dropout2=0.1, basemodel__model__dropout3=0.2634785133099045, basemodel__model__dropout4=0.15358903018350342, basemodel__model__layer1=342, basemodel__model__layer2=355, basemodel__model__layer3=432, basemodel__model__layer4=119, basemodel__model__learning_rate=0.0007075986105239758, basemodel__model__optim=<class 'keras.optimizers.optimizer_v2.rmsprop.RMSprop'>, basemodel__validation_split=0.873767684605454, clip_y=80, poly_degree=3, scaler=StandardScaler();, score=0.754 total time=  42.2s\n",
            "[CV 3/3] END basemodel__batch_size=80, basemodel__epochs=47, basemodel__model__activation1=relu, basemodel__model__activation2=sigmoid, basemodel__model__activation3=selu, basemodel__model__activation4=selu, basemodel__model__dropout1=0.45421862100325916, basemodel__model__dropout2=0.1, basemodel__model__dropout3=0.2634785133099045, basemodel__model__dropout4=0.15358903018350342, basemodel__model__layer1=342, basemodel__model__layer2=355, basemodel__model__layer3=432, basemodel__model__layer4=119, basemodel__model__learning_rate=0.0007075986105239758, basemodel__model__optim=<class 'keras.optimizers.optimizer_v2.rmsprop.RMSprop'>, basemodel__validation_split=0.873767684605454, clip_y=80, poly_degree=3, scaler=StandardScaler();, score=0.690 total time=  21.8s\n",
            "Fitting 3 folds for each of 1 candidates, totalling 3 fits\n",
            "[CV 1/3] END basemodel__batch_size=512, basemodel__epochs=38, basemodel__model__activation1=relu, basemodel__model__activation2=sigmoid, basemodel__model__activation3=tanh, basemodel__model__activation4=selu, basemodel__model__dropout1=0.5348159462633166, basemodel__model__dropout2=0.2759551048567658, basemodel__model__dropout3=0.35120421056973994, basemodel__model__dropout4=0.9, basemodel__model__layer1=174, basemodel__model__layer2=350, basemodel__model__layer3=69, basemodel__model__layer4=194, basemodel__model__learning_rate=0.005829886937384323, basemodel__model__optim=<class 'keras.optimizers.optimizer_v2.rmsprop.RMSprop'>, basemodel__validation_split=0.5939230202665272, clip_y=80, poly_degree=3, scaler=MinMaxScaler();, score=0.815 total time=   6.1s\n",
            "[CV 2/3] END basemodel__batch_size=512, basemodel__epochs=38, basemodel__model__activation1=relu, basemodel__model__activation2=sigmoid, basemodel__model__activation3=tanh, basemodel__model__activation4=selu, basemodel__model__dropout1=0.5348159462633166, basemodel__model__dropout2=0.2759551048567658, basemodel__model__dropout3=0.35120421056973994, basemodel__model__dropout4=0.9, basemodel__model__layer1=174, basemodel__model__layer2=350, basemodel__model__layer3=69, basemodel__model__layer4=194, basemodel__model__learning_rate=0.005829886937384323, basemodel__model__optim=<class 'keras.optimizers.optimizer_v2.rmsprop.RMSprop'>, basemodel__validation_split=0.5939230202665272, clip_y=80, poly_degree=3, scaler=MinMaxScaler();, score=0.814 total time=   4.6s\n",
            "[CV 3/3] END basemodel__batch_size=512, basemodel__epochs=38, basemodel__model__activation1=relu, basemodel__model__activation2=sigmoid, basemodel__model__activation3=tanh, basemodel__model__activation4=selu, basemodel__model__dropout1=0.5348159462633166, basemodel__model__dropout2=0.2759551048567658, basemodel__model__dropout3=0.35120421056973994, basemodel__model__dropout4=0.9, basemodel__model__layer1=174, basemodel__model__layer2=350, basemodel__model__layer3=69, basemodel__model__layer4=194, basemodel__model__learning_rate=0.005829886937384323, basemodel__model__optim=<class 'keras.optimizers.optimizer_v2.rmsprop.RMSprop'>, basemodel__validation_split=0.5939230202665272, clip_y=80, poly_degree=3, scaler=MinMaxScaler();, score=0.768 total time=   4.6s\n",
            "Fitting 3 folds for each of 1 candidates, totalling 3 fits\n",
            "[CV 1/3] END basemodel__batch_size=239, basemodel__epochs=50, basemodel__model__activation1=relu, basemodel__model__activation2=sigmoid, basemodel__model__activation3=relu, basemodel__model__activation4=selu, basemodel__model__dropout1=0.7936643668105233, basemodel__model__dropout2=0.4524278044468971, basemodel__model__dropout3=0.168088768401773, basemodel__model__dropout4=0.6607858053386477, basemodel__model__layer1=352, basemodel__model__layer2=356, basemodel__model__layer3=385, basemodel__model__layer4=94, basemodel__model__learning_rate=0.001651232185972976, basemodel__model__optim=<class 'keras.optimizers.optimizer_v2.rmsprop.RMSprop'>, basemodel__validation_split=0.42925074543755903, clip_y=90, poly_degree=3, scaler=StandardScaler();, score=0.864 total time=  11.3s\n",
            "[CV 2/3] END basemodel__batch_size=239, basemodel__epochs=50, basemodel__model__activation1=relu, basemodel__model__activation2=sigmoid, basemodel__model__activation3=relu, basemodel__model__activation4=selu, basemodel__model__dropout1=0.7936643668105233, basemodel__model__dropout2=0.4524278044468971, basemodel__model__dropout3=0.168088768401773, basemodel__model__dropout4=0.6607858053386477, basemodel__model__layer1=352, basemodel__model__layer2=356, basemodel__model__layer3=385, basemodel__model__layer4=94, basemodel__model__learning_rate=0.001651232185972976, basemodel__model__optim=<class 'keras.optimizers.optimizer_v2.rmsprop.RMSprop'>, basemodel__validation_split=0.42925074543755903, clip_y=90, poly_degree=3, scaler=StandardScaler();, score=0.814 total time=   6.8s\n",
            "[CV 3/3] END basemodel__batch_size=239, basemodel__epochs=50, basemodel__model__activation1=relu, basemodel__model__activation2=sigmoid, basemodel__model__activation3=relu, basemodel__model__activation4=selu, basemodel__model__dropout1=0.7936643668105233, basemodel__model__dropout2=0.4524278044468971, basemodel__model__dropout3=0.168088768401773, basemodel__model__dropout4=0.6607858053386477, basemodel__model__layer1=352, basemodel__model__layer2=356, basemodel__model__layer3=385, basemodel__model__layer4=94, basemodel__model__learning_rate=0.001651232185972976, basemodel__model__optim=<class 'keras.optimizers.optimizer_v2.rmsprop.RMSprop'>, basemodel__validation_split=0.42925074543755903, clip_y=90, poly_degree=3, scaler=StandardScaler();, score=0.868 total time=  11.3s\n",
            "Finished: 2022-10-23 20:03:11.278351\n"
          ]
        }
      ]
    },
    {
      "cell_type": "code",
      "source": [
        "# print(bss.best_estimator_)\n",
        "print(bss.best_score_)\n",
        "print(bss.best_params_)\n",
        "print(\"Finished:\", datetime.datetime.now())"
      ],
      "metadata": {
        "colab": {
          "base_uri": "https://localhost:8080/"
        },
        "outputId": "6be5d987-593a-4a7d-ad20-e1cdb3954adb",
        "id": "HodvtRbWFPMa"
      },
      "execution_count": 63,
      "outputs": [
        {
          "output_type": "stream",
          "name": "stdout",
          "text": [
            "0.8644256248735079\n",
            "OrderedDict([('basemodel__batch_size', 69), ('basemodel__epochs', 48), ('basemodel__model__activation1', 'relu'), ('basemodel__model__activation2', 'sigmoid'), ('basemodel__model__activation3', 'relu'), ('basemodel__model__activation4', 'selu'), ('basemodel__model__dropout1', 0.7861582092207701), ('basemodel__model__dropout2', 0.1651211488004366), ('basemodel__model__dropout3', 0.3806276727312806), ('basemodel__model__dropout4', 0.5407685563014424), ('basemodel__model__layer1', 335), ('basemodel__model__layer2', 352), ('basemodel__model__layer3', 87), ('basemodel__model__layer4', 110), ('basemodel__model__learning_rate', 0.0013462596203423387), ('basemodel__model__optim', <class 'keras.optimizers.optimizer_v2.rmsprop.RMSprop'>), ('basemodel__validation_split', 0.40880873684195296), ('clip_y', 84), ('poly_degree', 3), ('scaler', StandardScaler())])\n",
            "Finished: 2022-10-23 20:03:11.300639\n"
          ]
        }
      ]
    },
    {
      "cell_type": "code",
      "source": [
        "from skopt.plots import plot_convergence\n",
        "\n",
        "plot_convergence(bss.optimizer_results_)\n",
        "print(\"Finished:\", datetime.datetime.now())"
      ],
      "metadata": {
        "colab": {
          "base_uri": "https://localhost:8080/",
          "height": 315
        },
        "outputId": "21ae5a4f-2463-46de-83ce-a758584bc065",
        "id": "idjefRxSFPMb"
      },
      "execution_count": 64,
      "outputs": [
        {
          "output_type": "stream",
          "name": "stdout",
          "text": [
            "Finished: 2022-10-23 20:03:11.331925\n"
          ]
        },
        {
          "output_type": "display_data",
          "data": {
            "text/plain": [
              "<Figure size 432x288 with 1 Axes>"
            ],
            "image/png": "[encoded data removed]"
          },
          "metadata": {
            "needs_background": "light"
          }
        }
      ]
    },
    {
      "cell_type": "code",
      "source": [
        "bss.best_params_"
      ],
      "metadata": {
        "colab": {
          "base_uri": "https://localhost:8080/"
        },
        "outputId": "3c5b3dbf-7f3e-4b45-b164-ed51762b16ae",
        "id": "XM55VvIZFPMd"
      },
      "execution_count": 65,
      "outputs": [
        {
          "output_type": "execute_result",
          "data": {
            "text/plain": [
              "OrderedDict([('basemodel__batch_size', 69),\n",
              "             ('basemodel__epochs', 48),\n",
              "             ('basemodel__model__activation1', 'relu'),\n",
              "             ('basemodel__model__activation2', 'sigmoid'),\n",
              "             ('basemodel__model__activation3', 'relu'),\n",
              "             ('basemodel__model__activation4', 'selu'),\n",
              "             ('basemodel__model__dropout1', 0.7861582092207701),\n",
              "             ('basemodel__model__dropout2', 0.1651211488004366),\n",
              "             ('basemodel__model__dropout3', 0.3806276727312806),\n",
              "             ('basemodel__model__dropout4', 0.5407685563014424),\n",
              "             ('basemodel__model__layer1', 335),\n",
              "             ('basemodel__model__layer2', 352),\n",
              "             ('basemodel__model__layer3', 87),\n",
              "             ('basemodel__model__layer4', 110),\n",
              "             ('basemodel__model__learning_rate', 0.0013462596203423387),\n",
              "             ('basemodel__model__optim',\n",
              "              keras.optimizers.optimizer_v2.rmsprop.RMSprop),\n",
              "             ('basemodel__validation_split', 0.40880873684195296),\n",
              "             ('clip_y', 84),\n",
              "             ('poly_degree', 3),\n",
              "             ('scaler', StandardScaler())])"
            ]
          },
          "metadata": {},
          "execution_count": 65
        }
      ]
    },
    {
      "cell_type": "markdown",
      "source": [
        "# MLP 1-layer"
      ],
      "metadata": {
        "id": "2PYkPPC-tyyd"
      }
    },
    {
      "cell_type": "markdown",
      "source": [
        "\n",
        "\n",
        "## Linear RUL\n",
        "\n",
        "Score: 0.6216329789186076  \n",
        "Test: 0.\n",
        "```\n",
        "('basemodel__batch_size', 140),\n",
        "             ('basemodel__epochs', 40),\n",
        "             ('basemodel__model__activation1', 'selu'),\n",
        "             ('basemodel__model__dropout1', 0.6738055381845307),\n",
        "             ('basemodel__model__layer1', 274),\n",
        "             ('basemodel__model__learning_rate', 0.0026697581512638087),\n",
        "             ('basemodel__model__optim',\n",
        "              keras.optimizers.optimizer_v2.adam.Adam),\n",
        "             ('basemodel__validation_split', 0.1),\n",
        "             ('scaler', StandardScaler())\n",
        "```\n",
        "\n",
        "\n",
        "\n",
        "\n",
        "\n"
      ],
      "metadata": {
        "id": "O3mGfle45Bp_"
      }
    },
    {
      "cell_type": "markdown",
      "source": [
        "## Non-Linear RUL\n",
        "Score: 0.8769850696112492  \n",
        "Test: 0.\n",
        "```\n",
        "('basemodel__batch_size', 32),\n",
        "             ('basemodel__epochs', 47),\n",
        "             ('basemodel__model__activation1', 'tanh'),\n",
        "             ('basemodel__model__dropout1', 0.1),\n",
        "             ('basemodel__model__layer1', 512),\n",
        "             ('basemodel__model__learning_rate', 0.004394643527896066),\n",
        "             ('basemodel__model__optim',\n",
        "              keras.optimizers.optimizer_v2.adam.Adam),\n",
        "             ('basemodel__validation_split', 0.1),\n",
        "             ('clip_y', 80),\n",
        "             ('scaler', MinMaxScaler())\n",
        "```\n",
        "\n"
      ],
      "metadata": {
        "id": "dTLRu7byqa83"
      }
    },
    {
      "cell_type": "markdown",
      "source": [
        "## Linear RUL + Poly\n",
        "Score: 0.623044428465008  \n",
        "Test: 0.\n",
        "```\n",
        "('basemodel__batch_size', 114),\n",
        "             ('basemodel__epochs', 50),\n",
        "             ('basemodel__model__activation1', 'tanh'),\n",
        "             ('basemodel__model__dropout1', 0.8089278925268311),\n",
        "             ('basemodel__model__layer1', 453),\n",
        "             ('basemodel__model__learning_rate', 0.00336601478011081),\n",
        "             ('basemodel__model__optim',\n",
        "              keras.optimizers.optimizer_v2.adam.Adam),\n",
        "             ('basemodel__validation_split', 0.11337798870650495),\n",
        "             ('poly_degree', 3),\n",
        "             ('scaler', StandardScaler())\n",
        "```\n",
        "\n"
      ],
      "metadata": {
        "id": "3ye2csOKqeCm"
      }
    },
    {
      "cell_type": "markdown",
      "source": [
        "## Non-Linear RUL + Poly\n",
        "Score: 0.8488892610573798  \n",
        "Test: 0.\n",
        "```\n",
        "('basemodel__batch_size', 97),\n",
        "             ('basemodel__epochs', 24),\n",
        "             ('basemodel__model__activation1', 'relu'),\n",
        "             ('basemodel__model__dropout1', 0.15096258494167586),\n",
        "             ('basemodel__model__layer1', 264),\n",
        "             ('basemodel__model__learning_rate', 0.0040754761072153145),\n",
        "             ('basemodel__model__optim',\n",
        "              keras.optimizers.optimizer_v2.adam.Adam),\n",
        "             ('basemodel__validation_split', 0.17873567459530804),\n",
        "             ('clip_y', 105),\n",
        "             ('poly_degree', 3),\n",
        "             ('scaler', StandardScaler())\n",
        "```"
      ],
      "metadata": {
        "id": "F4uFS6aaqfcY"
      }
    },
    {
      "cell_type": "markdown",
      "source": [
        "# MLP 2-layer\n"
      ],
      "metadata": {
        "id": "0Phg7uNOt0qm"
      }
    },
    {
      "cell_type": "markdown",
      "source": [
        "\n",
        "## Linear RUL\n",
        "\n",
        "Score: 0.6117982346232361  \n",
        "Test: 0.\n",
        "```\n",
        "('basemodel__batch_size', 215),\n",
        "             ('basemodel__epochs', 31),\n",
        "             ('basemodel__model__activation1', 'sigmoid'),\n",
        "             ('basemodel__model__activation2', 'elu'),\n",
        "             ('basemodel__model__dropout1', 0.535540507143301),\n",
        "             ('basemodel__model__dropout2', 0.2838929138188482),\n",
        "             ('basemodel__model__layer1', 62),\n",
        "             ('basemodel__model__layer2', 401),\n",
        "             ('basemodel__model__learning_rate', 0.002945657435413331),\n",
        "             ('basemodel__model__optim',\n",
        "              keras.optimizers.optimizer_v2.rmsprop.RMSprop),\n",
        "             ('basemodel__validation_split', 0.3558423584914324),\n",
        "             ('scaler', StandardScaler())\n",
        "```\n",
        "\n",
        "\n",
        "\n"
      ],
      "metadata": {
        "id": "UkQceBLUtuGE"
      }
    },
    {
      "cell_type": "markdown",
      "source": [
        "\n",
        "## Non-Linear RUL\n",
        "Score: 0.8675039655819224  \n",
        "Test: 0.\n",
        "```\n",
        "('basemodel__batch_size', 164),\n",
        "             ('basemodel__epochs', 29),\n",
        "             ('basemodel__model__activation1', 'elu'),\n",
        "             ('basemodel__model__activation2', 'tanh'),\n",
        "             ('basemodel__model__dropout1', 0.8791215719915316),\n",
        "             ('basemodel__model__dropout2', 0.1),\n",
        "             ('basemodel__model__layer1', 511),\n",
        "             ('basemodel__model__layer2', 512),\n",
        "             ('basemodel__model__learning_rate', 0.009861716088609234),\n",
        "             ('basemodel__model__optim',\n",
        "              keras.optimizers.optimizer_v2.adam.Adam),\n",
        "             ('basemodel__validation_split', 0.1),\n",
        "             ('clip_y', 80),\n",
        "             ('scaler', StandardScaler())\n",
        "```"
      ],
      "metadata": {
        "id": "5zin50NAqnGK"
      }
    },
    {
      "cell_type": "markdown",
      "source": [
        "\n",
        "## Linear RUL + Poly\n",
        "Score: 0.6119811339203444  \n",
        "Test: 0.\n",
        "```\n",
        "('basemodel__batch_size', 477),\n",
        "             ('basemodel__epochs', 49),\n",
        "             ('basemodel__model__activation1', 'relu'),\n",
        "             ('basemodel__model__activation2', 'selu'),\n",
        "             ('basemodel__model__dropout1', 0.18510920905532013),\n",
        "             ('basemodel__model__dropout2', 0.2129692928941368),\n",
        "             ('basemodel__model__layer1', 420),\n",
        "             ('basemodel__model__layer2', 241),\n",
        "             ('basemodel__model__learning_rate', 0.009500210759954515),\n",
        "             ('basemodel__model__optim',\n",
        "              keras.optimizers.optimizer_v2.adam.Adam),\n",
        "             ('basemodel__validation_split', 0.11902117833628473),\n",
        "             ('poly_degree', 3),\n",
        "             ('scaler', MinMaxScaler())\n",
        "```\n"
      ],
      "metadata": {
        "id": "3frzB_ESqjBx"
      }
    },
    {
      "cell_type": "markdown",
      "source": [
        "\n",
        "## Non-Linear RUL + Poly\n",
        "Score: 0.8797075116940171  \n",
        "Test: 0.\n",
        "```\n",
        "('basemodel__batch_size', 32),\n",
        "             ('basemodel__epochs', 50),\n",
        "             ('basemodel__model__activation1', 'tanh'),\n",
        "             ('basemodel__model__activation2', 'elu'),\n",
        "             ('basemodel__model__dropout1', 0.1),\n",
        "             ('basemodel__model__dropout2', 0.1),\n",
        "             ('basemodel__model__layer1', 461),\n",
        "             ('basemodel__model__layer2', 512),\n",
        "             ('basemodel__model__learning_rate', 0.0001),\n",
        "             ('basemodel__model__optim',\n",
        "              keras.optimizers.optimizer_v2.adam.Adam),\n",
        "             ('basemodel__validation_split', 0.1),\n",
        "             ('clip_y', 80),\n",
        "             ('poly_degree', 3),\n",
        "             ('scaler', StandardScaler())\n",
        "```"
      ],
      "metadata": {
        "id": "VcKo0MXzqkSv"
      }
    },
    {
      "cell_type": "markdown",
      "source": [
        "# MLP 3-layer"
      ],
      "metadata": {
        "id": "oj69QW1rV7bz"
      }
    },
    {
      "cell_type": "markdown",
      "source": [
        "\n",
        "## Linear RUL\n",
        "\n",
        "Score: 0.6031587839965488    \n",
        "Test: 0.\n",
        "```\n",
        "('basemodel__batch_size', 273),\n",
        "             ('basemodel__epochs', 18),\n",
        "             ('basemodel__model__activation1', 'selu'),\n",
        "             ('basemodel__model__activation2', 'tanh'),\n",
        "             ('basemodel__model__activation3', 'selu'),\n",
        "             ('basemodel__model__dropout1', 0.8779935839787812),\n",
        "             ('basemodel__model__dropout2', 0.10779365305325281),\n",
        "             ('basemodel__model__dropout3', 0.4510533904028945),\n",
        "             ('basemodel__model__layer1', 244),\n",
        "             ('basemodel__model__layer2', 341),\n",
        "             ('basemodel__model__layer3', 104),\n",
        "             ('basemodel__model__learning_rate', 0.006744014727126686),\n",
        "             ('basemodel__model__optim',\n",
        "              keras.optimizers.optimizer_v2.rmsprop.RMSprop),\n",
        "             ('basemodel__validation_split', 0.1),\n",
        "             ('scaler', MinMaxScaler())\n",
        "```\n",
        "\n"
      ],
      "metadata": {
        "id": "3VwnynxEV7b0"
      }
    },
    {
      "cell_type": "markdown",
      "source": [
        "\n",
        "## Non-Linear RUL\n",
        "Score: 0.8606739658341226    \n",
        "Test: 0.\n",
        "```\n",
        "('basemodel__batch_size', 246),\n",
        "             ('basemodel__epochs', 34),\n",
        "             ('basemodel__model__activation1', 'relu'),\n",
        "             ('basemodel__model__activation2', 'sigmoid'),\n",
        "             ('basemodel__model__activation3', 'relu'),\n",
        "             ('basemodel__model__dropout1', 0.398822951109552),\n",
        "             ('basemodel__model__dropout2', 0.3447841740069549),\n",
        "             ('basemodel__model__dropout3', 0.9),\n",
        "             ('basemodel__model__layer1', 142),\n",
        "             ('basemodel__model__layer2', 454),\n",
        "             ('basemodel__model__layer3', 370),\n",
        "             ('basemodel__model__learning_rate', 0.00337864526028697),\n",
        "             ('basemodel__model__optim',\n",
        "              keras.optimizers.optimizer_v2.adam.Adam),\n",
        "             ('basemodel__validation_split', 0.433392689037953),\n",
        "             ('clip_y', 80),\n",
        "             ('scaler', StandardScaler())\n",
        "```\n"
      ],
      "metadata": {
        "id": "PSDXqDhcqqP3"
      }
    },
    {
      "cell_type": "markdown",
      "source": [
        "\n",
        "## Linear RUL + Poly\n",
        "Score: 0.6144434017693393    \n",
        "Test: 0.\n",
        "```\n",
        "('basemodel__batch_size', 392),\n",
        "             ('basemodel__epochs', 25),\n",
        "             ('basemodel__model__activation1', 'sigmoid'),\n",
        "             ('basemodel__model__activation2', 'selu'),\n",
        "             ('basemodel__model__activation3', 'selu'),\n",
        "             ('basemodel__model__dropout1', 0.26670195337882074),\n",
        "             ('basemodel__model__dropout2', 0.14342309787217927),\n",
        "             ('basemodel__model__dropout3', 0.3763758002816012),\n",
        "             ('basemodel__model__layer1', 211),\n",
        "             ('basemodel__model__layer2', 16),\n",
        "             ('basemodel__model__layer3', 398),\n",
        "             ('basemodel__model__learning_rate', 0.005523882705085696),\n",
        "             ('basemodel__model__optim',\n",
        "              keras.optimizers.optimizer_v2.adam.Adam),\n",
        "             ('basemodel__validation_split', 0.1),\n",
        "             ('poly_degree', 2),\n",
        "             ('scaler', MinMaxScaler())\n",
        "```\n"
      ],
      "metadata": {
        "id": "c7Pa5NVRqrlW"
      }
    },
    {
      "cell_type": "markdown",
      "source": [
        "\n",
        "## Non-Linear RUL + Poly\n",
        "Score: 0.8700749435053768   \n",
        "Test: 0.\n",
        "```\n",
        "('basemodel__batch_size', 403),\n",
        "             ('basemodel__epochs', 30),\n",
        "             ('basemodel__model__activation1', 'selu'),\n",
        "             ('basemodel__model__activation2', 'selu'),\n",
        "             ('basemodel__model__activation3', 'elu'),\n",
        "             ('basemodel__model__dropout1', 0.4446452001317711),\n",
        "             ('basemodel__model__dropout2', 0.6178728243917544),\n",
        "             ('basemodel__model__dropout3', 0.48882961847253814),\n",
        "             ('basemodel__model__layer1', 310),\n",
        "             ('basemodel__model__layer2', 273),\n",
        "             ('basemodel__model__layer3', 114),\n",
        "             ('basemodel__model__learning_rate', 0.007023482013202204),\n",
        "             ('basemodel__model__optim',\n",
        "              keras.optimizers.optimizer_v2.adam.Adam),\n",
        "             ('basemodel__validation_split', 0.2747333733591927),\n",
        "             ('clip_y', 90),\n",
        "             ('poly_degree', 3),\n",
        "             ('scaler', StandardScaler())\n",
        "```"
      ],
      "metadata": {
        "id": "l3UgGmi6qspC"
      }
    },
    {
      "cell_type": "markdown",
      "source": [
        "# MLP 4-layer "
      ],
      "metadata": {
        "id": "7aAknMTjDeoK"
      }
    },
    {
      "cell_type": "markdown",
      "source": [
        "\n",
        "## Linear RUL\n",
        "\n",
        "Score: 0.5965333341401537    \n",
        "Test: 0.\n",
        "```\n",
        "('basemodel__batch_size', 66),\n",
        "             ('basemodel__epochs', 50),\n",
        "             ('basemodel__model__activation1', 'selu'),\n",
        "             ('basemodel__model__activation2', 'sigmoid'),\n",
        "             ('basemodel__model__activation3', 'selu'),\n",
        "             ('basemodel__model__activation4', 'relu'),\n",
        "             ('basemodel__model__dropout1', 0.8385437522647914),\n",
        "             ('basemodel__model__dropout2', 0.23198581914083677),\n",
        "             ('basemodel__model__dropout3', 0.1),\n",
        "             ('basemodel__model__dropout4', 0.18918890917273032),\n",
        "             ('basemodel__model__layer1', 291),\n",
        "             ('basemodel__model__layer2', 117),\n",
        "             ('basemodel__model__layer3', 147),\n",
        "             ('basemodel__model__layer4', 248),\n",
        "             ('basemodel__model__learning_rate', 0.01),\n",
        "             ('basemodel__model__optim',\n",
        "              keras.optimizers.optimizer_v2.rmsprop.RMSprop),\n",
        "             ('basemodel__validation_split', 0.14404412076041206),\n",
        "             ('scaler', MinMaxScaler())\n",
        "```\n",
        "\n",
        "\n"
      ],
      "metadata": {
        "id": "-rW0kXOCDeoM"
      }
    },
    {
      "cell_type": "markdown",
      "source": [
        "\n",
        "## Non-Linear RUL\n",
        "Score: 0.862360484973761    \n",
        "Test: 0.\n",
        "```\n",
        "('basemodel__batch_size', 141),\n",
        "             ('basemodel__epochs', 36),\n",
        "             ('basemodel__model__activation1', 'selu'),\n",
        "             ('basemodel__model__activation2', 'selu'),\n",
        "             ('basemodel__model__activation3', 'sigmoid'),\n",
        "             ('basemodel__model__activation4', 'selu'),\n",
        "             ('basemodel__model__dropout1', 0.6030375513292561),\n",
        "             ('basemodel__model__dropout2', 0.404789057124993),\n",
        "             ('basemodel__model__dropout3', 0.6692037092668784),\n",
        "             ('basemodel__model__dropout4', 0.5529044823633812),\n",
        "             ('basemodel__model__layer1', 342),\n",
        "             ('basemodel__model__layer2', 86),\n",
        "             ('basemodel__model__layer3', 353),\n",
        "             ('basemodel__model__layer4', 80),\n",
        "             ('basemodel__model__learning_rate', 0.0035609790280109383),\n",
        "             ('basemodel__model__optim',\n",
        "              keras.optimizers.optimizer_v2.adam.Adam),\n",
        "             ('basemodel__validation_split', 0.12093724706982273),\n",
        "             ('clip_y', 89),\n",
        "             ('scaler', StandardScaler())\n",
        "```\n"
      ],
      "metadata": {
        "id": "Pi44CjBQqwAk"
      }
    },
    {
      "cell_type": "markdown",
      "source": [
        "\n",
        "## Linear RUL + Poly\n",
        "Score: 0.5965860921885896    \n",
        "Test: 0.\n",
        "```\n",
        "('basemodel__batch_size', 297),\n",
        "             ('basemodel__epochs', 4),\n",
        "             ('basemodel__model__activation1', 'relu'),\n",
        "             ('basemodel__model__activation2', 'elu'),\n",
        "             ('basemodel__model__activation3', 'selu'),\n",
        "             ('basemodel__model__activation4', 'relu'),\n",
        "             ('basemodel__model__dropout1', 0.5444566159296994),\n",
        "             ('basemodel__model__dropout2', 0.4338236298382706),\n",
        "             ('basemodel__model__dropout3', 0.7048318485513446),\n",
        "             ('basemodel__model__dropout4', 0.17180189230876136),\n",
        "             ('basemodel__model__layer1', 458),\n",
        "             ('basemodel__model__layer2', 113),\n",
        "             ('basemodel__model__layer3', 161),\n",
        "             ('basemodel__model__layer4', 494),\n",
        "             ('basemodel__model__learning_rate', 0.0006019662806120351),\n",
        "             ('basemodel__model__optim',\n",
        "              keras.optimizers.optimizer_v2.adam.Adam),\n",
        "             ('basemodel__validation_split', 0.572593134337274),\n",
        "             ('poly_degree', 3),\n",
        "             ('scaler', StandardScaler())\n",
        "```\n"
      ],
      "metadata": {
        "id": "ASEtgutZqyE-"
      }
    },
    {
      "cell_type": "markdown",
      "source": [
        "\n",
        "## Non-Linear RUL + Poly\n",
        "Score: 0.8644256248735079  \n",
        "Test: 0.\n",
        "```\n",
        "('basemodel__batch_size', 69),\n",
        "             ('basemodel__epochs', 48),\n",
        "             ('basemodel__model__activation1', 'relu'),\n",
        "             ('basemodel__model__activation2', 'sigmoid'),\n",
        "             ('basemodel__model__activation3', 'relu'),\n",
        "             ('basemodel__model__activation4', 'selu'),\n",
        "             ('basemodel__model__dropout1', 0.7861582092207701),\n",
        "             ('basemodel__model__dropout2', 0.1651211488004366),\n",
        "             ('basemodel__model__dropout3', 0.3806276727312806),\n",
        "             ('basemodel__model__dropout4', 0.5407685563014424),\n",
        "             ('basemodel__model__layer1', 335),\n",
        "             ('basemodel__model__layer2', 352),\n",
        "             ('basemodel__model__layer3', 87),\n",
        "             ('basemodel__model__layer4', 110),\n",
        "             ('basemodel__model__learning_rate', 0.0013462596203423387),\n",
        "             ('basemodel__model__optim',\n",
        "              keras.optimizers.optimizer_v2.rmsprop.RMSprop),\n",
        "             ('basemodel__validation_split', 0.40880873684195296),\n",
        "             ('clip_y', 84),\n",
        "             ('poly_degree', 3),\n",
        "             ('scaler', StandardScaler())\n",
        "```"
      ],
      "metadata": {
        "id": "_928h4YMqzHs"
      }
    },
    {
      "cell_type": "markdown",
      "source": [
        "# MLP Tester"
      ],
      "metadata": {
        "id": "ppByl3wN_W05"
      }
    },
    {
      "cell_type": "markdown",
      "source": [
        "\n",
        "\n",
        "```\n",
        "('basemodel__batch_size', 32),\n",
        "('basemodel__epochs', 50),\n",
        "('basemodel__model__activation1', 'tanh'),\n",
        "('basemodel__model__activation2', 'elu'),\n",
        "('basemodel__model__dropout1', 0.1),\n",
        "('basemodel__model__dropout2', 0.2107518503547072),\n",
        "('basemodel__model__layer1', 168),\n",
        "('basemodel__model__layer2', 428),\n",
        "('basemodel__model__learning_rate', 0.01),\n",
        "('basemodel__model__optim', keras.optimizer_v2.adam.Adam),\n",
        "('basemodel__validation_split', 0.13631332793413636),\n",
        "('clip_y', 80),\n",
        "('scaler', MinMaxScaler())\n",
        "```\n",
        "\n"
      ],
      "metadata": {
        "id": "8jDtiS0kVaLX"
      }
    },
    {
      "cell_type": "code",
      "source": [
        "CLIP=80\n",
        "\n",
        "model = MLPWrapperRegressor(\n",
        "        clip_y=CLIP, scaler=MinMaxScaler(),\n",
        "        basemodel=\n",
        "            KerasRegressor(model=create_model,\n",
        "                           batch_size=32,\n",
        "                           epochs=50,\n",
        "                           model__activation1='tanh',\n",
        "                           model__activation2='elu',\n",
        "                           model__dropout1=0.1,\n",
        "                           model__dropout2=0.2107518503547072, \n",
        "                           model__layer1=168, \n",
        "                           model__layer2=428, \n",
        "                           model__learning_rate=0.01,\n",
        "                           model__optim=Adam,\n",
        "                           validation_split=0.13631332793413636, \n",
        "                           verbose=0, callbacks=[es, printerCallback],\n",
        "                           model__metrics=[RMSE(), R2()],\n",
        "                           model__loss='mse',\n",
        "                           print_summary=True\n",
        "                           )\n",
        "    )"
      ],
      "metadata": {
        "id": "5p5GYkfQFKtl"
      },
      "execution_count": null,
      "outputs": []
    },
    {
      "cell_type": "code",
      "source": [
        "model.fit(X_train_, y_train)"
      ],
      "metadata": {
        "colab": {
          "base_uri": "https://localhost:8080/"
        },
        "outputId": "43deb2a4-f056-4a3a-862f-bc61dd99751b",
        "id": "wmkoVA33FKtl"
      },
      "execution_count": null,
      "outputs": [
        {
          "output_type": "stream",
          "name": "stdout",
          "text": [
            "Model: \"sequential_270\"\n",
            "_________________________________________________________________\n",
            " Layer (type)                Output Shape              Param #   \n",
            "=================================================================\n",
            " dense_810 (Dense)           (None, 168)               3696      \n",
            "                                                                 \n",
            " dropout_540 (Dropout)       (None, 168)               0         \n",
            "                                                                 \n",
            " dense_811 (Dense)           (None, 428)               72332     \n",
            "                                                                 \n",
            " dropout_541 (Dropout)       (None, 428)               0         \n",
            "                                                                 \n",
            " dense_812 (Dense)           (None, 1)                 429       \n",
            "                                                                 \n",
            "=================================================================\n",
            "Total params: 76,457\n",
            "Trainable params: 76,457\n",
            "Non-trainable params: 0\n",
            "_________________________________________________________________\n",
            "E 1\t: loss=172.561, rmse=13.136, r2=0.712; v_loss=98.196, v_rmse=9.909, v_r2=0.831; \n",
            "E 2\t: loss=96.479, rmse=9.822, r2=0.839; v_loss=117.862, v_rmse=10.856, v_r2=0.797; \n",
            "E 3\t: loss=92.964, rmse=9.642, r2=0.845; v_loss=100.306, v_rmse=10.015, v_r2=0.827; \n",
            "E 4\t: loss=90.220, rmse=9.498, r2=0.849; v_loss=97.442, v_rmse=9.871, v_r2=0.832; \n",
            "E 5\t: loss=92.239, rmse=9.604, r2=0.846; v_loss=96.405, v_rmse=9.819, v_r2=0.834; \n",
            "E 6\t: loss=89.769, rmse=9.475, r2=0.850; v_loss=103.119, v_rmse=10.155, v_r2=0.822; \n",
            "E 7\t: loss=89.589, rmse=9.465, r2=0.850; v_loss=96.367, v_rmse=9.817, v_r2=0.834; \n",
            "E 8\t: loss=90.056, rmse=9.490, r2=0.850; v_loss=99.139, v_rmse=9.957, v_r2=0.829; \n",
            "E 9\t: loss=90.041, rmse=9.489, r2=0.850; v_loss=98.825, v_rmse=9.941, v_r2=0.829; \n",
            "E 10\t: loss=87.168, rmse=9.336, r2=0.854; v_loss=96.307, v_rmse=9.814, v_r2=0.834; \n",
            "E 11\t: loss=87.184, rmse=9.337, r2=0.854; v_loss=88.517, v_rmse=9.408, v_r2=0.847; \n",
            "E 12\t: loss=88.261, rmse=9.395, r2=0.853; v_loss=98.444, v_rmse=9.922, v_r2=0.830; \n",
            "E 13\t: loss=88.111, rmse=9.387, r2=0.853; v_loss=92.551, v_rmse=9.620, v_r2=0.840; \n",
            "E 14\t: loss=87.507, rmse=9.355, r2=0.854; v_loss=99.859, v_rmse=9.993, v_r2=0.828; \n",
            "E 15\t: loss=86.567, rmse=9.304, r2=0.855; v_loss=90.369, v_rmse=9.506, v_r2=0.844; \n",
            "E 16\t: loss=88.983, rmse=9.433, r2=0.851; v_loss=108.208, v_rmse=10.402, v_r2=0.813; \n",
            "E 17\t: loss=86.140, rmse=9.281, r2=0.856; v_loss=96.990, v_rmse=9.848, v_r2=0.833; \n",
            "E 18\t: loss=87.043, rmse=9.330, r2=0.855; v_loss=98.518, v_rmse=9.926, v_r2=0.830; \n",
            "E 19\t: loss=86.823, rmse=9.318, r2=0.855; v_loss=95.459, v_rmse=9.770, v_r2=0.835; \n",
            "E 20\t: loss=86.704, rmse=9.312, r2=0.855; v_loss=104.076, v_rmse=10.202, v_r2=0.820; \n",
            "E 21\t: loss=86.354, rmse=9.293, r2=0.856; v_loss=105.567, v_rmse=10.275, v_r2=0.818; \n",
            "E 22\t: loss=87.145, rmse=9.335, r2=0.854; v_loss=100.988, v_rmse=10.049, v_r2=0.826; \n"
          ]
        },
        {
          "output_type": "execute_result",
          "data": {
            "text/plain": [
              "MLPWrapperRegressor(basemodel=KerasRegressor(batch_size=32, callbacks=[<keras.callbacks.EarlyStopping object at 0x0000017111EAD250>, <keras.callbacks.LambdaCallback object at 0x0000017111EE4C10>], epochs=50, model=<function create_model at 0x0000017111F378B0>, model__activation1='tanh', model__activation2='elu', model__dropout1=0.1, model__dropout2=0.21075185035470...=428, model__learning_rate=0.01, model__loss='mse', model__metrics=[<keras.metrics.RootMeanSquaredError object at 0x00000172AC584D90>, <tensorflow_addons.metrics.r_square.RSquare object at 0x00000172AC584C10>], model__optim=<class 'keras.optimizer_v2.adam.Adam'>, print_summary=True, validation_split=0.13631332793413636, verbose=0),\n",
              "                    clip_y=80, scaler=MinMaxScaler())"
            ]
          },
          "metadata": {},
          "execution_count": 47
        }
      ]
    },
    {
      "cell_type": "code",
      "source": [
        "model.score(X_test, reclipped_y)"
      ],
      "metadata": {
        "colab": {
          "base_uri": "https://localhost:8080/",
          "height": 169
        },
        "id": "BYafN67d77Ix",
        "outputId": "8d049879-214a-41b5-dc6a-e56ac6a56222"
      },
      "execution_count": null,
      "outputs": [
        {
          "output_type": "error",
          "ename": "NameError",
          "evalue": "ignored",
          "traceback": [
            "\u001b[1;31m---------------------------------------------------------------------------\u001b[0m",
            "\u001b[1;31mNameError\u001b[0m                                 Traceback (most recent call last)",
            "\u001b[1;32m<ipython-input-48-083753147b2c>\u001b[0m in \u001b[0;36m<module>\u001b[1;34m\u001b[0m\n\u001b[1;32m----> 1\u001b[1;33m \u001b[0mmodel\u001b[0m\u001b[1;33m.\u001b[0m\u001b[0mscore\u001b[0m\u001b[1;33m(\u001b[0m\u001b[0mX_test\u001b[0m\u001b[1;33m,\u001b[0m \u001b[0mreclipped_y\u001b[0m\u001b[1;33m)\u001b[0m\u001b[1;33m\u001b[0m\u001b[1;33m\u001b[0m\u001b[0m\n\u001b[0m",
            "\u001b[1;31mNameError\u001b[0m: name 'reclipped_y' is not defined"
          ]
        }
      ]
    },
    {
      "cell_type": "code",
      "source": [
        "# Scaling and formatting test data\n",
        "test_sc = scale_test(X_test,model)\n",
        "# test_wr = gen_test_wrapper(test_sc, SEQ_LENGTH)\n",
        "\n",
        "# Clipping test labels\n",
        "reclipped_y = y_test.copy()\n",
        "if (CLIP > 0): reclipped_y=reclipped_y[\"RUL\"].clip(upper=CLIP)\n",
        "\n",
        "# Evaluation\n",
        "eval.show_result(reclipped_y, model.basemodel.predict(test_sc))\n",
        "# eval.show_result(reclipped_y, model.predict(X_test)) ## Doesn't work for LSTM\n",
        "print(\"Finished:\", datetime.datetime.now())"
      ],
      "metadata": {
        "colab": {
          "base_uri": "https://localhost:8080/",
          "height": 616
        },
        "outputId": "a467e049-d97d-4cf2-b5b7-844e03b7b56b",
        "id": "RXnrciV-FKtm"
      },
      "execution_count": null,
      "outputs": [
        {
          "output_type": "error",
          "ename": "NotFittedError",
          "evalue": "ignored",
          "traceback": [
            "\u001b[1;31m---------------------------------------------------------------------------\u001b[0m",
            "\u001b[1;31mNotFittedError\u001b[0m                            Traceback (most recent call last)",
            "\u001b[1;32m<ipython-input-63-bf915f13081c>\u001b[0m in \u001b[0;36m<module>\u001b[1;34m\u001b[0m\n\u001b[0;32m      1\u001b[0m \u001b[1;31m# Scaling and formatting test data\u001b[0m\u001b[1;33m\u001b[0m\u001b[1;33m\u001b[0m\u001b[1;33m\u001b[0m\u001b[0m\n\u001b[1;32m----> 2\u001b[1;33m \u001b[0mtest_sc\u001b[0m \u001b[1;33m=\u001b[0m \u001b[0mscale_test\u001b[0m\u001b[1;33m(\u001b[0m\u001b[0mX_test\u001b[0m\u001b[1;33m,\u001b[0m\u001b[0mmodel\u001b[0m\u001b[1;33m)\u001b[0m\u001b[1;33m\u001b[0m\u001b[1;33m\u001b[0m\u001b[0m\n\u001b[0m\u001b[0;32m      3\u001b[0m \u001b[1;31m# test_wr = gen_test_wrapper(test_sc, SEQ_LENGTH)\u001b[0m\u001b[1;33m\u001b[0m\u001b[1;33m\u001b[0m\u001b[1;33m\u001b[0m\u001b[0m\n\u001b[0;32m      4\u001b[0m \u001b[1;33m\u001b[0m\u001b[0m\n\u001b[0;32m      5\u001b[0m \u001b[1;31m# Clipping test labels\u001b[0m\u001b[1;33m\u001b[0m\u001b[1;33m\u001b[0m\u001b[1;33m\u001b[0m\u001b[0m\n",
            "\u001b[1;32m<ipython-input-34-e36179a483da>\u001b[0m in \u001b[0;36mscale_test\u001b[1;34m(test, model)\u001b[0m\n\u001b[0;32m      4\u001b[0m \u001b[1;33m\u001b[0m\u001b[0m\n\u001b[0;32m      5\u001b[0m     \u001b[1;31m# Apply polynomial features\u001b[0m\u001b[1;33m\u001b[0m\u001b[1;33m\u001b[0m\u001b[1;33m\u001b[0m\u001b[0m\n\u001b[1;32m----> 6\u001b[1;33m     \u001b[0mtransf\u001b[0m \u001b[1;33m=\u001b[0m \u001b[0mmodel\u001b[0m\u001b[1;33m.\u001b[0m\u001b[0mpolyft\u001b[0m\u001b[1;33m.\u001b[0m\u001b[0mtransform\u001b[0m\u001b[1;33m(\u001b[0m\u001b[0mtest2\u001b[0m\u001b[1;33m)\u001b[0m\u001b[1;33m\u001b[0m\u001b[1;33m\u001b[0m\u001b[0m\n\u001b[0m\u001b[0;32m      7\u001b[0m     test2 = pd.DataFrame(transf, \n\u001b[0;32m      8\u001b[0m                          columns=model.polyft.get_feature_names_out())\n",
            "\u001b[1;32mH:\\anaconda3\\lib\\site-packages\\sklearn\\preprocessing\\_polynomial.py\u001b[0m in \u001b[0;36mtransform\u001b[1;34m(self, X)\u001b[0m\n\u001b[0;32m    365\u001b[0m             \u001b[0;31m`\u001b[0m\u001b[0mcsr_matrix\u001b[0m\u001b[0;31m`\u001b[0m\u001b[1;33m.\u001b[0m\u001b[1;33m\u001b[0m\u001b[1;33m\u001b[0m\u001b[0m\n\u001b[0;32m    366\u001b[0m         \"\"\"\n\u001b[1;32m--> 367\u001b[1;33m         \u001b[0mcheck_is_fitted\u001b[0m\u001b[1;33m(\u001b[0m\u001b[0mself\u001b[0m\u001b[1;33m)\u001b[0m\u001b[1;33m\u001b[0m\u001b[1;33m\u001b[0m\u001b[0m\n\u001b[0m\u001b[0;32m    368\u001b[0m \u001b[1;33m\u001b[0m\u001b[0m\n\u001b[0;32m    369\u001b[0m         X = self._validate_data(\n",
            "\u001b[1;32mH:\\anaconda3\\lib\\site-packages\\sklearn\\utils\\validation.py\u001b[0m in \u001b[0;36mcheck_is_fitted\u001b[1;34m(estimator, attributes, msg, all_or_any)\u001b[0m\n\u001b[0;32m   1220\u001b[0m \u001b[1;33m\u001b[0m\u001b[0m\n\u001b[0;32m   1221\u001b[0m     \u001b[1;32mif\u001b[0m \u001b[1;32mnot\u001b[0m \u001b[0mfitted\u001b[0m\u001b[1;33m:\u001b[0m\u001b[1;33m\u001b[0m\u001b[1;33m\u001b[0m\u001b[0m\n\u001b[1;32m-> 1222\u001b[1;33m         \u001b[1;32mraise\u001b[0m \u001b[0mNotFittedError\u001b[0m\u001b[1;33m(\u001b[0m\u001b[0mmsg\u001b[0m \u001b[1;33m%\u001b[0m \u001b[1;33m{\u001b[0m\u001b[1;34m\"name\"\u001b[0m\u001b[1;33m:\u001b[0m \u001b[0mtype\u001b[0m\u001b[1;33m(\u001b[0m\u001b[0mestimator\u001b[0m\u001b[1;33m)\u001b[0m\u001b[1;33m.\u001b[0m\u001b[0m__name__\u001b[0m\u001b[1;33m}\u001b[0m\u001b[1;33m)\u001b[0m\u001b[1;33m\u001b[0m\u001b[1;33m\u001b[0m\u001b[0m\n\u001b[0m\u001b[0;32m   1223\u001b[0m \u001b[1;33m\u001b[0m\u001b[0m\n\u001b[0;32m   1224\u001b[0m \u001b[1;33m\u001b[0m\u001b[0m\n",
            "\u001b[1;31mNotFittedError\u001b[0m: This PolynomialFeatures instance is not fitted yet. Call 'fit' with appropriate arguments before using this estimator."
          ]
        }
      ]
    }
  ]
}