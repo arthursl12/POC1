{
  "nbformat": 4,
  "nbformat_minor": 0,
  "metadata": {
    "colab": {
      "name": "POC1_Turbofan_FD002_Model_Tree.ipynb",
      "provenance": [],
      "collapsed_sections": [
        "iqDPLB2EDXSK",
        "AU6ipeRozJz-",
        "n7MBDuPasy-s",
        "IIXnBTkfxpCf"
      ],
      "toc_visible": true,
      "authorship_tag": "ABX9TyMbRsLfqPGo2Ya0RKhRm0fF",
      "include_colab_link": true
    },
    "kernelspec": {
      "name": "python3",
      "display_name": "Python 3"
    },
    "language_info": {
      "name": "python"
    }
  },
  "cells": [
    {
      "cell_type": "markdown",
      "metadata": {
        "id": "view-in-github",
        "colab_type": "text"
      },
      "source": [
        "<a href=\"https://colab.research.google.com/github/arthursl12/POC1/blob/main/POC1_Turbofan_FD002_Model_Tree.ipynb\" target=\"_parent\"><img src=\"https://colab.research.google.com/assets/colab-badge.svg\" alt=\"Open In Colab\"/></a>"
      ]
    },
    {
      "cell_type": "markdown",
      "source": [
        "# Imports"
      ],
      "metadata": {
        "id": "iqDPLB2EDXSK"
      }
    },
    {
      "cell_type": "code",
      "source": [
        "import os\n",
        "import pandas as pd\n",
        "import matplotlib.pyplot as plt\n",
        "import seaborn as sns\n",
        "import numpy as np\n",
        "import glob"
      ],
      "metadata": {
        "id": "i0Z0Zs7YcgTp"
      },
      "execution_count": 1,
      "outputs": []
    },
    {
      "cell_type": "code",
      "source": [
        "from sklearn.ensemble import RandomForestRegressor\n",
        "from sklearn.tree import DecisionTreeRegressor\n",
        "\n",
        "from sklearn.pipeline import Pipeline\n",
        "from sklearn.compose import TransformedTargetRegressor\n",
        "\n",
        "from sklearn.preprocessing import FunctionTransformer\n",
        "from sklearn.preprocessing import PolynomialFeatures"
      ],
      "metadata": {
        "id": "wmJyWwoFHcFL"
      },
      "execution_count": 2,
      "outputs": []
    },
    {
      "cell_type": "code",
      "source": [
        "sns.set_palette('colorblind')"
      ],
      "metadata": {
        "id": "yIpSdBdJ-uWd"
      },
      "execution_count": 3,
      "outputs": []
    },
    {
      "cell_type": "markdown",
      "source": [
        "# Data Preparation"
      ],
      "metadata": {
        "id": "AU6ipeRozJz-"
      }
    },
    {
      "cell_type": "code",
      "source": [
        "# Dataset Download \n",
        "os.system('git clone https://github.com/arthursl12/dataset_2')\n",
        "os.system('mv /content/dataset_2/CMaps /content/CMaps')\n",
        "os.system('mv /content/dataset_2/data_processing /content/data_processing')\n",
        "os.system('rm -rf dataset_2')"
      ],
      "metadata": {
        "colab": {
          "base_uri": "https://localhost:8080/"
        },
        "id": "-EPYBkqeECE9",
        "outputId": "5336f164-b2fb-46a7-9b9e-c099fd435e4e"
      },
      "execution_count": 4,
      "outputs": [
        {
          "output_type": "execute_result",
          "data": {
            "text/plain": [
              "0"
            ]
          },
          "metadata": {},
          "execution_count": 4
        }
      ]
    },
    {
      "cell_type": "code",
      "source": [
        "from data_processing.processing import DatasetProcessing\n",
        "from data_processing.training import HyperparameterSearch, reclipper_scorer\n",
        "from data_processing.eval import Evaluation"
      ],
      "metadata": {
        "id": "FUQ5tHe4Eu7z"
      },
      "execution_count": 5,
      "outputs": []
    },
    {
      "cell_type": "code",
      "source": [
        "proc = DatasetProcessing()"
      ],
      "metadata": {
        "id": "g1BmyudxzUz-"
      },
      "execution_count": 6,
      "outputs": []
    },
    {
      "cell_type": "markdown",
      "source": [
        "## Data Integration"
      ],
      "metadata": {
        "id": "Q4QwyfhXs_hv"
      }
    },
    {
      "cell_type": "markdown",
      "source": [
        "The data are provided as a zip-compressed text file with 26 columns of numbers, separated by spaces. Each row is a snapshot of data taken during a single operational cycle, each column is a different variable. The columns correspond to:  \n",
        "\n",
        "1) unit number   \n",
        "2) time, in cycles  \n",
        "3) operational setting 1  \n",
        "4) operational setting 2  \n",
        "5) operational setting 3    \n",
        "6) sensor measurement 1    \n",
        "7) sensor measurement 2  \n",
        "...  \n",
        "26) sensor measurement 20\n",
        "\n",
        "\n",
        "There are 6 conditions (or combinations) which the 3 operational settings can take.  \n",
        "Condition 1: Altitude = 0, Mach Number = 0, TRA = 100  \n",
        "Condition 2: Altitude = 10, Mach Number = 0.25, TRA = 100  \n",
        "Condition 3: Altitude = 20, Mach Number = 0.7 TRA = 100  \n",
        "Condition 4: Altitude = 25, Mach Number = 0.62, TRA = 60  \n",
        "Condition 5: Altitude = 35 Mach Number = 0.84, TRA = 100  \n",
        "Condition 6: Altitude = 42, Mach Number = 0.84, TRA = 100  \n",
        "  \n",
        "There is slight variation in all these conditions so you may get numbers like 24.453 instead of 25 exactly.\n",
        "\n",
        "FD001: Condition 1 only  \n",
        "FD002: Mix of all the conditions  \n",
        "FD003: Condition 1 only  \n",
        "FD004: Mix of all conditions  \n"
      ],
      "metadata": {
        "id": "PQe-SyeYc6Gf"
      }
    },
    {
      "cell_type": "code",
      "source": [
        "index_cols, settings_cols, sensors_cols, cols = proc.column_names()\n",
        "train, test, y_test = proc.read_dataset(2)\n",
        "train"
      ],
      "metadata": {
        "colab": {
          "base_uri": "https://localhost:8080/",
          "height": 488
        },
        "id": "-yRYxz2hh4xE",
        "outputId": "81ce7617-701f-49b7-e0bc-96288ad23746"
      },
      "execution_count": 7,
      "outputs": [
        {
          "output_type": "execute_result",
          "data": {
            "text/plain": [
              "       unit_number  time     op_1    op_2   op_3     s_0     s_1      s_2  \\\n",
              "0                1     1  34.9983  0.8400  100.0  449.44  555.32  1358.61   \n",
              "1                1     2  41.9982  0.8408  100.0  445.00  549.90  1353.22   \n",
              "2                1     3  24.9988  0.6218   60.0  462.54  537.31  1256.76   \n",
              "3                1     4  42.0077  0.8416  100.0  445.00  549.51  1354.03   \n",
              "4                1     5  25.0005  0.6203   60.0  462.54  537.07  1257.71   \n",
              "...            ...   ...      ...     ...    ...     ...     ...      ...   \n",
              "53754          260   312  20.0037  0.7000  100.0  491.19  608.79  1495.60   \n",
              "53755          260   313  10.0022  0.2510  100.0  489.05  605.81  1514.32   \n",
              "53756          260   314  25.0041  0.6200   60.0  462.54  537.48  1276.24   \n",
              "53757          260   315  25.0033  0.6220   60.0  462.54  537.84  1272.95   \n",
              "53758          260   316  35.0036  0.8400  100.0  449.44  556.64  1374.61   \n",
              "\n",
              "           s_3    s_4  ...    s_11     s_12     s_13     s_14  s_15  s_16  \\\n",
              "0      1137.23   5.48  ...  183.06  2387.72  8048.56   9.3461  0.02   334   \n",
              "1      1125.78   3.91  ...  130.42  2387.66  8072.30   9.3774  0.02   330   \n",
              "2      1047.45   7.05  ...  164.22  2028.03  7864.87  10.8941  0.02   309   \n",
              "3      1126.38   3.91  ...  130.72  2387.61  8068.66   9.3528  0.02   329   \n",
              "4      1047.93   7.05  ...  164.31  2028.00  7861.23  10.8963  0.02   309   \n",
              "...        ...    ...  ...     ...      ...      ...      ...   ...   ...   \n",
              "53754  1269.51   9.35  ...  314.05  2389.02  8169.64   9.3035  0.03   369   \n",
              "53755  1324.12  10.52  ...  371.22  2388.42  8245.36   8.7586  0.03   374   \n",
              "53756  1057.92   7.05  ...  163.74  2030.33  7971.25  11.0657  0.02   310   \n",
              "53757  1066.30   7.05  ...  164.37  2030.35  7972.47  11.0537  0.02   311   \n",
              "53758  1145.52   5.48  ...  183.09  2390.38  8185.35   9.3998  0.02   338   \n",
              "\n",
              "       s_17    s_18   s_19     s_20  \n",
              "0      2223  100.00  14.73   8.8071  \n",
              "1      2212  100.00  10.41   6.2665  \n",
              "2      1915   84.93  14.08   8.6723  \n",
              "3      2212  100.00  10.59   6.4701  \n",
              "4      1915   84.93  14.13   8.5286  \n",
              "...     ...     ...    ...      ...  \n",
              "53754  2324  100.00  24.36  14.5189  \n",
              "53755  2319  100.00  28.10  16.9454  \n",
              "53756  1915   84.93  14.19   8.5503  \n",
              "53757  1915   84.93  14.05   8.3729  \n",
              "53758  2223  100.00  14.75   8.8446  \n",
              "\n",
              "[53759 rows x 26 columns]"
            ],
            "text/html": [
              "\n",
              "  <div id=\"df-078a272c-9694-46bb-9145-36ff77fee597\">\n",
              "    <div class=\"colab-df-container\">\n",
              "      <div>\n",
              "<style scoped>\n",
              "    .dataframe tbody tr th:only-of-type {\n",
              "        vertical-align: middle;\n",
              "    }\n",
              "\n",
              "    .dataframe tbody tr th {\n",
              "        vertical-align: top;\n",
              "    }\n",
              "\n",
              "    .dataframe thead th {\n",
              "        text-align: right;\n",
              "    }\n",
              "</style>\n",
              "<table border=\"1\" class=\"dataframe\">\n",
              "  <thead>\n",
              "    <tr style=\"text-align: right;\">\n",
              "      <th></th>\n",
              "      <th>unit_number</th>\n",
              "      <th>time</th>\n",
              "      <th>op_1</th>\n",
              "      <th>op_2</th>\n",
              "      <th>op_3</th>\n",
              "      <th>s_0</th>\n",
              "      <th>s_1</th>\n",
              "      <th>s_2</th>\n",
              "      <th>s_3</th>\n",
              "      <th>s_4</th>\n",
              "      <th>...</th>\n",
              "      <th>s_11</th>\n",
              "      <th>s_12</th>\n",
              "      <th>s_13</th>\n",
              "      <th>s_14</th>\n",
              "      <th>s_15</th>\n",
              "      <th>s_16</th>\n",
              "      <th>s_17</th>\n",
              "      <th>s_18</th>\n",
              "      <th>s_19</th>\n",
              "      <th>s_20</th>\n",
              "    </tr>\n",
              "  </thead>\n",
              "  <tbody>\n",
              "    <tr>\n",
              "      <th>0</th>\n",
              "      <td>1</td>\n",
              "      <td>1</td>\n",
              "      <td>34.9983</td>\n",
              "      <td>0.8400</td>\n",
              "      <td>100.0</td>\n",
              "      <td>449.44</td>\n",
              "      <td>555.32</td>\n",
              "      <td>1358.61</td>\n",
              "      <td>1137.23</td>\n",
              "      <td>5.48</td>\n",
              "      <td>...</td>\n",
              "      <td>183.06</td>\n",
              "      <td>2387.72</td>\n",
              "      <td>8048.56</td>\n",
              "      <td>9.3461</td>\n",
              "      <td>0.02</td>\n",
              "      <td>334</td>\n",
              "      <td>2223</td>\n",
              "      <td>100.00</td>\n",
              "      <td>14.73</td>\n",
              "      <td>8.8071</td>\n",
              "    </tr>\n",
              "    <tr>\n",
              "      <th>1</th>\n",
              "      <td>1</td>\n",
              "      <td>2</td>\n",
              "      <td>41.9982</td>\n",
              "      <td>0.8408</td>\n",
              "      <td>100.0</td>\n",
              "      <td>445.00</td>\n",
              "      <td>549.90</td>\n",
              "      <td>1353.22</td>\n",
              "      <td>1125.78</td>\n",
              "      <td>3.91</td>\n",
              "      <td>...</td>\n",
              "      <td>130.42</td>\n",
              "      <td>2387.66</td>\n",
              "      <td>8072.30</td>\n",
              "      <td>9.3774</td>\n",
              "      <td>0.02</td>\n",
              "      <td>330</td>\n",
              "      <td>2212</td>\n",
              "      <td>100.00</td>\n",
              "      <td>10.41</td>\n",
              "      <td>6.2665</td>\n",
              "    </tr>\n",
              "    <tr>\n",
              "      <th>2</th>\n",
              "      <td>1</td>\n",
              "      <td>3</td>\n",
              "      <td>24.9988</td>\n",
              "      <td>0.6218</td>\n",
              "      <td>60.0</td>\n",
              "      <td>462.54</td>\n",
              "      <td>537.31</td>\n",
              "      <td>1256.76</td>\n",
              "      <td>1047.45</td>\n",
              "      <td>7.05</td>\n",
              "      <td>...</td>\n",
              "      <td>164.22</td>\n",
              "      <td>2028.03</td>\n",
              "      <td>7864.87</td>\n",
              "      <td>10.8941</td>\n",
              "      <td>0.02</td>\n",
              "      <td>309</td>\n",
              "      <td>1915</td>\n",
              "      <td>84.93</td>\n",
              "      <td>14.08</td>\n",
              "      <td>8.6723</td>\n",
              "    </tr>\n",
              "    <tr>\n",
              "      <th>3</th>\n",
              "      <td>1</td>\n",
              "      <td>4</td>\n",
              "      <td>42.0077</td>\n",
              "      <td>0.8416</td>\n",
              "      <td>100.0</td>\n",
              "      <td>445.00</td>\n",
              "      <td>549.51</td>\n",
              "      <td>1354.03</td>\n",
              "      <td>1126.38</td>\n",
              "      <td>3.91</td>\n",
              "      <td>...</td>\n",
              "      <td>130.72</td>\n",
              "      <td>2387.61</td>\n",
              "      <td>8068.66</td>\n",
              "      <td>9.3528</td>\n",
              "      <td>0.02</td>\n",
              "      <td>329</td>\n",
              "      <td>2212</td>\n",
              "      <td>100.00</td>\n",
              "      <td>10.59</td>\n",
              "      <td>6.4701</td>\n",
              "    </tr>\n",
              "    <tr>\n",
              "      <th>4</th>\n",
              "      <td>1</td>\n",
              "      <td>5</td>\n",
              "      <td>25.0005</td>\n",
              "      <td>0.6203</td>\n",
              "      <td>60.0</td>\n",
              "      <td>462.54</td>\n",
              "      <td>537.07</td>\n",
              "      <td>1257.71</td>\n",
              "      <td>1047.93</td>\n",
              "      <td>7.05</td>\n",
              "      <td>...</td>\n",
              "      <td>164.31</td>\n",
              "      <td>2028.00</td>\n",
              "      <td>7861.23</td>\n",
              "      <td>10.8963</td>\n",
              "      <td>0.02</td>\n",
              "      <td>309</td>\n",
              "      <td>1915</td>\n",
              "      <td>84.93</td>\n",
              "      <td>14.13</td>\n",
              "      <td>8.5286</td>\n",
              "    </tr>\n",
              "    <tr>\n",
              "      <th>...</th>\n",
              "      <td>...</td>\n",
              "      <td>...</td>\n",
              "      <td>...</td>\n",
              "      <td>...</td>\n",
              "      <td>...</td>\n",
              "      <td>...</td>\n",
              "      <td>...</td>\n",
              "      <td>...</td>\n",
              "      <td>...</td>\n",
              "      <td>...</td>\n",
              "      <td>...</td>\n",
              "      <td>...</td>\n",
              "      <td>...</td>\n",
              "      <td>...</td>\n",
              "      <td>...</td>\n",
              "      <td>...</td>\n",
              "      <td>...</td>\n",
              "      <td>...</td>\n",
              "      <td>...</td>\n",
              "      <td>...</td>\n",
              "      <td>...</td>\n",
              "    </tr>\n",
              "    <tr>\n",
              "      <th>53754</th>\n",
              "      <td>260</td>\n",
              "      <td>312</td>\n",
              "      <td>20.0037</td>\n",
              "      <td>0.7000</td>\n",
              "      <td>100.0</td>\n",
              "      <td>491.19</td>\n",
              "      <td>608.79</td>\n",
              "      <td>1495.60</td>\n",
              "      <td>1269.51</td>\n",
              "      <td>9.35</td>\n",
              "      <td>...</td>\n",
              "      <td>314.05</td>\n",
              "      <td>2389.02</td>\n",
              "      <td>8169.64</td>\n",
              "      <td>9.3035</td>\n",
              "      <td>0.03</td>\n",
              "      <td>369</td>\n",
              "      <td>2324</td>\n",
              "      <td>100.00</td>\n",
              "      <td>24.36</td>\n",
              "      <td>14.5189</td>\n",
              "    </tr>\n",
              "    <tr>\n",
              "      <th>53755</th>\n",
              "      <td>260</td>\n",
              "      <td>313</td>\n",
              "      <td>10.0022</td>\n",
              "      <td>0.2510</td>\n",
              "      <td>100.0</td>\n",
              "      <td>489.05</td>\n",
              "      <td>605.81</td>\n",
              "      <td>1514.32</td>\n",
              "      <td>1324.12</td>\n",
              "      <td>10.52</td>\n",
              "      <td>...</td>\n",
              "      <td>371.22</td>\n",
              "      <td>2388.42</td>\n",
              "      <td>8245.36</td>\n",
              "      <td>8.7586</td>\n",
              "      <td>0.03</td>\n",
              "      <td>374</td>\n",
              "      <td>2319</td>\n",
              "      <td>100.00</td>\n",
              "      <td>28.10</td>\n",
              "      <td>16.9454</td>\n",
              "    </tr>\n",
              "    <tr>\n",
              "      <th>53756</th>\n",
              "      <td>260</td>\n",
              "      <td>314</td>\n",
              "      <td>25.0041</td>\n",
              "      <td>0.6200</td>\n",
              "      <td>60.0</td>\n",
              "      <td>462.54</td>\n",
              "      <td>537.48</td>\n",
              "      <td>1276.24</td>\n",
              "      <td>1057.92</td>\n",
              "      <td>7.05</td>\n",
              "      <td>...</td>\n",
              "      <td>163.74</td>\n",
              "      <td>2030.33</td>\n",
              "      <td>7971.25</td>\n",
              "      <td>11.0657</td>\n",
              "      <td>0.02</td>\n",
              "      <td>310</td>\n",
              "      <td>1915</td>\n",
              "      <td>84.93</td>\n",
              "      <td>14.19</td>\n",
              "      <td>8.5503</td>\n",
              "    </tr>\n",
              "    <tr>\n",
              "      <th>53757</th>\n",
              "      <td>260</td>\n",
              "      <td>315</td>\n",
              "      <td>25.0033</td>\n",
              "      <td>0.6220</td>\n",
              "      <td>60.0</td>\n",
              "      <td>462.54</td>\n",
              "      <td>537.84</td>\n",
              "      <td>1272.95</td>\n",
              "      <td>1066.30</td>\n",
              "      <td>7.05</td>\n",
              "      <td>...</td>\n",
              "      <td>164.37</td>\n",
              "      <td>2030.35</td>\n",
              "      <td>7972.47</td>\n",
              "      <td>11.0537</td>\n",
              "      <td>0.02</td>\n",
              "      <td>311</td>\n",
              "      <td>1915</td>\n",
              "      <td>84.93</td>\n",
              "      <td>14.05</td>\n",
              "      <td>8.3729</td>\n",
              "    </tr>\n",
              "    <tr>\n",
              "      <th>53758</th>\n",
              "      <td>260</td>\n",
              "      <td>316</td>\n",
              "      <td>35.0036</td>\n",
              "      <td>0.8400</td>\n",
              "      <td>100.0</td>\n",
              "      <td>449.44</td>\n",
              "      <td>556.64</td>\n",
              "      <td>1374.61</td>\n",
              "      <td>1145.52</td>\n",
              "      <td>5.48</td>\n",
              "      <td>...</td>\n",
              "      <td>183.09</td>\n",
              "      <td>2390.38</td>\n",
              "      <td>8185.35</td>\n",
              "      <td>9.3998</td>\n",
              "      <td>0.02</td>\n",
              "      <td>338</td>\n",
              "      <td>2223</td>\n",
              "      <td>100.00</td>\n",
              "      <td>14.75</td>\n",
              "      <td>8.8446</td>\n",
              "    </tr>\n",
              "  </tbody>\n",
              "</table>\n",
              "<p>53759 rows × 26 columns</p>\n",
              "</div>\n",
              "      <button class=\"colab-df-convert\" onclick=\"convertToInteractive('df-078a272c-9694-46bb-9145-36ff77fee597')\"\n",
              "              title=\"Convert this dataframe to an interactive table.\"\n",
              "              style=\"display:none;\">\n",
              "        \n",
              "  <svg xmlns=\"http://www.w3.org/2000/svg\" height=\"24px\"viewBox=\"0 0 24 24\"\n",
              "       width=\"24px\">\n",
              "    <path d=\"M0 0h24v24H0V0z\" fill=\"none\"/>\n",
              "    <path d=\"M18.56 5.44l.94 2.06.94-2.06 2.06-.94-2.06-.94-.94-2.06-.94 2.06-2.06.94zm-11 1L8.5 8.5l.94-2.06 2.06-.94-2.06-.94L8.5 2.5l-.94 2.06-2.06.94zm10 10l.94 2.06.94-2.06 2.06-.94-2.06-.94-.94-2.06-.94 2.06-2.06.94z\"/><path d=\"M17.41 7.96l-1.37-1.37c-.4-.4-.92-.59-1.43-.59-.52 0-1.04.2-1.43.59L10.3 9.45l-7.72 7.72c-.78.78-.78 2.05 0 2.83L4 21.41c.39.39.9.59 1.41.59.51 0 1.02-.2 1.41-.59l7.78-7.78 2.81-2.81c.8-.78.8-2.07 0-2.86zM5.41 20L4 18.59l7.72-7.72 1.47 1.35L5.41 20z\"/>\n",
              "  </svg>\n",
              "      </button>\n",
              "      \n",
              "  <style>\n",
              "    .colab-df-container {\n",
              "      display:flex;\n",
              "      flex-wrap:wrap;\n",
              "      gap: 12px;\n",
              "    }\n",
              "\n",
              "    .colab-df-convert {\n",
              "      background-color: #E8F0FE;\n",
              "      border: none;\n",
              "      border-radius: 50%;\n",
              "      cursor: pointer;\n",
              "      display: none;\n",
              "      fill: #1967D2;\n",
              "      height: 32px;\n",
              "      padding: 0 0 0 0;\n",
              "      width: 32px;\n",
              "    }\n",
              "\n",
              "    .colab-df-convert:hover {\n",
              "      background-color: #E2EBFA;\n",
              "      box-shadow: 0px 1px 2px rgba(60, 64, 67, 0.3), 0px 1px 3px 1px rgba(60, 64, 67, 0.15);\n",
              "      fill: #174EA6;\n",
              "    }\n",
              "\n",
              "    [theme=dark] .colab-df-convert {\n",
              "      background-color: #3B4455;\n",
              "      fill: #D2E3FC;\n",
              "    }\n",
              "\n",
              "    [theme=dark] .colab-df-convert:hover {\n",
              "      background-color: #434B5C;\n",
              "      box-shadow: 0px 1px 3px 1px rgba(0, 0, 0, 0.15);\n",
              "      filter: drop-shadow(0px 1px 2px rgba(0, 0, 0, 0.3));\n",
              "      fill: #FFFFFF;\n",
              "    }\n",
              "  </style>\n",
              "\n",
              "      <script>\n",
              "        const buttonEl =\n",
              "          document.querySelector('#df-078a272c-9694-46bb-9145-36ff77fee597 button.colab-df-convert');\n",
              "        buttonEl.style.display =\n",
              "          google.colab.kernel.accessAllowed ? 'block' : 'none';\n",
              "\n",
              "        async function convertToInteractive(key) {\n",
              "          const element = document.querySelector('#df-078a272c-9694-46bb-9145-36ff77fee597');\n",
              "          const dataTable =\n",
              "            await google.colab.kernel.invokeFunction('convertToInteractive',\n",
              "                                                     [key], {});\n",
              "          if (!dataTable) return;\n",
              "\n",
              "          const docLinkHtml = 'Like what you see? Visit the ' +\n",
              "            '<a target=\"_blank\" href=https://colab.research.google.com/notebooks/data_table.ipynb>data table notebook</a>'\n",
              "            + ' to learn more about interactive tables.';\n",
              "          element.innerHTML = '';\n",
              "          dataTable['output_type'] = 'display_data';\n",
              "          await google.colab.output.renderOutput(dataTable, element);\n",
              "          const docLink = document.createElement('div');\n",
              "          docLink.innerHTML = docLinkHtml;\n",
              "          element.appendChild(docLink);\n",
              "        }\n",
              "      </script>\n",
              "    </div>\n",
              "  </div>\n",
              "  "
            ]
          },
          "metadata": {},
          "execution_count": 7
        }
      ]
    },
    {
      "cell_type": "markdown",
      "source": [
        "## Preprocessing"
      ],
      "metadata": {
        "id": "n7MBDuPasy-s"
      }
    },
    {
      "cell_type": "markdown",
      "source": [
        "### Test Set Transformation \n",
        "Test set has samples for all cycles, but has annotations only for last one"
      ],
      "metadata": {
        "id": "QinQ4hWStzHt"
      }
    },
    {
      "cell_type": "code",
      "source": [
        "test.shape, y_test.shape"
      ],
      "metadata": {
        "colab": {
          "base_uri": "https://localhost:8080/"
        },
        "id": "4wtvRNsfuUwg",
        "outputId": "442e889b-50a2-4071-d908-9181e3d9ac67"
      },
      "execution_count": 8,
      "outputs": [
        {
          "output_type": "execute_result",
          "data": {
            "text/plain": [
              "((33991, 26), (259, 1))"
            ]
          },
          "metadata": {},
          "execution_count": 8
        }
      ]
    },
    {
      "cell_type": "code",
      "source": [
        "test_last = proc.transform_test_keep_setting(test)\n",
        "test_last.head()"
      ],
      "metadata": {
        "colab": {
          "base_uri": "https://localhost:8080/",
          "height": 236
        },
        "id": "onw4pCwZy-1s",
        "outputId": "b12ec293-ac36-4c6d-d954-aa87cd2f9a40"
      },
      "execution_count": 9,
      "outputs": [
        {
          "output_type": "execute_result",
          "data": {
            "text/plain": [
              "      op_1    op_2   op_3     s_0     s_1      s_2      s_3    s_4    s_5  \\\n",
              "0  10.0076  0.2501  100.0  489.05  605.42  1515.00  1325.07  10.52  15.50   \n",
              "1   0.0018  0.0000  100.0  518.67  642.67  1591.67  1418.17  14.62  21.61   \n",
              "2  35.0015  0.8412  100.0  449.44  555.86  1370.62  1135.59   5.48   8.00   \n",
              "3  20.0032  0.7000  100.0  491.19  607.99  1487.94  1257.49   9.35  13.66   \n",
              "4  42.0055  0.8400  100.0  445.00  550.81  1358.95  1140.34   3.91   5.72   \n",
              "\n",
              "      s_6  ...    s_11     s_12     s_13    s_14  s_15  s_16  s_17   s_18  \\\n",
              "0  393.58  ...  370.87  2388.32  8167.06  8.7456  0.03   371  2319  100.0   \n",
              "1  553.36  ...  521.10  2388.12  8138.12  8.4248  0.03   393  2388  100.0   \n",
              "2  194.58  ...  183.11  2388.07  8071.23  9.3094  0.02   332  2223  100.0   \n",
              "3  334.39  ...  314.88  2388.12  8062.39  9.2349  0.02   365  2324  100.0   \n",
              "4  138.42  ...  130.82  2389.06  8140.94  9.3964  0.02   333  2212  100.0   \n",
              "\n",
              "    s_19     s_20  \n",
              "0  28.30  17.0934  \n",
              "1  38.82  23.3463  \n",
              "2  14.75   8.9589  \n",
              "3  24.22  14.6814  \n",
              "4  10.34   6.3601  \n",
              "\n",
              "[5 rows x 24 columns]"
            ],
            "text/html": [
              "\n",
              "  <div id=\"df-8189bb20-40f3-4107-a129-d25e28db4551\">\n",
              "    <div class=\"colab-df-container\">\n",
              "      <div>\n",
              "<style scoped>\n",
              "    .dataframe tbody tr th:only-of-type {\n",
              "        vertical-align: middle;\n",
              "    }\n",
              "\n",
              "    .dataframe tbody tr th {\n",
              "        vertical-align: top;\n",
              "    }\n",
              "\n",
              "    .dataframe thead th {\n",
              "        text-align: right;\n",
              "    }\n",
              "</style>\n",
              "<table border=\"1\" class=\"dataframe\">\n",
              "  <thead>\n",
              "    <tr style=\"text-align: right;\">\n",
              "      <th></th>\n",
              "      <th>op_1</th>\n",
              "      <th>op_2</th>\n",
              "      <th>op_3</th>\n",
              "      <th>s_0</th>\n",
              "      <th>s_1</th>\n",
              "      <th>s_2</th>\n",
              "      <th>s_3</th>\n",
              "      <th>s_4</th>\n",
              "      <th>s_5</th>\n",
              "      <th>s_6</th>\n",
              "      <th>...</th>\n",
              "      <th>s_11</th>\n",
              "      <th>s_12</th>\n",
              "      <th>s_13</th>\n",
              "      <th>s_14</th>\n",
              "      <th>s_15</th>\n",
              "      <th>s_16</th>\n",
              "      <th>s_17</th>\n",
              "      <th>s_18</th>\n",
              "      <th>s_19</th>\n",
              "      <th>s_20</th>\n",
              "    </tr>\n",
              "  </thead>\n",
              "  <tbody>\n",
              "    <tr>\n",
              "      <th>0</th>\n",
              "      <td>10.0076</td>\n",
              "      <td>0.2501</td>\n",
              "      <td>100.0</td>\n",
              "      <td>489.05</td>\n",
              "      <td>605.42</td>\n",
              "      <td>1515.00</td>\n",
              "      <td>1325.07</td>\n",
              "      <td>10.52</td>\n",
              "      <td>15.50</td>\n",
              "      <td>393.58</td>\n",
              "      <td>...</td>\n",
              "      <td>370.87</td>\n",
              "      <td>2388.32</td>\n",
              "      <td>8167.06</td>\n",
              "      <td>8.7456</td>\n",
              "      <td>0.03</td>\n",
              "      <td>371</td>\n",
              "      <td>2319</td>\n",
              "      <td>100.0</td>\n",
              "      <td>28.30</td>\n",
              "      <td>17.0934</td>\n",
              "    </tr>\n",
              "    <tr>\n",
              "      <th>1</th>\n",
              "      <td>0.0018</td>\n",
              "      <td>0.0000</td>\n",
              "      <td>100.0</td>\n",
              "      <td>518.67</td>\n",
              "      <td>642.67</td>\n",
              "      <td>1591.67</td>\n",
              "      <td>1418.17</td>\n",
              "      <td>14.62</td>\n",
              "      <td>21.61</td>\n",
              "      <td>553.36</td>\n",
              "      <td>...</td>\n",
              "      <td>521.10</td>\n",
              "      <td>2388.12</td>\n",
              "      <td>8138.12</td>\n",
              "      <td>8.4248</td>\n",
              "      <td>0.03</td>\n",
              "      <td>393</td>\n",
              "      <td>2388</td>\n",
              "      <td>100.0</td>\n",
              "      <td>38.82</td>\n",
              "      <td>23.3463</td>\n",
              "    </tr>\n",
              "    <tr>\n",
              "      <th>2</th>\n",
              "      <td>35.0015</td>\n",
              "      <td>0.8412</td>\n",
              "      <td>100.0</td>\n",
              "      <td>449.44</td>\n",
              "      <td>555.86</td>\n",
              "      <td>1370.62</td>\n",
              "      <td>1135.59</td>\n",
              "      <td>5.48</td>\n",
              "      <td>8.00</td>\n",
              "      <td>194.58</td>\n",
              "      <td>...</td>\n",
              "      <td>183.11</td>\n",
              "      <td>2388.07</td>\n",
              "      <td>8071.23</td>\n",
              "      <td>9.3094</td>\n",
              "      <td>0.02</td>\n",
              "      <td>332</td>\n",
              "      <td>2223</td>\n",
              "      <td>100.0</td>\n",
              "      <td>14.75</td>\n",
              "      <td>8.9589</td>\n",
              "    </tr>\n",
              "    <tr>\n",
              "      <th>3</th>\n",
              "      <td>20.0032</td>\n",
              "      <td>0.7000</td>\n",
              "      <td>100.0</td>\n",
              "      <td>491.19</td>\n",
              "      <td>607.99</td>\n",
              "      <td>1487.94</td>\n",
              "      <td>1257.49</td>\n",
              "      <td>9.35</td>\n",
              "      <td>13.66</td>\n",
              "      <td>334.39</td>\n",
              "      <td>...</td>\n",
              "      <td>314.88</td>\n",
              "      <td>2388.12</td>\n",
              "      <td>8062.39</td>\n",
              "      <td>9.2349</td>\n",
              "      <td>0.02</td>\n",
              "      <td>365</td>\n",
              "      <td>2324</td>\n",
              "      <td>100.0</td>\n",
              "      <td>24.22</td>\n",
              "      <td>14.6814</td>\n",
              "    </tr>\n",
              "    <tr>\n",
              "      <th>4</th>\n",
              "      <td>42.0055</td>\n",
              "      <td>0.8400</td>\n",
              "      <td>100.0</td>\n",
              "      <td>445.00</td>\n",
              "      <td>550.81</td>\n",
              "      <td>1358.95</td>\n",
              "      <td>1140.34</td>\n",
              "      <td>3.91</td>\n",
              "      <td>5.72</td>\n",
              "      <td>138.42</td>\n",
              "      <td>...</td>\n",
              "      <td>130.82</td>\n",
              "      <td>2389.06</td>\n",
              "      <td>8140.94</td>\n",
              "      <td>9.3964</td>\n",
              "      <td>0.02</td>\n",
              "      <td>333</td>\n",
              "      <td>2212</td>\n",
              "      <td>100.0</td>\n",
              "      <td>10.34</td>\n",
              "      <td>6.3601</td>\n",
              "    </tr>\n",
              "  </tbody>\n",
              "</table>\n",
              "<p>5 rows × 24 columns</p>\n",
              "</div>\n",
              "      <button class=\"colab-df-convert\" onclick=\"convertToInteractive('df-8189bb20-40f3-4107-a129-d25e28db4551')\"\n",
              "              title=\"Convert this dataframe to an interactive table.\"\n",
              "              style=\"display:none;\">\n",
              "        \n",
              "  <svg xmlns=\"http://www.w3.org/2000/svg\" height=\"24px\"viewBox=\"0 0 24 24\"\n",
              "       width=\"24px\">\n",
              "    <path d=\"M0 0h24v24H0V0z\" fill=\"none\"/>\n",
              "    <path d=\"M18.56 5.44l.94 2.06.94-2.06 2.06-.94-2.06-.94-.94-2.06-.94 2.06-2.06.94zm-11 1L8.5 8.5l.94-2.06 2.06-.94-2.06-.94L8.5 2.5l-.94 2.06-2.06.94zm10 10l.94 2.06.94-2.06 2.06-.94-2.06-.94-.94-2.06-.94 2.06-2.06.94z\"/><path d=\"M17.41 7.96l-1.37-1.37c-.4-.4-.92-.59-1.43-.59-.52 0-1.04.2-1.43.59L10.3 9.45l-7.72 7.72c-.78.78-.78 2.05 0 2.83L4 21.41c.39.39.9.59 1.41.59.51 0 1.02-.2 1.41-.59l7.78-7.78 2.81-2.81c.8-.78.8-2.07 0-2.86zM5.41 20L4 18.59l7.72-7.72 1.47 1.35L5.41 20z\"/>\n",
              "  </svg>\n",
              "      </button>\n",
              "      \n",
              "  <style>\n",
              "    .colab-df-container {\n",
              "      display:flex;\n",
              "      flex-wrap:wrap;\n",
              "      gap: 12px;\n",
              "    }\n",
              "\n",
              "    .colab-df-convert {\n",
              "      background-color: #E8F0FE;\n",
              "      border: none;\n",
              "      border-radius: 50%;\n",
              "      cursor: pointer;\n",
              "      display: none;\n",
              "      fill: #1967D2;\n",
              "      height: 32px;\n",
              "      padding: 0 0 0 0;\n",
              "      width: 32px;\n",
              "    }\n",
              "\n",
              "    .colab-df-convert:hover {\n",
              "      background-color: #E2EBFA;\n",
              "      box-shadow: 0px 1px 2px rgba(60, 64, 67, 0.3), 0px 1px 3px 1px rgba(60, 64, 67, 0.15);\n",
              "      fill: #174EA6;\n",
              "    }\n",
              "\n",
              "    [theme=dark] .colab-df-convert {\n",
              "      background-color: #3B4455;\n",
              "      fill: #D2E3FC;\n",
              "    }\n",
              "\n",
              "    [theme=dark] .colab-df-convert:hover {\n",
              "      background-color: #434B5C;\n",
              "      box-shadow: 0px 1px 3px 1px rgba(0, 0, 0, 0.15);\n",
              "      filter: drop-shadow(0px 1px 2px rgba(0, 0, 0, 0.3));\n",
              "      fill: #FFFFFF;\n",
              "    }\n",
              "  </style>\n",
              "\n",
              "      <script>\n",
              "        const buttonEl =\n",
              "          document.querySelector('#df-8189bb20-40f3-4107-a129-d25e28db4551 button.colab-df-convert');\n",
              "        buttonEl.style.display =\n",
              "          google.colab.kernel.accessAllowed ? 'block' : 'none';\n",
              "\n",
              "        async function convertToInteractive(key) {\n",
              "          const element = document.querySelector('#df-8189bb20-40f3-4107-a129-d25e28db4551');\n",
              "          const dataTable =\n",
              "            await google.colab.kernel.invokeFunction('convertToInteractive',\n",
              "                                                     [key], {});\n",
              "          if (!dataTable) return;\n",
              "\n",
              "          const docLinkHtml = 'Like what you see? Visit the ' +\n",
              "            '<a target=\"_blank\" href=https://colab.research.google.com/notebooks/data_table.ipynb>data table notebook</a>'\n",
              "            + ' to learn more about interactive tables.';\n",
              "          element.innerHTML = '';\n",
              "          dataTable['output_type'] = 'display_data';\n",
              "          await google.colab.output.renderOutput(dataTable, element);\n",
              "          const docLink = document.createElement('div');\n",
              "          docLink.innerHTML = docLinkHtml;\n",
              "          element.appendChild(docLink);\n",
              "        }\n",
              "      </script>\n",
              "    </div>\n",
              "  </div>\n",
              "  "
            ]
          },
          "metadata": {},
          "execution_count": 9
        }
      ]
    },
    {
      "cell_type": "code",
      "source": [
        "X_test = test_last"
      ],
      "metadata": {
        "id": "ar3xxOQvIbHW"
      },
      "execution_count": 10,
      "outputs": []
    },
    {
      "cell_type": "markdown",
      "source": [
        "### Remaining Useful Life (RUL)"
      ],
      "metadata": {
        "id": "boZqFQNlraCh"
      }
    },
    {
      "cell_type": "code",
      "source": [
        "train = proc.add_remaining_useful_life_linear(train)\n",
        "train[index_cols+['RUL']].head()"
      ],
      "metadata": {
        "colab": {
          "base_uri": "https://localhost:8080/",
          "height": 206
        },
        "id": "lmFKjQaeip1b",
        "outputId": "691fd5ba-0552-447b-e947-685e66207634"
      },
      "execution_count": 11,
      "outputs": [
        {
          "output_type": "execute_result",
          "data": {
            "text/plain": [
              "   unit_number  time  RUL\n",
              "0            1     1  148\n",
              "1            1     2  147\n",
              "2            1     3  146\n",
              "3            1     4  145\n",
              "4            1     5  144"
            ],
            "text/html": [
              "\n",
              "  <div id=\"df-0cb0364d-3ba7-4bbd-a0ca-9198438d0b8e\">\n",
              "    <div class=\"colab-df-container\">\n",
              "      <div>\n",
              "<style scoped>\n",
              "    .dataframe tbody tr th:only-of-type {\n",
              "        vertical-align: middle;\n",
              "    }\n",
              "\n",
              "    .dataframe tbody tr th {\n",
              "        vertical-align: top;\n",
              "    }\n",
              "\n",
              "    .dataframe thead th {\n",
              "        text-align: right;\n",
              "    }\n",
              "</style>\n",
              "<table border=\"1\" class=\"dataframe\">\n",
              "  <thead>\n",
              "    <tr style=\"text-align: right;\">\n",
              "      <th></th>\n",
              "      <th>unit_number</th>\n",
              "      <th>time</th>\n",
              "      <th>RUL</th>\n",
              "    </tr>\n",
              "  </thead>\n",
              "  <tbody>\n",
              "    <tr>\n",
              "      <th>0</th>\n",
              "      <td>1</td>\n",
              "      <td>1</td>\n",
              "      <td>148</td>\n",
              "    </tr>\n",
              "    <tr>\n",
              "      <th>1</th>\n",
              "      <td>1</td>\n",
              "      <td>2</td>\n",
              "      <td>147</td>\n",
              "    </tr>\n",
              "    <tr>\n",
              "      <th>2</th>\n",
              "      <td>1</td>\n",
              "      <td>3</td>\n",
              "      <td>146</td>\n",
              "    </tr>\n",
              "    <tr>\n",
              "      <th>3</th>\n",
              "      <td>1</td>\n",
              "      <td>4</td>\n",
              "      <td>145</td>\n",
              "    </tr>\n",
              "    <tr>\n",
              "      <th>4</th>\n",
              "      <td>1</td>\n",
              "      <td>5</td>\n",
              "      <td>144</td>\n",
              "    </tr>\n",
              "  </tbody>\n",
              "</table>\n",
              "</div>\n",
              "      <button class=\"colab-df-convert\" onclick=\"convertToInteractive('df-0cb0364d-3ba7-4bbd-a0ca-9198438d0b8e')\"\n",
              "              title=\"Convert this dataframe to an interactive table.\"\n",
              "              style=\"display:none;\">\n",
              "        \n",
              "  <svg xmlns=\"http://www.w3.org/2000/svg\" height=\"24px\"viewBox=\"0 0 24 24\"\n",
              "       width=\"24px\">\n",
              "    <path d=\"M0 0h24v24H0V0z\" fill=\"none\"/>\n",
              "    <path d=\"M18.56 5.44l.94 2.06.94-2.06 2.06-.94-2.06-.94-.94-2.06-.94 2.06-2.06.94zm-11 1L8.5 8.5l.94-2.06 2.06-.94-2.06-.94L8.5 2.5l-.94 2.06-2.06.94zm10 10l.94 2.06.94-2.06 2.06-.94-2.06-.94-.94-2.06-.94 2.06-2.06.94z\"/><path d=\"M17.41 7.96l-1.37-1.37c-.4-.4-.92-.59-1.43-.59-.52 0-1.04.2-1.43.59L10.3 9.45l-7.72 7.72c-.78.78-.78 2.05 0 2.83L4 21.41c.39.39.9.59 1.41.59.51 0 1.02-.2 1.41-.59l7.78-7.78 2.81-2.81c.8-.78.8-2.07 0-2.86zM5.41 20L4 18.59l7.72-7.72 1.47 1.35L5.41 20z\"/>\n",
              "  </svg>\n",
              "      </button>\n",
              "      \n",
              "  <style>\n",
              "    .colab-df-container {\n",
              "      display:flex;\n",
              "      flex-wrap:wrap;\n",
              "      gap: 12px;\n",
              "    }\n",
              "\n",
              "    .colab-df-convert {\n",
              "      background-color: #E8F0FE;\n",
              "      border: none;\n",
              "      border-radius: 50%;\n",
              "      cursor: pointer;\n",
              "      display: none;\n",
              "      fill: #1967D2;\n",
              "      height: 32px;\n",
              "      padding: 0 0 0 0;\n",
              "      width: 32px;\n",
              "    }\n",
              "\n",
              "    .colab-df-convert:hover {\n",
              "      background-color: #E2EBFA;\n",
              "      box-shadow: 0px 1px 2px rgba(60, 64, 67, 0.3), 0px 1px 3px 1px rgba(60, 64, 67, 0.15);\n",
              "      fill: #174EA6;\n",
              "    }\n",
              "\n",
              "    [theme=dark] .colab-df-convert {\n",
              "      background-color: #3B4455;\n",
              "      fill: #D2E3FC;\n",
              "    }\n",
              "\n",
              "    [theme=dark] .colab-df-convert:hover {\n",
              "      background-color: #434B5C;\n",
              "      box-shadow: 0px 1px 3px 1px rgba(0, 0, 0, 0.15);\n",
              "      filter: drop-shadow(0px 1px 2px rgba(0, 0, 0, 0.3));\n",
              "      fill: #FFFFFF;\n",
              "    }\n",
              "  </style>\n",
              "\n",
              "      <script>\n",
              "        const buttonEl =\n",
              "          document.querySelector('#df-0cb0364d-3ba7-4bbd-a0ca-9198438d0b8e button.colab-df-convert');\n",
              "        buttonEl.style.display =\n",
              "          google.colab.kernel.accessAllowed ? 'block' : 'none';\n",
              "\n",
              "        async function convertToInteractive(key) {\n",
              "          const element = document.querySelector('#df-0cb0364d-3ba7-4bbd-a0ca-9198438d0b8e');\n",
              "          const dataTable =\n",
              "            await google.colab.kernel.invokeFunction('convertToInteractive',\n",
              "                                                     [key], {});\n",
              "          if (!dataTable) return;\n",
              "\n",
              "          const docLinkHtml = 'Like what you see? Visit the ' +\n",
              "            '<a target=\"_blank\" href=https://colab.research.google.com/notebooks/data_table.ipynb>data table notebook</a>'\n",
              "            + ' to learn more about interactive tables.';\n",
              "          element.innerHTML = '';\n",
              "          dataTable['output_type'] = 'display_data';\n",
              "          await google.colab.output.renderOutput(dataTable, element);\n",
              "          const docLink = document.createElement('div');\n",
              "          docLink.innerHTML = docLinkHtml;\n",
              "          element.appendChild(docLink);\n",
              "        }\n",
              "      </script>\n",
              "    </div>\n",
              "  </div>\n",
              "  "
            ]
          },
          "metadata": {},
          "execution_count": 11
        }
      ]
    },
    {
      "cell_type": "markdown",
      "source": [
        "## Attributes and target separation"
      ],
      "metadata": {
        "id": "IIXnBTkfxpCf"
      }
    },
    {
      "cell_type": "code",
      "source": [
        "X_train, y_train = proc.X_y_train_divide_with_settings(train)"
      ],
      "metadata": {
        "id": "4SzUk6ZLxv6H"
      },
      "execution_count": 12,
      "outputs": []
    },
    {
      "cell_type": "code",
      "source": [
        "y_train.head()"
      ],
      "metadata": {
        "colab": {
          "base_uri": "https://localhost:8080/",
          "height": 206
        },
        "id": "fuAnHn4GxzwM",
        "outputId": "e22628da-8b27-41f3-84c6-ee6a3f6ed238"
      },
      "execution_count": 13,
      "outputs": [
        {
          "output_type": "execute_result",
          "data": {
            "text/plain": [
              "   RUL\n",
              "0  148\n",
              "1  147\n",
              "2  146\n",
              "3  145\n",
              "4  144"
            ],
            "text/html": [
              "\n",
              "  <div id=\"df-d11e04fb-2811-4a10-85c9-ca216749247e\">\n",
              "    <div class=\"colab-df-container\">\n",
              "      <div>\n",
              "<style scoped>\n",
              "    .dataframe tbody tr th:only-of-type {\n",
              "        vertical-align: middle;\n",
              "    }\n",
              "\n",
              "    .dataframe tbody tr th {\n",
              "        vertical-align: top;\n",
              "    }\n",
              "\n",
              "    .dataframe thead th {\n",
              "        text-align: right;\n",
              "    }\n",
              "</style>\n",
              "<table border=\"1\" class=\"dataframe\">\n",
              "  <thead>\n",
              "    <tr style=\"text-align: right;\">\n",
              "      <th></th>\n",
              "      <th>RUL</th>\n",
              "    </tr>\n",
              "  </thead>\n",
              "  <tbody>\n",
              "    <tr>\n",
              "      <th>0</th>\n",
              "      <td>148</td>\n",
              "    </tr>\n",
              "    <tr>\n",
              "      <th>1</th>\n",
              "      <td>147</td>\n",
              "    </tr>\n",
              "    <tr>\n",
              "      <th>2</th>\n",
              "      <td>146</td>\n",
              "    </tr>\n",
              "    <tr>\n",
              "      <th>3</th>\n",
              "      <td>145</td>\n",
              "    </tr>\n",
              "    <tr>\n",
              "      <th>4</th>\n",
              "      <td>144</td>\n",
              "    </tr>\n",
              "  </tbody>\n",
              "</table>\n",
              "</div>\n",
              "      <button class=\"colab-df-convert\" onclick=\"convertToInteractive('df-d11e04fb-2811-4a10-85c9-ca216749247e')\"\n",
              "              title=\"Convert this dataframe to an interactive table.\"\n",
              "              style=\"display:none;\">\n",
              "        \n",
              "  <svg xmlns=\"http://www.w3.org/2000/svg\" height=\"24px\"viewBox=\"0 0 24 24\"\n",
              "       width=\"24px\">\n",
              "    <path d=\"M0 0h24v24H0V0z\" fill=\"none\"/>\n",
              "    <path d=\"M18.56 5.44l.94 2.06.94-2.06 2.06-.94-2.06-.94-.94-2.06-.94 2.06-2.06.94zm-11 1L8.5 8.5l.94-2.06 2.06-.94-2.06-.94L8.5 2.5l-.94 2.06-2.06.94zm10 10l.94 2.06.94-2.06 2.06-.94-2.06-.94-.94-2.06-.94 2.06-2.06.94z\"/><path d=\"M17.41 7.96l-1.37-1.37c-.4-.4-.92-.59-1.43-.59-.52 0-1.04.2-1.43.59L10.3 9.45l-7.72 7.72c-.78.78-.78 2.05 0 2.83L4 21.41c.39.39.9.59 1.41.59.51 0 1.02-.2 1.41-.59l7.78-7.78 2.81-2.81c.8-.78.8-2.07 0-2.86zM5.41 20L4 18.59l7.72-7.72 1.47 1.35L5.41 20z\"/>\n",
              "  </svg>\n",
              "      </button>\n",
              "      \n",
              "  <style>\n",
              "    .colab-df-container {\n",
              "      display:flex;\n",
              "      flex-wrap:wrap;\n",
              "      gap: 12px;\n",
              "    }\n",
              "\n",
              "    .colab-df-convert {\n",
              "      background-color: #E8F0FE;\n",
              "      border: none;\n",
              "      border-radius: 50%;\n",
              "      cursor: pointer;\n",
              "      display: none;\n",
              "      fill: #1967D2;\n",
              "      height: 32px;\n",
              "      padding: 0 0 0 0;\n",
              "      width: 32px;\n",
              "    }\n",
              "\n",
              "    .colab-df-convert:hover {\n",
              "      background-color: #E2EBFA;\n",
              "      box-shadow: 0px 1px 2px rgba(60, 64, 67, 0.3), 0px 1px 3px 1px rgba(60, 64, 67, 0.15);\n",
              "      fill: #174EA6;\n",
              "    }\n",
              "\n",
              "    [theme=dark] .colab-df-convert {\n",
              "      background-color: #3B4455;\n",
              "      fill: #D2E3FC;\n",
              "    }\n",
              "\n",
              "    [theme=dark] .colab-df-convert:hover {\n",
              "      background-color: #434B5C;\n",
              "      box-shadow: 0px 1px 3px 1px rgba(0, 0, 0, 0.15);\n",
              "      filter: drop-shadow(0px 1px 2px rgba(0, 0, 0, 0.3));\n",
              "      fill: #FFFFFF;\n",
              "    }\n",
              "  </style>\n",
              "\n",
              "      <script>\n",
              "        const buttonEl =\n",
              "          document.querySelector('#df-d11e04fb-2811-4a10-85c9-ca216749247e button.colab-df-convert');\n",
              "        buttonEl.style.display =\n",
              "          google.colab.kernel.accessAllowed ? 'block' : 'none';\n",
              "\n",
              "        async function convertToInteractive(key) {\n",
              "          const element = document.querySelector('#df-d11e04fb-2811-4a10-85c9-ca216749247e');\n",
              "          const dataTable =\n",
              "            await google.colab.kernel.invokeFunction('convertToInteractive',\n",
              "                                                     [key], {});\n",
              "          if (!dataTable) return;\n",
              "\n",
              "          const docLinkHtml = 'Like what you see? Visit the ' +\n",
              "            '<a target=\"_blank\" href=https://colab.research.google.com/notebooks/data_table.ipynb>data table notebook</a>'\n",
              "            + ' to learn more about interactive tables.';\n",
              "          element.innerHTML = '';\n",
              "          dataTable['output_type'] = 'display_data';\n",
              "          await google.colab.output.renderOutput(dataTable, element);\n",
              "          const docLink = document.createElement('div');\n",
              "          docLink.innerHTML = docLinkHtml;\n",
              "          element.appendChild(docLink);\n",
              "        }\n",
              "      </script>\n",
              "    </div>\n",
              "  </div>\n",
              "  "
            ]
          },
          "metadata": {},
          "execution_count": 13
        }
      ]
    },
    {
      "cell_type": "code",
      "source": [
        "X_train.head()"
      ],
      "metadata": {
        "colab": {
          "base_uri": "https://localhost:8080/",
          "height": 236
        },
        "id": "26hK4VWkx1R7",
        "outputId": "32ac0559-402e-4b0b-b142-4987f0467968"
      },
      "execution_count": 14,
      "outputs": [
        {
          "output_type": "execute_result",
          "data": {
            "text/plain": [
              "      op_1    op_2   op_3     s_0     s_1      s_2      s_3   s_4   s_5  \\\n",
              "0  34.9983  0.8400  100.0  449.44  555.32  1358.61  1137.23  5.48  8.00   \n",
              "1  41.9982  0.8408  100.0  445.00  549.90  1353.22  1125.78  3.91  5.71   \n",
              "2  24.9988  0.6218   60.0  462.54  537.31  1256.76  1047.45  7.05  9.02   \n",
              "3  42.0077  0.8416  100.0  445.00  549.51  1354.03  1126.38  3.91  5.71   \n",
              "4  25.0005  0.6203   60.0  462.54  537.07  1257.71  1047.93  7.05  9.03   \n",
              "\n",
              "      s_6  ...    s_11     s_12     s_13     s_14  s_15  s_16  s_17    s_18  \\\n",
              "0  194.64  ...  183.06  2387.72  8048.56   9.3461  0.02   334  2223  100.00   \n",
              "1  138.51  ...  130.42  2387.66  8072.30   9.3774  0.02   330  2212  100.00   \n",
              "2  175.71  ...  164.22  2028.03  7864.87  10.8941  0.02   309  1915   84.93   \n",
              "3  138.46  ...  130.72  2387.61  8068.66   9.3528  0.02   329  2212  100.00   \n",
              "4  175.05  ...  164.31  2028.00  7861.23  10.8963  0.02   309  1915   84.93   \n",
              "\n",
              "    s_19    s_20  \n",
              "0  14.73  8.8071  \n",
              "1  10.41  6.2665  \n",
              "2  14.08  8.6723  \n",
              "3  10.59  6.4701  \n",
              "4  14.13  8.5286  \n",
              "\n",
              "[5 rows x 24 columns]"
            ],
            "text/html": [
              "\n",
              "  <div id=\"df-ae6c3059-1748-43a9-bd96-b7e3aecde887\">\n",
              "    <div class=\"colab-df-container\">\n",
              "      <div>\n",
              "<style scoped>\n",
              "    .dataframe tbody tr th:only-of-type {\n",
              "        vertical-align: middle;\n",
              "    }\n",
              "\n",
              "    .dataframe tbody tr th {\n",
              "        vertical-align: top;\n",
              "    }\n",
              "\n",
              "    .dataframe thead th {\n",
              "        text-align: right;\n",
              "    }\n",
              "</style>\n",
              "<table border=\"1\" class=\"dataframe\">\n",
              "  <thead>\n",
              "    <tr style=\"text-align: right;\">\n",
              "      <th></th>\n",
              "      <th>op_1</th>\n",
              "      <th>op_2</th>\n",
              "      <th>op_3</th>\n",
              "      <th>s_0</th>\n",
              "      <th>s_1</th>\n",
              "      <th>s_2</th>\n",
              "      <th>s_3</th>\n",
              "      <th>s_4</th>\n",
              "      <th>s_5</th>\n",
              "      <th>s_6</th>\n",
              "      <th>...</th>\n",
              "      <th>s_11</th>\n",
              "      <th>s_12</th>\n",
              "      <th>s_13</th>\n",
              "      <th>s_14</th>\n",
              "      <th>s_15</th>\n",
              "      <th>s_16</th>\n",
              "      <th>s_17</th>\n",
              "      <th>s_18</th>\n",
              "      <th>s_19</th>\n",
              "      <th>s_20</th>\n",
              "    </tr>\n",
              "  </thead>\n",
              "  <tbody>\n",
              "    <tr>\n",
              "      <th>0</th>\n",
              "      <td>34.9983</td>\n",
              "      <td>0.8400</td>\n",
              "      <td>100.0</td>\n",
              "      <td>449.44</td>\n",
              "      <td>555.32</td>\n",
              "      <td>1358.61</td>\n",
              "      <td>1137.23</td>\n",
              "      <td>5.48</td>\n",
              "      <td>8.00</td>\n",
              "      <td>194.64</td>\n",
              "      <td>...</td>\n",
              "      <td>183.06</td>\n",
              "      <td>2387.72</td>\n",
              "      <td>8048.56</td>\n",
              "      <td>9.3461</td>\n",
              "      <td>0.02</td>\n",
              "      <td>334</td>\n",
              "      <td>2223</td>\n",
              "      <td>100.00</td>\n",
              "      <td>14.73</td>\n",
              "      <td>8.8071</td>\n",
              "    </tr>\n",
              "    <tr>\n",
              "      <th>1</th>\n",
              "      <td>41.9982</td>\n",
              "      <td>0.8408</td>\n",
              "      <td>100.0</td>\n",
              "      <td>445.00</td>\n",
              "      <td>549.90</td>\n",
              "      <td>1353.22</td>\n",
              "      <td>1125.78</td>\n",
              "      <td>3.91</td>\n",
              "      <td>5.71</td>\n",
              "      <td>138.51</td>\n",
              "      <td>...</td>\n",
              "      <td>130.42</td>\n",
              "      <td>2387.66</td>\n",
              "      <td>8072.30</td>\n",
              "      <td>9.3774</td>\n",
              "      <td>0.02</td>\n",
              "      <td>330</td>\n",
              "      <td>2212</td>\n",
              "      <td>100.00</td>\n",
              "      <td>10.41</td>\n",
              "      <td>6.2665</td>\n",
              "    </tr>\n",
              "    <tr>\n",
              "      <th>2</th>\n",
              "      <td>24.9988</td>\n",
              "      <td>0.6218</td>\n",
              "      <td>60.0</td>\n",
              "      <td>462.54</td>\n",
              "      <td>537.31</td>\n",
              "      <td>1256.76</td>\n",
              "      <td>1047.45</td>\n",
              "      <td>7.05</td>\n",
              "      <td>9.02</td>\n",
              "      <td>175.71</td>\n",
              "      <td>...</td>\n",
              "      <td>164.22</td>\n",
              "      <td>2028.03</td>\n",
              "      <td>7864.87</td>\n",
              "      <td>10.8941</td>\n",
              "      <td>0.02</td>\n",
              "      <td>309</td>\n",
              "      <td>1915</td>\n",
              "      <td>84.93</td>\n",
              "      <td>14.08</td>\n",
              "      <td>8.6723</td>\n",
              "    </tr>\n",
              "    <tr>\n",
              "      <th>3</th>\n",
              "      <td>42.0077</td>\n",
              "      <td>0.8416</td>\n",
              "      <td>100.0</td>\n",
              "      <td>445.00</td>\n",
              "      <td>549.51</td>\n",
              "      <td>1354.03</td>\n",
              "      <td>1126.38</td>\n",
              "      <td>3.91</td>\n",
              "      <td>5.71</td>\n",
              "      <td>138.46</td>\n",
              "      <td>...</td>\n",
              "      <td>130.72</td>\n",
              "      <td>2387.61</td>\n",
              "      <td>8068.66</td>\n",
              "      <td>9.3528</td>\n",
              "      <td>0.02</td>\n",
              "      <td>329</td>\n",
              "      <td>2212</td>\n",
              "      <td>100.00</td>\n",
              "      <td>10.59</td>\n",
              "      <td>6.4701</td>\n",
              "    </tr>\n",
              "    <tr>\n",
              "      <th>4</th>\n",
              "      <td>25.0005</td>\n",
              "      <td>0.6203</td>\n",
              "      <td>60.0</td>\n",
              "      <td>462.54</td>\n",
              "      <td>537.07</td>\n",
              "      <td>1257.71</td>\n",
              "      <td>1047.93</td>\n",
              "      <td>7.05</td>\n",
              "      <td>9.03</td>\n",
              "      <td>175.05</td>\n",
              "      <td>...</td>\n",
              "      <td>164.31</td>\n",
              "      <td>2028.00</td>\n",
              "      <td>7861.23</td>\n",
              "      <td>10.8963</td>\n",
              "      <td>0.02</td>\n",
              "      <td>309</td>\n",
              "      <td>1915</td>\n",
              "      <td>84.93</td>\n",
              "      <td>14.13</td>\n",
              "      <td>8.5286</td>\n",
              "    </tr>\n",
              "  </tbody>\n",
              "</table>\n",
              "<p>5 rows × 24 columns</p>\n",
              "</div>\n",
              "      <button class=\"colab-df-convert\" onclick=\"convertToInteractive('df-ae6c3059-1748-43a9-bd96-b7e3aecde887')\"\n",
              "              title=\"Convert this dataframe to an interactive table.\"\n",
              "              style=\"display:none;\">\n",
              "        \n",
              "  <svg xmlns=\"http://www.w3.org/2000/svg\" height=\"24px\"viewBox=\"0 0 24 24\"\n",
              "       width=\"24px\">\n",
              "    <path d=\"M0 0h24v24H0V0z\" fill=\"none\"/>\n",
              "    <path d=\"M18.56 5.44l.94 2.06.94-2.06 2.06-.94-2.06-.94-.94-2.06-.94 2.06-2.06.94zm-11 1L8.5 8.5l.94-2.06 2.06-.94-2.06-.94L8.5 2.5l-.94 2.06-2.06.94zm10 10l.94 2.06.94-2.06 2.06-.94-2.06-.94-.94-2.06-.94 2.06-2.06.94z\"/><path d=\"M17.41 7.96l-1.37-1.37c-.4-.4-.92-.59-1.43-.59-.52 0-1.04.2-1.43.59L10.3 9.45l-7.72 7.72c-.78.78-.78 2.05 0 2.83L4 21.41c.39.39.9.59 1.41.59.51 0 1.02-.2 1.41-.59l7.78-7.78 2.81-2.81c.8-.78.8-2.07 0-2.86zM5.41 20L4 18.59l7.72-7.72 1.47 1.35L5.41 20z\"/>\n",
              "  </svg>\n",
              "      </button>\n",
              "      \n",
              "  <style>\n",
              "    .colab-df-container {\n",
              "      display:flex;\n",
              "      flex-wrap:wrap;\n",
              "      gap: 12px;\n",
              "    }\n",
              "\n",
              "    .colab-df-convert {\n",
              "      background-color: #E8F0FE;\n",
              "      border: none;\n",
              "      border-radius: 50%;\n",
              "      cursor: pointer;\n",
              "      display: none;\n",
              "      fill: #1967D2;\n",
              "      height: 32px;\n",
              "      padding: 0 0 0 0;\n",
              "      width: 32px;\n",
              "    }\n",
              "\n",
              "    .colab-df-convert:hover {\n",
              "      background-color: #E2EBFA;\n",
              "      box-shadow: 0px 1px 2px rgba(60, 64, 67, 0.3), 0px 1px 3px 1px rgba(60, 64, 67, 0.15);\n",
              "      fill: #174EA6;\n",
              "    }\n",
              "\n",
              "    [theme=dark] .colab-df-convert {\n",
              "      background-color: #3B4455;\n",
              "      fill: #D2E3FC;\n",
              "    }\n",
              "\n",
              "    [theme=dark] .colab-df-convert:hover {\n",
              "      background-color: #434B5C;\n",
              "      box-shadow: 0px 1px 3px 1px rgba(0, 0, 0, 0.15);\n",
              "      filter: drop-shadow(0px 1px 2px rgba(0, 0, 0, 0.3));\n",
              "      fill: #FFFFFF;\n",
              "    }\n",
              "  </style>\n",
              "\n",
              "      <script>\n",
              "        const buttonEl =\n",
              "          document.querySelector('#df-ae6c3059-1748-43a9-bd96-b7e3aecde887 button.colab-df-convert');\n",
              "        buttonEl.style.display =\n",
              "          google.colab.kernel.accessAllowed ? 'block' : 'none';\n",
              "\n",
              "        async function convertToInteractive(key) {\n",
              "          const element = document.querySelector('#df-ae6c3059-1748-43a9-bd96-b7e3aecde887');\n",
              "          const dataTable =\n",
              "            await google.colab.kernel.invokeFunction('convertToInteractive',\n",
              "                                                     [key], {});\n",
              "          if (!dataTable) return;\n",
              "\n",
              "          const docLinkHtml = 'Like what you see? Visit the ' +\n",
              "            '<a target=\"_blank\" href=https://colab.research.google.com/notebooks/data_table.ipynb>data table notebook</a>'\n",
              "            + ' to learn more about interactive tables.';\n",
              "          element.innerHTML = '';\n",
              "          dataTable['output_type'] = 'display_data';\n",
              "          await google.colab.output.renderOutput(dataTable, element);\n",
              "          const docLink = document.createElement('div');\n",
              "          docLink.innerHTML = docLinkHtml;\n",
              "          element.appendChild(docLink);\n",
              "        }\n",
              "      </script>\n",
              "    </div>\n",
              "  </div>\n",
              "  "
            ]
          },
          "metadata": {},
          "execution_count": 14
        }
      ]
    },
    {
      "cell_type": "markdown",
      "source": [
        "## Training and Evaluation functions"
      ],
      "metadata": {
        "id": "fQA-YtFMM81M"
      }
    },
    {
      "cell_type": "code",
      "source": [
        "eval = Evaluation()"
      ],
      "metadata": {
        "id": "u88P6scrNTRu"
      },
      "execution_count": 15,
      "outputs": []
    },
    {
      "cell_type": "code",
      "source": [
        "search = HyperparameterSearch()"
      ],
      "metadata": {
        "id": "OUcS61OqPFhp"
      },
      "execution_count": 16,
      "outputs": []
    },
    {
      "cell_type": "markdown",
      "source": [
        "# DecisionTreeRegressor"
      ],
      "metadata": {
        "id": "DU8TxguXIChd"
      }
    },
    {
      "cell_type": "markdown",
      "source": [
        "## Linear RUL"
      ],
      "metadata": {
        "id": "r6YQTm7aOf2G"
      }
    },
    {
      "cell_type": "code",
      "source": [
        "model = Pipeline([\n",
        "    ('tree_reg'  ,   DecisionTreeRegressor(random_state=42))\n",
        "])"
      ],
      "metadata": {
        "id": "4PbFjj3G3QUQ"
      },
      "execution_count": 27,
      "outputs": []
    },
    {
      "cell_type": "code",
      "source": [
        "GRID_SEARCH = True\n",
        "if (GRID_SEARCH):\n",
        "    param_distributions = {\n",
        "        \"tree_reg__criterion\": [\"squared_error\",\"friedman_mse\",\"absolute_error\",\"poisson\"],\n",
        "        \"tree_reg__splitter\": [\"best\", \"random\"],\n",
        "        \"tree_reg__max_depth\": [None,100,200,300],\n",
        "        \"tree_reg__min_samples_split\": [2,5,10,15,20],\n",
        "        \"tree_reg__min_samples_leaf\": [1,2,5,10,15,20,50,100],\n",
        "        \"tree_reg__max_features\": [\"sqrt\", \"log2\"],\n",
        "        \"tree_reg__min_impurity_decrease\": list(np.arange(0,150)/10),\n",
        "        \"tree_reg__ccp_alpha\": list(np.round(np.linspace(0, 2, 81), decimals=3)),\n",
        "    }\n",
        "    model = search.run_HR_GS(model, X_train, y_train, param_distributions, \n",
        "                            scorer='r2', ignore_warnings=True)\n",
        "    print(model)"
      ],
      "metadata": {
        "colab": {
          "base_uri": "https://localhost:8080/"
        },
        "id": "xfElIPxBI8w3",
        "outputId": "cc28a0c8-8420-4809-cbf0-75c09f9ce563"
      },
      "execution_count": 28,
      "outputs": [
        {
          "output_type": "stream",
          "name": "stdout",
          "text": [
            "n_iterations: 5\n",
            "n_required_iterations: 5\n",
            "n_possible_iterations: 5\n",
            "min_resources_: 500\n",
            "max_resources_: 53759\n",
            "aggressive_elimination: False\n",
            "factor: 3\n",
            "----------\n",
            "iter: 0\n",
            "n_candidates: 107\n",
            "n_resources: 500\n",
            "Fitting 5 folds for each of 107 candidates, totalling 535 fits\n",
            "----------\n",
            "iter: 1\n",
            "n_candidates: 36\n",
            "n_resources: 1500\n",
            "Fitting 5 folds for each of 36 candidates, totalling 180 fits\n",
            "----------\n",
            "iter: 2\n",
            "n_candidates: 12\n",
            "n_resources: 4500\n",
            "Fitting 5 folds for each of 12 candidates, totalling 60 fits\n",
            "----------\n",
            "iter: 3\n",
            "n_candidates: 4\n",
            "n_resources: 13500\n",
            "Fitting 5 folds for each of 4 candidates, totalling 20 fits\n",
            "----------\n",
            "iter: 4\n",
            "n_candidates: 2\n",
            "n_resources: 40500\n",
            "Fitting 5 folds for each of 2 candidates, totalling 10 fits\n",
            "Best params:  {'tree_reg__splitter': 'best', 'tree_reg__min_samples_split': 2, 'tree_reg__min_samples_leaf': 20, 'tree_reg__min_impurity_decrease': 3.5, 'tree_reg__max_features': 'log2', 'tree_reg__max_depth': 200, 'tree_reg__criterion': 'friedman_mse', 'tree_reg__ccp_alpha': 0.675}\n",
            "Pipeline(steps=[('tree_reg',\n",
            "                 DecisionTreeRegressor(ccp_alpha=0.675,\n",
            "                                       criterion='friedman_mse', max_depth=200,\n",
            "                                       max_features='log2',\n",
            "                                       min_impurity_decrease=3.5,\n",
            "                                       min_samples_leaf=20, random_state=42))])\n"
          ]
        }
      ]
    },
    {
      "cell_type": "markdown",
      "source": [
        "Best Model:\n",
        "```\n",
        "DecisionTreeRegressor(ccp_alpha=0.675,\n",
        "                        criterion='friedman_mse', max_depth=200,\n",
        "                        max_features='log2',\n",
        "                        min_impurity_decrease=3.5,\n",
        "                        min_samples_leaf=20, random_state=42))\n",
        "```"
      ],
      "metadata": {
        "id": "bKZoX4i15VzV"
      }
    },
    {
      "cell_type": "code",
      "source": [
        "model = Pipeline([\n",
        "    ('tree_reg'  ,   DecisionTreeRegressor(ccp_alpha=0.675,\n",
        "                                       criterion='friedman_mse', max_depth=200,\n",
        "                                       max_features='log2',\n",
        "                                       min_impurity_decrease=3.5,\n",
        "                                       min_samples_leaf=20, random_state=42))\n",
        "])\n",
        "model"
      ],
      "metadata": {
        "colab": {
          "base_uri": "https://localhost:8080/"
        },
        "id": "ZECiy0kVMXxg",
        "outputId": "a3d09f0e-118c-4ff3-dd89-ee47c899b82a"
      },
      "execution_count": 29,
      "outputs": [
        {
          "output_type": "execute_result",
          "data": {
            "text/plain": [
              "Pipeline(steps=[('tree_reg',\n",
              "                 DecisionTreeRegressor(ccp_alpha=0.675,\n",
              "                                       criterion='friedman_mse', max_depth=200,\n",
              "                                       max_features='log2',\n",
              "                                       min_impurity_decrease=3.5,\n",
              "                                       min_samples_leaf=20, random_state=42))])"
            ]
          },
          "metadata": {},
          "execution_count": 29
        }
      ]
    },
    {
      "cell_type": "code",
      "source": [
        "model.fit(X_train, y_train)\n",
        "eval.show_result(y_train, model.predict(X_train))\n",
        "eval.show_result_cv(y_train, X_train, model)"
      ],
      "metadata": {
        "colab": {
          "base_uri": "https://localhost:8080/"
        },
        "id": "vefcPjT2Xb6y",
        "outputId": "0e1712c9-05e5-4c74-ebba-8ba822ff5f91"
      },
      "execution_count": 30,
      "outputs": [
        {
          "output_type": "stream",
          "name": "stdout",
          "text": [
            "R2=0.577,RMSE=-44.984\n",
            "(CV) R2=0.526,RMSE=-47.543\n"
          ]
        }
      ]
    },
    {
      "cell_type": "code",
      "source": [
        "eval.show_result(y_test, model.predict(X_test))"
      ],
      "metadata": {
        "colab": {
          "base_uri": "https://localhost:8080/"
        },
        "id": "367rdLmjRETX",
        "outputId": "9f0223b8-96db-406f-dbba-cd515b8876aa"
      },
      "execution_count": 31,
      "outputs": [
        {
          "output_type": "stream",
          "name": "stdout",
          "text": [
            "R2=0.589,RMSE=-34.462\n"
          ]
        }
      ]
    },
    {
      "cell_type": "markdown",
      "source": [
        "Poor results. A little better than FD001, which should be easier."
      ],
      "metadata": {
        "id": "Www1kqZTMkE1"
      }
    },
    {
      "cell_type": "markdown",
      "source": [
        "## Non-linear RUL"
      ],
      "metadata": {
        "id": "klzYEWjrZiXt"
      }
    },
    {
      "cell_type": "code",
      "source": [
        "model = Pipeline([\n",
        "    ('trf_reg' ,TransformedTargetRegressor(\n",
        "        check_inverse=False,\n",
        "        regressor   = DecisionTreeRegressor(random_state=42),\n",
        "        transformer = FunctionTransformer(np.clip, \n",
        "                                          kw_args={'a_min':0,'a_max':50})))\n",
        "    ])"
      ],
      "metadata": {
        "id": "J42sZdWlFlF5"
      },
      "execution_count": 32,
      "outputs": []
    },
    {
      "cell_type": "code",
      "source": [
        "GRID_SEARCH = True\n",
        "if (GRID_SEARCH):\n",
        "    param_distributions = {\n",
        "        \"trf_reg__transformer__kw_args\": search.generate_clip_dicts(80,150,1),\n",
        "        \"trf_reg__regressor__criterion\": [\"squared_error\",\"friedman_mse\",\"absolute_error\",\"poisson\"],\n",
        "        \"trf_reg__regressor__splitter\": [\"best\", \"random\"],\n",
        "        \"trf_reg__regressor__max_depth\": [None,100,200,300],\n",
        "        \"trf_reg__regressor__min_samples_split\": [2,5,10,15,20],\n",
        "        \"trf_reg__regressor__min_samples_leaf\": [1,2,5,10,15,20,50,100],\n",
        "        \"trf_reg__regressor__max_features\": [\"sqrt\", \"log2\"],\n",
        "        \"trf_reg__regressor__min_impurity_decrease\": list(np.arange(0,150)/10),\n",
        "        \"trf_reg__regressor__ccp_alpha\": list(np.round(np.linspace(0, 2, 81), decimals=3)) \n",
        "    \n",
        "    }\n",
        "    model = search.run_HR_GS(model, X_train, y_train, param_distributions)\n",
        "    print(model)"
      ],
      "metadata": {
        "colab": {
          "base_uri": "https://localhost:8080/"
        },
        "id": "LecVj2kVEJgx",
        "outputId": "112426e4-ed97-4afc-c231-e915240c6baa"
      },
      "execution_count": 33,
      "outputs": [
        {
          "output_type": "stream",
          "name": "stdout",
          "text": [
            "n_iterations: 5\n",
            "n_required_iterations: 5\n",
            "n_possible_iterations: 5\n",
            "min_resources_: 500\n",
            "max_resources_: 53759\n",
            "aggressive_elimination: False\n",
            "factor: 3\n",
            "----------\n",
            "iter: 0\n",
            "n_candidates: 107\n",
            "n_resources: 500\n",
            "Fitting 5 folds for each of 107 candidates, totalling 535 fits\n",
            "----------\n",
            "iter: 1\n",
            "n_candidates: 36\n",
            "n_resources: 1500\n",
            "Fitting 5 folds for each of 36 candidates, totalling 180 fits\n",
            "----------\n",
            "iter: 2\n",
            "n_candidates: 12\n",
            "n_resources: 4500\n",
            "Fitting 5 folds for each of 12 candidates, totalling 60 fits\n",
            "----------\n",
            "iter: 3\n",
            "n_candidates: 4\n",
            "n_resources: 13500\n",
            "Fitting 5 folds for each of 4 candidates, totalling 20 fits\n",
            "----------\n",
            "iter: 4\n",
            "n_candidates: 2\n",
            "n_resources: 40500\n",
            "Fitting 5 folds for each of 2 candidates, totalling 10 fits\n",
            "Best params:  {'trf_reg__transformer__kw_args': {'a_min': 0, 'a_max': 98}, 'trf_reg__regressor__splitter': 'best', 'trf_reg__regressor__min_samples_split': 2, 'trf_reg__regressor__min_samples_leaf': 10, 'trf_reg__regressor__min_impurity_decrease': 5.5, 'trf_reg__regressor__max_features': 'sqrt', 'trf_reg__regressor__max_depth': 200, 'trf_reg__regressor__criterion': 'friedman_mse', 'trf_reg__regressor__ccp_alpha': 0.375}\n",
            "Pipeline(steps=[('trf_reg',\n",
            "                 TransformedTargetRegressor(check_inverse=False,\n",
            "                                            regressor=DecisionTreeRegressor(ccp_alpha=0.375,\n",
            "                                                                            criterion='friedman_mse',\n",
            "                                                                            max_depth=200,\n",
            "                                                                            max_features='sqrt',\n",
            "                                                                            min_impurity_decrease=5.5,\n",
            "                                                                            min_samples_leaf=10,\n",
            "                                                                            random_state=42),\n",
            "                                            transformer=FunctionTransformer(func=<function clip at 0x7f134321ac20>,\n",
            "                                                                            kw_args={'a_max': 98,\n",
            "                                                                                     'a_min': 0})))])\n"
          ]
        }
      ]
    },
    {
      "cell_type": "markdown",
      "source": [
        "Best Model:\n",
        "\n",
        "```\n",
        "{'trf_reg__transformer__kw_args': {'a_min': 0, 'a_max': 98}}\n",
        "\n",
        "DecisionTreeRegressor(ccp_alpha=0.375,\n",
        "                    criterion='friedman_mse',\n",
        "                    max_depth=200,\n",
        "                    max_features='sqrt',\n",
        "                    min_impurity_decrease=5.5,\n",
        "                    min_samples_leaf=10,\n",
        "                    random_state=42),\n",
        "```\n",
        "\n"
      ],
      "metadata": {
        "id": "941d0KXxMZsB"
      }
    },
    {
      "cell_type": "code",
      "source": [
        "model = Pipeline([\n",
        "    ('trf_reg' ,TransformedTargetRegressor(\n",
        "        check_inverse=False,\n",
        "        regressor   = DecisionTreeRegressor(ccp_alpha=0.375,\n",
        "                            criterion='friedman_mse',\n",
        "                            max_depth=200,\n",
        "                            max_features='sqrt',\n",
        "                            min_impurity_decrease=5.5,\n",
        "                            min_samples_leaf=10,\n",
        "                            random_state=42),\n",
        "        transformer = FunctionTransformer(np.clip, \n",
        "                                          kw_args={'a_min':0,'a_max':98})))\n",
        "    ])\n",
        "model"
      ],
      "metadata": {
        "id": "e0OEtLzeEgOH",
        "colab": {
          "base_uri": "https://localhost:8080/"
        },
        "outputId": "a1a4040c-ccb7-439f-9221-e0e37db536d8"
      },
      "execution_count": 34,
      "outputs": [
        {
          "output_type": "execute_result",
          "data": {
            "text/plain": [
              "Pipeline(steps=[('trf_reg',\n",
              "                 TransformedTargetRegressor(check_inverse=False,\n",
              "                                            regressor=DecisionTreeRegressor(ccp_alpha=0.375,\n",
              "                                                                            criterion='friedman_mse',\n",
              "                                                                            max_depth=200,\n",
              "                                                                            max_features='sqrt',\n",
              "                                                                            min_impurity_decrease=5.5,\n",
              "                                                                            min_samples_leaf=10,\n",
              "                                                                            random_state=42),\n",
              "                                            transformer=FunctionTransformer(func=<function clip at 0x7f134321ac20>,\n",
              "                                                                            kw_args={'a_max': 98,\n",
              "                                                                                     'a_min': 0})))])"
            ]
          },
          "metadata": {},
          "execution_count": 34
        }
      ]
    },
    {
      "cell_type": "code",
      "source": [
        "model.fit(X_train, y_train)\n",
        "reclipped_y =  model['trf_reg'].transformer.transform(y_train)\n",
        "eval.show_result(reclipped_y, model.predict(X_train))\n",
        "eval.show_result_cv(reclipped_y, X_train, model)"
      ],
      "metadata": {
        "colab": {
          "base_uri": "https://localhost:8080/"
        },
        "outputId": "f33d8e66-14cd-4f74-a87c-23975b9e204c",
        "id": "8SVqLYhUF3aY"
      },
      "execution_count": 35,
      "outputs": [
        {
          "output_type": "stream",
          "name": "stdout",
          "text": [
            "R2=0.750,RMSE=-15.734\n",
            "(CV) R2=0.727,RMSE=-16.448\n"
          ]
        }
      ]
    },
    {
      "cell_type": "code",
      "source": [
        "reclipped_y =  model['trf_reg'].transformer.transform(y_test)\n",
        "eval.show_result(reclipped_y, model.predict(X_test))"
      ],
      "metadata": {
        "colab": {
          "base_uri": "https://localhost:8080/"
        },
        "outputId": "c53cad0e-549b-43fa-c15c-5f33c4a17456",
        "id": "JoP9s0laF3aU"
      },
      "execution_count": 36,
      "outputs": [
        {
          "output_type": "stream",
          "name": "stdout",
          "text": [
            "R2=0.800,RMSE=-15.532\n"
          ]
        }
      ]
    },
    {
      "cell_type": "markdown",
      "source": [
        "The best result we had so far in training and in testing. Very same model as FD001 and in FD003, again!."
      ],
      "metadata": {
        "id": "VKSLMt6WOUtr"
      }
    },
    {
      "cell_type": "markdown",
      "source": [
        "## PolyFeatures + Linear RUL"
      ],
      "metadata": {
        "id": "MQi8MHh20wou"
      }
    },
    {
      "cell_type": "code",
      "source": [
        "model = Pipeline([\n",
        "    ('poly_ft'  ,   PolynomialFeatures()),\n",
        "    ('tree_reg'  ,   DecisionTreeRegressor(random_state=42))\n",
        "])\n",
        "model"
      ],
      "metadata": {
        "colab": {
          "base_uri": "https://localhost:8080/"
        },
        "outputId": "14f8b3e2-66b4-4f5a-8b19-737cbd5a2a25",
        "id": "g3KHHSwr0wow"
      },
      "execution_count": 37,
      "outputs": [
        {
          "output_type": "execute_result",
          "data": {
            "text/plain": [
              "Pipeline(steps=[('poly_ft', PolynomialFeatures()),\n",
              "                ('tree_reg', DecisionTreeRegressor(random_state=42))])"
            ]
          },
          "metadata": {},
          "execution_count": 37
        }
      ]
    },
    {
      "cell_type": "code",
      "source": [
        "# ~3min\n",
        "GRID_SEARCH = True\n",
        "if (GRID_SEARCH):\n",
        "    param_distributions = {\n",
        "        \"poly_ft__degree\": [1,2,3],\n",
        "        \"poly_ft__interaction_only\": [False, True],\n",
        "        \"poly_ft__include_bias\": [True, False],\n",
        "        \"tree_reg__criterion\": [\"squared_error\",\"friedman_mse\",\"absolute_error\",\"poisson\"],\n",
        "        \"tree_reg__splitter\": [\"best\", \"random\"],\n",
        "        \"tree_reg__max_depth\": [None,100,200,300],\n",
        "        \"tree_reg__min_samples_split\": [2,5,10,15,20],\n",
        "        \"tree_reg__min_samples_leaf\": [1,2,5,10,15,20,50,100],\n",
        "        \"tree_reg__max_features\": [None, \"sqrt\", \"log2\"],\n",
        "        \"tree_reg__min_impurity_decrease\": list(np.arange(0,150)/10),\n",
        "        \"tree_reg__ccp_alpha\": list(np.round(np.linspace(0, 2, 81), decimals=3)) \n",
        "    }\n",
        "    model = search.run_HR_GS(model, X_train, y_train, \n",
        "                            param_distributions, scorer='r2')\n",
        "    print(model)"
      ],
      "metadata": {
        "id": "datMycLD0wox",
        "colab": {
          "base_uri": "https://localhost:8080/"
        },
        "outputId": "98716eb6-629e-479e-a3b8-09c564c863c0"
      },
      "execution_count": 38,
      "outputs": [
        {
          "output_type": "stream",
          "name": "stdout",
          "text": [
            "n_iterations: 5\n",
            "n_required_iterations: 5\n",
            "n_possible_iterations: 5\n",
            "min_resources_: 500\n",
            "max_resources_: 53759\n",
            "aggressive_elimination: False\n",
            "factor: 3\n",
            "----------\n",
            "iter: 0\n",
            "n_candidates: 107\n",
            "n_resources: 500\n",
            "Fitting 5 folds for each of 107 candidates, totalling 535 fits\n",
            "----------\n",
            "iter: 1\n",
            "n_candidates: 36\n",
            "n_resources: 1500\n",
            "Fitting 5 folds for each of 36 candidates, totalling 180 fits\n",
            "----------\n",
            "iter: 2\n",
            "n_candidates: 12\n",
            "n_resources: 4500\n",
            "Fitting 5 folds for each of 12 candidates, totalling 60 fits\n",
            "----------\n",
            "iter: 3\n",
            "n_candidates: 4\n",
            "n_resources: 13500\n",
            "Fitting 5 folds for each of 4 candidates, totalling 20 fits\n",
            "----------\n",
            "iter: 4\n",
            "n_candidates: 2\n",
            "n_resources: 40500\n",
            "Fitting 5 folds for each of 2 candidates, totalling 10 fits\n",
            "Best params:  {'tree_reg__splitter': 'random', 'tree_reg__min_samples_split': 5, 'tree_reg__min_samples_leaf': 15, 'tree_reg__min_impurity_decrease': 5.0, 'tree_reg__max_features': None, 'tree_reg__max_depth': 300, 'tree_reg__criterion': 'squared_error', 'tree_reg__ccp_alpha': 0.25, 'poly_ft__interaction_only': False, 'poly_ft__include_bias': False, 'poly_ft__degree': 3}\n",
            "Pipeline(steps=[('poly_ft', PolynomialFeatures(degree=3, include_bias=False)),\n",
            "                ('tree_reg',\n",
            "                 DecisionTreeRegressor(ccp_alpha=0.25, max_depth=300,\n",
            "                                       min_impurity_decrease=5.0,\n",
            "                                       min_samples_leaf=15, min_samples_split=5,\n",
            "                                       random_state=42, splitter='random'))])\n"
          ]
        }
      ]
    },
    {
      "cell_type": "markdown",
      "source": [
        "Best Model:\n",
        "```\n",
        "PolynomialFeatures(degree=3, include_bias=False)),\n",
        "DecisionTreeRegressor(ccp_alpha=0.25, max_depth=300,\n",
        "                        min_impurity_decrease=5.0,\n",
        "                        min_samples_leaf=15, min_samples_split=5,\n",
        "                        random_state=42, splitter='random'))\n",
        "```\n"
      ],
      "metadata": {
        "id": "ELoCa-ue0woy"
      }
    },
    {
      "cell_type": "code",
      "source": [
        "model = Pipeline([\n",
        "    ('poly_ft'  ,   PolynomialFeatures(degree=3, include_bias=False)),\n",
        "    ('tree_reg'  ,   DecisionTreeRegressor(ccp_alpha=0.25, max_depth=300,\n",
        "                        min_impurity_decrease=5.0,\n",
        "                        min_samples_leaf=15, min_samples_split=5,\n",
        "                        random_state=42, splitter='random'))\n",
        "])\n",
        "model"
      ],
      "metadata": {
        "colab": {
          "base_uri": "https://localhost:8080/"
        },
        "outputId": "32f97b92-0763-4db0-fb81-37c4913d54a7",
        "id": "7Lqp1b3N0woz"
      },
      "execution_count": 39,
      "outputs": [
        {
          "output_type": "execute_result",
          "data": {
            "text/plain": [
              "Pipeline(steps=[('poly_ft', PolynomialFeatures(degree=3, include_bias=False)),\n",
              "                ('tree_reg',\n",
              "                 DecisionTreeRegressor(ccp_alpha=0.25, max_depth=300,\n",
              "                                       min_impurity_decrease=5.0,\n",
              "                                       min_samples_leaf=15, min_samples_split=5,\n",
              "                                       random_state=42, splitter='random'))])"
            ]
          },
          "metadata": {},
          "execution_count": 39
        }
      ]
    },
    {
      "cell_type": "code",
      "source": [
        "model.fit(X_train, y_train)\n",
        "eval.show_result(y_train, model.predict(X_train))\n",
        "eval.show_result_cv(y_train, X_train, model)"
      ],
      "metadata": {
        "colab": {
          "base_uri": "https://localhost:8080/"
        },
        "outputId": "33ce9cd4-8d30-4568-aa13-12749c37e76e",
        "id": "31OBJmT60wo1"
      },
      "execution_count": 40,
      "outputs": [
        {
          "output_type": "stream",
          "name": "stdout",
          "text": [
            "R2=0.554,RMSE=-46.183\n",
            "(CV) R2=0.529,RMSE=-47.379\n"
          ]
        }
      ]
    },
    {
      "cell_type": "code",
      "source": [
        "eval.show_result(y_test, model.predict(X_test))"
      ],
      "metadata": {
        "colab": {
          "base_uri": "https://localhost:8080/"
        },
        "outputId": "96e9c95c-a7b7-4e51-f17b-2ab04ada377f",
        "id": "PWLNXSit0wo2"
      },
      "execution_count": 41,
      "outputs": [
        {
          "output_type": "stream",
          "name": "stdout",
          "text": [
            "R2=0.633,RMSE=-32.560\n"
          ]
        }
      ]
    },
    {
      "cell_type": "markdown",
      "source": [
        "No clear benefit from polynomial features in linear RUL, as with the other models. Actually, it worsened the results."
      ],
      "metadata": {
        "id": "9WTjNfG70wo3"
      }
    },
    {
      "cell_type": "markdown",
      "source": [
        "## PolyFeatures + Non-Linear RUL"
      ],
      "metadata": {
        "id": "BlwL5EnXQcuy"
      }
    },
    {
      "cell_type": "code",
      "source": [
        "model = Pipeline([\n",
        "    ('poly_ft'  ,   PolynomialFeatures()),\n",
        "    ('trf_reg' ,TransformedTargetRegressor(\n",
        "        check_inverse=False,\n",
        "        regressor   = DecisionTreeRegressor(random_state=42),\n",
        "        transformer = FunctionTransformer(np.clip, \n",
        "                                          kw_args={'a_min':0,'a_max':96})))\n",
        "])"
      ],
      "metadata": {
        "id": "CH-5TST3Qkrr"
      },
      "execution_count": 42,
      "outputs": []
    },
    {
      "cell_type": "code",
      "source": [
        "# ~3min\n",
        "GRID_SEARCH = False\n",
        "if (GRID_SEARCH):\n",
        "    param_distributions = {\n",
        "        \"poly_ft__degree\": [1,2,3],\n",
        "        \"poly_ft__interaction_only\": [False, True],\n",
        "        \"poly_ft__include_bias\": [True, False],\n",
        "        \"trf_reg__transformer__kw_args\": search.generate_clip_dicts(70,150,1),\n",
        "        \"trf_reg__regressor__criterion\": [\"squared_error\",\"friedman_mse\",\"absolute_error\",\"poisson\"],\n",
        "        \"trf_reg__regressor__splitter\": [\"best\", \"random\"],\n",
        "        \"trf_reg__regressor__max_depth\": [None,100,200,300],\n",
        "        \"trf_reg__regressor__min_samples_split\": [2,5,10,15,20],\n",
        "        \"trf_reg__regressor__min_samples_leaf\": [1,2,5,10,15,20,50,100],\n",
        "        \"trf_reg__regressor__max_features\": [None, \"sqrt\", \"log2\"],\n",
        "        \"trf_reg__regressor__min_impurity_decrease\": list(np.arange(0,150)/10),\n",
        "        \"trf_reg__regressor__ccp_alpha\": list(np.round(np.linspace(0, 2, 81), decimals=3)) \n",
        "    }\n",
        "    model = search.run_HR_GS(model, X_train, y_train, param_distributions)\n",
        "    print(model)"
      ],
      "metadata": {
        "id": "RKz_WrPIyNZZ"
      },
      "execution_count": 43,
      "outputs": []
    },
    {
      "cell_type": "markdown",
      "source": [
        "Best Model:\n",
        "```\n",
        "'trf_reg__transformer__kw_args': {'a_min': 0, 'a_max': 77}\n",
        "PolynomialFeatures(degree=3, include_bias=False,\n",
        "                                    interaction_only=True)),\n",
        "DecisionTreeRegressor(ccp_alpha=1.2,\n",
        "                        criterion='friedman_mse',\n",
        "                        min_impurity_decrease=2.5,\n",
        "                        min_samples_leaf=20,\n",
        "                        min_samples_split=5,\n",
        "                        random_state=42,\n",
        "                        splitter='random'),\n",
        "```\n"
      ],
      "metadata": {
        "id": "Vup8Svzqyt6w"
      }
    },
    {
      "cell_type": "code",
      "source": [
        "model = Pipeline([\n",
        "    ('poly_ft', PolynomialFeatures(degree=3, include_bias=False,\n",
        "                                    interaction_only=True)),\n",
        "    ('trf_reg' ,TransformedTargetRegressor(\n",
        "        check_inverse=False,\n",
        "        regressor   = DecisionTreeRegressor(ccp_alpha=1.2,\n",
        "                                            criterion='friedman_mse',\n",
        "                                            min_impurity_decrease=2.5,\n",
        "                                            min_samples_leaf=20,\n",
        "                                            min_samples_split=5,\n",
        "                                            random_state=42,\n",
        "                                            splitter='random'),\n",
        "        transformer = FunctionTransformer(np.clip, \n",
        "                                          kw_args={'a_min':0,'a_max':77})))\n",
        "])\n",
        "model"
      ],
      "metadata": {
        "colab": {
          "base_uri": "https://localhost:8080/"
        },
        "id": "aLC6mfh4y7vG",
        "outputId": "17a1cc6d-81e5-411b-edea-273a6ba9462b"
      },
      "execution_count": 44,
      "outputs": [
        {
          "output_type": "execute_result",
          "data": {
            "text/plain": [
              "Pipeline(steps=[('poly_ft',\n",
              "                 PolynomialFeatures(degree=3, include_bias=False,\n",
              "                                    interaction_only=True)),\n",
              "                ('trf_reg',\n",
              "                 TransformedTargetRegressor(check_inverse=False,\n",
              "                                            regressor=DecisionTreeRegressor(ccp_alpha=1.2,\n",
              "                                                                            criterion='friedman_mse',\n",
              "                                                                            min_impurity_decrease=2.5,\n",
              "                                                                            min_samples_leaf=20,\n",
              "                                                                            min_samples_split=5,\n",
              "                                                                            random_state=42,\n",
              "                                                                            splitter='random'),\n",
              "                                            transformer=FunctionTransformer(func=<function clip at 0x7f134321ac20>,\n",
              "                                                                            kw_args={'a_max': 77,\n",
              "                                                                                     'a_min': 0})))])"
            ]
          },
          "metadata": {},
          "execution_count": 44
        }
      ]
    },
    {
      "cell_type": "code",
      "source": [
        "# ~3min\n",
        "model.fit(X_train, y_train)\n",
        "reclipped_y =  model['trf_reg'].transformer.transform(y_train)\n",
        "eval.show_result(reclipped_y, model.predict(X_train))\n",
        "eval.show_result_cv(reclipped_y, X_train, model)"
      ],
      "metadata": {
        "colab": {
          "base_uri": "https://localhost:8080/"
        },
        "outputId": "2e5ef468-6a35-4e35-fe6c-36c9c82fe700",
        "id": "kgQSMjnVy7vJ"
      },
      "execution_count": 45,
      "outputs": [
        {
          "output_type": "stream",
          "name": "stdout",
          "text": [
            "R2=0.771,RMSE=-11.104\n",
            "(CV) R2=0.759,RMSE=-11.393\n"
          ]
        }
      ]
    },
    {
      "cell_type": "code",
      "source": [
        "reclipped_y =  model['trf_reg'].transformer.transform(y_test)\n",
        "eval.show_result(reclipped_y, model.predict(X_test))"
      ],
      "metadata": {
        "colab": {
          "base_uri": "https://localhost:8080/"
        },
        "outputId": "c721386a-a307-4d43-afa0-97a9467ff7a9",
        "id": "_WsTCV9qy7vJ"
      },
      "execution_count": 46,
      "outputs": [
        {
          "output_type": "stream",
          "name": "stdout",
          "text": [
            "R2=0.794,RMSE=-12.161\n"
          ]
        }
      ]
    },
    {
      "cell_type": "markdown",
      "source": [
        "This time, it improved a little bit the performance."
      ],
      "metadata": {
        "id": "wIzjL0VJ0hfH"
      }
    },
    {
      "cell_type": "markdown",
      "source": [
        "# RandomForestRegressor"
      ],
      "metadata": {
        "id": "S2amcTakYlQj"
      }
    },
    {
      "cell_type": "markdown",
      "source": [
        "## Linear RUL"
      ],
      "metadata": {
        "id": "DE5hGsQtYlQk"
      }
    },
    {
      "cell_type": "code",
      "source": [
        "model = Pipeline([\n",
        "    ('tree_reg'  ,   RandomForestRegressor(random_state=42, n_jobs=-1))\n",
        "])"
      ],
      "metadata": {
        "id": "yyWcTCoUYlQl"
      },
      "execution_count": 47,
      "outputs": []
    },
    {
      "cell_type": "code",
      "source": [
        "# We need specific shape 1D arrays for this model\n",
        "y_train = np.array(y_train).ravel()"
      ],
      "metadata": {
        "id": "h4S2e6kSZPOl"
      },
      "execution_count": 48,
      "outputs": []
    },
    {
      "cell_type": "code",
      "source": [
        "# ~10min\n",
        "GRID_SEARCH = False\n",
        "if (GRID_SEARCH):\n",
        "    param_distributions = {\n",
        "        \"tree_reg__n_estimators\": [50,100,200],\n",
        "        \"tree_reg__criterion\": ['squared_error','absolute_error','poisson'],\n",
        "        \"tree_reg__max_depth\": [None,50, 100, 150],\n",
        "        \"tree_reg__min_samples_split\": [2,5,10,15,20],\n",
        "        \"tree_reg__min_samples_leaf\": [1,2,5,10,15,20,50,100],\n",
        "        \"tree_reg__max_features\": [\"sqrt\", \"log2\"],\n",
        "        \"tree_reg__min_impurity_decrease\": list(np.arange(0,150)/10),\n",
        "        \"tree_reg__ccp_alpha\": list(np.round(np.linspace(0, 2, 81), decimals=3)),\n",
        "        \"tree_reg__oob_score\": [True, False]\n",
        "    }\n",
        "    model = search.run_HR_GS(model, X_train, y_train, param_distributions, \n",
        "                            scorer='r2', ignore_warnings=True)\n",
        "    print(model)"
      ],
      "metadata": {
        "colab": {
          "base_uri": "https://localhost:8080/"
        },
        "outputId": "74162666-5f26-454b-b1c1-d3eaf58a816b",
        "id": "VrWiqbQ2YlQm"
      },
      "execution_count": 49,
      "outputs": [
        {
          "output_type": "stream",
          "name": "stdout",
          "text": [
            "n_iterations: 5\n",
            "n_required_iterations: 5\n",
            "n_possible_iterations: 5\n",
            "min_resources_: 500\n",
            "max_resources_: 53759\n",
            "aggressive_elimination: False\n",
            "factor: 3\n",
            "----------\n",
            "iter: 0\n",
            "n_candidates: 107\n",
            "n_resources: 500\n",
            "Fitting 5 folds for each of 107 candidates, totalling 535 fits\n",
            "----------\n",
            "iter: 1\n",
            "n_candidates: 36\n",
            "n_resources: 1500\n",
            "Fitting 5 folds for each of 36 candidates, totalling 180 fits\n",
            "----------\n",
            "iter: 2\n",
            "n_candidates: 12\n",
            "n_resources: 4500\n",
            "Fitting 5 folds for each of 12 candidates, totalling 60 fits\n",
            "----------\n",
            "iter: 3\n",
            "n_candidates: 4\n",
            "n_resources: 13500\n",
            "Fitting 5 folds for each of 4 candidates, totalling 20 fits\n",
            "----------\n",
            "iter: 4\n",
            "n_candidates: 2\n",
            "n_resources: 40500\n",
            "Fitting 5 folds for each of 2 candidates, totalling 10 fits\n",
            "Best params:  {'tree_reg__oob_score': True, 'tree_reg__n_estimators': 200, 'tree_reg__min_samples_split': 2, 'tree_reg__min_samples_leaf': 15, 'tree_reg__min_impurity_decrease': 0.6, 'tree_reg__max_features': 'log2', 'tree_reg__max_depth': 50, 'tree_reg__criterion': 'squared_error', 'tree_reg__ccp_alpha': 0.875}\n",
            "Pipeline(steps=[('tree_reg',\n",
            "                 RandomForestRegressor(ccp_alpha=0.875, max_depth=50,\n",
            "                                       max_features='log2',\n",
            "                                       min_impurity_decrease=0.6,\n",
            "                                       min_samples_leaf=15, n_estimators=200,\n",
            "                                       n_jobs=-1, oob_score=True,\n",
            "                                       random_state=42))])\n"
          ]
        }
      ]
    },
    {
      "cell_type": "markdown",
      "source": [
        "Best Model:\n",
        "```\n",
        "RandomForestRegressor(ccp_alpha=0.875, max_depth=50,\n",
        "                        max_features='log2',\n",
        "                        min_impurity_decrease=0.6,\n",
        "                        min_samples_leaf=15, n_estimators=200,\n",
        "                        n_jobs=-1, oob_score=True,\n",
        "                        random_state=42))\n",
        "```"
      ],
      "metadata": {
        "id": "Gq8I5t7NYlQm"
      }
    },
    {
      "cell_type": "code",
      "source": [
        "model = Pipeline([\n",
        "    ('tree_reg'  ,   RandomForestRegressor(ccp_alpha=0.875, max_depth=50,\n",
        "                            max_features='log2',\n",
        "                            min_impurity_decrease=0.6,\n",
        "                            min_samples_leaf=15, n_estimators=200,\n",
        "                            n_jobs=-1, oob_score=True,\n",
        "                            random_state=42))\n",
        "])\n",
        "model"
      ],
      "metadata": {
        "colab": {
          "base_uri": "https://localhost:8080/"
        },
        "outputId": "8977eead-b9da-4df9-df1e-abbf45d0c234",
        "id": "MzFbOrQoYlQn"
      },
      "execution_count": 50,
      "outputs": [
        {
          "output_type": "execute_result",
          "data": {
            "text/plain": [
              "Pipeline(steps=[('tree_reg',\n",
              "                 RandomForestRegressor(ccp_alpha=0.875, max_depth=50,\n",
              "                                       max_features='log2',\n",
              "                                       min_impurity_decrease=0.6,\n",
              "                                       min_samples_leaf=15, n_estimators=200,\n",
              "                                       n_jobs=-1, oob_score=True,\n",
              "                                       random_state=42))])"
            ]
          },
          "metadata": {},
          "execution_count": 50
        }
      ]
    },
    {
      "cell_type": "code",
      "source": [
        "model.fit(X_train, y_train)\n",
        "eval.show_result(y_train, model.predict(X_train))\n",
        "eval.show_result_cv(y_train, X_train, model)"
      ],
      "metadata": {
        "colab": {
          "base_uri": "https://localhost:8080/"
        },
        "outputId": "f97f580a-a75e-41be-c913-8aab74ada029",
        "id": "CC_MKYd0YlQo"
      },
      "execution_count": 51,
      "outputs": [
        {
          "output_type": "stream",
          "name": "stdout",
          "text": [
            "R2=0.633,RMSE=-41.890\n",
            "(CV) R2=0.598,RMSE=-43.801\n"
          ]
        }
      ]
    },
    {
      "cell_type": "code",
      "source": [
        "eval.show_result(y_test, model.predict(X_test))"
      ],
      "metadata": {
        "colab": {
          "base_uri": "https://localhost:8080/"
        },
        "outputId": "b069194a-a778-4246-9d6f-61ba0054be10",
        "id": "LCAYFb-TYlQo"
      },
      "execution_count": 52,
      "outputs": [
        {
          "output_type": "stream",
          "name": "stdout",
          "text": [
            "R2=0.695,RMSE=-29.683\n"
          ]
        }
      ]
    },
    {
      "cell_type": "markdown",
      "source": [
        "A little better than linear regression. It's the very same model as in FD001 and in FD003."
      ],
      "metadata": {
        "id": "TRh-1qzRYlQp"
      }
    },
    {
      "cell_type": "markdown",
      "source": [
        "## Non-linear RUL"
      ],
      "metadata": {
        "id": "EO8T15wdYlQp"
      }
    },
    {
      "cell_type": "code",
      "source": [
        "model = Pipeline([\n",
        "    ('trf_reg' ,TransformedTargetRegressor(\n",
        "        check_inverse=False,\n",
        "        regressor   = RandomForestRegressor(random_state=42, n_jobs=-1),\n",
        "        transformer = FunctionTransformer(np.clip, \n",
        "                                          kw_args={'a_min':0,'a_max':50})))\n",
        "    ])"
      ],
      "metadata": {
        "id": "8_JFkN-sYlQp"
      },
      "execution_count": 53,
      "outputs": []
    },
    {
      "cell_type": "code",
      "source": [
        "# ~10min\n",
        "GRID_SEARCH = False\n",
        "if (GRID_SEARCH):\n",
        "    param_distributions = {\n",
        "        \"trf_reg__transformer__kw_args\": search.generate_clip_dicts(80,150,1),\n",
        "        \"trf_reg__regressor__n_estimators\": [50,100,200],\n",
        "        \"trf_reg__regressor__criterion\": ['squared_error','absolute_error','poisson'],\n",
        "        \"trf_reg__regressor__max_depth\": [None,50, 100, 150],\n",
        "        \"trf_reg__regressor__min_samples_split\": [2,5,10,15,20],\n",
        "        \"trf_reg__regressor__min_samples_leaf\": [1,2,5,10,15,20,50,100],\n",
        "        \"trf_reg__regressor__max_features\": [\"sqrt\", \"log2\"],\n",
        "        \"trf_reg__regressor__min_impurity_decrease\": list(np.arange(0,150)/10),\n",
        "        \"trf_reg__regressor__ccp_alpha\": list(np.round(np.linspace(0, 2, 81), decimals=3)),\n",
        "        \"trf_reg__regressor__oob_score\": [True, False]\n",
        "    \n",
        "    }\n",
        "    model = search.run_HR_GS(model, X_train, y_train, param_distributions)\n",
        "    print(model)"
      ],
      "metadata": {
        "colab": {
          "base_uri": "https://localhost:8080/"
        },
        "outputId": "dbbe0440-aeed-473a-97f9-1bd73c22a48a",
        "id": "Pozn2-70YlQp"
      },
      "execution_count": 54,
      "outputs": [
        {
          "output_type": "stream",
          "name": "stdout",
          "text": [
            "n_iterations: 5\n",
            "n_required_iterations: 5\n",
            "n_possible_iterations: 5\n",
            "min_resources_: 500\n",
            "max_resources_: 53759\n",
            "aggressive_elimination: False\n",
            "factor: 3\n",
            "----------\n",
            "iter: 0\n",
            "n_candidates: 107\n",
            "n_resources: 500\n",
            "Fitting 5 folds for each of 107 candidates, totalling 535 fits\n",
            "----------\n",
            "iter: 1\n",
            "n_candidates: 36\n",
            "n_resources: 1500\n",
            "Fitting 5 folds for each of 36 candidates, totalling 180 fits\n",
            "----------\n",
            "iter: 2\n",
            "n_candidates: 12\n",
            "n_resources: 4500\n",
            "Fitting 5 folds for each of 12 candidates, totalling 60 fits\n",
            "----------\n",
            "iter: 3\n",
            "n_candidates: 4\n",
            "n_resources: 13500\n",
            "Fitting 5 folds for each of 4 candidates, totalling 20 fits\n",
            "----------\n",
            "iter: 4\n",
            "n_candidates: 2\n",
            "n_resources: 40500\n",
            "Fitting 5 folds for each of 2 candidates, totalling 10 fits\n",
            "Best params:  {'trf_reg__transformer__kw_args': {'a_min': 0, 'a_max': 90}, 'trf_reg__regressor__oob_score': True, 'trf_reg__regressor__n_estimators': 200, 'trf_reg__regressor__min_samples_split': 10, 'trf_reg__regressor__min_samples_leaf': 15, 'trf_reg__regressor__min_impurity_decrease': 1.2, 'trf_reg__regressor__max_features': 'log2', 'trf_reg__regressor__max_depth': 150, 'trf_reg__regressor__criterion': 'squared_error', 'trf_reg__regressor__ccp_alpha': 0.975}\n",
            "Pipeline(steps=[('trf_reg',\n",
            "                 TransformedTargetRegressor(check_inverse=False,\n",
            "                                            regressor=RandomForestRegressor(ccp_alpha=0.975,\n",
            "                                                                            max_depth=150,\n",
            "                                                                            max_features='log2',\n",
            "                                                                            min_impurity_decrease=1.2,\n",
            "                                                                            min_samples_leaf=15,\n",
            "                                                                            min_samples_split=10,\n",
            "                                                                            n_estimators=200,\n",
            "                                                                            n_jobs=-1,\n",
            "                                                                            oob_score=True,\n",
            "                                                                            random_state=42),\n",
            "                                            transformer=FunctionTransformer(func=<function clip at 0x7f134321ac20>,\n",
            "                                                                            kw_args={'a_max': 90,\n",
            "                                                                                     'a_min': 0})))])\n"
          ]
        }
      ]
    },
    {
      "cell_type": "markdown",
      "source": [
        "Best Model:\n",
        "\n",
        "```\n",
        "{'trf_reg__transformer__kw_args': {'a_min': 0, 'a_max': 90}}\n",
        "\n",
        "RandomForestRegressor(ccp_alpha=0.975,\n",
        "                        max_depth=150,\n",
        "                        max_features='log2',\n",
        "                        min_impurity_decrease=1.2,\n",
        "                        min_samples_leaf=15,\n",
        "                        min_samples_split=10,\n",
        "                        n_estimators=200,\n",
        "                        n_jobs=-1,\n",
        "                        oob_score=True,\n",
        "                        random_state=42),\n",
        "```\n",
        "\n"
      ],
      "metadata": {
        "id": "pibMjFXnYlQq"
      }
    },
    {
      "cell_type": "code",
      "source": [
        "model = Pipeline([\n",
        "    ('trf_reg' ,TransformedTargetRegressor(\n",
        "        check_inverse=False,\n",
        "        regressor   = RandomForestRegressor(ccp_alpha=0.975,\n",
        "                                            max_depth=150,\n",
        "                                            max_features='log2',\n",
        "                                            min_impurity_decrease=1.2,\n",
        "                                            min_samples_leaf=15,\n",
        "                                            min_samples_split=10,\n",
        "                                            n_estimators=200,\n",
        "                                            n_jobs=-1,\n",
        "                                            oob_score=True,\n",
        "                                            random_state=42),\n",
        "        transformer = FunctionTransformer(np.clip, \n",
        "                                          kw_args={'a_min':0,'a_max':90})))\n",
        "    ])\n",
        "model"
      ],
      "metadata": {
        "colab": {
          "base_uri": "https://localhost:8080/"
        },
        "outputId": "75d9aa6b-be02-4d00-d47c-d6f38e5811d6",
        "id": "Wg-dZIEqYlQq"
      },
      "execution_count": 55,
      "outputs": [
        {
          "output_type": "execute_result",
          "data": {
            "text/plain": [
              "Pipeline(steps=[('trf_reg',\n",
              "                 TransformedTargetRegressor(check_inverse=False,\n",
              "                                            regressor=RandomForestRegressor(ccp_alpha=0.975,\n",
              "                                                                            max_depth=150,\n",
              "                                                                            max_features='log2',\n",
              "                                                                            min_impurity_decrease=1.2,\n",
              "                                                                            min_samples_leaf=15,\n",
              "                                                                            min_samples_split=10,\n",
              "                                                                            n_estimators=200,\n",
              "                                                                            n_jobs=-1,\n",
              "                                                                            oob_score=True,\n",
              "                                                                            random_state=42),\n",
              "                                            transformer=FunctionTransformer(func=<function clip at 0x7f134321ac20>,\n",
              "                                                                            kw_args={'a_max': 90,\n",
              "                                                                                     'a_min': 0})))])"
            ]
          },
          "metadata": {},
          "execution_count": 55
        }
      ]
    },
    {
      "cell_type": "code",
      "source": [
        "model.fit(X_train, y_train)\n",
        "reclipped_y =  model['trf_reg'].transformer.transform(y_train)\n",
        "eval.show_result(reclipped_y, model.predict(X_train))\n",
        "eval.show_result_cv(reclipped_y, X_train, model)"
      ],
      "metadata": {
        "colab": {
          "base_uri": "https://localhost:8080/"
        },
        "outputId": "7c977c8b-30ea-4093-88b1-b02f2490d66a",
        "id": "8GYhppS1YlQq"
      },
      "execution_count": 56,
      "outputs": [
        {
          "output_type": "stream",
          "name": "stdout",
          "text": [
            "R2=0.798,RMSE=-12.725\n",
            "(CV) R2=0.789,RMSE=-13.012\n"
          ]
        }
      ]
    },
    {
      "cell_type": "code",
      "source": [
        "reclipped_y =  model['trf_reg'].transformer.transform(y_test)\n",
        "eval.show_result(reclipped_y, model.predict(X_test))"
      ],
      "metadata": {
        "colab": {
          "base_uri": "https://localhost:8080/"
        },
        "outputId": "c1e7a7a4-44ad-4ceb-a931-0ea68de41a10",
        "id": "pZoin3SzYlQr"
      },
      "execution_count": 57,
      "outputs": [
        {
          "output_type": "stream",
          "name": "stdout",
          "text": [
            "R2=0.839,RMSE=-12.769\n"
          ]
        }
      ]
    },
    {
      "cell_type": "markdown",
      "source": [
        "Following the results from the decision trees, we have a good result and good generalization."
      ],
      "metadata": {
        "id": "BqLJ4WjFYlQr"
      }
    },
    {
      "cell_type": "markdown",
      "source": [
        "## PolyFeatures + Linear RUL"
      ],
      "metadata": {
        "id": "QKeTV9llYlQs"
      }
    },
    {
      "cell_type": "code",
      "source": [
        "model = Pipeline([\n",
        "    ('poly_ft'  ,   PolynomialFeatures()),\n",
        "    ('tree_reg'  ,   RandomForestRegressor(random_state=42, n_jobs=-1)),\n",
        "])\n",
        "model"
      ],
      "metadata": {
        "colab": {
          "base_uri": "https://localhost:8080/"
        },
        "outputId": "dff87167-6209-4ec6-c88f-19d3f724b2af",
        "id": "Fk8lU_ukYlQs"
      },
      "execution_count": 58,
      "outputs": [
        {
          "output_type": "execute_result",
          "data": {
            "text/plain": [
              "Pipeline(steps=[('poly_ft', PolynomialFeatures()),\n",
              "                ('tree_reg',\n",
              "                 RandomForestRegressor(n_jobs=-1, random_state=42))])"
            ]
          },
          "metadata": {},
          "execution_count": 58
        }
      ]
    },
    {
      "cell_type": "code",
      "source": [
        "# ~1h\n",
        "GRID_SEARCH = False\n",
        "if (GRID_SEARCH):\n",
        "    param_distributions = {\n",
        "        \"poly_ft__degree\": [1,2,3],\n",
        "        \"poly_ft__interaction_only\": [False, True],\n",
        "        \"poly_ft__include_bias\": [True, False],\n",
        "        \"tree_reg__n_estimators\": [50,100,200],\n",
        "        \"tree_reg__criterion\": ['squared_error','absolute_error','poisson'],\n",
        "        \"tree_reg__max_depth\": [None, 50, 100, 150],\n",
        "        \"tree_reg__min_samples_split\": [2,5,10,15,20],\n",
        "        \"tree_reg__min_samples_leaf\": [1,2,5,10,15,20,50,100],\n",
        "        \"tree_reg__max_features\": [\"sqrt\", \"log2\"],\n",
        "        \"tree_reg__min_impurity_decrease\": list(np.arange(0,150)/10),\n",
        "        \"tree_reg__ccp_alpha\": list(np.round(np.linspace(0, 2, 81), decimals=3)),\n",
        "        \"tree_reg__oob_score\": [True, False]\n",
        "    }\n",
        "    model = search.run_HR_GS(model, X_train, y_train, \n",
        "                            param_distributions, scorer='r2')\n",
        "    print(model)"
      ],
      "metadata": {
        "colab": {
          "base_uri": "https://localhost:8080/"
        },
        "outputId": "6e8159f4-c1f2-4d23-f5c8-a45e55258906",
        "id": "iwaz5z78YlQt"
      },
      "execution_count": 60,
      "outputs": [
        {
          "output_type": "stream",
          "name": "stdout",
          "text": [
            "n_iterations: 5\n",
            "n_required_iterations: 5\n",
            "n_possible_iterations: 5\n",
            "min_resources_: 500\n",
            "max_resources_: 53759\n",
            "aggressive_elimination: False\n",
            "factor: 3\n",
            "----------\n",
            "iter: 0\n",
            "n_candidates: 107\n",
            "n_resources: 500\n",
            "Fitting 5 folds for each of 107 candidates, totalling 535 fits\n",
            "----------\n",
            "iter: 1\n",
            "n_candidates: 36\n",
            "n_resources: 1500\n",
            "Fitting 5 folds for each of 36 candidates, totalling 180 fits\n",
            "----------\n",
            "iter: 2\n",
            "n_candidates: 12\n",
            "n_resources: 4500\n",
            "Fitting 5 folds for each of 12 candidates, totalling 60 fits\n",
            "----------\n",
            "iter: 3\n",
            "n_candidates: 4\n",
            "n_resources: 13500\n",
            "Fitting 5 folds for each of 4 candidates, totalling 20 fits\n",
            "----------\n",
            "iter: 4\n",
            "n_candidates: 2\n",
            "n_resources: 40500\n",
            "Fitting 5 folds for each of 2 candidates, totalling 10 fits\n",
            "Best params:  {'tree_reg__oob_score': True, 'tree_reg__n_estimators': 200, 'tree_reg__min_samples_split': 2, 'tree_reg__min_samples_leaf': 10, 'tree_reg__min_impurity_decrease': 1.1, 'tree_reg__max_features': 'sqrt', 'tree_reg__max_depth': 150, 'tree_reg__criterion': 'squared_error', 'tree_reg__ccp_alpha': 1.35, 'poly_ft__interaction_only': True, 'poly_ft__include_bias': False, 'poly_ft__degree': 3}\n",
            "Pipeline(steps=[('poly_ft',\n",
            "                 PolynomialFeatures(degree=3, include_bias=False,\n",
            "                                    interaction_only=True)),\n",
            "                ('tree_reg',\n",
            "                 RandomForestRegressor(ccp_alpha=1.35, max_depth=150,\n",
            "                                       max_features='sqrt',\n",
            "                                       min_impurity_decrease=1.1,\n",
            "                                       min_samples_leaf=10, n_estimators=200,\n",
            "                                       n_jobs=-1, oob_score=True,\n",
            "                                       random_state=42))])\n"
          ]
        }
      ]
    },
    {
      "cell_type": "markdown",
      "source": [
        "Best Model:\n",
        "```\n",
        "PolynomialFeatures(degree=3, include_bias=False,\n",
        "                                    interaction_only=True)),\n",
        "RandomForestRegressor(ccp_alpha=1.35, max_depth=150,\n",
        "                        max_features='sqrt',\n",
        "                        min_impurity_decrease=1.1,\n",
        "                        min_samples_leaf=10, n_estimators=200,\n",
        "                        n_jobs=-1, oob_score=True,\n",
        "                        random_state=42))\n",
        "```\n"
      ],
      "metadata": {
        "id": "VLcVRtmYYlQt"
      }
    },
    {
      "cell_type": "code",
      "source": [
        "model = Pipeline([\n",
        "    ('poly_ft'  ,   PolynomialFeatures(degree=3, include_bias=False,\n",
        "                                    interaction_only=True)),\n",
        "    ('tree_reg'  ,   RandomForestRegressor(ccp_alpha=1.35, max_depth=150,\n",
        "                                       max_features='sqrt',\n",
        "                                       min_impurity_decrease=1.1,\n",
        "                                       min_samples_leaf=10, n_estimators=200,\n",
        "                                       n_jobs=-1, oob_score=True,\n",
        "                                       random_state=42))\n",
        "])\n",
        "model"
      ],
      "metadata": {
        "colab": {
          "base_uri": "https://localhost:8080/"
        },
        "outputId": "7504b732-a2b7-4290-f684-d389ca609bec",
        "id": "9qkdnbL7YlQt"
      },
      "execution_count": 61,
      "outputs": [
        {
          "output_type": "execute_result",
          "data": {
            "text/plain": [
              "Pipeline(steps=[('poly_ft',\n",
              "                 PolynomialFeatures(degree=3, include_bias=False,\n",
              "                                    interaction_only=True)),\n",
              "                ('tree_reg',\n",
              "                 RandomForestRegressor(ccp_alpha=1.35, max_depth=150,\n",
              "                                       max_features='sqrt',\n",
              "                                       min_impurity_decrease=1.1,\n",
              "                                       min_samples_leaf=10, n_estimators=200,\n",
              "                                       n_jobs=-1, oob_score=True,\n",
              "                                       random_state=42))])"
            ]
          },
          "metadata": {},
          "execution_count": 61
        }
      ]
    },
    {
      "cell_type": "markdown",
      "source": [
        "# Continue here"
      ],
      "metadata": {
        "id": "4MoOO1kHh5uO"
      }
    },
    {
      "cell_type": "code",
      "source": [
        "model.fit(X_train, y_train)\n",
        "eval.show_result(y_train, model.predict(X_train))\n",
        "eval.show_result_cv(y_train, X_train, model)"
      ],
      "metadata": {
        "colab": {
          "base_uri": "https://localhost:8080/"
        },
        "outputId": "440f5ea7-4cc8-49f7-fb08-740e574c8ad6",
        "id": "Qb4yH3YfYlQu"
      },
      "execution_count": null,
      "outputs": [
        {
          "output_type": "stream",
          "name": "stdout",
          "text": [
            "R2=0.731,RMSE=-51.276\n",
            "(CV) R2=0.581,RMSE=-62.471\n"
          ]
        }
      ]
    },
    {
      "cell_type": "code",
      "source": [
        "eval.show_result(y_test, model.predict(X_test))"
      ],
      "metadata": {
        "colab": {
          "base_uri": "https://localhost:8080/"
        },
        "outputId": "0fa42c21-d97c-4340-ac70-a387482b85dc",
        "id": "q93T5UQRYlQu"
      },
      "execution_count": null,
      "outputs": [
        {
          "output_type": "stream",
          "name": "stdout",
          "text": [
            "R2=-0.314,RMSE=-47.460\n"
          ]
        }
      ]
    },
    {
      "cell_type": "markdown",
      "source": [
        "No clear benefit from polynomial features in linear RUL, as with the other models. Actually, it worsened the results."
      ],
      "metadata": {
        "id": "KV3CdCfiYlQu"
      }
    },
    {
      "cell_type": "markdown",
      "source": [
        "## PolyFeatures + Non-Linear RUL"
      ],
      "metadata": {
        "id": "X6QjzkrcYlQv"
      }
    },
    {
      "cell_type": "code",
      "source": [
        "model = Pipeline([\n",
        "    ('poly_ft'  ,   PolynomialFeatures()),\n",
        "    ('trf_reg' ,TransformedTargetRegressor(\n",
        "        check_inverse=False,\n",
        "        regressor   = RandomForestRegressor(random_state=42, n_jobs=-1),\n",
        "        transformer = FunctionTransformer(np.clip, \n",
        "                                          kw_args={'a_min':0,'a_max':96})))\n",
        "])"
      ],
      "metadata": {
        "id": "ZmptpOZ3YlQv"
      },
      "execution_count": null,
      "outputs": []
    },
    {
      "cell_type": "code",
      "source": [
        "# ~6min\n",
        "GRID_SEARCH = False\n",
        "if (GRID_SEARCH):\n",
        "    param_distributions = {\n",
        "        \"poly_ft__degree\": [1,2,3],\n",
        "        \"poly_ft__interaction_only\": [False, True],\n",
        "        \"poly_ft__include_bias\": [True, False],\n",
        "        \"trf_reg__transformer__kw_args\": search.generate_clip_dicts(70,150,1),\n",
        "        \"trf_reg__regressor__n_estimators\": [50,100,200],\n",
        "        \"trf_reg__regressor__criterion\": ['squared_error','absolute_error','poisson'],\n",
        "        \"trf_reg__regressor__max_depth\": [None, 50, 100, 150],\n",
        "        \"trf_reg__regressor__min_samples_split\": [2,5,10,15,20],\n",
        "        \"trf_reg__regressor__min_samples_leaf\": [1,2,5,10,15,20,50,100],\n",
        "        \"trf_reg__regressor__max_features\": [\"sqrt\", \"log2\"],\n",
        "        \"trf_reg__regressor__min_impurity_decrease\": list(np.arange(0,150)/10),\n",
        "        \"trf_reg__regressor__ccp_alpha\": list(np.round(np.linspace(0, 2, 81), decimals=3)),\n",
        "        \"trf_reg__regressor__oob_score\": [True, False]\n",
        "    }\n",
        "    model = search.run_HR_GS(model, X_train, y_train, param_distributions)\n",
        "    print(model)"
      ],
      "metadata": {
        "colab": {
          "base_uri": "https://localhost:8080/"
        },
        "outputId": "9cbae91b-6e2b-4843-ccf2-7d8418c56ff2",
        "id": "aHTBYRq5YlQv"
      },
      "execution_count": null,
      "outputs": [
        {
          "output_type": "stream",
          "name": "stdout",
          "text": [
            "n_iterations: 4\n",
            "n_required_iterations: 4\n",
            "n_possible_iterations: 4\n",
            "min_resources_: 500\n",
            "max_resources_: 24720\n",
            "aggressive_elimination: False\n",
            "factor: 3\n",
            "----------\n",
            "iter: 0\n",
            "n_candidates: 49\n",
            "n_resources: 500\n",
            "Fitting 5 folds for each of 49 candidates, totalling 245 fits\n",
            "----------\n",
            "iter: 1\n",
            "n_candidates: 17\n",
            "n_resources: 1500\n",
            "Fitting 5 folds for each of 17 candidates, totalling 85 fits\n",
            "----------\n",
            "iter: 2\n",
            "n_candidates: 6\n",
            "n_resources: 4500\n",
            "Fitting 5 folds for each of 6 candidates, totalling 30 fits\n",
            "----------\n",
            "iter: 3\n",
            "n_candidates: 2\n",
            "n_resources: 13500\n",
            "Fitting 5 folds for each of 2 candidates, totalling 10 fits\n",
            "Best params:  {'trf_reg__transformer__kw_args': {'a_min': 0, 'a_max': 99}, 'trf_reg__regressor__oob_score': True, 'trf_reg__regressor__n_estimators': 200, 'trf_reg__regressor__min_samples_split': 2, 'trf_reg__regressor__min_samples_leaf': 5, 'trf_reg__regressor__min_impurity_decrease': 5.6, 'trf_reg__regressor__max_features': 'log2', 'trf_reg__regressor__max_depth': 50, 'trf_reg__regressor__criterion': 'squared_error', 'trf_reg__regressor__ccp_alpha': 0.15, 'poly_ft__interaction_only': True, 'poly_ft__include_bias': False, 'poly_ft__degree': 3}\n",
            "Pipeline(steps=[('poly_ft',\n",
            "                 PolynomialFeatures(degree=3, include_bias=False,\n",
            "                                    interaction_only=True)),\n",
            "                ('trf_reg',\n",
            "                 TransformedTargetRegressor(check_inverse=False,\n",
            "                                            regressor=RandomForestRegressor(ccp_alpha=0.15,\n",
            "                                                                            max_depth=50,\n",
            "                                                                            max_features='log2',\n",
            "                                                                            min_impurity_decrease=5.6,\n",
            "                                                                            min_samples_leaf=5,\n",
            "                                                                            n_estimators=200,\n",
            "                                                                            n_jobs=-1,\n",
            "                                                                            oob_score=True,\n",
            "                                                                            random_state=42),\n",
            "                                            transformer=FunctionTransformer(func=<function clip at 0x7efea91cec20>,\n",
            "                                                                            kw_args={'a_max': 99,\n",
            "                                                                                     'a_min': 0})))])\n"
          ]
        }
      ]
    },
    {
      "cell_type": "markdown",
      "source": [
        "Best Model:\n",
        "```\n",
        "'trf_reg__transformer__kw_args': {'a_min': 0, 'a_max': 99}\n",
        "PolynomialFeatures(degree=3, include_bias=False,\n",
        "                                    interaction_only=True)\n",
        "RandomForestRegressor(ccp_alpha=0.15,\n",
        "                    max_depth=50,\n",
        "                    max_features='log2',\n",
        "                    min_impurity_decrease=5.6,\n",
        "                    min_samples_leaf=5,\n",
        "                    n_estimators=200,\n",
        "                    n_jobs=-1,\n",
        "                    oob_score=True,\n",
        "                    random_state=42),\n",
        "```\n"
      ],
      "metadata": {
        "id": "upUyZHArYlQw"
      }
    },
    {
      "cell_type": "code",
      "source": [
        "model = Pipeline([\n",
        "    ('poly_ft', PolynomialFeatures(degree=3, include_bias=False,\n",
        "                                    interaction_only=True)),\n",
        "    ('trf_reg' ,TransformedTargetRegressor(\n",
        "        check_inverse=False,\n",
        "        regressor   = RandomForestRegressor(ccp_alpha=0.15,\n",
        "                        max_depth=50,\n",
        "                        max_features='log2',\n",
        "                        min_impurity_decrease=5.6,\n",
        "                        min_samples_leaf=5,\n",
        "                        n_estimators=200,\n",
        "                        n_jobs=-1,\n",
        "                        oob_score=True,\n",
        "                        random_state=42),\n",
        "        transformer = FunctionTransformer(np.clip, \n",
        "                                          kw_args={'a_min':0,'a_max':99})))\n",
        "])\n",
        "model"
      ],
      "metadata": {
        "colab": {
          "base_uri": "https://localhost:8080/"
        },
        "outputId": "acdac1ae-3c0c-4d9f-99d2-3cef16384d22",
        "id": "z7KNo8_cYlQw"
      },
      "execution_count": null,
      "outputs": [
        {
          "output_type": "execute_result",
          "data": {
            "text/plain": [
              "Pipeline(steps=[('poly_ft',\n",
              "                 PolynomialFeatures(degree=3, include_bias=False,\n",
              "                                    interaction_only=True)),\n",
              "                ('trf_reg',\n",
              "                 TransformedTargetRegressor(check_inverse=False,\n",
              "                                            regressor=RandomForestRegressor(ccp_alpha=0.15,\n",
              "                                                                            max_depth=50,\n",
              "                                                                            max_features='log2',\n",
              "                                                                            min_impurity_decrease=5.6,\n",
              "                                                                            min_samples_leaf=5,\n",
              "                                                                            n_estimators=200,\n",
              "                                                                            n_jobs=-1,\n",
              "                                                                            oob_score=True,\n",
              "                                                                            random_state=42),\n",
              "                                            transformer=FunctionTransformer(func=<function clip at 0x7efea91cec20>,\n",
              "                                                                            kw_args={'a_max': 99,\n",
              "                                                                                     'a_min': 0})))])"
            ]
          },
          "metadata": {},
          "execution_count": 55
        }
      ]
    },
    {
      "cell_type": "code",
      "source": [
        "# ~3min\n",
        "model.fit(X_train, y_train)\n",
        "reclipped_y =  model['trf_reg'].transformer.transform(y_train)\n",
        "eval.show_result(reclipped_y, model.predict(X_train))\n",
        "eval.show_result_cv(reclipped_y, X_train, model)"
      ],
      "metadata": {
        "colab": {
          "base_uri": "https://localhost:8080/"
        },
        "outputId": "977eb69c-dd8c-4484-b38d-4c16a6404282",
        "id": "m2X-nS6xYlQx"
      },
      "execution_count": null,
      "outputs": [
        {
          "output_type": "stream",
          "name": "stdout",
          "text": [
            "R2=0.848,RMSE=-11.880\n",
            "(CV) R2=0.830,RMSE=-12.395\n"
          ]
        }
      ]
    },
    {
      "cell_type": "code",
      "source": [
        "reclipped_y =  model['trf_reg'].transformer.transform(y_test)\n",
        "eval.show_result(reclipped_y, model.predict(X_test))"
      ],
      "metadata": {
        "colab": {
          "base_uri": "https://localhost:8080/"
        },
        "outputId": "28cda003-a098-4fbb-d22e-a6f4fac9560a",
        "id": "TAfNNJrgYlQy"
      },
      "execution_count": null,
      "outputs": [
        {
          "output_type": "stream",
          "name": "stdout",
          "text": [
            "R2=0.776,RMSE=-15.112\n"
          ]
        }
      ]
    },
    {
      "cell_type": "markdown",
      "source": [
        "Exactly the same model as FD001.\n",
        "\n",
        "Same results as the decision tree. Considering that the tree is quicker to train, one should choose the tree over the forest. It also allows us to use the tree as feature selector to other models."
      ],
      "metadata": {
        "id": "ZO1NCAztYlQy"
      }
    },
    {
      "cell_type": "code",
      "source": [
        ""
      ],
      "metadata": {
        "id": "Y9DAuKTv64iG"
      },
      "execution_count": null,
      "outputs": []
    }
  ]
}