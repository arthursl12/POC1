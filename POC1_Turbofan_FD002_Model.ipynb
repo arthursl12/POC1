{
  "nbformat": 4,
  "nbformat_minor": 0,
  "metadata": {
    "colab": {
      "name": "POC1_Turbofan_FD002_Model.ipynb",
      "provenance": [],
      "collapsed_sections": [
        "iqDPLB2EDXSK",
        "AU6ipeRozJz-",
        "Q4QwyfhXs_hv",
        "n7MBDuPasy-s",
        "QinQ4hWStzHt",
        "boZqFQNlraCh",
        "IIXnBTkfxpCf"
      ],
      "toc_visible": true,
      "authorship_tag": "ABX9TyM15xJA64gSTScdNoGvh9/X",
      "include_colab_link": true
    },
    "kernelspec": {
      "name": "python3",
      "display_name": "Python 3"
    },
    "language_info": {
      "name": "python"
    }
  },
  "cells": [
    {
      "cell_type": "markdown",
      "metadata": {
        "id": "view-in-github",
        "colab_type": "text"
      },
      "source": [
        "<a href=\"https://colab.research.google.com/github/arthursl12/POC1/blob/main/POC1_Turbofan_FD002_Model.ipynb\" target=\"_parent\"><img src=\"https://colab.research.google.com/assets/colab-badge.svg\" alt=\"Open In Colab\"/></a>"
      ]
    },
    {
      "cell_type": "markdown",
      "metadata": {
        "id": "iqDPLB2EDXSK"
      },
      "source": [
        "# Imports"
      ]
    },
    {
      "cell_type": "code",
      "execution_count": 2,
      "metadata": {
        "id": "i0Z0Zs7YcgTp"
      },
      "outputs": [],
      "source": [
        "import os\n",
        "import pandas as pd\n",
        "import matplotlib.pyplot as plt\n",
        "import seaborn as sns\n",
        "import numpy as np\n",
        "import glob"
      ]
    },
    {
      "cell_type": "code",
      "execution_count": 3,
      "metadata": {
        "id": "JKha6nBN1sGO"
      },
      "outputs": [],
      "source": [
        "from sklearn.linear_model import LinearRegression\n",
        "from sklearn.linear_model import SGDRegressor\n",
        "from sklearn.svm import LinearSVR\n",
        "\n",
        "from sklearn.pipeline import Pipeline\n",
        "from sklearn.compose import TransformedTargetRegressor\n",
        "from sklearn.exceptions import ConvergenceWarning\n",
        "\n",
        "from sklearn.feature_selection import SelectFromModel\n",
        "from sklearn.tree import DecisionTreeRegressor\n",
        "\n",
        "from sklearn.preprocessing import FunctionTransformer\n",
        "from sklearn.preprocessing import PolynomialFeatures\n",
        "from sklearn.preprocessing import StandardScaler\n",
        "from sklearn.preprocessing import MinMaxScaler"
      ]
    },
    {
      "cell_type": "code",
      "execution_count": 4,
      "metadata": {
        "id": "yIpSdBdJ-uWd"
      },
      "outputs": [],
      "source": [
        "sns.set_palette('colorblind')"
      ]
    },
    {
      "cell_type": "markdown",
      "source": [
        "# Data Preparation"
      ],
      "metadata": {
        "id": "AU6ipeRozJz-"
      }
    },
    {
      "cell_type": "code",
      "source": [
        "# Dataset Download \n",
        "os.system('git clone https://github.com/arthursl12/dataset_2')\n",
        "os.system('mv /content/dataset_2/CMaps /content/CMaps')\n",
        "os.system('mv /content/dataset_2/data_processing /content/data_processing')\n",
        "os.system('rm -rf dataset_2')"
      ],
      "metadata": {
        "colab": {
          "base_uri": "https://localhost:8080/"
        },
        "id": "-EPYBkqeECE9",
        "outputId": "87e5b5b5-4e98-4409-afc5-4824b7ed1282"
      },
      "execution_count": 5,
      "outputs": [
        {
          "output_type": "execute_result",
          "data": {
            "text/plain": [
              "0"
            ]
          },
          "metadata": {},
          "execution_count": 5
        }
      ]
    },
    {
      "cell_type": "code",
      "source": [
        "from data_processing.processing import DatasetProcessing\n",
        "from data_processing.training import HyperparameterSearch, reclipper_scorer\n",
        "from data_processing.eval import Evaluation"
      ],
      "metadata": {
        "id": "FUQ5tHe4Eu7z"
      },
      "execution_count": 6,
      "outputs": []
    },
    {
      "cell_type": "code",
      "source": [
        "proc = DatasetProcessing()"
      ],
      "metadata": {
        "id": "g1BmyudxzUz-"
      },
      "execution_count": 7,
      "outputs": []
    },
    {
      "cell_type": "markdown",
      "source": [
        "## Data Integration"
      ],
      "metadata": {
        "id": "Q4QwyfhXs_hv"
      }
    },
    {
      "cell_type": "markdown",
      "source": [
        "The data are provided as a zip-compressed text file with 26 columns of numbers, separated by spaces. Each row is a snapshot of data taken during a single operational cycle, each column is a different variable. The columns correspond to:  \n",
        "\n",
        "1) unit number   \n",
        "2) time, in cycles  \n",
        "3) operational setting 1  \n",
        "4) operational setting 2  \n",
        "5) operational setting 3    \n",
        "6) sensor measurement 1    \n",
        "7) sensor measurement 2  \n",
        "...  \n",
        "26) sensor measurement 20\n",
        "\n",
        "\n",
        "There are 6 conditions (or combinations) which the 3 operational settings can take.  \n",
        "Condition 1: Altitude = 0, Mach Number = 0, TRA = 100  \n",
        "Condition 2: Altitude = 10, Mach Number = 0.25, TRA = 100  \n",
        "Condition 3: Altitude = 20, Mach Number = 0.7 TRA = 100  \n",
        "Condition 4: Altitude = 25, Mach Number = 0.62, TRA = 60  \n",
        "Condition 5: Altitude = 35 Mach Number = 0.84, TRA = 100  \n",
        "Condition 6: Altitude = 42, Mach Number = 0.84, TRA = 100  \n",
        "  \n",
        "There is slight variation in all these conditions so you may get numbers like 24.453 instead of 25 exactly.\n",
        "\n",
        "FD001: Condition 1 only  \n",
        "FD002: Mix of all the conditions  \n",
        "FD003: Condition 1 only  \n",
        "FD004: Mix of all conditions  \n"
      ],
      "metadata": {
        "id": "PQe-SyeYc6Gf"
      }
    },
    {
      "cell_type": "code",
      "source": [
        "index_cols, settings_cols, sensors_cols, cols = proc.column_names()\n",
        "train, test, y_test = proc.read_dataset(2)\n",
        "train"
      ],
      "metadata": {
        "colab": {
          "base_uri": "https://localhost:8080/",
          "height": 488
        },
        "id": "-yRYxz2hh4xE",
        "outputId": "b432eb0c-d4ed-4f8b-ad74-1eabaca0988b"
      },
      "execution_count": 8,
      "outputs": [
        {
          "output_type": "execute_result",
          "data": {
            "text/plain": [
              "       unit_number  time     op_1    op_2   op_3     s_0     s_1      s_2  \\\n",
              "0                1     1  34.9983  0.8400  100.0  449.44  555.32  1358.61   \n",
              "1                1     2  41.9982  0.8408  100.0  445.00  549.90  1353.22   \n",
              "2                1     3  24.9988  0.6218   60.0  462.54  537.31  1256.76   \n",
              "3                1     4  42.0077  0.8416  100.0  445.00  549.51  1354.03   \n",
              "4                1     5  25.0005  0.6203   60.0  462.54  537.07  1257.71   \n",
              "...            ...   ...      ...     ...    ...     ...     ...      ...   \n",
              "53754          260   312  20.0037  0.7000  100.0  491.19  608.79  1495.60   \n",
              "53755          260   313  10.0022  0.2510  100.0  489.05  605.81  1514.32   \n",
              "53756          260   314  25.0041  0.6200   60.0  462.54  537.48  1276.24   \n",
              "53757          260   315  25.0033  0.6220   60.0  462.54  537.84  1272.95   \n",
              "53758          260   316  35.0036  0.8400  100.0  449.44  556.64  1374.61   \n",
              "\n",
              "           s_3    s_4  ...    s_11     s_12     s_13     s_14  s_15  s_16  \\\n",
              "0      1137.23   5.48  ...  183.06  2387.72  8048.56   9.3461  0.02   334   \n",
              "1      1125.78   3.91  ...  130.42  2387.66  8072.30   9.3774  0.02   330   \n",
              "2      1047.45   7.05  ...  164.22  2028.03  7864.87  10.8941  0.02   309   \n",
              "3      1126.38   3.91  ...  130.72  2387.61  8068.66   9.3528  0.02   329   \n",
              "4      1047.93   7.05  ...  164.31  2028.00  7861.23  10.8963  0.02   309   \n",
              "...        ...    ...  ...     ...      ...      ...      ...   ...   ...   \n",
              "53754  1269.51   9.35  ...  314.05  2389.02  8169.64   9.3035  0.03   369   \n",
              "53755  1324.12  10.52  ...  371.22  2388.42  8245.36   8.7586  0.03   374   \n",
              "53756  1057.92   7.05  ...  163.74  2030.33  7971.25  11.0657  0.02   310   \n",
              "53757  1066.30   7.05  ...  164.37  2030.35  7972.47  11.0537  0.02   311   \n",
              "53758  1145.52   5.48  ...  183.09  2390.38  8185.35   9.3998  0.02   338   \n",
              "\n",
              "       s_17    s_18   s_19     s_20  \n",
              "0      2223  100.00  14.73   8.8071  \n",
              "1      2212  100.00  10.41   6.2665  \n",
              "2      1915   84.93  14.08   8.6723  \n",
              "3      2212  100.00  10.59   6.4701  \n",
              "4      1915   84.93  14.13   8.5286  \n",
              "...     ...     ...    ...      ...  \n",
              "53754  2324  100.00  24.36  14.5189  \n",
              "53755  2319  100.00  28.10  16.9454  \n",
              "53756  1915   84.93  14.19   8.5503  \n",
              "53757  1915   84.93  14.05   8.3729  \n",
              "53758  2223  100.00  14.75   8.8446  \n",
              "\n",
              "[53759 rows x 26 columns]"
            ],
            "text/html": [
              "\n",
              "  <div id=\"df-7c222250-d8d2-4914-b137-1c47678f2ed7\">\n",
              "    <div class=\"colab-df-container\">\n",
              "      <div>\n",
              "<style scoped>\n",
              "    .dataframe tbody tr th:only-of-type {\n",
              "        vertical-align: middle;\n",
              "    }\n",
              "\n",
              "    .dataframe tbody tr th {\n",
              "        vertical-align: top;\n",
              "    }\n",
              "\n",
              "    .dataframe thead th {\n",
              "        text-align: right;\n",
              "    }\n",
              "</style>\n",
              "<table border=\"1\" class=\"dataframe\">\n",
              "  <thead>\n",
              "    <tr style=\"text-align: right;\">\n",
              "      <th></th>\n",
              "      <th>unit_number</th>\n",
              "      <th>time</th>\n",
              "      <th>op_1</th>\n",
              "      <th>op_2</th>\n",
              "      <th>op_3</th>\n",
              "      <th>s_0</th>\n",
              "      <th>s_1</th>\n",
              "      <th>s_2</th>\n",
              "      <th>s_3</th>\n",
              "      <th>s_4</th>\n",
              "      <th>...</th>\n",
              "      <th>s_11</th>\n",
              "      <th>s_12</th>\n",
              "      <th>s_13</th>\n",
              "      <th>s_14</th>\n",
              "      <th>s_15</th>\n",
              "      <th>s_16</th>\n",
              "      <th>s_17</th>\n",
              "      <th>s_18</th>\n",
              "      <th>s_19</th>\n",
              "      <th>s_20</th>\n",
              "    </tr>\n",
              "  </thead>\n",
              "  <tbody>\n",
              "    <tr>\n",
              "      <th>0</th>\n",
              "      <td>1</td>\n",
              "      <td>1</td>\n",
              "      <td>34.9983</td>\n",
              "      <td>0.8400</td>\n",
              "      <td>100.0</td>\n",
              "      <td>449.44</td>\n",
              "      <td>555.32</td>\n",
              "      <td>1358.61</td>\n",
              "      <td>1137.23</td>\n",
              "      <td>5.48</td>\n",
              "      <td>...</td>\n",
              "      <td>183.06</td>\n",
              "      <td>2387.72</td>\n",
              "      <td>8048.56</td>\n",
              "      <td>9.3461</td>\n",
              "      <td>0.02</td>\n",
              "      <td>334</td>\n",
              "      <td>2223</td>\n",
              "      <td>100.00</td>\n",
              "      <td>14.73</td>\n",
              "      <td>8.8071</td>\n",
              "    </tr>\n",
              "    <tr>\n",
              "      <th>1</th>\n",
              "      <td>1</td>\n",
              "      <td>2</td>\n",
              "      <td>41.9982</td>\n",
              "      <td>0.8408</td>\n",
              "      <td>100.0</td>\n",
              "      <td>445.00</td>\n",
              "      <td>549.90</td>\n",
              "      <td>1353.22</td>\n",
              "      <td>1125.78</td>\n",
              "      <td>3.91</td>\n",
              "      <td>...</td>\n",
              "      <td>130.42</td>\n",
              "      <td>2387.66</td>\n",
              "      <td>8072.30</td>\n",
              "      <td>9.3774</td>\n",
              "      <td>0.02</td>\n",
              "      <td>330</td>\n",
              "      <td>2212</td>\n",
              "      <td>100.00</td>\n",
              "      <td>10.41</td>\n",
              "      <td>6.2665</td>\n",
              "    </tr>\n",
              "    <tr>\n",
              "      <th>2</th>\n",
              "      <td>1</td>\n",
              "      <td>3</td>\n",
              "      <td>24.9988</td>\n",
              "      <td>0.6218</td>\n",
              "      <td>60.0</td>\n",
              "      <td>462.54</td>\n",
              "      <td>537.31</td>\n",
              "      <td>1256.76</td>\n",
              "      <td>1047.45</td>\n",
              "      <td>7.05</td>\n",
              "      <td>...</td>\n",
              "      <td>164.22</td>\n",
              "      <td>2028.03</td>\n",
              "      <td>7864.87</td>\n",
              "      <td>10.8941</td>\n",
              "      <td>0.02</td>\n",
              "      <td>309</td>\n",
              "      <td>1915</td>\n",
              "      <td>84.93</td>\n",
              "      <td>14.08</td>\n",
              "      <td>8.6723</td>\n",
              "    </tr>\n",
              "    <tr>\n",
              "      <th>3</th>\n",
              "      <td>1</td>\n",
              "      <td>4</td>\n",
              "      <td>42.0077</td>\n",
              "      <td>0.8416</td>\n",
              "      <td>100.0</td>\n",
              "      <td>445.00</td>\n",
              "      <td>549.51</td>\n",
              "      <td>1354.03</td>\n",
              "      <td>1126.38</td>\n",
              "      <td>3.91</td>\n",
              "      <td>...</td>\n",
              "      <td>130.72</td>\n",
              "      <td>2387.61</td>\n",
              "      <td>8068.66</td>\n",
              "      <td>9.3528</td>\n",
              "      <td>0.02</td>\n",
              "      <td>329</td>\n",
              "      <td>2212</td>\n",
              "      <td>100.00</td>\n",
              "      <td>10.59</td>\n",
              "      <td>6.4701</td>\n",
              "    </tr>\n",
              "    <tr>\n",
              "      <th>4</th>\n",
              "      <td>1</td>\n",
              "      <td>5</td>\n",
              "      <td>25.0005</td>\n",
              "      <td>0.6203</td>\n",
              "      <td>60.0</td>\n",
              "      <td>462.54</td>\n",
              "      <td>537.07</td>\n",
              "      <td>1257.71</td>\n",
              "      <td>1047.93</td>\n",
              "      <td>7.05</td>\n",
              "      <td>...</td>\n",
              "      <td>164.31</td>\n",
              "      <td>2028.00</td>\n",
              "      <td>7861.23</td>\n",
              "      <td>10.8963</td>\n",
              "      <td>0.02</td>\n",
              "      <td>309</td>\n",
              "      <td>1915</td>\n",
              "      <td>84.93</td>\n",
              "      <td>14.13</td>\n",
              "      <td>8.5286</td>\n",
              "    </tr>\n",
              "    <tr>\n",
              "      <th>...</th>\n",
              "      <td>...</td>\n",
              "      <td>...</td>\n",
              "      <td>...</td>\n",
              "      <td>...</td>\n",
              "      <td>...</td>\n",
              "      <td>...</td>\n",
              "      <td>...</td>\n",
              "      <td>...</td>\n",
              "      <td>...</td>\n",
              "      <td>...</td>\n",
              "      <td>...</td>\n",
              "      <td>...</td>\n",
              "      <td>...</td>\n",
              "      <td>...</td>\n",
              "      <td>...</td>\n",
              "      <td>...</td>\n",
              "      <td>...</td>\n",
              "      <td>...</td>\n",
              "      <td>...</td>\n",
              "      <td>...</td>\n",
              "      <td>...</td>\n",
              "    </tr>\n",
              "    <tr>\n",
              "      <th>53754</th>\n",
              "      <td>260</td>\n",
              "      <td>312</td>\n",
              "      <td>20.0037</td>\n",
              "      <td>0.7000</td>\n",
              "      <td>100.0</td>\n",
              "      <td>491.19</td>\n",
              "      <td>608.79</td>\n",
              "      <td>1495.60</td>\n",
              "      <td>1269.51</td>\n",
              "      <td>9.35</td>\n",
              "      <td>...</td>\n",
              "      <td>314.05</td>\n",
              "      <td>2389.02</td>\n",
              "      <td>8169.64</td>\n",
              "      <td>9.3035</td>\n",
              "      <td>0.03</td>\n",
              "      <td>369</td>\n",
              "      <td>2324</td>\n",
              "      <td>100.00</td>\n",
              "      <td>24.36</td>\n",
              "      <td>14.5189</td>\n",
              "    </tr>\n",
              "    <tr>\n",
              "      <th>53755</th>\n",
              "      <td>260</td>\n",
              "      <td>313</td>\n",
              "      <td>10.0022</td>\n",
              "      <td>0.2510</td>\n",
              "      <td>100.0</td>\n",
              "      <td>489.05</td>\n",
              "      <td>605.81</td>\n",
              "      <td>1514.32</td>\n",
              "      <td>1324.12</td>\n",
              "      <td>10.52</td>\n",
              "      <td>...</td>\n",
              "      <td>371.22</td>\n",
              "      <td>2388.42</td>\n",
              "      <td>8245.36</td>\n",
              "      <td>8.7586</td>\n",
              "      <td>0.03</td>\n",
              "      <td>374</td>\n",
              "      <td>2319</td>\n",
              "      <td>100.00</td>\n",
              "      <td>28.10</td>\n",
              "      <td>16.9454</td>\n",
              "    </tr>\n",
              "    <tr>\n",
              "      <th>53756</th>\n",
              "      <td>260</td>\n",
              "      <td>314</td>\n",
              "      <td>25.0041</td>\n",
              "      <td>0.6200</td>\n",
              "      <td>60.0</td>\n",
              "      <td>462.54</td>\n",
              "      <td>537.48</td>\n",
              "      <td>1276.24</td>\n",
              "      <td>1057.92</td>\n",
              "      <td>7.05</td>\n",
              "      <td>...</td>\n",
              "      <td>163.74</td>\n",
              "      <td>2030.33</td>\n",
              "      <td>7971.25</td>\n",
              "      <td>11.0657</td>\n",
              "      <td>0.02</td>\n",
              "      <td>310</td>\n",
              "      <td>1915</td>\n",
              "      <td>84.93</td>\n",
              "      <td>14.19</td>\n",
              "      <td>8.5503</td>\n",
              "    </tr>\n",
              "    <tr>\n",
              "      <th>53757</th>\n",
              "      <td>260</td>\n",
              "      <td>315</td>\n",
              "      <td>25.0033</td>\n",
              "      <td>0.6220</td>\n",
              "      <td>60.0</td>\n",
              "      <td>462.54</td>\n",
              "      <td>537.84</td>\n",
              "      <td>1272.95</td>\n",
              "      <td>1066.30</td>\n",
              "      <td>7.05</td>\n",
              "      <td>...</td>\n",
              "      <td>164.37</td>\n",
              "      <td>2030.35</td>\n",
              "      <td>7972.47</td>\n",
              "      <td>11.0537</td>\n",
              "      <td>0.02</td>\n",
              "      <td>311</td>\n",
              "      <td>1915</td>\n",
              "      <td>84.93</td>\n",
              "      <td>14.05</td>\n",
              "      <td>8.3729</td>\n",
              "    </tr>\n",
              "    <tr>\n",
              "      <th>53758</th>\n",
              "      <td>260</td>\n",
              "      <td>316</td>\n",
              "      <td>35.0036</td>\n",
              "      <td>0.8400</td>\n",
              "      <td>100.0</td>\n",
              "      <td>449.44</td>\n",
              "      <td>556.64</td>\n",
              "      <td>1374.61</td>\n",
              "      <td>1145.52</td>\n",
              "      <td>5.48</td>\n",
              "      <td>...</td>\n",
              "      <td>183.09</td>\n",
              "      <td>2390.38</td>\n",
              "      <td>8185.35</td>\n",
              "      <td>9.3998</td>\n",
              "      <td>0.02</td>\n",
              "      <td>338</td>\n",
              "      <td>2223</td>\n",
              "      <td>100.00</td>\n",
              "      <td>14.75</td>\n",
              "      <td>8.8446</td>\n",
              "    </tr>\n",
              "  </tbody>\n",
              "</table>\n",
              "<p>53759 rows × 26 columns</p>\n",
              "</div>\n",
              "      <button class=\"colab-df-convert\" onclick=\"convertToInteractive('df-7c222250-d8d2-4914-b137-1c47678f2ed7')\"\n",
              "              title=\"Convert this dataframe to an interactive table.\"\n",
              "              style=\"display:none;\">\n",
              "        \n",
              "  <svg xmlns=\"http://www.w3.org/2000/svg\" height=\"24px\"viewBox=\"0 0 24 24\"\n",
              "       width=\"24px\">\n",
              "    <path d=\"M0 0h24v24H0V0z\" fill=\"none\"/>\n",
              "    <path d=\"M18.56 5.44l.94 2.06.94-2.06 2.06-.94-2.06-.94-.94-2.06-.94 2.06-2.06.94zm-11 1L8.5 8.5l.94-2.06 2.06-.94-2.06-.94L8.5 2.5l-.94 2.06-2.06.94zm10 10l.94 2.06.94-2.06 2.06-.94-2.06-.94-.94-2.06-.94 2.06-2.06.94z\"/><path d=\"M17.41 7.96l-1.37-1.37c-.4-.4-.92-.59-1.43-.59-.52 0-1.04.2-1.43.59L10.3 9.45l-7.72 7.72c-.78.78-.78 2.05 0 2.83L4 21.41c.39.39.9.59 1.41.59.51 0 1.02-.2 1.41-.59l7.78-7.78 2.81-2.81c.8-.78.8-2.07 0-2.86zM5.41 20L4 18.59l7.72-7.72 1.47 1.35L5.41 20z\"/>\n",
              "  </svg>\n",
              "      </button>\n",
              "      \n",
              "  <style>\n",
              "    .colab-df-container {\n",
              "      display:flex;\n",
              "      flex-wrap:wrap;\n",
              "      gap: 12px;\n",
              "    }\n",
              "\n",
              "    .colab-df-convert {\n",
              "      background-color: #E8F0FE;\n",
              "      border: none;\n",
              "      border-radius: 50%;\n",
              "      cursor: pointer;\n",
              "      display: none;\n",
              "      fill: #1967D2;\n",
              "      height: 32px;\n",
              "      padding: 0 0 0 0;\n",
              "      width: 32px;\n",
              "    }\n",
              "\n",
              "    .colab-df-convert:hover {\n",
              "      background-color: #E2EBFA;\n",
              "      box-shadow: 0px 1px 2px rgba(60, 64, 67, 0.3), 0px 1px 3px 1px rgba(60, 64, 67, 0.15);\n",
              "      fill: #174EA6;\n",
              "    }\n",
              "\n",
              "    [theme=dark] .colab-df-convert {\n",
              "      background-color: #3B4455;\n",
              "      fill: #D2E3FC;\n",
              "    }\n",
              "\n",
              "    [theme=dark] .colab-df-convert:hover {\n",
              "      background-color: #434B5C;\n",
              "      box-shadow: 0px 1px 3px 1px rgba(0, 0, 0, 0.15);\n",
              "      filter: drop-shadow(0px 1px 2px rgba(0, 0, 0, 0.3));\n",
              "      fill: #FFFFFF;\n",
              "    }\n",
              "  </style>\n",
              "\n",
              "      <script>\n",
              "        const buttonEl =\n",
              "          document.querySelector('#df-7c222250-d8d2-4914-b137-1c47678f2ed7 button.colab-df-convert');\n",
              "        buttonEl.style.display =\n",
              "          google.colab.kernel.accessAllowed ? 'block' : 'none';\n",
              "\n",
              "        async function convertToInteractive(key) {\n",
              "          const element = document.querySelector('#df-7c222250-d8d2-4914-b137-1c47678f2ed7');\n",
              "          const dataTable =\n",
              "            await google.colab.kernel.invokeFunction('convertToInteractive',\n",
              "                                                     [key], {});\n",
              "          if (!dataTable) return;\n",
              "\n",
              "          const docLinkHtml = 'Like what you see? Visit the ' +\n",
              "            '<a target=\"_blank\" href=https://colab.research.google.com/notebooks/data_table.ipynb>data table notebook</a>'\n",
              "            + ' to learn more about interactive tables.';\n",
              "          element.innerHTML = '';\n",
              "          dataTable['output_type'] = 'display_data';\n",
              "          await google.colab.output.renderOutput(dataTable, element);\n",
              "          const docLink = document.createElement('div');\n",
              "          docLink.innerHTML = docLinkHtml;\n",
              "          element.appendChild(docLink);\n",
              "        }\n",
              "      </script>\n",
              "    </div>\n",
              "  </div>\n",
              "  "
            ]
          },
          "metadata": {},
          "execution_count": 8
        }
      ]
    },
    {
      "cell_type": "markdown",
      "source": [
        "## Preprocessing"
      ],
      "metadata": {
        "id": "n7MBDuPasy-s"
      }
    },
    {
      "cell_type": "markdown",
      "source": [
        "### Test Set Transformation \n",
        "Test set has samples for all cycles, but has annotations only for last one"
      ],
      "metadata": {
        "id": "QinQ4hWStzHt"
      }
    },
    {
      "cell_type": "code",
      "source": [
        "test.shape, y_test.shape"
      ],
      "metadata": {
        "colab": {
          "base_uri": "https://localhost:8080/"
        },
        "id": "4wtvRNsfuUwg",
        "outputId": "d7943b0e-de78-4bc2-d350-14dd0410118e"
      },
      "execution_count": 9,
      "outputs": [
        {
          "output_type": "execute_result",
          "data": {
            "text/plain": [
              "((33991, 26), (259, 1))"
            ]
          },
          "metadata": {},
          "execution_count": 9
        }
      ]
    },
    {
      "cell_type": "code",
      "source": [
        "test_last = proc.transform_test_keep_setting(test)\n",
        "test_last.head()"
      ],
      "metadata": {
        "colab": {
          "base_uri": "https://localhost:8080/",
          "height": 300
        },
        "id": "onw4pCwZy-1s",
        "outputId": "bf255d59-2b28-4d1f-ed29-7623f3d84ff8"
      },
      "execution_count": 10,
      "outputs": [
        {
          "output_type": "execute_result",
          "data": {
            "text/plain": [
              "      op_1    op_2   op_3     s_0     s_1      s_2      s_3    s_4    s_5  \\\n",
              "0  10.0076  0.2501  100.0  489.05  605.42  1515.00  1325.07  10.52  15.50   \n",
              "1   0.0018  0.0000  100.0  518.67  642.67  1591.67  1418.17  14.62  21.61   \n",
              "2  35.0015  0.8412  100.0  449.44  555.86  1370.62  1135.59   5.48   8.00   \n",
              "3  20.0032  0.7000  100.0  491.19  607.99  1487.94  1257.49   9.35  13.66   \n",
              "4  42.0055  0.8400  100.0  445.00  550.81  1358.95  1140.34   3.91   5.72   \n",
              "\n",
              "      s_6  ...    s_11     s_12     s_13    s_14  s_15  s_16  s_17   s_18  \\\n",
              "0  393.58  ...  370.87  2388.32  8167.06  8.7456  0.03   371  2319  100.0   \n",
              "1  553.36  ...  521.10  2388.12  8138.12  8.4248  0.03   393  2388  100.0   \n",
              "2  194.58  ...  183.11  2388.07  8071.23  9.3094  0.02   332  2223  100.0   \n",
              "3  334.39  ...  314.88  2388.12  8062.39  9.2349  0.02   365  2324  100.0   \n",
              "4  138.42  ...  130.82  2389.06  8140.94  9.3964  0.02   333  2212  100.0   \n",
              "\n",
              "    s_19     s_20  \n",
              "0  28.30  17.0934  \n",
              "1  38.82  23.3463  \n",
              "2  14.75   8.9589  \n",
              "3  24.22  14.6814  \n",
              "4  10.34   6.3601  \n",
              "\n",
              "[5 rows x 24 columns]"
            ],
            "text/html": [
              "\n",
              "  <div id=\"df-d0c4543b-14a6-4868-9c83-dafd53d8d6ff\">\n",
              "    <div class=\"colab-df-container\">\n",
              "      <div>\n",
              "<style scoped>\n",
              "    .dataframe tbody tr th:only-of-type {\n",
              "        vertical-align: middle;\n",
              "    }\n",
              "\n",
              "    .dataframe tbody tr th {\n",
              "        vertical-align: top;\n",
              "    }\n",
              "\n",
              "    .dataframe thead th {\n",
              "        text-align: right;\n",
              "    }\n",
              "</style>\n",
              "<table border=\"1\" class=\"dataframe\">\n",
              "  <thead>\n",
              "    <tr style=\"text-align: right;\">\n",
              "      <th></th>\n",
              "      <th>op_1</th>\n",
              "      <th>op_2</th>\n",
              "      <th>op_3</th>\n",
              "      <th>s_0</th>\n",
              "      <th>s_1</th>\n",
              "      <th>s_2</th>\n",
              "      <th>s_3</th>\n",
              "      <th>s_4</th>\n",
              "      <th>s_5</th>\n",
              "      <th>s_6</th>\n",
              "      <th>...</th>\n",
              "      <th>s_11</th>\n",
              "      <th>s_12</th>\n",
              "      <th>s_13</th>\n",
              "      <th>s_14</th>\n",
              "      <th>s_15</th>\n",
              "      <th>s_16</th>\n",
              "      <th>s_17</th>\n",
              "      <th>s_18</th>\n",
              "      <th>s_19</th>\n",
              "      <th>s_20</th>\n",
              "    </tr>\n",
              "  </thead>\n",
              "  <tbody>\n",
              "    <tr>\n",
              "      <th>0</th>\n",
              "      <td>10.0076</td>\n",
              "      <td>0.2501</td>\n",
              "      <td>100.0</td>\n",
              "      <td>489.05</td>\n",
              "      <td>605.42</td>\n",
              "      <td>1515.00</td>\n",
              "      <td>1325.07</td>\n",
              "      <td>10.52</td>\n",
              "      <td>15.50</td>\n",
              "      <td>393.58</td>\n",
              "      <td>...</td>\n",
              "      <td>370.87</td>\n",
              "      <td>2388.32</td>\n",
              "      <td>8167.06</td>\n",
              "      <td>8.7456</td>\n",
              "      <td>0.03</td>\n",
              "      <td>371</td>\n",
              "      <td>2319</td>\n",
              "      <td>100.0</td>\n",
              "      <td>28.30</td>\n",
              "      <td>17.0934</td>\n",
              "    </tr>\n",
              "    <tr>\n",
              "      <th>1</th>\n",
              "      <td>0.0018</td>\n",
              "      <td>0.0000</td>\n",
              "      <td>100.0</td>\n",
              "      <td>518.67</td>\n",
              "      <td>642.67</td>\n",
              "      <td>1591.67</td>\n",
              "      <td>1418.17</td>\n",
              "      <td>14.62</td>\n",
              "      <td>21.61</td>\n",
              "      <td>553.36</td>\n",
              "      <td>...</td>\n",
              "      <td>521.10</td>\n",
              "      <td>2388.12</td>\n",
              "      <td>8138.12</td>\n",
              "      <td>8.4248</td>\n",
              "      <td>0.03</td>\n",
              "      <td>393</td>\n",
              "      <td>2388</td>\n",
              "      <td>100.0</td>\n",
              "      <td>38.82</td>\n",
              "      <td>23.3463</td>\n",
              "    </tr>\n",
              "    <tr>\n",
              "      <th>2</th>\n",
              "      <td>35.0015</td>\n",
              "      <td>0.8412</td>\n",
              "      <td>100.0</td>\n",
              "      <td>449.44</td>\n",
              "      <td>555.86</td>\n",
              "      <td>1370.62</td>\n",
              "      <td>1135.59</td>\n",
              "      <td>5.48</td>\n",
              "      <td>8.00</td>\n",
              "      <td>194.58</td>\n",
              "      <td>...</td>\n",
              "      <td>183.11</td>\n",
              "      <td>2388.07</td>\n",
              "      <td>8071.23</td>\n",
              "      <td>9.3094</td>\n",
              "      <td>0.02</td>\n",
              "      <td>332</td>\n",
              "      <td>2223</td>\n",
              "      <td>100.0</td>\n",
              "      <td>14.75</td>\n",
              "      <td>8.9589</td>\n",
              "    </tr>\n",
              "    <tr>\n",
              "      <th>3</th>\n",
              "      <td>20.0032</td>\n",
              "      <td>0.7000</td>\n",
              "      <td>100.0</td>\n",
              "      <td>491.19</td>\n",
              "      <td>607.99</td>\n",
              "      <td>1487.94</td>\n",
              "      <td>1257.49</td>\n",
              "      <td>9.35</td>\n",
              "      <td>13.66</td>\n",
              "      <td>334.39</td>\n",
              "      <td>...</td>\n",
              "      <td>314.88</td>\n",
              "      <td>2388.12</td>\n",
              "      <td>8062.39</td>\n",
              "      <td>9.2349</td>\n",
              "      <td>0.02</td>\n",
              "      <td>365</td>\n",
              "      <td>2324</td>\n",
              "      <td>100.0</td>\n",
              "      <td>24.22</td>\n",
              "      <td>14.6814</td>\n",
              "    </tr>\n",
              "    <tr>\n",
              "      <th>4</th>\n",
              "      <td>42.0055</td>\n",
              "      <td>0.8400</td>\n",
              "      <td>100.0</td>\n",
              "      <td>445.00</td>\n",
              "      <td>550.81</td>\n",
              "      <td>1358.95</td>\n",
              "      <td>1140.34</td>\n",
              "      <td>3.91</td>\n",
              "      <td>5.72</td>\n",
              "      <td>138.42</td>\n",
              "      <td>...</td>\n",
              "      <td>130.82</td>\n",
              "      <td>2389.06</td>\n",
              "      <td>8140.94</td>\n",
              "      <td>9.3964</td>\n",
              "      <td>0.02</td>\n",
              "      <td>333</td>\n",
              "      <td>2212</td>\n",
              "      <td>100.0</td>\n",
              "      <td>10.34</td>\n",
              "      <td>6.3601</td>\n",
              "    </tr>\n",
              "  </tbody>\n",
              "</table>\n",
              "<p>5 rows × 24 columns</p>\n",
              "</div>\n",
              "      <button class=\"colab-df-convert\" onclick=\"convertToInteractive('df-d0c4543b-14a6-4868-9c83-dafd53d8d6ff')\"\n",
              "              title=\"Convert this dataframe to an interactive table.\"\n",
              "              style=\"display:none;\">\n",
              "        \n",
              "  <svg xmlns=\"http://www.w3.org/2000/svg\" height=\"24px\"viewBox=\"0 0 24 24\"\n",
              "       width=\"24px\">\n",
              "    <path d=\"M0 0h24v24H0V0z\" fill=\"none\"/>\n",
              "    <path d=\"M18.56 5.44l.94 2.06.94-2.06 2.06-.94-2.06-.94-.94-2.06-.94 2.06-2.06.94zm-11 1L8.5 8.5l.94-2.06 2.06-.94-2.06-.94L8.5 2.5l-.94 2.06-2.06.94zm10 10l.94 2.06.94-2.06 2.06-.94-2.06-.94-.94-2.06-.94 2.06-2.06.94z\"/><path d=\"M17.41 7.96l-1.37-1.37c-.4-.4-.92-.59-1.43-.59-.52 0-1.04.2-1.43.59L10.3 9.45l-7.72 7.72c-.78.78-.78 2.05 0 2.83L4 21.41c.39.39.9.59 1.41.59.51 0 1.02-.2 1.41-.59l7.78-7.78 2.81-2.81c.8-.78.8-2.07 0-2.86zM5.41 20L4 18.59l7.72-7.72 1.47 1.35L5.41 20z\"/>\n",
              "  </svg>\n",
              "      </button>\n",
              "      \n",
              "  <style>\n",
              "    .colab-df-container {\n",
              "      display:flex;\n",
              "      flex-wrap:wrap;\n",
              "      gap: 12px;\n",
              "    }\n",
              "\n",
              "    .colab-df-convert {\n",
              "      background-color: #E8F0FE;\n",
              "      border: none;\n",
              "      border-radius: 50%;\n",
              "      cursor: pointer;\n",
              "      display: none;\n",
              "      fill: #1967D2;\n",
              "      height: 32px;\n",
              "      padding: 0 0 0 0;\n",
              "      width: 32px;\n",
              "    }\n",
              "\n",
              "    .colab-df-convert:hover {\n",
              "      background-color: #E2EBFA;\n",
              "      box-shadow: 0px 1px 2px rgba(60, 64, 67, 0.3), 0px 1px 3px 1px rgba(60, 64, 67, 0.15);\n",
              "      fill: #174EA6;\n",
              "    }\n",
              "\n",
              "    [theme=dark] .colab-df-convert {\n",
              "      background-color: #3B4455;\n",
              "      fill: #D2E3FC;\n",
              "    }\n",
              "\n",
              "    [theme=dark] .colab-df-convert:hover {\n",
              "      background-color: #434B5C;\n",
              "      box-shadow: 0px 1px 3px 1px rgba(0, 0, 0, 0.15);\n",
              "      filter: drop-shadow(0px 1px 2px rgba(0, 0, 0, 0.3));\n",
              "      fill: #FFFFFF;\n",
              "    }\n",
              "  </style>\n",
              "\n",
              "      <script>\n",
              "        const buttonEl =\n",
              "          document.querySelector('#df-d0c4543b-14a6-4868-9c83-dafd53d8d6ff button.colab-df-convert');\n",
              "        buttonEl.style.display =\n",
              "          google.colab.kernel.accessAllowed ? 'block' : 'none';\n",
              "\n",
              "        async function convertToInteractive(key) {\n",
              "          const element = document.querySelector('#df-d0c4543b-14a6-4868-9c83-dafd53d8d6ff');\n",
              "          const dataTable =\n",
              "            await google.colab.kernel.invokeFunction('convertToInteractive',\n",
              "                                                     [key], {});\n",
              "          if (!dataTable) return;\n",
              "\n",
              "          const docLinkHtml = 'Like what you see? Visit the ' +\n",
              "            '<a target=\"_blank\" href=https://colab.research.google.com/notebooks/data_table.ipynb>data table notebook</a>'\n",
              "            + ' to learn more about interactive tables.';\n",
              "          element.innerHTML = '';\n",
              "          dataTable['output_type'] = 'display_data';\n",
              "          await google.colab.output.renderOutput(dataTable, element);\n",
              "          const docLink = document.createElement('div');\n",
              "          docLink.innerHTML = docLinkHtml;\n",
              "          element.appendChild(docLink);\n",
              "        }\n",
              "      </script>\n",
              "    </div>\n",
              "  </div>\n",
              "  "
            ]
          },
          "metadata": {},
          "execution_count": 10
        }
      ]
    },
    {
      "cell_type": "code",
      "source": [
        "X_test = test_last"
      ],
      "metadata": {
        "id": "ar3xxOQvIbHW"
      },
      "execution_count": 11,
      "outputs": []
    },
    {
      "cell_type": "markdown",
      "source": [
        "### Remaining Useful Life (RUL)"
      ],
      "metadata": {
        "id": "boZqFQNlraCh"
      }
    },
    {
      "cell_type": "code",
      "source": [
        "train = proc.add_remaining_useful_life_linear(train)\n",
        "train[index_cols+['RUL']].head()"
      ],
      "metadata": {
        "colab": {
          "base_uri": "https://localhost:8080/",
          "height": 270
        },
        "id": "lmFKjQaeip1b",
        "outputId": "52e06988-e322-4b85-cfa1-1a8c5456a5ce"
      },
      "execution_count": 12,
      "outputs": [
        {
          "output_type": "execute_result",
          "data": {
            "text/plain": [
              "   unit_number  time  RUL\n",
              "0            1     1  148\n",
              "1            1     2  147\n",
              "2            1     3  146\n",
              "3            1     4  145\n",
              "4            1     5  144"
            ],
            "text/html": [
              "\n",
              "  <div id=\"df-9ab91ca1-b89f-496e-8d15-dfe8ec52766f\">\n",
              "    <div class=\"colab-df-container\">\n",
              "      <div>\n",
              "<style scoped>\n",
              "    .dataframe tbody tr th:only-of-type {\n",
              "        vertical-align: middle;\n",
              "    }\n",
              "\n",
              "    .dataframe tbody tr th {\n",
              "        vertical-align: top;\n",
              "    }\n",
              "\n",
              "    .dataframe thead th {\n",
              "        text-align: right;\n",
              "    }\n",
              "</style>\n",
              "<table border=\"1\" class=\"dataframe\">\n",
              "  <thead>\n",
              "    <tr style=\"text-align: right;\">\n",
              "      <th></th>\n",
              "      <th>unit_number</th>\n",
              "      <th>time</th>\n",
              "      <th>RUL</th>\n",
              "    </tr>\n",
              "  </thead>\n",
              "  <tbody>\n",
              "    <tr>\n",
              "      <th>0</th>\n",
              "      <td>1</td>\n",
              "      <td>1</td>\n",
              "      <td>148</td>\n",
              "    </tr>\n",
              "    <tr>\n",
              "      <th>1</th>\n",
              "      <td>1</td>\n",
              "      <td>2</td>\n",
              "      <td>147</td>\n",
              "    </tr>\n",
              "    <tr>\n",
              "      <th>2</th>\n",
              "      <td>1</td>\n",
              "      <td>3</td>\n",
              "      <td>146</td>\n",
              "    </tr>\n",
              "    <tr>\n",
              "      <th>3</th>\n",
              "      <td>1</td>\n",
              "      <td>4</td>\n",
              "      <td>145</td>\n",
              "    </tr>\n",
              "    <tr>\n",
              "      <th>4</th>\n",
              "      <td>1</td>\n",
              "      <td>5</td>\n",
              "      <td>144</td>\n",
              "    </tr>\n",
              "  </tbody>\n",
              "</table>\n",
              "</div>\n",
              "      <button class=\"colab-df-convert\" onclick=\"convertToInteractive('df-9ab91ca1-b89f-496e-8d15-dfe8ec52766f')\"\n",
              "              title=\"Convert this dataframe to an interactive table.\"\n",
              "              style=\"display:none;\">\n",
              "        \n",
              "  <svg xmlns=\"http://www.w3.org/2000/svg\" height=\"24px\"viewBox=\"0 0 24 24\"\n",
              "       width=\"24px\">\n",
              "    <path d=\"M0 0h24v24H0V0z\" fill=\"none\"/>\n",
              "    <path d=\"M18.56 5.44l.94 2.06.94-2.06 2.06-.94-2.06-.94-.94-2.06-.94 2.06-2.06.94zm-11 1L8.5 8.5l.94-2.06 2.06-.94-2.06-.94L8.5 2.5l-.94 2.06-2.06.94zm10 10l.94 2.06.94-2.06 2.06-.94-2.06-.94-.94-2.06-.94 2.06-2.06.94z\"/><path d=\"M17.41 7.96l-1.37-1.37c-.4-.4-.92-.59-1.43-.59-.52 0-1.04.2-1.43.59L10.3 9.45l-7.72 7.72c-.78.78-.78 2.05 0 2.83L4 21.41c.39.39.9.59 1.41.59.51 0 1.02-.2 1.41-.59l7.78-7.78 2.81-2.81c.8-.78.8-2.07 0-2.86zM5.41 20L4 18.59l7.72-7.72 1.47 1.35L5.41 20z\"/>\n",
              "  </svg>\n",
              "      </button>\n",
              "      \n",
              "  <style>\n",
              "    .colab-df-container {\n",
              "      display:flex;\n",
              "      flex-wrap:wrap;\n",
              "      gap: 12px;\n",
              "    }\n",
              "\n",
              "    .colab-df-convert {\n",
              "      background-color: #E8F0FE;\n",
              "      border: none;\n",
              "      border-radius: 50%;\n",
              "      cursor: pointer;\n",
              "      display: none;\n",
              "      fill: #1967D2;\n",
              "      height: 32px;\n",
              "      padding: 0 0 0 0;\n",
              "      width: 32px;\n",
              "    }\n",
              "\n",
              "    .colab-df-convert:hover {\n",
              "      background-color: #E2EBFA;\n",
              "      box-shadow: 0px 1px 2px rgba(60, 64, 67, 0.3), 0px 1px 3px 1px rgba(60, 64, 67, 0.15);\n",
              "      fill: #174EA6;\n",
              "    }\n",
              "\n",
              "    [theme=dark] .colab-df-convert {\n",
              "      background-color: #3B4455;\n",
              "      fill: #D2E3FC;\n",
              "    }\n",
              "\n",
              "    [theme=dark] .colab-df-convert:hover {\n",
              "      background-color: #434B5C;\n",
              "      box-shadow: 0px 1px 3px 1px rgba(0, 0, 0, 0.15);\n",
              "      filter: drop-shadow(0px 1px 2px rgba(0, 0, 0, 0.3));\n",
              "      fill: #FFFFFF;\n",
              "    }\n",
              "  </style>\n",
              "\n",
              "      <script>\n",
              "        const buttonEl =\n",
              "          document.querySelector('#df-9ab91ca1-b89f-496e-8d15-dfe8ec52766f button.colab-df-convert');\n",
              "        buttonEl.style.display =\n",
              "          google.colab.kernel.accessAllowed ? 'block' : 'none';\n",
              "\n",
              "        async function convertToInteractive(key) {\n",
              "          const element = document.querySelector('#df-9ab91ca1-b89f-496e-8d15-dfe8ec52766f');\n",
              "          const dataTable =\n",
              "            await google.colab.kernel.invokeFunction('convertToInteractive',\n",
              "                                                     [key], {});\n",
              "          if (!dataTable) return;\n",
              "\n",
              "          const docLinkHtml = 'Like what you see? Visit the ' +\n",
              "            '<a target=\"_blank\" href=https://colab.research.google.com/notebooks/data_table.ipynb>data table notebook</a>'\n",
              "            + ' to learn more about interactive tables.';\n",
              "          element.innerHTML = '';\n",
              "          dataTable['output_type'] = 'display_data';\n",
              "          await google.colab.output.renderOutput(dataTable, element);\n",
              "          const docLink = document.createElement('div');\n",
              "          docLink.innerHTML = docLinkHtml;\n",
              "          element.appendChild(docLink);\n",
              "        }\n",
              "      </script>\n",
              "    </div>\n",
              "  </div>\n",
              "  "
            ]
          },
          "metadata": {},
          "execution_count": 12
        }
      ]
    },
    {
      "cell_type": "markdown",
      "source": [
        "## Attributes and target separation"
      ],
      "metadata": {
        "id": "IIXnBTkfxpCf"
      }
    },
    {
      "cell_type": "code",
      "source": [
        "X_train, y_train = proc.X_y_train_divide_with_settings(train)"
      ],
      "metadata": {
        "id": "4SzUk6ZLxv6H"
      },
      "execution_count": 13,
      "outputs": []
    },
    {
      "cell_type": "code",
      "source": [
        "y_train.head()"
      ],
      "metadata": {
        "colab": {
          "base_uri": "https://localhost:8080/",
          "height": 270
        },
        "id": "fuAnHn4GxzwM",
        "outputId": "b98d642b-ec04-4636-9e2c-64744e766a80"
      },
      "execution_count": 14,
      "outputs": [
        {
          "output_type": "execute_result",
          "data": {
            "text/plain": [
              "   RUL\n",
              "0  148\n",
              "1  147\n",
              "2  146\n",
              "3  145\n",
              "4  144"
            ],
            "text/html": [
              "\n",
              "  <div id=\"df-0288723b-cd16-4230-b7c0-e7b8dddaf304\">\n",
              "    <div class=\"colab-df-container\">\n",
              "      <div>\n",
              "<style scoped>\n",
              "    .dataframe tbody tr th:only-of-type {\n",
              "        vertical-align: middle;\n",
              "    }\n",
              "\n",
              "    .dataframe tbody tr th {\n",
              "        vertical-align: top;\n",
              "    }\n",
              "\n",
              "    .dataframe thead th {\n",
              "        text-align: right;\n",
              "    }\n",
              "</style>\n",
              "<table border=\"1\" class=\"dataframe\">\n",
              "  <thead>\n",
              "    <tr style=\"text-align: right;\">\n",
              "      <th></th>\n",
              "      <th>RUL</th>\n",
              "    </tr>\n",
              "  </thead>\n",
              "  <tbody>\n",
              "    <tr>\n",
              "      <th>0</th>\n",
              "      <td>148</td>\n",
              "    </tr>\n",
              "    <tr>\n",
              "      <th>1</th>\n",
              "      <td>147</td>\n",
              "    </tr>\n",
              "    <tr>\n",
              "      <th>2</th>\n",
              "      <td>146</td>\n",
              "    </tr>\n",
              "    <tr>\n",
              "      <th>3</th>\n",
              "      <td>145</td>\n",
              "    </tr>\n",
              "    <tr>\n",
              "      <th>4</th>\n",
              "      <td>144</td>\n",
              "    </tr>\n",
              "  </tbody>\n",
              "</table>\n",
              "</div>\n",
              "      <button class=\"colab-df-convert\" onclick=\"convertToInteractive('df-0288723b-cd16-4230-b7c0-e7b8dddaf304')\"\n",
              "              title=\"Convert this dataframe to an interactive table.\"\n",
              "              style=\"display:none;\">\n",
              "        \n",
              "  <svg xmlns=\"http://www.w3.org/2000/svg\" height=\"24px\"viewBox=\"0 0 24 24\"\n",
              "       width=\"24px\">\n",
              "    <path d=\"M0 0h24v24H0V0z\" fill=\"none\"/>\n",
              "    <path d=\"M18.56 5.44l.94 2.06.94-2.06 2.06-.94-2.06-.94-.94-2.06-.94 2.06-2.06.94zm-11 1L8.5 8.5l.94-2.06 2.06-.94-2.06-.94L8.5 2.5l-.94 2.06-2.06.94zm10 10l.94 2.06.94-2.06 2.06-.94-2.06-.94-.94-2.06-.94 2.06-2.06.94z\"/><path d=\"M17.41 7.96l-1.37-1.37c-.4-.4-.92-.59-1.43-.59-.52 0-1.04.2-1.43.59L10.3 9.45l-7.72 7.72c-.78.78-.78 2.05 0 2.83L4 21.41c.39.39.9.59 1.41.59.51 0 1.02-.2 1.41-.59l7.78-7.78 2.81-2.81c.8-.78.8-2.07 0-2.86zM5.41 20L4 18.59l7.72-7.72 1.47 1.35L5.41 20z\"/>\n",
              "  </svg>\n",
              "      </button>\n",
              "      \n",
              "  <style>\n",
              "    .colab-df-container {\n",
              "      display:flex;\n",
              "      flex-wrap:wrap;\n",
              "      gap: 12px;\n",
              "    }\n",
              "\n",
              "    .colab-df-convert {\n",
              "      background-color: #E8F0FE;\n",
              "      border: none;\n",
              "      border-radius: 50%;\n",
              "      cursor: pointer;\n",
              "      display: none;\n",
              "      fill: #1967D2;\n",
              "      height: 32px;\n",
              "      padding: 0 0 0 0;\n",
              "      width: 32px;\n",
              "    }\n",
              "\n",
              "    .colab-df-convert:hover {\n",
              "      background-color: #E2EBFA;\n",
              "      box-shadow: 0px 1px 2px rgba(60, 64, 67, 0.3), 0px 1px 3px 1px rgba(60, 64, 67, 0.15);\n",
              "      fill: #174EA6;\n",
              "    }\n",
              "\n",
              "    [theme=dark] .colab-df-convert {\n",
              "      background-color: #3B4455;\n",
              "      fill: #D2E3FC;\n",
              "    }\n",
              "\n",
              "    [theme=dark] .colab-df-convert:hover {\n",
              "      background-color: #434B5C;\n",
              "      box-shadow: 0px 1px 3px 1px rgba(0, 0, 0, 0.15);\n",
              "      filter: drop-shadow(0px 1px 2px rgba(0, 0, 0, 0.3));\n",
              "      fill: #FFFFFF;\n",
              "    }\n",
              "  </style>\n",
              "\n",
              "      <script>\n",
              "        const buttonEl =\n",
              "          document.querySelector('#df-0288723b-cd16-4230-b7c0-e7b8dddaf304 button.colab-df-convert');\n",
              "        buttonEl.style.display =\n",
              "          google.colab.kernel.accessAllowed ? 'block' : 'none';\n",
              "\n",
              "        async function convertToInteractive(key) {\n",
              "          const element = document.querySelector('#df-0288723b-cd16-4230-b7c0-e7b8dddaf304');\n",
              "          const dataTable =\n",
              "            await google.colab.kernel.invokeFunction('convertToInteractive',\n",
              "                                                     [key], {});\n",
              "          if (!dataTable) return;\n",
              "\n",
              "          const docLinkHtml = 'Like what you see? Visit the ' +\n",
              "            '<a target=\"_blank\" href=https://colab.research.google.com/notebooks/data_table.ipynb>data table notebook</a>'\n",
              "            + ' to learn more about interactive tables.';\n",
              "          element.innerHTML = '';\n",
              "          dataTable['output_type'] = 'display_data';\n",
              "          await google.colab.output.renderOutput(dataTable, element);\n",
              "          const docLink = document.createElement('div');\n",
              "          docLink.innerHTML = docLinkHtml;\n",
              "          element.appendChild(docLink);\n",
              "        }\n",
              "      </script>\n",
              "    </div>\n",
              "  </div>\n",
              "  "
            ]
          },
          "metadata": {},
          "execution_count": 14
        }
      ]
    },
    {
      "cell_type": "code",
      "source": [
        "X_train.head()"
      ],
      "metadata": {
        "colab": {
          "base_uri": "https://localhost:8080/",
          "height": 300
        },
        "id": "26hK4VWkx1R7",
        "outputId": "d6f4d0b7-977c-46a2-aa9d-ae4850cc5770"
      },
      "execution_count": 15,
      "outputs": [
        {
          "output_type": "execute_result",
          "data": {
            "text/plain": [
              "      op_1    op_2   op_3     s_0     s_1      s_2      s_3   s_4   s_5  \\\n",
              "0  34.9983  0.8400  100.0  449.44  555.32  1358.61  1137.23  5.48  8.00   \n",
              "1  41.9982  0.8408  100.0  445.00  549.90  1353.22  1125.78  3.91  5.71   \n",
              "2  24.9988  0.6218   60.0  462.54  537.31  1256.76  1047.45  7.05  9.02   \n",
              "3  42.0077  0.8416  100.0  445.00  549.51  1354.03  1126.38  3.91  5.71   \n",
              "4  25.0005  0.6203   60.0  462.54  537.07  1257.71  1047.93  7.05  9.03   \n",
              "\n",
              "      s_6  ...    s_11     s_12     s_13     s_14  s_15  s_16  s_17    s_18  \\\n",
              "0  194.64  ...  183.06  2387.72  8048.56   9.3461  0.02   334  2223  100.00   \n",
              "1  138.51  ...  130.42  2387.66  8072.30   9.3774  0.02   330  2212  100.00   \n",
              "2  175.71  ...  164.22  2028.03  7864.87  10.8941  0.02   309  1915   84.93   \n",
              "3  138.46  ...  130.72  2387.61  8068.66   9.3528  0.02   329  2212  100.00   \n",
              "4  175.05  ...  164.31  2028.00  7861.23  10.8963  0.02   309  1915   84.93   \n",
              "\n",
              "    s_19    s_20  \n",
              "0  14.73  8.8071  \n",
              "1  10.41  6.2665  \n",
              "2  14.08  8.6723  \n",
              "3  10.59  6.4701  \n",
              "4  14.13  8.5286  \n",
              "\n",
              "[5 rows x 24 columns]"
            ],
            "text/html": [
              "\n",
              "  <div id=\"df-a678855c-40f5-44e8-9315-15172b437dce\">\n",
              "    <div class=\"colab-df-container\">\n",
              "      <div>\n",
              "<style scoped>\n",
              "    .dataframe tbody tr th:only-of-type {\n",
              "        vertical-align: middle;\n",
              "    }\n",
              "\n",
              "    .dataframe tbody tr th {\n",
              "        vertical-align: top;\n",
              "    }\n",
              "\n",
              "    .dataframe thead th {\n",
              "        text-align: right;\n",
              "    }\n",
              "</style>\n",
              "<table border=\"1\" class=\"dataframe\">\n",
              "  <thead>\n",
              "    <tr style=\"text-align: right;\">\n",
              "      <th></th>\n",
              "      <th>op_1</th>\n",
              "      <th>op_2</th>\n",
              "      <th>op_3</th>\n",
              "      <th>s_0</th>\n",
              "      <th>s_1</th>\n",
              "      <th>s_2</th>\n",
              "      <th>s_3</th>\n",
              "      <th>s_4</th>\n",
              "      <th>s_5</th>\n",
              "      <th>s_6</th>\n",
              "      <th>...</th>\n",
              "      <th>s_11</th>\n",
              "      <th>s_12</th>\n",
              "      <th>s_13</th>\n",
              "      <th>s_14</th>\n",
              "      <th>s_15</th>\n",
              "      <th>s_16</th>\n",
              "      <th>s_17</th>\n",
              "      <th>s_18</th>\n",
              "      <th>s_19</th>\n",
              "      <th>s_20</th>\n",
              "    </tr>\n",
              "  </thead>\n",
              "  <tbody>\n",
              "    <tr>\n",
              "      <th>0</th>\n",
              "      <td>34.9983</td>\n",
              "      <td>0.8400</td>\n",
              "      <td>100.0</td>\n",
              "      <td>449.44</td>\n",
              "      <td>555.32</td>\n",
              "      <td>1358.61</td>\n",
              "      <td>1137.23</td>\n",
              "      <td>5.48</td>\n",
              "      <td>8.00</td>\n",
              "      <td>194.64</td>\n",
              "      <td>...</td>\n",
              "      <td>183.06</td>\n",
              "      <td>2387.72</td>\n",
              "      <td>8048.56</td>\n",
              "      <td>9.3461</td>\n",
              "      <td>0.02</td>\n",
              "      <td>334</td>\n",
              "      <td>2223</td>\n",
              "      <td>100.00</td>\n",
              "      <td>14.73</td>\n",
              "      <td>8.8071</td>\n",
              "    </tr>\n",
              "    <tr>\n",
              "      <th>1</th>\n",
              "      <td>41.9982</td>\n",
              "      <td>0.8408</td>\n",
              "      <td>100.0</td>\n",
              "      <td>445.00</td>\n",
              "      <td>549.90</td>\n",
              "      <td>1353.22</td>\n",
              "      <td>1125.78</td>\n",
              "      <td>3.91</td>\n",
              "      <td>5.71</td>\n",
              "      <td>138.51</td>\n",
              "      <td>...</td>\n",
              "      <td>130.42</td>\n",
              "      <td>2387.66</td>\n",
              "      <td>8072.30</td>\n",
              "      <td>9.3774</td>\n",
              "      <td>0.02</td>\n",
              "      <td>330</td>\n",
              "      <td>2212</td>\n",
              "      <td>100.00</td>\n",
              "      <td>10.41</td>\n",
              "      <td>6.2665</td>\n",
              "    </tr>\n",
              "    <tr>\n",
              "      <th>2</th>\n",
              "      <td>24.9988</td>\n",
              "      <td>0.6218</td>\n",
              "      <td>60.0</td>\n",
              "      <td>462.54</td>\n",
              "      <td>537.31</td>\n",
              "      <td>1256.76</td>\n",
              "      <td>1047.45</td>\n",
              "      <td>7.05</td>\n",
              "      <td>9.02</td>\n",
              "      <td>175.71</td>\n",
              "      <td>...</td>\n",
              "      <td>164.22</td>\n",
              "      <td>2028.03</td>\n",
              "      <td>7864.87</td>\n",
              "      <td>10.8941</td>\n",
              "      <td>0.02</td>\n",
              "      <td>309</td>\n",
              "      <td>1915</td>\n",
              "      <td>84.93</td>\n",
              "      <td>14.08</td>\n",
              "      <td>8.6723</td>\n",
              "    </tr>\n",
              "    <tr>\n",
              "      <th>3</th>\n",
              "      <td>42.0077</td>\n",
              "      <td>0.8416</td>\n",
              "      <td>100.0</td>\n",
              "      <td>445.00</td>\n",
              "      <td>549.51</td>\n",
              "      <td>1354.03</td>\n",
              "      <td>1126.38</td>\n",
              "      <td>3.91</td>\n",
              "      <td>5.71</td>\n",
              "      <td>138.46</td>\n",
              "      <td>...</td>\n",
              "      <td>130.72</td>\n",
              "      <td>2387.61</td>\n",
              "      <td>8068.66</td>\n",
              "      <td>9.3528</td>\n",
              "      <td>0.02</td>\n",
              "      <td>329</td>\n",
              "      <td>2212</td>\n",
              "      <td>100.00</td>\n",
              "      <td>10.59</td>\n",
              "      <td>6.4701</td>\n",
              "    </tr>\n",
              "    <tr>\n",
              "      <th>4</th>\n",
              "      <td>25.0005</td>\n",
              "      <td>0.6203</td>\n",
              "      <td>60.0</td>\n",
              "      <td>462.54</td>\n",
              "      <td>537.07</td>\n",
              "      <td>1257.71</td>\n",
              "      <td>1047.93</td>\n",
              "      <td>7.05</td>\n",
              "      <td>9.03</td>\n",
              "      <td>175.05</td>\n",
              "      <td>...</td>\n",
              "      <td>164.31</td>\n",
              "      <td>2028.00</td>\n",
              "      <td>7861.23</td>\n",
              "      <td>10.8963</td>\n",
              "      <td>0.02</td>\n",
              "      <td>309</td>\n",
              "      <td>1915</td>\n",
              "      <td>84.93</td>\n",
              "      <td>14.13</td>\n",
              "      <td>8.5286</td>\n",
              "    </tr>\n",
              "  </tbody>\n",
              "</table>\n",
              "<p>5 rows × 24 columns</p>\n",
              "</div>\n",
              "      <button class=\"colab-df-convert\" onclick=\"convertToInteractive('df-a678855c-40f5-44e8-9315-15172b437dce')\"\n",
              "              title=\"Convert this dataframe to an interactive table.\"\n",
              "              style=\"display:none;\">\n",
              "        \n",
              "  <svg xmlns=\"http://www.w3.org/2000/svg\" height=\"24px\"viewBox=\"0 0 24 24\"\n",
              "       width=\"24px\">\n",
              "    <path d=\"M0 0h24v24H0V0z\" fill=\"none\"/>\n",
              "    <path d=\"M18.56 5.44l.94 2.06.94-2.06 2.06-.94-2.06-.94-.94-2.06-.94 2.06-2.06.94zm-11 1L8.5 8.5l.94-2.06 2.06-.94-2.06-.94L8.5 2.5l-.94 2.06-2.06.94zm10 10l.94 2.06.94-2.06 2.06-.94-2.06-.94-.94-2.06-.94 2.06-2.06.94z\"/><path d=\"M17.41 7.96l-1.37-1.37c-.4-.4-.92-.59-1.43-.59-.52 0-1.04.2-1.43.59L10.3 9.45l-7.72 7.72c-.78.78-.78 2.05 0 2.83L4 21.41c.39.39.9.59 1.41.59.51 0 1.02-.2 1.41-.59l7.78-7.78 2.81-2.81c.8-.78.8-2.07 0-2.86zM5.41 20L4 18.59l7.72-7.72 1.47 1.35L5.41 20z\"/>\n",
              "  </svg>\n",
              "      </button>\n",
              "      \n",
              "  <style>\n",
              "    .colab-df-container {\n",
              "      display:flex;\n",
              "      flex-wrap:wrap;\n",
              "      gap: 12px;\n",
              "    }\n",
              "\n",
              "    .colab-df-convert {\n",
              "      background-color: #E8F0FE;\n",
              "      border: none;\n",
              "      border-radius: 50%;\n",
              "      cursor: pointer;\n",
              "      display: none;\n",
              "      fill: #1967D2;\n",
              "      height: 32px;\n",
              "      padding: 0 0 0 0;\n",
              "      width: 32px;\n",
              "    }\n",
              "\n",
              "    .colab-df-convert:hover {\n",
              "      background-color: #E2EBFA;\n",
              "      box-shadow: 0px 1px 2px rgba(60, 64, 67, 0.3), 0px 1px 3px 1px rgba(60, 64, 67, 0.15);\n",
              "      fill: #174EA6;\n",
              "    }\n",
              "\n",
              "    [theme=dark] .colab-df-convert {\n",
              "      background-color: #3B4455;\n",
              "      fill: #D2E3FC;\n",
              "    }\n",
              "\n",
              "    [theme=dark] .colab-df-convert:hover {\n",
              "      background-color: #434B5C;\n",
              "      box-shadow: 0px 1px 3px 1px rgba(0, 0, 0, 0.15);\n",
              "      filter: drop-shadow(0px 1px 2px rgba(0, 0, 0, 0.3));\n",
              "      fill: #FFFFFF;\n",
              "    }\n",
              "  </style>\n",
              "\n",
              "      <script>\n",
              "        const buttonEl =\n",
              "          document.querySelector('#df-a678855c-40f5-44e8-9315-15172b437dce button.colab-df-convert');\n",
              "        buttonEl.style.display =\n",
              "          google.colab.kernel.accessAllowed ? 'block' : 'none';\n",
              "\n",
              "        async function convertToInteractive(key) {\n",
              "          const element = document.querySelector('#df-a678855c-40f5-44e8-9315-15172b437dce');\n",
              "          const dataTable =\n",
              "            await google.colab.kernel.invokeFunction('convertToInteractive',\n",
              "                                                     [key], {});\n",
              "          if (!dataTable) return;\n",
              "\n",
              "          const docLinkHtml = 'Like what you see? Visit the ' +\n",
              "            '<a target=\"_blank\" href=https://colab.research.google.com/notebooks/data_table.ipynb>data table notebook</a>'\n",
              "            + ' to learn more about interactive tables.';\n",
              "          element.innerHTML = '';\n",
              "          dataTable['output_type'] = 'display_data';\n",
              "          await google.colab.output.renderOutput(dataTable, element);\n",
              "          const docLink = document.createElement('div');\n",
              "          docLink.innerHTML = docLinkHtml;\n",
              "          element.appendChild(docLink);\n",
              "        }\n",
              "      </script>\n",
              "    </div>\n",
              "  </div>\n",
              "  "
            ]
          },
          "metadata": {},
          "execution_count": 15
        }
      ]
    },
    {
      "cell_type": "markdown",
      "source": [
        "## Training and Evaluation functions"
      ],
      "metadata": {
        "id": "fQA-YtFMM81M"
      }
    },
    {
      "cell_type": "code",
      "source": [
        "eval = Evaluation()"
      ],
      "metadata": {
        "id": "u88P6scrNTRu"
      },
      "execution_count": 16,
      "outputs": []
    },
    {
      "cell_type": "code",
      "source": [
        "search = HyperparameterSearch()"
      ],
      "metadata": {
        "id": "OUcS61OqPFhp"
      },
      "execution_count": 17,
      "outputs": []
    },
    {
      "cell_type": "markdown",
      "metadata": {
        "id": "5OAVJILAXaTT"
      },
      "source": [
        "# LinearRegression"
      ]
    },
    {
      "cell_type": "markdown",
      "metadata": {
        "id": "r6YQTm7aOf2G"
      },
      "source": [
        "## Linear RUL"
      ]
    },
    {
      "cell_type": "code",
      "execution_count": 18,
      "metadata": {
        "id": "4PbFjj3G3QUQ"
      },
      "outputs": [],
      "source": [
        "model = LinearRegression()"
      ]
    },
    {
      "cell_type": "code",
      "execution_count": 19,
      "metadata": {
        "colab": {
          "base_uri": "https://localhost:8080/"
        },
        "id": "vefcPjT2Xb6y",
        "outputId": "fa8404f9-8d51-4784-ece2-11f27928777c"
      },
      "outputs": [
        {
          "output_type": "stream",
          "name": "stdout",
          "text": [
            "R2=0.576,RMSE=-45.030\n",
            "(CV) R2=0.570,RMSE=-45.237\n"
          ]
        }
      ],
      "source": [
        "model.fit(X_train, y_train)\n",
        "eval.show_result(y_train, model.predict(X_train))\n",
        "eval.show_result_cv(y_train, X_train, model)"
      ]
    },
    {
      "cell_type": "code",
      "execution_count": 20,
      "metadata": {
        "colab": {
          "base_uri": "https://localhost:8080/"
        },
        "id": "367rdLmjRETX",
        "outputId": "cc9c1be6-0119-4948-aa48-d5dac51a2d04"
      },
      "outputs": [
        {
          "output_type": "stream",
          "name": "stdout",
          "text": [
            "R2=0.602,RMSE=-33.943\n"
          ]
        }
      ],
      "source": [
        "eval.show_result(y_test, model.predict(X_test))"
      ]
    },
    {
      "cell_type": "markdown",
      "metadata": {
        "id": "klzYEWjrZiXt"
      },
      "source": [
        "## Non-linear RUL"
      ]
    },
    {
      "cell_type": "code",
      "execution_count": 21,
      "metadata": {
        "colab": {
          "base_uri": "https://localhost:8080/",
          "height": 206
        },
        "id": "gnwsey5yZp3x",
        "outputId": "7878359d-d90b-42f5-b538-154ccdade1aa"
      },
      "outputs": [
        {
          "output_type": "execute_result",
          "data": {
            "text/plain": [
              "   RUL\n",
              "0  148\n",
              "1  147\n",
              "2  146\n",
              "3  145\n",
              "4  144"
            ],
            "text/html": [
              "\n",
              "  <div id=\"df-fa103a30-96c9-42fe-bfac-37685ce72a5c\">\n",
              "    <div class=\"colab-df-container\">\n",
              "      <div>\n",
              "<style scoped>\n",
              "    .dataframe tbody tr th:only-of-type {\n",
              "        vertical-align: middle;\n",
              "    }\n",
              "\n",
              "    .dataframe tbody tr th {\n",
              "        vertical-align: top;\n",
              "    }\n",
              "\n",
              "    .dataframe thead th {\n",
              "        text-align: right;\n",
              "    }\n",
              "</style>\n",
              "<table border=\"1\" class=\"dataframe\">\n",
              "  <thead>\n",
              "    <tr style=\"text-align: right;\">\n",
              "      <th></th>\n",
              "      <th>RUL</th>\n",
              "    </tr>\n",
              "  </thead>\n",
              "  <tbody>\n",
              "    <tr>\n",
              "      <th>0</th>\n",
              "      <td>148</td>\n",
              "    </tr>\n",
              "    <tr>\n",
              "      <th>1</th>\n",
              "      <td>147</td>\n",
              "    </tr>\n",
              "    <tr>\n",
              "      <th>2</th>\n",
              "      <td>146</td>\n",
              "    </tr>\n",
              "    <tr>\n",
              "      <th>3</th>\n",
              "      <td>145</td>\n",
              "    </tr>\n",
              "    <tr>\n",
              "      <th>4</th>\n",
              "      <td>144</td>\n",
              "    </tr>\n",
              "  </tbody>\n",
              "</table>\n",
              "</div>\n",
              "      <button class=\"colab-df-convert\" onclick=\"convertToInteractive('df-fa103a30-96c9-42fe-bfac-37685ce72a5c')\"\n",
              "              title=\"Convert this dataframe to an interactive table.\"\n",
              "              style=\"display:none;\">\n",
              "        \n",
              "  <svg xmlns=\"http://www.w3.org/2000/svg\" height=\"24px\"viewBox=\"0 0 24 24\"\n",
              "       width=\"24px\">\n",
              "    <path d=\"M0 0h24v24H0V0z\" fill=\"none\"/>\n",
              "    <path d=\"M18.56 5.44l.94 2.06.94-2.06 2.06-.94-2.06-.94-.94-2.06-.94 2.06-2.06.94zm-11 1L8.5 8.5l.94-2.06 2.06-.94-2.06-.94L8.5 2.5l-.94 2.06-2.06.94zm10 10l.94 2.06.94-2.06 2.06-.94-2.06-.94-.94-2.06-.94 2.06-2.06.94z\"/><path d=\"M17.41 7.96l-1.37-1.37c-.4-.4-.92-.59-1.43-.59-.52 0-1.04.2-1.43.59L10.3 9.45l-7.72 7.72c-.78.78-.78 2.05 0 2.83L4 21.41c.39.39.9.59 1.41.59.51 0 1.02-.2 1.41-.59l7.78-7.78 2.81-2.81c.8-.78.8-2.07 0-2.86zM5.41 20L4 18.59l7.72-7.72 1.47 1.35L5.41 20z\"/>\n",
              "  </svg>\n",
              "      </button>\n",
              "      \n",
              "  <style>\n",
              "    .colab-df-container {\n",
              "      display:flex;\n",
              "      flex-wrap:wrap;\n",
              "      gap: 12px;\n",
              "    }\n",
              "\n",
              "    .colab-df-convert {\n",
              "      background-color: #E8F0FE;\n",
              "      border: none;\n",
              "      border-radius: 50%;\n",
              "      cursor: pointer;\n",
              "      display: none;\n",
              "      fill: #1967D2;\n",
              "      height: 32px;\n",
              "      padding: 0 0 0 0;\n",
              "      width: 32px;\n",
              "    }\n",
              "\n",
              "    .colab-df-convert:hover {\n",
              "      background-color: #E2EBFA;\n",
              "      box-shadow: 0px 1px 2px rgba(60, 64, 67, 0.3), 0px 1px 3px 1px rgba(60, 64, 67, 0.15);\n",
              "      fill: #174EA6;\n",
              "    }\n",
              "\n",
              "    [theme=dark] .colab-df-convert {\n",
              "      background-color: #3B4455;\n",
              "      fill: #D2E3FC;\n",
              "    }\n",
              "\n",
              "    [theme=dark] .colab-df-convert:hover {\n",
              "      background-color: #434B5C;\n",
              "      box-shadow: 0px 1px 3px 1px rgba(0, 0, 0, 0.15);\n",
              "      filter: drop-shadow(0px 1px 2px rgba(0, 0, 0, 0.3));\n",
              "      fill: #FFFFFF;\n",
              "    }\n",
              "  </style>\n",
              "\n",
              "      <script>\n",
              "        const buttonEl =\n",
              "          document.querySelector('#df-fa103a30-96c9-42fe-bfac-37685ce72a5c button.colab-df-convert');\n",
              "        buttonEl.style.display =\n",
              "          google.colab.kernel.accessAllowed ? 'block' : 'none';\n",
              "\n",
              "        async function convertToInteractive(key) {\n",
              "          const element = document.querySelector('#df-fa103a30-96c9-42fe-bfac-37685ce72a5c');\n",
              "          const dataTable =\n",
              "            await google.colab.kernel.invokeFunction('convertToInteractive',\n",
              "                                                     [key], {});\n",
              "          if (!dataTable) return;\n",
              "\n",
              "          const docLinkHtml = 'Like what you see? Visit the ' +\n",
              "            '<a target=\"_blank\" href=https://colab.research.google.com/notebooks/data_table.ipynb>data table notebook</a>'\n",
              "            + ' to learn more about interactive tables.';\n",
              "          element.innerHTML = '';\n",
              "          dataTable['output_type'] = 'display_data';\n",
              "          await google.colab.output.renderOutput(dataTable, element);\n",
              "          const docLink = document.createElement('div');\n",
              "          docLink.innerHTML = docLinkHtml;\n",
              "          element.appendChild(docLink);\n",
              "        }\n",
              "      </script>\n",
              "    </div>\n",
              "  </div>\n",
              "  "
            ]
          },
          "metadata": {},
          "execution_count": 21
        }
      ],
      "source": [
        "y_train.clip(upper=189).head()"
      ]
    },
    {
      "cell_type": "code",
      "execution_count": 22,
      "metadata": {
        "id": "J42sZdWlFlF5"
      },
      "outputs": [],
      "source": [
        "model = Pipeline([\n",
        "    ('trf_reg' ,TransformedTargetRegressor(\n",
        "        check_inverse=False,\n",
        "        regressor   = LinearRegression(),\n",
        "        transformer = FunctionTransformer(np.clip, \n",
        "                                          kw_args={'a_min':0,'a_max':50})))\n",
        "    ])"
      ]
    },
    {
      "cell_type": "code",
      "execution_count": 23,
      "metadata": {
        "colab": {
          "base_uri": "https://localhost:8080/"
        },
        "id": "LecVj2kVEJgx",
        "outputId": "95748f3f-6ddf-4369-8657-c8dcb5f71cb2"
      },
      "outputs": [
        {
          "output_type": "stream",
          "name": "stdout",
          "text": [
            "n_iterations: 4\n",
            "n_required_iterations: 4\n",
            "n_possible_iterations: 5\n",
            "min_resources_: 500\n",
            "max_resources_: 53759\n",
            "aggressive_elimination: False\n",
            "factor: 3\n",
            "----------\n",
            "iter: 0\n",
            "n_candidates: 71\n",
            "n_resources: 500\n",
            "Fitting 5 folds for each of 71 candidates, totalling 355 fits\n"
          ]
        },
        {
          "output_type": "stream",
          "name": "stderr",
          "text": [
            "/usr/local/lib/python3.7/dist-packages/sklearn/model_selection/_search.py:296: UserWarning: The total space of parameters 71 is smaller than n_iter=107. Running 71 iterations. For exhaustive searches, use GridSearchCV.\n",
            "  UserWarning,\n"
          ]
        },
        {
          "output_type": "stream",
          "name": "stdout",
          "text": [
            "----------\n",
            "iter: 1\n",
            "n_candidates: 24\n",
            "n_resources: 1500\n",
            "Fitting 5 folds for each of 24 candidates, totalling 120 fits\n",
            "----------\n",
            "iter: 2\n",
            "n_candidates: 8\n",
            "n_resources: 4500\n",
            "Fitting 5 folds for each of 8 candidates, totalling 40 fits\n",
            "----------\n",
            "iter: 3\n",
            "n_candidates: 3\n",
            "n_resources: 13500\n",
            "Fitting 5 folds for each of 3 candidates, totalling 15 fits\n",
            "Best params:  {'trf_reg__transformer__kw_args': {'a_min': 0, 'a_max': 104}}\n",
            "Pipeline(steps=[('trf_reg',\n",
            "                 TransformedTargetRegressor(check_inverse=False,\n",
            "                                            regressor=LinearRegression(),\n",
            "                                            transformer=FunctionTransformer(func=<function clip at 0x7f9b8c052c20>,\n",
            "                                                                            kw_args={'a_max': 104,\n",
            "                                                                                     'a_min': 0})))])\n"
          ]
        }
      ],
      "source": [
        "GRID_SEARCH = True\n",
        "if (GRID_SEARCH):\n",
        "    param_distributions = {\n",
        "        \"trf_reg__transformer__kw_args\": search.generate_clip_dicts(80,150,1)\n",
        "    }\n",
        "    model = search.run_HR_GS(model, X_train, y_train, param_distributions)\n",
        "    print(model)"
      ]
    },
    {
      "cell_type": "markdown",
      "metadata": {
        "id": "941d0KXxMZsB"
      },
      "source": [
        "Best Model:\n",
        "\n",
        "```\n",
        "{'trf_reg__transformer__kw_args': {'a_min': 0, 'a_max': 104}}\n",
        "```\n",
        "\n"
      ]
    },
    {
      "cell_type": "code",
      "execution_count": 24,
      "metadata": {
        "id": "e0OEtLzeEgOH",
        "colab": {
          "base_uri": "https://localhost:8080/"
        },
        "outputId": "e6d447c3-2ca6-4ff8-9b90-957486fef386"
      },
      "outputs": [
        {
          "output_type": "execute_result",
          "data": {
            "text/plain": [
              "Pipeline(steps=[('trf_reg',\n",
              "                 TransformedTargetRegressor(check_inverse=False,\n",
              "                                            regressor=LinearRegression(),\n",
              "                                            transformer=FunctionTransformer(func=<function clip at 0x7f9b8c052c20>,\n",
              "                                                                            kw_args={'a_max': 104,\n",
              "                                                                                     'a_min': 0})))])"
            ]
          },
          "metadata": {},
          "execution_count": 24
        }
      ],
      "source": [
        "model = Pipeline([\n",
        "    ('trf_reg' ,TransformedTargetRegressor(\n",
        "        check_inverse=False,\n",
        "        regressor   = LinearRegression(),\n",
        "        transformer = FunctionTransformer(np.clip, \n",
        "                                          kw_args={'a_min':0,'a_max':104})))\n",
        "    ])\n",
        "model"
      ]
    },
    {
      "cell_type": "code",
      "execution_count": 25,
      "metadata": {
        "colab": {
          "base_uri": "https://localhost:8080/"
        },
        "id": "8SVqLYhUF3aY",
        "outputId": "26b891de-4802-46af-cba9-f5dba068192f"
      },
      "outputs": [
        {
          "output_type": "stream",
          "name": "stdout",
          "text": [
            "R2=0.740,RMSE=-17.241\n",
            "(CV) R2=0.737,RMSE=-17.341\n"
          ]
        }
      ],
      "source": [
        "model.fit(X_train, y_train)\n",
        "reclipped_y =  model['trf_reg'].transformer.transform(y_train)\n",
        "eval.show_result(reclipped_y, model.predict(X_train))\n",
        "eval.show_result_cv(reclipped_y, X_train, model)"
      ]
    },
    {
      "cell_type": "code",
      "execution_count": 26,
      "metadata": {
        "colab": {
          "base_uri": "https://localhost:8080/"
        },
        "id": "JoP9s0laF3aU",
        "outputId": "ba474bc6-9547-4109-f15f-784e61bd9ff6"
      },
      "outputs": [
        {
          "output_type": "stream",
          "name": "stdout",
          "text": [
            "R2=0.767,RMSE=-17.697\n"
          ]
        }
      ],
      "source": [
        "reclipped_y =  model['trf_reg'].transformer.transform(y_test)\n",
        "eval.show_result(reclipped_y, model.predict(X_test))"
      ]
    },
    {
      "cell_type": "markdown",
      "source": [
        "Just adding a non-linear improved results, as in the first set"
      ],
      "metadata": {
        "id": "nH8hZTqMxL6U"
      }
    },
    {
      "cell_type": "markdown",
      "metadata": {
        "id": "MQi8MHh20wou"
      },
      "source": [
        "## PolyFeatures + Linear RUL"
      ]
    },
    {
      "cell_type": "code",
      "execution_count": 27,
      "metadata": {
        "colab": {
          "base_uri": "https://localhost:8080/"
        },
        "id": "g3KHHSwr0wow",
        "outputId": "b95e9c9e-f9da-4887-ae29-dca49cbcb4f0"
      },
      "outputs": [
        {
          "output_type": "execute_result",
          "data": {
            "text/plain": [
              "Pipeline(steps=[('poly_ft', PolynomialFeatures()),\n",
              "                ('lin_reg', LinearRegression())])"
            ]
          },
          "metadata": {},
          "execution_count": 27
        }
      ],
      "source": [
        "model = Pipeline([\n",
        "    ('poly_ft'  ,   PolynomialFeatures()),\n",
        "    ('lin_reg'  ,   LinearRegression())\n",
        "])\n",
        "model"
      ]
    },
    {
      "cell_type": "code",
      "execution_count": 28,
      "metadata": {
        "id": "datMycLD0wox",
        "colab": {
          "base_uri": "https://localhost:8080/"
        },
        "outputId": "db6c60ad-9d90-4e39-bb75-d8984a522c21"
      },
      "outputs": [
        {
          "output_type": "stream",
          "name": "stdout",
          "text": [
            "n_iterations: 3\n",
            "n_required_iterations: 3\n",
            "n_possible_iterations: 5\n",
            "min_resources_: 500\n",
            "max_resources_: 53759\n",
            "aggressive_elimination: False\n",
            "factor: 3\n",
            "----------\n",
            "iter: 0\n",
            "n_candidates: 12\n",
            "n_resources: 500\n",
            "Fitting 5 folds for each of 12 candidates, totalling 60 fits\n"
          ]
        },
        {
          "output_type": "stream",
          "name": "stderr",
          "text": [
            "/usr/local/lib/python3.7/dist-packages/sklearn/model_selection/_search.py:296: UserWarning: The total space of parameters 12 is smaller than n_iter=107. Running 12 iterations. For exhaustive searches, use GridSearchCV.\n",
            "  UserWarning,\n"
          ]
        },
        {
          "output_type": "stream",
          "name": "stdout",
          "text": [
            "----------\n",
            "iter: 1\n",
            "n_candidates: 4\n",
            "n_resources: 1500\n",
            "Fitting 5 folds for each of 4 candidates, totalling 20 fits\n",
            "----------\n",
            "iter: 2\n",
            "n_candidates: 2\n",
            "n_resources: 4500\n",
            "Fitting 5 folds for each of 2 candidates, totalling 10 fits\n",
            "Best params:  {'poly_ft__interaction_only': False, 'poly_ft__include_bias': False, 'poly_ft__degree': 1}\n",
            "Pipeline(steps=[('poly_ft', PolynomialFeatures(degree=1, include_bias=False)),\n",
            "                ('lin_reg', LinearRegression())])\n"
          ]
        }
      ],
      "source": [
        "GRID_SEARCH = True\n",
        "if (GRID_SEARCH):\n",
        "    param_distributions = {\n",
        "        \"poly_ft__degree\": [1,2,3],\n",
        "        \"poly_ft__interaction_only\": [False, True],\n",
        "        \"poly_ft__include_bias\": [True, False]\n",
        "    }\n",
        "    model = search.run_HR_GS(model, X_train, y_train, \n",
        "                            param_distributions, scorer='r2')\n",
        "    print(model)"
      ]
    },
    {
      "cell_type": "markdown",
      "metadata": {
        "id": "ELoCa-ue0woy"
      },
      "source": [
        "Best Model:\n",
        "```\n",
        "PolynomialFeatures(degree=1, include_bias=False)\n",
        "```\n"
      ]
    },
    {
      "cell_type": "code",
      "execution_count": 29,
      "metadata": {
        "colab": {
          "base_uri": "https://localhost:8080/"
        },
        "id": "7Lqp1b3N0woz",
        "outputId": "65a476f1-fdb2-49c2-e2be-11bcb797bd3e"
      },
      "outputs": [
        {
          "output_type": "execute_result",
          "data": {
            "text/plain": [
              "Pipeline(steps=[('poly_ft', PolynomialFeatures(degree=1, include_bias=False)),\n",
              "                ('lin_reg', LinearRegression())])"
            ]
          },
          "metadata": {},
          "execution_count": 29
        }
      ],
      "source": [
        "model = Pipeline([\n",
        "    ('poly_ft'  ,   PolynomialFeatures(degree=1, include_bias=False)),\n",
        "    ('lin_reg'  ,   LinearRegression())\n",
        "])\n",
        "model"
      ]
    },
    {
      "cell_type": "code",
      "execution_count": 30,
      "metadata": {
        "colab": {
          "base_uri": "https://localhost:8080/"
        },
        "id": "31OBJmT60wo1",
        "outputId": "831dfe12-2e9d-43de-ff1f-a225115498c5"
      },
      "outputs": [
        {
          "output_type": "stream",
          "name": "stdout",
          "text": [
            "R2=0.576,RMSE=-45.030\n",
            "(CV) R2=0.570,RMSE=-45.237\n"
          ]
        }
      ],
      "source": [
        "model.fit(X_train, y_train)\n",
        "eval.show_result(y_train, model.predict(X_train))\n",
        "eval.show_result_cv(y_train, X_train, model)"
      ]
    },
    {
      "cell_type": "code",
      "execution_count": 31,
      "metadata": {
        "colab": {
          "base_uri": "https://localhost:8080/"
        },
        "id": "PWLNXSit0wo2",
        "outputId": "81e66fd1-73e9-4b5a-f939-5212bf2c9b17"
      },
      "outputs": [
        {
          "output_type": "stream",
          "name": "stdout",
          "text": [
            "R2=0.602,RMSE=-33.943\n"
          ]
        }
      ],
      "source": [
        "eval.show_result(y_test, model.predict(X_test))"
      ]
    },
    {
      "cell_type": "markdown",
      "metadata": {
        "id": "9WTjNfG70wo3"
      },
      "source": [
        "No clear benefit from polynomial features in linear RUL for simple linear regression. Actually, the degree stayed in 1, i.e., without those features."
      ]
    },
    {
      "cell_type": "markdown",
      "metadata": {
        "id": "BlwL5EnXQcuy"
      },
      "source": [
        "## PolyFeatures + Non-Linear RUL"
      ]
    },
    {
      "cell_type": "code",
      "execution_count": 32,
      "metadata": {
        "id": "CH-5TST3Qkrr"
      },
      "outputs": [],
      "source": [
        "model = Pipeline([\n",
        "    ('poly_ft'  ,   PolynomialFeatures()),\n",
        "    ('trf_reg' ,TransformedTargetRegressor(\n",
        "        check_inverse=False,\n",
        "        regressor   = LinearRegression(),\n",
        "        transformer = FunctionTransformer(np.clip, \n",
        "                                          kw_args={'a_min':0,'a_max':96})))\n",
        "])"
      ]
    },
    {
      "cell_type": "code",
      "execution_count": 33,
      "metadata": {
        "id": "RKz_WrPIyNZZ",
        "colab": {
          "base_uri": "https://localhost:8080/"
        },
        "outputId": "9b92b3ed-e401-40f8-f109-0fc2cd0fd7a8"
      },
      "outputs": [
        {
          "output_type": "stream",
          "name": "stdout",
          "text": [
            "n_iterations: 5\n",
            "n_required_iterations: 5\n",
            "n_possible_iterations: 5\n",
            "min_resources_: 500\n",
            "max_resources_: 53759\n",
            "aggressive_elimination: False\n",
            "factor: 3\n",
            "----------\n",
            "iter: 0\n",
            "n_candidates: 107\n",
            "n_resources: 500\n",
            "Fitting 5 folds for each of 107 candidates, totalling 535 fits\n",
            "----------\n",
            "iter: 1\n",
            "n_candidates: 36\n",
            "n_resources: 1500\n",
            "Fitting 5 folds for each of 36 candidates, totalling 180 fits\n",
            "----------\n",
            "iter: 2\n",
            "n_candidates: 12\n",
            "n_resources: 4500\n",
            "Fitting 5 folds for each of 12 candidates, totalling 60 fits\n",
            "----------\n",
            "iter: 3\n",
            "n_candidates: 4\n",
            "n_resources: 13500\n",
            "Fitting 5 folds for each of 4 candidates, totalling 20 fits\n",
            "----------\n",
            "iter: 4\n",
            "n_candidates: 2\n",
            "n_resources: 40500\n",
            "Fitting 5 folds for each of 2 candidates, totalling 10 fits\n",
            "Best params:  {'trf_reg__transformer__kw_args': {'a_min': 0, 'a_max': 96}, 'poly_ft__interaction_only': True, 'poly_ft__include_bias': True, 'poly_ft__degree': 1}\n",
            "Pipeline(steps=[('poly_ft',\n",
            "                 PolynomialFeatures(degree=1, interaction_only=True)),\n",
            "                ('trf_reg',\n",
            "                 TransformedTargetRegressor(check_inverse=False,\n",
            "                                            regressor=LinearRegression(),\n",
            "                                            transformer=FunctionTransformer(func=<function clip at 0x7f9b8c052c20>,\n",
            "                                                                            kw_args={'a_max': 96,\n",
            "                                                                                     'a_min': 0})))])\n"
          ]
        }
      ],
      "source": [
        "GRID_SEARCH = True\n",
        "if (GRID_SEARCH):\n",
        "    param_distributions = {\n",
        "        \"poly_ft__degree\": [1,2,3],\n",
        "        \"poly_ft__interaction_only\": [False, True],\n",
        "        \"poly_ft__include_bias\": [True, False],\n",
        "        \"trf_reg__transformer__kw_args\": search.generate_clip_dicts(70,150,1)\n",
        "    }\n",
        "    model = search.run_HR_GS(model, X_train, y_train, param_distributions)\n",
        "    print(model)"
      ]
    },
    {
      "cell_type": "markdown",
      "metadata": {
        "id": "Vup8Svzqyt6w"
      },
      "source": [
        "Best Model:\n",
        "```\n",
        "{'trf_reg__transformer__kw_args': {'a_min': 0, 'a_max': 96}, \n",
        "PolynomialFeatures(degree=1, interaction_only=True)),\n",
        "```\n"
      ]
    },
    {
      "cell_type": "code",
      "execution_count": 34,
      "metadata": {
        "colab": {
          "base_uri": "https://localhost:8080/"
        },
        "id": "aLC6mfh4y7vG",
        "outputId": "8c3f9a55-2983-4bb2-b98c-e5a316cfed97"
      },
      "outputs": [
        {
          "output_type": "execute_result",
          "data": {
            "text/plain": [
              "Pipeline(steps=[('poly_ft',\n",
              "                 PolynomialFeatures(degree=1, interaction_only=True)),\n",
              "                ('trf_reg',\n",
              "                 TransformedTargetRegressor(check_inverse=False,\n",
              "                                            regressor=LinearRegression(),\n",
              "                                            transformer=FunctionTransformer(func=<function clip at 0x7f9b8c052c20>,\n",
              "                                                                            kw_args={'a_max': 96,\n",
              "                                                                                     'a_min': 0})))])"
            ]
          },
          "metadata": {},
          "execution_count": 34
        }
      ],
      "source": [
        "model = Pipeline([\n",
        "    ('poly_ft'  ,   PolynomialFeatures(degree=1, interaction_only=True)),\n",
        "    ('trf_reg' ,TransformedTargetRegressor(\n",
        "        check_inverse=False,\n",
        "        regressor   = LinearRegression(),\n",
        "        transformer = FunctionTransformer(np.clip, \n",
        "                                          kw_args={'a_min':0,'a_max':96})))\n",
        "])\n",
        "model"
      ]
    },
    {
      "cell_type": "code",
      "execution_count": 35,
      "metadata": {
        "colab": {
          "base_uri": "https://localhost:8080/"
        },
        "id": "kgQSMjnVy7vJ",
        "outputId": "53d8ea0b-7f10-479e-d8fd-e6e70c874593"
      },
      "outputs": [
        {
          "output_type": "stream",
          "name": "stdout",
          "text": [
            "R2=0.742,RMSE=-15.587\n",
            "(CV) R2=0.739,RMSE=-15.680\n"
          ]
        }
      ],
      "source": [
        "model.fit(X_train, y_train)\n",
        "reclipped_y =  model['trf_reg'].transformer.transform(y_train)\n",
        "eval.show_result(reclipped_y, model.predict(X_train))\n",
        "eval.show_result_cv(reclipped_y, X_train, model)"
      ]
    },
    {
      "cell_type": "code",
      "execution_count": 36,
      "metadata": {
        "colab": {
          "base_uri": "https://localhost:8080/"
        },
        "id": "_WsTCV9qy7vJ",
        "outputId": "22c46ec9-a876-4870-b4ec-7ab619234f98"
      },
      "outputs": [
        {
          "output_type": "stream",
          "name": "stdout",
          "text": [
            "R2=0.766,RMSE=-16.445\n"
          ]
        }
      ],
      "source": [
        "reclipped_y =  model['trf_reg'].transformer.transform(y_test)\n",
        "eval.show_result(reclipped_y, model.predict(X_test))"
      ]
    },
    {
      "cell_type": "markdown",
      "metadata": {
        "id": "wIzjL0VJ0hfH"
      },
      "source": [
        "There was a slight increase in performance when comparing to the scenario without the polynomial features."
      ]
    },
    {
      "cell_type": "markdown",
      "metadata": {
        "id": "NPEyhRGXwy5e"
      },
      "source": [
        "# SGD Regressor"
      ]
    },
    {
      "cell_type": "markdown",
      "metadata": {
        "id": "_6O2SZw9xERZ"
      },
      "source": [
        "The class SGDRegressor implements a plain stochastic gradient descent learning routine which supports different loss functions and penalties to fit linear regression models. **SGDRegressor is well suited for regression problems with a large number of training samples (> 10.000)**, for other problems we recommend Ridge, Lasso, or ElasticNet."
      ]
    },
    {
      "cell_type": "markdown",
      "metadata": {
        "id": "do-hSx0G3M0P"
      },
      "source": [
        "## Linear RUL"
      ]
    },
    {
      "cell_type": "code",
      "execution_count": 37,
      "metadata": {
        "id": "cZNu653k3THD"
      },
      "outputs": [],
      "source": [
        "model = Pipeline([\n",
        "    ('scaler'   ,   StandardScaler()),\n",
        "    ('lin_reg'  ,   SGDRegressor())\n",
        "])"
      ]
    },
    {
      "cell_type": "code",
      "execution_count": 38,
      "metadata": {
        "id": "4GsfZJuV3xlH"
      },
      "outputs": [],
      "source": [
        "# We need specific shape 1D arrays for this model\n",
        "y_train = np.array(y_train).ravel()"
      ]
    },
    {
      "cell_type": "code",
      "execution_count": 39,
      "metadata": {
        "id": "WC6If3Pr3fKf",
        "colab": {
          "base_uri": "https://localhost:8080/"
        },
        "outputId": "5189a0ba-7724-427f-807e-01d64c069735"
      },
      "outputs": [
        {
          "output_type": "stream",
          "name": "stdout",
          "text": [
            "n_iterations: 5\n",
            "n_required_iterations: 5\n",
            "n_possible_iterations: 5\n",
            "min_resources_: 500\n",
            "max_resources_: 53759\n",
            "aggressive_elimination: False\n",
            "factor: 3\n",
            "----------\n",
            "iter: 0\n",
            "n_candidates: 107\n",
            "n_resources: 500\n",
            "Fitting 5 folds for each of 107 candidates, totalling 535 fits\n",
            "----------\n",
            "iter: 1\n",
            "n_candidates: 36\n",
            "n_resources: 1500\n",
            "Fitting 5 folds for each of 36 candidates, totalling 180 fits\n",
            "----------\n",
            "iter: 2\n",
            "n_candidates: 12\n",
            "n_resources: 4500\n",
            "Fitting 5 folds for each of 12 candidates, totalling 60 fits\n",
            "----------\n",
            "iter: 3\n",
            "n_candidates: 4\n",
            "n_resources: 13500\n",
            "Fitting 5 folds for each of 4 candidates, totalling 20 fits\n",
            "----------\n",
            "iter: 4\n",
            "n_candidates: 2\n",
            "n_resources: 40500\n",
            "Fitting 5 folds for each of 2 candidates, totalling 10 fits\n",
            "Best params:  {'lin_reg__validation_fraction': 0.5, 'lin_reg__tol': 0.001, 'lin_reg__power_t': 0.5, 'lin_reg__penalty': 'elasticnet', 'lin_reg__n_iter_no_change': 20, 'lin_reg__max_iter': 3000, 'lin_reg__loss': 'epsilon_insensitive', 'lin_reg__learning_rate': 'optimal', 'lin_reg__eta0': 1e-06, 'lin_reg__epsilon': 3.5, 'lin_reg__early_stopping': True, 'lin_reg__average': 2, 'lin_reg__alpha': 1e-06}\n",
            "Pipeline(steps=[('scaler', StandardScaler()),\n",
            "                ('lin_reg',\n",
            "                 SGDRegressor(alpha=1e-06, average=2, early_stopping=True,\n",
            "                              epsilon=3.5, eta0=1e-06, learning_rate='optimal',\n",
            "                              loss='epsilon_insensitive', max_iter=3000,\n",
            "                              n_iter_no_change=20, penalty='elasticnet',\n",
            "                              power_t=0.5, validation_fraction=0.5))])\n"
          ]
        }
      ],
      "source": [
        "# ~4min\n",
        "GRID_SEARCH = False\n",
        "if (GRID_SEARCH):\n",
        "    param_distributions = {\n",
        "        \"lin_reg__loss\": ['squared_error', 'huber', 'epsilon_insensitive'],\n",
        "        \"lin_reg__penalty\": ['l2', 'l1', 'elasticnet'],\n",
        "        \"lin_reg__epsilon\": [1.1,1.35,1.5,2,2.5,3,3.5,4,4.5,5.5,6],\n",
        "        \"lin_reg__alpha\":[1e-2,1e-3,1e-4,1e-5,1e-6,1e-7],\n",
        "        \"lin_reg__max_iter\": [1000,1500,2000,2500,3000],\n",
        "        \"lin_reg__tol\": [1e-3,1e-4,1e-5,1e-6,1e-7],\n",
        "        \"lin_reg__learning_rate\":['invscaling','constant','optimal','adaptive'],\n",
        "        \"lin_reg__eta0\": [1e-1,1e-2,1e-3,1e-4,1e-5,1e-6],\n",
        "        \"lin_reg__power_t\": [1.25,1,0.75,0.5,0.25,0.1],\n",
        "        \"lin_reg__early_stopping\": [True,False],\n",
        "        \"lin_reg__validation_fraction\": [0.1,0.2,0.3,0.4,0.5,0.6],\n",
        "        \"lin_reg__n_iter_no_change\": [1,2,5,8,10,15,20],\n",
        "        \"lin_reg__average\": [False, 1,2,5,10,20]\n",
        "    }\n",
        "    model = search.run_HR_GS(model, X_train, y_train, param_distributions, \n",
        "                            scorer='r2', ignore_warnings=True)\n",
        "    print(model)"
      ]
    },
    {
      "cell_type": "markdown",
      "metadata": {
        "id": "5fZJucOw4MJX"
      },
      "source": [
        "Best Model:\n",
        "```\n",
        "SGDRegressor(alpha=1e-06, average=2, early_stopping=True,\n",
        "                epsilon=3.5, eta0=1e-06, learning_rate='optimal',\n",
        "                loss='epsilon_insensitive', max_iter=3000,\n",
        "                n_iter_no_change=20, penalty='elasticnet',\n",
        "                power_t=0.5, validation_fraction=0.5))\n",
        "```"
      ]
    },
    {
      "cell_type": "code",
      "execution_count": 40,
      "metadata": {
        "colab": {
          "base_uri": "https://localhost:8080/"
        },
        "id": "3LtQtqzw4Ks9",
        "outputId": "d7c05767-0f89-4994-b3c9-265064ad610f"
      },
      "outputs": [
        {
          "output_type": "execute_result",
          "data": {
            "text/plain": [
              "Pipeline(steps=[('scaler', StandardScaler()),\n",
              "                ('lin_reg',\n",
              "                 SGDRegressor(alpha=1e-06, average=2, early_stopping=True,\n",
              "                              epsilon=3.5, eta0=1e-06, learning_rate='optimal',\n",
              "                              loss='epsilon_insensitive', max_iter=3000,\n",
              "                              n_iter_no_change=20, penalty='elasticnet',\n",
              "                              power_t=0.5, validation_fraction=0.5))])"
            ]
          },
          "metadata": {},
          "execution_count": 40
        }
      ],
      "source": [
        "model = Pipeline([\n",
        "    ('scaler'   ,   StandardScaler()),\n",
        "    ('lin_reg'  ,   SGDRegressor(alpha=1e-06, average=2, early_stopping=True,\n",
        "                              epsilon=3.5, eta0=1e-06, learning_rate='optimal',\n",
        "                              loss='epsilon_insensitive', max_iter=3000,\n",
        "                              n_iter_no_change=20, penalty='elasticnet',\n",
        "                              power_t=0.5, validation_fraction=0.5))\n",
        "])\n",
        "model"
      ]
    },
    {
      "cell_type": "code",
      "execution_count": 41,
      "metadata": {
        "colab": {
          "base_uri": "https://localhost:8080/"
        },
        "id": "_2zaIdQW3TK3",
        "outputId": "4cd98c38-e748-479a-9245-e40c95fd9993"
      },
      "outputs": [
        {
          "output_type": "stream",
          "name": "stdout",
          "text": [
            "R2=0.566,RMSE=-45.563\n",
            "(CV) R2=0.563,RMSE=-45.722\n"
          ]
        }
      ],
      "source": [
        "model.fit(X_train, y_train)\n",
        "eval.show_result(y_train, model.predict(X_train))\n",
        "eval.show_result_cv(y_train, X_train, model)"
      ]
    },
    {
      "cell_type": "code",
      "execution_count": 42,
      "metadata": {
        "colab": {
          "base_uri": "https://localhost:8080/"
        },
        "id": "2EUrftg63TK3",
        "outputId": "c2c758e0-e794-4d6f-d67b-852902f007a9"
      },
      "outputs": [
        {
          "output_type": "stream",
          "name": "stdout",
          "text": [
            "R2=0.632,RMSE=-32.617\n"
          ]
        }
      ],
      "source": [
        "X_test = test_last\n",
        "eval.show_result(y_test, model.predict(X_test))"
      ]
    },
    {
      "cell_type": "markdown",
      "metadata": {
        "id": "5zcl0bgA4k7v"
      },
      "source": [
        "Poor results without non-lineariy of RUL. Comparable to regular LinearRegressor."
      ]
    },
    {
      "cell_type": "markdown",
      "metadata": {
        "id": "FiRLfiCC4ost"
      },
      "source": [
        "## Non-linear RUL"
      ]
    },
    {
      "cell_type": "code",
      "execution_count": 43,
      "metadata": {
        "id": "0I7Xdpr0407W"
      },
      "outputs": [],
      "source": [
        "model = Pipeline([\n",
        "    ('scaler'   ,   StandardScaler()),\n",
        "    ('trf_reg' ,TransformedTargetRegressor(\n",
        "        check_inverse=False,\n",
        "        regressor   = SGDRegressor(),\n",
        "        transformer = FunctionTransformer(np.clip, \n",
        "                                          kw_args={'a_min':0,'a_max':50})))\n",
        "    ])"
      ]
    },
    {
      "cell_type": "code",
      "execution_count": 44,
      "metadata": {
        "id": "v3ijo2aP407X",
        "colab": {
          "base_uri": "https://localhost:8080/"
        },
        "outputId": "b445be8c-028a-4fcd-d88b-0d34ed6ba227"
      },
      "outputs": [
        {
          "output_type": "stream",
          "name": "stdout",
          "text": [
            "n_iterations: 5\n",
            "n_required_iterations: 5\n",
            "n_possible_iterations: 5\n",
            "min_resources_: 500\n",
            "max_resources_: 53759\n",
            "aggressive_elimination: False\n",
            "factor: 3\n",
            "----------\n",
            "iter: 0\n",
            "n_candidates: 107\n",
            "n_resources: 500\n",
            "Fitting 5 folds for each of 107 candidates, totalling 535 fits\n",
            "----------\n",
            "iter: 1\n",
            "n_candidates: 36\n",
            "n_resources: 1500\n",
            "Fitting 5 folds for each of 36 candidates, totalling 180 fits\n",
            "----------\n",
            "iter: 2\n",
            "n_candidates: 12\n",
            "n_resources: 4500\n",
            "Fitting 5 folds for each of 12 candidates, totalling 60 fits\n",
            "----------\n",
            "iter: 3\n",
            "n_candidates: 4\n",
            "n_resources: 13500\n",
            "Fitting 5 folds for each of 4 candidates, totalling 20 fits\n",
            "----------\n",
            "iter: 4\n",
            "n_candidates: 2\n",
            "n_resources: 40500\n",
            "Fitting 5 folds for each of 2 candidates, totalling 10 fits\n",
            "Best params:  {'trf_reg__transformer__kw_args': {'a_min': 0, 'a_max': 107}, 'trf_reg__regressor__validation_fraction': 0.6, 'trf_reg__regressor__tol': 0.001, 'trf_reg__regressor__power_t': 0.1, 'trf_reg__regressor__penalty': 'l1', 'trf_reg__regressor__n_iter_no_change': 10, 'trf_reg__regressor__max_iter': 1000, 'trf_reg__regressor__loss': 'squared_error', 'trf_reg__regressor__learning_rate': 'constant', 'trf_reg__regressor__eta0': 0.0001, 'trf_reg__regressor__epsilon': 6, 'trf_reg__regressor__early_stopping': False, 'trf_reg__regressor__average': False, 'trf_reg__regressor__alpha': 0.0001}\n",
            "Pipeline(steps=[('scaler', StandardScaler()),\n",
            "                ('trf_reg',\n",
            "                 TransformedTargetRegressor(check_inverse=False,\n",
            "                                            regressor=SGDRegressor(epsilon=6,\n",
            "                                                                   eta0=0.0001,\n",
            "                                                                   learning_rate='constant',\n",
            "                                                                   n_iter_no_change=10,\n",
            "                                                                   penalty='l1',\n",
            "                                                                   power_t=0.1,\n",
            "                                                                   validation_fraction=0.6),\n",
            "                                            transformer=FunctionTransformer(func=<function clip at 0x7f9b8c052c20>,\n",
            "                                                                            kw_args={'a_max': 107,\n",
            "                                                                                     'a_min': 0})))])\n"
          ]
        }
      ],
      "source": [
        "GRID_SEARCH = False\n",
        "if (GRID_SEARCH):\n",
        "    param_distributions = {\n",
        "        \"trf_reg__transformer__kw_args\": search.generate_clip_dicts(80,150,1),\n",
        "        \"trf_reg__regressor__loss\": ['squared_error', 'huber', 'epsilon_insensitive'],\n",
        "        \"trf_reg__regressor__penalty\": ['l2', 'l1', 'elasticnet'],\n",
        "        \"trf_reg__regressor__epsilon\": [1.1,1.35,1.5,2,2.5,3,3.5,4,4.5,5.5,6],\n",
        "        \"trf_reg__regressor__alpha\":[1e-2,1e-3,1e-4,1e-5,1e-6,1e-7],\n",
        "        \"trf_reg__regressor__max_iter\": [1000,1500,2000,2500,3000],\n",
        "        \"trf_reg__regressor__tol\": [1e-3,1e-4,1e-5,1e-6,1e-7],\n",
        "        \"trf_reg__regressor__learning_rate\":['invscaling','constant','optimal','adaptive'],\n",
        "        \"trf_reg__regressor__eta0\": [1e-1,1e-2,1e-3,1e-4,1e-5,1e-6],\n",
        "        \"trf_reg__regressor__power_t\": [1.25,1,0.75,0.5,0.25,0.1],\n",
        "        \"trf_reg__regressor__early_stopping\": [True,False],\n",
        "        \"trf_reg__regressor__validation_fraction\": [0.1,0.2,0.3,0.4,0.5,0.6],\n",
        "        \"trf_reg__regressor__n_iter_no_change\": [1,2,5,8,10,15,20],\n",
        "        \"trf_reg__regressor__average\": [False, 1,2,5,10,20]\n",
        "    }\n",
        "    model = search.run_HR_GS(model, X_train, y_train, \n",
        "                            param_distributions, ignore_warnings=True)\n",
        "    print(model)"
      ]
    },
    {
      "cell_type": "markdown",
      "metadata": {
        "id": "bKZoX4i15VzV"
      },
      "source": [
        "Best Model:\n",
        "```\n",
        "kw_args={'a_max': 107,'a_min': 0}))\n",
        "\n",
        "SGDRegressor(epsilon=6,\n",
        "            eta0=0.0001,\n",
        "            learning_rate='constant',\n",
        "            n_iter_no_change=10,\n",
        "            penalty='l1',\n",
        "            power_t=0.1,\n",
        "            validation_fraction=0.6),\n",
        "```"
      ]
    },
    {
      "cell_type": "code",
      "execution_count": 45,
      "metadata": {
        "colab": {
          "base_uri": "https://localhost:8080/"
        },
        "id": "_IBWeewp5VzX",
        "outputId": "50e76a07-ba39-45cc-d0b6-ce588fbeec31"
      },
      "outputs": [
        {
          "output_type": "execute_result",
          "data": {
            "text/plain": [
              "Pipeline(steps=[('scaler', StandardScaler()),\n",
              "                ('trf_reg',\n",
              "                 TransformedTargetRegressor(check_inverse=False,\n",
              "                                            regressor=SGDRegressor(epsilon=6,\n",
              "                                                                   eta0=0.0001,\n",
              "                                                                   learning_rate='constant',\n",
              "                                                                   n_iter_no_change=10,\n",
              "                                                                   penalty='l1',\n",
              "                                                                   power_t=0.1,\n",
              "                                                                   validation_fraction=0.6),\n",
              "                                            transformer=FunctionTransformer(func=<function clip at 0x7f9b8c052c20>,\n",
              "                                                                            kw_args={'a_max': 107,\n",
              "                                                                                     'a_min': 0})))])"
            ]
          },
          "metadata": {},
          "execution_count": 45
        }
      ],
      "source": [
        "model = Pipeline([\n",
        "    ('scaler'   ,   StandardScaler()),\n",
        "    ('trf_reg' ,TransformedTargetRegressor(\n",
        "        check_inverse=False,\n",
        "        regressor=SGDRegressor(epsilon=6,\n",
        "                                eta0=0.0001,\n",
        "                                learning_rate='constant',\n",
        "                                n_iter_no_change=10,\n",
        "                                penalty='l1',\n",
        "                                power_t=0.1,\n",
        "                                validation_fraction=0.6),\n",
        "        transformer = FunctionTransformer(np.clip, \n",
        "                                          kw_args={'a_min':0,'a_max':107})))\n",
        "    ])\n",
        "model"
      ]
    },
    {
      "cell_type": "code",
      "execution_count": 46,
      "metadata": {
        "colab": {
          "base_uri": "https://localhost:8080/"
        },
        "id": "QiEBgLs95VzY",
        "outputId": "1a9f9895-9fe5-4210-9003-5a85fc8897ad"
      },
      "outputs": [
        {
          "output_type": "stream",
          "name": "stdout",
          "text": [
            "R2=0.727,RMSE=-18.257\n",
            "(CV) R2=0.724,RMSE=-18.342\n"
          ]
        }
      ],
      "source": [
        "model.fit(X_train, y_train)\n",
        "reclipped_y =  model['trf_reg'].transformer.transform(y_train)\n",
        "eval.show_result(reclipped_y, model.predict(X_train))\n",
        "eval.show_result_cv(reclipped_y, X_train, model)"
      ]
    },
    {
      "cell_type": "code",
      "execution_count": 47,
      "metadata": {
        "colab": {
          "base_uri": "https://localhost:8080/"
        },
        "id": "Efp3h9pf5VzZ",
        "outputId": "b74f135b-b10c-4486-953e-106ae5e52c36"
      },
      "outputs": [
        {
          "output_type": "stream",
          "name": "stdout",
          "text": [
            "R2=0.764,RMSE=-18.286\n"
          ]
        }
      ],
      "source": [
        "reclipped_y =  model['trf_reg'].transformer.transform(y_test)\n",
        "eval.show_result(reclipped_y, model.predict(X_test))"
      ]
    },
    {
      "cell_type": "markdown",
      "metadata": {
        "id": "0R2xFyXo5VzZ"
      },
      "source": [
        "Achieved training results from non-linear RUL Linear Regressor, but with a little better test result. However the LinearRegressor had a clipping of 121 instead of 104. Same model as FD003."
      ]
    },
    {
      "cell_type": "markdown",
      "metadata": {
        "id": "91WW6IdH6zIz"
      },
      "source": [
        "## PolyFeatures + Linear RUL"
      ]
    },
    {
      "cell_type": "code",
      "execution_count": 48,
      "metadata": {
        "id": "B9SQXyds6zI0"
      },
      "outputs": [],
      "source": [
        "model = Pipeline([\n",
        "    ('poly_ft'  ,   PolynomialFeatures()),\n",
        "    ('scaler'   ,   StandardScaler()),\n",
        "    ('lin_reg'  ,   SGDRegressor())\n",
        "])"
      ]
    },
    {
      "cell_type": "code",
      "execution_count": 49,
      "metadata": {
        "id": "kxqsGzzQ6zI1",
        "colab": {
          "base_uri": "https://localhost:8080/"
        },
        "outputId": "d895f25f-8e71-4c4d-e934-92de88f42bf0"
      },
      "outputs": [
        {
          "output_type": "stream",
          "name": "stdout",
          "text": [
            "n_iterations: 5\n",
            "n_required_iterations: 5\n",
            "n_possible_iterations: 5\n",
            "min_resources_: 500\n",
            "max_resources_: 53759\n",
            "aggressive_elimination: False\n",
            "factor: 3\n",
            "----------\n",
            "iter: 0\n",
            "n_candidates: 107\n",
            "n_resources: 500\n",
            "Fitting 5 folds for each of 107 candidates, totalling 535 fits\n",
            "----------\n",
            "iter: 1\n",
            "n_candidates: 36\n",
            "n_resources: 1500\n",
            "Fitting 5 folds for each of 36 candidates, totalling 180 fits\n",
            "----------\n",
            "iter: 2\n",
            "n_candidates: 12\n",
            "n_resources: 4500\n",
            "Fitting 5 folds for each of 12 candidates, totalling 60 fits\n",
            "----------\n",
            "iter: 3\n",
            "n_candidates: 4\n",
            "n_resources: 13500\n",
            "Fitting 5 folds for each of 4 candidates, totalling 20 fits\n",
            "----------\n",
            "iter: 4\n",
            "n_candidates: 2\n",
            "n_resources: 40500\n",
            "Fitting 5 folds for each of 2 candidates, totalling 10 fits\n",
            "Best params:  {'poly_ft__interaction_only': False, 'poly_ft__include_bias': False, 'poly_ft__degree': 3, 'lin_reg__validation_fraction': 0.1, 'lin_reg__tol': 0.0001, 'lin_reg__power_t': 0.25, 'lin_reg__penalty': 'elasticnet', 'lin_reg__n_iter_no_change': 10, 'lin_reg__max_iter': 2000, 'lin_reg__loss': 'squared_error', 'lin_reg__learning_rate': 'adaptive', 'lin_reg__eta0': 0.0001, 'lin_reg__epsilon': 6, 'lin_reg__early_stopping': False, 'lin_reg__average': 1, 'lin_reg__alpha': 1e-06}\n",
            "Pipeline(steps=[('poly_ft', PolynomialFeatures(degree=3, include_bias=False)),\n",
            "                ('scaler', StandardScaler()),\n",
            "                ('lin_reg',\n",
            "                 SGDRegressor(alpha=1e-06, average=1, epsilon=6, eta0=0.0001,\n",
            "                              learning_rate='adaptive', max_iter=2000,\n",
            "                              n_iter_no_change=10, penalty='elasticnet',\n",
            "                              tol=0.0001))])\n"
          ]
        }
      ],
      "source": [
        "# ~30min\n",
        "GRID_SEARCH = False\n",
        "if (GRID_SEARCH):\n",
        "    param_distributions = {\n",
        "        \"poly_ft__degree\": [1,2,3],\n",
        "        \"poly_ft__interaction_only\": [False, True],\n",
        "        \"poly_ft__include_bias\": [True, False],\n",
        "        \"lin_reg__loss\": ['squared_error', 'huber', 'epsilon_insensitive'],\n",
        "        \"lin_reg__penalty\": ['l2', 'l1', 'elasticnet'],\n",
        "        \"lin_reg__epsilon\": [1.1,1.35,1.5,2,2.5,3,3.5,4,4.5,5.5,6],\n",
        "        \"lin_reg__alpha\":[1e-2,1e-3,1e-4,1e-5,1e-6,1e-7],\n",
        "        \"lin_reg__max_iter\": [1000,1500,2000,2500,3000],\n",
        "        \"lin_reg__tol\": [1e-3,1e-4,1e-5,1e-6,1e-7],\n",
        "        \"lin_reg__learning_rate\":['invscaling','constant','optimal','adaptive'],\n",
        "        \"lin_reg__eta0\": [1e-1,1e-2,1e-3,1e-4,1e-5,1e-6],\n",
        "        \"lin_reg__power_t\": [1.25,1,0.75,0.5,0.25,0.1],\n",
        "        \"lin_reg__early_stopping\": [True,False],\n",
        "        \"lin_reg__validation_fraction\": [0.1,0.2,0.3,0.4,0.5,0.6],\n",
        "        \"lin_reg__n_iter_no_change\": [1,2,5,8,10,15,20],\n",
        "        \"lin_reg__average\": [False, 1,2,5,10,20]\n",
        "    }\n",
        "    model = search.run_HR_GS(model, X_train, y_train, param_distributions,\n",
        "                            ignore_warnings=True, scorer='r2')\n",
        "    print(model)"
      ]
    },
    {
      "cell_type": "markdown",
      "metadata": {
        "id": "ezfhC0xn6zI2"
      },
      "source": [
        "Best Model:\n",
        "```\n",
        "Pipeline(steps=[('poly_ft', PolynomialFeatures(degree=3, include_bias=False)),\n",
        "                ('scaler', StandardScaler()),\n",
        "                ('lin_reg',\n",
        "                 SGDRegressor(alpha=1e-06, average=1, epsilon=6, eta0=0.0001,\n",
        "                              learning_rate='adaptive', max_iter=2000,\n",
        "                              n_iter_no_change=10, penalty='elasticnet',\n",
        "                              tol=0.0001)\n",
        "```\n"
      ]
    },
    {
      "cell_type": "code",
      "execution_count": 50,
      "metadata": {
        "colab": {
          "base_uri": "https://localhost:8080/"
        },
        "id": "YpMbNXtG6zI3",
        "outputId": "8cf56457-4028-43dc-a72a-c627e4f9b207"
      },
      "outputs": [
        {
          "output_type": "execute_result",
          "data": {
            "text/plain": [
              "Pipeline(steps=[('poly_ft', PolynomialFeatures(degree=3, include_bias=False)),\n",
              "                ('scaler', StandardScaler()),\n",
              "                ('lin_reg',\n",
              "                 SGDRegressor(alpha=1e-06, average=1, epsilon=6, eta0=0.0001,\n",
              "                              learning_rate='adaptive', max_iter=2000,\n",
              "                              n_iter_no_change=10, penalty='elasticnet',\n",
              "                              tol=0.0001))])"
            ]
          },
          "metadata": {},
          "execution_count": 50
        }
      ],
      "source": [
        "model = Pipeline([\n",
        "    ('poly_ft', PolynomialFeatures(degree=3, include_bias=False)),\n",
        "    ('scaler', StandardScaler()),\n",
        "    ('lin_reg',  SGDRegressor(alpha=1e-06, average=1, epsilon=6, eta0=0.0001,\n",
        "                              learning_rate='adaptive', max_iter=2000,\n",
        "                              n_iter_no_change=10, penalty='elasticnet',\n",
        "                              tol=0.0001))\n",
        "])\n",
        "model"
      ]
    },
    {
      "cell_type": "code",
      "execution_count": 51,
      "metadata": {
        "colab": {
          "base_uri": "https://localhost:8080/"
        },
        "id": "5mG9kbZP6zI3",
        "outputId": "90f1f493-4072-4e28-da40-a25a923c5ab8"
      },
      "outputs": [
        {
          "output_type": "stream",
          "name": "stdout",
          "text": [
            "R2=0.575,RMSE=-45.097\n",
            "(CV) R2=0.569,RMSE=-45.328\n"
          ]
        }
      ],
      "source": [
        "# 20min\n",
        "model.fit(X_train, y_train)\n",
        "eval.show_result(y_train, model.predict(X_train))\n",
        "eval.show_result_cv(y_train, X_train, model)"
      ]
    },
    {
      "cell_type": "code",
      "execution_count": 52,
      "metadata": {
        "colab": {
          "base_uri": "https://localhost:8080/"
        },
        "id": "FC0VOuER6zI4",
        "outputId": "8a6040a7-69bb-40c7-b9a0-32dc92a6133c"
      },
      "outputs": [
        {
          "output_type": "stream",
          "name": "stdout",
          "text": [
            "R2=0.612,RMSE=-33.519\n"
          ]
        }
      ],
      "source": [
        "eval.show_result(y_test, model.predict(X_test))"
      ]
    },
    {
      "cell_type": "markdown",
      "metadata": {
        "id": "7LFv-p556zI5"
      },
      "source": [
        "No clear benefit from polynomial features in linear RUL as well. It just performs a little better than the LinearRegression model. It's the exactly same model as in FD001, the same as FD003."
      ]
    },
    {
      "cell_type": "markdown",
      "metadata": {
        "id": "hDe4bhikyCfC"
      },
      "source": [
        "## PolyFeatures + Non-Linear RUL"
      ]
    },
    {
      "cell_type": "code",
      "execution_count": null,
      "metadata": {
        "id": "YXjOngDmyCfD"
      },
      "outputs": [],
      "source": [
        "model = Pipeline([\n",
        "    ('poly_ft'  ,   PolynomialFeatures()),\n",
        "    ('scaler'   ,   StandardScaler()),\n",
        "    ('trf_reg' ,TransformedTargetRegressor(\n",
        "        check_inverse=False,\n",
        "        regressor   = SGDRegressor(),\n",
        "        transformer = FunctionTransformer(np.clip, \n",
        "                                          kw_args={'a_min':0,'a_max':96})))\n",
        "])"
      ]
    },
    {
      "cell_type": "code",
      "execution_count": null,
      "metadata": {
        "colab": {
          "base_uri": "https://localhost:8080/"
        },
        "id": "EVBRV7UdyCfE",
        "outputId": "5951ef82-a858-4a88-a7a0-ee8360e87e20"
      },
      "outputs": [
        {
          "output_type": "stream",
          "name": "stdout",
          "text": [
            "n_iterations: 4\n",
            "n_required_iterations: 4\n",
            "n_possible_iterations: 4\n",
            "min_resources_: 500\n",
            "max_resources_: 24720\n",
            "aggressive_elimination: False\n",
            "factor: 3\n",
            "----------\n",
            "iter: 0\n",
            "n_candidates: 49\n",
            "n_resources: 500\n",
            "Fitting 5 folds for each of 49 candidates, totalling 245 fits\n",
            "----------\n",
            "iter: 1\n",
            "n_candidates: 17\n",
            "n_resources: 1500\n",
            "Fitting 5 folds for each of 17 candidates, totalling 85 fits\n",
            "----------\n",
            "iter: 2\n",
            "n_candidates: 6\n",
            "n_resources: 4500\n",
            "Fitting 5 folds for each of 6 candidates, totalling 30 fits\n",
            "----------\n",
            "iter: 3\n",
            "n_candidates: 2\n",
            "n_resources: 13500\n",
            "Fitting 5 folds for each of 2 candidates, totalling 10 fits\n",
            "Best params:  {'trf_reg__transformer__kw_args': {'a_min': 0, 'a_max': 115}, 'trf_reg__regressor__validation_fraction': 0.5, 'trf_reg__regressor__tol': 1e-06, 'trf_reg__regressor__power_t': 0.25, 'trf_reg__regressor__penalty': 'elasticnet', 'trf_reg__regressor__n_iter_no_change': 15, 'trf_reg__regressor__max_iter': 2500, 'trf_reg__regressor__loss': 'squared_error', 'trf_reg__regressor__learning_rate': 'invscaling', 'trf_reg__regressor__eta0': 0.01, 'trf_reg__regressor__epsilon': 1.5, 'trf_reg__regressor__early_stopping': True, 'trf_reg__regressor__average': 20, 'trf_reg__regressor__alpha': 1e-05, 'poly_ft__interaction_only': True, 'poly_ft__include_bias': False, 'poly_ft__degree': 2}\n",
            "Pipeline(steps=[('poly_ft',\n",
            "                 PolynomialFeatures(include_bias=False, interaction_only=True)),\n",
            "                ('scaler', StandardScaler()),\n",
            "                ('trf_reg',\n",
            "                 TransformedTargetRegressor(check_inverse=False,\n",
            "                                            regressor=SGDRegressor(alpha=1e-05,\n",
            "                                                                   average=20,\n",
            "                                                                   early_stopping=True,\n",
            "                                                                   epsilon=1.5,\n",
            "                                                                   max_iter=2500,\n",
            "                                                                   n_iter_no_change=15,\n",
            "                                                                   penalty='elasticnet',\n",
            "                                                                   tol=1e-06,\n",
            "                                                                   validation_fraction=0.5),\n",
            "                                            transformer=FunctionTransformer(func=<function clip at 0x7f4790d58c20>,\n",
            "                                                                            kw_args={'a_max': 115,\n",
            "                                                                                     'a_min': 0})))])\n"
          ]
        }
      ],
      "source": [
        "# ~6min\n",
        "GRID_SEARCH = False\n",
        "if (GRID_SEARCH):\n",
        "    param_distributions = {\n",
        "        \"poly_ft__degree\": [1,2,3],\n",
        "        \"poly_ft__interaction_only\": [False, True],\n",
        "        \"poly_ft__include_bias\": [True, False],\n",
        "        \"trf_reg__transformer__kw_args\": search.generate_clip_dicts(70,150,1),\n",
        "        \"trf_reg__regressor__loss\": ['squared_error', 'huber', 'epsilon_insensitive'],\n",
        "        \"trf_reg__regressor__penalty\": ['l2', 'l1', 'elasticnet'],\n",
        "        \"trf_reg__regressor__epsilon\": [1.1,1.35,1.5,2,2.5,3,3.5,4,4.5,5.5,6],\n",
        "        \"trf_reg__regressor__alpha\":[1e-2,1e-3,1e-4,1e-5,1e-6,1e-7],\n",
        "        \"trf_reg__regressor__max_iter\": [1000,1500,2000,2500,3000,4000,4500],\n",
        "        \"trf_reg__regressor__tol\": [1e-3,1e-4,1e-5,1e-6,1e-7],\n",
        "        \"trf_reg__regressor__learning_rate\":['invscaling','constant','optimal','adaptive'],\n",
        "        \"trf_reg__regressor__eta0\": [1e-1,1e-2,1e-3,1e-4,1e-5,1e-6],\n",
        "        \"trf_reg__regressor__power_t\": [1.25,1,0.75,0.5,0.25,0.1],\n",
        "        \"trf_reg__regressor__early_stopping\": [True,False],\n",
        "        \"trf_reg__regressor__validation_fraction\": [0.1,0.2,0.3,0.4,0.5,0.6],\n",
        "        \"trf_reg__regressor__n_iter_no_change\": [1,2,5,8,10,15,20],\n",
        "        \"trf_reg__regressor__average\": [False, 1,2,5,10,20]\n",
        "    }\n",
        "    model = search.run_HR_GS(model, X_train, y_train, \n",
        "                             param_distributions, ignore_warnings=True)\n",
        "    print(model)"
      ]
    },
    {
      "cell_type": "markdown",
      "metadata": {
        "id": "wQKsmLmRyCfF"
      },
      "source": [
        "Best Model:\n",
        "```\n",
        "{'trf_reg__transformer__kw_args': {'a_min': 0, 'a_max': 115}, \n",
        "PolynomialFeatures(include_bias=False, interaction_only=True)),\n",
        "SGDRegressor(alpha=1e-05,\n",
        "            average=20,\n",
        "            early_stopping=True,\n",
        "            epsilon=1.5,\n",
        "            max_iter=2500,\n",
        "            n_iter_no_change=15,\n",
        "            penalty='elasticnet',\n",
        "            tol=1e-06,\n",
        "            validation_fraction=0.5),\n",
        "```\n"
      ]
    },
    {
      "cell_type": "code",
      "execution_count": null,
      "metadata": {
        "colab": {
          "base_uri": "https://localhost:8080/"
        },
        "id": "xwsZl26YyCfG",
        "outputId": "3ecb365d-511d-4e9b-a28a-11e1c9944026"
      },
      "outputs": [
        {
          "output_type": "execute_result",
          "data": {
            "text/plain": [
              "Pipeline(steps=[('poly_ft',\n",
              "                 PolynomialFeatures(include_bias=False, interaction_only=True)),\n",
              "                ('scaler', StandardScaler()),\n",
              "                ('trf_reg',\n",
              "                 TransformedTargetRegressor(check_inverse=False,\n",
              "                                            regressor=SGDRegressor(alpha=1e-05,\n",
              "                                                                   average=20,\n",
              "                                                                   early_stopping=True,\n",
              "                                                                   epsilon=1.5,\n",
              "                                                                   max_iter=2500,\n",
              "                                                                   n_iter_no_change=15,\n",
              "                                                                   penalty='elasticnet',\n",
              "                                                                   tol=1e-06,\n",
              "                                                                   validation_fraction=0.5),\n",
              "                                            transformer=FunctionTransformer(func=<function clip at 0x7f4790d58c20>,\n",
              "                                                                            kw_args={'a_max': 115,\n",
              "                                                                                     'a_min': 0})))])"
            ]
          },
          "metadata": {},
          "execution_count": 58
        }
      ],
      "source": [
        "model = Pipeline([\n",
        "    ('poly_ft',PolynomialFeatures(include_bias=False, interaction_only=True)),\n",
        "    ('scaler', StandardScaler()),\n",
        "    ('trf_reg',\n",
        "        TransformedTargetRegressor(\n",
        "            check_inverse=False,\n",
        "            regressor=SGDRegressor(alpha=1e-05,\n",
        "                                    average=20,\n",
        "                                    early_stopping=True,\n",
        "                                    epsilon=1.5,\n",
        "                                    max_iter=2500,\n",
        "                                    n_iter_no_change=15,\n",
        "                                    penalty='elasticnet',\n",
        "                                    tol=1e-06,\n",
        "                                    validation_fraction=0.5),\n",
        "            transformer=FunctionTransformer(np.clip,\n",
        "                                            kw_args={'a_max': 115,\n",
        "                                                     'a_min': 0})))\n",
        "])\n",
        "model"
      ]
    },
    {
      "cell_type": "code",
      "execution_count": null,
      "metadata": {
        "colab": {
          "base_uri": "https://localhost:8080/"
        },
        "id": "wObIcvBzyCfH",
        "outputId": "861f5110-135e-4668-9136-070e2652cdb8"
      },
      "outputs": [
        {
          "output_type": "stream",
          "name": "stdout",
          "text": [
            "R2=0.779,RMSE=-17.284\n",
            "(CV) R2=0.763,RMSE=-17.677\n"
          ]
        }
      ],
      "source": [
        "model.fit(X_train, y_train)\n",
        "reclipped_y =  model['trf_reg'].transformer.transform(y_train)\n",
        "eval.show_result(reclipped_y, model.predict(X_train))\n",
        "eval.show_result_cv(reclipped_y, X_train, model)"
      ]
    },
    {
      "cell_type": "code",
      "execution_count": null,
      "metadata": {
        "colab": {
          "base_uri": "https://localhost:8080/"
        },
        "id": "LA6DK3Z-yCfI",
        "outputId": "0b10559c-be61-46e3-96f9-930cd9df9eeb"
      },
      "outputs": [
        {
          "output_type": "stream",
          "name": "stdout",
          "text": [
            "R2=0.733,RMSE=-19.049\n"
          ]
        }
      ],
      "source": [
        "reclipped_y =  model['trf_reg'].transformer.transform(y_test)\n",
        "eval.show_result(reclipped_y, model.predict(X_test))"
      ]
    },
    {
      "cell_type": "markdown",
      "metadata": {
        "id": "KXoWzTTvyCfJ"
      },
      "source": [
        "With 2-degree terms, we increased the test performance. The training is similar to the previous cases, a little smaller, probably due to the random search."
      ]
    },
    {
      "cell_type": "markdown",
      "metadata": {
        "id": "GhQZM9mg6-w1"
      },
      "source": [
        "# SVR"
      ]
    },
    {
      "cell_type": "markdown",
      "source": [
        "We'll use only the linear kernel, because the algorithm is quadratic on the number of samples. Otherwise, the training times get worser."
      ],
      "metadata": {
        "id": "5U_Shc08Wl3O"
      }
    },
    {
      "cell_type": "markdown",
      "metadata": {
        "id": "48OuIMuweYhO"
      },
      "source": [
        "## Linear RUL"
      ]
    },
    {
      "cell_type": "code",
      "execution_count": null,
      "metadata": {
        "id": "JPLVJzR1eYhO"
      },
      "outputs": [],
      "source": [
        "model = Pipeline([\n",
        "    ('scaler'   ,   MinMaxScaler()),\n",
        "    ('svm_reg'  ,   LinearSVR(random_state=42))\n",
        "])"
      ]
    },
    {
      "cell_type": "code",
      "execution_count": null,
      "metadata": {
        "id": "Y_7Crp3JeYhP"
      },
      "outputs": [],
      "source": [
        "# We need specific shape 1D arrays for this model\n",
        "y_train = np.array(y_train).ravel()"
      ]
    },
    {
      "cell_type": "code",
      "execution_count": null,
      "metadata": {
        "colab": {
          "base_uri": "https://localhost:8080/"
        },
        "id": "aHNl4UZWeYhQ",
        "outputId": "b0e8f96b-c8a0-4165-8d7a-20681a57073c"
      },
      "outputs": [
        {
          "output_type": "stream",
          "name": "stdout",
          "text": [
            "n_iterations: 4\n",
            "n_required_iterations: 4\n",
            "n_possible_iterations: 4\n",
            "min_resources_: 500\n",
            "max_resources_: 24720\n",
            "aggressive_elimination: False\n",
            "factor: 3\n",
            "----------\n",
            "iter: 0\n",
            "n_candidates: 49\n",
            "n_resources: 500\n",
            "Fitting 5 folds for each of 49 candidates, totalling 245 fits\n",
            "----------\n",
            "iter: 1\n",
            "n_candidates: 17\n",
            "n_resources: 1500\n",
            "Fitting 5 folds for each of 17 candidates, totalling 85 fits\n",
            "----------\n",
            "iter: 2\n",
            "n_candidates: 6\n",
            "n_resources: 4500\n",
            "Fitting 5 folds for each of 6 candidates, totalling 30 fits\n",
            "----------\n",
            "iter: 3\n",
            "n_candidates: 2\n",
            "n_resources: 13500\n",
            "Fitting 5 folds for each of 2 candidates, totalling 10 fits\n",
            "Best params:  {'svm_reg__tol': 0.001, 'svm_reg__max_iter': 5000, 'svm_reg__loss': 'squared_epsilon_insensitive', 'svm_reg__fit_intercept': True, 'svm_reg__epsilon': 0.001, 'svm_reg__C': 1, 'scaler': MinMaxScaler()}\n",
            "Pipeline(steps=[('scaler', MinMaxScaler()),\n",
            "                ('svm_reg',\n",
            "                 LinearSVR(C=1, epsilon=0.001,\n",
            "                           loss='squared_epsilon_insensitive', max_iter=5000,\n",
            "                           random_state=42, tol=0.001))])\n"
          ]
        }
      ],
      "source": [
        "GRID_SEARCH = True\n",
        "if (GRID_SEARCH):\n",
        "    param_distributions = {\n",
        "        \"scaler\": [StandardScaler(), MinMaxScaler()],\n",
        "        \"svm_reg__loss\": [\"epsilon_insensitive\",\"squared_epsilon_insensitive\"],\n",
        "        \"svm_reg__fit_intercept\": [True, False],\n",
        "        \"svm_reg__max_iter\": [1000,3000,5000],\n",
        "        \"svm_reg__epsilon\": [1,1e-1,1e-2,1e-3],\n",
        "        \"svm_reg__tol\": [1e-3,1e-4,1e-5,1e-6,1e-7,1e-8],\n",
        "        \"svm_reg__C\":[1,2,5,10]\n",
        "    }\n",
        "    model = search.run_HR_GS(model, X_train, y_train, param_distributions, \n",
        "                            scorer='r2', ignore_warnings=True)\n",
        "    print(model)"
      ]
    },
    {
      "cell_type": "markdown",
      "metadata": {
        "id": "JGXD9P2QeYhR"
      },
      "source": [
        "Best Model:\n",
        "```\n",
        "('scaler', MinMaxScaler()),\n",
        "LinearSVR(C=1, epsilon=0.001,\n",
        "        loss='squared_epsilon_insensitive', max_iter=5000,\n",
        "        random_state=42, tol=0.001))\n",
        "```"
      ]
    },
    {
      "cell_type": "code",
      "execution_count": null,
      "metadata": {
        "colab": {
          "base_uri": "https://localhost:8080/"
        },
        "id": "YL_b1yVdeYhS",
        "outputId": "5d47c0f5-fa3d-4790-e615-11764fd354c5"
      },
      "outputs": [
        {
          "output_type": "execute_result",
          "data": {
            "text/plain": [
              "Pipeline(steps=[('scaler', MinMaxScaler()),\n",
              "                ('svm_reg',\n",
              "                 LinearSVR(C=1, epsilon=0.001,\n",
              "                           loss='squared_epsilon_insensitive', max_iter=5000,\n",
              "                           random_state=42, tol=0.001))])"
            ]
          },
          "metadata": {},
          "execution_count": 64
        }
      ],
      "source": [
        "model = Pipeline([\n",
        "    ('scaler'   ,   MinMaxScaler()),\n",
        "    ('svm_reg'  ,   LinearSVR(C=1, epsilon=0.001,\n",
        "        loss='squared_epsilon_insensitive', max_iter=5000,\n",
        "        random_state=42, tol=0.001))\n",
        "])\n",
        "model"
      ]
    },
    {
      "cell_type": "code",
      "execution_count": null,
      "metadata": {
        "colab": {
          "base_uri": "https://localhost:8080/"
        },
        "id": "ERYFwWmDeYhT",
        "outputId": "910ffb32-766f-466d-9946-474131583268"
      },
      "outputs": [
        {
          "output_type": "stream",
          "name": "stdout",
          "text": [
            "R2=0.587,RMSE=-63.495\n",
            "(CV) R2=0.543,RMSE=-65.172\n"
          ]
        }
      ],
      "source": [
        "model.fit(X_train, y_train)\n",
        "eval.show_result(y_train, model.predict(X_train))\n",
        "eval.show_result_cv(y_train, X_train, model)"
      ]
    },
    {
      "cell_type": "code",
      "execution_count": null,
      "metadata": {
        "colab": {
          "base_uri": "https://localhost:8080/"
        },
        "id": "ljbEvBXjeYhT",
        "outputId": "251c2c3f-46b7-400f-e0f0-e4f02694783a"
      },
      "outputs": [
        {
          "output_type": "stream",
          "name": "stdout",
          "text": [
            "R2=-0.899,RMSE=-57.039\n"
          ]
        }
      ],
      "source": [
        "eval.show_result(y_test, model.predict(X_test))"
      ]
    },
    {
      "cell_type": "markdown",
      "metadata": {
        "id": "ON-T3GOaeYhU"
      },
      "source": [
        "Poor results without non-lineariy of RUL. Comparable to regular LinearRegressor."
      ]
    },
    {
      "cell_type": "markdown",
      "metadata": {
        "id": "slX8zIwSeYhV"
      },
      "source": [
        "## Non-linear RUL"
      ]
    },
    {
      "cell_type": "code",
      "execution_count": null,
      "metadata": {
        "id": "ZzCV__-SeYhV"
      },
      "outputs": [],
      "source": [
        "model = Pipeline([\n",
        "    ('scaler'   ,   MinMaxScaler()),\n",
        "    ('trf_reg' ,TransformedTargetRegressor(\n",
        "        check_inverse=False,\n",
        "        regressor   = LinearSVR(random_state=42),\n",
        "        transformer = FunctionTransformer(np.clip, \n",
        "                                          kw_args={'a_min':0,'a_max':50})))\n",
        "    ])"
      ]
    },
    {
      "cell_type": "code",
      "execution_count": null,
      "metadata": {
        "colab": {
          "base_uri": "https://localhost:8080/"
        },
        "id": "SoG6y6D6eYhV",
        "outputId": "8cae5538-3a20-4851-c889-291d2e735ca9"
      },
      "outputs": [
        {
          "output_type": "stream",
          "name": "stdout",
          "text": [
            "n_iterations: 4\n",
            "n_required_iterations: 4\n",
            "n_possible_iterations: 4\n",
            "min_resources_: 500\n",
            "max_resources_: 24720\n",
            "aggressive_elimination: False\n",
            "factor: 3\n",
            "----------\n",
            "iter: 0\n",
            "n_candidates: 49\n",
            "n_resources: 500\n",
            "Fitting 5 folds for each of 49 candidates, totalling 245 fits\n",
            "----------\n",
            "iter: 1\n",
            "n_candidates: 17\n",
            "n_resources: 1500\n",
            "Fitting 5 folds for each of 17 candidates, totalling 85 fits\n",
            "----------\n",
            "iter: 2\n",
            "n_candidates: 6\n",
            "n_resources: 4500\n",
            "Fitting 5 folds for each of 6 candidates, totalling 30 fits\n",
            "----------\n",
            "iter: 3\n",
            "n_candidates: 2\n",
            "n_resources: 13500\n",
            "Fitting 5 folds for each of 2 candidates, totalling 10 fits\n",
            "Best params:  {'trf_reg__transformer__kw_args': {'a_min': 0, 'a_max': 111}, 'trf_reg__regressor__tol': 1e-05, 'trf_reg__regressor__max_iter': 5000, 'trf_reg__regressor__loss': 'squared_epsilon_insensitive', 'trf_reg__regressor__fit_intercept': True, 'trf_reg__regressor__epsilon': 0.001, 'trf_reg__regressor__C': 2, 'scaler': MinMaxScaler()}\n",
            "Pipeline(steps=[('scaler', MinMaxScaler()),\n",
            "                ('trf_reg',\n",
            "                 TransformedTargetRegressor(check_inverse=False,\n",
            "                                            regressor=LinearSVR(C=2,\n",
            "                                                                epsilon=0.001,\n",
            "                                                                loss='squared_epsilon_insensitive',\n",
            "                                                                max_iter=5000,\n",
            "                                                                random_state=42,\n",
            "                                                                tol=1e-05),\n",
            "                                            transformer=FunctionTransformer(func=<function clip at 0x7f4790d58c20>,\n",
            "                                                                            kw_args={'a_max': 111,\n",
            "                                                                                     'a_min': 0})))])\n"
          ]
        }
      ],
      "source": [
        "# ~4min\n",
        "GRID_SEARCH = False\n",
        "if (GRID_SEARCH):\n",
        "    param_distributions = {\n",
        "        \"scaler\": [StandardScaler(), MinMaxScaler()],\n",
        "        \"trf_reg__transformer__kw_args\": search.generate_clip_dicts(80,150,1),\n",
        "        \"trf_reg__regressor__loss\": [\"epsilon_insensitive\",\"squared_epsilon_insensitive\"],\n",
        "        \"trf_reg__regressor__fit_intercept\": [True, False],\n",
        "        \"trf_reg__regressor__max_iter\": [1000,3000,5000],\n",
        "        \"trf_reg__regressor__epsilon\": [1,1e-1,1e-2,1e-3],\n",
        "        \"trf_reg__regressor__tol\": [1e-3,1e-4,1e-5,1e-6,1e-7,1e-8],\n",
        "        \"trf_reg__regressor__C\":[1,2,5,10]\n",
        "    }\n",
        "    model = search.run_HR_GS(model, X_train, y_train, \n",
        "                            param_distributions, ignore_warnings=True)\n",
        "    print(model)"
      ]
    },
    {
      "cell_type": "markdown",
      "metadata": {
        "id": "Rb1eBrjveYhW"
      },
      "source": [
        "Best Model:\n",
        "```\n",
        "kw_args={'a_max': 111,'a_min': 0}))\n",
        "('scaler', MinMaxScaler())\n",
        "LinearSVR(C=2,\n",
        "            epsilon=0.001,\n",
        "            loss='squared_epsilon_insensitive',\n",
        "            max_iter=5000,\n",
        "            random_state=42,\n",
        "            tol=1e-05),\n",
        "```"
      ]
    },
    {
      "cell_type": "code",
      "execution_count": null,
      "metadata": {
        "colab": {
          "base_uri": "https://localhost:8080/"
        },
        "id": "3TcNYX40eYhX",
        "outputId": "d80ac0ee-1acc-429b-aacf-2ac133d1ce40"
      },
      "outputs": [
        {
          "output_type": "execute_result",
          "data": {
            "text/plain": [
              "Pipeline(steps=[('scaler', MinMaxScaler()),\n",
              "                ('trf_reg',\n",
              "                 TransformedTargetRegressor(check_inverse=False,\n",
              "                                            regressor=LinearSVR(C=2,\n",
              "                                                                epsilon=0.001,\n",
              "                                                                loss='squared_epsilon_insensitive',\n",
              "                                                                max_iter=5000,\n",
              "                                                                random_state=42,\n",
              "                                                                tol=1e-05),\n",
              "                                            transformer=FunctionTransformer(func=<function clip at 0x7f4790d58c20>,\n",
              "                                                                            kw_args={'a_max': 111,\n",
              "                                                                                     'a_min': 0})))])"
            ]
          },
          "metadata": {},
          "execution_count": 69
        }
      ],
      "source": [
        "model = Pipeline([\n",
        "    ('scaler'   ,   MinMaxScaler()),\n",
        "    ('trf_reg' ,TransformedTargetRegressor(\n",
        "        check_inverse=False,\n",
        "        regressor=LinearSVR(C=2,\n",
        "                            epsilon=0.001,\n",
        "                            loss='squared_epsilon_insensitive',\n",
        "                            max_iter=5000,\n",
        "                            random_state=42,\n",
        "                            tol=1e-05),\n",
        "        transformer = FunctionTransformer(np.clip, \n",
        "                                          kw_args={'a_min':0,'a_max':111})))\n",
        "    ])\n",
        "model"
      ]
    },
    {
      "cell_type": "code",
      "execution_count": null,
      "metadata": {
        "colab": {
          "base_uri": "https://localhost:8080/"
        },
        "id": "RDLHIViHeYhX",
        "outputId": "480b5166-31aa-40a0-f123-d96493fe469a"
      },
      "outputs": [
        {
          "output_type": "stream",
          "name": "stdout",
          "text": [
            "R2=0.779,RMSE=-16.518\n",
            "(CV) R2=0.765,RMSE=-16.854\n"
          ]
        }
      ],
      "source": [
        "model.fit(X_train, y_train)\n",
        "reclipped_y =  model['trf_reg'].transformer.transform(y_train)\n",
        "eval.show_result(reclipped_y, model.predict(X_train))\n",
        "eval.show_result_cv(reclipped_y, X_train, model)"
      ]
    },
    {
      "cell_type": "code",
      "execution_count": null,
      "metadata": {
        "colab": {
          "base_uri": "https://localhost:8080/"
        },
        "id": "KIbOFuX9eYhY",
        "outputId": "0d5b2f9b-e82e-481a-9a0b-49d7a0e3707c"
      },
      "outputs": [
        {
          "output_type": "stream",
          "name": "stdout",
          "text": [
            "R2=0.744,RMSE=-18.062\n"
          ]
        }
      ],
      "source": [
        "reclipped_y =  model['trf_reg'].transformer.transform(y_test)\n",
        "eval.show_result(reclipped_y, model.predict(X_test))"
      ]
    },
    {
      "cell_type": "markdown",
      "metadata": {
        "id": "aSayNaJUeYhY"
      },
      "source": [
        "Good linear results"
      ]
    },
    {
      "cell_type": "markdown",
      "metadata": {
        "id": "hhk2JShreYhZ"
      },
      "source": [
        "## PolyFeatures + Linear RUL"
      ]
    },
    {
      "cell_type": "code",
      "execution_count": null,
      "metadata": {
        "id": "05KnHQfBeYhZ"
      },
      "outputs": [],
      "source": [
        "model = Pipeline([\n",
        "    ('poly_ft'  ,   PolynomialFeatures()),\n",
        "    ('selection', SelectFromModel(DecisionTreeRegressor())),\n",
        "    ('scaler'   ,   MinMaxScaler()),\n",
        "    ('svm_reg'  ,   LinearSVR(random_state=42))\n",
        "])"
      ]
    },
    {
      "cell_type": "code",
      "execution_count": null,
      "metadata": {
        "colab": {
          "base_uri": "https://localhost:8080/"
        },
        "id": "vqiwlnADeYhZ",
        "outputId": "8976c766-2b17-4db6-a2ec-82c4d131d233"
      },
      "outputs": [
        {
          "output_type": "stream",
          "name": "stdout",
          "text": [
            "n_iterations: 4\n",
            "n_required_iterations: 4\n",
            "n_possible_iterations: 4\n",
            "min_resources_: 500\n",
            "max_resources_: 24720\n",
            "aggressive_elimination: False\n",
            "factor: 3\n",
            "----------\n",
            "iter: 0\n",
            "n_candidates: 49\n",
            "n_resources: 500\n",
            "Fitting 5 folds for each of 49 candidates, totalling 245 fits\n",
            "----------\n",
            "iter: 1\n",
            "n_candidates: 17\n",
            "n_resources: 1500\n",
            "Fitting 5 folds for each of 17 candidates, totalling 85 fits\n",
            "----------\n",
            "iter: 2\n",
            "n_candidates: 6\n",
            "n_resources: 4500\n",
            "Fitting 5 folds for each of 6 candidates, totalling 30 fits\n",
            "----------\n",
            "iter: 3\n",
            "n_candidates: 2\n",
            "n_resources: 13500\n",
            "Fitting 5 folds for each of 2 candidates, totalling 10 fits\n",
            "Best params:  {'svm_reg__tol': 0.001, 'svm_reg__max_iter': 5000, 'svm_reg__loss': 'squared_epsilon_insensitive', 'svm_reg__fit_intercept': True, 'svm_reg__epsilon': 0.01, 'svm_reg__C': 10, 'scaler': StandardScaler(), 'poly_ft__interaction_only': True, 'poly_ft__include_bias': False, 'poly_ft__degree': 3}\n",
            "Pipeline(steps=[('poly_ft',\n",
            "                 PolynomialFeatures(degree=3, include_bias=False,\n",
            "                                    interaction_only=True)),\n",
            "                ('selection',\n",
            "                 SelectFromModel(estimator=DecisionTreeRegressor())),\n",
            "                ('scaler', StandardScaler()),\n",
            "                ('svm_reg',\n",
            "                 LinearSVR(C=10, epsilon=0.01,\n",
            "                           loss='squared_epsilon_insensitive', max_iter=5000,\n",
            "                           random_state=42, tol=0.001))])\n"
          ]
        }
      ],
      "source": [
        "# ~20min\n",
        "GRID_SEARCH = False\n",
        "if (GRID_SEARCH):\n",
        "    param_distributions = {\n",
        "        \"scaler\": [StandardScaler(), MinMaxScaler()],\n",
        "        \"poly_ft__degree\": [1,2,3],\n",
        "        \"poly_ft__interaction_only\": [False, True],\n",
        "        \"poly_ft__include_bias\": [True, False],\n",
        "        \"svm_reg__loss\": [\"epsilon_insensitive\",\"squared_epsilon_insensitive\"],\n",
        "        \"svm_reg__fit_intercept\": [True, False],\n",
        "        \"svm_reg__max_iter\": [1000,3000,5000],\n",
        "        \"svm_reg__epsilon\": [1,1e-1,1e-2,1e-3],\n",
        "        \"svm_reg__tol\": [1e-3,1e-4,1e-5,1e-6,1e-7,1e-8],\n",
        "        \"svm_reg__C\":[1,2,5,10]\n",
        "    }\n",
        "    model = search.run_HR_GS(model, X_train, y_train, param_distributions,\n",
        "                            ignore_warnings=True, scorer='r2')\n",
        "    print(model)"
      ]
    },
    {
      "cell_type": "markdown",
      "metadata": {
        "id": "x3T3JjileYha"
      },
      "source": [
        "Best Model:\n",
        "```\n",
        " PolynomialFeatures(degree=3, include_bias=False,\n",
        "                                    interaction_only=True)),\n",
        "('selection',\n",
        "                 SelectFromModel(estimator=DecisionTreeRegressor())),\n",
        "('scaler', StandardScaler()),\n",
        "LinearSVR(C=10, epsilon=0.01,\n",
        "            loss='squared_epsilon_insensitive', max_iter=5000,\n",
        "            random_state=42, tol=0.001))\n",
        "```\n"
      ]
    },
    {
      "cell_type": "code",
      "execution_count": null,
      "metadata": {
        "colab": {
          "base_uri": "https://localhost:8080/"
        },
        "id": "vOTLuHhleYha",
        "outputId": "4939917d-5aaf-4325-fabc-4475b2320329"
      },
      "outputs": [
        {
          "output_type": "execute_result",
          "data": {
            "text/plain": [
              "Pipeline(steps=[('poly_ft',\n",
              "                 PolynomialFeatures(degree=3, include_bias=False,\n",
              "                                    interaction_only=True)),\n",
              "                ('selection',\n",
              "                 SelectFromModel(estimator=DecisionTreeRegressor())),\n",
              "                ('scaler', StandardScaler()),\n",
              "                ('svm_reg',\n",
              "                 LinearSVR(C=10, epsilon=0.01,\n",
              "                           loss='squared_epsilon_insensitive', max_iter=5000,\n",
              "                           random_state=42, tol=0.001))])"
            ]
          },
          "metadata": {},
          "execution_count": 74
        }
      ],
      "source": [
        "model = Pipeline([\n",
        "    ('poly_ft', PolynomialFeatures(degree=3, include_bias=False,\n",
        "                                    interaction_only=True)),\n",
        "    ('selection', SelectFromModel(DecisionTreeRegressor())),\n",
        "    ('scaler', StandardScaler()),\n",
        "    ('svm_reg', LinearSVR(C=10, epsilon=0.01,\n",
        "            loss='squared_epsilon_insensitive', max_iter=5000,\n",
        "            random_state=42, tol=0.001))\n",
        "])\n",
        "model"
      ]
    },
    {
      "cell_type": "code",
      "execution_count": null,
      "metadata": {
        "colab": {
          "base_uri": "https://localhost:8080/"
        },
        "id": "vNXgsavTeYhb",
        "outputId": "57ff6e1d-95ac-48b9-a39c-6aeb7a4875a1"
      },
      "outputs": [
        {
          "output_type": "stream",
          "name": "stderr",
          "text": [
            "/usr/local/lib/python3.7/dist-packages/sklearn/svm/_base.py:1208: ConvergenceWarning: Liblinear failed to converge, increase the number of iterations.\n",
            "  ConvergenceWarning,\n"
          ]
        },
        {
          "output_type": "stream",
          "name": "stdout",
          "text": [
            "R2=0.630,RMSE=-60.135\n"
          ]
        },
        {
          "output_type": "stream",
          "name": "stderr",
          "text": [
            "/usr/local/lib/python3.7/dist-packages/sklearn/svm/_base.py:1208: ConvergenceWarning: Liblinear failed to converge, increase the number of iterations.\n",
            "  ConvergenceWarning,\n",
            "/usr/local/lib/python3.7/dist-packages/sklearn/svm/_base.py:1208: ConvergenceWarning: Liblinear failed to converge, increase the number of iterations.\n",
            "  ConvergenceWarning,\n",
            "/usr/local/lib/python3.7/dist-packages/sklearn/svm/_base.py:1208: ConvergenceWarning: Liblinear failed to converge, increase the number of iterations.\n",
            "  ConvergenceWarning,\n",
            "/usr/local/lib/python3.7/dist-packages/sklearn/svm/_base.py:1208: ConvergenceWarning: Liblinear failed to converge, increase the number of iterations.\n",
            "  ConvergenceWarning,\n",
            "/usr/local/lib/python3.7/dist-packages/sklearn/svm/_base.py:1208: ConvergenceWarning: Liblinear failed to converge, increase the number of iterations.\n",
            "  ConvergenceWarning,\n",
            "/usr/local/lib/python3.7/dist-packages/sklearn/svm/_base.py:1208: ConvergenceWarning: Liblinear failed to converge, increase the number of iterations.\n",
            "  ConvergenceWarning,\n",
            "/usr/local/lib/python3.7/dist-packages/sklearn/svm/_base.py:1208: ConvergenceWarning: Liblinear failed to converge, increase the number of iterations.\n",
            "  ConvergenceWarning,\n",
            "/usr/local/lib/python3.7/dist-packages/sklearn/svm/_base.py:1208: ConvergenceWarning: Liblinear failed to converge, increase the number of iterations.\n",
            "  ConvergenceWarning,\n",
            "/usr/local/lib/python3.7/dist-packages/sklearn/svm/_base.py:1208: ConvergenceWarning: Liblinear failed to converge, increase the number of iterations.\n",
            "  ConvergenceWarning,\n"
          ]
        },
        {
          "output_type": "stream",
          "name": "stdout",
          "text": [
            "(CV) R2=0.571,RMSE=-62.946\n"
          ]
        },
        {
          "output_type": "stream",
          "name": "stderr",
          "text": [
            "/usr/local/lib/python3.7/dist-packages/sklearn/svm/_base.py:1208: ConvergenceWarning: Liblinear failed to converge, increase the number of iterations.\n",
            "  ConvergenceWarning,\n"
          ]
        }
      ],
      "source": [
        "# ~20min\n",
        "model.fit(X_train, y_train)\n",
        "eval.show_result(y_train, model.predict(X_train))\n",
        "eval.show_result_cv(y_train, X_train, model)"
      ]
    },
    {
      "cell_type": "code",
      "execution_count": null,
      "metadata": {
        "id": "syV5FSKZeYhb",
        "colab": {
          "base_uri": "https://localhost:8080/"
        },
        "outputId": "636a1963-9e78-4711-b473-f77e6e68d978"
      },
      "outputs": [
        {
          "output_type": "stream",
          "name": "stdout",
          "text": [
            "R2=-0.685,RMSE=-53.734\n"
          ]
        }
      ],
      "source": [
        "eval.show_result(y_test, model.predict(X_test))"
      ]
    },
    {
      "cell_type": "markdown",
      "metadata": {
        "id": "gCc3I9nBeYhc"
      },
      "source": [
        "Minor benefit from polynomial features in linear RUL.  However, most of the time, it didn't converge, even with 5k iterations."
      ]
    },
    {
      "cell_type": "markdown",
      "metadata": {
        "id": "CE8FEoXjeYhc"
      },
      "source": [
        "## PolyFeatures + Non-Linear RUL"
      ]
    },
    {
      "cell_type": "code",
      "execution_count": null,
      "metadata": {
        "id": "a3bxpVQTeYhc"
      },
      "outputs": [],
      "source": [
        "model = Pipeline([\n",
        "    ('poly_ft'  ,   PolynomialFeatures()),\n",
        "    ('selection', SelectFromModel(DecisionTreeRegressor())),\n",
        "    ('scaler'   ,   StandardScaler()),\n",
        "    ('trf_reg' ,TransformedTargetRegressor(\n",
        "        check_inverse=False,\n",
        "        regressor   = LinearSVR(random_state=42),\n",
        "        transformer = FunctionTransformer(np.clip, \n",
        "                                          kw_args={'a_min':0,'a_max':96})))\n",
        "])"
      ]
    },
    {
      "cell_type": "code",
      "execution_count": null,
      "metadata": {
        "colab": {
          "base_uri": "https://localhost:8080/"
        },
        "id": "_2CeBElZeYhc",
        "outputId": "1b3dacbc-6105-4833-a7f2-75cb75593b95"
      },
      "outputs": [
        {
          "output_type": "stream",
          "name": "stdout",
          "text": [
            "n_iterations: 4\n",
            "n_required_iterations: 4\n",
            "n_possible_iterations: 4\n",
            "min_resources_: 500\n",
            "max_resources_: 24720\n",
            "aggressive_elimination: False\n",
            "factor: 3\n",
            "----------\n",
            "iter: 0\n",
            "n_candidates: 49\n",
            "n_resources: 500\n",
            "Fitting 5 folds for each of 49 candidates, totalling 245 fits\n",
            "----------\n",
            "iter: 1\n",
            "n_candidates: 17\n",
            "n_resources: 1500\n",
            "Fitting 5 folds for each of 17 candidates, totalling 85 fits\n",
            "----------\n",
            "iter: 2\n",
            "n_candidates: 6\n",
            "n_resources: 4500\n",
            "Fitting 5 folds for each of 6 candidates, totalling 30 fits\n",
            "----------\n",
            "iter: 3\n",
            "n_candidates: 2\n",
            "n_resources: 13500\n",
            "Fitting 5 folds for each of 2 candidates, totalling 10 fits\n",
            "Best params:  {'trf_reg__transformer__kw_args': {'a_min': 0, 'a_max': 93}, 'trf_reg__regressor__tol': 0.001, 'trf_reg__regressor__max_iter': 3000, 'trf_reg__regressor__loss': 'epsilon_insensitive', 'trf_reg__regressor__fit_intercept': True, 'trf_reg__regressor__epsilon': 1, 'trf_reg__regressor__C': 10, 'scaler': StandardScaler(), 'poly_ft__interaction_only': False, 'poly_ft__include_bias': True, 'poly_ft__degree': 3}\n",
            "Pipeline(steps=[('poly_ft', PolynomialFeatures(degree=3)),\n",
            "                ('selection',\n",
            "                 SelectFromModel(estimator=DecisionTreeRegressor())),\n",
            "                ('scaler', StandardScaler()),\n",
            "                ('trf_reg',\n",
            "                 TransformedTargetRegressor(check_inverse=False,\n",
            "                                            regressor=LinearSVR(C=10, epsilon=1,\n",
            "                                                                max_iter=3000,\n",
            "                                                                random_state=42,\n",
            "                                                                tol=0.001),\n",
            "                                            transformer=FunctionTransformer(func=<function clip at 0x7f4790d58c20>,\n",
            "                                                                            kw_args={'a_max': 93,\n",
            "                                                                                     'a_min': 0})))])\n"
          ]
        }
      ],
      "source": [
        "# ~15min\n",
        "GRID_SEARCH = False\n",
        "if (GRID_SEARCH):\n",
        "    param_distributions = {\n",
        "        \"scaler\": [StandardScaler(), MinMaxScaler()],\n",
        "        \"trf_reg__transformer__kw_args\": search.generate_clip_dicts(80,150,1),\n",
        "        \"trf_reg__regressor__loss\": [\"epsilon_insensitive\",\"squared_epsilon_insensitive\"],\n",
        "        \"trf_reg__regressor__fit_intercept\": [True, False],\n",
        "        \"trf_reg__regressor__max_iter\": [1000,3000,5000],\n",
        "        \"trf_reg__regressor__epsilon\": [1,1e-1,1e-2,1e-3],\n",
        "        \"trf_reg__regressor__tol\": [1e-3,1e-4,1e-5,1e-6,1e-7,1e-8],\n",
        "        \"trf_reg__regressor__C\":[1,2,5,10],\n",
        "        \"poly_ft__degree\": [1,2,3],\n",
        "        \"poly_ft__interaction_only\": [False, True],\n",
        "        \"poly_ft__include_bias\": [True, False],\n",
        "    }\n",
        "    model = search.run_HR_GS(model, X_train, y_train, \n",
        "                             param_distributions, ignore_warnings=True)\n",
        "    print(model)"
      ]
    },
    {
      "cell_type": "markdown",
      "metadata": {
        "id": "56xc1U-peYhd"
      },
      "source": [
        "Best Model:\n",
        "```\n",
        "{'trf_reg__transformer__kw_args': {'a_min': 0, 'a_max': 93}, \n",
        "PolynomialFeatures(degree=3)\n",
        "('scaler', StandardScaler()),\n",
        "LinearSVR(C=10, epsilon=1,\n",
        "        max_iter=3000,\n",
        "        random_state=42,\n",
        "        tol=0.001),\n",
        "```\n"
      ]
    },
    {
      "cell_type": "code",
      "execution_count": null,
      "metadata": {
        "colab": {
          "base_uri": "https://localhost:8080/"
        },
        "id": "HtfeP0KteYhd",
        "outputId": "bd3a7693-2541-488c-fd25-cd32b47687b4"
      },
      "outputs": [
        {
          "output_type": "execute_result",
          "data": {
            "text/plain": [
              "Pipeline(steps=[('poly_ft', PolynomialFeatures(degree=3)),\n",
              "                ('selection',\n",
              "                 SelectFromModel(estimator=DecisionTreeRegressor())),\n",
              "                ('scaler', StandardScaler()),\n",
              "                ('trf_reg',\n",
              "                 TransformedTargetRegressor(check_inverse=False,\n",
              "                                            regressor=LinearSVR(C=10, epsilon=1,\n",
              "                                                                max_iter=3000,\n",
              "                                                                random_state=42,\n",
              "                                                                tol=0.001),\n",
              "                                            transformer=FunctionTransformer(func=<function clip at 0x7f4790d58c20>,\n",
              "                                                                            kw_args={'a_max': 93,\n",
              "                                                                                     'a_min': 0})))])"
            ]
          },
          "metadata": {},
          "execution_count": 80
        }
      ],
      "source": [
        "model = Pipeline([\n",
        "    ('poly_ft',PolynomialFeatures(degree=3)),\n",
        "    ('selection',\n",
        "                 SelectFromModel(estimator=DecisionTreeRegressor())),\n",
        "    ('scaler', StandardScaler()),\n",
        "    ('trf_reg',\n",
        "        TransformedTargetRegressor(\n",
        "            check_inverse=False,\n",
        "            regressor=LinearSVR(C=10, epsilon=1,\n",
        "                                max_iter=3000,\n",
        "                                random_state=42,\n",
        "                                tol=0.001),\n",
        "            transformer=FunctionTransformer(np.clip,\n",
        "                                            kw_args={'a_max': 93,\n",
        "                                                     'a_min': 0})))\n",
        "])\n",
        "model"
      ]
    },
    {
      "cell_type": "code",
      "execution_count": null,
      "metadata": {
        "colab": {
          "base_uri": "https://localhost:8080/"
        },
        "id": "oqBePp8LeYhe",
        "outputId": "df73887c-573d-42e9-9ddc-86c9c0e6813d"
      },
      "outputs": [
        {
          "output_type": "stream",
          "name": "stderr",
          "text": [
            "/usr/local/lib/python3.7/dist-packages/sklearn/svm/_base.py:1208: ConvergenceWarning: Liblinear failed to converge, increase the number of iterations.\n",
            "  ConvergenceWarning,\n"
          ]
        },
        {
          "output_type": "stream",
          "name": "stdout",
          "text": [
            "R2=0.823,RMSE=-11.806\n",
            "(CV) R2=0.810,RMSE=-12.131\n"
          ]
        }
      ],
      "source": [
        "# ~15min\n",
        "model.fit(X_train, y_train)\n",
        "reclipped_y =  model['trf_reg'].transformer.transform(y_train)\n",
        "eval.show_result(reclipped_y, model.predict(X_train))\n",
        "eval.show_result_cv(reclipped_y, X_train, model)"
      ]
    },
    {
      "cell_type": "code",
      "execution_count": null,
      "metadata": {
        "colab": {
          "base_uri": "https://localhost:8080/"
        },
        "id": "5If11LWueYhe",
        "outputId": "50cf7ada-f4f8-406e-d06a-b36813da514c"
      },
      "outputs": [
        {
          "output_type": "stream",
          "name": "stdout",
          "text": [
            "R2=0.764,RMSE=-14.513\n"
          ]
        }
      ],
      "source": [
        "reclipped_y =  model['trf_reg'].transformer.transform(y_test)\n",
        "eval.show_result(reclipped_y, model.predict(X_test))"
      ]
    },
    {
      "cell_type": "markdown",
      "metadata": {
        "id": "XzWOE90teYhf"
      },
      "source": [
        "There was a case of failing to converge. But we achieved the best results in testing using linear kernel models. It is also the same model from FD001. However, the test performance was a little lower, mostly because it is a little harder."
      ]
    },
    {
      "cell_type": "code",
      "source": [
        ""
      ],
      "metadata": {
        "id": "zab6rC0UImsK"
      },
      "execution_count": null,
      "outputs": []
    }
  ]
}