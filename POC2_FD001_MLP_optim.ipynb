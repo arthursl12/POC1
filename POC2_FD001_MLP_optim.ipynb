{
  "nbformat": 4,
  "nbformat_minor": 0,
  "metadata": {
    "colab": {
      "provenance": [],
      "collapsed_sections": [
        "iqDPLB2EDXSK",
        "AU6ipeRozJz-",
        "n7MBDuPasy-s",
        "e7-_jqRw3cRa",
        "QinQ4hWStzHt",
        "boZqFQNlraCh",
        "IIXnBTkfxpCf",
        "fQA-YtFMM81M",
        "nTPBH5fg_sFd",
        "f3Or3dZbB5Pr",
        "t18eQ8H3EfGV",
        "DvHTMj_9_xss",
        "Z7Z5u9Bu_Q4x",
        "Ha2fY8VlWD7p",
        "WVSMJWsLFDx3"
      ],
      "toc_visible": true,
      "authorship_tag": "ABX9TyPCC67GQfQGGeSvfhmU3yIn",
      "include_colab_link": true
    },
    "kernelspec": {
      "name": "python3",
      "display_name": "Python 3"
    },
    "language_info": {
      "name": "python"
    },
    "accelerator": "GPU"
  },
  "cells": [
    {
      "cell_type": "markdown",
      "metadata": {
        "id": "view-in-github",
        "colab_type": "text"
      },
      "source": [
        "<a href=\"https://colab.research.google.com/github/arthursl12/POC1/blob/main/POC2_FD001_MLP_optim.ipynb\" target=\"_parent\"><img src=\"https://colab.research.google.com/assets/colab-badge.svg\" alt=\"Open In Colab\"/></a>"
      ]
    },
    {
      "cell_type": "markdown",
      "source": [
        "# Imports"
      ],
      "metadata": {
        "id": "iqDPLB2EDXSK"
      }
    },
    {
      "cell_type": "code",
      "source": [
        "%pip install scikeras;\n",
        "%pip install -U tensorflow-addons;\n",
        "%pip install scikit-optimize"
      ],
      "metadata": {
        "colab": {
          "base_uri": "https://localhost:8080/"
        },
        "id": "1ObuYEARk28q",
        "outputId": "c9aea77c-ab6e-4fb8-ddda-50d66f87508c"
      },
      "execution_count": 1,
      "outputs": [
        {
          "output_type": "stream",
          "name": "stdout",
          "text": [
            "Looking in indexes: https://pypi.org/simple, https://us-python.pkg.dev/colab-wheels/public/simple/\n",
            "Collecting scikeras\n",
            "  Downloading scikeras-0.9.0-py3-none-any.whl (27 kB)\n",
            "Requirement already satisfied: packaging>=0.21 in /usr/local/lib/python3.7/dist-packages (from scikeras) (21.3)\n",
            "Requirement already satisfied: scikit-learn>=1.0.0 in /usr/local/lib/python3.7/dist-packages (from scikeras) (1.0.2)\n",
            "Requirement already satisfied: importlib-metadata>=3 in /usr/local/lib/python3.7/dist-packages (from scikeras) (4.12.0)\n",
            "Requirement already satisfied: typing-extensions>=3.6.4 in /usr/local/lib/python3.7/dist-packages (from importlib-metadata>=3->scikeras) (4.1.1)\n",
            "Requirement already satisfied: zipp>=0.5 in /usr/local/lib/python3.7/dist-packages (from importlib-metadata>=3->scikeras) (3.8.1)\n",
            "Requirement already satisfied: pyparsing!=3.0.5,>=2.0.2 in /usr/local/lib/python3.7/dist-packages (from packaging>=0.21->scikeras) (3.0.9)\n",
            "Requirement already satisfied: scipy>=1.1.0 in /usr/local/lib/python3.7/dist-packages (from scikit-learn>=1.0.0->scikeras) (1.7.3)\n",
            "Requirement already satisfied: joblib>=0.11 in /usr/local/lib/python3.7/dist-packages (from scikit-learn>=1.0.0->scikeras) (1.1.0)\n",
            "Requirement already satisfied: threadpoolctl>=2.0.0 in /usr/local/lib/python3.7/dist-packages (from scikit-learn>=1.0.0->scikeras) (3.1.0)\n",
            "Requirement already satisfied: numpy>=1.14.6 in /usr/local/lib/python3.7/dist-packages (from scikit-learn>=1.0.0->scikeras) (1.21.6)\n",
            "Installing collected packages: scikeras\n",
            "Successfully installed scikeras-0.9.0\n",
            "Looking in indexes: https://pypi.org/simple, https://us-python.pkg.dev/colab-wheels/public/simple/\n",
            "Collecting tensorflow-addons\n",
            "  Downloading tensorflow_addons-0.18.0-cp37-cp37m-manylinux_2_17_x86_64.manylinux2014_x86_64.whl (1.1 MB)\n",
            "\u001b[K     |████████████████████████████████| 1.1 MB 9.8 MB/s \n",
            "\u001b[?25hRequirement already satisfied: packaging in /usr/local/lib/python3.7/dist-packages (from tensorflow-addons) (21.3)\n",
            "Requirement already satisfied: typeguard>=2.7 in /usr/local/lib/python3.7/dist-packages (from tensorflow-addons) (2.7.1)\n",
            "Requirement already satisfied: pyparsing!=3.0.5,>=2.0.2 in /usr/local/lib/python3.7/dist-packages (from packaging->tensorflow-addons) (3.0.9)\n",
            "Installing collected packages: tensorflow-addons\n",
            "Successfully installed tensorflow-addons-0.18.0\n",
            "Looking in indexes: https://pypi.org/simple, https://us-python.pkg.dev/colab-wheels/public/simple/\n",
            "Collecting scikit-optimize\n",
            "  Downloading scikit_optimize-0.9.0-py2.py3-none-any.whl (100 kB)\n",
            "\u001b[K     |████████████████████████████████| 100 kB 7.4 MB/s \n",
            "\u001b[?25hRequirement already satisfied: scikit-learn>=0.20.0 in /usr/local/lib/python3.7/dist-packages (from scikit-optimize) (1.0.2)\n",
            "Collecting pyaml>=16.9\n",
            "  Downloading pyaml-21.10.1-py2.py3-none-any.whl (24 kB)\n",
            "Requirement already satisfied: scipy>=0.19.1 in /usr/local/lib/python3.7/dist-packages (from scikit-optimize) (1.7.3)\n",
            "Requirement already satisfied: joblib>=0.11 in /usr/local/lib/python3.7/dist-packages (from scikit-optimize) (1.1.0)\n",
            "Requirement already satisfied: numpy>=1.13.3 in /usr/local/lib/python3.7/dist-packages (from scikit-optimize) (1.21.6)\n",
            "Requirement already satisfied: PyYAML in /usr/local/lib/python3.7/dist-packages (from pyaml>=16.9->scikit-optimize) (6.0)\n",
            "Requirement already satisfied: threadpoolctl>=2.0.0 in /usr/local/lib/python3.7/dist-packages (from scikit-learn>=0.20.0->scikit-optimize) (3.1.0)\n",
            "Installing collected packages: pyaml, scikit-optimize\n",
            "Successfully installed pyaml-21.10.1 scikit-optimize-0.9.0\n"
          ]
        }
      ]
    },
    {
      "cell_type": "code",
      "source": [
        "import os\n",
        "import random\n",
        "import pandas as pd\n",
        "import matplotlib.pyplot as plt\n",
        "import seaborn as sns\n",
        "import numpy as np\n",
        "import glob\n",
        "import datetime"
      ],
      "metadata": {
        "id": "i0Z0Zs7YcgTp"
      },
      "execution_count": 2,
      "outputs": []
    },
    {
      "cell_type": "code",
      "source": [
        "from sklearn.pipeline import Pipeline\n",
        "from sklearn.compose import TransformedTargetRegressor\n",
        "\n",
        "from sklearn.preprocessing import FunctionTransformer\n",
        "from sklearn.preprocessing import PolynomialFeatures\n",
        "from sklearn.preprocessing import MinMaxScaler, StandardScaler\n",
        "\n",
        "from sklearn.model_selection import GroupKFold\n",
        "\n",
        "from sklearn.base import BaseEstimator,RegressorMixin"
      ],
      "metadata": {
        "id": "wmJyWwoFHcFL"
      },
      "execution_count": 3,
      "outputs": []
    },
    {
      "cell_type": "code",
      "source": [
        "from skopt import BayesSearchCV\n",
        "\n",
        "from skopt.space.space import Categorical, Integer, Real"
      ],
      "metadata": {
        "id": "b4AwhIPNHgzX"
      },
      "execution_count": 4,
      "outputs": []
    },
    {
      "cell_type": "code",
      "source": [
        "import tensorflow as tf\n",
        "from tensorflow.keras import Sequential\n",
        "from tensorflow.keras.layers import Dense, Dropout, LSTM, Masking\n",
        "\n",
        "from tensorflow.keras.metrics import RootMeanSquaredError as RMSE\n",
        "\n",
        "from keras.callbacks import LambdaCallback\n",
        "from tensorflow.keras.optimizers import SGD, Adam, RMSprop\n",
        "from tensorflow.keras.optimizers.schedules import ExponentialDecay\n",
        "\n",
        "import tensorflow_addons as tfa\n",
        "from tensorflow_addons.metrics import RSquare as R2\n",
        "\n",
        "from scikeras.wrappers import KerasRegressor"
      ],
      "metadata": {
        "id": "LnMMh6xN33s4"
      },
      "execution_count": 5,
      "outputs": []
    },
    {
      "cell_type": "code",
      "source": [
        "sns.set_palette('colorblind')"
      ],
      "metadata": {
        "id": "yIpSdBdJ-uWd"
      },
      "execution_count": 6,
      "outputs": []
    },
    {
      "cell_type": "code",
      "source": [
        "# Reproducibility\n",
        "seed = 42\n",
        "os.environ['PYTHONHASHSEED']=str(seed)\n",
        "random.seed(seed)\n",
        "np.random.seed(seed)\n",
        "tf.random.set_seed(seed)"
      ],
      "metadata": {
        "id": "oWUcQTaa3lth"
      },
      "execution_count": 7,
      "outputs": []
    },
    {
      "cell_type": "code",
      "source": [
        "tf.config.experimental.enable_op_determinism()"
      ],
      "metadata": {
        "id": "fwRwlCA7Yt4C"
      },
      "execution_count": 8,
      "outputs": []
    },
    {
      "cell_type": "code",
      "source": [
        "# Remove some tf warnings\n",
        "import absl.logging\n",
        "absl.logging.set_verbosity(absl.logging.ERROR)"
      ],
      "metadata": {
        "id": "cJXVJecRHjMy"
      },
      "execution_count": 9,
      "outputs": []
    },
    {
      "cell_type": "markdown",
      "source": [
        "# Data Preparation"
      ],
      "metadata": {
        "id": "AU6ipeRozJz-"
      }
    },
    {
      "cell_type": "code",
      "source": [
        "# Dataset Download \n",
        "os.system('git clone https://github.com/arthursl12/dataset_2')\n",
        "os.system('mv /content/dataset_2/CMaps /content/CMaps')\n",
        "os.system('mv /content/dataset_2/data_processing /content/data_processing')\n",
        "os.system('rm -rf dataset_2')"
      ],
      "metadata": {
        "colab": {
          "base_uri": "https://localhost:8080/"
        },
        "id": "-EPYBkqeECE9",
        "outputId": "1f66deea-1180-490c-e1d5-52049a51c416"
      },
      "execution_count": 10,
      "outputs": [
        {
          "output_type": "execute_result",
          "data": {
            "text/plain": [
              "0"
            ]
          },
          "metadata": {},
          "execution_count": 10
        }
      ]
    },
    {
      "cell_type": "code",
      "source": [
        "from data_processing.processing import DatasetProcessing\n",
        "from data_processing.training import HyperparameterSearch, reclipper_scorer\n",
        "from data_processing.eval import Evaluation"
      ],
      "metadata": {
        "id": "FUQ5tHe4Eu7z"
      },
      "execution_count": 11,
      "outputs": []
    },
    {
      "cell_type": "code",
      "source": [
        "proc = DatasetProcessing()"
      ],
      "metadata": {
        "id": "g1BmyudxzUz-"
      },
      "execution_count": 12,
      "outputs": []
    },
    {
      "cell_type": "markdown",
      "source": [
        "## Data Integration"
      ],
      "metadata": {
        "id": "Q4QwyfhXs_hv"
      }
    },
    {
      "cell_type": "markdown",
      "source": [
        "The data are provided as a zip-compressed text file with 26 columns of numbers, separated by spaces. Each row is a snapshot of data taken during a single operational cycle, each column is a different variable. The columns correspond to:  \n",
        "\n",
        "1) unit number   \n",
        "2) time, in cycles  \n",
        "3) operational setting 1  \n",
        "4) operational setting 2  \n",
        "5) operational setting 3    \n",
        "6) sensor measurement 1    \n",
        "7) sensor measurement 2  \n",
        "...  \n",
        "26) sensor measurement 20\n",
        "\n",
        "\n",
        "There are 6 conditions (or combinations) which the 3 operational settings can take.  \n",
        "Condition 1: Altitude = 0, Mach Number = 0, TRA = 100  \n",
        "Condition 2: Altitude = 10, Mach Number = 0.25, TRA = 100  \n",
        "Condition 3: Altitude = 20, Mach Number = 0.7 TRA = 100  \n",
        "Condition 4: Altitude = 25, Mach Number = 0.62, TRA = 60  \n",
        "Condition 5: Altitude = 35 Mach Number = 0.84, TRA = 100  \n",
        "Condition 6: Altitude = 42, Mach Number = 0.84, TRA = 100  \n",
        "  \n",
        "There is slight variation in all these conditions so you may get numbers like 24.453 instead of 25 exactly.\n",
        "\n",
        "FD001: Condition 1 only  \n",
        "FD002: Mix of all the conditions  \n",
        "FD003: Condition 1 only  \n",
        "FD004: Mix of all conditions  \n"
      ],
      "metadata": {
        "id": "PQe-SyeYc6Gf"
      }
    },
    {
      "cell_type": "code",
      "source": [
        "index_cols, settings_cols, sensors_cols, cols = proc.column_names()\n",
        "train, test, y_test = proc.read_dataset(1)\n",
        "train"
      ],
      "metadata": {
        "colab": {
          "base_uri": "https://localhost:8080/",
          "height": 488
        },
        "id": "-yRYxz2hh4xE",
        "outputId": "079676cf-1d0e-4d4d-84b8-0fa0e9e89f68"
      },
      "execution_count": 13,
      "outputs": [
        {
          "output_type": "execute_result",
          "data": {
            "text/plain": [
              "       unit_number  time    op_1    op_2   op_3     s_0     s_1      s_2  \\\n",
              "0                1     1 -0.0007 -0.0004  100.0  518.67  641.82  1589.70   \n",
              "1                1     2  0.0019 -0.0003  100.0  518.67  642.15  1591.82   \n",
              "2                1     3 -0.0043  0.0003  100.0  518.67  642.35  1587.99   \n",
              "3                1     4  0.0007  0.0000  100.0  518.67  642.35  1582.79   \n",
              "4                1     5 -0.0019 -0.0002  100.0  518.67  642.37  1582.85   \n",
              "...            ...   ...     ...     ...    ...     ...     ...      ...   \n",
              "20626          100   196 -0.0004 -0.0003  100.0  518.67  643.49  1597.98   \n",
              "20627          100   197 -0.0016 -0.0005  100.0  518.67  643.54  1604.50   \n",
              "20628          100   198  0.0004  0.0000  100.0  518.67  643.42  1602.46   \n",
              "20629          100   199 -0.0011  0.0003  100.0  518.67  643.23  1605.26   \n",
              "20630          100   200 -0.0032 -0.0005  100.0  518.67  643.85  1600.38   \n",
              "\n",
              "           s_3    s_4  ...    s_11     s_12     s_13    s_14  s_15  s_16  \\\n",
              "0      1400.60  14.62  ...  521.66  2388.02  8138.62  8.4195  0.03   392   \n",
              "1      1403.14  14.62  ...  522.28  2388.07  8131.49  8.4318  0.03   392   \n",
              "2      1404.20  14.62  ...  522.42  2388.03  8133.23  8.4178  0.03   390   \n",
              "3      1401.87  14.62  ...  522.86  2388.08  8133.83  8.3682  0.03   392   \n",
              "4      1406.22  14.62  ...  522.19  2388.04  8133.80  8.4294  0.03   393   \n",
              "...        ...    ...  ...     ...      ...      ...     ...   ...   ...   \n",
              "20626  1428.63  14.62  ...  519.49  2388.26  8137.60  8.4956  0.03   397   \n",
              "20627  1433.58  14.62  ...  519.68  2388.22  8136.50  8.5139  0.03   395   \n",
              "20628  1428.18  14.62  ...  520.01  2388.24  8141.05  8.5646  0.03   398   \n",
              "20629  1426.53  14.62  ...  519.67  2388.23  8139.29  8.5389  0.03   395   \n",
              "20630  1432.14  14.62  ...  519.30  2388.26  8137.33  8.5036  0.03   396   \n",
              "\n",
              "       s_17   s_18   s_19     s_20  \n",
              "0      2388  100.0  39.06  23.4190  \n",
              "1      2388  100.0  39.00  23.4236  \n",
              "2      2388  100.0  38.95  23.3442  \n",
              "3      2388  100.0  38.88  23.3739  \n",
              "4      2388  100.0  38.90  23.4044  \n",
              "...     ...    ...    ...      ...  \n",
              "20626  2388  100.0  38.49  22.9735  \n",
              "20627  2388  100.0  38.30  23.1594  \n",
              "20628  2388  100.0  38.44  22.9333  \n",
              "20629  2388  100.0  38.29  23.0640  \n",
              "20630  2388  100.0  38.37  23.0522  \n",
              "\n",
              "[20631 rows x 26 columns]"
            ],
            "text/html": [
              "\n",
              "  <div id=\"df-4ad33733-b2b2-4a2b-aa8c-883be410d738\">\n",
              "    <div class=\"colab-df-container\">\n",
              "      <div>\n",
              "<style scoped>\n",
              "    .dataframe tbody tr th:only-of-type {\n",
              "        vertical-align: middle;\n",
              "    }\n",
              "\n",
              "    .dataframe tbody tr th {\n",
              "        vertical-align: top;\n",
              "    }\n",
              "\n",
              "    .dataframe thead th {\n",
              "        text-align: right;\n",
              "    }\n",
              "</style>\n",
              "<table border=\"1\" class=\"dataframe\">\n",
              "  <thead>\n",
              "    <tr style=\"text-align: right;\">\n",
              "      <th></th>\n",
              "      <th>unit_number</th>\n",
              "      <th>time</th>\n",
              "      <th>op_1</th>\n",
              "      <th>op_2</th>\n",
              "      <th>op_3</th>\n",
              "      <th>s_0</th>\n",
              "      <th>s_1</th>\n",
              "      <th>s_2</th>\n",
              "      <th>s_3</th>\n",
              "      <th>s_4</th>\n",
              "      <th>...</th>\n",
              "      <th>s_11</th>\n",
              "      <th>s_12</th>\n",
              "      <th>s_13</th>\n",
              "      <th>s_14</th>\n",
              "      <th>s_15</th>\n",
              "      <th>s_16</th>\n",
              "      <th>s_17</th>\n",
              "      <th>s_18</th>\n",
              "      <th>s_19</th>\n",
              "      <th>s_20</th>\n",
              "    </tr>\n",
              "  </thead>\n",
              "  <tbody>\n",
              "    <tr>\n",
              "      <th>0</th>\n",
              "      <td>1</td>\n",
              "      <td>1</td>\n",
              "      <td>-0.0007</td>\n",
              "      <td>-0.0004</td>\n",
              "      <td>100.0</td>\n",
              "      <td>518.67</td>\n",
              "      <td>641.82</td>\n",
              "      <td>1589.70</td>\n",
              "      <td>1400.60</td>\n",
              "      <td>14.62</td>\n",
              "      <td>...</td>\n",
              "      <td>521.66</td>\n",
              "      <td>2388.02</td>\n",
              "      <td>8138.62</td>\n",
              "      <td>8.4195</td>\n",
              "      <td>0.03</td>\n",
              "      <td>392</td>\n",
              "      <td>2388</td>\n",
              "      <td>100.0</td>\n",
              "      <td>39.06</td>\n",
              "      <td>23.4190</td>\n",
              "    </tr>\n",
              "    <tr>\n",
              "      <th>1</th>\n",
              "      <td>1</td>\n",
              "      <td>2</td>\n",
              "      <td>0.0019</td>\n",
              "      <td>-0.0003</td>\n",
              "      <td>100.0</td>\n",
              "      <td>518.67</td>\n",
              "      <td>642.15</td>\n",
              "      <td>1591.82</td>\n",
              "      <td>1403.14</td>\n",
              "      <td>14.62</td>\n",
              "      <td>...</td>\n",
              "      <td>522.28</td>\n",
              "      <td>2388.07</td>\n",
              "      <td>8131.49</td>\n",
              "      <td>8.4318</td>\n",
              "      <td>0.03</td>\n",
              "      <td>392</td>\n",
              "      <td>2388</td>\n",
              "      <td>100.0</td>\n",
              "      <td>39.00</td>\n",
              "      <td>23.4236</td>\n",
              "    </tr>\n",
              "    <tr>\n",
              "      <th>2</th>\n",
              "      <td>1</td>\n",
              "      <td>3</td>\n",
              "      <td>-0.0043</td>\n",
              "      <td>0.0003</td>\n",
              "      <td>100.0</td>\n",
              "      <td>518.67</td>\n",
              "      <td>642.35</td>\n",
              "      <td>1587.99</td>\n",
              "      <td>1404.20</td>\n",
              "      <td>14.62</td>\n",
              "      <td>...</td>\n",
              "      <td>522.42</td>\n",
              "      <td>2388.03</td>\n",
              "      <td>8133.23</td>\n",
              "      <td>8.4178</td>\n",
              "      <td>0.03</td>\n",
              "      <td>390</td>\n",
              "      <td>2388</td>\n",
              "      <td>100.0</td>\n",
              "      <td>38.95</td>\n",
              "      <td>23.3442</td>\n",
              "    </tr>\n",
              "    <tr>\n",
              "      <th>3</th>\n",
              "      <td>1</td>\n",
              "      <td>4</td>\n",
              "      <td>0.0007</td>\n",
              "      <td>0.0000</td>\n",
              "      <td>100.0</td>\n",
              "      <td>518.67</td>\n",
              "      <td>642.35</td>\n",
              "      <td>1582.79</td>\n",
              "      <td>1401.87</td>\n",
              "      <td>14.62</td>\n",
              "      <td>...</td>\n",
              "      <td>522.86</td>\n",
              "      <td>2388.08</td>\n",
              "      <td>8133.83</td>\n",
              "      <td>8.3682</td>\n",
              "      <td>0.03</td>\n",
              "      <td>392</td>\n",
              "      <td>2388</td>\n",
              "      <td>100.0</td>\n",
              "      <td>38.88</td>\n",
              "      <td>23.3739</td>\n",
              "    </tr>\n",
              "    <tr>\n",
              "      <th>4</th>\n",
              "      <td>1</td>\n",
              "      <td>5</td>\n",
              "      <td>-0.0019</td>\n",
              "      <td>-0.0002</td>\n",
              "      <td>100.0</td>\n",
              "      <td>518.67</td>\n",
              "      <td>642.37</td>\n",
              "      <td>1582.85</td>\n",
              "      <td>1406.22</td>\n",
              "      <td>14.62</td>\n",
              "      <td>...</td>\n",
              "      <td>522.19</td>\n",
              "      <td>2388.04</td>\n",
              "      <td>8133.80</td>\n",
              "      <td>8.4294</td>\n",
              "      <td>0.03</td>\n",
              "      <td>393</td>\n",
              "      <td>2388</td>\n",
              "      <td>100.0</td>\n",
              "      <td>38.90</td>\n",
              "      <td>23.4044</td>\n",
              "    </tr>\n",
              "    <tr>\n",
              "      <th>...</th>\n",
              "      <td>...</td>\n",
              "      <td>...</td>\n",
              "      <td>...</td>\n",
              "      <td>...</td>\n",
              "      <td>...</td>\n",
              "      <td>...</td>\n",
              "      <td>...</td>\n",
              "      <td>...</td>\n",
              "      <td>...</td>\n",
              "      <td>...</td>\n",
              "      <td>...</td>\n",
              "      <td>...</td>\n",
              "      <td>...</td>\n",
              "      <td>...</td>\n",
              "      <td>...</td>\n",
              "      <td>...</td>\n",
              "      <td>...</td>\n",
              "      <td>...</td>\n",
              "      <td>...</td>\n",
              "      <td>...</td>\n",
              "      <td>...</td>\n",
              "    </tr>\n",
              "    <tr>\n",
              "      <th>20626</th>\n",
              "      <td>100</td>\n",
              "      <td>196</td>\n",
              "      <td>-0.0004</td>\n",
              "      <td>-0.0003</td>\n",
              "      <td>100.0</td>\n",
              "      <td>518.67</td>\n",
              "      <td>643.49</td>\n",
              "      <td>1597.98</td>\n",
              "      <td>1428.63</td>\n",
              "      <td>14.62</td>\n",
              "      <td>...</td>\n",
              "      <td>519.49</td>\n",
              "      <td>2388.26</td>\n",
              "      <td>8137.60</td>\n",
              "      <td>8.4956</td>\n",
              "      <td>0.03</td>\n",
              "      <td>397</td>\n",
              "      <td>2388</td>\n",
              "      <td>100.0</td>\n",
              "      <td>38.49</td>\n",
              "      <td>22.9735</td>\n",
              "    </tr>\n",
              "    <tr>\n",
              "      <th>20627</th>\n",
              "      <td>100</td>\n",
              "      <td>197</td>\n",
              "      <td>-0.0016</td>\n",
              "      <td>-0.0005</td>\n",
              "      <td>100.0</td>\n",
              "      <td>518.67</td>\n",
              "      <td>643.54</td>\n",
              "      <td>1604.50</td>\n",
              "      <td>1433.58</td>\n",
              "      <td>14.62</td>\n",
              "      <td>...</td>\n",
              "      <td>519.68</td>\n",
              "      <td>2388.22</td>\n",
              "      <td>8136.50</td>\n",
              "      <td>8.5139</td>\n",
              "      <td>0.03</td>\n",
              "      <td>395</td>\n",
              "      <td>2388</td>\n",
              "      <td>100.0</td>\n",
              "      <td>38.30</td>\n",
              "      <td>23.1594</td>\n",
              "    </tr>\n",
              "    <tr>\n",
              "      <th>20628</th>\n",
              "      <td>100</td>\n",
              "      <td>198</td>\n",
              "      <td>0.0004</td>\n",
              "      <td>0.0000</td>\n",
              "      <td>100.0</td>\n",
              "      <td>518.67</td>\n",
              "      <td>643.42</td>\n",
              "      <td>1602.46</td>\n",
              "      <td>1428.18</td>\n",
              "      <td>14.62</td>\n",
              "      <td>...</td>\n",
              "      <td>520.01</td>\n",
              "      <td>2388.24</td>\n",
              "      <td>8141.05</td>\n",
              "      <td>8.5646</td>\n",
              "      <td>0.03</td>\n",
              "      <td>398</td>\n",
              "      <td>2388</td>\n",
              "      <td>100.0</td>\n",
              "      <td>38.44</td>\n",
              "      <td>22.9333</td>\n",
              "    </tr>\n",
              "    <tr>\n",
              "      <th>20629</th>\n",
              "      <td>100</td>\n",
              "      <td>199</td>\n",
              "      <td>-0.0011</td>\n",
              "      <td>0.0003</td>\n",
              "      <td>100.0</td>\n",
              "      <td>518.67</td>\n",
              "      <td>643.23</td>\n",
              "      <td>1605.26</td>\n",
              "      <td>1426.53</td>\n",
              "      <td>14.62</td>\n",
              "      <td>...</td>\n",
              "      <td>519.67</td>\n",
              "      <td>2388.23</td>\n",
              "      <td>8139.29</td>\n",
              "      <td>8.5389</td>\n",
              "      <td>0.03</td>\n",
              "      <td>395</td>\n",
              "      <td>2388</td>\n",
              "      <td>100.0</td>\n",
              "      <td>38.29</td>\n",
              "      <td>23.0640</td>\n",
              "    </tr>\n",
              "    <tr>\n",
              "      <th>20630</th>\n",
              "      <td>100</td>\n",
              "      <td>200</td>\n",
              "      <td>-0.0032</td>\n",
              "      <td>-0.0005</td>\n",
              "      <td>100.0</td>\n",
              "      <td>518.67</td>\n",
              "      <td>643.85</td>\n",
              "      <td>1600.38</td>\n",
              "      <td>1432.14</td>\n",
              "      <td>14.62</td>\n",
              "      <td>...</td>\n",
              "      <td>519.30</td>\n",
              "      <td>2388.26</td>\n",
              "      <td>8137.33</td>\n",
              "      <td>8.5036</td>\n",
              "      <td>0.03</td>\n",
              "      <td>396</td>\n",
              "      <td>2388</td>\n",
              "      <td>100.0</td>\n",
              "      <td>38.37</td>\n",
              "      <td>23.0522</td>\n",
              "    </tr>\n",
              "  </tbody>\n",
              "</table>\n",
              "<p>20631 rows × 26 columns</p>\n",
              "</div>\n",
              "      <button class=\"colab-df-convert\" onclick=\"convertToInteractive('df-4ad33733-b2b2-4a2b-aa8c-883be410d738')\"\n",
              "              title=\"Convert this dataframe to an interactive table.\"\n",
              "              style=\"display:none;\">\n",
              "        \n",
              "  <svg xmlns=\"http://www.w3.org/2000/svg\" height=\"24px\"viewBox=\"0 0 24 24\"\n",
              "       width=\"24px\">\n",
              "    <path d=\"M0 0h24v24H0V0z\" fill=\"none\"/>\n",
              "    <path d=\"M18.56 5.44l.94 2.06.94-2.06 2.06-.94-2.06-.94-.94-2.06-.94 2.06-2.06.94zm-11 1L8.5 8.5l.94-2.06 2.06-.94-2.06-.94L8.5 2.5l-.94 2.06-2.06.94zm10 10l.94 2.06.94-2.06 2.06-.94-2.06-.94-.94-2.06-.94 2.06-2.06.94z\"/><path d=\"M17.41 7.96l-1.37-1.37c-.4-.4-.92-.59-1.43-.59-.52 0-1.04.2-1.43.59L10.3 9.45l-7.72 7.72c-.78.78-.78 2.05 0 2.83L4 21.41c.39.39.9.59 1.41.59.51 0 1.02-.2 1.41-.59l7.78-7.78 2.81-2.81c.8-.78.8-2.07 0-2.86zM5.41 20L4 18.59l7.72-7.72 1.47 1.35L5.41 20z\"/>\n",
              "  </svg>\n",
              "      </button>\n",
              "      \n",
              "  <style>\n",
              "    .colab-df-container {\n",
              "      display:flex;\n",
              "      flex-wrap:wrap;\n",
              "      gap: 12px;\n",
              "    }\n",
              "\n",
              "    .colab-df-convert {\n",
              "      background-color: #E8F0FE;\n",
              "      border: none;\n",
              "      border-radius: 50%;\n",
              "      cursor: pointer;\n",
              "      display: none;\n",
              "      fill: #1967D2;\n",
              "      height: 32px;\n",
              "      padding: 0 0 0 0;\n",
              "      width: 32px;\n",
              "    }\n",
              "\n",
              "    .colab-df-convert:hover {\n",
              "      background-color: #E2EBFA;\n",
              "      box-shadow: 0px 1px 2px rgba(60, 64, 67, 0.3), 0px 1px 3px 1px rgba(60, 64, 67, 0.15);\n",
              "      fill: #174EA6;\n",
              "    }\n",
              "\n",
              "    [theme=dark] .colab-df-convert {\n",
              "      background-color: #3B4455;\n",
              "      fill: #D2E3FC;\n",
              "    }\n",
              "\n",
              "    [theme=dark] .colab-df-convert:hover {\n",
              "      background-color: #434B5C;\n",
              "      box-shadow: 0px 1px 3px 1px rgba(0, 0, 0, 0.15);\n",
              "      filter: drop-shadow(0px 1px 2px rgba(0, 0, 0, 0.3));\n",
              "      fill: #FFFFFF;\n",
              "    }\n",
              "  </style>\n",
              "\n",
              "      <script>\n",
              "        const buttonEl =\n",
              "          document.querySelector('#df-4ad33733-b2b2-4a2b-aa8c-883be410d738 button.colab-df-convert');\n",
              "        buttonEl.style.display =\n",
              "          google.colab.kernel.accessAllowed ? 'block' : 'none';\n",
              "\n",
              "        async function convertToInteractive(key) {\n",
              "          const element = document.querySelector('#df-4ad33733-b2b2-4a2b-aa8c-883be410d738');\n",
              "          const dataTable =\n",
              "            await google.colab.kernel.invokeFunction('convertToInteractive',\n",
              "                                                     [key], {});\n",
              "          if (!dataTable) return;\n",
              "\n",
              "          const docLinkHtml = 'Like what you see? Visit the ' +\n",
              "            '<a target=\"_blank\" href=https://colab.research.google.com/notebooks/data_table.ipynb>data table notebook</a>'\n",
              "            + ' to learn more about interactive tables.';\n",
              "          element.innerHTML = '';\n",
              "          dataTable['output_type'] = 'display_data';\n",
              "          await google.colab.output.renderOutput(dataTable, element);\n",
              "          const docLink = document.createElement('div');\n",
              "          docLink.innerHTML = docLinkHtml;\n",
              "          element.appendChild(docLink);\n",
              "        }\n",
              "      </script>\n",
              "    </div>\n",
              "  </div>\n",
              "  "
            ]
          },
          "metadata": {},
          "execution_count": 13
        }
      ]
    },
    {
      "cell_type": "markdown",
      "source": [
        "## Preprocessing"
      ],
      "metadata": {
        "id": "n7MBDuPasy-s"
      }
    },
    {
      "cell_type": "markdown",
      "source": [
        "### Validation Set"
      ],
      "metadata": {
        "id": "e7-_jqRw3cRa"
      }
    },
    {
      "cell_type": "code",
      "source": [
        "from sklearn.model_selection import GroupShuffleSplit\n",
        "\n",
        "def train_val_split(train):\n",
        "    gss = GroupShuffleSplit(n_splits=1, train_size=0.80, random_state=42)  \n",
        "    for idx_train, idx_val in gss.split(train,groups=train[\"unit_number\"]):\n",
        "        # print('train_split_engines', train.iloc[idx_train]['unit_number'].unique(), '\\n')\n",
        "        # print('validate_split_engines', train.iloc[idx_val]['unit_number'].unique(), '\\n')\n",
        "\n",
        "        df_train = train.iloc[idx_train].copy()\n",
        "        df_val = train.iloc[idx_val].copy()\n",
        "\n",
        "    return df_train, df_val"
      ],
      "metadata": {
        "id": "_FBiCeewvW-E"
      },
      "execution_count": 14,
      "outputs": []
    },
    {
      "cell_type": "code",
      "source": [
        "df_train, df_val = train_val_split(train)"
      ],
      "metadata": {
        "id": "beWX66gdvs0s"
      },
      "execution_count": 15,
      "outputs": []
    },
    {
      "cell_type": "code",
      "source": [
        "X_t_train, y_t_train = proc.X_y_train_divide(df_train)\n",
        "X_t_val, y_t_val = proc.X_y_train_divide(df_val)"
      ],
      "metadata": {
        "id": "0PTNitwkvwE2"
      },
      "execution_count": 16,
      "outputs": []
    },
    {
      "cell_type": "markdown",
      "source": [
        "### Test Set Transformation \n",
        "Test set has samples for all cycles, but has annotations only for last one"
      ],
      "metadata": {
        "id": "QinQ4hWStzHt"
      }
    },
    {
      "cell_type": "code",
      "source": [
        "test.shape, y_test.shape"
      ],
      "metadata": {
        "colab": {
          "base_uri": "https://localhost:8080/"
        },
        "id": "4wtvRNsfuUwg",
        "outputId": "98d2a333-befa-4623-c4c0-94f74b0ab12b"
      },
      "execution_count": 17,
      "outputs": [
        {
          "output_type": "execute_result",
          "data": {
            "text/plain": [
              "((13096, 26), (100, 1))"
            ]
          },
          "metadata": {},
          "execution_count": 17
        }
      ]
    },
    {
      "cell_type": "code",
      "source": [
        "test_last = proc.transform_test(test)\n",
        "test_last.head()"
      ],
      "metadata": {
        "colab": {
          "base_uri": "https://localhost:8080/",
          "height": 300
        },
        "id": "onw4pCwZy-1s",
        "outputId": "38224654-f620-49df-ea77-80a373f353dd"
      },
      "execution_count": 18,
      "outputs": [
        {
          "output_type": "execute_result",
          "data": {
            "text/plain": [
              "      s_0     s_1      s_2      s_3    s_4    s_5     s_6      s_7      s_8  \\\n",
              "0  518.67  642.58  1581.22  1398.91  14.62  21.61  554.42  2388.08  9056.40   \n",
              "1  518.67  642.55  1586.59  1410.83  14.62  21.61  553.52  2388.10  9044.77   \n",
              "2  518.67  642.88  1589.75  1418.89  14.62  21.61  552.59  2388.16  9049.26   \n",
              "3  518.67  642.78  1594.53  1406.88  14.62  21.61  552.64  2388.13  9051.30   \n",
              "4  518.67  642.27  1589.94  1419.36  14.62  21.61  553.29  2388.10  9053.99   \n",
              "\n",
              "   s_9  ...    s_11     s_12     s_13    s_14  s_15  s_16  s_17   s_18   s_19  \\\n",
              "0  1.3  ...  521.79  2388.06  8130.11  8.4024  0.03   393  2388  100.0  38.81   \n",
              "1  1.3  ...  521.74  2388.09  8126.90  8.4505  0.03   391  2388  100.0  38.81   \n",
              "2  1.3  ...  520.83  2388.14  8131.46  8.4119  0.03   395  2388  100.0  38.93   \n",
              "3  1.3  ...  521.88  2388.11  8133.64  8.4634  0.03   395  2388  100.0  38.58   \n",
              "4  1.3  ...  521.00  2388.15  8125.74  8.4362  0.03   394  2388  100.0  38.75   \n",
              "\n",
              "      s_20  \n",
              "0  23.3552  \n",
              "1  23.2618  \n",
              "2  23.2740  \n",
              "3  23.2581  \n",
              "4  23.4117  \n",
              "\n",
              "[5 rows x 21 columns]"
            ],
            "text/html": [
              "\n",
              "  <div id=\"df-c3b82981-a80e-49d2-bf5c-5c0a1af54751\">\n",
              "    <div class=\"colab-df-container\">\n",
              "      <div>\n",
              "<style scoped>\n",
              "    .dataframe tbody tr th:only-of-type {\n",
              "        vertical-align: middle;\n",
              "    }\n",
              "\n",
              "    .dataframe tbody tr th {\n",
              "        vertical-align: top;\n",
              "    }\n",
              "\n",
              "    .dataframe thead th {\n",
              "        text-align: right;\n",
              "    }\n",
              "</style>\n",
              "<table border=\"1\" class=\"dataframe\">\n",
              "  <thead>\n",
              "    <tr style=\"text-align: right;\">\n",
              "      <th></th>\n",
              "      <th>s_0</th>\n",
              "      <th>s_1</th>\n",
              "      <th>s_2</th>\n",
              "      <th>s_3</th>\n",
              "      <th>s_4</th>\n",
              "      <th>s_5</th>\n",
              "      <th>s_6</th>\n",
              "      <th>s_7</th>\n",
              "      <th>s_8</th>\n",
              "      <th>s_9</th>\n",
              "      <th>...</th>\n",
              "      <th>s_11</th>\n",
              "      <th>s_12</th>\n",
              "      <th>s_13</th>\n",
              "      <th>s_14</th>\n",
              "      <th>s_15</th>\n",
              "      <th>s_16</th>\n",
              "      <th>s_17</th>\n",
              "      <th>s_18</th>\n",
              "      <th>s_19</th>\n",
              "      <th>s_20</th>\n",
              "    </tr>\n",
              "  </thead>\n",
              "  <tbody>\n",
              "    <tr>\n",
              "      <th>0</th>\n",
              "      <td>518.67</td>\n",
              "      <td>642.58</td>\n",
              "      <td>1581.22</td>\n",
              "      <td>1398.91</td>\n",
              "      <td>14.62</td>\n",
              "      <td>21.61</td>\n",
              "      <td>554.42</td>\n",
              "      <td>2388.08</td>\n",
              "      <td>9056.40</td>\n",
              "      <td>1.3</td>\n",
              "      <td>...</td>\n",
              "      <td>521.79</td>\n",
              "      <td>2388.06</td>\n",
              "      <td>8130.11</td>\n",
              "      <td>8.4024</td>\n",
              "      <td>0.03</td>\n",
              "      <td>393</td>\n",
              "      <td>2388</td>\n",
              "      <td>100.0</td>\n",
              "      <td>38.81</td>\n",
              "      <td>23.3552</td>\n",
              "    </tr>\n",
              "    <tr>\n",
              "      <th>1</th>\n",
              "      <td>518.67</td>\n",
              "      <td>642.55</td>\n",
              "      <td>1586.59</td>\n",
              "      <td>1410.83</td>\n",
              "      <td>14.62</td>\n",
              "      <td>21.61</td>\n",
              "      <td>553.52</td>\n",
              "      <td>2388.10</td>\n",
              "      <td>9044.77</td>\n",
              "      <td>1.3</td>\n",
              "      <td>...</td>\n",
              "      <td>521.74</td>\n",
              "      <td>2388.09</td>\n",
              "      <td>8126.90</td>\n",
              "      <td>8.4505</td>\n",
              "      <td>0.03</td>\n",
              "      <td>391</td>\n",
              "      <td>2388</td>\n",
              "      <td>100.0</td>\n",
              "      <td>38.81</td>\n",
              "      <td>23.2618</td>\n",
              "    </tr>\n",
              "    <tr>\n",
              "      <th>2</th>\n",
              "      <td>518.67</td>\n",
              "      <td>642.88</td>\n",
              "      <td>1589.75</td>\n",
              "      <td>1418.89</td>\n",
              "      <td>14.62</td>\n",
              "      <td>21.61</td>\n",
              "      <td>552.59</td>\n",
              "      <td>2388.16</td>\n",
              "      <td>9049.26</td>\n",
              "      <td>1.3</td>\n",
              "      <td>...</td>\n",
              "      <td>520.83</td>\n",
              "      <td>2388.14</td>\n",
              "      <td>8131.46</td>\n",
              "      <td>8.4119</td>\n",
              "      <td>0.03</td>\n",
              "      <td>395</td>\n",
              "      <td>2388</td>\n",
              "      <td>100.0</td>\n",
              "      <td>38.93</td>\n",
              "      <td>23.2740</td>\n",
              "    </tr>\n",
              "    <tr>\n",
              "      <th>3</th>\n",
              "      <td>518.67</td>\n",
              "      <td>642.78</td>\n",
              "      <td>1594.53</td>\n",
              "      <td>1406.88</td>\n",
              "      <td>14.62</td>\n",
              "      <td>21.61</td>\n",
              "      <td>552.64</td>\n",
              "      <td>2388.13</td>\n",
              "      <td>9051.30</td>\n",
              "      <td>1.3</td>\n",
              "      <td>...</td>\n",
              "      <td>521.88</td>\n",
              "      <td>2388.11</td>\n",
              "      <td>8133.64</td>\n",
              "      <td>8.4634</td>\n",
              "      <td>0.03</td>\n",
              "      <td>395</td>\n",
              "      <td>2388</td>\n",
              "      <td>100.0</td>\n",
              "      <td>38.58</td>\n",
              "      <td>23.2581</td>\n",
              "    </tr>\n",
              "    <tr>\n",
              "      <th>4</th>\n",
              "      <td>518.67</td>\n",
              "      <td>642.27</td>\n",
              "      <td>1589.94</td>\n",
              "      <td>1419.36</td>\n",
              "      <td>14.62</td>\n",
              "      <td>21.61</td>\n",
              "      <td>553.29</td>\n",
              "      <td>2388.10</td>\n",
              "      <td>9053.99</td>\n",
              "      <td>1.3</td>\n",
              "      <td>...</td>\n",
              "      <td>521.00</td>\n",
              "      <td>2388.15</td>\n",
              "      <td>8125.74</td>\n",
              "      <td>8.4362</td>\n",
              "      <td>0.03</td>\n",
              "      <td>394</td>\n",
              "      <td>2388</td>\n",
              "      <td>100.0</td>\n",
              "      <td>38.75</td>\n",
              "      <td>23.4117</td>\n",
              "    </tr>\n",
              "  </tbody>\n",
              "</table>\n",
              "<p>5 rows × 21 columns</p>\n",
              "</div>\n",
              "      <button class=\"colab-df-convert\" onclick=\"convertToInteractive('df-c3b82981-a80e-49d2-bf5c-5c0a1af54751')\"\n",
              "              title=\"Convert this dataframe to an interactive table.\"\n",
              "              style=\"display:none;\">\n",
              "        \n",
              "  <svg xmlns=\"http://www.w3.org/2000/svg\" height=\"24px\"viewBox=\"0 0 24 24\"\n",
              "       width=\"24px\">\n",
              "    <path d=\"M0 0h24v24H0V0z\" fill=\"none\"/>\n",
              "    <path d=\"M18.56 5.44l.94 2.06.94-2.06 2.06-.94-2.06-.94-.94-2.06-.94 2.06-2.06.94zm-11 1L8.5 8.5l.94-2.06 2.06-.94-2.06-.94L8.5 2.5l-.94 2.06-2.06.94zm10 10l.94 2.06.94-2.06 2.06-.94-2.06-.94-.94-2.06-.94 2.06-2.06.94z\"/><path d=\"M17.41 7.96l-1.37-1.37c-.4-.4-.92-.59-1.43-.59-.52 0-1.04.2-1.43.59L10.3 9.45l-7.72 7.72c-.78.78-.78 2.05 0 2.83L4 21.41c.39.39.9.59 1.41.59.51 0 1.02-.2 1.41-.59l7.78-7.78 2.81-2.81c.8-.78.8-2.07 0-2.86zM5.41 20L4 18.59l7.72-7.72 1.47 1.35L5.41 20z\"/>\n",
              "  </svg>\n",
              "      </button>\n",
              "      \n",
              "  <style>\n",
              "    .colab-df-container {\n",
              "      display:flex;\n",
              "      flex-wrap:wrap;\n",
              "      gap: 12px;\n",
              "    }\n",
              "\n",
              "    .colab-df-convert {\n",
              "      background-color: #E8F0FE;\n",
              "      border: none;\n",
              "      border-radius: 50%;\n",
              "      cursor: pointer;\n",
              "      display: none;\n",
              "      fill: #1967D2;\n",
              "      height: 32px;\n",
              "      padding: 0 0 0 0;\n",
              "      width: 32px;\n",
              "    }\n",
              "\n",
              "    .colab-df-convert:hover {\n",
              "      background-color: #E2EBFA;\n",
              "      box-shadow: 0px 1px 2px rgba(60, 64, 67, 0.3), 0px 1px 3px 1px rgba(60, 64, 67, 0.15);\n",
              "      fill: #174EA6;\n",
              "    }\n",
              "\n",
              "    [theme=dark] .colab-df-convert {\n",
              "      background-color: #3B4455;\n",
              "      fill: #D2E3FC;\n",
              "    }\n",
              "\n",
              "    [theme=dark] .colab-df-convert:hover {\n",
              "      background-color: #434B5C;\n",
              "      box-shadow: 0px 1px 3px 1px rgba(0, 0, 0, 0.15);\n",
              "      filter: drop-shadow(0px 1px 2px rgba(0, 0, 0, 0.3));\n",
              "      fill: #FFFFFF;\n",
              "    }\n",
              "  </style>\n",
              "\n",
              "      <script>\n",
              "        const buttonEl =\n",
              "          document.querySelector('#df-c3b82981-a80e-49d2-bf5c-5c0a1af54751 button.colab-df-convert');\n",
              "        buttonEl.style.display =\n",
              "          google.colab.kernel.accessAllowed ? 'block' : 'none';\n",
              "\n",
              "        async function convertToInteractive(key) {\n",
              "          const element = document.querySelector('#df-c3b82981-a80e-49d2-bf5c-5c0a1af54751');\n",
              "          const dataTable =\n",
              "            await google.colab.kernel.invokeFunction('convertToInteractive',\n",
              "                                                     [key], {});\n",
              "          if (!dataTable) return;\n",
              "\n",
              "          const docLinkHtml = 'Like what you see? Visit the ' +\n",
              "            '<a target=\"_blank\" href=https://colab.research.google.com/notebooks/data_table.ipynb>data table notebook</a>'\n",
              "            + ' to learn more about interactive tables.';\n",
              "          element.innerHTML = '';\n",
              "          dataTable['output_type'] = 'display_data';\n",
              "          await google.colab.output.renderOutput(dataTable, element);\n",
              "          const docLink = document.createElement('div');\n",
              "          docLink.innerHTML = docLinkHtml;\n",
              "          element.appendChild(docLink);\n",
              "        }\n",
              "      </script>\n",
              "    </div>\n",
              "  </div>\n",
              "  "
            ]
          },
          "metadata": {},
          "execution_count": 18
        }
      ]
    },
    {
      "cell_type": "code",
      "source": [
        "X_test = test_last"
      ],
      "metadata": {
        "id": "ar3xxOQvIbHW"
      },
      "execution_count": 19,
      "outputs": []
    },
    {
      "cell_type": "markdown",
      "source": [
        "### Remaining Useful Life (RUL)"
      ],
      "metadata": {
        "id": "boZqFQNlraCh"
      }
    },
    {
      "cell_type": "code",
      "source": [
        "train = proc.add_remaining_useful_life_linear(train)\n",
        "train[index_cols+['RUL']].head()"
      ],
      "metadata": {
        "colab": {
          "base_uri": "https://localhost:8080/",
          "height": 270
        },
        "id": "lmFKjQaeip1b",
        "outputId": "f1b7f9ba-0c52-4bd6-949b-02ccdbf6085a"
      },
      "execution_count": 20,
      "outputs": [
        {
          "output_type": "execute_result",
          "data": {
            "text/plain": [
              "   unit_number  time  RUL\n",
              "0            1     1  191\n",
              "1            1     2  190\n",
              "2            1     3  189\n",
              "3            1     4  188\n",
              "4            1     5  187"
            ],
            "text/html": [
              "\n",
              "  <div id=\"df-c6b22228-d8c2-45ed-a4ae-3899d670eaf6\">\n",
              "    <div class=\"colab-df-container\">\n",
              "      <div>\n",
              "<style scoped>\n",
              "    .dataframe tbody tr th:only-of-type {\n",
              "        vertical-align: middle;\n",
              "    }\n",
              "\n",
              "    .dataframe tbody tr th {\n",
              "        vertical-align: top;\n",
              "    }\n",
              "\n",
              "    .dataframe thead th {\n",
              "        text-align: right;\n",
              "    }\n",
              "</style>\n",
              "<table border=\"1\" class=\"dataframe\">\n",
              "  <thead>\n",
              "    <tr style=\"text-align: right;\">\n",
              "      <th></th>\n",
              "      <th>unit_number</th>\n",
              "      <th>time</th>\n",
              "      <th>RUL</th>\n",
              "    </tr>\n",
              "  </thead>\n",
              "  <tbody>\n",
              "    <tr>\n",
              "      <th>0</th>\n",
              "      <td>1</td>\n",
              "      <td>1</td>\n",
              "      <td>191</td>\n",
              "    </tr>\n",
              "    <tr>\n",
              "      <th>1</th>\n",
              "      <td>1</td>\n",
              "      <td>2</td>\n",
              "      <td>190</td>\n",
              "    </tr>\n",
              "    <tr>\n",
              "      <th>2</th>\n",
              "      <td>1</td>\n",
              "      <td>3</td>\n",
              "      <td>189</td>\n",
              "    </tr>\n",
              "    <tr>\n",
              "      <th>3</th>\n",
              "      <td>1</td>\n",
              "      <td>4</td>\n",
              "      <td>188</td>\n",
              "    </tr>\n",
              "    <tr>\n",
              "      <th>4</th>\n",
              "      <td>1</td>\n",
              "      <td>5</td>\n",
              "      <td>187</td>\n",
              "    </tr>\n",
              "  </tbody>\n",
              "</table>\n",
              "</div>\n",
              "      <button class=\"colab-df-convert\" onclick=\"convertToInteractive('df-c6b22228-d8c2-45ed-a4ae-3899d670eaf6')\"\n",
              "              title=\"Convert this dataframe to an interactive table.\"\n",
              "              style=\"display:none;\">\n",
              "        \n",
              "  <svg xmlns=\"http://www.w3.org/2000/svg\" height=\"24px\"viewBox=\"0 0 24 24\"\n",
              "       width=\"24px\">\n",
              "    <path d=\"M0 0h24v24H0V0z\" fill=\"none\"/>\n",
              "    <path d=\"M18.56 5.44l.94 2.06.94-2.06 2.06-.94-2.06-.94-.94-2.06-.94 2.06-2.06.94zm-11 1L8.5 8.5l.94-2.06 2.06-.94-2.06-.94L8.5 2.5l-.94 2.06-2.06.94zm10 10l.94 2.06.94-2.06 2.06-.94-2.06-.94-.94-2.06-.94 2.06-2.06.94z\"/><path d=\"M17.41 7.96l-1.37-1.37c-.4-.4-.92-.59-1.43-.59-.52 0-1.04.2-1.43.59L10.3 9.45l-7.72 7.72c-.78.78-.78 2.05 0 2.83L4 21.41c.39.39.9.59 1.41.59.51 0 1.02-.2 1.41-.59l7.78-7.78 2.81-2.81c.8-.78.8-2.07 0-2.86zM5.41 20L4 18.59l7.72-7.72 1.47 1.35L5.41 20z\"/>\n",
              "  </svg>\n",
              "      </button>\n",
              "      \n",
              "  <style>\n",
              "    .colab-df-container {\n",
              "      display:flex;\n",
              "      flex-wrap:wrap;\n",
              "      gap: 12px;\n",
              "    }\n",
              "\n",
              "    .colab-df-convert {\n",
              "      background-color: #E8F0FE;\n",
              "      border: none;\n",
              "      border-radius: 50%;\n",
              "      cursor: pointer;\n",
              "      display: none;\n",
              "      fill: #1967D2;\n",
              "      height: 32px;\n",
              "      padding: 0 0 0 0;\n",
              "      width: 32px;\n",
              "    }\n",
              "\n",
              "    .colab-df-convert:hover {\n",
              "      background-color: #E2EBFA;\n",
              "      box-shadow: 0px 1px 2px rgba(60, 64, 67, 0.3), 0px 1px 3px 1px rgba(60, 64, 67, 0.15);\n",
              "      fill: #174EA6;\n",
              "    }\n",
              "\n",
              "    [theme=dark] .colab-df-convert {\n",
              "      background-color: #3B4455;\n",
              "      fill: #D2E3FC;\n",
              "    }\n",
              "\n",
              "    [theme=dark] .colab-df-convert:hover {\n",
              "      background-color: #434B5C;\n",
              "      box-shadow: 0px 1px 3px 1px rgba(0, 0, 0, 0.15);\n",
              "      filter: drop-shadow(0px 1px 2px rgba(0, 0, 0, 0.3));\n",
              "      fill: #FFFFFF;\n",
              "    }\n",
              "  </style>\n",
              "\n",
              "      <script>\n",
              "        const buttonEl =\n",
              "          document.querySelector('#df-c6b22228-d8c2-45ed-a4ae-3899d670eaf6 button.colab-df-convert');\n",
              "        buttonEl.style.display =\n",
              "          google.colab.kernel.accessAllowed ? 'block' : 'none';\n",
              "\n",
              "        async function convertToInteractive(key) {\n",
              "          const element = document.querySelector('#df-c6b22228-d8c2-45ed-a4ae-3899d670eaf6');\n",
              "          const dataTable =\n",
              "            await google.colab.kernel.invokeFunction('convertToInteractive',\n",
              "                                                     [key], {});\n",
              "          if (!dataTable) return;\n",
              "\n",
              "          const docLinkHtml = 'Like what you see? Visit the ' +\n",
              "            '<a target=\"_blank\" href=https://colab.research.google.com/notebooks/data_table.ipynb>data table notebook</a>'\n",
              "            + ' to learn more about interactive tables.';\n",
              "          element.innerHTML = '';\n",
              "          dataTable['output_type'] = 'display_data';\n",
              "          await google.colab.output.renderOutput(dataTable, element);\n",
              "          const docLink = document.createElement('div');\n",
              "          docLink.innerHTML = docLinkHtml;\n",
              "          element.appendChild(docLink);\n",
              "        }\n",
              "      </script>\n",
              "    </div>\n",
              "  </div>\n",
              "  "
            ]
          },
          "metadata": {},
          "execution_count": 20
        }
      ]
    },
    {
      "cell_type": "markdown",
      "source": [
        "## Attributes and target separation"
      ],
      "metadata": {
        "id": "IIXnBTkfxpCf"
      }
    },
    {
      "cell_type": "code",
      "source": [
        "X_train, y_train = proc.X_y_train_divide(train)"
      ],
      "metadata": {
        "id": "4SzUk6ZLxv6H"
      },
      "execution_count": 21,
      "outputs": []
    },
    {
      "cell_type": "code",
      "source": [
        "y_train.head()"
      ],
      "metadata": {
        "colab": {
          "base_uri": "https://localhost:8080/",
          "height": 270
        },
        "id": "fuAnHn4GxzwM",
        "outputId": "f111bdbe-8267-44ef-9573-8661ea38ecc3"
      },
      "execution_count": 22,
      "outputs": [
        {
          "output_type": "execute_result",
          "data": {
            "text/plain": [
              "   RUL\n",
              "0  191\n",
              "1  190\n",
              "2  189\n",
              "3  188\n",
              "4  187"
            ],
            "text/html": [
              "\n",
              "  <div id=\"df-11b8a8bb-b379-4c5c-8361-52f401e0ccb6\">\n",
              "    <div class=\"colab-df-container\">\n",
              "      <div>\n",
              "<style scoped>\n",
              "    .dataframe tbody tr th:only-of-type {\n",
              "        vertical-align: middle;\n",
              "    }\n",
              "\n",
              "    .dataframe tbody tr th {\n",
              "        vertical-align: top;\n",
              "    }\n",
              "\n",
              "    .dataframe thead th {\n",
              "        text-align: right;\n",
              "    }\n",
              "</style>\n",
              "<table border=\"1\" class=\"dataframe\">\n",
              "  <thead>\n",
              "    <tr style=\"text-align: right;\">\n",
              "      <th></th>\n",
              "      <th>RUL</th>\n",
              "    </tr>\n",
              "  </thead>\n",
              "  <tbody>\n",
              "    <tr>\n",
              "      <th>0</th>\n",
              "      <td>191</td>\n",
              "    </tr>\n",
              "    <tr>\n",
              "      <th>1</th>\n",
              "      <td>190</td>\n",
              "    </tr>\n",
              "    <tr>\n",
              "      <th>2</th>\n",
              "      <td>189</td>\n",
              "    </tr>\n",
              "    <tr>\n",
              "      <th>3</th>\n",
              "      <td>188</td>\n",
              "    </tr>\n",
              "    <tr>\n",
              "      <th>4</th>\n",
              "      <td>187</td>\n",
              "    </tr>\n",
              "  </tbody>\n",
              "</table>\n",
              "</div>\n",
              "      <button class=\"colab-df-convert\" onclick=\"convertToInteractive('df-11b8a8bb-b379-4c5c-8361-52f401e0ccb6')\"\n",
              "              title=\"Convert this dataframe to an interactive table.\"\n",
              "              style=\"display:none;\">\n",
              "        \n",
              "  <svg xmlns=\"http://www.w3.org/2000/svg\" height=\"24px\"viewBox=\"0 0 24 24\"\n",
              "       width=\"24px\">\n",
              "    <path d=\"M0 0h24v24H0V0z\" fill=\"none\"/>\n",
              "    <path d=\"M18.56 5.44l.94 2.06.94-2.06 2.06-.94-2.06-.94-.94-2.06-.94 2.06-2.06.94zm-11 1L8.5 8.5l.94-2.06 2.06-.94-2.06-.94L8.5 2.5l-.94 2.06-2.06.94zm10 10l.94 2.06.94-2.06 2.06-.94-2.06-.94-.94-2.06-.94 2.06-2.06.94z\"/><path d=\"M17.41 7.96l-1.37-1.37c-.4-.4-.92-.59-1.43-.59-.52 0-1.04.2-1.43.59L10.3 9.45l-7.72 7.72c-.78.78-.78 2.05 0 2.83L4 21.41c.39.39.9.59 1.41.59.51 0 1.02-.2 1.41-.59l7.78-7.78 2.81-2.81c.8-.78.8-2.07 0-2.86zM5.41 20L4 18.59l7.72-7.72 1.47 1.35L5.41 20z\"/>\n",
              "  </svg>\n",
              "      </button>\n",
              "      \n",
              "  <style>\n",
              "    .colab-df-container {\n",
              "      display:flex;\n",
              "      flex-wrap:wrap;\n",
              "      gap: 12px;\n",
              "    }\n",
              "\n",
              "    .colab-df-convert {\n",
              "      background-color: #E8F0FE;\n",
              "      border: none;\n",
              "      border-radius: 50%;\n",
              "      cursor: pointer;\n",
              "      display: none;\n",
              "      fill: #1967D2;\n",
              "      height: 32px;\n",
              "      padding: 0 0 0 0;\n",
              "      width: 32px;\n",
              "    }\n",
              "\n",
              "    .colab-df-convert:hover {\n",
              "      background-color: #E2EBFA;\n",
              "      box-shadow: 0px 1px 2px rgba(60, 64, 67, 0.3), 0px 1px 3px 1px rgba(60, 64, 67, 0.15);\n",
              "      fill: #174EA6;\n",
              "    }\n",
              "\n",
              "    [theme=dark] .colab-df-convert {\n",
              "      background-color: #3B4455;\n",
              "      fill: #D2E3FC;\n",
              "    }\n",
              "\n",
              "    [theme=dark] .colab-df-convert:hover {\n",
              "      background-color: #434B5C;\n",
              "      box-shadow: 0px 1px 3px 1px rgba(0, 0, 0, 0.15);\n",
              "      filter: drop-shadow(0px 1px 2px rgba(0, 0, 0, 0.3));\n",
              "      fill: #FFFFFF;\n",
              "    }\n",
              "  </style>\n",
              "\n",
              "      <script>\n",
              "        const buttonEl =\n",
              "          document.querySelector('#df-11b8a8bb-b379-4c5c-8361-52f401e0ccb6 button.colab-df-convert');\n",
              "        buttonEl.style.display =\n",
              "          google.colab.kernel.accessAllowed ? 'block' : 'none';\n",
              "\n",
              "        async function convertToInteractive(key) {\n",
              "          const element = document.querySelector('#df-11b8a8bb-b379-4c5c-8361-52f401e0ccb6');\n",
              "          const dataTable =\n",
              "            await google.colab.kernel.invokeFunction('convertToInteractive',\n",
              "                                                     [key], {});\n",
              "          if (!dataTable) return;\n",
              "\n",
              "          const docLinkHtml = 'Like what you see? Visit the ' +\n",
              "            '<a target=\"_blank\" href=https://colab.research.google.com/notebooks/data_table.ipynb>data table notebook</a>'\n",
              "            + ' to learn more about interactive tables.';\n",
              "          element.innerHTML = '';\n",
              "          dataTable['output_type'] = 'display_data';\n",
              "          await google.colab.output.renderOutput(dataTable, element);\n",
              "          const docLink = document.createElement('div');\n",
              "          docLink.innerHTML = docLinkHtml;\n",
              "          element.appendChild(docLink);\n",
              "        }\n",
              "      </script>\n",
              "    </div>\n",
              "  </div>\n",
              "  "
            ]
          },
          "metadata": {},
          "execution_count": 22
        }
      ]
    },
    {
      "cell_type": "code",
      "source": [
        "X_train.head()"
      ],
      "metadata": {
        "colab": {
          "base_uri": "https://localhost:8080/",
          "height": 300
        },
        "id": "26hK4VWkx1R7",
        "outputId": "29800354-2578-45e7-a387-8a6386b7b383"
      },
      "execution_count": 23,
      "outputs": [
        {
          "output_type": "execute_result",
          "data": {
            "text/plain": [
              "      s_0     s_1      s_2      s_3    s_4    s_5     s_6      s_7      s_8  \\\n",
              "0  518.67  641.82  1589.70  1400.60  14.62  21.61  554.36  2388.06  9046.19   \n",
              "1  518.67  642.15  1591.82  1403.14  14.62  21.61  553.75  2388.04  9044.07   \n",
              "2  518.67  642.35  1587.99  1404.20  14.62  21.61  554.26  2388.08  9052.94   \n",
              "3  518.67  642.35  1582.79  1401.87  14.62  21.61  554.45  2388.11  9049.48   \n",
              "4  518.67  642.37  1582.85  1406.22  14.62  21.61  554.00  2388.06  9055.15   \n",
              "\n",
              "   s_9  ...    s_11     s_12     s_13    s_14  s_15  s_16  s_17   s_18   s_19  \\\n",
              "0  1.3  ...  521.66  2388.02  8138.62  8.4195  0.03   392  2388  100.0  39.06   \n",
              "1  1.3  ...  522.28  2388.07  8131.49  8.4318  0.03   392  2388  100.0  39.00   \n",
              "2  1.3  ...  522.42  2388.03  8133.23  8.4178  0.03   390  2388  100.0  38.95   \n",
              "3  1.3  ...  522.86  2388.08  8133.83  8.3682  0.03   392  2388  100.0  38.88   \n",
              "4  1.3  ...  522.19  2388.04  8133.80  8.4294  0.03   393  2388  100.0  38.90   \n",
              "\n",
              "      s_20  \n",
              "0  23.4190  \n",
              "1  23.4236  \n",
              "2  23.3442  \n",
              "3  23.3739  \n",
              "4  23.4044  \n",
              "\n",
              "[5 rows x 21 columns]"
            ],
            "text/html": [
              "\n",
              "  <div id=\"df-6ffc74a2-ad51-41c4-b302-77900886ab07\">\n",
              "    <div class=\"colab-df-container\">\n",
              "      <div>\n",
              "<style scoped>\n",
              "    .dataframe tbody tr th:only-of-type {\n",
              "        vertical-align: middle;\n",
              "    }\n",
              "\n",
              "    .dataframe tbody tr th {\n",
              "        vertical-align: top;\n",
              "    }\n",
              "\n",
              "    .dataframe thead th {\n",
              "        text-align: right;\n",
              "    }\n",
              "</style>\n",
              "<table border=\"1\" class=\"dataframe\">\n",
              "  <thead>\n",
              "    <tr style=\"text-align: right;\">\n",
              "      <th></th>\n",
              "      <th>s_0</th>\n",
              "      <th>s_1</th>\n",
              "      <th>s_2</th>\n",
              "      <th>s_3</th>\n",
              "      <th>s_4</th>\n",
              "      <th>s_5</th>\n",
              "      <th>s_6</th>\n",
              "      <th>s_7</th>\n",
              "      <th>s_8</th>\n",
              "      <th>s_9</th>\n",
              "      <th>...</th>\n",
              "      <th>s_11</th>\n",
              "      <th>s_12</th>\n",
              "      <th>s_13</th>\n",
              "      <th>s_14</th>\n",
              "      <th>s_15</th>\n",
              "      <th>s_16</th>\n",
              "      <th>s_17</th>\n",
              "      <th>s_18</th>\n",
              "      <th>s_19</th>\n",
              "      <th>s_20</th>\n",
              "    </tr>\n",
              "  </thead>\n",
              "  <tbody>\n",
              "    <tr>\n",
              "      <th>0</th>\n",
              "      <td>518.67</td>\n",
              "      <td>641.82</td>\n",
              "      <td>1589.70</td>\n",
              "      <td>1400.60</td>\n",
              "      <td>14.62</td>\n",
              "      <td>21.61</td>\n",
              "      <td>554.36</td>\n",
              "      <td>2388.06</td>\n",
              "      <td>9046.19</td>\n",
              "      <td>1.3</td>\n",
              "      <td>...</td>\n",
              "      <td>521.66</td>\n",
              "      <td>2388.02</td>\n",
              "      <td>8138.62</td>\n",
              "      <td>8.4195</td>\n",
              "      <td>0.03</td>\n",
              "      <td>392</td>\n",
              "      <td>2388</td>\n",
              "      <td>100.0</td>\n",
              "      <td>39.06</td>\n",
              "      <td>23.4190</td>\n",
              "    </tr>\n",
              "    <tr>\n",
              "      <th>1</th>\n",
              "      <td>518.67</td>\n",
              "      <td>642.15</td>\n",
              "      <td>1591.82</td>\n",
              "      <td>1403.14</td>\n",
              "      <td>14.62</td>\n",
              "      <td>21.61</td>\n",
              "      <td>553.75</td>\n",
              "      <td>2388.04</td>\n",
              "      <td>9044.07</td>\n",
              "      <td>1.3</td>\n",
              "      <td>...</td>\n",
              "      <td>522.28</td>\n",
              "      <td>2388.07</td>\n",
              "      <td>8131.49</td>\n",
              "      <td>8.4318</td>\n",
              "      <td>0.03</td>\n",
              "      <td>392</td>\n",
              "      <td>2388</td>\n",
              "      <td>100.0</td>\n",
              "      <td>39.00</td>\n",
              "      <td>23.4236</td>\n",
              "    </tr>\n",
              "    <tr>\n",
              "      <th>2</th>\n",
              "      <td>518.67</td>\n",
              "      <td>642.35</td>\n",
              "      <td>1587.99</td>\n",
              "      <td>1404.20</td>\n",
              "      <td>14.62</td>\n",
              "      <td>21.61</td>\n",
              "      <td>554.26</td>\n",
              "      <td>2388.08</td>\n",
              "      <td>9052.94</td>\n",
              "      <td>1.3</td>\n",
              "      <td>...</td>\n",
              "      <td>522.42</td>\n",
              "      <td>2388.03</td>\n",
              "      <td>8133.23</td>\n",
              "      <td>8.4178</td>\n",
              "      <td>0.03</td>\n",
              "      <td>390</td>\n",
              "      <td>2388</td>\n",
              "      <td>100.0</td>\n",
              "      <td>38.95</td>\n",
              "      <td>23.3442</td>\n",
              "    </tr>\n",
              "    <tr>\n",
              "      <th>3</th>\n",
              "      <td>518.67</td>\n",
              "      <td>642.35</td>\n",
              "      <td>1582.79</td>\n",
              "      <td>1401.87</td>\n",
              "      <td>14.62</td>\n",
              "      <td>21.61</td>\n",
              "      <td>554.45</td>\n",
              "      <td>2388.11</td>\n",
              "      <td>9049.48</td>\n",
              "      <td>1.3</td>\n",
              "      <td>...</td>\n",
              "      <td>522.86</td>\n",
              "      <td>2388.08</td>\n",
              "      <td>8133.83</td>\n",
              "      <td>8.3682</td>\n",
              "      <td>0.03</td>\n",
              "      <td>392</td>\n",
              "      <td>2388</td>\n",
              "      <td>100.0</td>\n",
              "      <td>38.88</td>\n",
              "      <td>23.3739</td>\n",
              "    </tr>\n",
              "    <tr>\n",
              "      <th>4</th>\n",
              "      <td>518.67</td>\n",
              "      <td>642.37</td>\n",
              "      <td>1582.85</td>\n",
              "      <td>1406.22</td>\n",
              "      <td>14.62</td>\n",
              "      <td>21.61</td>\n",
              "      <td>554.00</td>\n",
              "      <td>2388.06</td>\n",
              "      <td>9055.15</td>\n",
              "      <td>1.3</td>\n",
              "      <td>...</td>\n",
              "      <td>522.19</td>\n",
              "      <td>2388.04</td>\n",
              "      <td>8133.80</td>\n",
              "      <td>8.4294</td>\n",
              "      <td>0.03</td>\n",
              "      <td>393</td>\n",
              "      <td>2388</td>\n",
              "      <td>100.0</td>\n",
              "      <td>38.90</td>\n",
              "      <td>23.4044</td>\n",
              "    </tr>\n",
              "  </tbody>\n",
              "</table>\n",
              "<p>5 rows × 21 columns</p>\n",
              "</div>\n",
              "      <button class=\"colab-df-convert\" onclick=\"convertToInteractive('df-6ffc74a2-ad51-41c4-b302-77900886ab07')\"\n",
              "              title=\"Convert this dataframe to an interactive table.\"\n",
              "              style=\"display:none;\">\n",
              "        \n",
              "  <svg xmlns=\"http://www.w3.org/2000/svg\" height=\"24px\"viewBox=\"0 0 24 24\"\n",
              "       width=\"24px\">\n",
              "    <path d=\"M0 0h24v24H0V0z\" fill=\"none\"/>\n",
              "    <path d=\"M18.56 5.44l.94 2.06.94-2.06 2.06-.94-2.06-.94-.94-2.06-.94 2.06-2.06.94zm-11 1L8.5 8.5l.94-2.06 2.06-.94-2.06-.94L8.5 2.5l-.94 2.06-2.06.94zm10 10l.94 2.06.94-2.06 2.06-.94-2.06-.94-.94-2.06-.94 2.06-2.06.94z\"/><path d=\"M17.41 7.96l-1.37-1.37c-.4-.4-.92-.59-1.43-.59-.52 0-1.04.2-1.43.59L10.3 9.45l-7.72 7.72c-.78.78-.78 2.05 0 2.83L4 21.41c.39.39.9.59 1.41.59.51 0 1.02-.2 1.41-.59l7.78-7.78 2.81-2.81c.8-.78.8-2.07 0-2.86zM5.41 20L4 18.59l7.72-7.72 1.47 1.35L5.41 20z\"/>\n",
              "  </svg>\n",
              "      </button>\n",
              "      \n",
              "  <style>\n",
              "    .colab-df-container {\n",
              "      display:flex;\n",
              "      flex-wrap:wrap;\n",
              "      gap: 12px;\n",
              "    }\n",
              "\n",
              "    .colab-df-convert {\n",
              "      background-color: #E8F0FE;\n",
              "      border: none;\n",
              "      border-radius: 50%;\n",
              "      cursor: pointer;\n",
              "      display: none;\n",
              "      fill: #1967D2;\n",
              "      height: 32px;\n",
              "      padding: 0 0 0 0;\n",
              "      width: 32px;\n",
              "    }\n",
              "\n",
              "    .colab-df-convert:hover {\n",
              "      background-color: #E2EBFA;\n",
              "      box-shadow: 0px 1px 2px rgba(60, 64, 67, 0.3), 0px 1px 3px 1px rgba(60, 64, 67, 0.15);\n",
              "      fill: #174EA6;\n",
              "    }\n",
              "\n",
              "    [theme=dark] .colab-df-convert {\n",
              "      background-color: #3B4455;\n",
              "      fill: #D2E3FC;\n",
              "    }\n",
              "\n",
              "    [theme=dark] .colab-df-convert:hover {\n",
              "      background-color: #434B5C;\n",
              "      box-shadow: 0px 1px 3px 1px rgba(0, 0, 0, 0.15);\n",
              "      filter: drop-shadow(0px 1px 2px rgba(0, 0, 0, 0.3));\n",
              "      fill: #FFFFFF;\n",
              "    }\n",
              "  </style>\n",
              "\n",
              "      <script>\n",
              "        const buttonEl =\n",
              "          document.querySelector('#df-6ffc74a2-ad51-41c4-b302-77900886ab07 button.colab-df-convert');\n",
              "        buttonEl.style.display =\n",
              "          google.colab.kernel.accessAllowed ? 'block' : 'none';\n",
              "\n",
              "        async function convertToInteractive(key) {\n",
              "          const element = document.querySelector('#df-6ffc74a2-ad51-41c4-b302-77900886ab07');\n",
              "          const dataTable =\n",
              "            await google.colab.kernel.invokeFunction('convertToInteractive',\n",
              "                                                     [key], {});\n",
              "          if (!dataTable) return;\n",
              "\n",
              "          const docLinkHtml = 'Like what you see? Visit the ' +\n",
              "            '<a target=\"_blank\" href=https://colab.research.google.com/notebooks/data_table.ipynb>data table notebook</a>'\n",
              "            + ' to learn more about interactive tables.';\n",
              "          element.innerHTML = '';\n",
              "          dataTable['output_type'] = 'display_data';\n",
              "          await google.colab.output.renderOutput(dataTable, element);\n",
              "          const docLink = document.createElement('div');\n",
              "          docLink.innerHTML = docLinkHtml;\n",
              "          element.appendChild(docLink);\n",
              "        }\n",
              "      </script>\n",
              "    </div>\n",
              "  </div>\n",
              "  "
            ]
          },
          "metadata": {},
          "execution_count": 23
        }
      ]
    },
    {
      "cell_type": "markdown",
      "source": [
        "## Training and Evaluation functions"
      ],
      "metadata": {
        "id": "fQA-YtFMM81M"
      }
    },
    {
      "cell_type": "code",
      "source": [
        "eval = Evaluation()"
      ],
      "metadata": {
        "id": "u88P6scrNTRu"
      },
      "execution_count": 24,
      "outputs": []
    },
    {
      "cell_type": "code",
      "source": [
        "search = HyperparameterSearch()"
      ],
      "metadata": {
        "id": "OUcS61OqPFhp"
      },
      "execution_count": 25,
      "outputs": []
    },
    {
      "cell_type": "markdown",
      "source": [
        "# MLP Construction"
      ],
      "metadata": {
        "id": "nTPBH5fg_sFd"
      }
    },
    {
      "cell_type": "markdown",
      "source": [
        "## Callbacks"
      ],
      "metadata": {
        "id": "f3Or3dZbB5Pr"
      }
    },
    {
      "cell_type": "code",
      "source": [
        "# Early Stopping Callback\n",
        "es = tf.keras.callbacks.EarlyStopping(monitor='loss', \n",
        "                                      patience=5, restore_best_weights=True)"
      ],
      "metadata": {
        "id": "E_f33CIB-13t"
      },
      "execution_count": 26,
      "outputs": []
    },
    {
      "cell_type": "code",
      "source": [
        "# Printing Callback\n",
        "def printLog(epoch, logs):\n",
        "    print(\n",
        "        f\"E {epoch+1}\\t: loss={logs['loss']:.3f}, \"+\n",
        "        f\"rmse={logs['root_mean_squared_error']:.3f}, \"+\n",
        "        f\"r2={logs['r_square']:.3f}; \"+\n",
        "        f\"v_loss={logs['val_loss']:.3f}, \"+\n",
        "        f\"v_rmse={logs['val_root_mean_squared_error']:.3f}, \"+\n",
        "        f\"v_r2={logs['val_r_square']:.3f}; \"\n",
        "    )\n",
        "\n",
        "printerCallback = LambdaCallback(on_epoch_end=printLog)"
      ],
      "metadata": {
        "id": "07NuyHHfWLZ0"
      },
      "execution_count": 27,
      "outputs": []
    },
    {
      "cell_type": "markdown",
      "source": [
        "## Auxiliary HyperParameters"
      ],
      "metadata": {
        "id": "t18eQ8H3EfGV"
      }
    },
    {
      "cell_type": "code",
      "source": [
        "layer_sizes=[16,32,64,128,256,512]"
      ],
      "metadata": {
        "id": "Ex7mZbQNEfGW"
      },
      "execution_count": 28,
      "outputs": []
    },
    {
      "cell_type": "code",
      "source": [
        "# Exponential Decay Schedules\n",
        "ED1 = ExponentialDecay(initial_learning_rate=1e-2, name=\"ED1\",\n",
        "                       decay_steps=100000, decay_rate=0.96)\n",
        "ED2 = ExponentialDecay(initial_learning_rate=1e-2, name=\"ED2\",\n",
        "                       decay_steps=100000, decay_rate=0.8)\n",
        "ED3 = ExponentialDecay(initial_learning_rate=1e-1, name=\"ED3\",\n",
        "                       decay_steps=100000, decay_rate=0.96)"
      ],
      "metadata": {
        "id": "SPE41-R2EfGX"
      },
      "execution_count": 29,
      "outputs": []
    },
    {
      "cell_type": "code",
      "source": [
        "# Generation of list combinations\n",
        "from itertools import chain, permutations\n",
        "\n",
        "def all_permutations(lst, size):\n",
        "    result = list(chain.from_iterable([permutations(lst, x) for x in range(len(lst)+1)]))\n",
        "    out = []\n",
        "    for r in result:\n",
        "        if (len(r) == size):\n",
        "            out.append(list(r))\n",
        "    return out"
      ],
      "metadata": {
        "id": "a2kynIDbEfGZ"
      },
      "execution_count": 30,
      "outputs": []
    },
    {
      "cell_type": "markdown",
      "source": [
        "## Constants"
      ],
      "metadata": {
        "id": "DvHTMj_9_xss"
      }
    },
    {
      "cell_type": "code",
      "source": [
        "# X_train must include indices\n",
        "train3 = train.copy()\n",
        "X_train_ = train3.drop(columns=[index_cols[1]]+[\"RUL\"])"
      ],
      "metadata": {
        "id": "MmsURACM-Wkq"
      },
      "execution_count": 31,
      "outputs": []
    },
    {
      "cell_type": "code",
      "source": [
        "INPUT_SHAPE = 0"
      ],
      "metadata": {
        "id": "xKy2t3QS8gss"
      },
      "execution_count": 32,
      "outputs": []
    },
    {
      "cell_type": "markdown",
      "source": [
        "## Wrapper"
      ],
      "metadata": {
        "id": "9mjReYMmM08s"
      }
    },
    {
      "cell_type": "code",
      "source": [
        "from sys import is_finalizing\n",
        "from sklearn.metrics import r2_score\n",
        "\n",
        "class MLPWrapperRegressor(BaseEstimator,RegressorMixin):\n",
        "    def __init__(self, basemodel=None, clip_y=50,\n",
        "                 include_settings=False, poly_degree=1,\n",
        "                 scaler=StandardScaler()):\n",
        "        # Base parameters\n",
        "        self.basemodel = basemodel\n",
        "        self.clip_y = clip_y\n",
        "        self.poly_degree = poly_degree\n",
        "        self.include_settings = include_settings\n",
        "\n",
        "        # Column indexers\n",
        "        self.feature_cols = sensors_cols\n",
        "        if(include_settings):\n",
        "            self.feature_cols = settings_cols + self.feature_cols\n",
        "        self.base_feature_cols = self.feature_cols\n",
        "\n",
        "        # Scaler and PolyFeatures transformers\n",
        "        self.scaler = scaler\n",
        "        self.polyft = PolynomialFeatures(degree=self.poly_degree, \n",
        "                                         include_bias=False)\n",
        "\n",
        "    def clean_cols(self,df):\n",
        "        if(\"unit_number\" in df.columns): del df[\"unit_number\"]\n",
        "        if(\"unit_number\" in df.columns): del df[\"unit_number\"]\n",
        "        if(\"time\" in df.columns): del df[\"time\"]\n",
        "        if((not self.include_settings)): \n",
        "            for col in settings_cols:\n",
        "                if(col in df.columns): del df[col]\n",
        "        return df\n",
        "\n",
        "    def fit(self, X=None, y=None):\n",
        "        # Drop irrelevant column\n",
        "        data = pd.DataFrame(X)\n",
        "        data = self.clean_cols(data)\n",
        "        \n",
        "        # Apply polynomial features and add them to the dataframe\n",
        "        transf = self.polyft.fit_transform(data)\n",
        "        data = pd.DataFrame(transf, columns=\n",
        "                              self.polyft.get_feature_names_out())\n",
        "        self.feature_cols = list(self.polyft.get_feature_names_out())\n",
        "\n",
        "        # Scale the data\n",
        "        data = self.scaler.fit_transform(data)\n",
        "        data = pd.DataFrame(data, \n",
        "                            columns=self.scaler.get_feature_names_out())\n",
        "        X_train = data.copy()\n",
        "        \n",
        "        # Clip and transform labels\n",
        "        data2 = pd.DataFrame(y, columns=[\"RUL\"])\n",
        "        if (self.clip_y > 0):\n",
        "            data2[\"RUL\"].clip(upper=self.clip_y, inplace=True)\n",
        "        y_train = data2\n",
        "\n",
        "        # Update input shape for future use\n",
        "        global INPUT_SHAPE\n",
        "        INPUT_SHAPE = X_train.shape[1]\n",
        "\n",
        "        # Fit model\n",
        "        self.basemodel.fit(X_train,y_train)\n",
        "        return self\n",
        "        \n",
        "    def predict(self, X=None):\n",
        "        # Perform transformation, if not done\n",
        "        if (len(X.columns) != len(self.feature_cols)):\n",
        "            X_train = self.transform_features(X)\n",
        "        else:\n",
        "            X_train = X\n",
        "        return self.basemodel.predict(X_train)\n",
        "\n",
        "    def transform_features(self, df):\n",
        "        # Drop irrelevant column\n",
        "        data = pd.DataFrame(df)\n",
        "        data = self.clean_cols(data)\n",
        "        \n",
        "        # Apply polynomial features and add them to the dataframe\n",
        "        transf = self.polyft.transform(data)\n",
        "        data = pd.DataFrame(transf, columns=\n",
        "                              self.polyft.get_feature_names_out())\n",
        "        # self.feature_cols = list(self.polyft.get_feature_names_out())\n",
        "\n",
        "        # Scale the data\n",
        "        data = self.scaler.transform(data)\n",
        "        data = pd.DataFrame(data, \n",
        "                            columns=self.scaler.get_feature_names_out())\n",
        "        return data\n",
        "\n",
        "    def score(self, X, y, sample_weight=None):\n",
        "        X_test = self.transform_features(X)\n",
        "\n",
        "        # Clip and transform labels\n",
        "        data2 = pd.DataFrame(y, columns=[\"RUL\"])\n",
        "        if (self.clip_y > 0):\n",
        "            data2[\"RUL\"].clip(upper=self.clip_y, inplace=True)\n",
        "        y_test = data2\n",
        "\n",
        "        # Predict on test data\n",
        "        y_pred = self.predict(X_test)\n",
        "        return r2_score(y_test, y_pred, sample_weight=sample_weight)"
      ],
      "metadata": {
        "id": "VhrwfNvEM0eL"
      },
      "execution_count": 33,
      "outputs": []
    },
    {
      "cell_type": "markdown",
      "source": [
        "## Test Data"
      ],
      "metadata": {
        "id": "Z7Z5u9Bu_Q4x"
      }
    },
    {
      "cell_type": "code",
      "source": [
        "def scale_test(test,model):\n",
        "    test2 = pd.DataFrame(test)\n",
        "    test2 = model.clean_cols(test2)\n",
        "\n",
        "    # Apply polynomial features\n",
        "    transf = model.polyft.transform(test2)\n",
        "    test2 = pd.DataFrame(transf, \n",
        "                         columns=model.polyft.get_feature_names_out())\n",
        "\n",
        "    # Scale the data (with train data parameters)\n",
        "    test2 = model.scaler.transform(test2)\n",
        "    test2 = pd.DataFrame(test2, \n",
        "                         columns=model.polyft.get_feature_names_out())\n",
        "    return test2"
      ],
      "metadata": {
        "id": "OFW6XKjG5kCB"
      },
      "execution_count": 34,
      "outputs": []
    },
    {
      "cell_type": "markdown",
      "source": [
        "## Constructor"
      ],
      "metadata": {
        "id": "Ha2fY8VlWD7p"
      }
    },
    {
      "cell_type": "code",
      "source": [
        "def create_model(optim=Adam, dropout=0.1, activation=\"tanh\", learning_rate=1e-3, \n",
        "                 layer1=32, layer2=None, layer3=None, layer4=None,\n",
        "                 print_summary=False, loss='mean_squared_error',\n",
        "                 metrics=[tf.keras.metrics.MeanSquaredError()]):\n",
        "    model = Sequential()\n",
        "\n",
        "    # Fully Connected Layer\n",
        "    model.add(Dense(layer1, input_dim=INPUT_SHAPE, activation=activation))\n",
        "    model.add(Dropout(dropout))\n",
        "\n",
        "    # Additional hidden layers\n",
        "    if(layer2 is not None):\n",
        "        model.add(Dense(layer2, activation=activation))\n",
        "        model.add(Dropout(dropout))\n",
        "        if (layer3 is not None):\n",
        "            model.add(Dense(layer3, activation=activation))\n",
        "            model.add(Dropout(dropout))\n",
        "            if (layer4 is not None):\n",
        "                model.add(Dense(layer4, activation=activation))\n",
        "                model.add(Dropout(dropout))\n",
        "\n",
        "    # Output Layer\n",
        "    model.add(Dense(1))\n",
        "\n",
        "    model.compile(loss=loss, optimizer=optim(learning_rate=learning_rate), \n",
        "                  metrics=metrics)\n",
        "    \n",
        "    if(print_summary): model.summary()\n",
        "    return model"
      ],
      "metadata": {
        "id": "YR28IpUT5cm5"
      },
      "execution_count": 35,
      "outputs": []
    },
    {
      "cell_type": "markdown",
      "source": [
        "# HyperParameter Tuning"
      ],
      "metadata": {
        "id": "Jowfppg9HG3R"
      }
    },
    {
      "cell_type": "code",
      "source": [
        "CLIP=-1\n",
        "\n",
        "model = MLPWrapperRegressor(\n",
        "        clip_y=CLIP,scaler=MinMaxScaler(),\n",
        "        basemodel=\n",
        "            KerasRegressor(model=create_model,\n",
        "                           batch_size=64,\n",
        "                           epochs=1,\n",
        "                           validation_split=0.2, \n",
        "                           model__activation='relu',\n",
        "                           model__dropout=0.5, \n",
        "                           model__layer1=512, \n",
        "                        #    model__layer2=64,\n",
        "                        #    model__layer3=64,\n",
        "                        #    model__layer4=64,\n",
        "                           model__learning_rate=0.01,\n",
        "                           model__optim=Adam,\n",
        "                        #    verbose=0, callbacks=[es,printerCallback],\n",
        "                           verbose=0, callbacks=[es],\n",
        "                           model__metrics=[RMSE(), R2()],\n",
        "                           model__loss='mse',\n",
        "                           print_summary=False\n",
        "                           )\n",
        "    )"
      ],
      "metadata": {
        "id": "cxz0nz9mHJ2v"
      },
      "execution_count": 46,
      "outputs": []
    },
    {
      "cell_type": "code",
      "source": [
        "# ~3h (LSTM)\n",
        "# ~45min (MLP)\n",
        "GRID_SEARCH = True\n",
        "if (GRID_SEARCH):\n",
        "    param_distributions = {\n",
        "        \"clip_y\": Integer(80,140),\n",
        "        \"poly_degree\": Categorical([2,3]),\n",
        "        \"scaler\": Categorical([MinMaxScaler(),StandardScaler()]),\n",
        "        \"basemodel__epochs\": Integer(1,50),\n",
        "        \"basemodel__model__activation\": Categorical([\"relu\",\"tanh\", \"sigmoid\"]),\n",
        "        \"basemodel__validation_split\":Real(0.1,0.9),\n",
        "        \"basemodel__batch_size\": Integer(32,512),\n",
        "        \"basemodel__model__optim\":Categorical([Adam,RMSprop]),\n",
        "        \"basemodel__model__learning_rate\": Real(1e-4, 1e-2),\n",
        "        \"basemodel__model__dropout\": Real(0.1,0.9),\n",
        "        \"basemodel__model__layer1\": Integer(16,512),\n",
        "        # \"basemodel__model__layer2\": Integer(16,512),\n",
        "        # \"basemodel__model__layer3\": Integer(16,512)\n",
        "        # \"basemodel__model__layer4\": Integer(16,512)\n",
        "    }\n",
        "    gcv = GroupKFold(n_splits=3)\n",
        "    groups=X_train_['unit_number']\n",
        "    bss = BayesSearchCV(model, param_distributions, verbose=3, n_jobs=1,\n",
        "                        cv=gcv.split(X_train_, groups=groups), n_iter=45)\n",
        "    model = bss.fit(X_train_, y_train)\n",
        "    \n",
        "    print(bss.best_estimator_)\n",
        "    print(\"Finished:\", datetime.datetime.now())"
      ],
      "metadata": {
        "colab": {
          "base_uri": "https://localhost:8080/"
        },
        "id": "OI-MbGPrHsB0",
        "outputId": "c9203aff-2644-4373-a4fb-fa9eb7412578"
      },
      "execution_count": 47,
      "outputs": [
        {
          "output_type": "stream",
          "name": "stdout",
          "text": [
            "Fitting 3 folds for each of 1 candidates, totalling 3 fits\n",
            "[CV 1/3] END basemodel__batch_size=315, basemodel__epochs=47, basemodel__model__activation=relu, basemodel__model__dropout=0.42986008692812916, basemodel__model__layer1=423, basemodel__model__learning_rate=0.00702987468899815, basemodel__model__optim=<class 'keras.optimizer_v2.rmsprop.RMSprop'>, basemodel__validation_split=0.289930261974232, clip_y=95, poly_degree=3, scaler=StandardScaler();, score=0.830 total time=   3.3s\n",
            "[CV 2/3] END basemodel__batch_size=315, basemodel__epochs=47, basemodel__model__activation=relu, basemodel__model__dropout=0.42986008692812916, basemodel__model__layer1=423, basemodel__model__learning_rate=0.00702987468899815, basemodel__model__optim=<class 'keras.optimizer_v2.rmsprop.RMSprop'>, basemodel__validation_split=0.289930261974232, clip_y=95, poly_degree=3, scaler=StandardScaler();, score=0.809 total time=   5.3s\n",
            "[CV 3/3] END basemodel__batch_size=315, basemodel__epochs=47, basemodel__model__activation=relu, basemodel__model__dropout=0.42986008692812916, basemodel__model__layer1=423, basemodel__model__learning_rate=0.00702987468899815, basemodel__model__optim=<class 'keras.optimizer_v2.rmsprop.RMSprop'>, basemodel__validation_split=0.289930261974232, clip_y=95, poly_degree=3, scaler=StandardScaler();, score=0.812 total time=   3.1s\n",
            "Fitting 3 folds for each of 1 candidates, totalling 3 fits\n",
            "[CV 1/3] END basemodel__batch_size=393, basemodel__epochs=33, basemodel__model__activation=sigmoid, basemodel__model__dropout=0.7301771677467084, basemodel__model__layer1=386, basemodel__model__learning_rate=0.008774284379279068, basemodel__model__optim=<class 'keras.optimizer_v2.rmsprop.RMSprop'>, basemodel__validation_split=0.38788344775867856, clip_y=97, poly_degree=2, scaler=StandardScaler();, score=0.892 total time=   4.3s\n",
            "[CV 2/3] END basemodel__batch_size=393, basemodel__epochs=33, basemodel__model__activation=sigmoid, basemodel__model__dropout=0.7301771677467084, basemodel__model__layer1=386, basemodel__model__learning_rate=0.008774284379279068, basemodel__model__optim=<class 'keras.optimizer_v2.rmsprop.RMSprop'>, basemodel__validation_split=0.38788344775867856, clip_y=97, poly_degree=2, scaler=StandardScaler();, score=0.811 total time=   5.8s\n",
            "[CV 3/3] END basemodel__batch_size=393, basemodel__epochs=33, basemodel__model__activation=sigmoid, basemodel__model__dropout=0.7301771677467084, basemodel__model__layer1=386, basemodel__model__learning_rate=0.008774284379279068, basemodel__model__optim=<class 'keras.optimizer_v2.rmsprop.RMSprop'>, basemodel__validation_split=0.38788344775867856, clip_y=97, poly_degree=2, scaler=StandardScaler();, score=0.801 total time=   4.5s\n",
            "Fitting 3 folds for each of 1 candidates, totalling 3 fits\n",
            "[CV 1/3] END basemodel__batch_size=235, basemodel__epochs=16, basemodel__model__activation=sigmoid, basemodel__model__dropout=0.6299615817153466, basemodel__model__layer1=207, basemodel__model__learning_rate=0.0024732551236974353, basemodel__model__optim=<class 'keras.optimizer_v2.adam.Adam'>, basemodel__validation_split=0.15994737556720884, clip_y=106, poly_degree=2, scaler=StandardScaler();, score=0.872 total time=   5.7s\n",
            "[CV 2/3] END basemodel__batch_size=235, basemodel__epochs=16, basemodel__model__activation=sigmoid, basemodel__model__dropout=0.6299615817153466, basemodel__model__layer1=207, basemodel__model__learning_rate=0.0024732551236974353, basemodel__model__optim=<class 'keras.optimizer_v2.adam.Adam'>, basemodel__validation_split=0.15994737556720884, clip_y=106, poly_degree=2, scaler=StandardScaler();, score=0.780 total time=   3.2s\n",
            "[CV 3/3] END basemodel__batch_size=235, basemodel__epochs=16, basemodel__model__activation=sigmoid, basemodel__model__dropout=0.6299615817153466, basemodel__model__layer1=207, basemodel__model__learning_rate=0.0024732551236974353, basemodel__model__optim=<class 'keras.optimizer_v2.adam.Adam'>, basemodel__validation_split=0.15994737556720884, clip_y=106, poly_degree=2, scaler=StandardScaler();, score=0.781 total time=   5.7s\n",
            "Fitting 3 folds for each of 1 candidates, totalling 3 fits\n",
            "[CV 1/3] END basemodel__batch_size=475, basemodel__epochs=29, basemodel__model__activation=tanh, basemodel__model__dropout=0.8528198123778202, basemodel__model__layer1=393, basemodel__model__learning_rate=0.00860496272586623, basemodel__model__optim=<class 'keras.optimizer_v2.adam.Adam'>, basemodel__validation_split=0.4371120375767592, clip_y=94, poly_degree=3, scaler=MinMaxScaler();, score=0.862 total time=   6.0s\n",
            "[CV 2/3] END basemodel__batch_size=475, basemodel__epochs=29, basemodel__model__activation=tanh, basemodel__model__dropout=0.8528198123778202, basemodel__model__layer1=393, basemodel__model__learning_rate=0.00860496272586623, basemodel__model__optim=<class 'keras.optimizer_v2.adam.Adam'>, basemodel__validation_split=0.4371120375767592, clip_y=94, poly_degree=3, scaler=MinMaxScaler();, score=0.783 total time=   2.9s\n",
            "[CV 3/3] END basemodel__batch_size=475, basemodel__epochs=29, basemodel__model__activation=tanh, basemodel__model__dropout=0.8528198123778202, basemodel__model__layer1=393, basemodel__model__learning_rate=0.00860496272586623, basemodel__model__optim=<class 'keras.optimizer_v2.adam.Adam'>, basemodel__validation_split=0.4371120375767592, clip_y=94, poly_degree=3, scaler=MinMaxScaler();, score=0.785 total time=   3.3s\n",
            "Fitting 3 folds for each of 1 candidates, totalling 3 fits\n",
            "[CV 1/3] END basemodel__batch_size=151, basemodel__epochs=6, basemodel__model__activation=sigmoid, basemodel__model__dropout=0.8394803465239095, basemodel__model__layer1=292, basemodel__model__learning_rate=0.008423738418538338, basemodel__model__optim=<class 'keras.optimizer_v2.adam.Adam'>, basemodel__validation_split=0.21267261062437445, clip_y=115, poly_degree=2, scaler=StandardScaler();, score=0.859 total time=   2.4s\n",
            "[CV 2/3] END basemodel__batch_size=151, basemodel__epochs=6, basemodel__model__activation=sigmoid, basemodel__model__dropout=0.8394803465239095, basemodel__model__layer1=292, basemodel__model__learning_rate=0.008423738418538338, basemodel__model__optim=<class 'keras.optimizer_v2.adam.Adam'>, basemodel__validation_split=0.21267261062437445, clip_y=115, poly_degree=2, scaler=StandardScaler();, score=0.774 total time=   3.2s\n",
            "[CV 3/3] END basemodel__batch_size=151, basemodel__epochs=6, basemodel__model__activation=sigmoid, basemodel__model__dropout=0.8394803465239095, basemodel__model__layer1=292, basemodel__model__learning_rate=0.008423738418538338, basemodel__model__optim=<class 'keras.optimizer_v2.adam.Adam'>, basemodel__validation_split=0.21267261062437445, clip_y=115, poly_degree=2, scaler=StandardScaler();, score=0.769 total time=   2.1s\n",
            "Fitting 3 folds for each of 1 candidates, totalling 3 fits\n",
            "[CV 1/3] END basemodel__batch_size=354, basemodel__epochs=11, basemodel__model__activation=tanh, basemodel__model__dropout=0.6742519900673404, basemodel__model__layer1=38, basemodel__model__learning_rate=0.0051056696656403, basemodel__model__optim=<class 'keras.optimizer_v2.rmsprop.RMSprop'>, basemodel__validation_split=0.2897421980439484, clip_y=120, poly_degree=3, scaler=MinMaxScaler();, score=-0.164 total time=   3.2s\n",
            "[CV 2/3] END basemodel__batch_size=354, basemodel__epochs=11, basemodel__model__activation=tanh, basemodel__model__dropout=0.6742519900673404, basemodel__model__layer1=38, basemodel__model__learning_rate=0.0051056696656403, basemodel__model__optim=<class 'keras.optimizer_v2.rmsprop.RMSprop'>, basemodel__validation_split=0.2897421980439484, clip_y=120, poly_degree=3, scaler=MinMaxScaler();, score=-0.190 total time=   3.5s\n",
            "[CV 3/3] END basemodel__batch_size=354, basemodel__epochs=11, basemodel__model__activation=tanh, basemodel__model__dropout=0.6742519900673404, basemodel__model__layer1=38, basemodel__model__learning_rate=0.0051056696656403, basemodel__model__optim=<class 'keras.optimizer_v2.rmsprop.RMSprop'>, basemodel__validation_split=0.2897421980439484, clip_y=120, poly_degree=3, scaler=MinMaxScaler();, score=-0.209 total time=   2.1s\n",
            "Fitting 3 folds for each of 1 candidates, totalling 3 fits\n",
            "[CV 1/3] END basemodel__batch_size=462, basemodel__epochs=23, basemodel__model__activation=sigmoid, basemodel__model__dropout=0.41720978351547167, basemodel__model__layer1=288, basemodel__model__learning_rate=0.00926372715599924, basemodel__model__optim=<class 'keras.optimizer_v2.rmsprop.RMSprop'>, basemodel__validation_split=0.31524065443446425, clip_y=133, poly_degree=2, scaler=MinMaxScaler();, score=0.823 total time=   3.0s\n",
            "[CV 2/3] END basemodel__batch_size=462, basemodel__epochs=23, basemodel__model__activation=sigmoid, basemodel__model__dropout=0.41720978351547167, basemodel__model__layer1=288, basemodel__model__learning_rate=0.00926372715599924, basemodel__model__optim=<class 'keras.optimizer_v2.rmsprop.RMSprop'>, basemodel__validation_split=0.31524065443446425, clip_y=133, poly_degree=2, scaler=MinMaxScaler();, score=0.717 total time=   3.1s\n",
            "[CV 3/3] END basemodel__batch_size=462, basemodel__epochs=23, basemodel__model__activation=sigmoid, basemodel__model__dropout=0.41720978351547167, basemodel__model__layer1=288, basemodel__model__learning_rate=0.00926372715599924, basemodel__model__optim=<class 'keras.optimizer_v2.rmsprop.RMSprop'>, basemodel__validation_split=0.31524065443446425, clip_y=133, poly_degree=2, scaler=MinMaxScaler();, score=0.715 total time=   3.5s\n",
            "Fitting 3 folds for each of 1 candidates, totalling 3 fits\n",
            "[CV 1/3] END basemodel__batch_size=430, basemodel__epochs=21, basemodel__model__activation=relu, basemodel__model__dropout=0.14754237931403227, basemodel__model__layer1=392, basemodel__model__learning_rate=0.00040496753202672893, basemodel__model__optim=<class 'keras.optimizer_v2.adam.Adam'>, basemodel__validation_split=0.5865831800445274, clip_y=115, poly_degree=3, scaler=StandardScaler();, score=-1.367 total time=   2.8s\n",
            "[CV 2/3] END basemodel__batch_size=430, basemodel__epochs=21, basemodel__model__activation=relu, basemodel__model__dropout=0.14754237931403227, basemodel__model__layer1=392, basemodel__model__learning_rate=0.00040496753202672893, basemodel__model__optim=<class 'keras.optimizer_v2.adam.Adam'>, basemodel__validation_split=0.5865831800445274, clip_y=115, poly_degree=3, scaler=StandardScaler();, score=-1.639 total time=   2.9s\n",
            "[CV 3/3] END basemodel__batch_size=430, basemodel__epochs=21, basemodel__model__activation=relu, basemodel__model__dropout=0.14754237931403227, basemodel__model__layer1=392, basemodel__model__learning_rate=0.00040496753202672893, basemodel__model__optim=<class 'keras.optimizer_v2.adam.Adam'>, basemodel__validation_split=0.5865831800445274, clip_y=115, poly_degree=3, scaler=StandardScaler();, score=-1.410 total time=   3.1s\n",
            "Fitting 3 folds for each of 1 candidates, totalling 3 fits\n",
            "[CV 1/3] END basemodel__batch_size=168, basemodel__epochs=42, basemodel__model__activation=sigmoid, basemodel__model__dropout=0.1952207074376186, basemodel__model__layer1=363, basemodel__model__learning_rate=0.004085011362336506, basemodel__model__optim=<class 'keras.optimizer_v2.adam.Adam'>, basemodel__validation_split=0.27282356452070866, clip_y=122, poly_degree=3, scaler=StandardScaler();, score=0.864 total time=   9.4s\n",
            "[CV 2/3] END basemodel__batch_size=168, basemodel__epochs=42, basemodel__model__activation=sigmoid, basemodel__model__dropout=0.1952207074376186, basemodel__model__layer1=363, basemodel__model__learning_rate=0.004085011362336506, basemodel__model__optim=<class 'keras.optimizer_v2.adam.Adam'>, basemodel__validation_split=0.27282356452070866, clip_y=122, poly_degree=3, scaler=StandardScaler();, score=0.769 total time=  10.8s\n",
            "[CV 3/3] END basemodel__batch_size=168, basemodel__epochs=42, basemodel__model__activation=sigmoid, basemodel__model__dropout=0.1952207074376186, basemodel__model__layer1=363, basemodel__model__learning_rate=0.004085011362336506, basemodel__model__optim=<class 'keras.optimizer_v2.adam.Adam'>, basemodel__validation_split=0.27282356452070866, clip_y=122, poly_degree=3, scaler=StandardScaler();, score=0.772 total time=  10.9s\n",
            "Fitting 3 folds for each of 1 candidates, totalling 3 fits\n",
            "[CV 1/3] END basemodel__batch_size=220, basemodel__epochs=24, basemodel__model__activation=tanh, basemodel__model__dropout=0.8810798003067294, basemodel__model__layer1=291, basemodel__model__learning_rate=0.0031549239290363817, basemodel__model__optim=<class 'keras.optimizer_v2.rmsprop.RMSprop'>, basemodel__validation_split=0.8837107073507645, clip_y=135, poly_degree=3, scaler=MinMaxScaler();, score=0.387 total time=   4.6s\n",
            "[CV 2/3] END basemodel__batch_size=220, basemodel__epochs=24, basemodel__model__activation=tanh, basemodel__model__dropout=0.8810798003067294, basemodel__model__layer1=291, basemodel__model__learning_rate=0.0031549239290363817, basemodel__model__optim=<class 'keras.optimizer_v2.rmsprop.RMSprop'>, basemodel__validation_split=0.8837107073507645, clip_y=135, poly_degree=3, scaler=MinMaxScaler();, score=0.433 total time=   4.7s\n",
            "[CV 3/3] END basemodel__batch_size=220, basemodel__epochs=24, basemodel__model__activation=tanh, basemodel__model__dropout=0.8810798003067294, basemodel__model__layer1=291, basemodel__model__learning_rate=0.0031549239290363817, basemodel__model__optim=<class 'keras.optimizer_v2.rmsprop.RMSprop'>, basemodel__validation_split=0.8837107073507645, clip_y=135, poly_degree=3, scaler=MinMaxScaler();, score=0.437 total time=   5.8s\n",
            "Fitting 3 folds for each of 1 candidates, totalling 3 fits\n",
            "[CV 1/3] END basemodel__batch_size=268, basemodel__epochs=4, basemodel__model__activation=sigmoid, basemodel__model__dropout=0.10227666045396908, basemodel__model__layer1=62, basemodel__model__learning_rate=0.008464645957823938, basemodel__model__optim=<class 'keras.optimizer_v2.adam.Adam'>, basemodel__validation_split=0.14939425980055426, clip_y=81, poly_degree=2, scaler=StandardScaler();, score=0.655 total time=   1.3s\n",
            "[CV 2/3] END basemodel__batch_size=268, basemodel__epochs=4, basemodel__model__activation=sigmoid, basemodel__model__dropout=0.10227666045396908, basemodel__model__layer1=62, basemodel__model__learning_rate=0.008464645957823938, basemodel__model__optim=<class 'keras.optimizer_v2.adam.Adam'>, basemodel__validation_split=0.14939425980055426, clip_y=81, poly_degree=2, scaler=StandardScaler();, score=0.620 total time=   1.3s\n",
            "[CV 3/3] END basemodel__batch_size=268, basemodel__epochs=4, basemodel__model__activation=sigmoid, basemodel__model__dropout=0.10227666045396908, basemodel__model__layer1=62, basemodel__model__learning_rate=0.008464645957823938, basemodel__model__optim=<class 'keras.optimizer_v2.adam.Adam'>, basemodel__validation_split=0.14939425980055426, clip_y=81, poly_degree=2, scaler=StandardScaler();, score=0.629 total time=   1.3s\n",
            "Fitting 3 folds for each of 1 candidates, totalling 3 fits\n",
            "[CV 1/3] END basemodel__batch_size=392, basemodel__epochs=32, basemodel__model__activation=sigmoid, basemodel__model__dropout=0.6473338377712085, basemodel__model__layer1=467, basemodel__model__learning_rate=0.009140865753324418, basemodel__model__optim=<class 'keras.optimizer_v2.rmsprop.RMSprop'>, basemodel__validation_split=0.9, clip_y=84, poly_degree=3, scaler=MinMaxScaler();, score=0.742 total time=   3.8s\n",
            "[CV 2/3] END basemodel__batch_size=392, basemodel__epochs=32, basemodel__model__activation=sigmoid, basemodel__model__dropout=0.6473338377712085, basemodel__model__layer1=467, basemodel__model__learning_rate=0.009140865753324418, basemodel__model__optim=<class 'keras.optimizer_v2.rmsprop.RMSprop'>, basemodel__validation_split=0.9, clip_y=84, poly_degree=3, scaler=MinMaxScaler();, score=0.673 total time=   4.0s\n",
            "[CV 3/3] END basemodel__batch_size=392, basemodel__epochs=32, basemodel__model__activation=sigmoid, basemodel__model__dropout=0.6473338377712085, basemodel__model__layer1=467, basemodel__model__learning_rate=0.009140865753324418, basemodel__model__optim=<class 'keras.optimizer_v2.rmsprop.RMSprop'>, basemodel__validation_split=0.9, clip_y=84, poly_degree=3, scaler=MinMaxScaler();, score=0.681 total time=   5.8s\n",
            "Fitting 3 folds for each of 1 candidates, totalling 3 fits\n",
            "[CV 1/3] END basemodel__batch_size=225, basemodel__epochs=21, basemodel__model__activation=sigmoid, basemodel__model__dropout=0.9, basemodel__model__layer1=277, basemodel__model__learning_rate=0.0001, basemodel__model__optim=<class 'keras.optimizer_v2.adam.Adam'>, basemodel__validation_split=0.12253538387747463, clip_y=121, poly_degree=2, scaler=StandardScaler();, score=-2.659 total time=   4.2s\n",
            "[CV 2/3] END basemodel__batch_size=225, basemodel__epochs=21, basemodel__model__activation=sigmoid, basemodel__model__dropout=0.9, basemodel__model__layer1=277, basemodel__model__learning_rate=0.0001, basemodel__model__optim=<class 'keras.optimizer_v2.adam.Adam'>, basemodel__validation_split=0.12253538387747463, clip_y=121, poly_degree=2, scaler=StandardScaler();, score=-2.555 total time=   5.8s\n",
            "[CV 3/3] END basemodel__batch_size=225, basemodel__epochs=21, basemodel__model__activation=sigmoid, basemodel__model__dropout=0.9, basemodel__model__layer1=277, basemodel__model__learning_rate=0.0001, basemodel__model__optim=<class 'keras.optimizer_v2.adam.Adam'>, basemodel__validation_split=0.12253538387747463, clip_y=121, poly_degree=2, scaler=StandardScaler();, score=-2.778 total time=   4.2s\n",
            "Fitting 3 folds for each of 1 candidates, totalling 3 fits\n",
            "[CV 1/3] END basemodel__batch_size=278, basemodel__epochs=50, basemodel__model__activation=relu, basemodel__model__dropout=0.1, basemodel__model__layer1=469, basemodel__model__learning_rate=0.002874922426530888, basemodel__model__optim=<class 'keras.optimizer_v2.adam.Adam'>, basemodel__validation_split=0.1, clip_y=80, poly_degree=2, scaler=StandardScaler();, score=0.909 total time=   5.6s\n",
            "[CV 2/3] END basemodel__batch_size=278, basemodel__epochs=50, basemodel__model__activation=relu, basemodel__model__dropout=0.1, basemodel__model__layer1=469, basemodel__model__learning_rate=0.002874922426530888, basemodel__model__optim=<class 'keras.optimizer_v2.adam.Adam'>, basemodel__validation_split=0.1, clip_y=80, poly_degree=2, scaler=StandardScaler();, score=0.852 total time=  11.1s\n",
            "[CV 3/3] END basemodel__batch_size=278, basemodel__epochs=50, basemodel__model__activation=relu, basemodel__model__dropout=0.1, basemodel__model__layer1=469, basemodel__model__learning_rate=0.002874922426530888, basemodel__model__optim=<class 'keras.optimizer_v2.adam.Adam'>, basemodel__validation_split=0.1, clip_y=80, poly_degree=2, scaler=StandardScaler();, score=0.847 total time=  10.8s\n",
            "Fitting 3 folds for each of 1 candidates, totalling 3 fits\n",
            "[CV 1/3] END basemodel__batch_size=489, basemodel__epochs=1, basemodel__model__activation=relu, basemodel__model__dropout=0.1, basemodel__model__layer1=170, basemodel__model__learning_rate=0.0022188739399876737, basemodel__model__optim=<class 'keras.optimizer_v2.adam.Adam'>, basemodel__validation_split=0.9, clip_y=93, poly_degree=3, scaler=StandardScaler();, score=-5.869 total time=   0.8s\n",
            "[CV 2/3] END basemodel__batch_size=489, basemodel__epochs=1, basemodel__model__activation=relu, basemodel__model__dropout=0.1, basemodel__model__layer1=170, basemodel__model__learning_rate=0.0022188739399876737, basemodel__model__optim=<class 'keras.optimizer_v2.adam.Adam'>, basemodel__validation_split=0.9, clip_y=93, poly_degree=3, scaler=StandardScaler();, score=-5.827 total time=   0.8s\n",
            "[CV 3/3] END basemodel__batch_size=489, basemodel__epochs=1, basemodel__model__activation=relu, basemodel__model__dropout=0.1, basemodel__model__layer1=170, basemodel__model__learning_rate=0.0022188739399876737, basemodel__model__optim=<class 'keras.optimizer_v2.adam.Adam'>, basemodel__validation_split=0.9, clip_y=93, poly_degree=3, scaler=StandardScaler();, score=-5.871 total time=   1.2s\n",
            "Fitting 3 folds for each of 1 candidates, totalling 3 fits\n"
          ]
        },
        {
          "output_type": "stream",
          "name": "stderr",
          "text": [
            "WARNING:tensorflow:5 out of the last 1810 calls to <function Model.make_train_function.<locals>.train_function at 0x7f1a84ffe680> triggered tf.function retracing. Tracing is expensive and the excessive number of tracings could be due to (1) creating @tf.function repeatedly in a loop, (2) passing tensors with different shapes, (3) passing Python objects instead of tensors. For (1), please define your @tf.function outside of the loop. For (2), @tf.function has experimental_relax_shapes=True option that relaxes argument shapes that can avoid unnecessary retracing. For (3), please refer to https://www.tensorflow.org/guide/function#controlling_retracing and https://www.tensorflow.org/api_docs/python/tf/function for  more details.\n"
          ]
        },
        {
          "output_type": "stream",
          "name": "stdout",
          "text": [
            "[CV 1/3] END basemodel__batch_size=53, basemodel__epochs=43, basemodel__model__activation=relu, basemodel__model__dropout=0.1, basemodel__model__layer1=350, basemodel__model__learning_rate=0.006109157658344731, basemodel__model__optim=<class 'keras.optimizer_v2.adam.Adam'>, basemodel__validation_split=0.1, clip_y=80, poly_degree=2, scaler=StandardScaler();, score=0.905 total time=  21.1s\n",
            "[CV 2/3] END basemodel__batch_size=53, basemodel__epochs=43, basemodel__model__activation=relu, basemodel__model__dropout=0.1, basemodel__model__layer1=350, basemodel__model__learning_rate=0.006109157658344731, basemodel__model__optim=<class 'keras.optimizer_v2.adam.Adam'>, basemodel__validation_split=0.1, clip_y=80, poly_degree=2, scaler=StandardScaler();, score=0.839 total time=  21.1s\n",
            "[CV 3/3] END basemodel__batch_size=53, basemodel__epochs=43, basemodel__model__activation=relu, basemodel__model__dropout=0.1, basemodel__model__layer1=350, basemodel__model__learning_rate=0.006109157658344731, basemodel__model__optim=<class 'keras.optimizer_v2.adam.Adam'>, basemodel__validation_split=0.1, clip_y=80, poly_degree=2, scaler=StandardScaler();, score=0.847 total time=   9.1s\n",
            "Fitting 3 folds for each of 1 candidates, totalling 3 fits\n",
            "[CV 1/3] END basemodel__batch_size=108, basemodel__epochs=50, basemodel__model__activation=sigmoid, basemodel__model__dropout=0.9, basemodel__model__layer1=512, basemodel__model__learning_rate=0.003512011964951805, basemodel__model__optim=<class 'keras.optimizer_v2.rmsprop.RMSprop'>, basemodel__validation_split=0.1, clip_y=111, poly_degree=2, scaler=MinMaxScaler();, score=0.843 total time=  13.2s\n",
            "[CV 2/3] END basemodel__batch_size=108, basemodel__epochs=50, basemodel__model__activation=sigmoid, basemodel__model__dropout=0.9, basemodel__model__layer1=512, basemodel__model__learning_rate=0.003512011964951805, basemodel__model__optim=<class 'keras.optimizer_v2.rmsprop.RMSprop'>, basemodel__validation_split=0.1, clip_y=111, poly_degree=2, scaler=MinMaxScaler();, score=0.771 total time=  21.2s\n",
            "[CV 3/3] END basemodel__batch_size=108, basemodel__epochs=50, basemodel__model__activation=sigmoid, basemodel__model__dropout=0.9, basemodel__model__layer1=512, basemodel__model__learning_rate=0.003512011964951805, basemodel__model__optim=<class 'keras.optimizer_v2.rmsprop.RMSprop'>, basemodel__validation_split=0.1, clip_y=111, poly_degree=2, scaler=MinMaxScaler();, score=0.758 total time=  13.0s\n",
            "Fitting 3 folds for each of 1 candidates, totalling 3 fits\n",
            "[CV 1/3] END basemodel__batch_size=32, basemodel__epochs=49, basemodel__model__activation=tanh, basemodel__model__dropout=0.9, basemodel__model__layer1=512, basemodel__model__learning_rate=0.006623454455259953, basemodel__model__optim=<class 'keras.optimizer_v2.adam.Adam'>, basemodel__validation_split=0.9, clip_y=140, poly_degree=2, scaler=StandardScaler();, score=0.803 total time=  18.0s\n",
            "[CV 2/3] END basemodel__batch_size=32, basemodel__epochs=49, basemodel__model__activation=tanh, basemodel__model__dropout=0.9, basemodel__model__layer1=512, basemodel__model__learning_rate=0.006623454455259953, basemodel__model__optim=<class 'keras.optimizer_v2.adam.Adam'>, basemodel__validation_split=0.9, clip_y=140, poly_degree=2, scaler=StandardScaler();, score=0.627 total time=  41.7s\n",
            "[CV 3/3] END basemodel__batch_size=32, basemodel__epochs=49, basemodel__model__activation=tanh, basemodel__model__dropout=0.9, basemodel__model__layer1=512, basemodel__model__learning_rate=0.006623454455259953, basemodel__model__optim=<class 'keras.optimizer_v2.adam.Adam'>, basemodel__validation_split=0.9, clip_y=140, poly_degree=2, scaler=StandardScaler();, score=0.701 total time=  21.3s\n",
            "Fitting 3 folds for each of 1 candidates, totalling 3 fits\n",
            "[CV 1/3] END basemodel__batch_size=32, basemodel__epochs=1, basemodel__model__activation=tanh, basemodel__model__dropout=0.9, basemodel__model__layer1=16, basemodel__model__learning_rate=0.01, basemodel__model__optim=<class 'keras.optimizer_v2.adam.Adam'>, basemodel__validation_split=0.9, clip_y=140, poly_degree=2, scaler=StandardScaler();, score=-3.446 total time=   2.3s\n",
            "[CV 2/3] END basemodel__batch_size=32, basemodel__epochs=1, basemodel__model__activation=tanh, basemodel__model__dropout=0.9, basemodel__model__layer1=16, basemodel__model__learning_rate=0.01, basemodel__model__optim=<class 'keras.optimizer_v2.adam.Adam'>, basemodel__validation_split=0.9, clip_y=140, poly_degree=2, scaler=StandardScaler();, score=-3.541 total time=   2.3s\n",
            "[CV 3/3] END basemodel__batch_size=32, basemodel__epochs=1, basemodel__model__activation=tanh, basemodel__model__dropout=0.9, basemodel__model__layer1=16, basemodel__model__learning_rate=0.01, basemodel__model__optim=<class 'keras.optimizer_v2.adam.Adam'>, basemodel__validation_split=0.9, clip_y=140, poly_degree=2, scaler=StandardScaler();, score=-3.466 total time=   2.3s\n",
            "Fitting 3 folds for each of 1 candidates, totalling 3 fits\n",
            "[CV 1/3] END basemodel__batch_size=38, basemodel__epochs=18, basemodel__model__activation=tanh, basemodel__model__dropout=0.6149107951558557, basemodel__model__layer1=16, basemodel__model__learning_rate=0.01, basemodel__model__optim=<class 'keras.optimizer_v2.adam.Adam'>, basemodel__validation_split=0.9, clip_y=80, poly_degree=2, scaler=StandardScaler();, score=0.632 total time=  21.2s\n",
            "[CV 2/3] END basemodel__batch_size=38, basemodel__epochs=18, basemodel__model__activation=tanh, basemodel__model__dropout=0.6149107951558557, basemodel__model__layer1=16, basemodel__model__learning_rate=0.01, basemodel__model__optim=<class 'keras.optimizer_v2.adam.Adam'>, basemodel__validation_split=0.9, clip_y=80, poly_degree=2, scaler=StandardScaler();, score=0.657 total time=  14.0s\n",
            "[CV 3/3] END basemodel__batch_size=38, basemodel__epochs=18, basemodel__model__activation=tanh, basemodel__model__dropout=0.6149107951558557, basemodel__model__layer1=16, basemodel__model__learning_rate=0.01, basemodel__model__optim=<class 'keras.optimizer_v2.adam.Adam'>, basemodel__validation_split=0.9, clip_y=80, poly_degree=2, scaler=StandardScaler();, score=0.704 total time=  13.7s\n",
            "Fitting 3 folds for each of 1 candidates, totalling 3 fits\n",
            "[CV 1/3] END basemodel__batch_size=138, basemodel__epochs=6, basemodel__model__activation=sigmoid, basemodel__model__dropout=0.6710280587260817, basemodel__model__layer1=266, basemodel__model__learning_rate=0.00919039365052281, basemodel__model__optim=<class 'keras.optimizer_v2.adam.Adam'>, basemodel__validation_split=0.1, clip_y=104, poly_degree=2, scaler=StandardScaler();, score=0.880 total time=   2.2s\n",
            "[CV 2/3] END basemodel__batch_size=138, basemodel__epochs=6, basemodel__model__activation=sigmoid, basemodel__model__dropout=0.6710280587260817, basemodel__model__layer1=266, basemodel__model__learning_rate=0.00919039365052281, basemodel__model__optim=<class 'keras.optimizer_v2.adam.Adam'>, basemodel__validation_split=0.1, clip_y=104, poly_degree=2, scaler=StandardScaler();, score=0.797 total time=   2.2s\n",
            "[CV 3/3] END basemodel__batch_size=138, basemodel__epochs=6, basemodel__model__activation=sigmoid, basemodel__model__dropout=0.6710280587260817, basemodel__model__layer1=266, basemodel__model__learning_rate=0.00919039365052281, basemodel__model__optim=<class 'keras.optimizer_v2.adam.Adam'>, basemodel__validation_split=0.1, clip_y=104, poly_degree=2, scaler=StandardScaler();, score=0.797 total time=   2.6s\n",
            "Fitting 3 folds for each of 1 candidates, totalling 3 fits\n",
            "[CV 1/3] END basemodel__batch_size=222, basemodel__epochs=50, basemodel__model__activation=tanh, basemodel__model__dropout=0.1, basemodel__model__layer1=338, basemodel__model__learning_rate=0.0015937311343003746, basemodel__model__optim=<class 'keras.optimizer_v2.adam.Adam'>, basemodel__validation_split=0.11115956070477676, clip_y=80, poly_degree=3, scaler=MinMaxScaler();, score=0.888 total time=  10.8s\n",
            "[CV 2/3] END basemodel__batch_size=222, basemodel__epochs=50, basemodel__model__activation=tanh, basemodel__model__dropout=0.1, basemodel__model__layer1=338, basemodel__model__learning_rate=0.0015937311343003746, basemodel__model__optim=<class 'keras.optimizer_v2.adam.Adam'>, basemodel__validation_split=0.11115956070477676, clip_y=80, poly_degree=3, scaler=MinMaxScaler();, score=0.831 total time=   8.9s\n",
            "[CV 3/3] END basemodel__batch_size=222, basemodel__epochs=50, basemodel__model__activation=tanh, basemodel__model__dropout=0.1, basemodel__model__layer1=338, basemodel__model__learning_rate=0.0015937311343003746, basemodel__model__optim=<class 'keras.optimizer_v2.adam.Adam'>, basemodel__validation_split=0.11115956070477676, clip_y=80, poly_degree=3, scaler=MinMaxScaler();, score=0.822 total time=   8.9s\n",
            "Fitting 3 folds for each of 1 candidates, totalling 3 fits\n",
            "[CV 1/3] END basemodel__batch_size=63, basemodel__epochs=37, basemodel__model__activation=sigmoid, basemodel__model__dropout=0.40722927929335506, basemodel__model__layer1=230, basemodel__model__learning_rate=0.0001, basemodel__model__optim=<class 'keras.optimizer_v2.adam.Adam'>, basemodel__validation_split=0.9, clip_y=108, poly_degree=2, scaler=StandardScaler();, score=-3.622 total time=  41.6s\n",
            "[CV 2/3] END basemodel__batch_size=63, basemodel__epochs=37, basemodel__model__activation=sigmoid, basemodel__model__dropout=0.40722927929335506, basemodel__model__layer1=230, basemodel__model__learning_rate=0.0001, basemodel__model__optim=<class 'keras.optimizer_v2.adam.Adam'>, basemodel__validation_split=0.9, clip_y=108, poly_degree=2, scaler=StandardScaler();, score=-3.600 total time=  22.0s\n",
            "[CV 3/3] END basemodel__batch_size=63, basemodel__epochs=37, basemodel__model__activation=sigmoid, basemodel__model__dropout=0.40722927929335506, basemodel__model__layer1=230, basemodel__model__learning_rate=0.0001, basemodel__model__optim=<class 'keras.optimizer_v2.adam.Adam'>, basemodel__validation_split=0.9, clip_y=108, poly_degree=2, scaler=StandardScaler();, score=-3.816 total time=  21.0s\n",
            "Fitting 3 folds for each of 1 candidates, totalling 3 fits\n",
            "[CV 1/3] END basemodel__batch_size=208, basemodel__epochs=21, basemodel__model__activation=sigmoid, basemodel__model__dropout=0.5439425891530733, basemodel__model__layer1=241, basemodel__model__learning_rate=0.002899306698174748, basemodel__model__optim=<class 'keras.optimizer_v2.adam.Adam'>, basemodel__validation_split=0.14256575195292082, clip_y=103, poly_degree=2, scaler=StandardScaler();, score=0.883 total time=   4.7s\n",
            "[CV 2/3] END basemodel__batch_size=208, basemodel__epochs=21, basemodel__model__activation=sigmoid, basemodel__model__dropout=0.5439425891530733, basemodel__model__layer1=241, basemodel__model__learning_rate=0.002899306698174748, basemodel__model__optim=<class 'keras.optimizer_v2.adam.Adam'>, basemodel__validation_split=0.14256575195292082, clip_y=103, poly_degree=2, scaler=StandardScaler();, score=0.795 total time=   4.5s\n",
            "[CV 3/3] END basemodel__batch_size=208, basemodel__epochs=21, basemodel__model__activation=sigmoid, basemodel__model__dropout=0.5439425891530733, basemodel__model__layer1=241, basemodel__model__learning_rate=0.002899306698174748, basemodel__model__optim=<class 'keras.optimizer_v2.adam.Adam'>, basemodel__validation_split=0.14256575195292082, clip_y=103, poly_degree=2, scaler=StandardScaler();, score=0.798 total time=   4.4s\n",
            "Fitting 3 folds for each of 1 candidates, totalling 3 fits\n",
            "[CV 1/3] END basemodel__batch_size=91, basemodel__epochs=50, basemodel__model__activation=sigmoid, basemodel__model__dropout=0.1, basemodel__model__layer1=510, basemodel__model__learning_rate=0.0037633843380529474, basemodel__model__optim=<class 'keras.optimizer_v2.adam.Adam'>, basemodel__validation_split=0.2675819576818211, clip_y=123, poly_degree=3, scaler=StandardScaler();, score=0.860 total time=  21.2s\n",
            "[CV 2/3] END basemodel__batch_size=91, basemodel__epochs=50, basemodel__model__activation=sigmoid, basemodel__model__dropout=0.1, basemodel__model__layer1=510, basemodel__model__learning_rate=0.0037633843380529474, basemodel__model__optim=<class 'keras.optimizer_v2.adam.Adam'>, basemodel__validation_split=0.2675819576818211, clip_y=123, poly_degree=3, scaler=StandardScaler();, score=0.769 total time=  13.6s\n",
            "[CV 3/3] END basemodel__batch_size=91, basemodel__epochs=50, basemodel__model__activation=sigmoid, basemodel__model__dropout=0.1, basemodel__model__layer1=510, basemodel__model__learning_rate=0.0037633843380529474, basemodel__model__optim=<class 'keras.optimizer_v2.adam.Adam'>, basemodel__validation_split=0.2675819576818211, clip_y=123, poly_degree=3, scaler=StandardScaler();, score=0.774 total time=  19.3s\n",
            "Fitting 3 folds for each of 1 candidates, totalling 3 fits\n",
            "[CV 1/3] END basemodel__batch_size=364, basemodel__epochs=50, basemodel__model__activation=relu, basemodel__model__dropout=0.6675846643905804, basemodel__model__layer1=512, basemodel__model__learning_rate=0.004824737241258509, basemodel__model__optim=<class 'keras.optimizer_v2.adam.Adam'>, basemodel__validation_split=0.6754364523372798, clip_y=140, poly_degree=2, scaler=StandardScaler();, score=0.805 total time=   5.5s\n",
            "[CV 2/3] END basemodel__batch_size=364, basemodel__epochs=50, basemodel__model__activation=relu, basemodel__model__dropout=0.6675846643905804, basemodel__model__layer1=512, basemodel__model__learning_rate=0.004824737241258509, basemodel__model__optim=<class 'keras.optimizer_v2.adam.Adam'>, basemodel__validation_split=0.6754364523372798, clip_y=140, poly_degree=2, scaler=StandardScaler();, score=0.738 total time=   5.7s\n",
            "[CV 3/3] END basemodel__batch_size=364, basemodel__epochs=50, basemodel__model__activation=relu, basemodel__model__dropout=0.6675846643905804, basemodel__model__layer1=512, basemodel__model__learning_rate=0.004824737241258509, basemodel__model__optim=<class 'keras.optimizer_v2.adam.Adam'>, basemodel__validation_split=0.6754364523372798, clip_y=140, poly_degree=2, scaler=StandardScaler();, score=0.742 total time=   4.5s\n",
            "Fitting 3 folds for each of 1 candidates, totalling 3 fits\n",
            "[CV 1/3] END basemodel__batch_size=449, basemodel__epochs=50, basemodel__model__activation=relu, basemodel__model__dropout=0.1, basemodel__model__layer1=512, basemodel__model__learning_rate=0.009535703186975246, basemodel__model__optim=<class 'keras.optimizer_v2.adam.Adam'>, basemodel__validation_split=0.1, clip_y=139, poly_degree=2, scaler=StandardScaler();, score=0.847 total time=   3.1s\n",
            "[CV 2/3] END basemodel__batch_size=449, basemodel__epochs=50, basemodel__model__activation=relu, basemodel__model__dropout=0.1, basemodel__model__layer1=512, basemodel__model__learning_rate=0.009535703186975246, basemodel__model__optim=<class 'keras.optimizer_v2.adam.Adam'>, basemodel__validation_split=0.1, clip_y=139, poly_degree=2, scaler=StandardScaler();, score=0.758 total time=   5.7s\n",
            "[CV 3/3] END basemodel__batch_size=449, basemodel__epochs=50, basemodel__model__activation=relu, basemodel__model__dropout=0.1, basemodel__model__layer1=512, basemodel__model__learning_rate=0.009535703186975246, basemodel__model__optim=<class 'keras.optimizer_v2.adam.Adam'>, basemodel__validation_split=0.1, clip_y=139, poly_degree=2, scaler=StandardScaler();, score=0.756 total time=   5.7s\n",
            "Fitting 3 folds for each of 1 candidates, totalling 3 fits\n",
            "[CV 1/3] END basemodel__batch_size=271, basemodel__epochs=50, basemodel__model__activation=relu, basemodel__model__dropout=0.31888119734043086, basemodel__model__layer1=512, basemodel__model__learning_rate=0.007331715863082229, basemodel__model__optim=<class 'keras.optimizer_v2.rmsprop.RMSprop'>, basemodel__validation_split=0.26265152334676845, clip_y=94, poly_degree=3, scaler=StandardScaler();, score=0.846 total time=   5.8s\n",
            "[CV 2/3] END basemodel__batch_size=271, basemodel__epochs=50, basemodel__model__activation=relu, basemodel__model__dropout=0.31888119734043086, basemodel__model__layer1=512, basemodel__model__learning_rate=0.007331715863082229, basemodel__model__optim=<class 'keras.optimizer_v2.rmsprop.RMSprop'>, basemodel__validation_split=0.26265152334676845, clip_y=94, poly_degree=3, scaler=StandardScaler();, score=0.798 total time=   6.9s\n",
            "[CV 3/3] END basemodel__batch_size=271, basemodel__epochs=50, basemodel__model__activation=relu, basemodel__model__dropout=0.31888119734043086, basemodel__model__layer1=512, basemodel__model__learning_rate=0.007331715863082229, basemodel__model__optim=<class 'keras.optimizer_v2.rmsprop.RMSprop'>, basemodel__validation_split=0.26265152334676845, clip_y=94, poly_degree=3, scaler=StandardScaler();, score=0.804 total time=   4.0s\n",
            "Fitting 3 folds for each of 1 candidates, totalling 3 fits\n",
            "[CV 1/3] END basemodel__batch_size=32, basemodel__epochs=50, basemodel__model__activation=sigmoid, basemodel__model__dropout=0.7795255577499, basemodel__model__layer1=512, basemodel__model__learning_rate=0.005585111379769516, basemodel__model__optim=<class 'keras.optimizer_v2.adam.Adam'>, basemodel__validation_split=0.8974808260427887, clip_y=140, poly_degree=2, scaler=StandardScaler();, score=0.833 total time=  31.7s\n",
            "[CV 2/3] END basemodel__batch_size=32, basemodel__epochs=50, basemodel__model__activation=sigmoid, basemodel__model__dropout=0.7795255577499, basemodel__model__layer1=512, basemodel__model__learning_rate=0.005585111379769516, basemodel__model__optim=<class 'keras.optimizer_v2.adam.Adam'>, basemodel__validation_split=0.8974808260427887, clip_y=140, poly_degree=2, scaler=StandardScaler();, score=0.668 total time=  21.3s\n",
            "[CV 3/3] END basemodel__batch_size=32, basemodel__epochs=50, basemodel__model__activation=sigmoid, basemodel__model__dropout=0.7795255577499, basemodel__model__layer1=512, basemodel__model__learning_rate=0.005585111379769516, basemodel__model__optim=<class 'keras.optimizer_v2.adam.Adam'>, basemodel__validation_split=0.8974808260427887, clip_y=140, poly_degree=2, scaler=StandardScaler();, score=0.692 total time=  19.4s\n",
            "Fitting 3 folds for each of 1 candidates, totalling 3 fits\n",
            "[CV 1/3] END basemodel__batch_size=359, basemodel__epochs=31, basemodel__model__activation=relu, basemodel__model__dropout=0.4948983044597034, basemodel__model__layer1=427, basemodel__model__learning_rate=0.009052801770238754, basemodel__model__optim=<class 'keras.optimizer_v2.adam.Adam'>, basemodel__validation_split=0.2263262008317425, clip_y=125, poly_degree=2, scaler=StandardScaler();, score=0.859 total time=   5.7s\n",
            "[CV 2/3] END basemodel__batch_size=359, basemodel__epochs=31, basemodel__model__activation=relu, basemodel__model__dropout=0.4948983044597034, basemodel__model__layer1=427, basemodel__model__learning_rate=0.009052801770238754, basemodel__model__optim=<class 'keras.optimizer_v2.adam.Adam'>, basemodel__validation_split=0.2263262008317425, clip_y=125, poly_degree=2, scaler=StandardScaler();, score=0.777 total time=   4.2s\n",
            "[CV 3/3] END basemodel__batch_size=359, basemodel__epochs=31, basemodel__model__activation=relu, basemodel__model__dropout=0.4948983044597034, basemodel__model__layer1=427, basemodel__model__learning_rate=0.009052801770238754, basemodel__model__optim=<class 'keras.optimizer_v2.adam.Adam'>, basemodel__validation_split=0.2263262008317425, clip_y=125, poly_degree=2, scaler=StandardScaler();, score=0.766 total time=   5.7s\n",
            "Fitting 3 folds for each of 1 candidates, totalling 3 fits\n",
            "[CV 1/3] END basemodel__batch_size=176, basemodel__epochs=50, basemodel__model__activation=sigmoid, basemodel__model__dropout=0.5270566761000055, basemodel__model__layer1=512, basemodel__model__learning_rate=0.0035202359667591736, basemodel__model__optim=<class 'keras.optimizer_v2.adam.Adam'>, basemodel__validation_split=0.7052396846877298, clip_y=140, poly_degree=3, scaler=StandardScaler();, score=0.825 total time=   5.1s\n",
            "[CV 2/3] END basemodel__batch_size=176, basemodel__epochs=50, basemodel__model__activation=sigmoid, basemodel__model__dropout=0.5270566761000055, basemodel__model__layer1=512, basemodel__model__learning_rate=0.0035202359667591736, basemodel__model__optim=<class 'keras.optimizer_v2.adam.Adam'>, basemodel__validation_split=0.7052396846877298, clip_y=140, poly_degree=3, scaler=StandardScaler();, score=0.719 total time=   5.7s\n",
            "[CV 3/3] END basemodel__batch_size=176, basemodel__epochs=50, basemodel__model__activation=sigmoid, basemodel__model__dropout=0.5270566761000055, basemodel__model__layer1=512, basemodel__model__learning_rate=0.0035202359667591736, basemodel__model__optim=<class 'keras.optimizer_v2.adam.Adam'>, basemodel__validation_split=0.7052396846877298, clip_y=140, poly_degree=3, scaler=StandardScaler();, score=0.721 total time=   7.0s\n",
            "Fitting 3 folds for each of 1 candidates, totalling 3 fits\n",
            "[CV 1/3] END basemodel__batch_size=122, basemodel__epochs=50, basemodel__model__activation=relu, basemodel__model__dropout=0.1, basemodel__model__layer1=475, basemodel__model__learning_rate=0.0034380726142974687, basemodel__model__optim=<class 'keras.optimizer_v2.adam.Adam'>, basemodel__validation_split=0.23813371043393308, clip_y=120, poly_degree=2, scaler=StandardScaler();, score=0.871 total time=  21.2s\n",
            "[CV 2/3] END basemodel__batch_size=122, basemodel__epochs=50, basemodel__model__activation=relu, basemodel__model__dropout=0.1, basemodel__model__layer1=475, basemodel__model__learning_rate=0.0034380726142974687, basemodel__model__optim=<class 'keras.optimizer_v2.adam.Adam'>, basemodel__validation_split=0.23813371043393308, clip_y=120, poly_degree=2, scaler=StandardScaler();, score=0.789 total time=  10.1s\n",
            "[CV 3/3] END basemodel__batch_size=122, basemodel__epochs=50, basemodel__model__activation=relu, basemodel__model__dropout=0.1, basemodel__model__layer1=475, basemodel__model__learning_rate=0.0034380726142974687, basemodel__model__optim=<class 'keras.optimizer_v2.adam.Adam'>, basemodel__validation_split=0.23813371043393308, clip_y=120, poly_degree=2, scaler=StandardScaler();, score=0.783 total time=  10.8s\n",
            "Fitting 3 folds for each of 1 candidates, totalling 3 fits\n",
            "[CV 1/3] END basemodel__batch_size=317, basemodel__epochs=46, basemodel__model__activation=relu, basemodel__model__dropout=0.10198924143331267, basemodel__model__layer1=249, basemodel__model__learning_rate=0.0035940669709829103, basemodel__model__optim=<class 'keras.optimizer_v2.adam.Adam'>, basemodel__validation_split=0.22491949209284448, clip_y=115, poly_degree=2, scaler=StandardScaler();, score=0.875 total time=   5.7s\n",
            "[CV 2/3] END basemodel__batch_size=317, basemodel__epochs=46, basemodel__model__activation=relu, basemodel__model__dropout=0.10198924143331267, basemodel__model__layer1=249, basemodel__model__learning_rate=0.0035940669709829103, basemodel__model__optim=<class 'keras.optimizer_v2.adam.Adam'>, basemodel__validation_split=0.22491949209284448, clip_y=115, poly_degree=2, scaler=StandardScaler();, score=0.794 total time=  10.9s\n",
            "[CV 3/3] END basemodel__batch_size=317, basemodel__epochs=46, basemodel__model__activation=relu, basemodel__model__dropout=0.10198924143331267, basemodel__model__layer1=249, basemodel__model__learning_rate=0.0035940669709829103, basemodel__model__optim=<class 'keras.optimizer_v2.adam.Adam'>, basemodel__validation_split=0.22491949209284448, clip_y=115, poly_degree=2, scaler=StandardScaler();, score=0.795 total time=   5.7s\n",
            "Fitting 3 folds for each of 1 candidates, totalling 3 fits\n",
            "[CV 1/3] END basemodel__batch_size=260, basemodel__epochs=50, basemodel__model__activation=sigmoid, basemodel__model__dropout=0.1003089396375363, basemodel__model__layer1=373, basemodel__model__learning_rate=0.0019943340848462858, basemodel__model__optim=<class 'keras.optimizer_v2.adam.Adam'>, basemodel__validation_split=0.1, clip_y=80, poly_degree=3, scaler=MinMaxScaler();, score=0.869 total time=   8.1s\n",
            "[CV 2/3] END basemodel__batch_size=260, basemodel__epochs=50, basemodel__model__activation=sigmoid, basemodel__model__dropout=0.1003089396375363, basemodel__model__layer1=373, basemodel__model__learning_rate=0.0019943340848462858, basemodel__model__optim=<class 'keras.optimizer_v2.adam.Adam'>, basemodel__validation_split=0.1, clip_y=80, poly_degree=3, scaler=MinMaxScaler();, score=0.809 total time=   8.1s\n",
            "[CV 3/3] END basemodel__batch_size=260, basemodel__epochs=50, basemodel__model__activation=sigmoid, basemodel__model__dropout=0.1003089396375363, basemodel__model__layer1=373, basemodel__model__learning_rate=0.0019943340848462858, basemodel__model__optim=<class 'keras.optimizer_v2.adam.Adam'>, basemodel__validation_split=0.1, clip_y=80, poly_degree=3, scaler=MinMaxScaler();, score=0.805 total time=  10.8s\n",
            "Fitting 3 folds for each of 1 candidates, totalling 3 fits\n",
            "[CV 1/3] END basemodel__batch_size=32, basemodel__epochs=50, basemodel__model__activation=relu, basemodel__model__dropout=0.9, basemodel__model__layer1=512, basemodel__model__learning_rate=0.0034667342328936215, basemodel__model__optim=<class 'keras.optimizer_v2.adam.Adam'>, basemodel__validation_split=0.11095474643194847, clip_y=113, poly_degree=2, scaler=StandardScaler();, score=0.853 total time=  49.4s\n",
            "[CV 2/3] END basemodel__batch_size=32, basemodel__epochs=50, basemodel__model__activation=relu, basemodel__model__dropout=0.9, basemodel__model__layer1=512, basemodel__model__learning_rate=0.0034667342328936215, basemodel__model__optim=<class 'keras.optimizer_v2.adam.Adam'>, basemodel__validation_split=0.11095474643194847, clip_y=113, poly_degree=2, scaler=StandardScaler();, score=0.777 total time= 1.4min\n",
            "[CV 3/3] END basemodel__batch_size=32, basemodel__epochs=50, basemodel__model__activation=relu, basemodel__model__dropout=0.9, basemodel__model__layer1=512, basemodel__model__learning_rate=0.0034667342328936215, basemodel__model__optim=<class 'keras.optimizer_v2.adam.Adam'>, basemodel__validation_split=0.11095474643194847, clip_y=113, poly_degree=2, scaler=StandardScaler();, score=0.779 total time=  30.7s\n",
            "Fitting 3 folds for each of 1 candidates, totalling 3 fits\n",
            "[CV 1/3] END basemodel__batch_size=217, basemodel__epochs=50, basemodel__model__activation=relu, basemodel__model__dropout=0.3964857237538718, basemodel__model__layer1=512, basemodel__model__learning_rate=0.0031942209334954496, basemodel__model__optim=<class 'keras.optimizer_v2.adam.Adam'>, basemodel__validation_split=0.1, clip_y=80, poly_degree=2, scaler=StandardScaler();, score=0.912 total time=   7.5s\n",
            "[CV 2/3] END basemodel__batch_size=217, basemodel__epochs=50, basemodel__model__activation=relu, basemodel__model__dropout=0.3964857237538718, basemodel__model__layer1=512, basemodel__model__learning_rate=0.0031942209334954496, basemodel__model__optim=<class 'keras.optimizer_v2.adam.Adam'>, basemodel__validation_split=0.1, clip_y=80, poly_degree=2, scaler=StandardScaler();, score=0.848 total time=  10.8s\n",
            "[CV 3/3] END basemodel__batch_size=217, basemodel__epochs=50, basemodel__model__activation=relu, basemodel__model__dropout=0.3964857237538718, basemodel__model__layer1=512, basemodel__model__learning_rate=0.0031942209334954496, basemodel__model__optim=<class 'keras.optimizer_v2.adam.Adam'>, basemodel__validation_split=0.1, clip_y=80, poly_degree=2, scaler=StandardScaler();, score=0.844 total time=  10.8s\n",
            "Fitting 3 folds for each of 1 candidates, totalling 3 fits\n",
            "[CV 1/3] END basemodel__batch_size=309, basemodel__epochs=50, basemodel__model__activation=relu, basemodel__model__dropout=0.6425679231888427, basemodel__model__layer1=512, basemodel__model__learning_rate=0.009369381285377742, basemodel__model__optim=<class 'keras.optimizer_v2.rmsprop.RMSprop'>, basemodel__validation_split=0.7994599114913841, clip_y=80, poly_degree=2, scaler=StandardScaler();, score=0.887 total time=   3.2s\n",
            "[CV 2/3] END basemodel__batch_size=309, basemodel__epochs=50, basemodel__model__activation=relu, basemodel__model__dropout=0.6425679231888427, basemodel__model__layer1=512, basemodel__model__learning_rate=0.009369381285377742, basemodel__model__optim=<class 'keras.optimizer_v2.rmsprop.RMSprop'>, basemodel__validation_split=0.7994599114913841, clip_y=80, poly_degree=2, scaler=StandardScaler();, score=0.731 total time=   3.2s\n",
            "[CV 3/3] END basemodel__batch_size=309, basemodel__epochs=50, basemodel__model__activation=relu, basemodel__model__dropout=0.6425679231888427, basemodel__model__layer1=512, basemodel__model__learning_rate=0.009369381285377742, basemodel__model__optim=<class 'keras.optimizer_v2.rmsprop.RMSprop'>, basemodel__validation_split=0.7994599114913841, clip_y=80, poly_degree=2, scaler=StandardScaler();, score=0.740 total time=   3.5s\n",
            "Fitting 3 folds for each of 1 candidates, totalling 3 fits\n",
            "[CV 1/3] END basemodel__batch_size=121, basemodel__epochs=22, basemodel__model__activation=relu, basemodel__model__dropout=0.7507440120187381, basemodel__model__layer1=261, basemodel__model__learning_rate=0.00871568813797382, basemodel__model__optim=<class 'keras.optimizer_v2.rmsprop.RMSprop'>, basemodel__validation_split=0.2760302827347525, clip_y=106, poly_degree=2, scaler=StandardScaler();, score=0.838 total time=  10.9s\n",
            "[CV 2/3] END basemodel__batch_size=121, basemodel__epochs=22, basemodel__model__activation=relu, basemodel__model__dropout=0.7507440120187381, basemodel__model__layer1=261, basemodel__model__learning_rate=0.00871568813797382, basemodel__model__optim=<class 'keras.optimizer_v2.rmsprop.RMSprop'>, basemodel__validation_split=0.2760302827347525, clip_y=106, poly_degree=2, scaler=StandardScaler();, score=0.793 total time=   6.8s\n",
            "[CV 3/3] END basemodel__batch_size=121, basemodel__epochs=22, basemodel__model__activation=relu, basemodel__model__dropout=0.7507440120187381, basemodel__model__layer1=261, basemodel__model__learning_rate=0.00871568813797382, basemodel__model__optim=<class 'keras.optimizer_v2.rmsprop.RMSprop'>, basemodel__validation_split=0.2760302827347525, clip_y=106, poly_degree=2, scaler=StandardScaler();, score=0.778 total time=   7.0s\n",
            "Fitting 3 folds for each of 1 candidates, totalling 3 fits\n",
            "[CV 1/3] END basemodel__batch_size=295, basemodel__epochs=50, basemodel__model__activation=relu, basemodel__model__dropout=0.1304174373176898, basemodel__model__layer1=512, basemodel__model__learning_rate=0.007000016030016556, basemodel__model__optim=<class 'keras.optimizer_v2.rmsprop.RMSprop'>, basemodel__validation_split=0.3098974288513108, clip_y=87, poly_degree=2, scaler=StandardScaler();, score=0.856 total time=   4.9s\n",
            "[CV 2/3] END basemodel__batch_size=295, basemodel__epochs=50, basemodel__model__activation=relu, basemodel__model__dropout=0.1304174373176898, basemodel__model__layer1=512, basemodel__model__learning_rate=0.007000016030016556, basemodel__model__optim=<class 'keras.optimizer_v2.rmsprop.RMSprop'>, basemodel__validation_split=0.3098974288513108, clip_y=87, poly_degree=2, scaler=StandardScaler();, score=0.833 total time=   3.2s\n",
            "[CV 3/3] END basemodel__batch_size=295, basemodel__epochs=50, basemodel__model__activation=relu, basemodel__model__dropout=0.1304174373176898, basemodel__model__layer1=512, basemodel__model__learning_rate=0.007000016030016556, basemodel__model__optim=<class 'keras.optimizer_v2.rmsprop.RMSprop'>, basemodel__validation_split=0.3098974288513108, clip_y=87, poly_degree=2, scaler=StandardScaler();, score=0.604 total time=   5.8s\n",
            "Fitting 3 folds for each of 1 candidates, totalling 3 fits\n",
            "[CV 1/3] END basemodel__batch_size=512, basemodel__epochs=25, basemodel__model__activation=tanh, basemodel__model__dropout=0.23148151579120713, basemodel__model__layer1=512, basemodel__model__learning_rate=0.008858728796647754, basemodel__model__optim=<class 'keras.optimizer_v2.rmsprop.RMSprop'>, basemodel__validation_split=0.22771911914151866, clip_y=138, poly_degree=2, scaler=StandardScaler();, score=0.852 total time=   3.4s\n",
            "[CV 2/3] END basemodel__batch_size=512, basemodel__epochs=25, basemodel__model__activation=tanh, basemodel__model__dropout=0.23148151579120713, basemodel__model__layer1=512, basemodel__model__learning_rate=0.008858728796647754, basemodel__model__optim=<class 'keras.optimizer_v2.rmsprop.RMSprop'>, basemodel__validation_split=0.22771911914151866, clip_y=138, poly_degree=2, scaler=StandardScaler();, score=0.759 total time=   3.1s\n",
            "[CV 3/3] END basemodel__batch_size=512, basemodel__epochs=25, basemodel__model__activation=tanh, basemodel__model__dropout=0.23148151579120713, basemodel__model__layer1=512, basemodel__model__learning_rate=0.008858728796647754, basemodel__model__optim=<class 'keras.optimizer_v2.rmsprop.RMSprop'>, basemodel__validation_split=0.22771911914151866, clip_y=138, poly_degree=2, scaler=StandardScaler();, score=0.758 total time=   3.2s\n",
            "Fitting 3 folds for each of 1 candidates, totalling 3 fits\n",
            "[CV 1/3] END basemodel__batch_size=512, basemodel__epochs=50, basemodel__model__activation=relu, basemodel__model__dropout=0.4281438952981028, basemodel__model__layer1=511, basemodel__model__learning_rate=0.007883225196790338, basemodel__model__optim=<class 'keras.optimizer_v2.rmsprop.RMSprop'>, basemodel__validation_split=0.42348326963190897, clip_y=101, poly_degree=2, scaler=StandardScaler();, score=0.862 total time=   3.2s\n",
            "[CV 2/3] END basemodel__batch_size=512, basemodel__epochs=50, basemodel__model__activation=relu, basemodel__model__dropout=0.4281438952981028, basemodel__model__layer1=511, basemodel__model__learning_rate=0.007883225196790338, basemodel__model__optim=<class 'keras.optimizer_v2.rmsprop.RMSprop'>, basemodel__validation_split=0.42348326963190897, clip_y=101, poly_degree=2, scaler=StandardScaler();, score=0.779 total time=   3.5s\n",
            "[CV 3/3] END basemodel__batch_size=512, basemodel__epochs=50, basemodel__model__activation=relu, basemodel__model__dropout=0.4281438952981028, basemodel__model__layer1=511, basemodel__model__learning_rate=0.007883225196790338, basemodel__model__optim=<class 'keras.optimizer_v2.rmsprop.RMSprop'>, basemodel__validation_split=0.42348326963190897, clip_y=101, poly_degree=2, scaler=StandardScaler();, score=0.801 total time=   3.2s\n",
            "Fitting 3 folds for each of 1 candidates, totalling 3 fits\n",
            "[CV 1/3] END basemodel__batch_size=512, basemodel__epochs=1, basemodel__model__activation=tanh, basemodel__model__dropout=0.9, basemodel__model__layer1=55, basemodel__model__learning_rate=0.01, basemodel__model__optim=<class 'keras.optimizer_v2.rmsprop.RMSprop'>, basemodel__validation_split=0.1, clip_y=96, poly_degree=2, scaler=StandardScaler();, score=-3.942 total time=   0.9s\n",
            "[CV 2/3] END basemodel__batch_size=512, basemodel__epochs=1, basemodel__model__activation=tanh, basemodel__model__dropout=0.9, basemodel__model__layer1=55, basemodel__model__learning_rate=0.01, basemodel__model__optim=<class 'keras.optimizer_v2.rmsprop.RMSprop'>, basemodel__validation_split=0.1, clip_y=96, poly_degree=2, scaler=StandardScaler();, score=-3.721 total time=   0.9s\n",
            "[CV 3/3] END basemodel__batch_size=512, basemodel__epochs=1, basemodel__model__activation=tanh, basemodel__model__dropout=0.9, basemodel__model__layer1=55, basemodel__model__learning_rate=0.01, basemodel__model__optim=<class 'keras.optimizer_v2.rmsprop.RMSprop'>, basemodel__validation_split=0.1, clip_y=96, poly_degree=2, scaler=StandardScaler();, score=-3.789 total time=   1.0s\n",
            "Fitting 3 folds for each of 1 candidates, totalling 3 fits\n"
          ]
        },
        {
          "output_type": "stream",
          "name": "stderr",
          "text": [
            "WARNING:tensorflow:5 out of the last 238 calls to <function Model.make_test_function.<locals>.test_function at 0x7f1a84c410e0> triggered tf.function retracing. Tracing is expensive and the excessive number of tracings could be due to (1) creating @tf.function repeatedly in a loop, (2) passing tensors with different shapes, (3) passing Python objects instead of tensors. For (1), please define your @tf.function outside of the loop. For (2), @tf.function has experimental_relax_shapes=True option that relaxes argument shapes that can avoid unnecessary retracing. For (3), please refer to https://www.tensorflow.org/guide/function#controlling_retracing and https://www.tensorflow.org/api_docs/python/tf/function for  more details.\n"
          ]
        },
        {
          "output_type": "stream",
          "name": "stdout",
          "text": [
            "[CV 1/3] END basemodel__batch_size=174, basemodel__epochs=20, basemodel__model__activation=sigmoid, basemodel__model__dropout=0.6129422208040147, basemodel__model__layer1=306, basemodel__model__learning_rate=0.0032788987167240153, basemodel__model__optim=<class 'keras.optimizer_v2.adam.Adam'>, basemodel__validation_split=0.13145630271088385, clip_y=99, poly_degree=2, scaler=StandardScaler();, score=0.887 total time=   5.7s\n",
            "[CV 2/3] END basemodel__batch_size=174, basemodel__epochs=20, basemodel__model__activation=sigmoid, basemodel__model__dropout=0.6129422208040147, basemodel__model__layer1=306, basemodel__model__learning_rate=0.0032788987167240153, basemodel__model__optim=<class 'keras.optimizer_v2.adam.Adam'>, basemodel__validation_split=0.13145630271088385, clip_y=99, poly_degree=2, scaler=StandardScaler();, score=0.805 total time=   5.8s\n",
            "[CV 3/3] END basemodel__batch_size=174, basemodel__epochs=20, basemodel__model__activation=sigmoid, basemodel__model__dropout=0.6129422208040147, basemodel__model__layer1=306, basemodel__model__learning_rate=0.0032788987167240153, basemodel__model__optim=<class 'keras.optimizer_v2.adam.Adam'>, basemodel__validation_split=0.13145630271088385, clip_y=99, poly_degree=2, scaler=StandardScaler();, score=0.807 total time=   4.9s\n",
            "Fitting 3 folds for each of 1 candidates, totalling 3 fits\n",
            "[CV 1/3] END basemodel__batch_size=32, basemodel__epochs=40, basemodel__model__activation=relu, basemodel__model__dropout=0.1, basemodel__model__layer1=202, basemodel__model__learning_rate=0.007690605233699558, basemodel__model__optim=<class 'keras.optimizer_v2.adam.Adam'>, basemodel__validation_split=0.1, clip_y=80, poly_degree=2, scaler=StandardScaler();, score=0.902 total time=  19.8s\n",
            "[CV 2/3] END basemodel__batch_size=32, basemodel__epochs=40, basemodel__model__activation=relu, basemodel__model__dropout=0.1, basemodel__model__layer1=202, basemodel__model__learning_rate=0.007690605233699558, basemodel__model__optim=<class 'keras.optimizer_v2.adam.Adam'>, basemodel__validation_split=0.1, clip_y=80, poly_degree=2, scaler=StandardScaler();, score=0.847 total time=  41.8s\n",
            "[CV 3/3] END basemodel__batch_size=32, basemodel__epochs=40, basemodel__model__activation=relu, basemodel__model__dropout=0.1, basemodel__model__layer1=202, basemodel__model__learning_rate=0.007690605233699558, basemodel__model__optim=<class 'keras.optimizer_v2.adam.Adam'>, basemodel__validation_split=0.1, clip_y=80, poly_degree=2, scaler=StandardScaler();, score=0.841 total time=  26.5s\n",
            "Fitting 3 folds for each of 1 candidates, totalling 3 fits\n",
            "[CV 1/3] END basemodel__batch_size=185, basemodel__epochs=26, basemodel__model__activation=sigmoid, basemodel__model__dropout=0.1, basemodel__model__layer1=16, basemodel__model__learning_rate=0.005769526709681634, basemodel__model__optim=<class 'keras.optimizer_v2.adam.Adam'>, basemodel__validation_split=0.1, clip_y=80, poly_degree=3, scaler=StandardScaler();, score=0.907 total time=   5.7s\n",
            "[CV 2/3] END basemodel__batch_size=185, basemodel__epochs=26, basemodel__model__activation=sigmoid, basemodel__model__dropout=0.1, basemodel__model__layer1=16, basemodel__model__learning_rate=0.005769526709681634, basemodel__model__optim=<class 'keras.optimizer_v2.adam.Adam'>, basemodel__validation_split=0.1, clip_y=80, poly_degree=3, scaler=StandardScaler();, score=0.839 total time=   5.6s\n",
            "[CV 3/3] END basemodel__batch_size=185, basemodel__epochs=26, basemodel__model__activation=sigmoid, basemodel__model__dropout=0.1, basemodel__model__layer1=16, basemodel__model__learning_rate=0.005769526709681634, basemodel__model__optim=<class 'keras.optimizer_v2.adam.Adam'>, basemodel__validation_split=0.1, clip_y=80, poly_degree=3, scaler=StandardScaler();, score=0.837 total time=   5.6s\n",
            "MLPWrapperRegressor(basemodel=KerasRegressor(batch_size=278, callbacks=[<keras.callbacks.EarlyStopping object at 0x7f1aae208e90>], epochs=50, model=<function create_model at 0x7f1b2a58c7a0>, model__activation='relu', model__dropout=0.1, model__layer1=469, model__learning_rate=0.002874922426530888, model__loss='mse', model__metrics=[<keras.metrics.RootMeanSquaredError object at 0x7f1a960d2c90>, <tensorflow_addons.metrics.r_square.RSquare object at 0x7f1aae09ab10>], model__optim=<class 'keras.optimizer_v2.adam.Adam'>, print_summary=False, validation_split=0.1, verbose=0),\n",
            "                    clip_y=80, poly_degree=2)\n",
            "Finished: 2022-10-04 12:38:42.070135\n"
          ]
        }
      ]
    },
    {
      "cell_type": "code",
      "source": [
        "print(bss.best_estimator_)\n",
        "print(bss.best_score_)\n",
        "print(bss.best_params_)\n",
        "print(\"Finished:\", datetime.datetime.now())"
      ],
      "metadata": {
        "colab": {
          "base_uri": "https://localhost:8080/"
        },
        "id": "SSmZxJKlUNFD",
        "outputId": "8bbedac6-8d0c-41c2-ad32-871cdfdce9eb"
      },
      "execution_count": 48,
      "outputs": [
        {
          "output_type": "stream",
          "name": "stdout",
          "text": [
            "MLPWrapperRegressor(basemodel=KerasRegressor(batch_size=278, callbacks=[<keras.callbacks.EarlyStopping object at 0x7f1aae208e90>], epochs=50, model=<function create_model at 0x7f1b2a58c7a0>, model__activation='relu', model__dropout=0.1, model__layer1=469, model__learning_rate=0.002874922426530888, model__loss='mse', model__metrics=[<keras.metrics.RootMeanSquaredError object at 0x7f1a960d2c90>, <tensorflow_addons.metrics.r_square.RSquare object at 0x7f1aae09ab10>], model__optim=<class 'keras.optimizer_v2.adam.Adam'>, print_summary=False, validation_split=0.1, verbose=0),\n",
            "                    clip_y=80, poly_degree=2)\n",
            "0.8693404879366771\n",
            "OrderedDict([('basemodel__batch_size', 278), ('basemodel__epochs', 50), ('basemodel__model__activation', 'relu'), ('basemodel__model__dropout', 0.1), ('basemodel__model__layer1', 469), ('basemodel__model__learning_rate', 0.002874922426530888), ('basemodel__model__optim', <class 'keras.optimizer_v2.adam.Adam'>), ('basemodel__validation_split', 0.1), ('clip_y', 80), ('poly_degree', 2), ('scaler', StandardScaler())])\n",
            "Finished: 2022-10-04 12:42:17.249641\n"
          ]
        }
      ]
    },
    {
      "cell_type": "code",
      "source": [
        "from skopt.plots import plot_convergence\n",
        "\n",
        "plot_convergence(bss.optimizer_results_)\n",
        "print(\"Finished:\", datetime.datetime.now())"
      ],
      "metadata": {
        "colab": {
          "base_uri": "https://localhost:8080/",
          "height": 315
        },
        "id": "0HUnMESRVitn",
        "outputId": "e95683d9-a769-463f-fa20-934ac05275d5"
      },
      "execution_count": 49,
      "outputs": [
        {
          "output_type": "stream",
          "name": "stdout",
          "text": [
            "Finished: 2022-10-04 12:44:28.452434\n"
          ]
        },
        {
          "output_type": "display_data",
          "data": {
            "text/plain": [
              "<Figure size 432x288 with 1 Axes>"
            ],
            "image/png": "[encoded data removed]"
          },
          "metadata": {
            "needs_background": "light"
          }
        }
      ]
    },
    {
      "cell_type": "code",
      "source": [
        "bss.best_params_"
      ],
      "metadata": {
        "colab": {
          "base_uri": "https://localhost:8080/"
        },
        "id": "ul2OAUiY5IJ4",
        "outputId": "c0c34def-ad40-48a4-bebe-273ffdc0b61c"
      },
      "execution_count": 50,
      "outputs": [
        {
          "output_type": "execute_result",
          "data": {
            "text/plain": [
              "OrderedDict([('basemodel__batch_size', 278),\n",
              "             ('basemodel__epochs', 50),\n",
              "             ('basemodel__model__activation', 'relu'),\n",
              "             ('basemodel__model__dropout', 0.1),\n",
              "             ('basemodel__model__layer1', 469),\n",
              "             ('basemodel__model__learning_rate', 0.002874922426530888),\n",
              "             ('basemodel__model__optim', keras.optimizer_v2.adam.Adam),\n",
              "             ('basemodel__validation_split', 0.1),\n",
              "             ('clip_y', 80),\n",
              "             ('poly_degree', 2),\n",
              "             ('scaler', StandardScaler())])"
            ]
          },
          "metadata": {},
          "execution_count": 50
        }
      ]
    },
    {
      "cell_type": "markdown",
      "source": [
        "# MLP 1-layer \n",
        "\n",
        "## Linear RUL\n",
        "\n",
        "Score: 0.6275937811619965  \n",
        "Test: 0.504\n",
        "```\n",
        "('basemodel__batch_size', 262),\n",
        "('basemodel__epochs', 47),\n",
        "('basemodel__model__activation', 'relu'),\n",
        "('basemodel__model__dropout', 0.42198962995190514),\n",
        "('basemodel__model__layer1', 512),\n",
        "('basemodel__model__learning_rate', 0.00528953958947019),\n",
        "('basemodel__model__optim', keras.optimizer_v2.adam.Adam),\n",
        "('basemodel__validation_split', 0.17975244796806303),\n",
        "('scaler', StandardScaler())\n",
        "```\n",
        "\n",
        "\n",
        "## Non-Linear RUL\n",
        "Score: 0.8670568151811345  \n",
        "Test: 0.865\n",
        "```\n",
        "('basemodel__batch_size', 32),\n",
        "('basemodel__epochs', 50),\n",
        "('basemodel__model__activation', 'sigmoid'),\n",
        "('basemodel__model__dropout', 0.1),\n",
        "('basemodel__model__layer1', 450),\n",
        "('basemodel__model__learning_rate', 0.006977518145392822),\n",
        "('basemodel__model__optim', keras.optimizer_v2.adam.Adam),\n",
        "('basemodel__validation_split', 0.1),\n",
        "('clip_y', 80),\n",
        "('scaler', MinMaxScaler())\n",
        "```\n",
        "\n",
        "## Linear RUL + Poly\n",
        "Score: 0.6307902416968273  \n",
        "Test: 0.289\n",
        "```\n",
        "('basemodel__batch_size', 197),\n",
        "('basemodel__epochs', 41),\n",
        "('basemodel__model__activation', 'relu'),\n",
        "('basemodel__model__dropout', 0.1),\n",
        "('basemodel__model__layer1', 400),\n",
        "('basemodel__model__learning_rate', 0.01),\n",
        "('basemodel__model__optim', keras.optimizer_v2.adam.Adam),\n",
        "('basemodel__validation_split', 0.1),\n",
        "('poly_degree', 2),\n",
        "('scaler', StandardScaler())\n",
        "```\n",
        "\n",
        "## Non-Linear RUL + Poly\n",
        "Score: 0.8693404879366771  \n",
        "Test: 0.874\n",
        "```\n",
        "('basemodel__batch_size', 278),\n",
        "('basemodel__epochs', 50),\n",
        "('basemodel__model__activation', 'relu'),\n",
        "('basemodel__model__dropout', 0.1),\n",
        "('basemodel__model__layer1', 469),\n",
        "('basemodel__model__learning_rate', 0.002874922426530888),\n",
        "('basemodel__model__optim', keras.optimizer_v2.adam.Adam),\n",
        "('basemodel__validation_split', 0.1),\n",
        "('clip_y', 80),\n",
        "('poly_degree', 2),\n",
        "('scaler', StandardScaler())\n",
        "```\n",
        "\n"
      ],
      "metadata": {
        "id": "O3mGfle45Bp_"
      }
    },
    {
      "cell_type": "markdown",
      "source": [
        "# MLP Tester"
      ],
      "metadata": {
        "id": "ppByl3wN_W05"
      }
    },
    {
      "cell_type": "code",
      "source": [
        "CLIP=80\n",
        "\n",
        "model = MLPWrapperRegressor(\n",
        "        clip_y=CLIP, scaler=StandardScaler(), poly_degree=2,\n",
        "        basemodel=\n",
        "            KerasRegressor(model=create_model,\n",
        "                           batch_size=278,\n",
        "                           epochs=50,\n",
        "                           model__activation='relu',\n",
        "                           model__dropout=0.1, \n",
        "                           model__layer1=469, \n",
        "                           model__learning_rate=0.002874922426530888,\n",
        "                           model__optim=Adam,\n",
        "                           validation_split=0.1, \n",
        "                           verbose=0, callbacks=[es, printerCallback],\n",
        "                           model__metrics=[RMSE(), R2()],\n",
        "                           model__loss='mse',\n",
        "                           print_summary=True\n",
        "                           )\n",
        "    )"
      ],
      "metadata": {
        "id": "5p5GYkfQFKtl"
      },
      "execution_count": 51,
      "outputs": []
    },
    {
      "cell_type": "code",
      "source": [
        "model.fit(X_train_, y_train)"
      ],
      "metadata": {
        "colab": {
          "base_uri": "https://localhost:8080/"
        },
        "outputId": "f156eac5-ce6f-4634-9179-c430278f4b41",
        "id": "wmkoVA33FKtl"
      },
      "execution_count": 52,
      "outputs": [
        {
          "output_type": "stream",
          "name": "stdout",
          "text": [
            "Model: \"sequential_273\"\n",
            "_________________________________________________________________\n",
            " Layer (type)                Output Shape              Param #   \n",
            "=================================================================\n",
            " dense_546 (Dense)           (None, 469)               118657    \n",
            "                                                                 \n",
            " dropout_273 (Dropout)       (None, 469)               0         \n",
            "                                                                 \n",
            " dense_547 (Dense)           (None, 1)                 470       \n",
            "                                                                 \n",
            "=================================================================\n",
            "Total params: 119,127\n",
            "Trainable params: 119,127\n",
            "Non-trainable params: 0\n",
            "_________________________________________________________________\n",
            "E 1\t: loss=1594.513, rmse=39.931, r2=-1.657; v_loss=760.062, v_rmse=27.569, v_r2=-0.361; \n",
            "E 2\t: loss=471.905, rmse=21.723, r2=0.214; v_loss=311.359, v_rmse=17.645, v_r2=0.443; \n",
            "E 3\t: loss=275.776, rmse=16.607, r2=0.540; v_loss=223.826, v_rmse=14.961, v_r2=0.599; \n",
            "E 4\t: loss=206.047, rmse=14.354, r2=0.657; v_loss=181.989, v_rmse=13.490, v_r2=0.674; \n",
            "E 5\t: loss=159.813, rmse=12.642, r2=0.734; v_loss=137.412, v_rmse=11.722, v_r2=0.754; \n",
            "E 6\t: loss=125.359, rmse=11.196, r2=0.791; v_loss=113.170, v_rmse=10.638, v_r2=0.797; \n",
            "E 7\t: loss=105.622, rmse=10.277, r2=0.824; v_loss=101.550, v_rmse=10.077, v_r2=0.818; \n",
            "E 8\t: loss=98.271, rmse=9.913, r2=0.836; v_loss=103.192, v_rmse=10.158, v_r2=0.815; \n",
            "E 9\t: loss=95.611, rmse=9.778, r2=0.841; v_loss=94.906, v_rmse=9.742, v_r2=0.830; \n",
            "E 10\t: loss=90.886, rmse=9.533, r2=0.849; v_loss=92.761, v_rmse=9.631, v_r2=0.834; \n",
            "E 11\t: loss=95.074, rmse=9.751, r2=0.842; v_loss=91.975, v_rmse=9.590, v_r2=0.835; \n",
            "E 12\t: loss=86.840, rmse=9.319, r2=0.855; v_loss=92.914, v_rmse=9.639, v_r2=0.834; \n",
            "E 13\t: loss=87.667, rmse=9.363, r2=0.854; v_loss=91.944, v_rmse=9.589, v_r2=0.835; \n",
            "E 14\t: loss=85.369, rmse=9.240, r2=0.858; v_loss=91.482, v_rmse=9.565, v_r2=0.836; \n",
            "E 15\t: loss=83.721, rmse=9.150, r2=0.860; v_loss=90.011, v_rmse=9.487, v_r2=0.839; \n",
            "E 16\t: loss=84.881, rmse=9.213, r2=0.859; v_loss=92.651, v_rmse=9.626, v_r2=0.834; \n",
            "E 17\t: loss=84.135, rmse=9.173, r2=0.860; v_loss=101.148, v_rmse=10.057, v_r2=0.819; \n",
            "E 18\t: loss=85.698, rmse=9.257, r2=0.857; v_loss=95.220, v_rmse=9.758, v_r2=0.830; \n",
            "E 19\t: loss=84.255, rmse=9.179, r2=0.860; v_loss=98.257, v_rmse=9.912, v_r2=0.824; \n",
            "E 20\t: loss=85.672, rmse=9.256, r2=0.857; v_loss=90.056, v_rmse=9.490, v_r2=0.839; \n"
          ]
        },
        {
          "output_type": "execute_result",
          "data": {
            "text/plain": [
              "MLPWrapperRegressor(basemodel=KerasRegressor(batch_size=278, callbacks=[<keras.callbacks.EarlyStopping object at 0x7f1b2a5bfc90>, <keras.callbacks.LambdaCallback object at 0x7f1b2a5c5790>], epochs=50, model=<function create_model at 0x7f1b2a58c7a0>, model__activation='relu', model__dropout=0.1, model__layer1=469, model__learning_rate=0.002874922426530888, model__loss='mse', model__metrics=[<keras.metrics.RootMeanSquaredError object at 0x7f1aae1b4d50>, <tensorflow_addons.metrics.r_square.RSquare object at 0x7f1aae1b4110>], model__optim=<class 'keras.optimizer_v2.adam.Adam'>, print_summary=True, validation_split=0.1, verbose=0),\n",
              "                    clip_y=80, poly_degree=2)"
            ]
          },
          "metadata": {},
          "execution_count": 52
        }
      ]
    },
    {
      "cell_type": "code",
      "source": [
        "# Scaling and formatting test data\n",
        "test_sc = scale_test(X_test,model)\n",
        "# test_wr = gen_test_wrapper(test_sc, SEQ_LENGTH)\n",
        "\n",
        "# Clipping test labels\n",
        "reclipped_y = y_test.copy()\n",
        "if (CLIP > 0): reclipped_y[\"RUL\"].clip(upper=CLIP, inplace=True)\n",
        "\n",
        "# Evaluation\n",
        "# eval.show_result(reclipped_y, model.basemodel.predict(test_sc))\n",
        "eval.show_result(reclipped_y, model.predict(X_test)) ## Doesn't work for LSTM\n",
        "print(\"Finished:\", datetime.datetime.now())"
      ],
      "metadata": {
        "colab": {
          "base_uri": "https://localhost:8080/"
        },
        "outputId": "da027fd9-5639-4eac-c280-6f103fc1800b",
        "id": "RXnrciV-FKtm"
      },
      "execution_count": 54,
      "outputs": [
        {
          "output_type": "stream",
          "name": "stdout",
          "text": [
            "R2=0.874,RMSE=-9.464\n",
            "Finished: 2022-10-04 12:56:44.130641\n"
          ]
        }
      ]
    },
    {
      "cell_type": "markdown",
      "source": [
        "## Non-Linear RUL"
      ],
      "metadata": {
        "id": "WVSMJWsLFDx3"
      }
    },
    {
      "cell_type": "markdown",
      "source": [
        "\n",
        "\n",
        "```\n",
        "LSTMWrapperRegressor(\n",
        "    basemodel=KerasRegressor(\n",
        "        batch_size=32, \n",
        "        epochs=23, \n",
        "        model__activation='tanh',\n",
        "        model__dropout=0.30649418903936865, \n",
        "        model__layer_nodes=512, \n",
        "        model__learning_rate=0.0010472789501880123,\n",
        "        model__optim=<class 'keras.optimizer_v2.rmsprop.RMSprop'>,\n",
        "        validation_split=0.23542211183603107,\n",
        "    clip_y=99, \n",
        "    seq_length=79)\n",
        "```\n",
        "\n"
      ],
      "metadata": {
        "id": "3ZtOjUBNDKtz"
      }
    },
    {
      "cell_type": "code",
      "source": [
        "SEQ_LENGTH=79\n",
        "CLIP=99\n",
        "\n",
        "model = LSTMWrapperRegressor(\n",
        "        clip_y=CLIP, seq_length=SEQ_LENGTH, poly_degree=2,\n",
        "        basemodel=\n",
        "            KerasRegressor(model=create_model,\n",
        "                           batch_size=32,\n",
        "                           epochs=23,\n",
        "                           validation_split=0.23542211183603107, \n",
        "                           model__activation='tanh',\n",
        "                           model__dropout=0.30649418903936865, \n",
        "                           model__layer1=512, \n",
        "                           model__learning_rate=0.0010472789501880123,\n",
        "                           model__optim=RMSprop,\n",
        "                           verbose=0, callbacks=[es, printerCallback],\n",
        "                           model__metrics=[RMSE(), R2()],\n",
        "                           model__loss='mse',\n",
        "                           print_summary=True\n",
        "                           )\n",
        "    )"
      ],
      "metadata": {
        "id": "rqEuUKLF0CfS"
      },
      "execution_count": null,
      "outputs": []
    },
    {
      "cell_type": "code",
      "source": [
        "model.fit(X_train_, y_train)"
      ],
      "metadata": {
        "colab": {
          "base_uri": "https://localhost:8080/"
        },
        "id": "_36P-gmRD6QM",
        "outputId": "55451c3d-7c41-4347-b50c-5dfea4f0c7fb"
      },
      "execution_count": null,
      "outputs": [
        {
          "output_type": "stream",
          "name": "stderr",
          "text": [
            "/usr/local/lib/python3.7/dist-packages/pandas/core/frame.py:3641: PerformanceWarning: DataFrame is highly fragmented.  This is usually the result of calling `frame.insert` many times, which has poor performance.  Consider joining all columns at once using pd.concat(axis=1) instead.  To get a de-fragmented frame, use `newframe = frame.copy()`\n",
            "  self[k1] = value[k2]\n"
          ]
        },
        {
          "output_type": "stream",
          "name": "stdout",
          "text": [
            "Model: \"sequential\"\n",
            "_________________________________________________________________\n",
            " Layer (type)                Output Shape              Param #   \n",
            "=================================================================\n",
            " masking (Masking)           (None, 79, 253)           0         \n",
            "                                                                 \n",
            " lstm (LSTM)                 (None, 512)               1568768   \n",
            "                                                                 \n",
            " dropout (Dropout)           (None, 512)               0         \n",
            "                                                                 \n",
            " dense (Dense)               (None, 1)                 513       \n",
            "                                                                 \n",
            "=================================================================\n",
            "Total params: 1,569,281\n",
            "Trainable params: 1,569,281\n",
            "Non-trainable params: 0\n",
            "_________________________________________________________________\n",
            "E 1\t: loss=578.149, rmse=24.045, r2=0.469; v_loss=144.199, v_rmse=12.008, v_r2=0.872; \n",
            "E 2\t: loss=100.144, rmse=10.007, r2=0.908; v_loss=65.974, v_rmse=8.122, v_r2=0.941; \n",
            "E 3\t: loss=76.217, rmse=8.730, r2=0.930; v_loss=74.162, v_rmse=8.612, v_r2=0.934; \n",
            "E 4\t: loss=65.670, rmse=8.104, r2=0.940; v_loss=72.952, v_rmse=8.541, v_r2=0.935; \n",
            "E 5\t: loss=57.321, rmse=7.571, r2=0.947; v_loss=63.162, v_rmse=7.947, v_r2=0.944; \n",
            "E 6\t: loss=50.718, rmse=7.122, r2=0.953; v_loss=64.987, v_rmse=8.061, v_r2=0.942; \n",
            "E 7\t: loss=44.037, rmse=6.636, r2=0.960; v_loss=56.251, v_rmse=7.500, v_r2=0.950; \n",
            "E 8\t: loss=38.944, rmse=6.241, r2=0.964; v_loss=64.878, v_rmse=8.055, v_r2=0.942; \n",
            "E 9\t: loss=34.945, rmse=5.911, r2=0.968; v_loss=44.270, v_rmse=6.654, v_r2=0.961; \n",
            "E 10\t: loss=30.951, rmse=5.563, r2=0.972; v_loss=48.802, v_rmse=6.986, v_r2=0.957; \n",
            "E 11\t: loss=29.114, rmse=5.396, r2=0.973; v_loss=53.417, v_rmse=7.309, v_r2=0.953; \n",
            "E 12\t: loss=27.563, rmse=5.250, r2=0.975; v_loss=56.601, v_rmse=7.523, v_r2=0.950; \n",
            "E 13\t: loss=25.555, rmse=5.055, r2=0.977; v_loss=44.062, v_rmse=6.638, v_r2=0.961; \n",
            "E 14\t: loss=24.727, rmse=4.973, r2=0.977; v_loss=58.766, v_rmse=7.666, v_r2=0.948; \n",
            "E 15\t: loss=24.022, rmse=4.901, r2=0.978; v_loss=58.903, v_rmse=7.675, v_r2=0.948; \n",
            "E 16\t: loss=23.202, rmse=4.817, r2=0.979; v_loss=53.948, v_rmse=7.345, v_r2=0.952; \n",
            "E 17\t: loss=21.782, rmse=4.667, r2=0.980; v_loss=50.976, v_rmse=7.140, v_r2=0.955; \n",
            "E 18\t: loss=20.798, rmse=4.560, r2=0.981; v_loss=56.699, v_rmse=7.530, v_r2=0.950; \n",
            "E 19\t: loss=20.299, rmse=4.505, r2=0.981; v_loss=53.961, v_rmse=7.346, v_r2=0.952; \n",
            "E 20\t: loss=19.917, rmse=4.463, r2=0.982; v_loss=56.383, v_rmse=7.509, v_r2=0.950; \n",
            "E 21\t: loss=19.888, rmse=4.460, r2=0.982; v_loss=67.227, v_rmse=8.199, v_r2=0.940; \n",
            "E 22\t: loss=19.086, rmse=4.369, r2=0.982; v_loss=62.636, v_rmse=7.914, v_r2=0.944; \n",
            "E 23\t: loss=19.312, rmse=4.395, r2=0.982; v_loss=64.261, v_rmse=8.016, v_r2=0.943; \n"
          ]
        },
        {
          "output_type": "execute_result",
          "data": {
            "text/plain": [
              "LSTMWrapperRegressor(basemodel=KerasRegressor(batch_size=32, callbacks=[<keras.callbacks.EarlyStopping object at 0x7fb131c18910>, <keras.callbacks.LambdaCallback object at 0x7fb131c27090>], epochs=23, model=<function create_model at 0x7fb192fe6c20>, model__activation='tanh', model__dropout=0.30649418903936865, model__layer1=512, model__learning_rate=0.0010472789501880123, model__loss='mse', model__metrics=[<keras.metrics.RootMeanSquaredError object at 0x7fb120413a50>, <tensorflow_addons.metrics.r_square.RSquare object at 0x7fb131c34c10>], model__optim=<class 'keras.optimizer_v2.rmsprop.RMSprop'>, print_summary=True, validation_split=0.23542211183603107, verbose=0),\n",
              "                     clip_y=99, poly_degree=2, seq_length=79)"
            ]
          },
          "metadata": {},
          "execution_count": 41
        }
      ]
    },
    {
      "cell_type": "code",
      "source": [
        "# Scaling and formatting test data\n",
        "test_sc = scale_test(test,model)\n",
        "test_wr = gen_test_wrapper(test_sc, SEQ_LENGTH, cols=model.seq_cols)\n",
        "\n",
        "# Clipping test labels\n",
        "reclipped_y = y_test.copy()\n",
        "reclipped_y[\"RUL\"].clip(upper=CLIP, inplace=True)\n",
        "\n",
        "# Evaluation\n",
        "eval.show_result(reclipped_y, model.basemodel.predict(test_wr))\n",
        "print(\"Finished:\", datetime.datetime.now())"
      ],
      "metadata": {
        "colab": {
          "base_uri": "https://localhost:8080/"
        },
        "id": "NE5L88ftEB7C",
        "outputId": "d1417190-46b2-42c9-f4e1-e5315ce0127f"
      },
      "execution_count": null,
      "outputs": [
        {
          "output_type": "stream",
          "name": "stderr",
          "text": [
            "/usr/local/lib/python3.7/dist-packages/pandas/core/frame.py:3641: PerformanceWarning: DataFrame is highly fragmented.  This is usually the result of calling `frame.insert` many times, which has poor performance.  Consider joining all columns at once using pd.concat(axis=1) instead.  To get a de-fragmented frame, use `newframe = frame.copy()`\n",
            "  self[k1] = value[k2]\n"
          ]
        },
        {
          "output_type": "stream",
          "name": "stdout",
          "text": [
            "R2=0.932,RMSE=-8.833\n",
            "Finished: 2022-09-29 11:29:46.568952\n"
          ]
        }
      ]
    },
    {
      "cell_type": "code",
      "source": [],
      "metadata": {
        "id": "KFqepk2KeacA"
      },
      "execution_count": null,
      "outputs": []
    }
  ]
}