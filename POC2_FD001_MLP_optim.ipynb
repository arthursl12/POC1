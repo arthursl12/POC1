{
  "nbformat": 4,
  "nbformat_minor": 0,
  "metadata": {
    "colab": {
      "provenance": [],
      "collapsed_sections": [
        "iqDPLB2EDXSK",
        "AU6ipeRozJz-",
        "Q4QwyfhXs_hv",
        "n7MBDuPasy-s",
        "e7-_jqRw3cRa",
        "QinQ4hWStzHt",
        "boZqFQNlraCh",
        "IIXnBTkfxpCf",
        "fQA-YtFMM81M",
        "f3Or3dZbB5Pr",
        "t18eQ8H3EfGV",
        "DvHTMj_9_xss",
        "9mjReYMmM08s",
        "Z7Z5u9Bu_Q4x",
        "Ha2fY8VlWD7p",
        "2PYkPPC-tyyd",
        "0Phg7uNOt0qm"
      ],
      "toc_visible": true,
      "authorship_tag": "ABX9TyOtX+L6BoVejhnMYflk7eqL",
      "include_colab_link": true
    },
    "kernelspec": {
      "name": "python3",
      "display_name": "Python 3"
    },
    "language_info": {
      "name": "python"
    },
    "accelerator": "GPU"
  },
  "cells": [
    {
      "cell_type": "markdown",
      "metadata": {
        "id": "view-in-github",
        "colab_type": "text"
      },
      "source": [
        "<a href=\"https://colab.research.google.com/github/arthursl12/POC1/blob/main/POC2_FD001_MLP_optim.ipynb\" target=\"_parent\"><img src=\"https://colab.research.google.com/assets/colab-badge.svg\" alt=\"Open In Colab\"/></a>"
      ]
    },
    {
      "cell_type": "markdown",
      "source": [
        "# Imports"
      ],
      "metadata": {
        "id": "iqDPLB2EDXSK"
      }
    },
    {
      "cell_type": "code",
      "source": [
        "%pip install scikeras;\n",
        "%pip install -U tensorflow-addons;\n",
        "%pip install scikit-optimize"
      ],
      "metadata": {
        "id": "1ObuYEARk28q"
      },
      "execution_count": null,
      "outputs": []
    },
    {
      "cell_type": "code",
      "source": [
        "import os\n",
        "import random\n",
        "import pandas as pd\n",
        "import matplotlib.pyplot as plt\n",
        "import seaborn as sns\n",
        "import numpy as np\n",
        "import glob\n",
        "import datetime"
      ],
      "metadata": {
        "id": "i0Z0Zs7YcgTp"
      },
      "execution_count": null,
      "outputs": []
    },
    {
      "cell_type": "code",
      "source": [
        "from sklearn.pipeline import Pipeline\n",
        "from sklearn.compose import TransformedTargetRegressor\n",
        "\n",
        "from sklearn.preprocessing import FunctionTransformer\n",
        "from sklearn.preprocessing import PolynomialFeatures\n",
        "from sklearn.preprocessing import MinMaxScaler, StandardScaler\n",
        "\n",
        "from sklearn.model_selection import GroupKFold\n",
        "\n",
        "from sklearn.base import BaseEstimator,RegressorMixin"
      ],
      "metadata": {
        "id": "wmJyWwoFHcFL"
      },
      "execution_count": null,
      "outputs": []
    },
    {
      "cell_type": "code",
      "source": [
        "from skopt import BayesSearchCV\n",
        "\n",
        "from skopt.space.space import Categorical, Integer, Real"
      ],
      "metadata": {
        "id": "b4AwhIPNHgzX"
      },
      "execution_count": null,
      "outputs": []
    },
    {
      "cell_type": "code",
      "source": [
        "import tensorflow as tf\n",
        "from tensorflow.keras import Sequential\n",
        "from tensorflow.keras.layers import Dense, Dropout, LSTM, Masking\n",
        "\n",
        "from tensorflow.keras.metrics import RootMeanSquaredError as RMSE\n",
        "\n",
        "from keras.callbacks import LambdaCallback\n",
        "from tensorflow.keras.optimizers import SGD, Adam, RMSprop\n",
        "from tensorflow.keras.optimizers.schedules import ExponentialDecay\n",
        "\n",
        "import tensorflow_addons as tfa\n",
        "from tensorflow_addons.metrics import RSquare as R2\n",
        "\n",
        "from scikeras.wrappers import KerasRegressor"
      ],
      "metadata": {
        "id": "LnMMh6xN33s4"
      },
      "execution_count": null,
      "outputs": []
    },
    {
      "cell_type": "code",
      "source": [
        "sns.set_palette('colorblind')"
      ],
      "metadata": {
        "id": "yIpSdBdJ-uWd"
      },
      "execution_count": null,
      "outputs": []
    },
    {
      "cell_type": "code",
      "source": [
        "# Reproducibility\n",
        "seed = 42\n",
        "os.environ['PYTHONHASHSEED']=str(seed)\n",
        "random.seed(seed)\n",
        "np.random.seed(seed)\n",
        "tf.random.set_seed(seed)"
      ],
      "metadata": {
        "id": "oWUcQTaa3lth"
      },
      "execution_count": null,
      "outputs": []
    },
    {
      "cell_type": "code",
      "source": [
        "tf.config.experimental.enable_op_determinism()"
      ],
      "metadata": {
        "id": "fwRwlCA7Yt4C"
      },
      "execution_count": null,
      "outputs": []
    },
    {
      "cell_type": "code",
      "source": [
        "# Remove some tf warnings\n",
        "import absl.logging\n",
        "absl.logging.set_verbosity(absl.logging.ERROR)"
      ],
      "metadata": {
        "id": "cJXVJecRHjMy"
      },
      "execution_count": null,
      "outputs": []
    },
    {
      "cell_type": "markdown",
      "source": [
        "# Data Preparation"
      ],
      "metadata": {
        "id": "AU6ipeRozJz-"
      }
    },
    {
      "cell_type": "code",
      "source": [
        "if 'google.colab' in str(get_ipython()):\n",
        "    print('Running on CoLab')\n",
        "    IN_COLAB = True\n",
        "    folder=\"/content/CMaps/\"\n",
        "\n",
        "    # Dataset Download \n",
        "    os.system('git clone https://github.com/arthursl12/dataset_2')\n",
        "    os.system('mv /content/dataset_2/CMaps /content/CMaps')\n",
        "    os.system('mv /content/dataset_2/data_processing /content/data_processing')\n",
        "    os.system('rm -rf dataset_2')\n",
        "else:\n",
        "    print('Not running on CoLab')\n",
        "    IN_COLAB = False\n",
        "    folder=\"CMaps/\"\n",
        "    %cd dataset_2/"
      ],
      "metadata": {
        "id": "-EPYBkqeECE9"
      },
      "execution_count": null,
      "outputs": []
    },
    {
      "cell_type": "code",
      "source": [
        "from data_processing.processing import DatasetProcessing\n",
        "from data_processing.training import HyperparameterSearch, reclipper_scorer\n",
        "from data_processing.eval import Evaluation"
      ],
      "metadata": {
        "id": "FUQ5tHe4Eu7z"
      },
      "execution_count": null,
      "outputs": []
    },
    {
      "cell_type": "code",
      "source": [
        "proc = DatasetProcessing()"
      ],
      "metadata": {
        "id": "g1BmyudxzUz-"
      },
      "execution_count": null,
      "outputs": []
    },
    {
      "cell_type": "markdown",
      "source": [
        "## Data Integration"
      ],
      "metadata": {
        "id": "Q4QwyfhXs_hv"
      }
    },
    {
      "cell_type": "markdown",
      "source": [
        "The data are provided as a zip-compressed text file with 26 columns of numbers, separated by spaces. Each row is a snapshot of data taken during a single operational cycle, each column is a different variable. The columns correspond to:  \n",
        "\n",
        "1) unit number   \n",
        "2) time, in cycles  \n",
        "3) operational setting 1  \n",
        "4) operational setting 2  \n",
        "5) operational setting 3    \n",
        "6) sensor measurement 1    \n",
        "7) sensor measurement 2  \n",
        "...  \n",
        "26) sensor measurement 20\n",
        "\n",
        "\n",
        "There are 6 conditions (or combinations) which the 3 operational settings can take.  \n",
        "Condition 1: Altitude = 0, Mach Number = 0, TRA = 100  \n",
        "Condition 2: Altitude = 10, Mach Number = 0.25, TRA = 100  \n",
        "Condition 3: Altitude = 20, Mach Number = 0.7 TRA = 100  \n",
        "Condition 4: Altitude = 25, Mach Number = 0.62, TRA = 60  \n",
        "Condition 5: Altitude = 35 Mach Number = 0.84, TRA = 100  \n",
        "Condition 6: Altitude = 42, Mach Number = 0.84, TRA = 100  \n",
        "  \n",
        "There is slight variation in all these conditions so you may get numbers like 24.453 instead of 25 exactly.\n",
        "\n",
        "FD001: Condition 1 only  \n",
        "FD002: Mix of all the conditions  \n",
        "FD003: Condition 1 only  \n",
        "FD004: Mix of all conditions  \n"
      ],
      "metadata": {
        "id": "PQe-SyeYc6Gf"
      }
    },
    {
      "cell_type": "code",
      "source": [
        "index_cols, settings_cols, sensors_cols, cols = proc.column_names()\n",
        "train, test, y_test = proc.read_dataset(1,folder=folder)\n",
        "train"
      ],
      "metadata": {
        "id": "-yRYxz2hh4xE"
      },
      "execution_count": null,
      "outputs": []
    },
    {
      "cell_type": "markdown",
      "source": [
        "## Preprocessing"
      ],
      "metadata": {
        "id": "n7MBDuPasy-s"
      }
    },
    {
      "cell_type": "markdown",
      "source": [
        "### Validation Set"
      ],
      "metadata": {
        "id": "e7-_jqRw3cRa"
      }
    },
    {
      "cell_type": "code",
      "source": [
        "from sklearn.model_selection import GroupShuffleSplit\n",
        "\n",
        "def train_val_split(train):\n",
        "    gss = GroupShuffleSplit(n_splits=1, train_size=0.80, random_state=42)  \n",
        "    for idx_train, idx_val in gss.split(train,groups=train[\"unit_number\"]):\n",
        "        # print('train_split_engines', train.iloc[idx_train]['unit_number'].unique(), '\\n')\n",
        "        # print('validate_split_engines', train.iloc[idx_val]['unit_number'].unique(), '\\n')\n",
        "\n",
        "        df_train = train.iloc[idx_train].copy()\n",
        "        df_val = train.iloc[idx_val].copy()\n",
        "\n",
        "    return df_train, df_val"
      ],
      "metadata": {
        "id": "_FBiCeewvW-E"
      },
      "execution_count": null,
      "outputs": []
    },
    {
      "cell_type": "code",
      "source": [
        "df_train, df_val = train_val_split(train)"
      ],
      "metadata": {
        "id": "beWX66gdvs0s"
      },
      "execution_count": null,
      "outputs": []
    },
    {
      "cell_type": "code",
      "source": [
        "X_t_train, y_t_train = proc.X_y_train_divide(df_train)\n",
        "X_t_val, y_t_val = proc.X_y_train_divide(df_val)"
      ],
      "metadata": {
        "id": "0PTNitwkvwE2"
      },
      "execution_count": null,
      "outputs": []
    },
    {
      "cell_type": "markdown",
      "source": [
        "### Test Set Transformation \n",
        "Test set has samples for all cycles, but has annotations only for last one"
      ],
      "metadata": {
        "id": "QinQ4hWStzHt"
      }
    },
    {
      "cell_type": "code",
      "source": [
        "test.shape, y_test.shape"
      ],
      "metadata": {
        "id": "4wtvRNsfuUwg"
      },
      "execution_count": null,
      "outputs": []
    },
    {
      "cell_type": "code",
      "source": [
        "test_last = proc.transform_test(test)\n",
        "test_last.head()"
      ],
      "metadata": {
        "id": "onw4pCwZy-1s"
      },
      "execution_count": null,
      "outputs": []
    },
    {
      "cell_type": "code",
      "source": [
        "X_test = test_last"
      ],
      "metadata": {
        "id": "ar3xxOQvIbHW"
      },
      "execution_count": null,
      "outputs": []
    },
    {
      "cell_type": "markdown",
      "source": [
        "### Remaining Useful Life (RUL)"
      ],
      "metadata": {
        "id": "boZqFQNlraCh"
      }
    },
    {
      "cell_type": "code",
      "source": [
        "train = proc.add_remaining_useful_life_linear(train)\n",
        "train[index_cols+['RUL']].head()"
      ],
      "metadata": {
        "id": "lmFKjQaeip1b"
      },
      "execution_count": null,
      "outputs": []
    },
    {
      "cell_type": "markdown",
      "source": [
        "## Attributes and target separation"
      ],
      "metadata": {
        "id": "IIXnBTkfxpCf"
      }
    },
    {
      "cell_type": "code",
      "source": [
        "X_train, y_train = proc.X_y_train_divide(train)"
      ],
      "metadata": {
        "id": "4SzUk6ZLxv6H"
      },
      "execution_count": null,
      "outputs": []
    },
    {
      "cell_type": "code",
      "source": [
        "y_train.head()"
      ],
      "metadata": {
        "id": "fuAnHn4GxzwM"
      },
      "execution_count": null,
      "outputs": []
    },
    {
      "cell_type": "code",
      "source": [
        "X_train.head()"
      ],
      "metadata": {
        "id": "26hK4VWkx1R7"
      },
      "execution_count": null,
      "outputs": []
    },
    {
      "cell_type": "markdown",
      "source": [
        "## Training and Evaluation functions"
      ],
      "metadata": {
        "id": "fQA-YtFMM81M"
      }
    },
    {
      "cell_type": "code",
      "source": [
        "eval = Evaluation()"
      ],
      "metadata": {
        "id": "u88P6scrNTRu"
      },
      "execution_count": null,
      "outputs": []
    },
    {
      "cell_type": "code",
      "source": [
        "search = HyperparameterSearch()"
      ],
      "metadata": {
        "id": "OUcS61OqPFhp"
      },
      "execution_count": null,
      "outputs": []
    },
    {
      "cell_type": "markdown",
      "source": [
        "# MLP Construction"
      ],
      "metadata": {
        "id": "nTPBH5fg_sFd"
      }
    },
    {
      "cell_type": "markdown",
      "source": [
        "## Callbacks"
      ],
      "metadata": {
        "id": "f3Or3dZbB5Pr"
      }
    },
    {
      "cell_type": "code",
      "source": [
        "# Early Stopping Callback\n",
        "es = tf.keras.callbacks.EarlyStopping(monitor='loss', \n",
        "                                      patience=5, restore_best_weights=True)"
      ],
      "metadata": {
        "id": "E_f33CIB-13t"
      },
      "execution_count": null,
      "outputs": []
    },
    {
      "cell_type": "code",
      "source": [
        "# Printing Callback\n",
        "def printLog(epoch, logs):\n",
        "    print(\n",
        "        f\"E {epoch+1}\\t: loss={logs['loss']:.3f}, \"+\n",
        "        f\"rmse={logs['root_mean_squared_error']:.3f}, \"+\n",
        "        f\"r2={logs['r_square']:.3f}; \"+\n",
        "        f\"v_loss={logs['val_loss']:.3f}, \"+\n",
        "        f\"v_rmse={logs['val_root_mean_squared_error']:.3f}, \"+\n",
        "        f\"v_r2={logs['val_r_square']:.3f}; \"\n",
        "    )\n",
        "\n",
        "printerCallback = LambdaCallback(on_epoch_end=printLog)"
      ],
      "metadata": {
        "id": "07NuyHHfWLZ0"
      },
      "execution_count": null,
      "outputs": []
    },
    {
      "cell_type": "markdown",
      "source": [
        "## Auxiliary HyperParameters"
      ],
      "metadata": {
        "id": "t18eQ8H3EfGV"
      }
    },
    {
      "cell_type": "code",
      "source": [
        "layer_sizes=[16,32,64,128,256,512]"
      ],
      "metadata": {
        "id": "Ex7mZbQNEfGW"
      },
      "execution_count": null,
      "outputs": []
    },
    {
      "cell_type": "code",
      "source": [
        "# Exponential Decay Schedules\n",
        "ED1 = ExponentialDecay(initial_learning_rate=1e-2, name=\"ED1\",\n",
        "                       decay_steps=100000, decay_rate=0.96)\n",
        "ED2 = ExponentialDecay(initial_learning_rate=1e-2, name=\"ED2\",\n",
        "                       decay_steps=100000, decay_rate=0.8)\n",
        "ED3 = ExponentialDecay(initial_learning_rate=1e-1, name=\"ED3\",\n",
        "                       decay_steps=100000, decay_rate=0.96)"
      ],
      "metadata": {
        "id": "SPE41-R2EfGX"
      },
      "execution_count": null,
      "outputs": []
    },
    {
      "cell_type": "code",
      "source": [
        "# Generation of list combinations\n",
        "from itertools import chain, permutations\n",
        "\n",
        "def all_permutations(lst, size):\n",
        "    result = list(chain.from_iterable([permutations(lst, x) for x in range(len(lst)+1)]))\n",
        "    out = []\n",
        "    for r in result:\n",
        "        if (len(r) == size):\n",
        "            out.append(list(r))\n",
        "    return out"
      ],
      "metadata": {
        "id": "a2kynIDbEfGZ"
      },
      "execution_count": null,
      "outputs": []
    },
    {
      "cell_type": "markdown",
      "source": [
        "## Constants"
      ],
      "metadata": {
        "id": "DvHTMj_9_xss"
      }
    },
    {
      "cell_type": "code",
      "source": [
        "# X_train must include indices\n",
        "train3 = train.copy()\n",
        "X_train_ = train3.drop(columns=[index_cols[1]]+[\"RUL\"])"
      ],
      "metadata": {
        "id": "MmsURACM-Wkq"
      },
      "execution_count": null,
      "outputs": []
    },
    {
      "cell_type": "code",
      "source": [
        "INPUT_SHAPE = 0"
      ],
      "metadata": {
        "id": "xKy2t3QS8gss"
      },
      "execution_count": null,
      "outputs": []
    },
    {
      "cell_type": "markdown",
      "source": [
        "## Wrapper"
      ],
      "metadata": {
        "id": "9mjReYMmM08s"
      }
    },
    {
      "cell_type": "code",
      "source": [
        "from sys import is_finalizing\n",
        "from sklearn.metrics import r2_score\n",
        "\n",
        "class MLPWrapperRegressor(BaseEstimator,RegressorMixin):\n",
        "    def __init__(self, basemodel=None, clip_y=-1,\n",
        "                 include_settings=False, poly_degree=1,\n",
        "                 scaler=StandardScaler()):\n",
        "        # Base parameters\n",
        "        self.basemodel = basemodel\n",
        "        self.clip_y = clip_y\n",
        "        self.poly_degree = poly_degree\n",
        "        self.include_settings = include_settings\n",
        "\n",
        "        # Column indexers\n",
        "        self.feature_cols = sensors_cols\n",
        "        if(include_settings):\n",
        "            self.feature_cols = settings_cols + self.feature_cols\n",
        "        self.base_feature_cols = self.feature_cols\n",
        "\n",
        "        # Scaler and PolyFeatures transformers\n",
        "        self.scaler = scaler\n",
        "        self.polyft = PolynomialFeatures(degree=self.poly_degree, \n",
        "                                         include_bias=False)\n",
        "\n",
        "    def clean_cols(self,df):\n",
        "        if(\"unit_number\" in df.columns): del df[\"unit_number\"]\n",
        "        if(\"unit_number\" in df.columns): del df[\"unit_number\"]\n",
        "        if(\"time\" in df.columns): del df[\"time\"]\n",
        "        if((not self.include_settings)): \n",
        "            for col in settings_cols:\n",
        "                if(col in df.columns): del df[col]\n",
        "        return df\n",
        "\n",
        "    def fit(self, X=None, y=None):\n",
        "        # Drop irrelevant column\n",
        "        data = pd.DataFrame(X)\n",
        "        data = self.clean_cols(data)\n",
        "        \n",
        "        # Apply polynomial features and add them to the dataframe\n",
        "        transf = self.polyft.fit_transform(data)\n",
        "        data = pd.DataFrame(transf, columns=\n",
        "                              self.polyft.get_feature_names_out())\n",
        "        self.feature_cols = list(self.polyft.get_feature_names_out())\n",
        "\n",
        "        # Scale the data\n",
        "        data = self.scaler.fit_transform(data)\n",
        "        data = pd.DataFrame(data, \n",
        "                            columns=self.scaler.get_feature_names_out())\n",
        "        X_train = data.copy()\n",
        "        \n",
        "        # Clip and transform labels\n",
        "        data2 = pd.DataFrame(y, columns=[\"RUL\"])\n",
        "        if (self.clip_y > 0):\n",
        "            data2[\"RUL\"].clip(upper=self.clip_y, inplace=True)\n",
        "        y_train = data2\n",
        "\n",
        "        # Update input shape for future use\n",
        "        global INPUT_SHAPE\n",
        "        INPUT_SHAPE = X_train.shape[1]\n",
        "\n",
        "        # Fit model\n",
        "        self.basemodel.fit(X_train,y_train)\n",
        "        return self\n",
        "        \n",
        "    def predict(self, X=None):\n",
        "        # Perform transformation, if not done\n",
        "        if (len(X.columns) != len(self.feature_cols)):\n",
        "            X_train = self.transform_features(X)\n",
        "        else:\n",
        "            X_train = X\n",
        "        return self.basemodel.predict(X_train)\n",
        "\n",
        "    def transform_features(self, df):\n",
        "        # Drop irrelevant column\n",
        "        data = pd.DataFrame(df)\n",
        "        data = self.clean_cols(data)\n",
        "        \n",
        "        # Apply polynomial features and add them to the dataframe\n",
        "        transf = self.polyft.transform(data)\n",
        "        data = pd.DataFrame(transf, columns=\n",
        "                              self.polyft.get_feature_names_out())\n",
        "        # self.feature_cols = list(self.polyft.get_feature_names_out())\n",
        "\n",
        "        # Scale the data\n",
        "        data = self.scaler.transform(data)\n",
        "        data = pd.DataFrame(data, \n",
        "                            columns=self.scaler.get_feature_names_out())\n",
        "        return data\n",
        "\n",
        "    def score(self, X, y, sample_weight=None):\n",
        "        X_test = self.transform_features(X)\n",
        "\n",
        "        # Clip and transform labels\n",
        "        data2 = pd.DataFrame(y, columns=[\"RUL\"])\n",
        "        if (self.clip_y > 0):\n",
        "            data2[\"RUL\"].clip(upper=self.clip_y, inplace=True)\n",
        "        y_test = data2\n",
        "\n",
        "        # Predict on test data\n",
        "        y_pred = self.predict(X_test)\n",
        "        return r2_score(y_test, y_pred, sample_weight=sample_weight)"
      ],
      "metadata": {
        "id": "VhrwfNvEM0eL"
      },
      "execution_count": null,
      "outputs": []
    },
    {
      "cell_type": "markdown",
      "source": [
        "## Test Data"
      ],
      "metadata": {
        "id": "Z7Z5u9Bu_Q4x"
      }
    },
    {
      "cell_type": "code",
      "source": [
        "def scale_test(test,model):\n",
        "    test2 = pd.DataFrame(test)\n",
        "    test2 = model.clean_cols(test2)\n",
        "\n",
        "    # Apply polynomial features\n",
        "    transf = model.polyft.transform(test2)\n",
        "    test2 = pd.DataFrame(transf, \n",
        "                         columns=model.polyft.get_feature_names_out())\n",
        "\n",
        "    # Scale the data (with train data parameters)\n",
        "    test2 = model.scaler.transform(test2)\n",
        "    test2 = pd.DataFrame(test2, \n",
        "                         columns=model.polyft.get_feature_names_out())\n",
        "    return test2"
      ],
      "metadata": {
        "id": "OFW6XKjG5kCB"
      },
      "execution_count": null,
      "outputs": []
    },
    {
      "cell_type": "markdown",
      "source": [
        "## Constructor"
      ],
      "metadata": {
        "id": "Ha2fY8VlWD7p"
      }
    },
    {
      "cell_type": "code",
      "source": [
        "def create_model(optim=Adam, learning_rate=1e-3, \n",
        "                 layer1=32  , activation1=\"tanh\"    , dropout1=0.1,\n",
        "                 layer2=None, activation2=\"tanh\"    , dropout2=0.1,\n",
        "                 layer3=None, activation3=\"tanh\"    , dropout3=0.1,\n",
        "                 layer4=None, activation4=\"tanh\"    , dropout4=0.1,\n",
        "                 print_summary=False, loss='mean_squared_error',\n",
        "                 metrics=[tf.keras.metrics.MeanSquaredError()]):\n",
        "    model = Sequential()\n",
        "\n",
        "    # Fully Connected Layer\n",
        "    model.add(Dense(layer1, input_dim=INPUT_SHAPE, activation=activation1))\n",
        "    model.add(Dropout(dropout1))\n",
        "\n",
        "    # Additional hidden layers\n",
        "    if(layer2 is not None):\n",
        "        model.add(Dense(layer2, activation=activation2))\n",
        "        model.add(Dropout(dropout2))\n",
        "        if (layer3 is not None):\n",
        "            model.add(Dense(layer3, activation=activation3))\n",
        "            model.add(Dropout(dropout3))\n",
        "            if (layer4 is not None):\n",
        "                model.add(Dense(layer4, activation=activation4))\n",
        "                model.add(Dropout(dropout4))\n",
        "\n",
        "    # Output Layer\n",
        "    model.add(Dense(1))\n",
        "\n",
        "    model.compile(loss=loss, optimizer=optim(learning_rate=learning_rate), \n",
        "                  metrics=metrics)\n",
        "    \n",
        "    if(print_summary): model.summary()\n",
        "    return model"
      ],
      "metadata": {
        "id": "YR28IpUT5cm5"
      },
      "execution_count": null,
      "outputs": []
    },
    {
      "cell_type": "markdown",
      "source": [
        "# HyperParameter Tuning"
      ],
      "metadata": {
        "id": "Jowfppg9HG3R"
      }
    },
    {
      "cell_type": "code",
      "source": [
        "CLIP=-1\n",
        "\n",
        "model = MLPWrapperRegressor(\n",
        "        clip_y=CLIP,scaler=MinMaxScaler(),\n",
        "        basemodel=\n",
        "            KerasRegressor(model=create_model,\n",
        "                           batch_size=64,\n",
        "                           epochs=1,\n",
        "                           validation_split=0.2, \n",
        "                           model__activation1='relu',\n",
        "                           model__dropout1=0.5, \n",
        "                           model__layer1=512, \n",
        "                           model__layer2=64,\n",
        "                           model__layer3=64,\n",
        "                           model__layer4=64,\n",
        "                           model__learning_rate=0.01,\n",
        "                           model__optim=Adam,\n",
        "                        #    verbose=0, callbacks=[es,printerCallback],\n",
        "                           verbose=0, callbacks=[es],\n",
        "                           model__metrics=[RMSE(), R2()],\n",
        "                           model__loss='mse',\n",
        "                           print_summary=False\n",
        "                           )\n",
        "    )"
      ],
      "metadata": {
        "id": "cxz0nz9mHJ2v"
      },
      "execution_count": null,
      "outputs": []
    },
    {
      "cell_type": "code",
      "source": [
        "# ~3h (LSTM)\n",
        "# ~45min (MLP)\n",
        "GRID_SEARCH = True\n",
        "if (GRID_SEARCH):\n",
        "    param_distributions = {\n",
        "        # \"clip_y\": Integer(80,140),\n",
        "        # \"poly_degree\": Categorical([2,3]),\n",
        "        \"scaler\": Categorical([MinMaxScaler(),StandardScaler()]),\n",
        "        \"basemodel__epochs\": Integer(1,50),\n",
        "        \"basemodel__validation_split\":Real(0.1,0.9),\n",
        "        \"basemodel__batch_size\": Integer(32,512),\n",
        "        \"basemodel__model__optim\":Categorical([Adam,RMSprop]),\n",
        "        \"basemodel__model__learning_rate\": Real(1e-4, 1e-2),\n",
        "        \n",
        "        \"basemodel__model__layer1\": Integer(16,512),\n",
        "        \"basemodel__model__activation1\": Categorical([\"relu\",\"elu\",\"selu\",\"tanh\", \"sigmoid\"]),\n",
        "        \"basemodel__model__dropout1\": Real(0.1,0.9),\n",
        "\n",
        "        \"basemodel__model__layer2\": Integer(16,512),\n",
        "        \"basemodel__model__activation2\": Categorical([\"relu\",\"elu\",\"selu\",\"tanh\", \"sigmoid\"]),\n",
        "        \"basemodel__model__dropout2\": Real(0.1,0.9),\n",
        "\n",
        "        \"basemodel__model__layer3\": Integer(16,512),\n",
        "        \"basemodel__model__activation3\": Categorical([\"relu\",\"elu\",\"selu\",\"tanh\", \"sigmoid\"]),\n",
        "        \"basemodel__model__dropout3\": Real(0.1,0.9),\n",
        "\n",
        "        \"basemodel__model__layer4\": Integer(16,512),\n",
        "        \"basemodel__model__activation4\": Categorical([\"relu\",\"elu\",\"selu\",\"tanh\", \"sigmoid\"]),\n",
        "        \"basemodel__model__dropout4\": Real(0.1,0.9),\n",
        "    }\n",
        "    gcv = GroupKFold(n_splits=3)\n",
        "    groups=X_train_['unit_number']\n",
        "    bss = BayesSearchCV(model, param_distributions, \n",
        "                        verbose=3, n_jobs=1, refit=False,\n",
        "                        cv=gcv.split(X_train_, groups=groups), n_iter=45)\n",
        "    model = bss.fit(X_train_, y_train)\n",
        "    \n",
        "    # print(bss.best_estimator_)\n",
        "    print(\"Finished:\", datetime.datetime.now())"
      ],
      "metadata": {
        "colab": {
          "base_uri": "https://localhost:8080/"
        },
        "id": "OI-MbGPrHsB0",
        "outputId": "c7ae4117-4e06-4137-c220-1537be02b449"
      },
      "execution_count": null,
      "outputs": [
        {
          "output_type": "stream",
          "name": "stdout",
          "text": [
            "Fitting 3 folds for each of 1 candidates, totalling 3 fits\n",
            "[CV 1/3] END basemodel__batch_size=491, basemodel__epochs=35, basemodel__model__activation1=sigmoid, basemodel__model__activation2=selu, basemodel__model__activation3=selu, basemodel__model__activation4=relu, basemodel__model__dropout1=0.1000488406021388, basemodel__model__dropout2=0.3965483901301635, basemodel__model__dropout3=0.5755031308731086, basemodel__model__dropout4=0.24072512447023642, basemodel__model__layer1=397, basemodel__model__layer2=236, basemodel__model__layer3=78, basemodel__model__layer4=108, basemodel__model__learning_rate=0.003739593550034222, basemodel__model__optim=<class 'keras.optimizer_v2.adam.Adam'>, basemodel__validation_split=0.6969019934333063, scaler=StandardScaler();, score=-0.074 total time=   6.0s\n",
            "[CV 2/3] END basemodel__batch_size=491, basemodel__epochs=35, basemodel__model__activation1=sigmoid, basemodel__model__activation2=selu, basemodel__model__activation3=selu, basemodel__model__activation4=relu, basemodel__model__dropout1=0.1000488406021388, basemodel__model__dropout2=0.3965483901301635, basemodel__model__dropout3=0.5755031308731086, basemodel__model__dropout4=0.24072512447023642, basemodel__model__layer1=397, basemodel__model__layer2=236, basemodel__model__layer3=78, basemodel__model__layer4=108, basemodel__model__learning_rate=0.003739593550034222, basemodel__model__optim=<class 'keras.optimizer_v2.adam.Adam'>, basemodel__validation_split=0.6969019934333063, scaler=StandardScaler();, score=-0.148 total time=   6.3s\n",
            "[CV 3/3] END basemodel__batch_size=491, basemodel__epochs=35, basemodel__model__activation1=sigmoid, basemodel__model__activation2=selu, basemodel__model__activation3=selu, basemodel__model__activation4=relu, basemodel__model__dropout1=0.1000488406021388, basemodel__model__dropout2=0.3965483901301635, basemodel__model__dropout3=0.5755031308731086, basemodel__model__dropout4=0.24072512447023642, basemodel__model__layer1=397, basemodel__model__layer2=236, basemodel__model__layer3=78, basemodel__model__layer4=108, basemodel__model__learning_rate=0.003739593550034222, basemodel__model__optim=<class 'keras.optimizer_v2.adam.Adam'>, basemodel__validation_split=0.6969019934333063, scaler=StandardScaler();, score=0.181 total time=   5.7s\n",
            "Fitting 3 folds for each of 1 candidates, totalling 3 fits\n",
            "[CV 1/3] END basemodel__batch_size=34, basemodel__epochs=41, basemodel__model__activation1=sigmoid, basemodel__model__activation2=relu, basemodel__model__activation3=selu, basemodel__model__activation4=relu, basemodel__model__dropout1=0.3502714449877026, basemodel__model__dropout2=0.22207566947075547, basemodel__model__dropout3=0.8150704488420156, basemodel__model__dropout4=0.7506219716105309, basemodel__model__layer1=390, basemodel__model__layer2=26, basemodel__model__layer3=133, basemodel__model__layer4=375, basemodel__model__learning_rate=0.004578678481029758, basemodel__model__optim=<class 'keras.optimizer_v2.rmsprop.RMSprop'>, basemodel__validation_split=0.23331974650437462, scaler=StandardScaler();, score=-0.403 total time= 1.5min\n",
            "[CV 2/3] END basemodel__batch_size=34, basemodel__epochs=41, basemodel__model__activation1=sigmoid, basemodel__model__activation2=relu, basemodel__model__activation3=selu, basemodel__model__activation4=relu, basemodel__model__dropout1=0.3502714449877026, basemodel__model__dropout2=0.22207566947075547, basemodel__model__dropout3=0.8150704488420156, basemodel__model__dropout4=0.7506219716105309, basemodel__model__layer1=390, basemodel__model__layer2=26, basemodel__model__layer3=133, basemodel__model__layer4=375, basemodel__model__learning_rate=0.004578678481029758, basemodel__model__optim=<class 'keras.optimizer_v2.rmsprop.RMSprop'>, basemodel__validation_split=0.23331974650437462, scaler=StandardScaler();, score=-0.188 total time= 2.0min\n",
            "[CV 3/3] END basemodel__batch_size=34, basemodel__epochs=41, basemodel__model__activation1=sigmoid, basemodel__model__activation2=relu, basemodel__model__activation3=selu, basemodel__model__activation4=relu, basemodel__model__dropout1=0.3502714449877026, basemodel__model__dropout2=0.22207566947075547, basemodel__model__dropout3=0.8150704488420156, basemodel__model__dropout4=0.7506219716105309, basemodel__model__layer1=390, basemodel__model__layer2=26, basemodel__model__layer3=133, basemodel__model__layer4=375, basemodel__model__learning_rate=0.004578678481029758, basemodel__model__optim=<class 'keras.optimizer_v2.rmsprop.RMSprop'>, basemodel__validation_split=0.23331974650437462, scaler=StandardScaler();, score=-0.057 total time= 1.0min\n",
            "Fitting 3 folds for each of 1 candidates, totalling 3 fits\n",
            "[CV 1/3] END basemodel__batch_size=454, basemodel__epochs=19, basemodel__model__activation1=selu, basemodel__model__activation2=selu, basemodel__model__activation3=relu, basemodel__model__activation4=sigmoid, basemodel__model__dropout1=0.6073875257017053, basemodel__model__dropout2=0.2601564005227345, basemodel__model__dropout3=0.8139509257665675, basemodel__model__dropout4=0.6898445021128106, basemodel__model__layer1=148, basemodel__model__layer2=32, basemodel__model__layer3=16, basemodel__model__layer4=54, basemodel__model__learning_rate=0.001362187945256048, basemodel__model__optim=<class 'keras.optimizer_v2.rmsprop.RMSprop'>, basemodel__validation_split=0.14162746169588633, scaler=MinMaxScaler();, score=-1.024 total time=   6.3s\n",
            "[CV 2/3] END basemodel__batch_size=454, basemodel__epochs=19, basemodel__model__activation1=selu, basemodel__model__activation2=selu, basemodel__model__activation3=relu, basemodel__model__activation4=sigmoid, basemodel__model__dropout1=0.6073875257017053, basemodel__model__dropout2=0.2601564005227345, basemodel__model__dropout3=0.8139509257665675, basemodel__model__dropout4=0.6898445021128106, basemodel__model__layer1=148, basemodel__model__layer2=32, basemodel__model__layer3=16, basemodel__model__layer4=54, basemodel__model__learning_rate=0.001362187945256048, basemodel__model__optim=<class 'keras.optimizer_v2.rmsprop.RMSprop'>, basemodel__validation_split=0.14162746169588633, scaler=MinMaxScaler();, score=-1.056 total time=   6.3s\n",
            "[CV 3/3] END basemodel__batch_size=454, basemodel__epochs=19, basemodel__model__activation1=selu, basemodel__model__activation2=selu, basemodel__model__activation3=relu, basemodel__model__activation4=sigmoid, basemodel__model__dropout1=0.6073875257017053, basemodel__model__dropout2=0.2601564005227345, basemodel__model__dropout3=0.8139509257665675, basemodel__model__dropout4=0.6898445021128106, basemodel__model__layer1=148, basemodel__model__layer2=32, basemodel__model__layer3=16, basemodel__model__layer4=54, basemodel__model__learning_rate=0.001362187945256048, basemodel__model__optim=<class 'keras.optimizer_v2.rmsprop.RMSprop'>, basemodel__validation_split=0.14162746169588633, scaler=MinMaxScaler();, score=-1.035 total time=   5.8s\n",
            "Fitting 3 folds for each of 1 candidates, totalling 3 fits\n",
            "[CV 1/3] END basemodel__batch_size=455, basemodel__epochs=16, basemodel__model__activation1=tanh, basemodel__model__activation2=relu, basemodel__model__activation3=selu, basemodel__model__activation4=selu, basemodel__model__dropout1=0.4216980598942741, basemodel__model__dropout2=0.27260313827818006, basemodel__model__dropout3=0.26813505952683425, basemodel__model__dropout4=0.762554960882503, basemodel__model__layer1=481, basemodel__model__layer2=484, basemodel__model__layer3=152, basemodel__model__layer4=170, basemodel__model__learning_rate=0.00145031559601384, basemodel__model__optim=<class 'keras.optimizer_v2.rmsprop.RMSprop'>, basemodel__validation_split=0.8282085233710502, scaler=StandardScaler();, score=0.703 total time=   3.6s\n",
            "[CV 2/3] END basemodel__batch_size=455, basemodel__epochs=16, basemodel__model__activation1=tanh, basemodel__model__activation2=relu, basemodel__model__activation3=selu, basemodel__model__activation4=selu, basemodel__model__dropout1=0.4216980598942741, basemodel__model__dropout2=0.27260313827818006, basemodel__model__dropout3=0.26813505952683425, basemodel__model__dropout4=0.762554960882503, basemodel__model__layer1=481, basemodel__model__layer2=484, basemodel__model__layer3=152, basemodel__model__layer4=170, basemodel__model__learning_rate=0.00145031559601384, basemodel__model__optim=<class 'keras.optimizer_v2.rmsprop.RMSprop'>, basemodel__validation_split=0.8282085233710502, scaler=StandardScaler();, score=0.410 total time=   3.8s\n",
            "[CV 3/3] END basemodel__batch_size=455, basemodel__epochs=16, basemodel__model__activation1=tanh, basemodel__model__activation2=relu, basemodel__model__activation3=selu, basemodel__model__activation4=selu, basemodel__model__dropout1=0.4216980598942741, basemodel__model__dropout2=0.27260313827818006, basemodel__model__dropout3=0.26813505952683425, basemodel__model__dropout4=0.762554960882503, basemodel__model__layer1=481, basemodel__model__layer2=484, basemodel__model__layer3=152, basemodel__model__layer4=170, basemodel__model__learning_rate=0.00145031559601384, basemodel__model__optim=<class 'keras.optimizer_v2.rmsprop.RMSprop'>, basemodel__validation_split=0.8282085233710502, scaler=StandardScaler();, score=0.504 total time=   3.4s\n",
            "Fitting 3 folds for each of 1 candidates, totalling 3 fits\n",
            "[CV 1/3] END basemodel__batch_size=285, basemodel__epochs=2, basemodel__model__activation1=sigmoid, basemodel__model__activation2=relu, basemodel__model__activation3=sigmoid, basemodel__model__activation4=relu, basemodel__model__dropout1=0.15371002070295028, basemodel__model__dropout2=0.5683722568031032, basemodel__model__dropout3=0.4810358713938899, basemodel__model__dropout4=0.7927302979855612, basemodel__model__layer1=491, basemodel__model__layer2=234, basemodel__model__layer3=151, basemodel__model__layer4=103, basemodel__model__learning_rate=0.004866741513624454, basemodel__model__optim=<class 'keras.optimizer_v2.adam.Adam'>, basemodel__validation_split=0.8024393581053, scaler=MinMaxScaler();, score=-0.001 total time=   1.3s\n",
            "[CV 2/3] END basemodel__batch_size=285, basemodel__epochs=2, basemodel__model__activation1=sigmoid, basemodel__model__activation2=relu, basemodel__model__activation3=sigmoid, basemodel__model__activation4=relu, basemodel__model__dropout1=0.15371002070295028, basemodel__model__dropout2=0.5683722568031032, basemodel__model__dropout3=0.4810358713938899, basemodel__model__dropout4=0.7927302979855612, basemodel__model__layer1=491, basemodel__model__layer2=234, basemodel__model__layer3=151, basemodel__model__layer4=103, basemodel__model__learning_rate=0.004866741513624454, basemodel__model__optim=<class 'keras.optimizer_v2.adam.Adam'>, basemodel__validation_split=0.8024393581053, scaler=MinMaxScaler();, score=-0.115 total time=   1.3s\n",
            "[CV 3/3] END basemodel__batch_size=285, basemodel__epochs=2, basemodel__model__activation1=sigmoid, basemodel__model__activation2=relu, basemodel__model__activation3=sigmoid, basemodel__model__activation4=relu, basemodel__model__dropout1=0.15371002070295028, basemodel__model__dropout2=0.5683722568031032, basemodel__model__dropout3=0.4810358713938899, basemodel__model__dropout4=0.7927302979855612, basemodel__model__layer1=491, basemodel__model__layer2=234, basemodel__model__layer3=151, basemodel__model__layer4=103, basemodel__model__learning_rate=0.004866741513624454, basemodel__model__optim=<class 'keras.optimizer_v2.adam.Adam'>, basemodel__validation_split=0.8024393581053, scaler=MinMaxScaler();, score=-0.022 total time=   1.1s\n",
            "Fitting 3 folds for each of 1 candidates, totalling 3 fits\n",
            "[CV 1/3] END basemodel__batch_size=338, basemodel__epochs=46, basemodel__model__activation1=relu, basemodel__model__activation2=selu, basemodel__model__activation3=relu, basemodel__model__activation4=elu, basemodel__model__dropout1=0.8587749773615644, basemodel__model__dropout2=0.27823697904759126, basemodel__model__dropout3=0.6106359198378439, basemodel__model__dropout4=0.23906850631712023, basemodel__model__layer1=511, basemodel__model__layer2=234, basemodel__model__layer3=411, basemodel__model__layer4=77, basemodel__model__learning_rate=0.0012528671304387366, basemodel__model__optim=<class 'keras.optimizer_v2.rmsprop.RMSprop'>, basemodel__validation_split=0.7507937401067831, scaler=MinMaxScaler();, score=0.415 total time=   7.0s\n",
            "[CV 2/3] END basemodel__batch_size=338, basemodel__epochs=46, basemodel__model__activation1=relu, basemodel__model__activation2=selu, basemodel__model__activation3=relu, basemodel__model__activation4=elu, basemodel__model__dropout1=0.8587749773615644, basemodel__model__dropout2=0.27823697904759126, basemodel__model__dropout3=0.6106359198378439, basemodel__model__dropout4=0.23906850631712023, basemodel__model__layer1=511, basemodel__model__layer2=234, basemodel__model__layer3=411, basemodel__model__layer4=77, basemodel__model__learning_rate=0.0012528671304387366, basemodel__model__optim=<class 'keras.optimizer_v2.rmsprop.RMSprop'>, basemodel__validation_split=0.7507937401067831, scaler=MinMaxScaler();, score=0.562 total time=   6.6s\n",
            "[CV 3/3] END basemodel__batch_size=338, basemodel__epochs=46, basemodel__model__activation1=relu, basemodel__model__activation2=selu, basemodel__model__activation3=relu, basemodel__model__activation4=elu, basemodel__model__dropout1=0.8587749773615644, basemodel__model__dropout2=0.27823697904759126, basemodel__model__dropout3=0.6106359198378439, basemodel__model__dropout4=0.23906850631712023, basemodel__model__layer1=511, basemodel__model__layer2=234, basemodel__model__layer3=411, basemodel__model__layer4=77, basemodel__model__learning_rate=0.0012528671304387366, basemodel__model__optim=<class 'keras.optimizer_v2.rmsprop.RMSprop'>, basemodel__validation_split=0.7507937401067831, scaler=MinMaxScaler();, score=0.516 total time=   7.0s\n",
            "Fitting 3 folds for each of 1 candidates, totalling 3 fits\n",
            "[CV 1/3] END basemodel__batch_size=312, basemodel__epochs=32, basemodel__model__activation1=relu, basemodel__model__activation2=sigmoid, basemodel__model__activation3=elu, basemodel__model__activation4=elu, basemodel__model__dropout1=0.3647067766498774, basemodel__model__dropout2=0.13095465944193485, basemodel__model__dropout3=0.43629976906716395, basemodel__model__dropout4=0.13692410961091517, basemodel__model__layer1=353, basemodel__model__layer2=395, basemodel__model__layer3=158, basemodel__model__layer4=298, basemodel__model__learning_rate=0.004041296955101291, basemodel__model__optim=<class 'keras.optimizer_v2.rmsprop.RMSprop'>, basemodel__validation_split=0.28453015237791557, scaler=StandardScaler();, score=0.687 total time=  11.8s\n",
            "[CV 2/3] END basemodel__batch_size=312, basemodel__epochs=32, basemodel__model__activation1=relu, basemodel__model__activation2=sigmoid, basemodel__model__activation3=elu, basemodel__model__activation4=elu, basemodel__model__dropout1=0.3647067766498774, basemodel__model__dropout2=0.13095465944193485, basemodel__model__dropout3=0.43629976906716395, basemodel__model__dropout4=0.13692410961091517, basemodel__model__layer1=353, basemodel__model__layer2=395, basemodel__model__layer3=158, basemodel__model__layer4=298, basemodel__model__learning_rate=0.004041296955101291, basemodel__model__optim=<class 'keras.optimizer_v2.rmsprop.RMSprop'>, basemodel__validation_split=0.28453015237791557, scaler=StandardScaler();, score=0.555 total time=  11.7s\n",
            "[CV 3/3] END basemodel__batch_size=312, basemodel__epochs=32, basemodel__model__activation1=relu, basemodel__model__activation2=sigmoid, basemodel__model__activation3=elu, basemodel__model__activation4=elu, basemodel__model__dropout1=0.3647067766498774, basemodel__model__dropout2=0.13095465944193485, basemodel__model__dropout3=0.43629976906716395, basemodel__model__dropout4=0.13692410961091517, basemodel__model__layer1=353, basemodel__model__layer2=395, basemodel__model__layer3=158, basemodel__model__layer4=298, basemodel__model__learning_rate=0.004041296955101291, basemodel__model__optim=<class 'keras.optimizer_v2.rmsprop.RMSprop'>, basemodel__validation_split=0.28453015237791557, scaler=StandardScaler();, score=0.525 total time=  11.6s\n",
            "Fitting 3 folds for each of 1 candidates, totalling 3 fits\n",
            "[CV 1/3] END basemodel__batch_size=280, basemodel__epochs=7, basemodel__model__activation1=relu, basemodel__model__activation2=tanh, basemodel__model__activation3=relu, basemodel__model__activation4=selu, basemodel__model__dropout1=0.35728327457184317, basemodel__model__dropout2=0.3023389937114632, basemodel__model__dropout3=0.5541075282344003, basemodel__model__dropout4=0.48787083149984, basemodel__model__layer1=237, basemodel__model__layer2=493, basemodel__model__layer3=289, basemodel__model__layer4=77, basemodel__model__learning_rate=0.0009760972457448631, basemodel__model__optim=<class 'keras.optimizer_v2.rmsprop.RMSprop'>, basemodel__validation_split=0.29835928712658777, scaler=MinMaxScaler();, score=0.649 total time=   3.4s\n",
            "[CV 2/3] END basemodel__batch_size=280, basemodel__epochs=7, basemodel__model__activation1=relu, basemodel__model__activation2=tanh, basemodel__model__activation3=relu, basemodel__model__activation4=selu, basemodel__model__dropout1=0.35728327457184317, basemodel__model__dropout2=0.3023389937114632, basemodel__model__dropout3=0.5541075282344003, basemodel__model__dropout4=0.48787083149984, basemodel__model__layer1=237, basemodel__model__layer2=493, basemodel__model__layer3=289, basemodel__model__layer4=77, basemodel__model__learning_rate=0.0009760972457448631, basemodel__model__optim=<class 'keras.optimizer_v2.rmsprop.RMSprop'>, basemodel__validation_split=0.29835928712658777, scaler=MinMaxScaler();, score=0.580 total time=   3.5s\n",
            "[CV 3/3] END basemodel__batch_size=280, basemodel__epochs=7, basemodel__model__activation1=relu, basemodel__model__activation2=tanh, basemodel__model__activation3=relu, basemodel__model__activation4=selu, basemodel__model__dropout1=0.35728327457184317, basemodel__model__dropout2=0.3023389937114632, basemodel__model__dropout3=0.5541075282344003, basemodel__model__dropout4=0.48787083149984, basemodel__model__layer1=237, basemodel__model__layer2=493, basemodel__model__layer3=289, basemodel__model__layer4=77, basemodel__model__learning_rate=0.0009760972457448631, basemodel__model__optim=<class 'keras.optimizer_v2.rmsprop.RMSprop'>, basemodel__validation_split=0.29835928712658777, scaler=MinMaxScaler();, score=0.520 total time=   3.5s\n",
            "Fitting 3 folds for each of 1 candidates, totalling 3 fits\n",
            "[CV 1/3] END basemodel__batch_size=364, basemodel__epochs=34, basemodel__model__activation1=selu, basemodel__model__activation2=sigmoid, basemodel__model__activation3=sigmoid, basemodel__model__activation4=tanh, basemodel__model__dropout1=0.6452780428147651, basemodel__model__dropout2=0.14790932464995682, basemodel__model__dropout3=0.3584989495824198, basemodel__model__dropout4=0.5521787980214201, basemodel__model__layer1=476, basemodel__model__layer2=483, basemodel__model__layer3=140, basemodel__model__layer4=195, basemodel__model__learning_rate=0.0011652949920053371, basemodel__model__optim=<class 'keras.optimizer_v2.rmsprop.RMSprop'>, basemodel__validation_split=0.8684265062343886, scaler=StandardScaler();, score=-0.516 total time=   7.0s\n",
            "[CV 2/3] END basemodel__batch_size=364, basemodel__epochs=34, basemodel__model__activation1=selu, basemodel__model__activation2=sigmoid, basemodel__model__activation3=sigmoid, basemodel__model__activation4=tanh, basemodel__model__dropout1=0.6452780428147651, basemodel__model__dropout2=0.14790932464995682, basemodel__model__dropout3=0.3584989495824198, basemodel__model__dropout4=0.5521787980214201, basemodel__model__layer1=476, basemodel__model__layer2=483, basemodel__model__layer3=140, basemodel__model__layer4=195, basemodel__model__learning_rate=0.0011652949920053371, basemodel__model__optim=<class 'keras.optimizer_v2.rmsprop.RMSprop'>, basemodel__validation_split=0.8684265062343886, scaler=StandardScaler();, score=-0.508 total time=   7.4s\n",
            "[CV 3/3] END basemodel__batch_size=364, basemodel__epochs=34, basemodel__model__activation1=selu, basemodel__model__activation2=sigmoid, basemodel__model__activation3=sigmoid, basemodel__model__activation4=tanh, basemodel__model__dropout1=0.6452780428147651, basemodel__model__dropout2=0.14790932464995682, basemodel__model__dropout3=0.3584989495824198, basemodel__model__dropout4=0.5521787980214201, basemodel__model__layer1=476, basemodel__model__layer2=483, basemodel__model__layer3=140, basemodel__model__layer4=195, basemodel__model__learning_rate=0.0011652949920053371, basemodel__model__optim=<class 'keras.optimizer_v2.rmsprop.RMSprop'>, basemodel__validation_split=0.8684265062343886, scaler=StandardScaler();, score=-0.476 total time=   7.1s\n",
            "Fitting 3 folds for each of 1 candidates, totalling 3 fits\n",
            "[CV 1/3] END basemodel__batch_size=170, basemodel__epochs=35, basemodel__model__activation1=sigmoid, basemodel__model__activation2=sigmoid, basemodel__model__activation3=tanh, basemodel__model__activation4=sigmoid, basemodel__model__dropout1=0.6403481957649798, basemodel__model__dropout2=0.4390467871920942, basemodel__model__dropout3=0.607697545038427, basemodel__model__dropout4=0.36294164081678704, basemodel__model__layer1=326, basemodel__model__layer2=171, basemodel__model__layer3=281, basemodel__model__layer4=72, basemodel__model__learning_rate=0.004210399012328898, basemodel__model__optim=<class 'keras.optimizer_v2.adam.Adam'>, basemodel__validation_split=0.5043995320301584, scaler=StandardScaler();, score=-0.015 total time=  14.4s\n",
            "[CV 2/3] END basemodel__batch_size=170, basemodel__epochs=35, basemodel__model__activation1=sigmoid, basemodel__model__activation2=sigmoid, basemodel__model__activation3=tanh, basemodel__model__activation4=sigmoid, basemodel__model__dropout1=0.6403481957649798, basemodel__model__dropout2=0.4390467871920942, basemodel__model__dropout3=0.607697545038427, basemodel__model__dropout4=0.36294164081678704, basemodel__model__layer1=326, basemodel__model__layer2=171, basemodel__model__layer3=281, basemodel__model__layer4=72, basemodel__model__learning_rate=0.004210399012328898, basemodel__model__optim=<class 'keras.optimizer_v2.adam.Adam'>, basemodel__validation_split=0.5043995320301584, scaler=StandardScaler();, score=-0.008 total time=  15.4s\n",
            "[CV 3/3] END basemodel__batch_size=170, basemodel__epochs=35, basemodel__model__activation1=sigmoid, basemodel__model__activation2=sigmoid, basemodel__model__activation3=tanh, basemodel__model__activation4=sigmoid, basemodel__model__dropout1=0.6403481957649798, basemodel__model__dropout2=0.4390467871920942, basemodel__model__dropout3=0.607697545038427, basemodel__model__dropout4=0.36294164081678704, basemodel__model__layer1=326, basemodel__model__layer2=171, basemodel__model__layer3=281, basemodel__model__layer4=72, basemodel__model__learning_rate=0.004210399012328898, basemodel__model__optim=<class 'keras.optimizer_v2.adam.Adam'>, basemodel__validation_split=0.5043995320301584, scaler=StandardScaler();, score=-0.017 total time=  15.7s\n",
            "Fitting 3 folds for each of 1 candidates, totalling 3 fits\n",
            "[CV 1/3] END basemodel__batch_size=32, basemodel__epochs=11, basemodel__model__activation1=sigmoid, basemodel__model__activation2=selu, basemodel__model__activation3=elu, basemodel__model__activation4=elu, basemodel__model__dropout1=0.1, basemodel__model__dropout2=0.2959101941580905, basemodel__model__dropout3=0.17172538949812788, basemodel__model__dropout4=0.14915994438567223, basemodel__model__layer1=321, basemodel__model__layer2=360, basemodel__model__layer3=92, basemodel__model__layer4=235, basemodel__model__learning_rate=0.007880017340296358, basemodel__model__optim=<class 'keras.optimizer_v2.adam.Adam'>, basemodel__validation_split=0.3726253191158143, scaler=MinMaxScaler();, score=0.617 total time=  23.9s\n",
            "[CV 2/3] END basemodel__batch_size=32, basemodel__epochs=11, basemodel__model__activation1=sigmoid, basemodel__model__activation2=selu, basemodel__model__activation3=elu, basemodel__model__activation4=elu, basemodel__model__dropout1=0.1, basemodel__model__dropout2=0.2959101941580905, basemodel__model__dropout3=0.17172538949812788, basemodel__model__dropout4=0.14915994438567223, basemodel__model__layer1=321, basemodel__model__layer2=360, basemodel__model__layer3=92, basemodel__model__layer4=235, basemodel__model__learning_rate=0.007880017340296358, basemodel__model__optim=<class 'keras.optimizer_v2.adam.Adam'>, basemodel__validation_split=0.3726253191158143, scaler=MinMaxScaler();, score=0.624 total time=  23.8s\n",
            "[CV 3/3] END basemodel__batch_size=32, basemodel__epochs=11, basemodel__model__activation1=sigmoid, basemodel__model__activation2=selu, basemodel__model__activation3=elu, basemodel__model__activation4=elu, basemodel__model__dropout1=0.1, basemodel__model__dropout2=0.2959101941580905, basemodel__model__dropout3=0.17172538949812788, basemodel__model__dropout4=0.14915994438567223, basemodel__model__layer1=321, basemodel__model__layer2=360, basemodel__model__layer3=92, basemodel__model__layer4=235, basemodel__model__learning_rate=0.007880017340296358, basemodel__model__optim=<class 'keras.optimizer_v2.adam.Adam'>, basemodel__validation_split=0.3726253191158143, scaler=MinMaxScaler();, score=0.523 total time=  24.4s\n",
            "Fitting 3 folds for each of 1 candidates, totalling 3 fits\n",
            "[CV 1/3] END basemodel__batch_size=36, basemodel__epochs=31, basemodel__model__activation1=elu, basemodel__model__activation2=sigmoid, basemodel__model__activation3=relu, basemodel__model__activation4=selu, basemodel__model__dropout1=0.6479616001173809, basemodel__model__dropout2=0.6723526886529225, basemodel__model__dropout3=0.297103784768888, basemodel__model__dropout4=0.8199827664893623, basemodel__model__layer1=411, basemodel__model__layer2=473, basemodel__model__layer3=237, basemodel__model__layer4=147, basemodel__model__learning_rate=0.009977105856529335, basemodel__model__optim=<class 'keras.optimizer_v2.adam.Adam'>, basemodel__validation_split=0.2013179745549925, scaler=StandardScaler();, score=0.625 total time=  25.5s\n",
            "[CV 2/3] END basemodel__batch_size=36, basemodel__epochs=31, basemodel__model__activation1=elu, basemodel__model__activation2=sigmoid, basemodel__model__activation3=relu, basemodel__model__activation4=selu, basemodel__model__dropout1=0.6479616001173809, basemodel__model__dropout2=0.6723526886529225, basemodel__model__dropout3=0.297103784768888, basemodel__model__dropout4=0.8199827664893623, basemodel__model__layer1=411, basemodel__model__layer2=473, basemodel__model__layer3=237, basemodel__model__layer4=147, basemodel__model__learning_rate=0.009977105856529335, basemodel__model__optim=<class 'keras.optimizer_v2.adam.Adam'>, basemodel__validation_split=0.2013179745549925, scaler=StandardScaler();, score=0.586 total time=  22.4s\n",
            "[CV 3/3] END basemodel__batch_size=36, basemodel__epochs=31, basemodel__model__activation1=elu, basemodel__model__activation2=sigmoid, basemodel__model__activation3=relu, basemodel__model__activation4=selu, basemodel__model__dropout1=0.6479616001173809, basemodel__model__dropout2=0.6723526886529225, basemodel__model__dropout3=0.297103784768888, basemodel__model__dropout4=0.8199827664893623, basemodel__model__layer1=411, basemodel__model__layer2=473, basemodel__model__layer3=237, basemodel__model__layer4=147, basemodel__model__learning_rate=0.009977105856529335, basemodel__model__optim=<class 'keras.optimizer_v2.adam.Adam'>, basemodel__validation_split=0.2013179745549925, scaler=StandardScaler();, score=0.480 total time=  40.9s\n",
            "Fitting 3 folds for each of 1 candidates, totalling 3 fits\n",
            "[CV 1/3] END basemodel__batch_size=32, basemodel__epochs=1, basemodel__model__activation1=tanh, basemodel__model__activation2=elu, basemodel__model__activation3=tanh, basemodel__model__activation4=elu, basemodel__model__dropout1=0.1, basemodel__model__dropout2=0.9, basemodel__model__dropout3=0.1, basemodel__model__dropout4=0.9, basemodel__model__layer1=16, basemodel__model__layer2=512, basemodel__model__layer3=16, basemodel__model__layer4=512, basemodel__model__learning_rate=0.01, basemodel__model__optim=<class 'keras.optimizer_v2.adam.Adam'>, basemodel__validation_split=0.1, scaler=MinMaxScaler();, score=-0.009 total time=   3.4s\n",
            "[CV 2/3] END basemodel__batch_size=32, basemodel__epochs=1, basemodel__model__activation1=tanh, basemodel__model__activation2=elu, basemodel__model__activation3=tanh, basemodel__model__activation4=elu, basemodel__model__dropout1=0.1, basemodel__model__dropout2=0.9, basemodel__model__dropout3=0.1, basemodel__model__dropout4=0.9, basemodel__model__layer1=16, basemodel__model__layer2=512, basemodel__model__layer3=16, basemodel__model__layer4=512, basemodel__model__learning_rate=0.01, basemodel__model__optim=<class 'keras.optimizer_v2.adam.Adam'>, basemodel__validation_split=0.1, scaler=MinMaxScaler();, score=-0.002 total time=   3.4s\n",
            "[CV 3/3] END basemodel__batch_size=32, basemodel__epochs=1, basemodel__model__activation1=tanh, basemodel__model__activation2=elu, basemodel__model__activation3=tanh, basemodel__model__activation4=elu, basemodel__model__dropout1=0.1, basemodel__model__dropout2=0.9, basemodel__model__dropout3=0.1, basemodel__model__dropout4=0.9, basemodel__model__layer1=16, basemodel__model__layer2=512, basemodel__model__layer3=16, basemodel__model__layer4=512, basemodel__model__learning_rate=0.01, basemodel__model__optim=<class 'keras.optimizer_v2.adam.Adam'>, basemodel__validation_split=0.1, scaler=MinMaxScaler();, score=0.501 total time=   3.4s\n",
            "Fitting 3 folds for each of 1 candidates, totalling 3 fits\n",
            "[CV 1/3] END basemodel__batch_size=512, basemodel__epochs=1, basemodel__model__activation1=tanh, basemodel__model__activation2=selu, basemodel__model__activation3=relu, basemodel__model__activation4=selu, basemodel__model__dropout1=0.1, basemodel__model__dropout2=0.1, basemodel__model__dropout3=0.7624145881376311, basemodel__model__dropout4=0.1, basemodel__model__layer1=16, basemodel__model__layer2=512, basemodel__model__layer3=502, basemodel__model__layer4=33, basemodel__model__learning_rate=0.0001, basemodel__model__optim=<class 'keras.optimizer_v2.rmsprop.RMSprop'>, basemodel__validation_split=0.5409543487346173, scaler=MinMaxScaler();, score=-2.247 total time=   1.2s\n",
            "[CV 2/3] END basemodel__batch_size=512, basemodel__epochs=1, basemodel__model__activation1=tanh, basemodel__model__activation2=selu, basemodel__model__activation3=relu, basemodel__model__activation4=selu, basemodel__model__dropout1=0.1, basemodel__model__dropout2=0.1, basemodel__model__dropout3=0.7624145881376311, basemodel__model__dropout4=0.1, basemodel__model__layer1=16, basemodel__model__layer2=512, basemodel__model__layer3=502, basemodel__model__layer4=33, basemodel__model__learning_rate=0.0001, basemodel__model__optim=<class 'keras.optimizer_v2.rmsprop.RMSprop'>, basemodel__validation_split=0.5409543487346173, scaler=MinMaxScaler();, score=-2.289 total time=   1.1s\n",
            "[CV 3/3] END basemodel__batch_size=512, basemodel__epochs=1, basemodel__model__activation1=tanh, basemodel__model__activation2=selu, basemodel__model__activation3=relu, basemodel__model__activation4=selu, basemodel__model__dropout1=0.1, basemodel__model__dropout2=0.1, basemodel__model__dropout3=0.7624145881376311, basemodel__model__dropout4=0.1, basemodel__model__layer1=16, basemodel__model__layer2=512, basemodel__model__layer3=502, basemodel__model__layer4=33, basemodel__model__learning_rate=0.0001, basemodel__model__optim=<class 'keras.optimizer_v2.rmsprop.RMSprop'>, basemodel__validation_split=0.5409543487346173, scaler=MinMaxScaler();, score=-2.287 total time=   1.1s\n",
            "Fitting 3 folds for each of 1 candidates, totalling 3 fits\n",
            "[CV 1/3] END basemodel__batch_size=229, basemodel__epochs=22, basemodel__model__activation1=relu, basemodel__model__activation2=sigmoid, basemodel__model__activation3=elu, basemodel__model__activation4=elu, basemodel__model__dropout1=0.3745919000825412, basemodel__model__dropout2=0.25862618752108113, basemodel__model__dropout3=0.4490163264402307, basemodel__model__dropout4=0.26148189535367117, basemodel__model__layer1=331, basemodel__model__layer2=424, basemodel__model__layer3=225, basemodel__model__layer4=227, basemodel__model__learning_rate=0.004125390948297247, basemodel__model__optim=<class 'keras.optimizer_v2.rmsprop.RMSprop'>, basemodel__validation_split=0.19855992629637817, scaler=StandardScaler();, score=0.679 total time=  11.4s\n",
            "[CV 2/3] END basemodel__batch_size=229, basemodel__epochs=22, basemodel__model__activation1=relu, basemodel__model__activation2=sigmoid, basemodel__model__activation3=elu, basemodel__model__activation4=elu, basemodel__model__dropout1=0.3745919000825412, basemodel__model__dropout2=0.25862618752108113, basemodel__model__dropout3=0.4490163264402307, basemodel__model__dropout4=0.26148189535367117, basemodel__model__layer1=331, basemodel__model__layer2=424, basemodel__model__layer3=225, basemodel__model__layer4=227, basemodel__model__learning_rate=0.004125390948297247, basemodel__model__optim=<class 'keras.optimizer_v2.rmsprop.RMSprop'>, basemodel__validation_split=0.19855992629637817, scaler=StandardScaler();, score=0.617 total time=  11.4s\n",
            "[CV 3/3] END basemodel__batch_size=229, basemodel__epochs=22, basemodel__model__activation1=relu, basemodel__model__activation2=sigmoid, basemodel__model__activation3=elu, basemodel__model__activation4=elu, basemodel__model__dropout1=0.3745919000825412, basemodel__model__dropout2=0.25862618752108113, basemodel__model__dropout3=0.4490163264402307, basemodel__model__dropout4=0.26148189535367117, basemodel__model__layer1=331, basemodel__model__layer2=424, basemodel__model__layer3=225, basemodel__model__layer4=227, basemodel__model__learning_rate=0.004125390948297247, basemodel__model__optim=<class 'keras.optimizer_v2.rmsprop.RMSprop'>, basemodel__validation_split=0.19855992629637817, scaler=StandardScaler();, score=0.538 total time=  10.9s\n",
            "Fitting 3 folds for each of 1 candidates, totalling 3 fits\n",
            "[CV 1/3] END basemodel__batch_size=127, basemodel__epochs=17, basemodel__model__activation1=relu, basemodel__model__activation2=sigmoid, basemodel__model__activation3=elu, basemodel__model__activation4=elu, basemodel__model__dropout1=0.405658593077186, basemodel__model__dropout2=0.3589949636608206, basemodel__model__dropout3=0.4633066337493309, basemodel__model__dropout4=0.32587881379978234, basemodel__model__layer1=308, basemodel__model__layer2=442, basemodel__model__layer3=301, basemodel__model__layer4=153, basemodel__model__learning_rate=0.0038661981642895585, basemodel__model__optim=<class 'keras.optimizer_v2.rmsprop.RMSprop'>, basemodel__validation_split=0.14630628708453258, scaler=StandardScaler();, score=0.673 total time=  15.1s\n",
            "[CV 2/3] END basemodel__batch_size=127, basemodel__epochs=17, basemodel__model__activation1=relu, basemodel__model__activation2=sigmoid, basemodel__model__activation3=elu, basemodel__model__activation4=elu, basemodel__model__dropout1=0.405658593077186, basemodel__model__dropout2=0.3589949636608206, basemodel__model__dropout3=0.4633066337493309, basemodel__model__dropout4=0.32587881379978234, basemodel__model__layer1=308, basemodel__model__layer2=442, basemodel__model__layer3=301, basemodel__model__layer4=153, basemodel__model__learning_rate=0.0038661981642895585, basemodel__model__optim=<class 'keras.optimizer_v2.rmsprop.RMSprop'>, basemodel__validation_split=0.14630628708453258, scaler=StandardScaler();, score=0.615 total time=  14.9s\n",
            "[CV 3/3] END basemodel__batch_size=127, basemodel__epochs=17, basemodel__model__activation1=relu, basemodel__model__activation2=sigmoid, basemodel__model__activation3=elu, basemodel__model__activation4=elu, basemodel__model__dropout1=0.405658593077186, basemodel__model__dropout2=0.3589949636608206, basemodel__model__dropout3=0.4633066337493309, basemodel__model__dropout4=0.32587881379978234, basemodel__model__layer1=308, basemodel__model__layer2=442, basemodel__model__layer3=301, basemodel__model__layer4=153, basemodel__model__learning_rate=0.0038661981642895585, basemodel__model__optim=<class 'keras.optimizer_v2.rmsprop.RMSprop'>, basemodel__validation_split=0.14630628708453258, scaler=StandardScaler();, score=0.565 total time=  14.9s\n",
            "Fitting 3 folds for each of 1 candidates, totalling 3 fits\n",
            "[CV 1/3] END basemodel__batch_size=192, basemodel__epochs=20, basemodel__model__activation1=relu, basemodel__model__activation2=sigmoid, basemodel__model__activation3=elu, basemodel__model__activation4=elu, basemodel__model__dropout1=0.44393041109799336, basemodel__model__dropout2=0.3003285672248535, basemodel__model__dropout3=0.45804895076840024, basemodel__model__dropout4=0.3349747759632761, basemodel__model__layer1=320, basemodel__model__layer2=423, basemodel__model__layer3=263, basemodel__model__layer4=230, basemodel__model__learning_rate=0.005025156371512266, basemodel__model__optim=<class 'keras.optimizer_v2.rmsprop.RMSprop'>, basemodel__validation_split=0.10764040425344276, scaler=StandardScaler();, score=0.680 total time=  12.8s\n",
            "[CV 2/3] END basemodel__batch_size=192, basemodel__epochs=20, basemodel__model__activation1=relu, basemodel__model__activation2=sigmoid, basemodel__model__activation3=elu, basemodel__model__activation4=elu, basemodel__model__dropout1=0.44393041109799336, basemodel__model__dropout2=0.3003285672248535, basemodel__model__dropout3=0.45804895076840024, basemodel__model__dropout4=0.3349747759632761, basemodel__model__layer1=320, basemodel__model__layer2=423, basemodel__model__layer3=263, basemodel__model__layer4=230, basemodel__model__learning_rate=0.005025156371512266, basemodel__model__optim=<class 'keras.optimizer_v2.rmsprop.RMSprop'>, basemodel__validation_split=0.10764040425344276, scaler=StandardScaler();, score=0.612 total time=  12.9s\n",
            "[CV 3/3] END basemodel__batch_size=192, basemodel__epochs=20, basemodel__model__activation1=relu, basemodel__model__activation2=sigmoid, basemodel__model__activation3=elu, basemodel__model__activation4=elu, basemodel__model__dropout1=0.44393041109799336, basemodel__model__dropout2=0.3003285672248535, basemodel__model__dropout3=0.45804895076840024, basemodel__model__dropout4=0.3349747759632761, basemodel__model__layer1=320, basemodel__model__layer2=423, basemodel__model__layer3=263, basemodel__model__layer4=230, basemodel__model__learning_rate=0.005025156371512266, basemodel__model__optim=<class 'keras.optimizer_v2.rmsprop.RMSprop'>, basemodel__validation_split=0.10764040425344276, scaler=StandardScaler();, score=0.553 total time=  13.1s\n",
            "Fitting 3 folds for each of 1 candidates, totalling 3 fits\n",
            "[CV 1/3] END basemodel__batch_size=229, basemodel__epochs=1, basemodel__model__activation1=relu, basemodel__model__activation2=sigmoid, basemodel__model__activation3=elu, basemodel__model__activation4=elu, basemodel__model__dropout1=0.3563663131766669, basemodel__model__dropout2=0.4675915193085274, basemodel__model__dropout3=0.47522346817781413, basemodel__model__dropout4=0.6508346107512549, basemodel__model__layer1=286, basemodel__model__layer2=471, basemodel__model__layer3=264, basemodel__model__layer4=202, basemodel__model__learning_rate=0.006284832135662351, basemodel__model__optim=<class 'keras.optimizer_v2.rmsprop.RMSprop'>, basemodel__validation_split=0.1, scaler=StandardScaler();, score=0.311 total time=   1.5s\n",
            "[CV 2/3] END basemodel__batch_size=229, basemodel__epochs=1, basemodel__model__activation1=relu, basemodel__model__activation2=sigmoid, basemodel__model__activation3=elu, basemodel__model__activation4=elu, basemodel__model__dropout1=0.3563663131766669, basemodel__model__dropout2=0.4675915193085274, basemodel__model__dropout3=0.47522346817781413, basemodel__model__dropout4=0.6508346107512549, basemodel__model__layer1=286, basemodel__model__layer2=471, basemodel__model__layer3=264, basemodel__model__layer4=202, basemodel__model__learning_rate=0.006284832135662351, basemodel__model__optim=<class 'keras.optimizer_v2.rmsprop.RMSprop'>, basemodel__validation_split=0.1, scaler=StandardScaler();, score=-0.438 total time=   1.4s\n",
            "[CV 3/3] END basemodel__batch_size=229, basemodel__epochs=1, basemodel__model__activation1=relu, basemodel__model__activation2=sigmoid, basemodel__model__activation3=elu, basemodel__model__activation4=elu, basemodel__model__dropout1=0.3563663131766669, basemodel__model__dropout2=0.4675915193085274, basemodel__model__dropout3=0.47522346817781413, basemodel__model__dropout4=0.6508346107512549, basemodel__model__layer1=286, basemodel__model__layer2=471, basemodel__model__layer3=264, basemodel__model__layer4=202, basemodel__model__learning_rate=0.006284832135662351, basemodel__model__optim=<class 'keras.optimizer_v2.rmsprop.RMSprop'>, basemodel__validation_split=0.1, scaler=StandardScaler();, score=0.447 total time=   1.6s\n",
            "Fitting 3 folds for each of 1 candidates, totalling 3 fits\n",
            "[CV 1/3] END basemodel__batch_size=32, basemodel__epochs=1, basemodel__model__activation1=relu, basemodel__model__activation2=tanh, basemodel__model__activation3=relu, basemodel__model__activation4=selu, basemodel__model__dropout1=0.14728861164275783, basemodel__model__dropout2=0.5413877518901893, basemodel__model__dropout3=0.5272459914918005, basemodel__model__dropout4=0.38109973075420644, basemodel__model__layer1=155, basemodel__model__layer2=512, basemodel__model__layer3=435, basemodel__model__layer4=16, basemodel__model__learning_rate=0.0001, basemodel__model__optim=<class 'keras.optimizer_v2.rmsprop.RMSprop'>, basemodel__validation_split=0.25610634082151534, scaler=MinMaxScaler();, score=0.052 total time=   4.2s\n",
            "[CV 2/3] END basemodel__batch_size=32, basemodel__epochs=1, basemodel__model__activation1=relu, basemodel__model__activation2=tanh, basemodel__model__activation3=relu, basemodel__model__activation4=selu, basemodel__model__dropout1=0.14728861164275783, basemodel__model__dropout2=0.5413877518901893, basemodel__model__dropout3=0.5272459914918005, basemodel__model__dropout4=0.38109973075420644, basemodel__model__layer1=155, basemodel__model__layer2=512, basemodel__model__layer3=435, basemodel__model__layer4=16, basemodel__model__learning_rate=0.0001, basemodel__model__optim=<class 'keras.optimizer_v2.rmsprop.RMSprop'>, basemodel__validation_split=0.25610634082151534, scaler=MinMaxScaler();, score=0.072 total time=   4.1s\n",
            "[CV 3/3] END basemodel__batch_size=32, basemodel__epochs=1, basemodel__model__activation1=relu, basemodel__model__activation2=tanh, basemodel__model__activation3=relu, basemodel__model__activation4=selu, basemodel__model__dropout1=0.14728861164275783, basemodel__model__dropout2=0.5413877518901893, basemodel__model__dropout3=0.5272459914918005, basemodel__model__dropout4=0.38109973075420644, basemodel__model__layer1=155, basemodel__model__layer2=512, basemodel__model__layer3=435, basemodel__model__layer4=16, basemodel__model__learning_rate=0.0001, basemodel__model__optim=<class 'keras.optimizer_v2.rmsprop.RMSprop'>, basemodel__validation_split=0.25610634082151534, scaler=MinMaxScaler();, score=-0.013 total time=   4.2s\n",
            "Fitting 3 folds for each of 1 candidates, totalling 3 fits\n",
            "[CV 1/3] END basemodel__batch_size=78, basemodel__epochs=17, basemodel__model__activation1=relu, basemodel__model__activation2=sigmoid, basemodel__model__activation3=elu, basemodel__model__activation4=elu, basemodel__model__dropout1=0.3101726672707793, basemodel__model__dropout2=0.3483955691002547, basemodel__model__dropout3=0.46501201065677467, basemodel__model__dropout4=0.23182226878693224, basemodel__model__layer1=285, basemodel__model__layer2=474, basemodel__model__layer3=312, basemodel__model__layer4=85, basemodel__model__learning_rate=0.001304253088558758, basemodel__model__optim=<class 'keras.optimizer_v2.rmsprop.RMSprop'>, basemodel__validation_split=0.242458527499362, scaler=StandardScaler();, score=0.663 total time=  22.2s\n",
            "[CV 2/3] END basemodel__batch_size=78, basemodel__epochs=17, basemodel__model__activation1=relu, basemodel__model__activation2=sigmoid, basemodel__model__activation3=elu, basemodel__model__activation4=elu, basemodel__model__dropout1=0.3101726672707793, basemodel__model__dropout2=0.3483955691002547, basemodel__model__dropout3=0.46501201065677467, basemodel__model__dropout4=0.23182226878693224, basemodel__model__layer1=285, basemodel__model__layer2=474, basemodel__model__layer3=312, basemodel__model__layer4=85, basemodel__model__learning_rate=0.001304253088558758, basemodel__model__optim=<class 'keras.optimizer_v2.rmsprop.RMSprop'>, basemodel__validation_split=0.242458527499362, scaler=StandardScaler();, score=0.627 total time=  22.4s\n",
            "[CV 3/3] END basemodel__batch_size=78, basemodel__epochs=17, basemodel__model__activation1=relu, basemodel__model__activation2=sigmoid, basemodel__model__activation3=elu, basemodel__model__activation4=elu, basemodel__model__dropout1=0.3101726672707793, basemodel__model__dropout2=0.3483955691002547, basemodel__model__dropout3=0.46501201065677467, basemodel__model__dropout4=0.23182226878693224, basemodel__model__layer1=285, basemodel__model__layer2=474, basemodel__model__layer3=312, basemodel__model__layer4=85, basemodel__model__learning_rate=0.001304253088558758, basemodel__model__optim=<class 'keras.optimizer_v2.rmsprop.RMSprop'>, basemodel__validation_split=0.242458527499362, scaler=StandardScaler();, score=0.542 total time=  22.2s\n",
            "Fitting 3 folds for each of 1 candidates, totalling 3 fits\n",
            "[CV 1/3] END basemodel__batch_size=45, basemodel__epochs=19, basemodel__model__activation1=relu, basemodel__model__activation2=sigmoid, basemodel__model__activation3=elu, basemodel__model__activation4=elu, basemodel__model__dropout1=0.35739853116111664, basemodel__model__dropout2=0.4095198138315136, basemodel__model__dropout3=0.3916571444782556, basemodel__model__dropout4=0.16889953016205939, basemodel__model__layer1=312, basemodel__model__layer2=436, basemodel__model__layer3=324, basemodel__model__layer4=41, basemodel__model__learning_rate=0.0032974979106024246, basemodel__model__optim=<class 'keras.optimizer_v2.rmsprop.RMSprop'>, basemodel__validation_split=0.43356448365651434, scaler=StandardScaler();, score=0.657 total time=  35.4s\n",
            "[CV 2/3] END basemodel__batch_size=45, basemodel__epochs=19, basemodel__model__activation1=relu, basemodel__model__activation2=sigmoid, basemodel__model__activation3=elu, basemodel__model__activation4=elu, basemodel__model__dropout1=0.35739853116111664, basemodel__model__dropout2=0.4095198138315136, basemodel__model__dropout3=0.3916571444782556, basemodel__model__dropout4=0.16889953016205939, basemodel__model__layer1=312, basemodel__model__layer2=436, basemodel__model__layer3=324, basemodel__model__layer4=41, basemodel__model__learning_rate=0.0032974979106024246, basemodel__model__optim=<class 'keras.optimizer_v2.rmsprop.RMSprop'>, basemodel__validation_split=0.43356448365651434, scaler=StandardScaler();, score=0.568 total time=  36.6s\n",
            "[CV 3/3] END basemodel__batch_size=45, basemodel__epochs=19, basemodel__model__activation1=relu, basemodel__model__activation2=sigmoid, basemodel__model__activation3=elu, basemodel__model__activation4=elu, basemodel__model__dropout1=0.35739853116111664, basemodel__model__dropout2=0.4095198138315136, basemodel__model__dropout3=0.3916571444782556, basemodel__model__dropout4=0.16889953016205939, basemodel__model__layer1=312, basemodel__model__layer2=436, basemodel__model__layer3=324, basemodel__model__layer4=41, basemodel__model__learning_rate=0.0032974979106024246, basemodel__model__optim=<class 'keras.optimizer_v2.rmsprop.RMSprop'>, basemodel__validation_split=0.43356448365651434, scaler=StandardScaler();, score=0.520 total time=  38.0s\n",
            "Fitting 3 folds for each of 1 candidates, totalling 3 fits\n",
            "[CV 1/3] END basemodel__batch_size=476, basemodel__epochs=32, basemodel__model__activation1=tanh, basemodel__model__activation2=relu, basemodel__model__activation3=selu, basemodel__model__activation4=selu, basemodel__model__dropout1=0.7633249096390854, basemodel__model__dropout2=0.28422810518706026, basemodel__model__dropout3=0.1, basemodel__model__dropout4=0.9, basemodel__model__layer1=512, basemodel__model__layer2=459, basemodel__model__layer3=16, basemodel__model__layer4=226, basemodel__model__learning_rate=0.001441152808344141, basemodel__model__optim=<class 'keras.optimizer_v2.rmsprop.RMSprop'>, basemodel__validation_split=0.9, scaler=StandardScaler();, score=0.643 total time=   4.9s\n",
            "[CV 2/3] END basemodel__batch_size=476, basemodel__epochs=32, basemodel__model__activation1=tanh, basemodel__model__activation2=relu, basemodel__model__activation3=selu, basemodel__model__activation4=selu, basemodel__model__dropout1=0.7633249096390854, basemodel__model__dropout2=0.28422810518706026, basemodel__model__dropout3=0.1, basemodel__model__dropout4=0.9, basemodel__model__layer1=512, basemodel__model__layer2=459, basemodel__model__layer3=16, basemodel__model__layer4=226, basemodel__model__learning_rate=0.001441152808344141, basemodel__model__optim=<class 'keras.optimizer_v2.rmsprop.RMSprop'>, basemodel__validation_split=0.9, scaler=StandardScaler();, score=0.304 total time=   5.2s\n",
            "[CV 3/3] END basemodel__batch_size=476, basemodel__epochs=32, basemodel__model__activation1=tanh, basemodel__model__activation2=relu, basemodel__model__activation3=selu, basemodel__model__activation4=selu, basemodel__model__dropout1=0.7633249096390854, basemodel__model__dropout2=0.28422810518706026, basemodel__model__dropout3=0.1, basemodel__model__dropout4=0.9, basemodel__model__layer1=512, basemodel__model__layer2=459, basemodel__model__layer3=16, basemodel__model__layer4=226, basemodel__model__learning_rate=0.001441152808344141, basemodel__model__optim=<class 'keras.optimizer_v2.rmsprop.RMSprop'>, basemodel__validation_split=0.9, scaler=StandardScaler();, score=0.355 total time=   5.5s\n",
            "Fitting 3 folds for each of 1 candidates, totalling 3 fits\n",
            "[CV 1/3] END basemodel__batch_size=395, basemodel__epochs=10, basemodel__model__activation1=relu, basemodel__model__activation2=tanh, basemodel__model__activation3=relu, basemodel__model__activation4=selu, basemodel__model__dropout1=0.45728049140398375, basemodel__model__dropout2=0.19222838732834927, basemodel__model__dropout3=0.5648631989320688, basemodel__model__dropout4=0.530545238944186, basemodel__model__layer1=276, basemodel__model__layer2=481, basemodel__model__layer3=221, basemodel__model__layer4=108, basemodel__model__learning_rate=0.0014018268354639186, basemodel__model__optim=<class 'keras.optimizer_v2.rmsprop.RMSprop'>, basemodel__validation_split=0.31957477391487377, scaler=MinMaxScaler();, score=0.639 total time=   3.5s\n",
            "[CV 2/3] END basemodel__batch_size=395, basemodel__epochs=10, basemodel__model__activation1=relu, basemodel__model__activation2=tanh, basemodel__model__activation3=relu, basemodel__model__activation4=selu, basemodel__model__dropout1=0.45728049140398375, basemodel__model__dropout2=0.19222838732834927, basemodel__model__dropout3=0.5648631989320688, basemodel__model__dropout4=0.530545238944186, basemodel__model__layer1=276, basemodel__model__layer2=481, basemodel__model__layer3=221, basemodel__model__layer4=108, basemodel__model__learning_rate=0.0014018268354639186, basemodel__model__optim=<class 'keras.optimizer_v2.rmsprop.RMSprop'>, basemodel__validation_split=0.31957477391487377, scaler=MinMaxScaler();, score=0.592 total time=   3.4s\n",
            "[CV 3/3] END basemodel__batch_size=395, basemodel__epochs=10, basemodel__model__activation1=relu, basemodel__model__activation2=tanh, basemodel__model__activation3=relu, basemodel__model__activation4=selu, basemodel__model__dropout1=0.45728049140398375, basemodel__model__dropout2=0.19222838732834927, basemodel__model__dropout3=0.5648631989320688, basemodel__model__dropout4=0.530545238944186, basemodel__model__layer1=276, basemodel__model__layer2=481, basemodel__model__layer3=221, basemodel__model__layer4=108, basemodel__model__learning_rate=0.0014018268354639186, basemodel__model__optim=<class 'keras.optimizer_v2.rmsprop.RMSprop'>, basemodel__validation_split=0.31957477391487377, scaler=MinMaxScaler();, score=0.510 total time=   3.7s\n",
            "Fitting 3 folds for each of 1 candidates, totalling 3 fits\n",
            "[CV 1/3] END basemodel__batch_size=339, basemodel__epochs=21, basemodel__model__activation1=relu, basemodel__model__activation2=selu, basemodel__model__activation3=relu, basemodel__model__activation4=relu, basemodel__model__dropout1=0.5118130822090061, basemodel__model__dropout2=0.17586847544132617, basemodel__model__dropout3=0.3329379599498129, basemodel__model__dropout4=0.4266915754941195, basemodel__model__layer1=278, basemodel__model__layer2=422, basemodel__model__layer3=148, basemodel__model__layer4=317, basemodel__model__learning_rate=0.003480194694002998, basemodel__model__optim=<class 'keras.optimizer_v2.rmsprop.RMSprop'>, basemodel__validation_split=0.4115016236497626, scaler=MinMaxScaler();, score=0.552 total time=   7.2s\n",
            "[CV 2/3] END basemodel__batch_size=339, basemodel__epochs=21, basemodel__model__activation1=relu, basemodel__model__activation2=selu, basemodel__model__activation3=relu, basemodel__model__activation4=relu, basemodel__model__dropout1=0.5118130822090061, basemodel__model__dropout2=0.17586847544132617, basemodel__model__dropout3=0.3329379599498129, basemodel__model__dropout4=0.4266915754941195, basemodel__model__layer1=278, basemodel__model__layer2=422, basemodel__model__layer3=148, basemodel__model__layer4=317, basemodel__model__learning_rate=0.003480194694002998, basemodel__model__optim=<class 'keras.optimizer_v2.rmsprop.RMSprop'>, basemodel__validation_split=0.4115016236497626, scaler=MinMaxScaler();, score=0.616 total time=   7.0s\n",
            "[CV 3/3] END basemodel__batch_size=339, basemodel__epochs=21, basemodel__model__activation1=relu, basemodel__model__activation2=selu, basemodel__model__activation3=relu, basemodel__model__activation4=relu, basemodel__model__dropout1=0.5118130822090061, basemodel__model__dropout2=0.17586847544132617, basemodel__model__dropout3=0.3329379599498129, basemodel__model__dropout4=0.4266915754941195, basemodel__model__layer1=278, basemodel__model__layer2=422, basemodel__model__layer3=148, basemodel__model__layer4=317, basemodel__model__learning_rate=0.003480194694002998, basemodel__model__optim=<class 'keras.optimizer_v2.rmsprop.RMSprop'>, basemodel__validation_split=0.4115016236497626, scaler=MinMaxScaler();, score=0.513 total time=   6.8s\n",
            "Fitting 3 folds for each of 1 candidates, totalling 3 fits\n",
            "[CV 1/3] END basemodel__batch_size=286, basemodel__epochs=16, basemodel__model__activation1=relu, basemodel__model__activation2=tanh, basemodel__model__activation3=sigmoid, basemodel__model__activation4=sigmoid, basemodel__model__dropout1=0.5907557658224225, basemodel__model__dropout2=0.20341801405866017, basemodel__model__dropout3=0.6788182995578619, basemodel__model__dropout4=0.4665670668454531, basemodel__model__layer1=272, basemodel__model__layer2=396, basemodel__model__layer3=197, basemodel__model__layer4=459, basemodel__model__learning_rate=0.004113977772228845, basemodel__model__optim=<class 'keras.optimizer_v2.rmsprop.RMSprop'>, basemodel__validation_split=0.1581634834382074, scaler=MinMaxScaler();, score=0.641 total time=   7.2s\n",
            "[CV 2/3] END basemodel__batch_size=286, basemodel__epochs=16, basemodel__model__activation1=relu, basemodel__model__activation2=tanh, basemodel__model__activation3=sigmoid, basemodel__model__activation4=sigmoid, basemodel__model__dropout1=0.5907557658224225, basemodel__model__dropout2=0.20341801405866017, basemodel__model__dropout3=0.6788182995578619, basemodel__model__dropout4=0.4665670668454531, basemodel__model__layer1=272, basemodel__model__layer2=396, basemodel__model__layer3=197, basemodel__model__layer4=459, basemodel__model__learning_rate=0.004113977772228845, basemodel__model__optim=<class 'keras.optimizer_v2.rmsprop.RMSprop'>, basemodel__validation_split=0.1581634834382074, scaler=MinMaxScaler();, score=0.559 total time=   8.2s\n",
            "[CV 3/3] END basemodel__batch_size=286, basemodel__epochs=16, basemodel__model__activation1=relu, basemodel__model__activation2=tanh, basemodel__model__activation3=sigmoid, basemodel__model__activation4=sigmoid, basemodel__model__dropout1=0.5907557658224225, basemodel__model__dropout2=0.20341801405866017, basemodel__model__dropout3=0.6788182995578619, basemodel__model__dropout4=0.4665670668454531, basemodel__model__layer1=272, basemodel__model__layer2=396, basemodel__model__layer3=197, basemodel__model__layer4=459, basemodel__model__learning_rate=0.004113977772228845, basemodel__model__optim=<class 'keras.optimizer_v2.rmsprop.RMSprop'>, basemodel__validation_split=0.1581634834382074, scaler=MinMaxScaler();, score=0.550 total time=   7.7s\n",
            "Fitting 3 folds for each of 1 candidates, totalling 3 fits\n",
            "[CV 1/3] END basemodel__batch_size=32, basemodel__epochs=1, basemodel__model__activation1=sigmoid, basemodel__model__activation2=relu, basemodel__model__activation3=elu, basemodel__model__activation4=elu, basemodel__model__dropout1=0.12018781311612023, basemodel__model__dropout2=0.19140200142052843, basemodel__model__dropout3=0.16700215973816662, basemodel__model__dropout4=0.1, basemodel__model__layer1=56, basemodel__model__layer2=504, basemodel__model__layer3=16, basemodel__model__layer4=512, basemodel__model__learning_rate=0.008902498237625145, basemodel__model__optim=<class 'keras.optimizer_v2.rmsprop.RMSprop'>, basemodel__validation_split=0.1, scaler=MinMaxScaler();, score=0.627 total time=   4.1s\n",
            "[CV 2/3] END basemodel__batch_size=32, basemodel__epochs=1, basemodel__model__activation1=sigmoid, basemodel__model__activation2=relu, basemodel__model__activation3=elu, basemodel__model__activation4=elu, basemodel__model__dropout1=0.12018781311612023, basemodel__model__dropout2=0.19140200142052843, basemodel__model__dropout3=0.16700215973816662, basemodel__model__dropout4=0.1, basemodel__model__layer1=56, basemodel__model__layer2=504, basemodel__model__layer3=16, basemodel__model__layer4=512, basemodel__model__learning_rate=0.008902498237625145, basemodel__model__optim=<class 'keras.optimizer_v2.rmsprop.RMSprop'>, basemodel__validation_split=0.1, scaler=MinMaxScaler();, score=0.581 total time=   4.5s\n",
            "[CV 3/3] END basemodel__batch_size=32, basemodel__epochs=1, basemodel__model__activation1=sigmoid, basemodel__model__activation2=relu, basemodel__model__activation3=elu, basemodel__model__activation4=elu, basemodel__model__dropout1=0.12018781311612023, basemodel__model__dropout2=0.19140200142052843, basemodel__model__dropout3=0.16700215973816662, basemodel__model__dropout4=0.1, basemodel__model__layer1=56, basemodel__model__layer2=504, basemodel__model__layer3=16, basemodel__model__layer4=512, basemodel__model__learning_rate=0.008902498237625145, basemodel__model__optim=<class 'keras.optimizer_v2.rmsprop.RMSprop'>, basemodel__validation_split=0.1, scaler=MinMaxScaler();, score=0.525 total time=   4.5s\n",
            "Fitting 3 folds for each of 1 candidates, totalling 3 fits\n",
            "[CV 1/3] END basemodel__batch_size=330, basemodel__epochs=50, basemodel__model__activation1=relu, basemodel__model__activation2=tanh, basemodel__model__activation3=tanh, basemodel__model__activation4=tanh, basemodel__model__dropout1=0.9, basemodel__model__dropout2=0.15993643689209525, basemodel__model__dropout3=0.9, basemodel__model__dropout4=0.6634073525384899, basemodel__model__layer1=512, basemodel__model__layer2=16, basemodel__model__layer3=331, basemodel__model__layer4=512, basemodel__model__learning_rate=0.01, basemodel__model__optim=<class 'keras.optimizer_v2.rmsprop.RMSprop'>, basemodel__validation_split=0.1, scaler=MinMaxScaler();, score=0.621 total time=   8.5s\n",
            "[CV 2/3] END basemodel__batch_size=330, basemodel__epochs=50, basemodel__model__activation1=relu, basemodel__model__activation2=tanh, basemodel__model__activation3=tanh, basemodel__model__activation4=tanh, basemodel__model__dropout1=0.9, basemodel__model__dropout2=0.15993643689209525, basemodel__model__dropout3=0.9, basemodel__model__dropout4=0.6634073525384899, basemodel__model__layer1=512, basemodel__model__layer2=16, basemodel__model__layer3=331, basemodel__model__layer4=512, basemodel__model__learning_rate=0.01, basemodel__model__optim=<class 'keras.optimizer_v2.rmsprop.RMSprop'>, basemodel__validation_split=0.1, scaler=MinMaxScaler();, score=0.590 total time=   7.6s\n",
            "[CV 3/3] END basemodel__batch_size=330, basemodel__epochs=50, basemodel__model__activation1=relu, basemodel__model__activation2=tanh, basemodel__model__activation3=tanh, basemodel__model__activation4=tanh, basemodel__model__dropout1=0.9, basemodel__model__dropout2=0.15993643689209525, basemodel__model__dropout3=0.9, basemodel__model__dropout4=0.6634073525384899, basemodel__model__layer1=512, basemodel__model__layer2=16, basemodel__model__layer3=331, basemodel__model__layer4=512, basemodel__model__learning_rate=0.01, basemodel__model__optim=<class 'keras.optimizer_v2.rmsprop.RMSprop'>, basemodel__validation_split=0.1, scaler=MinMaxScaler();, score=0.532 total time=   8.2s\n",
            "Fitting 3 folds for each of 1 candidates, totalling 3 fits\n",
            "[CV 1/3] END basemodel__batch_size=111, basemodel__epochs=1, basemodel__model__activation1=tanh, basemodel__model__activation2=elu, basemodel__model__activation3=tanh, basemodel__model__activation4=selu, basemodel__model__dropout1=0.1, basemodel__model__dropout2=0.7087382997284886, basemodel__model__dropout3=0.42511356691064295, basemodel__model__dropout4=0.9, basemodel__model__layer1=512, basemodel__model__layer2=512, basemodel__model__layer3=292, basemodel__model__layer4=190, basemodel__model__learning_rate=0.006236198683369909, basemodel__model__optim=<class 'keras.optimizer_v2.rmsprop.RMSprop'>, basemodel__validation_split=0.7465189025598468, scaler=StandardScaler();, score=0.605 total time=   1.7s\n",
            "[CV 2/3] END basemodel__batch_size=111, basemodel__epochs=1, basemodel__model__activation1=tanh, basemodel__model__activation2=elu, basemodel__model__activation3=tanh, basemodel__model__activation4=selu, basemodel__model__dropout1=0.1, basemodel__model__dropout2=0.7087382997284886, basemodel__model__dropout3=0.42511356691064295, basemodel__model__dropout4=0.9, basemodel__model__layer1=512, basemodel__model__layer2=512, basemodel__model__layer3=292, basemodel__model__layer4=190, basemodel__model__learning_rate=0.006236198683369909, basemodel__model__optim=<class 'keras.optimizer_v2.rmsprop.RMSprop'>, basemodel__validation_split=0.7465189025598468, scaler=StandardScaler();, score=0.505 total time=   1.6s\n",
            "[CV 3/3] END basemodel__batch_size=111, basemodel__epochs=1, basemodel__model__activation1=tanh, basemodel__model__activation2=elu, basemodel__model__activation3=tanh, basemodel__model__activation4=selu, basemodel__model__dropout1=0.1, basemodel__model__dropout2=0.7087382997284886, basemodel__model__dropout3=0.42511356691064295, basemodel__model__dropout4=0.9, basemodel__model__layer1=512, basemodel__model__layer2=512, basemodel__model__layer3=292, basemodel__model__layer4=190, basemodel__model__learning_rate=0.006236198683369909, basemodel__model__optim=<class 'keras.optimizer_v2.rmsprop.RMSprop'>, basemodel__validation_split=0.7465189025598468, scaler=StandardScaler();, score=0.513 total time=   1.5s\n",
            "Fitting 3 folds for each of 1 candidates, totalling 3 fits\n",
            "[CV 1/3] END basemodel__batch_size=506, basemodel__epochs=50, basemodel__model__activation1=relu, basemodel__model__activation2=tanh, basemodel__model__activation3=elu, basemodel__model__activation4=elu, basemodel__model__dropout1=0.3610852404946153, basemodel__model__dropout2=0.1, basemodel__model__dropout3=0.7338555497872141, basemodel__model__dropout4=0.2855990377235233, basemodel__model__layer1=395, basemodel__model__layer2=437, basemodel__model__layer3=32, basemodel__model__layer4=508, basemodel__model__learning_rate=0.0010345846883640308, basemodel__model__optim=<class 'keras.optimizer_v2.rmsprop.RMSprop'>, basemodel__validation_split=0.1057144848550671, scaler=StandardScaler();, score=-0.270 total time=  12.9s\n",
            "[CV 2/3] END basemodel__batch_size=506, basemodel__epochs=50, basemodel__model__activation1=relu, basemodel__model__activation2=tanh, basemodel__model__activation3=elu, basemodel__model__activation4=elu, basemodel__model__dropout1=0.3610852404946153, basemodel__model__dropout2=0.1, basemodel__model__dropout3=0.7338555497872141, basemodel__model__dropout4=0.2855990377235233, basemodel__model__layer1=395, basemodel__model__layer2=437, basemodel__model__layer3=32, basemodel__model__layer4=508, basemodel__model__learning_rate=0.0010345846883640308, basemodel__model__optim=<class 'keras.optimizer_v2.rmsprop.RMSprop'>, basemodel__validation_split=0.1057144848550671, scaler=StandardScaler();, score=-0.940 total time=   8.4s\n",
            "[CV 3/3] END basemodel__batch_size=506, basemodel__epochs=50, basemodel__model__activation1=relu, basemodel__model__activation2=tanh, basemodel__model__activation3=elu, basemodel__model__activation4=elu, basemodel__model__dropout1=0.3610852404946153, basemodel__model__dropout2=0.1, basemodel__model__dropout3=0.7338555497872141, basemodel__model__dropout4=0.2855990377235233, basemodel__model__layer1=395, basemodel__model__layer2=437, basemodel__model__layer3=32, basemodel__model__layer4=508, basemodel__model__learning_rate=0.0010345846883640308, basemodel__model__optim=<class 'keras.optimizer_v2.rmsprop.RMSprop'>, basemodel__validation_split=0.1057144848550671, scaler=StandardScaler();, score=0.011 total time=  11.9s\n",
            "Fitting 3 folds for each of 1 candidates, totalling 3 fits\n",
            "[CV 1/3] END basemodel__batch_size=303, basemodel__epochs=22, basemodel__model__activation1=relu, basemodel__model__activation2=tanh, basemodel__model__activation3=tanh, basemodel__model__activation4=tanh, basemodel__model__dropout1=0.8986593684453875, basemodel__model__dropout2=0.1, basemodel__model__dropout3=0.8683781383062095, basemodel__model__dropout4=0.49395048143277065, basemodel__model__layer1=295, basemodel__model__layer2=315, basemodel__model__layer3=86, basemodel__model__layer4=512, basemodel__model__learning_rate=0.0052648582230644695, basemodel__model__optim=<class 'keras.optimizer_v2.rmsprop.RMSprop'>, basemodel__validation_split=0.1, scaler=MinMaxScaler();, score=0.592 total time=   9.6s\n",
            "[CV 2/3] END basemodel__batch_size=303, basemodel__epochs=22, basemodel__model__activation1=relu, basemodel__model__activation2=tanh, basemodel__model__activation3=tanh, basemodel__model__activation4=tanh, basemodel__model__dropout1=0.8986593684453875, basemodel__model__dropout2=0.1, basemodel__model__dropout3=0.8683781383062095, basemodel__model__dropout4=0.49395048143277065, basemodel__model__layer1=295, basemodel__model__layer2=315, basemodel__model__layer3=86, basemodel__model__layer4=512, basemodel__model__learning_rate=0.0052648582230644695, basemodel__model__optim=<class 'keras.optimizer_v2.rmsprop.RMSprop'>, basemodel__validation_split=0.1, scaler=MinMaxScaler();, score=0.580 total time=   9.5s\n",
            "[CV 3/3] END basemodel__batch_size=303, basemodel__epochs=22, basemodel__model__activation1=relu, basemodel__model__activation2=tanh, basemodel__model__activation3=tanh, basemodel__model__activation4=tanh, basemodel__model__dropout1=0.8986593684453875, basemodel__model__dropout2=0.1, basemodel__model__dropout3=0.8683781383062095, basemodel__model__dropout4=0.49395048143277065, basemodel__model__layer1=295, basemodel__model__layer2=315, basemodel__model__layer3=86, basemodel__model__layer4=512, basemodel__model__learning_rate=0.0052648582230644695, basemodel__model__optim=<class 'keras.optimizer_v2.rmsprop.RMSprop'>, basemodel__validation_split=0.1, scaler=MinMaxScaler();, score=0.528 total time=   9.5s\n",
            "Fitting 3 folds for each of 1 candidates, totalling 3 fits\n",
            "[CV 1/3] END basemodel__batch_size=32, basemodel__epochs=1, basemodel__model__activation1=sigmoid, basemodel__model__activation2=selu, basemodel__model__activation3=elu, basemodel__model__activation4=elu, basemodel__model__dropout1=0.1031061756201778, basemodel__model__dropout2=0.23292016346222444, basemodel__model__dropout3=0.1, basemodel__model__dropout4=0.11885921234972713, basemodel__model__layer1=284, basemodel__model__layer2=405, basemodel__model__layer3=94, basemodel__model__layer4=306, basemodel__model__learning_rate=0.009514405240500408, basemodel__model__optim=<class 'keras.optimizer_v2.adam.Adam'>, basemodel__validation_split=0.20725717368826682, scaler=MinMaxScaler();, score=0.656 total time=   3.5s\n",
            "[CV 2/3] END basemodel__batch_size=32, basemodel__epochs=1, basemodel__model__activation1=sigmoid, basemodel__model__activation2=selu, basemodel__model__activation3=elu, basemodel__model__activation4=elu, basemodel__model__dropout1=0.1031061756201778, basemodel__model__dropout2=0.23292016346222444, basemodel__model__dropout3=0.1, basemodel__model__dropout4=0.11885921234972713, basemodel__model__layer1=284, basemodel__model__layer2=405, basemodel__model__layer3=94, basemodel__model__layer4=306, basemodel__model__learning_rate=0.009514405240500408, basemodel__model__optim=<class 'keras.optimizer_v2.adam.Adam'>, basemodel__validation_split=0.20725717368826682, scaler=MinMaxScaler();, score=0.584 total time=   3.4s\n",
            "[CV 3/3] END basemodel__batch_size=32, basemodel__epochs=1, basemodel__model__activation1=sigmoid, basemodel__model__activation2=selu, basemodel__model__activation3=elu, basemodel__model__activation4=elu, basemodel__model__dropout1=0.1031061756201778, basemodel__model__dropout2=0.23292016346222444, basemodel__model__dropout3=0.1, basemodel__model__dropout4=0.11885921234972713, basemodel__model__layer1=284, basemodel__model__layer2=405, basemodel__model__layer3=94, basemodel__model__layer4=306, basemodel__model__learning_rate=0.009514405240500408, basemodel__model__optim=<class 'keras.optimizer_v2.adam.Adam'>, basemodel__validation_split=0.20725717368826682, scaler=MinMaxScaler();, score=0.478 total time=   3.2s\n",
            "Fitting 3 folds for each of 1 candidates, totalling 3 fits\n",
            "[CV 1/3] END basemodel__batch_size=197, basemodel__epochs=30, basemodel__model__activation1=relu, basemodel__model__activation2=sigmoid, basemodel__model__activation3=elu, basemodel__model__activation4=elu, basemodel__model__dropout1=0.4174547135966825, basemodel__model__dropout2=0.20769333617354913, basemodel__model__dropout3=0.42580537389698714, basemodel__model__dropout4=0.22106971657051946, basemodel__model__layer1=331, basemodel__model__layer2=390, basemodel__model__layer3=242, basemodel__model__layer4=272, basemodel__model__learning_rate=0.004401771155897767, basemodel__model__optim=<class 'keras.optimizer_v2.rmsprop.RMSprop'>, basemodel__validation_split=0.14028329635668801, scaler=StandardScaler();, score=0.679 total time=  17.7s\n",
            "[CV 2/3] END basemodel__batch_size=197, basemodel__epochs=30, basemodel__model__activation1=relu, basemodel__model__activation2=sigmoid, basemodel__model__activation3=elu, basemodel__model__activation4=elu, basemodel__model__dropout1=0.4174547135966825, basemodel__model__dropout2=0.20769333617354913, basemodel__model__dropout3=0.42580537389698714, basemodel__model__dropout4=0.22106971657051946, basemodel__model__layer1=331, basemodel__model__layer2=390, basemodel__model__layer3=242, basemodel__model__layer4=272, basemodel__model__learning_rate=0.004401771155897767, basemodel__model__optim=<class 'keras.optimizer_v2.rmsprop.RMSprop'>, basemodel__validation_split=0.14028329635668801, scaler=StandardScaler();, score=0.608 total time=  17.5s\n",
            "[CV 3/3] END basemodel__batch_size=197, basemodel__epochs=30, basemodel__model__activation1=relu, basemodel__model__activation2=sigmoid, basemodel__model__activation3=elu, basemodel__model__activation4=elu, basemodel__model__dropout1=0.4174547135966825, basemodel__model__dropout2=0.20769333617354913, basemodel__model__dropout3=0.42580537389698714, basemodel__model__dropout4=0.22106971657051946, basemodel__model__layer1=331, basemodel__model__layer2=390, basemodel__model__layer3=242, basemodel__model__layer4=272, basemodel__model__learning_rate=0.004401771155897767, basemodel__model__optim=<class 'keras.optimizer_v2.rmsprop.RMSprop'>, basemodel__validation_split=0.14028329635668801, scaler=StandardScaler();, score=0.539 total time=  18.2s\n",
            "Fitting 3 folds for each of 1 candidates, totalling 3 fits\n",
            "[CV 1/3] END basemodel__batch_size=303, basemodel__epochs=13, basemodel__model__activation1=relu, basemodel__model__activation2=sigmoid, basemodel__model__activation3=selu, basemodel__model__activation4=relu, basemodel__model__dropout1=0.22096305129558358, basemodel__model__dropout2=0.12865048265890516, basemodel__model__dropout3=0.7460870456367285, basemodel__model__dropout4=0.2966120488942141, basemodel__model__layer1=304, basemodel__model__layer2=221, basemodel__model__layer3=252, basemodel__model__layer4=495, basemodel__model__learning_rate=0.008825706195361974, basemodel__model__optim=<class 'keras.optimizer_v2.rmsprop.RMSprop'>, basemodel__validation_split=0.43610016166107635, scaler=StandardScaler();, score=0.665 total time=   4.6s\n",
            "[CV 2/3] END basemodel__batch_size=303, basemodel__epochs=13, basemodel__model__activation1=relu, basemodel__model__activation2=sigmoid, basemodel__model__activation3=selu, basemodel__model__activation4=relu, basemodel__model__dropout1=0.22096305129558358, basemodel__model__dropout2=0.12865048265890516, basemodel__model__dropout3=0.7460870456367285, basemodel__model__dropout4=0.2966120488942141, basemodel__model__layer1=304, basemodel__model__layer2=221, basemodel__model__layer3=252, basemodel__model__layer4=495, basemodel__model__learning_rate=0.008825706195361974, basemodel__model__optim=<class 'keras.optimizer_v2.rmsprop.RMSprop'>, basemodel__validation_split=0.43610016166107635, scaler=StandardScaler();, score=0.519 total time=   4.9s\n",
            "[CV 3/3] END basemodel__batch_size=303, basemodel__epochs=13, basemodel__model__activation1=relu, basemodel__model__activation2=sigmoid, basemodel__model__activation3=selu, basemodel__model__activation4=relu, basemodel__model__dropout1=0.22096305129558358, basemodel__model__dropout2=0.12865048265890516, basemodel__model__dropout3=0.7460870456367285, basemodel__model__dropout4=0.2966120488942141, basemodel__model__layer1=304, basemodel__model__layer2=221, basemodel__model__layer3=252, basemodel__model__layer4=495, basemodel__model__learning_rate=0.008825706195361974, basemodel__model__optim=<class 'keras.optimizer_v2.rmsprop.RMSprop'>, basemodel__validation_split=0.43610016166107635, scaler=StandardScaler();, score=0.403 total time=   4.9s\n",
            "Fitting 3 folds for each of 1 candidates, totalling 3 fits\n",
            "[CV 1/3] END basemodel__batch_size=385, basemodel__epochs=1, basemodel__model__activation1=tanh, basemodel__model__activation2=relu, basemodel__model__activation3=selu, basemodel__model__activation4=selu, basemodel__model__dropout1=0.1, basemodel__model__dropout2=0.2856483716008669, basemodel__model__dropout3=0.6206232449423607, basemodel__model__dropout4=0.49897414891222325, basemodel__model__layer1=421, basemodel__model__layer2=512, basemodel__model__layer3=438, basemodel__model__layer4=59, basemodel__model__learning_rate=0.0018712045837043243, basemodel__model__optim=<class 'keras.optimizer_v2.rmsprop.RMSprop'>, basemodel__validation_split=0.6765371097078344, scaler=StandardScaler();, score=0.555 total time=   1.5s\n",
            "[CV 2/3] END basemodel__batch_size=385, basemodel__epochs=1, basemodel__model__activation1=tanh, basemodel__model__activation2=relu, basemodel__model__activation3=selu, basemodel__model__activation4=selu, basemodel__model__dropout1=0.1, basemodel__model__dropout2=0.2856483716008669, basemodel__model__dropout3=0.6206232449423607, basemodel__model__dropout4=0.49897414891222325, basemodel__model__layer1=421, basemodel__model__layer2=512, basemodel__model__layer3=438, basemodel__model__layer4=59, basemodel__model__learning_rate=0.0018712045837043243, basemodel__model__optim=<class 'keras.optimizer_v2.rmsprop.RMSprop'>, basemodel__validation_split=0.6765371097078344, scaler=StandardScaler();, score=0.471 total time=   1.2s\n",
            "[CV 3/3] END basemodel__batch_size=385, basemodel__epochs=1, basemodel__model__activation1=tanh, basemodel__model__activation2=relu, basemodel__model__activation3=selu, basemodel__model__activation4=selu, basemodel__model__dropout1=0.1, basemodel__model__dropout2=0.2856483716008669, basemodel__model__dropout3=0.6206232449423607, basemodel__model__dropout4=0.49897414891222325, basemodel__model__layer1=421, basemodel__model__layer2=512, basemodel__model__layer3=438, basemodel__model__layer4=59, basemodel__model__learning_rate=0.0018712045837043243, basemodel__model__optim=<class 'keras.optimizer_v2.rmsprop.RMSprop'>, basemodel__validation_split=0.6765371097078344, scaler=StandardScaler();, score=0.468 total time=   1.1s\n",
            "Fitting 3 folds for each of 1 candidates, totalling 3 fits\n",
            "[CV 1/3] END basemodel__batch_size=288, basemodel__epochs=24, basemodel__model__activation1=relu, basemodel__model__activation2=sigmoid, basemodel__model__activation3=elu, basemodel__model__activation4=relu, basemodel__model__dropout1=0.5051828272117572, basemodel__model__dropout2=0.6768021961608268, basemodel__model__dropout3=0.8801800138231164, basemodel__model__dropout4=0.14292432087743642, basemodel__model__layer1=306, basemodel__model__layer2=245, basemodel__model__layer3=119, basemodel__model__layer4=239, basemodel__model__learning_rate=0.0018602752109236993, basemodel__model__optim=<class 'keras.optimizer_v2.adam.Adam'>, basemodel__validation_split=0.21338322155510425, scaler=StandardScaler();, score=-2.264 total time=   7.2s\n",
            "[CV 2/3] END basemodel__batch_size=288, basemodel__epochs=24, basemodel__model__activation1=relu, basemodel__model__activation2=sigmoid, basemodel__model__activation3=elu, basemodel__model__activation4=relu, basemodel__model__dropout1=0.5051828272117572, basemodel__model__dropout2=0.6768021961608268, basemodel__model__dropout3=0.8801800138231164, basemodel__model__dropout4=0.14292432087743642, basemodel__model__layer1=306, basemodel__model__layer2=245, basemodel__model__layer3=119, basemodel__model__layer4=239, basemodel__model__learning_rate=0.0018602752109236993, basemodel__model__optim=<class 'keras.optimizer_v2.adam.Adam'>, basemodel__validation_split=0.21338322155510425, scaler=StandardScaler();, score=-2.020 total time=   7.5s\n",
            "[CV 3/3] END basemodel__batch_size=288, basemodel__epochs=24, basemodel__model__activation1=relu, basemodel__model__activation2=sigmoid, basemodel__model__activation3=elu, basemodel__model__activation4=relu, basemodel__model__dropout1=0.5051828272117572, basemodel__model__dropout2=0.6768021961608268, basemodel__model__dropout3=0.8801800138231164, basemodel__model__dropout4=0.14292432087743642, basemodel__model__layer1=306, basemodel__model__layer2=245, basemodel__model__layer3=119, basemodel__model__layer4=239, basemodel__model__learning_rate=0.0018602752109236993, basemodel__model__optim=<class 'keras.optimizer_v2.adam.Adam'>, basemodel__validation_split=0.21338322155510425, scaler=StandardScaler();, score=-2.147 total time=   7.6s\n",
            "Fitting 3 folds for each of 1 candidates, totalling 3 fits\n",
            "[CV 1/3] END basemodel__batch_size=336, basemodel__epochs=25, basemodel__model__activation1=relu, basemodel__model__activation2=tanh, basemodel__model__activation3=relu, basemodel__model__activation4=selu, basemodel__model__dropout1=0.5756338087700904, basemodel__model__dropout2=0.1, basemodel__model__dropout3=0.5475571572173508, basemodel__model__dropout4=0.43553835314761147, basemodel__model__layer1=270, basemodel__model__layer2=384, basemodel__model__layer3=287, basemodel__model__layer4=326, basemodel__model__learning_rate=0.0037874093804517103, basemodel__model__optim=<class 'keras.optimizer_v2.rmsprop.RMSprop'>, basemodel__validation_split=0.1, scaler=MinMaxScaler();, score=0.631 total time=   9.1s\n",
            "[CV 2/3] END basemodel__batch_size=336, basemodel__epochs=25, basemodel__model__activation1=relu, basemodel__model__activation2=tanh, basemodel__model__activation3=relu, basemodel__model__activation4=selu, basemodel__model__dropout1=0.5756338087700904, basemodel__model__dropout2=0.1, basemodel__model__dropout3=0.5475571572173508, basemodel__model__dropout4=0.43553835314761147, basemodel__model__layer1=270, basemodel__model__layer2=384, basemodel__model__layer3=287, basemodel__model__layer4=326, basemodel__model__learning_rate=0.0037874093804517103, basemodel__model__optim=<class 'keras.optimizer_v2.rmsprop.RMSprop'>, basemodel__validation_split=0.1, scaler=MinMaxScaler();, score=0.603 total time=   9.2s\n",
            "[CV 3/3] END basemodel__batch_size=336, basemodel__epochs=25, basemodel__model__activation1=relu, basemodel__model__activation2=tanh, basemodel__model__activation3=relu, basemodel__model__activation4=selu, basemodel__model__dropout1=0.5756338087700904, basemodel__model__dropout2=0.1, basemodel__model__dropout3=0.5475571572173508, basemodel__model__dropout4=0.43553835314761147, basemodel__model__layer1=270, basemodel__model__layer2=384, basemodel__model__layer3=287, basemodel__model__layer4=326, basemodel__model__learning_rate=0.0037874093804517103, basemodel__model__optim=<class 'keras.optimizer_v2.rmsprop.RMSprop'>, basemodel__validation_split=0.1, scaler=MinMaxScaler();, score=0.505 total time=   9.2s\n",
            "Fitting 3 folds for each of 1 candidates, totalling 3 fits\n",
            "[CV 1/3] END basemodel__batch_size=244, basemodel__epochs=28, basemodel__model__activation1=relu, basemodel__model__activation2=sigmoid, basemodel__model__activation3=relu, basemodel__model__activation4=relu, basemodel__model__dropout1=0.5717679065916011, basemodel__model__dropout2=0.41595038411462004, basemodel__model__dropout3=0.7370348014325087, basemodel__model__dropout4=0.270005411995448, basemodel__model__layer1=326, basemodel__model__layer2=512, basemodel__model__layer3=148, basemodel__model__layer4=317, basemodel__model__learning_rate=0.001044047848198051, basemodel__model__optim=<class 'keras.optimizer_v2.rmsprop.RMSprop'>, basemodel__validation_split=0.1, scaler=StandardScaler();, score=-0.995 total time=  14.1s\n",
            "[CV 2/3] END basemodel__batch_size=244, basemodel__epochs=28, basemodel__model__activation1=relu, basemodel__model__activation2=sigmoid, basemodel__model__activation3=relu, basemodel__model__activation4=relu, basemodel__model__dropout1=0.5717679065916011, basemodel__model__dropout2=0.41595038411462004, basemodel__model__dropout3=0.7370348014325087, basemodel__model__dropout4=0.270005411995448, basemodel__model__layer1=326, basemodel__model__layer2=512, basemodel__model__layer3=148, basemodel__model__layer4=317, basemodel__model__learning_rate=0.001044047848198051, basemodel__model__optim=<class 'keras.optimizer_v2.rmsprop.RMSprop'>, basemodel__validation_split=0.1, scaler=StandardScaler();, score=-0.970 total time=  13.9s\n",
            "[CV 3/3] END basemodel__batch_size=244, basemodel__epochs=28, basemodel__model__activation1=relu, basemodel__model__activation2=sigmoid, basemodel__model__activation3=relu, basemodel__model__activation4=relu, basemodel__model__dropout1=0.5717679065916011, basemodel__model__dropout2=0.41595038411462004, basemodel__model__dropout3=0.7370348014325087, basemodel__model__dropout4=0.270005411995448, basemodel__model__layer1=326, basemodel__model__layer2=512, basemodel__model__layer3=148, basemodel__model__layer4=317, basemodel__model__learning_rate=0.001044047848198051, basemodel__model__optim=<class 'keras.optimizer_v2.rmsprop.RMSprop'>, basemodel__validation_split=0.1, scaler=StandardScaler();, score=-0.864 total time=  13.2s\n",
            "Fitting 3 folds for each of 1 candidates, totalling 3 fits\n",
            "[CV 1/3] END basemodel__batch_size=336, basemodel__epochs=32, basemodel__model__activation1=relu, basemodel__model__activation2=sigmoid, basemodel__model__activation3=relu, basemodel__model__activation4=relu, basemodel__model__dropout1=0.6648929200055582, basemodel__model__dropout2=0.23847126356013704, basemodel__model__dropout3=0.5505775364838514, basemodel__model__dropout4=0.33881591694518376, basemodel__model__layer1=489, basemodel__model__layer2=265, basemodel__model__layer3=467, basemodel__model__layer4=66, basemodel__model__learning_rate=0.0024372387349568775, basemodel__model__optim=<class 'keras.optimizer_v2.rmsprop.RMSprop'>, basemodel__validation_split=0.7225483926929387, scaler=MinMaxScaler();, score=0.597 total time=   2.7s\n",
            "[CV 2/3] END basemodel__batch_size=336, basemodel__epochs=32, basemodel__model__activation1=relu, basemodel__model__activation2=sigmoid, basemodel__model__activation3=relu, basemodel__model__activation4=relu, basemodel__model__dropout1=0.6648929200055582, basemodel__model__dropout2=0.23847126356013704, basemodel__model__dropout3=0.5505775364838514, basemodel__model__dropout4=0.33881591694518376, basemodel__model__layer1=489, basemodel__model__layer2=265, basemodel__model__layer3=467, basemodel__model__layer4=66, basemodel__model__learning_rate=0.0024372387349568775, basemodel__model__optim=<class 'keras.optimizer_v2.rmsprop.RMSprop'>, basemodel__validation_split=0.7225483926929387, scaler=MinMaxScaler();, score=0.377 total time=   3.2s\n",
            "[CV 3/3] END basemodel__batch_size=336, basemodel__epochs=32, basemodel__model__activation1=relu, basemodel__model__activation2=sigmoid, basemodel__model__activation3=relu, basemodel__model__activation4=relu, basemodel__model__dropout1=0.6648929200055582, basemodel__model__dropout2=0.23847126356013704, basemodel__model__dropout3=0.5505775364838514, basemodel__model__dropout4=0.33881591694518376, basemodel__model__layer1=489, basemodel__model__layer2=265, basemodel__model__layer3=467, basemodel__model__layer4=66, basemodel__model__learning_rate=0.0024372387349568775, basemodel__model__optim=<class 'keras.optimizer_v2.rmsprop.RMSprop'>, basemodel__validation_split=0.7225483926929387, scaler=MinMaxScaler();, score=0.513 total time=   6.7s\n",
            "Fitting 3 folds for each of 1 candidates, totalling 3 fits\n",
            "[CV 1/3] END basemodel__batch_size=193, basemodel__epochs=41, basemodel__model__activation1=relu, basemodel__model__activation2=sigmoid, basemodel__model__activation3=selu, basemodel__model__activation4=selu, basemodel__model__dropout1=0.1682295159832406, basemodel__model__dropout2=0.3005999664510739, basemodel__model__dropout3=0.7089137696417963, basemodel__model__dropout4=0.3035426640480523, basemodel__model__layer1=510, basemodel__model__layer2=362, basemodel__model__layer3=433, basemodel__model__layer4=504, basemodel__model__learning_rate=0.009984691803381306, basemodel__model__optim=<class 'keras.optimizer_v2.rmsprop.RMSprop'>, basemodel__validation_split=0.49514250958904504, scaler=StandardScaler();, score=0.602 total time=  17.8s\n",
            "[CV 2/3] END basemodel__batch_size=193, basemodel__epochs=41, basemodel__model__activation1=relu, basemodel__model__activation2=sigmoid, basemodel__model__activation3=selu, basemodel__model__activation4=selu, basemodel__model__dropout1=0.1682295159832406, basemodel__model__dropout2=0.3005999664510739, basemodel__model__dropout3=0.7089137696417963, basemodel__model__dropout4=0.3035426640480523, basemodel__model__layer1=510, basemodel__model__layer2=362, basemodel__model__layer3=433, basemodel__model__layer4=504, basemodel__model__learning_rate=0.009984691803381306, basemodel__model__optim=<class 'keras.optimizer_v2.rmsprop.RMSprop'>, basemodel__validation_split=0.49514250958904504, scaler=StandardScaler();, score=0.570 total time=  13.7s\n",
            "[CV 3/3] END basemodel__batch_size=193, basemodel__epochs=41, basemodel__model__activation1=relu, basemodel__model__activation2=sigmoid, basemodel__model__activation3=selu, basemodel__model__activation4=selu, basemodel__model__dropout1=0.1682295159832406, basemodel__model__dropout2=0.3005999664510739, basemodel__model__dropout3=0.7089137696417963, basemodel__model__dropout4=0.3035426640480523, basemodel__model__layer1=510, basemodel__model__layer2=362, basemodel__model__layer3=433, basemodel__model__layer4=504, basemodel__model__learning_rate=0.009984691803381306, basemodel__model__optim=<class 'keras.optimizer_v2.rmsprop.RMSprop'>, basemodel__validation_split=0.49514250958904504, scaler=StandardScaler();, score=0.460 total time=  18.7s\n",
            "Fitting 3 folds for each of 1 candidates, totalling 3 fits\n",
            "[CV 1/3] END basemodel__batch_size=201, basemodel__epochs=35, basemodel__model__activation1=relu, basemodel__model__activation2=sigmoid, basemodel__model__activation3=sigmoid, basemodel__model__activation4=relu, basemodel__model__dropout1=0.7314761011243642, basemodel__model__dropout2=0.10703191018862124, basemodel__model__dropout3=0.718366201637456, basemodel__model__dropout4=0.33329136995147046, basemodel__model__layer1=307, basemodel__model__layer2=78, basemodel__model__layer3=206, basemodel__model__layer4=449, basemodel__model__learning_rate=0.01, basemodel__model__optim=<class 'keras.optimizer_v2.rmsprop.RMSprop'>, basemodel__validation_split=0.6338193375470511, scaler=StandardScaler();, score=0.158 total time=   8.6s\n",
            "[CV 2/3] END basemodel__batch_size=201, basemodel__epochs=35, basemodel__model__activation1=relu, basemodel__model__activation2=sigmoid, basemodel__model__activation3=sigmoid, basemodel__model__activation4=relu, basemodel__model__dropout1=0.7314761011243642, basemodel__model__dropout2=0.10703191018862124, basemodel__model__dropout3=0.718366201637456, basemodel__model__dropout4=0.33329136995147046, basemodel__model__layer1=307, basemodel__model__layer2=78, basemodel__model__layer3=206, basemodel__model__layer4=449, basemodel__model__learning_rate=0.01, basemodel__model__optim=<class 'keras.optimizer_v2.rmsprop.RMSprop'>, basemodel__validation_split=0.6338193375470511, scaler=StandardScaler();, score=0.547 total time=   8.6s\n",
            "[CV 3/3] END basemodel__batch_size=201, basemodel__epochs=35, basemodel__model__activation1=relu, basemodel__model__activation2=sigmoid, basemodel__model__activation3=sigmoid, basemodel__model__activation4=relu, basemodel__model__dropout1=0.7314761011243642, basemodel__model__dropout2=0.10703191018862124, basemodel__model__dropout3=0.718366201637456, basemodel__model__dropout4=0.33329136995147046, basemodel__model__layer1=307, basemodel__model__layer2=78, basemodel__model__layer3=206, basemodel__model__layer4=449, basemodel__model__learning_rate=0.01, basemodel__model__optim=<class 'keras.optimizer_v2.rmsprop.RMSprop'>, basemodel__validation_split=0.6338193375470511, scaler=StandardScaler();, score=0.456 total time=  11.6s\n",
            "Fitting 3 folds for each of 1 candidates, totalling 3 fits\n",
            "[CV 1/3] END basemodel__batch_size=196, basemodel__epochs=7, basemodel__model__activation1=relu, basemodel__model__activation2=relu, basemodel__model__activation3=sigmoid, basemodel__model__activation4=sigmoid, basemodel__model__dropout1=0.23716013345236764, basemodel__model__dropout2=0.15091968765620506, basemodel__model__dropout3=0.6723101601769594, basemodel__model__dropout4=0.44937294572991404, basemodel__model__layer1=273, basemodel__model__layer2=247, basemodel__model__layer3=253, basemodel__model__layer4=314, basemodel__model__learning_rate=0.00446061813978332, basemodel__model__optim=<class 'keras.optimizer_v2.rmsprop.RMSprop'>, basemodel__validation_split=0.8683487793023613, scaler=MinMaxScaler();, score=-0.206 total time=   3.9s\n",
            "[CV 2/3] END basemodel__batch_size=196, basemodel__epochs=7, basemodel__model__activation1=relu, basemodel__model__activation2=relu, basemodel__model__activation3=sigmoid, basemodel__model__activation4=sigmoid, basemodel__model__dropout1=0.23716013345236764, basemodel__model__dropout2=0.15091968765620506, basemodel__model__dropout3=0.6723101601769594, basemodel__model__dropout4=0.44937294572991404, basemodel__model__layer1=273, basemodel__model__layer2=247, basemodel__model__layer3=253, basemodel__model__layer4=314, basemodel__model__learning_rate=0.00446061813978332, basemodel__model__optim=<class 'keras.optimizer_v2.rmsprop.RMSprop'>, basemodel__validation_split=0.8683487793023613, scaler=MinMaxScaler();, score=-0.205 total time=   3.2s\n",
            "[CV 3/3] END basemodel__batch_size=196, basemodel__epochs=7, basemodel__model__activation1=relu, basemodel__model__activation2=relu, basemodel__model__activation3=sigmoid, basemodel__model__activation4=sigmoid, basemodel__model__dropout1=0.23716013345236764, basemodel__model__dropout2=0.15091968765620506, basemodel__model__dropout3=0.6723101601769594, basemodel__model__dropout4=0.44937294572991404, basemodel__model__layer1=273, basemodel__model__layer2=247, basemodel__model__layer3=253, basemodel__model__layer4=314, basemodel__model__learning_rate=0.00446061813978332, basemodel__model__optim=<class 'keras.optimizer_v2.rmsprop.RMSprop'>, basemodel__validation_split=0.8683487793023613, scaler=MinMaxScaler();, score=-0.351 total time=   3.4s\n",
            "Fitting 3 folds for each of 1 candidates, totalling 3 fits\n",
            "[CV 1/3] END basemodel__batch_size=372, basemodel__epochs=1, basemodel__model__activation1=elu, basemodel__model__activation2=sigmoid, basemodel__model__activation3=sigmoid, basemodel__model__activation4=selu, basemodel__model__dropout1=0.19466487267178223, basemodel__model__dropout2=0.1, basemodel__model__dropout3=0.731122104926892, basemodel__model__dropout4=0.3436559130537701, basemodel__model__layer1=323, basemodel__model__layer2=172, basemodel__model__layer3=328, basemodel__model__layer4=481, basemodel__model__learning_rate=0.01, basemodel__model__optim=<class 'keras.optimizer_v2.adam.Adam'>, basemodel__validation_split=0.4506521955834566, scaler=StandardScaler();, score=0.474 total time=   1.1s\n",
            "[CV 2/3] END basemodel__batch_size=372, basemodel__epochs=1, basemodel__model__activation1=elu, basemodel__model__activation2=sigmoid, basemodel__model__activation3=sigmoid, basemodel__model__activation4=selu, basemodel__model__dropout1=0.19466487267178223, basemodel__model__dropout2=0.1, basemodel__model__dropout3=0.731122104926892, basemodel__model__dropout4=0.3436559130537701, basemodel__model__layer1=323, basemodel__model__layer2=172, basemodel__model__layer3=328, basemodel__model__layer4=481, basemodel__model__learning_rate=0.01, basemodel__model__optim=<class 'keras.optimizer_v2.adam.Adam'>, basemodel__validation_split=0.4506521955834566, scaler=StandardScaler();, score=0.413 total time=   0.9s\n",
            "[CV 3/3] END basemodel__batch_size=372, basemodel__epochs=1, basemodel__model__activation1=elu, basemodel__model__activation2=sigmoid, basemodel__model__activation3=sigmoid, basemodel__model__activation4=selu, basemodel__model__dropout1=0.19466487267178223, basemodel__model__dropout2=0.1, basemodel__model__dropout3=0.731122104926892, basemodel__model__dropout4=0.3436559130537701, basemodel__model__layer1=323, basemodel__model__layer2=172, basemodel__model__layer3=328, basemodel__model__layer4=481, basemodel__model__learning_rate=0.01, basemodel__model__optim=<class 'keras.optimizer_v2.adam.Adam'>, basemodel__validation_split=0.4506521955834566, scaler=StandardScaler();, score=0.427 total time=   1.1s\n",
            "Fitting 3 folds for each of 1 candidates, totalling 3 fits\n",
            "[CV 1/3] END basemodel__batch_size=187, basemodel__epochs=41, basemodel__model__activation1=sigmoid, basemodel__model__activation2=relu, basemodel__model__activation3=relu, basemodel__model__activation4=selu, basemodel__model__dropout1=0.25395650273164694, basemodel__model__dropout2=0.20976616436737397, basemodel__model__dropout3=0.5732499649514723, basemodel__model__dropout4=0.42594228522255384, basemodel__model__layer1=512, basemodel__model__layer2=164, basemodel__model__layer3=512, basemodel__model__layer4=498, basemodel__model__learning_rate=0.0005891965997688888, basemodel__model__optim=<class 'keras.optimizer_v2.adam.Adam'>, basemodel__validation_split=0.15818417125134476, scaler=MinMaxScaler();, score=0.666 total time=  17.4s\n",
            "[CV 2/3] END basemodel__batch_size=187, basemodel__epochs=41, basemodel__model__activation1=sigmoid, basemodel__model__activation2=relu, basemodel__model__activation3=relu, basemodel__model__activation4=selu, basemodel__model__dropout1=0.25395650273164694, basemodel__model__dropout2=0.20976616436737397, basemodel__model__dropout3=0.5732499649514723, basemodel__model__dropout4=0.42594228522255384, basemodel__model__layer1=512, basemodel__model__layer2=164, basemodel__model__layer3=512, basemodel__model__layer4=498, basemodel__model__learning_rate=0.0005891965997688888, basemodel__model__optim=<class 'keras.optimizer_v2.adam.Adam'>, basemodel__validation_split=0.15818417125134476, scaler=MinMaxScaler();, score=0.605 total time=  17.2s\n",
            "[CV 3/3] END basemodel__batch_size=187, basemodel__epochs=41, basemodel__model__activation1=sigmoid, basemodel__model__activation2=relu, basemodel__model__activation3=relu, basemodel__model__activation4=selu, basemodel__model__dropout1=0.25395650273164694, basemodel__model__dropout2=0.20976616436737397, basemodel__model__dropout3=0.5732499649514723, basemodel__model__dropout4=0.42594228522255384, basemodel__model__layer1=512, basemodel__model__layer2=164, basemodel__model__layer3=512, basemodel__model__layer4=498, basemodel__model__learning_rate=0.0005891965997688888, basemodel__model__optim=<class 'keras.optimizer_v2.adam.Adam'>, basemodel__validation_split=0.15818417125134476, scaler=MinMaxScaler();, score=0.528 total time=  17.1s\n",
            "Fitting 3 folds for each of 1 candidates, totalling 3 fits\n",
            "[CV 1/3] END basemodel__batch_size=144, basemodel__epochs=18, basemodel__model__activation1=relu, basemodel__model__activation2=sigmoid, basemodel__model__activation3=elu, basemodel__model__activation4=elu, basemodel__model__dropout1=0.3550687843610826, basemodel__model__dropout2=0.3332386252436335, basemodel__model__dropout3=0.4575197773720512, basemodel__model__dropout4=0.3091432478458032, basemodel__model__layer1=305, basemodel__model__layer2=401, basemodel__model__layer3=314, basemodel__model__layer4=135, basemodel__model__learning_rate=0.003107990115727815, basemodel__model__optim=<class 'keras.optimizer_v2.rmsprop.RMSprop'>, basemodel__validation_split=0.11198180518885661, scaler=StandardScaler();, score=0.624 total time=  14.1s\n",
            "[CV 2/3] END basemodel__batch_size=144, basemodel__epochs=18, basemodel__model__activation1=relu, basemodel__model__activation2=sigmoid, basemodel__model__activation3=elu, basemodel__model__activation4=elu, basemodel__model__dropout1=0.3550687843610826, basemodel__model__dropout2=0.3332386252436335, basemodel__model__dropout3=0.4575197773720512, basemodel__model__dropout4=0.3091432478458032, basemodel__model__layer1=305, basemodel__model__layer2=401, basemodel__model__layer3=314, basemodel__model__layer4=135, basemodel__model__learning_rate=0.003107990115727815, basemodel__model__optim=<class 'keras.optimizer_v2.rmsprop.RMSprop'>, basemodel__validation_split=0.11198180518885661, scaler=StandardScaler();, score=0.616 total time=  15.7s\n",
            "[CV 3/3] END basemodel__batch_size=144, basemodel__epochs=18, basemodel__model__activation1=relu, basemodel__model__activation2=sigmoid, basemodel__model__activation3=elu, basemodel__model__activation4=elu, basemodel__model__dropout1=0.3550687843610826, basemodel__model__dropout2=0.3332386252436335, basemodel__model__dropout3=0.4575197773720512, basemodel__model__dropout4=0.3091432478458032, basemodel__model__layer1=305, basemodel__model__layer2=401, basemodel__model__layer3=314, basemodel__model__layer4=135, basemodel__model__learning_rate=0.003107990115727815, basemodel__model__optim=<class 'keras.optimizer_v2.rmsprop.RMSprop'>, basemodel__validation_split=0.11198180518885661, scaler=StandardScaler();, score=0.516 total time=  15.5s\n",
            "Fitting 3 folds for each of 1 candidates, totalling 3 fits\n",
            "[CV 1/3] END basemodel__batch_size=233, basemodel__epochs=12, basemodel__model__activation1=elu, basemodel__model__activation2=elu, basemodel__model__activation3=relu, basemodel__model__activation4=elu, basemodel__model__dropout1=0.514493571659391, basemodel__model__dropout2=0.31525710042369015, basemodel__model__dropout3=0.26096422123597085, basemodel__model__dropout4=0.7655158561656094, basemodel__model__layer1=461, basemodel__model__layer2=512, basemodel__model__layer3=245, basemodel__model__layer4=222, basemodel__model__learning_rate=0.0019472601503336916, basemodel__model__optim=<class 'keras.optimizer_v2.rmsprop.RMSprop'>, basemodel__validation_split=0.6756778106743428, scaler=StandardScaler();, score=0.539 total time=   4.6s\n",
            "[CV 2/3] END basemodel__batch_size=233, basemodel__epochs=12, basemodel__model__activation1=elu, basemodel__model__activation2=elu, basemodel__model__activation3=relu, basemodel__model__activation4=elu, basemodel__model__dropout1=0.514493571659391, basemodel__model__dropout2=0.31525710042369015, basemodel__model__dropout3=0.26096422123597085, basemodel__model__dropout4=0.7655158561656094, basemodel__model__layer1=461, basemodel__model__layer2=512, basemodel__model__layer3=245, basemodel__model__layer4=222, basemodel__model__learning_rate=0.0019472601503336916, basemodel__model__optim=<class 'keras.optimizer_v2.rmsprop.RMSprop'>, basemodel__validation_split=0.6756778106743428, scaler=StandardScaler();, score=0.409 total time=   4.7s\n",
            "[CV 3/3] END basemodel__batch_size=233, basemodel__epochs=12, basemodel__model__activation1=elu, basemodel__model__activation2=elu, basemodel__model__activation3=relu, basemodel__model__activation4=elu, basemodel__model__dropout1=0.514493571659391, basemodel__model__dropout2=0.31525710042369015, basemodel__model__dropout3=0.26096422123597085, basemodel__model__dropout4=0.7655158561656094, basemodel__model__layer1=461, basemodel__model__layer2=512, basemodel__model__layer3=245, basemodel__model__layer4=222, basemodel__model__learning_rate=0.0019472601503336916, basemodel__model__optim=<class 'keras.optimizer_v2.rmsprop.RMSprop'>, basemodel__validation_split=0.6756778106743428, scaler=StandardScaler();, score=0.511 total time=   4.6s\n",
            "Finished: 2022-10-14 17:51:18.636989\n"
          ]
        }
      ]
    },
    {
      "cell_type": "code",
      "source": [
        "# print(bss.best_estimator_)\n",
        "print(bss.best_score_)\n",
        "print(bss.best_params_)\n",
        "print(\"Finished:\", datetime.datetime.now())"
      ],
      "metadata": {
        "colab": {
          "base_uri": "https://localhost:8080/"
        },
        "id": "SSmZxJKlUNFD",
        "outputId": "aab9acaf-953f-45cd-fb04-af8af8276f93"
      },
      "execution_count": null,
      "outputs": [
        {
          "output_type": "stream",
          "name": "stdout",
          "text": [
            "0.6177119361436677\n",
            "OrderedDict([('basemodel__batch_size', 127), ('basemodel__epochs', 17), ('basemodel__model__activation1', 'relu'), ('basemodel__model__activation2', 'sigmoid'), ('basemodel__model__activation3', 'elu'), ('basemodel__model__activation4', 'elu'), ('basemodel__model__dropout1', 0.405658593077186), ('basemodel__model__dropout2', 0.3589949636608206), ('basemodel__model__dropout3', 0.4633066337493309), ('basemodel__model__dropout4', 0.32587881379978234), ('basemodel__model__layer1', 308), ('basemodel__model__layer2', 442), ('basemodel__model__layer3', 301), ('basemodel__model__layer4', 153), ('basemodel__model__learning_rate', 0.0038661981642895585), ('basemodel__model__optim', <class 'keras.optimizer_v2.rmsprop.RMSprop'>), ('basemodel__validation_split', 0.14630628708453258), ('scaler', StandardScaler())])\n",
            "Finished: 2022-10-14 17:51:26.151485\n"
          ]
        }
      ]
    },
    {
      "cell_type": "code",
      "source": [
        "from skopt.plots import plot_convergence\n",
        "\n",
        "plot_convergence(bss.optimizer_results_)\n",
        "print(\"Finished:\", datetime.datetime.now())"
      ],
      "metadata": {
        "colab": {
          "base_uri": "https://localhost:8080/",
          "height": 315
        },
        "id": "0HUnMESRVitn",
        "outputId": "4b5c1726-8317-4d28-8972-e10cf5929fc4"
      },
      "execution_count": null,
      "outputs": [
        {
          "output_type": "stream",
          "name": "stdout",
          "text": [
            "Finished: 2022-10-14 17:51:28.602326\n"
          ]
        },
        {
          "output_type": "display_data",
          "data": {
            "text/plain": [
              "<Figure size 432x288 with 1 Axes>"
            ],
            "image/png": "[encoded data removed]"
          },
          "metadata": {
            "needs_background": "light"
          }
        }
      ]
    },
    {
      "cell_type": "code",
      "source": [
        "bss.best_params_"
      ],
      "metadata": {
        "colab": {
          "base_uri": "https://localhost:8080/"
        },
        "id": "ul2OAUiY5IJ4",
        "outputId": "454e56c9-27cb-48ff-b755-270da0cca057"
      },
      "execution_count": null,
      "outputs": [
        {
          "output_type": "execute_result",
          "data": {
            "text/plain": [
              "OrderedDict([('basemodel__batch_size', 127),\n",
              "             ('basemodel__epochs', 17),\n",
              "             ('basemodel__model__activation1', 'relu'),\n",
              "             ('basemodel__model__activation2', 'sigmoid'),\n",
              "             ('basemodel__model__activation3', 'elu'),\n",
              "             ('basemodel__model__activation4', 'elu'),\n",
              "             ('basemodel__model__dropout1', 0.405658593077186),\n",
              "             ('basemodel__model__dropout2', 0.3589949636608206),\n",
              "             ('basemodel__model__dropout3', 0.4633066337493309),\n",
              "             ('basemodel__model__dropout4', 0.32587881379978234),\n",
              "             ('basemodel__model__layer1', 308),\n",
              "             ('basemodel__model__layer2', 442),\n",
              "             ('basemodel__model__layer3', 301),\n",
              "             ('basemodel__model__layer4', 153),\n",
              "             ('basemodel__model__learning_rate', 0.0038661981642895585),\n",
              "             ('basemodel__model__optim', keras.optimizer_v2.rmsprop.RMSprop),\n",
              "             ('basemodel__validation_split', 0.14630628708453258),\n",
              "             ('scaler', StandardScaler())])"
            ]
          },
          "metadata": {},
          "execution_count": 43
        }
      ]
    },
    {
      "cell_type": "markdown",
      "source": [
        "# MLP 1-layer "
      ],
      "metadata": {
        "id": "2PYkPPC-tyyd"
      }
    },
    {
      "cell_type": "markdown",
      "source": [
        "\n",
        "\n",
        "## Linear RUL\n",
        "\n",
        "Score: 0.6275937811619965  \n",
        "Test: 0.504\n",
        "```\n",
        "('basemodel__batch_size', 262),\n",
        "('basemodel__epochs', 47),\n",
        "('basemodel__model__activation', 'relu'),\n",
        "('basemodel__model__dropout', 0.42198962995190514),\n",
        "('basemodel__model__layer1', 512),\n",
        "('basemodel__model__learning_rate', 0.00528953958947019),\n",
        "('basemodel__model__optim', keras.optimizer_v2.adam.Adam),\n",
        "('basemodel__validation_split', 0.17975244796806303),\n",
        "('scaler', StandardScaler())\n",
        "```\n",
        "\n",
        "\n",
        "## Non-Linear RUL\n",
        "Score: 0.8670568151811345  \n",
        "Test: 0.865\n",
        "```\n",
        "('basemodel__batch_size', 32),\n",
        "('basemodel__epochs', 50),\n",
        "('basemodel__model__activation', 'sigmoid'),\n",
        "('basemodel__model__dropout', 0.1),\n",
        "('basemodel__model__layer1', 450),\n",
        "('basemodel__model__learning_rate', 0.006977518145392822),\n",
        "('basemodel__model__optim', keras.optimizer_v2.adam.Adam),\n",
        "('basemodel__validation_split', 0.1),\n",
        "('clip_y', 80),\n",
        "('scaler', MinMaxScaler())\n",
        "```\n",
        "\n",
        "## Linear RUL + Poly\n",
        "Score: 0.6307902416968273  \n",
        "Test: 0.289\n",
        "```\n",
        "('basemodel__batch_size', 197),\n",
        "('basemodel__epochs', 41),\n",
        "('basemodel__model__activation', 'relu'),\n",
        "('basemodel__model__dropout', 0.1),\n",
        "('basemodel__model__layer1', 400),\n",
        "('basemodel__model__learning_rate', 0.01),\n",
        "('basemodel__model__optim', keras.optimizer_v2.adam.Adam),\n",
        "('basemodel__validation_split', 0.1),\n",
        "('poly_degree', 2),\n",
        "('scaler', StandardScaler())\n",
        "```\n",
        "\n",
        "## Non-Linear RUL + Poly\n",
        "Score: 0.8693404879366771  \n",
        "Test: 0.874\n",
        "```\n",
        "('basemodel__batch_size', 278),\n",
        "('basemodel__epochs', 50),\n",
        "('basemodel__model__activation', 'relu'),\n",
        "('basemodel__model__dropout', 0.1),\n",
        "('basemodel__model__layer1', 469),\n",
        "('basemodel__model__learning_rate', 0.002874922426530888),\n",
        "('basemodel__model__optim', keras.optimizer_v2.adam.Adam),\n",
        "('basemodel__validation_split', 0.1),\n",
        "('clip_y', 80),\n",
        "('poly_degree', 2),\n",
        "('scaler', StandardScaler())\n",
        "```\n",
        "\n",
        "\n"
      ],
      "metadata": {
        "id": "O3mGfle45Bp_"
      }
    },
    {
      "cell_type": "markdown",
      "source": [
        "# MLP 2-layer \n"
      ],
      "metadata": {
        "id": "0Phg7uNOt0qm"
      }
    },
    {
      "cell_type": "markdown",
      "source": [
        "\n",
        "## Linear RUL\n",
        "\n",
        "Score: 0.6272545475290355  \n",
        "Test: 0.497\n",
        "```\n",
        "('basemodel__batch_size', 256),\n",
        "('basemodel__epochs', 15),\n",
        "('basemodel__model__activation', 'sigmoid'),\n",
        "('basemodel__model__dropout', 0.3130272595130772),\n",
        "('basemodel__model__layer1', 396),\n",
        "('basemodel__model__layer2', 200),\n",
        "('basemodel__model__learning_rate', 0.004279444226455455),\n",
        "('basemodel__model__optim', keras.optimizer_v2.rmsprop.RMSprop),\n",
        "('basemodel__validation_split', 0.1),\n",
        "('scaler', StandardScaler())\n",
        "```\n",
        "\n",
        "Similar to 1-layer, as poor as it was\n",
        "\n",
        "## Non-Linear RUL\n",
        "Score: 0.8673006780572581  \n",
        "Test: 0.869\n",
        "```\n",
        "('basemodel__batch_size', 492),\n",
        "('basemodel__epochs', 45),\n",
        "('basemodel__model__activation', 'sigmoid'),\n",
        "('basemodel__model__dropout', 0.12287812356959432),\n",
        "('basemodel__model__layer1', 174),\n",
        "('basemodel__model__layer2', 99),\n",
        "('basemodel__model__learning_rate', 0.007788683565022675),\n",
        "('basemodel__model__optim', keras.optimizer_v2.rmsprop.RMSprop),\n",
        "('basemodel__validation_split', 0.417547927930325),\n",
        "('clip_y', 80),\n",
        "('scaler', StandardScaler())\n",
        "```\n",
        "As good as 1-layer, same clipping still\n",
        "\n",
        "## Linear RUL + Poly\n",
        "Score: 0.620623165113507  \n",
        "Test: 0.317\n",
        "```\n",
        "([('basemodel__batch_size', 151),\n",
        "('basemodel__epochs', 50),\n",
        "('basemodel__model__activation', 'tanh'),\n",
        "('basemodel__model__dropout', 0.4820078305171188),\n",
        "('basemodel__model__layer1', 512),\n",
        "('basemodel__model__layer2', 512),\n",
        "('basemodel__model__learning_rate', 0.002743794579272865),\n",
        "('basemodel__model__optim', keras.optimizer_v2.rmsprop.RMSprop),\n",
        "('basemodel__validation_split', 0.1),\n",
        "('poly_degree', 3),\n",
        "('scaler', StandardScaler())\n",
        "```\n",
        "\n",
        "## Non-Linear RUL + Poly\n",
        "Score: 0.8710647594112771  \n",
        "Test: 0.847\n",
        "```\n",
        "('basemodel__batch_size', 108),\n",
        "('basemodel__epochs', 17),\n",
        "('basemodel__model__activation', 'tanh'),\n",
        "('basemodel__model__dropout', 0.1),\n",
        "('basemodel__model__layer1', 190),\n",
        "('basemodel__model__layer2', 511),\n",
        "('basemodel__model__learning_rate', 0.0025717804547879877),\n",
        "('basemodel__model__optim', keras.optimizer_v2.adam.Adam),\n",
        "('basemodel__validation_split', 0.1),\n",
        "('clip_y', 80),\n",
        "('poly_degree', 3),\n",
        "('scaler', StandardScaler())\n",
        "```"
      ],
      "metadata": {
        "id": "UkQceBLUtuGE"
      }
    },
    {
      "cell_type": "markdown",
      "source": [
        "# MLP 3-layer \n"
      ],
      "metadata": {
        "id": "oj69QW1rV7bz"
      }
    },
    {
      "cell_type": "markdown",
      "source": [
        "\n",
        "## Linear RUL\n",
        "\n",
        "Score: 0.  8696275766179755  \n",
        "Test: 0.\n",
        "```\n",
        "('basemodel__batch_size', 229),\n",
        "('basemodel__epochs', 49),\n",
        "('basemodel__model__activation', 'tanh'),\n",
        "('basemodel__model__dropout', 0.29618065510851843),\n",
        "('basemodel__model__layer1', 49),\n",
        "('basemodel__model__layer2', 247),\n",
        "('basemodel__model__layer3', 440),\n",
        "('basemodel__model__learning_rate', 0.005372482164375986),\n",
        "('basemodel__model__optim', keras.optimizer_v2.adam.Adam),\n",
        "('basemodel__validation_split', 0.34454860324430264),\n",
        "('scaler', StandardScaler())\n",
        "```\n",
        "\n",
        "Similar to 1-layer, as poor as it was\n",
        "\n",
        "## Non-Linear RUL\n",
        "Score: 0.  8717596246219527  \n",
        "Test: 0.\n",
        "```\n",
        "('basemodel__batch_size', 176),\n",
        "('basemodel__epochs', 50),\n",
        "('basemodel__model__activation', 'tanh'),\n",
        "('basemodel__model__dropout', 0.3898721505208831),\n",
        "('basemodel__model__layer1', 512),\n",
        "('basemodel__model__layer2', 278),\n",
        "('basemodel__model__layer3', 405),\n",
        "('basemodel__model__learning_rate', 0.0001),\n",
        "('basemodel__model__optim', keras.optimizer_v2.rmsprop.RMSprop),\n",
        "('basemodel__validation_split', 0.1),\n",
        "('clip_y', 138),\n",
        "('scaler', StandardScaler())\n",
        "```\n",
        "\n",
        "## Linear RUL + Poly\n",
        "Score: 0.  8650514903449471  \n",
        "Test: 0.\n",
        "```\n",
        "('basemodel__batch_size', 186),\n",
        "('basemodel__epochs', 48),\n",
        "('basemodel__model__activation', 'relu'),\n",
        "('basemodel__model__dropout', 0.1391581962274659),\n",
        "('basemodel__model__layer1', 21),\n",
        "('basemodel__model__layer2', 155),\n",
        "('basemodel__model__layer3', 470),\n",
        "('basemodel__model__learning_rate', 0.0073289126629601945),\n",
        "('basemodel__model__optim', keras.optimizer_v2.adam.Adam),\n",
        "('basemodel__validation_split', 0.36967020819812124),\n",
        "('poly_degree', 2),\n",
        "('scaler', StandardScaler())\n",
        "```\n",
        "\n",
        "## Non-Linear RUL + Poly\n",
        "Score: 0. 8685824286626458 \n",
        "Test: 0.\n",
        "```\n",
        "('basemodel__batch_size', 341),\n",
        "('basemodel__epochs', 17),\n",
        "('basemodel__model__activation', 'tanh'),\n",
        "('basemodel__model__dropout', 0.4873807075753994),\n",
        "('basemodel__model__layer1', 327),\n",
        "('basemodel__model__layer2', 178),\n",
        "('basemodel__model__layer3', 137),\n",
        "('basemodel__model__learning_rate', 0.004408412959948351),\n",
        "('basemodel__model__optim', keras.optimizer_v2.adam.Adam),\n",
        "('basemodel__validation_split', 0.24273752933914083),\n",
        "('clip_y', 128),\n",
        "('poly_degree', 2),\n",
        "('scaler', StandardScaler())\n",
        "```"
      ],
      "metadata": {
        "id": "3VwnynxEV7b0"
      }
    },
    {
      "cell_type": "markdown",
      "source": [
        "# MLP 4-layer \n"
      ],
      "metadata": {
        "id": "7aAknMTjDeoK"
      }
    },
    {
      "cell_type": "markdown",
      "source": [
        "\n",
        "## Linear RUL\n",
        "\n",
        "Score: 0.8684757521280048    \n",
        "Test: 0.\n",
        "```\n",
        "('basemodel__batch_size', 103),\n",
        "('basemodel__epochs', 12),\n",
        "('basemodel__model__activation', 'tanh'),\n",
        "('basemodel__model__dropout', 0.3134822908558863),\n",
        "('basemodel__model__layer1', 283),\n",
        "('basemodel__model__layer2', 443),\n",
        "('basemodel__model__layer3', 439),\n",
        "('basemodel__model__layer4', 372),\n",
        "('basemodel__model__learning_rate', 0.0032013417809996724),\n",
        "('basemodel__model__optim', keras.optimizer_v2.adam.Adam),\n",
        "('basemodel__validation_split', 0.1),\n",
        "('scaler', StandardScaler())\n",
        "```\n",
        "\n",
        "\n",
        "\n",
        "## Non-Linear RUL\n",
        "Score: 0.8660106784286828    \n",
        "Test: 0.\n",
        "```\n",
        "('basemodel__batch_size', 307),\n",
        "('basemodel__epochs', 41),\n",
        "('basemodel__model__activation', 'tanh'),\n",
        "('basemodel__model__dropout', 0.5466264018626226),\n",
        "('basemodel__model__layer1', 107),\n",
        "('basemodel__model__layer2', 321),\n",
        "('basemodel__model__layer3', 224),\n",
        "('basemodel__model__layer4', 409),\n",
        "('basemodel__model__learning_rate', 0.0030341169226143524),\n",
        "('basemodel__model__optim', keras.optimizer_v2.adam.Adam),\n",
        "('basemodel__validation_split', 0.37619668517195415),\n",
        "('clip_y', 96),\n",
        "('scaler', StandardScaler())\n",
        "```\n",
        "\n",
        "## Linear RUL + Poly\n",
        "Score: 0.6156786341145847    \n",
        "Test: 0.\n",
        "```\n",
        "('basemodel__batch_size', 361),\n",
        "             ('basemodel__epochs', 50),\n",
        "             ('basemodel__model__activation', 'relu'),\n",
        "             ('basemodel__model__dropout', 0.1),\n",
        "             ('basemodel__model__layer1', 190),\n",
        "             ('basemodel__model__layer2', 16),\n",
        "             ('basemodel__model__layer3', 347),\n",
        "             ('basemodel__model__layer4', 16),\n",
        "             ('basemodel__model__learning_rate', 0.005981118857082314),\n",
        "             ('basemodel__model__optim',\n",
        "              keras.optimizers.optimizer_v2.rmsprop.RMSprop),\n",
        "             ('basemodel__validation_split', 0.30471043158191014),\n",
        "             ('poly_degree', 3),\n",
        "             ('scaler', MinMaxScaler())\n",
        "```\n",
        "\n",
        "## Non-Linear RUL + Poly\n",
        "Score: 0.826775307297052  \n",
        "Test: 0.\n",
        "```\n",
        "('basemodel__batch_size', 32),\n",
        "             ('basemodel__epochs', 49),\n",
        "             ('basemodel__model__activation', 'tanh'),\n",
        "             ('basemodel__model__dropout', 0.5349409823992656),\n",
        "             ('basemodel__model__layer1', 487),\n",
        "             ('basemodel__model__layer2', 76),\n",
        "             ('basemodel__model__layer3', 485),\n",
        "             ('basemodel__model__layer4', 512),\n",
        "             ('basemodel__model__learning_rate', 0.005352989720845566),\n",
        "             ('basemodel__model__optim',\n",
        "              keras.optimizers.optimizer_v2.rmsprop.RMSprop),\n",
        "             ('basemodel__validation_split', 0.49382761252767493),\n",
        "             ('clip_y', 101),\n",
        "             ('poly_degree', 3),\n",
        "             ('scaler', StandardScaler())\n",
        "```"
      ],
      "metadata": {
        "id": "-rW0kXOCDeoM"
      }
    },
    {
      "cell_type": "markdown",
      "source": [
        "# MLP Tester"
      ],
      "metadata": {
        "id": "ppByl3wN_W05"
      }
    },
    {
      "cell_type": "code",
      "source": [
        "CLIP=80\n",
        "\n",
        "model = MLPWrapperRegressor(\n",
        "        clip_y=CLIP, scaler=StandardScaler(), poly_degree=3,\n",
        "        basemodel=\n",
        "            KerasRegressor(model=create_model,\n",
        "                           batch_size=108,\n",
        "                           epochs=17,\n",
        "                           model__activation='tanh',\n",
        "                           model__dropout=0.1, \n",
        "                           model__layer1=190, \n",
        "                           model__layer2=511, \n",
        "                           model__learning_rate=0.0025717804547879877,\n",
        "                           model__optim=Adam,\n",
        "                           validation_split=0.1, \n",
        "                           verbose=0, callbacks=[es, printerCallback],\n",
        "                           model__metrics=[RMSE(), R2()],\n",
        "                           model__loss='mse',\n",
        "                           print_summary=True\n",
        "                           )\n",
        "    )"
      ],
      "metadata": {
        "id": "5p5GYkfQFKtl"
      },
      "execution_count": null,
      "outputs": []
    },
    {
      "cell_type": "code",
      "source": [
        "model.fit(X_train_, y_train)"
      ],
      "metadata": {
        "colab": {
          "base_uri": "https://localhost:8080/"
        },
        "outputId": "a8dc4564-3c64-4bb6-acba-bafc7ac481cd",
        "id": "wmkoVA33FKtl"
      },
      "execution_count": null,
      "outputs": [
        {
          "output_type": "stream",
          "name": "stdout",
          "text": [
            "Model: \"sequential_273\"\n",
            "_________________________________________________________________\n",
            " Layer (type)                Output Shape              Param #   \n",
            "=================================================================\n",
            " dense_819 (Dense)           (None, 190)               384560    \n",
            "                                                                 \n",
            " dropout_546 (Dropout)       (None, 190)               0         \n",
            "                                                                 \n",
            " dense_820 (Dense)           (None, 511)               97601     \n",
            "                                                                 \n",
            " dropout_547 (Dropout)       (None, 511)               0         \n",
            "                                                                 \n",
            " dense_821 (Dense)           (None, 1)                 512       \n",
            "                                                                 \n",
            "=================================================================\n",
            "Total params: 482,673\n",
            "Trainable params: 482,673\n",
            "Non-trainable params: 0\n",
            "_________________________________________________________________\n",
            "E 1\t: loss=1603.459, rmse=40.043, r2=-1.672; v_loss=149.857, v_rmse=12.242, v_r2=0.732; \n",
            "E 2\t: loss=154.609, rmse=12.434, r2=0.742; v_loss=130.485, v_rmse=11.423, v_r2=0.766; \n",
            "E 3\t: loss=127.662, rmse=11.299, r2=0.787; v_loss=103.928, v_rmse=10.195, v_r2=0.814; \n",
            "E 4\t: loss=115.366, rmse=10.741, r2=0.808; v_loss=107.493, v_rmse=10.368, v_r2=0.808; \n",
            "E 5\t: loss=110.073, rmse=10.492, r2=0.817; v_loss=106.713, v_rmse=10.330, v_r2=0.809; \n",
            "E 6\t: loss=102.799, rmse=10.139, r2=0.829; v_loss=130.765, v_rmse=11.435, v_r2=0.766; \n",
            "E 7\t: loss=101.734, rmse=10.086, r2=0.830; v_loss=114.192, v_rmse=10.686, v_r2=0.796; \n",
            "E 8\t: loss=96.760, rmse=9.837, r2=0.839; v_loss=101.614, v_rmse=10.080, v_r2=0.818; \n",
            "E 9\t: loss=96.115, rmse=9.804, r2=0.840; v_loss=102.598, v_rmse=10.129, v_r2=0.816; \n",
            "E 10\t: loss=95.199, rmse=9.757, r2=0.841; v_loss=104.224, v_rmse=10.209, v_r2=0.813; \n",
            "E 11\t: loss=95.689, rmse=9.782, r2=0.841; v_loss=97.761, v_rmse=9.887, v_r2=0.825; \n",
            "E 12\t: loss=95.880, rmse=9.792, r2=0.840; v_loss=107.639, v_rmse=10.375, v_r2=0.807; \n",
            "E 13\t: loss=92.777, rmse=9.632, r2=0.845; v_loss=104.369, v_rmse=10.216, v_r2=0.813; \n",
            "E 14\t: loss=96.245, rmse=9.810, r2=0.840; v_loss=101.652, v_rmse=10.082, v_r2=0.818; \n",
            "E 15\t: loss=98.871, rmse=9.943, r2=0.835; v_loss=112.768, v_rmse=10.619, v_r2=0.798; \n",
            "E 16\t: loss=95.918, rmse=9.794, r2=0.840; v_loss=105.094, v_rmse=10.252, v_r2=0.812; \n",
            "E 17\t: loss=93.278, rmse=9.658, r2=0.845; v_loss=105.954, v_rmse=10.293, v_r2=0.810; \n"
          ]
        },
        {
          "output_type": "execute_result",
          "data": {
            "text/plain": [
              "MLPWrapperRegressor(basemodel=KerasRegressor(batch_size=108, callbacks=[<keras.callbacks.EarlyStopping object at 0x7ff6201bb8d0>, <keras.callbacks.LambdaCallback object at 0x7ff6200e5f90>], epochs=17, model=<function create_model at 0x7ff6200fc7a0>, model__activation='tanh', model__dropout=0.1, model__layer1=190, model__layer2=511, model__learning_rate=0.0025717804547879877, model__loss='mse', model__metrics=[<keras.metrics.RootMeanSquaredError object at 0x7ff59a4e0210>, <tensorflow_addons.metrics.r_square.RSquare object at 0x7ff5aaccef10>], model__optim=<class 'keras.optimizer_v2.adam.Adam'>, print_summary=True, validation_split=0.1, verbose=0),\n",
              "                    clip_y=80, poly_degree=3)"
            ]
          },
          "metadata": {},
          "execution_count": 71
        }
      ]
    },
    {
      "cell_type": "code",
      "source": [
        "model.score(X_test, reclipped_y)"
      ],
      "metadata": {
        "colab": {
          "base_uri": "https://localhost:8080/",
          "height": 169
        },
        "id": "BYafN67d77Ix",
        "outputId": "1e8b2904-bab9-4293-be60-41823e2b89cb"
      },
      "execution_count": null,
      "outputs": [
        {
          "output_type": "error",
          "ename": "NameError",
          "evalue": "ignored",
          "traceback": [
            "\u001b[0;31m---------------------------------------------------------------------------\u001b[0m",
            "\u001b[0;31mNameError\u001b[0m                                 Traceback (most recent call last)",
            "\u001b[0;32m<ipython-input-63-083753147b2c>\u001b[0m in \u001b[0;36m<module>\u001b[0;34m\u001b[0m\n\u001b[0;32m----> 1\u001b[0;31m \u001b[0mmodel\u001b[0m\u001b[0;34m.\u001b[0m\u001b[0mscore\u001b[0m\u001b[0;34m(\u001b[0m\u001b[0mX_test\u001b[0m\u001b[0;34m,\u001b[0m \u001b[0mreclipped_y\u001b[0m\u001b[0;34m)\u001b[0m\u001b[0;34m\u001b[0m\u001b[0;34m\u001b[0m\u001b[0m\n\u001b[0m",
            "\u001b[0;31mNameError\u001b[0m: name 'reclipped_y' is not defined"
          ]
        }
      ]
    },
    {
      "cell_type": "code",
      "source": [
        "# Scaling and formatting test data\n",
        "test_sc = scale_test(X_test,model)\n",
        "# test_wr = gen_test_wrapper(test_sc, SEQ_LENGTH)\n",
        "\n",
        "# Clipping test labels\n",
        "reclipped_y = y_test.copy()\n",
        "if (CLIP > 0): reclipped_y[\"RUL\"].clip(upper=CLIP, inplace=True)\n",
        "\n",
        "# Evaluation\n",
        "eval.show_result(reclipped_y, model.basemodel.predict(test_sc))\n",
        "# eval.show_result(reclipped_y, model.predict(X_test)) ## Doesn't work for LSTM\n",
        "print(\"Finished:\", datetime.datetime.now())"
      ],
      "metadata": {
        "colab": {
          "base_uri": "https://localhost:8080/"
        },
        "outputId": "1c18a55b-f046-4e8a-d1fe-2a124490869d",
        "id": "RXnrciV-FKtm"
      },
      "execution_count": null,
      "outputs": [
        {
          "output_type": "stream",
          "name": "stdout",
          "text": [
            "R2=0.847,RMSE=-10.438\n",
            "Finished: 2022-10-12 13:16:06.619756\n"
          ]
        }
      ]
    },
    {
      "cell_type": "markdown",
      "source": [
        "## Non-Linear RUL"
      ],
      "metadata": {
        "id": "WVSMJWsLFDx3"
      }
    },
    {
      "cell_type": "markdown",
      "source": [
        "\n",
        "\n",
        "```\n",
        "LSTMWrapperRegressor(\n",
        "    basemodel=KerasRegressor(\n",
        "        batch_size=32, \n",
        "        epochs=23, \n",
        "        model__activation='tanh',\n",
        "        model__dropout=0.30649418903936865, \n",
        "        model__layer_nodes=512, \n",
        "        model__learning_rate=0.0010472789501880123,\n",
        "        model__optim=<class 'keras.optimizer_v2.rmsprop.RMSprop'>,\n",
        "        validation_split=0.23542211183603107,\n",
        "    clip_y=99, \n",
        "    seq_length=79)\n",
        "```\n",
        "\n"
      ],
      "metadata": {
        "id": "3ZtOjUBNDKtz"
      }
    },
    {
      "cell_type": "code",
      "source": [
        "SEQ_LENGTH=79\n",
        "CLIP=99\n",
        "\n",
        "model = LSTMWrapperRegressor(\n",
        "        clip_y=CLIP, seq_length=SEQ_LENGTH, poly_degree=2,\n",
        "        basemodel=\n",
        "            KerasRegressor(model=create_model,\n",
        "                           batch_size=32,\n",
        "                           epochs=23,\n",
        "                           validation_split=0.23542211183603107, \n",
        "                           model__activation='tanh',\n",
        "                           model__dropout=0.30649418903936865, \n",
        "                           model__layer1=512, \n",
        "                           model__learning_rate=0.0010472789501880123,\n",
        "                           model__optim=RMSprop,\n",
        "                           verbose=0, callbacks=[es, printerCallback],\n",
        "                           model__metrics=[RMSE(), R2()],\n",
        "                           model__loss='mse',\n",
        "                           print_summary=True\n",
        "                           )\n",
        "    )"
      ],
      "metadata": {
        "id": "rqEuUKLF0CfS"
      },
      "execution_count": null,
      "outputs": []
    },
    {
      "cell_type": "code",
      "source": [
        "model.fit(X_train_, y_train)"
      ],
      "metadata": {
        "colab": {
          "base_uri": "https://localhost:8080/"
        },
        "id": "_36P-gmRD6QM",
        "outputId": "55451c3d-7c41-4347-b50c-5dfea4f0c7fb"
      },
      "execution_count": null,
      "outputs": [
        {
          "output_type": "stream",
          "name": "stderr",
          "text": [
            "/usr/local/lib/python3.7/dist-packages/pandas/core/frame.py:3641: PerformanceWarning: DataFrame is highly fragmented.  This is usually the result of calling `frame.insert` many times, which has poor performance.  Consider joining all columns at once using pd.concat(axis=1) instead.  To get a de-fragmented frame, use `newframe = frame.copy()`\n",
            "  self[k1] = value[k2]\n"
          ]
        },
        {
          "output_type": "stream",
          "name": "stdout",
          "text": [
            "Model: \"sequential\"\n",
            "_________________________________________________________________\n",
            " Layer (type)                Output Shape              Param #   \n",
            "=================================================================\n",
            " masking (Masking)           (None, 79, 253)           0         \n",
            "                                                                 \n",
            " lstm (LSTM)                 (None, 512)               1568768   \n",
            "                                                                 \n",
            " dropout (Dropout)           (None, 512)               0         \n",
            "                                                                 \n",
            " dense (Dense)               (None, 1)                 513       \n",
            "                                                                 \n",
            "=================================================================\n",
            "Total params: 1,569,281\n",
            "Trainable params: 1,569,281\n",
            "Non-trainable params: 0\n",
            "_________________________________________________________________\n",
            "E 1\t: loss=578.149, rmse=24.045, r2=0.469; v_loss=144.199, v_rmse=12.008, v_r2=0.872; \n",
            "E 2\t: loss=100.144, rmse=10.007, r2=0.908; v_loss=65.974, v_rmse=8.122, v_r2=0.941; \n",
            "E 3\t: loss=76.217, rmse=8.730, r2=0.930; v_loss=74.162, v_rmse=8.612, v_r2=0.934; \n",
            "E 4\t: loss=65.670, rmse=8.104, r2=0.940; v_loss=72.952, v_rmse=8.541, v_r2=0.935; \n",
            "E 5\t: loss=57.321, rmse=7.571, r2=0.947; v_loss=63.162, v_rmse=7.947, v_r2=0.944; \n",
            "E 6\t: loss=50.718, rmse=7.122, r2=0.953; v_loss=64.987, v_rmse=8.061, v_r2=0.942; \n",
            "E 7\t: loss=44.037, rmse=6.636, r2=0.960; v_loss=56.251, v_rmse=7.500, v_r2=0.950; \n",
            "E 8\t: loss=38.944, rmse=6.241, r2=0.964; v_loss=64.878, v_rmse=8.055, v_r2=0.942; \n",
            "E 9\t: loss=34.945, rmse=5.911, r2=0.968; v_loss=44.270, v_rmse=6.654, v_r2=0.961; \n",
            "E 10\t: loss=30.951, rmse=5.563, r2=0.972; v_loss=48.802, v_rmse=6.986, v_r2=0.957; \n",
            "E 11\t: loss=29.114, rmse=5.396, r2=0.973; v_loss=53.417, v_rmse=7.309, v_r2=0.953; \n",
            "E 12\t: loss=27.563, rmse=5.250, r2=0.975; v_loss=56.601, v_rmse=7.523, v_r2=0.950; \n",
            "E 13\t: loss=25.555, rmse=5.055, r2=0.977; v_loss=44.062, v_rmse=6.638, v_r2=0.961; \n",
            "E 14\t: loss=24.727, rmse=4.973, r2=0.977; v_loss=58.766, v_rmse=7.666, v_r2=0.948; \n",
            "E 15\t: loss=24.022, rmse=4.901, r2=0.978; v_loss=58.903, v_rmse=7.675, v_r2=0.948; \n",
            "E 16\t: loss=23.202, rmse=4.817, r2=0.979; v_loss=53.948, v_rmse=7.345, v_r2=0.952; \n",
            "E 17\t: loss=21.782, rmse=4.667, r2=0.980; v_loss=50.976, v_rmse=7.140, v_r2=0.955; \n",
            "E 18\t: loss=20.798, rmse=4.560, r2=0.981; v_loss=56.699, v_rmse=7.530, v_r2=0.950; \n",
            "E 19\t: loss=20.299, rmse=4.505, r2=0.981; v_loss=53.961, v_rmse=7.346, v_r2=0.952; \n",
            "E 20\t: loss=19.917, rmse=4.463, r2=0.982; v_loss=56.383, v_rmse=7.509, v_r2=0.950; \n",
            "E 21\t: loss=19.888, rmse=4.460, r2=0.982; v_loss=67.227, v_rmse=8.199, v_r2=0.940; \n",
            "E 22\t: loss=19.086, rmse=4.369, r2=0.982; v_loss=62.636, v_rmse=7.914, v_r2=0.944; \n",
            "E 23\t: loss=19.312, rmse=4.395, r2=0.982; v_loss=64.261, v_rmse=8.016, v_r2=0.943; \n"
          ]
        },
        {
          "output_type": "execute_result",
          "data": {
            "text/plain": [
              "LSTMWrapperRegressor(basemodel=KerasRegressor(batch_size=32, callbacks=[<keras.callbacks.EarlyStopping object at 0x7fb131c18910>, <keras.callbacks.LambdaCallback object at 0x7fb131c27090>], epochs=23, model=<function create_model at 0x7fb192fe6c20>, model__activation='tanh', model__dropout=0.30649418903936865, model__layer1=512, model__learning_rate=0.0010472789501880123, model__loss='mse', model__metrics=[<keras.metrics.RootMeanSquaredError object at 0x7fb120413a50>, <tensorflow_addons.metrics.r_square.RSquare object at 0x7fb131c34c10>], model__optim=<class 'keras.optimizer_v2.rmsprop.RMSprop'>, print_summary=True, validation_split=0.23542211183603107, verbose=0),\n",
              "                     clip_y=99, poly_degree=2, seq_length=79)"
            ]
          },
          "metadata": {},
          "execution_count": 41
        }
      ]
    },
    {
      "cell_type": "code",
      "source": [
        "# Scaling and formatting test data\n",
        "test_sc = scale_test(test,model)\n",
        "test_wr = gen_test_wrapper(test_sc, SEQ_LENGTH, cols=model.seq_cols)\n",
        "\n",
        "# Clipping test labels\n",
        "reclipped_y = y_test.copy()\n",
        "reclipped_y[\"RUL\"].clip(upper=CLIP, inplace=True)\n",
        "\n",
        "# Evaluation\n",
        "eval.show_result(reclipped_y, model.basemodel.predict(test_wr))\n",
        "print(\"Finished:\", datetime.datetime.now())"
      ],
      "metadata": {
        "colab": {
          "base_uri": "https://localhost:8080/"
        },
        "id": "NE5L88ftEB7C",
        "outputId": "d1417190-46b2-42c9-f4e1-e5315ce0127f"
      },
      "execution_count": null,
      "outputs": [
        {
          "output_type": "stream",
          "name": "stderr",
          "text": [
            "/usr/local/lib/python3.7/dist-packages/pandas/core/frame.py:3641: PerformanceWarning: DataFrame is highly fragmented.  This is usually the result of calling `frame.insert` many times, which has poor performance.  Consider joining all columns at once using pd.concat(axis=1) instead.  To get a de-fragmented frame, use `newframe = frame.copy()`\n",
            "  self[k1] = value[k2]\n"
          ]
        },
        {
          "output_type": "stream",
          "name": "stdout",
          "text": [
            "R2=0.932,RMSE=-8.833\n",
            "Finished: 2022-09-29 11:29:46.568952\n"
          ]
        }
      ]
    },
    {
      "cell_type": "code",
      "source": [],
      "metadata": {
        "id": "KFqepk2KeacA"
      },
      "execution_count": null,
      "outputs": []
    }
  ]
}