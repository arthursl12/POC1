{
  "nbformat": 4,
  "nbformat_minor": 0,
  "metadata": {
    "colab": {
      "name": "POC1_Turbofan_FD004_Model.ipynb",
      "provenance": [],
      "toc_visible": true,
      "collapsed_sections": [
        "boZqFQNlraCh",
        "IIXnBTkfxpCf",
        "fQA-YtFMM81M",
        "r6YQTm7aOf2G",
        "klzYEWjrZiXt",
        "MQi8MHh20wou",
        "BlwL5EnXQcuy",
        "do-hSx0G3M0P",
        "FiRLfiCC4ost",
        "91WW6IdH6zIz",
        "hDe4bhikyCfC",
        "48OuIMuweYhO",
        "slX8zIwSeYhV",
        "hhk2JShreYhZ"
      ],
      "authorship_tag": "ABX9TyP9XbijTRjs+C+IcMNTW3zW",
      "include_colab_link": true
    },
    "kernelspec": {
      "name": "python3",
      "display_name": "Python 3"
    },
    "language_info": {
      "name": "python"
    }
  },
  "cells": [
    {
      "cell_type": "markdown",
      "metadata": {
        "id": "view-in-github",
        "colab_type": "text"
      },
      "source": [
        "<a href=\"https://colab.research.google.com/github/arthursl12/POC1/blob/main/POC1_Turbofan_FD004_Model.ipynb\" target=\"_parent\"><img src=\"https://colab.research.google.com/assets/colab-badge.svg\" alt=\"Open In Colab\"/></a>"
      ]
    },
    {
      "cell_type": "markdown",
      "metadata": {
        "id": "iqDPLB2EDXSK"
      },
      "source": [
        "# Imports"
      ]
    },
    {
      "cell_type": "code",
      "execution_count": null,
      "metadata": {
        "id": "i0Z0Zs7YcgTp"
      },
      "outputs": [],
      "source": [
        "import os\n",
        "import pandas as pd\n",
        "import matplotlib.pyplot as plt\n",
        "import seaborn as sns\n",
        "import numpy as np\n",
        "import glob"
      ]
    },
    {
      "cell_type": "code",
      "execution_count": null,
      "metadata": {
        "id": "JKha6nBN1sGO"
      },
      "outputs": [],
      "source": [
        "from sklearn.linear_model import LinearRegression\n",
        "from sklearn.linear_model import SGDRegressor\n",
        "from sklearn.svm import LinearSVR\n",
        "\n",
        "from sklearn.pipeline import Pipeline\n",
        "from sklearn.compose import TransformedTargetRegressor\n",
        "from sklearn.exceptions import ConvergenceWarning\n",
        "\n",
        "from sklearn.feature_selection import SelectFromModel\n",
        "from sklearn.tree import DecisionTreeRegressor\n",
        "\n",
        "from sklearn.preprocessing import FunctionTransformer\n",
        "from sklearn.preprocessing import PolynomialFeatures\n",
        "from sklearn.preprocessing import StandardScaler\n",
        "from sklearn.preprocessing import MinMaxScaler"
      ]
    },
    {
      "cell_type": "code",
      "execution_count": null,
      "metadata": {
        "id": "yIpSdBdJ-uWd"
      },
      "outputs": [],
      "source": [
        "sns.set_palette('colorblind')"
      ]
    },
    {
      "cell_type": "markdown",
      "source": [
        "# Data Preparation"
      ],
      "metadata": {
        "id": "AU6ipeRozJz-"
      }
    },
    {
      "cell_type": "code",
      "source": [
        "# Dataset Download \n",
        "os.system('git clone https://github.com/arthursl12/dataset_2')\n",
        "os.system('mv /content/dataset_2/CMaps /content/CMaps')\n",
        "os.system('mv /content/dataset_2/data_processing /content/data_processing')\n",
        "os.system('rm -rf dataset_2')"
      ],
      "metadata": {
        "colab": {
          "base_uri": "https://localhost:8080/"
        },
        "id": "-EPYBkqeECE9",
        "outputId": "f7e30810-5141-4cd0-b687-0cc066cc1c82"
      },
      "execution_count": null,
      "outputs": [
        {
          "output_type": "execute_result",
          "data": {
            "text/plain": [
              "0"
            ]
          },
          "metadata": {},
          "execution_count": 4
        }
      ]
    },
    {
      "cell_type": "code",
      "source": [
        "from data_processing.processing import DatasetProcessing\n",
        "from data_processing.training import HyperparameterSearch, reclipper_scorer\n",
        "from data_processing.eval import Evaluation"
      ],
      "metadata": {
        "id": "FUQ5tHe4Eu7z"
      },
      "execution_count": null,
      "outputs": []
    },
    {
      "cell_type": "code",
      "source": [
        "proc = DatasetProcessing()"
      ],
      "metadata": {
        "id": "g1BmyudxzUz-"
      },
      "execution_count": null,
      "outputs": []
    },
    {
      "cell_type": "markdown",
      "source": [
        "## Data Integration"
      ],
      "metadata": {
        "id": "Q4QwyfhXs_hv"
      }
    },
    {
      "cell_type": "markdown",
      "source": [
        "The data are provided as a zip-compressed text file with 26 columns of numbers, separated by spaces. Each row is a snapshot of data taken during a single operational cycle, each column is a different variable. The columns correspond to:  \n",
        "\n",
        "1) unit number   \n",
        "2) time, in cycles  \n",
        "3) operational setting 1  \n",
        "4) operational setting 2  \n",
        "5) operational setting 3    \n",
        "6) sensor measurement 1    \n",
        "7) sensor measurement 2  \n",
        "...  \n",
        "26) sensor measurement 20\n",
        "\n",
        "\n",
        "There are 6 conditions (or combinations) which the 3 operational settings can take.  \n",
        "Condition 1: Altitude = 0, Mach Number = 0, TRA = 100  \n",
        "Condition 2: Altitude = 10, Mach Number = 0.25, TRA = 100  \n",
        "Condition 3: Altitude = 20, Mach Number = 0.7 TRA = 100  \n",
        "Condition 4: Altitude = 25, Mach Number = 0.62, TRA = 60  \n",
        "Condition 5: Altitude = 35 Mach Number = 0.84, TRA = 100  \n",
        "Condition 6: Altitude = 42, Mach Number = 0.84, TRA = 100  \n",
        "  \n",
        "There is slight variation in all these conditions so you may get numbers like 24.453 instead of 25 exactly.\n",
        "\n",
        "FD001: Condition 1 only  \n",
        "FD002: Mix of all the conditions  \n",
        "FD003: Condition 1 only  \n",
        "FD004: Mix of all conditions  \n"
      ],
      "metadata": {
        "id": "PQe-SyeYc6Gf"
      }
    },
    {
      "cell_type": "code",
      "source": [
        "index_cols, settings_cols, sensors_cols, cols = proc.column_names()\n",
        "train, test, y_test = proc.read_dataset(4)\n",
        "train"
      ],
      "metadata": {
        "colab": {
          "base_uri": "https://localhost:8080/",
          "height": 488
        },
        "id": "-yRYxz2hh4xE",
        "outputId": "fdd1b6ef-9901-4046-c214-bda5855c10dc"
      },
      "execution_count": null,
      "outputs": [
        {
          "output_type": "execute_result",
          "data": {
            "text/plain": [
              "       unit_number  time     op_1    op_2   op_3     s_0     s_1      s_2  \\\n",
              "0                1     1  42.0049  0.8400  100.0  445.00  549.68  1343.43   \n",
              "1                1     2  20.0020  0.7002  100.0  491.19  606.07  1477.61   \n",
              "2                1     3  42.0038  0.8409  100.0  445.00  548.95  1343.12   \n",
              "3                1     4  42.0000  0.8400  100.0  445.00  548.70  1341.24   \n",
              "4                1     5  25.0063  0.6207   60.0  462.54  536.10  1255.23   \n",
              "...            ...   ...      ...     ...    ...     ...     ...      ...   \n",
              "61244          249   251   9.9998  0.2500  100.0  489.05  605.33  1516.36   \n",
              "61245          249   252   0.0028  0.0015  100.0  518.67  643.42  1598.92   \n",
              "61246          249   253   0.0029  0.0000  100.0  518.67  643.68  1607.72   \n",
              "61247          249   254  35.0046  0.8400  100.0  449.44  555.77  1381.29   \n",
              "61248          249   255  42.0030  0.8400  100.0  445.00  549.85  1369.75   \n",
              "\n",
              "           s_3    s_4  ...    s_11     s_12     s_13     s_14  s_15  s_16  \\\n",
              "0      1112.93   3.91  ...  129.78  2387.99  8074.83   9.3335  0.02   330   \n",
              "1      1237.50   9.35  ...  312.59  2387.73  8046.13   9.1913  0.02   361   \n",
              "2      1117.05   3.91  ...  129.62  2387.97  8066.62   9.4007  0.02   329   \n",
              "3      1118.03   3.91  ...  129.80  2388.02  8076.05   9.3369  0.02   328   \n",
              "4      1033.59   7.05  ...  164.11  2028.08  7865.80  10.8366  0.02   305   \n",
              "...        ...    ...  ...     ...      ...      ...      ...   ...   ...   \n",
              "61244  1315.28  10.52  ...  380.16  2388.73  8185.69   8.4541  0.03   372   \n",
              "61245  1426.77  14.62  ...  535.02  2388.46  8185.47   8.2221  0.03   396   \n",
              "61246  1430.56  14.62  ...  535.41  2388.48  8193.94   8.2525  0.03   395   \n",
              "61247  1148.18   5.48  ...  187.92  2388.83  8125.64   9.0515  0.02   337   \n",
              "61248  1147.45   3.91  ...  134.32  2388.66  8144.33   9.1207  0.02   333   \n",
              "\n",
              "       s_17    s_18   s_19     s_20  \n",
              "0      2212  100.00  10.62   6.3670  \n",
              "1      2324  100.00  24.37  14.6552  \n",
              "2      2212  100.00  10.48   6.4213  \n",
              "3      2212  100.00  10.54   6.4176  \n",
              "4      1915   84.93  14.03   8.6754  \n",
              "...     ...     ...    ...      ...  \n",
              "61244  2319  100.00  29.11  17.5234  \n",
              "61245  2388  100.00  39.38  23.7151  \n",
              "61246  2388  100.00  39.78  23.8270  \n",
              "61247  2223  100.00  15.26   9.0774  \n",
              "61248  2212  100.00  10.66   6.4341  \n",
              "\n",
              "[61249 rows x 26 columns]"
            ],
            "text/html": [
              "\n",
              "  <div id=\"df-98c2a2b6-f06b-4d05-96b2-8877364386ad\">\n",
              "    <div class=\"colab-df-container\">\n",
              "      <div>\n",
              "<style scoped>\n",
              "    .dataframe tbody tr th:only-of-type {\n",
              "        vertical-align: middle;\n",
              "    }\n",
              "\n",
              "    .dataframe tbody tr th {\n",
              "        vertical-align: top;\n",
              "    }\n",
              "\n",
              "    .dataframe thead th {\n",
              "        text-align: right;\n",
              "    }\n",
              "</style>\n",
              "<table border=\"1\" class=\"dataframe\">\n",
              "  <thead>\n",
              "    <tr style=\"text-align: right;\">\n",
              "      <th></th>\n",
              "      <th>unit_number</th>\n",
              "      <th>time</th>\n",
              "      <th>op_1</th>\n",
              "      <th>op_2</th>\n",
              "      <th>op_3</th>\n",
              "      <th>s_0</th>\n",
              "      <th>s_1</th>\n",
              "      <th>s_2</th>\n",
              "      <th>s_3</th>\n",
              "      <th>s_4</th>\n",
              "      <th>...</th>\n",
              "      <th>s_11</th>\n",
              "      <th>s_12</th>\n",
              "      <th>s_13</th>\n",
              "      <th>s_14</th>\n",
              "      <th>s_15</th>\n",
              "      <th>s_16</th>\n",
              "      <th>s_17</th>\n",
              "      <th>s_18</th>\n",
              "      <th>s_19</th>\n",
              "      <th>s_20</th>\n",
              "    </tr>\n",
              "  </thead>\n",
              "  <tbody>\n",
              "    <tr>\n",
              "      <th>0</th>\n",
              "      <td>1</td>\n",
              "      <td>1</td>\n",
              "      <td>42.0049</td>\n",
              "      <td>0.8400</td>\n",
              "      <td>100.0</td>\n",
              "      <td>445.00</td>\n",
              "      <td>549.68</td>\n",
              "      <td>1343.43</td>\n",
              "      <td>1112.93</td>\n",
              "      <td>3.91</td>\n",
              "      <td>...</td>\n",
              "      <td>129.78</td>\n",
              "      <td>2387.99</td>\n",
              "      <td>8074.83</td>\n",
              "      <td>9.3335</td>\n",
              "      <td>0.02</td>\n",
              "      <td>330</td>\n",
              "      <td>2212</td>\n",
              "      <td>100.00</td>\n",
              "      <td>10.62</td>\n",
              "      <td>6.3670</td>\n",
              "    </tr>\n",
              "    <tr>\n",
              "      <th>1</th>\n",
              "      <td>1</td>\n",
              "      <td>2</td>\n",
              "      <td>20.0020</td>\n",
              "      <td>0.7002</td>\n",
              "      <td>100.0</td>\n",
              "      <td>491.19</td>\n",
              "      <td>606.07</td>\n",
              "      <td>1477.61</td>\n",
              "      <td>1237.50</td>\n",
              "      <td>9.35</td>\n",
              "      <td>...</td>\n",
              "      <td>312.59</td>\n",
              "      <td>2387.73</td>\n",
              "      <td>8046.13</td>\n",
              "      <td>9.1913</td>\n",
              "      <td>0.02</td>\n",
              "      <td>361</td>\n",
              "      <td>2324</td>\n",
              "      <td>100.00</td>\n",
              "      <td>24.37</td>\n",
              "      <td>14.6552</td>\n",
              "    </tr>\n",
              "    <tr>\n",
              "      <th>2</th>\n",
              "      <td>1</td>\n",
              "      <td>3</td>\n",
              "      <td>42.0038</td>\n",
              "      <td>0.8409</td>\n",
              "      <td>100.0</td>\n",
              "      <td>445.00</td>\n",
              "      <td>548.95</td>\n",
              "      <td>1343.12</td>\n",
              "      <td>1117.05</td>\n",
              "      <td>3.91</td>\n",
              "      <td>...</td>\n",
              "      <td>129.62</td>\n",
              "      <td>2387.97</td>\n",
              "      <td>8066.62</td>\n",
              "      <td>9.4007</td>\n",
              "      <td>0.02</td>\n",
              "      <td>329</td>\n",
              "      <td>2212</td>\n",
              "      <td>100.00</td>\n",
              "      <td>10.48</td>\n",
              "      <td>6.4213</td>\n",
              "    </tr>\n",
              "    <tr>\n",
              "      <th>3</th>\n",
              "      <td>1</td>\n",
              "      <td>4</td>\n",
              "      <td>42.0000</td>\n",
              "      <td>0.8400</td>\n",
              "      <td>100.0</td>\n",
              "      <td>445.00</td>\n",
              "      <td>548.70</td>\n",
              "      <td>1341.24</td>\n",
              "      <td>1118.03</td>\n",
              "      <td>3.91</td>\n",
              "      <td>...</td>\n",
              "      <td>129.80</td>\n",
              "      <td>2388.02</td>\n",
              "      <td>8076.05</td>\n",
              "      <td>9.3369</td>\n",
              "      <td>0.02</td>\n",
              "      <td>328</td>\n",
              "      <td>2212</td>\n",
              "      <td>100.00</td>\n",
              "      <td>10.54</td>\n",
              "      <td>6.4176</td>\n",
              "    </tr>\n",
              "    <tr>\n",
              "      <th>4</th>\n",
              "      <td>1</td>\n",
              "      <td>5</td>\n",
              "      <td>25.0063</td>\n",
              "      <td>0.6207</td>\n",
              "      <td>60.0</td>\n",
              "      <td>462.54</td>\n",
              "      <td>536.10</td>\n",
              "      <td>1255.23</td>\n",
              "      <td>1033.59</td>\n",
              "      <td>7.05</td>\n",
              "      <td>...</td>\n",
              "      <td>164.11</td>\n",
              "      <td>2028.08</td>\n",
              "      <td>7865.80</td>\n",
              "      <td>10.8366</td>\n",
              "      <td>0.02</td>\n",
              "      <td>305</td>\n",
              "      <td>1915</td>\n",
              "      <td>84.93</td>\n",
              "      <td>14.03</td>\n",
              "      <td>8.6754</td>\n",
              "    </tr>\n",
              "    <tr>\n",
              "      <th>...</th>\n",
              "      <td>...</td>\n",
              "      <td>...</td>\n",
              "      <td>...</td>\n",
              "      <td>...</td>\n",
              "      <td>...</td>\n",
              "      <td>...</td>\n",
              "      <td>...</td>\n",
              "      <td>...</td>\n",
              "      <td>...</td>\n",
              "      <td>...</td>\n",
              "      <td>...</td>\n",
              "      <td>...</td>\n",
              "      <td>...</td>\n",
              "      <td>...</td>\n",
              "      <td>...</td>\n",
              "      <td>...</td>\n",
              "      <td>...</td>\n",
              "      <td>...</td>\n",
              "      <td>...</td>\n",
              "      <td>...</td>\n",
              "      <td>...</td>\n",
              "    </tr>\n",
              "    <tr>\n",
              "      <th>61244</th>\n",
              "      <td>249</td>\n",
              "      <td>251</td>\n",
              "      <td>9.9998</td>\n",
              "      <td>0.2500</td>\n",
              "      <td>100.0</td>\n",
              "      <td>489.05</td>\n",
              "      <td>605.33</td>\n",
              "      <td>1516.36</td>\n",
              "      <td>1315.28</td>\n",
              "      <td>10.52</td>\n",
              "      <td>...</td>\n",
              "      <td>380.16</td>\n",
              "      <td>2388.73</td>\n",
              "      <td>8185.69</td>\n",
              "      <td>8.4541</td>\n",
              "      <td>0.03</td>\n",
              "      <td>372</td>\n",
              "      <td>2319</td>\n",
              "      <td>100.00</td>\n",
              "      <td>29.11</td>\n",
              "      <td>17.5234</td>\n",
              "    </tr>\n",
              "    <tr>\n",
              "      <th>61245</th>\n",
              "      <td>249</td>\n",
              "      <td>252</td>\n",
              "      <td>0.0028</td>\n",
              "      <td>0.0015</td>\n",
              "      <td>100.0</td>\n",
              "      <td>518.67</td>\n",
              "      <td>643.42</td>\n",
              "      <td>1598.92</td>\n",
              "      <td>1426.77</td>\n",
              "      <td>14.62</td>\n",
              "      <td>...</td>\n",
              "      <td>535.02</td>\n",
              "      <td>2388.46</td>\n",
              "      <td>8185.47</td>\n",
              "      <td>8.2221</td>\n",
              "      <td>0.03</td>\n",
              "      <td>396</td>\n",
              "      <td>2388</td>\n",
              "      <td>100.00</td>\n",
              "      <td>39.38</td>\n",
              "      <td>23.7151</td>\n",
              "    </tr>\n",
              "    <tr>\n",
              "      <th>61246</th>\n",
              "      <td>249</td>\n",
              "      <td>253</td>\n",
              "      <td>0.0029</td>\n",
              "      <td>0.0000</td>\n",
              "      <td>100.0</td>\n",
              "      <td>518.67</td>\n",
              "      <td>643.68</td>\n",
              "      <td>1607.72</td>\n",
              "      <td>1430.56</td>\n",
              "      <td>14.62</td>\n",
              "      <td>...</td>\n",
              "      <td>535.41</td>\n",
              "      <td>2388.48</td>\n",
              "      <td>8193.94</td>\n",
              "      <td>8.2525</td>\n",
              "      <td>0.03</td>\n",
              "      <td>395</td>\n",
              "      <td>2388</td>\n",
              "      <td>100.00</td>\n",
              "      <td>39.78</td>\n",
              "      <td>23.8270</td>\n",
              "    </tr>\n",
              "    <tr>\n",
              "      <th>61247</th>\n",
              "      <td>249</td>\n",
              "      <td>254</td>\n",
              "      <td>35.0046</td>\n",
              "      <td>0.8400</td>\n",
              "      <td>100.0</td>\n",
              "      <td>449.44</td>\n",
              "      <td>555.77</td>\n",
              "      <td>1381.29</td>\n",
              "      <td>1148.18</td>\n",
              "      <td>5.48</td>\n",
              "      <td>...</td>\n",
              "      <td>187.92</td>\n",
              "      <td>2388.83</td>\n",
              "      <td>8125.64</td>\n",
              "      <td>9.0515</td>\n",
              "      <td>0.02</td>\n",
              "      <td>337</td>\n",
              "      <td>2223</td>\n",
              "      <td>100.00</td>\n",
              "      <td>15.26</td>\n",
              "      <td>9.0774</td>\n",
              "    </tr>\n",
              "    <tr>\n",
              "      <th>61248</th>\n",
              "      <td>249</td>\n",
              "      <td>255</td>\n",
              "      <td>42.0030</td>\n",
              "      <td>0.8400</td>\n",
              "      <td>100.0</td>\n",
              "      <td>445.00</td>\n",
              "      <td>549.85</td>\n",
              "      <td>1369.75</td>\n",
              "      <td>1147.45</td>\n",
              "      <td>3.91</td>\n",
              "      <td>...</td>\n",
              "      <td>134.32</td>\n",
              "      <td>2388.66</td>\n",
              "      <td>8144.33</td>\n",
              "      <td>9.1207</td>\n",
              "      <td>0.02</td>\n",
              "      <td>333</td>\n",
              "      <td>2212</td>\n",
              "      <td>100.00</td>\n",
              "      <td>10.66</td>\n",
              "      <td>6.4341</td>\n",
              "    </tr>\n",
              "  </tbody>\n",
              "</table>\n",
              "<p>61249 rows × 26 columns</p>\n",
              "</div>\n",
              "      <button class=\"colab-df-convert\" onclick=\"convertToInteractive('df-98c2a2b6-f06b-4d05-96b2-8877364386ad')\"\n",
              "              title=\"Convert this dataframe to an interactive table.\"\n",
              "              style=\"display:none;\">\n",
              "        \n",
              "  <svg xmlns=\"http://www.w3.org/2000/svg\" height=\"24px\"viewBox=\"0 0 24 24\"\n",
              "       width=\"24px\">\n",
              "    <path d=\"M0 0h24v24H0V0z\" fill=\"none\"/>\n",
              "    <path d=\"M18.56 5.44l.94 2.06.94-2.06 2.06-.94-2.06-.94-.94-2.06-.94 2.06-2.06.94zm-11 1L8.5 8.5l.94-2.06 2.06-.94-2.06-.94L8.5 2.5l-.94 2.06-2.06.94zm10 10l.94 2.06.94-2.06 2.06-.94-2.06-.94-.94-2.06-.94 2.06-2.06.94z\"/><path d=\"M17.41 7.96l-1.37-1.37c-.4-.4-.92-.59-1.43-.59-.52 0-1.04.2-1.43.59L10.3 9.45l-7.72 7.72c-.78.78-.78 2.05 0 2.83L4 21.41c.39.39.9.59 1.41.59.51 0 1.02-.2 1.41-.59l7.78-7.78 2.81-2.81c.8-.78.8-2.07 0-2.86zM5.41 20L4 18.59l7.72-7.72 1.47 1.35L5.41 20z\"/>\n",
              "  </svg>\n",
              "      </button>\n",
              "      \n",
              "  <style>\n",
              "    .colab-df-container {\n",
              "      display:flex;\n",
              "      flex-wrap:wrap;\n",
              "      gap: 12px;\n",
              "    }\n",
              "\n",
              "    .colab-df-convert {\n",
              "      background-color: #E8F0FE;\n",
              "      border: none;\n",
              "      border-radius: 50%;\n",
              "      cursor: pointer;\n",
              "      display: none;\n",
              "      fill: #1967D2;\n",
              "      height: 32px;\n",
              "      padding: 0 0 0 0;\n",
              "      width: 32px;\n",
              "    }\n",
              "\n",
              "    .colab-df-convert:hover {\n",
              "      background-color: #E2EBFA;\n",
              "      box-shadow: 0px 1px 2px rgba(60, 64, 67, 0.3), 0px 1px 3px 1px rgba(60, 64, 67, 0.15);\n",
              "      fill: #174EA6;\n",
              "    }\n",
              "\n",
              "    [theme=dark] .colab-df-convert {\n",
              "      background-color: #3B4455;\n",
              "      fill: #D2E3FC;\n",
              "    }\n",
              "\n",
              "    [theme=dark] .colab-df-convert:hover {\n",
              "      background-color: #434B5C;\n",
              "      box-shadow: 0px 1px 3px 1px rgba(0, 0, 0, 0.15);\n",
              "      filter: drop-shadow(0px 1px 2px rgba(0, 0, 0, 0.3));\n",
              "      fill: #FFFFFF;\n",
              "    }\n",
              "  </style>\n",
              "\n",
              "      <script>\n",
              "        const buttonEl =\n",
              "          document.querySelector('#df-98c2a2b6-f06b-4d05-96b2-8877364386ad button.colab-df-convert');\n",
              "        buttonEl.style.display =\n",
              "          google.colab.kernel.accessAllowed ? 'block' : 'none';\n",
              "\n",
              "        async function convertToInteractive(key) {\n",
              "          const element = document.querySelector('#df-98c2a2b6-f06b-4d05-96b2-8877364386ad');\n",
              "          const dataTable =\n",
              "            await google.colab.kernel.invokeFunction('convertToInteractive',\n",
              "                                                     [key], {});\n",
              "          if (!dataTable) return;\n",
              "\n",
              "          const docLinkHtml = 'Like what you see? Visit the ' +\n",
              "            '<a target=\"_blank\" href=https://colab.research.google.com/notebooks/data_table.ipynb>data table notebook</a>'\n",
              "            + ' to learn more about interactive tables.';\n",
              "          element.innerHTML = '';\n",
              "          dataTable['output_type'] = 'display_data';\n",
              "          await google.colab.output.renderOutput(dataTable, element);\n",
              "          const docLink = document.createElement('div');\n",
              "          docLink.innerHTML = docLinkHtml;\n",
              "          element.appendChild(docLink);\n",
              "        }\n",
              "      </script>\n",
              "    </div>\n",
              "  </div>\n",
              "  "
            ]
          },
          "metadata": {},
          "execution_count": 7
        }
      ]
    },
    {
      "cell_type": "markdown",
      "source": [
        "## Preprocessing"
      ],
      "metadata": {
        "id": "n7MBDuPasy-s"
      }
    },
    {
      "cell_type": "markdown",
      "source": [
        "### Test Set Transformation \n",
        "Test set has samples for all cycles, but has annotations only for last one"
      ],
      "metadata": {
        "id": "QinQ4hWStzHt"
      }
    },
    {
      "cell_type": "code",
      "source": [
        "test.shape, y_test.shape"
      ],
      "metadata": {
        "colab": {
          "base_uri": "https://localhost:8080/"
        },
        "id": "4wtvRNsfuUwg",
        "outputId": "eae6654b-463e-4fba-cb0b-09e74e9a5977"
      },
      "execution_count": null,
      "outputs": [
        {
          "output_type": "execute_result",
          "data": {
            "text/plain": [
              "((41214, 26), (248, 1))"
            ]
          },
          "metadata": {},
          "execution_count": 8
        }
      ]
    },
    {
      "cell_type": "code",
      "source": [
        "test_last = proc.transform_test_keep_setting(test)\n",
        "test_last.head()"
      ],
      "metadata": {
        "colab": {
          "base_uri": "https://localhost:8080/",
          "height": 300
        },
        "id": "onw4pCwZy-1s",
        "outputId": "57c8b6af-79e2-4808-8c46-642645b1f921"
      },
      "execution_count": null,
      "outputs": [
        {
          "output_type": "execute_result",
          "data": {
            "text/plain": [
              "      op_1    op_2   op_3     s_0     s_1      s_2      s_3   s_4   s_5  \\\n",
              "0  25.0070  0.6214   60.0  462.54  537.66  1264.31  1046.41  7.05  8.99   \n",
              "1  41.9989  0.8400  100.0  445.00  549.96  1354.05  1133.55  3.91  5.72   \n",
              "2  42.0005  0.8401  100.0  445.00  549.47  1341.06  1118.90  3.91  5.69   \n",
              "3  25.0018  0.6207   60.0  462.54  536.06  1253.49  1038.53  7.05  9.00   \n",
              "4  25.0039  0.6200   60.0  462.54  537.36  1263.60  1052.52  7.05  9.03   \n",
              "\n",
              "      s_6  ...    s_11     s_12     s_13     s_14  s_15  s_16  s_17    s_18  \\\n",
              "0  176.56  ...  166.19  2028.53  7890.31  10.7615  0.02   308  1915   84.93   \n",
              "1  139.03  ...  130.17  2387.72  8073.44   9.3925  0.02   331  2212  100.00   \n",
              "2  139.26  ...  130.73  2388.18  8095.58   9.2974  0.02   330  2212  100.00   \n",
              "3  175.63  ...  164.91  2028.30  7878.63  10.8396  0.02   306  1915   84.93   \n",
              "4  175.53  ...  164.95  2028.24  7873.75  10.9094  0.02   307  1915   84.93   \n",
              "\n",
              "    s_19    s_20  \n",
              "0  14.41  8.6329  \n",
              "1  10.58  6.4325  \n",
              "2  10.61  6.3488  \n",
              "3  14.41  8.5696  \n",
              "4  14.19  8.6248  \n",
              "\n",
              "[5 rows x 24 columns]"
            ],
            "text/html": [
              "\n",
              "  <div id=\"df-7eeb53a4-bff4-419e-bb7d-cccfbb668d91\">\n",
              "    <div class=\"colab-df-container\">\n",
              "      <div>\n",
              "<style scoped>\n",
              "    .dataframe tbody tr th:only-of-type {\n",
              "        vertical-align: middle;\n",
              "    }\n",
              "\n",
              "    .dataframe tbody tr th {\n",
              "        vertical-align: top;\n",
              "    }\n",
              "\n",
              "    .dataframe thead th {\n",
              "        text-align: right;\n",
              "    }\n",
              "</style>\n",
              "<table border=\"1\" class=\"dataframe\">\n",
              "  <thead>\n",
              "    <tr style=\"text-align: right;\">\n",
              "      <th></th>\n",
              "      <th>op_1</th>\n",
              "      <th>op_2</th>\n",
              "      <th>op_3</th>\n",
              "      <th>s_0</th>\n",
              "      <th>s_1</th>\n",
              "      <th>s_2</th>\n",
              "      <th>s_3</th>\n",
              "      <th>s_4</th>\n",
              "      <th>s_5</th>\n",
              "      <th>s_6</th>\n",
              "      <th>...</th>\n",
              "      <th>s_11</th>\n",
              "      <th>s_12</th>\n",
              "      <th>s_13</th>\n",
              "      <th>s_14</th>\n",
              "      <th>s_15</th>\n",
              "      <th>s_16</th>\n",
              "      <th>s_17</th>\n",
              "      <th>s_18</th>\n",
              "      <th>s_19</th>\n",
              "      <th>s_20</th>\n",
              "    </tr>\n",
              "  </thead>\n",
              "  <tbody>\n",
              "    <tr>\n",
              "      <th>0</th>\n",
              "      <td>25.0070</td>\n",
              "      <td>0.6214</td>\n",
              "      <td>60.0</td>\n",
              "      <td>462.54</td>\n",
              "      <td>537.66</td>\n",
              "      <td>1264.31</td>\n",
              "      <td>1046.41</td>\n",
              "      <td>7.05</td>\n",
              "      <td>8.99</td>\n",
              "      <td>176.56</td>\n",
              "      <td>...</td>\n",
              "      <td>166.19</td>\n",
              "      <td>2028.53</td>\n",
              "      <td>7890.31</td>\n",
              "      <td>10.7615</td>\n",
              "      <td>0.02</td>\n",
              "      <td>308</td>\n",
              "      <td>1915</td>\n",
              "      <td>84.93</td>\n",
              "      <td>14.41</td>\n",
              "      <td>8.6329</td>\n",
              "    </tr>\n",
              "    <tr>\n",
              "      <th>1</th>\n",
              "      <td>41.9989</td>\n",
              "      <td>0.8400</td>\n",
              "      <td>100.0</td>\n",
              "      <td>445.00</td>\n",
              "      <td>549.96</td>\n",
              "      <td>1354.05</td>\n",
              "      <td>1133.55</td>\n",
              "      <td>3.91</td>\n",
              "      <td>5.72</td>\n",
              "      <td>139.03</td>\n",
              "      <td>...</td>\n",
              "      <td>130.17</td>\n",
              "      <td>2387.72</td>\n",
              "      <td>8073.44</td>\n",
              "      <td>9.3925</td>\n",
              "      <td>0.02</td>\n",
              "      <td>331</td>\n",
              "      <td>2212</td>\n",
              "      <td>100.00</td>\n",
              "      <td>10.58</td>\n",
              "      <td>6.4325</td>\n",
              "    </tr>\n",
              "    <tr>\n",
              "      <th>2</th>\n",
              "      <td>42.0005</td>\n",
              "      <td>0.8401</td>\n",
              "      <td>100.0</td>\n",
              "      <td>445.00</td>\n",
              "      <td>549.47</td>\n",
              "      <td>1341.06</td>\n",
              "      <td>1118.90</td>\n",
              "      <td>3.91</td>\n",
              "      <td>5.69</td>\n",
              "      <td>139.26</td>\n",
              "      <td>...</td>\n",
              "      <td>130.73</td>\n",
              "      <td>2388.18</td>\n",
              "      <td>8095.58</td>\n",
              "      <td>9.2974</td>\n",
              "      <td>0.02</td>\n",
              "      <td>330</td>\n",
              "      <td>2212</td>\n",
              "      <td>100.00</td>\n",
              "      <td>10.61</td>\n",
              "      <td>6.3488</td>\n",
              "    </tr>\n",
              "    <tr>\n",
              "      <th>3</th>\n",
              "      <td>25.0018</td>\n",
              "      <td>0.6207</td>\n",
              "      <td>60.0</td>\n",
              "      <td>462.54</td>\n",
              "      <td>536.06</td>\n",
              "      <td>1253.49</td>\n",
              "      <td>1038.53</td>\n",
              "      <td>7.05</td>\n",
              "      <td>9.00</td>\n",
              "      <td>175.63</td>\n",
              "      <td>...</td>\n",
              "      <td>164.91</td>\n",
              "      <td>2028.30</td>\n",
              "      <td>7878.63</td>\n",
              "      <td>10.8396</td>\n",
              "      <td>0.02</td>\n",
              "      <td>306</td>\n",
              "      <td>1915</td>\n",
              "      <td>84.93</td>\n",
              "      <td>14.41</td>\n",
              "      <td>8.5696</td>\n",
              "    </tr>\n",
              "    <tr>\n",
              "      <th>4</th>\n",
              "      <td>25.0039</td>\n",
              "      <td>0.6200</td>\n",
              "      <td>60.0</td>\n",
              "      <td>462.54</td>\n",
              "      <td>537.36</td>\n",
              "      <td>1263.60</td>\n",
              "      <td>1052.52</td>\n",
              "      <td>7.05</td>\n",
              "      <td>9.03</td>\n",
              "      <td>175.53</td>\n",
              "      <td>...</td>\n",
              "      <td>164.95</td>\n",
              "      <td>2028.24</td>\n",
              "      <td>7873.75</td>\n",
              "      <td>10.9094</td>\n",
              "      <td>0.02</td>\n",
              "      <td>307</td>\n",
              "      <td>1915</td>\n",
              "      <td>84.93</td>\n",
              "      <td>14.19</td>\n",
              "      <td>8.6248</td>\n",
              "    </tr>\n",
              "  </tbody>\n",
              "</table>\n",
              "<p>5 rows × 24 columns</p>\n",
              "</div>\n",
              "      <button class=\"colab-df-convert\" onclick=\"convertToInteractive('df-7eeb53a4-bff4-419e-bb7d-cccfbb668d91')\"\n",
              "              title=\"Convert this dataframe to an interactive table.\"\n",
              "              style=\"display:none;\">\n",
              "        \n",
              "  <svg xmlns=\"http://www.w3.org/2000/svg\" height=\"24px\"viewBox=\"0 0 24 24\"\n",
              "       width=\"24px\">\n",
              "    <path d=\"M0 0h24v24H0V0z\" fill=\"none\"/>\n",
              "    <path d=\"M18.56 5.44l.94 2.06.94-2.06 2.06-.94-2.06-.94-.94-2.06-.94 2.06-2.06.94zm-11 1L8.5 8.5l.94-2.06 2.06-.94-2.06-.94L8.5 2.5l-.94 2.06-2.06.94zm10 10l.94 2.06.94-2.06 2.06-.94-2.06-.94-.94-2.06-.94 2.06-2.06.94z\"/><path d=\"M17.41 7.96l-1.37-1.37c-.4-.4-.92-.59-1.43-.59-.52 0-1.04.2-1.43.59L10.3 9.45l-7.72 7.72c-.78.78-.78 2.05 0 2.83L4 21.41c.39.39.9.59 1.41.59.51 0 1.02-.2 1.41-.59l7.78-7.78 2.81-2.81c.8-.78.8-2.07 0-2.86zM5.41 20L4 18.59l7.72-7.72 1.47 1.35L5.41 20z\"/>\n",
              "  </svg>\n",
              "      </button>\n",
              "      \n",
              "  <style>\n",
              "    .colab-df-container {\n",
              "      display:flex;\n",
              "      flex-wrap:wrap;\n",
              "      gap: 12px;\n",
              "    }\n",
              "\n",
              "    .colab-df-convert {\n",
              "      background-color: #E8F0FE;\n",
              "      border: none;\n",
              "      border-radius: 50%;\n",
              "      cursor: pointer;\n",
              "      display: none;\n",
              "      fill: #1967D2;\n",
              "      height: 32px;\n",
              "      padding: 0 0 0 0;\n",
              "      width: 32px;\n",
              "    }\n",
              "\n",
              "    .colab-df-convert:hover {\n",
              "      background-color: #E2EBFA;\n",
              "      box-shadow: 0px 1px 2px rgba(60, 64, 67, 0.3), 0px 1px 3px 1px rgba(60, 64, 67, 0.15);\n",
              "      fill: #174EA6;\n",
              "    }\n",
              "\n",
              "    [theme=dark] .colab-df-convert {\n",
              "      background-color: #3B4455;\n",
              "      fill: #D2E3FC;\n",
              "    }\n",
              "\n",
              "    [theme=dark] .colab-df-convert:hover {\n",
              "      background-color: #434B5C;\n",
              "      box-shadow: 0px 1px 3px 1px rgba(0, 0, 0, 0.15);\n",
              "      filter: drop-shadow(0px 1px 2px rgba(0, 0, 0, 0.3));\n",
              "      fill: #FFFFFF;\n",
              "    }\n",
              "  </style>\n",
              "\n",
              "      <script>\n",
              "        const buttonEl =\n",
              "          document.querySelector('#df-7eeb53a4-bff4-419e-bb7d-cccfbb668d91 button.colab-df-convert');\n",
              "        buttonEl.style.display =\n",
              "          google.colab.kernel.accessAllowed ? 'block' : 'none';\n",
              "\n",
              "        async function convertToInteractive(key) {\n",
              "          const element = document.querySelector('#df-7eeb53a4-bff4-419e-bb7d-cccfbb668d91');\n",
              "          const dataTable =\n",
              "            await google.colab.kernel.invokeFunction('convertToInteractive',\n",
              "                                                     [key], {});\n",
              "          if (!dataTable) return;\n",
              "\n",
              "          const docLinkHtml = 'Like what you see? Visit the ' +\n",
              "            '<a target=\"_blank\" href=https://colab.research.google.com/notebooks/data_table.ipynb>data table notebook</a>'\n",
              "            + ' to learn more about interactive tables.';\n",
              "          element.innerHTML = '';\n",
              "          dataTable['output_type'] = 'display_data';\n",
              "          await google.colab.output.renderOutput(dataTable, element);\n",
              "          const docLink = document.createElement('div');\n",
              "          docLink.innerHTML = docLinkHtml;\n",
              "          element.appendChild(docLink);\n",
              "        }\n",
              "      </script>\n",
              "    </div>\n",
              "  </div>\n",
              "  "
            ]
          },
          "metadata": {},
          "execution_count": 9
        }
      ]
    },
    {
      "cell_type": "code",
      "source": [
        "X_test = test_last"
      ],
      "metadata": {
        "id": "ar3xxOQvIbHW"
      },
      "execution_count": null,
      "outputs": []
    },
    {
      "cell_type": "markdown",
      "source": [
        "### Remaining Useful Life (RUL)"
      ],
      "metadata": {
        "id": "boZqFQNlraCh"
      }
    },
    {
      "cell_type": "code",
      "source": [
        "train = proc.add_remaining_useful_life_linear(train)\n",
        "train[index_cols+['RUL']].head()"
      ],
      "metadata": {
        "colab": {
          "base_uri": "https://localhost:8080/",
          "height": 206
        },
        "id": "lmFKjQaeip1b",
        "outputId": "a6863855-a6ac-42f9-e283-efa5774c0432"
      },
      "execution_count": null,
      "outputs": [
        {
          "output_type": "execute_result",
          "data": {
            "text/plain": [
              "   unit_number  time  RUL\n",
              "0            1     1  320\n",
              "1            1     2  319\n",
              "2            1     3  318\n",
              "3            1     4  317\n",
              "4            1     5  316"
            ],
            "text/html": [
              "\n",
              "  <div id=\"df-6373ce03-2d1b-415b-bc38-fd552cb092ae\">\n",
              "    <div class=\"colab-df-container\">\n",
              "      <div>\n",
              "<style scoped>\n",
              "    .dataframe tbody tr th:only-of-type {\n",
              "        vertical-align: middle;\n",
              "    }\n",
              "\n",
              "    .dataframe tbody tr th {\n",
              "        vertical-align: top;\n",
              "    }\n",
              "\n",
              "    .dataframe thead th {\n",
              "        text-align: right;\n",
              "    }\n",
              "</style>\n",
              "<table border=\"1\" class=\"dataframe\">\n",
              "  <thead>\n",
              "    <tr style=\"text-align: right;\">\n",
              "      <th></th>\n",
              "      <th>unit_number</th>\n",
              "      <th>time</th>\n",
              "      <th>RUL</th>\n",
              "    </tr>\n",
              "  </thead>\n",
              "  <tbody>\n",
              "    <tr>\n",
              "      <th>0</th>\n",
              "      <td>1</td>\n",
              "      <td>1</td>\n",
              "      <td>320</td>\n",
              "    </tr>\n",
              "    <tr>\n",
              "      <th>1</th>\n",
              "      <td>1</td>\n",
              "      <td>2</td>\n",
              "      <td>319</td>\n",
              "    </tr>\n",
              "    <tr>\n",
              "      <th>2</th>\n",
              "      <td>1</td>\n",
              "      <td>3</td>\n",
              "      <td>318</td>\n",
              "    </tr>\n",
              "    <tr>\n",
              "      <th>3</th>\n",
              "      <td>1</td>\n",
              "      <td>4</td>\n",
              "      <td>317</td>\n",
              "    </tr>\n",
              "    <tr>\n",
              "      <th>4</th>\n",
              "      <td>1</td>\n",
              "      <td>5</td>\n",
              "      <td>316</td>\n",
              "    </tr>\n",
              "  </tbody>\n",
              "</table>\n",
              "</div>\n",
              "      <button class=\"colab-df-convert\" onclick=\"convertToInteractive('df-6373ce03-2d1b-415b-bc38-fd552cb092ae')\"\n",
              "              title=\"Convert this dataframe to an interactive table.\"\n",
              "              style=\"display:none;\">\n",
              "        \n",
              "  <svg xmlns=\"http://www.w3.org/2000/svg\" height=\"24px\"viewBox=\"0 0 24 24\"\n",
              "       width=\"24px\">\n",
              "    <path d=\"M0 0h24v24H0V0z\" fill=\"none\"/>\n",
              "    <path d=\"M18.56 5.44l.94 2.06.94-2.06 2.06-.94-2.06-.94-.94-2.06-.94 2.06-2.06.94zm-11 1L8.5 8.5l.94-2.06 2.06-.94-2.06-.94L8.5 2.5l-.94 2.06-2.06.94zm10 10l.94 2.06.94-2.06 2.06-.94-2.06-.94-.94-2.06-.94 2.06-2.06.94z\"/><path d=\"M17.41 7.96l-1.37-1.37c-.4-.4-.92-.59-1.43-.59-.52 0-1.04.2-1.43.59L10.3 9.45l-7.72 7.72c-.78.78-.78 2.05 0 2.83L4 21.41c.39.39.9.59 1.41.59.51 0 1.02-.2 1.41-.59l7.78-7.78 2.81-2.81c.8-.78.8-2.07 0-2.86zM5.41 20L4 18.59l7.72-7.72 1.47 1.35L5.41 20z\"/>\n",
              "  </svg>\n",
              "      </button>\n",
              "      \n",
              "  <style>\n",
              "    .colab-df-container {\n",
              "      display:flex;\n",
              "      flex-wrap:wrap;\n",
              "      gap: 12px;\n",
              "    }\n",
              "\n",
              "    .colab-df-convert {\n",
              "      background-color: #E8F0FE;\n",
              "      border: none;\n",
              "      border-radius: 50%;\n",
              "      cursor: pointer;\n",
              "      display: none;\n",
              "      fill: #1967D2;\n",
              "      height: 32px;\n",
              "      padding: 0 0 0 0;\n",
              "      width: 32px;\n",
              "    }\n",
              "\n",
              "    .colab-df-convert:hover {\n",
              "      background-color: #E2EBFA;\n",
              "      box-shadow: 0px 1px 2px rgba(60, 64, 67, 0.3), 0px 1px 3px 1px rgba(60, 64, 67, 0.15);\n",
              "      fill: #174EA6;\n",
              "    }\n",
              "\n",
              "    [theme=dark] .colab-df-convert {\n",
              "      background-color: #3B4455;\n",
              "      fill: #D2E3FC;\n",
              "    }\n",
              "\n",
              "    [theme=dark] .colab-df-convert:hover {\n",
              "      background-color: #434B5C;\n",
              "      box-shadow: 0px 1px 3px 1px rgba(0, 0, 0, 0.15);\n",
              "      filter: drop-shadow(0px 1px 2px rgba(0, 0, 0, 0.3));\n",
              "      fill: #FFFFFF;\n",
              "    }\n",
              "  </style>\n",
              "\n",
              "      <script>\n",
              "        const buttonEl =\n",
              "          document.querySelector('#df-6373ce03-2d1b-415b-bc38-fd552cb092ae button.colab-df-convert');\n",
              "        buttonEl.style.display =\n",
              "          google.colab.kernel.accessAllowed ? 'block' : 'none';\n",
              "\n",
              "        async function convertToInteractive(key) {\n",
              "          const element = document.querySelector('#df-6373ce03-2d1b-415b-bc38-fd552cb092ae');\n",
              "          const dataTable =\n",
              "            await google.colab.kernel.invokeFunction('convertToInteractive',\n",
              "                                                     [key], {});\n",
              "          if (!dataTable) return;\n",
              "\n",
              "          const docLinkHtml = 'Like what you see? Visit the ' +\n",
              "            '<a target=\"_blank\" href=https://colab.research.google.com/notebooks/data_table.ipynb>data table notebook</a>'\n",
              "            + ' to learn more about interactive tables.';\n",
              "          element.innerHTML = '';\n",
              "          dataTable['output_type'] = 'display_data';\n",
              "          await google.colab.output.renderOutput(dataTable, element);\n",
              "          const docLink = document.createElement('div');\n",
              "          docLink.innerHTML = docLinkHtml;\n",
              "          element.appendChild(docLink);\n",
              "        }\n",
              "      </script>\n",
              "    </div>\n",
              "  </div>\n",
              "  "
            ]
          },
          "metadata": {},
          "execution_count": 11
        }
      ]
    },
    {
      "cell_type": "markdown",
      "source": [
        "## Attributes and target separation"
      ],
      "metadata": {
        "id": "IIXnBTkfxpCf"
      }
    },
    {
      "cell_type": "code",
      "source": [
        "X_train, y_train = proc.X_y_train_divide_with_settings(train)"
      ],
      "metadata": {
        "id": "4SzUk6ZLxv6H"
      },
      "execution_count": null,
      "outputs": []
    },
    {
      "cell_type": "code",
      "source": [
        "y_train.head()"
      ],
      "metadata": {
        "colab": {
          "base_uri": "https://localhost:8080/",
          "height": 206
        },
        "id": "fuAnHn4GxzwM",
        "outputId": "ceb8d6b9-d5e5-4973-e6e9-e4984276b24d"
      },
      "execution_count": null,
      "outputs": [
        {
          "output_type": "execute_result",
          "data": {
            "text/plain": [
              "   RUL\n",
              "0  320\n",
              "1  319\n",
              "2  318\n",
              "3  317\n",
              "4  316"
            ],
            "text/html": [
              "\n",
              "  <div id=\"df-97c13f9a-b8fd-4250-8cb2-04f484a2f50f\">\n",
              "    <div class=\"colab-df-container\">\n",
              "      <div>\n",
              "<style scoped>\n",
              "    .dataframe tbody tr th:only-of-type {\n",
              "        vertical-align: middle;\n",
              "    }\n",
              "\n",
              "    .dataframe tbody tr th {\n",
              "        vertical-align: top;\n",
              "    }\n",
              "\n",
              "    .dataframe thead th {\n",
              "        text-align: right;\n",
              "    }\n",
              "</style>\n",
              "<table border=\"1\" class=\"dataframe\">\n",
              "  <thead>\n",
              "    <tr style=\"text-align: right;\">\n",
              "      <th></th>\n",
              "      <th>RUL</th>\n",
              "    </tr>\n",
              "  </thead>\n",
              "  <tbody>\n",
              "    <tr>\n",
              "      <th>0</th>\n",
              "      <td>320</td>\n",
              "    </tr>\n",
              "    <tr>\n",
              "      <th>1</th>\n",
              "      <td>319</td>\n",
              "    </tr>\n",
              "    <tr>\n",
              "      <th>2</th>\n",
              "      <td>318</td>\n",
              "    </tr>\n",
              "    <tr>\n",
              "      <th>3</th>\n",
              "      <td>317</td>\n",
              "    </tr>\n",
              "    <tr>\n",
              "      <th>4</th>\n",
              "      <td>316</td>\n",
              "    </tr>\n",
              "  </tbody>\n",
              "</table>\n",
              "</div>\n",
              "      <button class=\"colab-df-convert\" onclick=\"convertToInteractive('df-97c13f9a-b8fd-4250-8cb2-04f484a2f50f')\"\n",
              "              title=\"Convert this dataframe to an interactive table.\"\n",
              "              style=\"display:none;\">\n",
              "        \n",
              "  <svg xmlns=\"http://www.w3.org/2000/svg\" height=\"24px\"viewBox=\"0 0 24 24\"\n",
              "       width=\"24px\">\n",
              "    <path d=\"M0 0h24v24H0V0z\" fill=\"none\"/>\n",
              "    <path d=\"M18.56 5.44l.94 2.06.94-2.06 2.06-.94-2.06-.94-.94-2.06-.94 2.06-2.06.94zm-11 1L8.5 8.5l.94-2.06 2.06-.94-2.06-.94L8.5 2.5l-.94 2.06-2.06.94zm10 10l.94 2.06.94-2.06 2.06-.94-2.06-.94-.94-2.06-.94 2.06-2.06.94z\"/><path d=\"M17.41 7.96l-1.37-1.37c-.4-.4-.92-.59-1.43-.59-.52 0-1.04.2-1.43.59L10.3 9.45l-7.72 7.72c-.78.78-.78 2.05 0 2.83L4 21.41c.39.39.9.59 1.41.59.51 0 1.02-.2 1.41-.59l7.78-7.78 2.81-2.81c.8-.78.8-2.07 0-2.86zM5.41 20L4 18.59l7.72-7.72 1.47 1.35L5.41 20z\"/>\n",
              "  </svg>\n",
              "      </button>\n",
              "      \n",
              "  <style>\n",
              "    .colab-df-container {\n",
              "      display:flex;\n",
              "      flex-wrap:wrap;\n",
              "      gap: 12px;\n",
              "    }\n",
              "\n",
              "    .colab-df-convert {\n",
              "      background-color: #E8F0FE;\n",
              "      border: none;\n",
              "      border-radius: 50%;\n",
              "      cursor: pointer;\n",
              "      display: none;\n",
              "      fill: #1967D2;\n",
              "      height: 32px;\n",
              "      padding: 0 0 0 0;\n",
              "      width: 32px;\n",
              "    }\n",
              "\n",
              "    .colab-df-convert:hover {\n",
              "      background-color: #E2EBFA;\n",
              "      box-shadow: 0px 1px 2px rgba(60, 64, 67, 0.3), 0px 1px 3px 1px rgba(60, 64, 67, 0.15);\n",
              "      fill: #174EA6;\n",
              "    }\n",
              "\n",
              "    [theme=dark] .colab-df-convert {\n",
              "      background-color: #3B4455;\n",
              "      fill: #D2E3FC;\n",
              "    }\n",
              "\n",
              "    [theme=dark] .colab-df-convert:hover {\n",
              "      background-color: #434B5C;\n",
              "      box-shadow: 0px 1px 3px 1px rgba(0, 0, 0, 0.15);\n",
              "      filter: drop-shadow(0px 1px 2px rgba(0, 0, 0, 0.3));\n",
              "      fill: #FFFFFF;\n",
              "    }\n",
              "  </style>\n",
              "\n",
              "      <script>\n",
              "        const buttonEl =\n",
              "          document.querySelector('#df-97c13f9a-b8fd-4250-8cb2-04f484a2f50f button.colab-df-convert');\n",
              "        buttonEl.style.display =\n",
              "          google.colab.kernel.accessAllowed ? 'block' : 'none';\n",
              "\n",
              "        async function convertToInteractive(key) {\n",
              "          const element = document.querySelector('#df-97c13f9a-b8fd-4250-8cb2-04f484a2f50f');\n",
              "          const dataTable =\n",
              "            await google.colab.kernel.invokeFunction('convertToInteractive',\n",
              "                                                     [key], {});\n",
              "          if (!dataTable) return;\n",
              "\n",
              "          const docLinkHtml = 'Like what you see? Visit the ' +\n",
              "            '<a target=\"_blank\" href=https://colab.research.google.com/notebooks/data_table.ipynb>data table notebook</a>'\n",
              "            + ' to learn more about interactive tables.';\n",
              "          element.innerHTML = '';\n",
              "          dataTable['output_type'] = 'display_data';\n",
              "          await google.colab.output.renderOutput(dataTable, element);\n",
              "          const docLink = document.createElement('div');\n",
              "          docLink.innerHTML = docLinkHtml;\n",
              "          element.appendChild(docLink);\n",
              "        }\n",
              "      </script>\n",
              "    </div>\n",
              "  </div>\n",
              "  "
            ]
          },
          "metadata": {},
          "execution_count": 13
        }
      ]
    },
    {
      "cell_type": "code",
      "source": [
        "X_train.head()"
      ],
      "metadata": {
        "colab": {
          "base_uri": "https://localhost:8080/",
          "height": 300
        },
        "id": "26hK4VWkx1R7",
        "outputId": "8e8b52b0-a0a4-4520-e5f0-dd00aa8432ec"
      },
      "execution_count": null,
      "outputs": [
        {
          "output_type": "execute_result",
          "data": {
            "text/plain": [
              "      op_1    op_2   op_3     s_0     s_1      s_2      s_3   s_4    s_5  \\\n",
              "0  42.0049  0.8400  100.0  445.00  549.68  1343.43  1112.93  3.91   5.70   \n",
              "1  20.0020  0.7002  100.0  491.19  606.07  1477.61  1237.50  9.35  13.61   \n",
              "2  42.0038  0.8409  100.0  445.00  548.95  1343.12  1117.05  3.91   5.69   \n",
              "3  42.0000  0.8400  100.0  445.00  548.70  1341.24  1118.03  3.91   5.70   \n",
              "4  25.0063  0.6207   60.0  462.54  536.10  1255.23  1033.59  7.05   9.00   \n",
              "\n",
              "      s_6  ...    s_11     s_12     s_13     s_14  s_15  s_16  s_17    s_18  \\\n",
              "0  137.36  ...  129.78  2387.99  8074.83   9.3335  0.02   330  2212  100.00   \n",
              "1  332.10  ...  312.59  2387.73  8046.13   9.1913  0.02   361  2324  100.00   \n",
              "2  138.18  ...  129.62  2387.97  8066.62   9.4007  0.02   329  2212  100.00   \n",
              "3  137.98  ...  129.80  2388.02  8076.05   9.3369  0.02   328  2212  100.00   \n",
              "4  174.82  ...  164.11  2028.08  7865.80  10.8366  0.02   305  1915   84.93   \n",
              "\n",
              "    s_19     s_20  \n",
              "0  10.62   6.3670  \n",
              "1  24.37  14.6552  \n",
              "2  10.48   6.4213  \n",
              "3  10.54   6.4176  \n",
              "4  14.03   8.6754  \n",
              "\n",
              "[5 rows x 24 columns]"
            ],
            "text/html": [
              "\n",
              "  <div id=\"df-447c05de-bd6d-4605-9ac5-d6e8e52efe24\">\n",
              "    <div class=\"colab-df-container\">\n",
              "      <div>\n",
              "<style scoped>\n",
              "    .dataframe tbody tr th:only-of-type {\n",
              "        vertical-align: middle;\n",
              "    }\n",
              "\n",
              "    .dataframe tbody tr th {\n",
              "        vertical-align: top;\n",
              "    }\n",
              "\n",
              "    .dataframe thead th {\n",
              "        text-align: right;\n",
              "    }\n",
              "</style>\n",
              "<table border=\"1\" class=\"dataframe\">\n",
              "  <thead>\n",
              "    <tr style=\"text-align: right;\">\n",
              "      <th></th>\n",
              "      <th>op_1</th>\n",
              "      <th>op_2</th>\n",
              "      <th>op_3</th>\n",
              "      <th>s_0</th>\n",
              "      <th>s_1</th>\n",
              "      <th>s_2</th>\n",
              "      <th>s_3</th>\n",
              "      <th>s_4</th>\n",
              "      <th>s_5</th>\n",
              "      <th>s_6</th>\n",
              "      <th>...</th>\n",
              "      <th>s_11</th>\n",
              "      <th>s_12</th>\n",
              "      <th>s_13</th>\n",
              "      <th>s_14</th>\n",
              "      <th>s_15</th>\n",
              "      <th>s_16</th>\n",
              "      <th>s_17</th>\n",
              "      <th>s_18</th>\n",
              "      <th>s_19</th>\n",
              "      <th>s_20</th>\n",
              "    </tr>\n",
              "  </thead>\n",
              "  <tbody>\n",
              "    <tr>\n",
              "      <th>0</th>\n",
              "      <td>42.0049</td>\n",
              "      <td>0.8400</td>\n",
              "      <td>100.0</td>\n",
              "      <td>445.00</td>\n",
              "      <td>549.68</td>\n",
              "      <td>1343.43</td>\n",
              "      <td>1112.93</td>\n",
              "      <td>3.91</td>\n",
              "      <td>5.70</td>\n",
              "      <td>137.36</td>\n",
              "      <td>...</td>\n",
              "      <td>129.78</td>\n",
              "      <td>2387.99</td>\n",
              "      <td>8074.83</td>\n",
              "      <td>9.3335</td>\n",
              "      <td>0.02</td>\n",
              "      <td>330</td>\n",
              "      <td>2212</td>\n",
              "      <td>100.00</td>\n",
              "      <td>10.62</td>\n",
              "      <td>6.3670</td>\n",
              "    </tr>\n",
              "    <tr>\n",
              "      <th>1</th>\n",
              "      <td>20.0020</td>\n",
              "      <td>0.7002</td>\n",
              "      <td>100.0</td>\n",
              "      <td>491.19</td>\n",
              "      <td>606.07</td>\n",
              "      <td>1477.61</td>\n",
              "      <td>1237.50</td>\n",
              "      <td>9.35</td>\n",
              "      <td>13.61</td>\n",
              "      <td>332.10</td>\n",
              "      <td>...</td>\n",
              "      <td>312.59</td>\n",
              "      <td>2387.73</td>\n",
              "      <td>8046.13</td>\n",
              "      <td>9.1913</td>\n",
              "      <td>0.02</td>\n",
              "      <td>361</td>\n",
              "      <td>2324</td>\n",
              "      <td>100.00</td>\n",
              "      <td>24.37</td>\n",
              "      <td>14.6552</td>\n",
              "    </tr>\n",
              "    <tr>\n",
              "      <th>2</th>\n",
              "      <td>42.0038</td>\n",
              "      <td>0.8409</td>\n",
              "      <td>100.0</td>\n",
              "      <td>445.00</td>\n",
              "      <td>548.95</td>\n",
              "      <td>1343.12</td>\n",
              "      <td>1117.05</td>\n",
              "      <td>3.91</td>\n",
              "      <td>5.69</td>\n",
              "      <td>138.18</td>\n",
              "      <td>...</td>\n",
              "      <td>129.62</td>\n",
              "      <td>2387.97</td>\n",
              "      <td>8066.62</td>\n",
              "      <td>9.4007</td>\n",
              "      <td>0.02</td>\n",
              "      <td>329</td>\n",
              "      <td>2212</td>\n",
              "      <td>100.00</td>\n",
              "      <td>10.48</td>\n",
              "      <td>6.4213</td>\n",
              "    </tr>\n",
              "    <tr>\n",
              "      <th>3</th>\n",
              "      <td>42.0000</td>\n",
              "      <td>0.8400</td>\n",
              "      <td>100.0</td>\n",
              "      <td>445.00</td>\n",
              "      <td>548.70</td>\n",
              "      <td>1341.24</td>\n",
              "      <td>1118.03</td>\n",
              "      <td>3.91</td>\n",
              "      <td>5.70</td>\n",
              "      <td>137.98</td>\n",
              "      <td>...</td>\n",
              "      <td>129.80</td>\n",
              "      <td>2388.02</td>\n",
              "      <td>8076.05</td>\n",
              "      <td>9.3369</td>\n",
              "      <td>0.02</td>\n",
              "      <td>328</td>\n",
              "      <td>2212</td>\n",
              "      <td>100.00</td>\n",
              "      <td>10.54</td>\n",
              "      <td>6.4176</td>\n",
              "    </tr>\n",
              "    <tr>\n",
              "      <th>4</th>\n",
              "      <td>25.0063</td>\n",
              "      <td>0.6207</td>\n",
              "      <td>60.0</td>\n",
              "      <td>462.54</td>\n",
              "      <td>536.10</td>\n",
              "      <td>1255.23</td>\n",
              "      <td>1033.59</td>\n",
              "      <td>7.05</td>\n",
              "      <td>9.00</td>\n",
              "      <td>174.82</td>\n",
              "      <td>...</td>\n",
              "      <td>164.11</td>\n",
              "      <td>2028.08</td>\n",
              "      <td>7865.80</td>\n",
              "      <td>10.8366</td>\n",
              "      <td>0.02</td>\n",
              "      <td>305</td>\n",
              "      <td>1915</td>\n",
              "      <td>84.93</td>\n",
              "      <td>14.03</td>\n",
              "      <td>8.6754</td>\n",
              "    </tr>\n",
              "  </tbody>\n",
              "</table>\n",
              "<p>5 rows × 24 columns</p>\n",
              "</div>\n",
              "      <button class=\"colab-df-convert\" onclick=\"convertToInteractive('df-447c05de-bd6d-4605-9ac5-d6e8e52efe24')\"\n",
              "              title=\"Convert this dataframe to an interactive table.\"\n",
              "              style=\"display:none;\">\n",
              "        \n",
              "  <svg xmlns=\"http://www.w3.org/2000/svg\" height=\"24px\"viewBox=\"0 0 24 24\"\n",
              "       width=\"24px\">\n",
              "    <path d=\"M0 0h24v24H0V0z\" fill=\"none\"/>\n",
              "    <path d=\"M18.56 5.44l.94 2.06.94-2.06 2.06-.94-2.06-.94-.94-2.06-.94 2.06-2.06.94zm-11 1L8.5 8.5l.94-2.06 2.06-.94-2.06-.94L8.5 2.5l-.94 2.06-2.06.94zm10 10l.94 2.06.94-2.06 2.06-.94-2.06-.94-.94-2.06-.94 2.06-2.06.94z\"/><path d=\"M17.41 7.96l-1.37-1.37c-.4-.4-.92-.59-1.43-.59-.52 0-1.04.2-1.43.59L10.3 9.45l-7.72 7.72c-.78.78-.78 2.05 0 2.83L4 21.41c.39.39.9.59 1.41.59.51 0 1.02-.2 1.41-.59l7.78-7.78 2.81-2.81c.8-.78.8-2.07 0-2.86zM5.41 20L4 18.59l7.72-7.72 1.47 1.35L5.41 20z\"/>\n",
              "  </svg>\n",
              "      </button>\n",
              "      \n",
              "  <style>\n",
              "    .colab-df-container {\n",
              "      display:flex;\n",
              "      flex-wrap:wrap;\n",
              "      gap: 12px;\n",
              "    }\n",
              "\n",
              "    .colab-df-convert {\n",
              "      background-color: #E8F0FE;\n",
              "      border: none;\n",
              "      border-radius: 50%;\n",
              "      cursor: pointer;\n",
              "      display: none;\n",
              "      fill: #1967D2;\n",
              "      height: 32px;\n",
              "      padding: 0 0 0 0;\n",
              "      width: 32px;\n",
              "    }\n",
              "\n",
              "    .colab-df-convert:hover {\n",
              "      background-color: #E2EBFA;\n",
              "      box-shadow: 0px 1px 2px rgba(60, 64, 67, 0.3), 0px 1px 3px 1px rgba(60, 64, 67, 0.15);\n",
              "      fill: #174EA6;\n",
              "    }\n",
              "\n",
              "    [theme=dark] .colab-df-convert {\n",
              "      background-color: #3B4455;\n",
              "      fill: #D2E3FC;\n",
              "    }\n",
              "\n",
              "    [theme=dark] .colab-df-convert:hover {\n",
              "      background-color: #434B5C;\n",
              "      box-shadow: 0px 1px 3px 1px rgba(0, 0, 0, 0.15);\n",
              "      filter: drop-shadow(0px 1px 2px rgba(0, 0, 0, 0.3));\n",
              "      fill: #FFFFFF;\n",
              "    }\n",
              "  </style>\n",
              "\n",
              "      <script>\n",
              "        const buttonEl =\n",
              "          document.querySelector('#df-447c05de-bd6d-4605-9ac5-d6e8e52efe24 button.colab-df-convert');\n",
              "        buttonEl.style.display =\n",
              "          google.colab.kernel.accessAllowed ? 'block' : 'none';\n",
              "\n",
              "        async function convertToInteractive(key) {\n",
              "          const element = document.querySelector('#df-447c05de-bd6d-4605-9ac5-d6e8e52efe24');\n",
              "          const dataTable =\n",
              "            await google.colab.kernel.invokeFunction('convertToInteractive',\n",
              "                                                     [key], {});\n",
              "          if (!dataTable) return;\n",
              "\n",
              "          const docLinkHtml = 'Like what you see? Visit the ' +\n",
              "            '<a target=\"_blank\" href=https://colab.research.google.com/notebooks/data_table.ipynb>data table notebook</a>'\n",
              "            + ' to learn more about interactive tables.';\n",
              "          element.innerHTML = '';\n",
              "          dataTable['output_type'] = 'display_data';\n",
              "          await google.colab.output.renderOutput(dataTable, element);\n",
              "          const docLink = document.createElement('div');\n",
              "          docLink.innerHTML = docLinkHtml;\n",
              "          element.appendChild(docLink);\n",
              "        }\n",
              "      </script>\n",
              "    </div>\n",
              "  </div>\n",
              "  "
            ]
          },
          "metadata": {},
          "execution_count": 14
        }
      ]
    },
    {
      "cell_type": "markdown",
      "source": [
        "## Training and Evaluation functions"
      ],
      "metadata": {
        "id": "fQA-YtFMM81M"
      }
    },
    {
      "cell_type": "code",
      "source": [
        "eval = Evaluation()"
      ],
      "metadata": {
        "id": "u88P6scrNTRu"
      },
      "execution_count": null,
      "outputs": []
    },
    {
      "cell_type": "code",
      "source": [
        "search = HyperparameterSearch()"
      ],
      "metadata": {
        "id": "OUcS61OqPFhp"
      },
      "execution_count": null,
      "outputs": []
    },
    {
      "cell_type": "markdown",
      "metadata": {
        "id": "5OAVJILAXaTT"
      },
      "source": [
        "# LinearRegression"
      ]
    },
    {
      "cell_type": "markdown",
      "metadata": {
        "id": "r6YQTm7aOf2G"
      },
      "source": [
        "## Linear RUL"
      ]
    },
    {
      "cell_type": "code",
      "execution_count": null,
      "metadata": {
        "id": "4PbFjj3G3QUQ"
      },
      "outputs": [],
      "source": [
        "model = LinearRegression()"
      ]
    },
    {
      "cell_type": "code",
      "execution_count": null,
      "metadata": {
        "colab": {
          "base_uri": "https://localhost:8080/"
        },
        "id": "vefcPjT2Xb6y",
        "outputId": "ad851847-c622-4aee-8988-fe976d524540"
      },
      "outputs": [
        {
          "output_type": "stream",
          "name": "stdout",
          "text": [
            "R2=0.549,RMSE=-60.286\n",
            "(CV) R2=0.540,RMSE=-60.705\n"
          ]
        }
      ],
      "source": [
        "model.fit(X_train, y_train)\n",
        "eval.show_result(y_train, model.predict(X_train))\n",
        "eval.show_result_cv(y_train, X_train, model)"
      ]
    },
    {
      "cell_type": "code",
      "execution_count": null,
      "metadata": {
        "colab": {
          "base_uri": "https://localhost:8080/"
        },
        "id": "367rdLmjRETX",
        "outputId": "0813fbfa-7aa9-4d08-8757-02a92fa4f5eb"
      },
      "outputs": [
        {
          "output_type": "stream",
          "name": "stdout",
          "text": [
            "R2=0.233,RMSE=-47.758\n"
          ]
        }
      ],
      "source": [
        "eval.show_result(y_test, model.predict(X_test))"
      ]
    },
    {
      "cell_type": "markdown",
      "metadata": {
        "id": "klzYEWjrZiXt"
      },
      "source": [
        "## Non-linear RUL"
      ]
    },
    {
      "cell_type": "code",
      "execution_count": null,
      "metadata": {
        "colab": {
          "base_uri": "https://localhost:8080/",
          "height": 206
        },
        "id": "gnwsey5yZp3x",
        "outputId": "7721b71d-2ed0-4249-ccfd-6c4abbe1e9f6"
      },
      "outputs": [
        {
          "output_type": "execute_result",
          "data": {
            "text/plain": [
              "   RUL\n",
              "0  189\n",
              "1  189\n",
              "2  189\n",
              "3  189\n",
              "4  189"
            ],
            "text/html": [
              "\n",
              "  <div id=\"df-b0672e2d-832f-4dc8-a2f7-82ba8ea9d69a\">\n",
              "    <div class=\"colab-df-container\">\n",
              "      <div>\n",
              "<style scoped>\n",
              "    .dataframe tbody tr th:only-of-type {\n",
              "        vertical-align: middle;\n",
              "    }\n",
              "\n",
              "    .dataframe tbody tr th {\n",
              "        vertical-align: top;\n",
              "    }\n",
              "\n",
              "    .dataframe thead th {\n",
              "        text-align: right;\n",
              "    }\n",
              "</style>\n",
              "<table border=\"1\" class=\"dataframe\">\n",
              "  <thead>\n",
              "    <tr style=\"text-align: right;\">\n",
              "      <th></th>\n",
              "      <th>RUL</th>\n",
              "    </tr>\n",
              "  </thead>\n",
              "  <tbody>\n",
              "    <tr>\n",
              "      <th>0</th>\n",
              "      <td>189</td>\n",
              "    </tr>\n",
              "    <tr>\n",
              "      <th>1</th>\n",
              "      <td>189</td>\n",
              "    </tr>\n",
              "    <tr>\n",
              "      <th>2</th>\n",
              "      <td>189</td>\n",
              "    </tr>\n",
              "    <tr>\n",
              "      <th>3</th>\n",
              "      <td>189</td>\n",
              "    </tr>\n",
              "    <tr>\n",
              "      <th>4</th>\n",
              "      <td>189</td>\n",
              "    </tr>\n",
              "  </tbody>\n",
              "</table>\n",
              "</div>\n",
              "      <button class=\"colab-df-convert\" onclick=\"convertToInteractive('df-b0672e2d-832f-4dc8-a2f7-82ba8ea9d69a')\"\n",
              "              title=\"Convert this dataframe to an interactive table.\"\n",
              "              style=\"display:none;\">\n",
              "        \n",
              "  <svg xmlns=\"http://www.w3.org/2000/svg\" height=\"24px\"viewBox=\"0 0 24 24\"\n",
              "       width=\"24px\">\n",
              "    <path d=\"M0 0h24v24H0V0z\" fill=\"none\"/>\n",
              "    <path d=\"M18.56 5.44l.94 2.06.94-2.06 2.06-.94-2.06-.94-.94-2.06-.94 2.06-2.06.94zm-11 1L8.5 8.5l.94-2.06 2.06-.94-2.06-.94L8.5 2.5l-.94 2.06-2.06.94zm10 10l.94 2.06.94-2.06 2.06-.94-2.06-.94-.94-2.06-.94 2.06-2.06.94z\"/><path d=\"M17.41 7.96l-1.37-1.37c-.4-.4-.92-.59-1.43-.59-.52 0-1.04.2-1.43.59L10.3 9.45l-7.72 7.72c-.78.78-.78 2.05 0 2.83L4 21.41c.39.39.9.59 1.41.59.51 0 1.02-.2 1.41-.59l7.78-7.78 2.81-2.81c.8-.78.8-2.07 0-2.86zM5.41 20L4 18.59l7.72-7.72 1.47 1.35L5.41 20z\"/>\n",
              "  </svg>\n",
              "      </button>\n",
              "      \n",
              "  <style>\n",
              "    .colab-df-container {\n",
              "      display:flex;\n",
              "      flex-wrap:wrap;\n",
              "      gap: 12px;\n",
              "    }\n",
              "\n",
              "    .colab-df-convert {\n",
              "      background-color: #E8F0FE;\n",
              "      border: none;\n",
              "      border-radius: 50%;\n",
              "      cursor: pointer;\n",
              "      display: none;\n",
              "      fill: #1967D2;\n",
              "      height: 32px;\n",
              "      padding: 0 0 0 0;\n",
              "      width: 32px;\n",
              "    }\n",
              "\n",
              "    .colab-df-convert:hover {\n",
              "      background-color: #E2EBFA;\n",
              "      box-shadow: 0px 1px 2px rgba(60, 64, 67, 0.3), 0px 1px 3px 1px rgba(60, 64, 67, 0.15);\n",
              "      fill: #174EA6;\n",
              "    }\n",
              "\n",
              "    [theme=dark] .colab-df-convert {\n",
              "      background-color: #3B4455;\n",
              "      fill: #D2E3FC;\n",
              "    }\n",
              "\n",
              "    [theme=dark] .colab-df-convert:hover {\n",
              "      background-color: #434B5C;\n",
              "      box-shadow: 0px 1px 3px 1px rgba(0, 0, 0, 0.15);\n",
              "      filter: drop-shadow(0px 1px 2px rgba(0, 0, 0, 0.3));\n",
              "      fill: #FFFFFF;\n",
              "    }\n",
              "  </style>\n",
              "\n",
              "      <script>\n",
              "        const buttonEl =\n",
              "          document.querySelector('#df-b0672e2d-832f-4dc8-a2f7-82ba8ea9d69a button.colab-df-convert');\n",
              "        buttonEl.style.display =\n",
              "          google.colab.kernel.accessAllowed ? 'block' : 'none';\n",
              "\n",
              "        async function convertToInteractive(key) {\n",
              "          const element = document.querySelector('#df-b0672e2d-832f-4dc8-a2f7-82ba8ea9d69a');\n",
              "          const dataTable =\n",
              "            await google.colab.kernel.invokeFunction('convertToInteractive',\n",
              "                                                     [key], {});\n",
              "          if (!dataTable) return;\n",
              "\n",
              "          const docLinkHtml = 'Like what you see? Visit the ' +\n",
              "            '<a target=\"_blank\" href=https://colab.research.google.com/notebooks/data_table.ipynb>data table notebook</a>'\n",
              "            + ' to learn more about interactive tables.';\n",
              "          element.innerHTML = '';\n",
              "          dataTable['output_type'] = 'display_data';\n",
              "          await google.colab.output.renderOutput(dataTable, element);\n",
              "          const docLink = document.createElement('div');\n",
              "          docLink.innerHTML = docLinkHtml;\n",
              "          element.appendChild(docLink);\n",
              "        }\n",
              "      </script>\n",
              "    </div>\n",
              "  </div>\n",
              "  "
            ]
          },
          "metadata": {},
          "execution_count": 20
        }
      ],
      "source": [
        "y_train.clip(upper=189).head()"
      ]
    },
    {
      "cell_type": "code",
      "execution_count": null,
      "metadata": {
        "id": "J42sZdWlFlF5"
      },
      "outputs": [],
      "source": [
        "model = Pipeline([\n",
        "    ('trf_reg' ,TransformedTargetRegressor(\n",
        "        check_inverse=False,\n",
        "        regressor   = LinearRegression(),\n",
        "        transformer = FunctionTransformer(np.clip, \n",
        "                                          kw_args={'a_min':0,'a_max':50})))\n",
        "    ])"
      ]
    },
    {
      "cell_type": "code",
      "execution_count": null,
      "metadata": {
        "colab": {
          "base_uri": "https://localhost:8080/"
        },
        "id": "LecVj2kVEJgx",
        "outputId": "042eda20-4b34-471d-aac6-c888ae664694"
      },
      "outputs": [
        {
          "output_type": "stream",
          "name": "stdout",
          "text": [
            "n_iterations: 4\n",
            "n_required_iterations: 4\n",
            "n_possible_iterations: 5\n",
            "min_resources_: 500\n",
            "max_resources_: 61249\n",
            "aggressive_elimination: False\n",
            "factor: 3\n",
            "----------\n",
            "iter: 0\n",
            "n_candidates: 71\n",
            "n_resources: 500\n",
            "Fitting 5 folds for each of 71 candidates, totalling 355 fits\n"
          ]
        },
        {
          "output_type": "stream",
          "name": "stderr",
          "text": [
            "/usr/local/lib/python3.7/dist-packages/sklearn/model_selection/_search.py:296: UserWarning: The total space of parameters 71 is smaller than n_iter=122. Running 71 iterations. For exhaustive searches, use GridSearchCV.\n",
            "  UserWarning,\n"
          ]
        },
        {
          "output_type": "stream",
          "name": "stdout",
          "text": [
            "----------\n",
            "iter: 1\n",
            "n_candidates: 24\n",
            "n_resources: 1500\n",
            "Fitting 5 folds for each of 24 candidates, totalling 120 fits\n",
            "----------\n",
            "iter: 2\n",
            "n_candidates: 8\n",
            "n_resources: 4500\n",
            "Fitting 5 folds for each of 8 candidates, totalling 40 fits\n",
            "----------\n",
            "iter: 3\n",
            "n_candidates: 3\n",
            "n_resources: 13500\n",
            "Fitting 5 folds for each of 3 candidates, totalling 15 fits\n",
            "Best params:  {'trf_reg__transformer__kw_args': {'a_min': 0, 'a_max': 106}}\n",
            "Pipeline(steps=[('trf_reg',\n",
            "                 TransformedTargetRegressor(check_inverse=False,\n",
            "                                            regressor=LinearRegression(),\n",
            "                                            transformer=FunctionTransformer(func=<function clip at 0x7fe7c38d8c20>,\n",
            "                                                                            kw_args={'a_max': 106,\n",
            "                                                                                     'a_min': 0})))])\n"
          ]
        }
      ],
      "source": [
        "GRID_SEARCH = True\n",
        "if (GRID_SEARCH):\n",
        "    param_distributions = {\n",
        "        \"trf_reg__transformer__kw_args\": search.generate_clip_dicts(80,150,1)\n",
        "    }\n",
        "    model = search.run_HR_GS(model, X_train, y_train, param_distributions)\n",
        "    print(model)"
      ]
    },
    {
      "cell_type": "markdown",
      "metadata": {
        "id": "941d0KXxMZsB"
      },
      "source": [
        "Best Model:\n",
        "\n",
        "```\n",
        "{'trf_reg__transformer__kw_args': {'a_min': 0, 'a_max': 106}}\n",
        "```\n",
        "\n"
      ]
    },
    {
      "cell_type": "code",
      "execution_count": null,
      "metadata": {
        "id": "e0OEtLzeEgOH",
        "colab": {
          "base_uri": "https://localhost:8080/"
        },
        "outputId": "e0512c51-0e72-498b-b20c-ea01bc4d6fc5"
      },
      "outputs": [
        {
          "output_type": "execute_result",
          "data": {
            "text/plain": [
              "Pipeline(steps=[('trf_reg',\n",
              "                 TransformedTargetRegressor(check_inverse=False,\n",
              "                                            regressor=LinearRegression(),\n",
              "                                            transformer=FunctionTransformer(func=<function clip at 0x7fe7c38d8c20>,\n",
              "                                                                            kw_args={'a_max': 106,\n",
              "                                                                                     'a_min': 0})))])"
            ]
          },
          "metadata": {},
          "execution_count": 23
        }
      ],
      "source": [
        "model = Pipeline([\n",
        "    ('trf_reg' ,TransformedTargetRegressor(\n",
        "        check_inverse=False,\n",
        "        regressor   = LinearRegression(),\n",
        "        transformer = FunctionTransformer(np.clip, \n",
        "                                          kw_args={'a_min':0,'a_max':106})))\n",
        "    ])\n",
        "model"
      ]
    },
    {
      "cell_type": "code",
      "execution_count": null,
      "metadata": {
        "colab": {
          "base_uri": "https://localhost:8080/"
        },
        "id": "8SVqLYhUF3aY",
        "outputId": "72e706f6-7208-45e8-bfc2-ce8cacb43ebd"
      },
      "outputs": [
        {
          "output_type": "stream",
          "name": "stdout",
          "text": [
            "R2=0.726,RMSE=-17.404\n",
            "(CV) R2=0.722,RMSE=-17.512\n"
          ]
        }
      ],
      "source": [
        "model.fit(X_train, y_train)\n",
        "reclipped_y =  model['trf_reg'].transformer.transform(y_train)\n",
        "eval.show_result(reclipped_y, model.predict(X_train))\n",
        "eval.show_result_cv(reclipped_y, X_train, model)"
      ]
    },
    {
      "cell_type": "code",
      "execution_count": null,
      "metadata": {
        "colab": {
          "base_uri": "https://localhost:8080/"
        },
        "id": "JoP9s0laF3aU",
        "outputId": "59b26fac-602d-4159-f58c-e16d25f8eb1c"
      },
      "outputs": [
        {
          "output_type": "stream",
          "name": "stdout",
          "text": [
            "R2=0.687,RMSE=-20.646\n"
          ]
        }
      ],
      "source": [
        "reclipped_y =  model['trf_reg'].transformer.transform(y_test)\n",
        "eval.show_result(reclipped_y, model.predict(X_test))"
      ]
    },
    {
      "cell_type": "markdown",
      "source": [
        "Just adding a non-linear improved results, as in the first set"
      ],
      "metadata": {
        "id": "nH8hZTqMxL6U"
      }
    },
    {
      "cell_type": "markdown",
      "metadata": {
        "id": "MQi8MHh20wou"
      },
      "source": [
        "## PolyFeatures + Linear RUL"
      ]
    },
    {
      "cell_type": "code",
      "execution_count": null,
      "metadata": {
        "colab": {
          "base_uri": "https://localhost:8080/"
        },
        "id": "g3KHHSwr0wow",
        "outputId": "eca5bfc5-1fd0-46d0-f6f4-870efaed0c70"
      },
      "outputs": [
        {
          "output_type": "execute_result",
          "data": {
            "text/plain": [
              "Pipeline(steps=[('poly_ft', PolynomialFeatures()),\n",
              "                ('lin_reg', LinearRegression())])"
            ]
          },
          "metadata": {},
          "execution_count": 26
        }
      ],
      "source": [
        "model = Pipeline([\n",
        "    ('poly_ft'  ,   PolynomialFeatures()),\n",
        "    ('lin_reg'  ,   LinearRegression())\n",
        "])\n",
        "model"
      ]
    },
    {
      "cell_type": "code",
      "execution_count": null,
      "metadata": {
        "id": "datMycLD0wox",
        "colab": {
          "base_uri": "https://localhost:8080/"
        },
        "outputId": "1550cddd-a408-4d17-b5f5-c64e0c5ea09d"
      },
      "outputs": [
        {
          "output_type": "stream",
          "name": "stdout",
          "text": [
            "n_iterations: 3\n",
            "n_required_iterations: 3\n",
            "n_possible_iterations: 5\n",
            "min_resources_: 500\n",
            "max_resources_: 61249\n",
            "aggressive_elimination: False\n",
            "factor: 3\n",
            "----------\n",
            "iter: 0\n",
            "n_candidates: 12\n",
            "n_resources: 500\n",
            "Fitting 5 folds for each of 12 candidates, totalling 60 fits\n"
          ]
        },
        {
          "output_type": "stream",
          "name": "stderr",
          "text": [
            "/usr/local/lib/python3.7/dist-packages/sklearn/model_selection/_search.py:296: UserWarning: The total space of parameters 12 is smaller than n_iter=122. Running 12 iterations. For exhaustive searches, use GridSearchCV.\n",
            "  UserWarning,\n"
          ]
        },
        {
          "output_type": "stream",
          "name": "stdout",
          "text": [
            "----------\n",
            "iter: 1\n",
            "n_candidates: 4\n",
            "n_resources: 1500\n",
            "Fitting 5 folds for each of 4 candidates, totalling 20 fits\n",
            "----------\n",
            "iter: 2\n",
            "n_candidates: 2\n",
            "n_resources: 4500\n",
            "Fitting 5 folds for each of 2 candidates, totalling 10 fits\n",
            "Best params:  {'poly_ft__interaction_only': False, 'poly_ft__include_bias': True, 'poly_ft__degree': 1}\n",
            "Pipeline(steps=[('poly_ft', PolynomialFeatures(degree=1)),\n",
            "                ('lin_reg', LinearRegression())])\n"
          ]
        }
      ],
      "source": [
        "GRID_SEARCH = True\n",
        "if (GRID_SEARCH):\n",
        "    param_distributions = {\n",
        "        \"poly_ft__degree\": [1,2,3],\n",
        "        \"poly_ft__interaction_only\": [False, True],\n",
        "        \"poly_ft__include_bias\": [True, False]\n",
        "    }\n",
        "    model = search.run_HR_GS(model, X_train, y_train, \n",
        "                            param_distributions, scorer='r2')\n",
        "    print(model)"
      ]
    },
    {
      "cell_type": "markdown",
      "metadata": {
        "id": "ELoCa-ue0woy"
      },
      "source": [
        "Best Model:\n",
        "```\n",
        "PolynomialFeatures(degree=1))\n",
        "```\n"
      ]
    },
    {
      "cell_type": "code",
      "execution_count": null,
      "metadata": {
        "colab": {
          "base_uri": "https://localhost:8080/"
        },
        "id": "7Lqp1b3N0woz",
        "outputId": "9f2a904f-154f-4052-cab0-409ba18d6ba5"
      },
      "outputs": [
        {
          "output_type": "execute_result",
          "data": {
            "text/plain": [
              "Pipeline(steps=[('poly_ft', PolynomialFeatures(degree=1)),\n",
              "                ('lin_reg', LinearRegression())])"
            ]
          },
          "metadata": {},
          "execution_count": 28
        }
      ],
      "source": [
        "model = Pipeline([\n",
        "    ('poly_ft'  ,   PolynomialFeatures(degree=1)),\n",
        "    ('lin_reg'  ,   LinearRegression())\n",
        "])\n",
        "model"
      ]
    },
    {
      "cell_type": "code",
      "execution_count": null,
      "metadata": {
        "colab": {
          "base_uri": "https://localhost:8080/"
        },
        "id": "31OBJmT60wo1",
        "outputId": "03c9648a-d85e-45cc-8904-7c6b5e276518"
      },
      "outputs": [
        {
          "output_type": "stream",
          "name": "stdout",
          "text": [
            "R2=0.549,RMSE=-60.286\n",
            "(CV) R2=0.540,RMSE=-60.705\n"
          ]
        }
      ],
      "source": [
        "model.fit(X_train, y_train)\n",
        "eval.show_result(y_train, model.predict(X_train))\n",
        "eval.show_result_cv(y_train, X_train, model)"
      ]
    },
    {
      "cell_type": "code",
      "execution_count": null,
      "metadata": {
        "colab": {
          "base_uri": "https://localhost:8080/"
        },
        "id": "PWLNXSit0wo2",
        "outputId": "460b442c-5998-4acc-bbf6-7794e820536d"
      },
      "outputs": [
        {
          "output_type": "stream",
          "name": "stdout",
          "text": [
            "R2=0.233,RMSE=-47.758\n"
          ]
        }
      ],
      "source": [
        "eval.show_result(y_test, model.predict(X_test))"
      ]
    },
    {
      "cell_type": "markdown",
      "metadata": {
        "id": "9WTjNfG70wo3"
      },
      "source": [
        "No clear benefit from polynomial features in linear RUL for simple linear regression. Actually, the degree stayed in 1, i.e., without those features."
      ]
    },
    {
      "cell_type": "markdown",
      "metadata": {
        "id": "BlwL5EnXQcuy"
      },
      "source": [
        "## PolyFeatures + Non-Linear RUL"
      ]
    },
    {
      "cell_type": "code",
      "execution_count": null,
      "metadata": {
        "id": "CH-5TST3Qkrr"
      },
      "outputs": [],
      "source": [
        "model = Pipeline([\n",
        "    ('poly_ft'  ,   PolynomialFeatures()),\n",
        "    ('trf_reg' ,TransformedTargetRegressor(\n",
        "        check_inverse=False,\n",
        "        regressor   = LinearRegression(),\n",
        "        transformer = FunctionTransformer(np.clip, \n",
        "                                          kw_args={'a_min':0,'a_max':96})))\n",
        "])"
      ]
    },
    {
      "cell_type": "code",
      "execution_count": null,
      "metadata": {
        "id": "RKz_WrPIyNZZ",
        "colab": {
          "base_uri": "https://localhost:8080/"
        },
        "outputId": "1d20182a-baa9-4ec2-d0eb-a8c6fc4c16ed"
      },
      "outputs": [
        {
          "output_type": "stream",
          "name": "stdout",
          "text": [
            "n_iterations: 5\n",
            "n_required_iterations: 5\n",
            "n_possible_iterations: 5\n",
            "min_resources_: 500\n",
            "max_resources_: 61249\n",
            "aggressive_elimination: False\n",
            "factor: 3\n",
            "----------\n",
            "iter: 0\n",
            "n_candidates: 122\n",
            "n_resources: 500\n",
            "Fitting 5 folds for each of 122 candidates, totalling 610 fits\n",
            "----------\n",
            "iter: 1\n",
            "n_candidates: 41\n",
            "n_resources: 1500\n",
            "Fitting 5 folds for each of 41 candidates, totalling 205 fits\n",
            "----------\n",
            "iter: 2\n",
            "n_candidates: 14\n",
            "n_resources: 4500\n",
            "Fitting 5 folds for each of 14 candidates, totalling 70 fits\n",
            "----------\n",
            "iter: 3\n",
            "n_candidates: 5\n",
            "n_resources: 13500\n",
            "Fitting 5 folds for each of 5 candidates, totalling 25 fits\n",
            "----------\n",
            "iter: 4\n",
            "n_candidates: 2\n",
            "n_resources: 40500\n",
            "Fitting 5 folds for each of 2 candidates, totalling 10 fits\n",
            "Best params:  {'trf_reg__transformer__kw_args': {'a_min': 0, 'a_max': 109}, 'poly_ft__interaction_only': False, 'poly_ft__include_bias': True, 'poly_ft__degree': 1}\n",
            "Pipeline(steps=[('poly_ft', PolynomialFeatures(degree=1)),\n",
            "                ('trf_reg',\n",
            "                 TransformedTargetRegressor(check_inverse=False,\n",
            "                                            regressor=LinearRegression(),\n",
            "                                            transformer=FunctionTransformer(func=<function clip at 0x7fe7c38d8c20>,\n",
            "                                                                            kw_args={'a_max': 109,\n",
            "                                                                                     'a_min': 0})))])\n"
          ]
        }
      ],
      "source": [
        "GRID_SEARCH = True\n",
        "if (GRID_SEARCH):\n",
        "    param_distributions = {\n",
        "        \"poly_ft__degree\": [1,2,3],\n",
        "        \"poly_ft__interaction_only\": [False, True],\n",
        "        \"poly_ft__include_bias\": [True, False],\n",
        "        \"trf_reg__transformer__kw_args\": search.generate_clip_dicts(70,150,1)\n",
        "    }\n",
        "    model = search.run_HR_GS(model, X_train, y_train, param_distributions)\n",
        "    print(model)"
      ]
    },
    {
      "cell_type": "markdown",
      "metadata": {
        "id": "Vup8Svzqyt6w"
      },
      "source": [
        "Best Model:\n",
        "```\n",
        "{'trf_reg__transformer__kw_args': {'a_min': 0, 'a_max': 109}, \n",
        "PolynomialFeatures(degree=1)),\n",
        "```\n"
      ]
    },
    {
      "cell_type": "code",
      "execution_count": null,
      "metadata": {
        "colab": {
          "base_uri": "https://localhost:8080/"
        },
        "id": "aLC6mfh4y7vG",
        "outputId": "5e8f93d4-10bb-4014-bb61-d0aab3ba4657"
      },
      "outputs": [
        {
          "output_type": "execute_result",
          "data": {
            "text/plain": [
              "Pipeline(steps=[('poly_ft', PolynomialFeatures(degree=1)),\n",
              "                ('trf_reg',\n",
              "                 TransformedTargetRegressor(check_inverse=False,\n",
              "                                            regressor=LinearRegression(),\n",
              "                                            transformer=FunctionTransformer(func=<function clip at 0x7fe7c38d8c20>,\n",
              "                                                                            kw_args={'a_max': 109,\n",
              "                                                                                     'a_min': 0})))])"
            ]
          },
          "metadata": {},
          "execution_count": 33
        }
      ],
      "source": [
        "model = Pipeline([\n",
        "    ('poly_ft'  ,   PolynomialFeatures(degree=1)),\n",
        "    ('trf_reg' ,TransformedTargetRegressor(\n",
        "        check_inverse=False,\n",
        "        regressor   = LinearRegression(),\n",
        "        transformer = FunctionTransformer(np.clip, \n",
        "                                          kw_args={'a_min':0,'a_max':109})))\n",
        "])\n",
        "model"
      ]
    },
    {
      "cell_type": "code",
      "execution_count": null,
      "metadata": {
        "colab": {
          "base_uri": "https://localhost:8080/"
        },
        "id": "kgQSMjnVy7vJ",
        "outputId": "073093ef-3107-4483-d038-7aea7acc411a"
      },
      "outputs": [
        {
          "output_type": "stream",
          "name": "stdout",
          "text": [
            "R2=0.726,RMSE=-18.017\n",
            "(CV) R2=0.722,RMSE=-18.129\n"
          ]
        }
      ],
      "source": [
        "model.fit(X_train, y_train)\n",
        "reclipped_y =  model['trf_reg'].transformer.transform(y_train)\n",
        "eval.show_result(reclipped_y, model.predict(X_train))\n",
        "eval.show_result_cv(reclipped_y, X_train, model)"
      ]
    },
    {
      "cell_type": "code",
      "execution_count": null,
      "metadata": {
        "colab": {
          "base_uri": "https://localhost:8080/"
        },
        "id": "_WsTCV9qy7vJ",
        "outputId": "e5bae7ab-80d2-481d-f0f7-54273ac42d55"
      },
      "outputs": [
        {
          "output_type": "stream",
          "name": "stdout",
          "text": [
            "R2=0.686,RMSE=-21.234\n"
          ]
        }
      ],
      "source": [
        "reclipped_y =  model['trf_reg'].transformer.transform(y_test)\n",
        "eval.show_result(reclipped_y, model.predict(X_test))"
      ]
    },
    {
      "cell_type": "markdown",
      "metadata": {
        "id": "wIzjL0VJ0hfH"
      },
      "source": [
        "There was a slight increase in performance when comparing to the scenario without the polynomial features."
      ]
    },
    {
      "cell_type": "markdown",
      "metadata": {
        "id": "NPEyhRGXwy5e"
      },
      "source": [
        "# SGD Regressor"
      ]
    },
    {
      "cell_type": "markdown",
      "metadata": {
        "id": "_6O2SZw9xERZ"
      },
      "source": [
        "The class SGDRegressor implements a plain stochastic gradient descent learning routine which supports different loss functions and penalties to fit linear regression models. **SGDRegressor is well suited for regression problems with a large number of training samples (> 10.000)**, for other problems we recommend Ridge, Lasso, or ElasticNet."
      ]
    },
    {
      "cell_type": "markdown",
      "metadata": {
        "id": "do-hSx0G3M0P"
      },
      "source": [
        "## Linear RUL"
      ]
    },
    {
      "cell_type": "code",
      "execution_count": null,
      "metadata": {
        "id": "cZNu653k3THD"
      },
      "outputs": [],
      "source": [
        "model = Pipeline([\n",
        "    ('scaler'   ,   StandardScaler()),\n",
        "    ('lin_reg'  ,   SGDRegressor())\n",
        "])"
      ]
    },
    {
      "cell_type": "code",
      "execution_count": null,
      "metadata": {
        "id": "4GsfZJuV3xlH"
      },
      "outputs": [],
      "source": [
        "# We need specific shape 1D arrays for this model\n",
        "y_train = np.array(y_train).ravel()"
      ]
    },
    {
      "cell_type": "code",
      "execution_count": null,
      "metadata": {
        "id": "WC6If3Pr3fKf",
        "colab": {
          "base_uri": "https://localhost:8080/"
        },
        "outputId": "45c790f4-be89-4406-9641-876b90ddae20"
      },
      "outputs": [
        {
          "output_type": "stream",
          "name": "stdout",
          "text": [
            "n_iterations: 5\n",
            "n_required_iterations: 5\n",
            "n_possible_iterations: 5\n",
            "min_resources_: 500\n",
            "max_resources_: 61249\n",
            "aggressive_elimination: False\n",
            "factor: 3\n",
            "----------\n",
            "iter: 0\n",
            "n_candidates: 122\n",
            "n_resources: 500\n",
            "Fitting 5 folds for each of 122 candidates, totalling 610 fits\n",
            "----------\n",
            "iter: 1\n",
            "n_candidates: 41\n",
            "n_resources: 1500\n",
            "Fitting 5 folds for each of 41 candidates, totalling 205 fits\n",
            "----------\n",
            "iter: 2\n",
            "n_candidates: 14\n",
            "n_resources: 4500\n",
            "Fitting 5 folds for each of 14 candidates, totalling 70 fits\n",
            "----------\n",
            "iter: 3\n",
            "n_candidates: 5\n",
            "n_resources: 13500\n",
            "Fitting 5 folds for each of 5 candidates, totalling 25 fits\n",
            "----------\n",
            "iter: 4\n",
            "n_candidates: 2\n",
            "n_resources: 40500\n",
            "Fitting 5 folds for each of 2 candidates, totalling 10 fits\n",
            "Best params:  {'lin_reg__validation_fraction': 0.4, 'lin_reg__tol': 1e-06, 'lin_reg__power_t': 1, 'lin_reg__penalty': 'elasticnet', 'lin_reg__n_iter_no_change': 2, 'lin_reg__max_iter': 2500, 'lin_reg__loss': 'squared_error', 'lin_reg__learning_rate': 'adaptive', 'lin_reg__eta0': 0.01, 'lin_reg__epsilon': 2.5, 'lin_reg__early_stopping': False, 'lin_reg__average': False, 'lin_reg__alpha': 0.0001}\n",
            "Pipeline(steps=[('scaler', StandardScaler()),\n",
            "                ('lin_reg',\n",
            "                 SGDRegressor(epsilon=2.5, learning_rate='adaptive',\n",
            "                              max_iter=2500, n_iter_no_change=2,\n",
            "                              penalty='elasticnet', power_t=1, tol=1e-06,\n",
            "                              validation_fraction=0.4))])\n"
          ]
        }
      ],
      "source": [
        "# ~4min\n",
        "GRID_SEARCH = False\n",
        "if (GRID_SEARCH):\n",
        "    param_distributions = {\n",
        "        \"lin_reg__loss\": ['squared_error', 'huber', 'epsilon_insensitive'],\n",
        "        \"lin_reg__penalty\": ['l2', 'l1', 'elasticnet'],\n",
        "        \"lin_reg__epsilon\": [1.1,1.35,1.5,2,2.5,3,3.5,4,4.5,5.5,6],\n",
        "        \"lin_reg__alpha\":[1e-2,1e-3,1e-4,1e-5,1e-6,1e-7],\n",
        "        \"lin_reg__max_iter\": [1000,1500,2000,2500,3000],\n",
        "        \"lin_reg__tol\": [1e-3,1e-4,1e-5,1e-6,1e-7],\n",
        "        \"lin_reg__learning_rate\":['invscaling','constant','optimal','adaptive'],\n",
        "        \"lin_reg__eta0\": [1e-1,1e-2,1e-3,1e-4,1e-5,1e-6],\n",
        "        \"lin_reg__power_t\": [1.25,1,0.75,0.5,0.25,0.1],\n",
        "        \"lin_reg__early_stopping\": [True,False],\n",
        "        \"lin_reg__validation_fraction\": [0.1,0.2,0.3,0.4,0.5,0.6],\n",
        "        \"lin_reg__n_iter_no_change\": [1,2,5,8,10,15,20],\n",
        "        \"lin_reg__average\": [False, 1,2,5,10,20]\n",
        "    }\n",
        "    model = search.run_HR_GS(model, X_train, y_train, param_distributions, \n",
        "                            scorer='r2', ignore_warnings=True)\n",
        "    print(model)"
      ]
    },
    {
      "cell_type": "markdown",
      "metadata": {
        "id": "5fZJucOw4MJX"
      },
      "source": [
        "Best Model:\n",
        "```\n",
        "SGDRegressor(epsilon=2.5, learning_rate='adaptive',\n",
        "                              max_iter=2500, n_iter_no_change=2,\n",
        "                              penalty='elasticnet', power_t=1, tol=1e-06,\n",
        "                              validation_fraction=0.4))\n",
        "```"
      ]
    },
    {
      "cell_type": "code",
      "execution_count": null,
      "metadata": {
        "colab": {
          "base_uri": "https://localhost:8080/"
        },
        "id": "3LtQtqzw4Ks9",
        "outputId": "9fee8514-d5ef-4064-fde7-89c1006bca40"
      },
      "outputs": [
        {
          "output_type": "execute_result",
          "data": {
            "text/plain": [
              "Pipeline(steps=[('scaler', StandardScaler()),\n",
              "                ('lin_reg',\n",
              "                 SGDRegressor(epsilon=2.5, learning_rate='adaptive',\n",
              "                              max_iter=2500, n_iter_no_change=2,\n",
              "                              penalty='elasticnet', power_t=1, tol=1e-06,\n",
              "                              validation_fraction=0.4))])"
            ]
          },
          "metadata": {},
          "execution_count": 40
        }
      ],
      "source": [
        "model = Pipeline([\n",
        "    ('scaler'   ,   StandardScaler()),\n",
        "    ('lin_reg'  ,   SGDRegressor(epsilon=2.5, learning_rate='adaptive',\n",
        "                              max_iter=2500, n_iter_no_change=2,\n",
        "                              penalty='elasticnet', power_t=1, tol=1e-06,\n",
        "                              validation_fraction=0.4))\n",
        "])\n",
        "model"
      ]
    },
    {
      "cell_type": "code",
      "execution_count": null,
      "metadata": {
        "colab": {
          "base_uri": "https://localhost:8080/"
        },
        "id": "_2zaIdQW3TK3",
        "outputId": "afc9e7b9-af18-4ec5-e735-6b83c87c5701"
      },
      "outputs": [
        {
          "output_type": "stream",
          "name": "stdout",
          "text": [
            "R2=0.530,RMSE=-61.579\n",
            "(CV) R2=0.522,RMSE=-61.827\n"
          ]
        }
      ],
      "source": [
        "model.fit(X_train, y_train)\n",
        "eval.show_result(y_train, model.predict(X_train))\n",
        "eval.show_result_cv(y_train, X_train, model)"
      ]
    },
    {
      "cell_type": "code",
      "execution_count": null,
      "metadata": {
        "colab": {
          "base_uri": "https://localhost:8080/"
        },
        "id": "2EUrftg63TK3",
        "outputId": "ee49883f-d953-418f-e7a7-fcaccbd11017"
      },
      "outputs": [
        {
          "output_type": "stream",
          "name": "stdout",
          "text": [
            "R2=0.197,RMSE=-48.854\n"
          ]
        }
      ],
      "source": [
        "X_test = test_last\n",
        "eval.show_result(y_test, model.predict(X_test))"
      ]
    },
    {
      "cell_type": "markdown",
      "metadata": {
        "id": "5zcl0bgA4k7v"
      },
      "source": [
        "Even poorer results without non-lineariy of RUL. Worse than regular LinearRegressor."
      ]
    },
    {
      "cell_type": "markdown",
      "metadata": {
        "id": "FiRLfiCC4ost"
      },
      "source": [
        "## Non-linear RUL"
      ]
    },
    {
      "cell_type": "code",
      "execution_count": null,
      "metadata": {
        "id": "0I7Xdpr0407W"
      },
      "outputs": [],
      "source": [
        "model = Pipeline([\n",
        "    ('scaler'   ,   StandardScaler()),\n",
        "    ('trf_reg' ,TransformedTargetRegressor(\n",
        "        check_inverse=False,\n",
        "        regressor   = SGDRegressor(),\n",
        "        transformer = FunctionTransformer(np.clip, \n",
        "                                          kw_args={'a_min':0,'a_max':50})))\n",
        "    ])"
      ]
    },
    {
      "cell_type": "code",
      "execution_count": null,
      "metadata": {
        "id": "v3ijo2aP407X",
        "colab": {
          "base_uri": "https://localhost:8080/"
        },
        "outputId": "b4aa9b06-043c-4b3d-aa80-4a17f0f7dcd6"
      },
      "outputs": [
        {
          "output_type": "stream",
          "name": "stdout",
          "text": [
            "n_iterations: 5\n",
            "n_required_iterations: 5\n",
            "n_possible_iterations: 5\n",
            "min_resources_: 500\n",
            "max_resources_: 61249\n",
            "aggressive_elimination: False\n",
            "factor: 3\n",
            "----------\n",
            "iter: 0\n",
            "n_candidates: 122\n",
            "n_resources: 500\n",
            "Fitting 5 folds for each of 122 candidates, totalling 610 fits\n",
            "----------\n",
            "iter: 1\n",
            "n_candidates: 41\n",
            "n_resources: 1500\n",
            "Fitting 5 folds for each of 41 candidates, totalling 205 fits\n",
            "----------\n",
            "iter: 2\n",
            "n_candidates: 14\n",
            "n_resources: 4500\n",
            "Fitting 5 folds for each of 14 candidates, totalling 70 fits\n",
            "----------\n",
            "iter: 3\n",
            "n_candidates: 5\n",
            "n_resources: 13500\n",
            "Fitting 5 folds for each of 5 candidates, totalling 25 fits\n",
            "----------\n",
            "iter: 4\n",
            "n_candidates: 2\n",
            "n_resources: 40500\n",
            "Fitting 5 folds for each of 2 candidates, totalling 10 fits\n",
            "Best params:  {'trf_reg__transformer__kw_args': {'a_min': 0, 'a_max': 135}, 'trf_reg__regressor__validation_fraction': 0.3, 'trf_reg__regressor__tol': 0.001, 'trf_reg__regressor__power_t': 1.25, 'trf_reg__regressor__penalty': 'l1', 'trf_reg__regressor__n_iter_no_change': 20, 'trf_reg__regressor__max_iter': 1000, 'trf_reg__regressor__loss': 'epsilon_insensitive', 'trf_reg__regressor__learning_rate': 'optimal', 'trf_reg__regressor__eta0': 0.01, 'trf_reg__regressor__epsilon': 1.1, 'trf_reg__regressor__early_stopping': False, 'trf_reg__regressor__average': 10, 'trf_reg__regressor__alpha': 1e-06}\n",
            "Pipeline(steps=[('scaler', StandardScaler()),\n",
            "                ('trf_reg',\n",
            "                 TransformedTargetRegressor(check_inverse=False,\n",
            "                                            regressor=SGDRegressor(alpha=1e-06,\n",
            "                                                                   average=10,\n",
            "                                                                   epsilon=1.1,\n",
            "                                                                   learning_rate='optimal',\n",
            "                                                                   loss='epsilon_insensitive',\n",
            "                                                                   n_iter_no_change=20,\n",
            "                                                                   penalty='l1',\n",
            "                                                                   power_t=1.25,\n",
            "                                                                   validation_fraction=0.3),\n",
            "                                            transformer=FunctionTransformer(func=<function clip at 0x7fe7c38d8c20>,\n",
            "                                                                            kw_args={'a_max': 135,\n",
            "                                                                                     'a_min': 0})))])\n"
          ]
        }
      ],
      "source": [
        "# ~5min\n",
        "GRID_SEARCH = False\n",
        "if (GRID_SEARCH):\n",
        "    param_distributions = {\n",
        "        \"trf_reg__transformer__kw_args\": search.generate_clip_dicts(80,150,1),\n",
        "        \"trf_reg__regressor__loss\": ['squared_error', 'huber', 'epsilon_insensitive'],\n",
        "        \"trf_reg__regressor__penalty\": ['l2', 'l1', 'elasticnet'],\n",
        "        \"trf_reg__regressor__epsilon\": [1.1,1.35,1.5,2,2.5,3,3.5,4,4.5,5.5,6],\n",
        "        \"trf_reg__regressor__alpha\":[1e-2,1e-3,1e-4,1e-5,1e-6,1e-7],\n",
        "        \"trf_reg__regressor__max_iter\": [1000,1500,2000,2500,3000],\n",
        "        \"trf_reg__regressor__tol\": [1e-3,1e-4,1e-5,1e-6,1e-7],\n",
        "        \"trf_reg__regressor__learning_rate\":['invscaling','constant','optimal','adaptive'],\n",
        "        \"trf_reg__regressor__eta0\": [1e-1,1e-2,1e-3,1e-4,1e-5,1e-6],\n",
        "        \"trf_reg__regressor__power_t\": [1.25,1,0.75,0.5,0.25,0.1],\n",
        "        \"trf_reg__regressor__early_stopping\": [True,False],\n",
        "        \"trf_reg__regressor__validation_fraction\": [0.1,0.2,0.3,0.4,0.5,0.6],\n",
        "        \"trf_reg__regressor__n_iter_no_change\": [1,2,5,8,10,15,20],\n",
        "        \"trf_reg__regressor__average\": [False, 1,2,5,10,20]\n",
        "    }\n",
        "    model = search.run_HR_GS(model, X_train, y_train, \n",
        "                            param_distributions, ignore_warnings=True)\n",
        "    print(model)"
      ]
    },
    {
      "cell_type": "markdown",
      "metadata": {
        "id": "bKZoX4i15VzV"
      },
      "source": [
        "Best Model:\n",
        "```\n",
        "kw_args={'a_max': 135,'a_min': 0}))\n",
        "\n",
        "regressor=SGDRegressor(alpha=1e-06,\n",
        "                        average=10,\n",
        "                        epsilon=1.1,\n",
        "                        learning_rate='optimal',\n",
        "                        loss='epsilon_insensitive',\n",
        "                        n_iter_no_change=20,\n",
        "                        penalty='l1',\n",
        "                        power_t=1.25,\n",
        "                        validation_fraction=0.3),\n",
        "```"
      ]
    },
    {
      "cell_type": "code",
      "execution_count": null,
      "metadata": {
        "colab": {
          "base_uri": "https://localhost:8080/"
        },
        "id": "_IBWeewp5VzX",
        "outputId": "6481eeac-bc06-4ad0-831e-1a175eb70373"
      },
      "outputs": [
        {
          "output_type": "execute_result",
          "data": {
            "text/plain": [
              "Pipeline(steps=[('scaler', StandardScaler()),\n",
              "                ('trf_reg',\n",
              "                 TransformedTargetRegressor(check_inverse=False,\n",
              "                                            regressor=SGDRegressor(alpha=1e-06,\n",
              "                                                                   average=10,\n",
              "                                                                   epsilon=1.1,\n",
              "                                                                   learning_rate='optimal',\n",
              "                                                                   loss='epsilon_insensitive',\n",
              "                                                                   n_iter_no_change=20,\n",
              "                                                                   penalty='l1',\n",
              "                                                                   power_t=1.25,\n",
              "                                                                   validation_fraction=0.3),\n",
              "                                            transformer=FunctionTransformer(func=<function clip at 0x7fe7c38d8c20>,\n",
              "                                                                            kw_args={'a_max': 135,\n",
              "                                                                                     'a_min': 0})))])"
            ]
          },
          "metadata": {},
          "execution_count": 46
        }
      ],
      "source": [
        "model = Pipeline([\n",
        "    ('scaler'   ,   StandardScaler()),\n",
        "    ('trf_reg' ,TransformedTargetRegressor(\n",
        "        check_inverse=False,\n",
        "        regressor=SGDRegressor(alpha=1e-06,\n",
        "                                            average=10,\n",
        "                                            epsilon=1.1,\n",
        "                                            learning_rate='optimal',\n",
        "                                            loss='epsilon_insensitive',\n",
        "                                            n_iter_no_change=20,\n",
        "                                            penalty='l1',\n",
        "                                            power_t=1.25,\n",
        "                                            validation_fraction=0.3),\n",
        "        transformer = FunctionTransformer(np.clip, \n",
        "                                          kw_args={'a_min':0,'a_max':135})))\n",
        "    ])\n",
        "model"
      ]
    },
    {
      "cell_type": "code",
      "execution_count": null,
      "metadata": {
        "colab": {
          "base_uri": "https://localhost:8080/"
        },
        "id": "QiEBgLs95VzY",
        "outputId": "5b1f4a9f-5a22-4cbf-d59a-96883754ba69"
      },
      "outputs": [
        {
          "output_type": "stream",
          "name": "stdout",
          "text": [
            "R2=0.680,RMSE=-25.143\n",
            "(CV) R2=0.675,RMSE=-25.361\n"
          ]
        }
      ],
      "source": [
        "model.fit(X_train, y_train)\n",
        "reclipped_y =  model['trf_reg'].transformer.transform(y_train)\n",
        "eval.show_result(reclipped_y, model.predict(X_train))\n",
        "eval.show_result_cv(reclipped_y, X_train, model)"
      ]
    },
    {
      "cell_type": "code",
      "execution_count": null,
      "metadata": {
        "colab": {
          "base_uri": "https://localhost:8080/"
        },
        "id": "Efp3h9pf5VzZ",
        "outputId": "f1d51d42-e6bb-4de6-fc33-844f37a592a7"
      },
      "outputs": [
        {
          "output_type": "stream",
          "name": "stdout",
          "text": [
            "R2=0.647,RMSE=-27.183\n"
          ]
        }
      ],
      "source": [
        "reclipped_y =  model['trf_reg'].transformer.transform(y_test)\n",
        "eval.show_result(reclipped_y, model.predict(X_test))"
      ]
    },
    {
      "cell_type": "markdown",
      "metadata": {
        "id": "0R2xFyXo5VzZ"
      },
      "source": [
        "Achieved training results from non-linear RUL Linear Regressor, but with a little better test result. Largest clipping across all."
      ]
    },
    {
      "cell_type": "markdown",
      "metadata": {
        "id": "91WW6IdH6zIz"
      },
      "source": [
        "## PolyFeatures + Linear RUL"
      ]
    },
    {
      "cell_type": "code",
      "execution_count": null,
      "metadata": {
        "id": "B9SQXyds6zI0"
      },
      "outputs": [],
      "source": [
        "model = Pipeline([\n",
        "    ('poly_ft'  ,   PolynomialFeatures()),\n",
        "    ('scaler'   ,   StandardScaler()),\n",
        "    ('lin_reg'  ,   SGDRegressor())\n",
        "])"
      ]
    },
    {
      "cell_type": "code",
      "execution_count": null,
      "metadata": {
        "id": "kxqsGzzQ6zI1",
        "colab": {
          "base_uri": "https://localhost:8080/"
        },
        "outputId": "590a9adf-c14a-4bc4-cbe0-1ff0fa77bc20"
      },
      "outputs": [
        {
          "output_type": "stream",
          "name": "stdout",
          "text": [
            "n_iterations: 5\n",
            "n_required_iterations: 5\n",
            "n_possible_iterations: 5\n",
            "min_resources_: 500\n",
            "max_resources_: 61249\n",
            "aggressive_elimination: False\n",
            "factor: 3\n",
            "----------\n",
            "iter: 0\n",
            "n_candidates: 122\n",
            "n_resources: 500\n",
            "Fitting 5 folds for each of 122 candidates, totalling 610 fits\n",
            "----------\n",
            "iter: 1\n",
            "n_candidates: 41\n",
            "n_resources: 1500\n",
            "Fitting 5 folds for each of 41 candidates, totalling 205 fits\n",
            "----------\n",
            "iter: 2\n",
            "n_candidates: 14\n",
            "n_resources: 4500\n",
            "Fitting 5 folds for each of 14 candidates, totalling 70 fits\n",
            "----------\n",
            "iter: 3\n",
            "n_candidates: 5\n",
            "n_resources: 13500\n",
            "Fitting 5 folds for each of 5 candidates, totalling 25 fits\n",
            "----------\n",
            "iter: 4\n",
            "n_candidates: 2\n",
            "n_resources: 40500\n",
            "Fitting 5 folds for each of 2 candidates, totalling 10 fits\n",
            "Best params:  {'poly_ft__interaction_only': True, 'poly_ft__include_bias': True, 'poly_ft__degree': 3, 'lin_reg__validation_fraction': 0.2, 'lin_reg__tol': 1e-07, 'lin_reg__power_t': 0.5, 'lin_reg__penalty': 'l2', 'lin_reg__n_iter_no_change': 20, 'lin_reg__max_iter': 1000, 'lin_reg__loss': 'epsilon_insensitive', 'lin_reg__learning_rate': 'constant', 'lin_reg__eta0': 0.1, 'lin_reg__epsilon': 1.35, 'lin_reg__early_stopping': True, 'lin_reg__average': 2, 'lin_reg__alpha': 1e-07}\n",
            "Pipeline(steps=[('poly_ft',\n",
            "                 PolynomialFeatures(degree=3, interaction_only=True)),\n",
            "                ('scaler', StandardScaler()),\n",
            "                ('lin_reg',\n",
            "                 SGDRegressor(alpha=1e-07, average=2, early_stopping=True,\n",
            "                              epsilon=1.35, eta0=0.1, learning_rate='constant',\n",
            "                              loss='epsilon_insensitive', n_iter_no_change=20,\n",
            "                              power_t=0.5, tol=1e-07,\n",
            "                              validation_fraction=0.2))])\n"
          ]
        }
      ],
      "source": [
        "# ~25min\n",
        "GRID_SEARCH = False\n",
        "if (GRID_SEARCH):\n",
        "    param_distributions = {\n",
        "        \"poly_ft__degree\": [1,2,3],\n",
        "        \"poly_ft__interaction_only\": [False, True],\n",
        "        \"poly_ft__include_bias\": [True, False],\n",
        "        \"lin_reg__loss\": ['squared_error', 'huber', 'epsilon_insensitive'],\n",
        "        \"lin_reg__penalty\": ['l2', 'l1', 'elasticnet'],\n",
        "        \"lin_reg__epsilon\": [1.1,1.35,1.5,2,2.5,3,3.5,4,4.5,5.5,6],\n",
        "        \"lin_reg__alpha\":[1e-2,1e-3,1e-4,1e-5,1e-6,1e-7],\n",
        "        \"lin_reg__max_iter\": [1000,1500,2000,2500,3000],\n",
        "        \"lin_reg__tol\": [1e-3,1e-4,1e-5,1e-6,1e-7],\n",
        "        \"lin_reg__learning_rate\":['invscaling','constant','optimal','adaptive'],\n",
        "        \"lin_reg__eta0\": [1e-1,1e-2,1e-3,1e-4,1e-5,1e-6],\n",
        "        \"lin_reg__power_t\": [1.25,1,0.75,0.5,0.25,0.1],\n",
        "        \"lin_reg__early_stopping\": [True,False],\n",
        "        \"lin_reg__validation_fraction\": [0.1,0.2,0.3,0.4,0.5,0.6],\n",
        "        \"lin_reg__n_iter_no_change\": [1,2,5,8,10,15,20],\n",
        "        \"lin_reg__average\": [False, 1,2,5,10,20]\n",
        "    }\n",
        "    model = search.run_HR_GS(model, X_train, y_train, param_distributions,\n",
        "                            ignore_warnings=True, scorer='r2')\n",
        "    print(model)"
      ]
    },
    {
      "cell_type": "markdown",
      "metadata": {
        "id": "ezfhC0xn6zI2"
      },
      "source": [
        "Best Model:\n",
        "```\n",
        "Pipeline(steps=[('poly_ft', PolynomialFeatures(degree=3, interaction_only=True)),\n",
        "                ('scaler', StandardScaler()),\n",
        "                ('lin_reg',\n",
        "                SGDRegressor(alpha=1e-07, average=2, early_stopping=True,\n",
        "                            epsilon=1.35, eta0=0.1, learning_rate='constant',\n",
        "                            loss='epsilon_insensitive', n_iter_no_change=20,\n",
        "                            power_t=0.5, tol=1e-07,\n",
        "                            validation_fraction=0.2))\n",
        "```\n"
      ]
    },
    {
      "cell_type": "code",
      "execution_count": null,
      "metadata": {
        "colab": {
          "base_uri": "https://localhost:8080/"
        },
        "id": "YpMbNXtG6zI3",
        "outputId": "a55c6bc0-245c-4049-c72e-e1d6196c60a4"
      },
      "outputs": [
        {
          "output_type": "execute_result",
          "data": {
            "text/plain": [
              "Pipeline(steps=[('poly_ft',\n",
              "                 PolynomialFeatures(degree=3, interaction_only=True)),\n",
              "                ('scaler', StandardScaler()),\n",
              "                ('lin_reg',\n",
              "                 SGDRegressor(alpha=1e-07, average=2, early_stopping=True,\n",
              "                              epsilon=1.35, eta0=0.1, learning_rate='constant',\n",
              "                              loss='epsilon_insensitive', n_iter_no_change=20,\n",
              "                              power_t=0.5, tol=1e-07,\n",
              "                              validation_fraction=0.2))])"
            ]
          },
          "metadata": {},
          "execution_count": 52
        }
      ],
      "source": [
        "model = Pipeline([\n",
        "    ('poly_ft', PolynomialFeatures(degree=3, interaction_only=True)),\n",
        "    ('scaler', StandardScaler()),\n",
        "    ('lin_reg',\n",
        "        SGDRegressor(alpha=1e-07, average=2, early_stopping=True,\n",
        "                    epsilon=1.35, eta0=0.1, learning_rate='constant',\n",
        "                    loss='epsilon_insensitive', n_iter_no_change=20,\n",
        "                    power_t=0.5, tol=1e-07,\n",
        "                    validation_fraction=0.2))\n",
        "])\n",
        "model"
      ]
    },
    {
      "cell_type": "code",
      "execution_count": null,
      "metadata": {
        "colab": {
          "base_uri": "https://localhost:8080/"
        },
        "id": "5mG9kbZP6zI3",
        "outputId": "7bc15294-a23d-4d1b-80fc-eed2da5d04e3"
      },
      "outputs": [
        {
          "output_type": "stream",
          "name": "stdout",
          "text": [
            "R2=0.543,RMSE=-60.708\n",
            "(CV) R2=0.531,RMSE=-61.226\n"
          ]
        }
      ],
      "source": [
        "# 20min\n",
        "model.fit(X_train, y_train)\n",
        "eval.show_result(y_train, model.predict(X_train))\n",
        "eval.show_result_cv(y_train, X_train, model)"
      ]
    },
    {
      "cell_type": "code",
      "execution_count": null,
      "metadata": {
        "colab": {
          "base_uri": "https://localhost:8080/"
        },
        "id": "FC0VOuER6zI4",
        "outputId": "559070ac-ef38-4657-9912-a972c64220c3"
      },
      "outputs": [
        {
          "output_type": "stream",
          "name": "stdout",
          "text": [
            "R2=0.262,RMSE=-46.840\n"
          ]
        }
      ],
      "source": [
        "eval.show_result(y_test, model.predict(X_test))"
      ]
    },
    {
      "cell_type": "markdown",
      "metadata": {
        "id": "7LFv-p556zI5"
      },
      "source": [
        "No clear benefit from polynomial features in linear RUL as well. It is even worse than the Linear only"
      ]
    },
    {
      "cell_type": "markdown",
      "metadata": {
        "id": "hDe4bhikyCfC"
      },
      "source": [
        "## PolyFeatures + Non-Linear RUL"
      ]
    },
    {
      "cell_type": "code",
      "execution_count": null,
      "metadata": {
        "id": "YXjOngDmyCfD"
      },
      "outputs": [],
      "source": [
        "model = Pipeline([\n",
        "    ('poly_ft'  ,   PolynomialFeatures()),\n",
        "    ('scaler'   ,   StandardScaler()),\n",
        "    ('trf_reg' ,TransformedTargetRegressor(\n",
        "        check_inverse=False,\n",
        "        regressor   = SGDRegressor(),\n",
        "        transformer = FunctionTransformer(np.clip, \n",
        "                                          kw_args={'a_min':0,'a_max':96})))\n",
        "])"
      ]
    },
    {
      "cell_type": "code",
      "execution_count": null,
      "metadata": {
        "colab": {
          "base_uri": "https://localhost:8080/"
        },
        "id": "EVBRV7UdyCfE",
        "outputId": "1b633b48-2a06-4865-a228-890df61ab349"
      },
      "outputs": [
        {
          "output_type": "stream",
          "name": "stdout",
          "text": [
            "n_iterations: 5\n",
            "n_required_iterations: 5\n",
            "n_possible_iterations: 5\n",
            "min_resources_: 500\n",
            "max_resources_: 61249\n",
            "aggressive_elimination: False\n",
            "factor: 3\n",
            "----------\n",
            "iter: 0\n",
            "n_candidates: 122\n",
            "n_resources: 500\n",
            "Fitting 5 folds for each of 122 candidates, totalling 610 fits\n",
            "----------\n",
            "iter: 1\n",
            "n_candidates: 41\n",
            "n_resources: 1500\n",
            "Fitting 5 folds for each of 41 candidates, totalling 205 fits\n",
            "----------\n",
            "iter: 2\n",
            "n_candidates: 14\n",
            "n_resources: 4500\n",
            "Fitting 5 folds for each of 14 candidates, totalling 70 fits\n",
            "----------\n",
            "iter: 3\n",
            "n_candidates: 5\n",
            "n_resources: 13500\n",
            "Fitting 5 folds for each of 5 candidates, totalling 25 fits\n",
            "----------\n",
            "iter: 4\n",
            "n_candidates: 2\n",
            "n_resources: 40500\n",
            "Fitting 5 folds for each of 2 candidates, totalling 10 fits\n",
            "Best params:  {'trf_reg__transformer__kw_args': {'a_min': 0, 'a_max': 102}, 'trf_reg__regressor__validation_fraction': 0.1, 'trf_reg__regressor__tol': 0.0001, 'trf_reg__regressor__power_t': 1.25, 'trf_reg__regressor__penalty': 'elasticnet', 'trf_reg__regressor__n_iter_no_change': 8, 'trf_reg__regressor__max_iter': 1000, 'trf_reg__regressor__loss': 'epsilon_insensitive', 'trf_reg__regressor__learning_rate': 'adaptive', 'trf_reg__regressor__eta0': 0.1, 'trf_reg__regressor__epsilon': 3, 'trf_reg__regressor__early_stopping': False, 'trf_reg__regressor__average': False, 'trf_reg__regressor__alpha': 0.0001, 'poly_ft__interaction_only': True, 'poly_ft__include_bias': False, 'poly_ft__degree': 3}\n",
            "Pipeline(steps=[('poly_ft',\n",
            "                 PolynomialFeatures(degree=3, include_bias=False,\n",
            "                                    interaction_only=True)),\n",
            "                ('scaler', StandardScaler()),\n",
            "                ('trf_reg',\n",
            "                 TransformedTargetRegressor(check_inverse=False,\n",
            "                                            regressor=SGDRegressor(epsilon=3,\n",
            "                                                                   eta0=0.1,\n",
            "                                                                   learning_rate='adaptive',\n",
            "                                                                   loss='epsilon_insensitive',\n",
            "                                                                   n_iter_no_change=8,\n",
            "                                                                   penalty='elasticnet',\n",
            "                                                                   power_t=1.25,\n",
            "                                                                   tol=0.0001),\n",
            "                                            transformer=FunctionTransformer(func=<function clip at 0x7fe7c38d8c20>,\n",
            "                                                                            kw_args={'a_max': 102,\n",
            "                                                                                     'a_min': 0})))])\n"
          ]
        }
      ],
      "source": [
        "# ~40min\n",
        "GRID_SEARCH = False\n",
        "if (GRID_SEARCH):\n",
        "    param_distributions = {\n",
        "        \"poly_ft__degree\": [1,2,3],\n",
        "        \"poly_ft__interaction_only\": [False, True],\n",
        "        \"poly_ft__include_bias\": [True, False],\n",
        "        \"trf_reg__transformer__kw_args\": search.generate_clip_dicts(70,150,1),\n",
        "        \"trf_reg__regressor__loss\": ['squared_error', 'huber', 'epsilon_insensitive'],\n",
        "        \"trf_reg__regressor__penalty\": ['l2', 'l1', 'elasticnet'],\n",
        "        \"trf_reg__regressor__epsilon\": [1.1,1.35,1.5,2,2.5,3,3.5,4,4.5,5.5,6],\n",
        "        \"trf_reg__regressor__alpha\":[1e-2,1e-3,1e-4,1e-5,1e-6,1e-7],\n",
        "        \"trf_reg__regressor__max_iter\": [1000,1500,2000,2500,3000,4000,4500],\n",
        "        \"trf_reg__regressor__tol\": [1e-3,1e-4,1e-5,1e-6,1e-7],\n",
        "        \"trf_reg__regressor__learning_rate\":['invscaling','constant','optimal','adaptive'],\n",
        "        \"trf_reg__regressor__eta0\": [1e-1,1e-2,1e-3,1e-4,1e-5,1e-6],\n",
        "        \"trf_reg__regressor__power_t\": [1.25,1,0.75,0.5,0.25,0.1],\n",
        "        \"trf_reg__regressor__early_stopping\": [True,False],\n",
        "        \"trf_reg__regressor__validation_fraction\": [0.1,0.2,0.3,0.4,0.5,0.6],\n",
        "        \"trf_reg__regressor__n_iter_no_change\": [1,2,5,8,10,15,20],\n",
        "        \"trf_reg__regressor__average\": [False, 1,2,5,10,20]\n",
        "    }\n",
        "    model = search.run_HR_GS(model, X_train, y_train, \n",
        "                             param_distributions, ignore_warnings=True)\n",
        "    print(model)"
      ]
    },
    {
      "cell_type": "markdown",
      "metadata": {
        "id": "wQKsmLmRyCfF"
      },
      "source": [
        "Best Model:\n",
        "```\n",
        "{'trf_reg__transformer__kw_args': {'a_min': 0, 'a_max': 102}, \n",
        "PolynomialFeatures(degree=3, include_bias=False,\n",
        "                                    interaction_only=True)),\n",
        "SGDRegressor(epsilon=3,\n",
        "                eta0=0.1,\n",
        "                learning_rate='adaptive',\n",
        "                loss='epsilon_insensitive',\n",
        "                n_iter_no_change=8,\n",
        "                penalty='elasticnet',\n",
        "                power_t=1.25,\n",
        "                tol=0.0001),\n",
        "```\n"
      ]
    },
    {
      "cell_type": "code",
      "execution_count": null,
      "metadata": {
        "colab": {
          "base_uri": "https://localhost:8080/"
        },
        "id": "xwsZl26YyCfG",
        "outputId": "775f6cf9-27d9-4d40-da49-8faf6d410d39"
      },
      "outputs": [
        {
          "output_type": "execute_result",
          "data": {
            "text/plain": [
              "Pipeline(steps=[('poly_ft',\n",
              "                 PolynomialFeatures(degree=3, include_bias=False,\n",
              "                                    interaction_only=True)),\n",
              "                ('scaler', StandardScaler()),\n",
              "                ('trf_reg',\n",
              "                 TransformedTargetRegressor(check_inverse=False,\n",
              "                                            regressor=SGDRegressor(epsilon=3,\n",
              "                                                                   eta0=0.1,\n",
              "                                                                   learning_rate='adaptive',\n",
              "                                                                   loss='epsilon_insensitive',\n",
              "                                                                   n_iter_no_change=8,\n",
              "                                                                   penalty='elasticnet',\n",
              "                                                                   power_t=1.25,\n",
              "                                                                   tol=0.0001),\n",
              "                                            transformer=FunctionTransformer(func=<function clip at 0x7fe7c38d8c20>,\n",
              "                                                                            kw_args={'a_max': 102,\n",
              "                                                                                     'a_min': 0})))])"
            ]
          },
          "metadata": {},
          "execution_count": 57
        }
      ],
      "source": [
        "model = Pipeline([\n",
        "    ('poly_ft',PolynomialFeatures(degree=3, include_bias=False,\n",
        "                                    interaction_only=True)),\n",
        "    ('scaler', StandardScaler()),\n",
        "    ('trf_reg',\n",
        "        TransformedTargetRegressor(\n",
        "            check_inverse=False,\n",
        "            regressor=SGDRegressor(epsilon=3,\n",
        "                                    eta0=0.1,\n",
        "                                    learning_rate='adaptive',\n",
        "                                    loss='epsilon_insensitive',\n",
        "                                    n_iter_no_change=8,\n",
        "                                    penalty='elasticnet',\n",
        "                                    power_t=1.25,\n",
        "                                    tol=0.0001),\n",
        "            transformer=FunctionTransformer(np.clip,\n",
        "                                            kw_args={'a_max': 102,\n",
        "                                                     'a_min': 0})))\n",
        "])\n",
        "model"
      ]
    },
    {
      "cell_type": "code",
      "execution_count": null,
      "metadata": {
        "colab": {
          "base_uri": "https://localhost:8080/"
        },
        "id": "wObIcvBzyCfH",
        "outputId": "390d9b59-87d0-4369-b315-b0f1524650e1"
      },
      "outputs": [
        {
          "output_type": "stream",
          "name": "stdout",
          "text": [
            "R2=0.682,RMSE=-17.875\n",
            "(CV) R2=0.675,RMSE=-18.047\n"
          ]
        }
      ],
      "source": [
        "model.fit(X_train, y_train)\n",
        "reclipped_y =  model['trf_reg'].transformer.transform(y_train)\n",
        "eval.show_result(reclipped_y, model.predict(X_train))\n",
        "eval.show_result_cv(reclipped_y, X_train, model)"
      ]
    },
    {
      "cell_type": "code",
      "execution_count": null,
      "metadata": {
        "colab": {
          "base_uri": "https://localhost:8080/"
        },
        "id": "LA6DK3Z-yCfI",
        "outputId": "98deec1e-a21d-4561-ce54-c44ca7686ea0"
      },
      "outputs": [
        {
          "output_type": "stream",
          "name": "stdout",
          "text": [
            "R2=0.618,RMSE=-21.902\n"
          ]
        }
      ],
      "source": [
        "reclipped_y =  model['trf_reg'].transformer.transform(y_test)\n",
        "eval.show_result(reclipped_y, model.predict(X_test))"
      ]
    },
    {
      "cell_type": "markdown",
      "metadata": {
        "id": "KXoWzTTvyCfJ"
      },
      "source": [
        "With 2-degree terms, we actually decreased performance."
      ]
    },
    {
      "cell_type": "markdown",
      "metadata": {
        "id": "GhQZM9mg6-w1"
      },
      "source": [
        "# SVR"
      ]
    },
    {
      "cell_type": "markdown",
      "source": [
        "We'll use only the linear kernel, because the algorithm is quadratic on the number of samples. Otherwise, the training times get worser."
      ],
      "metadata": {
        "id": "5U_Shc08Wl3O"
      }
    },
    {
      "cell_type": "markdown",
      "metadata": {
        "id": "48OuIMuweYhO"
      },
      "source": [
        "## Linear RUL"
      ]
    },
    {
      "cell_type": "code",
      "execution_count": null,
      "metadata": {
        "id": "JPLVJzR1eYhO"
      },
      "outputs": [],
      "source": [
        "model = Pipeline([\n",
        "    ('scaler'   ,   MinMaxScaler()),\n",
        "    ('svm_reg'  ,   LinearSVR(random_state=42))\n",
        "])"
      ]
    },
    {
      "cell_type": "code",
      "execution_count": null,
      "metadata": {
        "id": "Y_7Crp3JeYhP"
      },
      "outputs": [],
      "source": [
        "# We need specific shape 1D arrays for this model\n",
        "y_train = np.array(y_train).ravel()"
      ]
    },
    {
      "cell_type": "code",
      "execution_count": null,
      "metadata": {
        "colab": {
          "base_uri": "https://localhost:8080/"
        },
        "id": "aHNl4UZWeYhQ",
        "outputId": "a7939a83-4186-4a59-b46e-319eaecdd3b5"
      },
      "outputs": [
        {
          "output_type": "stream",
          "name": "stdout",
          "text": [
            "n_iterations: 5\n",
            "n_required_iterations: 5\n",
            "n_possible_iterations: 5\n",
            "min_resources_: 500\n",
            "max_resources_: 61249\n",
            "aggressive_elimination: False\n",
            "factor: 3\n",
            "----------\n",
            "iter: 0\n",
            "n_candidates: 122\n",
            "n_resources: 500\n",
            "Fitting 5 folds for each of 122 candidates, totalling 610 fits\n",
            "----------\n",
            "iter: 1\n",
            "n_candidates: 41\n",
            "n_resources: 1500\n",
            "Fitting 5 folds for each of 41 candidates, totalling 205 fits\n",
            "----------\n",
            "iter: 2\n",
            "n_candidates: 14\n",
            "n_resources: 4500\n",
            "Fitting 5 folds for each of 14 candidates, totalling 70 fits\n",
            "----------\n",
            "iter: 3\n",
            "n_candidates: 5\n",
            "n_resources: 13500\n",
            "Fitting 5 folds for each of 5 candidates, totalling 25 fits\n",
            "----------\n",
            "iter: 4\n",
            "n_candidates: 2\n",
            "n_resources: 40500\n",
            "Fitting 5 folds for each of 2 candidates, totalling 10 fits\n",
            "Best params:  {'svm_reg__tol': 1e-08, 'svm_reg__max_iter': 5000, 'svm_reg__loss': 'squared_epsilon_insensitive', 'svm_reg__fit_intercept': True, 'svm_reg__epsilon': 0.01, 'svm_reg__C': 5, 'scaler': StandardScaler()}\n",
            "Pipeline(steps=[('scaler', StandardScaler()),\n",
            "                ('svm_reg',\n",
            "                 LinearSVR(C=5, epsilon=0.01,\n",
            "                           loss='squared_epsilon_insensitive', max_iter=5000,\n",
            "                           random_state=42, tol=1e-08))])\n"
          ]
        }
      ],
      "source": [
        "# ~15min\n",
        "GRID_SEARCH = False\n",
        "if (GRID_SEARCH):\n",
        "    param_distributions = {\n",
        "        \"scaler\": [StandardScaler(), MinMaxScaler()],\n",
        "        \"svm_reg__loss\": [\"epsilon_insensitive\",\"squared_epsilon_insensitive\"],\n",
        "        \"svm_reg__fit_intercept\": [True, False],\n",
        "        \"svm_reg__max_iter\": [1000,3000,5000],\n",
        "        \"svm_reg__epsilon\": [1,1e-1,1e-2,1e-3],\n",
        "        \"svm_reg__tol\": [1e-3,1e-4,1e-5,1e-6,1e-7,1e-8],\n",
        "        \"svm_reg__C\":[1,2,5,10]\n",
        "    }\n",
        "    model = search.run_HR_GS(model, X_train, y_train, param_distributions, \n",
        "                            scorer='r2', ignore_warnings=True)\n",
        "    print(model)"
      ]
    },
    {
      "cell_type": "markdown",
      "metadata": {
        "id": "JGXD9P2QeYhR"
      },
      "source": [
        "Best Model:\n",
        "```\n",
        "('scaler', StandardScaler()),\n",
        "LinearSVR(C=5, epsilon=0.01,\n",
        "            loss='squared_epsilon_insensitive', max_iter=5000,\n",
        "            random_state=42, tol=1e-08))\n",
        "```"
      ]
    },
    {
      "cell_type": "code",
      "execution_count": null,
      "metadata": {
        "colab": {
          "base_uri": "https://localhost:8080/"
        },
        "id": "YL_b1yVdeYhS",
        "outputId": "0f0218f6-2eda-4209-abfa-9013dc0e3cd2"
      },
      "outputs": [
        {
          "output_type": "execute_result",
          "data": {
            "text/plain": [
              "Pipeline(steps=[('scaler', StandardScaler()),\n",
              "                ('svm_reg',\n",
              "                 LinearSVR(C=5, epsilon=0.01,\n",
              "                           loss='squared_epsilon_insensitive', max_iter=5000,\n",
              "                           random_state=42, tol=1e-08))])"
            ]
          },
          "metadata": {},
          "execution_count": 63
        }
      ],
      "source": [
        "model = Pipeline([\n",
        "    ('scaler'   ,   StandardScaler()),\n",
        "    ('svm_reg'  ,   LinearSVR(C=5, epsilon=0.01,\n",
        "                           loss='squared_epsilon_insensitive', max_iter=5000,\n",
        "                           random_state=42, tol=1e-08))\n",
        "])\n",
        "model"
      ]
    },
    {
      "cell_type": "code",
      "execution_count": null,
      "metadata": {
        "colab": {
          "base_uri": "https://localhost:8080/"
        },
        "id": "ERYFwWmDeYhT",
        "outputId": "85d7d138-4989-4cd0-a33b-cdac5ab3a257"
      },
      "outputs": [
        {
          "output_type": "stream",
          "name": "stderr",
          "text": [
            "/usr/local/lib/python3.7/dist-packages/sklearn/svm/_base.py:1208: ConvergenceWarning: Liblinear failed to converge, increase the number of iterations.\n",
            "  ConvergenceWarning,\n"
          ]
        },
        {
          "output_type": "stream",
          "name": "stdout",
          "text": [
            "R2=0.546,RMSE=-60.519\n"
          ]
        },
        {
          "output_type": "stream",
          "name": "stderr",
          "text": [
            "/usr/local/lib/python3.7/dist-packages/sklearn/svm/_base.py:1208: ConvergenceWarning: Liblinear failed to converge, increase the number of iterations.\n",
            "  ConvergenceWarning,\n",
            "/usr/local/lib/python3.7/dist-packages/sklearn/svm/_base.py:1208: ConvergenceWarning: Liblinear failed to converge, increase the number of iterations.\n",
            "  ConvergenceWarning,\n",
            "/usr/local/lib/python3.7/dist-packages/sklearn/svm/_base.py:1208: ConvergenceWarning: Liblinear failed to converge, increase the number of iterations.\n",
            "  ConvergenceWarning,\n",
            "/usr/local/lib/python3.7/dist-packages/sklearn/svm/_base.py:1208: ConvergenceWarning: Liblinear failed to converge, increase the number of iterations.\n",
            "  ConvergenceWarning,\n",
            "/usr/local/lib/python3.7/dist-packages/sklearn/svm/_base.py:1208: ConvergenceWarning: Liblinear failed to converge, increase the number of iterations.\n",
            "  ConvergenceWarning,\n",
            "/usr/local/lib/python3.7/dist-packages/sklearn/svm/_base.py:1208: ConvergenceWarning: Liblinear failed to converge, increase the number of iterations.\n",
            "  ConvergenceWarning,\n",
            "/usr/local/lib/python3.7/dist-packages/sklearn/svm/_base.py:1208: ConvergenceWarning: Liblinear failed to converge, increase the number of iterations.\n",
            "  ConvergenceWarning,\n",
            "/usr/local/lib/python3.7/dist-packages/sklearn/svm/_base.py:1208: ConvergenceWarning: Liblinear failed to converge, increase the number of iterations.\n",
            "  ConvergenceWarning,\n",
            "/usr/local/lib/python3.7/dist-packages/sklearn/svm/_base.py:1208: ConvergenceWarning: Liblinear failed to converge, increase the number of iterations.\n",
            "  ConvergenceWarning,\n"
          ]
        },
        {
          "output_type": "stream",
          "name": "stdout",
          "text": [
            "(CV) R2=0.537,RMSE=-60.892\n"
          ]
        },
        {
          "output_type": "stream",
          "name": "stderr",
          "text": [
            "/usr/local/lib/python3.7/dist-packages/sklearn/svm/_base.py:1208: ConvergenceWarning: Liblinear failed to converge, increase the number of iterations.\n",
            "  ConvergenceWarning,\n"
          ]
        }
      ],
      "source": [
        "# ~15min\n",
        "model.fit(X_train, y_train)\n",
        "eval.show_result(y_train, model.predict(X_train))\n",
        "eval.show_result_cv(y_train, X_train, model)"
      ]
    },
    {
      "cell_type": "code",
      "execution_count": null,
      "metadata": {
        "colab": {
          "base_uri": "https://localhost:8080/"
        },
        "id": "ljbEvBXjeYhT",
        "outputId": "650deee8-2c64-4a92-8201-e10c8f2ea853"
      },
      "outputs": [
        {
          "output_type": "stream",
          "name": "stdout",
          "text": [
            "R2=0.235,RMSE=-47.691\n"
          ]
        }
      ],
      "source": [
        "eval.show_result(y_test, model.predict(X_test))"
      ]
    },
    {
      "cell_type": "markdown",
      "metadata": {
        "id": "ON-T3GOaeYhU"
      },
      "source": [
        "Poor results without non-lineariy of RUL. Comparable to regular LinearRegressor. \n",
        "\n",
        "Same model as FD002.\n",
        "\n",
        "Did not converge"
      ]
    },
    {
      "cell_type": "markdown",
      "metadata": {
        "id": "slX8zIwSeYhV"
      },
      "source": [
        "## Non-linear RUL"
      ]
    },
    {
      "cell_type": "code",
      "execution_count": null,
      "metadata": {
        "id": "ZzCV__-SeYhV"
      },
      "outputs": [],
      "source": [
        "model = Pipeline([\n",
        "    ('scaler'   ,   MinMaxScaler()),\n",
        "    ('trf_reg' ,TransformedTargetRegressor(\n",
        "        check_inverse=False,\n",
        "        regressor   = LinearSVR(random_state=42),\n",
        "        transformer = FunctionTransformer(np.clip, \n",
        "                                          kw_args={'a_min':0,'a_max':50})))\n",
        "    ])"
      ]
    },
    {
      "cell_type": "code",
      "execution_count": null,
      "metadata": {
        "colab": {
          "base_uri": "https://localhost:8080/"
        },
        "id": "SoG6y6D6eYhV",
        "outputId": "0f313930-ca33-4ca3-954c-494349a2b2fb"
      },
      "outputs": [
        {
          "output_type": "stream",
          "name": "stdout",
          "text": [
            "n_iterations: 5\n",
            "n_required_iterations: 5\n",
            "n_possible_iterations: 5\n",
            "min_resources_: 500\n",
            "max_resources_: 61249\n",
            "aggressive_elimination: False\n",
            "factor: 3\n",
            "----------\n",
            "iter: 0\n",
            "n_candidates: 122\n",
            "n_resources: 500\n",
            "Fitting 5 folds for each of 122 candidates, totalling 610 fits\n",
            "----------\n",
            "iter: 1\n",
            "n_candidates: 41\n",
            "n_resources: 1500\n",
            "Fitting 5 folds for each of 41 candidates, totalling 205 fits\n",
            "----------\n",
            "iter: 2\n",
            "n_candidates: 14\n",
            "n_resources: 4500\n",
            "Fitting 5 folds for each of 14 candidates, totalling 70 fits\n",
            "----------\n",
            "iter: 3\n",
            "n_candidates: 5\n",
            "n_resources: 13500\n",
            "Fitting 5 folds for each of 5 candidates, totalling 25 fits\n",
            "----------\n",
            "iter: 4\n",
            "n_candidates: 2\n",
            "n_resources: 40500\n",
            "Fitting 5 folds for each of 2 candidates, totalling 10 fits\n",
            "Best params:  {'trf_reg__transformer__kw_args': {'a_min': 0, 'a_max': 109}, 'trf_reg__regressor__tol': 1e-05, 'trf_reg__regressor__max_iter': 3000, 'trf_reg__regressor__loss': 'squared_epsilon_insensitive', 'trf_reg__regressor__fit_intercept': True, 'trf_reg__regressor__epsilon': 0.01, 'trf_reg__regressor__C': 5, 'scaler': StandardScaler()}\n",
            "Pipeline(steps=[('scaler', StandardScaler()),\n",
            "                ('trf_reg',\n",
            "                 TransformedTargetRegressor(check_inverse=False,\n",
            "                                            regressor=LinearSVR(C=5,\n",
            "                                                                epsilon=0.01,\n",
            "                                                                loss='squared_epsilon_insensitive',\n",
            "                                                                max_iter=3000,\n",
            "                                                                random_state=42,\n",
            "                                                                tol=1e-05),\n",
            "                                            transformer=FunctionTransformer(func=<function clip at 0x7fe7c38d8c20>,\n",
            "                                                                            kw_args={'a_max': 109,\n",
            "                                                                                     'a_min': 0})))])\n"
          ]
        }
      ],
      "source": [
        "# ~6min\n",
        "GRID_SEARCH = False\n",
        "if (GRID_SEARCH):\n",
        "    param_distributions = {\n",
        "        \"scaler\": [StandardScaler(), MinMaxScaler()],\n",
        "        \"trf_reg__transformer__kw_args\": search.generate_clip_dicts(80,150,1),\n",
        "        \"trf_reg__regressor__loss\": [\"epsilon_insensitive\",\"squared_epsilon_insensitive\"],\n",
        "        \"trf_reg__regressor__fit_intercept\": [True, False],\n",
        "        \"trf_reg__regressor__max_iter\": [1000,3000,5000],\n",
        "        \"trf_reg__regressor__epsilon\": [1,1e-1,1e-2,1e-3],\n",
        "        \"trf_reg__regressor__tol\": [1e-3,1e-4,1e-5,1e-6,1e-7,1e-8],\n",
        "        \"trf_reg__regressor__C\":[1,2,5,10]\n",
        "    }\n",
        "    model = search.run_HR_GS(model, X_train, y_train, \n",
        "                            param_distributions, ignore_warnings=True)\n",
        "    print(model)"
      ]
    },
    {
      "cell_type": "markdown",
      "metadata": {
        "id": "Rb1eBrjveYhW"
      },
      "source": [
        "Best Model:\n",
        "```\n",
        "kw_args={'a_max': 109,'a_min': 0}))\n",
        "('scaler', StandardScaler())\n",
        "LinearSVR(C=5,\n",
        "            epsilon=0.01,\n",
        "            loss='squared_epsilon_insensitive',\n",
        "            max_iter=3000,\n",
        "            random_state=42,\n",
        "            tol=1e-05),\n",
        "```"
      ]
    },
    {
      "cell_type": "code",
      "execution_count": null,
      "metadata": {
        "colab": {
          "base_uri": "https://localhost:8080/"
        },
        "id": "3TcNYX40eYhX",
        "outputId": "5073ba21-f4cf-4197-b3c6-18914ba1181f"
      },
      "outputs": [
        {
          "output_type": "execute_result",
          "data": {
            "text/plain": [
              "Pipeline(steps=[('scaler', StandardScaler()),\n",
              "                ('trf_reg',\n",
              "                 TransformedTargetRegressor(check_inverse=False,\n",
              "                                            regressor=LinearSVR(C=5,\n",
              "                                                                epsilon=0.01,\n",
              "                                                                loss='squared_epsilon_insensitive',\n",
              "                                                                max_iter=3000,\n",
              "                                                                random_state=42,\n",
              "                                                                tol=1e-05),\n",
              "                                            transformer=FunctionTransformer(func=<function clip at 0x7fe7c38d8c20>,\n",
              "                                                                            kw_args={'a_max': 109,\n",
              "                                                                                     'a_min': 0})))])"
            ]
          },
          "metadata": {},
          "execution_count": 74
        }
      ],
      "source": [
        "model = Pipeline([\n",
        "    ('scaler'   ,   StandardScaler()),\n",
        "    ('trf_reg' ,TransformedTargetRegressor(\n",
        "        check_inverse=False,\n",
        "        regressor=LinearSVR(C=5,\n",
        "                            epsilon=0.01,\n",
        "                            loss='squared_epsilon_insensitive',\n",
        "                            max_iter=3000,\n",
        "                            random_state=42,\n",
        "                            tol=1e-05),\n",
        "        transformer = FunctionTransformer(np.clip, \n",
        "                                          kw_args={'a_min':0,'a_max':109})))\n",
        "    ])\n",
        "model"
      ]
    },
    {
      "cell_type": "code",
      "execution_count": null,
      "metadata": {
        "colab": {
          "base_uri": "https://localhost:8080/"
        },
        "id": "RDLHIViHeYhX",
        "outputId": "82d0bbc5-7cd7-4345-9e33-e9ffcc684455"
      },
      "outputs": [
        {
          "output_type": "stream",
          "name": "stderr",
          "text": [
            "/usr/local/lib/python3.7/dist-packages/sklearn/svm/_base.py:1208: ConvergenceWarning: Liblinear failed to converge, increase the number of iterations.\n",
            "  ConvergenceWarning,\n"
          ]
        },
        {
          "output_type": "stream",
          "name": "stdout",
          "text": [
            "R2=0.716,RMSE=-18.339\n"
          ]
        },
        {
          "output_type": "stream",
          "name": "stderr",
          "text": [
            "/usr/local/lib/python3.7/dist-packages/sklearn/svm/_base.py:1208: ConvergenceWarning: Liblinear failed to converge, increase the number of iterations.\n",
            "  ConvergenceWarning,\n",
            "/usr/local/lib/python3.7/dist-packages/sklearn/svm/_base.py:1208: ConvergenceWarning: Liblinear failed to converge, increase the number of iterations.\n",
            "  ConvergenceWarning,\n",
            "/usr/local/lib/python3.7/dist-packages/sklearn/svm/_base.py:1208: ConvergenceWarning: Liblinear failed to converge, increase the number of iterations.\n",
            "  ConvergenceWarning,\n",
            "/usr/local/lib/python3.7/dist-packages/sklearn/svm/_base.py:1208: ConvergenceWarning: Liblinear failed to converge, increase the number of iterations.\n",
            "  ConvergenceWarning,\n",
            "/usr/local/lib/python3.7/dist-packages/sklearn/svm/_base.py:1208: ConvergenceWarning: Liblinear failed to converge, increase the number of iterations.\n",
            "  ConvergenceWarning,\n",
            "/usr/local/lib/python3.7/dist-packages/sklearn/svm/_base.py:1208: ConvergenceWarning: Liblinear failed to converge, increase the number of iterations.\n",
            "  ConvergenceWarning,\n",
            "/usr/local/lib/python3.7/dist-packages/sklearn/svm/_base.py:1208: ConvergenceWarning: Liblinear failed to converge, increase the number of iterations.\n",
            "  ConvergenceWarning,\n",
            "/usr/local/lib/python3.7/dist-packages/sklearn/svm/_base.py:1208: ConvergenceWarning: Liblinear failed to converge, increase the number of iterations.\n",
            "  ConvergenceWarning,\n",
            "/usr/local/lib/python3.7/dist-packages/sklearn/svm/_base.py:1208: ConvergenceWarning: Liblinear failed to converge, increase the number of iterations.\n",
            "  ConvergenceWarning,\n"
          ]
        },
        {
          "output_type": "stream",
          "name": "stdout",
          "text": [
            "(CV) R2=0.709,RMSE=-18.538\n"
          ]
        },
        {
          "output_type": "stream",
          "name": "stderr",
          "text": [
            "/usr/local/lib/python3.7/dist-packages/sklearn/svm/_base.py:1208: ConvergenceWarning: Liblinear failed to converge, increase the number of iterations.\n",
            "  ConvergenceWarning,\n"
          ]
        }
      ],
      "source": [
        "# ~10min\n",
        "model.fit(X_train, y_train)\n",
        "reclipped_y =  model['trf_reg'].transformer.transform(y_train)\n",
        "eval.show_result(reclipped_y, model.predict(X_train))\n",
        "eval.show_result_cv(reclipped_y, X_train, model)"
      ]
    },
    {
      "cell_type": "code",
      "execution_count": null,
      "metadata": {
        "colab": {
          "base_uri": "https://localhost:8080/"
        },
        "id": "KIbOFuX9eYhY",
        "outputId": "ac679e46-32f4-4577-bbc8-b7927228d5a7"
      },
      "outputs": [
        {
          "output_type": "stream",
          "name": "stdout",
          "text": [
            "R2=0.682,RMSE=-21.377\n"
          ]
        }
      ],
      "source": [
        "reclipped_y =  model['trf_reg'].transformer.transform(y_test)\n",
        "eval.show_result(reclipped_y, model.predict(X_test))"
      ]
    },
    {
      "cell_type": "markdown",
      "metadata": {
        "id": "aSayNaJUeYhY"
      },
      "source": [
        "Good linear results. But failed to converge."
      ]
    },
    {
      "cell_type": "markdown",
      "metadata": {
        "id": "hhk2JShreYhZ"
      },
      "source": [
        "## PolyFeatures + Linear RUL"
      ]
    },
    {
      "cell_type": "code",
      "execution_count": null,
      "metadata": {
        "id": "05KnHQfBeYhZ"
      },
      "outputs": [],
      "source": [
        "model = Pipeline([\n",
        "    ('poly_ft'  ,   PolynomialFeatures()),\n",
        "    ('selection', SelectFromModel(DecisionTreeRegressor())),\n",
        "    ('scaler'   ,   MinMaxScaler()),\n",
        "    ('svm_reg'  ,   LinearSVR(random_state=42))\n",
        "])"
      ]
    },
    {
      "cell_type": "code",
      "execution_count": null,
      "metadata": {
        "colab": {
          "base_uri": "https://localhost:8080/"
        },
        "id": "vqiwlnADeYhZ",
        "outputId": "c603ec08-641a-48b9-c840-611df52bc4f8"
      },
      "outputs": [
        {
          "output_type": "stream",
          "name": "stdout",
          "text": [
            "n_iterations: 5\n",
            "n_required_iterations: 5\n",
            "n_possible_iterations: 5\n",
            "min_resources_: 500\n",
            "max_resources_: 61249\n",
            "aggressive_elimination: False\n",
            "factor: 3\n",
            "----------\n",
            "iter: 0\n",
            "n_candidates: 122\n",
            "n_resources: 500\n",
            "Fitting 5 folds for each of 122 candidates, totalling 610 fits\n",
            "----------\n",
            "iter: 1\n",
            "n_candidates: 41\n",
            "n_resources: 1500\n",
            "Fitting 5 folds for each of 41 candidates, totalling 205 fits\n",
            "----------\n",
            "iter: 2\n",
            "n_candidates: 14\n",
            "n_resources: 4500\n",
            "Fitting 5 folds for each of 14 candidates, totalling 70 fits\n",
            "----------\n",
            "iter: 3\n",
            "n_candidates: 5\n",
            "n_resources: 13500\n",
            "Fitting 5 folds for each of 5 candidates, totalling 25 fits\n",
            "----------\n",
            "iter: 4\n",
            "n_candidates: 2\n",
            "n_resources: 40500\n",
            "Fitting 5 folds for each of 2 candidates, totalling 10 fits\n",
            "Best params:  {'svm_reg__tol': 1e-05, 'svm_reg__max_iter': 3000, 'svm_reg__loss': 'squared_epsilon_insensitive', 'svm_reg__fit_intercept': True, 'svm_reg__epsilon': 1, 'svm_reg__C': 2, 'scaler': StandardScaler(), 'poly_ft__interaction_only': True, 'poly_ft__include_bias': False, 'poly_ft__degree': 3}\n",
            "Pipeline(steps=[('poly_ft',\n",
            "                 PolynomialFeatures(degree=3, include_bias=False,\n",
            "                                    interaction_only=True)),\n",
            "                ('selection',\n",
            "                 SelectFromModel(estimator=DecisionTreeRegressor())),\n",
            "                ('scaler', StandardScaler()),\n",
            "                ('svm_reg',\n",
            "                 LinearSVR(C=2, epsilon=1, loss='squared_epsilon_insensitive',\n",
            "                           max_iter=3000, random_state=42, tol=1e-05))])\n"
          ]
        }
      ],
      "source": [
        "# ~2h30min\n",
        "GRID_SEARCH = False\n",
        "if (GRID_SEARCH):\n",
        "    param_distributions = {\n",
        "        \"scaler\": [StandardScaler(), MinMaxScaler()],\n",
        "        \"poly_ft__degree\": [1,2,3],\n",
        "        \"poly_ft__interaction_only\": [False, True],\n",
        "        \"poly_ft__include_bias\": [True, False],\n",
        "        \"svm_reg__loss\": [\"epsilon_insensitive\",\"squared_epsilon_insensitive\"],\n",
        "        \"svm_reg__fit_intercept\": [True, False],\n",
        "        \"svm_reg__max_iter\": [1000,3000,5000],\n",
        "        \"svm_reg__epsilon\": [1,1e-1,1e-2,1e-3],\n",
        "        \"svm_reg__tol\": [1e-3,1e-4,1e-5,1e-6,1e-7,1e-8],\n",
        "        \"svm_reg__C\":[1,2,5,10]\n",
        "    }\n",
        "    model = search.run_HR_GS(model, X_train, y_train, param_distributions,\n",
        "                            ignore_warnings=True, scorer='r2')\n",
        "    print(model)"
      ]
    },
    {
      "cell_type": "markdown",
      "metadata": {
        "id": "x3T3JjileYha"
      },
      "source": [
        "Best Model:\n",
        "```\n",
        "PolynomialFeatures(degree=3, include_bias=False,\n",
        "                                    interaction_only=True)),\n",
        "('selection',\n",
        "                 SelectFromModel(estimator=DecisionTreeRegressor())),\n",
        "('scaler', StandardScaler()),\n",
        "LinearSVR(C=2, epsilon=1, loss='squared_epsilon_insensitive',\n",
        "                           max_iter=3000, random_state=42, tol=1e-05))\n",
        "```\n"
      ]
    },
    {
      "cell_type": "code",
      "execution_count": null,
      "metadata": {
        "colab": {
          "base_uri": "https://localhost:8080/"
        },
        "id": "vOTLuHhleYha",
        "outputId": "98185ec4-3e11-44b0-c926-000a86864990"
      },
      "outputs": [
        {
          "output_type": "execute_result",
          "data": {
            "text/plain": [
              "Pipeline(steps=[('poly_ft',\n",
              "                 PolynomialFeatures(degree=3, include_bias=False,\n",
              "                                    interaction_only=True)),\n",
              "                ('selection',\n",
              "                 SelectFromModel(estimator=DecisionTreeRegressor())),\n",
              "                ('scaler', StandardScaler()),\n",
              "                ('svm_reg',\n",
              "                 LinearSVR(C=2, epsilon=1, loss='squared_epsilon_insensitive',\n",
              "                           max_iter=3000, random_state=42, tol=1e-05))])"
            ]
          },
          "metadata": {},
          "execution_count": 37
        }
      ],
      "source": [
        "model = Pipeline([\n",
        "    ('poly_ft', PolynomialFeatures(degree=3, include_bias=False,\n",
        "                                    interaction_only=True)),\n",
        "    ('selection', SelectFromModel(DecisionTreeRegressor())),\n",
        "    ('scaler', StandardScaler()),\n",
        "    ('svm_reg', LinearSVR(C=2, epsilon=1, loss='squared_epsilon_insensitive',\n",
        "                           max_iter=3000, random_state=42, tol=1e-05))\n",
        "])\n",
        "model"
      ]
    },
    {
      "cell_type": "code",
      "execution_count": null,
      "metadata": {
        "colab": {
          "base_uri": "https://localhost:8080/"
        },
        "id": "vNXgsavTeYhb",
        "outputId": "93a0e010-75b6-4489-9419-8e527e705f48"
      },
      "outputs": [
        {
          "output_type": "stream",
          "name": "stderr",
          "text": [
            "/usr/local/lib/python3.7/dist-packages/sklearn/svm/_base.py:1208: ConvergenceWarning: Liblinear failed to converge, increase the number of iterations.\n",
            "  ConvergenceWarning,\n"
          ]
        },
        {
          "output_type": "stream",
          "name": "stdout",
          "text": [
            "R2=0.557,RMSE=-59.727\n"
          ]
        },
        {
          "output_type": "stream",
          "name": "stderr",
          "text": [
            "/usr/local/lib/python3.7/dist-packages/sklearn/svm/_base.py:1208: ConvergenceWarning: Liblinear failed to converge, increase the number of iterations.\n",
            "  ConvergenceWarning,\n",
            "/usr/local/lib/python3.7/dist-packages/sklearn/svm/_base.py:1208: ConvergenceWarning: Liblinear failed to converge, increase the number of iterations.\n",
            "  ConvergenceWarning,\n",
            "/usr/local/lib/python3.7/dist-packages/sklearn/svm/_base.py:1208: ConvergenceWarning: Liblinear failed to converge, increase the number of iterations.\n",
            "  ConvergenceWarning,\n",
            "/usr/local/lib/python3.7/dist-packages/sklearn/svm/_base.py:1208: ConvergenceWarning: Liblinear failed to converge, increase the number of iterations.\n",
            "  ConvergenceWarning,\n",
            "/usr/local/lib/python3.7/dist-packages/sklearn/svm/_base.py:1208: ConvergenceWarning: Liblinear failed to converge, increase the number of iterations.\n",
            "  ConvergenceWarning,\n",
            "/usr/local/lib/python3.7/dist-packages/sklearn/svm/_base.py:1208: ConvergenceWarning: Liblinear failed to converge, increase the number of iterations.\n",
            "  ConvergenceWarning,\n",
            "/usr/local/lib/python3.7/dist-packages/sklearn/svm/_base.py:1208: ConvergenceWarning: Liblinear failed to converge, increase the number of iterations.\n",
            "  ConvergenceWarning,\n",
            "/usr/local/lib/python3.7/dist-packages/sklearn/svm/_base.py:1208: ConvergenceWarning: Liblinear failed to converge, increase the number of iterations.\n",
            "  ConvergenceWarning,\n",
            "/usr/local/lib/python3.7/dist-packages/sklearn/svm/_base.py:1208: ConvergenceWarning: Liblinear failed to converge, increase the number of iterations.\n",
            "  ConvergenceWarning,\n",
            "/usr/local/lib/python3.7/dist-packages/sklearn/svm/_base.py:1208: ConvergenceWarning: Liblinear failed to converge, increase the number of iterations.\n",
            "  ConvergenceWarning,\n"
          ]
        },
        {
          "output_type": "stream",
          "name": "stdout",
          "text": [
            "(CV) R2=0.537,RMSE=-60.948\n"
          ]
        }
      ],
      "source": [
        "# ~1h\n",
        "model.fit(X_train, y_train)\n",
        "eval.show_result(y_train, model.predict(X_train))\n",
        "eval.show_result_cv(y_train, X_train, model)"
      ]
    },
    {
      "cell_type": "code",
      "execution_count": null,
      "metadata": {
        "id": "syV5FSKZeYhb",
        "colab": {
          "base_uri": "https://localhost:8080/"
        },
        "outputId": "dc50b61f-f098-4c1c-94d7-9e2cafefb42c"
      },
      "outputs": [
        {
          "output_type": "stream",
          "name": "stdout",
          "text": [
            "R2=0.261,RMSE=-46.887\n"
          ]
        }
      ],
      "source": [
        "eval.show_result(y_test, model.predict(X_test))"
      ]
    },
    {
      "cell_type": "markdown",
      "metadata": {
        "id": "gCc3I9nBeYhc"
      },
      "source": [
        "No benefit from polynomial features in linear RUL.  However, most of the time, it didn't converge, even with 5k iterations. Same model for FD002."
      ]
    },
    {
      "cell_type": "markdown",
      "metadata": {
        "id": "CE8FEoXjeYhc"
      },
      "source": [
        "## PolyFeatures + Non-Linear RUL"
      ]
    },
    {
      "cell_type": "code",
      "execution_count": null,
      "metadata": {
        "id": "a3bxpVQTeYhc"
      },
      "outputs": [],
      "source": [
        "model = Pipeline([\n",
        "    ('poly_ft'  ,   PolynomialFeatures()),\n",
        "    ('selection', SelectFromModel(DecisionTreeRegressor())),\n",
        "    ('scaler'   ,   StandardScaler()),\n",
        "    ('trf_reg' ,TransformedTargetRegressor(\n",
        "        check_inverse=False,\n",
        "        regressor   = LinearSVR(random_state=42),\n",
        "        transformer = FunctionTransformer(np.clip, \n",
        "                                          kw_args={'a_min':0,'a_max':96})))\n",
        "])"
      ]
    },
    {
      "cell_type": "code",
      "execution_count": null,
      "metadata": {
        "colab": {
          "base_uri": "https://localhost:8080/"
        },
        "id": "_2CeBElZeYhc",
        "outputId": "d186308a-46e8-4000-c483-9cb9510279fd"
      },
      "outputs": [
        {
          "output_type": "stream",
          "name": "stdout",
          "text": [
            "n_iterations: 5\n",
            "n_required_iterations: 5\n",
            "n_possible_iterations: 5\n",
            "min_resources_: 500\n",
            "max_resources_: 61249\n",
            "aggressive_elimination: False\n",
            "factor: 3\n",
            "----------\n",
            "iter: 0\n",
            "n_candidates: 122\n",
            "n_resources: 500\n",
            "Fitting 5 folds for each of 122 candidates, totalling 610 fits\n",
            "----------\n",
            "iter: 1\n",
            "n_candidates: 41\n",
            "n_resources: 1500\n",
            "Fitting 5 folds for each of 41 candidates, totalling 205 fits\n",
            "----------\n",
            "iter: 2\n",
            "n_candidates: 14\n",
            "n_resources: 4500\n",
            "Fitting 5 folds for each of 14 candidates, totalling 70 fits\n",
            "----------\n",
            "iter: 3\n",
            "n_candidates: 5\n",
            "n_resources: 13500\n",
            "Fitting 5 folds for each of 5 candidates, totalling 25 fits\n",
            "----------\n",
            "iter: 4\n",
            "n_candidates: 2\n",
            "n_resources: 40500\n",
            "Fitting 5 folds for each of 2 candidates, totalling 10 fits\n",
            "Best params:  {'trf_reg__transformer__kw_args': {'a_min': 0, 'a_max': 128}, 'trf_reg__regressor__tol': 1e-08, 'trf_reg__regressor__max_iter': 3000, 'trf_reg__regressor__loss': 'squared_epsilon_insensitive', 'trf_reg__regressor__fit_intercept': False, 'trf_reg__regressor__epsilon': 0.01, 'trf_reg__regressor__C': 5, 'scaler': MinMaxScaler(), 'poly_ft__interaction_only': False, 'poly_ft__include_bias': False, 'poly_ft__degree': 3}\n",
            "Pipeline(steps=[('poly_ft', PolynomialFeatures(degree=3, include_bias=False)),\n",
            "                ('selection',\n",
            "                 SelectFromModel(estimator=DecisionTreeRegressor())),\n",
            "                ('scaler', MinMaxScaler()),\n",
            "                ('trf_reg',\n",
            "                 TransformedTargetRegressor(check_inverse=False,\n",
            "                                            regressor=LinearSVR(C=5,\n",
            "                                                                epsilon=0.01,\n",
            "                                                                fit_intercept=False,\n",
            "                                                                loss='squared_epsilon_insensitive',\n",
            "                                                                max_iter=3000,\n",
            "                                                                random_state=42,\n",
            "                                                                tol=1e-08),\n",
            "                                            transformer=FunctionTransformer(func=<function clip at 0x7fe7c38d8c20>,\n",
            "                                                                            kw_args={'a_max': 128,\n",
            "                                                                                     'a_min': 0})))])\n"
          ]
        }
      ],
      "source": [
        "# ~2h30min\n",
        "GRID_SEARCH = False\n",
        "if (GRID_SEARCH):\n",
        "    param_distributions = {\n",
        "        \"scaler\": [StandardScaler(), MinMaxScaler()],\n",
        "        \"trf_reg__transformer__kw_args\": search.generate_clip_dicts(80,150,1),\n",
        "        \"trf_reg__regressor__loss\": [\"epsilon_insensitive\",\"squared_epsilon_insensitive\"],\n",
        "        \"trf_reg__regressor__fit_intercept\": [True, False],\n",
        "        \"trf_reg__regressor__max_iter\": [1000,3000,5000],\n",
        "        \"trf_reg__regressor__epsilon\": [1,1e-1,1e-2,1e-3],\n",
        "        \"trf_reg__regressor__tol\": [1e-3,1e-4,1e-5,1e-6,1e-7,1e-8],\n",
        "        \"trf_reg__regressor__C\":[1,2,5,10],\n",
        "        \"poly_ft__degree\": [1,2,3],\n",
        "        \"poly_ft__interaction_only\": [False, True],\n",
        "        \"poly_ft__include_bias\": [True, False],\n",
        "    }\n",
        "    model = search.run_HR_GS(model, X_train, y_train, \n",
        "                             param_distributions, ignore_warnings=True)\n",
        "    print(model)"
      ]
    },
    {
      "cell_type": "markdown",
      "metadata": {
        "id": "56xc1U-peYhd"
      },
      "source": [
        "Best Model:\n",
        "```\n",
        "{'trf_reg__transformer__kw_args': {'a_min': 0, 'a_max': 128}, \n",
        "PolynomialFeatures(degree=3, include_bias=False)),\n",
        "('scaler', StandardScaler()),\n",
        "LinearSVR(C=5,\n",
        "            epsilon=0.01,\n",
        "            fit_intercept=False,\n",
        "            loss='squared_epsilon_insensitive',\n",
        "            max_iter=3000,\n",
        "            random_state=42,\n",
        "            tol=1e-08),\n",
        "```\n"
      ]
    },
    {
      "cell_type": "code",
      "execution_count": 83,
      "metadata": {
        "colab": {
          "base_uri": "https://localhost:8080/"
        },
        "id": "HtfeP0KteYhd",
        "outputId": "88470ba3-fbcc-4136-fa9e-663467543ea4"
      },
      "outputs": [
        {
          "output_type": "execute_result",
          "data": {
            "text/plain": [
              "Pipeline(steps=[('poly_ft', PolynomialFeatures(degree=3, include_bias=False)),\n",
              "                ('selection',\n",
              "                 SelectFromModel(estimator=DecisionTreeRegressor())),\n",
              "                ('scaler', StandardScaler()),\n",
              "                ('trf_reg',\n",
              "                 TransformedTargetRegressor(check_inverse=False,\n",
              "                                            regressor=LinearSVR(C=5,\n",
              "                                                                epsilon=0.01,\n",
              "                                                                fit_intercept=False,\n",
              "                                                                loss='squared_epsilon_insensitive',\n",
              "                                                                max_iter=3000,\n",
              "                                                                random_state=42,\n",
              "                                                                tol=1e-08),\n",
              "                                            transformer=FunctionTransformer(func=<function clip at 0x7fe7c38d8c20>,\n",
              "                                                                            kw_args={'a_max': 128,\n",
              "                                                                                     'a_min': 0})))])"
            ]
          },
          "metadata": {},
          "execution_count": 83
        }
      ],
      "source": [
        "model = Pipeline([\n",
        "    ('poly_ft',PolynomialFeatures(degree=3, include_bias=False)),\n",
        "    ('selection',\n",
        "                 SelectFromModel(estimator=DecisionTreeRegressor())),\n",
        "    ('scaler', StandardScaler()),\n",
        "    ('trf_reg',\n",
        "        TransformedTargetRegressor(\n",
        "            check_inverse=False,\n",
        "            regressor=LinearSVR(C=5,\n",
        "                                epsilon=0.01,\n",
        "                                fit_intercept=False,\n",
        "                                loss='squared_epsilon_insensitive',\n",
        "                                max_iter=3000,\n",
        "                                random_state=42,\n",
        "                                tol=1e-08),\n",
        "            transformer=FunctionTransformer(np.clip,\n",
        "                                            kw_args={'a_max': 128,\n",
        "                                                     'a_min': 0})))\n",
        "])\n",
        "model"
      ]
    },
    {
      "cell_type": "markdown",
      "source": [
        "# Continue here"
      ],
      "metadata": {
        "id": "o-9HEICst_Qm"
      }
    },
    {
      "cell_type": "code",
      "execution_count": null,
      "metadata": {
        "colab": {
          "base_uri": "https://localhost:8080/"
        },
        "id": "oqBePp8LeYhe",
        "outputId": "43cd83ab-c4ac-41b1-8b9a-d8cfddd30b3d"
      },
      "outputs": [
        {
          "output_type": "stream",
          "name": "stderr",
          "text": [
            "/usr/local/lib/python3.7/dist-packages/sklearn/svm/_base.py:1208: ConvergenceWarning: Liblinear failed to converge, increase the number of iterations.\n",
            "  ConvergenceWarning,\n"
          ]
        },
        {
          "output_type": "stream",
          "name": "stdout",
          "text": [
            "R2=-5.013,RMSE=-102.548\n"
          ]
        },
        {
          "output_type": "stream",
          "name": "stderr",
          "text": [
            "/usr/local/lib/python3.7/dist-packages/sklearn/svm/_base.py:1208: ConvergenceWarning: Liblinear failed to converge, increase the number of iterations.\n",
            "  ConvergenceWarning,\n",
            "/usr/local/lib/python3.7/dist-packages/sklearn/svm/_base.py:1208: ConvergenceWarning: Liblinear failed to converge, increase the number of iterations.\n",
            "  ConvergenceWarning,\n",
            "/usr/local/lib/python3.7/dist-packages/sklearn/svm/_base.py:1208: ConvergenceWarning: Liblinear failed to converge, increase the number of iterations.\n",
            "  ConvergenceWarning,\n",
            "/usr/local/lib/python3.7/dist-packages/sklearn/svm/_base.py:1208: ConvergenceWarning: Liblinear failed to converge, increase the number of iterations.\n",
            "  ConvergenceWarning,\n",
            "/usr/local/lib/python3.7/dist-packages/sklearn/svm/_base.py:1208: ConvergenceWarning: Liblinear failed to converge, increase the number of iterations.\n",
            "  ConvergenceWarning,\n",
            "/usr/local/lib/python3.7/dist-packages/sklearn/svm/_base.py:1208: ConvergenceWarning: Liblinear failed to converge, increase the number of iterations.\n",
            "  ConvergenceWarning,\n"
          ]
        }
      ],
      "source": [
        "# ~1h30min\n",
        "model.fit(X_train, y_train)\n",
        "reclipped_y =  model['trf_reg'].transformer.transform(y_train)\n",
        "eval.show_result(reclipped_y, model.predict(X_train))\n",
        "eval.show_result_cv(reclipped_y, X_train, model)"
      ]
    },
    {
      "cell_type": "code",
      "execution_count": null,
      "metadata": {
        "id": "5If11LWueYhe"
      },
      "outputs": [],
      "source": [
        "reclipped_y =  model['trf_reg'].transformer.transform(y_test)\n",
        "eval.show_result(reclipped_y, model.predict(X_test))"
      ]
    },
    {
      "cell_type": "markdown",
      "metadata": {
        "id": "XzWOE90teYhf"
      },
      "source": [
        "Similar to not using the polynomial features, a little worse. It is also the same model from FD001 and FD002. "
      ]
    },
    {
      "cell_type": "code",
      "source": [
        ""
      ],
      "metadata": {
        "id": "zab6rC0UImsK"
      },
      "execution_count": null,
      "outputs": []
    }
  ]
}