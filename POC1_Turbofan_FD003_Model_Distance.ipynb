{
  "nbformat": 4,
  "nbformat_minor": 0,
  "metadata": {
    "colab": {
      "name": "POC1_Turbofan_FD003_Model_Distance.ipynb",
      "provenance": [],
      "collapsed_sections": [
        "AU6ipeRozJz-",
        "n7MBDuPasy-s",
        "IIXnBTkfxpCf",
        "fQA-YtFMM81M",
        "TlISnMUrQukp"
      ],
      "toc_visible": true,
      "authorship_tag": "ABX9TyPuBECmaP4AkCQp2KfG7juj",
      "include_colab_link": true
    },
    "kernelspec": {
      "name": "python3",
      "display_name": "Python 3"
    },
    "language_info": {
      "name": "python"
    }
  },
  "cells": [
    {
      "cell_type": "markdown",
      "metadata": {
        "id": "view-in-github",
        "colab_type": "text"
      },
      "source": [
        "<a href=\"https://colab.research.google.com/github/arthursl12/POC1/blob/main/POC1_Turbofan_FD003_Model_Distance.ipynb\" target=\"_parent\"><img src=\"https://colab.research.google.com/assets/colab-badge.svg\" alt=\"Open In Colab\"/></a>"
      ]
    },
    {
      "cell_type": "markdown",
      "source": [
        "# Imports"
      ],
      "metadata": {
        "id": "iqDPLB2EDXSK"
      }
    },
    {
      "cell_type": "code",
      "source": [
        "import os\n",
        "import pandas as pd\n",
        "import matplotlib.pyplot as plt\n",
        "import seaborn as sns\n",
        "import numpy as np\n",
        "import glob"
      ],
      "metadata": {
        "id": "i0Z0Zs7YcgTp"
      },
      "execution_count": 1,
      "outputs": []
    },
    {
      "cell_type": "code",
      "source": [
        "from sklearn.dummy import DummyRegressor\n",
        "from sklearn.neighbors import KNeighborsRegressor\n",
        "\n",
        "from sklearn.pipeline import Pipeline\n",
        "from sklearn.compose import TransformedTargetRegressor\n",
        "\n",
        "from sklearn.feature_selection import SelectFromModel\n",
        "from sklearn.tree import DecisionTreeRegressor\n",
        "\n",
        "from sklearn.preprocessing import FunctionTransformer\n",
        "from sklearn.preprocessing import PolynomialFeatures"
      ],
      "metadata": {
        "id": "wmJyWwoFHcFL"
      },
      "execution_count": 2,
      "outputs": []
    },
    {
      "cell_type": "code",
      "source": [
        "sns.set_palette('colorblind')"
      ],
      "metadata": {
        "id": "yIpSdBdJ-uWd"
      },
      "execution_count": 3,
      "outputs": []
    },
    {
      "cell_type": "markdown",
      "source": [
        "# Data Preparation"
      ],
      "metadata": {
        "id": "AU6ipeRozJz-"
      }
    },
    {
      "cell_type": "code",
      "source": [
        "# Dataset Download \n",
        "os.system('git clone https://github.com/arthursl12/dataset_2')\n",
        "os.system('mv /content/dataset_2/CMaps /content/CMaps')\n",
        "os.system('mv /content/dataset_2/data_processing /content/data_processing')\n",
        "os.system('rm -rf dataset_2')"
      ],
      "metadata": {
        "colab": {
          "base_uri": "https://localhost:8080/"
        },
        "id": "-EPYBkqeECE9",
        "outputId": "0ca0daa3-e7d5-4b1d-a14a-ca6fa1441be5"
      },
      "execution_count": 4,
      "outputs": [
        {
          "output_type": "execute_result",
          "data": {
            "text/plain": [
              "0"
            ]
          },
          "metadata": {},
          "execution_count": 4
        }
      ]
    },
    {
      "cell_type": "code",
      "source": [
        "from data_processing.processing import DatasetProcessing\n",
        "from data_processing.training import HyperparameterSearch, reclipper_scorer\n",
        "from data_processing.eval import Evaluation"
      ],
      "metadata": {
        "id": "FUQ5tHe4Eu7z"
      },
      "execution_count": 5,
      "outputs": []
    },
    {
      "cell_type": "code",
      "source": [
        "proc = DatasetProcessing()"
      ],
      "metadata": {
        "id": "g1BmyudxzUz-"
      },
      "execution_count": 6,
      "outputs": []
    },
    {
      "cell_type": "markdown",
      "source": [
        "## Data Integration"
      ],
      "metadata": {
        "id": "Q4QwyfhXs_hv"
      }
    },
    {
      "cell_type": "markdown",
      "source": [
        "The data are provided as a zip-compressed text file with 26 columns of numbers, separated by spaces. Each row is a snapshot of data taken during a single operational cycle, each column is a different variable. The columns correspond to:  \n",
        "\n",
        "1) unit number   \n",
        "2) time, in cycles  \n",
        "3) operational setting 1  \n",
        "4) operational setting 2  \n",
        "5) operational setting 3    \n",
        "6) sensor measurement 1    \n",
        "7) sensor measurement 2  \n",
        "...  \n",
        "26) sensor measurement 20\n",
        "\n",
        "\n",
        "There are 6 conditions (or combinations) which the 3 operational settings can take.  \n",
        "Condition 1: Altitude = 0, Mach Number = 0, TRA = 100  \n",
        "Condition 2: Altitude = 10, Mach Number = 0.25, TRA = 100  \n",
        "Condition 3: Altitude = 20, Mach Number = 0.7 TRA = 100  \n",
        "Condition 4: Altitude = 25, Mach Number = 0.62, TRA = 60  \n",
        "Condition 5: Altitude = 35 Mach Number = 0.84, TRA = 100  \n",
        "Condition 6: Altitude = 42, Mach Number = 0.84, TRA = 100  \n",
        "  \n",
        "There is slight variation in all these conditions so you may get numbers like 24.453 instead of 25 exactly.\n",
        "\n",
        "FD001: Condition 1 only  \n",
        "FD002: Mix of all the conditions  \n",
        "FD003: Condition 1 only  \n",
        "FD004: Mix of all conditions  \n"
      ],
      "metadata": {
        "id": "PQe-SyeYc6Gf"
      }
    },
    {
      "cell_type": "code",
      "source": [
        "index_cols, settings_cols, sensors_cols, cols = proc.column_names()\n",
        "train, test, y_test = proc.read_dataset(3)\n",
        "train"
      ],
      "metadata": {
        "colab": {
          "base_uri": "https://localhost:8080/",
          "height": 488
        },
        "id": "-yRYxz2hh4xE",
        "outputId": "447ade1a-99e4-4378-8870-a48b426c437a"
      },
      "execution_count": 7,
      "outputs": [
        {
          "output_type": "execute_result",
          "data": {
            "text/plain": [
              "       unit_number  time    op_1    op_2   op_3     s_0     s_1      s_2  \\\n",
              "0                1     1 -0.0005  0.0004  100.0  518.67  642.36  1583.23   \n",
              "1                1     2  0.0008 -0.0003  100.0  518.67  642.50  1584.69   \n",
              "2                1     3 -0.0014 -0.0002  100.0  518.67  642.18  1582.35   \n",
              "3                1     4 -0.0020  0.0001  100.0  518.67  642.92  1585.61   \n",
              "4                1     5  0.0016  0.0000  100.0  518.67  641.68  1588.63   \n",
              "...            ...   ...     ...     ...    ...     ...     ...      ...   \n",
              "24715          100   148 -0.0016 -0.0003  100.0  518.67  643.78  1596.01   \n",
              "24716          100   149  0.0034 -0.0003  100.0  518.67  643.29  1596.38   \n",
              "24717          100   150 -0.0016  0.0004  100.0  518.67  643.84  1604.53   \n",
              "24718          100   151 -0.0023  0.0004  100.0  518.67  643.94  1597.56   \n",
              "24719          100   152  0.0000  0.0003  100.0  518.67  643.64  1599.04   \n",
              "\n",
              "           s_3    s_4  ...    s_11     s_12     s_13    s_14  s_15  s_16  \\\n",
              "0      1396.84  14.62  ...  522.31  2388.01  8145.32  8.4246  0.03   391   \n",
              "1      1396.89  14.62  ...  522.42  2388.03  8152.85  8.4403  0.03   392   \n",
              "2      1405.61  14.62  ...  522.03  2388.00  8150.17  8.3901  0.03   391   \n",
              "3      1392.27  14.62  ...  522.49  2388.08  8146.56  8.3878  0.03   392   \n",
              "4      1397.65  14.62  ...  522.58  2388.03  8147.80  8.3869  0.03   392   \n",
              "...        ...    ...  ...     ...      ...      ...     ...   ...   ...   \n",
              "24715  1424.11  14.62  ...  519.66  2388.30  8138.08  8.5036  0.03   394   \n",
              "24716  1429.14  14.62  ...  519.91  2388.28  8144.36  8.5174  0.03   395   \n",
              "24717  1431.41  14.62  ...  519.44  2388.24  8135.95  8.5223  0.03   396   \n",
              "24718  1426.57  14.62  ...  520.01  2388.26  8141.24  8.5148  0.03   395   \n",
              "24719  1436.06  14.62  ...  519.48  2388.24  8136.98  8.5150  0.03   396   \n",
              "\n",
              "       s_17   s_18   s_19     s_20  \n",
              "0      2388  100.0  39.11  23.3537  \n",
              "1      2388  100.0  38.99  23.4491  \n",
              "2      2388  100.0  38.85  23.3669  \n",
              "3      2388  100.0  38.96  23.2951  \n",
              "4      2388  100.0  39.14  23.4583  \n",
              "...     ...    ...    ...      ...  \n",
              "24715  2388  100.0  38.44  22.9631  \n",
              "24716  2388  100.0  38.50  22.9746  \n",
              "24717  2388  100.0  38.39  23.0682  \n",
              "24718  2388  100.0  38.31  23.0753  \n",
              "24719  2388  100.0  38.56  23.0847  \n",
              "\n",
              "[24720 rows x 26 columns]"
            ],
            "text/html": [
              "\n",
              "  <div id=\"df-cdacfe97-536d-4fd3-abbf-9dae1b505b32\">\n",
              "    <div class=\"colab-df-container\">\n",
              "      <div>\n",
              "<style scoped>\n",
              "    .dataframe tbody tr th:only-of-type {\n",
              "        vertical-align: middle;\n",
              "    }\n",
              "\n",
              "    .dataframe tbody tr th {\n",
              "        vertical-align: top;\n",
              "    }\n",
              "\n",
              "    .dataframe thead th {\n",
              "        text-align: right;\n",
              "    }\n",
              "</style>\n",
              "<table border=\"1\" class=\"dataframe\">\n",
              "  <thead>\n",
              "    <tr style=\"text-align: right;\">\n",
              "      <th></th>\n",
              "      <th>unit_number</th>\n",
              "      <th>time</th>\n",
              "      <th>op_1</th>\n",
              "      <th>op_2</th>\n",
              "      <th>op_3</th>\n",
              "      <th>s_0</th>\n",
              "      <th>s_1</th>\n",
              "      <th>s_2</th>\n",
              "      <th>s_3</th>\n",
              "      <th>s_4</th>\n",
              "      <th>...</th>\n",
              "      <th>s_11</th>\n",
              "      <th>s_12</th>\n",
              "      <th>s_13</th>\n",
              "      <th>s_14</th>\n",
              "      <th>s_15</th>\n",
              "      <th>s_16</th>\n",
              "      <th>s_17</th>\n",
              "      <th>s_18</th>\n",
              "      <th>s_19</th>\n",
              "      <th>s_20</th>\n",
              "    </tr>\n",
              "  </thead>\n",
              "  <tbody>\n",
              "    <tr>\n",
              "      <th>0</th>\n",
              "      <td>1</td>\n",
              "      <td>1</td>\n",
              "      <td>-0.0005</td>\n",
              "      <td>0.0004</td>\n",
              "      <td>100.0</td>\n",
              "      <td>518.67</td>\n",
              "      <td>642.36</td>\n",
              "      <td>1583.23</td>\n",
              "      <td>1396.84</td>\n",
              "      <td>14.62</td>\n",
              "      <td>...</td>\n",
              "      <td>522.31</td>\n",
              "      <td>2388.01</td>\n",
              "      <td>8145.32</td>\n",
              "      <td>8.4246</td>\n",
              "      <td>0.03</td>\n",
              "      <td>391</td>\n",
              "      <td>2388</td>\n",
              "      <td>100.0</td>\n",
              "      <td>39.11</td>\n",
              "      <td>23.3537</td>\n",
              "    </tr>\n",
              "    <tr>\n",
              "      <th>1</th>\n",
              "      <td>1</td>\n",
              "      <td>2</td>\n",
              "      <td>0.0008</td>\n",
              "      <td>-0.0003</td>\n",
              "      <td>100.0</td>\n",
              "      <td>518.67</td>\n",
              "      <td>642.50</td>\n",
              "      <td>1584.69</td>\n",
              "      <td>1396.89</td>\n",
              "      <td>14.62</td>\n",
              "      <td>...</td>\n",
              "      <td>522.42</td>\n",
              "      <td>2388.03</td>\n",
              "      <td>8152.85</td>\n",
              "      <td>8.4403</td>\n",
              "      <td>0.03</td>\n",
              "      <td>392</td>\n",
              "      <td>2388</td>\n",
              "      <td>100.0</td>\n",
              "      <td>38.99</td>\n",
              "      <td>23.4491</td>\n",
              "    </tr>\n",
              "    <tr>\n",
              "      <th>2</th>\n",
              "      <td>1</td>\n",
              "      <td>3</td>\n",
              "      <td>-0.0014</td>\n",
              "      <td>-0.0002</td>\n",
              "      <td>100.0</td>\n",
              "      <td>518.67</td>\n",
              "      <td>642.18</td>\n",
              "      <td>1582.35</td>\n",
              "      <td>1405.61</td>\n",
              "      <td>14.62</td>\n",
              "      <td>...</td>\n",
              "      <td>522.03</td>\n",
              "      <td>2388.00</td>\n",
              "      <td>8150.17</td>\n",
              "      <td>8.3901</td>\n",
              "      <td>0.03</td>\n",
              "      <td>391</td>\n",
              "      <td>2388</td>\n",
              "      <td>100.0</td>\n",
              "      <td>38.85</td>\n",
              "      <td>23.3669</td>\n",
              "    </tr>\n",
              "    <tr>\n",
              "      <th>3</th>\n",
              "      <td>1</td>\n",
              "      <td>4</td>\n",
              "      <td>-0.0020</td>\n",
              "      <td>0.0001</td>\n",
              "      <td>100.0</td>\n",
              "      <td>518.67</td>\n",
              "      <td>642.92</td>\n",
              "      <td>1585.61</td>\n",
              "      <td>1392.27</td>\n",
              "      <td>14.62</td>\n",
              "      <td>...</td>\n",
              "      <td>522.49</td>\n",
              "      <td>2388.08</td>\n",
              "      <td>8146.56</td>\n",
              "      <td>8.3878</td>\n",
              "      <td>0.03</td>\n",
              "      <td>392</td>\n",
              "      <td>2388</td>\n",
              "      <td>100.0</td>\n",
              "      <td>38.96</td>\n",
              "      <td>23.2951</td>\n",
              "    </tr>\n",
              "    <tr>\n",
              "      <th>4</th>\n",
              "      <td>1</td>\n",
              "      <td>5</td>\n",
              "      <td>0.0016</td>\n",
              "      <td>0.0000</td>\n",
              "      <td>100.0</td>\n",
              "      <td>518.67</td>\n",
              "      <td>641.68</td>\n",
              "      <td>1588.63</td>\n",
              "      <td>1397.65</td>\n",
              "      <td>14.62</td>\n",
              "      <td>...</td>\n",
              "      <td>522.58</td>\n",
              "      <td>2388.03</td>\n",
              "      <td>8147.80</td>\n",
              "      <td>8.3869</td>\n",
              "      <td>0.03</td>\n",
              "      <td>392</td>\n",
              "      <td>2388</td>\n",
              "      <td>100.0</td>\n",
              "      <td>39.14</td>\n",
              "      <td>23.4583</td>\n",
              "    </tr>\n",
              "    <tr>\n",
              "      <th>...</th>\n",
              "      <td>...</td>\n",
              "      <td>...</td>\n",
              "      <td>...</td>\n",
              "      <td>...</td>\n",
              "      <td>...</td>\n",
              "      <td>...</td>\n",
              "      <td>...</td>\n",
              "      <td>...</td>\n",
              "      <td>...</td>\n",
              "      <td>...</td>\n",
              "      <td>...</td>\n",
              "      <td>...</td>\n",
              "      <td>...</td>\n",
              "      <td>...</td>\n",
              "      <td>...</td>\n",
              "      <td>...</td>\n",
              "      <td>...</td>\n",
              "      <td>...</td>\n",
              "      <td>...</td>\n",
              "      <td>...</td>\n",
              "      <td>...</td>\n",
              "    </tr>\n",
              "    <tr>\n",
              "      <th>24715</th>\n",
              "      <td>100</td>\n",
              "      <td>148</td>\n",
              "      <td>-0.0016</td>\n",
              "      <td>-0.0003</td>\n",
              "      <td>100.0</td>\n",
              "      <td>518.67</td>\n",
              "      <td>643.78</td>\n",
              "      <td>1596.01</td>\n",
              "      <td>1424.11</td>\n",
              "      <td>14.62</td>\n",
              "      <td>...</td>\n",
              "      <td>519.66</td>\n",
              "      <td>2388.30</td>\n",
              "      <td>8138.08</td>\n",
              "      <td>8.5036</td>\n",
              "      <td>0.03</td>\n",
              "      <td>394</td>\n",
              "      <td>2388</td>\n",
              "      <td>100.0</td>\n",
              "      <td>38.44</td>\n",
              "      <td>22.9631</td>\n",
              "    </tr>\n",
              "    <tr>\n",
              "      <th>24716</th>\n",
              "      <td>100</td>\n",
              "      <td>149</td>\n",
              "      <td>0.0034</td>\n",
              "      <td>-0.0003</td>\n",
              "      <td>100.0</td>\n",
              "      <td>518.67</td>\n",
              "      <td>643.29</td>\n",
              "      <td>1596.38</td>\n",
              "      <td>1429.14</td>\n",
              "      <td>14.62</td>\n",
              "      <td>...</td>\n",
              "      <td>519.91</td>\n",
              "      <td>2388.28</td>\n",
              "      <td>8144.36</td>\n",
              "      <td>8.5174</td>\n",
              "      <td>0.03</td>\n",
              "      <td>395</td>\n",
              "      <td>2388</td>\n",
              "      <td>100.0</td>\n",
              "      <td>38.50</td>\n",
              "      <td>22.9746</td>\n",
              "    </tr>\n",
              "    <tr>\n",
              "      <th>24717</th>\n",
              "      <td>100</td>\n",
              "      <td>150</td>\n",
              "      <td>-0.0016</td>\n",
              "      <td>0.0004</td>\n",
              "      <td>100.0</td>\n",
              "      <td>518.67</td>\n",
              "      <td>643.84</td>\n",
              "      <td>1604.53</td>\n",
              "      <td>1431.41</td>\n",
              "      <td>14.62</td>\n",
              "      <td>...</td>\n",
              "      <td>519.44</td>\n",
              "      <td>2388.24</td>\n",
              "      <td>8135.95</td>\n",
              "      <td>8.5223</td>\n",
              "      <td>0.03</td>\n",
              "      <td>396</td>\n",
              "      <td>2388</td>\n",
              "      <td>100.0</td>\n",
              "      <td>38.39</td>\n",
              "      <td>23.0682</td>\n",
              "    </tr>\n",
              "    <tr>\n",
              "      <th>24718</th>\n",
              "      <td>100</td>\n",
              "      <td>151</td>\n",
              "      <td>-0.0023</td>\n",
              "      <td>0.0004</td>\n",
              "      <td>100.0</td>\n",
              "      <td>518.67</td>\n",
              "      <td>643.94</td>\n",
              "      <td>1597.56</td>\n",
              "      <td>1426.57</td>\n",
              "      <td>14.62</td>\n",
              "      <td>...</td>\n",
              "      <td>520.01</td>\n",
              "      <td>2388.26</td>\n",
              "      <td>8141.24</td>\n",
              "      <td>8.5148</td>\n",
              "      <td>0.03</td>\n",
              "      <td>395</td>\n",
              "      <td>2388</td>\n",
              "      <td>100.0</td>\n",
              "      <td>38.31</td>\n",
              "      <td>23.0753</td>\n",
              "    </tr>\n",
              "    <tr>\n",
              "      <th>24719</th>\n",
              "      <td>100</td>\n",
              "      <td>152</td>\n",
              "      <td>0.0000</td>\n",
              "      <td>0.0003</td>\n",
              "      <td>100.0</td>\n",
              "      <td>518.67</td>\n",
              "      <td>643.64</td>\n",
              "      <td>1599.04</td>\n",
              "      <td>1436.06</td>\n",
              "      <td>14.62</td>\n",
              "      <td>...</td>\n",
              "      <td>519.48</td>\n",
              "      <td>2388.24</td>\n",
              "      <td>8136.98</td>\n",
              "      <td>8.5150</td>\n",
              "      <td>0.03</td>\n",
              "      <td>396</td>\n",
              "      <td>2388</td>\n",
              "      <td>100.0</td>\n",
              "      <td>38.56</td>\n",
              "      <td>23.0847</td>\n",
              "    </tr>\n",
              "  </tbody>\n",
              "</table>\n",
              "<p>24720 rows × 26 columns</p>\n",
              "</div>\n",
              "      <button class=\"colab-df-convert\" onclick=\"convertToInteractive('df-cdacfe97-536d-4fd3-abbf-9dae1b505b32')\"\n",
              "              title=\"Convert this dataframe to an interactive table.\"\n",
              "              style=\"display:none;\">\n",
              "        \n",
              "  <svg xmlns=\"http://www.w3.org/2000/svg\" height=\"24px\"viewBox=\"0 0 24 24\"\n",
              "       width=\"24px\">\n",
              "    <path d=\"M0 0h24v24H0V0z\" fill=\"none\"/>\n",
              "    <path d=\"M18.56 5.44l.94 2.06.94-2.06 2.06-.94-2.06-.94-.94-2.06-.94 2.06-2.06.94zm-11 1L8.5 8.5l.94-2.06 2.06-.94-2.06-.94L8.5 2.5l-.94 2.06-2.06.94zm10 10l.94 2.06.94-2.06 2.06-.94-2.06-.94-.94-2.06-.94 2.06-2.06.94z\"/><path d=\"M17.41 7.96l-1.37-1.37c-.4-.4-.92-.59-1.43-.59-.52 0-1.04.2-1.43.59L10.3 9.45l-7.72 7.72c-.78.78-.78 2.05 0 2.83L4 21.41c.39.39.9.59 1.41.59.51 0 1.02-.2 1.41-.59l7.78-7.78 2.81-2.81c.8-.78.8-2.07 0-2.86zM5.41 20L4 18.59l7.72-7.72 1.47 1.35L5.41 20z\"/>\n",
              "  </svg>\n",
              "      </button>\n",
              "      \n",
              "  <style>\n",
              "    .colab-df-container {\n",
              "      display:flex;\n",
              "      flex-wrap:wrap;\n",
              "      gap: 12px;\n",
              "    }\n",
              "\n",
              "    .colab-df-convert {\n",
              "      background-color: #E8F0FE;\n",
              "      border: none;\n",
              "      border-radius: 50%;\n",
              "      cursor: pointer;\n",
              "      display: none;\n",
              "      fill: #1967D2;\n",
              "      height: 32px;\n",
              "      padding: 0 0 0 0;\n",
              "      width: 32px;\n",
              "    }\n",
              "\n",
              "    .colab-df-convert:hover {\n",
              "      background-color: #E2EBFA;\n",
              "      box-shadow: 0px 1px 2px rgba(60, 64, 67, 0.3), 0px 1px 3px 1px rgba(60, 64, 67, 0.15);\n",
              "      fill: #174EA6;\n",
              "    }\n",
              "\n",
              "    [theme=dark] .colab-df-convert {\n",
              "      background-color: #3B4455;\n",
              "      fill: #D2E3FC;\n",
              "    }\n",
              "\n",
              "    [theme=dark] .colab-df-convert:hover {\n",
              "      background-color: #434B5C;\n",
              "      box-shadow: 0px 1px 3px 1px rgba(0, 0, 0, 0.15);\n",
              "      filter: drop-shadow(0px 1px 2px rgba(0, 0, 0, 0.3));\n",
              "      fill: #FFFFFF;\n",
              "    }\n",
              "  </style>\n",
              "\n",
              "      <script>\n",
              "        const buttonEl =\n",
              "          document.querySelector('#df-cdacfe97-536d-4fd3-abbf-9dae1b505b32 button.colab-df-convert');\n",
              "        buttonEl.style.display =\n",
              "          google.colab.kernel.accessAllowed ? 'block' : 'none';\n",
              "\n",
              "        async function convertToInteractive(key) {\n",
              "          const element = document.querySelector('#df-cdacfe97-536d-4fd3-abbf-9dae1b505b32');\n",
              "          const dataTable =\n",
              "            await google.colab.kernel.invokeFunction('convertToInteractive',\n",
              "                                                     [key], {});\n",
              "          if (!dataTable) return;\n",
              "\n",
              "          const docLinkHtml = 'Like what you see? Visit the ' +\n",
              "            '<a target=\"_blank\" href=https://colab.research.google.com/notebooks/data_table.ipynb>data table notebook</a>'\n",
              "            + ' to learn more about interactive tables.';\n",
              "          element.innerHTML = '';\n",
              "          dataTable['output_type'] = 'display_data';\n",
              "          await google.colab.output.renderOutput(dataTable, element);\n",
              "          const docLink = document.createElement('div');\n",
              "          docLink.innerHTML = docLinkHtml;\n",
              "          element.appendChild(docLink);\n",
              "        }\n",
              "      </script>\n",
              "    </div>\n",
              "  </div>\n",
              "  "
            ]
          },
          "metadata": {},
          "execution_count": 7
        }
      ]
    },
    {
      "cell_type": "markdown",
      "source": [
        "## Preprocessing"
      ],
      "metadata": {
        "id": "n7MBDuPasy-s"
      }
    },
    {
      "cell_type": "markdown",
      "source": [
        "### Test Set Transformation \n",
        "Test set has samples for all cycles, but has annotations only for last one"
      ],
      "metadata": {
        "id": "QinQ4hWStzHt"
      }
    },
    {
      "cell_type": "code",
      "source": [
        "test.shape, y_test.shape"
      ],
      "metadata": {
        "colab": {
          "base_uri": "https://localhost:8080/"
        },
        "id": "4wtvRNsfuUwg",
        "outputId": "99f1100b-9846-4960-c2f1-640b3c45aeae"
      },
      "execution_count": 8,
      "outputs": [
        {
          "output_type": "execute_result",
          "data": {
            "text/plain": [
              "((16596, 26), (100, 1))"
            ]
          },
          "metadata": {},
          "execution_count": 8
        }
      ]
    },
    {
      "cell_type": "code",
      "source": [
        "test_last = proc.transform_test(test)\n",
        "test_last.head()"
      ],
      "metadata": {
        "colab": {
          "base_uri": "https://localhost:8080/",
          "height": 300
        },
        "id": "onw4pCwZy-1s",
        "outputId": "b359d1dd-19a1-45c9-c552-7e8a594f8f98"
      },
      "execution_count": 9,
      "outputs": [
        {
          "output_type": "execute_result",
          "data": {
            "text/plain": [
              "      s_0     s_1      s_2      s_3    s_4    s_5     s_6      s_7      s_8  \\\n",
              "0  518.67  642.59  1592.40  1409.87  14.62  21.58  560.53  2388.22  9085.50   \n",
              "1  518.67  642.56  1587.42  1409.69  14.62  21.61  553.33  2388.18  9050.97   \n",
              "2  518.67  642.75  1591.93  1417.66  14.62  21.60  563.61  2388.31  9091.69   \n",
              "3  518.67  642.28  1584.68  1406.56  14.62  21.61  552.75  2388.07  9048.23   \n",
              "4  518.67  642.15  1580.59  1397.26  14.62  21.58  553.82  2387.96  9050.89   \n",
              "\n",
              "    s_9  ...    s_11     s_12     s_13    s_14  s_15  s_16  s_17   s_18  \\\n",
              "0  1.31  ...  528.05  2388.23  8158.77  8.2966  0.03   393  2388  100.0   \n",
              "1  1.30  ...  520.90  2388.17  8128.04  8.4514  0.03   392  2388  100.0   \n",
              "2  1.31  ...  531.36  2388.33  8173.56  8.3057  0.03   395  2388  100.0   \n",
              "3  1.30  ...  521.27  2388.09  8133.78  8.4337  0.03   392  2388  100.0   \n",
              "4  1.30  ...  521.74  2387.96  8132.51  8.3900  0.03   390  2388  100.0   \n",
              "\n",
              "    s_19     s_20  \n",
              "0  39.43  23.5679  \n",
              "1  38.83  23.2821  \n",
              "2  39.27  23.6440  \n",
              "3  38.70  23.3804  \n",
              "4  38.89  23.4463  \n",
              "\n",
              "[5 rows x 21 columns]"
            ],
            "text/html": [
              "\n",
              "  <div id=\"df-bf8f8ad9-ba9e-4ba8-be4d-6229afa9eaff\">\n",
              "    <div class=\"colab-df-container\">\n",
              "      <div>\n",
              "<style scoped>\n",
              "    .dataframe tbody tr th:only-of-type {\n",
              "        vertical-align: middle;\n",
              "    }\n",
              "\n",
              "    .dataframe tbody tr th {\n",
              "        vertical-align: top;\n",
              "    }\n",
              "\n",
              "    .dataframe thead th {\n",
              "        text-align: right;\n",
              "    }\n",
              "</style>\n",
              "<table border=\"1\" class=\"dataframe\">\n",
              "  <thead>\n",
              "    <tr style=\"text-align: right;\">\n",
              "      <th></th>\n",
              "      <th>s_0</th>\n",
              "      <th>s_1</th>\n",
              "      <th>s_2</th>\n",
              "      <th>s_3</th>\n",
              "      <th>s_4</th>\n",
              "      <th>s_5</th>\n",
              "      <th>s_6</th>\n",
              "      <th>s_7</th>\n",
              "      <th>s_8</th>\n",
              "      <th>s_9</th>\n",
              "      <th>...</th>\n",
              "      <th>s_11</th>\n",
              "      <th>s_12</th>\n",
              "      <th>s_13</th>\n",
              "      <th>s_14</th>\n",
              "      <th>s_15</th>\n",
              "      <th>s_16</th>\n",
              "      <th>s_17</th>\n",
              "      <th>s_18</th>\n",
              "      <th>s_19</th>\n",
              "      <th>s_20</th>\n",
              "    </tr>\n",
              "  </thead>\n",
              "  <tbody>\n",
              "    <tr>\n",
              "      <th>0</th>\n",
              "      <td>518.67</td>\n",
              "      <td>642.59</td>\n",
              "      <td>1592.40</td>\n",
              "      <td>1409.87</td>\n",
              "      <td>14.62</td>\n",
              "      <td>21.58</td>\n",
              "      <td>560.53</td>\n",
              "      <td>2388.22</td>\n",
              "      <td>9085.50</td>\n",
              "      <td>1.31</td>\n",
              "      <td>...</td>\n",
              "      <td>528.05</td>\n",
              "      <td>2388.23</td>\n",
              "      <td>8158.77</td>\n",
              "      <td>8.2966</td>\n",
              "      <td>0.03</td>\n",
              "      <td>393</td>\n",
              "      <td>2388</td>\n",
              "      <td>100.0</td>\n",
              "      <td>39.43</td>\n",
              "      <td>23.5679</td>\n",
              "    </tr>\n",
              "    <tr>\n",
              "      <th>1</th>\n",
              "      <td>518.67</td>\n",
              "      <td>642.56</td>\n",
              "      <td>1587.42</td>\n",
              "      <td>1409.69</td>\n",
              "      <td>14.62</td>\n",
              "      <td>21.61</td>\n",
              "      <td>553.33</td>\n",
              "      <td>2388.18</td>\n",
              "      <td>9050.97</td>\n",
              "      <td>1.30</td>\n",
              "      <td>...</td>\n",
              "      <td>520.90</td>\n",
              "      <td>2388.17</td>\n",
              "      <td>8128.04</td>\n",
              "      <td>8.4514</td>\n",
              "      <td>0.03</td>\n",
              "      <td>392</td>\n",
              "      <td>2388</td>\n",
              "      <td>100.0</td>\n",
              "      <td>38.83</td>\n",
              "      <td>23.2821</td>\n",
              "    </tr>\n",
              "    <tr>\n",
              "      <th>2</th>\n",
              "      <td>518.67</td>\n",
              "      <td>642.75</td>\n",
              "      <td>1591.93</td>\n",
              "      <td>1417.66</td>\n",
              "      <td>14.62</td>\n",
              "      <td>21.60</td>\n",
              "      <td>563.61</td>\n",
              "      <td>2388.31</td>\n",
              "      <td>9091.69</td>\n",
              "      <td>1.31</td>\n",
              "      <td>...</td>\n",
              "      <td>531.36</td>\n",
              "      <td>2388.33</td>\n",
              "      <td>8173.56</td>\n",
              "      <td>8.3057</td>\n",
              "      <td>0.03</td>\n",
              "      <td>395</td>\n",
              "      <td>2388</td>\n",
              "      <td>100.0</td>\n",
              "      <td>39.27</td>\n",
              "      <td>23.6440</td>\n",
              "    </tr>\n",
              "    <tr>\n",
              "      <th>3</th>\n",
              "      <td>518.67</td>\n",
              "      <td>642.28</td>\n",
              "      <td>1584.68</td>\n",
              "      <td>1406.56</td>\n",
              "      <td>14.62</td>\n",
              "      <td>21.61</td>\n",
              "      <td>552.75</td>\n",
              "      <td>2388.07</td>\n",
              "      <td>9048.23</td>\n",
              "      <td>1.30</td>\n",
              "      <td>...</td>\n",
              "      <td>521.27</td>\n",
              "      <td>2388.09</td>\n",
              "      <td>8133.78</td>\n",
              "      <td>8.4337</td>\n",
              "      <td>0.03</td>\n",
              "      <td>392</td>\n",
              "      <td>2388</td>\n",
              "      <td>100.0</td>\n",
              "      <td>38.70</td>\n",
              "      <td>23.3804</td>\n",
              "    </tr>\n",
              "    <tr>\n",
              "      <th>4</th>\n",
              "      <td>518.67</td>\n",
              "      <td>642.15</td>\n",
              "      <td>1580.59</td>\n",
              "      <td>1397.26</td>\n",
              "      <td>14.62</td>\n",
              "      <td>21.58</td>\n",
              "      <td>553.82</td>\n",
              "      <td>2387.96</td>\n",
              "      <td>9050.89</td>\n",
              "      <td>1.30</td>\n",
              "      <td>...</td>\n",
              "      <td>521.74</td>\n",
              "      <td>2387.96</td>\n",
              "      <td>8132.51</td>\n",
              "      <td>8.3900</td>\n",
              "      <td>0.03</td>\n",
              "      <td>390</td>\n",
              "      <td>2388</td>\n",
              "      <td>100.0</td>\n",
              "      <td>38.89</td>\n",
              "      <td>23.4463</td>\n",
              "    </tr>\n",
              "  </tbody>\n",
              "</table>\n",
              "<p>5 rows × 21 columns</p>\n",
              "</div>\n",
              "      <button class=\"colab-df-convert\" onclick=\"convertToInteractive('df-bf8f8ad9-ba9e-4ba8-be4d-6229afa9eaff')\"\n",
              "              title=\"Convert this dataframe to an interactive table.\"\n",
              "              style=\"display:none;\">\n",
              "        \n",
              "  <svg xmlns=\"http://www.w3.org/2000/svg\" height=\"24px\"viewBox=\"0 0 24 24\"\n",
              "       width=\"24px\">\n",
              "    <path d=\"M0 0h24v24H0V0z\" fill=\"none\"/>\n",
              "    <path d=\"M18.56 5.44l.94 2.06.94-2.06 2.06-.94-2.06-.94-.94-2.06-.94 2.06-2.06.94zm-11 1L8.5 8.5l.94-2.06 2.06-.94-2.06-.94L8.5 2.5l-.94 2.06-2.06.94zm10 10l.94 2.06.94-2.06 2.06-.94-2.06-.94-.94-2.06-.94 2.06-2.06.94z\"/><path d=\"M17.41 7.96l-1.37-1.37c-.4-.4-.92-.59-1.43-.59-.52 0-1.04.2-1.43.59L10.3 9.45l-7.72 7.72c-.78.78-.78 2.05 0 2.83L4 21.41c.39.39.9.59 1.41.59.51 0 1.02-.2 1.41-.59l7.78-7.78 2.81-2.81c.8-.78.8-2.07 0-2.86zM5.41 20L4 18.59l7.72-7.72 1.47 1.35L5.41 20z\"/>\n",
              "  </svg>\n",
              "      </button>\n",
              "      \n",
              "  <style>\n",
              "    .colab-df-container {\n",
              "      display:flex;\n",
              "      flex-wrap:wrap;\n",
              "      gap: 12px;\n",
              "    }\n",
              "\n",
              "    .colab-df-convert {\n",
              "      background-color: #E8F0FE;\n",
              "      border: none;\n",
              "      border-radius: 50%;\n",
              "      cursor: pointer;\n",
              "      display: none;\n",
              "      fill: #1967D2;\n",
              "      height: 32px;\n",
              "      padding: 0 0 0 0;\n",
              "      width: 32px;\n",
              "    }\n",
              "\n",
              "    .colab-df-convert:hover {\n",
              "      background-color: #E2EBFA;\n",
              "      box-shadow: 0px 1px 2px rgba(60, 64, 67, 0.3), 0px 1px 3px 1px rgba(60, 64, 67, 0.15);\n",
              "      fill: #174EA6;\n",
              "    }\n",
              "\n",
              "    [theme=dark] .colab-df-convert {\n",
              "      background-color: #3B4455;\n",
              "      fill: #D2E3FC;\n",
              "    }\n",
              "\n",
              "    [theme=dark] .colab-df-convert:hover {\n",
              "      background-color: #434B5C;\n",
              "      box-shadow: 0px 1px 3px 1px rgba(0, 0, 0, 0.15);\n",
              "      filter: drop-shadow(0px 1px 2px rgba(0, 0, 0, 0.3));\n",
              "      fill: #FFFFFF;\n",
              "    }\n",
              "  </style>\n",
              "\n",
              "      <script>\n",
              "        const buttonEl =\n",
              "          document.querySelector('#df-bf8f8ad9-ba9e-4ba8-be4d-6229afa9eaff button.colab-df-convert');\n",
              "        buttonEl.style.display =\n",
              "          google.colab.kernel.accessAllowed ? 'block' : 'none';\n",
              "\n",
              "        async function convertToInteractive(key) {\n",
              "          const element = document.querySelector('#df-bf8f8ad9-ba9e-4ba8-be4d-6229afa9eaff');\n",
              "          const dataTable =\n",
              "            await google.colab.kernel.invokeFunction('convertToInteractive',\n",
              "                                                     [key], {});\n",
              "          if (!dataTable) return;\n",
              "\n",
              "          const docLinkHtml = 'Like what you see? Visit the ' +\n",
              "            '<a target=\"_blank\" href=https://colab.research.google.com/notebooks/data_table.ipynb>data table notebook</a>'\n",
              "            + ' to learn more about interactive tables.';\n",
              "          element.innerHTML = '';\n",
              "          dataTable['output_type'] = 'display_data';\n",
              "          await google.colab.output.renderOutput(dataTable, element);\n",
              "          const docLink = document.createElement('div');\n",
              "          docLink.innerHTML = docLinkHtml;\n",
              "          element.appendChild(docLink);\n",
              "        }\n",
              "      </script>\n",
              "    </div>\n",
              "  </div>\n",
              "  "
            ]
          },
          "metadata": {},
          "execution_count": 9
        }
      ]
    },
    {
      "cell_type": "code",
      "source": [
        "X_test = test_last"
      ],
      "metadata": {
        "id": "ar3xxOQvIbHW"
      },
      "execution_count": 10,
      "outputs": []
    },
    {
      "cell_type": "markdown",
      "source": [
        "### Remaining Useful Life (RUL)"
      ],
      "metadata": {
        "id": "boZqFQNlraCh"
      }
    },
    {
      "cell_type": "code",
      "source": [
        "train = proc.add_remaining_useful_life_linear(train)\n",
        "train[index_cols+['RUL']].head()"
      ],
      "metadata": {
        "colab": {
          "base_uri": "https://localhost:8080/",
          "height": 270
        },
        "id": "lmFKjQaeip1b",
        "outputId": "48eaf223-7809-4a44-fa07-dee7b2c7c414"
      },
      "execution_count": 11,
      "outputs": [
        {
          "output_type": "execute_result",
          "data": {
            "text/plain": [
              "   unit_number  time  RUL\n",
              "0            1     1  258\n",
              "1            1     2  257\n",
              "2            1     3  256\n",
              "3            1     4  255\n",
              "4            1     5  254"
            ],
            "text/html": [
              "\n",
              "  <div id=\"df-4584189c-1027-46e6-9fd9-793063dde11a\">\n",
              "    <div class=\"colab-df-container\">\n",
              "      <div>\n",
              "<style scoped>\n",
              "    .dataframe tbody tr th:only-of-type {\n",
              "        vertical-align: middle;\n",
              "    }\n",
              "\n",
              "    .dataframe tbody tr th {\n",
              "        vertical-align: top;\n",
              "    }\n",
              "\n",
              "    .dataframe thead th {\n",
              "        text-align: right;\n",
              "    }\n",
              "</style>\n",
              "<table border=\"1\" class=\"dataframe\">\n",
              "  <thead>\n",
              "    <tr style=\"text-align: right;\">\n",
              "      <th></th>\n",
              "      <th>unit_number</th>\n",
              "      <th>time</th>\n",
              "      <th>RUL</th>\n",
              "    </tr>\n",
              "  </thead>\n",
              "  <tbody>\n",
              "    <tr>\n",
              "      <th>0</th>\n",
              "      <td>1</td>\n",
              "      <td>1</td>\n",
              "      <td>258</td>\n",
              "    </tr>\n",
              "    <tr>\n",
              "      <th>1</th>\n",
              "      <td>1</td>\n",
              "      <td>2</td>\n",
              "      <td>257</td>\n",
              "    </tr>\n",
              "    <tr>\n",
              "      <th>2</th>\n",
              "      <td>1</td>\n",
              "      <td>3</td>\n",
              "      <td>256</td>\n",
              "    </tr>\n",
              "    <tr>\n",
              "      <th>3</th>\n",
              "      <td>1</td>\n",
              "      <td>4</td>\n",
              "      <td>255</td>\n",
              "    </tr>\n",
              "    <tr>\n",
              "      <th>4</th>\n",
              "      <td>1</td>\n",
              "      <td>5</td>\n",
              "      <td>254</td>\n",
              "    </tr>\n",
              "  </tbody>\n",
              "</table>\n",
              "</div>\n",
              "      <button class=\"colab-df-convert\" onclick=\"convertToInteractive('df-4584189c-1027-46e6-9fd9-793063dde11a')\"\n",
              "              title=\"Convert this dataframe to an interactive table.\"\n",
              "              style=\"display:none;\">\n",
              "        \n",
              "  <svg xmlns=\"http://www.w3.org/2000/svg\" height=\"24px\"viewBox=\"0 0 24 24\"\n",
              "       width=\"24px\">\n",
              "    <path d=\"M0 0h24v24H0V0z\" fill=\"none\"/>\n",
              "    <path d=\"M18.56 5.44l.94 2.06.94-2.06 2.06-.94-2.06-.94-.94-2.06-.94 2.06-2.06.94zm-11 1L8.5 8.5l.94-2.06 2.06-.94-2.06-.94L8.5 2.5l-.94 2.06-2.06.94zm10 10l.94 2.06.94-2.06 2.06-.94-2.06-.94-.94-2.06-.94 2.06-2.06.94z\"/><path d=\"M17.41 7.96l-1.37-1.37c-.4-.4-.92-.59-1.43-.59-.52 0-1.04.2-1.43.59L10.3 9.45l-7.72 7.72c-.78.78-.78 2.05 0 2.83L4 21.41c.39.39.9.59 1.41.59.51 0 1.02-.2 1.41-.59l7.78-7.78 2.81-2.81c.8-.78.8-2.07 0-2.86zM5.41 20L4 18.59l7.72-7.72 1.47 1.35L5.41 20z\"/>\n",
              "  </svg>\n",
              "      </button>\n",
              "      \n",
              "  <style>\n",
              "    .colab-df-container {\n",
              "      display:flex;\n",
              "      flex-wrap:wrap;\n",
              "      gap: 12px;\n",
              "    }\n",
              "\n",
              "    .colab-df-convert {\n",
              "      background-color: #E8F0FE;\n",
              "      border: none;\n",
              "      border-radius: 50%;\n",
              "      cursor: pointer;\n",
              "      display: none;\n",
              "      fill: #1967D2;\n",
              "      height: 32px;\n",
              "      padding: 0 0 0 0;\n",
              "      width: 32px;\n",
              "    }\n",
              "\n",
              "    .colab-df-convert:hover {\n",
              "      background-color: #E2EBFA;\n",
              "      box-shadow: 0px 1px 2px rgba(60, 64, 67, 0.3), 0px 1px 3px 1px rgba(60, 64, 67, 0.15);\n",
              "      fill: #174EA6;\n",
              "    }\n",
              "\n",
              "    [theme=dark] .colab-df-convert {\n",
              "      background-color: #3B4455;\n",
              "      fill: #D2E3FC;\n",
              "    }\n",
              "\n",
              "    [theme=dark] .colab-df-convert:hover {\n",
              "      background-color: #434B5C;\n",
              "      box-shadow: 0px 1px 3px 1px rgba(0, 0, 0, 0.15);\n",
              "      filter: drop-shadow(0px 1px 2px rgba(0, 0, 0, 0.3));\n",
              "      fill: #FFFFFF;\n",
              "    }\n",
              "  </style>\n",
              "\n",
              "      <script>\n",
              "        const buttonEl =\n",
              "          document.querySelector('#df-4584189c-1027-46e6-9fd9-793063dde11a button.colab-df-convert');\n",
              "        buttonEl.style.display =\n",
              "          google.colab.kernel.accessAllowed ? 'block' : 'none';\n",
              "\n",
              "        async function convertToInteractive(key) {\n",
              "          const element = document.querySelector('#df-4584189c-1027-46e6-9fd9-793063dde11a');\n",
              "          const dataTable =\n",
              "            await google.colab.kernel.invokeFunction('convertToInteractive',\n",
              "                                                     [key], {});\n",
              "          if (!dataTable) return;\n",
              "\n",
              "          const docLinkHtml = 'Like what you see? Visit the ' +\n",
              "            '<a target=\"_blank\" href=https://colab.research.google.com/notebooks/data_table.ipynb>data table notebook</a>'\n",
              "            + ' to learn more about interactive tables.';\n",
              "          element.innerHTML = '';\n",
              "          dataTable['output_type'] = 'display_data';\n",
              "          await google.colab.output.renderOutput(dataTable, element);\n",
              "          const docLink = document.createElement('div');\n",
              "          docLink.innerHTML = docLinkHtml;\n",
              "          element.appendChild(docLink);\n",
              "        }\n",
              "      </script>\n",
              "    </div>\n",
              "  </div>\n",
              "  "
            ]
          },
          "metadata": {},
          "execution_count": 11
        }
      ]
    },
    {
      "cell_type": "markdown",
      "source": [
        "## Attributes and target separation"
      ],
      "metadata": {
        "id": "IIXnBTkfxpCf"
      }
    },
    {
      "cell_type": "code",
      "source": [
        "X_train, y_train = proc.X_y_train_divide(train)"
      ],
      "metadata": {
        "id": "4SzUk6ZLxv6H"
      },
      "execution_count": 12,
      "outputs": []
    },
    {
      "cell_type": "code",
      "source": [
        "y_train.head()"
      ],
      "metadata": {
        "colab": {
          "base_uri": "https://localhost:8080/",
          "height": 270
        },
        "id": "fuAnHn4GxzwM",
        "outputId": "875c0d01-a642-41b5-b1e3-616d3664b7e5"
      },
      "execution_count": 13,
      "outputs": [
        {
          "output_type": "execute_result",
          "data": {
            "text/plain": [
              "   RUL\n",
              "0  258\n",
              "1  257\n",
              "2  256\n",
              "3  255\n",
              "4  254"
            ],
            "text/html": [
              "\n",
              "  <div id=\"df-f18fcd8b-a2ba-43df-88a3-80f246174a3d\">\n",
              "    <div class=\"colab-df-container\">\n",
              "      <div>\n",
              "<style scoped>\n",
              "    .dataframe tbody tr th:only-of-type {\n",
              "        vertical-align: middle;\n",
              "    }\n",
              "\n",
              "    .dataframe tbody tr th {\n",
              "        vertical-align: top;\n",
              "    }\n",
              "\n",
              "    .dataframe thead th {\n",
              "        text-align: right;\n",
              "    }\n",
              "</style>\n",
              "<table border=\"1\" class=\"dataframe\">\n",
              "  <thead>\n",
              "    <tr style=\"text-align: right;\">\n",
              "      <th></th>\n",
              "      <th>RUL</th>\n",
              "    </tr>\n",
              "  </thead>\n",
              "  <tbody>\n",
              "    <tr>\n",
              "      <th>0</th>\n",
              "      <td>258</td>\n",
              "    </tr>\n",
              "    <tr>\n",
              "      <th>1</th>\n",
              "      <td>257</td>\n",
              "    </tr>\n",
              "    <tr>\n",
              "      <th>2</th>\n",
              "      <td>256</td>\n",
              "    </tr>\n",
              "    <tr>\n",
              "      <th>3</th>\n",
              "      <td>255</td>\n",
              "    </tr>\n",
              "    <tr>\n",
              "      <th>4</th>\n",
              "      <td>254</td>\n",
              "    </tr>\n",
              "  </tbody>\n",
              "</table>\n",
              "</div>\n",
              "      <button class=\"colab-df-convert\" onclick=\"convertToInteractive('df-f18fcd8b-a2ba-43df-88a3-80f246174a3d')\"\n",
              "              title=\"Convert this dataframe to an interactive table.\"\n",
              "              style=\"display:none;\">\n",
              "        \n",
              "  <svg xmlns=\"http://www.w3.org/2000/svg\" height=\"24px\"viewBox=\"0 0 24 24\"\n",
              "       width=\"24px\">\n",
              "    <path d=\"M0 0h24v24H0V0z\" fill=\"none\"/>\n",
              "    <path d=\"M18.56 5.44l.94 2.06.94-2.06 2.06-.94-2.06-.94-.94-2.06-.94 2.06-2.06.94zm-11 1L8.5 8.5l.94-2.06 2.06-.94-2.06-.94L8.5 2.5l-.94 2.06-2.06.94zm10 10l.94 2.06.94-2.06 2.06-.94-2.06-.94-.94-2.06-.94 2.06-2.06.94z\"/><path d=\"M17.41 7.96l-1.37-1.37c-.4-.4-.92-.59-1.43-.59-.52 0-1.04.2-1.43.59L10.3 9.45l-7.72 7.72c-.78.78-.78 2.05 0 2.83L4 21.41c.39.39.9.59 1.41.59.51 0 1.02-.2 1.41-.59l7.78-7.78 2.81-2.81c.8-.78.8-2.07 0-2.86zM5.41 20L4 18.59l7.72-7.72 1.47 1.35L5.41 20z\"/>\n",
              "  </svg>\n",
              "      </button>\n",
              "      \n",
              "  <style>\n",
              "    .colab-df-container {\n",
              "      display:flex;\n",
              "      flex-wrap:wrap;\n",
              "      gap: 12px;\n",
              "    }\n",
              "\n",
              "    .colab-df-convert {\n",
              "      background-color: #E8F0FE;\n",
              "      border: none;\n",
              "      border-radius: 50%;\n",
              "      cursor: pointer;\n",
              "      display: none;\n",
              "      fill: #1967D2;\n",
              "      height: 32px;\n",
              "      padding: 0 0 0 0;\n",
              "      width: 32px;\n",
              "    }\n",
              "\n",
              "    .colab-df-convert:hover {\n",
              "      background-color: #E2EBFA;\n",
              "      box-shadow: 0px 1px 2px rgba(60, 64, 67, 0.3), 0px 1px 3px 1px rgba(60, 64, 67, 0.15);\n",
              "      fill: #174EA6;\n",
              "    }\n",
              "\n",
              "    [theme=dark] .colab-df-convert {\n",
              "      background-color: #3B4455;\n",
              "      fill: #D2E3FC;\n",
              "    }\n",
              "\n",
              "    [theme=dark] .colab-df-convert:hover {\n",
              "      background-color: #434B5C;\n",
              "      box-shadow: 0px 1px 3px 1px rgba(0, 0, 0, 0.15);\n",
              "      filter: drop-shadow(0px 1px 2px rgba(0, 0, 0, 0.3));\n",
              "      fill: #FFFFFF;\n",
              "    }\n",
              "  </style>\n",
              "\n",
              "      <script>\n",
              "        const buttonEl =\n",
              "          document.querySelector('#df-f18fcd8b-a2ba-43df-88a3-80f246174a3d button.colab-df-convert');\n",
              "        buttonEl.style.display =\n",
              "          google.colab.kernel.accessAllowed ? 'block' : 'none';\n",
              "\n",
              "        async function convertToInteractive(key) {\n",
              "          const element = document.querySelector('#df-f18fcd8b-a2ba-43df-88a3-80f246174a3d');\n",
              "          const dataTable =\n",
              "            await google.colab.kernel.invokeFunction('convertToInteractive',\n",
              "                                                     [key], {});\n",
              "          if (!dataTable) return;\n",
              "\n",
              "          const docLinkHtml = 'Like what you see? Visit the ' +\n",
              "            '<a target=\"_blank\" href=https://colab.research.google.com/notebooks/data_table.ipynb>data table notebook</a>'\n",
              "            + ' to learn more about interactive tables.';\n",
              "          element.innerHTML = '';\n",
              "          dataTable['output_type'] = 'display_data';\n",
              "          await google.colab.output.renderOutput(dataTable, element);\n",
              "          const docLink = document.createElement('div');\n",
              "          docLink.innerHTML = docLinkHtml;\n",
              "          element.appendChild(docLink);\n",
              "        }\n",
              "      </script>\n",
              "    </div>\n",
              "  </div>\n",
              "  "
            ]
          },
          "metadata": {},
          "execution_count": 13
        }
      ]
    },
    {
      "cell_type": "code",
      "source": [
        "X_train.head()"
      ],
      "metadata": {
        "colab": {
          "base_uri": "https://localhost:8080/",
          "height": 300
        },
        "id": "26hK4VWkx1R7",
        "outputId": "7b9376a5-ee28-46c8-c187-d5f1447f3233"
      },
      "execution_count": 14,
      "outputs": [
        {
          "output_type": "execute_result",
          "data": {
            "text/plain": [
              "      s_0     s_1      s_2      s_3    s_4    s_5     s_6      s_7      s_8  \\\n",
              "0  518.67  642.36  1583.23  1396.84  14.62  21.61  553.97  2387.96  9062.17   \n",
              "1  518.67  642.50  1584.69  1396.89  14.62  21.61  554.55  2388.00  9061.78   \n",
              "2  518.67  642.18  1582.35  1405.61  14.62  21.61  554.43  2388.03  9070.23   \n",
              "3  518.67  642.92  1585.61  1392.27  14.62  21.61  555.21  2388.00  9064.57   \n",
              "4  518.67  641.68  1588.63  1397.65  14.62  21.61  554.74  2388.04  9076.14   \n",
              "\n",
              "   s_9  ...    s_11     s_12     s_13    s_14  s_15  s_16  s_17   s_18   s_19  \\\n",
              "0  1.3  ...  522.31  2388.01  8145.32  8.4246  0.03   391  2388  100.0  39.11   \n",
              "1  1.3  ...  522.42  2388.03  8152.85  8.4403  0.03   392  2388  100.0  38.99   \n",
              "2  1.3  ...  522.03  2388.00  8150.17  8.3901  0.03   391  2388  100.0  38.85   \n",
              "3  1.3  ...  522.49  2388.08  8146.56  8.3878  0.03   392  2388  100.0  38.96   \n",
              "4  1.3  ...  522.58  2388.03  8147.80  8.3869  0.03   392  2388  100.0  39.14   \n",
              "\n",
              "      s_20  \n",
              "0  23.3537  \n",
              "1  23.4491  \n",
              "2  23.3669  \n",
              "3  23.2951  \n",
              "4  23.4583  \n",
              "\n",
              "[5 rows x 21 columns]"
            ],
            "text/html": [
              "\n",
              "  <div id=\"df-ed7333bc-8d4c-4895-9628-0ad735ac9715\">\n",
              "    <div class=\"colab-df-container\">\n",
              "      <div>\n",
              "<style scoped>\n",
              "    .dataframe tbody tr th:only-of-type {\n",
              "        vertical-align: middle;\n",
              "    }\n",
              "\n",
              "    .dataframe tbody tr th {\n",
              "        vertical-align: top;\n",
              "    }\n",
              "\n",
              "    .dataframe thead th {\n",
              "        text-align: right;\n",
              "    }\n",
              "</style>\n",
              "<table border=\"1\" class=\"dataframe\">\n",
              "  <thead>\n",
              "    <tr style=\"text-align: right;\">\n",
              "      <th></th>\n",
              "      <th>s_0</th>\n",
              "      <th>s_1</th>\n",
              "      <th>s_2</th>\n",
              "      <th>s_3</th>\n",
              "      <th>s_4</th>\n",
              "      <th>s_5</th>\n",
              "      <th>s_6</th>\n",
              "      <th>s_7</th>\n",
              "      <th>s_8</th>\n",
              "      <th>s_9</th>\n",
              "      <th>...</th>\n",
              "      <th>s_11</th>\n",
              "      <th>s_12</th>\n",
              "      <th>s_13</th>\n",
              "      <th>s_14</th>\n",
              "      <th>s_15</th>\n",
              "      <th>s_16</th>\n",
              "      <th>s_17</th>\n",
              "      <th>s_18</th>\n",
              "      <th>s_19</th>\n",
              "      <th>s_20</th>\n",
              "    </tr>\n",
              "  </thead>\n",
              "  <tbody>\n",
              "    <tr>\n",
              "      <th>0</th>\n",
              "      <td>518.67</td>\n",
              "      <td>642.36</td>\n",
              "      <td>1583.23</td>\n",
              "      <td>1396.84</td>\n",
              "      <td>14.62</td>\n",
              "      <td>21.61</td>\n",
              "      <td>553.97</td>\n",
              "      <td>2387.96</td>\n",
              "      <td>9062.17</td>\n",
              "      <td>1.3</td>\n",
              "      <td>...</td>\n",
              "      <td>522.31</td>\n",
              "      <td>2388.01</td>\n",
              "      <td>8145.32</td>\n",
              "      <td>8.4246</td>\n",
              "      <td>0.03</td>\n",
              "      <td>391</td>\n",
              "      <td>2388</td>\n",
              "      <td>100.0</td>\n",
              "      <td>39.11</td>\n",
              "      <td>23.3537</td>\n",
              "    </tr>\n",
              "    <tr>\n",
              "      <th>1</th>\n",
              "      <td>518.67</td>\n",
              "      <td>642.50</td>\n",
              "      <td>1584.69</td>\n",
              "      <td>1396.89</td>\n",
              "      <td>14.62</td>\n",
              "      <td>21.61</td>\n",
              "      <td>554.55</td>\n",
              "      <td>2388.00</td>\n",
              "      <td>9061.78</td>\n",
              "      <td>1.3</td>\n",
              "      <td>...</td>\n",
              "      <td>522.42</td>\n",
              "      <td>2388.03</td>\n",
              "      <td>8152.85</td>\n",
              "      <td>8.4403</td>\n",
              "      <td>0.03</td>\n",
              "      <td>392</td>\n",
              "      <td>2388</td>\n",
              "      <td>100.0</td>\n",
              "      <td>38.99</td>\n",
              "      <td>23.4491</td>\n",
              "    </tr>\n",
              "    <tr>\n",
              "      <th>2</th>\n",
              "      <td>518.67</td>\n",
              "      <td>642.18</td>\n",
              "      <td>1582.35</td>\n",
              "      <td>1405.61</td>\n",
              "      <td>14.62</td>\n",
              "      <td>21.61</td>\n",
              "      <td>554.43</td>\n",
              "      <td>2388.03</td>\n",
              "      <td>9070.23</td>\n",
              "      <td>1.3</td>\n",
              "      <td>...</td>\n",
              "      <td>522.03</td>\n",
              "      <td>2388.00</td>\n",
              "      <td>8150.17</td>\n",
              "      <td>8.3901</td>\n",
              "      <td>0.03</td>\n",
              "      <td>391</td>\n",
              "      <td>2388</td>\n",
              "      <td>100.0</td>\n",
              "      <td>38.85</td>\n",
              "      <td>23.3669</td>\n",
              "    </tr>\n",
              "    <tr>\n",
              "      <th>3</th>\n",
              "      <td>518.67</td>\n",
              "      <td>642.92</td>\n",
              "      <td>1585.61</td>\n",
              "      <td>1392.27</td>\n",
              "      <td>14.62</td>\n",
              "      <td>21.61</td>\n",
              "      <td>555.21</td>\n",
              "      <td>2388.00</td>\n",
              "      <td>9064.57</td>\n",
              "      <td>1.3</td>\n",
              "      <td>...</td>\n",
              "      <td>522.49</td>\n",
              "      <td>2388.08</td>\n",
              "      <td>8146.56</td>\n",
              "      <td>8.3878</td>\n",
              "      <td>0.03</td>\n",
              "      <td>392</td>\n",
              "      <td>2388</td>\n",
              "      <td>100.0</td>\n",
              "      <td>38.96</td>\n",
              "      <td>23.2951</td>\n",
              "    </tr>\n",
              "    <tr>\n",
              "      <th>4</th>\n",
              "      <td>518.67</td>\n",
              "      <td>641.68</td>\n",
              "      <td>1588.63</td>\n",
              "      <td>1397.65</td>\n",
              "      <td>14.62</td>\n",
              "      <td>21.61</td>\n",
              "      <td>554.74</td>\n",
              "      <td>2388.04</td>\n",
              "      <td>9076.14</td>\n",
              "      <td>1.3</td>\n",
              "      <td>...</td>\n",
              "      <td>522.58</td>\n",
              "      <td>2388.03</td>\n",
              "      <td>8147.80</td>\n",
              "      <td>8.3869</td>\n",
              "      <td>0.03</td>\n",
              "      <td>392</td>\n",
              "      <td>2388</td>\n",
              "      <td>100.0</td>\n",
              "      <td>39.14</td>\n",
              "      <td>23.4583</td>\n",
              "    </tr>\n",
              "  </tbody>\n",
              "</table>\n",
              "<p>5 rows × 21 columns</p>\n",
              "</div>\n",
              "      <button class=\"colab-df-convert\" onclick=\"convertToInteractive('df-ed7333bc-8d4c-4895-9628-0ad735ac9715')\"\n",
              "              title=\"Convert this dataframe to an interactive table.\"\n",
              "              style=\"display:none;\">\n",
              "        \n",
              "  <svg xmlns=\"http://www.w3.org/2000/svg\" height=\"24px\"viewBox=\"0 0 24 24\"\n",
              "       width=\"24px\">\n",
              "    <path d=\"M0 0h24v24H0V0z\" fill=\"none\"/>\n",
              "    <path d=\"M18.56 5.44l.94 2.06.94-2.06 2.06-.94-2.06-.94-.94-2.06-.94 2.06-2.06.94zm-11 1L8.5 8.5l.94-2.06 2.06-.94-2.06-.94L8.5 2.5l-.94 2.06-2.06.94zm10 10l.94 2.06.94-2.06 2.06-.94-2.06-.94-.94-2.06-.94 2.06-2.06.94z\"/><path d=\"M17.41 7.96l-1.37-1.37c-.4-.4-.92-.59-1.43-.59-.52 0-1.04.2-1.43.59L10.3 9.45l-7.72 7.72c-.78.78-.78 2.05 0 2.83L4 21.41c.39.39.9.59 1.41.59.51 0 1.02-.2 1.41-.59l7.78-7.78 2.81-2.81c.8-.78.8-2.07 0-2.86zM5.41 20L4 18.59l7.72-7.72 1.47 1.35L5.41 20z\"/>\n",
              "  </svg>\n",
              "      </button>\n",
              "      \n",
              "  <style>\n",
              "    .colab-df-container {\n",
              "      display:flex;\n",
              "      flex-wrap:wrap;\n",
              "      gap: 12px;\n",
              "    }\n",
              "\n",
              "    .colab-df-convert {\n",
              "      background-color: #E8F0FE;\n",
              "      border: none;\n",
              "      border-radius: 50%;\n",
              "      cursor: pointer;\n",
              "      display: none;\n",
              "      fill: #1967D2;\n",
              "      height: 32px;\n",
              "      padding: 0 0 0 0;\n",
              "      width: 32px;\n",
              "    }\n",
              "\n",
              "    .colab-df-convert:hover {\n",
              "      background-color: #E2EBFA;\n",
              "      box-shadow: 0px 1px 2px rgba(60, 64, 67, 0.3), 0px 1px 3px 1px rgba(60, 64, 67, 0.15);\n",
              "      fill: #174EA6;\n",
              "    }\n",
              "\n",
              "    [theme=dark] .colab-df-convert {\n",
              "      background-color: #3B4455;\n",
              "      fill: #D2E3FC;\n",
              "    }\n",
              "\n",
              "    [theme=dark] .colab-df-convert:hover {\n",
              "      background-color: #434B5C;\n",
              "      box-shadow: 0px 1px 3px 1px rgba(0, 0, 0, 0.15);\n",
              "      filter: drop-shadow(0px 1px 2px rgba(0, 0, 0, 0.3));\n",
              "      fill: #FFFFFF;\n",
              "    }\n",
              "  </style>\n",
              "\n",
              "      <script>\n",
              "        const buttonEl =\n",
              "          document.querySelector('#df-ed7333bc-8d4c-4895-9628-0ad735ac9715 button.colab-df-convert');\n",
              "        buttonEl.style.display =\n",
              "          google.colab.kernel.accessAllowed ? 'block' : 'none';\n",
              "\n",
              "        async function convertToInteractive(key) {\n",
              "          const element = document.querySelector('#df-ed7333bc-8d4c-4895-9628-0ad735ac9715');\n",
              "          const dataTable =\n",
              "            await google.colab.kernel.invokeFunction('convertToInteractive',\n",
              "                                                     [key], {});\n",
              "          if (!dataTable) return;\n",
              "\n",
              "          const docLinkHtml = 'Like what you see? Visit the ' +\n",
              "            '<a target=\"_blank\" href=https://colab.research.google.com/notebooks/data_table.ipynb>data table notebook</a>'\n",
              "            + ' to learn more about interactive tables.';\n",
              "          element.innerHTML = '';\n",
              "          dataTable['output_type'] = 'display_data';\n",
              "          await google.colab.output.renderOutput(dataTable, element);\n",
              "          const docLink = document.createElement('div');\n",
              "          docLink.innerHTML = docLinkHtml;\n",
              "          element.appendChild(docLink);\n",
              "        }\n",
              "      </script>\n",
              "    </div>\n",
              "  </div>\n",
              "  "
            ]
          },
          "metadata": {},
          "execution_count": 14
        }
      ]
    },
    {
      "cell_type": "markdown",
      "source": [
        "## Training and Evaluation functions"
      ],
      "metadata": {
        "id": "fQA-YtFMM81M"
      }
    },
    {
      "cell_type": "code",
      "source": [
        "eval = Evaluation()"
      ],
      "metadata": {
        "id": "u88P6scrNTRu"
      },
      "execution_count": 15,
      "outputs": []
    },
    {
      "cell_type": "code",
      "source": [
        "search = HyperparameterSearch()"
      ],
      "metadata": {
        "id": "OUcS61OqPFhp"
      },
      "execution_count": 16,
      "outputs": []
    },
    {
      "cell_type": "markdown",
      "source": [
        "# DummyRegressor"
      ],
      "metadata": {
        "id": "TlISnMUrQukp"
      }
    },
    {
      "cell_type": "markdown",
      "source": [
        "Just to have a baseline on models. The trained models must have a better performance than a dummy."
      ],
      "metadata": {
        "id": "XO18pqzkRXPH"
      }
    },
    {
      "cell_type": "markdown",
      "source": [
        "## Linear RUL"
      ],
      "metadata": {
        "id": "vD8VjLxFQukr"
      }
    },
    {
      "cell_type": "code",
      "source": [
        "model = Pipeline([\n",
        "    ('dummy_reg'  ,   DummyRegressor())\n",
        "])"
      ],
      "metadata": {
        "id": "6_dcr2R_Qukt"
      },
      "execution_count": 17,
      "outputs": []
    },
    {
      "cell_type": "code",
      "source": [
        "model.fit(X_train, y_train)\n",
        "eval.show_result(y_train, model.predict(X_train))\n",
        "eval.show_result_cv(y_train, X_train, model)"
      ],
      "metadata": {
        "colab": {
          "base_uri": "https://localhost:8080/"
        },
        "outputId": "18196272-daa6-4321-8e74-aa385e2bd3fe",
        "id": "-c4i_f-CQukx"
      },
      "execution_count": 18,
      "outputs": [
        {
          "output_type": "stream",
          "name": "stdout",
          "text": [
            "R2=0.000,RMSE=-98.845\n",
            "(CV) R2=-0.045,RMSE=-98.991\n"
          ]
        }
      ]
    },
    {
      "cell_type": "code",
      "source": [
        "eval.show_result(y_test, model.predict(X_test))"
      ],
      "metadata": {
        "colab": {
          "base_uri": "https://localhost:8080/"
        },
        "outputId": "e8ce3efd-fa60-4ded-ee81-498883b13fef",
        "id": "ZjJh-4eCQuky"
      },
      "execution_count": 19,
      "outputs": [
        {
          "output_type": "stream",
          "name": "stdout",
          "text": [
            "R2=-2.298,RMSE=-75.180\n"
          ]
        }
      ]
    },
    {
      "cell_type": "markdown",
      "source": [
        "## Non-linear RUL"
      ],
      "metadata": {
        "id": "dkmTZckmQukz"
      }
    },
    {
      "cell_type": "code",
      "source": [
        "model = Pipeline([\n",
        "    ('trf_reg' ,TransformedTargetRegressor(\n",
        "        check_inverse=False,\n",
        "        regressor   = DummyRegressor(),\n",
        "        transformer = FunctionTransformer(np.clip, \n",
        "                                          kw_args={'a_min':0,'a_max':90})))\n",
        "    ])"
      ],
      "metadata": {
        "id": "zIexBnVkQuk1"
      },
      "execution_count": 20,
      "outputs": []
    },
    {
      "cell_type": "code",
      "source": [
        "model.fit(X_train, y_train)\n",
        "reclipped_y =  model['trf_reg'].transformer.transform(y_train)\n",
        "eval.show_result(reclipped_y, model.predict(X_train))\n",
        "eval.show_result_cv(reclipped_y, X_train, model)"
      ],
      "metadata": {
        "colab": {
          "base_uri": "https://localhost:8080/"
        },
        "outputId": "0761a6e5-8944-4ef4-e884-f23a919d7860",
        "id": "8OcQOt4XQuk3"
      },
      "execution_count": 21,
      "outputs": [
        {
          "output_type": "stream",
          "name": "stdout",
          "text": [
            "R2=0.000,RMSE=-26.927\n",
            "(CV) R2=-0.006,RMSE=-26.942\n"
          ]
        }
      ]
    },
    {
      "cell_type": "code",
      "source": [
        "reclipped_y =  model['trf_reg'].transformer.transform(y_test)\n",
        "eval.show_result(reclipped_y, model.predict(X_test))"
      ],
      "metadata": {
        "colab": {
          "base_uri": "https://localhost:8080/"
        },
        "outputId": "a8c395ca-78ab-4969-86b3-39b257e539e5",
        "id": "Hsr9uk8UQuk3"
      },
      "execution_count": 22,
      "outputs": [
        {
          "output_type": "stream",
          "name": "stdout",
          "text": [
            "R2=-0.105,RMSE=-30.342\n"
          ]
        }
      ]
    },
    {
      "cell_type": "markdown",
      "source": [
        "## PolyFeatures + Linear RUL"
      ],
      "metadata": {
        "id": "zRYDKbvzQuk4"
      }
    },
    {
      "cell_type": "code",
      "source": [
        "model = Pipeline([\n",
        "    ('poly_ft'  ,   PolynomialFeatures()),\n",
        "    ('tree_reg'  ,   DummyRegressor())\n",
        "])\n",
        "model"
      ],
      "metadata": {
        "colab": {
          "base_uri": "https://localhost:8080/"
        },
        "outputId": "ee5b094f-6f8d-4c09-aef5-87162f4cf952",
        "id": "K2dfQF7UQuk4"
      },
      "execution_count": 23,
      "outputs": [
        {
          "output_type": "execute_result",
          "data": {
            "text/plain": [
              "Pipeline(steps=[('poly_ft', PolynomialFeatures()),\n",
              "                ('tree_reg', DummyRegressor())])"
            ]
          },
          "metadata": {},
          "execution_count": 23
        }
      ]
    },
    {
      "cell_type": "code",
      "source": [
        "model.fit(X_train, y_train)\n",
        "eval.show_result(y_train, model.predict(X_train))\n",
        "eval.show_result_cv(y_train, X_train, model)"
      ],
      "metadata": {
        "colab": {
          "base_uri": "https://localhost:8080/"
        },
        "outputId": "14378277-0ef8-4a9f-a327-91b1af95d825",
        "id": "JbXM3SaOQuk6"
      },
      "execution_count": 24,
      "outputs": [
        {
          "output_type": "stream",
          "name": "stdout",
          "text": [
            "R2=0.000,RMSE=-98.845\n",
            "(CV) R2=-0.045,RMSE=-98.991\n"
          ]
        }
      ]
    },
    {
      "cell_type": "code",
      "source": [
        "eval.show_result(y_test, model.predict(X_test))"
      ],
      "metadata": {
        "colab": {
          "base_uri": "https://localhost:8080/"
        },
        "outputId": "9d93f7a4-bc8b-488e-93dd-daa03f43d4f7",
        "id": "-jwtKY3nQuk6"
      },
      "execution_count": 25,
      "outputs": [
        {
          "output_type": "stream",
          "name": "stdout",
          "text": [
            "R2=-2.298,RMSE=-75.180\n"
          ]
        }
      ]
    },
    {
      "cell_type": "markdown",
      "source": [
        "## PolyFeatures + Non-Linear RUL"
      ],
      "metadata": {
        "id": "T4H5DN97Quk7"
      }
    },
    {
      "cell_type": "code",
      "source": [
        "model = Pipeline([\n",
        "    ('poly_ft'  ,   PolynomialFeatures()),\n",
        "    ('trf_reg' ,TransformedTargetRegressor(\n",
        "        check_inverse=False,\n",
        "        regressor   = DummyRegressor(),\n",
        "        transformer = FunctionTransformer(np.clip, \n",
        "                                          kw_args={'a_min':0,'a_max':90})))\n",
        "])"
      ],
      "metadata": {
        "id": "mzHFpf-sQuk7"
      },
      "execution_count": 26,
      "outputs": []
    },
    {
      "cell_type": "code",
      "source": [
        "model.fit(X_train, y_train)\n",
        "reclipped_y =  model['trf_reg'].transformer.transform(y_train)\n",
        "eval.show_result(reclipped_y, model.predict(X_train))\n",
        "eval.show_result_cv(reclipped_y, X_train, model)"
      ],
      "metadata": {
        "colab": {
          "base_uri": "https://localhost:8080/"
        },
        "outputId": "ee3a12a3-2b02-4670-d928-a67d5b0b5213",
        "id": "8j-d5jrDQuk9"
      },
      "execution_count": 27,
      "outputs": [
        {
          "output_type": "stream",
          "name": "stdout",
          "text": [
            "R2=0.000,RMSE=-26.927\n",
            "(CV) R2=-0.006,RMSE=-26.942\n"
          ]
        }
      ]
    },
    {
      "cell_type": "code",
      "source": [
        "reclipped_y =  model['trf_reg'].transformer.transform(y_test)\n",
        "eval.show_result(reclipped_y, model.predict(X_test))"
      ],
      "metadata": {
        "colab": {
          "base_uri": "https://localhost:8080/"
        },
        "outputId": "54dc5d74-42cf-4cbd-bad1-9db0a871c3f8",
        "id": "S2ovUkL6Quk9"
      },
      "execution_count": 28,
      "outputs": [
        {
          "output_type": "stream",
          "name": "stdout",
          "text": [
            "R2=-0.105,RMSE=-30.342\n"
          ]
        }
      ]
    },
    {
      "cell_type": "markdown",
      "source": [
        "# KNeighborsRegressor"
      ],
      "metadata": {
        "id": "DU8TxguXIChd"
      }
    },
    {
      "cell_type": "markdown",
      "source": [
        "## Linear RUL"
      ],
      "metadata": {
        "id": "r6YQTm7aOf2G"
      }
    },
    {
      "cell_type": "code",
      "source": [
        "model = Pipeline([\n",
        "    ('selection', SelectFromModel(DecisionTreeRegressor())),\n",
        "    ('neigh_reg'  ,   KNeighborsRegressor())\n",
        "])"
      ],
      "metadata": {
        "id": "4PbFjj3G3QUQ"
      },
      "execution_count": null,
      "outputs": []
    },
    {
      "cell_type": "code",
      "source": [
        "GRID_SEARCH = True\n",
        "if (GRID_SEARCH):\n",
        "    param_distributions = {\n",
        "        \"neigh_reg__n_neighbors\": [3,5,15,25,45,55,65,75,85,95],\n",
        "        \"neigh_reg__weights\": [\"uniform\", \"distance\"],\n",
        "        \"neigh_reg__algorithm\": [\"auto\", \"ball_tree\", \"kd_tree\"],\n",
        "        \"neigh_reg__leaf_size\": [20,30,50,100,150],\n",
        "        \"neigh_reg__p\": [2,5,10],\n",
        "        \"neigh_reg__metric\": [\"minkowski\", \"euclidean\", \"manhattan\", \"chebyshev\"],\n",
        "    }\n",
        "    model = search.run_HR_GS(model, X_train, y_train, param_distributions, \n",
        "                            scorer='r2', ignore_warnings=True)\n",
        "    print(model)"
      ],
      "metadata": {
        "colab": {
          "base_uri": "https://localhost:8080/"
        },
        "id": "xfElIPxBI8w3",
        "outputId": "dbbe0490-5c2e-4f2b-9bfc-4d8916ef0249"
      },
      "execution_count": null,
      "outputs": [
        {
          "output_type": "stream",
          "name": "stdout",
          "text": [
            "n_iterations: 4\n",
            "n_required_iterations: 4\n",
            "n_possible_iterations: 4\n",
            "min_resources_: 500\n",
            "max_resources_: 24720\n",
            "aggressive_elimination: False\n",
            "factor: 3\n",
            "----------\n",
            "iter: 0\n",
            "n_candidates: 49\n",
            "n_resources: 500\n",
            "Fitting 5 folds for each of 49 candidates, totalling 245 fits\n",
            "----------\n",
            "iter: 1\n",
            "n_candidates: 17\n",
            "n_resources: 1500\n",
            "Fitting 5 folds for each of 17 candidates, totalling 85 fits\n",
            "----------\n",
            "iter: 2\n",
            "n_candidates: 6\n",
            "n_resources: 4500\n",
            "Fitting 5 folds for each of 6 candidates, totalling 30 fits\n",
            "----------\n",
            "iter: 3\n",
            "n_candidates: 2\n",
            "n_resources: 13500\n",
            "Fitting 5 folds for each of 2 candidates, totalling 10 fits\n",
            "Best params:  {'neigh_reg__weights': 'distance', 'neigh_reg__p': 10, 'neigh_reg__n_neighbors': 55, 'neigh_reg__metric': 'manhattan', 'neigh_reg__leaf_size': 150, 'neigh_reg__algorithm': 'kd_tree'}\n",
            "Pipeline(steps=[('selection',\n",
            "                 SelectFromModel(estimator=DecisionTreeRegressor())),\n",
            "                ('neigh_reg',\n",
            "                 KNeighborsRegressor(algorithm='kd_tree', leaf_size=150,\n",
            "                                     metric='manhattan', n_neighbors=55, p=10,\n",
            "                                     weights='distance'))])\n"
          ]
        }
      ]
    },
    {
      "cell_type": "markdown",
      "source": [
        "Best Model:\n",
        "```\n",
        "KNeighborsRegressor(algorithm='kd_tree', leaf_size=150,\n",
        "                    metric='manhattan', n_neighbors=55, p=10,\n",
        "                    weights='distance')\n",
        "```"
      ],
      "metadata": {
        "id": "bKZoX4i15VzV"
      }
    },
    {
      "cell_type": "code",
      "source": [
        "model = Pipeline([\n",
        "    ('selection', SelectFromModel(DecisionTreeRegressor())),\n",
        "    ('neigh_reg'  ,   KNeighborsRegressor(algorithm='kd_tree', leaf_size=150,\n",
        "                    metric='manhattan', n_neighbors=55, p=10,\n",
        "                    weights='distance'))\n",
        "])\n",
        "model"
      ],
      "metadata": {
        "colab": {
          "base_uri": "https://localhost:8080/"
        },
        "id": "ZECiy0kVMXxg",
        "outputId": "5c00cad0-dbdc-4cc5-e8b3-4ec75f01556f"
      },
      "execution_count": null,
      "outputs": [
        {
          "output_type": "execute_result",
          "data": {
            "text/plain": [
              "Pipeline(steps=[('selection',\n",
              "                 SelectFromModel(estimator=DecisionTreeRegressor())),\n",
              "                ('neigh_reg',\n",
              "                 KNeighborsRegressor(algorithm='kd_tree', leaf_size=150,\n",
              "                                     metric='manhattan', n_neighbors=55, p=10,\n",
              "                                     weights='distance'))])"
            ]
          },
          "metadata": {},
          "execution_count": 31
        }
      ]
    },
    {
      "cell_type": "code",
      "source": [
        "model.fit(X_train, y_train)\n",
        "eval.show_result(y_train, model.predict(X_train))\n",
        "eval.show_result_cv(y_train, X_train, model)"
      ],
      "metadata": {
        "colab": {
          "base_uri": "https://localhost:8080/"
        },
        "id": "vefcPjT2Xb6y",
        "outputId": "3412e662-bb37-4c56-abd1-844404b90bd3"
      },
      "execution_count": null,
      "outputs": [
        {
          "output_type": "stream",
          "name": "stdout",
          "text": [
            "R2=1.000,RMSE=-0.117\n",
            "(CV) R2=0.501,RMSE=-67.826\n"
          ]
        }
      ]
    },
    {
      "cell_type": "code",
      "source": [
        "eval.show_result(y_test, model.predict(X_test))"
      ],
      "metadata": {
        "colab": {
          "base_uri": "https://localhost:8080/"
        },
        "id": "367rdLmjRETX",
        "outputId": "c778bcc8-8cbb-409a-d838-d3ba92896f54"
      },
      "execution_count": null,
      "outputs": [
        {
          "output_type": "stream",
          "name": "stdout",
          "text": [
            "R2=-0.770,RMSE=-55.080\n"
          ]
        }
      ]
    },
    {
      "cell_type": "markdown",
      "source": [
        "It overfitted the training set. Same model from FD001."
      ],
      "metadata": {
        "id": "Www1kqZTMkE1"
      }
    },
    {
      "cell_type": "markdown",
      "source": [
        "## Non-linear RUL"
      ],
      "metadata": {
        "id": "klzYEWjrZiXt"
      }
    },
    {
      "cell_type": "code",
      "source": [
        "model = Pipeline([\n",
        "    ('selection', SelectFromModel(DecisionTreeRegressor())),\n",
        "    ('trf_reg' ,TransformedTargetRegressor(\n",
        "        check_inverse=False,\n",
        "        regressor   = KNeighborsRegressor(),\n",
        "        transformer = FunctionTransformer(np.clip, \n",
        "                                          kw_args={'a_min':0,'a_max':50})))\n",
        "    ])"
      ],
      "metadata": {
        "id": "J42sZdWlFlF5"
      },
      "execution_count": null,
      "outputs": []
    },
    {
      "cell_type": "code",
      "source": [
        "GRID_SEARCH = True\n",
        "if (GRID_SEARCH):\n",
        "    param_distributions = {\n",
        "        \"trf_reg__transformer__kw_args\": search.generate_clip_dicts(80,150,1),\n",
        "        \"trf_reg__regressor__n_neighbors\": [3,5,15,25,45,55,65,75,85,95],\n",
        "        \"trf_reg__regressor__weights\": [\"uniform\", \"distance\"],\n",
        "        \"trf_reg__regressor__algorithm\": [\"auto\", \"ball_tree\", \"kd_tree\"],\n",
        "        \"trf_reg__regressor__leaf_size\": [20,30,50,100,150],\n",
        "        \"trf_reg__regressor__p\": [2,5,10],\n",
        "        \"trf_reg__regressor__metric\": [\"minkowski\", \"euclidean\", \"manhattan\", \"chebyshev\"],\n",
        "    \n",
        "    }\n",
        "    model = search.run_HR_GS(model, X_train, y_train, param_distributions)\n",
        "    print(model)"
      ],
      "metadata": {
        "colab": {
          "base_uri": "https://localhost:8080/"
        },
        "id": "LecVj2kVEJgx",
        "outputId": "c1ec51c5-3a71-4008-ca89-09bed065f556"
      },
      "execution_count": null,
      "outputs": [
        {
          "output_type": "stream",
          "name": "stdout",
          "text": [
            "n_iterations: 4\n",
            "n_required_iterations: 4\n",
            "n_possible_iterations: 4\n",
            "min_resources_: 500\n",
            "max_resources_: 24720\n",
            "aggressive_elimination: False\n",
            "factor: 3\n",
            "----------\n",
            "iter: 0\n",
            "n_candidates: 49\n",
            "n_resources: 500\n",
            "Fitting 5 folds for each of 49 candidates, totalling 245 fits\n",
            "----------\n",
            "iter: 1\n",
            "n_candidates: 17\n",
            "n_resources: 1500\n",
            "Fitting 5 folds for each of 17 candidates, totalling 85 fits\n",
            "----------\n",
            "iter: 2\n",
            "n_candidates: 6\n",
            "n_resources: 4500\n",
            "Fitting 5 folds for each of 6 candidates, totalling 30 fits\n",
            "----------\n",
            "iter: 3\n",
            "n_candidates: 2\n",
            "n_resources: 13500\n",
            "Fitting 5 folds for each of 2 candidates, totalling 10 fits\n",
            "Best params:  {'trf_reg__transformer__kw_args': {'a_min': 0, 'a_max': 103}, 'trf_reg__regressor__weights': 'uniform', 'trf_reg__regressor__p': 5, 'trf_reg__regressor__n_neighbors': 15, 'trf_reg__regressor__metric': 'minkowski', 'trf_reg__regressor__leaf_size': 100, 'trf_reg__regressor__algorithm': 'ball_tree'}\n",
            "Pipeline(steps=[('selection',\n",
            "                 SelectFromModel(estimator=DecisionTreeRegressor())),\n",
            "                ('trf_reg',\n",
            "                 TransformedTargetRegressor(check_inverse=False,\n",
            "                                            regressor=KNeighborsRegressor(algorithm='ball_tree',\n",
            "                                                                          leaf_size=100,\n",
            "                                                                          n_neighbors=15,\n",
            "                                                                          p=5),\n",
            "                                            transformer=FunctionTransformer(func=<function clip at 0x7f8e9da61c20>,\n",
            "                                                                            kw_args={'a_max': 103,\n",
            "                                                                                     'a_min': 0})))])\n"
          ]
        }
      ]
    },
    {
      "cell_type": "markdown",
      "source": [
        "Best Model:\n",
        "\n",
        "```\n",
        "{'trf_reg__transformer__kw_args': {'a_min': 0, 'a_max': 103}}\n",
        "\n",
        "KNeighborsRegressor(algorithm='ball_tree',\n",
        "                    leaf_size=100,\n",
        "                    n_neighbors=15,\n",
        "                    p=5),\n",
        "```\n",
        "\n"
      ],
      "metadata": {
        "id": "941d0KXxMZsB"
      }
    },
    {
      "cell_type": "code",
      "source": [
        "model = Pipeline([\n",
        "    ('selection', SelectFromModel(DecisionTreeRegressor())),\n",
        "    ('trf_reg' ,TransformedTargetRegressor(\n",
        "        check_inverse=False,\n",
        "        regressor   = KNeighborsRegressor(algorithm='ball_tree',\n",
        "                                            leaf_size=100,\n",
        "                                            n_neighbors=15,\n",
        "                                            p=5),\n",
        "        transformer = FunctionTransformer(np.clip, \n",
        "                                          kw_args={'a_min':0,'a_max':103})))\n",
        "    ])\n",
        "model"
      ],
      "metadata": {
        "id": "e0OEtLzeEgOH",
        "colab": {
          "base_uri": "https://localhost:8080/"
        },
        "outputId": "8e76cfa9-b6d0-4db1-9a16-5248b93e8de8"
      },
      "execution_count": 29,
      "outputs": [
        {
          "output_type": "execute_result",
          "data": {
            "text/plain": [
              "Pipeline(steps=[('selection',\n",
              "                 SelectFromModel(estimator=DecisionTreeRegressor())),\n",
              "                ('trf_reg',\n",
              "                 TransformedTargetRegressor(check_inverse=False,\n",
              "                                            regressor=KNeighborsRegressor(algorithm='ball_tree',\n",
              "                                                                          leaf_size=100,\n",
              "                                                                          n_neighbors=15,\n",
              "                                                                          p=5),\n",
              "                                            transformer=FunctionTransformer(func=<function clip at 0x7fa9622cec20>,\n",
              "                                                                            kw_args={'a_max': 103,\n",
              "                                                                                     'a_min': 0})))])"
            ]
          },
          "metadata": {},
          "execution_count": 29
        }
      ]
    },
    {
      "cell_type": "code",
      "source": [
        "model.fit(X_train, y_train)\n",
        "reclipped_y =  model['trf_reg'].transformer.transform(y_train)\n",
        "eval.show_result(reclipped_y, model.predict(X_train))\n",
        "eval.show_result_cv(reclipped_y, X_train, model)"
      ],
      "metadata": {
        "colab": {
          "base_uri": "https://localhost:8080/"
        },
        "outputId": "ab6f82be-6063-46b5-9a9f-abd57dbc0c40",
        "id": "8SVqLYhUF3aY"
      },
      "execution_count": 30,
      "outputs": [
        {
          "output_type": "stream",
          "name": "stdout",
          "text": [
            "R2=0.841,RMSE=-12.762\n",
            "(CV) R2=0.765,RMSE=-15.423\n"
          ]
        }
      ]
    },
    {
      "cell_type": "code",
      "source": [
        "reclipped_y =  model['trf_reg'].transformer.transform(y_test)\n",
        "eval.show_result(reclipped_y, model.predict(X_test))"
      ],
      "metadata": {
        "colab": {
          "base_uri": "https://localhost:8080/"
        },
        "outputId": "da14bdb6-5fe2-4b5b-f99c-3d948617b7f1",
        "id": "JoP9s0laF3aU"
      },
      "execution_count": 31,
      "outputs": [
        {
          "output_type": "stream",
          "name": "stdout",
          "text": [
            "R2=0.761,RMSE=-16.215\n"
          ]
        }
      ]
    },
    {
      "cell_type": "markdown",
      "source": [
        "Didn't overfit at all. Generalized much better."
      ],
      "metadata": {
        "id": "VKSLMt6WOUtr"
      }
    },
    {
      "cell_type": "markdown",
      "source": [
        "## PolyFeatures + Linear RUL"
      ],
      "metadata": {
        "id": "MQi8MHh20wou"
      }
    },
    {
      "cell_type": "code",
      "source": [
        "model = Pipeline([\n",
        "    ('poly_ft'  ,   PolynomialFeatures()),\n",
        "    ('selection', SelectFromModel(DecisionTreeRegressor())),\n",
        "    ('neigh_reg'  ,   KNeighborsRegressor())\n",
        "])\n",
        "model"
      ],
      "metadata": {
        "colab": {
          "base_uri": "https://localhost:8080/"
        },
        "outputId": "eab1f4ec-e032-4179-aec6-9a7eef5f4710",
        "id": "g3KHHSwr0wow"
      },
      "execution_count": null,
      "outputs": [
        {
          "output_type": "execute_result",
          "data": {
            "text/plain": [
              "Pipeline(steps=[('poly_ft', PolynomialFeatures()),\n",
              "                ('selection',\n",
              "                 SelectFromModel(estimator=DecisionTreeRegressor())),\n",
              "                ('neigh_reg', KNeighborsRegressor())])"
            ]
          },
          "metadata": {},
          "execution_count": 39
        }
      ]
    },
    {
      "cell_type": "code",
      "source": [
        "# ~9min\n",
        "GRID_SEARCH = False\n",
        "if (GRID_SEARCH):\n",
        "    param_distributions = {\n",
        "        \"poly_ft__degree\": [1,2,3],\n",
        "        \"poly_ft__interaction_only\": [False, True],\n",
        "        \"poly_ft__include_bias\": [True, False],\n",
        "        \"neigh_reg__n_neighbors\": [3,5,15,25,45,55,65,75,85,95],\n",
        "        \"neigh_reg__weights\": [\"uniform\", \"distance\"],\n",
        "        \"neigh_reg__algorithm\": [\"auto\", \"ball_tree\", \"kd_tree\"],\n",
        "        \"neigh_reg__leaf_size\": [20,30,50,100,150],\n",
        "        \"neigh_reg__p\": [2,5,10],\n",
        "        \"neigh_reg__metric\": [\"minkowski\", \"euclidean\", \"manhattan\", \"chebyshev\"],\n",
        "    }\n",
        "    model = search.run_HR_GS(model, X_train, y_train, \n",
        "                            param_distributions, scorer='r2')\n",
        "    print(model)"
      ],
      "metadata": {
        "id": "datMycLD0wox",
        "colab": {
          "base_uri": "https://localhost:8080/"
        },
        "outputId": "10d43e45-45f2-4e9f-f987-6ecff1e90102"
      },
      "execution_count": null,
      "outputs": [
        {
          "output_type": "stream",
          "name": "stdout",
          "text": [
            "n_iterations: 4\n",
            "n_required_iterations: 4\n",
            "n_possible_iterations: 4\n",
            "min_resources_: 500\n",
            "max_resources_: 24720\n",
            "aggressive_elimination: False\n",
            "factor: 3\n",
            "----------\n",
            "iter: 0\n",
            "n_candidates: 49\n",
            "n_resources: 500\n",
            "Fitting 5 folds for each of 49 candidates, totalling 245 fits\n",
            "----------\n",
            "iter: 1\n",
            "n_candidates: 17\n",
            "n_resources: 1500\n",
            "Fitting 5 folds for each of 17 candidates, totalling 85 fits\n",
            "----------\n",
            "iter: 2\n",
            "n_candidates: 6\n",
            "n_resources: 4500\n",
            "Fitting 5 folds for each of 6 candidates, totalling 30 fits\n",
            "----------\n",
            "iter: 3\n",
            "n_candidates: 2\n",
            "n_resources: 13500\n",
            "Fitting 5 folds for each of 2 candidates, totalling 10 fits\n",
            "Best params:  {'poly_ft__interaction_only': True, 'poly_ft__include_bias': False, 'poly_ft__degree': 2, 'neigh_reg__weights': 'distance', 'neigh_reg__p': 5, 'neigh_reg__n_neighbors': 75, 'neigh_reg__metric': 'manhattan', 'neigh_reg__leaf_size': 100, 'neigh_reg__algorithm': 'auto'}\n",
            "Pipeline(steps=[('poly_ft',\n",
            "                 PolynomialFeatures(include_bias=False, interaction_only=True)),\n",
            "                ('selection',\n",
            "                 SelectFromModel(estimator=DecisionTreeRegressor())),\n",
            "                ('neigh_reg',\n",
            "                 KNeighborsRegressor(leaf_size=100, metric='manhattan',\n",
            "                                     n_neighbors=75, p=5,\n",
            "                                     weights='distance'))])\n"
          ]
        }
      ]
    },
    {
      "cell_type": "markdown",
      "source": [
        "Best Model:\n",
        "```\n",
        "PolynomialFeatures(include_bias=False, interaction_only=True))\n",
        "KNeighborsRegressor(leaf_size=100, metric='manhattan',\n",
        "                    n_neighbors=75, p=5,\n",
        "                    weights='distance'))\n",
        "```\n"
      ],
      "metadata": {
        "id": "ELoCa-ue0woy"
      }
    },
    {
      "cell_type": "code",
      "source": [
        "model = Pipeline([\n",
        "    ('poly_ft' , PolynomialFeatures(include_bias=False, interaction_only=True)),\n",
        "    ('selection', SelectFromModel(DecisionTreeRegressor())),\n",
        "    ('neigh_reg' ,   KNeighborsRegressor(leaf_size=100, metric='manhattan',\n",
        "                                     n_neighbors=75, p=5,\n",
        "                                     weights='distance'))\n",
        "])\n",
        "model"
      ],
      "metadata": {
        "colab": {
          "base_uri": "https://localhost:8080/"
        },
        "outputId": "cc07ae0a-31b8-4ed6-948a-718055bfbe7b",
        "id": "7Lqp1b3N0woz"
      },
      "execution_count": null,
      "outputs": [
        {
          "output_type": "execute_result",
          "data": {
            "text/plain": [
              "Pipeline(steps=[('poly_ft',\n",
              "                 PolynomialFeatures(include_bias=False, interaction_only=True)),\n",
              "                ('selection',\n",
              "                 SelectFromModel(estimator=DecisionTreeRegressor())),\n",
              "                ('neigh_reg',\n",
              "                 KNeighborsRegressor(leaf_size=100, metric='manhattan',\n",
              "                                     n_neighbors=75, p=5,\n",
              "                                     weights='distance'))])"
            ]
          },
          "metadata": {},
          "execution_count": 41
        }
      ]
    },
    {
      "cell_type": "code",
      "source": [
        "# ~5min\n",
        "model.fit(X_train, y_train)\n",
        "eval.show_result(y_train, model.predict(X_train))\n",
        "eval.show_result_cv(y_train, X_train, model)"
      ],
      "metadata": {
        "colab": {
          "base_uri": "https://localhost:8080/"
        },
        "outputId": "c7607b27-d3f3-49a6-9513-c6f4a56aea57",
        "id": "31OBJmT60wo1"
      },
      "execution_count": null,
      "outputs": [
        {
          "output_type": "stream",
          "name": "stdout",
          "text": [
            "R2=1.000,RMSE=-0.000\n",
            "(CV) R2=0.559,RMSE=-64.329\n"
          ]
        }
      ]
    },
    {
      "cell_type": "code",
      "source": [
        "eval.show_result(y_test, model.predict(X_test))"
      ],
      "metadata": {
        "colab": {
          "base_uri": "https://localhost:8080/"
        },
        "outputId": "c40e389b-e555-4cc7-df47-e23c88cad32d",
        "id": "PWLNXSit0wo2"
      },
      "execution_count": null,
      "outputs": [
        {
          "output_type": "stream",
          "name": "stdout",
          "text": [
            "R2=-0.672,RMSE=-53.529\n"
          ]
        }
      ]
    },
    {
      "cell_type": "markdown",
      "source": [
        "It overfitted the data again.. It is the same model of FD001."
      ],
      "metadata": {
        "id": "9WTjNfG70wo3"
      }
    },
    {
      "cell_type": "markdown",
      "source": [
        "## PolyFeatures + Non-Linear RUL"
      ],
      "metadata": {
        "id": "BlwL5EnXQcuy"
      }
    },
    {
      "cell_type": "code",
      "source": [
        "model = Pipeline([\n",
        "    ('poly_ft'  ,   PolynomialFeatures()),\n",
        "    ('selection', SelectFromModel(DecisionTreeRegressor())),\n",
        "    ('trf_reg' ,TransformedTargetRegressor(\n",
        "        check_inverse=False,\n",
        "        regressor   = KNeighborsRegressor(),\n",
        "        transformer = FunctionTransformer(np.clip, \n",
        "                                          kw_args={'a_min':0,'a_max':96})))\n",
        "])"
      ],
      "metadata": {
        "id": "CH-5TST3Qkrr"
      },
      "execution_count": null,
      "outputs": []
    },
    {
      "cell_type": "code",
      "source": [
        "# ~13min\n",
        "GRID_SEARCH = False\n",
        "if (GRID_SEARCH):\n",
        "    param_distributions = {\n",
        "        \"poly_ft__degree\": [1,2,3],\n",
        "        \"poly_ft__interaction_only\": [False, True],\n",
        "        \"poly_ft__include_bias\": [True, False],\n",
        "        \"trf_reg__transformer__kw_args\": search.generate_clip_dicts(70,150,1),\n",
        "        \"trf_reg__regressor__n_neighbors\": [3,5,15,25,45,55,65,75,85,95],\n",
        "        \"trf_reg__regressor__weights\": [\"uniform\", \"distance\"],\n",
        "        \"trf_reg__regressor__algorithm\": [\"auto\", \"ball_tree\", \"kd_tree\"],\n",
        "        \"trf_reg__regressor__leaf_size\": [20,30,50,100,150],\n",
        "        \"trf_reg__regressor__p\": [2,5,10],\n",
        "        \"trf_reg__regressor__metric\": [\"minkowski\", \"euclidean\", \"manhattan\", \"chebyshev\"],\n",
        "    }\n",
        "    model = search.run_HR_GS(model, X_train, y_train, param_distributions)\n",
        "    print(model)"
      ],
      "metadata": {
        "id": "RKz_WrPIyNZZ",
        "colab": {
          "base_uri": "https://localhost:8080/"
        },
        "outputId": "794ca4fb-a69f-4204-dbab-aba52b978754"
      },
      "execution_count": null,
      "outputs": [
        {
          "output_type": "stream",
          "name": "stdout",
          "text": [
            "n_iterations: 4\n",
            "n_required_iterations: 4\n",
            "n_possible_iterations: 4\n",
            "min_resources_: 500\n",
            "max_resources_: 24720\n",
            "aggressive_elimination: False\n",
            "factor: 3\n",
            "----------\n",
            "iter: 0\n",
            "n_candidates: 49\n",
            "n_resources: 500\n",
            "Fitting 5 folds for each of 49 candidates, totalling 245 fits\n",
            "----------\n",
            "iter: 1\n",
            "n_candidates: 17\n",
            "n_resources: 1500\n",
            "Fitting 5 folds for each of 17 candidates, totalling 85 fits\n",
            "----------\n",
            "iter: 2\n",
            "n_candidates: 6\n",
            "n_resources: 4500\n",
            "Fitting 5 folds for each of 6 candidates, totalling 30 fits\n",
            "----------\n",
            "iter: 3\n",
            "n_candidates: 2\n",
            "n_resources: 13500\n",
            "Fitting 5 folds for each of 2 candidates, totalling 10 fits\n",
            "Best params:  {'trf_reg__transformer__kw_args': {'a_min': 0, 'a_max': 77}, 'trf_reg__regressor__weights': 'distance', 'trf_reg__regressor__p': 5, 'trf_reg__regressor__n_neighbors': 15, 'trf_reg__regressor__metric': 'euclidean', 'trf_reg__regressor__leaf_size': 150, 'trf_reg__regressor__algorithm': 'ball_tree', 'poly_ft__interaction_only': False, 'poly_ft__include_bias': False, 'poly_ft__degree': 3}\n",
            "Pipeline(steps=[('poly_ft', PolynomialFeatures(degree=3, include_bias=False)),\n",
            "                ('selection',\n",
            "                 SelectFromModel(estimator=DecisionTreeRegressor())),\n",
            "                ('trf_reg',\n",
            "                 TransformedTargetRegressor(check_inverse=False,\n",
            "                                            regressor=KNeighborsRegressor(algorithm='ball_tree',\n",
            "                                                                          leaf_size=150,\n",
            "                                                                          metric='euclidean',\n",
            "                                                                          n_neighbors=15,\n",
            "                                                                          p=5,\n",
            "                                                                          weights='distance'),\n",
            "                                            transformer=FunctionTransformer(func=<function clip at 0x7f8e9da61c20>,\n",
            "                                                                            kw_args={'a_max': 77,\n",
            "                                                                                     'a_min': 0})))])\n"
          ]
        }
      ]
    },
    {
      "cell_type": "markdown",
      "source": [
        "Best Model:\n",
        "```\n",
        "'trf_reg__transformer__kw_args': {'a_min': 0, 'a_max': 77}\n",
        "PolynomialFeatures(degree=3, include_bias=False)),\n",
        "KNeighborsRegressor(algorithm='ball_tree',\n",
        "                    leaf_size=150,\n",
        "                    metric='euclidean',\n",
        "                    n_neighbors=15,\n",
        "                    p=5,\n",
        "                    weights='distance'),\n",
        "```\n"
      ],
      "metadata": {
        "id": "Vup8Svzqyt6w"
      }
    },
    {
      "cell_type": "code",
      "source": [
        "model = Pipeline([\n",
        "    ('poly_ft', PolynomialFeatures(degree=3, include_bias=False)),\n",
        "    ('selection', SelectFromModel(DecisionTreeRegressor())),\n",
        "    ('trf_reg' ,TransformedTargetRegressor(\n",
        "        check_inverse=False,\n",
        "        regressor   = KNeighborsRegressor(algorithm='ball_tree',\n",
        "                                            leaf_size=150,\n",
        "                                            metric='euclidean',\n",
        "                                            n_neighbors=15,\n",
        "                                            p=5,\n",
        "                                            weights='distance'),\n",
        "        transformer = FunctionTransformer(np.clip, \n",
        "                                          kw_args={'a_min':0,'a_max':77})))\n",
        "])\n",
        "model"
      ],
      "metadata": {
        "colab": {
          "base_uri": "https://localhost:8080/"
        },
        "id": "aLC6mfh4y7vG",
        "outputId": "5c72b201-a15a-485b-e0d5-d606ac3e5240"
      },
      "execution_count": 32,
      "outputs": [
        {
          "output_type": "execute_result",
          "data": {
            "text/plain": [
              "Pipeline(steps=[('poly_ft', PolynomialFeatures(degree=3, include_bias=False)),\n",
              "                ('selection',\n",
              "                 SelectFromModel(estimator=DecisionTreeRegressor())),\n",
              "                ('trf_reg',\n",
              "                 TransformedTargetRegressor(check_inverse=False,\n",
              "                                            regressor=KNeighborsRegressor(algorithm='ball_tree',\n",
              "                                                                          leaf_size=150,\n",
              "                                                                          metric='euclidean',\n",
              "                                                                          n_neighbors=15,\n",
              "                                                                          p=5,\n",
              "                                                                          weights='distance'),\n",
              "                                            transformer=FunctionTransformer(func=<function clip at 0x7fa9622cec20>,\n",
              "                                                                            kw_args={'a_max': 77,\n",
              "                                                                                     'a_min': 0})))])"
            ]
          },
          "metadata": {},
          "execution_count": 32
        }
      ]
    },
    {
      "cell_type": "code",
      "source": [
        "# ~15min\n",
        "model.fit(X_train, y_train)\n",
        "reclipped_y =  model['trf_reg'].transformer.transform(y_train)\n",
        "eval.show_result(reclipped_y, model.predict(X_train))\n",
        "eval.show_result_cv(reclipped_y, X_train, model)"
      ],
      "metadata": {
        "colab": {
          "base_uri": "https://localhost:8080/"
        },
        "outputId": "c3f2a574-a471-4225-9fe7-a3869b6e91ef",
        "id": "kgQSMjnVy7vJ"
      },
      "execution_count": 33,
      "outputs": [
        {
          "output_type": "stream",
          "name": "stdout",
          "text": [
            "R2=1.000,RMSE=-0.000\n",
            "(CV) R2=0.836,RMSE=-8.792\n"
          ]
        }
      ]
    },
    {
      "cell_type": "code",
      "source": [
        "reclipped_y =  model['trf_reg'].transformer.transform(y_test)\n",
        "eval.show_result(reclipped_y, model.predict(X_test))"
      ],
      "metadata": {
        "colab": {
          "base_uri": "https://localhost:8080/"
        },
        "outputId": "3aa4292f-a67a-4bd8-e3b4-40a496dd835e",
        "id": "_WsTCV9qy7vJ"
      },
      "execution_count": 34,
      "outputs": [
        {
          "output_type": "stream",
          "name": "stdout",
          "text": [
            "R2=0.780,RMSE=-11.266\n"
          ]
        }
      ]
    },
    {
      "cell_type": "markdown",
      "source": [
        "Using the polynominal features actually improved the perfomance a little bit, when comparing with not using them and the non-linear RUL"
      ],
      "metadata": {
        "id": "wIzjL0VJ0hfH"
      }
    }
  ]
}