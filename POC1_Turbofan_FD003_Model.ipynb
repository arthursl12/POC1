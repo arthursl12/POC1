{
  "nbformat": 4,
  "nbformat_minor": 0,
  "metadata": {
    "colab": {
      "name": "POC1_Turbofan_FD003_Model.ipynb",
      "provenance": [],
      "toc_visible": true,
      "authorship_tag": "ABX9TyNrg/VwSg+kMWJfJxRvTL6o",
      "include_colab_link": true
    },
    "kernelspec": {
      "name": "python3",
      "display_name": "Python 3"
    },
    "language_info": {
      "name": "python"
    }
  },
  "cells": [
    {
      "cell_type": "markdown",
      "metadata": {
        "id": "view-in-github",
        "colab_type": "text"
      },
      "source": [
        "<a href=\"https://colab.research.google.com/github/arthursl12/POC1/blob/main/POC1_Turbofan_FD003_Model.ipynb\" target=\"_parent\"><img src=\"https://colab.research.google.com/assets/colab-badge.svg\" alt=\"Open In Colab\"/></a>"
      ]
    },
    {
      "cell_type": "markdown",
      "metadata": {
        "id": "iqDPLB2EDXSK"
      },
      "source": [
        "# Imports"
      ]
    },
    {
      "cell_type": "code",
      "execution_count": 1,
      "metadata": {
        "id": "i0Z0Zs7YcgTp"
      },
      "outputs": [],
      "source": [
        "import os\n",
        "import pandas as pd\n",
        "import matplotlib.pyplot as plt\n",
        "import seaborn as sns\n",
        "import numpy as np\n",
        "import glob"
      ]
    },
    {
      "cell_type": "code",
      "execution_count": 2,
      "metadata": {
        "id": "JKha6nBN1sGO"
      },
      "outputs": [],
      "source": [
        "from sklearn.linear_model import LinearRegression\n",
        "from sklearn.linear_model import SGDRegressor\n",
        "from sklearn.svm import LinearSVR\n",
        "\n",
        "from sklearn.pipeline import Pipeline\n",
        "from sklearn.compose import TransformedTargetRegressor\n",
        "from sklearn.exceptions import ConvergenceWarning\n",
        "\n",
        "from sklearn.feature_selection import SelectFromModel\n",
        "from sklearn.tree import DecisionTreeRegressor\n",
        "\n",
        "from sklearn.preprocessing import FunctionTransformer\n",
        "from sklearn.preprocessing import PolynomialFeatures\n",
        "from sklearn.preprocessing import StandardScaler\n",
        "from sklearn.preprocessing import MinMaxScaler"
      ]
    },
    {
      "cell_type": "code",
      "execution_count": 3,
      "metadata": {
        "id": "yIpSdBdJ-uWd"
      },
      "outputs": [],
      "source": [
        "sns.set_palette('colorblind')"
      ]
    },
    {
      "cell_type": "markdown",
      "metadata": {
        "id": "AU6ipeRozJz-"
      },
      "source": [
        "# Data Preparation"
      ]
    },
    {
      "cell_type": "code",
      "execution_count": 4,
      "metadata": {
        "colab": {
          "base_uri": "https://localhost:8080/"
        },
        "id": "-EPYBkqeECE9",
        "outputId": "0b47ddc2-f889-4bb0-efd4-7e30058d7448"
      },
      "outputs": [
        {
          "output_type": "execute_result",
          "data": {
            "text/plain": [
              "0"
            ]
          },
          "metadata": {},
          "execution_count": 4
        }
      ],
      "source": [
        "# Dataset Download \n",
        "os.system('git clone https://github.com/arthursl12/dataset_2')\n",
        "os.system('mv /content/dataset_2/CMaps /content/CMaps')\n",
        "os.system('mv /content/dataset_2/data_processing /content/data_processing')\n",
        "os.system('rm -rf dataset_2')"
      ]
    },
    {
      "cell_type": "code",
      "execution_count": 5,
      "metadata": {
        "id": "FUQ5tHe4Eu7z"
      },
      "outputs": [],
      "source": [
        "from data_processing.processing import DatasetProcessing\n",
        "from data_processing.training import HyperparameterSearch, reclipper_scorer\n",
        "from data_processing.eval import Evaluation"
      ]
    },
    {
      "cell_type": "code",
      "execution_count": 6,
      "metadata": {
        "id": "g1BmyudxzUz-"
      },
      "outputs": [],
      "source": [
        "proc = DatasetProcessing()"
      ]
    },
    {
      "cell_type": "markdown",
      "metadata": {
        "id": "Q4QwyfhXs_hv"
      },
      "source": [
        "## Data Integration"
      ]
    },
    {
      "cell_type": "markdown",
      "metadata": {
        "id": "PQe-SyeYc6Gf"
      },
      "source": [
        "The data are provided as a zip-compressed text file with 26 columns of numbers, separated by spaces. Each row is a snapshot of data taken during a single operational cycle, each column is a different variable. The columns correspond to:  \n",
        "\n",
        "1) unit number   \n",
        "2) time, in cycles  \n",
        "3) operational setting 1  \n",
        "4) operational setting 2  \n",
        "5) operational setting 3    \n",
        "6) sensor measurement 1    \n",
        "7) sensor measurement 2  \n",
        "...  \n",
        "26) sensor measurement 20\n",
        "\n",
        "\n",
        "There are 6 conditions (or combinations) which the 3 operational settings can take.  \n",
        "Condition 1: Altitude = 0, Mach Number = 0, TRA = 100  \n",
        "Condition 2: Altitude = 10, Mach Number = 0.25, TRA = 100  \n",
        "Condition 3: Altitude = 20, Mach Number = 0.7 TRA = 100  \n",
        "Condition 4: Altitude = 25, Mach Number = 0.62, TRA = 60  \n",
        "Condition 5: Altitude = 35 Mach Number = 0.84, TRA = 100  \n",
        "Condition 6: Altitude = 42, Mach Number = 0.84, TRA = 100  \n",
        "  \n",
        "There is slight variation in all these conditions so you may get numbers like 24.453 instead of 25 exactly.\n",
        "\n",
        "FD001: Condition 1 only  \n",
        "FD002: Mix of all the conditions  \n",
        "FD003: Condition 1 only  \n",
        "FD004: Mix of all conditions  \n"
      ]
    },
    {
      "cell_type": "code",
      "execution_count": 7,
      "metadata": {
        "colab": {
          "base_uri": "https://localhost:8080/",
          "height": 488
        },
        "id": "-yRYxz2hh4xE",
        "outputId": "10daa8e8-8fa9-48a0-dad4-8ad57604716e"
      },
      "outputs": [
        {
          "output_type": "execute_result",
          "data": {
            "text/plain": [
              "       unit_number  time    op_1    op_2   op_3     s_0     s_1      s_2  \\\n",
              "0                1     1 -0.0005  0.0004  100.0  518.67  642.36  1583.23   \n",
              "1                1     2  0.0008 -0.0003  100.0  518.67  642.50  1584.69   \n",
              "2                1     3 -0.0014 -0.0002  100.0  518.67  642.18  1582.35   \n",
              "3                1     4 -0.0020  0.0001  100.0  518.67  642.92  1585.61   \n",
              "4                1     5  0.0016  0.0000  100.0  518.67  641.68  1588.63   \n",
              "...            ...   ...     ...     ...    ...     ...     ...      ...   \n",
              "24715          100   148 -0.0016 -0.0003  100.0  518.67  643.78  1596.01   \n",
              "24716          100   149  0.0034 -0.0003  100.0  518.67  643.29  1596.38   \n",
              "24717          100   150 -0.0016  0.0004  100.0  518.67  643.84  1604.53   \n",
              "24718          100   151 -0.0023  0.0004  100.0  518.67  643.94  1597.56   \n",
              "24719          100   152  0.0000  0.0003  100.0  518.67  643.64  1599.04   \n",
              "\n",
              "           s_3    s_4  ...    s_11     s_12     s_13    s_14  s_15  s_16  \\\n",
              "0      1396.84  14.62  ...  522.31  2388.01  8145.32  8.4246  0.03   391   \n",
              "1      1396.89  14.62  ...  522.42  2388.03  8152.85  8.4403  0.03   392   \n",
              "2      1405.61  14.62  ...  522.03  2388.00  8150.17  8.3901  0.03   391   \n",
              "3      1392.27  14.62  ...  522.49  2388.08  8146.56  8.3878  0.03   392   \n",
              "4      1397.65  14.62  ...  522.58  2388.03  8147.80  8.3869  0.03   392   \n",
              "...        ...    ...  ...     ...      ...      ...     ...   ...   ...   \n",
              "24715  1424.11  14.62  ...  519.66  2388.30  8138.08  8.5036  0.03   394   \n",
              "24716  1429.14  14.62  ...  519.91  2388.28  8144.36  8.5174  0.03   395   \n",
              "24717  1431.41  14.62  ...  519.44  2388.24  8135.95  8.5223  0.03   396   \n",
              "24718  1426.57  14.62  ...  520.01  2388.26  8141.24  8.5148  0.03   395   \n",
              "24719  1436.06  14.62  ...  519.48  2388.24  8136.98  8.5150  0.03   396   \n",
              "\n",
              "       s_17   s_18   s_19     s_20  \n",
              "0      2388  100.0  39.11  23.3537  \n",
              "1      2388  100.0  38.99  23.4491  \n",
              "2      2388  100.0  38.85  23.3669  \n",
              "3      2388  100.0  38.96  23.2951  \n",
              "4      2388  100.0  39.14  23.4583  \n",
              "...     ...    ...    ...      ...  \n",
              "24715  2388  100.0  38.44  22.9631  \n",
              "24716  2388  100.0  38.50  22.9746  \n",
              "24717  2388  100.0  38.39  23.0682  \n",
              "24718  2388  100.0  38.31  23.0753  \n",
              "24719  2388  100.0  38.56  23.0847  \n",
              "\n",
              "[24720 rows x 26 columns]"
            ],
            "text/html": [
              "\n",
              "  <div id=\"df-c023a733-b8dc-4248-8c03-736a32c1d07a\">\n",
              "    <div class=\"colab-df-container\">\n",
              "      <div>\n",
              "<style scoped>\n",
              "    .dataframe tbody tr th:only-of-type {\n",
              "        vertical-align: middle;\n",
              "    }\n",
              "\n",
              "    .dataframe tbody tr th {\n",
              "        vertical-align: top;\n",
              "    }\n",
              "\n",
              "    .dataframe thead th {\n",
              "        text-align: right;\n",
              "    }\n",
              "</style>\n",
              "<table border=\"1\" class=\"dataframe\">\n",
              "  <thead>\n",
              "    <tr style=\"text-align: right;\">\n",
              "      <th></th>\n",
              "      <th>unit_number</th>\n",
              "      <th>time</th>\n",
              "      <th>op_1</th>\n",
              "      <th>op_2</th>\n",
              "      <th>op_3</th>\n",
              "      <th>s_0</th>\n",
              "      <th>s_1</th>\n",
              "      <th>s_2</th>\n",
              "      <th>s_3</th>\n",
              "      <th>s_4</th>\n",
              "      <th>...</th>\n",
              "      <th>s_11</th>\n",
              "      <th>s_12</th>\n",
              "      <th>s_13</th>\n",
              "      <th>s_14</th>\n",
              "      <th>s_15</th>\n",
              "      <th>s_16</th>\n",
              "      <th>s_17</th>\n",
              "      <th>s_18</th>\n",
              "      <th>s_19</th>\n",
              "      <th>s_20</th>\n",
              "    </tr>\n",
              "  </thead>\n",
              "  <tbody>\n",
              "    <tr>\n",
              "      <th>0</th>\n",
              "      <td>1</td>\n",
              "      <td>1</td>\n",
              "      <td>-0.0005</td>\n",
              "      <td>0.0004</td>\n",
              "      <td>100.0</td>\n",
              "      <td>518.67</td>\n",
              "      <td>642.36</td>\n",
              "      <td>1583.23</td>\n",
              "      <td>1396.84</td>\n",
              "      <td>14.62</td>\n",
              "      <td>...</td>\n",
              "      <td>522.31</td>\n",
              "      <td>2388.01</td>\n",
              "      <td>8145.32</td>\n",
              "      <td>8.4246</td>\n",
              "      <td>0.03</td>\n",
              "      <td>391</td>\n",
              "      <td>2388</td>\n",
              "      <td>100.0</td>\n",
              "      <td>39.11</td>\n",
              "      <td>23.3537</td>\n",
              "    </tr>\n",
              "    <tr>\n",
              "      <th>1</th>\n",
              "      <td>1</td>\n",
              "      <td>2</td>\n",
              "      <td>0.0008</td>\n",
              "      <td>-0.0003</td>\n",
              "      <td>100.0</td>\n",
              "      <td>518.67</td>\n",
              "      <td>642.50</td>\n",
              "      <td>1584.69</td>\n",
              "      <td>1396.89</td>\n",
              "      <td>14.62</td>\n",
              "      <td>...</td>\n",
              "      <td>522.42</td>\n",
              "      <td>2388.03</td>\n",
              "      <td>8152.85</td>\n",
              "      <td>8.4403</td>\n",
              "      <td>0.03</td>\n",
              "      <td>392</td>\n",
              "      <td>2388</td>\n",
              "      <td>100.0</td>\n",
              "      <td>38.99</td>\n",
              "      <td>23.4491</td>\n",
              "    </tr>\n",
              "    <tr>\n",
              "      <th>2</th>\n",
              "      <td>1</td>\n",
              "      <td>3</td>\n",
              "      <td>-0.0014</td>\n",
              "      <td>-0.0002</td>\n",
              "      <td>100.0</td>\n",
              "      <td>518.67</td>\n",
              "      <td>642.18</td>\n",
              "      <td>1582.35</td>\n",
              "      <td>1405.61</td>\n",
              "      <td>14.62</td>\n",
              "      <td>...</td>\n",
              "      <td>522.03</td>\n",
              "      <td>2388.00</td>\n",
              "      <td>8150.17</td>\n",
              "      <td>8.3901</td>\n",
              "      <td>0.03</td>\n",
              "      <td>391</td>\n",
              "      <td>2388</td>\n",
              "      <td>100.0</td>\n",
              "      <td>38.85</td>\n",
              "      <td>23.3669</td>\n",
              "    </tr>\n",
              "    <tr>\n",
              "      <th>3</th>\n",
              "      <td>1</td>\n",
              "      <td>4</td>\n",
              "      <td>-0.0020</td>\n",
              "      <td>0.0001</td>\n",
              "      <td>100.0</td>\n",
              "      <td>518.67</td>\n",
              "      <td>642.92</td>\n",
              "      <td>1585.61</td>\n",
              "      <td>1392.27</td>\n",
              "      <td>14.62</td>\n",
              "      <td>...</td>\n",
              "      <td>522.49</td>\n",
              "      <td>2388.08</td>\n",
              "      <td>8146.56</td>\n",
              "      <td>8.3878</td>\n",
              "      <td>0.03</td>\n",
              "      <td>392</td>\n",
              "      <td>2388</td>\n",
              "      <td>100.0</td>\n",
              "      <td>38.96</td>\n",
              "      <td>23.2951</td>\n",
              "    </tr>\n",
              "    <tr>\n",
              "      <th>4</th>\n",
              "      <td>1</td>\n",
              "      <td>5</td>\n",
              "      <td>0.0016</td>\n",
              "      <td>0.0000</td>\n",
              "      <td>100.0</td>\n",
              "      <td>518.67</td>\n",
              "      <td>641.68</td>\n",
              "      <td>1588.63</td>\n",
              "      <td>1397.65</td>\n",
              "      <td>14.62</td>\n",
              "      <td>...</td>\n",
              "      <td>522.58</td>\n",
              "      <td>2388.03</td>\n",
              "      <td>8147.80</td>\n",
              "      <td>8.3869</td>\n",
              "      <td>0.03</td>\n",
              "      <td>392</td>\n",
              "      <td>2388</td>\n",
              "      <td>100.0</td>\n",
              "      <td>39.14</td>\n",
              "      <td>23.4583</td>\n",
              "    </tr>\n",
              "    <tr>\n",
              "      <th>...</th>\n",
              "      <td>...</td>\n",
              "      <td>...</td>\n",
              "      <td>...</td>\n",
              "      <td>...</td>\n",
              "      <td>...</td>\n",
              "      <td>...</td>\n",
              "      <td>...</td>\n",
              "      <td>...</td>\n",
              "      <td>...</td>\n",
              "      <td>...</td>\n",
              "      <td>...</td>\n",
              "      <td>...</td>\n",
              "      <td>...</td>\n",
              "      <td>...</td>\n",
              "      <td>...</td>\n",
              "      <td>...</td>\n",
              "      <td>...</td>\n",
              "      <td>...</td>\n",
              "      <td>...</td>\n",
              "      <td>...</td>\n",
              "      <td>...</td>\n",
              "    </tr>\n",
              "    <tr>\n",
              "      <th>24715</th>\n",
              "      <td>100</td>\n",
              "      <td>148</td>\n",
              "      <td>-0.0016</td>\n",
              "      <td>-0.0003</td>\n",
              "      <td>100.0</td>\n",
              "      <td>518.67</td>\n",
              "      <td>643.78</td>\n",
              "      <td>1596.01</td>\n",
              "      <td>1424.11</td>\n",
              "      <td>14.62</td>\n",
              "      <td>...</td>\n",
              "      <td>519.66</td>\n",
              "      <td>2388.30</td>\n",
              "      <td>8138.08</td>\n",
              "      <td>8.5036</td>\n",
              "      <td>0.03</td>\n",
              "      <td>394</td>\n",
              "      <td>2388</td>\n",
              "      <td>100.0</td>\n",
              "      <td>38.44</td>\n",
              "      <td>22.9631</td>\n",
              "    </tr>\n",
              "    <tr>\n",
              "      <th>24716</th>\n",
              "      <td>100</td>\n",
              "      <td>149</td>\n",
              "      <td>0.0034</td>\n",
              "      <td>-0.0003</td>\n",
              "      <td>100.0</td>\n",
              "      <td>518.67</td>\n",
              "      <td>643.29</td>\n",
              "      <td>1596.38</td>\n",
              "      <td>1429.14</td>\n",
              "      <td>14.62</td>\n",
              "      <td>...</td>\n",
              "      <td>519.91</td>\n",
              "      <td>2388.28</td>\n",
              "      <td>8144.36</td>\n",
              "      <td>8.5174</td>\n",
              "      <td>0.03</td>\n",
              "      <td>395</td>\n",
              "      <td>2388</td>\n",
              "      <td>100.0</td>\n",
              "      <td>38.50</td>\n",
              "      <td>22.9746</td>\n",
              "    </tr>\n",
              "    <tr>\n",
              "      <th>24717</th>\n",
              "      <td>100</td>\n",
              "      <td>150</td>\n",
              "      <td>-0.0016</td>\n",
              "      <td>0.0004</td>\n",
              "      <td>100.0</td>\n",
              "      <td>518.67</td>\n",
              "      <td>643.84</td>\n",
              "      <td>1604.53</td>\n",
              "      <td>1431.41</td>\n",
              "      <td>14.62</td>\n",
              "      <td>...</td>\n",
              "      <td>519.44</td>\n",
              "      <td>2388.24</td>\n",
              "      <td>8135.95</td>\n",
              "      <td>8.5223</td>\n",
              "      <td>0.03</td>\n",
              "      <td>396</td>\n",
              "      <td>2388</td>\n",
              "      <td>100.0</td>\n",
              "      <td>38.39</td>\n",
              "      <td>23.0682</td>\n",
              "    </tr>\n",
              "    <tr>\n",
              "      <th>24718</th>\n",
              "      <td>100</td>\n",
              "      <td>151</td>\n",
              "      <td>-0.0023</td>\n",
              "      <td>0.0004</td>\n",
              "      <td>100.0</td>\n",
              "      <td>518.67</td>\n",
              "      <td>643.94</td>\n",
              "      <td>1597.56</td>\n",
              "      <td>1426.57</td>\n",
              "      <td>14.62</td>\n",
              "      <td>...</td>\n",
              "      <td>520.01</td>\n",
              "      <td>2388.26</td>\n",
              "      <td>8141.24</td>\n",
              "      <td>8.5148</td>\n",
              "      <td>0.03</td>\n",
              "      <td>395</td>\n",
              "      <td>2388</td>\n",
              "      <td>100.0</td>\n",
              "      <td>38.31</td>\n",
              "      <td>23.0753</td>\n",
              "    </tr>\n",
              "    <tr>\n",
              "      <th>24719</th>\n",
              "      <td>100</td>\n",
              "      <td>152</td>\n",
              "      <td>0.0000</td>\n",
              "      <td>0.0003</td>\n",
              "      <td>100.0</td>\n",
              "      <td>518.67</td>\n",
              "      <td>643.64</td>\n",
              "      <td>1599.04</td>\n",
              "      <td>1436.06</td>\n",
              "      <td>14.62</td>\n",
              "      <td>...</td>\n",
              "      <td>519.48</td>\n",
              "      <td>2388.24</td>\n",
              "      <td>8136.98</td>\n",
              "      <td>8.5150</td>\n",
              "      <td>0.03</td>\n",
              "      <td>396</td>\n",
              "      <td>2388</td>\n",
              "      <td>100.0</td>\n",
              "      <td>38.56</td>\n",
              "      <td>23.0847</td>\n",
              "    </tr>\n",
              "  </tbody>\n",
              "</table>\n",
              "<p>24720 rows × 26 columns</p>\n",
              "</div>\n",
              "      <button class=\"colab-df-convert\" onclick=\"convertToInteractive('df-c023a733-b8dc-4248-8c03-736a32c1d07a')\"\n",
              "              title=\"Convert this dataframe to an interactive table.\"\n",
              "              style=\"display:none;\">\n",
              "        \n",
              "  <svg xmlns=\"http://www.w3.org/2000/svg\" height=\"24px\"viewBox=\"0 0 24 24\"\n",
              "       width=\"24px\">\n",
              "    <path d=\"M0 0h24v24H0V0z\" fill=\"none\"/>\n",
              "    <path d=\"M18.56 5.44l.94 2.06.94-2.06 2.06-.94-2.06-.94-.94-2.06-.94 2.06-2.06.94zm-11 1L8.5 8.5l.94-2.06 2.06-.94-2.06-.94L8.5 2.5l-.94 2.06-2.06.94zm10 10l.94 2.06.94-2.06 2.06-.94-2.06-.94-.94-2.06-.94 2.06-2.06.94z\"/><path d=\"M17.41 7.96l-1.37-1.37c-.4-.4-.92-.59-1.43-.59-.52 0-1.04.2-1.43.59L10.3 9.45l-7.72 7.72c-.78.78-.78 2.05 0 2.83L4 21.41c.39.39.9.59 1.41.59.51 0 1.02-.2 1.41-.59l7.78-7.78 2.81-2.81c.8-.78.8-2.07 0-2.86zM5.41 20L4 18.59l7.72-7.72 1.47 1.35L5.41 20z\"/>\n",
              "  </svg>\n",
              "      </button>\n",
              "      \n",
              "  <style>\n",
              "    .colab-df-container {\n",
              "      display:flex;\n",
              "      flex-wrap:wrap;\n",
              "      gap: 12px;\n",
              "    }\n",
              "\n",
              "    .colab-df-convert {\n",
              "      background-color: #E8F0FE;\n",
              "      border: none;\n",
              "      border-radius: 50%;\n",
              "      cursor: pointer;\n",
              "      display: none;\n",
              "      fill: #1967D2;\n",
              "      height: 32px;\n",
              "      padding: 0 0 0 0;\n",
              "      width: 32px;\n",
              "    }\n",
              "\n",
              "    .colab-df-convert:hover {\n",
              "      background-color: #E2EBFA;\n",
              "      box-shadow: 0px 1px 2px rgba(60, 64, 67, 0.3), 0px 1px 3px 1px rgba(60, 64, 67, 0.15);\n",
              "      fill: #174EA6;\n",
              "    }\n",
              "\n",
              "    [theme=dark] .colab-df-convert {\n",
              "      background-color: #3B4455;\n",
              "      fill: #D2E3FC;\n",
              "    }\n",
              "\n",
              "    [theme=dark] .colab-df-convert:hover {\n",
              "      background-color: #434B5C;\n",
              "      box-shadow: 0px 1px 3px 1px rgba(0, 0, 0, 0.15);\n",
              "      filter: drop-shadow(0px 1px 2px rgba(0, 0, 0, 0.3));\n",
              "      fill: #FFFFFF;\n",
              "    }\n",
              "  </style>\n",
              "\n",
              "      <script>\n",
              "        const buttonEl =\n",
              "          document.querySelector('#df-c023a733-b8dc-4248-8c03-736a32c1d07a button.colab-df-convert');\n",
              "        buttonEl.style.display =\n",
              "          google.colab.kernel.accessAllowed ? 'block' : 'none';\n",
              "\n",
              "        async function convertToInteractive(key) {\n",
              "          const element = document.querySelector('#df-c023a733-b8dc-4248-8c03-736a32c1d07a');\n",
              "          const dataTable =\n",
              "            await google.colab.kernel.invokeFunction('convertToInteractive',\n",
              "                                                     [key], {});\n",
              "          if (!dataTable) return;\n",
              "\n",
              "          const docLinkHtml = 'Like what you see? Visit the ' +\n",
              "            '<a target=\"_blank\" href=https://colab.research.google.com/notebooks/data_table.ipynb>data table notebook</a>'\n",
              "            + ' to learn more about interactive tables.';\n",
              "          element.innerHTML = '';\n",
              "          dataTable['output_type'] = 'display_data';\n",
              "          await google.colab.output.renderOutput(dataTable, element);\n",
              "          const docLink = document.createElement('div');\n",
              "          docLink.innerHTML = docLinkHtml;\n",
              "          element.appendChild(docLink);\n",
              "        }\n",
              "      </script>\n",
              "    </div>\n",
              "  </div>\n",
              "  "
            ]
          },
          "metadata": {},
          "execution_count": 7
        }
      ],
      "source": [
        "index_cols, settings_cols, sensors_cols, cols = proc.column_names()\n",
        "train, test, y_test = proc.read_dataset(3)\n",
        "train"
      ]
    },
    {
      "cell_type": "markdown",
      "metadata": {
        "id": "n7MBDuPasy-s"
      },
      "source": [
        "## Preprocessing"
      ]
    },
    {
      "cell_type": "markdown",
      "metadata": {
        "id": "QinQ4hWStzHt"
      },
      "source": [
        "### Test Set Transformation \n",
        "Test set has samples for all cycles, but has annotations only for last one"
      ]
    },
    {
      "cell_type": "code",
      "execution_count": 8,
      "metadata": {
        "colab": {
          "base_uri": "https://localhost:8080/"
        },
        "id": "4wtvRNsfuUwg",
        "outputId": "5c933fc8-87e0-4089-f1a5-bb388464b7e1"
      },
      "outputs": [
        {
          "output_type": "execute_result",
          "data": {
            "text/plain": [
              "((16596, 26), (100, 1))"
            ]
          },
          "metadata": {},
          "execution_count": 8
        }
      ],
      "source": [
        "test.shape, y_test.shape"
      ]
    },
    {
      "cell_type": "code",
      "execution_count": 9,
      "metadata": {
        "colab": {
          "base_uri": "https://localhost:8080/",
          "height": 300
        },
        "id": "onw4pCwZy-1s",
        "outputId": "77a66ab9-6804-4d11-a7f7-9bb1bb498202"
      },
      "outputs": [
        {
          "output_type": "execute_result",
          "data": {
            "text/plain": [
              "      s_0     s_1      s_2      s_3    s_4    s_5     s_6      s_7      s_8  \\\n",
              "0  518.67  642.59  1592.40  1409.87  14.62  21.58  560.53  2388.22  9085.50   \n",
              "1  518.67  642.56  1587.42  1409.69  14.62  21.61  553.33  2388.18  9050.97   \n",
              "2  518.67  642.75  1591.93  1417.66  14.62  21.60  563.61  2388.31  9091.69   \n",
              "3  518.67  642.28  1584.68  1406.56  14.62  21.61  552.75  2388.07  9048.23   \n",
              "4  518.67  642.15  1580.59  1397.26  14.62  21.58  553.82  2387.96  9050.89   \n",
              "\n",
              "    s_9  ...    s_11     s_12     s_13    s_14  s_15  s_16  s_17   s_18  \\\n",
              "0  1.31  ...  528.05  2388.23  8158.77  8.2966  0.03   393  2388  100.0   \n",
              "1  1.30  ...  520.90  2388.17  8128.04  8.4514  0.03   392  2388  100.0   \n",
              "2  1.31  ...  531.36  2388.33  8173.56  8.3057  0.03   395  2388  100.0   \n",
              "3  1.30  ...  521.27  2388.09  8133.78  8.4337  0.03   392  2388  100.0   \n",
              "4  1.30  ...  521.74  2387.96  8132.51  8.3900  0.03   390  2388  100.0   \n",
              "\n",
              "    s_19     s_20  \n",
              "0  39.43  23.5679  \n",
              "1  38.83  23.2821  \n",
              "2  39.27  23.6440  \n",
              "3  38.70  23.3804  \n",
              "4  38.89  23.4463  \n",
              "\n",
              "[5 rows x 21 columns]"
            ],
            "text/html": [
              "\n",
              "  <div id=\"df-f9c39353-d26c-4384-a1df-24026ee095f1\">\n",
              "    <div class=\"colab-df-container\">\n",
              "      <div>\n",
              "<style scoped>\n",
              "    .dataframe tbody tr th:only-of-type {\n",
              "        vertical-align: middle;\n",
              "    }\n",
              "\n",
              "    .dataframe tbody tr th {\n",
              "        vertical-align: top;\n",
              "    }\n",
              "\n",
              "    .dataframe thead th {\n",
              "        text-align: right;\n",
              "    }\n",
              "</style>\n",
              "<table border=\"1\" class=\"dataframe\">\n",
              "  <thead>\n",
              "    <tr style=\"text-align: right;\">\n",
              "      <th></th>\n",
              "      <th>s_0</th>\n",
              "      <th>s_1</th>\n",
              "      <th>s_2</th>\n",
              "      <th>s_3</th>\n",
              "      <th>s_4</th>\n",
              "      <th>s_5</th>\n",
              "      <th>s_6</th>\n",
              "      <th>s_7</th>\n",
              "      <th>s_8</th>\n",
              "      <th>s_9</th>\n",
              "      <th>...</th>\n",
              "      <th>s_11</th>\n",
              "      <th>s_12</th>\n",
              "      <th>s_13</th>\n",
              "      <th>s_14</th>\n",
              "      <th>s_15</th>\n",
              "      <th>s_16</th>\n",
              "      <th>s_17</th>\n",
              "      <th>s_18</th>\n",
              "      <th>s_19</th>\n",
              "      <th>s_20</th>\n",
              "    </tr>\n",
              "  </thead>\n",
              "  <tbody>\n",
              "    <tr>\n",
              "      <th>0</th>\n",
              "      <td>518.67</td>\n",
              "      <td>642.59</td>\n",
              "      <td>1592.40</td>\n",
              "      <td>1409.87</td>\n",
              "      <td>14.62</td>\n",
              "      <td>21.58</td>\n",
              "      <td>560.53</td>\n",
              "      <td>2388.22</td>\n",
              "      <td>9085.50</td>\n",
              "      <td>1.31</td>\n",
              "      <td>...</td>\n",
              "      <td>528.05</td>\n",
              "      <td>2388.23</td>\n",
              "      <td>8158.77</td>\n",
              "      <td>8.2966</td>\n",
              "      <td>0.03</td>\n",
              "      <td>393</td>\n",
              "      <td>2388</td>\n",
              "      <td>100.0</td>\n",
              "      <td>39.43</td>\n",
              "      <td>23.5679</td>\n",
              "    </tr>\n",
              "    <tr>\n",
              "      <th>1</th>\n",
              "      <td>518.67</td>\n",
              "      <td>642.56</td>\n",
              "      <td>1587.42</td>\n",
              "      <td>1409.69</td>\n",
              "      <td>14.62</td>\n",
              "      <td>21.61</td>\n",
              "      <td>553.33</td>\n",
              "      <td>2388.18</td>\n",
              "      <td>9050.97</td>\n",
              "      <td>1.30</td>\n",
              "      <td>...</td>\n",
              "      <td>520.90</td>\n",
              "      <td>2388.17</td>\n",
              "      <td>8128.04</td>\n",
              "      <td>8.4514</td>\n",
              "      <td>0.03</td>\n",
              "      <td>392</td>\n",
              "      <td>2388</td>\n",
              "      <td>100.0</td>\n",
              "      <td>38.83</td>\n",
              "      <td>23.2821</td>\n",
              "    </tr>\n",
              "    <tr>\n",
              "      <th>2</th>\n",
              "      <td>518.67</td>\n",
              "      <td>642.75</td>\n",
              "      <td>1591.93</td>\n",
              "      <td>1417.66</td>\n",
              "      <td>14.62</td>\n",
              "      <td>21.60</td>\n",
              "      <td>563.61</td>\n",
              "      <td>2388.31</td>\n",
              "      <td>9091.69</td>\n",
              "      <td>1.31</td>\n",
              "      <td>...</td>\n",
              "      <td>531.36</td>\n",
              "      <td>2388.33</td>\n",
              "      <td>8173.56</td>\n",
              "      <td>8.3057</td>\n",
              "      <td>0.03</td>\n",
              "      <td>395</td>\n",
              "      <td>2388</td>\n",
              "      <td>100.0</td>\n",
              "      <td>39.27</td>\n",
              "      <td>23.6440</td>\n",
              "    </tr>\n",
              "    <tr>\n",
              "      <th>3</th>\n",
              "      <td>518.67</td>\n",
              "      <td>642.28</td>\n",
              "      <td>1584.68</td>\n",
              "      <td>1406.56</td>\n",
              "      <td>14.62</td>\n",
              "      <td>21.61</td>\n",
              "      <td>552.75</td>\n",
              "      <td>2388.07</td>\n",
              "      <td>9048.23</td>\n",
              "      <td>1.30</td>\n",
              "      <td>...</td>\n",
              "      <td>521.27</td>\n",
              "      <td>2388.09</td>\n",
              "      <td>8133.78</td>\n",
              "      <td>8.4337</td>\n",
              "      <td>0.03</td>\n",
              "      <td>392</td>\n",
              "      <td>2388</td>\n",
              "      <td>100.0</td>\n",
              "      <td>38.70</td>\n",
              "      <td>23.3804</td>\n",
              "    </tr>\n",
              "    <tr>\n",
              "      <th>4</th>\n",
              "      <td>518.67</td>\n",
              "      <td>642.15</td>\n",
              "      <td>1580.59</td>\n",
              "      <td>1397.26</td>\n",
              "      <td>14.62</td>\n",
              "      <td>21.58</td>\n",
              "      <td>553.82</td>\n",
              "      <td>2387.96</td>\n",
              "      <td>9050.89</td>\n",
              "      <td>1.30</td>\n",
              "      <td>...</td>\n",
              "      <td>521.74</td>\n",
              "      <td>2387.96</td>\n",
              "      <td>8132.51</td>\n",
              "      <td>8.3900</td>\n",
              "      <td>0.03</td>\n",
              "      <td>390</td>\n",
              "      <td>2388</td>\n",
              "      <td>100.0</td>\n",
              "      <td>38.89</td>\n",
              "      <td>23.4463</td>\n",
              "    </tr>\n",
              "  </tbody>\n",
              "</table>\n",
              "<p>5 rows × 21 columns</p>\n",
              "</div>\n",
              "      <button class=\"colab-df-convert\" onclick=\"convertToInteractive('df-f9c39353-d26c-4384-a1df-24026ee095f1')\"\n",
              "              title=\"Convert this dataframe to an interactive table.\"\n",
              "              style=\"display:none;\">\n",
              "        \n",
              "  <svg xmlns=\"http://www.w3.org/2000/svg\" height=\"24px\"viewBox=\"0 0 24 24\"\n",
              "       width=\"24px\">\n",
              "    <path d=\"M0 0h24v24H0V0z\" fill=\"none\"/>\n",
              "    <path d=\"M18.56 5.44l.94 2.06.94-2.06 2.06-.94-2.06-.94-.94-2.06-.94 2.06-2.06.94zm-11 1L8.5 8.5l.94-2.06 2.06-.94-2.06-.94L8.5 2.5l-.94 2.06-2.06.94zm10 10l.94 2.06.94-2.06 2.06-.94-2.06-.94-.94-2.06-.94 2.06-2.06.94z\"/><path d=\"M17.41 7.96l-1.37-1.37c-.4-.4-.92-.59-1.43-.59-.52 0-1.04.2-1.43.59L10.3 9.45l-7.72 7.72c-.78.78-.78 2.05 0 2.83L4 21.41c.39.39.9.59 1.41.59.51 0 1.02-.2 1.41-.59l7.78-7.78 2.81-2.81c.8-.78.8-2.07 0-2.86zM5.41 20L4 18.59l7.72-7.72 1.47 1.35L5.41 20z\"/>\n",
              "  </svg>\n",
              "      </button>\n",
              "      \n",
              "  <style>\n",
              "    .colab-df-container {\n",
              "      display:flex;\n",
              "      flex-wrap:wrap;\n",
              "      gap: 12px;\n",
              "    }\n",
              "\n",
              "    .colab-df-convert {\n",
              "      background-color: #E8F0FE;\n",
              "      border: none;\n",
              "      border-radius: 50%;\n",
              "      cursor: pointer;\n",
              "      display: none;\n",
              "      fill: #1967D2;\n",
              "      height: 32px;\n",
              "      padding: 0 0 0 0;\n",
              "      width: 32px;\n",
              "    }\n",
              "\n",
              "    .colab-df-convert:hover {\n",
              "      background-color: #E2EBFA;\n",
              "      box-shadow: 0px 1px 2px rgba(60, 64, 67, 0.3), 0px 1px 3px 1px rgba(60, 64, 67, 0.15);\n",
              "      fill: #174EA6;\n",
              "    }\n",
              "\n",
              "    [theme=dark] .colab-df-convert {\n",
              "      background-color: #3B4455;\n",
              "      fill: #D2E3FC;\n",
              "    }\n",
              "\n",
              "    [theme=dark] .colab-df-convert:hover {\n",
              "      background-color: #434B5C;\n",
              "      box-shadow: 0px 1px 3px 1px rgba(0, 0, 0, 0.15);\n",
              "      filter: drop-shadow(0px 1px 2px rgba(0, 0, 0, 0.3));\n",
              "      fill: #FFFFFF;\n",
              "    }\n",
              "  </style>\n",
              "\n",
              "      <script>\n",
              "        const buttonEl =\n",
              "          document.querySelector('#df-f9c39353-d26c-4384-a1df-24026ee095f1 button.colab-df-convert');\n",
              "        buttonEl.style.display =\n",
              "          google.colab.kernel.accessAllowed ? 'block' : 'none';\n",
              "\n",
              "        async function convertToInteractive(key) {\n",
              "          const element = document.querySelector('#df-f9c39353-d26c-4384-a1df-24026ee095f1');\n",
              "          const dataTable =\n",
              "            await google.colab.kernel.invokeFunction('convertToInteractive',\n",
              "                                                     [key], {});\n",
              "          if (!dataTable) return;\n",
              "\n",
              "          const docLinkHtml = 'Like what you see? Visit the ' +\n",
              "            '<a target=\"_blank\" href=https://colab.research.google.com/notebooks/data_table.ipynb>data table notebook</a>'\n",
              "            + ' to learn more about interactive tables.';\n",
              "          element.innerHTML = '';\n",
              "          dataTable['output_type'] = 'display_data';\n",
              "          await google.colab.output.renderOutput(dataTable, element);\n",
              "          const docLink = document.createElement('div');\n",
              "          docLink.innerHTML = docLinkHtml;\n",
              "          element.appendChild(docLink);\n",
              "        }\n",
              "      </script>\n",
              "    </div>\n",
              "  </div>\n",
              "  "
            ]
          },
          "metadata": {},
          "execution_count": 9
        }
      ],
      "source": [
        "test_last = proc.transform_test(test)\n",
        "test_last.head()"
      ]
    },
    {
      "cell_type": "code",
      "execution_count": 10,
      "metadata": {
        "id": "Ujc6Puo2Idmm"
      },
      "outputs": [],
      "source": [
        "X_test = test_last"
      ]
    },
    {
      "cell_type": "markdown",
      "metadata": {
        "id": "boZqFQNlraCh"
      },
      "source": [
        "### Remaining Useful Life (RUL)"
      ]
    },
    {
      "cell_type": "code",
      "execution_count": 11,
      "metadata": {
        "colab": {
          "base_uri": "https://localhost:8080/",
          "height": 270
        },
        "id": "lmFKjQaeip1b",
        "outputId": "5bde32e8-4ec2-4f17-e2e9-92ee80147606"
      },
      "outputs": [
        {
          "output_type": "execute_result",
          "data": {
            "text/plain": [
              "   unit_number  time  RUL\n",
              "0            1     1  258\n",
              "1            1     2  257\n",
              "2            1     3  256\n",
              "3            1     4  255\n",
              "4            1     5  254"
            ],
            "text/html": [
              "\n",
              "  <div id=\"df-10212086-2cc4-4bd0-a5fc-a1bd9dd900a2\">\n",
              "    <div class=\"colab-df-container\">\n",
              "      <div>\n",
              "<style scoped>\n",
              "    .dataframe tbody tr th:only-of-type {\n",
              "        vertical-align: middle;\n",
              "    }\n",
              "\n",
              "    .dataframe tbody tr th {\n",
              "        vertical-align: top;\n",
              "    }\n",
              "\n",
              "    .dataframe thead th {\n",
              "        text-align: right;\n",
              "    }\n",
              "</style>\n",
              "<table border=\"1\" class=\"dataframe\">\n",
              "  <thead>\n",
              "    <tr style=\"text-align: right;\">\n",
              "      <th></th>\n",
              "      <th>unit_number</th>\n",
              "      <th>time</th>\n",
              "      <th>RUL</th>\n",
              "    </tr>\n",
              "  </thead>\n",
              "  <tbody>\n",
              "    <tr>\n",
              "      <th>0</th>\n",
              "      <td>1</td>\n",
              "      <td>1</td>\n",
              "      <td>258</td>\n",
              "    </tr>\n",
              "    <tr>\n",
              "      <th>1</th>\n",
              "      <td>1</td>\n",
              "      <td>2</td>\n",
              "      <td>257</td>\n",
              "    </tr>\n",
              "    <tr>\n",
              "      <th>2</th>\n",
              "      <td>1</td>\n",
              "      <td>3</td>\n",
              "      <td>256</td>\n",
              "    </tr>\n",
              "    <tr>\n",
              "      <th>3</th>\n",
              "      <td>1</td>\n",
              "      <td>4</td>\n",
              "      <td>255</td>\n",
              "    </tr>\n",
              "    <tr>\n",
              "      <th>4</th>\n",
              "      <td>1</td>\n",
              "      <td>5</td>\n",
              "      <td>254</td>\n",
              "    </tr>\n",
              "  </tbody>\n",
              "</table>\n",
              "</div>\n",
              "      <button class=\"colab-df-convert\" onclick=\"convertToInteractive('df-10212086-2cc4-4bd0-a5fc-a1bd9dd900a2')\"\n",
              "              title=\"Convert this dataframe to an interactive table.\"\n",
              "              style=\"display:none;\">\n",
              "        \n",
              "  <svg xmlns=\"http://www.w3.org/2000/svg\" height=\"24px\"viewBox=\"0 0 24 24\"\n",
              "       width=\"24px\">\n",
              "    <path d=\"M0 0h24v24H0V0z\" fill=\"none\"/>\n",
              "    <path d=\"M18.56 5.44l.94 2.06.94-2.06 2.06-.94-2.06-.94-.94-2.06-.94 2.06-2.06.94zm-11 1L8.5 8.5l.94-2.06 2.06-.94-2.06-.94L8.5 2.5l-.94 2.06-2.06.94zm10 10l.94 2.06.94-2.06 2.06-.94-2.06-.94-.94-2.06-.94 2.06-2.06.94z\"/><path d=\"M17.41 7.96l-1.37-1.37c-.4-.4-.92-.59-1.43-.59-.52 0-1.04.2-1.43.59L10.3 9.45l-7.72 7.72c-.78.78-.78 2.05 0 2.83L4 21.41c.39.39.9.59 1.41.59.51 0 1.02-.2 1.41-.59l7.78-7.78 2.81-2.81c.8-.78.8-2.07 0-2.86zM5.41 20L4 18.59l7.72-7.72 1.47 1.35L5.41 20z\"/>\n",
              "  </svg>\n",
              "      </button>\n",
              "      \n",
              "  <style>\n",
              "    .colab-df-container {\n",
              "      display:flex;\n",
              "      flex-wrap:wrap;\n",
              "      gap: 12px;\n",
              "    }\n",
              "\n",
              "    .colab-df-convert {\n",
              "      background-color: #E8F0FE;\n",
              "      border: none;\n",
              "      border-radius: 50%;\n",
              "      cursor: pointer;\n",
              "      display: none;\n",
              "      fill: #1967D2;\n",
              "      height: 32px;\n",
              "      padding: 0 0 0 0;\n",
              "      width: 32px;\n",
              "    }\n",
              "\n",
              "    .colab-df-convert:hover {\n",
              "      background-color: #E2EBFA;\n",
              "      box-shadow: 0px 1px 2px rgba(60, 64, 67, 0.3), 0px 1px 3px 1px rgba(60, 64, 67, 0.15);\n",
              "      fill: #174EA6;\n",
              "    }\n",
              "\n",
              "    [theme=dark] .colab-df-convert {\n",
              "      background-color: #3B4455;\n",
              "      fill: #D2E3FC;\n",
              "    }\n",
              "\n",
              "    [theme=dark] .colab-df-convert:hover {\n",
              "      background-color: #434B5C;\n",
              "      box-shadow: 0px 1px 3px 1px rgba(0, 0, 0, 0.15);\n",
              "      filter: drop-shadow(0px 1px 2px rgba(0, 0, 0, 0.3));\n",
              "      fill: #FFFFFF;\n",
              "    }\n",
              "  </style>\n",
              "\n",
              "      <script>\n",
              "        const buttonEl =\n",
              "          document.querySelector('#df-10212086-2cc4-4bd0-a5fc-a1bd9dd900a2 button.colab-df-convert');\n",
              "        buttonEl.style.display =\n",
              "          google.colab.kernel.accessAllowed ? 'block' : 'none';\n",
              "\n",
              "        async function convertToInteractive(key) {\n",
              "          const element = document.querySelector('#df-10212086-2cc4-4bd0-a5fc-a1bd9dd900a2');\n",
              "          const dataTable =\n",
              "            await google.colab.kernel.invokeFunction('convertToInteractive',\n",
              "                                                     [key], {});\n",
              "          if (!dataTable) return;\n",
              "\n",
              "          const docLinkHtml = 'Like what you see? Visit the ' +\n",
              "            '<a target=\"_blank\" href=https://colab.research.google.com/notebooks/data_table.ipynb>data table notebook</a>'\n",
              "            + ' to learn more about interactive tables.';\n",
              "          element.innerHTML = '';\n",
              "          dataTable['output_type'] = 'display_data';\n",
              "          await google.colab.output.renderOutput(dataTable, element);\n",
              "          const docLink = document.createElement('div');\n",
              "          docLink.innerHTML = docLinkHtml;\n",
              "          element.appendChild(docLink);\n",
              "        }\n",
              "      </script>\n",
              "    </div>\n",
              "  </div>\n",
              "  "
            ]
          },
          "metadata": {},
          "execution_count": 11
        }
      ],
      "source": [
        "train = proc.add_remaining_useful_life_linear(train)\n",
        "train[index_cols+['RUL']].head()"
      ]
    },
    {
      "cell_type": "markdown",
      "metadata": {
        "id": "IIXnBTkfxpCf"
      },
      "source": [
        "## Attributes and target separation"
      ]
    },
    {
      "cell_type": "code",
      "execution_count": 12,
      "metadata": {
        "id": "4SzUk6ZLxv6H"
      },
      "outputs": [],
      "source": [
        "X_train, y_train = proc.X_y_train_divide(train)"
      ]
    },
    {
      "cell_type": "code",
      "execution_count": 13,
      "metadata": {
        "colab": {
          "base_uri": "https://localhost:8080/",
          "height": 270
        },
        "id": "fuAnHn4GxzwM",
        "outputId": "20488b8b-420c-41bb-a969-c1312cf09680"
      },
      "outputs": [
        {
          "output_type": "execute_result",
          "data": {
            "text/plain": [
              "   RUL\n",
              "0  258\n",
              "1  257\n",
              "2  256\n",
              "3  255\n",
              "4  254"
            ],
            "text/html": [
              "\n",
              "  <div id=\"df-b520edef-8a35-4510-9bff-0bb082a7b9e8\">\n",
              "    <div class=\"colab-df-container\">\n",
              "      <div>\n",
              "<style scoped>\n",
              "    .dataframe tbody tr th:only-of-type {\n",
              "        vertical-align: middle;\n",
              "    }\n",
              "\n",
              "    .dataframe tbody tr th {\n",
              "        vertical-align: top;\n",
              "    }\n",
              "\n",
              "    .dataframe thead th {\n",
              "        text-align: right;\n",
              "    }\n",
              "</style>\n",
              "<table border=\"1\" class=\"dataframe\">\n",
              "  <thead>\n",
              "    <tr style=\"text-align: right;\">\n",
              "      <th></th>\n",
              "      <th>RUL</th>\n",
              "    </tr>\n",
              "  </thead>\n",
              "  <tbody>\n",
              "    <tr>\n",
              "      <th>0</th>\n",
              "      <td>258</td>\n",
              "    </tr>\n",
              "    <tr>\n",
              "      <th>1</th>\n",
              "      <td>257</td>\n",
              "    </tr>\n",
              "    <tr>\n",
              "      <th>2</th>\n",
              "      <td>256</td>\n",
              "    </tr>\n",
              "    <tr>\n",
              "      <th>3</th>\n",
              "      <td>255</td>\n",
              "    </tr>\n",
              "    <tr>\n",
              "      <th>4</th>\n",
              "      <td>254</td>\n",
              "    </tr>\n",
              "  </tbody>\n",
              "</table>\n",
              "</div>\n",
              "      <button class=\"colab-df-convert\" onclick=\"convertToInteractive('df-b520edef-8a35-4510-9bff-0bb082a7b9e8')\"\n",
              "              title=\"Convert this dataframe to an interactive table.\"\n",
              "              style=\"display:none;\">\n",
              "        \n",
              "  <svg xmlns=\"http://www.w3.org/2000/svg\" height=\"24px\"viewBox=\"0 0 24 24\"\n",
              "       width=\"24px\">\n",
              "    <path d=\"M0 0h24v24H0V0z\" fill=\"none\"/>\n",
              "    <path d=\"M18.56 5.44l.94 2.06.94-2.06 2.06-.94-2.06-.94-.94-2.06-.94 2.06-2.06.94zm-11 1L8.5 8.5l.94-2.06 2.06-.94-2.06-.94L8.5 2.5l-.94 2.06-2.06.94zm10 10l.94 2.06.94-2.06 2.06-.94-2.06-.94-.94-2.06-.94 2.06-2.06.94z\"/><path d=\"M17.41 7.96l-1.37-1.37c-.4-.4-.92-.59-1.43-.59-.52 0-1.04.2-1.43.59L10.3 9.45l-7.72 7.72c-.78.78-.78 2.05 0 2.83L4 21.41c.39.39.9.59 1.41.59.51 0 1.02-.2 1.41-.59l7.78-7.78 2.81-2.81c.8-.78.8-2.07 0-2.86zM5.41 20L4 18.59l7.72-7.72 1.47 1.35L5.41 20z\"/>\n",
              "  </svg>\n",
              "      </button>\n",
              "      \n",
              "  <style>\n",
              "    .colab-df-container {\n",
              "      display:flex;\n",
              "      flex-wrap:wrap;\n",
              "      gap: 12px;\n",
              "    }\n",
              "\n",
              "    .colab-df-convert {\n",
              "      background-color: #E8F0FE;\n",
              "      border: none;\n",
              "      border-radius: 50%;\n",
              "      cursor: pointer;\n",
              "      display: none;\n",
              "      fill: #1967D2;\n",
              "      height: 32px;\n",
              "      padding: 0 0 0 0;\n",
              "      width: 32px;\n",
              "    }\n",
              "\n",
              "    .colab-df-convert:hover {\n",
              "      background-color: #E2EBFA;\n",
              "      box-shadow: 0px 1px 2px rgba(60, 64, 67, 0.3), 0px 1px 3px 1px rgba(60, 64, 67, 0.15);\n",
              "      fill: #174EA6;\n",
              "    }\n",
              "\n",
              "    [theme=dark] .colab-df-convert {\n",
              "      background-color: #3B4455;\n",
              "      fill: #D2E3FC;\n",
              "    }\n",
              "\n",
              "    [theme=dark] .colab-df-convert:hover {\n",
              "      background-color: #434B5C;\n",
              "      box-shadow: 0px 1px 3px 1px rgba(0, 0, 0, 0.15);\n",
              "      filter: drop-shadow(0px 1px 2px rgba(0, 0, 0, 0.3));\n",
              "      fill: #FFFFFF;\n",
              "    }\n",
              "  </style>\n",
              "\n",
              "      <script>\n",
              "        const buttonEl =\n",
              "          document.querySelector('#df-b520edef-8a35-4510-9bff-0bb082a7b9e8 button.colab-df-convert');\n",
              "        buttonEl.style.display =\n",
              "          google.colab.kernel.accessAllowed ? 'block' : 'none';\n",
              "\n",
              "        async function convertToInteractive(key) {\n",
              "          const element = document.querySelector('#df-b520edef-8a35-4510-9bff-0bb082a7b9e8');\n",
              "          const dataTable =\n",
              "            await google.colab.kernel.invokeFunction('convertToInteractive',\n",
              "                                                     [key], {});\n",
              "          if (!dataTable) return;\n",
              "\n",
              "          const docLinkHtml = 'Like what you see? Visit the ' +\n",
              "            '<a target=\"_blank\" href=https://colab.research.google.com/notebooks/data_table.ipynb>data table notebook</a>'\n",
              "            + ' to learn more about interactive tables.';\n",
              "          element.innerHTML = '';\n",
              "          dataTable['output_type'] = 'display_data';\n",
              "          await google.colab.output.renderOutput(dataTable, element);\n",
              "          const docLink = document.createElement('div');\n",
              "          docLink.innerHTML = docLinkHtml;\n",
              "          element.appendChild(docLink);\n",
              "        }\n",
              "      </script>\n",
              "    </div>\n",
              "  </div>\n",
              "  "
            ]
          },
          "metadata": {},
          "execution_count": 13
        }
      ],
      "source": [
        "y_train.head()"
      ]
    },
    {
      "cell_type": "code",
      "execution_count": 14,
      "metadata": {
        "colab": {
          "base_uri": "https://localhost:8080/",
          "height": 300
        },
        "id": "26hK4VWkx1R7",
        "outputId": "548cb510-d76e-484d-e3da-8110d15947d6"
      },
      "outputs": [
        {
          "output_type": "execute_result",
          "data": {
            "text/plain": [
              "      s_0     s_1      s_2      s_3    s_4    s_5     s_6      s_7      s_8  \\\n",
              "0  518.67  642.36  1583.23  1396.84  14.62  21.61  553.97  2387.96  9062.17   \n",
              "1  518.67  642.50  1584.69  1396.89  14.62  21.61  554.55  2388.00  9061.78   \n",
              "2  518.67  642.18  1582.35  1405.61  14.62  21.61  554.43  2388.03  9070.23   \n",
              "3  518.67  642.92  1585.61  1392.27  14.62  21.61  555.21  2388.00  9064.57   \n",
              "4  518.67  641.68  1588.63  1397.65  14.62  21.61  554.74  2388.04  9076.14   \n",
              "\n",
              "   s_9  ...    s_11     s_12     s_13    s_14  s_15  s_16  s_17   s_18   s_19  \\\n",
              "0  1.3  ...  522.31  2388.01  8145.32  8.4246  0.03   391  2388  100.0  39.11   \n",
              "1  1.3  ...  522.42  2388.03  8152.85  8.4403  0.03   392  2388  100.0  38.99   \n",
              "2  1.3  ...  522.03  2388.00  8150.17  8.3901  0.03   391  2388  100.0  38.85   \n",
              "3  1.3  ...  522.49  2388.08  8146.56  8.3878  0.03   392  2388  100.0  38.96   \n",
              "4  1.3  ...  522.58  2388.03  8147.80  8.3869  0.03   392  2388  100.0  39.14   \n",
              "\n",
              "      s_20  \n",
              "0  23.3537  \n",
              "1  23.4491  \n",
              "2  23.3669  \n",
              "3  23.2951  \n",
              "4  23.4583  \n",
              "\n",
              "[5 rows x 21 columns]"
            ],
            "text/html": [
              "\n",
              "  <div id=\"df-542ace90-007b-465f-9e3a-ac50ad28d342\">\n",
              "    <div class=\"colab-df-container\">\n",
              "      <div>\n",
              "<style scoped>\n",
              "    .dataframe tbody tr th:only-of-type {\n",
              "        vertical-align: middle;\n",
              "    }\n",
              "\n",
              "    .dataframe tbody tr th {\n",
              "        vertical-align: top;\n",
              "    }\n",
              "\n",
              "    .dataframe thead th {\n",
              "        text-align: right;\n",
              "    }\n",
              "</style>\n",
              "<table border=\"1\" class=\"dataframe\">\n",
              "  <thead>\n",
              "    <tr style=\"text-align: right;\">\n",
              "      <th></th>\n",
              "      <th>s_0</th>\n",
              "      <th>s_1</th>\n",
              "      <th>s_2</th>\n",
              "      <th>s_3</th>\n",
              "      <th>s_4</th>\n",
              "      <th>s_5</th>\n",
              "      <th>s_6</th>\n",
              "      <th>s_7</th>\n",
              "      <th>s_8</th>\n",
              "      <th>s_9</th>\n",
              "      <th>...</th>\n",
              "      <th>s_11</th>\n",
              "      <th>s_12</th>\n",
              "      <th>s_13</th>\n",
              "      <th>s_14</th>\n",
              "      <th>s_15</th>\n",
              "      <th>s_16</th>\n",
              "      <th>s_17</th>\n",
              "      <th>s_18</th>\n",
              "      <th>s_19</th>\n",
              "      <th>s_20</th>\n",
              "    </tr>\n",
              "  </thead>\n",
              "  <tbody>\n",
              "    <tr>\n",
              "      <th>0</th>\n",
              "      <td>518.67</td>\n",
              "      <td>642.36</td>\n",
              "      <td>1583.23</td>\n",
              "      <td>1396.84</td>\n",
              "      <td>14.62</td>\n",
              "      <td>21.61</td>\n",
              "      <td>553.97</td>\n",
              "      <td>2387.96</td>\n",
              "      <td>9062.17</td>\n",
              "      <td>1.3</td>\n",
              "      <td>...</td>\n",
              "      <td>522.31</td>\n",
              "      <td>2388.01</td>\n",
              "      <td>8145.32</td>\n",
              "      <td>8.4246</td>\n",
              "      <td>0.03</td>\n",
              "      <td>391</td>\n",
              "      <td>2388</td>\n",
              "      <td>100.0</td>\n",
              "      <td>39.11</td>\n",
              "      <td>23.3537</td>\n",
              "    </tr>\n",
              "    <tr>\n",
              "      <th>1</th>\n",
              "      <td>518.67</td>\n",
              "      <td>642.50</td>\n",
              "      <td>1584.69</td>\n",
              "      <td>1396.89</td>\n",
              "      <td>14.62</td>\n",
              "      <td>21.61</td>\n",
              "      <td>554.55</td>\n",
              "      <td>2388.00</td>\n",
              "      <td>9061.78</td>\n",
              "      <td>1.3</td>\n",
              "      <td>...</td>\n",
              "      <td>522.42</td>\n",
              "      <td>2388.03</td>\n",
              "      <td>8152.85</td>\n",
              "      <td>8.4403</td>\n",
              "      <td>0.03</td>\n",
              "      <td>392</td>\n",
              "      <td>2388</td>\n",
              "      <td>100.0</td>\n",
              "      <td>38.99</td>\n",
              "      <td>23.4491</td>\n",
              "    </tr>\n",
              "    <tr>\n",
              "      <th>2</th>\n",
              "      <td>518.67</td>\n",
              "      <td>642.18</td>\n",
              "      <td>1582.35</td>\n",
              "      <td>1405.61</td>\n",
              "      <td>14.62</td>\n",
              "      <td>21.61</td>\n",
              "      <td>554.43</td>\n",
              "      <td>2388.03</td>\n",
              "      <td>9070.23</td>\n",
              "      <td>1.3</td>\n",
              "      <td>...</td>\n",
              "      <td>522.03</td>\n",
              "      <td>2388.00</td>\n",
              "      <td>8150.17</td>\n",
              "      <td>8.3901</td>\n",
              "      <td>0.03</td>\n",
              "      <td>391</td>\n",
              "      <td>2388</td>\n",
              "      <td>100.0</td>\n",
              "      <td>38.85</td>\n",
              "      <td>23.3669</td>\n",
              "    </tr>\n",
              "    <tr>\n",
              "      <th>3</th>\n",
              "      <td>518.67</td>\n",
              "      <td>642.92</td>\n",
              "      <td>1585.61</td>\n",
              "      <td>1392.27</td>\n",
              "      <td>14.62</td>\n",
              "      <td>21.61</td>\n",
              "      <td>555.21</td>\n",
              "      <td>2388.00</td>\n",
              "      <td>9064.57</td>\n",
              "      <td>1.3</td>\n",
              "      <td>...</td>\n",
              "      <td>522.49</td>\n",
              "      <td>2388.08</td>\n",
              "      <td>8146.56</td>\n",
              "      <td>8.3878</td>\n",
              "      <td>0.03</td>\n",
              "      <td>392</td>\n",
              "      <td>2388</td>\n",
              "      <td>100.0</td>\n",
              "      <td>38.96</td>\n",
              "      <td>23.2951</td>\n",
              "    </tr>\n",
              "    <tr>\n",
              "      <th>4</th>\n",
              "      <td>518.67</td>\n",
              "      <td>641.68</td>\n",
              "      <td>1588.63</td>\n",
              "      <td>1397.65</td>\n",
              "      <td>14.62</td>\n",
              "      <td>21.61</td>\n",
              "      <td>554.74</td>\n",
              "      <td>2388.04</td>\n",
              "      <td>9076.14</td>\n",
              "      <td>1.3</td>\n",
              "      <td>...</td>\n",
              "      <td>522.58</td>\n",
              "      <td>2388.03</td>\n",
              "      <td>8147.80</td>\n",
              "      <td>8.3869</td>\n",
              "      <td>0.03</td>\n",
              "      <td>392</td>\n",
              "      <td>2388</td>\n",
              "      <td>100.0</td>\n",
              "      <td>39.14</td>\n",
              "      <td>23.4583</td>\n",
              "    </tr>\n",
              "  </tbody>\n",
              "</table>\n",
              "<p>5 rows × 21 columns</p>\n",
              "</div>\n",
              "      <button class=\"colab-df-convert\" onclick=\"convertToInteractive('df-542ace90-007b-465f-9e3a-ac50ad28d342')\"\n",
              "              title=\"Convert this dataframe to an interactive table.\"\n",
              "              style=\"display:none;\">\n",
              "        \n",
              "  <svg xmlns=\"http://www.w3.org/2000/svg\" height=\"24px\"viewBox=\"0 0 24 24\"\n",
              "       width=\"24px\">\n",
              "    <path d=\"M0 0h24v24H0V0z\" fill=\"none\"/>\n",
              "    <path d=\"M18.56 5.44l.94 2.06.94-2.06 2.06-.94-2.06-.94-.94-2.06-.94 2.06-2.06.94zm-11 1L8.5 8.5l.94-2.06 2.06-.94-2.06-.94L8.5 2.5l-.94 2.06-2.06.94zm10 10l.94 2.06.94-2.06 2.06-.94-2.06-.94-.94-2.06-.94 2.06-2.06.94z\"/><path d=\"M17.41 7.96l-1.37-1.37c-.4-.4-.92-.59-1.43-.59-.52 0-1.04.2-1.43.59L10.3 9.45l-7.72 7.72c-.78.78-.78 2.05 0 2.83L4 21.41c.39.39.9.59 1.41.59.51 0 1.02-.2 1.41-.59l7.78-7.78 2.81-2.81c.8-.78.8-2.07 0-2.86zM5.41 20L4 18.59l7.72-7.72 1.47 1.35L5.41 20z\"/>\n",
              "  </svg>\n",
              "      </button>\n",
              "      \n",
              "  <style>\n",
              "    .colab-df-container {\n",
              "      display:flex;\n",
              "      flex-wrap:wrap;\n",
              "      gap: 12px;\n",
              "    }\n",
              "\n",
              "    .colab-df-convert {\n",
              "      background-color: #E8F0FE;\n",
              "      border: none;\n",
              "      border-radius: 50%;\n",
              "      cursor: pointer;\n",
              "      display: none;\n",
              "      fill: #1967D2;\n",
              "      height: 32px;\n",
              "      padding: 0 0 0 0;\n",
              "      width: 32px;\n",
              "    }\n",
              "\n",
              "    .colab-df-convert:hover {\n",
              "      background-color: #E2EBFA;\n",
              "      box-shadow: 0px 1px 2px rgba(60, 64, 67, 0.3), 0px 1px 3px 1px rgba(60, 64, 67, 0.15);\n",
              "      fill: #174EA6;\n",
              "    }\n",
              "\n",
              "    [theme=dark] .colab-df-convert {\n",
              "      background-color: #3B4455;\n",
              "      fill: #D2E3FC;\n",
              "    }\n",
              "\n",
              "    [theme=dark] .colab-df-convert:hover {\n",
              "      background-color: #434B5C;\n",
              "      box-shadow: 0px 1px 3px 1px rgba(0, 0, 0, 0.15);\n",
              "      filter: drop-shadow(0px 1px 2px rgba(0, 0, 0, 0.3));\n",
              "      fill: #FFFFFF;\n",
              "    }\n",
              "  </style>\n",
              "\n",
              "      <script>\n",
              "        const buttonEl =\n",
              "          document.querySelector('#df-542ace90-007b-465f-9e3a-ac50ad28d342 button.colab-df-convert');\n",
              "        buttonEl.style.display =\n",
              "          google.colab.kernel.accessAllowed ? 'block' : 'none';\n",
              "\n",
              "        async function convertToInteractive(key) {\n",
              "          const element = document.querySelector('#df-542ace90-007b-465f-9e3a-ac50ad28d342');\n",
              "          const dataTable =\n",
              "            await google.colab.kernel.invokeFunction('convertToInteractive',\n",
              "                                                     [key], {});\n",
              "          if (!dataTable) return;\n",
              "\n",
              "          const docLinkHtml = 'Like what you see? Visit the ' +\n",
              "            '<a target=\"_blank\" href=https://colab.research.google.com/notebooks/data_table.ipynb>data table notebook</a>'\n",
              "            + ' to learn more about interactive tables.';\n",
              "          element.innerHTML = '';\n",
              "          dataTable['output_type'] = 'display_data';\n",
              "          await google.colab.output.renderOutput(dataTable, element);\n",
              "          const docLink = document.createElement('div');\n",
              "          docLink.innerHTML = docLinkHtml;\n",
              "          element.appendChild(docLink);\n",
              "        }\n",
              "      </script>\n",
              "    </div>\n",
              "  </div>\n",
              "  "
            ]
          },
          "metadata": {},
          "execution_count": 14
        }
      ],
      "source": [
        "X_train.head()"
      ]
    },
    {
      "cell_type": "markdown",
      "metadata": {
        "id": "fQA-YtFMM81M"
      },
      "source": [
        "## Training and Evaluation functions"
      ]
    },
    {
      "cell_type": "code",
      "execution_count": 15,
      "metadata": {
        "id": "u88P6scrNTRu"
      },
      "outputs": [],
      "source": [
        "eval = Evaluation()"
      ]
    },
    {
      "cell_type": "code",
      "execution_count": 16,
      "metadata": {
        "id": "OUcS61OqPFhp"
      },
      "outputs": [],
      "source": [
        "search = HyperparameterSearch()"
      ]
    },
    {
      "cell_type": "markdown",
      "metadata": {
        "id": "5OAVJILAXaTT"
      },
      "source": [
        "# LinearRegression"
      ]
    },
    {
      "cell_type": "markdown",
      "metadata": {
        "id": "r6YQTm7aOf2G"
      },
      "source": [
        "## Linear RUL"
      ]
    },
    {
      "cell_type": "code",
      "execution_count": 17,
      "metadata": {
        "id": "4PbFjj3G3QUQ"
      },
      "outputs": [],
      "source": [
        "model = LinearRegression()"
      ]
    },
    {
      "cell_type": "code",
      "execution_count": 18,
      "metadata": {
        "colab": {
          "base_uri": "https://localhost:8080/"
        },
        "id": "vefcPjT2Xb6y",
        "outputId": "59c061d1-318c-4cad-89b3-654ccbdaa92c"
      },
      "outputs": [
        {
          "output_type": "stream",
          "name": "stdout",
          "text": [
            "R2=0.587,RMSE=-63.494\n",
            "(CV) R2=0.543,RMSE=-65.175\n"
          ]
        }
      ],
      "source": [
        "model.fit(X_train, y_train)\n",
        "eval.show_result(y_train, model.predict(X_train))\n",
        "eval.show_result_cv(y_train, X_train, model)"
      ]
    },
    {
      "cell_type": "code",
      "execution_count": 19,
      "metadata": {
        "colab": {
          "base_uri": "https://localhost:8080/"
        },
        "id": "367rdLmjRETX",
        "outputId": "e2709c64-538f-43d4-e76d-f99e1525a26b"
      },
      "outputs": [
        {
          "output_type": "stream",
          "name": "stdout",
          "text": [
            "R2=-0.900,RMSE=-57.057\n"
          ]
        }
      ],
      "source": [
        "eval.show_result(y_test, model.predict(X_test))"
      ]
    },
    {
      "cell_type": "markdown",
      "metadata": {
        "id": "klzYEWjrZiXt"
      },
      "source": [
        "## Non-linear RUL"
      ]
    },
    {
      "cell_type": "code",
      "execution_count": 20,
      "metadata": {
        "colab": {
          "base_uri": "https://localhost:8080/",
          "height": 206
        },
        "id": "gnwsey5yZp3x",
        "outputId": "6b9ec67a-8c99-4d34-b019-517be6da9183"
      },
      "outputs": [
        {
          "output_type": "execute_result",
          "data": {
            "text/plain": [
              "   RUL\n",
              "0  189\n",
              "1  189\n",
              "2  189\n",
              "3  189\n",
              "4  189"
            ],
            "text/html": [
              "\n",
              "  <div id=\"df-69786cdf-909d-4b8a-b164-11dfa479e692\">\n",
              "    <div class=\"colab-df-container\">\n",
              "      <div>\n",
              "<style scoped>\n",
              "    .dataframe tbody tr th:only-of-type {\n",
              "        vertical-align: middle;\n",
              "    }\n",
              "\n",
              "    .dataframe tbody tr th {\n",
              "        vertical-align: top;\n",
              "    }\n",
              "\n",
              "    .dataframe thead th {\n",
              "        text-align: right;\n",
              "    }\n",
              "</style>\n",
              "<table border=\"1\" class=\"dataframe\">\n",
              "  <thead>\n",
              "    <tr style=\"text-align: right;\">\n",
              "      <th></th>\n",
              "      <th>RUL</th>\n",
              "    </tr>\n",
              "  </thead>\n",
              "  <tbody>\n",
              "    <tr>\n",
              "      <th>0</th>\n",
              "      <td>189</td>\n",
              "    </tr>\n",
              "    <tr>\n",
              "      <th>1</th>\n",
              "      <td>189</td>\n",
              "    </tr>\n",
              "    <tr>\n",
              "      <th>2</th>\n",
              "      <td>189</td>\n",
              "    </tr>\n",
              "    <tr>\n",
              "      <th>3</th>\n",
              "      <td>189</td>\n",
              "    </tr>\n",
              "    <tr>\n",
              "      <th>4</th>\n",
              "      <td>189</td>\n",
              "    </tr>\n",
              "  </tbody>\n",
              "</table>\n",
              "</div>\n",
              "      <button class=\"colab-df-convert\" onclick=\"convertToInteractive('df-69786cdf-909d-4b8a-b164-11dfa479e692')\"\n",
              "              title=\"Convert this dataframe to an interactive table.\"\n",
              "              style=\"display:none;\">\n",
              "        \n",
              "  <svg xmlns=\"http://www.w3.org/2000/svg\" height=\"24px\"viewBox=\"0 0 24 24\"\n",
              "       width=\"24px\">\n",
              "    <path d=\"M0 0h24v24H0V0z\" fill=\"none\"/>\n",
              "    <path d=\"M18.56 5.44l.94 2.06.94-2.06 2.06-.94-2.06-.94-.94-2.06-.94 2.06-2.06.94zm-11 1L8.5 8.5l.94-2.06 2.06-.94-2.06-.94L8.5 2.5l-.94 2.06-2.06.94zm10 10l.94 2.06.94-2.06 2.06-.94-2.06-.94-.94-2.06-.94 2.06-2.06.94z\"/><path d=\"M17.41 7.96l-1.37-1.37c-.4-.4-.92-.59-1.43-.59-.52 0-1.04.2-1.43.59L10.3 9.45l-7.72 7.72c-.78.78-.78 2.05 0 2.83L4 21.41c.39.39.9.59 1.41.59.51 0 1.02-.2 1.41-.59l7.78-7.78 2.81-2.81c.8-.78.8-2.07 0-2.86zM5.41 20L4 18.59l7.72-7.72 1.47 1.35L5.41 20z\"/>\n",
              "  </svg>\n",
              "      </button>\n",
              "      \n",
              "  <style>\n",
              "    .colab-df-container {\n",
              "      display:flex;\n",
              "      flex-wrap:wrap;\n",
              "      gap: 12px;\n",
              "    }\n",
              "\n",
              "    .colab-df-convert {\n",
              "      background-color: #E8F0FE;\n",
              "      border: none;\n",
              "      border-radius: 50%;\n",
              "      cursor: pointer;\n",
              "      display: none;\n",
              "      fill: #1967D2;\n",
              "      height: 32px;\n",
              "      padding: 0 0 0 0;\n",
              "      width: 32px;\n",
              "    }\n",
              "\n",
              "    .colab-df-convert:hover {\n",
              "      background-color: #E2EBFA;\n",
              "      box-shadow: 0px 1px 2px rgba(60, 64, 67, 0.3), 0px 1px 3px 1px rgba(60, 64, 67, 0.15);\n",
              "      fill: #174EA6;\n",
              "    }\n",
              "\n",
              "    [theme=dark] .colab-df-convert {\n",
              "      background-color: #3B4455;\n",
              "      fill: #D2E3FC;\n",
              "    }\n",
              "\n",
              "    [theme=dark] .colab-df-convert:hover {\n",
              "      background-color: #434B5C;\n",
              "      box-shadow: 0px 1px 3px 1px rgba(0, 0, 0, 0.15);\n",
              "      filter: drop-shadow(0px 1px 2px rgba(0, 0, 0, 0.3));\n",
              "      fill: #FFFFFF;\n",
              "    }\n",
              "  </style>\n",
              "\n",
              "      <script>\n",
              "        const buttonEl =\n",
              "          document.querySelector('#df-69786cdf-909d-4b8a-b164-11dfa479e692 button.colab-df-convert');\n",
              "        buttonEl.style.display =\n",
              "          google.colab.kernel.accessAllowed ? 'block' : 'none';\n",
              "\n",
              "        async function convertToInteractive(key) {\n",
              "          const element = document.querySelector('#df-69786cdf-909d-4b8a-b164-11dfa479e692');\n",
              "          const dataTable =\n",
              "            await google.colab.kernel.invokeFunction('convertToInteractive',\n",
              "                                                     [key], {});\n",
              "          if (!dataTable) return;\n",
              "\n",
              "          const docLinkHtml = 'Like what you see? Visit the ' +\n",
              "            '<a target=\"_blank\" href=https://colab.research.google.com/notebooks/data_table.ipynb>data table notebook</a>'\n",
              "            + ' to learn more about interactive tables.';\n",
              "          element.innerHTML = '';\n",
              "          dataTable['output_type'] = 'display_data';\n",
              "          await google.colab.output.renderOutput(dataTable, element);\n",
              "          const docLink = document.createElement('div');\n",
              "          docLink.innerHTML = docLinkHtml;\n",
              "          element.appendChild(docLink);\n",
              "        }\n",
              "      </script>\n",
              "    </div>\n",
              "  </div>\n",
              "  "
            ]
          },
          "metadata": {},
          "execution_count": 20
        }
      ],
      "source": [
        "y_train.clip(upper=189).head()"
      ]
    },
    {
      "cell_type": "code",
      "execution_count": 21,
      "metadata": {
        "id": "J42sZdWlFlF5"
      },
      "outputs": [],
      "source": [
        "model = Pipeline([\n",
        "    ('trf_reg' ,TransformedTargetRegressor(\n",
        "        check_inverse=False,\n",
        "        regressor   = LinearRegression(),\n",
        "        transformer = FunctionTransformer(np.clip, \n",
        "                                          kw_args={'a_min':0,'a_max':50})))\n",
        "    ])"
      ]
    },
    {
      "cell_type": "code",
      "execution_count": 23,
      "metadata": {
        "colab": {
          "base_uri": "https://localhost:8080/"
        },
        "id": "LecVj2kVEJgx",
        "outputId": "b61b3880-80d2-4138-fea5-dc1526aa1dbb"
      },
      "outputs": [
        {
          "output_type": "stream",
          "name": "stdout",
          "text": [
            "n_iterations: 4\n",
            "n_required_iterations: 4\n",
            "n_possible_iterations: 4\n",
            "min_resources_: 500\n",
            "max_resources_: 24720\n",
            "aggressive_elimination: False\n",
            "factor: 3\n",
            "----------\n",
            "iter: 0\n",
            "n_candidates: 49\n",
            "n_resources: 500\n",
            "Fitting 5 folds for each of 49 candidates, totalling 245 fits\n",
            "----------\n",
            "iter: 1\n",
            "n_candidates: 17\n",
            "n_resources: 1500\n",
            "Fitting 5 folds for each of 17 candidates, totalling 85 fits\n",
            "----------\n",
            "iter: 2\n",
            "n_candidates: 6\n",
            "n_resources: 4500\n",
            "Fitting 5 folds for each of 6 candidates, totalling 30 fits\n",
            "----------\n",
            "iter: 3\n",
            "n_candidates: 2\n",
            "n_resources: 13500\n",
            "Fitting 5 folds for each of 2 candidates, totalling 10 fits\n",
            "Best params:  {'trf_reg__transformer__kw_args': {'a_min': 0, 'a_max': 121}}\n",
            "Pipeline(steps=[('trf_reg',\n",
            "                 TransformedTargetRegressor(check_inverse=False,\n",
            "                                            regressor=LinearRegression(),\n",
            "                                            transformer=FunctionTransformer(func=<function clip at 0x7f4790d58c20>,\n",
            "                                                                            kw_args={'a_max': 121,\n",
            "                                                                                     'a_min': 0})))])\n"
          ]
        }
      ],
      "source": [
        "GRID_SEARCH = True\n",
        "if (GRID_SEARCH):\n",
        "    param_distributions = {\n",
        "        \"trf_reg__transformer__kw_args\": search.generate_clip_dicts(80,150,1)\n",
        "    }\n",
        "    model = search.run_HR_GS(model, X_train, y_train, param_distributions)\n",
        "    print(model)"
      ]
    },
    {
      "cell_type": "markdown",
      "metadata": {
        "id": "941d0KXxMZsB"
      },
      "source": [
        "Best Model:\n",
        "\n",
        "```\n",
        "{'trf_reg__transformer__kw_args': {'a_min': 0, 'a_max': 121}}\n",
        "```\n",
        "\n"
      ]
    },
    {
      "cell_type": "code",
      "execution_count": 24,
      "metadata": {
        "id": "e0OEtLzeEgOH",
        "colab": {
          "base_uri": "https://localhost:8080/"
        },
        "outputId": "cbfa54c5-c5eb-46f7-ce43-838de7d82721"
      },
      "outputs": [
        {
          "output_type": "execute_result",
          "data": {
            "text/plain": [
              "Pipeline(steps=[('trf_reg',\n",
              "                 TransformedTargetRegressor(check_inverse=False,\n",
              "                                            regressor=LinearRegression(),\n",
              "                                            transformer=FunctionTransformer(func=<function clip at 0x7f4790d58c20>,\n",
              "                                                                            kw_args={'a_max': 121,\n",
              "                                                                                     'a_min': 0})))])"
            ]
          },
          "metadata": {},
          "execution_count": 24
        }
      ],
      "source": [
        "model = Pipeline([\n",
        "    ('trf_reg' ,TransformedTargetRegressor(\n",
        "        check_inverse=False,\n",
        "        regressor   = LinearRegression(),\n",
        "        transformer = FunctionTransformer(np.clip, \n",
        "                                          kw_args={'a_min':0,'a_max':121})))\n",
        "    ])\n",
        "model"
      ]
    },
    {
      "cell_type": "code",
      "execution_count": 25,
      "metadata": {
        "colab": {
          "base_uri": "https://localhost:8080/"
        },
        "id": "8SVqLYhUF3aY",
        "outputId": "2d262e76-6f5b-49fc-9abe-44311b0a4db4"
      },
      "outputs": [
        {
          "output_type": "stream",
          "name": "stdout",
          "text": [
            "R2=0.776,RMSE=-18.503\n",
            "(CV) R2=0.762,RMSE=-18.871\n"
          ]
        }
      ],
      "source": [
        "model.fit(X_train, y_train)\n",
        "reclipped_y =  model['trf_reg'].transformer.transform(y_train)\n",
        "eval.show_result(reclipped_y, model.predict(X_train))\n",
        "eval.show_result_cv(reclipped_y, X_train, model)"
      ]
    },
    {
      "cell_type": "code",
      "execution_count": 26,
      "metadata": {
        "colab": {
          "base_uri": "https://localhost:8080/"
        },
        "id": "JoP9s0laF3aU",
        "outputId": "a87c0638-e7ea-4905-c409-7e73db62cc9c"
      },
      "outputs": [
        {
          "output_type": "stream",
          "name": "stdout",
          "text": [
            "R2=0.720,RMSE=-20.287\n"
          ]
        }
      ],
      "source": [
        "reclipped_y =  model['trf_reg'].transformer.transform(y_test)\n",
        "eval.show_result(reclipped_y, model.predict(X_test))"
      ]
    },
    {
      "cell_type": "markdown",
      "source": [
        "Just adding a non-linear improved results, as in the first set"
      ],
      "metadata": {
        "id": "nH8hZTqMxL6U"
      }
    },
    {
      "cell_type": "markdown",
      "metadata": {
        "id": "MQi8MHh20wou"
      },
      "source": [
        "## PolyFeatures + Linear RUL"
      ]
    },
    {
      "cell_type": "code",
      "execution_count": 27,
      "metadata": {
        "colab": {
          "base_uri": "https://localhost:8080/"
        },
        "id": "g3KHHSwr0wow",
        "outputId": "484a3df2-d7d6-4e0a-eaaa-0936a5f30e57"
      },
      "outputs": [
        {
          "output_type": "execute_result",
          "data": {
            "text/plain": [
              "Pipeline(steps=[('poly_ft', PolynomialFeatures()),\n",
              "                ('lin_reg', LinearRegression())])"
            ]
          },
          "metadata": {},
          "execution_count": 27
        }
      ],
      "source": [
        "model = Pipeline([\n",
        "    ('poly_ft'  ,   PolynomialFeatures()),\n",
        "    ('lin_reg'  ,   LinearRegression())\n",
        "])\n",
        "model"
      ]
    },
    {
      "cell_type": "code",
      "execution_count": 28,
      "metadata": {
        "id": "datMycLD0wox",
        "colab": {
          "base_uri": "https://localhost:8080/"
        },
        "outputId": "bfabf453-44a3-4edd-9e7f-38ea3e9c9f15"
      },
      "outputs": [
        {
          "output_type": "stream",
          "name": "stdout",
          "text": [
            "n_iterations: 3\n",
            "n_required_iterations: 3\n",
            "n_possible_iterations: 4\n",
            "min_resources_: 500\n",
            "max_resources_: 24720\n",
            "aggressive_elimination: False\n",
            "factor: 3\n",
            "----------\n",
            "iter: 0\n",
            "n_candidates: 12\n",
            "n_resources: 500\n",
            "Fitting 5 folds for each of 12 candidates, totalling 60 fits\n"
          ]
        },
        {
          "output_type": "stream",
          "name": "stderr",
          "text": [
            "/usr/local/lib/python3.7/dist-packages/sklearn/model_selection/_search.py:296: UserWarning: The total space of parameters 12 is smaller than n_iter=49. Running 12 iterations. For exhaustive searches, use GridSearchCV.\n",
            "  UserWarning,\n"
          ]
        },
        {
          "output_type": "stream",
          "name": "stdout",
          "text": [
            "----------\n",
            "iter: 1\n",
            "n_candidates: 4\n",
            "n_resources: 1500\n",
            "Fitting 5 folds for each of 4 candidates, totalling 20 fits\n",
            "----------\n",
            "iter: 2\n",
            "n_candidates: 2\n",
            "n_resources: 4500\n",
            "Fitting 5 folds for each of 2 candidates, totalling 10 fits\n",
            "Best params:  {'poly_ft__interaction_only': False, 'poly_ft__include_bias': False, 'poly_ft__degree': 1}\n",
            "Pipeline(steps=[('poly_ft', PolynomialFeatures(degree=1, include_bias=False)),\n",
            "                ('lin_reg', LinearRegression())])\n"
          ]
        }
      ],
      "source": [
        "GRID_SEARCH = True\n",
        "if (GRID_SEARCH):\n",
        "    param_distributions = {\n",
        "        \"poly_ft__degree\": [1,2,3],\n",
        "        \"poly_ft__interaction_only\": [False, True],\n",
        "        \"poly_ft__include_bias\": [True, False]\n",
        "    }\n",
        "    model = search.run_HR_GS(model, X_train, y_train, \n",
        "                            param_distributions, scorer='r2')\n",
        "    print(model)"
      ]
    },
    {
      "cell_type": "markdown",
      "metadata": {
        "id": "ELoCa-ue0woy"
      },
      "source": [
        "Best Model:\n",
        "```\n",
        "PolynomialFeatures(degree=1, include_bias=False)\n",
        "```\n"
      ]
    },
    {
      "cell_type": "code",
      "execution_count": 29,
      "metadata": {
        "colab": {
          "base_uri": "https://localhost:8080/"
        },
        "id": "7Lqp1b3N0woz",
        "outputId": "a1530e6e-5edf-4456-cb62-455c172b0e25"
      },
      "outputs": [
        {
          "output_type": "execute_result",
          "data": {
            "text/plain": [
              "Pipeline(steps=[('poly_ft', PolynomialFeatures(degree=1, include_bias=False)),\n",
              "                ('lin_reg', LinearRegression())])"
            ]
          },
          "metadata": {},
          "execution_count": 29
        }
      ],
      "source": [
        "model = Pipeline([\n",
        "    ('poly_ft'  ,   PolynomialFeatures(degree=1, include_bias=False)),\n",
        "    ('lin_reg'  ,   LinearRegression())\n",
        "])\n",
        "model"
      ]
    },
    {
      "cell_type": "code",
      "execution_count": 30,
      "metadata": {
        "colab": {
          "base_uri": "https://localhost:8080/"
        },
        "id": "31OBJmT60wo1",
        "outputId": "18c91b4c-4123-4df7-f798-16a301b2f6cd"
      },
      "outputs": [
        {
          "output_type": "stream",
          "name": "stdout",
          "text": [
            "R2=0.587,RMSE=-63.494\n",
            "(CV) R2=0.543,RMSE=-65.175\n"
          ]
        }
      ],
      "source": [
        "model.fit(X_train, y_train)\n",
        "eval.show_result(y_train, model.predict(X_train))\n",
        "eval.show_result_cv(y_train, X_train, model)"
      ]
    },
    {
      "cell_type": "code",
      "execution_count": 31,
      "metadata": {
        "colab": {
          "base_uri": "https://localhost:8080/"
        },
        "id": "PWLNXSit0wo2",
        "outputId": "8cc6f881-a63e-4cb3-e7d8-c6bcdb8b4002"
      },
      "outputs": [
        {
          "output_type": "stream",
          "name": "stdout",
          "text": [
            "R2=-0.900,RMSE=-57.057\n"
          ]
        }
      ],
      "source": [
        "eval.show_result(y_test, model.predict(X_test))"
      ]
    },
    {
      "cell_type": "markdown",
      "metadata": {
        "id": "9WTjNfG70wo3"
      },
      "source": [
        "No clear benefit from polynomial features in linear RUL for simple linear regression. Actually, the degree stayed in 1, i.e., without those features."
      ]
    },
    {
      "cell_type": "markdown",
      "metadata": {
        "id": "BlwL5EnXQcuy"
      },
      "source": [
        "## PolyFeatures + Non-Linear RUL"
      ]
    },
    {
      "cell_type": "code",
      "execution_count": 32,
      "metadata": {
        "id": "CH-5TST3Qkrr"
      },
      "outputs": [],
      "source": [
        "model = Pipeline([\n",
        "    ('poly_ft'  ,   PolynomialFeatures()),\n",
        "    ('trf_reg' ,TransformedTargetRegressor(\n",
        "        check_inverse=False,\n",
        "        regressor   = LinearRegression(),\n",
        "        transformer = FunctionTransformer(np.clip, \n",
        "                                          kw_args={'a_min':0,'a_max':96})))\n",
        "])"
      ]
    },
    {
      "cell_type": "code",
      "execution_count": 34,
      "metadata": {
        "id": "RKz_WrPIyNZZ",
        "colab": {
          "base_uri": "https://localhost:8080/"
        },
        "outputId": "628d32a6-da37-4a3e-dbb6-c43350b03800"
      },
      "outputs": [
        {
          "output_type": "stream",
          "name": "stdout",
          "text": [
            "n_iterations: 4\n",
            "n_required_iterations: 4\n",
            "n_possible_iterations: 4\n",
            "min_resources_: 500\n",
            "max_resources_: 24720\n",
            "aggressive_elimination: False\n",
            "factor: 3\n",
            "----------\n",
            "iter: 0\n",
            "n_candidates: 49\n",
            "n_resources: 500\n",
            "Fitting 5 folds for each of 49 candidates, totalling 245 fits\n",
            "----------\n",
            "iter: 1\n",
            "n_candidates: 17\n",
            "n_resources: 1500\n",
            "Fitting 5 folds for each of 17 candidates, totalling 85 fits\n",
            "----------\n",
            "iter: 2\n",
            "n_candidates: 6\n",
            "n_resources: 4500\n",
            "Fitting 5 folds for each of 6 candidates, totalling 30 fits\n",
            "----------\n",
            "iter: 3\n",
            "n_candidates: 2\n",
            "n_resources: 13500\n",
            "Fitting 5 folds for each of 2 candidates, totalling 10 fits\n",
            "Best params:  {'trf_reg__transformer__kw_args': {'a_min': 0, 'a_max': 107}, 'poly_ft__interaction_only': True, 'poly_ft__include_bias': False, 'poly_ft__degree': 1}\n",
            "Pipeline(steps=[('poly_ft',\n",
            "                 PolynomialFeatures(degree=1, include_bias=False,\n",
            "                                    interaction_only=True)),\n",
            "                ('trf_reg',\n",
            "                 TransformedTargetRegressor(check_inverse=False,\n",
            "                                            regressor=LinearRegression(),\n",
            "                                            transformer=FunctionTransformer(func=<function clip at 0x7f4790d58c20>,\n",
            "                                                                            kw_args={'a_max': 107,\n",
            "                                                                                     'a_min': 0})))])\n"
          ]
        }
      ],
      "source": [
        "GRID_SEARCH = True\n",
        "if (GRID_SEARCH):\n",
        "    param_distributions = {\n",
        "        \"poly_ft__degree\": [1,2,3],\n",
        "        \"poly_ft__interaction_only\": [False, True],\n",
        "        \"poly_ft__include_bias\": [True, False],\n",
        "        \"trf_reg__transformer__kw_args\": search.generate_clip_dicts(70,150,1)\n",
        "    }\n",
        "    model = search.run_HR_GS(model, X_train, y_train, param_distributions)\n",
        "    print(model)"
      ]
    },
    {
      "cell_type": "markdown",
      "metadata": {
        "id": "Vup8Svzqyt6w"
      },
      "source": [
        "Best Model:\n",
        "```\n",
        "{'trf_reg__transformer__kw_args': {'a_min': 0, 'a_max': 107}, \n",
        "PolynomialFeatures(degree=1, include_bias=False,\n",
        "                                    interaction_only=True))\n",
        "```\n"
      ]
    },
    {
      "cell_type": "code",
      "execution_count": 36,
      "metadata": {
        "colab": {
          "base_uri": "https://localhost:8080/"
        },
        "id": "aLC6mfh4y7vG",
        "outputId": "0d5bbeb5-a6c9-4941-f9db-cd0dc022b4dd"
      },
      "outputs": [
        {
          "output_type": "execute_result",
          "data": {
            "text/plain": [
              "Pipeline(steps=[('poly_ft',\n",
              "                 PolynomialFeatures(degree=1, include_bias=False,\n",
              "                                    interaction_only=True)),\n",
              "                ('trf_reg',\n",
              "                 TransformedTargetRegressor(check_inverse=False,\n",
              "                                            regressor=LinearRegression(),\n",
              "                                            transformer=FunctionTransformer(func=<function clip at 0x7f4790d58c20>,\n",
              "                                                                            kw_args={'a_max': 107,\n",
              "                                                                                     'a_min': 0})))])"
            ]
          },
          "metadata": {},
          "execution_count": 36
        }
      ],
      "source": [
        "model = Pipeline([\n",
        "    ('poly_ft'  ,   PolynomialFeatures(degree=1, include_bias=False,\n",
        "                                    interaction_only=True)),\n",
        "    ('trf_reg' ,TransformedTargetRegressor(\n",
        "        check_inverse=False,\n",
        "        regressor   = LinearRegression(),\n",
        "        transformer = FunctionTransformer(np.clip, \n",
        "                                          kw_args={'a_min':0,'a_max':107})))\n",
        "])\n",
        "model"
      ]
    },
    {
      "cell_type": "code",
      "execution_count": 37,
      "metadata": {
        "colab": {
          "base_uri": "https://localhost:8080/"
        },
        "id": "kgQSMjnVy7vJ",
        "outputId": "d522959f-5a21-45c2-9b57-332a3a8e48cd"
      },
      "outputs": [
        {
          "output_type": "stream",
          "name": "stdout",
          "text": [
            "R2=0.780,RMSE=-15.763\n",
            "(CV) R2=0.766,RMSE=-16.087\n"
          ]
        }
      ],
      "source": [
        "model.fit(X_train, y_train)\n",
        "reclipped_y =  model['trf_reg'].transformer.transform(y_train)\n",
        "eval.show_result(reclipped_y, model.predict(X_train))\n",
        "eval.show_result_cv(reclipped_y, X_train, model)"
      ]
    },
    {
      "cell_type": "code",
      "execution_count": 38,
      "metadata": {
        "colab": {
          "base_uri": "https://localhost:8080/"
        },
        "id": "_WsTCV9qy7vJ",
        "outputId": "37053639-8818-463f-b011-631c7659290b"
      },
      "outputs": [
        {
          "output_type": "stream",
          "name": "stdout",
          "text": [
            "R2=0.753,RMSE=-17.115\n"
          ]
        }
      ],
      "source": [
        "reclipped_y =  model['trf_reg'].transformer.transform(y_test)\n",
        "eval.show_result(reclipped_y, model.predict(X_test))"
      ]
    },
    {
      "cell_type": "markdown",
      "metadata": {
        "id": "wIzjL0VJ0hfH"
      },
      "source": [
        "There was a slight increase in performance when comparing to the scenario without the polynomial features."
      ]
    },
    {
      "cell_type": "markdown",
      "metadata": {
        "id": "NPEyhRGXwy5e"
      },
      "source": [
        "# SGD Regressor"
      ]
    },
    {
      "cell_type": "markdown",
      "metadata": {
        "id": "_6O2SZw9xERZ"
      },
      "source": [
        "The class SGDRegressor implements a plain stochastic gradient descent learning routine which supports different loss functions and penalties to fit linear regression models. **SGDRegressor is well suited for regression problems with a large number of training samples (> 10.000)**, for other problems we recommend Ridge, Lasso, or ElasticNet."
      ]
    },
    {
      "cell_type": "markdown",
      "metadata": {
        "id": "do-hSx0G3M0P"
      },
      "source": [
        "## Linear RUL"
      ]
    },
    {
      "cell_type": "code",
      "execution_count": 39,
      "metadata": {
        "id": "cZNu653k3THD"
      },
      "outputs": [],
      "source": [
        "model = Pipeline([\n",
        "    ('scaler'   ,   StandardScaler()),\n",
        "    ('lin_reg'  ,   SGDRegressor())\n",
        "])"
      ]
    },
    {
      "cell_type": "code",
      "execution_count": 40,
      "metadata": {
        "id": "4GsfZJuV3xlH"
      },
      "outputs": [],
      "source": [
        "# We need specific shape 1D arrays for this model\n",
        "y_train = np.array(y_train).ravel()"
      ]
    },
    {
      "cell_type": "code",
      "execution_count": 42,
      "metadata": {
        "id": "WC6If3Pr3fKf",
        "colab": {
          "base_uri": "https://localhost:8080/"
        },
        "outputId": "9ec0a7e0-4395-4ce5-f8b9-1e6a5608c6cf"
      },
      "outputs": [
        {
          "output_type": "stream",
          "name": "stdout",
          "text": [
            "n_iterations: 4\n",
            "n_required_iterations: 4\n",
            "n_possible_iterations: 4\n",
            "min_resources_: 500\n",
            "max_resources_: 24720\n",
            "aggressive_elimination: False\n",
            "factor: 3\n",
            "----------\n",
            "iter: 0\n",
            "n_candidates: 49\n",
            "n_resources: 500\n",
            "Fitting 5 folds for each of 49 candidates, totalling 245 fits\n",
            "----------\n",
            "iter: 1\n",
            "n_candidates: 17\n",
            "n_resources: 1500\n",
            "Fitting 5 folds for each of 17 candidates, totalling 85 fits\n",
            "----------\n",
            "iter: 2\n",
            "n_candidates: 6\n",
            "n_resources: 4500\n",
            "Fitting 5 folds for each of 6 candidates, totalling 30 fits\n",
            "----------\n",
            "iter: 3\n",
            "n_candidates: 2\n",
            "n_resources: 13500\n",
            "Fitting 5 folds for each of 2 candidates, totalling 10 fits\n",
            "Best params:  {'lin_reg__validation_fraction': 0.1, 'lin_reg__tol': 1e-07, 'lin_reg__power_t': 0.5, 'lin_reg__penalty': 'l1', 'lin_reg__n_iter_no_change': 1, 'lin_reg__max_iter': 3000, 'lin_reg__loss': 'squared_error', 'lin_reg__learning_rate': 'invscaling', 'lin_reg__eta0': 0.01, 'lin_reg__epsilon': 1.1, 'lin_reg__early_stopping': False, 'lin_reg__average': 20, 'lin_reg__alpha': 0.0001}\n",
            "Pipeline(steps=[('scaler', StandardScaler()),\n",
            "                ('lin_reg',\n",
            "                 SGDRegressor(average=20, epsilon=1.1, max_iter=3000,\n",
            "                              n_iter_no_change=1, penalty='l1', power_t=0.5,\n",
            "                              tol=1e-07))])\n"
          ]
        }
      ],
      "source": [
        "GRID_SEARCH = False\n",
        "if (GRID_SEARCH):\n",
        "    param_distributions = {\n",
        "        \"lin_reg__loss\": ['squared_error', 'huber', 'epsilon_insensitive'],\n",
        "        \"lin_reg__penalty\": ['l2', 'l1', 'elasticnet'],\n",
        "        \"lin_reg__epsilon\": [1.1,1.35,1.5,2,2.5,3,3.5,4,4.5,5.5,6],\n",
        "        \"lin_reg__alpha\":[1e-2,1e-3,1e-4,1e-5,1e-6,1e-7],\n",
        "        \"lin_reg__max_iter\": [1000,1500,2000,2500,3000],\n",
        "        \"lin_reg__tol\": [1e-3,1e-4,1e-5,1e-6,1e-7],\n",
        "        \"lin_reg__learning_rate\":['invscaling','constant','optimal','adaptive'],\n",
        "        \"lin_reg__eta0\": [1e-1,1e-2,1e-3,1e-4,1e-5,1e-6],\n",
        "        \"lin_reg__power_t\": [1.25,1,0.75,0.5,0.25,0.1],\n",
        "        \"lin_reg__early_stopping\": [True,False],\n",
        "        \"lin_reg__validation_fraction\": [0.1,0.2,0.3,0.4,0.5,0.6],\n",
        "        \"lin_reg__n_iter_no_change\": [1,2,5,8,10,15,20],\n",
        "        \"lin_reg__average\": [False, 1,2,5,10,20]\n",
        "    }\n",
        "    model = search.run_HR_GS(model, X_train, y_train, param_distributions, \n",
        "                            scorer='r2', ignore_warnings=True)\n",
        "    print(model)"
      ]
    },
    {
      "cell_type": "markdown",
      "metadata": {
        "id": "5fZJucOw4MJX"
      },
      "source": [
        "Best Model:\n",
        "```\n",
        "SGDRegressor(average=20, epsilon=1.1, max_iter=3000,\n",
        "            n_iter_no_change=1, penalty='l1', power_t=0.5,\n",
        "            tol=1e-07))\n",
        "```"
      ]
    },
    {
      "cell_type": "code",
      "execution_count": 43,
      "metadata": {
        "colab": {
          "base_uri": "https://localhost:8080/"
        },
        "id": "3LtQtqzw4Ks9",
        "outputId": "2504cf04-8e2f-4f81-94d9-05bb7189a1f8"
      },
      "outputs": [
        {
          "output_type": "execute_result",
          "data": {
            "text/plain": [
              "Pipeline(steps=[('scaler', StandardScaler()),\n",
              "                ('lin_reg',\n",
              "                 SGDRegressor(average=20, epsilon=1.1, max_iter=3000,\n",
              "                              n_iter_no_change=1, penalty='l1', power_t=0.5,\n",
              "                              tol=1e-07))])"
            ]
          },
          "metadata": {},
          "execution_count": 43
        }
      ],
      "source": [
        "model = Pipeline([\n",
        "    ('scaler'   ,   StandardScaler()),\n",
        "    ('lin_reg'  ,   SGDRegressor(average=20, epsilon=1.1, max_iter=3000,\n",
        "                        n_iter_no_change=1, penalty='l1', power_t=0.5,\n",
        "                        tol=1e-07))\n",
        "])\n",
        "model"
      ]
    },
    {
      "cell_type": "code",
      "execution_count": 44,
      "metadata": {
        "colab": {
          "base_uri": "https://localhost:8080/"
        },
        "id": "_2zaIdQW3TK3",
        "outputId": "269f46cd-ed2f-460f-8680-3527496f8805"
      },
      "outputs": [
        {
          "output_type": "stream",
          "name": "stdout",
          "text": [
            "R2=0.586,RMSE=-63.567\n",
            "(CV) R2=0.544,RMSE=-64.895\n"
          ]
        }
      ],
      "source": [
        "model.fit(X_train, y_train)\n",
        "eval.show_result(y_train, model.predict(X_train))\n",
        "eval.show_result_cv(y_train, X_train, model)"
      ]
    },
    {
      "cell_type": "code",
      "execution_count": 45,
      "metadata": {
        "colab": {
          "base_uri": "https://localhost:8080/"
        },
        "id": "2EUrftg63TK3",
        "outputId": "8d7f57d8-a0f8-49c4-ba0c-9098356f998f"
      },
      "outputs": [
        {
          "output_type": "stream",
          "name": "stdout",
          "text": [
            "R2=-0.792,RMSE=-55.419\n"
          ]
        }
      ],
      "source": [
        "X_test = test_last\n",
        "eval.show_result(y_test, model.predict(X_test))"
      ]
    },
    {
      "cell_type": "markdown",
      "metadata": {
        "id": "5zcl0bgA4k7v"
      },
      "source": [
        "Poor results without non-lineariy of RUL. Comparable to regular LinearRegressor."
      ]
    },
    {
      "cell_type": "markdown",
      "metadata": {
        "id": "FiRLfiCC4ost"
      },
      "source": [
        "## Non-linear RUL"
      ]
    },
    {
      "cell_type": "code",
      "execution_count": 46,
      "metadata": {
        "id": "0I7Xdpr0407W"
      },
      "outputs": [],
      "source": [
        "model = Pipeline([\n",
        "    ('scaler'   ,   StandardScaler()),\n",
        "    ('trf_reg' ,TransformedTargetRegressor(\n",
        "        check_inverse=False,\n",
        "        regressor   = SGDRegressor(),\n",
        "        transformer = FunctionTransformer(np.clip, \n",
        "                                          kw_args={'a_min':0,'a_max':50})))\n",
        "    ])"
      ]
    },
    {
      "cell_type": "code",
      "execution_count": 47,
      "metadata": {
        "id": "v3ijo2aP407X",
        "colab": {
          "base_uri": "https://localhost:8080/"
        },
        "outputId": "15de8619-8ae8-46ce-e684-422c8869a1a1"
      },
      "outputs": [
        {
          "output_type": "stream",
          "name": "stdout",
          "text": [
            "n_iterations: 4\n",
            "n_required_iterations: 4\n",
            "n_possible_iterations: 4\n",
            "min_resources_: 500\n",
            "max_resources_: 24720\n",
            "aggressive_elimination: False\n",
            "factor: 3\n",
            "----------\n",
            "iter: 0\n",
            "n_candidates: 49\n",
            "n_resources: 500\n",
            "Fitting 5 folds for each of 49 candidates, totalling 245 fits\n",
            "----------\n",
            "iter: 1\n",
            "n_candidates: 17\n",
            "n_resources: 1500\n",
            "Fitting 5 folds for each of 17 candidates, totalling 85 fits\n",
            "----------\n",
            "iter: 2\n",
            "n_candidates: 6\n",
            "n_resources: 4500\n",
            "Fitting 5 folds for each of 6 candidates, totalling 30 fits\n",
            "----------\n",
            "iter: 3\n",
            "n_candidates: 2\n",
            "n_resources: 13500\n",
            "Fitting 5 folds for each of 2 candidates, totalling 10 fits\n",
            "Best params:  {'trf_reg__transformer__kw_args': {'a_min': 0, 'a_max': 107}, 'trf_reg__regressor__validation_fraction': 0.6, 'trf_reg__regressor__tol': 0.001, 'trf_reg__regressor__power_t': 0.1, 'trf_reg__regressor__penalty': 'l1', 'trf_reg__regressor__n_iter_no_change': 10, 'trf_reg__regressor__max_iter': 1000, 'trf_reg__regressor__loss': 'squared_error', 'trf_reg__regressor__learning_rate': 'constant', 'trf_reg__regressor__eta0': 0.0001, 'trf_reg__regressor__epsilon': 6, 'trf_reg__regressor__early_stopping': False, 'trf_reg__regressor__average': False, 'trf_reg__regressor__alpha': 0.0001}\n",
            "Pipeline(steps=[('scaler', StandardScaler()),\n",
            "                ('trf_reg',\n",
            "                 TransformedTargetRegressor(check_inverse=False,\n",
            "                                            regressor=SGDRegressor(epsilon=6,\n",
            "                                                                   eta0=0.0001,\n",
            "                                                                   learning_rate='constant',\n",
            "                                                                   n_iter_no_change=10,\n",
            "                                                                   penalty='l1',\n",
            "                                                                   power_t=0.1,\n",
            "                                                                   validation_fraction=0.6),\n",
            "                                            transformer=FunctionTransformer(func=<function clip at 0x7f4790d58c20>,\n",
            "                                                                            kw_args={'a_max': 107,\n",
            "                                                                                     'a_min': 0})))])\n"
          ]
        }
      ],
      "source": [
        "GRID_SEARCH = False\n",
        "if (GRID_SEARCH):\n",
        "    param_distributions = {\n",
        "        \"trf_reg__transformer__kw_args\": search.generate_clip_dicts(80,150,1),\n",
        "        \"trf_reg__regressor__loss\": ['squared_error', 'huber', 'epsilon_insensitive'],\n",
        "        \"trf_reg__regressor__penalty\": ['l2', 'l1', 'elasticnet'],\n",
        "        \"trf_reg__regressor__epsilon\": [1.1,1.35,1.5,2,2.5,3,3.5,4,4.5,5.5,6],\n",
        "        \"trf_reg__regressor__alpha\":[1e-2,1e-3,1e-4,1e-5,1e-6,1e-7],\n",
        "        \"trf_reg__regressor__max_iter\": [1000,1500,2000,2500,3000],\n",
        "        \"trf_reg__regressor__tol\": [1e-3,1e-4,1e-5,1e-6,1e-7],\n",
        "        \"trf_reg__regressor__learning_rate\":['invscaling','constant','optimal','adaptive'],\n",
        "        \"trf_reg__regressor__eta0\": [1e-1,1e-2,1e-3,1e-4,1e-5,1e-6],\n",
        "        \"trf_reg__regressor__power_t\": [1.25,1,0.75,0.5,0.25,0.1],\n",
        "        \"trf_reg__regressor__early_stopping\": [True,False],\n",
        "        \"trf_reg__regressor__validation_fraction\": [0.1,0.2,0.3,0.4,0.5,0.6],\n",
        "        \"trf_reg__regressor__n_iter_no_change\": [1,2,5,8,10,15,20],\n",
        "        \"trf_reg__regressor__average\": [False, 1,2,5,10,20]\n",
        "    }\n",
        "    model = search.run_HR_GS(model, X_train, y_train, \n",
        "                            param_distributions, ignore_warnings=True)\n",
        "    print(model)"
      ]
    },
    {
      "cell_type": "markdown",
      "metadata": {
        "id": "bKZoX4i15VzV"
      },
      "source": [
        "Best Model:\n",
        "```\n",
        "kw_args={'a_max': 107,'a_min': 0}))\n",
        "\n",
        "SGDRegressor(epsilon=6,\n",
        "            eta0=0.0001,\n",
        "            learning_rate='constant',\n",
        "            n_iter_no_change=10,\n",
        "            penalty='l1',\n",
        "            power_t=0.1,\n",
        "            validation_fraction=0.6),\n",
        "```"
      ]
    },
    {
      "cell_type": "code",
      "execution_count": 48,
      "metadata": {
        "colab": {
          "base_uri": "https://localhost:8080/"
        },
        "id": "_IBWeewp5VzX",
        "outputId": "3ff2c379-a258-448e-9b21-ae6cdd02ba47"
      },
      "outputs": [
        {
          "output_type": "execute_result",
          "data": {
            "text/plain": [
              "Pipeline(steps=[('scaler', StandardScaler()),\n",
              "                ('trf_reg',\n",
              "                 TransformedTargetRegressor(check_inverse=False,\n",
              "                                            regressor=SGDRegressor(epsilon=6,\n",
              "                                                                   eta0=0.0001,\n",
              "                                                                   learning_rate='constant',\n",
              "                                                                   n_iter_no_change=10,\n",
              "                                                                   penalty='l1',\n",
              "                                                                   power_t=0.1,\n",
              "                                                                   validation_fraction=0.6),\n",
              "                                            transformer=FunctionTransformer(func=<function clip at 0x7f4790d58c20>,\n",
              "                                                                            kw_args={'a_max': 107,\n",
              "                                                                                     'a_min': 0})))])"
            ]
          },
          "metadata": {},
          "execution_count": 48
        }
      ],
      "source": [
        "model = Pipeline([\n",
        "    ('scaler'   ,   StandardScaler()),\n",
        "    ('trf_reg' ,TransformedTargetRegressor(\n",
        "        check_inverse=False,\n",
        "        regressor=SGDRegressor(epsilon=6,\n",
        "                                eta0=0.0001,\n",
        "                                learning_rate='constant',\n",
        "                                n_iter_no_change=10,\n",
        "                                penalty='l1',\n",
        "                                power_t=0.1,\n",
        "                                validation_fraction=0.6),\n",
        "        transformer = FunctionTransformer(np.clip, \n",
        "                                          kw_args={'a_min':0,'a_max':107})))\n",
        "    ])\n",
        "model"
      ]
    },
    {
      "cell_type": "code",
      "execution_count": 49,
      "metadata": {
        "colab": {
          "base_uri": "https://localhost:8080/"
        },
        "id": "QiEBgLs95VzY",
        "outputId": "b20cbbe7-eb28-48d0-c06b-63e7f0137ba0"
      },
      "outputs": [
        {
          "output_type": "stream",
          "name": "stdout",
          "text": [
            "R2=0.780,RMSE=-15.767\n",
            "(CV) R2=0.767,RMSE=-16.082\n"
          ]
        }
      ],
      "source": [
        "model.fit(X_train, y_train)\n",
        "reclipped_y =  model['trf_reg'].transformer.transform(y_train)\n",
        "eval.show_result(reclipped_y, model.predict(X_train))\n",
        "eval.show_result_cv(reclipped_y, X_train, model)"
      ]
    },
    {
      "cell_type": "code",
      "execution_count": 50,
      "metadata": {
        "colab": {
          "base_uri": "https://localhost:8080/"
        },
        "id": "Efp3h9pf5VzZ",
        "outputId": "faf20132-0cff-4187-9627-c0847f25aef0"
      },
      "outputs": [
        {
          "output_type": "stream",
          "name": "stdout",
          "text": [
            "R2=0.755,RMSE=-17.036\n"
          ]
        }
      ],
      "source": [
        "reclipped_y =  model['trf_reg'].transformer.transform(y_test)\n",
        "eval.show_result(reclipped_y, model.predict(X_test))"
      ]
    },
    {
      "cell_type": "markdown",
      "metadata": {
        "id": "0R2xFyXo5VzZ"
      },
      "source": [
        "Achieved training results from non-linear RUL Linear Regressor, but with a little better test result. However the LinearRegressor had a clipping of 121 instead of 104."
      ]
    },
    {
      "cell_type": "markdown",
      "metadata": {
        "id": "91WW6IdH6zIz"
      },
      "source": [
        "## PolyFeatures + Linear RUL"
      ]
    },
    {
      "cell_type": "code",
      "execution_count": 51,
      "metadata": {
        "id": "B9SQXyds6zI0"
      },
      "outputs": [],
      "source": [
        "model = Pipeline([\n",
        "    ('poly_ft'  ,   PolynomialFeatures()),\n",
        "    ('scaler'   ,   StandardScaler()),\n",
        "    ('lin_reg'  ,   SGDRegressor())\n",
        "])"
      ]
    },
    {
      "cell_type": "code",
      "execution_count": 52,
      "metadata": {
        "id": "kxqsGzzQ6zI1",
        "colab": {
          "base_uri": "https://localhost:8080/"
        },
        "outputId": "d4776aaf-c33b-4b82-805c-184239afc51a"
      },
      "outputs": [
        {
          "output_type": "stream",
          "name": "stdout",
          "text": [
            "n_iterations: 4\n",
            "n_required_iterations: 4\n",
            "n_possible_iterations: 4\n",
            "min_resources_: 500\n",
            "max_resources_: 24720\n",
            "aggressive_elimination: False\n",
            "factor: 3\n",
            "----------\n",
            "iter: 0\n",
            "n_candidates: 49\n",
            "n_resources: 500\n",
            "Fitting 5 folds for each of 49 candidates, totalling 245 fits\n",
            "----------\n",
            "iter: 1\n",
            "n_candidates: 17\n",
            "n_resources: 1500\n",
            "Fitting 5 folds for each of 17 candidates, totalling 85 fits\n",
            "----------\n",
            "iter: 2\n",
            "n_candidates: 6\n",
            "n_resources: 4500\n",
            "Fitting 5 folds for each of 6 candidates, totalling 30 fits\n",
            "----------\n",
            "iter: 3\n",
            "n_candidates: 2\n",
            "n_resources: 13500\n",
            "Fitting 5 folds for each of 2 candidates, totalling 10 fits\n",
            "Best params:  {'poly_ft__interaction_only': False, 'poly_ft__include_bias': False, 'poly_ft__degree': 3, 'lin_reg__validation_fraction': 0.1, 'lin_reg__tol': 0.0001, 'lin_reg__power_t': 0.25, 'lin_reg__penalty': 'elasticnet', 'lin_reg__n_iter_no_change': 10, 'lin_reg__max_iter': 2000, 'lin_reg__loss': 'squared_error', 'lin_reg__learning_rate': 'adaptive', 'lin_reg__eta0': 0.0001, 'lin_reg__epsilon': 6, 'lin_reg__early_stopping': False, 'lin_reg__average': 1, 'lin_reg__alpha': 1e-06}\n",
            "Pipeline(steps=[('poly_ft', PolynomialFeatures(degree=3, include_bias=False)),\n",
            "                ('scaler', StandardScaler()),\n",
            "                ('lin_reg',\n",
            "                 SGDRegressor(alpha=1e-06, average=1, epsilon=6, eta0=0.0001,\n",
            "                              learning_rate='adaptive', max_iter=2000,\n",
            "                              n_iter_no_change=10, penalty='elasticnet',\n",
            "                              tol=0.0001))])\n"
          ]
        }
      ],
      "source": [
        "# ~5min\n",
        "GRID_SEARCH = False\n",
        "if (GRID_SEARCH):\n",
        "    param_distributions = {\n",
        "        \"poly_ft__degree\": [1,2,3],\n",
        "        \"poly_ft__interaction_only\": [False, True],\n",
        "        \"poly_ft__include_bias\": [True, False],\n",
        "        \"lin_reg__loss\": ['squared_error', 'huber', 'epsilon_insensitive'],\n",
        "        \"lin_reg__penalty\": ['l2', 'l1', 'elasticnet'],\n",
        "        \"lin_reg__epsilon\": [1.1,1.35,1.5,2,2.5,3,3.5,4,4.5,5.5,6],\n",
        "        \"lin_reg__alpha\":[1e-2,1e-3,1e-4,1e-5,1e-6,1e-7],\n",
        "        \"lin_reg__max_iter\": [1000,1500,2000,2500,3000],\n",
        "        \"lin_reg__tol\": [1e-3,1e-4,1e-5,1e-6,1e-7],\n",
        "        \"lin_reg__learning_rate\":['invscaling','constant','optimal','adaptive'],\n",
        "        \"lin_reg__eta0\": [1e-1,1e-2,1e-3,1e-4,1e-5,1e-6],\n",
        "        \"lin_reg__power_t\": [1.25,1,0.75,0.5,0.25,0.1],\n",
        "        \"lin_reg__early_stopping\": [True,False],\n",
        "        \"lin_reg__validation_fraction\": [0.1,0.2,0.3,0.4,0.5,0.6],\n",
        "        \"lin_reg__n_iter_no_change\": [1,2,5,8,10,15,20],\n",
        "        \"lin_reg__average\": [False, 1,2,5,10,20]\n",
        "    }\n",
        "    model = search.run_HR_GS(model, X_train, y_train, param_distributions,\n",
        "                            ignore_warnings=True, scorer='r2')\n",
        "    print(model)"
      ]
    },
    {
      "cell_type": "markdown",
      "metadata": {
        "id": "ezfhC0xn6zI2"
      },
      "source": [
        "Best Model:\n",
        "```\n",
        "Pipeline(steps=[('poly_ft', PolynomialFeatures(degree=3, include_bias=False)),\n",
        "                ('scaler', StandardScaler()),\n",
        "                ('lin_reg',\n",
        "                 SGDRegressor(alpha=1e-06, average=1, epsilon=6, eta0=0.0001,\n",
        "                              learning_rate='adaptive', max_iter=2000,\n",
        "                              n_iter_no_change=10, penalty='elasticnet',\n",
        "                              tol=0.0001)\n",
        "```\n"
      ]
    },
    {
      "cell_type": "code",
      "execution_count": 53,
      "metadata": {
        "colab": {
          "base_uri": "https://localhost:8080/"
        },
        "id": "YpMbNXtG6zI3",
        "outputId": "01be51a9-26f3-4104-ee34-d2103e7ed03b"
      },
      "outputs": [
        {
          "output_type": "execute_result",
          "data": {
            "text/plain": [
              "Pipeline(steps=[('poly_ft', PolynomialFeatures(degree=3, include_bias=False)),\n",
              "                ('scaler', StandardScaler()),\n",
              "                ('lin_reg',\n",
              "                 SGDRegressor(alpha=1e-06, average=1, epsilon=6, eta0=0.0001,\n",
              "                              learning_rate='adaptive', max_iter=2000,\n",
              "                              n_iter_no_change=10, penalty='elasticnet',\n",
              "                              tol=0.0001))])"
            ]
          },
          "metadata": {},
          "execution_count": 53
        }
      ],
      "source": [
        "model = Pipeline([\n",
        "    ('poly_ft', PolynomialFeatures(degree=3, include_bias=False)),\n",
        "    ('scaler', StandardScaler()),\n",
        "    ('lin_reg',  SGDRegressor(alpha=1e-06, average=1, epsilon=6, eta0=0.0001,\n",
        "                              learning_rate='adaptive', max_iter=2000,\n",
        "                              n_iter_no_change=10, penalty='elasticnet',\n",
        "                              tol=0.0001))\n",
        "])\n",
        "model"
      ]
    },
    {
      "cell_type": "code",
      "execution_count": 54,
      "metadata": {
        "colab": {
          "base_uri": "https://localhost:8080/"
        },
        "id": "5mG9kbZP6zI3",
        "outputId": "ecf6c8ac-74f5-4588-c1e4-da9568fe0e6e"
      },
      "outputs": [
        {
          "output_type": "stream",
          "name": "stdout",
          "text": [
            "R2=0.612,RMSE=-61.593\n",
            "(CV) R2=0.561,RMSE=-63.814\n"
          ]
        }
      ],
      "source": [
        "# 10min\n",
        "model.fit(X_train, y_train)\n",
        "eval.show_result(y_train, model.predict(X_train))\n",
        "eval.show_result_cv(y_train, X_train, model)"
      ]
    },
    {
      "cell_type": "code",
      "execution_count": 55,
      "metadata": {
        "colab": {
          "base_uri": "https://localhost:8080/"
        },
        "id": "FC0VOuER6zI4",
        "outputId": "629ad5f7-2736-490a-da83-3da80eb98d88"
      },
      "outputs": [
        {
          "output_type": "stream",
          "name": "stdout",
          "text": [
            "R2=-0.776,RMSE=-55.173\n"
          ]
        }
      ],
      "source": [
        "eval.show_result(y_test, model.predict(X_test))"
      ]
    },
    {
      "cell_type": "markdown",
      "metadata": {
        "id": "7LFv-p556zI5"
      },
      "source": [
        "No clear benefit from polynomial features in linear RUL as well. It just performs a little better than the LinearRegression model. It's the exactly same model as in FD001."
      ]
    },
    {
      "cell_type": "markdown",
      "metadata": {
        "id": "hDe4bhikyCfC"
      },
      "source": [
        "## PolyFeatures + Non-Linear RUL"
      ]
    },
    {
      "cell_type": "code",
      "execution_count": 56,
      "metadata": {
        "id": "YXjOngDmyCfD"
      },
      "outputs": [],
      "source": [
        "model = Pipeline([\n",
        "    ('poly_ft'  ,   PolynomialFeatures()),\n",
        "    ('scaler'   ,   StandardScaler()),\n",
        "    ('trf_reg' ,TransformedTargetRegressor(\n",
        "        check_inverse=False,\n",
        "        regressor   = SGDRegressor(),\n",
        "        transformer = FunctionTransformer(np.clip, \n",
        "                                          kw_args={'a_min':0,'a_max':96})))\n",
        "])"
      ]
    },
    {
      "cell_type": "code",
      "execution_count": 57,
      "metadata": {
        "colab": {
          "base_uri": "https://localhost:8080/"
        },
        "id": "EVBRV7UdyCfE",
        "outputId": "5951ef82-a858-4a88-a7a0-ee8360e87e20"
      },
      "outputs": [
        {
          "output_type": "stream",
          "name": "stdout",
          "text": [
            "n_iterations: 4\n",
            "n_required_iterations: 4\n",
            "n_possible_iterations: 4\n",
            "min_resources_: 500\n",
            "max_resources_: 24720\n",
            "aggressive_elimination: False\n",
            "factor: 3\n",
            "----------\n",
            "iter: 0\n",
            "n_candidates: 49\n",
            "n_resources: 500\n",
            "Fitting 5 folds for each of 49 candidates, totalling 245 fits\n",
            "----------\n",
            "iter: 1\n",
            "n_candidates: 17\n",
            "n_resources: 1500\n",
            "Fitting 5 folds for each of 17 candidates, totalling 85 fits\n",
            "----------\n",
            "iter: 2\n",
            "n_candidates: 6\n",
            "n_resources: 4500\n",
            "Fitting 5 folds for each of 6 candidates, totalling 30 fits\n",
            "----------\n",
            "iter: 3\n",
            "n_candidates: 2\n",
            "n_resources: 13500\n",
            "Fitting 5 folds for each of 2 candidates, totalling 10 fits\n",
            "Best params:  {'trf_reg__transformer__kw_args': {'a_min': 0, 'a_max': 115}, 'trf_reg__regressor__validation_fraction': 0.5, 'trf_reg__regressor__tol': 1e-06, 'trf_reg__regressor__power_t': 0.25, 'trf_reg__regressor__penalty': 'elasticnet', 'trf_reg__regressor__n_iter_no_change': 15, 'trf_reg__regressor__max_iter': 2500, 'trf_reg__regressor__loss': 'squared_error', 'trf_reg__regressor__learning_rate': 'invscaling', 'trf_reg__regressor__eta0': 0.01, 'trf_reg__regressor__epsilon': 1.5, 'trf_reg__regressor__early_stopping': True, 'trf_reg__regressor__average': 20, 'trf_reg__regressor__alpha': 1e-05, 'poly_ft__interaction_only': True, 'poly_ft__include_bias': False, 'poly_ft__degree': 2}\n",
            "Pipeline(steps=[('poly_ft',\n",
            "                 PolynomialFeatures(include_bias=False, interaction_only=True)),\n",
            "                ('scaler', StandardScaler()),\n",
            "                ('trf_reg',\n",
            "                 TransformedTargetRegressor(check_inverse=False,\n",
            "                                            regressor=SGDRegressor(alpha=1e-05,\n",
            "                                                                   average=20,\n",
            "                                                                   early_stopping=True,\n",
            "                                                                   epsilon=1.5,\n",
            "                                                                   max_iter=2500,\n",
            "                                                                   n_iter_no_change=15,\n",
            "                                                                   penalty='elasticnet',\n",
            "                                                                   tol=1e-06,\n",
            "                                                                   validation_fraction=0.5),\n",
            "                                            transformer=FunctionTransformer(func=<function clip at 0x7f4790d58c20>,\n",
            "                                                                            kw_args={'a_max': 115,\n",
            "                                                                                     'a_min': 0})))])\n"
          ]
        }
      ],
      "source": [
        "# ~6min\n",
        "GRID_SEARCH = False\n",
        "if (GRID_SEARCH):\n",
        "    param_distributions = {\n",
        "        \"poly_ft__degree\": [1,2,3],\n",
        "        \"poly_ft__interaction_only\": [False, True],\n",
        "        \"poly_ft__include_bias\": [True, False],\n",
        "        \"trf_reg__transformer__kw_args\": search.generate_clip_dicts(70,150,1),\n",
        "        \"trf_reg__regressor__loss\": ['squared_error', 'huber', 'epsilon_insensitive'],\n",
        "        \"trf_reg__regressor__penalty\": ['l2', 'l1', 'elasticnet'],\n",
        "        \"trf_reg__regressor__epsilon\": [1.1,1.35,1.5,2,2.5,3,3.5,4,4.5,5.5,6],\n",
        "        \"trf_reg__regressor__alpha\":[1e-2,1e-3,1e-4,1e-5,1e-6,1e-7],\n",
        "        \"trf_reg__regressor__max_iter\": [1000,1500,2000,2500,3000,4000,4500],\n",
        "        \"trf_reg__regressor__tol\": [1e-3,1e-4,1e-5,1e-6,1e-7],\n",
        "        \"trf_reg__regressor__learning_rate\":['invscaling','constant','optimal','adaptive'],\n",
        "        \"trf_reg__regressor__eta0\": [1e-1,1e-2,1e-3,1e-4,1e-5,1e-6],\n",
        "        \"trf_reg__regressor__power_t\": [1.25,1,0.75,0.5,0.25,0.1],\n",
        "        \"trf_reg__regressor__early_stopping\": [True,False],\n",
        "        \"trf_reg__regressor__validation_fraction\": [0.1,0.2,0.3,0.4,0.5,0.6],\n",
        "        \"trf_reg__regressor__n_iter_no_change\": [1,2,5,8,10,15,20],\n",
        "        \"trf_reg__regressor__average\": [False, 1,2,5,10,20]\n",
        "    }\n",
        "    model = search.run_HR_GS(model, X_train, y_train, \n",
        "                             param_distributions, ignore_warnings=True)\n",
        "    print(model)"
      ]
    },
    {
      "cell_type": "markdown",
      "metadata": {
        "id": "wQKsmLmRyCfF"
      },
      "source": [
        "Best Model:\n",
        "```\n",
        "{'trf_reg__transformer__kw_args': {'a_min': 0, 'a_max': 115}, \n",
        "PolynomialFeatures(include_bias=False, interaction_only=True)),\n",
        "SGDRegressor(alpha=1e-05,\n",
        "            average=20,\n",
        "            early_stopping=True,\n",
        "            epsilon=1.5,\n",
        "            max_iter=2500,\n",
        "            n_iter_no_change=15,\n",
        "            penalty='elasticnet',\n",
        "            tol=1e-06,\n",
        "            validation_fraction=0.5),\n",
        "```\n"
      ]
    },
    {
      "cell_type": "code",
      "execution_count": 58,
      "metadata": {
        "colab": {
          "base_uri": "https://localhost:8080/"
        },
        "id": "xwsZl26YyCfG",
        "outputId": "3ecb365d-511d-4e9b-a28a-11e1c9944026"
      },
      "outputs": [
        {
          "output_type": "execute_result",
          "data": {
            "text/plain": [
              "Pipeline(steps=[('poly_ft',\n",
              "                 PolynomialFeatures(include_bias=False, interaction_only=True)),\n",
              "                ('scaler', StandardScaler()),\n",
              "                ('trf_reg',\n",
              "                 TransformedTargetRegressor(check_inverse=False,\n",
              "                                            regressor=SGDRegressor(alpha=1e-05,\n",
              "                                                                   average=20,\n",
              "                                                                   early_stopping=True,\n",
              "                                                                   epsilon=1.5,\n",
              "                                                                   max_iter=2500,\n",
              "                                                                   n_iter_no_change=15,\n",
              "                                                                   penalty='elasticnet',\n",
              "                                                                   tol=1e-06,\n",
              "                                                                   validation_fraction=0.5),\n",
              "                                            transformer=FunctionTransformer(func=<function clip at 0x7f4790d58c20>,\n",
              "                                                                            kw_args={'a_max': 115,\n",
              "                                                                                     'a_min': 0})))])"
            ]
          },
          "metadata": {},
          "execution_count": 58
        }
      ],
      "source": [
        "model = Pipeline([\n",
        "    ('poly_ft',PolynomialFeatures(include_bias=False, interaction_only=True)),\n",
        "    ('scaler', StandardScaler()),\n",
        "    ('trf_reg',\n",
        "        TransformedTargetRegressor(\n",
        "            check_inverse=False,\n",
        "            regressor=SGDRegressor(alpha=1e-05,\n",
        "                                    average=20,\n",
        "                                    early_stopping=True,\n",
        "                                    epsilon=1.5,\n",
        "                                    max_iter=2500,\n",
        "                                    n_iter_no_change=15,\n",
        "                                    penalty='elasticnet',\n",
        "                                    tol=1e-06,\n",
        "                                    validation_fraction=0.5),\n",
        "            transformer=FunctionTransformer(np.clip,\n",
        "                                            kw_args={'a_max': 115,\n",
        "                                                     'a_min': 0})))\n",
        "])\n",
        "model"
      ]
    },
    {
      "cell_type": "code",
      "execution_count": 59,
      "metadata": {
        "colab": {
          "base_uri": "https://localhost:8080/"
        },
        "id": "wObIcvBzyCfH",
        "outputId": "861f5110-135e-4668-9136-070e2652cdb8"
      },
      "outputs": [
        {
          "output_type": "stream",
          "name": "stdout",
          "text": [
            "R2=0.779,RMSE=-17.284\n",
            "(CV) R2=0.763,RMSE=-17.677\n"
          ]
        }
      ],
      "source": [
        "model.fit(X_train, y_train)\n",
        "reclipped_y =  model['trf_reg'].transformer.transform(y_train)\n",
        "eval.show_result(reclipped_y, model.predict(X_train))\n",
        "eval.show_result_cv(reclipped_y, X_train, model)"
      ]
    },
    {
      "cell_type": "code",
      "execution_count": 60,
      "metadata": {
        "colab": {
          "base_uri": "https://localhost:8080/"
        },
        "id": "LA6DK3Z-yCfI",
        "outputId": "0b10559c-be61-46e3-96f9-930cd9df9eeb"
      },
      "outputs": [
        {
          "output_type": "stream",
          "name": "stdout",
          "text": [
            "R2=0.733,RMSE=-19.049\n"
          ]
        }
      ],
      "source": [
        "reclipped_y =  model['trf_reg'].transformer.transform(y_test)\n",
        "eval.show_result(reclipped_y, model.predict(X_test))"
      ]
    },
    {
      "cell_type": "markdown",
      "metadata": {
        "id": "KXoWzTTvyCfJ"
      },
      "source": [
        "With 2-degree terms, we increased the test performance. The training is similar to the previous cases, a little smaller, probably due to the random search."
      ]
    },
    {
      "cell_type": "markdown",
      "metadata": {
        "id": "GhQZM9mg6-w1"
      },
      "source": [
        "# SVR"
      ]
    },
    {
      "cell_type": "markdown",
      "source": [
        "We'll use only the linear kernel, because the algorithm is quadratic on the number of samples. Otherwise, the training times get worser."
      ],
      "metadata": {
        "id": "5U_Shc08Wl3O"
      }
    },
    {
      "cell_type": "markdown",
      "metadata": {
        "id": "48OuIMuweYhO"
      },
      "source": [
        "## Linear RUL"
      ]
    },
    {
      "cell_type": "code",
      "execution_count": 61,
      "metadata": {
        "id": "JPLVJzR1eYhO"
      },
      "outputs": [],
      "source": [
        "model = Pipeline([\n",
        "    ('scaler'   ,   MinMaxScaler()),\n",
        "    ('svm_reg'  ,   LinearSVR(random_state=42))\n",
        "])"
      ]
    },
    {
      "cell_type": "code",
      "execution_count": 62,
      "metadata": {
        "id": "Y_7Crp3JeYhP"
      },
      "outputs": [],
      "source": [
        "# We need specific shape 1D arrays for this model\n",
        "y_train = np.array(y_train).ravel()"
      ]
    },
    {
      "cell_type": "code",
      "execution_count": 63,
      "metadata": {
        "colab": {
          "base_uri": "https://localhost:8080/"
        },
        "id": "aHNl4UZWeYhQ",
        "outputId": "b0e8f96b-c8a0-4165-8d7a-20681a57073c"
      },
      "outputs": [
        {
          "output_type": "stream",
          "name": "stdout",
          "text": [
            "n_iterations: 4\n",
            "n_required_iterations: 4\n",
            "n_possible_iterations: 4\n",
            "min_resources_: 500\n",
            "max_resources_: 24720\n",
            "aggressive_elimination: False\n",
            "factor: 3\n",
            "----------\n",
            "iter: 0\n",
            "n_candidates: 49\n",
            "n_resources: 500\n",
            "Fitting 5 folds for each of 49 candidates, totalling 245 fits\n",
            "----------\n",
            "iter: 1\n",
            "n_candidates: 17\n",
            "n_resources: 1500\n",
            "Fitting 5 folds for each of 17 candidates, totalling 85 fits\n",
            "----------\n",
            "iter: 2\n",
            "n_candidates: 6\n",
            "n_resources: 4500\n",
            "Fitting 5 folds for each of 6 candidates, totalling 30 fits\n",
            "----------\n",
            "iter: 3\n",
            "n_candidates: 2\n",
            "n_resources: 13500\n",
            "Fitting 5 folds for each of 2 candidates, totalling 10 fits\n",
            "Best params:  {'svm_reg__tol': 0.001, 'svm_reg__max_iter': 5000, 'svm_reg__loss': 'squared_epsilon_insensitive', 'svm_reg__fit_intercept': True, 'svm_reg__epsilon': 0.001, 'svm_reg__C': 1, 'scaler': MinMaxScaler()}\n",
            "Pipeline(steps=[('scaler', MinMaxScaler()),\n",
            "                ('svm_reg',\n",
            "                 LinearSVR(C=1, epsilon=0.001,\n",
            "                           loss='squared_epsilon_insensitive', max_iter=5000,\n",
            "                           random_state=42, tol=0.001))])\n"
          ]
        }
      ],
      "source": [
        "GRID_SEARCH = True\n",
        "if (GRID_SEARCH):\n",
        "    param_distributions = {\n",
        "        \"scaler\": [StandardScaler(), MinMaxScaler()],\n",
        "        \"svm_reg__loss\": [\"epsilon_insensitive\",\"squared_epsilon_insensitive\"],\n",
        "        \"svm_reg__fit_intercept\": [True, False],\n",
        "        \"svm_reg__max_iter\": [1000,3000,5000],\n",
        "        \"svm_reg__epsilon\": [1,1e-1,1e-2,1e-3],\n",
        "        \"svm_reg__tol\": [1e-3,1e-4,1e-5,1e-6,1e-7,1e-8],\n",
        "        \"svm_reg__C\":[1,2,5,10]\n",
        "    }\n",
        "    model = search.run_HR_GS(model, X_train, y_train, param_distributions, \n",
        "                            scorer='r2', ignore_warnings=True)\n",
        "    print(model)"
      ]
    },
    {
      "cell_type": "markdown",
      "metadata": {
        "id": "JGXD9P2QeYhR"
      },
      "source": [
        "Best Model:\n",
        "```\n",
        "('scaler', MinMaxScaler()),\n",
        "LinearSVR(C=1, epsilon=0.001,\n",
        "        loss='squared_epsilon_insensitive', max_iter=5000,\n",
        "        random_state=42, tol=0.001))\n",
        "```"
      ]
    },
    {
      "cell_type": "code",
      "execution_count": 64,
      "metadata": {
        "colab": {
          "base_uri": "https://localhost:8080/"
        },
        "id": "YL_b1yVdeYhS",
        "outputId": "5d47c0f5-fa3d-4790-e615-11764fd354c5"
      },
      "outputs": [
        {
          "output_type": "execute_result",
          "data": {
            "text/plain": [
              "Pipeline(steps=[('scaler', MinMaxScaler()),\n",
              "                ('svm_reg',\n",
              "                 LinearSVR(C=1, epsilon=0.001,\n",
              "                           loss='squared_epsilon_insensitive', max_iter=5000,\n",
              "                           random_state=42, tol=0.001))])"
            ]
          },
          "metadata": {},
          "execution_count": 64
        }
      ],
      "source": [
        "model = Pipeline([\n",
        "    ('scaler'   ,   MinMaxScaler()),\n",
        "    ('svm_reg'  ,   LinearSVR(C=1, epsilon=0.001,\n",
        "        loss='squared_epsilon_insensitive', max_iter=5000,\n",
        "        random_state=42, tol=0.001))\n",
        "])\n",
        "model"
      ]
    },
    {
      "cell_type": "code",
      "execution_count": 65,
      "metadata": {
        "colab": {
          "base_uri": "https://localhost:8080/"
        },
        "id": "ERYFwWmDeYhT",
        "outputId": "910ffb32-766f-466d-9946-474131583268"
      },
      "outputs": [
        {
          "output_type": "stream",
          "name": "stdout",
          "text": [
            "R2=0.587,RMSE=-63.495\n",
            "(CV) R2=0.543,RMSE=-65.172\n"
          ]
        }
      ],
      "source": [
        "model.fit(X_train, y_train)\n",
        "eval.show_result(y_train, model.predict(X_train))\n",
        "eval.show_result_cv(y_train, X_train, model)"
      ]
    },
    {
      "cell_type": "code",
      "execution_count": 66,
      "metadata": {
        "colab": {
          "base_uri": "https://localhost:8080/"
        },
        "id": "ljbEvBXjeYhT",
        "outputId": "251c2c3f-46b7-400f-e0f0-e4f02694783a"
      },
      "outputs": [
        {
          "output_type": "stream",
          "name": "stdout",
          "text": [
            "R2=-0.899,RMSE=-57.039\n"
          ]
        }
      ],
      "source": [
        "eval.show_result(y_test, model.predict(X_test))"
      ]
    },
    {
      "cell_type": "markdown",
      "metadata": {
        "id": "ON-T3GOaeYhU"
      },
      "source": [
        "Poor results without non-lineariy of RUL. Comparable to regular LinearRegressor."
      ]
    },
    {
      "cell_type": "markdown",
      "metadata": {
        "id": "slX8zIwSeYhV"
      },
      "source": [
        "## Non-linear RUL"
      ]
    },
    {
      "cell_type": "code",
      "execution_count": 67,
      "metadata": {
        "id": "ZzCV__-SeYhV"
      },
      "outputs": [],
      "source": [
        "model = Pipeline([\n",
        "    ('scaler'   ,   MinMaxScaler()),\n",
        "    ('trf_reg' ,TransformedTargetRegressor(\n",
        "        check_inverse=False,\n",
        "        regressor   = LinearSVR(random_state=42),\n",
        "        transformer = FunctionTransformer(np.clip, \n",
        "                                          kw_args={'a_min':0,'a_max':50})))\n",
        "    ])"
      ]
    },
    {
      "cell_type": "code",
      "execution_count": 68,
      "metadata": {
        "colab": {
          "base_uri": "https://localhost:8080/"
        },
        "id": "SoG6y6D6eYhV",
        "outputId": "8cae5538-3a20-4851-c889-291d2e735ca9"
      },
      "outputs": [
        {
          "output_type": "stream",
          "name": "stdout",
          "text": [
            "n_iterations: 4\n",
            "n_required_iterations: 4\n",
            "n_possible_iterations: 4\n",
            "min_resources_: 500\n",
            "max_resources_: 24720\n",
            "aggressive_elimination: False\n",
            "factor: 3\n",
            "----------\n",
            "iter: 0\n",
            "n_candidates: 49\n",
            "n_resources: 500\n",
            "Fitting 5 folds for each of 49 candidates, totalling 245 fits\n",
            "----------\n",
            "iter: 1\n",
            "n_candidates: 17\n",
            "n_resources: 1500\n",
            "Fitting 5 folds for each of 17 candidates, totalling 85 fits\n",
            "----------\n",
            "iter: 2\n",
            "n_candidates: 6\n",
            "n_resources: 4500\n",
            "Fitting 5 folds for each of 6 candidates, totalling 30 fits\n",
            "----------\n",
            "iter: 3\n",
            "n_candidates: 2\n",
            "n_resources: 13500\n",
            "Fitting 5 folds for each of 2 candidates, totalling 10 fits\n",
            "Best params:  {'trf_reg__transformer__kw_args': {'a_min': 0, 'a_max': 111}, 'trf_reg__regressor__tol': 1e-05, 'trf_reg__regressor__max_iter': 5000, 'trf_reg__regressor__loss': 'squared_epsilon_insensitive', 'trf_reg__regressor__fit_intercept': True, 'trf_reg__regressor__epsilon': 0.001, 'trf_reg__regressor__C': 2, 'scaler': MinMaxScaler()}\n",
            "Pipeline(steps=[('scaler', MinMaxScaler()),\n",
            "                ('trf_reg',\n",
            "                 TransformedTargetRegressor(check_inverse=False,\n",
            "                                            regressor=LinearSVR(C=2,\n",
            "                                                                epsilon=0.001,\n",
            "                                                                loss='squared_epsilon_insensitive',\n",
            "                                                                max_iter=5000,\n",
            "                                                                random_state=42,\n",
            "                                                                tol=1e-05),\n",
            "                                            transformer=FunctionTransformer(func=<function clip at 0x7f4790d58c20>,\n",
            "                                                                            kw_args={'a_max': 111,\n",
            "                                                                                     'a_min': 0})))])\n"
          ]
        }
      ],
      "source": [
        "# ~4min\n",
        "GRID_SEARCH = False\n",
        "if (GRID_SEARCH):\n",
        "    param_distributions = {\n",
        "        \"scaler\": [StandardScaler(), MinMaxScaler()],\n",
        "        \"trf_reg__transformer__kw_args\": search.generate_clip_dicts(80,150,1),\n",
        "        \"trf_reg__regressor__loss\": [\"epsilon_insensitive\",\"squared_epsilon_insensitive\"],\n",
        "        \"trf_reg__regressor__fit_intercept\": [True, False],\n",
        "        \"trf_reg__regressor__max_iter\": [1000,3000,5000],\n",
        "        \"trf_reg__regressor__epsilon\": [1,1e-1,1e-2,1e-3],\n",
        "        \"trf_reg__regressor__tol\": [1e-3,1e-4,1e-5,1e-6,1e-7,1e-8],\n",
        "        \"trf_reg__regressor__C\":[1,2,5,10]\n",
        "    }\n",
        "    model = search.run_HR_GS(model, X_train, y_train, \n",
        "                            param_distributions, ignore_warnings=True)\n",
        "    print(model)"
      ]
    },
    {
      "cell_type": "markdown",
      "metadata": {
        "id": "Rb1eBrjveYhW"
      },
      "source": [
        "Best Model:\n",
        "```\n",
        "kw_args={'a_max': 111,'a_min': 0}))\n",
        "('scaler', MinMaxScaler())\n",
        "LinearSVR(C=2,\n",
        "            epsilon=0.001,\n",
        "            loss='squared_epsilon_insensitive',\n",
        "            max_iter=5000,\n",
        "            random_state=42,\n",
        "            tol=1e-05),\n",
        "```"
      ]
    },
    {
      "cell_type": "code",
      "execution_count": 69,
      "metadata": {
        "colab": {
          "base_uri": "https://localhost:8080/"
        },
        "id": "3TcNYX40eYhX",
        "outputId": "d80ac0ee-1acc-429b-aacf-2ac133d1ce40"
      },
      "outputs": [
        {
          "output_type": "execute_result",
          "data": {
            "text/plain": [
              "Pipeline(steps=[('scaler', MinMaxScaler()),\n",
              "                ('trf_reg',\n",
              "                 TransformedTargetRegressor(check_inverse=False,\n",
              "                                            regressor=LinearSVR(C=2,\n",
              "                                                                epsilon=0.001,\n",
              "                                                                loss='squared_epsilon_insensitive',\n",
              "                                                                max_iter=5000,\n",
              "                                                                random_state=42,\n",
              "                                                                tol=1e-05),\n",
              "                                            transformer=FunctionTransformer(func=<function clip at 0x7f4790d58c20>,\n",
              "                                                                            kw_args={'a_max': 111,\n",
              "                                                                                     'a_min': 0})))])"
            ]
          },
          "metadata": {},
          "execution_count": 69
        }
      ],
      "source": [
        "model = Pipeline([\n",
        "    ('scaler'   ,   MinMaxScaler()),\n",
        "    ('trf_reg' ,TransformedTargetRegressor(\n",
        "        check_inverse=False,\n",
        "        regressor=LinearSVR(C=2,\n",
        "                            epsilon=0.001,\n",
        "                            loss='squared_epsilon_insensitive',\n",
        "                            max_iter=5000,\n",
        "                            random_state=42,\n",
        "                            tol=1e-05),\n",
        "        transformer = FunctionTransformer(np.clip, \n",
        "                                          kw_args={'a_min':0,'a_max':111})))\n",
        "    ])\n",
        "model"
      ]
    },
    {
      "cell_type": "code",
      "execution_count": 70,
      "metadata": {
        "colab": {
          "base_uri": "https://localhost:8080/"
        },
        "id": "RDLHIViHeYhX",
        "outputId": "480b5166-31aa-40a0-f123-d96493fe469a"
      },
      "outputs": [
        {
          "output_type": "stream",
          "name": "stdout",
          "text": [
            "R2=0.779,RMSE=-16.518\n",
            "(CV) R2=0.765,RMSE=-16.854\n"
          ]
        }
      ],
      "source": [
        "model.fit(X_train, y_train)\n",
        "reclipped_y =  model['trf_reg'].transformer.transform(y_train)\n",
        "eval.show_result(reclipped_y, model.predict(X_train))\n",
        "eval.show_result_cv(reclipped_y, X_train, model)"
      ]
    },
    {
      "cell_type": "code",
      "execution_count": 71,
      "metadata": {
        "colab": {
          "base_uri": "https://localhost:8080/"
        },
        "id": "KIbOFuX9eYhY",
        "outputId": "0d5b2f9b-e82e-481a-9a0b-49d7a0e3707c"
      },
      "outputs": [
        {
          "output_type": "stream",
          "name": "stdout",
          "text": [
            "R2=0.744,RMSE=-18.062\n"
          ]
        }
      ],
      "source": [
        "reclipped_y =  model['trf_reg'].transformer.transform(y_test)\n",
        "eval.show_result(reclipped_y, model.predict(X_test))"
      ]
    },
    {
      "cell_type": "markdown",
      "metadata": {
        "id": "aSayNaJUeYhY"
      },
      "source": [
        "Good linear results"
      ]
    },
    {
      "cell_type": "markdown",
      "metadata": {
        "id": "hhk2JShreYhZ"
      },
      "source": [
        "## PolyFeatures + Linear RUL"
      ]
    },
    {
      "cell_type": "code",
      "execution_count": 72,
      "metadata": {
        "id": "05KnHQfBeYhZ"
      },
      "outputs": [],
      "source": [
        "model = Pipeline([\n",
        "    ('poly_ft'  ,   PolynomialFeatures()),\n",
        "    ('selection', SelectFromModel(DecisionTreeRegressor())),\n",
        "    ('scaler'   ,   MinMaxScaler()),\n",
        "    ('svm_reg'  ,   LinearSVR(random_state=42))\n",
        "])"
      ]
    },
    {
      "cell_type": "code",
      "execution_count": 73,
      "metadata": {
        "colab": {
          "base_uri": "https://localhost:8080/"
        },
        "id": "vqiwlnADeYhZ",
        "outputId": "8976c766-2b17-4db6-a2ec-82c4d131d233"
      },
      "outputs": [
        {
          "output_type": "stream",
          "name": "stdout",
          "text": [
            "n_iterations: 4\n",
            "n_required_iterations: 4\n",
            "n_possible_iterations: 4\n",
            "min_resources_: 500\n",
            "max_resources_: 24720\n",
            "aggressive_elimination: False\n",
            "factor: 3\n",
            "----------\n",
            "iter: 0\n",
            "n_candidates: 49\n",
            "n_resources: 500\n",
            "Fitting 5 folds for each of 49 candidates, totalling 245 fits\n",
            "----------\n",
            "iter: 1\n",
            "n_candidates: 17\n",
            "n_resources: 1500\n",
            "Fitting 5 folds for each of 17 candidates, totalling 85 fits\n",
            "----------\n",
            "iter: 2\n",
            "n_candidates: 6\n",
            "n_resources: 4500\n",
            "Fitting 5 folds for each of 6 candidates, totalling 30 fits\n",
            "----------\n",
            "iter: 3\n",
            "n_candidates: 2\n",
            "n_resources: 13500\n",
            "Fitting 5 folds for each of 2 candidates, totalling 10 fits\n",
            "Best params:  {'svm_reg__tol': 0.001, 'svm_reg__max_iter': 5000, 'svm_reg__loss': 'squared_epsilon_insensitive', 'svm_reg__fit_intercept': True, 'svm_reg__epsilon': 0.01, 'svm_reg__C': 10, 'scaler': StandardScaler(), 'poly_ft__interaction_only': True, 'poly_ft__include_bias': False, 'poly_ft__degree': 3}\n",
            "Pipeline(steps=[('poly_ft',\n",
            "                 PolynomialFeatures(degree=3, include_bias=False,\n",
            "                                    interaction_only=True)),\n",
            "                ('selection',\n",
            "                 SelectFromModel(estimator=DecisionTreeRegressor())),\n",
            "                ('scaler', StandardScaler()),\n",
            "                ('svm_reg',\n",
            "                 LinearSVR(C=10, epsilon=0.01,\n",
            "                           loss='squared_epsilon_insensitive', max_iter=5000,\n",
            "                           random_state=42, tol=0.001))])\n"
          ]
        }
      ],
      "source": [
        "# ~20min\n",
        "GRID_SEARCH = False\n",
        "if (GRID_SEARCH):\n",
        "    param_distributions = {\n",
        "        \"scaler\": [StandardScaler(), MinMaxScaler()],\n",
        "        \"poly_ft__degree\": [1,2,3],\n",
        "        \"poly_ft__interaction_only\": [False, True],\n",
        "        \"poly_ft__include_bias\": [True, False],\n",
        "        \"svm_reg__loss\": [\"epsilon_insensitive\",\"squared_epsilon_insensitive\"],\n",
        "        \"svm_reg__fit_intercept\": [True, False],\n",
        "        \"svm_reg__max_iter\": [1000,3000,5000],\n",
        "        \"svm_reg__epsilon\": [1,1e-1,1e-2,1e-3],\n",
        "        \"svm_reg__tol\": [1e-3,1e-4,1e-5,1e-6,1e-7,1e-8],\n",
        "        \"svm_reg__C\":[1,2,5,10]\n",
        "    }\n",
        "    model = search.run_HR_GS(model, X_train, y_train, param_distributions,\n",
        "                            ignore_warnings=True, scorer='r2')\n",
        "    print(model)"
      ]
    },
    {
      "cell_type": "markdown",
      "metadata": {
        "id": "x3T3JjileYha"
      },
      "source": [
        "Best Model:\n",
        "```\n",
        " PolynomialFeatures(degree=3, include_bias=False,\n",
        "                                    interaction_only=True)),\n",
        "('selection',\n",
        "                 SelectFromModel(estimator=DecisionTreeRegressor())),\n",
        "('scaler', StandardScaler()),\n",
        "LinearSVR(C=10, epsilon=0.01,\n",
        "            loss='squared_epsilon_insensitive', max_iter=5000,\n",
        "            random_state=42, tol=0.001))\n",
        "```\n"
      ]
    },
    {
      "cell_type": "code",
      "execution_count": 74,
      "metadata": {
        "colab": {
          "base_uri": "https://localhost:8080/"
        },
        "id": "vOTLuHhleYha",
        "outputId": "4939917d-5aaf-4325-fabc-4475b2320329"
      },
      "outputs": [
        {
          "output_type": "execute_result",
          "data": {
            "text/plain": [
              "Pipeline(steps=[('poly_ft',\n",
              "                 PolynomialFeatures(degree=3, include_bias=False,\n",
              "                                    interaction_only=True)),\n",
              "                ('selection',\n",
              "                 SelectFromModel(estimator=DecisionTreeRegressor())),\n",
              "                ('scaler', StandardScaler()),\n",
              "                ('svm_reg',\n",
              "                 LinearSVR(C=10, epsilon=0.01,\n",
              "                           loss='squared_epsilon_insensitive', max_iter=5000,\n",
              "                           random_state=42, tol=0.001))])"
            ]
          },
          "metadata": {},
          "execution_count": 74
        }
      ],
      "source": [
        "model = Pipeline([\n",
        "    ('poly_ft', PolynomialFeatures(degree=3, include_bias=False,\n",
        "                                    interaction_only=True)),\n",
        "    ('selection', SelectFromModel(DecisionTreeRegressor())),\n",
        "    ('scaler', StandardScaler()),\n",
        "    ('svm_reg', LinearSVR(C=10, epsilon=0.01,\n",
        "            loss='squared_epsilon_insensitive', max_iter=5000,\n",
        "            random_state=42, tol=0.001))\n",
        "])\n",
        "model"
      ]
    },
    {
      "cell_type": "code",
      "execution_count": 75,
      "metadata": {
        "colab": {
          "base_uri": "https://localhost:8080/"
        },
        "id": "vNXgsavTeYhb",
        "outputId": "57ff6e1d-95ac-48b9-a39c-6aeb7a4875a1"
      },
      "outputs": [
        {
          "output_type": "stream",
          "name": "stderr",
          "text": [
            "/usr/local/lib/python3.7/dist-packages/sklearn/svm/_base.py:1208: ConvergenceWarning: Liblinear failed to converge, increase the number of iterations.\n",
            "  ConvergenceWarning,\n"
          ]
        },
        {
          "output_type": "stream",
          "name": "stdout",
          "text": [
            "R2=0.630,RMSE=-60.135\n"
          ]
        },
        {
          "output_type": "stream",
          "name": "stderr",
          "text": [
            "/usr/local/lib/python3.7/dist-packages/sklearn/svm/_base.py:1208: ConvergenceWarning: Liblinear failed to converge, increase the number of iterations.\n",
            "  ConvergenceWarning,\n",
            "/usr/local/lib/python3.7/dist-packages/sklearn/svm/_base.py:1208: ConvergenceWarning: Liblinear failed to converge, increase the number of iterations.\n",
            "  ConvergenceWarning,\n",
            "/usr/local/lib/python3.7/dist-packages/sklearn/svm/_base.py:1208: ConvergenceWarning: Liblinear failed to converge, increase the number of iterations.\n",
            "  ConvergenceWarning,\n",
            "/usr/local/lib/python3.7/dist-packages/sklearn/svm/_base.py:1208: ConvergenceWarning: Liblinear failed to converge, increase the number of iterations.\n",
            "  ConvergenceWarning,\n",
            "/usr/local/lib/python3.7/dist-packages/sklearn/svm/_base.py:1208: ConvergenceWarning: Liblinear failed to converge, increase the number of iterations.\n",
            "  ConvergenceWarning,\n",
            "/usr/local/lib/python3.7/dist-packages/sklearn/svm/_base.py:1208: ConvergenceWarning: Liblinear failed to converge, increase the number of iterations.\n",
            "  ConvergenceWarning,\n",
            "/usr/local/lib/python3.7/dist-packages/sklearn/svm/_base.py:1208: ConvergenceWarning: Liblinear failed to converge, increase the number of iterations.\n",
            "  ConvergenceWarning,\n",
            "/usr/local/lib/python3.7/dist-packages/sklearn/svm/_base.py:1208: ConvergenceWarning: Liblinear failed to converge, increase the number of iterations.\n",
            "  ConvergenceWarning,\n",
            "/usr/local/lib/python3.7/dist-packages/sklearn/svm/_base.py:1208: ConvergenceWarning: Liblinear failed to converge, increase the number of iterations.\n",
            "  ConvergenceWarning,\n"
          ]
        },
        {
          "output_type": "stream",
          "name": "stdout",
          "text": [
            "(CV) R2=0.571,RMSE=-62.946\n"
          ]
        },
        {
          "output_type": "stream",
          "name": "stderr",
          "text": [
            "/usr/local/lib/python3.7/dist-packages/sklearn/svm/_base.py:1208: ConvergenceWarning: Liblinear failed to converge, increase the number of iterations.\n",
            "  ConvergenceWarning,\n"
          ]
        }
      ],
      "source": [
        "# ~20min\n",
        "model.fit(X_train, y_train)\n",
        "eval.show_result(y_train, model.predict(X_train))\n",
        "eval.show_result_cv(y_train, X_train, model)"
      ]
    },
    {
      "cell_type": "code",
      "execution_count": 76,
      "metadata": {
        "id": "syV5FSKZeYhb",
        "colab": {
          "base_uri": "https://localhost:8080/"
        },
        "outputId": "636a1963-9e78-4711-b473-f77e6e68d978"
      },
      "outputs": [
        {
          "output_type": "stream",
          "name": "stdout",
          "text": [
            "R2=-0.685,RMSE=-53.734\n"
          ]
        }
      ],
      "source": [
        "eval.show_result(y_test, model.predict(X_test))"
      ]
    },
    {
      "cell_type": "markdown",
      "metadata": {
        "id": "gCc3I9nBeYhc"
      },
      "source": [
        "Minor benefit from polynomial features in linear RUL.  However, most of the time, it didn't converge, even with 5k iterations."
      ]
    },
    {
      "cell_type": "markdown",
      "metadata": {
        "id": "CE8FEoXjeYhc"
      },
      "source": [
        "## PolyFeatures + Non-Linear RUL"
      ]
    },
    {
      "cell_type": "code",
      "execution_count": 77,
      "metadata": {
        "id": "a3bxpVQTeYhc"
      },
      "outputs": [],
      "source": [
        "model = Pipeline([\n",
        "    ('poly_ft'  ,   PolynomialFeatures()),\n",
        "    ('selection', SelectFromModel(DecisionTreeRegressor())),\n",
        "    ('scaler'   ,   StandardScaler()),\n",
        "    ('trf_reg' ,TransformedTargetRegressor(\n",
        "        check_inverse=False,\n",
        "        regressor   = LinearSVR(random_state=42),\n",
        "        transformer = FunctionTransformer(np.clip, \n",
        "                                          kw_args={'a_min':0,'a_max':96})))\n",
        "])"
      ]
    },
    {
      "cell_type": "code",
      "execution_count": null,
      "metadata": {
        "colab": {
          "base_uri": "https://localhost:8080/"
        },
        "id": "_2CeBElZeYhc",
        "outputId": "5dea4301-5d87-4ca5-9c1c-8c08aa5d7509"
      },
      "outputs": [
        {
          "output_type": "stream",
          "name": "stdout",
          "text": [
            "n_iterations: 4\n",
            "n_required_iterations: 4\n",
            "n_possible_iterations: 4\n",
            "min_resources_: 500\n",
            "max_resources_: 20631\n",
            "aggressive_elimination: False\n",
            "factor: 3\n",
            "----------\n",
            "iter: 0\n",
            "n_candidates: 41\n",
            "n_resources: 500\n",
            "Fitting 5 folds for each of 41 candidates, totalling 205 fits\n",
            "----------\n",
            "iter: 1\n",
            "n_candidates: 14\n",
            "n_resources: 1500\n",
            "Fitting 5 folds for each of 14 candidates, totalling 70 fits\n",
            "----------\n",
            "iter: 2\n",
            "n_candidates: 5\n",
            "n_resources: 4500\n",
            "Fitting 5 folds for each of 5 candidates, totalling 25 fits\n",
            "----------\n",
            "iter: 3\n",
            "n_candidates: 2\n",
            "n_resources: 13500\n",
            "Fitting 5 folds for each of 2 candidates, totalling 10 fits\n",
            "Best params:  {'trf_reg__transformer__kw_args': {'a_min': 0, 'a_max': 93}, 'trf_reg__regressor__tol': 0.001, 'trf_reg__regressor__max_iter': 3000, 'trf_reg__regressor__loss': 'epsilon_insensitive', 'trf_reg__regressor__fit_intercept': True, 'trf_reg__regressor__epsilon': 1, 'trf_reg__regressor__C': 10, 'scaler': StandardScaler(), 'poly_ft__interaction_only': False, 'poly_ft__include_bias': True, 'poly_ft__degree': 3}\n",
            "Pipeline(steps=[('poly_ft', PolynomialFeatures(degree=3)),\n",
            "                ('selection',\n",
            "                 SelectFromModel(estimator=DecisionTreeRegressor())),\n",
            "                ('scaler', StandardScaler()),\n",
            "                ('trf_reg',\n",
            "                 TransformedTargetRegressor(check_inverse=False,\n",
            "                                            regressor=LinearSVR(C=10, epsilon=1,\n",
            "                                                                max_iter=3000,\n",
            "                                                                random_state=42,\n",
            "                                                                tol=0.001),\n",
            "                                            transformer=FunctionTransformer(func=<function clip at 0x7f48ef421cb0>,\n",
            "                                                                            kw_args={'a_max': 93,\n",
            "                                                                                     'a_min': 0})))])\n"
          ]
        }
      ],
      "source": [
        "# ~15min\n",
        "GRID_SEARCH = True\n",
        "if (GRID_SEARCH):\n",
        "    param_distributions = {\n",
        "        \"scaler\": [StandardScaler(), MinMaxScaler()],\n",
        "        \"trf_reg__transformer__kw_args\": search.generate_clip_dicts(80,150,1),\n",
        "        \"trf_reg__regressor__loss\": [\"epsilon_insensitive\",\"squared_epsilon_insensitive\"],\n",
        "        \"trf_reg__regressor__fit_intercept\": [True, False],\n",
        "        \"trf_reg__regressor__max_iter\": [1000,3000,5000],\n",
        "        \"trf_reg__regressor__epsilon\": [1,1e-1,1e-2,1e-3],\n",
        "        \"trf_reg__regressor__tol\": [1e-3,1e-4,1e-5,1e-6,1e-7,1e-8],\n",
        "        \"trf_reg__regressor__C\":[1,2,5,10],\n",
        "        \"poly_ft__degree\": [1,2,3],\n",
        "        \"poly_ft__interaction_only\": [False, True],\n",
        "        \"poly_ft__include_bias\": [True, False],\n",
        "    }\n",
        "    model = search.run_HR_GS(model, X_train, y_train, \n",
        "                             param_distributions, ignore_warnings=True)\n",
        "    print(model)"
      ]
    },
    {
      "cell_type": "markdown",
      "metadata": {
        "id": "56xc1U-peYhd"
      },
      "source": [
        "Best Model:\n",
        "```\n",
        "{'trf_reg__transformer__kw_args': {'a_min': 0, 'a_max': 93}, \n",
        "PolynomialFeatures(degree=3)\n",
        "('scaler', StandardScaler()),\n",
        "LinearSVR(C=10, epsilon=1,\n",
        "        max_iter=3000,\n",
        "        random_state=42,\n",
        "        tol=0.001),\n",
        "```\n"
      ]
    },
    {
      "cell_type": "code",
      "execution_count": null,
      "metadata": {
        "colab": {
          "base_uri": "https://localhost:8080/"
        },
        "id": "HtfeP0KteYhd",
        "outputId": "41be2c7a-01e4-49ad-a354-e4ee91d3eb38"
      },
      "outputs": [
        {
          "output_type": "execute_result",
          "data": {
            "text/plain": [
              "Pipeline(steps=[('poly_ft', PolynomialFeatures(degree=3)),\n",
              "                ('selection',\n",
              "                 SelectFromModel(estimator=DecisionTreeRegressor())),\n",
              "                ('scaler', StandardScaler()),\n",
              "                ('trf_reg',\n",
              "                 TransformedTargetRegressor(check_inverse=False,\n",
              "                                            regressor=LinearSVR(C=10, epsilon=1,\n",
              "                                                                max_iter=3000,\n",
              "                                                                random_state=42,\n",
              "                                                                tol=0.001),\n",
              "                                            transformer=FunctionTransformer(func=<function clip at 0x7f48ef421cb0>,\n",
              "                                                                            kw_args={'a_max': 93,\n",
              "                                                                                     'a_min': 0})))])"
            ]
          },
          "metadata": {},
          "execution_count": 77
        }
      ],
      "source": [
        "model = Pipeline([\n",
        "    ('poly_ft',PolynomialFeatures(degree=3)),\n",
        "    ('selection',\n",
        "                 SelectFromModel(estimator=DecisionTreeRegressor())),\n",
        "    ('scaler', StandardScaler()),\n",
        "    ('trf_reg',\n",
        "        TransformedTargetRegressor(\n",
        "            check_inverse=False,\n",
        "            regressor=LinearSVR(C=10, epsilon=1,\n",
        "                                max_iter=3000,\n",
        "                                random_state=42,\n",
        "                                tol=0.001),\n",
        "            transformer=FunctionTransformer(np.clip,\n",
        "                                            kw_args={'a_max': 93,\n",
        "                                                     'a_min': 0})))\n",
        "])\n",
        "model"
      ]
    },
    {
      "cell_type": "code",
      "execution_count": null,
      "metadata": {
        "colab": {
          "base_uri": "https://localhost:8080/"
        },
        "id": "oqBePp8LeYhe",
        "outputId": "3c4dadda-e870-4683-c047-48cca88870b4"
      },
      "outputs": [
        {
          "output_type": "stream",
          "name": "stderr",
          "text": [
            "/usr/local/lib/python3.7/dist-packages/sklearn/svm/_base.py:1208: ConvergenceWarning: Liblinear failed to converge, increase the number of iterations.\n",
            "  ConvergenceWarning,\n"
          ]
        },
        {
          "output_type": "stream",
          "name": "stdout",
          "text": [
            "R2=0.806,RMSE=-13.010\n",
            "(CV) R2=0.799,RMSE=-13.185\n"
          ]
        }
      ],
      "source": [
        "# ~10min\n",
        "model.fit(X_train, y_train)\n",
        "reclipped_y =  model['trf_reg'].transformer.transform(y_train)\n",
        "eval.show_result(reclipped_y, model.predict(X_train))\n",
        "eval.show_result_cv(reclipped_y, X_train, model)"
      ]
    },
    {
      "cell_type": "code",
      "execution_count": null,
      "metadata": {
        "colab": {
          "base_uri": "https://localhost:8080/"
        },
        "id": "5If11LWueYhe",
        "outputId": "5cc8f563-dbfd-460d-e163-4adeb9c0fdeb"
      },
      "outputs": [
        {
          "output_type": "stream",
          "name": "stdout",
          "text": [
            "R2=0.789,RMSE=-14.641\n"
          ]
        }
      ],
      "source": [
        "reclipped_y =  model['trf_reg'].transformer.transform(y_test)\n",
        "eval.show_result(reclipped_y, model.predict(X_test))"
      ]
    },
    {
      "cell_type": "markdown",
      "metadata": {
        "id": "XzWOE90teYhf"
      },
      "source": [
        "There was a case of failing to converge. But we achieved the best results in testing using linear kernel models."
      ]
    }
  ]
}